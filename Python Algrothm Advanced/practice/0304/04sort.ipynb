{
 "metadata": {
  "language_info": {
   "codemirror_mode": {
    "name": "ipython",
    "version": 3
   },
   "file_extension": ".py",
   "mimetype": "text/x-python",
   "name": "python",
   "nbconvert_exporter": "python",
   "pygments_lexer": "ipython3",
   "version": "3.8.5-final"
  },
  "orig_nbformat": 2,
  "kernelspec": {
   "name": "python3",
   "display_name": "Python 3",
   "language": "python"
  }
 },
 "nbformat": 4,
 "nbformat_minor": 2,
 "cells": [
  {
   "cell_type": "code",
   "execution_count": 9,
   "metadata": {},
   "outputs": [
    {
     "output_type": "stream",
     "name": "stdout",
     "text": [
      "[0, 1, 2, 3, 3, 3, 4, 6, 7, 8, 9, 35]\n"
     ]
    }
   ],
   "source": [
    "# Buble Sort\n",
    "\n",
    "def buble_sort(num):\n",
    "    for i in range(len(num),0,-1):\n",
    "        for j in range(i-1):\n",
    "            if num[j]>num[j+1]:\n",
    "                num[j],num[j+1] = num[j+1],num[j]\n",
    "\n",
    "    return l\n",
    "\n",
    "l = [3, 1, 3,3,35, 7, 9, 2, 4, 6, 8, 0]\n",
    "l = buble_sort(l)\n",
    "print(l)\n",
    "\n",
    "\n"
   ]
  },
  {
   "cell_type": "code",
   "execution_count": 11,
   "metadata": {},
   "outputs": [
    {
     "output_type": "stream",
     "name": "stdout",
     "text": [
      "[0, 1, 2, 3, 3, 3, 4, 6, 7, 8, 9, 35]\n"
     ]
    }
   ],
   "source": [
    "#  selection sorte\n",
    "\n",
    "def selection_sort(l):\n",
    "    for i in range(len(l)):\n",
    "        temp = i\n",
    "        for j in range(i+1,len(l)):\n",
    "            if l[j] < l[temp]:\n",
    "                temp =j\n",
    "        \n",
    "        l[i],l[temp] = l[temp],l[i]\n",
    "    return l\n",
    "\n",
    "        \n",
    "l = [3, 1, 3,3,35, 7, 9, 2, 4, 6, 8, 0]\n",
    "l = selection_sort(l)\n",
    "print(l)\n",
    "\n",
    "\n",
    "\n"
   ]
  },
  {
   "cell_type": "code",
   "execution_count": 13,
   "metadata": {},
   "outputs": [
    {
     "output_type": "stream",
     "name": "stdout",
     "text": [
      "[0, 1, 2, 3, 3, 3, 4, 6, 7, 8, 9, 35]\n"
     ]
    }
   ],
   "source": [
    "\n",
    "\n",
    "# insert sort\n",
    "def insert_sort(arr):\n",
    "    for i in range(len(arr)):\n",
    "        for j in range(i,0,-1):\n",
    "            if arr[j]<arr[j-1]:\n",
    "                arr[j],arr[j-1] = arr[j-1],arr[j]    \n",
    "\n",
    "\n",
    "    return arr\n",
    "\n",
    "l = [3, 1, 3,3,35, 7, 9, 2, 4, 6, 8, 0]\n",
    "l = insert_sort(l)\n",
    "print(l)"
   ]
  },
  {
   "cell_type": "code",
   "execution_count": null,
   "metadata": {},
   "outputs": [],
   "source": [
    "# shell sort\n",
    "\n"
   ]
  }
 ]
}