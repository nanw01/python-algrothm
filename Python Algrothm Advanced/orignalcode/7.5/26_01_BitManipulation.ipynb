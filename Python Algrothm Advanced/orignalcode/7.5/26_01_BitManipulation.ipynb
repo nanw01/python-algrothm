{
 "cells": [
  {
   "cell_type": "markdown",
   "metadata": {
    "run_control": {
     "frozen": false,
     "read_only": false
    }
   },
   "source": [
    "# Bit Manipulation"
   ]
  },
  {
   "cell_type": "markdown",
   "metadata": {
    "run_control": {
     "frozen": false,
     "read_only": false
    }
   },
   "source": [
    "Bitwise operation operates on one or more bit patterns or binary numerals at the level of their individual bits. It is a fast, simple action directly supported by the processor, and is used to manipulate values for comparisons and calculations.\n",
    "\n",
    "Bitwise operations are substantially faster than division, several times faster than multiplication, and sometimes significantly faster than addition\n",
    "\n",
    "<img src=\"../images/ch24/bitmani.jpg\" width=\"660\"/>"
   ]
  },
  {
   "cell_type": "markdown",
   "metadata": {},
   "source": [
    "** Basic Skill **\n",
    "\n",
    "- XOR\n",
    "    - myBits ^ 0 : No change \n",
    "    - myBits ^ 1 : Flip\n",
    "- left shifting is the equivalent of ** multiplying by a power of two **\n",
    "    - x << n = x * (1 << n)\n",
    "    - 8 << 2 = 8 * (1 << 2) = 32\n",
    "- A bitwise right-shift will be the equivalent of ** integer division by 2 **\n",
    "    - 0001 1001 >> 2 = 0000 0110\n",
    "    - 0001 1001 >> 4 = 0000 0001"
   ]
  },
  {
   "cell_type": "markdown",
   "metadata": {},
   "source": [
    "** Ex.1 Set Bit, Clear Bit, Toggle Bit, Test Bit **\n",
    "\n",
    "where n is the bit number, and 0 is the least significant bit"
   ]
  },
  {
   "cell_type": "code",
   "execution_count": 2,
   "metadata": {
    "collapsed": true
   },
   "outputs": [],
   "source": [
    "def setBit(a, n):\n",
    "    return a | (1<<n)"
   ]
  },
  {
   "cell_type": "code",
   "execution_count": 5,
   "metadata": {},
   "outputs": [
    {
     "name": "stdout",
     "output_type": "stream",
     "text": [
      "0b10000000\n",
      "130\n",
      "0b10000010\n",
      "136\n",
      "0b10001000\n",
      "160\n",
      "0b10100000\n"
     ]
    }
   ],
   "source": [
    "a = 128\n",
    "n = 1\n",
    "print(bin(a))\n",
    "r = setBit(a, n)\n",
    "print(r)\n",
    "print(bin(r))\n",
    "\n",
    "n = 3\n",
    "r = setBit(a, n)\n",
    "print(r)\n",
    "print(bin(r))\n",
    "\n",
    "n = 5\n",
    "r = setBit(a, n)\n",
    "print(r)\n",
    "print(bin(r))\n"
   ]
  },
  {
   "cell_type": "code",
   "execution_count": 7,
   "metadata": {
    "collapsed": true
   },
   "outputs": [],
   "source": [
    "def clearBit(a, n):\n",
    "    return a & (~(1<<n))"
   ]
  },
  {
   "cell_type": "code",
   "execution_count": 8,
   "metadata": {},
   "outputs": [
    {
     "name": "stdout",
     "output_type": "stream",
     "text": [
      "0b1111111\n",
      "0b1111110\n",
      "0b1111101\n",
      "0b1110111\n",
      "0b1011111\n"
     ]
    }
   ],
   "source": [
    "a = 127\n",
    "print(bin(a))\n",
    "n = 0\n",
    "r = clearBit(a, n)\n",
    "print(bin(r))\n",
    "n = 1\n",
    "r = clearBit(a, n)\n",
    "print(bin(r))\n",
    "n = 3\n",
    "r = clearBit(a, n)\n",
    "print(bin(r))\n",
    "n = 5\n",
    "r = clearBit(a, n)\n",
    "print(bin(r))"
   ]
  },
  {
   "cell_type": "code",
   "execution_count": 9,
   "metadata": {
    "collapsed": true
   },
   "outputs": [],
   "source": [
    "def toggleBit(a, n):\n",
    "    return a ^ (1<<n)"
   ]
  },
  {
   "cell_type": "code",
   "execution_count": 10,
   "metadata": {},
   "outputs": [
    {
     "name": "stdout",
     "output_type": "stream",
     "text": [
      "0b10011011\n",
      "0b10011001\n",
      "0b10010011\n",
      "0b10111011\n"
     ]
    }
   ],
   "source": [
    "a = 155\n",
    "print(bin(a))\n",
    "n = 1\n",
    "r = toggleBit(a, n)\n",
    "print(bin(r))\n",
    "n = 3\n",
    "r = toggleBit(a, n)\n",
    "print(bin(r))\n",
    "n = 5\n",
    "r = toggleBit(a, n)\n",
    "print(bin(r))"
   ]
  },
  {
   "cell_type": "code",
   "execution_count": 17,
   "metadata": {
    "collapsed": true
   },
   "outputs": [],
   "source": [
    "def testBit(a, n):\n",
    "    result = a & (1<<n)\n",
    "    return result != 0"
   ]
  },
  {
   "cell_type": "code",
   "execution_count": 20,
   "metadata": {},
   "outputs": [
    {
     "name": "stdout",
     "output_type": "stream",
     "text": [
      "0b10011011\n",
      "True\n",
      "True\n",
      "False\n"
     ]
    }
   ],
   "source": [
    "a = 155\n",
    "print(bin(a))\n",
    "n = 1\n",
    "r = testBit(a, n)\n",
    "print(r)\n",
    "n = 3\n",
    "r = testBit(a, n)\n",
    "print(r)\n",
    "n = 5\n",
    "r = testBit(a, n)\n",
    "print(r)"
   ]
  },
  {
   "cell_type": "markdown",
   "metadata": {},
   "source": [
    "** Ex.2 Convert Integer to Bits **\n",
    "\n",
    "Write your own function to convert int to bits. Like bin(n)."
   ]
  },
  {
   "cell_type": "code",
   "execution_count": 17,
   "metadata": {
    "collapsed": true
   },
   "outputs": [],
   "source": [
    "def toBinary(n):\n",
    "    sb = []\n",
    "    if n < 256:\n",
    "        upper = 128\n",
    "    else:\n",
    "        upper = 32768\n",
    "    i = upper\n",
    "    while i > 0:\n",
    "        if n & i != 0:\n",
    "            sb.append(str(1))\n",
    "        else:\n",
    "            sb.append(str(0))\n",
    "        i = i >> 1\n",
    "    return ''.join(sb)"
   ]
  },
  {
   "cell_type": "code",
   "execution_count": 18,
   "metadata": {},
   "outputs": [
    {
     "name": "stdout",
     "output_type": "stream",
     "text": [
      "01111101\n",
      "0b1111101\n",
      "00110111\n",
      "0b110111\n",
      "11111111\n",
      "0b11111111\n",
      "0011011110101111\n",
      "0b11011110101111\n"
     ]
    }
   ],
   "source": [
    "n = 125\n",
    "print(toBinary(n))\n",
    "print(bin(n))\n",
    "\n",
    "n = 55\n",
    "print(toBinary(n))\n",
    "print(bin(n))\n",
    "\n",
    "n = 255\n",
    "print(toBinary(n))\n",
    "print(bin(n))\n",
    "\n",
    "n = 14255\n",
    "print(toBinary(n))\n",
    "print(bin(n))"
   ]
  },
  {
   "cell_type": "markdown",
   "metadata": {},
   "source": [
    "** Ex.3 Convert Bits to Integer **\n",
    "\n",
    "Write your own function to convert bits to integer. "
   ]
  },
  {
   "cell_type": "code",
   "execution_count": 30,
   "metadata": {
    "collapsed": true
   },
   "outputs": [],
   "source": [
    "def convertBits2Int(binary):\n",
    "    length = len(binary)\n",
    "    result = 0\n",
    "    if length > 16:\n",
    "        raise ValueError(\"Only Supports 16 Bits\")\n",
    "    for i in range(length):\n",
    "        c = int(binary[i])\n",
    "        if (c != 0 and c != 1):\n",
    "            raise ValueError(\"binary can only be 0 or 1\")\n",
    "        #result += c << (length - i - 1)\n",
    "        result = (result << 1) + c\n",
    "        \n",
    "    return result"
   ]
  },
  {
   "cell_type": "code",
   "execution_count": 31,
   "metadata": {},
   "outputs": [
    {
     "name": "stdout",
     "output_type": "stream",
     "text": [
      "125\n",
      "255\n",
      "14255\n"
     ]
    }
   ],
   "source": [
    "binary = \"01111101\"\n",
    "result = convertBits2Int(binary)\n",
    "print(result)\n",
    "binary = \"11111111\"\n",
    "result = convertBits2Int(binary)\n",
    "print(result)\n",
    "binary = \"11011110101111\"\n",
    "result = convertBits2Int(binary)\n",
    "print(result)"
   ]
  },
  {
   "cell_type": "markdown",
   "metadata": {},
   "source": [
    "** Ex.4 Displaying Decimal with Bits **\n",
    "\n",
    "Given a (decimal - e.g.3.72) number that is passed in as a string, print the binary representation. If the number cannot be represented accurately in binary, print “ERROR”."
   ]
  },
  {
   "cell_type": "code",
   "execution_count": 94,
   "metadata": {
    "collapsed": true
   },
   "outputs": [],
   "source": [
    "def convertDecimal(f):\n",
    "    str_f = str(f).split(\".\")\n",
    "    int_part, dec_part = divmod(f, 1)\n",
    "    int_part = int(int_part)\n",
    "    print(int_part, dec_part)\n",
    "    \n",
    "    int_s = \"\"\n",
    "    while (int_part > 0):\n",
    "        r = int_part % 2\n",
    "        int_part >>= 1\n",
    "        int_s = str(r) + int_s\n",
    "\n",
    "    dec_s = [] \n",
    "    while (dec_part > 0):\n",
    "        if (len(dec_s) > 32):\n",
    "            print(\"\".join(dec_s))\n",
    "            raise ValueError(\"Not Support\")\n",
    "        if (dec_part == 1):\n",
    "            dec_s.append(str(dec_part))\n",
    "            break\n",
    "        r = dec_part * 2\n",
    "        \n",
    "        if (r >= 1):\n",
    "            dec_s.append(\"1\")\n",
    "            dec_part = r - 1\n",
    "        else:\n",
    "            dec_s.append(\"0\")\n",
    "            dec_part = r\n",
    "        \n",
    "    return int_s + \".\" + \"\".join(dec_s)"
   ]
  },
  {
   "cell_type": "code",
   "execution_count": 95,
   "metadata": {},
   "outputs": [
    {
     "name": "stdout",
     "output_type": "stream",
     "text": [
      "3 0.875\n"
     ]
    },
    {
     "data": {
      "text/plain": [
       "'11.111'"
      ]
     },
     "execution_count": 95,
     "metadata": {},
     "output_type": "execute_result"
    }
   ],
   "source": [
    "f = 3.875\n",
    "convertDecimal(f)"
   ]
  },
  {
   "cell_type": "code",
   "execution_count": null,
   "metadata": {
    "collapsed": true
   },
   "outputs": [],
   "source": []
  },
  {
   "cell_type": "markdown",
   "metadata": {},
   "source": [
    "** Ex.5 Converting Hex to Integer **"
   ]
  },
  {
   "cell_type": "code",
   "execution_count": 98,
   "metadata": {
    "collapsed": true
   },
   "outputs": [],
   "source": [
    "def hex2int(s):\n",
    "    digits = \"0123456789ABCDEF\"\n",
    "    val = 0\n",
    "    for i in range(len(s)):\n",
    "        c = s[i].upper()\n",
    "        d = digits.index(c)\n",
    "        val = 16 * val + d\n",
    "    return val"
   ]
  },
  {
   "cell_type": "code",
   "execution_count": 100,
   "metadata": {},
   "outputs": [
    {
     "name": "stdout",
     "output_type": "stream",
     "text": [
      "31\n",
      "255\n",
      "3501\n"
     ]
    }
   ],
   "source": [
    "s = \"1F\"\n",
    "print(hex2int(s))\n",
    "s = \"FF\"\n",
    "print(hex2int(s))\n",
    "s = \"DAD\"\n",
    "print(hex2int(s))"
   ]
  },
  {
   "cell_type": "markdown",
   "metadata": {},
   "source": [
    "** Ex.6 Converting Integer to Hex **"
   ]
  },
  {
   "cell_type": "code",
   "execution_count": 102,
   "metadata": {
    "collapsed": true
   },
   "outputs": [],
   "source": [
    "def int2hex(d):\n",
    "    digits = \"0123456789ABCDEF\"\n",
    "    if d == 0:\n",
    "        return \"0\"\n",
    "    hex = \"\"\n",
    "    while (d > 0):\n",
    "        digit = d % 16\n",
    "        hex = digits[digit] + hex\n",
    "        d = d // 16\n",
    "    return hex"
   ]
  },
  {
   "cell_type": "code",
   "execution_count": 104,
   "metadata": {},
   "outputs": [
    {
     "name": "stdout",
     "output_type": "stream",
     "text": [
      "1F\n",
      "FF\n",
      "DAD\n"
     ]
    }
   ],
   "source": [
    "d = 31\n",
    "print(int2hex(d))\n",
    "d = 255\n",
    "print(int2hex(d))\n",
    "d = 3501\n",
    "print(int2hex(d))"
   ]
  },
  {
   "cell_type": "code",
   "execution_count": null,
   "metadata": {
    "collapsed": true
   },
   "outputs": [],
   "source": []
  },
  {
   "cell_type": "markdown",
   "metadata": {},
   "source": [
    "** Ex.7 The Number of Bits Set in an Integer **\n",
    "\n",
    "Gets the number of bits set to 1 in an integer. In other words, it counts the number of one."
   ]
  },
  {
   "cell_type": "code",
   "execution_count": 105,
   "metadata": {
    "collapsed": true
   },
   "outputs": [],
   "source": [
    "def bitCountA(n):\n",
    "    count = 0\n",
    "    while (n != 0):\n",
    "        if (n & 1 != 0):\n",
    "            count += 1\n",
    "        n = n>>1\n",
    "    return count"
   ]
  },
  {
   "cell_type": "code",
   "execution_count": 109,
   "metadata": {},
   "outputs": [
    {
     "name": "stdout",
     "output_type": "stream",
     "text": [
      "3\n"
     ]
    }
   ],
   "source": [
    "n = 11\n",
    "print(bitCountA(n))"
   ]
  },
  {
   "cell_type": "code",
   "execution_count": 110,
   "metadata": {
    "collapsed": true
   },
   "outputs": [],
   "source": [
    "def bitCountB(n):\n",
    "    count = 0\n",
    "    while (n != 0):\n",
    "        n = n & (n - 1)\n",
    "        count += 1\n",
    "    return count"
   ]
  },
  {
   "cell_type": "code",
   "execution_count": 111,
   "metadata": {},
   "outputs": [
    {
     "name": "stdout",
     "output_type": "stream",
     "text": [
      "3\n"
     ]
    }
   ],
   "source": [
    "n = 11\n",
    "print(bitCountB(n))"
   ]
  },
  {
   "cell_type": "markdown",
   "metadata": {},
   "source": [
    "** Think **\n",
    "\n",
    "What (n & (n-1) == 0) is checking?"
   ]
  },
  {
   "cell_type": "code",
   "execution_count": 5,
   "metadata": {},
   "outputs": [
    {
     "data": {
      "text/plain": [
       "[(0, True),\n",
       " (1, True),\n",
       " (2, True),\n",
       " (3, False),\n",
       " (4, True),\n",
       " (5, False),\n",
       " (6, False),\n",
       " (7, False),\n",
       " (8, True),\n",
       " (9, False),\n",
       " (10, False),\n",
       " (11, False),\n",
       " (12, False),\n",
       " (13, False),\n",
       " (14, False),\n",
       " (15, False),\n",
       " (16, True),\n",
       " (17, False),\n",
       " (18, False),\n",
       " (19, False),\n",
       " (20, False),\n",
       " (21, False),\n",
       " (22, False),\n",
       " (23, False),\n",
       " (24, False),\n",
       " (25, False),\n",
       " (26, False),\n",
       " (27, False),\n",
       " (28, False),\n",
       " (29, False)]"
      ]
     },
     "execution_count": 5,
     "metadata": {},
     "output_type": "execute_result"
    }
   ],
   "source": [
    "[(n, n & (n-1) == 0) for n in range(30)]"
   ]
  },
  {
   "cell_type": "markdown",
   "metadata": {},
   "source": [
    "** Ex.8 Next Power of 2 **\n",
    "\n",
    "Given an integer n, find the next power of 2 which is greater than n."
   ]
  },
  {
   "cell_type": "code",
   "execution_count": 113,
   "metadata": {
    "collapsed": true
   },
   "outputs": [],
   "source": [
    "def next2Power(n):\n",
    "    while (n & (n-1) != 0):\n",
    "        n = n & (n-1)\n",
    "    return n << 1"
   ]
  },
  {
   "cell_type": "code",
   "execution_count": 116,
   "metadata": {},
   "outputs": [
    {
     "name": "stdout",
     "output_type": "stream",
     "text": [
      "16\n",
      "128\n",
      "1024\n"
     ]
    }
   ],
   "source": [
    "n = 8\n",
    "print(next2Power(n))\n",
    "n = 127\n",
    "print(next2Power(n))\n",
    "n = 555\n",
    "print(next2Power(n))"
   ]
  },
  {
   "cell_type": "markdown",
   "metadata": {},
   "source": [
    "** Ex.9 Detect Opposite Signs for Two Integers **"
   ]
  },
  {
   "cell_type": "code",
   "execution_count": 118,
   "metadata": {
    "collapsed": true
   },
   "outputs": [],
   "source": [
    "def isOppositeSigns(a, b):\n",
    "    return (a^b) < 0"
   ]
  },
  {
   "cell_type": "code",
   "execution_count": 120,
   "metadata": {},
   "outputs": [
    {
     "name": "stdout",
     "output_type": "stream",
     "text": [
      "False\n",
      "True\n",
      "True\n",
      "False\n",
      "False\n"
     ]
    }
   ],
   "source": [
    "a, b = 10, 20\n",
    "print(isOppositeSigns(a, b))\n",
    "a, b = 10, -20\n",
    "print(isOppositeSigns(a, b))\n",
    "a, b = -10, 20\n",
    "print(isOppositeSigns(a, b))\n",
    "a, b = -10, -20\n",
    "print(isOppositeSigns(a, b))\n",
    "a, b = 0, 20\n",
    "print(isOppositeSigns(a, b))"
   ]
  },
  {
   "cell_type": "markdown",
   "metadata": {},
   "source": [
    "** Ex.10 Compute  Sign of Integer **"
   ]
  },
  {
   "cell_type": "code",
   "execution_count": 132,
   "metadata": {
    "collapsed": true
   },
   "outputs": [],
   "source": [
    "def isPositiveInteger(n):\n",
    "    return (n >> 31) == 0"
   ]
  },
  {
   "cell_type": "code",
   "execution_count": 133,
   "metadata": {},
   "outputs": [
    {
     "name": "stdout",
     "output_type": "stream",
     "text": [
      "True\n",
      "False\n",
      "True\n"
     ]
    }
   ],
   "source": [
    "n = 10\n",
    "print(isPositiveInteger(n))\n",
    "n = -1\n",
    "print(isPositiveInteger(n))\n",
    "n = 0\n",
    "print(isPositiveInteger(n))"
   ]
  },
  {
   "cell_type": "code",
   "execution_count": 130,
   "metadata": {},
   "outputs": [
    {
     "name": "stdout",
     "output_type": "stream",
     "text": [
      "-0b1100100\n",
      "-0b110010\n",
      "-0b1\n",
      "-1\n"
     ]
    }
   ],
   "source": [
    "n = -100\n",
    "print(bin(n))\n",
    "n = n >> 1\n",
    "print(bin(n))\n",
    "n = n >> 31\n",
    "print(bin(n))\n",
    "print(n)"
   ]
  },
  {
   "cell_type": "code",
   "execution_count": null,
   "metadata": {
    "collapsed": true
   },
   "outputs": [],
   "source": []
  },
  {
   "cell_type": "code",
   "execution_count": null,
   "metadata": {
    "collapsed": true
   },
   "outputs": [],
   "source": []
  }
 ],
 "metadata": {
  "kernelspec": {
   "display_name": "Python 3",
   "language": "python",
   "name": "python3"
  },
  "language_info": {
   "codemirror_mode": {
    "name": "ipython",
    "version": 3
   },
   "file_extension": ".py",
   "mimetype": "text/x-python",
   "name": "python",
   "nbconvert_exporter": "python",
   "pygments_lexer": "ipython3",
   "version": "3.6.1"
  }
 },
 "nbformat": 4,
 "nbformat_minor": 2
}
