{
 "metadata": {
  "language_info": {
   "codemirror_mode": {
    "name": "ipython",
    "version": 3
   },
   "file_extension": ".py",
   "mimetype": "text/x-python",
   "name": "python",
   "nbconvert_exporter": "python",
   "pygments_lexer": "ipython3",
   "version": "3.8.5-final"
  },
  "orig_nbformat": 2,
  "kernelspec": {
   "name": "python3",
   "display_name": "Python 3",
   "language": "python"
  }
 },
 "nbformat": 4,
 "nbformat_minor": 2,
 "cells": [
  {
   "source": [
    "# Binary Rearch\n",
    "\n",
    "# 使用条件：\n",
    "#     排序数组\n",
    "#     当面试官要求找出比O(n)更小的时间复杂度算法的时候\n",
    "#     找到数组中的一个分割位置，使得左半部分满足某个条件，右半部分不满足\n",
    "#     找到一个最大最小值是的某个条件被满足\n",
    "\n",
    "# 复杂度\n",
    "#     时间复杂度：O(logn)\n",
    "#     空间复杂度：O(1)"
   ],
   "cell_type": "code",
   "metadata": {},
   "execution_count": null,
   "outputs": []
  },
  {
   "cell_type": "code",
   "execution_count": null,
   "metadata": {},
   "outputs": [],
   "source": [
    "def binary_seach(self,nums,target):\n",
    "    if not nums:\n",
    "        return -1\n",
    "\n",
    "    left, right = 0,len(nums)-1\n",
    "    while left+1<right:\n",
    "        mid = (left+right)//2\n",
    "        if nums[mid]<targte:\n",
    "            left = mid\n",
    "        elif nums[mid]>target:\n",
    "            right = mid\n",
    "        else:\n",
    "            end = mid\n",
    "    if nums[left] ==target:\n",
    "        return left\n",
    "    if nums[right] == target:\n",
    "        return right\n",
    "    \n",
    "    return -1\n",
    "    "
   ]
  },
  {
   "cell_type": "code",
   "execution_count": null,
   "metadata": {},
   "outputs": [],
   "source": [
    "# 双指针 Two Pointers\n",
    "\n",
    "# 使用条件：\n",
    "#     滑动窗口\n",
    "#     时间复杂度要求O(n)(80%是双指针)\n",
    "#     要求原地操作，只可以使用交换，不能使用额外空间(80%)\n",
    "#     有子数组subarray/子字符串substring的关键词(50%)\n",
    "#     有回文palindrome关键词(50%)\n",
    "\n",
    "# 复杂度：\n",
    "#     时间复杂度:O(n)\n",
    "#         时间复杂度与最内层循环主体的执行次数有关\n",
    "#         与有多少重循环无关\n",
    "#     空间复杂度:O(1)\n",
    "#         只需要分配两个指针的额外内存"
   ]
  },
  {
   "cell_type": "code",
   "execution_count": null,
   "metadata": {},
   "outputs": [],
   "source": [
    "# 相向双指针(patition in quicksort)\n",
    "def patition(self,A start,end):\n",
    "    if start>=end:\n",
    "        return\n",
    "\n",
    "    left,right = start,end\n",
    "    pivot = A[(start+end)//2]\n",
    "\n",
    "    while left <= right:\n",
    "        while left <= right and A[left] < pivot:\n",
    "            left += 1\n",
    "\n",
    "        while left <= right and A[left] > pivot:\n",
    "            right -= 1\n",
    "        if left <= right:\n",
    "            A[left],A[right] = A[right],A[left]\n",
    "            left += 1\n",
    "            right -= 1\n",
    "\n",
    "# 背向双指针\n",
    "left = position\n",
    "right = position +1\n",
    "\n",
    "while left >=0 and right < len(s):\n",
    "    if left 和 right 可以停下来的条件\n",
    "        break\n",
    "    left -= 1\n",
    "    right += 1\n",
    "\n",
    "# 同向双指针\n",
    "j=0\n",
    "for i in range(n):\n",
    "    while j < n and i到j之间不满足条件\n",
    "        j += 1\n",
    "    if i到j之间满足条件:\n",
    "        处理i到j区间\n",
    "\n",
    "\n",
    "# 合并双指针\n",
    "def merge(list1, list2):\n",
    "    new_list=[]\n",
    "    i,j=0,0\n",
    "\n",
    "    while i <len(list1) and j < len(list2):\n",
    "        if list1[i] < list2[j]:\n",
    "            new_list.append(list1[i])\n",
    "            i += 1\n",
    "        else:\n",
    "            new_list.append(list2[j])\n",
    "            j += 1\n",
    "\n",
    "    while i < len(list1):\n",
    "        new_list.append(list1[i])\n",
    "        i += 1\n",
    "\n",
    "    while j < len(list2):\n",
    "        new_list.append(list2[j])\n",
    "        j += 1\n",
    "\n",
    "    return new_list\n",
    "\n",
    "\n",
    "\n",
    "\n"
   ]
  },
  {
   "cell_type": "code",
   "execution_count": 18,
   "metadata": {},
   "outputs": [],
   "source": [
    "# 排序算法 Sorting\n",
    "\n",
    "# 复杂度:\n",
    "#     时间复杂度:\n",
    "#         快速排序(期望复杂度):O(nlogn)\n",
    "#         归并排序(最坏复杂度):O(nlogn)\n",
    "#     空间复杂度:\n",
    "#         快速排序: O(1)\n",
    "#         归并排序: O(n)\n",
    "\n",
    "# quick sort\n",
    "class Solution:\n",
    "\n",
    "    def sortIntegers(self,A):\n",
    "        self.quickSort(A,0,len(A)-1)\n",
    "\n",
    "    def quickSort(self,A,start,end):\n",
    "        if start >= end:\n",
    "            return \n",
    "\n",
    "        left,right = start,end\n",
    "        pivot = A[(start+end)//2]\n",
    "\n",
    "        while left <= right:\n",
    "            while left<= right and A[left]<pivot:\n",
    "                left+=1\n",
    "            while left <=right and A[left]>pivot:\n",
    "                right-=1\n",
    "\n",
    "            if left <= right:\n",
    "                A[left],A[right] = A[right],A[left]\n",
    "                left+=1\n",
    "                right-=1\n",
    "\n",
    "        self.quickSort(A,start,right)\n",
    "        self.quickSort(A,left,end)\n",
    "        return A"
   ]
  },
  {
   "cell_type": "code",
   "execution_count": 25,
   "metadata": {},
   "outputs": [],
   "source": [
    "class Solution:\n",
    "    # @param {int[]} A an integer array\n",
    "    # @return nothing\n",
    "    def sortIntegers(self, A):\n",
    "        # Write your code here\n",
    "        self.quickSort(A, 0, len(A) - 1)\n",
    "    def quickSort(self, A, start, end):\n",
    "        if start >= end:\n",
    "            return\n",
    "        left, right = start, end\n",
    "        # key point 1: pivot is the value, not the index\n",
    "        pivot = A[(start + end) // 2];\n",
    "        # key point 2: every time you compare left & right, it should be\n",
    "        # left <= right not left < right\n",
    "        while left <= right:\n",
    "            while left <= right and A[left] < pivot:\n",
    "                left += 1\n",
    "            while left <= right and A[right] > pivot:\n",
    "                right -= 1\n",
    "            if left <= right:\n",
    "                A[left], A[right] = A[right], A[left]\n",
    "                left += 1\n",
    "                right -= 1\n",
    "        self.quickSort(A, start, right)\n",
    "        self.quickSort(A, left, end)\n"
   ]
  },
  {
   "cell_type": "code",
   "execution_count": 10,
   "metadata": {},
   "outputs": [
    {
     "output_type": "stream",
     "name": "stdout",
     "text": [
      "1 0 4\n2 2 4\n"
     ]
    },
    {
     "output_type": "execute_result",
     "data": {
      "text/plain": [
       "[-1, 1, 5, 28]"
      ]
     },
     "metadata": {},
     "execution_count": 10
    }
   ],
   "source": [
    "from random import randrange\n",
    "def partition(lst,start,end,pivot_index):\n",
    "    lst[pivot_index],lst[end] = lst[end],lst[pivot_index]\n",
    "    store_index = start\n",
    "    pivot = lst[end]\n",
    "    for i in range(start,end):\n",
    "        if lst[i]<pivot:\n",
    "            lst[i],lst[store_index] = lst[store_index],lst[i]\n",
    "            store_index += 1\n",
    "    lst[store_index],lst[end] = lst[end],lst[store_index]\n",
    "    return store_index\n",
    "\n",
    "def quick_sort_helper(lst,start,end):\n",
    "    if start >=end:\n",
    "        return\n",
    "    pivot_index = randrange(start,end+1)\n",
    "    print(pivot_index,start,end+1)\n",
    "    new_pivot_index = partition(lst,start,end,pivot_index)\n",
    "\n",
    "    quick_sort_helper(lst,start,new_pivot_index-1)\n",
    "    quick_sort_helper(lst,new_pivot_index+1,end)\n",
    "\n",
    "def quickSort(lst):\n",
    "    quick_sort_helper(lst,0,len(lst)-1)\n",
    "\n",
    "alist = [28,1,-1,5]\n",
    "quickSort(alist)\n",
    "alist"
   ]
  },
  {
   "cell_type": "code",
   "execution_count": 27,
   "metadata": {},
   "outputs": [
    {
     "output_type": "execute_result",
     "data": {
      "text/plain": [
       "[1, -1, 28, 5]"
      ]
     },
     "metadata": {},
     "execution_count": 27
    }
   ],
   "source": [
    "from random import randrange\n",
    "\n",
    "def partition(lst,start,end,pivot_index):\n",
    "    lst[pivot_index] ,lst[end] = lst[end],lst[pivot_index]\n",
    "    store_index = start\n",
    "    pivot_value = lst[end]\n",
    "\n",
    "    for i in range(start,end):\n",
    "        if lst[i]<pivot_value:\n",
    "            lst[i],lst[store_index] = lst[store_index],lst[i]\n",
    "            store_index +=1\n",
    "    lst[store_index],lst[end] = lst[end],lst[store_index]\n",
    "    return store_index\n",
    "\n",
    "def quickSortHelper(lst,start,end):\n",
    "    if start >=end:\n",
    "        return \n",
    "\n",
    "    pivot_index = randrange(start,end+1)\n",
    "    new_pivot = partition(lst,start,pivot_index,pivot_index)\n",
    "\n",
    "    quickSortHelper(lst,start,new_pivot-1)\n",
    "    quickSortHelper(lst,new_pivot+1,end)\n",
    "\n",
    "    return lst\n",
    "\n",
    "def quickSort(lst):\n",
    "    return quickSortHelper(lst,0,len(lst)-1)\n",
    "\n",
    "alist = [28,1,-1,5]\n",
    "quickSort(alist)\n",
    "alist\n"
   ]
  },
  {
   "cell_type": "code",
   "execution_count": 27,
   "metadata": {},
   "outputs": [],
   "source": [
    "lst = [1,6,64,45,32,54,2,42,34,2,34,23,43,5,7,8,89,65,7,5,6]\n",
    "Solution().sortIntegers(lst)\n"
   ]
  },
  {
   "cell_type": "code",
   "execution_count": 33,
   "metadata": {},
   "outputs": [
    {
     "output_type": "stream",
     "name": "stdout",
     "text": [
      "[1, 2, 2, 5, 5, 6, 6, 7, 7, 8, 23, 32, 34, 34, 42, 43, 45, 54, 64, 65, 89]\n"
     ]
    }
   ],
   "source": [
    "# 更为简单的方式,已第一个为基准,创建两个为基准\n",
    "def quickSort(nums):\n",
    "    if len(nums)<=1:\n",
    "        return nums\n",
    "    \n",
    "    pivot = nums[0]\n",
    "    left = quickSort([x for x in nums[1:] if x <= pivot])\n",
    "    right = quickSort([y for y in nums[1:] if y > pivot])\n",
    "\n",
    "    return left + [pivot] +right\n",
    "\n",
    "lst = [1,6,64,45,32,54,2,42,34,2,34,23,43,5,7,8,89,65,7,5,6]\n",
    "newLst = quickSort(lst)\n",
    "print(newLst)\n"
   ]
  },
  {
   "cell_type": "code",
   "execution_count": 36,
   "metadata": {},
   "outputs": [
    {
     "output_type": "execute_result",
     "data": {
      "text/plain": [
       "[1, 2, 2, 5, 5, 6, 6, 7, 7, 8, 23, 32, 34, 34, 42, 43, 45, 54, 64, 65, 89]"
      ]
     },
     "metadata": {},
     "execution_count": 36
    }
   ],
   "source": [
    "# Merge sort\n",
    "def _merge(a,b):\n",
    "    c = []\n",
    "    while len(a)>0 and len(b)>0:\n",
    "\n",
    "        if a[0]>=b[0]:\n",
    "            c.append(b[0])\n",
    "            b.remove(b[0])\n",
    "        else:\n",
    "            c.append(a[0])\n",
    "            a.remove(a[0])\n",
    "\n",
    "    if len(a)==0:\n",
    "        c.extend(b)\n",
    "    else:\n",
    "        c.extend(a)\n",
    "    return c\n",
    "\n",
    "\n",
    "\n",
    "def merge_sort(lst):\n",
    "    if len(lst)<=1:\n",
    "        return lst\n",
    "    mid = len(lst)//2\n",
    "    left = merge_sort(lst[:mid])\n",
    "    right = merge_sort(lst[mid:])\n",
    "\n",
    "    return _merge(left,right)\n",
    "\n",
    "\n",
    "lst = [1,6,64,45,32,54,2,42,34,2,34,23,43,5,7,8,89,65,7,5,6]\n",
    "merge_sort(lst)"
   ]
  },
  {
   "cell_type": "code",
   "execution_count": null,
   "metadata": {},
   "outputs": [],
   "source": [
    "# 二叉树分治法\n",
    "\n",
    "# 使用条件:\n",
    "#     二叉树相关的问题\n",
    "#     可以一分为二去分别处理之后再合并结果\n",
    "#     数组相关的问题\n",
    "\n",
    "# 复杂度:\n",
    "#     时间复杂度O(n)\n",
    "#     空间复杂度O(n)\n",
    "\n"
   ]
  },
  {
   "cell_type": "code",
   "execution_count": null,
   "metadata": {},
   "outputs": [],
   "source": [
    "def divide_conquer(root):\n",
    "    # 递归出口\n",
    "    # 一般处理 node==null就够了\n",
    "    # 大部分情况不需要处理 node == leaf\n",
    "    id root == None:\n",
    "        return ...\n",
    "\n",
    "    # 处理左子树\n",
    "    left_result = divide_conquer(node.left)\n",
    "    # 处理右子树\n",
    "    right_result = divide_conquer(node.right)\n",
    "\n",
    "    # 合并答案\n",
    "    result = merge left_result and right_result to merged result\n"
   ]
  },
  {
   "cell_type": "code",
   "execution_count": null,
   "metadata": {},
   "outputs": [],
   "source": [
    "# 宽度优先搜索 BFS\n",
    "\n",
    "# 使用条件\n",
    "#     拓扑排序\n",
    "#     出现连通块的关键词\n",
    "#     分层遍历\n",
    "#     简单图最短路径\n",
    "#     给定一个变换规则,从初始状态编程终止状态最少几步\n",
    "\n",
    "# 复杂度\n",
    "#     时间复杂度:O(n+m)\n",
    "#         n是点数, m是边数\n",
    "#     空间复杂度:O(n)"
   ]
  },
  {
   "cell_type": "code",
   "execution_count": 37,
   "metadata": {},
   "outputs": [],
   "source": [
    "def bfs(start_node):\n",
    "    # BFS 必须使用队列 queue, 别用栈 stack\n",
    "    # distance(dic) 有两个作用,一个是记录一个点是否被丢进过堆栈,避免重读访问\n",
    "    # 另外一个是记录start_node到其他所有节点的最短距离🐱‍🚀🐱‍👌🤷‍♀️💖😜\n",
    "    # 如果只求连通性的话,可以换成set\n",
    "    # node做key的时候,比较的是内存地址\n",
    "\n",
    "    queue = Collections.deque([start_node])\n",
    "    distance = [start_node:0]\n",
    "\n",
    "    # while 队列不空,不同的从队列中拿出一个点,拓展邻居节点放在队列中\n",
    "    while queue:\n",
    "        node = queue.popleft()\n",
    "        # 如果有明确的终点可以在这里加重点的判断\n",
    "        # if node 是终点:\n",
    "        #     break or return something\n",
    "\n",
    "        for neighbor in node.get_neighbors():\n",
    "            if neighbor in distance:\n",
    "                continue\n",
    "            queue.append(neighbor)\n",
    "            distance[neighbor] = distance[node]+1\n",
    "    \n",
    "    # 如果需要返回所有点离起点的距离,就return hashmap\n",
    "    return distance\n",
    "\n",
    "    # 如果需要返回所有联通的节点,就return hashmap 里的所有点\n",
    "    return distance.keys()\n",
    "\n",
    "    # 如果需要返回离中带你的最短距离\n",
    "    return distance[end_node]\n",
    "\n",
    "\n",
    "\n",
    "\n",
    "\n",
    "\n",
    "\n",
    "\n",
    "\n",
    "\n"
   ]
  },
  {
   "cell_type": "code",
   "execution_count": 42,
   "metadata": {},
   "outputs": [],
   "source": [
    "# 深度有限搜索 DFS\n",
    "\n",
    "# 使用条件\n",
    "#     找满足某个条件的所有方案\n",
    "#     二叉树Binary Tree 的问题\n",
    "#     组合问题\n",
    "#         问题模型: 求出所有满足条件的组合\n",
    "#         判断条件: 组合中的元素是顺序无关的\n",
    "#     排列问题\n",
    "#         问题模拟:求出所有满足条件的排列\n",
    "#         判断条件:组合中的元素是顺序相关的\n",
    "\n",
    "# 不要使用 DFS 场景\n",
    "#     连通图问题(一定要用BFS,否则stackoverflow)\n",
    "#     拓扑排序(同上)\n",
    "#     一切BFS可以解决的问题\n",
    "\n",
    "# 复杂度\n",
    "#     时间复杂度:O(方案个数*构造每个方案的时间)\n",
    "#         树的遍历:O(n)\n",
    "#         排列问题:O(n!*n)\n",
    "#         组合问题:O(2^n*n)"
   ]
  },
  {
   "cell_type": "code",
   "execution_count": null,
   "metadata": {},
   "outputs": [],
   "source": [
    "\n",
    "def dfs(参数列表):\n",
    "    if 递归出口:\n",
    "        记录答案\n",
    "        return\n",
    "    for 所有的拆解可能性:\n",
    "        修改所有的参数\n",
    "        dfs(参数列表)\n",
    "        还原所有被修改过的参数\n",
    "    return something 如果需要的话,很多时候不需要return值除了分治写法"
   ]
  },
  {
   "cell_type": "code",
   "execution_count": null,
   "metadata": {},
   "outputs": [],
   "source": [
    "堆 Heap\n",
    "\n",
    "使用条件\n",
    "    找最大值或者最小值\n",
    "    找第k 大(pop k 次复杂度O(nlogk))\n",
    "    要求logn时间对数据进行操作\n",
    "\n",
    "堆不能解决的问题\n",
    "    查询比某个数大的最小值/最接近的值(平衡排序二叉树Balanced BST 才可以解决)\n",
    "    找某段区间的最大值最小值"
   ]
  },
  {
   "cell_type": "code",
   "execution_count": null,
   "metadata": {},
   "outputs": [],
   "source": [
    "# 并查集\n",
    "\n",
    "# 使用条件\n",
    "#     需要查询图的联通状态的问题\n",
    "#     需要支持快速合并两个集合的问题\n",
    "\n",
    "# 复杂度\n",
    "#     时间复杂度 unionO(1),find O(1)\n",
    "#     空间复杂度O(n)"
   ]
  },
  {
   "cell_type": "code",
   "execution_count": 1,
   "metadata": {},
   "outputs": [
    {
     "output_type": "execute_result",
     "data": {
      "text/plain": [
       "4"
      ]
     },
     "metadata": {},
     "execution_count": 1
    }
   ],
   "source": [
    "res = [[1,3]]\n",
    "\n",
    "sum(res[-1])"
   ]
  },
  {
   "cell_type": "code",
   "execution_count": null,
   "metadata": {},
   "outputs": [],
   "source": []
  }
 ]
}