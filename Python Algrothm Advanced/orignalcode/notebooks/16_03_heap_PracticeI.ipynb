{
 "cells": [
  {
   "cell_type": "markdown",
   "metadata": {},
   "source": [
    "# Heap Practice I #"
   ]
  },
  {
   "cell_type": "code",
   "execution_count": 1,
   "metadata": {
    "collapsed": true
   },
   "outputs": [],
   "source": [
    "import heapq  \n"
   ]
  },
  {
   "cell_type": "markdown",
   "metadata": {},
   "source": [
    "### Ex.1 Kth Largest Element in Arary\n",
    "\n",
    "Find the kth largest element in an unsorted array."
   ]
  },
  {
   "cell_type": "code",
   "execution_count": null,
   "metadata": {
    "collapsed": true
   },
   "outputs": [],
   "source": [
    "# O(k+(n-k)lgk) time, min-heap\n",
    "def findKthLargest(nums, k):\n",
    "    heap = []\n",
    "    for num in nums:\n",
    "        heapq.heappush(heap, num)\n",
    "        if len(heap) > k:\n",
    "            heapq.heappop(heap)\n",
    "    \n",
    "    return heapq.heappop(heap)\n"
   ]
  },
  {
   "cell_type": "code",
   "execution_count": null,
   "metadata": {},
   "outputs": [],
   "source": [
    "nums = [5,11,3,6,12,9,8,10,14,1,4,2,7,15]\n",
    "k = 5\n",
    "findKthLargest(nums, k)"
   ]
  },
  {
   "cell_type": "code",
   "execution_count": null,
   "metadata": {
    "collapsed": true
   },
   "outputs": [],
   "source": [
    "# O(k+(n-k)lgk) time, min-heap        \n",
    "def findKthLargest(nums, k):\n",
    "    return heapq.nlargest(k, nums)[k-1]"
   ]
  },
  {
   "cell_type": "code",
   "execution_count": null,
   "metadata": {},
   "outputs": [],
   "source": [
    "nums = [5,11,3,6,12,9,8,10,14,1,4,2,7,15]\n",
    "k = 5\n",
    "findKthLargest(nums, k)"
   ]
  },
  {
   "cell_type": "code",
   "execution_count": null,
   "metadata": {
    "collapsed": true
   },
   "outputs": [],
   "source": []
  },
  {
   "cell_type": "markdown",
   "metadata": {},
   "source": [
    "### Ex.2 Top K Frequent Words\n",
    "\n",
    "Given a non-empty list of words, return the k most frequent elements.\n",
    "\n",
    "Your answer should be sorted by frequency from highest to lowest. If two words have the same frequency, then the word with the lower alphabetical order comes first."
   ]
  },
  {
   "cell_type": "code",
   "execution_count": 2,
   "metadata": {
    "collapsed": true
   },
   "outputs": [],
   "source": [
    "import collections\n",
    "import heapq\n",
    "import functools\n",
    "\n",
    "@functools.total_ordering\n",
    "class Element:\n",
    "    def __init__(self, count, word):\n",
    "        self.count = count\n",
    "        self.word = word\n",
    "        \n",
    "    def __lt__(self, other):\n",
    "        if self.count == other.count:\n",
    "            return self.word > other.word\n",
    "        return self.count < other.count\n",
    "    \n",
    "    def __eq__(self, other):\n",
    "        return self.count == other.count and self.word == other.word\n",
    "\n",
    "def topKFrequent(words, k):\n",
    "    counts = collections.Counter(words)   \n",
    "\n",
    "    freqs = []\n",
    "    heapq.heapify(freqs)\n",
    "    for word, count in counts.items():\n",
    "        heapq.heappush(freqs, (Element(count, word), word))\n",
    "        if len(freqs) > k:\n",
    "            heapq.heappop(freqs)\n",
    "\n",
    "    res = []\n",
    "    for _ in range(k):\n",
    "        res.append(heapq.heappop(freqs)[1])\n",
    "    return res[::-1]"
   ]
  },
  {
   "cell_type": "code",
   "execution_count": 3,
   "metadata": {},
   "outputs": [
    {
     "data": {
      "text/plain": [
       "['i', 'love']"
      ]
     },
     "execution_count": 3,
     "metadata": {},
     "output_type": "execute_result"
    }
   ],
   "source": [
    "words = [\"i\", \"love\", \"you\", \"i\", \"love\", \"coding\",\"i\",\"like\",\"sports\"]\n",
    "k = 2\n",
    "topKFrequent(words, k)"
   ]
  },
  {
   "cell_type": "code",
   "execution_count": 4,
   "metadata": {},
   "outputs": [
    {
     "data": {
      "text/plain": [
       "['i', 'love', 'coding', 'fun']"
      ]
     },
     "execution_count": 4,
     "metadata": {},
     "output_type": "execute_result"
    }
   ],
   "source": [
    "words = [\"i\", \"love\", \"you\", \"i\", \"love\", \"coding\",\"i\",\"like\",\"sports\",\"i\",\"love\",\"travel\",\"coding\",\"is\",\"fun\"]\n",
    "k = 4\n",
    "topKFrequent(words, k)"
   ]
  },
  {
   "cell_type": "code",
   "execution_count": 5,
   "metadata": {
    "collapsed": true
   },
   "outputs": [],
   "source": [
    "def topKFrequent(nums, k):\n",
    "    from collections import Counter as ct\n",
    "    return [k for (k,v) in ct(nums).most_common(k)]"
   ]
  },
  {
   "cell_type": "code",
   "execution_count": 6,
   "metadata": {},
   "outputs": [
    {
     "data": {
      "text/plain": [
       "['i', 'love', 'coding', 'you']"
      ]
     },
     "execution_count": 6,
     "metadata": {},
     "output_type": "execute_result"
    }
   ],
   "source": [
    "words = [\"i\", \"love\", \"you\", \"i\", \"love\", \"coding\",\"i\",\"like\",\"sports\",\"i\",\"love\",\"travel\",\"coding\",\"is\",\"fun\"]\n",
    "k = 4\n",
    "topKFrequent(words, k)"
   ]
  },
  {
   "cell_type": "code",
   "execution_count": null,
   "metadata": {
    "collapsed": true
   },
   "outputs": [],
   "source": []
  },
  {
   "cell_type": "markdown",
   "metadata": {},
   "source": [
    "### Ex.3 Ugly Number\n",
    "\n",
    "Write a program to check whether a given number is an ugly number.\n",
    "\n",
    "Ugly numbers are positive numbers whose prime factors only include 2, 3, 5. For example, 6, 8 are ugly while 14 is not ugly since it includes another prime factor 7."
   ]
  },
  {
   "cell_type": "code",
   "execution_count": null,
   "metadata": {
    "collapsed": true
   },
   "outputs": [],
   "source": [
    "def uglyNumber(num):\n",
    "    for p in 2, 3, 5:\n",
    "        while num % p == 0 < num:\n",
    "            num /= p\n",
    "    return num == 1"
   ]
  },
  {
   "cell_type": "code",
   "execution_count": null,
   "metadata": {
    "collapsed": true
   },
   "outputs": [],
   "source": []
  },
  {
   "cell_type": "markdown",
   "metadata": {},
   "source": [
    "### Ex.4 Ugly Number II\n",
    "\n",
    "Write a program to find the n-th ugly number.\n",
    "\n",
    "Ugly numbers are positive numbers whose prime factors only include 2, 3, 5. For example, 1, 2, 3, 4, 5, 6, 8, 9, 10, 12 is the sequence of the first 10 ugly numbers.\n",
    "\n",
    "Note that 1 is typically treated as an ugly number."
   ]
  },
  {
   "cell_type": "code",
   "execution_count": 4,
   "metadata": {
    "collapsed": true
   },
   "outputs": [],
   "source": [
    "def nthUglyNumber(n):\n",
    "    q2, q3, q5 = [2], [3], [5]\n",
    "    ugly = 1\n",
    "    for u in heapq.merge(q2, q3, q5):\n",
    "        if n == 1:\n",
    "            return ugly\n",
    "        if u > ugly:\n",
    "            ugly = u\n",
    "            n -= 1\n",
    "            q2 += 2 * u,\n",
    "            q3 += 3 * u,\n",
    "            q5 += 5 * u,\n",
    "        print(q2)\n",
    "        print(q3)\n",
    "        print(q5)\n",
    "        print()"
   ]
  },
  {
   "cell_type": "code",
   "execution_count": 5,
   "metadata": {},
   "outputs": [
    {
     "output_type": "stream",
     "name": "stdout",
     "text": [
      "[2, 4]\n[3, 6]\n[5, 10]\n\n[2, 4, 6]\n[3, 6, 9]\n[5, 10, 15]\n\n[2, 4, 6, 8]\n[3, 6, 9, 12]\n[5, 10, 15, 20]\n\n[2, 4, 6, 8, 10]\n[3, 6, 9, 12, 15]\n[5, 10, 15, 20, 25]\n\n[2, 4, 6, 8, 10, 12]\n[3, 6, 9, 12, 15, 18]\n[5, 10, 15, 20, 25, 30]\n\n[2, 4, 6, 8, 10, 12]\n[3, 6, 9, 12, 15, 18]\n[5, 10, 15, 20, 25, 30]\n\n[2, 4, 6, 8, 10, 12, 16]\n[3, 6, 9, 12, 15, 18, 24]\n[5, 10, 15, 20, 25, 30, 40]\n\n[2, 4, 6, 8, 10, 12, 16, 18]\n[3, 6, 9, 12, 15, 18, 24, 27]\n[5, 10, 15, 20, 25, 30, 40, 45]\n\n[2, 4, 6, 8, 10, 12, 16, 18, 20]\n[3, 6, 9, 12, 15, 18, 24, 27, 30]\n[5, 10, 15, 20, 25, 30, 40, 45, 50]\n\n[2, 4, 6, 8, 10, 12, 16, 18, 20]\n[3, 6, 9, 12, 15, 18, 24, 27, 30]\n[5, 10, 15, 20, 25, 30, 40, 45, 50]\n\n[2, 4, 6, 8, 10, 12, 16, 18, 20, 24]\n[3, 6, 9, 12, 15, 18, 24, 27, 30, 36]\n[5, 10, 15, 20, 25, 30, 40, 45, 50, 60]\n\n"
     ]
    },
    {
     "output_type": "execute_result",
     "data": {
      "text/plain": [
       "12"
      ]
     },
     "metadata": {},
     "execution_count": 5
    }
   ],
   "source": [
    "nthUglyNumber(10)"
   ]
  },
  {
   "cell_type": "code",
   "execution_count": null,
   "metadata": {
    "collapsed": true
   },
   "outputs": [],
   "source": []
  },
  {
   "cell_type": "markdown",
   "metadata": {},
   "source": [
    "### Ex.5 Find K Pairs with Smallest Sums\n",
    "\n",
    "You are given two integer arrays nums1 and nums2 sorted in ascending order and an integer k.\n",
    "\n",
    "Define a pair (u,v) which consists of one element from the first array and one element from the second array.\n",
    "\n",
    "Find the k pairs (u1,v1),(u2,v2) ...(uk,vk) with the smallest sums.\n",
    "\n",
    "<img src=\"../images/ch15/heap4.png\" width=\"460\"/>"
   ]
  },
  {
   "cell_type": "markdown",
   "metadata": {},
   "source": [
    "Solution 1: Brute Force\n",
    "    \n",
    "Just produce all pairs, sort them by sum, and return the first k."
   ]
  },
  {
   "cell_type": "code",
   "execution_count": 1,
   "metadata": {
    "collapsed": true
   },
   "outputs": [],
   "source": [
    "import itertools\n",
    "def kSmallestPairs(nums1, nums2, k):\n",
    "    return sorted(itertools.product(nums1, nums2), key=sum)[:k]"
   ]
  },
  {
   "cell_type": "code",
   "execution_count": 2,
   "metadata": {},
   "outputs": [
    {
     "output_type": "execute_result",
     "data": {
      "text/plain": [
       "[(1, 2), (1, 4), (1, 6), (7, 2), (7, 4), (7, 6), (11, 2), (11, 4), (11, 6)]"
      ]
     },
     "metadata": {},
     "execution_count": 2
    }
   ],
   "source": [
    "nums1 = [1,7,11]\n",
    "nums2 = [2,4,6]\n",
    "sorted(itertools.product(nums1, nums2))[:]"
   ]
  },
  {
   "cell_type": "code",
   "execution_count": 7,
   "metadata": {},
   "outputs": [
    {
     "output_type": "execute_result",
     "data": {
      "text/plain": [
       "[(1, 2), (1, 4), (1, 6), (7, 2)]"
      ]
     },
     "metadata": {},
     "execution_count": 7
    }
   ],
   "source": [
    "nums1 = [1,7,11]\n",
    "nums2 = [2,4,6]\n",
    "k = 4\n",
    "kSmallestPairs(nums1, nums2, k)"
   ]
  },
  {
   "cell_type": "code",
   "execution_count": 10,
   "metadata": {},
   "outputs": [
    {
     "output_type": "execute_result",
     "data": {
      "text/plain": [
       "[(1, 1), (1, 1), (1, 2), (1, 2)]"
      ]
     },
     "metadata": {},
     "execution_count": 10
    }
   ],
   "source": [
    "nums1 = [1,1,2]\n",
    "nums2 = [1,2,3]\n",
    "k = 4\n",
    "kSmallestPairs(nums1, nums2, k)"
   ]
  },
  {
   "cell_type": "code",
   "execution_count": null,
   "metadata": {
    "collapsed": true
   },
   "outputs": [],
   "source": []
  },
  {
   "cell_type": "markdown",
   "metadata": {},
   "source": [
    "Solution 2: Less Brute Force\n",
    "    \n",
    "Still going through all pairs, but only with a generator and heapq.nsmallest, which uses a heap of size k. So this only takes O(k) extra memory and O(mn log k) time.    "
   ]
  },
  {
   "cell_type": "code",
   "execution_count": null,
   "metadata": {
    "collapsed": true
   },
   "outputs": [],
   "source": [
    "# takes O(k) extra memory and O(mn log k) time\n",
    "import heapq\n",
    "def kSmallestPairs(nums1, nums2, k):\n",
    "    return heapq.nsmallest(k, ([u, v] for u in nums1 for v in nums2), key=sum)"
   ]
  },
  {
   "cell_type": "code",
   "execution_count": null,
   "metadata": {},
   "outputs": [],
   "source": [
    "nums1 = [1,7,11]\n",
    "nums2 = [2,4,6]\n",
    "k = 4\n",
    "kSmallestPairs(nums1, nums2, k)"
   ]
  },
  {
   "cell_type": "code",
   "execution_count": null,
   "metadata": {
    "collapsed": true
   },
   "outputs": [],
   "source": []
  },
  {
   "cell_type": "code",
   "execution_count": null,
   "metadata": {
    "collapsed": true
   },
   "outputs": [],
   "source": [
    "# takes O(k) extra memory and O(k^2 log k) time\n",
    "import heapq\n",
    "def kSmallestPairs(nums1, nums2, k):\n",
    "    n1 = nums1[:k+1]\n",
    "    n2 = nums2[:k+1]\n",
    "    return heapq.nsmallest(k, ([u, v] for u in n1 for v in n2), key=sum)"
   ]
  },
  {
   "cell_type": "code",
   "execution_count": null,
   "metadata": {},
   "outputs": [],
   "source": [
    "nums1 = [1,7,11]\n",
    "nums2 = [2,4,6]\n",
    "k = 4\n",
    "kSmallestPairs(nums1, nums2, k)"
   ]
  },
  {
   "cell_type": "code",
   "execution_count": null,
   "metadata": {
    "collapsed": true
   },
   "outputs": [],
   "source": []
  },
  {
   "cell_type": "markdown",
   "metadata": {},
   "source": [
    "Solution 3: Fast Solution\n",
    "    \n",
    "Basic idea: Use min_heap to keep track on next minimum pair sum, and we only need to maintain K possible candidates in the data structure.\n",
    "\n",
    "Some observations: For every numbers in nums1, its best partner(yields min sum) always strats from nums2[0] since arrays are all sorted; And for a specific number in nums1, its next candidate sould be [this specific number] + nums2[current_associated_index + 1], unless out of boundary;)  "
   ]
  },
  {
   "cell_type": "code",
   "execution_count": null,
   "metadata": {
    "collapsed": true
   },
   "outputs": [],
   "source": [
    "# O(kLogk) \n",
    "def kSmallestPairs(nums1, nums2, k):\n",
    "    queue = []\n",
    "    def push(i, j):\n",
    "        if i < len(nums1) and j < len(nums2):\n",
    "            heapq.heappush(queue, [nums1[i] + nums2[j], i, j])\n",
    "    push(0, 0)\n",
    "    pairs = []\n",
    "    while queue and len(pairs) < k:\n",
    "        _, i, j = heapq.heappop(queue)\n",
    "        pairs.append([nums1[i], nums2[j]])\n",
    "        push(i, j + 1)\n",
    "        if j == 0:\n",
    "            push(i + 1, 0)\n",
    "    return pairs"
   ]
  },
  {
   "cell_type": "code",
   "execution_count": null,
   "metadata": {},
   "outputs": [],
   "source": [
    "nums1 = [1,7,11]\n",
    "nums2 = [2,4,6]\n",
    "k = 20\n",
    "kSmallestPairs(nums1, nums2, k)"
   ]
  },
  {
   "cell_type": "code",
   "execution_count": null,
   "metadata": {},
   "outputs": [],
   "source": [
    "nums1 = [1,1,2]\n",
    "nums2 = [1,2,3]\n",
    "k = 2\n",
    "kSmallestPairs(nums1, nums2, k)"
   ]
  },
  {
   "cell_type": "code",
   "execution_count": null,
   "metadata": {
    "collapsed": true
   },
   "outputs": [],
   "source": [
    "def kSmallestPairs2(nums1, nums2, k):\n",
    "    queue = []\n",
    "    def push(i, j):\n",
    "        if i < len(nums1) and j < len(nums2):\n",
    "            heapq.heappush(queue, [nums1[i] + nums2[j], i, j])\n",
    "    for i in range(0, k):\n",
    "        push(i, 0)\n",
    "    pairs = []\n",
    "    while queue and len(pairs) < k:\n",
    "        _, i, j = heapq.heappop(queue)\n",
    "        pairs.append([nums1[i], nums2[j]])\n",
    "        push(i, j + 1)\n",
    "    return pairs"
   ]
  },
  {
   "cell_type": "code",
   "execution_count": null,
   "metadata": {},
   "outputs": [],
   "source": [
    "nums1 = [1,7,11]\n",
    "nums2 = [2,4,6]\n",
    "k = 20\n",
    "kSmallestPairs2(nums1, nums2, k)"
   ]
  },
  {
   "cell_type": "code",
   "execution_count": null,
   "metadata": {},
   "outputs": [],
   "source": [
    "nums1 = [1,1,2]\n",
    "nums2 = [1,2,3]\n",
    "k = 2\n",
    "kSmallestPairs(nums1, nums2, k)"
   ]
  },
  {
   "cell_type": "markdown",
   "metadata": {
    "collapsed": true
   },
   "source": [
    "<img src=\"../images/ch16/kpairsums.png\" width=\"660\"/>"
   ]
  },
  {
   "cell_type": "code",
   "execution_count": null,
   "metadata": {
    "collapsed": true
   },
   "outputs": [],
   "source": []
  }
 ],
 "metadata": {
  "kernelspec": {
   "display_name": "Python 3",
   "language": "python",
   "name": "python3"
  },
  "language_info": {
   "codemirror_mode": {
    "name": "ipython",
    "version": 3
   },
   "file_extension": ".py",
   "mimetype": "text/x-python",
   "name": "python",
   "nbconvert_exporter": "python",
   "pygments_lexer": "ipython3",
   "version": "3.8.5-final"
  },
  "toc": {
   "base_numbering": 1,
   "nav_menu": {},
   "number_sections": true,
   "sideBar": true,
   "skip_h1_title": false,
   "title_cell": "Table of Contents",
   "title_sidebar": "Contents",
   "toc_cell": false,
   "toc_position": {},
   "toc_section_display": true,
   "toc_window_display": false
  },
  "varInspector": {
   "cols": {
    "lenName": 16,
    "lenType": 16,
    "lenVar": 40
   },
   "kernels_config": {
    "python": {
     "delete_cmd_postfix": "",
     "delete_cmd_prefix": "del ",
     "library": "var_list.py",
     "varRefreshCmd": "print(var_dic_list())"
    },
    "r": {
     "delete_cmd_postfix": ") ",
     "delete_cmd_prefix": "rm(",
     "library": "var_list.r",
     "varRefreshCmd": "cat(var_dic_list()) "
    }
   },
   "types_to_exclude": [
    "module",
    "function",
    "builtin_function_or_method",
    "instance",
    "_Feature"
   ],
   "window_display": false
  }
 },
 "nbformat": 4,
 "nbformat_minor": 2
}