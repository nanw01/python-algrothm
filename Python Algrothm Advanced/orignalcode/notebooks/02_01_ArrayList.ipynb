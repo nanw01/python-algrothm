{
 "cells": [
  {
   "cell_type": "markdown",
   "metadata": {},
   "source": [
    "# ArrayList\n",
    "\n",
    "- Basic Idea\n",
    "    - Store data in sequential order\n",
    "    - Stored contiguously\n",
    "    - Random access, variable-size list data structure that allows elements to be added or removed\n",
    "    - E.g., a list of available hotel rooms, a list of cities, and a list of books\n",
    "- Data Abstraction\n",
    "    - Decide what data elements you will be operating on \n",
    "    - Decide what operations you will be doing to each data element \n",
    "    - Define a clean interface to these operations \n",
    "    - Implement the objects\n",
    "    - Now you have an Abstract Data Type (ADT)\n",
    "    \n",
    "\n",
    "### Python Array vs. List\n",
    "\n",
    "#### Array Module -  Sequence of fixed-type data\n",
    "\n",
    "The array module defines a sequence data structure that looks very much like a list except that all of the members have to be of the same type. The types supported are all numeric or other fixed-size primitive types such as bytes.\n",
    "\n",
    "A computer system will have a huge number of bytes of memory, and to keep track of what information is stored in what byte, the computer uses an abstraction known as a memory address. In effect, each byte of memory is associated with a unique number that serves as its address (more formally, the binary representation of the number serves as the address). In this way, the computer system can refer to the data in “byte #2150” versus the data in “byte #2157,” for example. Memory addresses are typically coordinated with the physical layout of the memory system, and so we often portray the numbers in sequential fashion.\n",
    "\n",
    "<img src=\"../images/ch02/memory.jpg\" width=\"500\"/> \n",
    "\n",
    "Array, a group of related variables can be stored one after another in a <B><I>contiguous</I></B> portion of the computer’s memory. \n",
    "<img src=\"../images/ch02/memorystr.jpg\" width=\"500\"/>\n",
    "\n",
    "We describe this as an array of six characters, even though it requires 12 bytes of memory. We will refer to each location within an array as a cell, and will use an integer index to describe its location within the array, with cells numbered starting with 0, 1, 2, and so on.\n",
    "\n",
    "Each cell of an array must use the same number of bytes. This requirement is what allows an arbitrary cell of the array to be accessed in <B><I>constant time</I></B> based on its index.\n",
    "\n",
    "The appropriate memory address can be computed using the calculation, start + cellsize index\n",
    "\n",
    "For example, cell 4 begins at memory location 2146 + 2 · 4 = 2146 + 8 = 2154\n",
    "\n",
    "<img src=\"../images/ch02/arraysimple.jpg\" width=\"160\"/>\n",
    "\n",
    "In below example, the array is configured to hold a sequence of bytes and is initialized with a simple string."
   ]
  },
  {
   "cell_type": "code",
   "execution_count": 1,
   "metadata": {},
   "outputs": [
    {
     "output_type": "stream",
     "name": "stdout",
     "text": [
      "As string: sample\nAs array : array('u', 'sample')\n"
     ]
    }
   ],
   "source": [
    "import array\n",
    "import binascii\n",
    "\n",
    "s = 'sample' \n",
    "a = array.array('u', s)\n",
    "\n",
    "print('As string:', s)\n",
    "print('As array :', a)"
   ]
  },
  {
   "cell_type": "code",
   "execution_count": 2,
   "metadata": {
    "collapsed": true
   },
   "outputs": [
    {
     "output_type": "stream",
     "text": [
      "\u001b[0;31mInit signature:\u001b[0m  \u001b[0marray\u001b[0m\u001b[0;34m.\u001b[0m\u001b[0marray\u001b[0m\u001b[0;34m(\u001b[0m\u001b[0mself\u001b[0m\u001b[0;34m,\u001b[0m \u001b[0;34m/\u001b[0m\u001b[0;34m,\u001b[0m \u001b[0;34m*\u001b[0m\u001b[0margs\u001b[0m\u001b[0;34m,\u001b[0m \u001b[0;34m**\u001b[0m\u001b[0mkwargs\u001b[0m\u001b[0;34m)\u001b[0m\u001b[0;34m\u001b[0m\u001b[0;34m\u001b[0m\u001b[0m\n",
      "\u001b[0;31mDocstring:\u001b[0m     \n",
      "array(typecode [, initializer]) -> array\n",
      "\n",
      "Return a new array whose items are restricted by typecode, and\n",
      "initialized from the optional initializer value, which must be a list,\n",
      "string or iterable over elements of the appropriate type.\n",
      "\n",
      "Arrays represent basic values and behave very much like lists, except\n",
      "the type of objects stored in them is constrained. The type is specified\n",
      "at object creation time by using a type code, which is a single character.\n",
      "The following type codes are defined:\n",
      "\n",
      "    Type code   C Type             Minimum size in bytes\n",
      "    'b'         signed integer     1\n",
      "    'B'         unsigned integer   1\n",
      "    'u'         Unicode character  2 (see note)\n",
      "    'h'         signed integer     2\n",
      "    'H'         unsigned integer   2\n",
      "    'i'         signed integer     2\n",
      "    'I'         unsigned integer   2\n",
      "    'l'         signed integer     4\n",
      "    'L'         unsigned integer   4\n",
      "    'q'         signed integer     8 (see note)\n",
      "    'Q'         unsigned integer   8 (see note)\n",
      "    'f'         floating point     4\n",
      "    'd'         floating point     8\n",
      "\n",
      "NOTE: The 'u' typecode corresponds to Python's unicode character. On\n",
      "narrow builds this is 2-bytes on wide builds this is 4-bytes.\n",
      "\n",
      "NOTE: The 'q' and 'Q' type codes are only available if the platform\n",
      "C compiler used to build Python supports 'long long', or, on Windows,\n",
      "'__int64'.\n",
      "\n",
      "Methods:\n",
      "\n",
      "append() -- append a new item to the end of the array\n",
      "buffer_info() -- return information giving the current memory info\n",
      "byteswap() -- byteswap all the items of the array\n",
      "count() -- return number of occurrences of an object\n",
      "extend() -- extend array by appending multiple elements from an iterable\n",
      "fromfile() -- read items from a file object\n",
      "fromlist() -- append items from the list\n",
      "frombytes() -- append items from the string\n",
      "index() -- return index of first occurrence of an object\n",
      "insert() -- insert a new item into the array at a provided position\n",
      "pop() -- remove and return item (default last)\n",
      "remove() -- remove first occurrence of an object\n",
      "reverse() -- reverse the order of the items in the array\n",
      "tofile() -- write all items to a file object\n",
      "tolist() -- return the array converted to an ordinary list\n",
      "tobytes() -- return the array converted to a string\n",
      "\n",
      "Attributes:\n",
      "\n",
      "typecode -- the typecode character used to create the array\n",
      "itemsize -- the length in bytes of one array item\n",
      "\u001b[0;31mFile:\u001b[0m           /usr/local/anaconda3/lib/python3.8/lib-dynload/array.cpython-38-darwin.so\n",
      "\u001b[0;31mType:\u001b[0m           type\n",
      "\u001b[0;31mSubclasses:\u001b[0m     \n"
     ],
     "name": "stdout"
    }
   ],
   "source": [
    "? array.array"
   ]
  },
  {
   "cell_type": "code",
   "execution_count": 3,
   "metadata": {},
   "outputs": [
    {
     "output_type": "execute_result",
     "data": {
      "text/plain": [
       "6"
      ]
     },
     "metadata": {},
     "execution_count": 3
    }
   ],
   "source": [
    "len(a) "
   ]
  },
  {
   "cell_type": "markdown",
   "metadata": {},
   "source": [
    "How about string? We want to store a list of people in array, however, people's names have different length. \n",
    "\n",
    "Python represents a list or tuple instance using an internal storage mechanism of an array of object references. At the lowest level, what is stored is a consecutive sequence of memory addresses at which the elements of the sequence reside. A high-level diagram of such a list is shown below:\n",
    "\n",
    "<img src=\"../images/ch02/memorystrings.jpg\" width=\"420\"/>\n",
    "\n",
    "Although the relative size of the individual elements may vary, the number of bits used to store the memory address of each element is fixed (e.g., 64-bits per address). In this way, Python can support constant-time access to a list or tuple element based on its index.\n",
    "\n",
    "\n",
    "A single list instance may include multiple references to the same object as elements of the list, and it is possible for a single object to be an element of two or more lists, as those lists simply store references back to that object. As an example, when you compute a slice of a list, the result is a new list instance, but that new list has references to the same elements that are in the original list.\n",
    "\n",
    "<img src=\"../images/ch02/listslice.jpg\" width=\"360\"/>"
   ]
  },
  {
   "cell_type": "code",
   "execution_count": 4,
   "metadata": {},
   "outputs": [
    {
     "output_type": "stream",
     "name": "stdout",
     "text": [
      "[0, 1, 2, 3, 4, 5, 6, 7, 8]\n",
      "[3, 4, 5, 6]\n",
      "[0, 1, 2, 3, 4, 5, 6, 7, 8]\n",
      "[-1, 4, 5, 6]\n"
     ]
    }
   ],
   "source": [
    "# let's play some tricks\n",
    "# array slicing: make a copy!!!\n",
    "\n",
    "a = list(range(0, 9))\n",
    "print(a)\n",
    "b = a[3:7]\n",
    "print(b)\n",
    "\n",
    "b[0] = -1\n",
    "print(a)\n",
    "print(b)"
   ]
  },
  {
   "cell_type": "code",
   "execution_count": 5,
   "metadata": {},
   "outputs": [
    {
     "output_type": "stream",
     "name": "stdout",
     "text": [
      "[0 1 2 3 4 5 6 7 8 9]\n[3 4 5 6]\n[ 0  1  2 -1  4  5  6  7  8  9]\n[-1  4  5  6]\n[-1  4  5  6]\n[ 0  1  2 -1  4  5  6  7  8  9]\n[-1 -2  5  6]\n"
     ]
    }
   ],
   "source": [
    "import numpy as np\n",
    "\n",
    "a = np.arange(10)\n",
    "print(a)\n",
    "b = a[3:7]\n",
    "print(b)\n",
    "\n",
    "b[0] = -1\n",
    "print(a)\n",
    "print(b)\n",
    "\n",
    "b = a[3:7].copy()\n",
    "print(b)\n",
    "b[1] = -2\n",
    "print(a)\n",
    "print(b)"
   ]
  },
  {
   "cell_type": "markdown",
   "metadata": {},
   "source": [
    "<img src=\"../images/ch02/listslice2.jpg\" width=\"360\"/>\n",
    "\n",
    "####  Shallow Copy vs. Deep Copy\n",
    "\n",
    "<img src=\"../images/ch02/shallow1.jpg\" width=\"300\"/>\n",
    "<img src=\"../images/ch02/shallow2.jpg\" width=\"240\"/>"
   ]
  },
  {
   "cell_type": "code",
   "execution_count": 6,
   "metadata": {
    "scrolled": true
   },
   "outputs": [
    {
     "output_type": "execute_result",
     "data": {
      "text/plain": [
       "[0, 0, 1, 0, 0, 0, 0, 0]"
      ]
     },
     "metadata": {},
     "execution_count": 6
    }
   ],
   "source": [
    "a = [0] * 8\n",
    "a[2] = 1\n",
    "a"
   ]
  },
  {
   "cell_type": "code",
   "execution_count": 7,
   "metadata": {},
   "outputs": [
    {
     "output_type": "execute_result",
     "data": {
      "text/plain": [
       "[[9, 0, 0, 0, 0, 0, 0, 0],\n",
       " [9, 0, 0, 0, 0, 0, 0, 0],\n",
       " [9, 0, 0, 0, 0, 0, 0, 0],\n",
       " [9, 0, 0, 0, 0, 0, 0, 0],\n",
       " [9, 0, 0, 0, 0, 0, 0, 0],\n",
       " [9, 0, 0, 0, 0, 0, 0, 0],\n",
       " [9, 0, 0, 0, 0, 0, 0, 0],\n",
       " [9, 0, 0, 0, 0, 0, 0, 0]]"
      ]
     },
     "metadata": {},
     "execution_count": 7
    }
   ],
   "source": [
    "a = [[0] * 8] * 8\n",
    "a[0][0] = 9\n",
    "a"
   ]
  },
  {
   "cell_type": "markdown",
   "metadata": {},
   "source": [
    "<img src=\"../images/ch02/shallow3.jpg\" width=\"240\"/>\n",
    "\n",
    "The correct representation should be like this:\n",
    "<img src=\"../images/ch02/shallow4.jpg\" width=\"380\"/>\n",
    "\n",
    "To properly initialize a two-dimensional list, we must ensure that each cell of the primary list refers to an independent instance of a secondary list. This can be accomplished through the use of Python’s list comprehension syntax."
   ]
  },
  {
   "cell_type": "code",
   "execution_count": 8,
   "metadata": {},
   "outputs": [
    {
     "output_type": "execute_result",
     "data": {
      "text/plain": [
       "[[0, 0], [0, 0], [0, 0]]"
      ]
     },
     "metadata": {},
     "execution_count": 8
    }
   ],
   "source": [
    "m, n = 3, 2\n",
    "data = [ [0] * n for j in range(m) ]\n",
    "data"
   ]
  },
  {
   "cell_type": "markdown",
   "metadata": {},
   "source": [
    "An array can be extended and otherwise manipulated in the same ways as other Python sequences."
   ]
  },
  {
   "cell_type": "code",
   "execution_count": 9,
   "metadata": {},
   "outputs": [
    {
     "output_type": "stream",
     "name": "stdout",
     "text": [
      "Initial : array('i', [0, 1, 2, 3, 4])\nExtended: array('i', [0, 1, 2, 3, 4, 0, 1, 2, 3, 4])\nSlice   : array('i', [3, 4, 0])\nIterator: [(0, 0), (1, 1), (2, 2), (3, 3), (4, 4), (5, 0), (6, 1), (7, 2), (8, 3), (9, 4)]\n<class 'array.array'>\n10\n"
     ]
    }
   ],
   "source": [
    "a = array.array('i', range(5))\n",
    "print('Initial :', a)\n",
    "\n",
    "a.extend(range(5))\n",
    "print('Extended:', a)\n",
    "\n",
    "print('Slice   :', a[3:6])\n",
    "\n",
    "print('Iterator:', list(enumerate(a)))\n",
    "\n",
    "print(type(a))\n",
    "print(len(a))"
   ]
  },
  {
   "cell_type": "code",
   "execution_count": 10,
   "metadata": {},
   "outputs": [
    {
     "output_type": "stream",
     "name": "stdout",
     "text": [
      "array('B', [0, 1, 2, 3, 4, 5, 6, 7, 8, 9, 10, 11, 12, 13, 14, 15])\nb'\\x00\\x01\\x02\\x03\\x04\\x05\\x06\\x07\\x08\\t\\n\\x0b\\x0c\\r\\x0e\\x0f'\narray('h', [-8, -7, -6, -5, -4, -3, -2, -1, 0, 1, 2, 3, 4, 5, 6, 7, 8])\nb'\\xf8\\xff\\xf9\\xff\\xfa\\xff\\xfb\\xff\\xfc\\xff\\xfd\\xff\\xfe\\xff\\xff\\xff\\x00\\x00\\x01\\x00\\x02\\x00\\x03\\x00\\x04\\x00\\x05\\x00\\x06\\x00\\x07\\x00\\x08\\x00'\n"
     ]
    }
   ],
   "source": [
    "a = array.array(\"B\", range(16)) # unsigned char\n",
    "b = array.array(\"h\", range(-8,9)) # signed short\n",
    "\n",
    "print(a)\n",
    "print(repr(a.tostring()))\n",
    "\n",
    "print(b)\n",
    "print(repr(b.tostring()))"
   ]
  },
  {
   "cell_type": "code",
   "execution_count": null,
   "metadata": {
    "collapsed": true
   },
   "outputs": [],
   "source": []
  },
  {
   "cell_type": "markdown",
   "metadata": {},
   "source": [
    "### List\n",
    "\n",
    "String is a sequence of characters, list is a sequece of object. Use list when the order of objects matters a lot.\n",
    "\n",
    "- ADT List Operations\n",
    "    - Create an empty list\n",
    "    - Determine whether the list is empty\n",
    "    - Determine the number of items in a list\n",
    "    - Add an item at given position in a list\n",
    "    - Remove the item at a given position in a list\n",
    "    - Remove all the items from a list\n",
    "    - Get the item at a given position in a list\n",
    "    - Other operations?\n",
    "    \n",
    "<img src=\"../images/ch02/list.png\" width=\"680\"/>\n",
    "\n",
    "<img src=\"../images/ch02/list2.png\" width=\"300\"/>\n",
    "\n",
    "<img src=\"../images/ch02/list3.png\" width=\"300\"/>    "
   ]
  },
  {
   "cell_type": "code",
   "execution_count": 11,
   "metadata": {},
   "outputs": [
    {
     "output_type": "execute_result",
     "data": {
      "text/plain": [
       "3"
      ]
     },
     "metadata": {},
     "execution_count": 11
    }
   ],
   "source": [
    "fruits = ['orange', 'apple', 'pear', 'banana', 'kiwi', 'apple', 'banana']\n",
    "fruits.index('banana')"
   ]
  },
  {
   "cell_type": "code",
   "execution_count": 12,
   "metadata": {},
   "outputs": [
    {
     "output_type": "execute_result",
     "data": {
      "text/plain": [
       "6"
      ]
     },
     "metadata": {},
     "execution_count": 12
    }
   ],
   "source": [
    "fruits.index('banana', 4)"
   ]
  },
  {
   "cell_type": "code",
   "execution_count": 13,
   "metadata": {},
   "outputs": [
    {
     "output_type": "execute_result",
     "data": {
      "text/plain": [
       "['banana', 'apple', 'kiwi', 'banana', 'pear', 'apple', 'orange']"
      ]
     },
     "metadata": {},
     "execution_count": 13
    }
   ],
   "source": [
    "fruits.reverse()\n",
    "fruits"
   ]
  },
  {
   "cell_type": "code",
   "execution_count": 14,
   "metadata": {},
   "outputs": [
    {
     "output_type": "execute_result",
     "data": {
      "text/plain": [
       "['banana', 'apple', 'kiwi', 'banana', 'pear', 'apple', 'orange', 'grape']"
      ]
     },
     "metadata": {},
     "execution_count": 14
    }
   ],
   "source": [
    "fruits.append('grape')\n",
    "fruits"
   ]
  },
  {
   "cell_type": "code",
   "execution_count": 15,
   "metadata": {},
   "outputs": [
    {
     "output_type": "execute_result",
     "data": {
      "text/plain": [
       "['apple', 'apple', 'banana', 'banana', 'grape', 'kiwi', 'orange', 'pear']"
      ]
     },
     "metadata": {},
     "execution_count": 15
    }
   ],
   "source": [
    "fruits.sort()\n",
    "fruits"
   ]
  },
  {
   "cell_type": "code",
   "execution_count": 16,
   "metadata": {},
   "outputs": [
    {
     "output_type": "execute_result",
     "data": {
      "text/plain": [
       "[0, 1, 4, 9, 16, 25, 36, 49, 64, 81]"
      ]
     },
     "metadata": {},
     "execution_count": 16
    }
   ],
   "source": [
    "squares = []\n",
    "for x in range(10):\n",
    "    squares.append(x**2)\n",
    "squares"
   ]
  },
  {
   "cell_type": "code",
   "execution_count": 17,
   "metadata": {},
   "outputs": [
    {
     "output_type": "execute_result",
     "data": {
      "text/plain": [
       "[0, 1, 4, 9, 16, 25, 36, 49, 64, 81]"
      ]
     },
     "metadata": {},
     "execution_count": 17
    }
   ],
   "source": [
    "squares = [x**2 for x in range(10)]\n",
    "squares"
   ]
  },
  {
   "cell_type": "code",
   "execution_count": 18,
   "metadata": {},
   "outputs": [
    {
     "output_type": "execute_result",
     "data": {
      "text/plain": [
       "[(1, 3), (1, 4), (2, 3), (2, 1), (2, 4), (3, 1), (3, 4)]"
      ]
     },
     "metadata": {},
     "execution_count": 18
    }
   ],
   "source": [
    "[(x, y) for x in [1,2,3] for y in [3,1,4] if x != y]"
   ]
  },
  {
   "cell_type": "code",
   "execution_count": 19,
   "metadata": {},
   "outputs": [
    {
     "output_type": "execute_result",
     "data": {
      "text/plain": [
       "[-8, -4, 0, 4, 8]"
      ]
     },
     "metadata": {},
     "execution_count": 19
    }
   ],
   "source": [
    "vec = [-4, -2, 0, 2, 4]\n",
    "[x*2 for x in vec]"
   ]
  },
  {
   "cell_type": "code",
   "execution_count": 20,
   "metadata": {},
   "outputs": [
    {
     "output_type": "execute_result",
     "data": {
      "text/plain": [
       "[[1, 5, 9], [2, 6, 10], [3, 7, 11], [4, 8, 12]]"
      ]
     },
     "metadata": {},
     "execution_count": 20
    }
   ],
   "source": [
    "matrix = [\n",
    "   [1, 2, 3, 4],\n",
    "   [5, 6, 7, 8],\n",
    "   [9, 10, 11, 12],\n",
    "]\n",
    "[[row[i] for row in matrix] for i in range(4)]"
   ]
  },
  {
   "cell_type": "code",
   "execution_count": null,
   "metadata": {
    "collapsed": true
   },
   "outputs": [],
   "source": []
  }
 ],
 "metadata": {
  "kernelspec": {
   "name": "python388jvsc74a57bd0e134e05457d34029b6460cd73bbf1ed73f339b5b6d98c95be70b69eba114fe95",
   "display_name": "Python 3.8.8 64-bit ('base': conda)"
  },
  "language_info": {
   "codemirror_mode": {
    "name": "ipython",
    "version": 3
   },
   "file_extension": ".py",
   "mimetype": "text/x-python",
   "name": "python",
   "nbconvert_exporter": "python",
   "pygments_lexer": "ipython3",
   "version": "3.8.8"
  },
  "toc": {
   "base_numbering": 1,
   "nav_menu": {},
   "number_sections": true,
   "sideBar": true,
   "skip_h1_title": false,
   "title_cell": "Table of Contents",
   "title_sidebar": "Contents",
   "toc_cell": false,
   "toc_position": {},
   "toc_section_display": true,
   "toc_window_display": false
  },
  "varInspector": {
   "cols": {
    "lenName": 16,
    "lenType": 16,
    "lenVar": 40
   },
   "kernels_config": {
    "python": {
     "delete_cmd_postfix": "",
     "delete_cmd_prefix": "del ",
     "library": "var_list.py",
     "varRefreshCmd": "print(var_dic_list())"
    },
    "r": {
     "delete_cmd_postfix": ") ",
     "delete_cmd_prefix": "rm(",
     "library": "var_list.r",
     "varRefreshCmd": "cat(var_dic_list()) "
    }
   },
   "types_to_exclude": [
    "module",
    "function",
    "builtin_function_or_method",
    "instance",
    "_Feature"
   ],
   "window_display": false
  }
 },
 "nbformat": 4,
 "nbformat_minor": 2
}