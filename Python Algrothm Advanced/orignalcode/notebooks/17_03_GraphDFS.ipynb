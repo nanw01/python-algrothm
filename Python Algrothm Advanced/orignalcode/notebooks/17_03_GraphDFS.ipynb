{
 "cells": [
  {
   "cell_type": "markdown",
   "metadata": {},
   "source": [
    "# Graph III DFS #"
   ]
  },
  {
   "cell_type": "code",
   "execution_count": 1,
   "metadata": {
    "collapsed": true
   },
   "outputs": [],
   "source": [
    "from AdjListGraph import Graph\n",
    "from AdjListGraph import Vertex"
   ]
  },
  {
   "cell_type": "code",
   "execution_count": 2,
   "metadata": {},
   "outputs": [
    {
     "name": "stdout",
     "output_type": "stream",
     "text": [
      "[('a', 'b', 1), ('a', 'c', 1), ('a', 'f', 1), ('b', 'd', 1), ('b', 'e', 1), ('c', 'd', 1), ('c', 'e', 1), ('d', 'e', 1), ('e', 'a', 1)]\n",
      "('a', 'b', 1)\n",
      "('a', 'c', 1)\n",
      "('a', 'f', 1)\n",
      "('b', 'd', 1)\n",
      "('b', 'e', 1)\n",
      "('c', 'd', 1)\n",
      "('c', 'e', 1)\n",
      "('d', 'e', 1)\n",
      "('e', 'a', 1)\n"
     ]
    }
   ],
   "source": [
    "G = Graph(True)\n",
    "G.addVertex('a')\n",
    "G.addVertex('b')\n",
    "G.addVertex('c')\n",
    "G.addVertex('d')\n",
    "G.addVertex('e')\n",
    "G.addVertex('f')\n",
    "G.addEdge('a', 'b', 1)  \n",
    "G.addEdge('a', 'c', 1)\n",
    "G.addEdge('b', 'd', 1)\n",
    "G.addEdge('b', 'e', 1)\n",
    "G.addEdge('c', 'd', 1)\n",
    "G.addEdge('c', 'e', 1)\n",
    "G.addEdge('d', 'e', 1)\n",
    "G.addEdge('e', 'a', 1)\n",
    "G.addEdge('a', 'f', 1)\n",
    "print (G.getEdges())\n",
    "for k in G.getEdges():\n",
    "    print(k)"
   ]
  },
  {
   "cell_type": "code",
   "execution_count": 3,
   "metadata": {
    "collapsed": true
   },
   "outputs": [],
   "source": [
    "def dfs(G, currentVert, visited):\n",
    "    visited[currentVert] = True  # mark the visited node \n",
    "    print(\"traversal: \" + currentVert.getVertexID())\n",
    "    for nbr in currentVert.getConnections():  # take a neighbouring node \n",
    "        if nbr not in visited:  # condition to check whether the neighbour node is already visited\n",
    "            dfs(G, nbr, visited)  # recursively traverse the neighbouring node\n",
    "    return \n",
    " \n",
    "def DFSTraversal(G):\n",
    "    visited = {}  # Dictionary to mark the visited nodes \n",
    "    for currentVert in G:  # G contains vertex objects\n",
    "        if currentVert not in visited:  # Start traversing from the root node only if its not visited \n",
    "            dfs(G, currentVert, visited)  # For a connected graph this is called only onc"
   ]
  },
  {
   "cell_type": "code",
   "execution_count": 4,
   "metadata": {},
   "outputs": [
    {
     "name": "stdout",
     "output_type": "stream",
     "text": [
      "traversal: a\n",
      "traversal: b\n",
      "traversal: d\n",
      "traversal: e\n",
      "traversal: c\n",
      "traversal: f\n"
     ]
    }
   ],
   "source": [
    "DFSTraversal(G)"
   ]
  },
  {
   "cell_type": "code",
   "execution_count": 5,
   "metadata": {},
   "outputs": [
    {
     "name": "stdout",
     "output_type": "stream",
     "text": [
      "traversal: d\n",
      "traversal: e\n",
      "traversal: a\n",
      "traversal: b\n",
      "traversal: c\n",
      "traversal: f\n"
     ]
    }
   ],
   "source": [
    "visited = {}\n",
    "v = G.getVertex('d')\n",
    "dfs(G, v, visited)"
   ]
  },
  {
   "cell_type": "code",
   "execution_count": 11,
   "metadata": {
    "collapsed": true
   },
   "outputs": [],
   "source": [
    "def dfsIterative(G, start, dest):\n",
    "    stack = [] # vertex\n",
    "    visited = set() # vertex id\n",
    "    parent = {} # vertex id\n",
    "    stack.append(start)\n",
    "    while len(stack) != 0:\n",
    "        curr = stack.pop() # vertex\n",
    "        print(\"visiting \", curr.getVertexID())\n",
    "        if (curr.getVertexID() == dest.getVertexID()):\n",
    "            return parent\n",
    "        neighbors = G.getNeighbors(curr.getVertexID())\n",
    "        for n in neighbors:\n",
    "            id = n.getVertexID()\n",
    "            if id in visited: continue\n",
    "            visited.add(id)\n",
    "            parent[id] = curr.getVertexID()\n",
    "            stack.append(n)\n",
    "    return None"
   ]
  },
  {
   "cell_type": "code",
   "execution_count": 12,
   "metadata": {},
   "outputs": [
    {
     "name": "stdout",
     "output_type": "stream",
     "text": [
      "visiting  a\n",
      "visiting  f\n",
      "visiting  c\n",
      "visiting  e\n",
      "visiting  a\n",
      "visiting  d\n",
      "{'b': 'a', 'c': 'a', 'f': 'a', 'd': 'c', 'e': 'c', 'a': 'e'}\n"
     ]
    }
   ],
   "source": [
    "start = G.getVertex('a')\n",
    "dest = G.getVertex('d')\n",
    "parent = dfsIterative(G, start, dest)\n",
    "print(parent)"
   ]
  },
  {
   "cell_type": "code",
   "execution_count": 13,
   "metadata": {},
   "outputs": [
    {
     "name": "stdout",
     "output_type": "stream",
     "text": [
      "[('a', 'b', 1), ('a', 'c', 1), ('a', 'd', 1), ('d', 'e', 1), ('e', 'f', 1)]\n",
      "('a', 'b', 1)\n",
      "('a', 'c', 1)\n",
      "('a', 'd', 1)\n",
      "('d', 'e', 1)\n",
      "('e', 'f', 1)\n"
     ]
    }
   ],
   "source": [
    "G = Graph(True)\n",
    "G.addVertex('a')\n",
    "G.addVertex('b')\n",
    "G.addVertex('c')\n",
    "G.addVertex('d')\n",
    "G.addVertex('e')\n",
    "G.addVertex('f')\n",
    "G.addEdge('a', 'b', 1)  \n",
    "G.addEdge('a', 'c', 1)\n",
    "G.addEdge('a', 'd', 1)\n",
    "G.addEdge('d', 'e', 1)\n",
    "G.addEdge('e', 'f', 1)\n",
    "print (G.getEdges())\n",
    "for k in G.getEdges():\n",
    "    print(k)"
   ]
  },
  {
   "cell_type": "code",
   "execution_count": 14,
   "metadata": {},
   "outputs": [
    {
     "name": "stdout",
     "output_type": "stream",
     "text": [
      "visiting  a\n",
      "visiting  d\n",
      "{'b': 'a', 'c': 'a', 'd': 'a'}\n"
     ]
    }
   ],
   "source": [
    "start = G.getVertex('a')\n",
    "dest = G.getVertex('d')\n",
    "parent = dfsIterative(G, start, dest)\n",
    "print(parent)"
   ]
  },
  {
   "cell_type": "code",
   "execution_count": null,
   "metadata": {
    "collapsed": true
   },
   "outputs": [],
   "source": []
  },
  {
   "cell_type": "code",
   "execution_count": null,
   "metadata": {
    "collapsed": true
   },
   "outputs": [],
   "source": []
  }
 ],
 "metadata": {
  "kernelspec": {
   "display_name": "Python 3",
   "language": "python",
   "name": "python3"
  },
  "language_info": {
   "codemirror_mode": {
    "name": "ipython",
    "version": 3
   },
   "file_extension": ".py",
   "mimetype": "text/x-python",
   "name": "python",
   "nbconvert_exporter": "python",
   "pygments_lexer": "ipython3",
   "version": "3.6.1"
  }
 },
 "nbformat": 4,
 "nbformat_minor": 2
}
