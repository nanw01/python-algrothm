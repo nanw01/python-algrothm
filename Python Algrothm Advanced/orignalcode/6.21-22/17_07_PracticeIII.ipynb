{
 "cells": [
  {
   "cell_type": "markdown",
   "metadata": {},
   "source": [
    "# Graph Practice III #"
   ]
  },
  {
   "cell_type": "code",
   "execution_count": null,
   "metadata": {
    "collapsed": true
   },
   "outputs": [],
   "source": [
    "from AdjListGraph import Graph\n",
    "from AdjListGraph import Vertex"
   ]
  },
  {
   "cell_type": "markdown",
   "metadata": {},
   "source": [
    "### <a id='Ex1'>Ex.1 Is Graph Bipartite?</a>\n",
    "\n",
    "Given an undirected graph, return true if and only if it is bipartite.\n",
    "\n",
    "Recall that a graph is bipartite if we can split it's set of nodes into two independent subsets A and B such that every edge in the graph has one node in A and another node in B.\n",
    "\n",
    "The graph is given in the following form: graph[i] is a list of indexes j for which the edge between nodes i and j exists.  Each node is an integer between 0 and graph.length - 1.  There are no self edges or parallel edges: graph[i] does not contain i, and it doesn't contain any element twice.\n",
    "\n",
    "<img src=\"../images/ch17/bipartite1.png\" width=\"440\"/>\n",
    "<img src=\"../images/ch17/bipartite2.png\" width=\"540\"/>"
   ]
  },
  {
   "cell_type": "markdown",
   "metadata": {
    "collapsed": true
   },
   "source": [
    "** Solution **\n",
    "\n",
    "Our goal is trying to use two colors to color the graph and see if there are any adjacent nodes having the same color.\n",
    "Initialize a color[] array for each node. Here are three states for colors[] array:\n",
    "\n",
    "-1: Haven't been colored.\n",
    "\n",
    "0: Blue.\n",
    "\n",
    "1: Red.\n",
    "\n",
    "For each node,\n",
    "\n",
    "If it hasn’t been colored, use a color to color it. Then use the other color to color all its adjacent nodes (DFS).\n",
    "If it has been colored, check if the current color is the same as the color that is going to be used to color it. "
   ]
  },
  {
   "cell_type": "code",
   "execution_count": 1,
   "metadata": {
    "collapsed": true
   },
   "outputs": [],
   "source": [
    "def isBipartite(graph):\n",
    "    color = {}\n",
    "    def dfs(pos):\n",
    "        for i in graph[pos]:\n",
    "            if i in color:\n",
    "                if color[i] == color[pos]: return False\n",
    "            else:\n",
    "                color[i] = color[pos] ^ 1\n",
    "                if not dfs(i): return False\n",
    "        return True\n",
    "    \n",
    "    for i in range(len(graph)):\n",
    "        if i not in color: color[i] = 0\n",
    "        if not dfs(i): return False\n",
    "    return True"
   ]
  },
  {
   "cell_type": "code",
   "execution_count": 2,
   "metadata": {},
   "outputs": [
    {
     "data": {
      "text/plain": [
       "True"
      ]
     },
     "execution_count": 2,
     "metadata": {},
     "output_type": "execute_result"
    }
   ],
   "source": [
    "graph = [[1,3], [0,2], [1,3], [0,2]]\n",
    "isBipartite(graph)"
   ]
  },
  {
   "cell_type": "code",
   "execution_count": 3,
   "metadata": {},
   "outputs": [
    {
     "data": {
      "text/plain": [
       "False"
      ]
     },
     "execution_count": 3,
     "metadata": {},
     "output_type": "execute_result"
    }
   ],
   "source": [
    "graph = [[1,2,3], [0,2], [0,1,3], [0,2]]\n",
    "isBipartite(graph)"
   ]
  },
  {
   "cell_type": "code",
   "execution_count": null,
   "metadata": {
    "collapsed": true
   },
   "outputs": [],
   "source": []
  },
  {
   "cell_type": "markdown",
   "metadata": {},
   "source": [
    "### <a id='Ex2'>Ex.2 Pacific Atlantic Water Flow</a>\n",
    "\n",
    "Given an m x n matrix of non-negative integers representing the height of each unit cell in a continent, the \"Pacific ocean\" touches the left and top edges of the matrix and the \"Atlantic ocean\" touches the right and bottom edges.\n",
    "\n",
    "Water can only flow in four directions (up, down, left, or right) from a cell to another one with height equal or lower.\n",
    "\n",
    "Find the list of grid coordinates where water can flow to both the Pacific and Atlantic ocean.\n",
    "\n",
    "<img src=\"../images/ch17/ocean.png\" width=\"740\"/>"
   ]
  },
  {
   "cell_type": "code",
   "execution_count": 4,
   "metadata": {
    "collapsed": true
   },
   "outputs": [],
   "source": [
    "def pacificAtlantic(matrix):\n",
    "\n",
    "    if not matrix: return []\n",
    "    directions = [(1,0),(-1,0),(0,1),(0,-1)]\n",
    "    m = len(matrix)\n",
    "    n = len(matrix[0])\n",
    "    p_visited = [[False for _ in range(n)] for _ in range(m)]\n",
    "\n",
    "    a_visited = [[False for _ in range(n)] for _ in range(m)]\n",
    "    result = []\n",
    "\n",
    "    for i in range(m):\n",
    "        # p_visited[i][0] = True\n",
    "        # a_visited[i][n-1] = True\n",
    "        dfs(matrix, i, 0, p_visited, m, n)\n",
    "        dfs(matrix, i, n-1, a_visited, m, n)\n",
    "    for j in range(n):\n",
    "        # p_visited[0][j] = True\n",
    "        # a_visited[m-1][j] = True\n",
    "        dfs(matrix, 0, j, p_visited, m, n)\n",
    "        dfs(matrix, m-1, j, a_visited, m, n)\n",
    "\n",
    "    for i in range(m):\n",
    "        for j in range(n):\n",
    "            if p_visited[i][j] and a_visited[i][j]:\n",
    "                result.append([i,j])\n",
    "    return result\n",
    "\n",
    "\n",
    "def dfs(matrix, i, j, visited, m, n):\n",
    "    # when dfs called, meaning its caller already verified this point \n",
    "    visited[i][j] = True\n",
    "    for dir in [(1,0),(-1,0),(0,1),(0,-1)]:\n",
    "        x, y = i + dir[0], j + dir[1]\n",
    "        if x < 0 or x >= m or y < 0 or y >= n or visited[x][y] or matrix[x][y] < matrix[i][j]:\n",
    "            continue\n",
    "        dfs(matrix, x, y, visited, m, n)"
   ]
  },
  {
   "cell_type": "code",
   "execution_count": 7,
   "metadata": {},
   "outputs": [
    {
     "data": {
      "text/plain": [
       "[[0, 4], [1, 3], [1, 4], [2, 2], [3, 0], [3, 1], [4, 0]]"
      ]
     },
     "execution_count": 7,
     "metadata": {},
     "output_type": "execute_result"
    }
   ],
   "source": [
    "matrix = [\n",
    "    [1,2,2,3,4],\n",
    "    [3,2,3,4,4],\n",
    "    [2,4,5,3,1],\n",
    "    [6,7,1,4,5],\n",
    "    [5,1,1,2,4]\n",
    "]\n",
    "pacificAtlantic(matrix)"
   ]
  },
  {
   "cell_type": "code",
   "execution_count": null,
   "metadata": {
    "collapsed": true
   },
   "outputs": [],
   "source": []
  },
  {
   "cell_type": "code",
   "execution_count": 10,
   "metadata": {
    "collapsed": true
   },
   "outputs": [],
   "source": [
    "from collections import deque\n",
    "def pacificAtlantic(matrix):\n",
    "    if not matrix: return []\n",
    "    m, n = len(matrix), len(matrix[0])\n",
    "    def bfs(reachable_ocean):\n",
    "        q = deque(reachable_ocean)\n",
    "        while q:\n",
    "            (i, j) = q.popleft()\n",
    "            for (di, dj) in [(0,1), (0, -1), (1, 0), (-1, 0)]:\n",
    "                if 0 <= di+i < m and 0 <= dj+j < n and (di+i, dj+j) not in reachable_ocean \\\n",
    "                    and matrix[di+i][dj+j] >= matrix[i][j]:\n",
    "                    q.append( (di+i,dj+j) )\n",
    "                    reachable_ocean.add( (di+i, dj+j) )\n",
    "        return reachable_ocean         \n",
    "    pacific  =set ( [ (i, 0) for i in range(m)]   + [(0, j) for j  in range(1, n)]) \n",
    "    atlantic =set ( [ (i, n-1) for i in range(m)] + [(m-1, j) for j in range(n-1)]) \n",
    "    return list( bfs(pacific) & bfs(atlantic) )"
   ]
  },
  {
   "cell_type": "code",
   "execution_count": 11,
   "metadata": {},
   "outputs": [
    {
     "data": {
      "text/plain": [
       "[(1, 3), (3, 0), (3, 1), (1, 4), (0, 4), (2, 2), (4, 0)]"
      ]
     },
     "execution_count": 11,
     "metadata": {},
     "output_type": "execute_result"
    }
   ],
   "source": [
    "pacificAtlantic(matrix)"
   ]
  },
  {
   "cell_type": "code",
   "execution_count": null,
   "metadata": {
    "collapsed": true
   },
   "outputs": [],
   "source": []
  },
  {
   "cell_type": "markdown",
   "metadata": {},
   "source": [
    "### <a id='Ex3'>Ex.3 Longest Increasing Path in a Matrix</a>\n",
    "\n",
    "Given an integer matrix, find the length of the longest increasing path.\n",
    "\n",
    "From each cell, you can either move to four directions: left, right, up or down. You may NOT move diagonally or move outside of the boundary (i.e. wrap-around is not allowed).\n",
    "\n",
    "<img src=\"../images/ch17/longest1.png\" width=\"100\"/>\n",
    "<img src=\"../images/ch17/longest2.png\" width=\"100\"/>"
   ]
  },
  {
   "cell_type": "code",
   "execution_count": 21,
   "metadata": {
    "collapsed": true
   },
   "outputs": [],
   "source": [
    "def longestIncreasingPath(matrix):\n",
    "    if not matrix: return 0\n",
    "    directions = [(1,0),(-1,0),(0,1),(0,-1)]\n",
    "    m = len(matrix)\n",
    "    n = len(matrix[0])\n",
    "    cache = [[-1 for _ in range(n)] for _ in range(m)]\n",
    "    res = 0\n",
    "    for i in range(m):\n",
    "        for j in range(n):\n",
    "            cur_len = dfs(i, j, matrix, cache, m, n)\n",
    "            res = max(res, cur_len)\n",
    "    return res\n",
    "\n",
    "def dfs(i, j, matrix, cache, m, n):\n",
    "    if cache[i][j] != -1:\n",
    "        return cache[i][j]\n",
    "    res = 1\n",
    "    for direction in [(1,0),(-1,0),(0,1),(0,-1)]:\n",
    "        x, y = i + direction[0], j + direction[1]\n",
    "        if x < 0 or x >= m or y < 0 or y >= n or matrix[x][y] <= matrix[i][j]:\n",
    "            continue\n",
    "        length = 1 + dfs(x, y, matrix, cache, m, n)\n",
    "        res = max(length, res)\n",
    "    cache[i][j] = res\n",
    "    return res"
   ]
  },
  {
   "cell_type": "code",
   "execution_count": 24,
   "metadata": {},
   "outputs": [
    {
     "data": {
      "text/plain": [
       "4"
      ]
     },
     "execution_count": 24,
     "metadata": {},
     "output_type": "execute_result"
    }
   ],
   "source": [
    "nums = [\n",
    "  [9,9,4],\n",
    "  [6,6,8],\n",
    "  [2,1,1]\n",
    "]\n",
    "longestIncreasingPath(nums)"
   ]
  },
  {
   "cell_type": "code",
   "execution_count": 26,
   "metadata": {},
   "outputs": [
    {
     "data": {
      "text/plain": [
       "6"
      ]
     },
     "execution_count": 26,
     "metadata": {},
     "output_type": "execute_result"
    }
   ],
   "source": [
    "nums = [\n",
    "  [8,4,5],\n",
    "  [3,9,6],\n",
    "  [2,8,7]\n",
    "]\n",
    "longestIncreasingPath(nums)"
   ]
  },
  {
   "cell_type": "code",
   "execution_count": null,
   "metadata": {
    "collapsed": true
   },
   "outputs": [],
   "source": []
  },
  {
   "cell_type": "markdown",
   "metadata": {},
   "source": [
    "### <a id='Ex4'>Ex.4 01 Matrix</a>\n",
    "\n",
    "Given a matrix consists of 0 and 1, find the distance of the nearest 0 for each cell.\n",
    "\n",
    "The distance between two adjacent cells is 1.\n",
    "\n",
    "Example 1: \n",
    "\n",
    "Input:\n",
    "\n",
    "0 0 0\n",
    "\n",
    "0 1 0\n",
    "\n",
    "0 0 0\n",
    "\n",
    "Output:\n",
    "\n",
    "0 0 0\n",
    "\n",
    "0 1 0\n",
    "\n",
    "0 0 0\n",
    "\n",
    "Example 2: \n",
    "\n",
    "Input:\n",
    "\n",
    "0 0 0\n",
    "\n",
    "0 1 0\n",
    "\n",
    "1 1 1\n",
    "\n",
    "Output:\n",
    "\n",
    "0 0 0\n",
    "\n",
    "0 1 0\n",
    "\n",
    "1 2 1"
   ]
  },
  {
   "cell_type": "code",
   "execution_count": 28,
   "metadata": {
    "collapsed": true
   },
   "outputs": [],
   "source": [
    "def updateMatrix(matrix):\n",
    "    q, m, n = [], len(matrix), len(matrix[0])\n",
    "    for i in range(m):\n",
    "        for j in range(n):\n",
    "            if matrix[i][j] != 0:\n",
    "                matrix[i][j] = 0x7fffffff\n",
    "            else:\n",
    "                q.append((i, j))\n",
    "    for i, j in q:\n",
    "        for r, c in ((i, 1+j), (i, j-1), (i+1, j), (i-1, j)):\n",
    "            z = matrix[i][j] + 1\n",
    "            if 0 <= r < m and 0 <= c < n and matrix[r][c] > z:\n",
    "                matrix[r][c] = z\n",
    "                q.append((r, c))\n",
    "    return matrix"
   ]
  },
  {
   "cell_type": "code",
   "execution_count": 29,
   "metadata": {},
   "outputs": [
    {
     "data": {
      "text/plain": [
       "[[0, 0, 0], [0, 1, 0], [0, 0, 0]]"
      ]
     },
     "execution_count": 29,
     "metadata": {},
     "output_type": "execute_result"
    }
   ],
   "source": [
    "matrix = [\n",
    "    [0, 0, 0],\n",
    "    [0, 1, 0],\n",
    "    [0, 0, 0],\n",
    "]\n",
    "updateMatrix(matrix)"
   ]
  },
  {
   "cell_type": "code",
   "execution_count": 30,
   "metadata": {},
   "outputs": [
    {
     "data": {
      "text/plain": [
       "[[0, 0, 0], [0, 1, 0], [1, 2, 1]]"
      ]
     },
     "execution_count": 30,
     "metadata": {},
     "output_type": "execute_result"
    }
   ],
   "source": [
    "matrix = [\n",
    "    [0, 0, 0],\n",
    "    [0, 1, 0],\n",
    "    [1, 1, 1],\n",
    "]\n",
    "updateMatrix(matrix)"
   ]
  },
  {
   "cell_type": "code",
   "execution_count": null,
   "metadata": {
    "collapsed": true
   },
   "outputs": [],
   "source": []
  },
  {
   "cell_type": "code",
   "execution_count": 8,
   "metadata": {
    "collapsed": true
   },
   "outputs": [],
   "source": [
    "def updateMatrix2(matrix):\n",
    "    def DP(i, j, m, n, dp):\n",
    "        if i > 0: dp[i][j] = min(dp[i][j], dp[i - 1][j] + 1)\n",
    "        if j > 0: dp[i][j] = min(dp[i][j], dp[i][j - 1] + 1)\n",
    "        if i < m - 1: dp[i][j] = min(dp[i][j], dp[i + 1][j] + 1)\n",
    "        if j < n - 1: dp[i][j] = min(dp[i][j], dp[i][j + 1] + 1)\n",
    "            \n",
    "    if not matrix: return [[]]\n",
    "    m, n = len(matrix), len(matrix[0])\n",
    "    dp = [[0x7fffffff if matrix[i][j] != 0 else 0 for j in range(n)] for i in range(m)]\n",
    "    for i in range(m):\n",
    "        for j in range(n):\n",
    "            DP(i, j, m, n, dp)\n",
    "\n",
    "    for i in range(m - 1, -1, -1):\n",
    "        for j in range(n - 1, -1, -1):\n",
    "            DP(i, j, m, n, dp)\n",
    "\n",
    "    return dp\n",
    "\n"
   ]
  },
  {
   "cell_type": "code",
   "execution_count": 9,
   "metadata": {},
   "outputs": [
    {
     "data": {
      "text/plain": [
       "[[0, 0, 0], [0, 1, 0], [0, 0, 0]]"
      ]
     },
     "execution_count": 9,
     "metadata": {},
     "output_type": "execute_result"
    }
   ],
   "source": [
    "matrix = [\n",
    "    [0, 0, 0],\n",
    "    [0, 1, 0],\n",
    "    [0, 0, 0],\n",
    "]\n",
    "updateMatrix2(matrix)"
   ]
  },
  {
   "cell_type": "code",
   "execution_count": 10,
   "metadata": {},
   "outputs": [
    {
     "data": {
      "text/plain": [
       "[[0, 0, 0], [0, 1, 0], [1, 2, 1]]"
      ]
     },
     "execution_count": 10,
     "metadata": {},
     "output_type": "execute_result"
    }
   ],
   "source": [
    "matrix = [\n",
    "    [0, 0, 0],\n",
    "    [0, 1, 0],\n",
    "    [1, 1, 1],\n",
    "]\n",
    "updateMatrix2(matrix)"
   ]
  },
  {
   "cell_type": "code",
   "execution_count": null,
   "metadata": {
    "collapsed": true
   },
   "outputs": [],
   "source": []
  }
 ],
 "metadata": {
  "kernelspec": {
   "display_name": "Python 3",
   "language": "python",
   "name": "python3"
  },
  "language_info": {
   "codemirror_mode": {
    "name": "ipython",
    "version": 3
   },
   "file_extension": ".py",
   "mimetype": "text/x-python",
   "name": "python",
   "nbconvert_exporter": "python",
   "pygments_lexer": "ipython3",
   "version": "3.6.1"
  }
 },
 "nbformat": 4,
 "nbformat_minor": 2
}
