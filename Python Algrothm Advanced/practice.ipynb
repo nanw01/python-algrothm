{
 "metadata": {
  "language_info": {
   "codemirror_mode": {
    "name": "ipython",
    "version": 3
   },
   "file_extension": ".py",
   "mimetype": "text/x-python",
   "name": "python",
   "nbconvert_exporter": "python",
   "pygments_lexer": "ipython3",
   "version": "3.8.3-final"
  },
  "orig_nbformat": 2,
  "kernelspec": {
   "name": "python3",
   "display_name": "Python 3",
   "language": "python"
  }
 },
 "nbformat": 4,
 "nbformat_minor": 2,
 "cells": [
  {
   "cell_type": "code",
   "execution_count": 15,
   "metadata": {
    "tags": []
   },
   "outputs": [
    {
     "output_type": "stream",
     "name": "stdout",
     "text": [
      "1 * 1 = 1  \n2 * 1 = 2  2 * 2 = 4  \n3 * 1 = 3  3 * 2 = 6  3 * 3 = 9  \n4 * 1 = 4  4 * 2 = 8  4 * 3 = 12  4 * 4 = 16  \n5 * 1 = 5  5 * 2 = 10  5 * 3 = 15  5 * 4 = 20  5 * 5 = 25  \n6 * 1 = 6  6 * 2 = 12  6 * 3 = 18  6 * 4 = 24  6 * 5 = 30  6 * 6 = 36  \n7 * 1 = 7  7 * 2 = 14  7 * 3 = 21  7 * 4 = 28  7 * 5 = 35  7 * 6 = 42  7 * 7 = 49  \n8 * 1 = 8  8 * 2 = 16  8 * 3 = 24  8 * 4 = 32  8 * 5 = 40  8 * 6 = 48  8 * 7 = 56  8 * 8 = 64  \n9 * 1 = 9  9 * 2 = 18  9 * 3 = 27  9 * 4 = 36  9 * 5 = 45  9 * 6 = 54  9 * 7 = 63  9 * 8 = 72  9 * 9 = 81  \n"
     ]
    }
   ],
   "source": [
    "# 乘法口诀\n",
    "def mults():\n",
    "\n",
    "    for i in range(9):\n",
    "        for j in range(9):\n",
    "            if i <j:\n",
    "                break\n",
    "            print(f'{i+1} * {j+1} = {(i+1)*(j+1)}', end='  ')\n",
    "        print()\n",
    "\n",
    "\n",
    "mults()"
   ]
  },
  {
   "cell_type": "code",
   "execution_count": 39,
   "metadata": {},
   "outputs": [
    {
     "output_type": "execute_result",
     "data": {
      "text/plain": [
       "[5, 2, 6, 1, 4, 0, 7, 8, 9, 3]"
      ]
     },
     "metadata": {},
     "execution_count": 39
    }
   ],
   "source": [
    "# 洗牌\n",
    "import random\n",
    "def shuffle(cards):\n",
    "    for i in range(len(cards)):\n",
    "        j = i+ random.randint(0,len(cards)-i-1)\n",
    "        cards[i],cards[j] = cards[j] ,cards[i]\n",
    "    return cards\n",
    "\n",
    "shuffle([1,2,3,4,5,6,7,8,9,0])"
   ]
  },
  {
   "cell_type": "code",
   "execution_count": 45,
   "metadata": {},
   "outputs": [
    {
     "output_type": "stream",
     "name": "stdout",
     "text": [
      "2 3 5 7 11 13 17 19 23 29 31 37 41 43 47 53 59 61 67 71 73 79 83 89 97 "
     ]
    },
    {
     "output_type": "execute_result",
     "data": {
      "text/plain": [
       "25"
      ]
     },
     "metadata": {},
     "execution_count": 45
    }
   ],
   "source": [
    "# 数质数\n",
    "def count_prime(n):\n",
    "    prime_arary = [True]*(n+1)\n",
    "    i=2\n",
    "    while i*i<=n:\n",
    "        if prime_arary[i]:\n",
    "            j=i\n",
    "            while(i*j<=n):\n",
    "                prime_arary[i*j] = False\n",
    "                j=j+1\n",
    "        i+=1\n",
    "    count = 0\n",
    "    for i in range(2,n+1):\n",
    "        if prime_arary[i]:\n",
    "            count+=1\n",
    "            print(i,end=' ')\n",
    "    return count\n",
    "\n",
    "count_prime(100)"
   ]
  },
  {
   "cell_type": "code",
   "execution_count": 27,
   "metadata": {},
   "outputs": [
    {
     "output_type": "stream",
     "name": "stdout",
     "text": [
      "* . * . . . . . . . \n* . . . . . . * . * \n* . . . * . * * * * \n. . * . . * . . * * \n* * * * . * . * . . \n\n* 3 * 1 0 0 1 1 2 1 \n* 4 1 2 1 2 3 * 5 * \n* 3 1 2 * 3 * * * * \n3 5 * 4 4 * 5 5 * * \n* * * * 3 * 3 * 3 2 \n"
     ]
    }
   ],
   "source": [
    "# EX1: 扫雷游戏\n",
    "from random import random\n",
    "def minesweeper(m,n,p):\n",
    "    # 创建棋盘\n",
    "    board = [[None]*(n+2) for i in range(m+2)]\n",
    "\n",
    "    # 生成点\n",
    "    for i in range(1,1+m):\n",
    "        for j in range(1,1+n):\n",
    "            r = random()\n",
    "            board[i][j] = -1 if r<p else 0\n",
    "\n",
    "    # 显示器盘\n",
    "    for i in range(1,1+m):\n",
    "        for j in range(1,1+n):\n",
    "            print('*',end=' ') if board[i][j] == -1 else print('.',end=' ')\n",
    "        print()\n",
    "    print()\n",
    "    \n",
    "    # 计算有几个雷\n",
    "    for i in range(1,1+m):\n",
    "        for j in range(1,1+n):\n",
    "            if board[i][j] != -1:\n",
    "                for ii in range(i-1,i+2):\n",
    "                    for jj in range(j-1,j+2):\n",
    "                        if board[ii][jj] == -1:\n",
    "                            board[i][j]+=1\n",
    "    # for i in range(1,1+m):\n",
    "    #     for j in range(1,1+n):\n",
    "    #         print(board[i][j],end=' ') \n",
    "    #     print()\n",
    "    # print()\n",
    "\n",
    "    # 打印棋盘\n",
    "    for i in range(1,1+m):\n",
    "        for j in range(1,1+n):\n",
    "            print(board[i][j],end=' ') if board[i][j] != -1 else print('*',end=' ')\n",
    "        print()\n",
    "\n",
    "minesweeper(5, 10, 0.5)"
   ]
  },
  {
   "cell_type": "code",
   "execution_count": 31,
   "metadata": {},
   "outputs": [
    {
     "output_type": "stream",
     "name": "stdout",
     "text": [
      "[1, 1, 1, 1, 1, 0, 1, 1, 1, 1]\n[1, 1, 1, 1, 1, 1, 1, 1, 1, 1]\n[1, 1, 0, 1, 1, 1, 1, 1, 1, 1]\n[1, 1, 1, 1, 1, 1, 1, 1, 1, 1]\n[1, 1, 1, 1, 1, 1, 1, 1, 1, 1]\n\n[0, 0, 0, 0, 0, 0, 0, 0, 0, 0]\n[1, 1, 0, 1, 1, 0, 1, 1, 1, 1]\n[0, 0, 0, 0, 0, 0, 0, 0, 0, 0]\n[1, 1, 0, 1, 1, 0, 1, 1, 1, 1]\n[1, 1, 0, 1, 1, 0, 1, 1, 1, 1]\n"
     ]
    }
   ],
   "source": [
    "# 矩阵变换\n",
    "def zero(matrix):\n",
    "    m = [None]*len(matrix)\n",
    "    n = [None]*len(matrix[0])\n",
    "    for i in range(len(matrix)):\n",
    "        for j in range(len(matrix[0])):\n",
    "            if matrix[i][j] == 0:\n",
    "                m[i],n[j]=1,1\n",
    "\n",
    "    for i in range(len(matrix)):\n",
    "        for j in range(len(matrix[0])):\n",
    "            if m[i]==1 or n[j]==1:\n",
    "                matrix[i][j]=0\n",
    "\n",
    "matrix = [  [ 1, 1, 1, 1, 1, 0, 1, 1, 1, 1 ],\n",
    "            [ 1, 1, 1, 1, 1, 1, 1, 1, 1, 1 ],\n",
    "            [ 1, 1, 0, 1, 1, 1, 1, 1, 1, 1 ],\n",
    "            [ 1, 1, 1, 1, 1, 1, 1, 1, 1, 1 ],\n",
    "            [ 1, 1, 1, 1, 1, 1, 1, 1, 1, 1 ]  ]\n",
    "for x in matrix:\n",
    "    print(x, sep=\" \")\n",
    "print()\n",
    "zero(matrix)\n",
    "for x in matrix:\n",
    "    print(x, sep=\" \")"
   ]
  },
  {
   "cell_type": "code",
   "execution_count": null,
   "metadata": {},
   "outputs": [],
   "source": [
    "\n",
    "# 验证数独\n",
    "def sudoku(matrix):\n",
    "    # 验证行\n",
    "    res_rows = res_col = res_block = 0\n",
    "    for i in range(len(matrix)):\n",
    "        if sum(matrix[i]) ==sum([1:9]):\n",
    "            \n",
    "\n",
    "\n",
    "    \n",
    "    \n",
    "    # 验证列\n",
    "    \n",
    "    \n",
    "    \n",
    "    \n",
    "    \n",
    "    # 验证块\n",
    "\n",
    "\n",
    "\n",
    "\n",
    "\n",
    "\n",
    "\n",
    "\n",
    "\n",
    "\n",
    "matrix = [\n",
    "    [5,3,4,6,7,8,9,1,2],\n",
    "    [6,7,2,1,9,5,3,4,8],\n",
    "    [1,9,8,3,4,2,5,6,7],\n",
    "    [8,5,9,7,6,1,4,2,3],\n",
    "    [4,2,6,8,5,3,7,9,1],\n",
    "    [7,1,3,9,2,4,8,5,6],\n",
    "    [9,6,1,5,3,7,2,8,4],\n",
    "    [2,8,7,4,1,9,6,3,5],\n",
    "    [3,4,5,2,8,6,1,7,9]\n",
    "]\n",
    "\n",
    "sudoku(matrix)"
   ]
  },
  {
   "cell_type": "code",
   "execution_count": 50,
   "metadata": {},
   "outputs": [
    {
     "output_type": "execute_result",
     "data": {
      "text/plain": [
       "[[0, 1, 2, 3, 4],\n",
       " [5, 6, 7, 8, 9],\n",
       " [10, 11, 12, 13, 14],\n",
       " [15, 16, 17, 18, 19],\n",
       " [20, 21, 22, 23, 24]]"
      ]
     },
     "metadata": {},
     "execution_count": 50
    }
   ],
   "source": [
    "# Ex5:旋转数组\n",
    "def rotate(matrix):\n",
    "    n = len(matrix)\n",
    "    result = [[0]*n for i in range(n)]\n",
    "\n",
    "    for i in range(n):\n",
    "        for j in range(n):\n",
    "            result [j][n-1-i]=matrix[i][j]\n",
    "    \n",
    "    for x in result:\n",
    "        print(x,sep=' ')\n",
    "\n",
    "matrix = [[i*5+j for j in range(5)] for i in range(5)]\n",
    "matrix\n"
   ]
  },
  {
   "cell_type": "code",
   "execution_count": 51,
   "metadata": {},
   "outputs": [
    {
     "output_type": "stream",
     "name": "stdout",
     "text": [
      "[20, 15, 10, 5, 0]\n[21, 16, 11, 6, 1]\n[22, 17, 12, 7, 2]\n[23, 18, 13, 8, 3]\n[24, 19, 14, 9, 4]\n"
     ]
    }
   ],
   "source": [
    "rotate(matrix)"
   ]
  },
  {
   "cell_type": "code",
   "execution_count": 52,
   "metadata": {},
   "outputs": [
    {
     "output_type": "execute_result",
     "data": {
      "text/plain": [
       "'olleh'"
      ]
     },
     "metadata": {},
     "execution_count": 52
    }
   ],
   "source": [
    "# Ex6: 反转字符串\n",
    "def reverse(s):\n",
    "    return s[::-1]\n",
    "s = \"hello\"\n",
    "r = reverse(s) # O(n)\n",
    "r"
   ]
  },
  {
   "cell_type": "code",
   "execution_count": 58,
   "metadata": {},
   "outputs": [
    {
     "output_type": "execute_result",
     "data": {
      "text/plain": [
       "'olleh'"
      ]
     },
     "metadata": {},
     "execution_count": 58
    }
   ],
   "source": [
    "def reverse2(s):\n",
    "    lst = list(s)\n",
    "    for i in range(len(lst)//2):\n",
    "        lst[i],lst[len(s)-1-i] = lst[len(s)-1-i],lst[i]\n",
    "\n",
    "    return ''.join(lst)\n",
    "s = \"hello\"\n",
    "r = reverse2(s)\n",
    "r"
   ]
  },
  {
   "cell_type": "code",
   "execution_count": 59,
   "metadata": {},
   "outputs": [
    {
     "output_type": "execute_result",
     "data": {
      "text/plain": [
       "5"
      ]
     },
     "metadata": {},
     "execution_count": 59
    }
   ],
   "source": [
    "# Ex7:最长子字符串\n",
    "def find_consecutive_ones(nums):\n",
    "    local = maximum = 0\n",
    "    for i in nums:\n",
    "        local = local +1 if i ==1 else 0\n",
    "        maximum = max(local,maximum)\n",
    "    return maximum\n",
    "nums = [1,1,0,1,1,1,1,1,0,0,0,0,0,1,1,1,0,0,1]\n",
    "result = find_consecutive_ones(nums)\n",
    "result"
   ]
  },
  {
   "cell_type": "code",
   "execution_count": 62,
   "metadata": {},
   "outputs": [
    {
     "output_type": "execute_result",
     "data": {
      "text/plain": [
       "3"
      ]
     },
     "metadata": {},
     "execution_count": 62
    }
   ],
   "source": [
    "# 最大数\n",
    "def largest_twice(nums):\n",
    "    maxmum=second=idx = 0\n",
    "    for i in range(len(nums)):\n",
    "        if maxmum<nums[i]:\n",
    "            second = maxmum\n",
    "            maxmum = nums[i]\n",
    "            idx = i\n",
    "        elif second < nums[i]:\n",
    "            second = nums[i]\n",
    "    return idx if (maxmum >= second * 2) else -1\n",
    "\n",
    "\n",
    "\n",
    "nums = [1, 2,3,8,3,2,1]\n",
    "result = largest_twice(nums)\n",
    "result"
   ]
  },
  {
   "cell_type": "code",
   "execution_count": 65,
   "metadata": {},
   "outputs": [
    {
     "output_type": "stream",
     "name": "stdout",
     "text": [
      "[5, 6]\n[5, 6]\n"
     ]
    }
   ],
   "source": [
    "# Ex9 find all nums disappeared in an array\n",
    "\n",
    "# 慢\n",
    "def findDisappearedNumbers1(nums):\n",
    "    result=[]\n",
    "    for i in range(1,len(nums)+1):\n",
    "        if i not in nums:\n",
    "            result.append(i)\n",
    "    return result\n",
    "\n",
    "# 快\n",
    "def findDisappearedNumbers2(nums):\n",
    "    for i in range(len(nums)):\n",
    "        index = abs(nums[i])-1\n",
    "        nums[index] = -abs(nums[index])\n",
    "    return[i+1 for i in range(len(nums)) if nums[i]>0]\n",
    "\n",
    "\n",
    "nums = [4,3,2,7,8,2,3,1]\n",
    "print(findDisappearedNumbers1(nums))\n",
    "print(findDisappearedNumbers2(nums))"
   ]
  },
  {
   "cell_type": "code",
   "execution_count": 69,
   "metadata": {},
   "outputs": [
    {
     "output_type": "stream",
     "name": "stdout",
     "text": [
      "[1, 3, 0]\n[1, 0, 0, 0]\n"
     ]
    }
   ],
   "source": [
    "# Ex10 plus one\n",
    "def plusOne(digits):\n",
    "    if len(digits)==0:\n",
    "        return -1\n",
    "    addCarry = 1\n",
    "    for i in range(len(digits)-1,-1,-1):\n",
    "        digits[i]+= addCarry\n",
    "        if digits[i]==10:\n",
    "            digits[i]=0\n",
    "            if i ==0:\n",
    "                digits.insert(0,1)\n",
    "        else:\n",
    "            break\n",
    "    return digits\n",
    "\n",
    "\n",
    "digits = [1, 2, 9]\n",
    "print(plusOne(digits))\n",
    "digits = [9, 9, 9]\n",
    "print(plusOne(digits))\n"
   ]
  },
  {
   "cell_type": "code",
   "execution_count": 1,
   "metadata": {},
   "outputs": [
    {
     "output_type": "execute_result",
     "data": {
      "text/plain": [
       "55"
      ]
     },
     "metadata": {},
     "execution_count": 1
    }
   ],
   "source": [
    "# Recursion\n",
    "def mysum_recursive(n):\n",
    "    if n ==0:\n",
    "        return 0\n",
    "    return n+mysum_recursive(n-1)\n",
    "\n",
    "result = mysum_recursive(10)\n",
    "result\n"
   ]
  },
  {
   "cell_type": "code",
   "execution_count": 3,
   "metadata": {},
   "outputs": [
    {
     "output_type": "execute_result",
     "data": {
      "text/plain": [
       "120"
      ]
     },
     "metadata": {},
     "execution_count": 3
    }
   ],
   "source": [
    "def factorial(n):\n",
    "    if n ==1 or n==0:\n",
    "        return 1\n",
    "    return n* factorial(n-1)\n",
    "factorial(5)"
   ]
  },
  {
   "cell_type": "code",
   "execution_count": 6,
   "metadata": {},
   "outputs": [
    {
     "output_type": "execute_result",
     "data": {
      "text/plain": [
       "102334155"
      ]
     },
     "metadata": {},
     "execution_count": 6
    }
   ],
   "source": [
    "def fibonacci(n):\n",
    "    assert n>0\n",
    "    if n<=1:\n",
    "        return (n,0)\n",
    "    (a,b) = fibonacci(n-1)\n",
    "    return (a+b,a)\n",
    "\n",
    "fibonacci(40)[0]"
   ]
  },
  {
   "cell_type": "code",
   "execution_count": 8,
   "metadata": {},
   "outputs": [
    {
     "output_type": "stream",
     "name": "stdout",
     "text": [
      "101 = (((5+1)*2*2+1)*2*2+1)\n"
     ]
    }
   ],
   "source": [
    "# Ex5 数学表达式\n",
    "def intSeq(a,b):\n",
    "\n",
    "    if a==b:\n",
    "        return str(a)\n",
    "\n",
    "    if b%2 ==1:\n",
    "        return '('+intSeq(a,b-1)+'+1)'\n",
    "    \n",
    "    if b< a*2:\n",
    "        return '('+intSeq(a,b-1)+'+1)'\n",
    "    \n",
    "    return intSeq(a,b/2)+'*2'\n",
    "\n",
    "\n",
    "a = 5;\n",
    "b = 101;\n",
    "print(str(b) + \" = \" + intSeq(a, b))"
   ]
  },
  {
   "cell_type": "code",
   "execution_count": null,
   "metadata": {},
   "outputs": [],
   "source": [
    "# Ex6 汉诺塔\n",
    "\n",
    "def hanoi(n,start,end,by):\n",
    "    \n"
   ]
  },
  {
   "cell_type": "code",
   "execution_count": 9,
   "metadata": {},
   "outputs": [
    {
     "output_type": "stream",
     "name": "stdout",
     "text": [
      "[[], [1], [2], [1, 2], [3], [1, 3], [2, 3], [1, 2, 3]]\n"
     ]
    }
   ],
   "source": [
    "# subset\n",
    "# 所有的子集\n",
    "# 普通解法\n",
    "def subsets(nums):\n",
    "    result = [[]]\n",
    "    for i in nums:\n",
    "        for j in result[:]:\n",
    "            x =j[:]\n",
    "            x.append(i)\n",
    "            result.append(x)\n",
    "    return result\n",
    "\n",
    "nums = [1, 2, 3]\n",
    "print(subsets(nums))\n"
   ]
  },
  {
   "cell_type": "code",
   "execution_count": 3,
   "metadata": {},
   "outputs": [
    {
     "output_type": "stream",
     "name": "stdout",
     "text": [
      "[[], ['a'], ['a', 'b'], ['a', 'b', 'c'], ['a', 'c'], ['b'], ['b', 'c'], ['c']]\n"
     ]
    }
   ],
   "source": [
    "# recursion vision\n",
    "# 所有子集\n",
    "def subsets(nums):\n",
    "    lst=[]\n",
    "    result = []\n",
    "    subsets_recursive_helper(result,lst,nums,0)\n",
    "    return result\n",
    "\n",
    "def subsets_recursive_helper(result,lst,nums,pos):\n",
    "    result.append(lst[:])\n",
    "    for i in range(pos,len(nums)):\n",
    "        lst.append(nums[i])\n",
    "        subsets_recursive_helper(result,lst,nums,i+1)\n",
    "        lst.pop()\n",
    "\n",
    "\n",
    "\n",
    "nums = ['a','b','c']\n",
    "print(subsets(nums))"
   ]
  },
  {
   "cell_type": "code",
   "execution_count": 16,
   "metadata": {},
   "outputs": [
    {
     "output_type": "stream",
     "name": "stdout",
     "text": [
      "[[], ['a'], ['a', 'b'], ['a', 'b', 'c'], ['a', 'b', 'c', 'c'], ['a', 'c'], ['a', 'c', 'c'], ['b'], ['b', 'c'], ['b', 'c', 'c'], ['c'], ['c', 'c']]\n"
     ]
    }
   ],
   "source": [
    "# 如果有重复的数值\n",
    "# 排序\n",
    "\n",
    "def subsets2(nums):\n",
    "    lst=[]\n",
    "    result = []\n",
    "    nums.sort()\n",
    "    subsets_recursive_helper(result,lst,nums,0)\n",
    "    return result\n",
    "\n",
    "def subsets_recursive_helper2(result,lst,nums,pos):\n",
    "    result.append(lst[:])\n",
    "    for i in range(pos,len(nums)):\n",
    "\n",
    "        if nums[i] == nums[i-1]:\n",
    "             continue\n",
    "\n",
    "        lst.append(nums[i])\n",
    "        subsets_recursive_helper2(result,lst,nums,i+1)\n",
    "        lst.pop()\n",
    "\n",
    "\n",
    "\n",
    "nums = ['a','b','c','c']\n",
    "print(subsets2(nums))\n",
    "\n",
    "\n"
   ]
  },
  {
   "cell_type": "code",
   "execution_count": 18,
   "metadata": {},
   "outputs": [
    {
     "output_type": "stream",
     "name": "stdout",
     "text": [
      "[[1, 3, 1, 2, 1], [1, 3, 2, 1], [1, 3, 1], [1, 3], [1, 3, 1, 2], [1, 3, 2], [1, 3]]\n"
     ]
    }
   ],
   "source": [
    "# Permutation 排列组合\n",
    "\n",
    "def permute(nums):\n",
    "    perms = [[]]\n",
    "    for n in nums:\n",
    "        new_perms = []\n",
    "        for perm in perms:\n",
    "            for i in range(len(perm)+1):\n",
    "                new_perms.append(perm[:1]+[n]+perm[i:])\n",
    "        perms = new_perms\n",
    "    return perms\n",
    "\n",
    "nums = [1,2,3]\n",
    "print(permute(nums))"
   ]
  },
  {
   "cell_type": "code",
   "execution_count": 2,
   "metadata": {},
   "outputs": [
    {
     "output_type": "execute_result",
     "data": {
      "text/plain": [
       "12"
      ]
     },
     "metadata": {},
     "execution_count": 2
    }
   ],
   "source": [
    "# House Robber\n",
    "def rob(nums):\n",
    "    n = len(nums)\n",
    "    dp = [[0]*2 for _ in range(n+1)]\n",
    "    for i in range(1,n+1):\n",
    "        dp[i][0] = max(dp[i-1][0],dp[i-1][1])\n",
    "        dp[i][1] = nums[i-1]+dp[i-1][0]\n",
    "    return max(dp[n][0],dp[n][1])\n",
    "\n",
    " \n",
    "nums = [2,7,9,3,1]\n",
    "rob(nums)"
   ]
  },
  {
   "cell_type": "code",
   "execution_count": 4,
   "metadata": {},
   "outputs": [
    {
     "output_type": "execute_result",
     "data": {
      "text/plain": [
       "12"
      ]
     },
     "metadata": {},
     "execution_count": 4
    }
   ],
   "source": [
    "# House Robber\n",
    "def rob(nums):\n",
    "    yes,no = 0,0\n",
    "    for i in nums:\n",
    "        no,yes =max(yes,no),i+no\n",
    "    return max(yes,no)\n",
    " \n",
    "nums = [2,7,9,3,1]\n",
    "rob(nums)"
   ]
  },
  {
   "cell_type": "code",
   "execution_count": 7,
   "metadata": {},
   "outputs": [
    {
     "output_type": "execute_result",
     "data": {
      "text/plain": [
       "11"
      ]
     },
     "metadata": {},
     "execution_count": 7
    }
   ],
   "source": [
    "# 环形房子\n",
    "# 分两种情况进行判断\n",
    "\n",
    "# House Robber\n",
    "def rob(nums):\n",
    "    if len(nums)==0:\n",
    "        return 0\n",
    "    \n",
    "    if len(nums)==1:\n",
    "        return nums[0]\n",
    "        \n",
    "    return max(rob_help(nums,0,len(nums)-1),rob_help(nums,1,len(nums)))\n",
    "\n",
    "def rob_help(nums,start,end):\n",
    "    yes,no = nums[start],0\n",
    "    for i in range(start+1,end):\n",
    "        no,yes =max(yes,no),i+no\n",
    "    return max(yes,no)\n",
    " \n",
    "nums = [2,7,9,3,1]\n",
    "rob(nums)"
   ]
  },
  {
   "cell_type": "code",
   "execution_count": 2,
   "metadata": {
    "tags": []
   },
   "outputs": [
    {
     "output_type": "stream",
     "name": "stdout",
     "text": [
      "[0, 1, 2, 3, 5, 8, 13, 21, 34, 55, 89]\n89\n"
     ]
    }
   ],
   "source": [
    "\n",
    "def Tile(n):\n",
    "    dp = [0]*(n+1)\n",
    "    dp[0],dp[1],dp[2]=  0,1,2\n",
    "    for i in range(3,n+1):\n",
    "        dp[i] = dp[i-1]+dp[i-2]\n",
    "\n",
    "    print(dp)\n",
    "    return dp[n]\n",
    "print(Tile(10))\n",
    "\n",
    "\n"
   ]
  },
  {
   "cell_type": "code",
   "execution_count": 3,
   "metadata": {},
   "outputs": [
    {
     "output_type": "execute_result",
     "data": {
      "text/plain": [
       "6"
      ]
     },
     "metadata": {},
     "execution_count": 3
    }
   ],
   "source": [
    "def minCostClimbingStairs(cost):\n",
    "    n = len(cost)+1\n",
    "    dp=[0]*n\n",
    "    for i in range(2,n):\n",
    "        dp[i] = min(dp[i - 2] + cost[i - 2], dp[i - 1] + cost[i - 1])\n",
    "\n",
    "    return dp[n-1]\n",
    "\n",
    "cost = [1, 100, 1, 1, 1, 100, 1, 1, 100, 1,22]\n",
    "minCostClimbingStairs(cost)"
   ]
  },
  {
   "cell_type": "code",
   "execution_count": 9,
   "metadata": {},
   "outputs": [
    {
     "output_type": "execute_result",
     "data": {
      "text/plain": [
       "1"
      ]
     },
     "metadata": {},
     "execution_count": 9
    }
   ],
   "source": [
    "def numDecodings(s):\n",
    "    # 判断异常条件\n",
    "    if s=='' or s[0]=='0':\n",
    "        return 0\n",
    "    dp=[1,1]\n",
    "    for i in range(2,len(s)+1):\n",
    "        result = 0\n",
    "        if 10<=int(s[i-2:i])<=26:\n",
    "            result+=dp[i-2]\n",
    "        if s[i-1]!='0':\n",
    "            result+=dp[i-1]\n",
    "        dp.append(result)\n",
    "    return dp[len(s)]\n",
    "\n",
    "numDecodings(\"110\")"
   ]
  },
  {
   "cell_type": "code",
   "execution_count": 15,
   "metadata": {
    "tags": []
   },
   "outputs": [
    {
     "output_type": "stream",
     "name": "stdout",
     "text": [
      "5\n[1, 2, 5, 14, 42, 132, 429, 1430, 4862]\n"
     ]
    }
   ],
   "source": [
    "# Ex8 Unique Binary Search Trees\n",
    "# 卡特兰数\n",
    "def numTrees(n):\n",
    "    if n<=2:\n",
    "        return n\n",
    "    sol = [0]*(n+1)\n",
    "    sol[0]=sol[1]=1\n",
    "    for i in range(2,n+1):\n",
    "        for left in range(0,i):\n",
    "            sol[i] += sol[left]*sol[i-1-left]\n",
    "    return sol[n]\n",
    "\n",
    "print(numTrees(3))\n",
    "print([numTrees(i) for i in range(1,10)])\n",
    "\n"
   ]
  },
  {
   "cell_type": "code",
   "execution_count": 20,
   "metadata": {},
   "outputs": [
    {
     "output_type": "execute_result",
     "data": {
      "text/plain": [
       "6"
      ]
     },
     "metadata": {},
     "execution_count": 20
    }
   ],
   "source": [
    "# Ex. 9 Maximum Product Subarray\n",
    "def maxProduct(nums):\n",
    "    if len(nums)==0:\n",
    "        return 0\n",
    "    res = maximum=minimum=nums[0]\n",
    "    for i in range(1,len(nums)):\n",
    "        maximum = max(maximum*nums[i],minimum*nums[i],nums[i])\n",
    "        minimum = min(maximum*nums[i],minimum*nums[i],nums[i])\n",
    "        res = max(maximum,res)\n",
    "\n",
    "    return res\n",
    "\n",
    "\n",
    "\n",
    "nums = [2,3,-2,4,]\n",
    "maxProduct(nums)"
   ]
  },
  {
   "cell_type": "code",
   "execution_count": 22,
   "metadata": {},
   "outputs": [
    {
     "output_type": "execute_result",
     "data": {
      "text/plain": [
       "4"
      ]
     },
     "metadata": {},
     "execution_count": 22
    }
   ],
   "source": [
    "len([2,3,-2,4,])"
   ]
  },
  {
   "cell_type": "code",
   "execution_count": 23,
   "metadata": {},
   "outputs": [
    {
     "output_type": "execute_result",
     "data": {
      "text/plain": [
       "5"
      ]
     },
     "metadata": {},
     "execution_count": 23
    }
   ],
   "source": [
    "def maxProfit(prices):\n",
    "    if len(prices)<2:\n",
    "        return 0\n",
    "    minPrice=prices[0]\n",
    "    maxProfit=0\n",
    "    for price in prices:\n",
    "        if price<minPrice:\n",
    "            minPrice=price\n",
    "        if price-minPrice>maxProfit:\n",
    "            maxProfit= price-minPrice\n",
    "\n",
    "    return maxProfit\n",
    "\n",
    "prices = [7,1,5,3,6,4]\n",
    "maxProfit(prices)"
   ]
  },
  {
   "cell_type": "code",
   "execution_count": 29,
   "metadata": {},
   "outputs": [
    {
     "output_type": "execute_result",
     "data": {
      "text/plain": [
       "5"
      ]
     },
     "metadata": {},
     "execution_count": 29
    }
   ],
   "source": [
    "\n",
    "def maxProfit(prices):\n",
    "    if len(prices) < 2:\n",
    "        return 0\n",
    "    minPrice = prices[0]\n",
    "    dp = [0] * len(prices)\n",
    "    for i in range(len(prices)):\n",
    "        dp[i]=max(dp[i-1],prices[i]-minPrice)\n",
    "        minPrice = min(minPrice,prices[i])\n",
    "    return dp[-1]\n",
    "\n",
    "prices = [7,1,5,3,6,4]\n",
    "maxProfit(prices)\n"
   ]
  },
  {
   "cell_type": "code",
   "execution_count": 32,
   "metadata": {},
   "outputs": [
    {
     "output_type": "execute_result",
     "data": {
      "text/plain": [
       "7"
      ]
     },
     "metadata": {},
     "execution_count": 32
    }
   ],
   "source": [
    "def maxProfit2(prices):\n",
    "    if len(prices)<2:\n",
    "        return 0\n",
    "\n",
    "    maxProfit = 0\n",
    "    for i in range(1,len(prices)):\n",
    "        if prices[i]>prices[i-1]:\n",
    "            maxProfit+=prices[i]-prices[i-1]\n",
    "    return maxProfit\n",
    "\n",
    "prices = [7,1,5,3,6,4]\n",
    "maxProfit2(prices)"
   ]
  },
  {
   "cell_type": "code",
   "execution_count": 33,
   "metadata": {},
   "outputs": [
    {
     "output_type": "execute_result",
     "data": {
      "text/plain": [
       "7"
      ]
     },
     "metadata": {},
     "execution_count": 33
    }
   ],
   "source": [
    "def maxProfit2(prices):\n",
    "    if len(prices)<2:\n",
    "        return 0\n",
    "\n",
    "    maxProfit = 0\n",
    "    for i in range(1,len(prices)):\n",
    "        maxProfit+=max(0,prices[i]-prices[i-1])\n",
    "    return maxProfit\n",
    "\n",
    "prices = [7,1,5,3,6,4]\n",
    "maxProfit2(prices)"
   ]
  },
  {
   "cell_type": "code",
   "execution_count": 2,
   "metadata": {},
   "outputs": [
    {
     "output_type": "execute_result",
     "data": {
      "text/plain": [
       "7"
      ]
     },
     "metadata": {},
     "execution_count": 2
    }
   ],
   "source": [
    "def maxProfit3(prices):\n",
    "    cash, hold=0,-prices[0]\n",
    "\n",
    "    for i in range(1,len(prices)):\n",
    "        cash, hold = max(cash,hold+prices[i]),max(hold,cash-prices[i])\n",
    "    return cash\n",
    "\n",
    "prices = [7,1,5,3,6,4]\n",
    "maxProfit3(prices)"
   ]
  },
  {
   "cell_type": "code",
   "execution_count": 4,
   "metadata": {},
   "outputs": [
    {
     "output_type": "execute_result",
     "data": {
      "text/plain": [
       "16"
      ]
     },
     "metadata": {},
     "execution_count": 4
    }
   ],
   "source": [
    "max([7,1,5,3,16,4])"
   ]
  },
  {
   "cell_type": "code",
   "execution_count": 1,
   "metadata": {},
   "outputs": [],
   "source": [
    "class Node:\n",
    "    def __init__(self, value=None, next=None):\n",
    "        self.value = value\n",
    "        self.next = next"
   ]
  },
  {
   "cell_type": "code",
   "execution_count": null,
   "metadata": {},
   "outputs": [],
   "source": [
    "# Delete Node\n",
    "def delete(node):\n",
    "    print(node.value)\n",
    "    node.value = node.next.value\n",
    "    node.next = node.next.next\n"
   ]
  },
  {
   "cell_type": "code",
   "execution_count": 1,
   "metadata": {},
   "outputs": [
    {
     "output_type": "execute_result",
     "data": {
      "text/plain": [
       "3"
      ]
     },
     "metadata": {},
     "execution_count": 1
    }
   ],
   "source": [
    "def find_last(lst, target):\n",
    "  if len(lst) == 0:\n",
    "    return -1\n",
    "  left,right = 0,len(lst)-1\n",
    "  while left+1 < right:\n",
    "    mid = (left+right)//2\n",
    "    \n",
    "    if lst[mid] < target:\n",
    "      left = mid\n",
    "    elif lst[mid] > target:\n",
    "      right = mid\n",
    "    else:\n",
    "      left = mid\n",
    "  \n",
    "  if lst[right] == target:\n",
    "    return right\n",
    "  if lst[left] == target:\n",
    "    return left\n",
    "  \n",
    "  return -1\n",
    "  \n",
    "find_last([1,2,3,3,5],3)"
   ]
  },
  {
   "cell_type": "code",
   "execution_count": null,
   "metadata": {},
   "outputs": [],
   "source": [
    "# class ListNode:\n",
    "\n",
    "#   def __init__(self, x):\n",
    "\n",
    "#     self.val = x\n",
    "\n",
    "#     self.next = None\n",
    "\n",
    "def remove_node(lst,target):\n",
    "  if not lst:\n",
    "    return lst\n",
    "    \n",
    "  dummy = curr = ListNode(None)\n",
    "  curr.next = lst\n",
    "  \n",
    "  while curr:\n",
    "    if curr.next == target:\n",
    "      curr.next = curr.next.next\n",
    "    curr = curr.next\n",
    "    \n",
    "  return dummy.next\n",
    "    "
   ]
  },
  {
   "cell_type": "code",
   "execution_count": null,
   "metadata": {},
   "outputs": [],
   "source": []
  },
  {
   "cell_type": "code",
   "execution_count": 5,
   "metadata": {},
   "outputs": [
    {
     "output_type": "stream",
     "name": "stdout",
     "text": [
      "4\n-1\n"
     ]
    }
   ],
   "source": [
    "def bi_search_iter(alist,item):\n",
    "\n",
    "    left,right = 0, len(alist)-1\n",
    "\n",
    "    while left+1 < right:\n",
    "        \n",
    "        mid = (left+right)//2\n",
    "\n",
    "        if alist[mid] < item:\n",
    "            left = mid\n",
    "        elif alist[mid] > item:\n",
    "            right = mid\n",
    "        else:\n",
    "            left = mid\n",
    "\n",
    "    if alist[right] == item:\n",
    "        return right\n",
    "\n",
    "    if alist[left] == item:\n",
    "        return left\n",
    "    \n",
    "    return -1\n",
    "\n",
    "num_list = [1,2,7,7,7,8,9]\n",
    "print(bi_search_iter(num_list, 7))\n",
    "\n",
    "print(bi_search_iter(num_list, 4))\n"
   ]
  },
  {
   "cell_type": "code",
   "execution_count": 6,
   "metadata": {},
   "outputs": [
    {
     "output_type": "execute_result",
     "data": {
      "text/plain": [
       "0"
      ]
     },
     "metadata": {},
     "execution_count": 6
    }
   ],
   "source": [
    "def search_min(alist):\n",
    "    if len(alist)==0:\n",
    "        return -1\n",
    "    \n",
    "\n",
    "    left,right = 0,len(alist)-1\n",
    "\n",
    "    while left+1<right:\n",
    "        if alist[left]<alist[right]:\n",
    "            return left\n",
    "        \n",
    "        mid = (left+right)//2\n",
    "        if alist[mid]>=alist[left]:\n",
    "            left = mid+1\n",
    "        else:\n",
    "            right = mid\n",
    "        return alist[left] if alist[left]<alist[right] else alist[right]\n",
    "\n",
    "search_min([6,7,8,9,0,1,2,3,4,5])"
   ]
  },
  {
   "cell_type": "code",
   "execution_count": 7,
   "metadata": {},
   "outputs": [
    {
     "output_type": "execute_result",
     "data": {
      "text/plain": [
       "2"
      ]
     },
     "metadata": {},
     "execution_count": 7
    }
   ],
   "source": [
    "def search_rotate(alist,target):\n",
    "\n",
    "    if len(alist)==0:\n",
    "        return -1\n",
    "    \n",
    "    left, right = 0,len(alist)-1\n",
    "\n",
    "    while left+1 < right:\n",
    "        mid = (left + right) // 2\n",
    "\n",
    "        if alist[mid] == target:\n",
    "            return mid\n",
    "\n",
    "        if alist[left]<alist[mid]:\n",
    "\n",
    "            if alist[left]<=targte<= alist[mid]:\n",
    "                right = mid\n",
    "            else:\n",
    "                left = mid\n",
    "        else:\n",
    "\n",
    "            if alist[mid] <= target <= alist[right]:\n",
    "                left = mid\n",
    "            else:\n",
    "                right = mid\n",
    "    \n",
    "    if alist[left] == target:\n",
    "        return left\n",
    "    if alist[right] == target:\n",
    "        return right\n",
    "    \n",
    "    return -1\n",
    "\n",
    "\n",
    "search_rotate([6,7,8,9,0,1,2,3,4,5],8)"
   ]
  },
  {
   "cell_type": "code",
   "execution_count": 10,
   "metadata": {},
   "outputs": [
    {
     "output_type": "execute_result",
     "data": {
      "text/plain": [
       "8"
      ]
     },
     "metadata": {},
     "execution_count": 10
    }
   ],
   "source": [
    "# 查找插入位置\n",
    "def search_insert_position(alist,target):\n",
    "\n",
    "    if len(alist) == 0:\n",
    "        return 0\n",
    "\n",
    "    left,right = 0,len(alist)-1\n",
    "\n",
    "    while left+1 < right:\n",
    "\n",
    "        mid = (left+right)//2\n",
    "        if alist[mid] < target:\n",
    "            left = mid\n",
    "        elif alist[mid] > target:\n",
    "            right = mid\n",
    "        else:\n",
    "            return mid\n",
    "\n",
    "    if alist[left] >= target:\n",
    "        return left\n",
    "    if alist[right] >= target:\n",
    "        return right\n",
    "\n",
    "    return right+1\n",
    "    \n",
    "search_insert_position([0,1,2,3,4,5,6,7,9,10],8)"
   ]
  },
  {
   "cell_type": "code",
   "execution_count": 15,
   "metadata": {},
   "outputs": [
    {
     "output_type": "execute_result",
     "data": {
      "text/plain": [
       "[4, 8]"
      ]
     },
     "metadata": {},
     "execution_count": 15
    }
   ],
   "source": [
    "def search_range(alist,target):\n",
    "    if len(alist)==0:\n",
    "        return [-1,-1]\n",
    "\n",
    "    l_bound,r_bound = -1,-1\n",
    "\n",
    "    left,right = 0,len(alist)-1\n",
    "    while left+1 < right:\n",
    "        mid = (left+right)//2\n",
    "        if alist[mid]<target:\n",
    "            left = mid\n",
    "        elif alist[mid]>target:\n",
    "            right = mid\n",
    "        else:\n",
    "            right = mid\n",
    "    \n",
    "    if alist[left] == target:\n",
    "        l_bound = left\n",
    "    elif alist[right] == target:\n",
    "        l_bound = right\n",
    "    else:\n",
    "        return [-1, -1]\n",
    "\n",
    "    left,right = 0,len(alist)-1\n",
    "    while left+1 < right:\n",
    "        mid = (left+right)//2\n",
    "        if alist[mid]<target:\n",
    "            left = mid\n",
    "        elif alist[mid]>target:\n",
    "            right = mid\n",
    "        else:\n",
    "            left = mid\n",
    "    \n",
    "    if alist[right] == target:\n",
    "        r_bound = right\n",
    "    elif alist[left] == target:\n",
    "        r_bound = left\n",
    "    else:\n",
    "        return [-1, -1]\n",
    "    \n",
    "    return [l_bound, r_bound]\n",
    "    \n",
    "    \n",
    "search_range([1,2,3,4,5,5,5,5,5,6],5)"
   ]
  },
  {
   "cell_type": "code",
   "execution_count": null,
   "metadata": {},
   "outputs": [],
   "source": [
    "def search_empty(alist,target):\n",
    "    if len(alist) == 0:\n",
    "        return -1\n",
    "    \n",
    "    left, right = 0, len(alist)-1\n",
    "\n",
    "    while left+1 < right:\n",
    "\n",
    "        # 删除尾部的空格\n",
    "        while left+1 < right and alist[right] == '':\n",
    "            right -= 1\n",
    "        if alist[right] == '':\n",
    "            right -= 1\n",
    "        if right < left:\n",
    "            return -1\n",
    "        \n",
    "        mid = (left + right)//2\n",
    "        while alist[mid]=='':\n",
    "            mid+=1\n",
    "        \n",
    "        if alist[mid] < target:\n",
    "            left = mid + 1\n",
    "        elif alist[mid] > target:\n",
    "            right = mid - 1\n",
    "        else:\n",
    "            return mid\n",
    "        \n",
    "    if alist[left] == target:\n",
    "        return left\n",
    "    if alist[right] == target:\n",
    "        return right\n",
    "    \n",
    "    return -1\n",
    "            \n"
   ]
  },
  {
   "cell_type": "code",
   "execution_count": 1,
   "metadata": {},
   "outputs": [
    {
     "output_type": "execute_result",
     "data": {
      "text/plain": [
       "75"
      ]
     },
     "metadata": {},
     "execution_count": 1
    }
   ],
   "source": [
    "from bisect import bisect\n",
    "\n",
    "def find_Radius(houses, heaters):\n",
    "    heaters.sort()\n",
    "    ans = 0\n",
    "\n",
    "    for h in houses:\n",
    "        hi = bisect(heaters,h)\n",
    "        left = heaters[hi-1] if hi-1 >=0 else float('-inf')\n",
    "        right = heaters[hi] if hi < len(heaters) else float('inf')\n",
    "\n",
    "        a,b = h-left,right-h\n",
    "        ans = max(ans,min(h-left,right -h))\n",
    "\n",
    "    return ans\n",
    "\n",
    "houses = [1,12,23,34,99]\n",
    "heaters = [12,24]\n",
    "find_Radius(houses, heaters)"
   ]
  },
  {
   "cell_type": "code",
   "execution_count": 2,
   "metadata": {},
   "outputs": [
    {
     "output_type": "execute_result",
     "data": {
      "text/plain": [
       "75"
      ]
     },
     "metadata": {},
     "execution_count": 2
    }
   ],
   "source": [
    "from bisect import bisect\n",
    "\n",
    "def findRadius(house,heaters):\n",
    "    heaters.sort()\n",
    "    ans = 0\n",
    "\n",
    "    for h in house:\n",
    "\n",
    "        h_i = bisect(heaters,h)\n",
    "        left = heaters[h_i-1] if h_i-1 >= 0 else float('-inf')\n",
    "        right = heaters[h_i] if h_i < len(heaters) else float('inf')\n",
    "\n",
    "        ans = max(ans, min(h-left, right-h))\n",
    "\n",
    "    return ans\n",
    "\n",
    "\n",
    "houses = [1,12,23,34,99]\n",
    "heaters = [12,24]\n",
    "findRadius(houses, heaters)"
   ]
  },
  {
   "cell_type": "code",
   "execution_count": 9,
   "metadata": {},
   "outputs": [
    {
     "output_type": "execute_result",
     "data": {
      "text/plain": [
       "354"
      ]
     },
     "metadata": {},
     "execution_count": 9
    }
   ],
   "source": [
    "def sqrt(x):\n",
    "\n",
    "    if x == 0:\n",
    "        return 0\n",
    "\n",
    "    left,right = 0,x\n",
    "\n",
    "    while left + 1 < right:\n",
    "        mid = (left+right)//2\n",
    "\n",
    "        if mid == x//mid:\n",
    "            return mid\n",
    "        if mid < x//mid:\n",
    "            left = mid\n",
    "        else:\n",
    "            right = mid\n",
    "\n",
    "    return right if left * left < right * right else left\n",
    "\n",
    "sqrt(125348)"
   ]
  },
  {
   "cell_type": "code",
   "execution_count": null,
   "metadata": {},
   "outputs": [],
   "source": [
    "from bisect import bisect\n",
    "\n",
    "def kthSmallest(matrix, k):\n",
    "    lo,hi = matrix[0][0],matrix[-1][-1]\n",
    "\n",
    "    while lo < hi:\n",
    "        mid = (lo+hi) // 2\n",
    "        if sum(bisect(row,mid) for row in matrix) < k:\n",
    "            lo = mid+1\n",
    "        else:\n",
    "            hi = mid\n",
    "    return lo"
   ]
  },
  {
   "cell_type": "code",
   "execution_count": null,
   "metadata": {},
   "outputs": [],
   "source": [
    "def findKthLargest(nums,K):\n",
    "    rst = findKthSmallest(nums,len(nums)+1-K)\n",
    "\n",
    "def findKthSmallest(nums,K):\n",
    "    if nums:\n",
    "        pos = partition(nums,0,len(nums)-1)\n",
    "        if k > pos+1:\n",
    "            return findKthSmallest(nums[pos+1:], k-pos-1)\n",
    "        elif k < pos+1\n",
    "            return findKthSmallest(nums[:pos],k)\n",
    "        else:\n",
    "            return nums[pos]\n",
    "\n",
    "def partition(nums,l,r):\n",
    "    low = l\n",
    "    while l<r:\n",
    "        if nums[l]<nums[r]:\n",
    "            nums[l],nums[low] = nums[low],nums[l]\n",
    "            low+=1\n",
    "        l += 1\n",
    "    nums[low], nums[r] = mums[r], nums[low]\n",
    "    return low\n",
    "\n"
   ]
  },
  {
   "cell_type": "code",
   "execution_count": 7,
   "metadata": {},
   "outputs": [
    {
     "output_type": "execute_result",
     "data": {
      "text/plain": [
       "81"
      ]
     },
     "metadata": {},
     "execution_count": 7
    }
   ],
   "source": [
    "def fast_power_flaw(x, n):\n",
    "    if n < 0:\n",
    "        return 1\n",
    "    elif n == 1:\n",
    "        return x\n",
    "    elif n % 2:\n",
    "        return fast_power_flaw(x*x,n//2) * n\n",
    "    else:\n",
    "        return fast_power_flaw(x*x,n//2)\n",
    "\n",
    "fast_power_flaw(3,4)"
   ]
  },
  {
   "cell_type": "code",
   "execution_count": 11,
   "metadata": {},
   "outputs": [
    {
     "output_type": "execute_result",
     "data": {
      "text/plain": [
       "0.0625"
      ]
     },
     "metadata": {},
     "execution_count": 11
    }
   ],
   "source": [
    "def fast_power(x,n):\n",
    "    if n == 0:\n",
    "        return 1\n",
    "    elif n < 0:\n",
    "        return 1 / fast_power(x,-n)\n",
    "    elif n%2:\n",
    "        return fast_power(x*x,n//2) * x\n",
    "    else:\n",
    "        return fast_power(x * x, n//2)\n",
    "fast_power(4,-2)"
   ]
  },
  {
   "cell_type": "code",
   "execution_count": 15,
   "metadata": {},
   "outputs": [
    {
     "output_type": "execute_result",
     "data": {
      "text/plain": [
       "6"
      ]
     },
     "metadata": {},
     "execution_count": 15
    }
   ],
   "source": [
    "def search_peak(alist):\n",
    "    return search_peak_helper(alist,0,len(alist)-1)\n",
    "\n",
    "def search_peak_helper(alist,start,end):\n",
    "    if start == end:\n",
    "        return start\n",
    "    \n",
    "    if start+1 == end:\n",
    "        if alist[start] > alist[end]:\n",
    "            return start\n",
    "        else:\n",
    "            return end\n",
    "    \n",
    "    mid = (start + end) // 2\n",
    "    if alist[mid] > alist[mid-1] and alist[mid] > alist[mid+1]:\n",
    "        return mid\n",
    "    \n",
    "    if alist[mid-1]>alist[mid] >alist[mid+1]:\n",
    "        return search_peak_helper(alist,start,mid-1)\n",
    "    return search_peak_helper(alist, mid+1, end)\n",
    "\n",
    "search_peak([1,23,6,7,4,32,88,65,69,4,5,456,466])"
   ]
  },
  {
   "cell_type": "code",
   "execution_count": 17,
   "metadata": {},
   "outputs": [
    {
     "output_type": "execute_result",
     "data": {
      "text/plain": [
       "0"
      ]
     },
     "metadata": {},
     "execution_count": 17
    }
   ],
   "source": [
    "def find_extra_fast(arr1, arr2):\n",
    "    index = len(arr2)\n",
    "    left,right = 0,len(arr2)-1\n",
    "\n",
    "    while left <= right:\n",
    "        mid = (left+right)/2\n",
    "\n",
    "        if arr1[mid] == arr2[mid]:\n",
    "            left = mid+1\n",
    "        else:\n",
    "            index = mid\n",
    "            right = mid-1\n",
    "    return index\n",
    "\n",
    "\n",
    "ar1 = [1]\n",
    "ar2 = []\n",
    "find_extra_fast(ar1, ar2)"
   ]
  },
  {
   "cell_type": "code",
   "execution_count": 1,
   "metadata": {},
   "outputs": [
    {
     "output_type": "execute_result",
     "data": {
      "text/plain": [
       "0"
      ]
     },
     "metadata": {},
     "execution_count": 1
    }
   ],
   "source": [
    "def find_extra_fast(arr1, arr2):\n",
    "    if len(arr2)==0:\n",
    "        return 0\n",
    "\n",
    "    left,right = 0, len(arr2)-1\n",
    "\n",
    "    while left+1 < right:\n",
    "        mid = (left+right)//2\n",
    "\n",
    "        if arr1[mid] == arr2[mid]:\n",
    "            left = mid\n",
    "        else:\n",
    "            right = mid\n",
    "\n",
    "    if arr1[left] != arr2[left]:\n",
    "        return left\n",
    "    elif arr1[right] != arr2[right]:\n",
    "        return right\n",
    "    \n",
    "    return len(arr1)-1\n",
    "\n",
    "ar1 = [1, 3, 5, 7, 9, 11, 13]\n",
    "ar2 = [3, 5, 7, 9, 11, 13]\n",
    "find_extra_fast(ar1, ar2)"
   ]
  },
  {
   "cell_type": "code",
   "execution_count": 33,
   "metadata": {},
   "outputs": [
    {
     "output_type": "execute_result",
     "data": {
      "text/plain": [
       "7"
      ]
     },
     "metadata": {},
     "execution_count": 33
    }
   ],
   "source": [
    "def sub_sum(alist):\n",
    "    result = float('-inf')\n",
    "    for i in range(0,len(alist)):\n",
    "        sum = 0\n",
    "        for j in range(i,len(alist)):\n",
    "            sum += alist[j]\n",
    "            result = max(result,sum)\n",
    "    \n",
    "    return result\n",
    "\n",
    "alist = [-2,-3,4,-1,-2,1,5,-3]\n",
    "sub_sum(alist)"
   ]
  },
  {
   "cell_type": "code",
   "execution_count": 36,
   "metadata": {},
   "outputs": [
    {
     "output_type": "execute_result",
     "data": {
      "text/plain": [
       "7"
      ]
     },
     "metadata": {},
     "execution_count": 36
    }
   ],
   "source": [
    "\n",
    "# O(nlgn)\n",
    "def sub_sum_2(alist):\n",
    "    return sub_sum_2_helper(alist,0,len(alist)-1)\n",
    "\n",
    "def sub_sum_2_helper(alist, left, right):\n",
    "    if left == right:\n",
    "        return alist[left]\n",
    "    \n",
    "    mid = (left+right)//2\n",
    "    return max( sub_sum_2_helper(alist,left,mid),sub_sum_2_helper(alist,mid+1,right),\n",
    "        maxcrossing(alist,left,mid,right))\n",
    "\n",
    "def maxcrossing(alist,left,mid,right):\n",
    "    \n",
    "    sum = 0\n",
    "    left_sum = float('-inf')\n",
    "    for i in range(mid,left-1,-1):\n",
    "        sum+=alist[i]\n",
    "        left_sum = max(left_sum, sum)\n",
    "    \n",
    "    sum = 0\n",
    "    right_sum = float('-inf')\n",
    "    for i in range(mid+1,right+1):\n",
    "        sum += alist[i]\n",
    "        right_sum = max(right_sum, sum)\n",
    "    \n",
    "    return left_sum + right_sum\n",
    "\n",
    "\n",
    "\n",
    "alist = [-2,-3,4,-1,-2,1,5,-3]\n",
    "sub_sum_2(alist)"
   ]
  },
  {
   "cell_type": "code",
   "execution_count": 37,
   "metadata": {},
   "outputs": [
    {
     "output_type": "execute_result",
     "data": {
      "text/plain": [
       "7"
      ]
     },
     "metadata": {},
     "execution_count": 37
    }
   ],
   "source": [
    "def sub_sum_3(alist):\n",
    "    result = float('-inf')\n",
    "    local = 0\n",
    "    for i in alist:\n",
    "        local = max(local + i, i)\n",
    "        result = max(result, local)\n",
    "    \n",
    "    return result\n",
    "\n",
    "alist = [-2,-3,4,-1,-2,1,5,-3]\n",
    "sub_sum_2(alist)"
   ]
  },
  {
   "cell_type": "code",
   "execution_count": 2,
   "metadata": {},
   "outputs": [
    {
     "output_type": "stream",
     "name": "stdout",
     "text": [
      "Number of inversions are 5\n"
     ]
    }
   ],
   "source": [
    "\n",
    "\n",
    "# 计算逆序对\n",
    "\n",
    "def countInv(arr):\n",
    "    n = len(arr)\n",
    "    inv_count=0\n",
    "\n",
    "    for i in range(len(arr)):\n",
    "        for j in range(i+1, len(arr)):\n",
    "            if arr[i] > arr[j]:\n",
    "                inv_count += 1\n",
    "    \n",
    "    return inv_count\n",
    "\n",
    " \n",
    "arr = [1, 20, 6, 4, 5]\n",
    "n = len(arr)\n",
    "print(\"Number of inversions are\", countInv(arr))"
   ]
  },
  {
   "cell_type": "code",
   "execution_count": 8,
   "metadata": {},
   "outputs": [
    {
     "output_type": "stream",
     "name": "stdout",
     "text": [
      "Number of inversions are ([1, 4, 5, 6, 20], 5)\n"
     ]
    }
   ],
   "source": [
    "\n",
    "def merge(left,right):\n",
    "    result = list()\n",
    "    inv_count = 0\n",
    "    i,j=0,0\n",
    "    while i < len(left) and j < len(right):\n",
    "        if left[i] < right[j]:\n",
    "            result.append(left[i])\n",
    "            i += 1\n",
    "        elif right[j] < left[i]:\n",
    "            result.append(right[j])\n",
    "            j += 1\n",
    "            inv_count += len(left) - i\n",
    "\n",
    "    result += left[i:]\n",
    "    result += right[j:]\n",
    "    \n",
    "    return result, inv_count\n",
    "\n",
    "                                                                                                          \n",
    "\n",
    "def countInvFast(array):\n",
    "    if len(array) < 2:\n",
    "        return array,0\n",
    "    mid = len(array)//2\n",
    "    left,inv_left = countInvFast(array[:mid])\n",
    "    right,inv_right = countInvFast(array[mid:])\n",
    "    merged, count = merge(left,right)\n",
    "    count += (inv_left + inv_right)\n",
    "    return merged,count\n",
    "\n",
    "\n",
    "\n",
    "arr = [1, 20, 6, 4, 5]\n",
    "n = len(arr)\n",
    "print(\"Number of inversions are\", countInvFast(arr))"
   ]
  },
  {
   "cell_type": "code",
   "execution_count": null,
   "metadata": {},
   "outputs": [],
   "source": [
    "def algorithm(x, y):\n",
    "\n",
    "    x, y = str(x), str(y)\n",
    "    middle_products = []\n",
    "    for i, digit in enumerate(reversed(y)):\n",
    "        middle_products.append(one)"
   ]
  },
  {
   "cell_type": "code",
   "execution_count": 11,
   "metadata": {},
   "outputs": [
    {
     "output_type": "execute_result",
     "data": {
      "text/plain": [
       "[1, 2, 3, 4, 5, 6, 7, 8]"
      ]
     },
     "metadata": {},
     "execution_count": 11
    }
   ],
   "source": [
    "\n",
    "def shuffleArray(a, n):\n",
    "\n",
    "    i,q,k =0,1,n\n",
    "    while i<n:\n",
    "        j=k\n",
    "        while j>i+q:\n",
    "\n",
    "            a[j-1],a[j] = a[j],a[j-1]\n",
    "            j -= 1\n",
    "\n",
    "        i+=1\n",
    "        k+=1\n",
    "        q+=1\n",
    "\n",
    "a = [1, 3, 5, 7, 2, 4, 6, 8] \n",
    "n = len(a)\n",
    "shuffleArray(a, n // 2)\n",
    "a\n"
   ]
  },
  {
   "cell_type": "code",
   "execution_count": null,
   "metadata": {},
   "outputs": [],
   "source": []
  },
  {
   "cell_type": "code",
   "execution_count": 14,
   "metadata": {},
   "outputs": [
    {
     "output_type": "execute_result",
     "data": {
      "text/plain": [
       "[1, 2, 3, 4, 5, 6, 7, 8]"
      ]
     },
     "metadata": {},
     "execution_count": 14
    }
   ],
   "source": [
    "def shufleArray(a,left,right):\n",
    "    if right - left == 1:\n",
    "        return \n",
    "    \n",
    "    mid = (left+right) // 2\n",
    "    temp = mid + 1\n",
    "\n",
    "    mmid = (left+mid)//2\n",
    "\n",
    "    for i in range(mmid+1,mid+1):\n",
    "        a[i],a[temp] = a[temp],a[i]\n",
    "        temp+=1\n",
    "    \n",
    "    shufleArray(a,left,mid)\n",
    "    shufleArray(a,mid+1,right)\n",
    "\n",
    "a = [1, 3, 5, 7, 2, 4, 6, 8] \n",
    "n = len(a) \n",
    "shufleArray(a, 0, n - 1)\n",
    " \n",
    "a\n"
   ]
  },
  {
   "cell_type": "code",
   "execution_count": 15,
   "metadata": {},
   "outputs": [
    {
     "output_type": "execute_result",
     "data": {
      "text/plain": [
       "[2, 1, 1, 0]"
      ]
     },
     "metadata": {},
     "execution_count": 15
    }
   ],
   "source": [
    "# 计数比自己小的数字\n",
    "\n",
    "def countSmaller(nums):\n",
    "    n = len(nums)\n",
    "    count = [0]*n\n",
    "    for i in range(n):\n",
    "        for j in range(i+1,n):\n",
    "            if nums[i] > nums[j]:\n",
    "                count[i] += 1\n",
    "    return count\n",
    "\n",
    "nums = [5,2,6,1]\n",
    "countSmaller(nums)"
   ]
  },
  {
   "cell_type": "code",
   "execution_count": null,
   "metadata": {},
   "outputs": [],
   "source": []
  },
  {
   "cell_type": "code",
   "execution_count": 18,
   "metadata": {},
   "outputs": [
    {
     "output_type": "execute_result",
     "data": {
      "text/plain": [
       "[2, 1, 1, 0]"
      ]
     },
     "metadata": {},
     "execution_count": 18
    }
   ],
   "source": [
    "# 二分搜索\n",
    "# 反向查找，每次使用二分发\n",
    "\n",
    "def countSmaller(nums):\n",
    "    snums = []\n",
    "    ans = [0]*len(nums)\n",
    "\n",
    "    for i in range(len(nums)-1,-1,-1):\n",
    "        index = findIndex(snums,nums[i])\n",
    "        ans[i] = index\n",
    "        snums.insert(index,nums[i])\n",
    "    \n",
    "    return ans\n",
    "\n",
    "def findIndex(snums,target):\n",
    "    start, end = 0, len(snums)-1\n",
    "    if len(snums) == 0:\n",
    "        return 0\n",
    "\n",
    "    while start <= end:\n",
    "        mid = start + (end - start) //2\n",
    "        if snums[mid] < target:\n",
    "            start = mid + 1\n",
    "        else:\n",
    "            end = mid - 1\n",
    "    return start\n",
    "\n",
    "nums = [5, 2, 6, 1]\n",
    "countSmaller(nums)"
   ]
  },
  {
   "cell_type": "code",
   "execution_count": 22,
   "metadata": {},
   "outputs": [
    {
     "output_type": "execute_result",
     "data": {
      "text/plain": [
       "[1, 2, 5, 6]"
      ]
     },
     "metadata": {},
     "execution_count": 22
    }
   ],
   "source": [
    "def merge_sort(nums):\n",
    "    if len(nums) <=1:\n",
    "        return nums\n",
    "\n",
    "    mid = len(nums) // 2\n",
    "    left = merge_sort(nums[:mid])\n",
    "    right =  merge_sort(nums[mid:])\n",
    "\n",
    "    return merge_lst(left,right)\n",
    "\n",
    "def merge_lst(left,right):\n",
    "    \n",
    "    if len(left) ==0 or len(right) == 0:\n",
    "        return left or right\n",
    "\n",
    "    new_lst = []\n",
    "    i, j = 0,0\n",
    "    while i<len(left) and j<len(right):\n",
    "        if left[i] < right[j]:\n",
    "            new_lst.append(left[i])\n",
    "            i+=1\n",
    "        else:\n",
    "            new_lst.append(right[j])\n",
    "            j+=1\n",
    "\n",
    "    if i < len(left):\n",
    "        new_lst.extend(left[i:])\n",
    "    else:\n",
    "        new_lst.extend(right[j:])\n",
    "\n",
    "    return new_lst\n",
    "\n",
    "nums = [5, 2, 6, 1]\n",
    "merge_sort(nums)\n"
   ]
  },
  {
   "cell_type": "code",
   "execution_count": 23,
   "metadata": {},
   "outputs": [
    {
     "output_type": "execute_result",
     "data": {
      "text/plain": [
       "[2, 1, 1, 0]"
      ]
     },
     "metadata": {},
     "execution_count": 23
    }
   ],
   "source": [
    "def countSmaller(nums):\n",
    "    def sort(enum):\n",
    "        half = len(enum) // 2\n",
    "        if half:\n",
    "            left,right = sort(enum[:half]),sort(enum[half:])\n",
    "            m,n = len(left),len(right)\n",
    "            i = j = 0\n",
    "            while i < m or j < n:\n",
    "                if j==n or i < m and left[i][1] <= right[j][1]:\n",
    "                    smaller[left[i][0]] += j\n",
    "                    enum[i+j] = left[i]\n",
    "                    i += 1\n",
    "                else:\n",
    "                    enum[i+j] = right[j]\n",
    "                    j += 1\n",
    "        return enum\n",
    "    smaller = [0] * len(nums)\n",
    "    sort(list(enumerate(nums)))\n",
    "    return smaller\n",
    "\n",
    "\n",
    "nums = [5, 2, 6, 1]\n",
    "countSmaller(nums)\n",
    "\n"
   ]
  },
  {
   "cell_type": "code",
   "execution_count": 1,
   "metadata": {},
   "outputs": [],
   "source": [
    "class Node:\n",
    "    def __init__(self,val=None,next=None):\n",
    "        self.val = val\n",
    "        self.next = next\n",
    "\n",
    "class LinkedList:\n",
    "\n",
    "    def __init__(self):\n",
    "        self.head = Node()\n",
    "        self.tail = None\n",
    "        self.length = 0\n",
    "\n",
    "    def peek(self):\n",
    "        if not self.head.next:\n",
    "            raise ValueError('List is empty')\n",
    "        return self.head.next\n",
    "    \n",
    "    def get_first(self):\n",
    "        if not self.head.next:\n",
    "            raise ValueError('List is empty')\n",
    "        return self.head.next\n",
    "\n",
    "    def get_last(self):\n",
    "        if not self.head.next:\n",
    "            raise ValueError('List is empty')\n",
    "        node = self.head\n",
    "        while node.next != None:\n",
    "            node = node.next\n",
    "        return node\n",
    "\n",
    "    def get(self,index):\n",
    "\n",
    "        if index < 0 or index > self.length:\n",
    "            raise ValueError('index is out of bound') \n",
    "\n",
    "        if not self.head.next:\n",
    "            raise ValueError('List is empty')\n",
    "\n",
    "        node = self.head\n",
    "        for _ in range(index):\n",
    "            node = node.next\n",
    "\n",
    "        return node\n",
    "\n",
    "    def add_first(self,value):\n",
    "\n",
    "        node = Node(value)\n",
    "        node.next = self.head.next\n",
    "        self.head.next = node\n",
    "        self.length += 1\n",
    "\n",
    "    def add_last(self,value):\n",
    "\n",
    "        new_node = Node(value)\n",
    "        node = self.head\n",
    "        while node.next != None:\n",
    "            node = node.next\n",
    "        node.next = new_node\n",
    "        self.length += 1\n",
    "\n",
    "    def add(self,index,value):\n",
    "        \n",
    "        if index < 0 or index > self.length:\n",
    "            raise ValueError('index is out of bound')\n",
    "\n",
    "        if not self.head.next:\n",
    "            raise ValueError('List is empty')\n",
    "\n",
    "        new_node = Node(value)\n",
    "        node = self.head\n",
    "        \n",
    "        for _ in range(index):\n",
    "            node = node.next\n",
    "        new_node.next = node.next\n",
    "        node.next = new_node\n",
    "        self.length += 1\n",
    "\n",
    "    def remove_first():\n",
    "\n",
    "        if not self.head.next:\n",
    "            raise ValueError('List is empty')\n",
    "\n",
    "        node = self.head.next\n",
    "        self.head.next = sef.head.next.next\n",
    "        self.length -= 1\n",
    "    \n",
    "    def remove_last():\n",
    "        if not self.head.next:\n",
    "            raise ValueError('List is empty')\n",
    "\n",
    "        node = self.head.next\n",
    "        prev = self.head\n",
    "        while node.next != None:\n",
    "            prev = node\n",
    "            node = node.next\n",
    "        prev.next = None\n",
    "        self.length -= 1\n",
    "        return node.val\n",
    "        \n",
    "    def remove(self, index):\n",
    "        if index < 0 or index > self.length:\n",
    "            raise ValueError('index is out of bound')\n",
    "\n",
    "        if not self.head.next:\n",
    "            raise ValueError('List is empty')\n",
    "\n",
    "        node = self.head\n",
    "        for _ in range(index):\n",
    "            node = node.next\n",
    "        \n",
    "        result = node.next\n",
    "        node.next = node.next.next\n",
    "        self.length -= 1\n",
    "\n",
    "        return result\n",
    "\n",
    "    \n",
    "    def print_list(self):\n",
    "        node = self.head.next\n",
    "        count = 0\n",
    "\n",
    "        while node and count < 20:\n",
    "            print(node.val, end=' ')\n",
    "            node = node.next\n",
    "            count += 1\n",
    "\n",
    "        print('')\n",
    "        \n",
    "        \n"
   ]
  },
  {
   "cell_type": "code",
   "execution_count": 7,
   "metadata": {},
   "outputs": [
    {
     "output_type": "stream",
     "name": "stdout",
     "text": [
      "3 4 5 \n"
     ]
    },
    {
     "output_type": "execute_result",
     "data": {
      "text/plain": [
       "3"
      ]
     },
     "metadata": {},
     "execution_count": 7
    }
   ],
   "source": [
    "lst = LinkedList()\n",
    "lst.add_first(4)\n",
    "lst.add_last(5)\n",
    "lst.add(0,3)\n",
    "lst.print_list()\n",
    "lst.peek().val"
   ]
  },
  {
   "cell_type": "code",
   "execution_count": 3,
   "metadata": {},
   "outputs": [
    {
     "output_type": "stream",
     "name": "stdout",
     "text": [
      "1 2 3 4 5 "
     ]
    }
   ],
   "source": [
    "class Node:\n",
    "    def __init__(self,val = None, next = None):\n",
    "        self.val = val\n",
    "        self.next = next\n",
    "\n",
    "l5 = Node(5)\n",
    "l4 = Node(4,l5)\n",
    "l3 = Node(3,l4)\n",
    "l2 = Node(2,l3)\n",
    "l1 = Node(1,l2)\n",
    "\n",
    "node = l1\n",
    "while node:\n",
    "    print(node.val, end=' ')\n",
    "    node = node.next\n"
   ]
  },
  {
   "cell_type": "code",
   "execution_count": 5,
   "metadata": {},
   "outputs": [],
   "source": [
    "def delete_node(node):\n",
    "        \n",
    "    node.val = node.next.val\n",
    "    node.next = node.next.next\n",
    "\n",
    "    "
   ]
  },
  {
   "cell_type": "code",
   "execution_count": 9,
   "metadata": {},
   "outputs": [
    {
     "output_type": "stream",
     "name": "stdout",
     "text": [
      "False\nFalse\nTrue\n"
     ]
    }
   ],
   "source": [
    "def has_cycle(node):\n",
    "    if node is None:\n",
    "        return False\n",
    "\n",
    "    slow = node\n",
    "    fast = node\n",
    "\n",
    "\n",
    "    while fast is not None and fast.next is not None:\n",
    "        slow = slow.next\n",
    "        fast = fast.next.next\n",
    "\n",
    "        if slow == fast:\n",
    "            return True\n",
    "    \n",
    "    return False\n",
    "\n",
    "\n",
    "node1 = Node(1)\n",
    "print(has_cycle(node1))\n",
    "node2 = Node(2)\n",
    "node3 = Node(3)\n",
    "node1.next = node2\n",
    "node2.next = node3\n",
    "print(has_cycle(node1))\n",
    "node3.next = node1\n",
    "print(has_cycle(node1))"
   ]
  },
  {
   "cell_type": "code",
   "execution_count": 10,
   "metadata": {},
   "outputs": [
    {
     "output_type": "stream",
     "name": "stdout",
     "text": [
      "9\n1 3 5 7 \n"
     ]
    }
   ],
   "source": [
    "def remove_last_nth(lst,n):\n",
    "    assert n < lst.length and n>0\n",
    "\n",
    "    fast = lst.head\n",
    "\n",
    "    while n > 0:\n",
    "        fast = fast.next\n",
    "        n -= 1\n",
    "    \n",
    "    slow = lst.head\n",
    "\n",
    "    while fast.next is not None:\n",
    "        fast = fast.next\n",
    "        slow = slow.next\n",
    "\n",
    "    result = slow.next\n",
    "    slow.next = slow.next.next\n",
    "    lst.length = lst.length - 1\n",
    "\n",
    "    return result\n",
    "\n",
    "lst = LinkedList()\n",
    "lst.add_last(1)\n",
    "lst.add_last(3)\n",
    "lst.add_last(5)\n",
    "lst.add_last(7)\n",
    "lst.add_last(9)\n",
    "print(remove_last_nth(lst, 1).val)\n",
    "lst.print_list()"
   ]
  },
  {
   "cell_type": "code",
   "execution_count": 12,
   "metadata": {},
   "outputs": [],
   "source": [
    "def split_in_half(head):\n",
    "    if head is None:\n",
    "        return\n",
    "\n",
    "    slow = head\n",
    "    fast = head\n",
    "\n",
    "    front_last_node = slow\n",
    "\n",
    "    while fast is not None:\n",
    "        front_last_node = slow\n",
    "        slow = slow.next\n",
    "        fast = fast.next.next if fast.next is not None else None\n",
    "\n",
    "    front_last_node.next = None\n",
    "    front = head\n",
    "    back = slow\n",
    "    \n",
    "    return front, back"
   ]
  },
  {
   "cell_type": "code",
   "execution_count": 15,
   "metadata": {},
   "outputs": [
    {
     "output_type": "stream",
     "name": "stdout",
     "text": [
      "1 2 3 \n4 5 \n"
     ]
    }
   ],
   "source": [
    "node1 = Node(1)\n",
    "node2 = Node(2)\n",
    "node3 = Node(3)\n",
    "node4 = Node(4)\n",
    "node5 = Node(5)\n",
    "node1.next = node2\n",
    "node2.next = node3\n",
    "node3.next = node4\n",
    "node4.next = node5\n",
    "front_node = Node()\n",
    "back_node = Node()\n",
    "\n",
    "front_node, back_node = split_in_half(node1)\n",
    "front = LinkedList()\n",
    "front.head.next = front_node\n",
    "front.print_list()\n",
    "\n",
    "back = LinkedList()\n",
    "back.head.next = back_node\n",
    "back.print_list()\n"
   ]
  },
  {
   "cell_type": "code",
   "execution_count": null,
   "metadata": {},
   "outputs": [],
   "source": [
    "def split(head):\n",
    "    if head is None:\n",
    "        return \n",
    "\n",
    "    slow = head\n",
    "    fast = head\n",
    "    front_last_node = slow\n",
    "\n",
    "    while fast:\n",
    "        front_last_node = slow\n",
    "        slow = slow.next\n",
    "        fast = fast.next.next if fast.next is not None else None\n",
    "    front_last_node.next = None\n",
    "    \n",
    "    front = head\n",
    "    back = slow\n",
    "    return front,back\n",
    "\n"
   ]
  },
  {
   "cell_type": "code",
   "execution_count": 16,
   "metadata": {},
   "outputs": [],
   "source": [
    "def mergeTwoLists1(l1,l2):\n",
    "\n",
    "    dummy = curr = Node(None)\n",
    "    while l1 and l2:\n",
    "        if l1.val < l2.val:\n",
    "            curr.next = l1\n",
    "            l1 = l1.next\n",
    "        else:\n",
    "            curr.next = l2\n",
    "            l2 = l2.next\n",
    "        curr = curr.next\n",
    "    \n",
    "    curr.next = l1 or l2\n",
    "    \n",
    "    return dummy.next\n",
    "\n"
   ]
  },
  {
   "cell_type": "code",
   "execution_count": 19,
   "metadata": {},
   "outputs": [],
   "source": [
    "def mergeTwoLists2(l1,l2):\n",
    "    if not l1 or not l2:\n",
    "        return l1 or l2\n",
    "    \n",
    "    if l1.val < l2.val:\n",
    "        l1.next = mergeTwoLists2(l1.next,l2)\n",
    "        return l1\n",
    "    else:\n",
    "        l2.next = mergeTwoLists2(l1,l2.next)\n",
    "        return l2\n"
   ]
  },
  {
   "cell_type": "code",
   "execution_count": 18,
   "metadata": {},
   "outputs": [
    {
     "output_type": "stream",
     "name": "stdout",
     "text": [
      "1 1 2 3 4 4 \n"
     ]
    }
   ],
   "source": [
    "node11 = Node(1)\n",
    "node12 = Node(2)\n",
    "node14 = Node(4)\n",
    "node11.next = node12\n",
    "node12.next = node14\n",
    "\n",
    "node21 = Node(1)\n",
    "node23 = Node(3)\n",
    "node24 = Node(4)\n",
    "node21.next = node23\n",
    "node23.next = node24\n",
    "\n",
    "node = mergeTwoLists1(node11, node21)\n",
    "lst = LinkedList()\n",
    "lst.head.next = node\n",
    "lst.print_list()"
   ]
  },
  {
   "cell_type": "code",
   "execution_count": 20,
   "metadata": {},
   "outputs": [
    {
     "output_type": "stream",
     "name": "stdout",
     "text": [
      "1 1 2 3 4 4 \n"
     ]
    }
   ],
   "source": [
    "node11 = Node(1)\n",
    "node12 = Node(2)\n",
    "node14 = Node(4)\n",
    "node11.next = node12\n",
    "node12.next = node14\n",
    "\n",
    "node21 = Node(1)\n",
    "node23 = Node(3)\n",
    "node24 = Node(4)\n",
    "node21.next = node23\n",
    "node23.next = node24\n",
    "\n",
    "node = mergeTwoLists2(node11, node21)\n",
    "lst = LinkedList()\n",
    "lst.head.next = node\n",
    "lst.print_list()"
   ]
  },
  {
   "cell_type": "code",
   "execution_count": null,
   "metadata": {},
   "outputs": [],
   "source": [
    "def getIntersectionNode(headA,headB):\n",
    "    curA, curB = headA, headB\n",
    "    lenA, lenB = 0, 0\n",
    "    while curA:\n",
    "        curA = cur.next\n",
    "        lenA += 1\n",
    "\n",
    "    while curB:\n",
    "        curB = cur.next\n",
    "        lenB += 1\n",
    "    \n",
    "    if lenA>lenB:\n",
    "        for i in range(lenA-lenB):\n",
    "            curA = curA.next\n",
    "    \n",
    "    elif lenA<lenB:\n",
    "        for i in range(lenB-lenA):\n",
    "            curB = curB.next\n",
    "    \n",
    "    while curB!=curA:\n",
    "        curA = curA.next\n",
    "        curB = curB.next\n",
    "    \n",
    "    return curA\n"
   ]
  },
  {
   "cell_type": "code",
   "execution_count": null,
   "metadata": {},
   "outputs": [],
   "source": [
    "def getIntersectionNode2(headA, headB):\n",
    "    if headA and headB:\n",
    "        A, B  = headA, headB\n",
    "        while A != B:\n",
    "            A = A.next if A else headB\n",
    "            B = B.next if B else headA\n",
    "        \n",
    "        return A\n",
    "    \n",
    "    return None"
   ]
  },
  {
   "cell_type": "code",
   "execution_count": null,
   "metadata": {},
   "outputs": [],
   "source": [
    "def insert_sort(head):\n",
    "    dummy = Node(0)\n",
    "    cur = head\n",
    "    while cur is not None:\n",
    "        pre = dummy\n",
    "        while pre.next is not None and pre.next.val < cur.val:\n",
    "            pre = pre.next\n",
    "        temp = cur.next\n",
    "        cur.next = pre.next\n",
    "        pre.next = cur\n",
    "        cur = temp\n",
    "    return dummy.next"
   ]
  },
  {
   "cell_type": "code",
   "execution_count": 26,
   "metadata": {},
   "outputs": [],
   "source": [
    "def sort_list(head):\n",
    "    if head is None or head.next is None:\n",
    "        return head\n",
    "\n",
    "    mid = getMiddle(head)\n",
    "    rHead = mid.next\n",
    "    mid.next = None\n",
    "    return merge(sort_list(head),sort_list(rHead))\n",
    "\n",
    "def merge(lHead, rHead):\n",
    "    dummyNode = dummyhead = Node(0)\n",
    "\n",
    "    while lHead and rHead:\n",
    "        if lHead.val < rHead.val:\n",
    "            dummyhead.next = lHead\n",
    "            lHead = lHead.next\n",
    "        else:\n",
    "            dummyhead.next = rHead\n",
    "            rHead = rHead.next\n",
    "        dummyhead = dummyhead.next\n",
    "    \n",
    "    if lHead:\n",
    "        dummyhead.next = lHead\n",
    "    elif rHead:\n",
    "        dummyhead.next = rHead\n",
    "    \n",
    "    return dummyNode.next\n",
    "\n",
    "def getMiddle(head):\n",
    "    if head is None:\n",
    "        return head\n",
    "    \n",
    "    slow = head\n",
    "    fast = head\n",
    "\n",
    "    while fast.next and fast.next.next:\n",
    "        slow = slow.next\n",
    "        fast = fast.next.next\n",
    "    \n",
    "    return slow"
   ]
  },
  {
   "cell_type": "code",
   "execution_count": 27,
   "metadata": {},
   "outputs": [
    {
     "output_type": "stream",
     "name": "stdout",
     "text": [
      "1 5 6 9 13 \n"
     ]
    }
   ],
   "source": [
    "node1 = Node(9)\n",
    "node2 = Node(1)\n",
    "node3 = Node(13)\n",
    "node4 = Node(6)\n",
    "node5 = Node(5)\n",
    "node1.next = node2\n",
    "node2.next = node3\n",
    "node3.next = node4\n",
    "node4.next = node5\n",
    "node = sort_list(node1)\n",
    "lst = LinkedList()\n",
    "lst.head.next = node\n",
    "lst.print_list()"
   ]
  },
  {
   "cell_type": "code",
   "execution_count": null,
   "metadata": {},
   "outputs": [],
   "source": [
    "def reverse(lst):"
   ]
  }
 ]
}