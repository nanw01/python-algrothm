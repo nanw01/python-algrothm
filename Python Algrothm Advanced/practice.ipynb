{
 "metadata": {
  "language_info": {
   "codemirror_mode": {
    "name": "ipython",
    "version": 3
   },
   "file_extension": ".py",
   "mimetype": "text/x-python",
   "name": "python",
   "nbconvert_exporter": "python",
   "pygments_lexer": "ipython3",
   "version": "3.8.5-final"
  },
  "orig_nbformat": 2,
  "kernelspec": {
   "name": "python3",
   "display_name": "Python 3",
   "language": "python"
  }
 },
 "nbformat": 4,
 "nbformat_minor": 2,
 "cells": [
  {
   "cell_type": "code",
   "execution_count": 15,
   "metadata": {
    "tags": []
   },
   "outputs": [
    {
     "output_type": "stream",
     "name": "stdout",
     "text": [
      "1 * 1 = 1  \n2 * 1 = 2  2 * 2 = 4  \n3 * 1 = 3  3 * 2 = 6  3 * 3 = 9  \n4 * 1 = 4  4 * 2 = 8  4 * 3 = 12  4 * 4 = 16  \n5 * 1 = 5  5 * 2 = 10  5 * 3 = 15  5 * 4 = 20  5 * 5 = 25  \n6 * 1 = 6  6 * 2 = 12  6 * 3 = 18  6 * 4 = 24  6 * 5 = 30  6 * 6 = 36  \n7 * 1 = 7  7 * 2 = 14  7 * 3 = 21  7 * 4 = 28  7 * 5 = 35  7 * 6 = 42  7 * 7 = 49  \n8 * 1 = 8  8 * 2 = 16  8 * 3 = 24  8 * 4 = 32  8 * 5 = 40  8 * 6 = 48  8 * 7 = 56  8 * 8 = 64  \n9 * 1 = 9  9 * 2 = 18  9 * 3 = 27  9 * 4 = 36  9 * 5 = 45  9 * 6 = 54  9 * 7 = 63  9 * 8 = 72  9 * 9 = 81  \n"
     ]
    }
   ],
   "source": [
    "# 乘法口诀\n",
    "def mults():\n",
    "\n",
    "    for i in range(9):\n",
    "        for j in range(9):\n",
    "            if i <j:\n",
    "                break\n",
    "            print(f'{i+1} * {j+1} = {(i+1)*(j+1)}', end='  ')\n",
    "        print()\n",
    "\n",
    "\n",
    "mults()"
   ]
  },
  {
   "cell_type": "code",
   "execution_count": 39,
   "metadata": {},
   "outputs": [
    {
     "output_type": "execute_result",
     "data": {
      "text/plain": [
       "[5, 2, 6, 1, 4, 0, 7, 8, 9, 3]"
      ]
     },
     "metadata": {},
     "execution_count": 39
    }
   ],
   "source": [
    "# 洗牌\n",
    "import random\n",
    "def shuffle(cards):\n",
    "    for i in range(len(cards)):\n",
    "        j = i+ random.randint(0,len(cards)-i-1)\n",
    "        cards[i],cards[j] = cards[j] ,cards[i]\n",
    "    return cards\n",
    "\n",
    "shuffle([1,2,3,4,5,6,7,8,9,0])"
   ]
  },
  {
   "cell_type": "code",
   "execution_count": 45,
   "metadata": {},
   "outputs": [
    {
     "output_type": "stream",
     "name": "stdout",
     "text": [
      "2 3 5 7 11 13 17 19 23 29 31 37 41 43 47 53 59 61 67 71 73 79 83 89 97 "
     ]
    },
    {
     "output_type": "execute_result",
     "data": {
      "text/plain": [
       "25"
      ]
     },
     "metadata": {},
     "execution_count": 45
    }
   ],
   "source": [
    "# 数质数\n",
    "def count_prime(n):\n",
    "    prime_arary = [True]*(n+1)\n",
    "    i=2\n",
    "    while i*i<=n:\n",
    "        if prime_arary[i]:\n",
    "            j=i\n",
    "            while(i*j<=n):\n",
    "                prime_arary[i*j] = False\n",
    "                j=j+1\n",
    "        i+=1\n",
    "    count = 0\n",
    "    for i in range(2,n+1):\n",
    "        if prime_arary[i]:\n",
    "            count+=1\n",
    "            print(i,end=' ')\n",
    "    return count\n",
    "\n",
    "count_prime(100)"
   ]
  },
  {
   "cell_type": "code",
   "execution_count": 27,
   "metadata": {},
   "outputs": [
    {
     "output_type": "stream",
     "name": "stdout",
     "text": [
      "* . * . . . . . . . \n* . . . . . . * . * \n* . . . * . * * * * \n. . * . . * . . * * \n* * * * . * . * . . \n\n* 3 * 1 0 0 1 1 2 1 \n* 4 1 2 1 2 3 * 5 * \n* 3 1 2 * 3 * * * * \n3 5 * 4 4 * 5 5 * * \n* * * * 3 * 3 * 3 2 \n"
     ]
    }
   ],
   "source": [
    "# EX1: 扫雷游戏\n",
    "from random import random\n",
    "def minesweeper(m,n,p):\n",
    "    # 创建棋盘\n",
    "    board = [[None]*(n+2) for i in range(m+2)]\n",
    "\n",
    "    # 生成点\n",
    "    for i in range(1,1+m):\n",
    "        for j in range(1,1+n):\n",
    "            r = random()\n",
    "            board[i][j] = -1 if r<p else 0\n",
    "\n",
    "    # 显示器盘\n",
    "    for i in range(1,1+m):\n",
    "        for j in range(1,1+n):\n",
    "            print('*',end=' ') if board[i][j] == -1 else print('.',end=' ')\n",
    "        print()\n",
    "    print()\n",
    "    \n",
    "    # 计算有几个雷\n",
    "    for i in range(1,1+m):\n",
    "        for j in range(1,1+n):\n",
    "            if board[i][j] != -1:\n",
    "                for ii in range(i-1,i+2):\n",
    "                    for jj in range(j-1,j+2):\n",
    "                        if board[ii][jj] == -1:\n",
    "                            board[i][j]+=1\n",
    "    # for i in range(1,1+m):\n",
    "    #     for j in range(1,1+n):\n",
    "    #         print(board[i][j],end=' ') \n",
    "    #     print()\n",
    "    # print()\n",
    "\n",
    "    # 打印棋盘\n",
    "    for i in range(1,1+m):\n",
    "        for j in range(1,1+n):\n",
    "            print(board[i][j],end=' ') if board[i][j] != -1 else print('*',end=' ')\n",
    "        print()\n",
    "\n",
    "minesweeper(5, 10, 0.5)"
   ]
  },
  {
   "cell_type": "code",
   "execution_count": 31,
   "metadata": {},
   "outputs": [
    {
     "output_type": "stream",
     "name": "stdout",
     "text": [
      "[1, 1, 1, 1, 1, 0, 1, 1, 1, 1]\n[1, 1, 1, 1, 1, 1, 1, 1, 1, 1]\n[1, 1, 0, 1, 1, 1, 1, 1, 1, 1]\n[1, 1, 1, 1, 1, 1, 1, 1, 1, 1]\n[1, 1, 1, 1, 1, 1, 1, 1, 1, 1]\n\n[0, 0, 0, 0, 0, 0, 0, 0, 0, 0]\n[1, 1, 0, 1, 1, 0, 1, 1, 1, 1]\n[0, 0, 0, 0, 0, 0, 0, 0, 0, 0]\n[1, 1, 0, 1, 1, 0, 1, 1, 1, 1]\n[1, 1, 0, 1, 1, 0, 1, 1, 1, 1]\n"
     ]
    }
   ],
   "source": [
    "# 矩阵变换\n",
    "def zero(matrix):\n",
    "    m = [None]*len(matrix)\n",
    "    n = [None]*len(matrix[0])\n",
    "    for i in range(len(matrix)):\n",
    "        for j in range(len(matrix[0])):\n",
    "            if matrix[i][j] == 0:\n",
    "                m[i],n[j]=1,1\n",
    "\n",
    "    for i in range(len(matrix)):\n",
    "        for j in range(len(matrix[0])):\n",
    "            if m[i]==1 or n[j]==1:\n",
    "                matrix[i][j]=0\n",
    "\n",
    "matrix = [  [ 1, 1, 1, 1, 1, 0, 1, 1, 1, 1 ],\n",
    "            [ 1, 1, 1, 1, 1, 1, 1, 1, 1, 1 ],\n",
    "            [ 1, 1, 0, 1, 1, 1, 1, 1, 1, 1 ],\n",
    "            [ 1, 1, 1, 1, 1, 1, 1, 1, 1, 1 ],\n",
    "            [ 1, 1, 1, 1, 1, 1, 1, 1, 1, 1 ]  ]\n",
    "for x in matrix:\n",
    "    print(x, sep=\" \")\n",
    "print()\n",
    "zero(matrix)\n",
    "for x in matrix:\n",
    "    print(x, sep=\" \")"
   ]
  },
  {
   "cell_type": "code",
   "execution_count": null,
   "metadata": {},
   "outputs": [],
   "source": [
    "\n",
    "# 验证数独\n",
    "def sudoku(matrix):\n",
    "    # 验证行\n",
    "    res_rows = res_col = res_block = 0\n",
    "    for i in range(len(matrix)):\n",
    "        if sum(matrix[i]) ==sum([1:9]):\n",
    "            \n",
    "\n",
    "\n",
    "    \n",
    "    \n",
    "    # 验证列\n",
    "    \n",
    "    \n",
    "    \n",
    "    \n",
    "    \n",
    "    # 验证块\n",
    "\n",
    "\n",
    "\n",
    "\n",
    "\n",
    "\n",
    "\n",
    "\n",
    "\n",
    "\n",
    "matrix = [\n",
    "    [5,3,4,6,7,8,9,1,2],\n",
    "    [6,7,2,1,9,5,3,4,8],\n",
    "    [1,9,8,3,4,2,5,6,7],\n",
    "    [8,5,9,7,6,1,4,2,3],\n",
    "    [4,2,6,8,5,3,7,9,1],\n",
    "    [7,1,3,9,2,4,8,5,6],\n",
    "    [9,6,1,5,3,7,2,8,4],\n",
    "    [2,8,7,4,1,9,6,3,5],\n",
    "    [3,4,5,2,8,6,1,7,9]\n",
    "]\n",
    "\n",
    "sudoku(matrix)"
   ]
  },
  {
   "cell_type": "code",
   "execution_count": 50,
   "metadata": {},
   "outputs": [
    {
     "output_type": "execute_result",
     "data": {
      "text/plain": [
       "[[0, 1, 2, 3, 4],\n",
       " [5, 6, 7, 8, 9],\n",
       " [10, 11, 12, 13, 14],\n",
       " [15, 16, 17, 18, 19],\n",
       " [20, 21, 22, 23, 24]]"
      ]
     },
     "metadata": {},
     "execution_count": 50
    }
   ],
   "source": [
    "# Ex5:旋转数组\n",
    "def rotate(matrix):\n",
    "    n = len(matrix)\n",
    "    result = [[0]*n for i in range(n)]\n",
    "\n",
    "    for i in range(n):\n",
    "        for j in range(n):\n",
    "            result [j][n-1-i]=matrix[i][j]\n",
    "    \n",
    "    for x in result:\n",
    "        print(x,sep=' ')\n",
    "\n",
    "matrix = [[i*5+j for j in range(5)] for i in range(5)]\n",
    "matrix\n"
   ]
  },
  {
   "cell_type": "code",
   "execution_count": 51,
   "metadata": {},
   "outputs": [
    {
     "output_type": "stream",
     "name": "stdout",
     "text": [
      "[20, 15, 10, 5, 0]\n[21, 16, 11, 6, 1]\n[22, 17, 12, 7, 2]\n[23, 18, 13, 8, 3]\n[24, 19, 14, 9, 4]\n"
     ]
    }
   ],
   "source": [
    "rotate(matrix)"
   ]
  },
  {
   "cell_type": "code",
   "execution_count": 52,
   "metadata": {},
   "outputs": [
    {
     "output_type": "execute_result",
     "data": {
      "text/plain": [
       "'olleh'"
      ]
     },
     "metadata": {},
     "execution_count": 52
    }
   ],
   "source": [
    "# Ex6: 反转字符串\n",
    "def reverse(s):\n",
    "    return s[::-1]\n",
    "s = \"hello\"\n",
    "r = reverse(s) # O(n)\n",
    "r"
   ]
  },
  {
   "cell_type": "code",
   "execution_count": 58,
   "metadata": {},
   "outputs": [
    {
     "output_type": "execute_result",
     "data": {
      "text/plain": [
       "'olleh'"
      ]
     },
     "metadata": {},
     "execution_count": 58
    }
   ],
   "source": [
    "def reverse2(s):\n",
    "    lst = list(s)\n",
    "    for i in range(len(lst)//2):\n",
    "        lst[i],lst[len(s)-1-i] = lst[len(s)-1-i],lst[i]\n",
    "\n",
    "    return ''.join(lst)\n",
    "s = \"hello\"\n",
    "r = reverse2(s)\n",
    "r"
   ]
  },
  {
   "cell_type": "code",
   "execution_count": 59,
   "metadata": {},
   "outputs": [
    {
     "output_type": "execute_result",
     "data": {
      "text/plain": [
       "5"
      ]
     },
     "metadata": {},
     "execution_count": 59
    }
   ],
   "source": [
    "# Ex7:最长子字符串\n",
    "def find_consecutive_ones(nums):\n",
    "    local = maximum = 0\n",
    "    for i in nums:\n",
    "        local = local +1 if i ==1 else 0\n",
    "        maximum = max(local,maximum)\n",
    "    return maximum\n",
    "nums = [1,1,0,1,1,1,1,1,0,0,0,0,0,1,1,1,0,0,1]\n",
    "result = find_consecutive_ones(nums)\n",
    "result"
   ]
  },
  {
   "cell_type": "code",
   "execution_count": 62,
   "metadata": {},
   "outputs": [
    {
     "output_type": "execute_result",
     "data": {
      "text/plain": [
       "3"
      ]
     },
     "metadata": {},
     "execution_count": 62
    }
   ],
   "source": [
    "# 最大数\n",
    "def largest_twice(nums):\n",
    "    maxmum=second=idx = 0\n",
    "    for i in range(len(nums)):\n",
    "        if maxmum<nums[i]:\n",
    "            second = maxmum\n",
    "            maxmum = nums[i]\n",
    "            idx = i\n",
    "        elif second < nums[i]:\n",
    "            second = nums[i]\n",
    "    return idx if (maxmum >= second * 2) else -1\n",
    "\n",
    "\n",
    "\n",
    "nums = [1, 2,3,8,3,2,1]\n",
    "result = largest_twice(nums)\n",
    "result"
   ]
  },
  {
   "cell_type": "code",
   "execution_count": 65,
   "metadata": {},
   "outputs": [
    {
     "output_type": "stream",
     "name": "stdout",
     "text": [
      "[5, 6]\n[5, 6]\n"
     ]
    }
   ],
   "source": [
    "# Ex9 find all nums disappeared in an array\n",
    "\n",
    "# 慢\n",
    "def findDisappearedNumbers1(nums):\n",
    "    result=[]\n",
    "    for i in range(1,len(nums)+1):\n",
    "        if i not in nums:\n",
    "            result.append(i)\n",
    "    return result\n",
    "\n",
    "# 快\n",
    "def findDisappearedNumbers2(nums):\n",
    "    for i in range(len(nums)):\n",
    "        index = abs(nums[i])-1\n",
    "        nums[index] = -abs(nums[index])\n",
    "    return[i+1 for i in range(len(nums)) if nums[i]>0]\n",
    "\n",
    "\n",
    "nums = [4,3,2,7,8,2,3,1]\n",
    "print(findDisappearedNumbers1(nums))\n",
    "print(findDisappearedNumbers2(nums))"
   ]
  },
  {
   "cell_type": "code",
   "execution_count": 69,
   "metadata": {},
   "outputs": [
    {
     "output_type": "stream",
     "name": "stdout",
     "text": [
      "[1, 3, 0]\n[1, 0, 0, 0]\n"
     ]
    }
   ],
   "source": [
    "# Ex10 plus one\n",
    "def plusOne(digits):\n",
    "    if len(digits)==0:\n",
    "        return -1\n",
    "    addCarry = 1\n",
    "    for i in range(len(digits)-1,-1,-1):\n",
    "        digits[i]+= addCarry\n",
    "        if digits[i]==10:\n",
    "            digits[i]=0\n",
    "            if i ==0:\n",
    "                digits.insert(0,1)\n",
    "        else:\n",
    "            break\n",
    "    return digits\n",
    "\n",
    "\n",
    "digits = [1, 2, 9]\n",
    "print(plusOne(digits))\n",
    "digits = [9, 9, 9]\n",
    "print(plusOne(digits))\n"
   ]
  },
  {
   "cell_type": "code",
   "execution_count": 1,
   "metadata": {},
   "outputs": [
    {
     "output_type": "execute_result",
     "data": {
      "text/plain": [
       "55"
      ]
     },
     "metadata": {},
     "execution_count": 1
    }
   ],
   "source": [
    "# Recursion\n",
    "def mysum_recursive(n):\n",
    "    if n ==0:\n",
    "        return 0\n",
    "    return n+mysum_recursive(n-1)\n",
    "\n",
    "result = mysum_recursive(10)\n",
    "result\n"
   ]
  },
  {
   "cell_type": "code",
   "execution_count": 3,
   "metadata": {},
   "outputs": [
    {
     "output_type": "execute_result",
     "data": {
      "text/plain": [
       "120"
      ]
     },
     "metadata": {},
     "execution_count": 3
    }
   ],
   "source": [
    "def factorial(n):\n",
    "    if n ==1 or n==0:\n",
    "        return 1\n",
    "    return n* factorial(n-1)\n",
    "factorial(5)"
   ]
  },
  {
   "cell_type": "code",
   "execution_count": 6,
   "metadata": {},
   "outputs": [
    {
     "output_type": "execute_result",
     "data": {
      "text/plain": [
       "102334155"
      ]
     },
     "metadata": {},
     "execution_count": 6
    }
   ],
   "source": [
    "def fibonacci(n):\n",
    "    assert n>0\n",
    "    if n<=1:\n",
    "        return (n,0)\n",
    "    (a,b) = fibonacci(n-1)\n",
    "    return (a+b,a)\n",
    "\n",
    "fibonacci(40)[0]"
   ]
  },
  {
   "cell_type": "code",
   "execution_count": 8,
   "metadata": {},
   "outputs": [
    {
     "output_type": "stream",
     "name": "stdout",
     "text": [
      "101 = (((5+1)*2*2+1)*2*2+1)\n"
     ]
    }
   ],
   "source": [
    "# Ex5 数学表达式\n",
    "def intSeq(a,b):\n",
    "\n",
    "    if a==b:\n",
    "        return str(a)\n",
    "\n",
    "    if b%2 ==1:\n",
    "        return '('+intSeq(a,b-1)+'+1)'\n",
    "    \n",
    "    if b< a*2:\n",
    "        return '('+intSeq(a,b-1)+'+1)'\n",
    "    \n",
    "    return intSeq(a,b/2)+'*2'\n",
    "\n",
    "\n",
    "a = 5;\n",
    "b = 101;\n",
    "print(str(b) + \" = \" + intSeq(a, b))"
   ]
  },
  {
   "cell_type": "code",
   "execution_count": null,
   "metadata": {},
   "outputs": [],
   "source": [
    "# Ex6 汉诺塔\n",
    "\n",
    "def hanoi(n,start,end,by):\n",
    "    \n"
   ]
  },
  {
   "cell_type": "code",
   "execution_count": 9,
   "metadata": {},
   "outputs": [
    {
     "output_type": "stream",
     "name": "stdout",
     "text": [
      "[[], [1], [2], [1, 2], [3], [1, 3], [2, 3], [1, 2, 3]]\n"
     ]
    }
   ],
   "source": [
    "# subset\n",
    "# 所有的子集\n",
    "# 普通解法\n",
    "def subsets(nums):\n",
    "    result = [[]]\n",
    "    for i in nums:\n",
    "        for j in result[:]:\n",
    "            x =j[:]\n",
    "            x.append(i)\n",
    "            result.append(x)\n",
    "    return result\n",
    "\n",
    "nums = [1, 2, 3]\n",
    "print(subsets(nums))\n"
   ]
  },
  {
   "cell_type": "code",
   "execution_count": 3,
   "metadata": {},
   "outputs": [
    {
     "output_type": "stream",
     "name": "stdout",
     "text": [
      "[[], ['a'], ['a', 'b'], ['a', 'b', 'c'], ['a', 'c'], ['b'], ['b', 'c'], ['c']]\n"
     ]
    }
   ],
   "source": [
    "# recursion vision\n",
    "# 所有子集\n",
    "def subsets(nums):\n",
    "    lst=[]\n",
    "    result = []\n",
    "    subsets_recursive_helper(result,lst,nums,0)\n",
    "    return result\n",
    "\n",
    "def subsets_recursive_helper(result,lst,nums,pos):\n",
    "    result.append(lst[:])\n",
    "    for i in range(pos,len(nums)):\n",
    "        lst.append(nums[i])\n",
    "        subsets_recursive_helper(result,lst,nums,i+1)\n",
    "        lst.pop()\n",
    "\n",
    "\n",
    "\n",
    "nums = ['a','b','c']\n",
    "print(subsets(nums))"
   ]
  },
  {
   "cell_type": "code",
   "execution_count": 16,
   "metadata": {},
   "outputs": [
    {
     "output_type": "stream",
     "name": "stdout",
     "text": [
      "[[], ['a'], ['a', 'b'], ['a', 'b', 'c'], ['a', 'b', 'c', 'c'], ['a', 'c'], ['a', 'c', 'c'], ['b'], ['b', 'c'], ['b', 'c', 'c'], ['c'], ['c', 'c']]\n"
     ]
    }
   ],
   "source": [
    "# 如果有重复的数值\n",
    "# 排序\n",
    "\n",
    "def subsets2(nums):\n",
    "    lst=[]\n",
    "    result = []\n",
    "    nums.sort()\n",
    "    subsets_recursive_helper(result,lst,nums,0)\n",
    "    return result\n",
    "\n",
    "def subsets_recursive_helper2(result,lst,nums,pos):\n",
    "    result.append(lst[:])\n",
    "    for i in range(pos,len(nums)):\n",
    "\n",
    "        if nums[i] == nums[i-1]:\n",
    "             continue\n",
    "\n",
    "        lst.append(nums[i])\n",
    "        subsets_recursive_helper2(result,lst,nums,i+1)\n",
    "        lst.pop()\n",
    "\n",
    "\n",
    "\n",
    "nums = ['a','b','c','c']\n",
    "print(subsets2(nums))\n",
    "\n",
    "\n"
   ]
  },
  {
   "cell_type": "code",
   "execution_count": 18,
   "metadata": {},
   "outputs": [
    {
     "output_type": "stream",
     "name": "stdout",
     "text": [
      "[[1, 3, 1, 2, 1], [1, 3, 2, 1], [1, 3, 1], [1, 3], [1, 3, 1, 2], [1, 3, 2], [1, 3]]\n"
     ]
    }
   ],
   "source": [
    "# Permutation 排列组合\n",
    "\n",
    "def permute(nums):\n",
    "    perms = [[]]\n",
    "    for n in nums:\n",
    "        new_perms = []\n",
    "        for perm in perms:\n",
    "            for i in range(len(perm)+1):\n",
    "                new_perms.append(perm[:1]+[n]+perm[i:])\n",
    "        perms = new_perms\n",
    "    return perms\n",
    "\n",
    "nums = [1,2,3]\n",
    "print(permute(nums))"
   ]
  },
  {
   "cell_type": "code",
   "execution_count": 2,
   "metadata": {},
   "outputs": [
    {
     "output_type": "execute_result",
     "data": {
      "text/plain": [
       "12"
      ]
     },
     "metadata": {},
     "execution_count": 2
    }
   ],
   "source": [
    "# House Robber\n",
    "def rob(nums):\n",
    "    n = len(nums)\n",
    "    dp = [[0]*2 for _ in range(n+1)]\n",
    "    for i in range(1,n+1):\n",
    "        dp[i][0] = max(dp[i-1][0],dp[i-1][1])\n",
    "        dp[i][1] = nums[i-1]+dp[i-1][0]\n",
    "    return max(dp[n][0],dp[n][1])\n",
    "\n",
    " \n",
    "nums = [2,7,9,3,1]\n",
    "rob(nums)"
   ]
  },
  {
   "cell_type": "code",
   "execution_count": 4,
   "metadata": {},
   "outputs": [
    {
     "output_type": "execute_result",
     "data": {
      "text/plain": [
       "12"
      ]
     },
     "metadata": {},
     "execution_count": 4
    }
   ],
   "source": [
    "# House Robber\n",
    "def rob(nums):\n",
    "    yes,no = 0,0\n",
    "    for i in nums:\n",
    "        no,yes =max(yes,no),i+no\n",
    "    return max(yes,no)\n",
    " \n",
    "nums = [2,7,9,3,1]\n",
    "rob(nums)"
   ]
  },
  {
   "cell_type": "code",
   "execution_count": 7,
   "metadata": {},
   "outputs": [
    {
     "output_type": "execute_result",
     "data": {
      "text/plain": [
       "11"
      ]
     },
     "metadata": {},
     "execution_count": 7
    }
   ],
   "source": [
    "# 环形房子\n",
    "# 分两种情况进行判断\n",
    "\n",
    "# House Robber\n",
    "def rob(nums):\n",
    "    if len(nums)==0:\n",
    "        return 0\n",
    "    \n",
    "    if len(nums)==1:\n",
    "        return nums[0]\n",
    "        \n",
    "    return max(rob_help(nums,0,len(nums)-1),rob_help(nums,1,len(nums)))\n",
    "\n",
    "def rob_help(nums,start,end):\n",
    "    yes,no = nums[start],0\n",
    "    for i in range(start+1,end):\n",
    "        no,yes =max(yes,no),i+no\n",
    "    return max(yes,no)\n",
    " \n",
    "nums = [2,7,9,3,1]\n",
    "rob(nums)"
   ]
  },
  {
   "cell_type": "code",
   "execution_count": 2,
   "metadata": {
    "tags": []
   },
   "outputs": [
    {
     "output_type": "stream",
     "name": "stdout",
     "text": [
      "[0, 1, 2, 3, 5, 8, 13, 21, 34, 55, 89]\n89\n"
     ]
    }
   ],
   "source": [
    "\n",
    "def Tile(n):\n",
    "    dp = [0]*(n+1)\n",
    "    dp[0],dp[1],dp[2]=  0,1,2\n",
    "    for i in range(3,n+1):\n",
    "        dp[i] = dp[i-1]+dp[i-2]\n",
    "\n",
    "    print(dp)\n",
    "    return dp[n]\n",
    "print(Tile(10))\n",
    "\n",
    "\n"
   ]
  },
  {
   "cell_type": "code",
   "execution_count": 3,
   "metadata": {},
   "outputs": [
    {
     "output_type": "execute_result",
     "data": {
      "text/plain": [
       "6"
      ]
     },
     "metadata": {},
     "execution_count": 3
    }
   ],
   "source": [
    "def minCostClimbingStairs(cost):\n",
    "    n = len(cost)+1\n",
    "    dp=[0]*n\n",
    "    for i in range(2,n):\n",
    "        dp[i] = min(dp[i - 2] + cost[i - 2], dp[i - 1] + cost[i - 1])\n",
    "\n",
    "    return dp[n-1]\n",
    "\n",
    "cost = [1, 100, 1, 1, 1, 100, 1, 1, 100, 1,22]\n",
    "minCostClimbingStairs(cost)"
   ]
  },
  {
   "cell_type": "code",
   "execution_count": 9,
   "metadata": {},
   "outputs": [
    {
     "output_type": "execute_result",
     "data": {
      "text/plain": [
       "1"
      ]
     },
     "metadata": {},
     "execution_count": 9
    }
   ],
   "source": [
    "def numDecodings(s):\n",
    "    # 判断异常条件\n",
    "    if s=='' or s[0]=='0':\n",
    "        return 0\n",
    "    dp=[1,1]\n",
    "    for i in range(2,len(s)+1):\n",
    "        result = 0\n",
    "        if 10<=int(s[i-2:i])<=26:\n",
    "            result+=dp[i-2]\n",
    "        if s[i-1]!='0':\n",
    "            result+=dp[i-1]\n",
    "        dp.append(result)\n",
    "    return dp[len(s)]\n",
    "\n",
    "numDecodings(\"110\")"
   ]
  },
  {
   "cell_type": "code",
   "execution_count": 15,
   "metadata": {
    "tags": []
   },
   "outputs": [
    {
     "output_type": "stream",
     "name": "stdout",
     "text": [
      "5\n[1, 2, 5, 14, 42, 132, 429, 1430, 4862]\n"
     ]
    }
   ],
   "source": [
    "# Ex8 Unique Binary Search Trees\n",
    "# 卡特兰数\n",
    "def numTrees(n):\n",
    "    if n<=2:\n",
    "        return n\n",
    "    sol = [0]*(n+1)\n",
    "    sol[0]=sol[1]=1\n",
    "    for i in range(2,n+1):\n",
    "        for left in range(0,i):\n",
    "            sol[i] += sol[left]*sol[i-1-left]\n",
    "    return sol[n]\n",
    "\n",
    "print(numTrees(3))\n",
    "print([numTrees(i) for i in range(1,10)])\n",
    "\n"
   ]
  },
  {
   "cell_type": "code",
   "execution_count": 20,
   "metadata": {},
   "outputs": [
    {
     "output_type": "execute_result",
     "data": {
      "text/plain": [
       "6"
      ]
     },
     "metadata": {},
     "execution_count": 20
    }
   ],
   "source": [
    "# Ex. 9 Maximum Product Subarray\n",
    "def maxProduct(nums):\n",
    "    if len(nums)==0:\n",
    "        return 0\n",
    "    res = maximum=minimum=nums[0]\n",
    "    for i in range(1,len(nums)):\n",
    "        maximum = max(maximum*nums[i],minimum*nums[i],nums[i])\n",
    "        minimum = min(maximum*nums[i],minimum*nums[i],nums[i])\n",
    "        res = max(maximum,res)\n",
    "\n",
    "    return res\n",
    "\n",
    "\n",
    "\n",
    "nums = [2,3,-2,4,]\n",
    "maxProduct(nums)"
   ]
  },
  {
   "cell_type": "code",
   "execution_count": 22,
   "metadata": {},
   "outputs": [
    {
     "output_type": "execute_result",
     "data": {
      "text/plain": [
       "4"
      ]
     },
     "metadata": {},
     "execution_count": 22
    }
   ],
   "source": [
    "len([2,3,-2,4,])"
   ]
  },
  {
   "cell_type": "code",
   "execution_count": 23,
   "metadata": {},
   "outputs": [
    {
     "output_type": "execute_result",
     "data": {
      "text/plain": [
       "5"
      ]
     },
     "metadata": {},
     "execution_count": 23
    }
   ],
   "source": [
    "def maxProfit(prices):\n",
    "    if len(prices)<2:\n",
    "        return 0\n",
    "    minPrice=prices[0]\n",
    "    maxProfit=0\n",
    "    for price in prices:\n",
    "        if price<minPrice:\n",
    "            minPrice=price\n",
    "        if price-minPrice>maxProfit:\n",
    "            maxProfit= price-minPrice\n",
    "\n",
    "    return maxProfit\n",
    "\n",
    "prices = [7,1,5,3,6,4]\n",
    "maxProfit(prices)"
   ]
  },
  {
   "cell_type": "code",
   "execution_count": 29,
   "metadata": {},
   "outputs": [
    {
     "output_type": "execute_result",
     "data": {
      "text/plain": [
       "5"
      ]
     },
     "metadata": {},
     "execution_count": 29
    }
   ],
   "source": [
    "\n",
    "def maxProfit(prices):\n",
    "    if len(prices) < 2:\n",
    "        return 0\n",
    "    minPrice = prices[0]\n",
    "    dp = [0] * len(prices)\n",
    "    for i in range(len(prices)):\n",
    "        dp[i]=max(dp[i-1],prices[i]-minPrice)\n",
    "        minPrice = min(minPrice,prices[i])\n",
    "    return dp[-1]\n",
    "\n",
    "prices = [7,1,5,3,6,4]\n",
    "maxProfit(prices)\n"
   ]
  },
  {
   "cell_type": "code",
   "execution_count": 32,
   "metadata": {},
   "outputs": [
    {
     "output_type": "execute_result",
     "data": {
      "text/plain": [
       "7"
      ]
     },
     "metadata": {},
     "execution_count": 32
    }
   ],
   "source": [
    "def maxProfit2(prices):\n",
    "    if len(prices)<2:\n",
    "        return 0\n",
    "\n",
    "    maxProfit = 0\n",
    "    for i in range(1,len(prices)):\n",
    "        if prices[i]>prices[i-1]:\n",
    "            maxProfit+=prices[i]-prices[i-1]\n",
    "    return maxProfit\n",
    "\n",
    "prices = [7,1,5,3,6,4]\n",
    "maxProfit2(prices)"
   ]
  },
  {
   "cell_type": "code",
   "execution_count": 33,
   "metadata": {},
   "outputs": [
    {
     "output_type": "execute_result",
     "data": {
      "text/plain": [
       "7"
      ]
     },
     "metadata": {},
     "execution_count": 33
    }
   ],
   "source": [
    "def maxProfit2(prices):\n",
    "    if len(prices)<2:\n",
    "        return 0\n",
    "\n",
    "    maxProfit = 0\n",
    "    for i in range(1,len(prices)):\n",
    "        maxProfit+=max(0,prices[i]-prices[i-1])\n",
    "    return maxProfit\n",
    "\n",
    "prices = [7,1,5,3,6,4]\n",
    "maxProfit2(prices)"
   ]
  },
  {
   "cell_type": "code",
   "execution_count": 2,
   "metadata": {},
   "outputs": [
    {
     "output_type": "execute_result",
     "data": {
      "text/plain": [
       "7"
      ]
     },
     "metadata": {},
     "execution_count": 2
    }
   ],
   "source": [
    "def maxProfit3(prices):\n",
    "    cash, hold=0,-prices[0]\n",
    "\n",
    "    for i in range(1,len(prices)):\n",
    "        cash, hold = max(cash,hold+prices[i]),max(hold,cash-prices[i])\n",
    "    return cash\n",
    "\n",
    "prices = [7,1,5,3,6,4]\n",
    "maxProfit3(prices)"
   ]
  },
  {
   "cell_type": "code",
   "execution_count": 4,
   "metadata": {},
   "outputs": [
    {
     "output_type": "execute_result",
     "data": {
      "text/plain": [
       "16"
      ]
     },
     "metadata": {},
     "execution_count": 4
    }
   ],
   "source": [
    "max([7,1,5,3,16,4])"
   ]
  },
  {
   "cell_type": "code",
   "execution_count": null,
   "metadata": {},
   "outputs": [],
   "source": []
  }
 ]
}