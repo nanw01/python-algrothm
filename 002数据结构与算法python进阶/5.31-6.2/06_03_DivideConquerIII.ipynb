{
 "cells": [
  {
   "cell_type": "markdown",
   "metadata": {
    "run_control": {
     "frozen": false,
     "read_only": false
    }
   },
   "source": [
    "# Divide and Conquer III"
   ]
  },
  {
   "cell_type": "code",
   "execution_count": 68,
   "metadata": {
    "collapsed": true
   },
   "outputs": [],
   "source": [
    "import time\n",
    "import random\n",
    "from random import randint\n",
    "\n",
    "import matplotlib.pyplot as plt\n",
    "%matplotlib inline  \n",
    "\n",
    "def generate_random_array(n):\n",
    "    return [randint(1, 3 * n) for e in range(n)]"
   ]
  },
  {
   "cell_type": "code",
   "execution_count": null,
   "metadata": {
    "collapsed": true
   },
   "outputs": [],
   "source": []
  },
  {
   "cell_type": "code",
   "execution_count": null,
   "metadata": {
    "collapsed": true
   },
   "outputs": [],
   "source": [
    "In this lecture, you will learn:\n",
    "\n",
    "<a href='#Ex1'>Ex.1 Count of Smaller Numbers After Self</a>\n",
    "\n",
    "<a href='#Ex2'>Ex.2 Median of Two Sorted Array</a>"
   ]
  },
  {
   "cell_type": "markdown",
   "metadata": {
    "run_control": {
     "frozen": false,
     "read_only": false
    }
   },
   "source": [
    "### <a id='Ex1'>Ex.1 : Count of Smaller Numbers After Self</a>\n",
    "\n",
    "You are given an integer array nums and you have to return a new counts array. The counts array has the property where counts[i] is the number of smaller elements to the right of nums[i].\n",
    "\n",
    "** Example: **\n",
    "\n",
    "Given nums = [5, 2, 6, 1]\n",
    "\n",
    "To the right of 5 there are 2 smaller elements (2 and 1).\n",
    "\n",
    "To the right of 2 there is only 1 smaller element (1).\n",
    "\n",
    "To the right of 6 there is 1 smaller element (1).\n",
    "\n",
    "To the right of 1 there is 0 smaller element.\n",
    "\n",
    "Return the array [2, 1, 1, 0]."
   ]
  },
  {
   "cell_type": "markdown",
   "metadata": {},
   "source": [
    "** Solution 1: Brute Force - $O(n^2)$ **"
   ]
  },
  {
   "cell_type": "code",
   "execution_count": 69,
   "metadata": {
    "collapsed": true
   },
   "outputs": [],
   "source": [
    "def countSmaller(nums):\n",
    "    n = len(nums)\n",
    "    count = [0] * n\n",
    "    for i in range(n):\n",
    "        for j in range(i + 1, n):\n",
    "            if nums[i] > nums[j]:\n",
    "                count[i] += 1\n",
    "                \n",
    "    return count"
   ]
  },
  {
   "cell_type": "code",
   "execution_count": 70,
   "metadata": {},
   "outputs": [
    {
     "data": {
      "text/plain": [
       "[2, 1, 1, 0]"
      ]
     },
     "execution_count": 70,
     "metadata": {},
     "output_type": "execute_result"
    }
   ],
   "source": [
    "nums = [5, 2, 6, 1]\n",
    "countSmaller(nums)"
   ]
  },
  {
   "cell_type": "code",
   "execution_count": null,
   "metadata": {
    "collapsed": true
   },
   "outputs": [],
   "source": []
  },
  {
   "cell_type": "markdown",
   "metadata": {},
   "source": [
    "** Solution 2: Binary Search - $O(n^2)$ **"
   ]
  },
  {
   "cell_type": "code",
   "execution_count": 66,
   "metadata": {
    "collapsed": true
   },
   "outputs": [],
   "source": [
    "def countSmaller(nums):\n",
    "    snums = []\n",
    "    ans = [0] * len(nums)\n",
    "\n",
    "    for i in range(len(nums) - 1, -1, -1):\n",
    "        index = findIndex(snums, nums[i])\n",
    "        ans[i] = index\n",
    "        snums.insert(index, nums[i]) \n",
    "    return ans\n",
    "\n",
    "def findIndex(snums, target):\n",
    "    start = 0\n",
    "    end = len(snums) - 1\n",
    "\n",
    "    if len(snums) == 0: \n",
    "        return 0\n",
    "\n",
    "    while start <= end:\n",
    "        mid = start + (end - start) // 2\n",
    "        if snums[mid] < target:\n",
    "            start=mid + 1\n",
    "        else:\n",
    "            end = mid - 1\n",
    "    return start"
   ]
  },
  {
   "cell_type": "code",
   "execution_count": 67,
   "metadata": {},
   "outputs": [
    {
     "data": {
      "text/plain": [
       "[2, 1, 1, 0]"
      ]
     },
     "execution_count": 67,
     "metadata": {},
     "output_type": "execute_result"
    }
   ],
   "source": [
    "nums = [5, 2, 6, 1]\n",
    "countSmaller(nums)"
   ]
  },
  {
   "cell_type": "code",
   "execution_count": null,
   "metadata": {
    "collapsed": true
   },
   "outputs": [],
   "source": []
  },
  {
   "cell_type": "markdown",
   "metadata": {},
   "source": [
    "** Solution 3: Merge Sort - $O(nlgn)$ **"
   ]
  },
  {
   "cell_type": "code",
   "execution_count": 52,
   "metadata": {},
   "outputs": [
    {
     "data": {
      "text/plain": [
       "[(0, 5), (1, 2), (2, 6), (3, 1)]"
      ]
     },
     "execution_count": 52,
     "metadata": {},
     "output_type": "execute_result"
    }
   ],
   "source": [
    "list(enumerate(nums))"
   ]
  },
  {
   "cell_type": "code",
   "execution_count": 57,
   "metadata": {
    "collapsed": true
   },
   "outputs": [],
   "source": [
    "def countSmaller(nums):\n",
    "    def sort(enum):\n",
    "        half = len(enum) // 2\n",
    "        if half:\n",
    "            left, right = sort(enum[:half]), sort(enum[half:])\n",
    "            m, n = len(left), len(right)\n",
    "            i = j = 0\n",
    "            while i < m or j < n:\n",
    "                if j == n or i < m and left[i][1] <= right[j][1]:\n",
    "                    smaller[left[i][0]] += j\n",
    "                    enum[i+j] = left[i]\n",
    "                    i += 1\n",
    "                else:\n",
    "                    enum[i+j] = right[j]\n",
    "                    j += 1\n",
    "            print(\"left: \", left)\n",
    "            print(\"right: \", right)\n",
    "            print(\"smaller: \", smaller)\n",
    "        print(\"enum: \", enum)\n",
    "        return enum\n",
    "    smaller = [0] * len(nums)\n",
    "    sort(list(enumerate(nums)))\n",
    "    return smaller"
   ]
  },
  {
   "cell_type": "code",
   "execution_count": 58,
   "metadata": {},
   "outputs": [
    {
     "name": "stdout",
     "output_type": "stream",
     "text": [
      "enum:  [(0, 5)]\n",
      "enum:  [(1, 2)]\n",
      "left:  [(0, 5)]\n",
      "right:  [(1, 2)]\n",
      "smaller:  [1, 0, 0, 0]\n",
      "enum:  [(1, 2), (0, 5)]\n",
      "enum:  [(2, 6)]\n",
      "enum:  [(3, 1)]\n",
      "left:  [(2, 6)]\n",
      "right:  [(3, 1)]\n",
      "smaller:  [1, 0, 1, 0]\n",
      "enum:  [(3, 1), (2, 6)]\n",
      "left:  [(1, 2), (0, 5)]\n",
      "right:  [(3, 1), (2, 6)]\n",
      "smaller:  [2, 1, 1, 0]\n",
      "enum:  [(3, 1), (1, 2), (0, 5), (2, 6)]\n"
     ]
    },
    {
     "data": {
      "text/plain": [
       "[2, 1, 1, 0]"
      ]
     },
     "execution_count": 58,
     "metadata": {},
     "output_type": "execute_result"
    }
   ],
   "source": [
    "nums = [5, 2, 6, 1]\n",
    "countSmaller(nums)"
   ]
  },
  {
   "cell_type": "code",
   "execution_count": null,
   "metadata": {
    "collapsed": true
   },
   "outputs": [],
   "source": []
  },
  {
   "cell_type": "markdown",
   "metadata": {},
   "source": [
    "### <a id='Ex2'>Ex.2 : Median of Two Sorted Array</a>\n",
    "\n",
    "There are two sorted arrays nums1 and nums2 of size m and n respectively.\n",
    "\n",
    "Find the median of the two sorted arrays. The overall run time complexity should be O(log (m+n)).\n",
    "\n",
    "Example 1:\n",
    "\n",
    "nums1 = [1, 3]\n",
    "\n",
    "nums2 = [2]\n",
    "\n",
    "The median is 2.0\n",
    "\n",
    "Example 2:\n",
    "\n",
    "nums1 = [1, 2]\n",
    "\n",
    "nums2 = [3, 4]\n",
    "\n",
    "The median is (2 + 3)/2 = 2.5"
   ]
  },
  {
   "cell_type": "code",
   "execution_count": 73,
   "metadata": {
    "collapsed": true
   },
   "outputs": [],
   "source": [
    "def findMedianSortedArrays(A, B):\n",
    "    l = len(A) + len(B)\n",
    "    if l % 2 == 1:\n",
    "        return kth(A, B, l // 2)\n",
    "    else:\n",
    "        return (kth(A, B, l // 2) + kth(A, B, l // 2 - 1)) / 2.   \n",
    "    \n",
    "def kth(a, b, k):\n",
    "    if not a:\n",
    "        return b[k]\n",
    "    if not b:\n",
    "        return a[k]\n",
    "    ia, ib = len(a) // 2 , len(b) // 2\n",
    "    ma, mb = a[ia], b[ib]\n",
    "    \n",
    "    # when k is bigger than the sum of a and b's median indices \n",
    "    if ia + ib < k:\n",
    "        # if a's median is bigger than b's, b's first half doesn't include k\n",
    "        if ma > mb:\n",
    "            return kth(a, b[ib + 1:], k - ib - 1)\n",
    "        else:\n",
    "            return kth(a[ia + 1:], b, k - ia - 1)\n",
    "    # when k is smaller than the sum of a and b's indices\n",
    "    else:\n",
    "        # if a's median is bigger than b's, a's second half doesn't include k\n",
    "        if ma > mb:\n",
    "            return kth(a[:ia], b, k)\n",
    "        else:\n",
    "            return kth(a, b[:ib], k)"
   ]
  },
  {
   "cell_type": "code",
   "execution_count": 75,
   "metadata": {},
   "outputs": [
    {
     "data": {
      "text/plain": [
       "15"
      ]
     },
     "execution_count": 75,
     "metadata": {},
     "output_type": "execute_result"
    }
   ],
   "source": [
    "A = [1, 12, 15, 26, 38]\n",
    "B = [2, 13, 17, 20]\n",
    "\n",
    "findMedianSortedArrays(A, B)"
   ]
  },
  {
   "cell_type": "code",
   "execution_count": null,
   "metadata": {
    "collapsed": true
   },
   "outputs": [],
   "source": []
  },
  {
   "cell_type": "code",
   "execution_count": 79,
   "metadata": {
    "collapsed": true
   },
   "outputs": [],
   "source": [
    "def find(nums1, s1, e1, nums2, s2, e2, k):\n",
    "    if e1 < s1:\n",
    "        return nums2[k + s2]\n",
    "    if e2 < s2:\n",
    "        return nums1[k + s1]\n",
    "    \n",
    "    if k < 1:\n",
    "        return min(nums1[k + s1], nums2[k + s2])\n",
    "    \n",
    "    ia, ib = (s1 + e1) // 2 , (s2 + e2) // 2\n",
    "    ma, mb = nums1[ia], nums2[ib]\n",
    "    if (ia - s1) + (ib - s2) < k:\n",
    "        if ma > mb:\n",
    "            return find(nums1, s1, e1, nums2, ib + 1, e2, k - (ib - s2) - 1)\n",
    "        else:\n",
    "            return find(nums1, ia + 1, e1, nums2, s2, e2, k - (ia - s1) - 1)\n",
    "    else:\n",
    "        if ma > mb:\n",
    "            return find(nums1, s1, ia - 1, nums2, s2, e2, k)\n",
    "        else:\n",
    "            return find(nums1, s1, e1, nums2, s2, ib - 1, k)\n",
    "\n",
    "def findMedianSortedArrays(nums1, nums2):\n",
    "    l = len(nums1) + len(nums2)\n",
    "    if l % 2 == 1:\n",
    "        return find(nums1, 0, len(nums1) - 1, nums2, 0, len(nums2) - 1, l // 2)\n",
    "    else:\n",
    "        return (find(nums1, 0, len(nums1) - 1, nums2, 0, len(nums2) - 1, l // 2) \n",
    "                + find(nums1, 0, len(nums1) - 1, nums2, 0, len(nums2) - 1, l // 2 - 1)) / 2.0"
   ]
  },
  {
   "cell_type": "code",
   "execution_count": 81,
   "metadata": {},
   "outputs": [
    {
     "data": {
      "text/plain": [
       "14.0"
      ]
     },
     "execution_count": 81,
     "metadata": {},
     "output_type": "execute_result"
    }
   ],
   "source": [
    "A = [1, 12, 15, 26, 38]\n",
    "B = [2, 13, 17]\n",
    "\n",
    "findMedianSortedArrays(A, B)"
   ]
  },
  {
   "cell_type": "code",
   "execution_count": null,
   "metadata": {
    "collapsed": true
   },
   "outputs": [],
   "source": []
  }
 ],
 "metadata": {
  "kernelspec": {
   "display_name": "Python 3",
   "language": "python",
   "name": "python3"
  },
  "language_info": {
   "codemirror_mode": {
    "name": "ipython",
    "version": 3
   },
   "file_extension": ".py",
   "mimetype": "text/x-python",
   "name": "python",
   "nbconvert_exporter": "python",
   "pygments_lexer": "ipython3",
   "version": "3.6.1"
  }
 },
 "nbformat": 4,
 "nbformat_minor": 2
}
