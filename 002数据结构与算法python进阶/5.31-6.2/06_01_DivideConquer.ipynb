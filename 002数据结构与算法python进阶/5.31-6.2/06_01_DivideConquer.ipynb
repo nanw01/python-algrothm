{
 "cells": [
  {
   "cell_type": "markdown",
   "metadata": {
    "run_control": {
     "frozen": false,
     "read_only": false
    }
   },
   "source": [
    "# Divide and Conquer"
   ]
  },
  {
   "cell_type": "code",
   "execution_count": 7,
   "metadata": {
    "collapsed": true
   },
   "outputs": [],
   "source": [
    "import time\n",
    "import random\n",
    "from random import randint\n",
    "import sys\n",
    "\n",
    "import matplotlib.pyplot as plt\n",
    "%matplotlib inline  \n",
    "\n",
    "def generate_random_array(n):\n",
    "    return [randint(1, 3 * n) for e in range(n)]"
   ]
  },
  {
   "cell_type": "markdown",
   "metadata": {},
   "source": [
    "** 我们已经见过的Divide and Conquer相关的问题：**\n",
    "\n",
    "- Binary Search\n",
    "- Merge Sort\n",
    "- Quick Sort\n",
    "\n",
    "The divide-and-conquer strategy solves a problem by:\n",
    "1. Breaking it into subproblems that are themselves smaller instances of the same type of problem\n",
    "2. Recursively solving these subproblems\n",
    "3. Appropriately combining their answers\n",
    "\n",
    "The real work is done piecemeal, in three different places: in the partitioning of problems into subproblems; at the very tail end of the recursion, when the subproblems are so small that they are solved outright; and in the gluing together of partial answers. These are held together and coordinated by the algorithm’s core recursive structure."
   ]
  },
  {
   "cell_type": "code",
   "execution_count": null,
   "metadata": {
    "collapsed": true
   },
   "outputs": [],
   "source": []
  },
  {
   "cell_type": "markdown",
   "metadata": {},
   "source": [
    "In this lecture, you will learn:\n",
    "\n",
    "<a href='#Ex1'>Ex.1 Find Medium / Find kth Element</a>\n",
    "\n",
    "<a href='#Ex2'>Ex.2 Fast Power</a>\n",
    "\n",
    "<a href='#Ex3'>Ex.3 Search Peak Element</a>\n",
    "\n",
    "<a href='#Ex4'>Ex.4 Find index of an extra element present in one sorted array</a>\n",
    "\n",
    "<a href='#Ex5'>Ex.5 Maximum Sum Subarray </a>\n",
    "\n",
    "<a href='#Ex6'>Ex.6 Count Inversions</a>"
   ]
  },
  {
   "cell_type": "markdown",
   "metadata": {
    "run_control": {
     "frozen": false,
     "read_only": false
    }
   },
   "source": [
    "### <a id='Ex1'>Ex.1: Find Medium / Find kth Element</a>\n",
    "\n",
    "See Document."
   ]
  },
  {
   "cell_type": "code",
   "execution_count": null,
   "metadata": {
    "collapsed": true
   },
   "outputs": [],
   "source": [
    "# O(nlgn) time\n",
    "def findKthLargest1(nums, k):\n",
    "    start = time.time()\n",
    "    rst = sorted(nums, reverse=True)\n",
    "    t = time.time() - start\n",
    "    return rst[k-1], len(rst), t"
   ]
  },
  {
   "cell_type": "code",
   "execution_count": null,
   "metadata": {
    "collapsed": true
   },
   "outputs": [],
   "source": [
    "numbers = generate_random_array(6)\n",
    "print(numbers)\n",
    "m = findKthLargest1(numbers, len(numbers)//2)\n",
    "m"
   ]
  },
  {
   "cell_type": "code",
   "execution_count": null,
   "metadata": {
    "collapsed": true
   },
   "outputs": [],
   "source": [
    "random_lists = [generate_random_array(1000 * n) for n in range(1, 21)]"
   ]
  },
  {
   "cell_type": "code",
   "execution_count": null,
   "metadata": {
    "collapsed": true
   },
   "outputs": [],
   "source": [
    "rst = [findKthLargest1(l, len(l)//2) for l in random_lists]\n",
    "rst"
   ]
  },
  {
   "cell_type": "code",
   "execution_count": null,
   "metadata": {
    "collapsed": true
   },
   "outputs": [],
   "source": [
    "x = list(zip(*rst))[1]\n",
    "y = list(zip(*rst))[2]\n",
    "\n",
    "plt.plot(x, y)"
   ]
  },
  {
   "cell_type": "code",
   "execution_count": null,
   "metadata": {
    "collapsed": true
   },
   "outputs": [],
   "source": [
    "# O(nk) time, bubble sort idea, TLE\n",
    "def findKthLargest2(nums, k):\n",
    "    start = time.time()\n",
    "    for i in range(k):\n",
    "        for j in range(len(nums)-i-1):\n",
    "            if nums[j] > nums[j+1]:\n",
    "                # exchange elements, time consuming\n",
    "                nums[j], nums[j+1] = nums[j+1], nums[j]\n",
    "    t = time.time() - start\n",
    "    return nums[len(nums)-k], len(nums), t"
   ]
  },
  {
   "cell_type": "code",
   "execution_count": null,
   "metadata": {
    "collapsed": true
   },
   "outputs": [],
   "source": [
    "rst = [findKthLargest2(l, len(random_lists)//2) for l in random_lists]\n",
    "rst"
   ]
  },
  {
   "cell_type": "code",
   "execution_count": null,
   "metadata": {
    "collapsed": true
   },
   "outputs": [],
   "source": [
    "x = list(zip(*rst))[1]\n",
    "y = list(zip(*rst))[2]\n",
    "\n",
    "plt.plot(x, y)"
   ]
  },
  {
   "cell_type": "code",
   "execution_count": null,
   "metadata": {
    "collapsed": true
   },
   "outputs": [],
   "source": [
    "# O(n) time, quick selection\n",
    "def findKthLargest(nums, k):\n",
    "    # convert the kth largest to smallest\n",
    "    start = time.time()\n",
    "    rst = findKthSmallest(nums, len(nums)+1-k)\n",
    "    t = time.time() - start\n",
    "    return rst, len(nums), t\n",
    "    \n",
    "def findKthSmallest(nums, k):\n",
    "    if nums:\n",
    "        pos = partition(nums, 0, len(nums)-1)\n",
    "        if k > pos+1:\n",
    "            return findKthSmallest(nums[pos+1:], k-pos-1)\n",
    "        elif k < pos+1:\n",
    "            return findKthSmallest(nums[:pos], k)\n",
    "        else:\n",
    "            return nums[pos]\n",
    " \n",
    "# choose the right-most element as pivot   \n",
    "def partition(nums, l, r):\n",
    "    low = l\n",
    "    while l < r:\n",
    "        if nums[l] < nums[r]:\n",
    "            nums[l], nums[low] = nums[low], nums[l]\n",
    "            low += 1\n",
    "        l += 1\n",
    "    nums[low], nums[r] = nums[r], nums[low]\n",
    "    return low"
   ]
  },
  {
   "cell_type": "code",
   "execution_count": null,
   "metadata": {
    "collapsed": true
   },
   "outputs": [],
   "source": [
    "numbers = generate_random_array(6)\n",
    "print(numbers)\n",
    "m = findKthLargest(numbers, len(numbers)//2)\n",
    "m"
   ]
  },
  {
   "cell_type": "code",
   "execution_count": null,
   "metadata": {
    "collapsed": true
   },
   "outputs": [],
   "source": [
    "rst = [findKthLargest(l, len(random_lists)//2) for l in random_lists]\n",
    "rst"
   ]
  },
  {
   "cell_type": "code",
   "execution_count": null,
   "metadata": {
    "collapsed": true
   },
   "outputs": [],
   "source": [
    "x = list(zip(*rst))[1]\n",
    "y = list(zip(*rst))[2]\n",
    "\n",
    "plt.plot(x, y)"
   ]
  },
  {
   "cell_type": "code",
   "execution_count": null,
   "metadata": {
    "collapsed": true
   },
   "outputs": [],
   "source": [
    "l = generate_random_array(1000000)"
   ]
  },
  {
   "cell_type": "code",
   "execution_count": null,
   "metadata": {
    "collapsed": true
   },
   "outputs": [],
   "source": [
    "r = findKthLargest1(l, len(l)//2)\n",
    "r"
   ]
  },
  {
   "cell_type": "code",
   "execution_count": null,
   "metadata": {
    "collapsed": true
   },
   "outputs": [],
   "source": [
    "r = findKthLargest(l, len(l)//2)\n",
    "r"
   ]
  },
  {
   "cell_type": "code",
   "execution_count": null,
   "metadata": {
    "collapsed": true
   },
   "outputs": [],
   "source": []
  },
  {
   "cell_type": "markdown",
   "metadata": {},
   "source": [
    "### <a id='Ex2'>Ex.2: Fast Power</a>"
   ]
  },
  {
   "cell_type": "code",
   "execution_count": 1,
   "metadata": {
    "collapsed": true
   },
   "outputs": [],
   "source": [
    "def fast_power_flaw(x, n):\n",
    "    if n <= 0:\n",
    "        return 1\n",
    "    elif n == 1:\n",
    "        return x\n",
    "    elif n % 2:\n",
    "        return fast_power_flaw(x * x, n // 2) * x\n",
    "    else:\n",
    "        return fast_power_flaw(x * x, n // 2) "
   ]
  },
  {
   "cell_type": "code",
   "execution_count": 2,
   "metadata": {
    "collapsed": true
   },
   "outputs": [],
   "source": [
    "def fast_power(x, n):\n",
    "    if n == 0:\n",
    "        return 1.0\n",
    "    elif n < 0:\n",
    "        return 1 / fast_power(x, -n)\n",
    "    elif n % 2:\n",
    "        return fast_power(x * x, n // 2) * x\n",
    "    else:\n",
    "        return fast_power(x * x, n // 2)"
   ]
  },
  {
   "cell_type": "code",
   "execution_count": 3,
   "metadata": {},
   "outputs": [
    {
     "data": {
      "text/plain": [
       "25"
      ]
     },
     "execution_count": 3,
     "metadata": {},
     "output_type": "execute_result"
    }
   ],
   "source": [
    "fast_power_flaw(5,2)"
   ]
  },
  {
   "cell_type": "code",
   "execution_count": 4,
   "metadata": {},
   "outputs": [
    {
     "data": {
      "text/plain": [
       "1"
      ]
     },
     "execution_count": 4,
     "metadata": {},
     "output_type": "execute_result"
    }
   ],
   "source": [
    "fast_power_flaw(5, 0)"
   ]
  },
  {
   "cell_type": "code",
   "execution_count": 5,
   "metadata": {},
   "outputs": [
    {
     "data": {
      "text/plain": [
       "1"
      ]
     },
     "execution_count": 5,
     "metadata": {},
     "output_type": "execute_result"
    }
   ],
   "source": [
    "fast_power_flaw(5, -2)"
   ]
  },
  {
   "cell_type": "code",
   "execution_count": 6,
   "metadata": {},
   "outputs": [
    {
     "data": {
      "text/plain": [
       "0"
      ]
     },
     "execution_count": 6,
     "metadata": {},
     "output_type": "execute_result"
    }
   ],
   "source": [
    "fast_power_flaw(0,2)"
   ]
  },
  {
   "cell_type": "code",
   "execution_count": 7,
   "metadata": {},
   "outputs": [
    {
     "data": {
      "text/plain": [
       "1"
      ]
     },
     "execution_count": 7,
     "metadata": {},
     "output_type": "execute_result"
    }
   ],
   "source": [
    "fast_power_flaw(0, 0)"
   ]
  },
  {
   "cell_type": "code",
   "execution_count": 8,
   "metadata": {},
   "outputs": [
    {
     "data": {
      "text/plain": [
       "1"
      ]
     },
     "execution_count": 8,
     "metadata": {},
     "output_type": "execute_result"
    }
   ],
   "source": [
    "fast_power_flaw(0,-2)"
   ]
  },
  {
   "cell_type": "code",
   "execution_count": null,
   "metadata": {
    "collapsed": true
   },
   "outputs": [],
   "source": []
  },
  {
   "cell_type": "markdown",
   "metadata": {},
   "source": [
    "### <a id='Ex3'>Ex.3: Search Peak Element</a>\n",
    "\n",
    "The array has no duplicates, may contain multiple peaks, return the index to any one of the peaks.\n",
    "\n",
    "You may imagine that num[-1] = num[n] = -∞. "
   ]
  },
  {
   "cell_type": "code",
   "execution_count": 9,
   "metadata": {
    "collapsed": true
   },
   "outputs": [],
   "source": [
    "def search_peak(alist):\n",
    "    return peak_helper(alist, 0, len(alist) - 1)\n",
    "\n",
    "def peak_helper(alist, start, end):\n",
    "    if start == end:\n",
    "        return start\n",
    "    \n",
    "    if (start + 1 == end):\n",
    "        if alist[start] > alist[end]:\n",
    "            return start\n",
    "        return end\n",
    "    \n",
    "    mid = (start + end) // 2\n",
    "    if alist[mid] > alist[mid - 1] and alist[mid] > alist[mid + 1]:\n",
    "        return mid\n",
    "    if alist[mid - 1] > alist[mid] and alist[mid] > alist[mid + 1]:\n",
    "        return peak_helper(alist, start, mid - 1)\n",
    "    return peak_helper(alist, mid + 1, end)"
   ]
  },
  {
   "cell_type": "code",
   "execution_count": null,
   "metadata": {
    "collapsed": true
   },
   "outputs": [],
   "source": []
  },
  {
   "cell_type": "markdown",
   "metadata": {},
   "source": [
    "### <a id='Ex4'>Ex.4: Find index of an extra element present in one sorted array</a>\n",
    "\n",
    "Given two sorted arrays. \n",
    "\n",
    "There is only 1 difference between the arrays. First array has one element extra added in between. \n",
    "\n",
    "Find the *index* of the extra element.\n",
    "\n",
    "Examples:\n",
    "\n",
    "Input : {2, 4, 6, 8, 9, 10, 12};\n",
    "        {2, 4, 6, 8, 10, 12};\n",
    "        \n",
    "Output : 4\n",
    "\n",
    "The first array has an extra element 9.\n",
    "\n",
    "The extra element is present at index 4.\n",
    "\n",
    "Input :  {3, 5, 7, 9, 11, 13}\n",
    "         {3, 5, 7, 11, 13}\n",
    "         \n",
    "Output :  3"
   ]
  },
  {
   "cell_type": "code",
   "execution_count": 16,
   "metadata": {
    "collapsed": true
   },
   "outputs": [],
   "source": [
    "## Returns index of extra element in arr1[].\n",
    "def find_extra(arr1, arr2):\n",
    "    for i in range(len(arr2)):\n",
    "        if (arr1[i] != arr2[i]):\n",
    "            return i\n",
    " \n",
    "    return len(arr1)-1"
   ]
  },
  {
   "cell_type": "code",
   "execution_count": 38,
   "metadata": {},
   "outputs": [
    {
     "data": {
      "text/plain": [
       "4"
      ]
     },
     "execution_count": 38,
     "metadata": {},
     "output_type": "execute_result"
    }
   ],
   "source": [
    "ar1 = [2, 4, 6, 8, 9, 10, 12]\n",
    "ar2 = [2, 4, 6, 8, 10, 12]\n",
    "find_extra_fast(ar1, ar2)"
   ]
  },
  {
   "cell_type": "code",
   "execution_count": 39,
   "metadata": {},
   "outputs": [
    {
     "data": {
      "text/plain": [
       "3"
      ]
     },
     "execution_count": 39,
     "metadata": {},
     "output_type": "execute_result"
    }
   ],
   "source": [
    "ar1 = [3, 5, 7, 9, 11, 13]\n",
    "ar2 = [3, 5, 7, 11, 13]\n",
    "find_extra_fast(ar1, ar2)"
   ]
  },
  {
   "cell_type": "code",
   "execution_count": 40,
   "metadata": {},
   "outputs": [
    {
     "data": {
      "text/plain": [
       "6"
      ]
     },
     "execution_count": 40,
     "metadata": {},
     "output_type": "execute_result"
    }
   ],
   "source": [
    "ar1 = [3, 5, 7, 9, 11, 13, 16]\n",
    "ar2 = [3, 5, 7, 9, 11, 13]\n",
    "find_extra_fast(ar1, ar2)"
   ]
  },
  {
   "cell_type": "code",
   "execution_count": 43,
   "metadata": {},
   "outputs": [
    {
     "data": {
      "text/plain": [
       "0"
      ]
     },
     "execution_count": 43,
     "metadata": {},
     "output_type": "execute_result"
    }
   ],
   "source": [
    "ar1 = [1, 3, 5, 7, 9, 11, 13]\n",
    "ar2 = [3, 5, 7, 9, 11, 13]\n",
    "find_extra_fast(ar1, ar2)"
   ]
  },
  {
   "cell_type": "code",
   "execution_count": 44,
   "metadata": {},
   "outputs": [
    {
     "data": {
      "text/plain": [
       "0"
      ]
     },
     "execution_count": 44,
     "metadata": {},
     "output_type": "execute_result"
    }
   ],
   "source": [
    "ar1 = [1]\n",
    "ar2 = []\n",
    "find_extra_fast(ar1, ar2)"
   ]
  },
  {
   "cell_type": "code",
   "execution_count": 42,
   "metadata": {
    "collapsed": true
   },
   "outputs": [],
   "source": [
    "def find_extra_fast(arr1, arr2):\n",
    "    index = len(arr2)\n",
    "    # left and right are end points denoting\n",
    "    # the current range.\n",
    "    left, right = 0, len(arr2) - 1\n",
    "    while (left <= right):\n",
    "        mid = (left + right) // 2;\n",
    " \n",
    "        # If middle element is same of both\n",
    "        # arrays, it means that extra element\n",
    "        # is after mid so we update left to mid+1\n",
    "        if (arr2[mid] == arr1[mid]):\n",
    "            left = mid + 1\n",
    " \n",
    "        # If middle element is different of the\n",
    "        # arrays, it means that the index we are\n",
    "        # searching for is either mid, or before\n",
    "        # mid. Hence we update right to mid-1.\n",
    "        else:\n",
    "            index = mid\n",
    "            right = mid - 1;\n",
    " \n",
    "    # when right is greater than left our\n",
    "    # search is complete.\n",
    "    return index"
   ]
  },
  {
   "cell_type": "code",
   "execution_count": null,
   "metadata": {
    "collapsed": true
   },
   "outputs": [],
   "source": []
  },
  {
   "cell_type": "markdown",
   "metadata": {},
   "source": [
    "### <a id='Ex5'>Ex.5: Maximum Sum Subarray</a>\n",
    "\n",
    "Find the sum of contiguous subarray within a one-dimensional array of numbers which has the largest sum.\n",
    "\n",
    "<img src=\"../images/ch06/maxsubarraysum.png\" width=\"320\"/>\n"
   ]
  },
  {
   "cell_type": "code",
   "execution_count": 8,
   "metadata": {
    "collapsed": true
   },
   "outputs": [],
   "source": [
    "# O(n^2)\n",
    "def subarray1(alist):\n",
    "    result = -sys.maxsize\n",
    "    for i in range(0, len(alist)):\n",
    "        sum = 0\n",
    "        for j in range (i, len(alist)):\n",
    "            sum += alist[j]\n",
    "            if sum > result:\n",
    "                result = sum\n",
    "    return result"
   ]
  },
  {
   "cell_type": "code",
   "execution_count": 9,
   "metadata": {},
   "outputs": [
    {
     "data": {
      "text/plain": [
       "7"
      ]
     },
     "execution_count": 9,
     "metadata": {},
     "output_type": "execute_result"
    }
   ],
   "source": [
    "alist = [-2,-3,4,-1,-2,1,5,-3]\n",
    "subarray1(alist)"
   ]
  },
  {
   "cell_type": "code",
   "execution_count": 1,
   "metadata": {
    "collapsed": true
   },
   "outputs": [],
   "source": [
    "# O(n lgn)\n",
    "def subarray2(alist):\n",
    "    return subarray2_helper(alist, 0, len(alist)-1)\n",
    "\n",
    "def subarray2_helper(alist, left, right):\n",
    "    if (left == right):\n",
    "        return alist[left]\n",
    "    mid = (left + right) // 2\n",
    "    return max(subarray2_helper(alist, left, mid), \n",
    "               subarray2_helper(alist, mid+1, right), \n",
    "               maxcrossing(alist, left, mid, right))\n",
    "\n",
    "def maxcrossing(alist, left, mid, right):\n",
    "    sum = 0\n",
    "    left_sum = -sys.maxsize\n",
    "    for i in range (mid, left-1, -1):\n",
    "        sum += alist[i]\n",
    "        if (sum > left_sum):\n",
    "            left_sum = sum\n",
    "            \n",
    "    sum = 0\n",
    "    right_sum = -sys.maxsize\n",
    "    for i in range (mid+1, right+1):\n",
    "        sum += alist[i]\n",
    "        if (sum > right_sum):\n",
    "            right_sum = sum        \n",
    "\n",
    "    return left_sum + right_sum\n"
   ]
  },
  {
   "cell_type": "code",
   "execution_count": 10,
   "metadata": {},
   "outputs": [
    {
     "data": {
      "text/plain": [
       "7"
      ]
     },
     "execution_count": 10,
     "metadata": {},
     "output_type": "execute_result"
    }
   ],
   "source": [
    "alist = [-2,-3,4,-1,-2,1,5,-3]\n",
    "subarray2(alist)"
   ]
  },
  {
   "cell_type": "code",
   "execution_count": null,
   "metadata": {
    "collapsed": true
   },
   "outputs": [],
   "source": [
    "# O(n)\n",
    "def subarray3(alist):\n",
    "    result = -sys.maxsize\n",
    "    local = 0\n",
    "    for i in alist:\n",
    "        local = max(local + i, i)\n",
    "        result = max(result, local)\n",
    "    return result"
   ]
  },
  {
   "cell_type": "code",
   "execution_count": 11,
   "metadata": {},
   "outputs": [
    {
     "data": {
      "text/plain": [
       "7"
      ]
     },
     "execution_count": 11,
     "metadata": {},
     "output_type": "execute_result"
    }
   ],
   "source": [
    "alist = [-2,-3,4,-1,-2,1,5,-3]\n",
    "subarray3(alist)"
   ]
  },
  {
   "cell_type": "code",
   "execution_count": null,
   "metadata": {
    "collapsed": true
   },
   "outputs": [],
   "source": []
  },
  {
   "cell_type": "markdown",
   "metadata": {},
   "source": [
    "### <a id='Ex6'>Ex.6: Count Inversions</a>\n",
    "\n",
    "** Define the number of inversion **\n",
    "    i, j form an inversion if a[i] > a[j] for any i < j, that is, if the two elements a[i] and a[j] are \"out of order\".\n"
   ]
  },
  {
   "cell_type": "code",
   "execution_count": 12,
   "metadata": {},
   "outputs": [
    {
     "name": "stdout",
     "output_type": "stream",
     "text": [
      "Number of inversions are 5\n"
     ]
    }
   ],
   "source": [
    "# O(n^2)\n",
    "def countInv(arr):\n",
    "    n = len(arr)\n",
    "    inv_count = 0\n",
    "    for i in range(n):\n",
    "        for j in range(i+1, n):\n",
    "            if (arr[i] > arr[j]):\n",
    "                inv_count += 1\n",
    " \n",
    "    return inv_count\n",
    " \n",
    "arr = [1, 20, 6, 4, 5]\n",
    "n = len(arr)\n",
    "print(\"Number of inversions are\", countInv(arr))"
   ]
  },
  {
   "cell_type": "code",
   "execution_count": 14,
   "metadata": {
    "collapsed": true
   },
   "outputs": [],
   "source": [
    "def merge(left,right):\n",
    "    result = list()\n",
    "    i,j = 0,0\n",
    "    inv_count = 0\n",
    "    while i < len(left) and j < len(right):\n",
    "        if left[i] < right[j]:\n",
    "            result.append(left[i])\n",
    "            i += 1\n",
    "        elif right[j] < left[i]:\n",
    "            result.append(right[j])\n",
    "            j += 1\n",
    "            inv_count += (len(left)-i)\n",
    "    result += left[i:]\n",
    "    result += right[j:]\n",
    "    return result,inv_count\n",
    "\n",
    "# O(nlgn)\n",
    "def countInvFast(array):\n",
    "    if len(array) < 2:\n",
    "        return array, 0\n",
    "    middle = len(array) // 2\n",
    "    left,inv_left = countInvFast(array[:middle])\n",
    "    right,inv_right = countInvFast(array[middle:])\n",
    "    merged, count = merge(left,right)\n",
    "    count += (inv_left + inv_right)\n",
    "    return merged, count"
   ]
  },
  {
   "cell_type": "code",
   "execution_count": 15,
   "metadata": {},
   "outputs": [
    {
     "name": "stdout",
     "output_type": "stream",
     "text": [
      "Number of inversions are ([1, 4, 5, 6, 20], 5)\n"
     ]
    }
   ],
   "source": [
    "arr = [1, 20, 6, 4, 5]\n",
    "n = len(arr)\n",
    "print(\"Number of inversions are\", countInvFast(arr))"
   ]
  },
  {
   "cell_type": "code",
   "execution_count": null,
   "metadata": {
    "collapsed": true
   },
   "outputs": [],
   "source": []
  }
 ],
 "metadata": {
  "kernelspec": {
   "display_name": "Python 3",
   "language": "python",
   "name": "python3"
  },
  "language_info": {
   "codemirror_mode": {
    "name": "ipython",
    "version": 3
   },
   "file_extension": ".py",
   "mimetype": "text/x-python",
   "name": "python",
   "nbconvert_exporter": "python",
   "pygments_lexer": "ipython3",
   "version": "3.6.1"
  }
 },
 "nbformat": 4,
 "nbformat_minor": 2
}
