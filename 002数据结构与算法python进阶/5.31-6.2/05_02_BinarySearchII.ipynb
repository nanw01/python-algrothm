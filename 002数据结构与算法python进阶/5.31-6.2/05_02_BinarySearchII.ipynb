{
 "cells": [
  {
   "cell_type": "markdown",
   "metadata": {
    "run_control": {
     "frozen": false,
     "read_only": false
    }
   },
   "source": [
    "# Binary Search II"
   ]
  },
  {
   "cell_type": "code",
   "execution_count": null,
   "metadata": {
    "collapsed": true
   },
   "outputs": [],
   "source": []
  },
  {
   "cell_type": "markdown",
   "metadata": {},
   "source": [
    "In this lecture, you will learn:\n",
    "\n",
    "<a href='#Ex1'>Ex.1 Heaters</a>\n",
    "\n",
    "<a href='#Ex2'>Ex.2 sqrt(x)</a>\n",
    "\n",
    "<a href='#Ex3'>Ex.3 Kth Smallest Element in a Sorted Matrix</a>\n",
    "\n",
    "<a href='#Ex4'>Ex.4 Find the Duplicate Number</a>"
   ]
  },
  {
   "cell_type": "code",
   "execution_count": null,
   "metadata": {
    "collapsed": true
   },
   "outputs": [],
   "source": []
  },
  {
   "cell_type": "markdown",
   "metadata": {
    "run_control": {
     "frozen": false,
     "read_only": false
    }
   },
   "source": [
    "### Ex.1: Heaters\n",
    "\n",
    "Winter is coming! Your first job during the contest is to design a standard heater with fixed warm radius to warm all the houses.\n",
    "\n",
    "Now, you are given positions of houses and heaters on a horizontal line, find out minimum radius of heaters so that all houses could be covered by those heaters.\n",
    "\n",
    "So, your input will be the positions of houses and heaters seperately, and your expected output will be the minimum radius standard of heaters.\n",
    "\n",
    "** Note: **\n",
    "\n",
    "Numbers of houses and heaters you are given are non-negative and will not exceed 25000.\n",
    "\n",
    "Positions of houses and heaters you are given are non-negative and will not exceed 10^9.\n",
    "\n",
    "As long as a house is in the heaters' warm radius range, it can be warmed.\n",
    "\n",
    "All the heaters follow your radius standard and the warm radius will the same.\n",
    "\n",
    "** Example 1: **\n",
    "\n",
    "Input: [1,2,3],[2]\n",
    "\n",
    "Output: 1\n",
    "\n",
    "Explanation: The only heater was placed in the position 2, and if we use the radius 1 standard, then all the houses can be warmed.\n",
    "\n",
    "** Example 2: **\n",
    "\n",
    "Input: [1,2,3,4],[1,4]\n",
    "\n",
    "Output: 1\n",
    "\n",
    "Explanation: The two heater was placed in the position 1 and 4. We need to use radius 1 standard, then all the houses can be warmed."
   ]
  },
  {
   "cell_type": "markdown",
   "metadata": {
    "collapsed": true,
    "run_control": {
     "frozen": false,
     "read_only": false
    }
   },
   "source": [
    "\n",
    "** Solution **\n",
    "The idea is to leverage decent bisect function provided by Python.\n",
    "\n",
    "For each house, find its position between those heaters (thus we need the heaters array to be sorted).\n",
    "\n",
    "Calculate the distances between this house and left heater and right heater, get a MIN value of those two values. Corner cases are there is no left or right heater.\n",
    "\n",
    "Get MAX value among distances in step 2. It’s the answer."
   ]
  },
  {
   "cell_type": "code",
   "execution_count": 13,
   "metadata": {
    "collapsed": true
   },
   "outputs": [],
   "source": [
    "from bisect import bisect\n",
    "\n",
    "def findRadius(houses, heaters):\n",
    "    heaters.sort()\n",
    "    ans = 0\n",
    "\n",
    "    for h in houses:\n",
    "        hi = bisect(heaters, h)\n",
    "        left = heaters[hi-1] if hi - 1 >= 0 else float('-inf')\n",
    "        right = heaters[hi] if hi < len(heaters) else float('inf')\n",
    "        ans = max(ans, min(h - left, right - h))\n",
    "\n",
    "    return ans"
   ]
  },
  {
   "cell_type": "code",
   "execution_count": 14,
   "metadata": {},
   "outputs": [
    {
     "data": {
      "text/plain": [
       "1"
      ]
     },
     "execution_count": 14,
     "metadata": {},
     "output_type": "execute_result"
    }
   ],
   "source": [
    "houses = [1,2,3,4]\n",
    "heaters = [1,4]\n",
    "findRadius(houses, heaters)"
   ]
  },
  {
   "cell_type": "code",
   "execution_count": 10,
   "metadata": {},
   "outputs": [
    {
     "data": {
      "text/plain": [
       "11"
      ]
     },
     "execution_count": 10,
     "metadata": {},
     "output_type": "execute_result"
    }
   ],
   "source": [
    "houses = [1,12,23,34]\n",
    "heaters = [12,24]\n",
    "findRadius(houses, heaters)"
   ]
  },
  {
   "cell_type": "code",
   "execution_count": null,
   "metadata": {
    "collapsed": true
   },
   "outputs": [],
   "source": []
  },
  {
   "cell_type": "markdown",
   "metadata": {},
   "source": [
    "### Ex.2: sqrt(x)\n",
    "\n",
    "Implement int sqrt(int x).\n",
    "\n",
    "Compute and return the square root of x.\n",
    "\n",
    "x is guaranteed to be a non-negative integer."
   ]
  },
  {
   "cell_type": "code",
   "execution_count": 8,
   "metadata": {
    "collapsed": true
   },
   "outputs": [],
   "source": [
    "def sqrt(x):\n",
    "    if x == 0:\n",
    "        return 0\n",
    "    left, right = 1, x\n",
    "    while left <= right:\n",
    "        mid = left + (right - left) // 2\n",
    "        if (mid == x // mid):\n",
    "            return mid\n",
    "        if (mid < x // mid):\n",
    "            left = mid + 1\n",
    "        else:\n",
    "            right = mid - 1\n",
    "    return right"
   ]
  },
  {
   "cell_type": "code",
   "execution_count": 15,
   "metadata": {},
   "outputs": [
    {
     "data": {
      "text/plain": [
       "6"
      ]
     },
     "execution_count": 15,
     "metadata": {},
     "output_type": "execute_result"
    }
   ],
   "source": [
    "sqrt(40)"
   ]
  },
  {
   "cell_type": "code",
   "execution_count": 15,
   "metadata": {
    "collapsed": true
   },
   "outputs": [],
   "source": [
    "def sqrtNewton(x):\n",
    "    r = x\n",
    "    while r*r > x:\n",
    "        r = (r + x//r) // 2\n",
    "    return r"
   ]
  },
  {
   "cell_type": "code",
   "execution_count": 16,
   "metadata": {},
   "outputs": [
    {
     "data": {
      "text/plain": [
       "354"
      ]
     },
     "execution_count": 16,
     "metadata": {},
     "output_type": "execute_result"
    }
   ],
   "source": [
    "sqrtNewton(125348)"
   ]
  },
  {
   "cell_type": "markdown",
   "metadata": {
    "collapsed": true
   },
   "source": [
    "<img src=\"../images/ch05/newton.png\" width=\"640\"/>"
   ]
  },
  {
   "cell_type": "code",
   "execution_count": null,
   "metadata": {
    "collapsed": true
   },
   "outputs": [],
   "source": []
  },
  {
   "cell_type": "markdown",
   "metadata": {},
   "source": [
    "### Ex.3: Kth Smallest Element in a Sorted Matrix\n",
    "\n",
    "Given a n x n matrix where each of the rows and columns are sorted in ascending order, find the kth smallest element in the matrix.\n",
    "\n",
    "Note that it is the kth smallest element in the sorted order, not the kth distinct element."
   ]
  },
  {
   "cell_type": "code",
   "execution_count": 28,
   "metadata": {
    "collapsed": true
   },
   "outputs": [],
   "source": [
    "from bisect import bisect\n",
    "def kthSmallest(matrix, k):\n",
    "    lo, hi = matrix[0][0], matrix[-1][-1]\n",
    "    while lo < hi:\n",
    "        mid = lo + (hi - lo) // 2\n",
    "        if sum(bisect(row, mid) for row in matrix) < k:\n",
    "            lo = mid+1\n",
    "        else:\n",
    "            hi = mid\n",
    "    return lo"
   ]
  },
  {
   "cell_type": "code",
   "execution_count": 29,
   "metadata": {},
   "outputs": [
    {
     "data": {
      "text/plain": [
       "6"
      ]
     },
     "execution_count": 29,
     "metadata": {},
     "output_type": "execute_result"
    }
   ],
   "source": [
    "matrix = [\n",
    "    [1, 4, 8, 10,15],\n",
    "    [3, 5, 6, 7, 20],\n",
    "    [9, 20,22,24,29],\n",
    "    [11,22,23,29,39]\n",
    "]\n",
    "k = 5\n",
    "kthSmallest(matrix, k)"
   ]
  },
  {
   "cell_type": "code",
   "execution_count": null,
   "metadata": {
    "collapsed": true
   },
   "outputs": [],
   "source": []
  },
  {
   "cell_type": "code",
   "execution_count": null,
   "metadata": {
    "collapsed": true
   },
   "outputs": [],
   "source": [
    "def kthSmallest(matrix, k):\n",
    "    n = len(matrix)\n",
    "    L, R = matrix[0][0], matrix[n - 1][n - 1]\n",
    "    while L < R:\n",
    "        mid = L + (R - L) // 2\n",
    "        temp = search_lower_than_mid(matrix, n, mid)\n",
    "        if temp < k:\n",
    "            L = mid + 1\n",
    "        else:\n",
    "            R = mid\n",
    "    return L\n",
    "\n",
    "def search_lower_than_mid(matrix, n, x):\n",
    "    i, j = n - 1, 0\n",
    "    cnt = 0\n",
    "    while i >= 0 and j < n:\n",
    "        if matrix[i][j] <= x:\n",
    "            j += 1\n",
    "            cnt += i + 1\n",
    "        else:\n",
    "            i -= 1\n",
    "    return cnt"
   ]
  },
  {
   "cell_type": "code",
   "execution_count": null,
   "metadata": {
    "collapsed": true
   },
   "outputs": [],
   "source": []
  },
  {
   "cell_type": "markdown",
   "metadata": {},
   "source": [
    "### Ex.4: Find the Duplicate Number\n",
    "\n",
    "Given an array nums containing n + 1 integers where each integer is between 1 and n (inclusive), prove that at least one duplicate number must exist. Assume that there is only one duplicate number, find the duplicate one.\n",
    "\n",
    "Note:\n",
    "\n",
    "You must not modify the array (assume the array is read only).\n",
    "\n",
    "You must use only constant, O(1) extra space.\n",
    "\n",
    "Your runtime complexity should be less than O(n2).\n",
    "\n",
    "There is only one duplicate number in the array, but it could be repeated more than once.\n"
   ]
  },
  {
   "cell_type": "code",
   "execution_count": 34,
   "metadata": {
    "collapsed": true
   },
   "outputs": [],
   "source": [
    "def findDuplicate(nums):\n",
    "\n",
    "    low = 1\n",
    "    high = len(nums)-1\n",
    "\n",
    "    while low < high:\n",
    "        mid = low + (high - low) // 2\n",
    "        count = 0\n",
    "        for i in nums:\n",
    "            if i <= mid:\n",
    "                count+=1\n",
    "        if count <= mid:\n",
    "            low = mid+1\n",
    "        else:\n",
    "            high = mid\n",
    "    return low"
   ]
  },
  {
   "cell_type": "code",
   "execution_count": 39,
   "metadata": {},
   "outputs": [
    {
     "data": {
      "text/plain": [
       "3"
      ]
     },
     "execution_count": 39,
     "metadata": {},
     "output_type": "execute_result"
    }
   ],
   "source": [
    "nums = [3,5,6,3,1,4,2]\n",
    "findDuplicate(nums)"
   ]
  },
  {
   "cell_type": "markdown",
   "metadata": {},
   "source": [
    "Detect Cycle："
   ]
  },
  {
   "cell_type": "code",
   "execution_count": 40,
   "metadata": {
    "collapsed": true
   },
   "outputs": [],
   "source": [
    "def findDuplicate(nums):\n",
    "    # The \"tortoise and hare\" step.  We start at the end of the array and try\n",
    "    # to find an intersection point in the cycle.\n",
    "    slow = 0\n",
    "    fast = 0\n",
    "\n",
    "    # Keep advancing 'slow' by one step and 'fast' by two steps until they\n",
    "    # meet inside the loop.\n",
    "    while True:\n",
    "        slow = nums[slow]\n",
    "        fast = nums[nums[fast]]\n",
    "\n",
    "        if slow == fast:\n",
    "            break\n",
    "\n",
    "    # Start up another pointer from the end of the array and march it forward\n",
    "    # until it hits the pointer inside the array.\n",
    "    finder = 0\n",
    "    while True:\n",
    "        slow   = nums[slow]\n",
    "        finder = nums[finder]\n",
    "\n",
    "        # If the two hit, the intersection index is the duplicate element.\n",
    "        if slow == finder:\n",
    "            return slow"
   ]
  },
  {
   "cell_type": "code",
   "execution_count": 41,
   "metadata": {},
   "outputs": [
    {
     "data": {
      "text/plain": [
       "3"
      ]
     },
     "execution_count": 41,
     "metadata": {},
     "output_type": "execute_result"
    }
   ],
   "source": [
    "nums = [3,5,6,3,1,4,2]\n",
    "findDuplicate(nums)"
   ]
  },
  {
   "cell_type": "code",
   "execution_count": null,
   "metadata": {
    "collapsed": true
   },
   "outputs": [],
   "source": []
  }
 ],
 "metadata": {
  "kernelspec": {
   "display_name": "Python 3",
   "language": "python",
   "name": "python3"
  },
  "language_info": {
   "codemirror_mode": {
    "name": "ipython",
    "version": 3
   },
   "file_extension": ".py",
   "mimetype": "text/x-python",
   "name": "python",
   "nbconvert_exporter": "python",
   "pygments_lexer": "ipython3",
   "version": "3.6.1"
  }
 },
 "nbformat": 4,
 "nbformat_minor": 2
}
