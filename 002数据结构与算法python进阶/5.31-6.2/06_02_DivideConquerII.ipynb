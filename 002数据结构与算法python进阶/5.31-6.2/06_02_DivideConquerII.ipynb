{
 "cells": [
  {
   "cell_type": "markdown",
   "metadata": {
    "run_control": {
     "frozen": false,
     "read_only": false
    }
   },
   "source": [
    "# Divide and Conquer III"
   ]
  },
  {
   "cell_type": "code",
   "execution_count": null,
   "metadata": {
    "collapsed": true
   },
   "outputs": [],
   "source": [
    "import time\n",
    "import random\n",
    "from random import randint\n",
    "\n",
    "import matplotlib.pyplot as plt\n",
    "%matplotlib inline  \n",
    "\n",
    "def generate_random_array(n):\n",
    "    return [randint(1, 3 * n) for e in range(n)]"
   ]
  },
  {
   "cell_type": "markdown",
   "metadata": {},
   "source": [
    "In this lecture, you will learn:\n",
    "\n",
    "<a href='#Ex1'>Ex.1 Multiplication</a>\n",
    "\n",
    "<a href='#Ex2'>Ex.2 Multiple Two Polynomials</a>\n",
    "\n",
    "<a href='#Ex3'>Ex.3 Tank Problem</a>\n",
    "\n",
    "<a href='#Ex4'>Ex.4 Shuffle Array</a>\n",
    "\n",
    "<a href='#Ex5'>Ex.5 Collect Coins in Minimum Steps</a>\n",
    "\n",
    "<a href='#Ex6'>Ex.6 Tile Problem</a>\n"
   ]
  },
  {
   "cell_type": "code",
   "execution_count": null,
   "metadata": {
    "collapsed": true
   },
   "outputs": [],
   "source": []
  },
  {
   "cell_type": "markdown",
   "metadata": {},
   "source": [
    "### <a id='Ex1'>Ex1：Multiplication</a>"
   ]
  },
  {
   "cell_type": "markdown",
   "metadata": {},
   "source": [
    "You are given two integers x and y. Both have a length of length n digits. You want to find the product of these two numbers. So you want to find z in: z = x * y\n",
    "\n",
    "The size of the problem is n. The more digits in x and y the harder the problem.\n",
    "\n",
    "See Document."
   ]
  },
  {
   "cell_type": "code",
   "execution_count": 70,
   "metadata": {
    "collapsed": true
   },
   "outputs": [],
   "source": [
    "# third_grade_algorithm.py\n",
    "import functools\n",
    "def prod(x, y):\n",
    "    # x, y are strings --> returns a string of x*y\n",
    "    return str(eval(\"%s * %s\" % (x, y)))\n",
    "\n",
    "def plus(x, y):\n",
    "    # x, y are strings --> returns a string of x+y\n",
    "    return str(eval(\"%s + %s\" % (x, y)))\n",
    "\n",
    "def one_to_n_product(d, x):\n",
    "    \"\"\"d is a single digit, x is n-digit --> returns a string of d*x\n",
    "    \"\"\"\n",
    "    print(d, x)\n",
    "    result = \"\"\n",
    "    carry = \"0\"\n",
    "    for i, digit in enumerate(reversed(x)):\n",
    "        #print(\"d: \", d, \"  digit: \", digit)\n",
    "        r = plus(prod(d, digit), carry)\n",
    "        #print(\"r: \", r)\n",
    "        if (len(r) == 1):\n",
    "            carry = '0'\n",
    "        else:\n",
    "            carry = r[:-1]\n",
    "        digit = r[-1]\n",
    "        #print(\"   c: \", carry, \"  d: \", digit)\n",
    "        result = digit + result\n",
    "    \n",
    "    \n",
    "    return carry + result\n",
    "\n",
    "def sum_middle_products(middle_products):\n",
    "    # middle_products is a list of strings --> returns a string\n",
    "    max_length = max([len(md) for md in middle_products])\n",
    "    for i, md in enumerate(middle_products):\n",
    "        middle_products[i] = \"0\" * (max_length - len(md)) + md\n",
    " \n",
    "    print(middle_products)\n",
    "    carry = \"0\"\n",
    "    result = \"\"\n",
    "    for i in range(1, max_length + 1):\n",
    "        row = [carry] + [md[-i] for md in middle_products]\n",
    "        r = functools.reduce(plus, row)\n",
    "        carry, digit = r[:-1], r[-1]\n",
    "        result = digit + result\n",
    "    return carry + result\n",
    "\n",
    "\n",
    "def algorithm(x, y):\n",
    "    x, y = str(x), str(y)\n",
    "    middle_products = []\n",
    "    for i, digit in enumerate(reversed(y)):\n",
    "        middle_products.append(one_to_n_product(digit, x) + \"0\" * i)\n",
    "    print(middle_products)\n",
    "    return int(sum_middle_products(middle_products))"
   ]
  },
  {
   "cell_type": "code",
   "execution_count": 71,
   "metadata": {},
   "outputs": [
    {
     "name": "stdout",
     "output_type": "stream",
     "text": [
      "8 1090\n",
      "9 1090\n",
      "0 1090\n",
      "4 1090\n",
      "2 1090\n",
      "3 1090\n",
      "['08720', '098100', '0000000', '04360000', '021800000', '0327000000']\n",
      "['0000008720', '0000098100', '0000000000', '0004360000', '0021800000', '0327000000']\n"
     ]
    },
    {
     "data": {
      "text/plain": [
       "353266820"
      ]
     },
     "execution_count": 71,
     "metadata": {},
     "output_type": "execute_result"
    }
   ],
   "source": [
    "algorithm(1090, 324098)"
   ]
  },
  {
   "cell_type": "code",
   "execution_count": 72,
   "metadata": {},
   "outputs": [
    {
     "data": {
      "text/plain": [
       "353266820"
      ]
     },
     "execution_count": 72,
     "metadata": {},
     "output_type": "execute_result"
    }
   ],
   "source": [
    "1090 * 324098"
   ]
  },
  {
   "cell_type": "code",
   "execution_count": 88,
   "metadata": {
    "collapsed": true
   },
   "outputs": [],
   "source": [
    "def karatsuba(x,y):\n",
    "    \"\"\"Function to multiply 2 numbers in a more efficient manner than the grade school algorithm\"\"\"\n",
    "    if len(str(x)) == 1 or len(str(y)) == 1:\n",
    "        return x*y\n",
    "    else:\n",
    "        n = max(len(str(x)),len(str(y)))\n",
    "        nby2 = n // 2\n",
    "\n",
    "        a = x // 10**(nby2)\n",
    "        b = x % 10**(nby2)\n",
    "        c = y // 10**(nby2)\n",
    "        d = y % 10**(nby2)\n",
    "\n",
    "        ac = karatsuba(a,c)\n",
    "        bd = karatsuba(b,d)\n",
    "        ad_plus_bc = karatsuba(a+b,c+d) - ac - bd\n",
    "\n",
    "            # this little trick, writing n as 2*nby2 takes care of both even and odd n\n",
    "        prod = ac * 10**(2*nby2) + (ad_plus_bc * 10**nby2) + bd\n",
    "\n",
    "        return prod\n",
    " "
   ]
  },
  {
   "cell_type": "code",
   "execution_count": 89,
   "metadata": {},
   "outputs": [
    {
     "data": {
      "text/plain": [
       "353266820"
      ]
     },
     "execution_count": 89,
     "metadata": {},
     "output_type": "execute_result"
    }
   ],
   "source": [
    "karatsuba(1090, 324098)"
   ]
  },
  {
   "cell_type": "code",
   "execution_count": null,
   "metadata": {
    "collapsed": true
   },
   "outputs": [],
   "source": []
  },
  {
   "cell_type": "markdown",
   "metadata": {
    "run_control": {
     "frozen": false,
     "read_only": false
    }
   },
   "source": [
    "### <a id='Ex2'>Ex2：Multiple Two Polynomials</a>\n",
    "\n",
    "See Document."
   ]
  },
  {
   "cell_type": "code",
   "execution_count": 82,
   "metadata": {
    "collapsed": true
   },
   "outputs": [],
   "source": [
    "def mults(A, B):\n",
    "    m, n = len(A), len(B)\n",
    "    result = [0] * (m + n - 1)\n",
    "    for i in range (m):\n",
    "        for j in range(n):\n",
    "            result[i + j] += A[i] * B[j]\n",
    "    return result\n",
    "\n",
    "def printPoly(poly):\n",
    "    n = len(poly)\n",
    "    show = \"\"\n",
    "    for i in range(n-1, -1, -1):\n",
    "        show += str(poly[i])\n",
    "        if (i != 0):\n",
    "            show = show + \"x^\" + str(i)\n",
    "        if (i != 0):\n",
    "            show = show + \" + \"\n",
    "    print(show)"
   ]
  },
  {
   "cell_type": "code",
   "execution_count": 83,
   "metadata": {},
   "outputs": [
    {
     "name": "stdout",
     "output_type": "stream",
     "text": [
      "24x^5 + 52x^4 + 26x^3 + 30x^2 + 10x^1 + 5\n"
     ]
    }
   ],
   "source": [
    "A = [5, 0, 10, 6]\n",
    "B = [1, 2, 4]\n",
    "r = mults(A, B)\n",
    "printPoly(r)"
   ]
  },
  {
   "cell_type": "code",
   "execution_count": 91,
   "metadata": {},
   "outputs": [
    {
     "data": {
      "text/plain": [
       "array([ 5, 10, 30, 26, 52, 24])"
      ]
     },
     "execution_count": 91,
     "metadata": {},
     "output_type": "execute_result"
    }
   ],
   "source": [
    "from numpy import convolve\n",
    "A = [5, 0, 10, 6]\n",
    "B = [1, 2, 4]\n",
    "convolve(A, B)"
   ]
  },
  {
   "cell_type": "code",
   "execution_count": null,
   "metadata": {
    "collapsed": true
   },
   "outputs": [],
   "source": []
  },
  {
   "cell_type": "markdown",
   "metadata": {},
   "source": [
    "### <a id='Ex3'>Ex3：Tank Problem</a>\n",
    "\n",
    "Given a tank with capacity C liters which is completely filled in starting. Everyday tank is filled with l liters of water and in the case of overflow extra water is thrown out. Now on i-th day i liters of water is taken out for drinking. We need to find out the day at which tank will become empty the first time.\n",
    "\n",
    "Examples:\n",
    "\n",
    "Input : Capacity = 5, l = 2 \n",
    "\n",
    "Output : 4 \n",
    "\n",
    "At the start of 1st day, water in tank = 5 and at the end of the 1st day = (5 - 1) = 4 \n",
    "\n",
    "At the start of 2nd day, water in tank = 4 + 2 = 6 but tank capacity is 5 so water = 5 and at the end of the 2nd day = (5 - 2) = 3 \n",
    "\n",
    "At the start of 3rd day, water in tank = 3 + 2 = 5 and at the end of the 3rd day = (5 - 3) = 2 \n",
    "\n",
    "At the start of 4th day, water in tank = 2 + 2 = 4 and at the end of the 4th day = (4 - 4) = 0\n",
    "\n",
    "So final answer will be 4 "
   ]
  },
  {
   "cell_type": "markdown",
   "metadata": {},
   "source": [
    "** Solution **\n",
    "\n",
    "We can see that tank will be full for starting (l + 1) days because water taken out is less than water being filled. After that, each day water in the tank will be decreased by 1 more liter and on (l + 1 + i)th day (C – (i)(i + 1) / 2) liter water will remain before taking drinking water.\n",
    "\n",
    "Now we need to find a minimal day (l + 1 + K), in which even after filling the tank by l liters we have water less than l in tank i.e. on (l + 1 + K – 1)th day tank becomes empty so our goal is to find minimum K such that,\n",
    "\n",
    "C – K(K + 1) / 2 <= l\n",
    "\n"
   ]
  },
  {
   "cell_type": "code",
   "execution_count": 95,
   "metadata": {
    "collapsed": true
   },
   "outputs": [],
   "source": [
    "# Utility method to get\n",
    "# sum of first n numbers\n",
    "def getCumulateSum(n):\n",
    "    return (n * (n + 1)) // 2\n",
    " \n",
    " \n",
    "# Method returns minimum number of days\n",
    "# after  which tank will become empty\n",
    "def minDaysToEmpty(C, l):\n",
    " \n",
    "    # if water filling is more than \n",
    "    # capacity then after C days only\n",
    "    # tank will become empty\n",
    "    if (C <= l) : return C \n",
    " \n",
    "    # initialize binary search variable\n",
    "    lo, hi = 0, 1e4\n",
    " \n",
    "    # loop until low is less than high\n",
    "    while (lo < hi): \n",
    "        mid = int((lo + hi) / 2)\n",
    " \n",
    "        # if cumulate sum is greater than (C - l) \n",
    "        # then search on left side\n",
    "        if (getCumulateSum(mid) >= (C - l)): \n",
    "            hi = mid\n",
    "         \n",
    "        # if (C - l) is more then \n",
    "        # search on right side\n",
    "        else:\n",
    "            lo = mid + 1   \n",
    "     \n",
    "    # Final answer will be obtained by \n",
    "    # adding l to binary search result\n",
    "    return (l + lo)\n"
   ]
  },
  {
   "cell_type": "code",
   "execution_count": 96,
   "metadata": {},
   "outputs": [
    {
     "name": "stdout",
     "output_type": "stream",
     "text": [
      "4\n"
     ]
    }
   ],
   "source": [
    "C, l = 5, 2\n",
    "print(minDaysToEmpty(C, l))"
   ]
  },
  {
   "cell_type": "code",
   "execution_count": 117,
   "metadata": {
    "collapsed": true
   },
   "outputs": [],
   "source": [
    "import math\n",
    "def solve(a, b, c):\n",
    "    r = pow(b, 2) - 4 * a * c\n",
    "    if (r < 0):\n",
    "        raise ValueError(\"No Solution\") \n",
    "    return (-b + math.sqrt(r)) / (2 * a)\n",
    "\n",
    "def minDaysToEmpty(C, l):\n",
    "    co = -2 * (C - l)\n",
    "    return  math.ceil(solve(1, 1, co)) + l"
   ]
  },
  {
   "cell_type": "code",
   "execution_count": 118,
   "metadata": {},
   "outputs": [
    {
     "data": {
      "text/plain": [
       "4"
      ]
     },
     "execution_count": 118,
     "metadata": {},
     "output_type": "execute_result"
    }
   ],
   "source": [
    "C, l = 5, 2\n",
    "minDaysToEmpty(C, l)"
   ]
  },
  {
   "cell_type": "code",
   "execution_count": null,
   "metadata": {
    "collapsed": true
   },
   "outputs": [],
   "source": []
  },
  {
   "cell_type": "markdown",
   "metadata": {},
   "source": [
    "### <a id='Ex4'>Ex4：Shuffle Array</a>\n",
    "\n",
    "Given an array of 2n elements in the following format { a1, a2, a3, a4, ….., an, b1, b2, b3, b4, …., bn }. The task is shuffle the array to {a1, b1, a2, b2, a3, b3, ……, an, bn } without using extra space.\n",
    "\n",
    "** Examples: **\n",
    "\n",
    "Input : arr[] = { 1, 2, 9, 15 }\n",
    "\n",
    "Output : 1 9 2 15\n",
    "\n",
    "Input :  arr[] = { 1, 2, 3, 4, 5, 6 }\n",
    "\n",
    "Output : 1 4 2 5 3 6"
   ]
  },
  {
   "cell_type": "markdown",
   "metadata": {},
   "source": [
    "** Solution: Brute Force\n",
    "\n",
    "O(n^2)\n",
    "\n",
    "A brute force solution involves two nested loops to rotate the elements in the second half of the array to the left. The first loop runs n times to cover all elements in the second half of the array. The second loop rotates the elements to the left. Note that the start index in the second loop depends on which element we are rotating and the end index depends on how many positions we need to move to the left."
   ]
  },
  {
   "cell_type": "code",
   "execution_count": 153,
   "metadata": {
    "collapsed": true
   },
   "outputs": [],
   "source": [
    "def shuffleArray(a, n):\n",
    " \n",
    "    # Rotate the element to the left\n",
    "    i, q, k = 0, 1, n\n",
    "    while(i < n):     \n",
    "        \n",
    "        j = k \n",
    "        while(j > i + q):\n",
    "            print(i, j, q, k)\n",
    "            a[j - 1], a[j] = a[j], a[j - 1]\n",
    "            j -= 1\n",
    "        for ii in range(0, 2 * n): \n",
    "            print(a[ii], end = \" \")\n",
    "        print()\n",
    "        i += 1\n",
    "        k += 1\n",
    "        q += 1\n",
    " "
   ]
  },
  {
   "cell_type": "code",
   "execution_count": 143,
   "metadata": {},
   "outputs": [
    {
     "name": "stdout",
     "output_type": "stream",
     "text": [
      "0 4 1 4\n",
      "0 3 1 4\n",
      "0 2 1 4\n",
      "1 2 3 5 7 4 6 8 \n",
      "1 5 2 5\n",
      "1 4 2 5\n",
      "1 2 3 4 5 7 6 8 \n",
      "2 6 3 6\n",
      "1 2 3 4 5 6 7 8 \n",
      "1 2 3 4 5 6 7 8 \n",
      "1 2 3 4 5 6 7 8 "
     ]
    }
   ],
   "source": [
    "a = [1, 3, 5, 7, 2, 4, 6, 8] \n",
    "n = len(a)\n",
    "shuffleArray(a, n // 2)\n",
    "for i in range(0, n): \n",
    "    print(a[i], end = \" \")\n",
    " "
   ]
  },
  {
   "cell_type": "markdown",
   "metadata": {},
   "source": [
    "** Solution: Divide and Conquer\n",
    "\n",
    "O(n log n)\n",
    "\n",
    "Let the array be a1, a2, a3, a4, b1, b2, b3, b4\n",
    "\n",
    "Split the array into two halves: a1, a2, a3, a4 : b1, b2, b3, b4\n",
    "\n",
    "Exchange element around the center: exchange a3, a4 with b1, b2 correspondingly.\n",
    "\n",
    "you get: a1, a2, b1, b2, a3, a4, b3, b4\n",
    "\n",
    "Recursively spilt a1, a2, b1, b2 into a1, a2 : b1, b2\n",
    "\n",
    "then split a3, a4, b3, b4 into a3, a4 : b3, b4.\n",
    "\n",
    "Exchange elements around the center for each subarray we get:\n",
    "\n",
    "a1, b1, a2, b2 and a3, b3, a4, b4.\n"
   ]
  },
  {
   "cell_type": "code",
   "execution_count": 151,
   "metadata": {
    "collapsed": true
   },
   "outputs": [],
   "source": [
    "def shufleArray(a, left, right):\n",
    " \n",
    "    # If only 2 element, return\n",
    "    if (right - left == 1):\n",
    "        return\n",
    " \n",
    "    # Finding mid to divide the array\n",
    "    mid = (left + right) // 2\n",
    " \n",
    "    # Using temp for swapping first\n",
    "    # half of second array\n",
    "    temp = mid + 1\n",
    " \n",
    "    # Mid is use for swapping second\n",
    "    # half for first array\n",
    "    mmid = (left + mid) // 2\n",
    " \n",
    "    # Swapping the element\n",
    "    for i in range(mmid + 1, mid + 1):\n",
    "        (a[i], a[temp]) = (a[temp], a[i])\n",
    "        temp += 1\n",
    " \n",
    "    # Recursively doing for \n",
    "    # first half and second half\n",
    "    shufleArray(a, left, mid)\n",
    "    shufleArray(a, mid + 1, right)"
   ]
  },
  {
   "cell_type": "code",
   "execution_count": 152,
   "metadata": {},
   "outputs": [
    {
     "name": "stdout",
     "output_type": "stream",
     "text": [
      "1 2 3 4 5 6 7 8 "
     ]
    }
   ],
   "source": [
    "a = [1, 3, 5, 7, 2, 4, 6, 8] \n",
    "n = len(a) \n",
    "shufleArray(a, 0, n - 1)\n",
    " \n",
    "for i in range(0, n):\n",
    "    print(a[i], end = \" \")"
   ]
  },
  {
   "cell_type": "markdown",
   "metadata": {},
   "source": [
    "** Solution: One Pass\n",
    "\n",
    "We know that the first and last numbers don’t move from their places. And, we keep track of the index from which any number is picked and where the target index is. We know that, if we’re picking ai, it has to go to the index 2 * i – 1 and if bi, it has to go 2 * i. We can check from where we have picked a certain number based on the picking index if it greater or less than n.\n",
    "\n",
    "We will have to do this for 2 * n – 2 times, assuming that n = half of length of array.\n",
    "\n",
    "We, get two cases, when n is even and odd, hence we initialize appropriately the start variable."
   ]
  },
  {
   "cell_type": "code",
   "execution_count": 1,
   "metadata": {
    "collapsed": true
   },
   "outputs": [],
   "source": [
    "def shuffleArray(a):\n",
    "    n = len(a) // 2\n",
    "    start = n + 1\n",
    "    j = n + 1\n",
    "    done = 0\n",
    "    \n",
    "    while (done < 2 * n - 2):\n",
    "        print(done, start, j)\n",
    "        if (start == j):\n",
    "            start = start - 1\n",
    "            j = j - 1\n",
    "        done += 1\n",
    "        \n",
    "        i = j - n if j > n else j\n",
    "        j = 2 * i if j > n else 2 * i - 1\n",
    "        \n",
    "        a[start], a[j] = a[j], a[start]"
   ]
  },
  {
   "cell_type": "code",
   "execution_count": 2,
   "metadata": {},
   "outputs": [
    {
     "name": "stdout",
     "output_type": "stream",
     "text": [
      "0 5 5\n",
      "1 4 7\n",
      "1 4 7\n",
      "2 4 6\n",
      "2 4 6\n",
      "3 4 4\n",
      "3 4 4\n",
      "4 3 5\n",
      "4 3 5\n",
      "5 3 2\n",
      "5 3 2\n",
      "6 3 3\n",
      "1 2 3 4 5 6 7 8 "
     ]
    }
   ],
   "source": [
    "a = [-1, 1, 3, 5, 7, 2, 4, 6, 8 ]\n",
    "shuffleArray(a)\n",
    "for i in range(1, len(a)):\n",
    "    print(a[i], end = \" \")"
   ]
  },
  {
   "cell_type": "markdown",
   "metadata": {},
   "source": [
    "### <a id='Ex5'>Ex5：Collect Coins in Minimum Steps</a>\n",
    "\n",
    "Given many stacks of coins which are arranged adjacently. We need to collect all these coins in the minimum number of steps where in one step we can collect one horizontal line of coins or vertical line of coins and collected coins should be continuous.\n",
    "\n",
    "Examples:\n",
    "\n",
    "Input : height[] = [2 1 2 5 1] \n",
    "\n",
    "Each value of this array corresponds to the height of stack that is we are given five stack of coins, where in first stack 2 coins are there then in second stack 1 coin is there and so on. \n",
    "\n",
    "Output : 4 \n",
    "\n",
    "<img src=\"../images/ch06/coins.png\" width=\"220\"/>"
   ]
  },
  {
   "cell_type": "markdown",
   "metadata": {},
   "source": [
    "We can solve this problem using divide and conquer method. We can see that it is always beneficial to remove horizontal lines from below. Suppose we are working on stacks from l index to r index in a recursion step, each time we will choose minimum height, remove those many horizontal lines after which stack will be broken into two parts, l to minimum and minimum +1 till r and we will call recursively in those subarrays. Another thing is we can also collect coins using vertical lines so we will choose minimum between the result of recursive calls and (r – l) because using (r – l) vertical lines we can always collect all coins."
   ]
  },
  {
   "cell_type": "code",
   "execution_count": 174,
   "metadata": {
    "collapsed": true
   },
   "outputs": [],
   "source": [
    "def minSteps(height):\n",
    "    \n",
    "    def minStepHelper(height, left, right, h):\n",
    "        if left >= right:\n",
    "            return 0\n",
    "        \n",
    "        m = left\n",
    "        for i in range(left, right):\n",
    "            if height[i] < height[m]:\n",
    "                m = i\n",
    "         \n",
    "        return min(right - left, \n",
    "                   minStepHelper(height, left, m, height[m]) +\n",
    "                   minStepHelper(height, m + 1, right, height[m]) +\n",
    "                   height[m] - h)\n",
    "    \n",
    "    return minStepHelper(height, 0, len(height), 0)    "
   ]
  },
  {
   "cell_type": "code",
   "execution_count": 175,
   "metadata": {},
   "outputs": [
    {
     "data": {
      "text/plain": [
       "4"
      ]
     },
     "execution_count": 175,
     "metadata": {},
     "output_type": "execute_result"
    }
   ],
   "source": [
    "height = [3, 1, 2, 5, 1]\n",
    "minSteps(height)"
   ]
  },
  {
   "cell_type": "code",
   "execution_count": 176,
   "metadata": {},
   "outputs": [
    {
     "data": {
      "text/plain": [
       "4"
      ]
     },
     "execution_count": 176,
     "metadata": {},
     "output_type": "execute_result"
    }
   ],
   "source": [
    "height = [3, 3, 3, 15, 3]\n",
    "minSteps(height)"
   ]
  },
  {
   "cell_type": "markdown",
   "metadata": {
    "collapsed": true
   },
   "source": [
    "### <a id='Ex1'>Ex6：Tile Problem</a>\n",
    "\n",
    "Given a n by n board where n is of form 2k where k >= 1 (Basically n is a power of 2 with minimum value as 2). The board has one missing cell (of size 1 x 1). Fill the board using L shaped tiles. A L shaped tile is a 2 x 2 square with one cell of size 1×1 missing.\n",
    "\n",
    "<img src=\"../images/ch06/tile.png\" width=\"420\"/>"
   ]
  },
  {
   "cell_type": "markdown",
   "metadata": {},
   "source": [
    "** Solution **\n",
    "\n",
    "// n is size of given square, p is location of missing cell\n",
    "Tile(int n, Point p)\n",
    "\n",
    "1) Base case: n = 2, A 2 x 2 square with one cell missing is nothing \n",
    "   but a tile and can be filled with a single tile.\n",
    "\n",
    "2) Place a L shaped tile at the center such that it does not cover\n",
    "   the n/2 * n/2 subsquare that has a missing square. Now all four \n",
    "   subsquares of size n/2 x n/2 have a missing cell (a cell that doesn't\n",
    "   need to be filled).  See figure 2 below.\n",
    "\n",
    "3) Solve the problem recursively for following four. Let p1, p2, p3 and\n",
    "   p4 be positions of the 4 missing cells in 4 squares.\n",
    "   \n",
    "       a) Tile(n/2, p1)\n",
    "   \n",
    "       b) Tile(n/2, p2)\n",
    "   \n",
    "       c) Tile(n/2, p3)\n",
    "   \n",
    "       d) Tile(n/2, p3) "
   ]
  },
  {
   "cell_type": "markdown",
   "metadata": {},
   "source": [
    "** After placing first tile **\n",
    "<img src=\"../images/ch06/tilesol.png\" width=\"320\"/>\n",
    "\n",
    "** Recurring for first subsquare **\n",
    "<img src=\"../images/ch06/tilesol2.png\" width=\"320\"/>\n",
    "\n",
    "** Shows first step in all four subsquares **\n",
    "<img src=\"../images/ch06/tilesol3.png\" width=\"320\"/>"
   ]
  },
  {
   "cell_type": "code",
   "execution_count": null,
   "metadata": {
    "collapsed": true
   },
   "outputs": [],
   "source": []
  }
 ],
 "metadata": {
  "kernelspec": {
   "display_name": "Python 3",
   "language": "python",
   "name": "python3"
  },
  "language_info": {
   "codemirror_mode": {
    "name": "ipython",
    "version": 3
   },
   "file_extension": ".py",
   "mimetype": "text/x-python",
   "name": "python",
   "nbconvert_exporter": "python",
   "pygments_lexer": "ipython3",
   "version": "3.6.1"
  }
 },
 "nbformat": 4,
 "nbformat_minor": 2
}
