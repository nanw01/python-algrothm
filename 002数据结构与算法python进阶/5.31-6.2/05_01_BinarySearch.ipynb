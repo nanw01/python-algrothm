{
 "cells": [
  {
   "cell_type": "markdown",
   "metadata": {
    "run_control": {
     "frozen": false,
     "read_only": false
    }
   },
   "source": [
    "# Binary Search"
   ]
  },
  {
   "cell_type": "code",
   "execution_count": null,
   "metadata": {
    "collapsed": true
   },
   "outputs": [],
   "source": []
  },
  {
   "cell_type": "markdown",
   "metadata": {},
   "source": [
    "In this lecture, you will learn:\n",
    "\n",
    "<a href='#Ex1'>Ex.1 Binary Search Review</a>\n",
    "\n",
    "<a href='#Ex2'>Ex.2 Binary Search Template</a>\n",
    "\n",
    "<a href='#Ex3'>Ex.3 Find Min in Rotated Sorted Array</a>\n",
    "\n",
    "<a href='#Ex4'>Ex.4 Find in Rotated Array</a>\n",
    "\n",
    "<a href='#Ex5'>Ex.5 Search Insert Position  </a>\n",
    "\n",
    "<a href='#Ex6'>Ex.6 Find Range</a>\n",
    "\n",
    "<a href='#Ex7'>Ex.7 Search in Sorted Array with Empty Strings</a>\n",
    "\n",
    "<a href='#Ex8'>Ex.8 Search 1st Position of element in Infinite Array</a>"
   ]
  },
  {
   "cell_type": "code",
   "execution_count": null,
   "metadata": {
    "collapsed": true
   },
   "outputs": [],
   "source": []
  },
  {
   "cell_type": "markdown",
   "metadata": {
    "run_control": {
     "frozen": false,
     "read_only": false
    }
   },
   "source": [
    "### Ex.1: Binary Search Review\n",
    "\n",
    "Find 1st position of target, return -1 if not found\n",
    "\n",
    "How about last position, any position?"
   ]
  },
  {
   "cell_type": "markdown",
   "metadata": {
    "run_control": {
     "frozen": false,
     "read_only": false
    }
   },
   "source": [
    "Binary Search (iterative)"
   ]
  },
  {
   "cell_type": "code",
   "execution_count": 8,
   "metadata": {
    "collapsed": true,
    "run_control": {
     "frozen": false,
     "read_only": false
    }
   },
   "outputs": [],
   "source": [
    "def bi_search_iter(alist, item):\n",
    "    left, right = 0, len(alist) - 1\n",
    "    while left <= right:\n",
    "        mid = (left + right) // 2\n",
    "        if alist[mid] < item:\n",
    "            left = mid + 1\n",
    "        elif alist[mid] > item:\n",
    "            right = mid - 1\n",
    "        else: # alist[mid] = item\n",
    "            return mid\n",
    "    return -1"
   ]
  },
  {
   "cell_type": "code",
   "execution_count": 5,
   "metadata": {
    "run_control": {
     "frozen": false,
     "read_only": false
    }
   },
   "outputs": [
    {
     "name": "stdout",
     "output_type": "stream",
     "text": [
      "4\n",
      "-1\n"
     ]
    }
   ],
   "source": [
    "num_list = [1,2,3,5,7,8,9]\n",
    "print(bi_search_iter(num_list, 7))\n",
    "print(bi_search_iter(num_list, 4))"
   ]
  },
  {
   "cell_type": "markdown",
   "metadata": {},
   "source": [
    "### Ex.2: Binary Search Template\n",
    "\n",
    "Remember? ** Template! **"
   ]
  },
  {
   "cell_type": "code",
   "execution_count": 9,
   "metadata": {
    "collapsed": true
   },
   "outputs": [],
   "source": [
    "def binarysearch(alist, item):\n",
    "    if len(alist) == 0:\n",
    "        return -1\n",
    "    \n",
    "    left, right = 0, len(alist) - 1\n",
    "    while left + 1 < right:\n",
    "        mid = left + (right - left) // 2\n",
    "        if alist[mid] == item:\n",
    "            right = mid\n",
    "        elif alist[mid] < item:\n",
    "            left = mid\n",
    "        elif alist[mid] > item:\n",
    "            right = mid\n",
    "    \n",
    "    if alist[left] == item:\n",
    "        return left\n",
    "    if alist[right] == item:\n",
    "        return right\n",
    "    \n",
    "    return -1"
   ]
  },
  {
   "cell_type": "code",
   "execution_count": null,
   "metadata": {
    "collapsed": true
   },
   "outputs": [],
   "source": []
  },
  {
   "cell_type": "markdown",
   "metadata": {},
   "source": [
    "### Ex.3 Find Min in Rotated Sorted Array\n",
    "\n",
    "Suppose an array sorted in ascending order is rotated at some pivot unknown to you beforehand. Find the minimum element."
   ]
  },
  {
   "cell_type": "code",
   "execution_count": 10,
   "metadata": {
    "collapsed": true
   },
   "outputs": [],
   "source": [
    "def searchlazy(alist):\n",
    "    alist.sort()\n",
    "    return alist[0]\n",
    "\n",
    "def searchslow(alist):\n",
    "    mmin = alist[0]\n",
    "    for i in alist:\n",
    "        mmin = min(mmin, i)\n",
    "    return mmin \n",
    "        \n",
    "\n",
    "def search(alist):\n",
    "    if len(alist) == 0:\n",
    "        return -1    \n",
    "    left, right = 0, len(alist) - 1\n",
    "    while left + 1 < right: \n",
    "        if (alist[left] < alist[right]):\n",
    "            return alist[left];\n",
    "        mid = left + (right - left) // 2\n",
    "        if (alist[mid] >= alist[left]):\n",
    "            left = mid + 1\n",
    "        else:\n",
    "            right = mid\n",
    "    return alist[left] if alist[left] < alist[right] else alist[right]"
   ]
  },
  {
   "cell_type": "markdown",
   "metadata": {},
   "source": [
    "### Ex.4 Find in Rotated Array"
   ]
  },
  {
   "cell_type": "code",
   "execution_count": 11,
   "metadata": {
    "collapsed": true
   },
   "outputs": [],
   "source": [
    "def search(alist, target):\n",
    "    if len(alist) == 0:\n",
    "        return -1    \n",
    "    left, right = 0, len(alist) - 1\n",
    "    while left + 1 < right: \n",
    "        mid = left + (right - left) // 2\n",
    "        if alist[mid] == target:\n",
    "            return mid\n",
    "        \n",
    "        if (alist[left] < alist[mid]):\n",
    "            if alist[left] <= target and target <= alist[mid]:\n",
    "                right = mid\n",
    "            else:\n",
    "                left = mid\n",
    "        else:\n",
    "            if alist[mid] <= target and target <= alist[right]:\n",
    "                left = mid\n",
    "            else: \n",
    "                right = mid\n",
    "                            \n",
    "    if alist[left] == target:\n",
    "        return left\n",
    "    if alist[right] == target:\n",
    "        return right\n",
    "        \n",
    "    return -1"
   ]
  },
  {
   "cell_type": "markdown",
   "metadata": {},
   "source": [
    "### Ex.5 Search Insert Position  \n",
    "\n",
    "Given a sorted array and a target value, return the index if the target is found. If not, return the index where it would be if it were inserted in order. You may assume no duplicates in the array"
   ]
  },
  {
   "cell_type": "code",
   "execution_count": 12,
   "metadata": {
    "collapsed": true
   },
   "outputs": [],
   "source": [
    "def search_insert_position(alist, target):\n",
    "    if len(alist) == 0:\n",
    "        return 0  \n",
    "    left, right = 0, len(alist) - 1\n",
    "    while left + 1 < right: \n",
    "        mid = left + (right - left) // 2\n",
    "        if alist[mid] == target:\n",
    "            return mid\n",
    "        \n",
    "        if (alist[mid] < target):\n",
    "            left = mid\n",
    "        else:\n",
    "            right = mid\n",
    "            \n",
    "    if alist[left] >= target:\n",
    "        return left\n",
    "    if alist[right] >= target:\n",
    "        return right\n",
    "        \n",
    "    return right + 1"
   ]
  },
  {
   "cell_type": "markdown",
   "metadata": {},
   "source": [
    "### Ex.6  Find the starting and ending position of a given target value."
   ]
  },
  {
   "cell_type": "code",
   "execution_count": 13,
   "metadata": {
    "collapsed": true
   },
   "outputs": [],
   "source": [
    "\n",
    "def search_range(alist, target):\n",
    "    if len(alist) == 0:\n",
    "        return (-1, -1)  \n",
    "    \n",
    "    lbound, rbound = -1, -1\n",
    "\n",
    "    # search for left bound \n",
    "    left, right = 0, len(alist) - 1\n",
    "    while left + 1 < right: \n",
    "        mid = left + (right - left) // 2\n",
    "        if alist[mid] == target:\n",
    "            right = mid\n",
    "        elif (alist[mid] < target):\n",
    "            left = mid\n",
    "        else:\n",
    "            right = mid\n",
    "            \n",
    "    if alist[left] == target:\n",
    "        lbound = left\n",
    "    elif alist[right] == target:\n",
    "        lbound = right\n",
    "    else:\n",
    "        return (-1, -1)\n",
    "\n",
    "    # search for right bound \n",
    "    left, right = 0, len(alist) - 1        \n",
    "    while left + 1 < right: \n",
    "        mid = left + (right - left) // 2\n",
    "        if alist[mid] == target:\n",
    "            left = mid\n",
    "        elif (alist[mid] < target):\n",
    "            left = mid\n",
    "        else:\n",
    "            right = mid\n",
    "            \n",
    "    if alist[right] == target:\n",
    "        rbound = right\n",
    "    elif alist[left] == target:\n",
    "        rbound = left\n",
    "    else:\n",
    "        return (-1, -1)        \n",
    "        \n",
    "    return (lbound, rbound)"
   ]
  },
  {
   "cell_type": "markdown",
   "metadata": {},
   "source": [
    "### Ex.7 Search in Sorted Array with Empty Strings\n",
    "\n",
    "Given a sorted array of strings which is interspersed with empty strings, write a meth­od to find the location of a given string."
   ]
  },
  {
   "cell_type": "code",
   "execution_count": 14,
   "metadata": {
    "collapsed": true
   },
   "outputs": [],
   "source": [
    "def search_empty(alist, target):\n",
    "    if len(alist) == 0:\n",
    "        return -1\n",
    "      \n",
    "    left, right = 0, len(alist) - 1\n",
    "    \n",
    "    while left + 1 < right:\n",
    "        while left + 1 < right and alist[right] == \"\":\n",
    "            right -= 1\n",
    "        if alist[right] == \"\":\n",
    "            right -= 1\n",
    "        if right < left:\n",
    "            return -1\n",
    "        \n",
    "        mid = left + (right - left) // 2\n",
    "        while alist[mid] == \"\":\n",
    "            mid += 1\n",
    "            \n",
    "        if alist[mid] == target:\n",
    "            return mid\n",
    "        if alist[mid] < target:\n",
    "            left = mid + 1\n",
    "        else:\n",
    "            right = mid - 1\n",
    "            \n",
    "    if alist[left] == target:\n",
    "        return left\n",
    "    if alist[right] == target:\n",
    "        return right    \n",
    "        \n",
    "    return -1   "
   ]
  },
  {
   "cell_type": "markdown",
   "metadata": {},
   "source": [
    "### Ex.8 Search 1st Position of element in Infinite Array"
   ]
  },
  {
   "cell_type": "code",
   "execution_count": 17,
   "metadata": {
    "collapsed": true
   },
   "outputs": [],
   "source": [
    "def search_first(alist):\n",
    "    left, right = 0, 1\n",
    "    \n",
    "    while alist[right] == 0:\n",
    "        left = right\n",
    "        right *= 2\n",
    "        \n",
    "        if (right > len(alist)):\n",
    "            right = len(alist) - 1\n",
    "            break\n",
    "    \n",
    "    return left + search_range(alist[left:right+1], 1)[0]"
   ]
  },
  {
   "cell_type": "code",
   "execution_count": 18,
   "metadata": {
    "collapsed": true
   },
   "outputs": [],
   "source": [
    "alist = [0, 0, 0, 0, 0, 1]\n",
    "r = search_first(alist)"
   ]
  },
  {
   "cell_type": "code",
   "execution_count": null,
   "metadata": {
    "collapsed": true
   },
   "outputs": [],
   "source": []
  }
 ],
 "metadata": {
  "kernelspec": {
   "display_name": "Python 3",
   "language": "python",
   "name": "python3"
  },
  "language_info": {
   "codemirror_mode": {
    "name": "ipython",
    "version": 3
   },
   "file_extension": ".py",
   "mimetype": "text/x-python",
   "name": "python",
   "nbconvert_exporter": "python",
   "pygments_lexer": "ipython3",
   "version": "3.6.1"
  }
 },
 "nbformat": 4,
 "nbformat_minor": 2
}
