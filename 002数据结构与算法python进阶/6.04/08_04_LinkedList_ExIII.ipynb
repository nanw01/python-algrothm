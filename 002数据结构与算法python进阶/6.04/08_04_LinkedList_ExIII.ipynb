{
 "cells": [
  {
   "cell_type": "markdown",
   "metadata": {},
   "source": [
    "# Linked List Practice III #"
   ]
  },
  {
   "cell_type": "code",
   "execution_count": 4,
   "metadata": {
    "collapsed": true
   },
   "outputs": [],
   "source": [
    "from LinkedList import LinkedList\n",
    "from LinkedList import Node"
   ]
  },
  {
   "cell_type": "markdown",
   "metadata": {},
   "source": [
    "In this lecture, you will learn:\n",
    "\n",
    "<a href='#Ex1'>Ex.1 Reverse a Linked List</a>\n",
    "\n",
    "<a href='#Ex2'>Ex.2 Reverse a Linked List II</a>\n",
    "\n",
    "<a href='#Ex3'>Ex.3 Reverse a Linked List III</a>\n",
    "\n",
    "<a href='#Ex4'>Ex.4 Reverse a Linked List IV</a>\n",
    "\n",
    "<a href='#Ex5'>Ex.5 Palindrome Linked List</a>\n",
    "\n",
    "<a href='#Ex6'>Ex.6 Remove Duplicates from Sorted List</a>\n",
    "\n",
    "<a href='#Ex7'>Ex.7 Remove Duplicates from Sorted List II</a>\n",
    "\n"
   ]
  },
  {
   "cell_type": "markdown",
   "metadata": {},
   "source": [
    "### <a id='Ex1'>Ex.1 Reverse a Linked List</a>"
   ]
  },
  {
   "cell_type": "code",
   "execution_count": 41,
   "metadata": {
    "collapsed": true
   },
   "outputs": [],
   "source": [
    "def reverse(lst):\n",
    "    head = lst.head\n",
    "    result = None\n",
    "    current = head.next\n",
    "    nxt = None\n",
    "    \n",
    "    while current is not None:\n",
    "        nxt = current.next\n",
    "        current.next = result\n",
    "        result = current\n",
    "        current = nxt\n",
    "        \n",
    "    head.next = result"
   ]
  },
  {
   "cell_type": "code",
   "execution_count": 42,
   "metadata": {},
   "outputs": [
    {
     "name": "stdout",
     "output_type": "stream",
     "text": [
      "hello\n",
      "1 3 5 7 9 \n",
      "hello\n",
      "9 7 5 3 1 \n"
     ]
    }
   ],
   "source": [
    "lst = LinkedList()\n",
    "lst.add_last(1)\n",
    "lst.add_last(3)\n",
    "lst.add_last(5)\n",
    "lst.add_last(7)\n",
    "lst.add_last(9)\n",
    "lst.printlist()\n",
    "reverse(lst)\n",
    "lst.printlist()"
   ]
  },
  {
   "cell_type": "code",
   "execution_count": 43,
   "metadata": {
    "collapsed": true
   },
   "outputs": [],
   "source": [
    "def reverseRecursion(node):\n",
    "    if (node is None or node.next is None):\n",
    "        return node\n",
    "    p = reverseRecursion(node.next)\n",
    "    node.next.next = node\n",
    "    node.next = None\n",
    "    return p\n"
   ]
  },
  {
   "cell_type": "code",
   "execution_count": 44,
   "metadata": {},
   "outputs": [
    {
     "name": "stdout",
     "output_type": "stream",
     "text": [
      "hello\n",
      "1 3 5 7 9 \n",
      "hello\n",
      "9 7 5 3 1 \n"
     ]
    }
   ],
   "source": [
    "lst = LinkedList()\n",
    "lst.add_last(1)\n",
    "lst.add_last(3)\n",
    "lst.add_last(5)\n",
    "lst.add_last(7)\n",
    "lst.add_last(9)\n",
    "lst.printlist()\n",
    "lst.head.next = reverseRecursion(lst.head.next)\n",
    "lst.printlist()"
   ]
  },
  {
   "cell_type": "markdown",
   "metadata": {},
   "source": [
    "### <a id='Ex2'>Ex.2 Reverse a Linked List II</a>\n",
    "\n",
    "Reverse a linked list from position m to n. Do it in-place and in one-pass.\n",
    "\n",
    "For example:\n",
    "\n",
    "Given 1->2->3->4->5->NULL, m = 2 and n = 4,\n",
    "\n",
    "return 1->4->3->2->5->NULL."
   ]
  },
  {
   "cell_type": "code",
   "execution_count": 47,
   "metadata": {
    "collapsed": true
   },
   "outputs": [],
   "source": [
    "def reverseBetween(head, m, n):\n",
    "    if m == n:\n",
    "        return head\n",
    "\n",
    "    dummyNode = Node(0)\n",
    "    dummyNode.next = head\n",
    "    pre = dummyNode\n",
    "\n",
    "    for i in range(m - 1):\n",
    "        pre = pre.next\n",
    "\n",
    "    # reverse the [m, n] nodes\n",
    "    result = None\n",
    "    current = pre.next\n",
    "    for i in range(n - m + 1):\n",
    "        nxt = current.next\n",
    "        current.next = result\n",
    "        result = current\n",
    "        current = nxt\n",
    "\n",
    "    pre.next.next = current\n",
    "    pre.next = result\n",
    "\n",
    "    return dummyNode.next\n"
   ]
  },
  {
   "cell_type": "code",
   "execution_count": 48,
   "metadata": {},
   "outputs": [
    {
     "name": "stdout",
     "output_type": "stream",
     "text": [
      "hello\n",
      "1 3 5 7 9 \n",
      "hello\n",
      "1 7 5 3 9 \n",
      "hello\n",
      "3 5 7 1 9 \n",
      "hello\n",
      "7 5 3 1 9 \n"
     ]
    }
   ],
   "source": [
    "lst = LinkedList()\n",
    "lst.add_last(1)\n",
    "lst.add_last(3)\n",
    "lst.add_last(5)\n",
    "lst.add_last(7)\n",
    "lst.add_last(9)\n",
    "lst.printlist()\n",
    "lst.head.next = reverseBetween(lst.head.next, 2, 4)\n",
    "lst.printlist()\n",
    "lst.head.next = reverseBetween(lst.head.next, 1, 4)\n",
    "lst.printlist()\n",
    "lst.head.next = reverseBetween(lst.head.next, 1, 3)\n",
    "lst.printlist()"
   ]
  },
  {
   "cell_type": "markdown",
   "metadata": {},
   "source": [
    "### <a id='Ex3'>Ex.3 Reverse a Linked List III</a>\n",
    "Swap Nodes in Pairs\n",
    "\n",
    "Given a linked list, swap every two adjacent nodes and return its head.\n",
    "\n",
    "For example,\n",
    "\n",
    "Given 1->2->3->4, you should return the list as 2->1->4->3.\n",
    "\n",
    "Your algorithm should use only constant space. You may not modify the values in the list, only nodes itself can be changed."
   ]
  },
  {
   "cell_type": "code",
   "execution_count": 7,
   "metadata": {
    "collapsed": true
   },
   "outputs": [],
   "source": [
    "def swapPairs(head):\n",
    "    dummy = cur = Node(0)\n",
    "    dummy.next = head\n",
    "    \n",
    "    while cur.next and cur.next.next:\n",
    "        p1 = cur.next\n",
    "        p2 = cur.next.next\n",
    "        cur.next  = p2\n",
    "        p1.next = p2.next\n",
    "        p2.next = p1\n",
    "        cur = cur.next.next\n",
    "    return dummy.next"
   ]
  },
  {
   "cell_type": "code",
   "execution_count": 9,
   "metadata": {},
   "outputs": [
    {
     "name": "stdout",
     "output_type": "stream",
     "text": [
      "1 2 3 4 \n",
      "2 1 4 3 \n",
      "1 2 3 4 \n"
     ]
    }
   ],
   "source": [
    "lst = LinkedList()\n",
    "lst.add_last(1)\n",
    "lst.add_last(2)\n",
    "lst.add_last(3)\n",
    "lst.add_last(4)\n",
    "lst.printlist()\n",
    "lst.head.next = swapPairs(lst.head.next)\n",
    "lst.printlist()\n",
    "lst.head.next = swapPairs(lst.head.next)\n",
    "lst.printlist()"
   ]
  },
  {
   "cell_type": "code",
   "execution_count": 10,
   "metadata": {},
   "outputs": [
    {
     "name": "stdout",
     "output_type": "stream",
     "text": [
      "1 2 3 4 5 \n",
      "2 1 4 3 5 \n"
     ]
    }
   ],
   "source": [
    "lst.add_last(5)\n",
    "lst.printlist()\n",
    "lst.head.next = swapPairs(lst.head.next)\n",
    "lst.printlist()"
   ]
  },
  {
   "cell_type": "code",
   "execution_count": null,
   "metadata": {
    "collapsed": true
   },
   "outputs": [],
   "source": []
  },
  {
   "cell_type": "markdown",
   "metadata": {},
   "source": [
    "### <a id='Ex4'>Ex.4 Reverse a Linked List IV</a>"
   ]
  },
  {
   "cell_type": "markdown",
   "metadata": {},
   "source": [
    "Reverse Nodes in k-Group\n",
    "\n",
    "Given a linked list, reverse the nodes of a linked list k at a time and return its modified list.\n",
    "\n",
    "k is a positive integer and is less than or equal to the length of the linked list. If the number of nodes is not a multiple of k then left-out nodes in the end should remain as it is.\n",
    "\n",
    "You may not alter the values in the nodes, only nodes itself may be changed.\n",
    "\n",
    "Only constant memory is allowed.\n",
    "\n",
    "For example,\n",
    "\n",
    "Given this linked list: 1->2->3->4->5\n",
    "\n",
    "For k = 2, you should return: 2->1->4->3->5\n",
    "\n",
    "For k = 3, you should return: 3->2->1->4->5"
   ]
  },
  {
   "cell_type": "code",
   "execution_count": 11,
   "metadata": {
    "collapsed": true
   },
   "outputs": [],
   "source": [
    "def reverseKGroup(head, k):\n",
    "    if head is None or k < 2:\n",
    "        return head\n",
    "    \n",
    "    next_head = head\n",
    "    for i in range(k - 1):\n",
    "        next_head = next_head.next\n",
    "        if next_head is None:\n",
    "            return head\n",
    "    ret = next_head\n",
    "    \n",
    "    current = head\n",
    "    while next_head:\n",
    "        tail = current\n",
    "        prev = None\n",
    "        for i in range(k):\n",
    "            if next_head:\n",
    "                next_head = next_head.next\n",
    "            nxt = current.next\n",
    "            current.next = prev\n",
    "            prev = current\n",
    "            current = nxt\n",
    "        tail.next = next_head or current\n",
    "    return ret"
   ]
  },
  {
   "cell_type": "code",
   "execution_count": 12,
   "metadata": {},
   "outputs": [
    {
     "name": "stdout",
     "output_type": "stream",
     "text": [
      "1 3 5 7 9 \n",
      "3 1 7 5 9 \n",
      "7 1 3 5 9 \n",
      "5 3 1 7 9 \n",
      "9 7 1 3 5 \n",
      "9 7 1 3 5 \n"
     ]
    }
   ],
   "source": [
    "lst = LinkedList()\n",
    "lst.add_last(1)\n",
    "lst.add_last(3)\n",
    "lst.add_last(5)\n",
    "lst.add_last(7)\n",
    "lst.add_last(9)\n",
    "lst.printlist()\n",
    "lst.head.next = reverseKGroup(lst.head.next, 2)\n",
    "lst.printlist()\n",
    "lst.head.next = reverseKGroup(lst.head.next, 3)\n",
    "lst.printlist()\n",
    "lst.head.next = reverseKGroup(lst.head.next, 4)\n",
    "lst.printlist()\n",
    "lst.head.next = reverseKGroup(lst.head.next, 5)\n",
    "lst.printlist()\n",
    "lst.head.next = reverseKGroup(lst.head.next, 7)\n",
    "lst.printlist()"
   ]
  },
  {
   "cell_type": "code",
   "execution_count": null,
   "metadata": {
    "collapsed": true
   },
   "outputs": [],
   "source": []
  },
  {
   "cell_type": "markdown",
   "metadata": {},
   "source": [
    "### <a id='Ex5'>Ex.5 Palindrome Linked List</a>\n",
    "\n",
    "Given a singly linked list, determine if it is a palindrome.\n",
    "\n",
    "Could you do it in O(n) time and O(1) space?"
   ]
  },
  {
   "cell_type": "code",
   "execution_count": 5,
   "metadata": {
    "collapsed": true
   },
   "outputs": [],
   "source": [
    "def isPalindrome(head):\n",
    "    rev = None\n",
    "    slow = fast = head\n",
    "    while fast and fast.next:\n",
    "        fast = fast.next.next\n",
    "        rev, rev.next, slow = slow, rev, slow.next\n",
    "    if fast:\n",
    "        slow = slow.next\n",
    "    while rev and rev.value == slow.value:\n",
    "        slow = slow.next\n",
    "        rev = rev.next\n",
    "    return not rev"
   ]
  },
  {
   "cell_type": "code",
   "execution_count": 7,
   "metadata": {},
   "outputs": [
    {
     "name": "stdout",
     "output_type": "stream",
     "text": [
      "1 3 5 7 9 \n",
      "False\n",
      "1 \n"
     ]
    }
   ],
   "source": [
    "lst = LinkedList()\n",
    "lst.add_last(1)\n",
    "lst.add_last(3)\n",
    "lst.add_last(5)\n",
    "lst.add_last(7)\n",
    "lst.add_last(9)\n",
    "lst.printlist()\n",
    "print(isPalindrome(lst.head.next))\n",
    "lst.printlist()"
   ]
  },
  {
   "cell_type": "code",
   "execution_count": 8,
   "metadata": {},
   "outputs": [
    {
     "name": "stdout",
     "output_type": "stream",
     "text": [
      "1 3 5 3 1 \n",
      "True\n",
      "1 \n"
     ]
    }
   ],
   "source": [
    "lst = LinkedList()\n",
    "lst.add_last(1)\n",
    "lst.add_last(3)\n",
    "lst.add_last(5)\n",
    "lst.add_last(3)\n",
    "lst.add_last(1)\n",
    "lst.printlist()\n",
    "print(isPalindrome(lst.head.next))\n",
    "lst.printlist()"
   ]
  },
  {
   "cell_type": "markdown",
   "metadata": {},
   "source": [
    "### <a id='Ex6'>Ex.6 Remove Duplicates from Sorted List</a>\n",
    "\n",
    "Given a sorted linked list, delete all duplicates such that each element appear only once.\n",
    "\n",
    "For example,\n",
    "\n",
    "Given 1->1->2, return 1->2.\n",
    "\n",
    "Given 1->1->2->3->3, return 1->2->3."
   ]
  },
  {
   "cell_type": "code",
   "execution_count": 62,
   "metadata": {
    "collapsed": true
   },
   "outputs": [],
   "source": [
    "def deleteDuplicates(head):\n",
    "    if head == None:\n",
    "        return head\n",
    "\n",
    "    node = head\n",
    "\n",
    "    while node.next:\n",
    "        if node.value == node.next.value:\n",
    "            node.next = node.next.next\n",
    "        else:\n",
    "            node = node.next\n",
    "\n",
    "    return head"
   ]
  },
  {
   "cell_type": "code",
   "execution_count": 64,
   "metadata": {},
   "outputs": [
    {
     "name": "stdout",
     "output_type": "stream",
     "text": [
      "hello\n",
      "1 3 5 7 9 \n"
     ]
    }
   ],
   "source": [
    "lst = LinkedList()\n",
    "lst.add_last(1)\n",
    "lst.add_last(3)\n",
    "lst.add_last(3)\n",
    "lst.add_last(3)\n",
    "lst.add_last(5)\n",
    "lst.add_last(7)\n",
    "lst.add_last(7)\n",
    "lst.add_last(9)\n",
    "lst.head.next = deleteDuplicates(lst.head.next)\n",
    "lst.printlist()"
   ]
  },
  {
   "cell_type": "markdown",
   "metadata": {},
   "source": [
    "### <a id='Ex7'>Ex.7 Remove Duplicates from Sorted List II</a>\n",
    "\n",
    "Given a sorted linked list, delete all nodes that have duplicate numbers, leaving only distinct numbers from the original list.\n",
    "\n",
    "For example,\n",
    "\n",
    "Given 1->2->3->3->4->4->5, return 1->2->5.\n",
    "\n",
    "Given 1->1->1->2->3, return 2->3."
   ]
  },
  {
   "cell_type": "code",
   "execution_count": 70,
   "metadata": {
    "collapsed": true
   },
   "outputs": [],
   "source": [
    "def deleteDuplicates2(head):\n",
    "    dummy = pre = Node(0)\n",
    "    dummy.next = head\n",
    "    while head and head.next:\n",
    "        if head.value == head.next.value:\n",
    "            while head and head.next and head.value == head.next.value:\n",
    "                head = head.next\n",
    "            head = head.next\n",
    "            pre.next = head\n",
    "        else:\n",
    "            pre = pre.next\n",
    "            head = head.next\n",
    "    return dummy.next"
   ]
  },
  {
   "cell_type": "code",
   "execution_count": null,
   "metadata": {
    "collapsed": true
   },
   "outputs": [],
   "source": []
  },
  {
   "cell_type": "code",
   "execution_count": 71,
   "metadata": {},
   "outputs": [
    {
     "name": "stdout",
     "output_type": "stream",
     "text": [
      "hello\n",
      "1 5 9 \n"
     ]
    }
   ],
   "source": [
    "lst = LinkedList()\n",
    "lst.add_last(1)\n",
    "lst.add_last(3)\n",
    "lst.add_last(3)\n",
    "lst.add_last(3)\n",
    "lst.add_last(5)\n",
    "lst.add_last(7)\n",
    "lst.add_last(7)\n",
    "lst.add_last(9)\n",
    "lst.head.next = deleteDuplicates2(lst.head.next)\n",
    "lst.printlist()"
   ]
  },
  {
   "cell_type": "code",
   "execution_count": null,
   "metadata": {
    "collapsed": true
   },
   "outputs": [],
   "source": []
  }
 ],
 "metadata": {
  "kernelspec": {
   "display_name": "Python 3",
   "language": "python",
   "name": "python3"
  },
  "language_info": {
   "codemirror_mode": {
    "name": "ipython",
    "version": 3
   },
   "file_extension": ".py",
   "mimetype": "text/x-python",
   "name": "python",
   "nbconvert_exporter": "python",
   "pygments_lexer": "ipython3",
   "version": "3.6.1"
  }
 },
 "nbformat": 4,
 "nbformat_minor": 2
}
