{
 "cells": [
  {
   "cell_type": "markdown",
   "metadata": {},
   "source": [
    "# Stack and Queue #"
   ]
  },
  {
   "cell_type": "code",
   "execution_count": 11,
   "metadata": {
    "collapsed": true
   },
   "outputs": [],
   "source": [
    "from LinkedList import LinkedList\n",
    "from LinkedList import Node\n",
    "from ArrayStack import ArrayStack"
   ]
  },
  {
   "cell_type": "markdown",
   "metadata": {},
   "source": [
    "In this lecture, you will learn:\n",
    "\n",
    "<a href='#Ex1'>Ex.1 Implement Queue using Stacks </a>\n",
    "\n",
    "<a href='#Ex2'>Ex.2 Implement Stack using Queues </a>\n",
    "\n",
    "<a href='#Ex3'>Ex.3 Min Stack </a>\n",
    "\n",
    "<a href='#Ex4'>Ex.4 Two Stack with One Array </a>\n",
    "\n",
    "<a href='#Ex5'>Ex.5 Three Stack with One Array </a>\n",
    "\n",
    "<a href='#Ex6'>Ex.6 Stack Sorting </a>"
   ]
  },
  {
   "cell_type": "markdown",
   "metadata": {},
   "source": [
    "### <a id='Ex1'>Ex.1 Implement Queue using Stacks </a>"
   ]
  },
  {
   "cell_type": "code",
   "execution_count": 4,
   "metadata": {
    "collapsed": true
   },
   "outputs": [],
   "source": [
    "class QueueWithTwoStacks:\n",
    "    \n",
    "    def __init__(self):\n",
    "        self.insertStack = []\n",
    "        self.popStack = []\n",
    "\n",
    "    def enqueue(self, e):\n",
    "        self.insertStack.append(e)\n",
    "        return e\n",
    "    \n",
    "    def dequeue(self):\n",
    "        if len(self.insertStack)==0 and len(self.popStack)==0:\n",
    "            return None\n",
    "        \n",
    "        if len(self.popStack)==0:\n",
    "            while len(self.insertStack)!=0:\n",
    "                self.popStack.append(self.insertStack.pop())\n",
    "        \n",
    "        return self.popStack.pop()"
   ]
  },
  {
   "cell_type": "code",
   "execution_count": 5,
   "metadata": {},
   "outputs": [
    {
     "name": "stdout",
     "output_type": "stream",
     "text": [
      "3\n",
      "2\n",
      "1\n",
      "3\n",
      "2\n"
     ]
    }
   ],
   "source": [
    "mystack = QueueWithTwoStacks()\n",
    "e = mystack.enqueue(3)\n",
    "print(e)\n",
    "e = mystack.enqueue(2)\n",
    "print(e)\n",
    "e = mystack.enqueue(1)\n",
    "print(e)\n",
    "e = mystack.dequeue()\n",
    "print(e)\n",
    "e = mystack.dequeue()\n",
    "print(e)"
   ]
  },
  {
   "cell_type": "code",
   "execution_count": null,
   "metadata": {
    "collapsed": true
   },
   "outputs": [],
   "source": []
  },
  {
   "cell_type": "markdown",
   "metadata": {},
   "source": [
    "### <a id='Ex2'>Ex.2 Implement Stack using Queues </a>"
   ]
  },
  {
   "cell_type": "code",
   "execution_count": 6,
   "metadata": {
    "collapsed": true
   },
   "outputs": [],
   "source": [
    "class StackWithQueue:\n",
    "    \n",
    "    def __init__(self):\n",
    "        self.queue = LinkedList()\n",
    "\n",
    "    # Push element x onto stack.\n",
    "    def push(self, x):\n",
    "        self.queue.add_last(x)\n",
    "\n",
    "    # Removes the element on top of the stack.\n",
    "    def pop(self):\n",
    "        size = self.queue.size()\n",
    "        for i in range(1, size):\n",
    "            self.queue.add_last(self.queue.remove_first())\n",
    "        self.queue.remove_first()\n",
    "        \n",
    "    def top(self):\n",
    "        size = self.queue.size()\n",
    "        for i in range(1, size):\n",
    "            self.queue.add_last(self.queue.remove_first())\n",
    "        result = self.queue.remove_first()\n",
    "        self.queue.add_last(result)\n",
    "        return result\n"
   ]
  },
  {
   "cell_type": "code",
   "execution_count": 7,
   "metadata": {},
   "outputs": [
    {
     "name": "stdout",
     "output_type": "stream",
     "text": [
      "2\n",
      "3\n"
     ]
    }
   ],
   "source": [
    "stack = StackWithQueue() \n",
    "stack.push(1)\n",
    "stack.push(2)\n",
    "print(stack.top())\n",
    "\n",
    "\n",
    "stack = StackWithQueue()\n",
    "stack.push(1)\n",
    "stack.push(2)\n",
    "stack.pop()\n",
    "stack.push(3)\n",
    "print(stack.top())\n"
   ]
  },
  {
   "cell_type": "markdown",
   "metadata": {},
   "source": [
    "### <a id='Ex3'>Ex.3 Min Stack</a>\n",
    "\n",
    "Design a stack that supports push, pop, top, and retrieving the minimum element in constant time.\n",
    "\n",
    "getMin() -- Retrieve the minimum element in the stack.\n"
   ]
  },
  {
   "cell_type": "code",
   "execution_count": 8,
   "metadata": {
    "collapsed": true
   },
   "outputs": [],
   "source": [
    "import sys\n",
    "from ArrayStack import ArrayStack\n",
    "\n",
    "class MinStack(ArrayStack):\n",
    "    \n",
    "    def __init__(self):\n",
    "        super(MinStack, self).__init__()\n",
    "    \n",
    "    def push(self, v):       \n",
    "        newMin = min(v, self.min())\n",
    "        super(MinStack, self).push(NodeWithMin(v, newMin))\n",
    "    \n",
    "    def min(self):\n",
    "        if (super(MinStack, self).is_empty()):\n",
    "            return sys.maxsize\n",
    "        else:\n",
    "            return super(MinStack, self).top()._min;\n",
    "    \n",
    "\n",
    "class NodeWithMin:\n",
    "    def __init__(self, v, min):\n",
    "        self._value = v\n",
    "        self._min = min  "
   ]
  },
  {
   "cell_type": "code",
   "execution_count": 9,
   "metadata": {},
   "outputs": [
    {
     "name": "stdout",
     "output_type": "stream",
     "text": [
      "3\n",
      "4\n"
     ]
    }
   ],
   "source": [
    "minStack = MinStack()\n",
    "minStack.push(4)\n",
    "minStack.push(6)\n",
    "minStack.push(8)\n",
    "minStack.push(3)\n",
    "print(minStack.min())\n",
    "minStack.pop()\n",
    "minStack.pop()\n",
    "print(minStack.min())"
   ]
  },
  {
   "cell_type": "code",
   "execution_count": 10,
   "metadata": {
    "collapsed": true
   },
   "outputs": [],
   "source": [
    "class MinStack2(ArrayStack):\n",
    "    \n",
    "    def __init__(self):\n",
    "        super(MinStack2, self).__init__()\n",
    "        self.min_stack = ArrayStack()\n",
    "        \n",
    "    def push(self, value):\n",
    "        if value <= self.min():\n",
    "            self.min_stack.push(value)\n",
    "        super(MinStack2, self).push(value)\n",
    "        return value\n",
    "          \n",
    "    def min(self):\n",
    "        if self.min_stack.is_empty():\n",
    "            return sys.maxsize\n",
    "        else:\n",
    "            return self.min_stack.top()    \n",
    "      \n",
    "    def pop(self):\n",
    "        value = super(MinStack2, self).pop()\n",
    "        if value == self.min():\n",
    "            self.min_stack.pop()\n",
    "        return value"
   ]
  },
  {
   "cell_type": "code",
   "execution_count": 11,
   "metadata": {},
   "outputs": [
    {
     "name": "stdout",
     "output_type": "stream",
     "text": [
      "3\n",
      "4\n"
     ]
    }
   ],
   "source": [
    "minStack = MinStack2()\n",
    "minStack.push(4)\n",
    "minStack.push(6)\n",
    "minStack.push(8)\n",
    "minStack.push(3)\n",
    "print(minStack.min())\n",
    "minStack.pop()\n",
    "minStack.pop()\n",
    "print(minStack.min())"
   ]
  },
  {
   "cell_type": "code",
   "execution_count": null,
   "metadata": {
    "collapsed": true
   },
   "outputs": [],
   "source": []
  },
  {
   "cell_type": "markdown",
   "metadata": {},
   "source": [
    "### <a id='Ex4'>Ex.4 Two Stack with One Array</a>\n",
    "\n",
    "Describe how you could use a single array to implement two stacks"
   ]
  },
  {
   "cell_type": "code",
   "execution_count": 1,
   "metadata": {
    "collapsed": true
   },
   "outputs": [],
   "source": [
    "class twoStacks:\n",
    "     \n",
    "    def __init__(self, n): \n",
    "        self.size = n\n",
    "        self.arr = [None] * n\n",
    "        self.top1 = -1\n",
    "        self.top2 = self.size\n",
    "         \n",
    "    # Method to push an element x to stack1\n",
    "    def push1(self, x):\n",
    "         \n",
    "        # There is at least one empty space for new element\n",
    "        if self.top1 < self.top2 - 1 :\n",
    "            self.top1 = self.top1 + 1\n",
    "            self.arr[self.top1] = x\n",
    " \n",
    "        else:\n",
    "            print(\"Stack Overflow \")\n",
    " \n",
    "    # Method to push an element x to stack2\n",
    "    def push2(self, x):\n",
    " \n",
    "        # There is at least one empty space for new element\n",
    "        if self.top1 < self.top2 - 1:\n",
    "            self.top2 = self.top2 - 1\n",
    "            self.arr[self.top2] = x\n",
    " \n",
    "        else :\n",
    "           print(\"Stack Overflow \")\n",
    " \n",
    "    # Method to pop an element from first stack\n",
    "    def pop1(self):\n",
    "        if self.top1 >= 0:\n",
    "            x = self.arr[self.top1]\n",
    "            self.top1 = self.top1 -1\n",
    "            return x\n",
    "        else:\n",
    "            print(\"Stack Underflow \")\n",
    " \n",
    "    # Method to pop an element from second stack\n",
    "    def pop2(self):\n",
    "        if self.top2 < self.size:\n",
    "            x = self.arr[self.top2]\n",
    "            self.top2 = self.top2 + 1\n",
    "            return x\n",
    "        else:\n",
    "            print(\"Stack Underflow \")\n"
   ]
  },
  {
   "cell_type": "code",
   "execution_count": 7,
   "metadata": {},
   "outputs": [],
   "source": [
    "ts = twoStacks(5)\n",
    "ts.push1(5)\n",
    "ts.push2(10)\n",
    "ts.push2(15)\n",
    "ts.push1(11)\n",
    "ts.push2(7)"
   ]
  },
  {
   "cell_type": "code",
   "execution_count": 8,
   "metadata": {},
   "outputs": [
    {
     "name": "stdout",
     "output_type": "stream",
     "text": [
      "Popped element from stack1 is  11\n",
      "Popped element from stack2 is  40\n",
      "Popped element from stack2 is  7\n",
      "Popped element from stack2 is  15\n",
      "Popped element from stack2 is  10\n",
      "Stack Underflow \n",
      "Popped element from stack2 is  None\n",
      "Stack Underflow \n",
      "Popped element from stack2 is  None\n",
      "Popped element from stack2 is  30\n",
      "Popped element from stack2 is  20\n",
      "Stack Underflow \n",
      "Popped element from stack2 is  None\n"
     ]
    }
   ],
   "source": [
    "print(\"Popped element from stack1 is \", ts.pop1())\n",
    "ts.push2(40)\n",
    "print(\"Popped element from stack2 is \", ts.pop2())\n",
    "print(\"Popped element from stack2 is \", ts.pop2())\n",
    "print(\"Popped element from stack2 is \", ts.pop2())\n",
    "print(\"Popped element from stack2 is \", ts.pop2())\n",
    "print(\"Popped element from stack2 is \", ts.pop2())\n",
    "print(\"Popped element from stack2 is \", ts.pop2())\n",
    "ts.push2(20)\n",
    "ts.push2(30)\n",
    "print(\"Popped element from stack2 is \", ts.pop2())\n",
    "print(\"Popped element from stack2 is \", ts.pop2())\n",
    "print(\"Popped element from stack2 is \", ts.pop2())"
   ]
  },
  {
   "cell_type": "markdown",
   "metadata": {},
   "source": [
    "### <a id='Ex5'>Ex.5 Three Stack with One Array</a>\n",
    "\n",
    "Describe how you could use a single array to implement three stacks"
   ]
  },
  {
   "cell_type": "markdown",
   "metadata": {},
   "source": [
    "### <a id='Ex6'>Ex.6 Stack Sorting</a>\n",
    "\n",
    "Write a program to sort a stack in ascending order. You should not make any assumptions about how the stack is implemented. The following are the only functions that should be used to write this program: push | pop | peek | isEmpty."
   ]
  },
  {
   "cell_type": "code",
   "execution_count": 16,
   "metadata": {
    "collapsed": true
   },
   "outputs": [],
   "source": [
    "def sortStack(s):\n",
    "    r = ArrayStack()\n",
    "    \n",
    "    while not s.is_empty():\n",
    "        tmp = s.pop()\n",
    "        \n",
    "        while not r.is_empty() and r.top() > tmp:\n",
    "            s.push(r.pop())\n",
    "            \n",
    "        r.push(tmp)\n",
    "    \n",
    "    return r"
   ]
  },
  {
   "cell_type": "code",
   "execution_count": 19,
   "metadata": {},
   "outputs": [
    {
     "name": "stdout",
     "output_type": "stream",
     "text": [
      "size was:  0\n",
      "3 1 4 2 5 6 9 8 7 \n"
     ]
    }
   ],
   "source": [
    "mystack = ArrayStack()\n",
    "print ('size was: ', str(len(mystack)))\n",
    "mystack.push(3)\n",
    "mystack.push(1)\n",
    "mystack.push(4)\n",
    "mystack.push(2)\n",
    "mystack.push(5)\n",
    "mystack.push(6)\n",
    "mystack.push(9)\n",
    "mystack.push(8)\n",
    "mystack.push(7)\n",
    "mystack.printstack()"
   ]
  },
  {
   "cell_type": "code",
   "execution_count": 20,
   "metadata": {},
   "outputs": [
    {
     "name": "stdout",
     "output_type": "stream",
     "text": [
      "1 2 3 4 5 6 7 8 9 \n"
     ]
    }
   ],
   "source": [
    "r = sortStack(mystack)\n",
    "r.printstack()"
   ]
  },
  {
   "cell_type": "code",
   "execution_count": null,
   "metadata": {
    "collapsed": true
   },
   "outputs": [],
   "source": []
  },
  {
   "cell_type": "code",
   "execution_count": 26,
   "metadata": {
    "collapsed": true
   },
   "outputs": [],
   "source": [
    "def sortedInsert(s, x):\n",
    "    if len(s) == 0 or x > s.top():\n",
    "        s.push(x)\n",
    "        return\n",
    "    temp = s.pop()\n",
    "    sortedInsert(s, x)\n",
    "    s.push(temp)\n",
    "    \n",
    "def sortStack(s):\n",
    "    if len(s) != 0:\n",
    "        x = s.pop()\n",
    "        sortStack(s)\n",
    "        sortedInsert(s, x)"
   ]
  },
  {
   "cell_type": "code",
   "execution_count": 27,
   "metadata": {},
   "outputs": [
    {
     "name": "stdout",
     "output_type": "stream",
     "text": [
      "30 -5 18 14 -3 \n",
      "-5 -3 14 18 30 \n"
     ]
    }
   ],
   "source": [
    "s = ArrayStack()\n",
    "s.push(30)\n",
    "s.push(-5)\n",
    "s.push(18)\n",
    "s.push(14)\n",
    "s.push(-3)\n",
    "s.printstack()\n",
    "sortStack(s)\n",
    "s.printstack()"
   ]
  },
  {
   "cell_type": "code",
   "execution_count": null,
   "metadata": {
    "collapsed": true
   },
   "outputs": [],
   "source": []
  }
 ],
 "metadata": {
  "kernelspec": {
   "display_name": "Python 3",
   "language": "python",
   "name": "python3"
  },
  "language_info": {
   "codemirror_mode": {
    "name": "ipython",
    "version": 3
   },
   "file_extension": ".py",
   "mimetype": "text/x-python",
   "name": "python",
   "nbconvert_exporter": "python",
   "pygments_lexer": "ipython3",
   "version": "3.6.1"
  }
 },
 "nbformat": 4,
 "nbformat_minor": 2
}
