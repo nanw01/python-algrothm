{
 "cells": [
  {
   "cell_type": "markdown",
   "metadata": {},
   "source": [
    "# ArrayQueue #"
   ]
  },
  {
   "cell_type": "code",
   "execution_count": 8,
   "metadata": {},
   "outputs": [],
   "source": [
    "class ArrayQueue:\n",
    "    DEFAULT_CAPACITY = 10\n",
    "    def __init__(self):\n",
    "        self._data = [None] * ArrayQueue.DEFAULT_CAPACITY\n",
    "        self._size = 0\n",
    "        self._front = 0\n",
    "        \n",
    "    def __len__(self):\n",
    "        return self._size\n",
    "    \n",
    "    def is_empty(self):\n",
    "        return self._size == 0\n",
    "    \n",
    "    def first(self):\n",
    "        if self.is_empty( ):\n",
    "            raise ValueError( 'Queue is empty' )\n",
    "        return self._data[self._front]\n",
    "    \n",
    "    def dequeue(self):\n",
    "        if self.is_empty( ):\n",
    "            raise ValueError( 'Queue is empty' )\n",
    "        answer = self._data[self._front]\n",
    "        self._data[self._front] = None\n",
    "        self._front = (self._front + 1) % len(self._data)\n",
    "        self._size -= 1\n",
    "        return answer\n",
    "    \n",
    "    def enqueue(self, e):\n",
    "        if self._size == len(self._data):\n",
    "            self._resize(2 * len(self._data))\n",
    "        pos = (self._front + self._size) % len(self._data)\n",
    "        self._data[pos] = e\n",
    "        self._size += 1\n",
    "        \n",
    "    def resize(self, cap):\n",
    "        old = self._data\n",
    "        self._data = [None] * cap\n",
    "        walk = self._front\n",
    "        for k in range(self._size):\n",
    "            self._data[k] = old[walk]\n",
    "            walk = (1 + walk) % len(old)\n",
    "        self._front = 0\n",
    "        \n",
    "    def printqueue(self):\n",
    "        for i in range(self._size):\n",
    "            pos = (self._front + self._size - 1 - i) % len(self._data)\n",
    "            #print(str(i), \": \", str(pos))\n",
    "            print(self._data[pos], end = \" \")  \n",
    "        print()"
   ]
  },
  {
   "cell_type": "code",
   "execution_count": 9,
   "metadata": {},
   "outputs": [
    {
     "name": "stdout",
     "output_type": "stream",
     "text": [
      "size was:  0\n",
      "size was:  5\n",
      "5 4 3 2 1 \n",
      "size was:  3\n",
      "5 4 3 \n",
      "7 6 5 4 3 \n",
      "size was:  3\n",
      "7 6 5 \n",
      "size was:  0\n",
      "\n"
     ]
    }
   ],
   "source": [
    "myqueue = ArrayQueue()\n",
    "print ('size was: ', str(len(myqueue)))\n",
    "myqueue.enqueue(1)\n",
    "myqueue.enqueue(2)\n",
    "myqueue.enqueue(3)\n",
    "myqueue.enqueue(4)\n",
    "myqueue.enqueue(5)\n",
    "print ('size was: ', str(len(myqueue)))\n",
    "myqueue.printqueue()\n",
    "myqueue.dequeue()\n",
    "myqueue.dequeue()\n",
    "print ('size was: ', str(len(myqueue)))\n",
    "myqueue.printqueue()\n",
    "myqueue.enqueue(6)\n",
    "myqueue.enqueue(7)\n",
    "myqueue.printqueue()\n",
    "myqueue.dequeue()\n",
    "myqueue.dequeue()\n",
    "print ('size was: ', str(len(myqueue)))\n",
    "myqueue.printqueue()\n",
    "myqueue.dequeue()\n",
    "myqueue.dequeue()\n",
    "myqueue.dequeue()\n",
    "print ('size was: ', str(len(myqueue)))\n",
    "myqueue.printqueue()\n",
    "#myqueue.dequeue()"
   ]
  },
  {
   "cell_type": "code",
   "execution_count": null,
   "metadata": {
    "collapsed": true
   },
   "outputs": [],
   "source": []
  }
 ],
 "metadata": {
  "kernelspec": {
   "display_name": "Python 3",
   "language": "python",
   "name": "python3"
  },
  "language_info": {
   "codemirror_mode": {
    "name": "ipython",
    "version": 3
   },
   "file_extension": ".py",
   "mimetype": "text/x-python",
   "name": "python",
   "nbconvert_exporter": "python",
   "pygments_lexer": "ipython3",
   "version": "3.6.1"
  }
 },
 "nbformat": 4,
 "nbformat_minor": 2
}
