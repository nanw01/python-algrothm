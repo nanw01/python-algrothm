{
 "cells": [
  {
   "cell_type": "markdown",
   "metadata": {
    "run_control": {
     "frozen": false,
     "read_only": false
    }
   },
   "source": [
    "# String V\n",
    "\n",
    "## Pattern Searching"
   ]
  },
  {
   "cell_type": "markdown",
   "metadata": {},
   "source": [
    "### Ex.1 find\n",
    "\n",
    "Return the index of the first occurrence of needle in haystack, or -1 if needle is not part of haystack."
   ]
  },
  {
   "cell_type": "code",
   "execution_count": 2,
   "metadata": {
    "collapsed": true
   },
   "outputs": [],
   "source": [
    "def strStr(text, pattern):\n",
    "    for i in range(len(text) - len(pattern)+1):\n",
    "        if text[i:i+len(pattern)] == pattern:\n",
    "            return i\n",
    "    return -1"
   ]
  },
  {
   "cell_type": "code",
   "execution_count": 4,
   "metadata": {},
   "outputs": [
    {
     "data": {
      "text/plain": [
       "10"
      ]
     },
     "execution_count": 4,
     "metadata": {},
     "output_type": "execute_result"
    }
   ],
   "source": [
    "text = \"THIS IS A TEST TEXT\"\n",
    "pattern = \"TEST\"\n",
    "strStr(text, pattern)"
   ]
  },
  {
   "cell_type": "code",
   "execution_count": 5,
   "metadata": {
    "collapsed": true
   },
   "outputs": [],
   "source": [
    "def strStr(text, pattern):\n",
    "    \"\"\" \n",
    "    Brute force algorithm.\n",
    "    Time complexity: O(n * m). Space complexity: O(1),\n",
    "    where m, n are the lengths of text and pattern.\n",
    "    \"\"\"\n",
    "    n, m = len(text), len(pattern)\n",
    "    for i in range(n - m + 1):\n",
    "        start = i\n",
    "        for j in range(m):\n",
    "            if text[i] != pattern[j]:\n",
    "                break\n",
    "            i += 1\n",
    "        else:  # no break occured, i.e. match was found\n",
    "            return start\n",
    "    return -1"
   ]
  },
  {
   "cell_type": "code",
   "execution_count": 6,
   "metadata": {},
   "outputs": [
    {
     "data": {
      "text/plain": [
       "10"
      ]
     },
     "execution_count": 6,
     "metadata": {},
     "output_type": "execute_result"
    }
   ],
   "source": [
    "text = \"THIS IS A TEST TEXT\"\n",
    "pattern = \"TEST\"\n",
    "strStr(text, pattern)"
   ]
  },
  {
   "cell_type": "code",
   "execution_count": null,
   "metadata": {
    "collapsed": true
   },
   "outputs": [],
   "source": []
  },
  {
   "cell_type": "code",
   "execution_count": 35,
   "metadata": {
    "collapsed": true
   },
   "outputs": [],
   "source": [
    "# Rolling Hash\n",
    "\n",
    "def strStr(text, pattern):\n",
    "    base = 29\n",
    "    patternHash = 0\n",
    "    tempBase = 1\n",
    "    hayHash = 0\n",
    "    \n",
    "    for i in range(len(pattern) - 1, -1, -1):\n",
    "        patternHash += ord(pattern[i]) * tempBase\n",
    "        tempBase *= base\n",
    "        \n",
    "    tempBase = 1\n",
    "    for i in range(len(pattern) - 1, -1, -1):\n",
    "        hayHash += ord(text[i]) * tempBase\n",
    "        tempBase *= base    \n",
    "\n",
    "    if patternHash == hayHash and text[0:len(pattern)] == pattern:\n",
    "        return 0\n",
    "    \n",
    "    tempBase /= base\n",
    "    for i in range(len(pattern), len(text)):\n",
    "        hayHash = (hayHash - ord(text[i - len(pattern)]) * tempBase) * base + ord(text[i])\n",
    "        if hayHash == patternHash and text[i-len(pattern)+1:i+1] == pattern:\n",
    "            return i - len(pattern) + 1\n",
    "                                  \n",
    "    return -1\n",
    "                                  "
   ]
  },
  {
   "cell_type": "code",
   "execution_count": 36,
   "metadata": {},
   "outputs": [
    {
     "data": {
      "text/plain": [
       "10"
      ]
     },
     "execution_count": 36,
     "metadata": {},
     "output_type": "execute_result"
    }
   ],
   "source": [
    "text = \"THIS IS A TEST TEXT\"\n",
    "pattern = \"TEST\"\n",
    "strStr(text, pattern)"
   ]
  },
  {
   "cell_type": "code",
   "execution_count": 37,
   "metadata": {},
   "outputs": [
    {
     "data": {
      "text/plain": [
       "0"
      ]
     },
     "execution_count": 37,
     "metadata": {},
     "output_type": "execute_result"
    }
   ],
   "source": [
    "text = \"TEST\"\n",
    "pattern = \"TEST\"\n",
    "strStr(text, pattern)"
   ]
  },
  {
   "cell_type": "code",
   "execution_count": 38,
   "metadata": {},
   "outputs": [
    {
     "data": {
      "text/plain": [
       "0"
      ]
     },
     "execution_count": 38,
     "metadata": {},
     "output_type": "execute_result"
    }
   ],
   "source": [
    "text = \"THIS IS A TEST TEXT\"\n",
    "pattern = \"THIS\"\n",
    "strStr(text, pattern)"
   ]
  },
  {
   "cell_type": "code",
   "execution_count": 41,
   "metadata": {},
   "outputs": [
    {
     "data": {
      "text/plain": [
       "-1"
      ]
     },
     "execution_count": 41,
     "metadata": {},
     "output_type": "execute_result"
    }
   ],
   "source": [
    "text = \"THIS IS A TEST TEXT\"\n",
    "pattern = \"IS IS  \"\n",
    "strStr(text, pattern)"
   ]
  },
  {
   "cell_type": "markdown",
   "metadata": {},
   "source": [
    "### Ex.2 Replace Word with Asterisks\n",
    "\n",
    "For the given sentence as input, censor a specific word with asterisks ‘ * ‘."
   ]
  },
  {
   "cell_type": "code",
   "execution_count": 11,
   "metadata": {},
   "outputs": [
    {
     "name": "stdout",
     "output_type": "stream",
     "text": [
      "\n"
     ]
    }
   ],
   "source": [
    "'''\n",
    "Input: Barcelona\n",
    "\n",
    "text = \n",
    "\"It wasn't any place close to a vintage performance but Barcelona eventually overcame \n",
    "Deportivo La Coruna and secured the La Liga title for the 25th time. It is the 9th La \n",
    "Liga win for Barcelona in the last 14 seasons and the 7th in the last 10. In the last \n",
    "ten, only Real Madrid twice and Atletico Madrid have broken Barcelona's run of Liga \n",
    "success.\"\n",
    "\n",
    "Output:\n",
    "\"It wasn't any place close to a vintage performance but ********* eventually overcame \n",
    "Deportivo La Coruna and secured the La Liga title for the 25th time. It is the 9th La \n",
    "Liga win for ********* in the last 14 seasons and the 7th in the last 10. In the last \n",
    "ten, only Real Madrid twice and Atletico Madrid have broken ********* run of Liga \n",
    "success.\"\n",
    "'''\n",
    "print()"
   ]
  },
  {
   "cell_type": "code",
   "execution_count": 16,
   "metadata": {
    "collapsed": true
   },
   "outputs": [],
   "source": [
    "def censor(text, word):\n",
    "    word_list = text.split()\n",
    " \n",
    "    result = ''\n",
    " \n",
    "    stars = '*' * len(word)\n",
    " \n",
    "    count = 0\n",
    " \n",
    "    index = 0;\n",
    "    for i in word_list:\n",
    "        if i == word:\n",
    "            word_list[index] = stars\n",
    "        index += 1\n",
    " \n",
    "    # join the words\n",
    "    result =' '.join(word_list)\n",
    " \n",
    "    return result"
   ]
  },
  {
   "cell_type": "code",
   "execution_count": 18,
   "metadata": {},
   "outputs": [
    {
     "data": {
      "text/plain": [
       "\"It wasn't any place close to a vintage performance but ********* eventually overcame Deportivo La Coruna and secured the La Liga title for the 25th time. It is the 9th La Liga win for ********* in the last 14 seasons and the 7th in the last 10. In the last ten, only Real Madrid twice and Atletico Madrid have broken ********* run of Liga success.\""
      ]
     },
     "execution_count": 18,
     "metadata": {},
     "output_type": "execute_result"
    }
   ],
   "source": [
    "word = \"Barcelona\"\n",
    "\n",
    "text = \"It wasn't any place close to a vintage performance but Barcelona eventually overcame \\\n",
    "Deportivo La Coruna and secured the La Liga title for the 25th time. It is the 9th La \\\n",
    "Liga win for Barcelona in the last 14 seasons and the 7th in the last 10. In the last \\\n",
    "ten, only Real Madrid twice and Atletico Madrid have broken Barcelona run of Liga success.\"\n",
    "\n",
    "censor(text, word)"
   ]
  },
  {
   "cell_type": "code",
   "execution_count": 19,
   "metadata": {},
   "outputs": [
    {
     "data": {
      "text/plain": [
       "\"It wasn't any place close to a vintage performance but ********* eventually overcame Deportivo La Coruna and secured the La Liga title for the 25th time. It is the 9th La Liga win for ********* in the last 14 seasons and the 7th in the last 10. In the last ten, only Real Madrid twice and Atletico Madrid have broken ********* run of Liga success.\""
      ]
     },
     "execution_count": 19,
     "metadata": {},
     "output_type": "execute_result"
    }
   ],
   "source": [
    "text.replace(word, '*' * len(word))"
   ]
  },
  {
   "cell_type": "code",
   "execution_count": null,
   "metadata": {
    "collapsed": true
   },
   "outputs": [],
   "source": []
  },
  {
   "cell_type": "markdown",
   "metadata": {},
   "source": [
    "### Ex.3 Replace All Occurrences of String AB with C\n",
    "\n",
    "Given a string str that may contain one more occurrences of “AB”. Replace all occurrences of “AB” with “C” in str."
   ]
  },
  {
   "cell_type": "code",
   "execution_count": 59,
   "metadata": {
    "collapsed": true
   },
   "outputs": [],
   "source": [
    "def translate(st) :\n",
    "    l = len(st)\n",
    "     \n",
    "    if (l < 2) :\n",
    "        return\n",
    " \n",
    "    i = 0 # Index in modified string\n",
    "    j = 0 # Index in original string\n",
    " \n",
    "    while (j < l - 1) :\n",
    "        # Replace occurrence of \"AB\" with \"C\"\n",
    "        if (st[j] == 'A' and st[j + 1] == 'B') :\n",
    "             \n",
    "            # Increment j by 2\n",
    "            j += 2\n",
    "            st[i] = 'C'\n",
    "            i += 1\n",
    "            continue\n",
    "         \n",
    "        st[i] = st[j]\n",
    "        i += 1\n",
    "        j += 1\n",
    " \n",
    "    if (j == l - 1) :\n",
    "        st[i] = st[j]\n",
    "        i += 1\n",
    " \n",
    "    # add a null character to\n",
    "    # terminate string\n",
    "    return i"
   ]
  },
  {
   "cell_type": "code",
   "execution_count": 60,
   "metadata": {},
   "outputs": [
    {
     "name": "stdout",
     "output_type": "stream",
     "text": [
      "h\n",
      "e\n",
      "l\n",
      "l\n",
      "o\n",
      "C\n",
      "w\n",
      "o\n",
      "r\n",
      "l\n",
      "d\n",
      "C\n",
      "G\n",
      "f\n",
      "G\n",
      "A\n",
      "A\n",
      "C\n"
     ]
    }
   ],
   "source": [
    "st = list(\"helloABworldABGfGAAAB\")\n",
    "length = translate(st)\n",
    "for i in range(length):\n",
    "    print(st[i])"
   ]
  },
  {
   "cell_type": "markdown",
   "metadata": {},
   "source": [
    "### Ex.3 Count of Occurrences of “1(0+)1” Pattern\n",
    "\n",
    "Given an alphanumeric string, find the number of times a pattern 1(0+)1 occurs in the given string. Here, (0+) signifies the presence of non empty sequence of consecutive 0’s."
   ]
  },
  {
   "cell_type": "code",
   "execution_count": 20,
   "metadata": {},
   "outputs": [
    {
     "name": "stdout",
     "output_type": "stream",
     "text": [
      "\n"
     ]
    }
   ],
   "source": [
    "'''\n",
    "Input : 1001010001\n",
    "Output : 3\n",
    "First sequence is in between 0th and 3rd index.\n",
    "Second sequence is in between 3rd and 5th index.\n",
    "Third sequence is in between 5th and 9th index.\n",
    "So total number of sequences comes out to be 3.\n",
    "\n",
    "Input : 1001ab010abc01001\n",
    "Output : 2\n",
    "First sequence is in between 0th and 3rd index.\n",
    "Second valid sequence is in between 13th and 16th index. \n",
    "So total number of sequences comes out to be 2.\n",
    "'''\n",
    "print()"
   ]
  },
  {
   "cell_type": "code",
   "execution_count": 16,
   "metadata": {
    "collapsed": true
   },
   "outputs": [],
   "source": [
    "def countPattern(s):\n",
    "    length = len(s)\n",
    "    oneSeen = False\n",
    "    \n",
    "    count = 0   # Initialize result\n",
    "    for i in range(length):\n",
    "\n",
    "        # if 1 encountered for first time\n",
    "        # set oneSeen to 1\n",
    "        if (s[i] == '1' and oneSeen == 0):\n",
    "            oneSeen = True\n",
    "            \n",
    " \n",
    "        # Check if there is any other character\n",
    "        # other than '0' or '1'. If so then set\n",
    "        # oneSeen to 0 to search again for new\n",
    "        # pattern\n",
    "        if (s[i] != '0' and s[i] != '1'):\n",
    "            oneSeen = False\n",
    " \n",
    "        # Check if encountered '1' forms a valid\n",
    "        # pattern as specified\n",
    "        if (s[i] == '1' and oneSeen):\n",
    "            if i != 0 and s[i - 1] == '0':\n",
    "                count += 1\n",
    " \n",
    "    return count"
   ]
  },
  {
   "cell_type": "code",
   "execution_count": 20,
   "metadata": {},
   "outputs": [
    {
     "name": "stdout",
     "output_type": "stream",
     "text": [
      "3\n"
     ]
    }
   ],
   "source": [
    "s = \"100001abc10100100\"\n",
    "print(countPattern(s))"
   ]
  },
  {
   "cell_type": "code",
   "execution_count": null,
   "metadata": {
    "collapsed": true
   },
   "outputs": [],
   "source": []
  },
  {
   "cell_type": "markdown",
   "metadata": {},
   "source": [
    "### Ex.4 String Matching with Wildcard Characters\n",
    "\n",
    "Given two strings where first string may contain wild card characters and second string is a normal string. Write a function that returns true if the two strings match. The following are allowed wild card characters in first string.\n",
    "\n",
    "\\* --> Matches with 0 or more instances of any character or set of characters.\n",
    "\n",
    "? --> Matches with any one character."
   ]
  },
  {
   "cell_type": "code",
   "execution_count": 7,
   "metadata": {
    "collapsed": true
   },
   "outputs": [],
   "source": [
    "def match(first, second):\n",
    "    if len(first) == 0 and len(second) == 0:\n",
    "        return True\n",
    " \n",
    "    # Make sure that the characters after '*' are present\n",
    "    # in second string. This function assumes that the first\n",
    "    # string will not contain two consecutive '*'\n",
    "    if len(first) > 1 and first[0] == '*' and len(second) == 0:\n",
    "        return False\n",
    " \n",
    "    # If the first string contains '?', or current characters\n",
    "    # of both strings match\n",
    "    if (len(first) > 1 and first[0] == '?')  \\\n",
    "        or (len(first) != 0  \\\n",
    "        and len(second) !=0 and first[0] == second[0]):\n",
    "        return match(first[1:],second[1:]);\n",
    " \n",
    "    # If there is *, then there are two possibilities\n",
    "    # a) We consider current character of second string\n",
    "    # b) We ignore current character of second string.\n",
    "    if len(first) !=0 and first[0] == '*':\n",
    "        return match(first[1:],second) or match(first,second[1:])"
   ]
  },
  {
   "cell_type": "code",
   "execution_count": 8,
   "metadata": {},
   "outputs": [
    {
     "name": "stdout",
     "output_type": "stream",
     "text": [
      "False\n",
      "False\n",
      "True\n",
      "False\n",
      "True\n",
      "True\n"
     ]
    }
   ],
   "source": [
    "print(match(\"g*k\", \"gee\"))\n",
    "print(match(\"*pqrs\", \"pqrst\")) # No because 't' is not in first\n",
    "print(match(\"abc*bcd\", \"abcdhghgbcd\")) # Yes\n",
    "print(match(\"abc*c?d\", \"abcd\")) # No because second must have 2 instances of 'c'\n",
    "print(match(\"*c*d\", \"abcd\")) # Yes\n",
    "print(match(\"*?c*d\", \"abcd\")) # Yes"
   ]
  },
  {
   "cell_type": "code",
   "execution_count": null,
   "metadata": {
    "collapsed": true
   },
   "outputs": [],
   "source": []
  },
  {
   "cell_type": "markdown",
   "metadata": {},
   "source": [
    "### Ex.5 Search Word in 2D Grid\n",
    "\n",
    "Given a 2D grid of characters and a word, find all occurrences of given word in grid. A word can be matched in all 8 directions at any point. Word is said be found in a direction if all characters match in this direction (not in zig-zag form).\n",
    "\n",
    "The 8 directions are, Horizontally Left, Horizontally Right, Vertically Up and 4 Diagonal directions.\n",
    "\n",
    "<img src=\"../images/ch28/searchword.png\" width=\"460\"/>"
   ]
  },
  {
   "cell_type": "markdown",
   "metadata": {},
   "source": [
    "https://www.geeksforgeeks.org/search-a-word-in-a-2d-grid-of-characters/"
   ]
  },
  {
   "cell_type": "code",
   "execution_count": null,
   "metadata": {
    "collapsed": true
   },
   "outputs": [],
   "source": []
  },
  {
   "cell_type": "markdown",
   "metadata": {},
   "source": [
    "### Ex.6 Find All Occurrences of Given Word in Matrix\n",
    "\n",
    "Given a 2D grid of characters and a word, find all occurrences of given word in grid. A word can be matched in all 8 directions at any point. Word is said be found in a direction if all characters match in this direction (not in zig-zag form).\n",
    "\n",
    "The solution should print all coordinates if a cycle is found. i.e.\n",
    "\n",
    "The 8 directions are, Horizontally Left, Horizontally Right, Vertically Up, Vertically Down and 4 Diagonals.\n",
    "\n",
    "<img src=\"../images/ch28/searchword2.png\" width=\"360\"/>"
   ]
  },
  {
   "cell_type": "markdown",
   "metadata": {},
   "source": [
    "https://www.geeksforgeeks.org/find-all-occurrences-of-the-word-in-a-matrix/"
   ]
  },
  {
   "cell_type": "code",
   "execution_count": null,
   "metadata": {
    "collapsed": true
   },
   "outputs": [],
   "source": []
  }
 ],
 "metadata": {
  "kernelspec": {
   "display_name": "Python 3",
   "language": "python",
   "name": "python3"
  },
  "language_info": {
   "codemirror_mode": {
    "name": "ipython",
    "version": 3
   },
   "file_extension": ".py",
   "mimetype": "text/x-python",
   "name": "python",
   "nbconvert_exporter": "python",
   "pygments_lexer": "ipython3",
   "version": "3.6.1"
  }
 },
 "nbformat": 4,
 "nbformat_minor": 2
}
