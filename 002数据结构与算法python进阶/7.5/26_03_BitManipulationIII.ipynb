{
 "cells": [
  {
   "cell_type": "markdown",
   "metadata": {
    "run_control": {
     "frozen": false,
     "read_only": false
    }
   },
   "source": [
    "# Bit Manipulation"
   ]
  },
  {
   "attachments": {},
   "cell_type": "markdown",
   "metadata": {},
   "source": [
    "** Ex.1 Reservoir Sampling"
   ]
  },
  {
   "cell_type": "code",
   "execution_count": 7,
   "metadata": {
    "collapsed": true
   },
   "outputs": [],
   "source": [
    "import random\n",
    "def reservoirSampling(items, k):\n",
    "    sample = items[0:k]\n",
    "\n",
    "    for i in range(k, len(items)):\n",
    "        j = random.randrange(1, i + 1)\n",
    "        if j <= k:\n",
    "            sample[j - 1] = items[i]\n",
    "\n",
    "    return sample"
   ]
  },
  {
   "cell_type": "code",
   "execution_count": 12,
   "metadata": {},
   "outputs": [
    {
     "data": {
      "text/plain": [
       "[28, 34, 76, 23, 74, 27, 50, 14, 59, 82]"
      ]
     },
     "execution_count": 12,
     "metadata": {},
     "output_type": "execute_result"
    }
   ],
   "source": [
    "items = list(range(1, 100))\n",
    "reservoirSampling(items,10)"
   ]
  },
  {
   "cell_type": "code",
   "execution_count": null,
   "metadata": {
    "collapsed": true
   },
   "outputs": [],
   "source": []
  },
  {
   "cell_type": "markdown",
   "metadata": {},
   "source": [
    "** Ex.2 Trailing Zeroes in Factorial **"
   ]
  },
  {
   "cell_type": "code",
   "execution_count": 19,
   "metadata": {
    "collapsed": true
   },
   "outputs": [],
   "source": [
    "def findTrailingZeros(n):\n",
    "    count = 0\n",
    "    i = 5\n",
    "    while (n / i >= 1):\n",
    "        count += n//i\n",
    "        i *= 5\n",
    " \n",
    "    return count"
   ]
  },
  {
   "cell_type": "code",
   "execution_count": 18,
   "metadata": {},
   "outputs": [
    {
     "data": {
      "text/plain": [
       "[(1, 0),\n",
       " (2, 0),\n",
       " (3, 0),\n",
       " (4, 0),\n",
       " (5, 1),\n",
       " (6, 1),\n",
       " (7, 1),\n",
       " (8, 1),\n",
       " (9, 1),\n",
       " (10, 2),\n",
       " (11, 2),\n",
       " (12, 2),\n",
       " (13, 2),\n",
       " (14, 2),\n",
       " (15, 3),\n",
       " (16, 3),\n",
       " (17, 3),\n",
       " (18, 3),\n",
       " (19, 3),\n",
       " (20, 4),\n",
       " (21, 4),\n",
       " (22, 4),\n",
       " (23, 4),\n",
       " (24, 4),\n",
       " (25, 6),\n",
       " (26, 6),\n",
       " (27, 6),\n",
       " (28, 6),\n",
       " (29, 6),\n",
       " (30, 7),\n",
       " (31, 7),\n",
       " (32, 7),\n",
       " (33, 7),\n",
       " (34, 7),\n",
       " (35, 8),\n",
       " (36, 8),\n",
       " (37, 8),\n",
       " (38, 8),\n",
       " (39, 8),\n",
       " (40, 9),\n",
       " (41, 9),\n",
       " (42, 9),\n",
       " (43, 9),\n",
       " (44, 9),\n",
       " (45, 10),\n",
       " (46, 10),\n",
       " (47, 10),\n",
       " (48, 10),\n",
       " (49, 10),\n",
       " (50, 12),\n",
       " (51, 12),\n",
       " (52, 12),\n",
       " (53, 12),\n",
       " (54, 12),\n",
       " (55, 13),\n",
       " (56, 13),\n",
       " (57, 13),\n",
       " (58, 13),\n",
       " (59, 13),\n",
       " (60, 14),\n",
       " (61, 14),\n",
       " (62, 14),\n",
       " (63, 14),\n",
       " (64, 14),\n",
       " (65, 15),\n",
       " (66, 15),\n",
       " (67, 15),\n",
       " (68, 15),\n",
       " (69, 15),\n",
       " (70, 16),\n",
       " (71, 16),\n",
       " (72, 16),\n",
       " (73, 16),\n",
       " (74, 16),\n",
       " (75, 18),\n",
       " (76, 18),\n",
       " (77, 18),\n",
       " (78, 18),\n",
       " (79, 18),\n",
       " (80, 19),\n",
       " (81, 19),\n",
       " (82, 19),\n",
       " (83, 19),\n",
       " (84, 19),\n",
       " (85, 20),\n",
       " (86, 20),\n",
       " (87, 20),\n",
       " (88, 20),\n",
       " (89, 20),\n",
       " (90, 21),\n",
       " (91, 21),\n",
       " (92, 21),\n",
       " (93, 21),\n",
       " (94, 21),\n",
       " (95, 22),\n",
       " (96, 22),\n",
       " (97, 22),\n",
       " (98, 22),\n",
       " (99, 22),\n",
       " (100, 24),\n",
       " (101, 24),\n",
       " (102, 24),\n",
       " (103, 24),\n",
       " (104, 24),\n",
       " (105, 25),\n",
       " (106, 25),\n",
       " (107, 25),\n",
       " (108, 25),\n",
       " (109, 25),\n",
       " (110, 26),\n",
       " (111, 26),\n",
       " (112, 26),\n",
       " (113, 26),\n",
       " (114, 26),\n",
       " (115, 27),\n",
       " (116, 27),\n",
       " (117, 27),\n",
       " (118, 27),\n",
       " (119, 27),\n",
       " (120, 28),\n",
       " (121, 28),\n",
       " (122, 28),\n",
       " (123, 28),\n",
       " (124, 28),\n",
       " (125, 31),\n",
       " (126, 31),\n",
       " (127, 31),\n",
       " (128, 31),\n",
       " (129, 31),\n",
       " (130, 32)]"
      ]
     },
     "execution_count": 18,
     "metadata": {},
     "output_type": "execute_result"
    }
   ],
   "source": [
    "n = [(n, findTrailingZeros(n)) for n in range(1,131)]\n",
    "n"
   ]
  },
  {
   "cell_type": "code",
   "execution_count": null,
   "metadata": {
    "collapsed": true
   },
   "outputs": [],
   "source": []
  },
  {
   "cell_type": "code",
   "execution_count": null,
   "metadata": {
    "collapsed": true
   },
   "outputs": [],
   "source": [
    "** Ex.3 GCD **"
   ]
  },
  {
   "cell_type": "code",
   "execution_count": 20,
   "metadata": {
    "collapsed": true
   },
   "outputs": [],
   "source": [
    "def gcd(a, b):\n",
    "    if b > a:\n",
    "        return gcd(b, a)\n",
    "\n",
    "    if a % b == 0:\n",
    "        return b\n",
    "\n",
    "    return gcd(b, a % b)  "
   ]
  },
  {
   "cell_type": "code",
   "execution_count": 21,
   "metadata": {},
   "outputs": [
    {
     "data": {
      "text/plain": [
       "1"
      ]
     },
     "execution_count": 21,
     "metadata": {},
     "output_type": "execute_result"
    }
   ],
   "source": [
    "gcd(34, 19)"
   ]
  },
  {
   "cell_type": "code",
   "execution_count": 22,
   "metadata": {},
   "outputs": [
    {
     "data": {
      "text/plain": [
       "13"
      ]
     },
     "execution_count": 22,
     "metadata": {},
     "output_type": "execute_result"
    }
   ],
   "source": [
    "gcd(39, 91)"
   ]
  },
  {
   "cell_type": "code",
   "execution_count": 23,
   "metadata": {},
   "outputs": [
    {
     "data": {
      "text/plain": [
       "10"
      ]
     },
     "execution_count": 23,
     "metadata": {},
     "output_type": "execute_result"
    }
   ],
   "source": [
    "gcd(30, 20)"
   ]
  },
  {
   "cell_type": "code",
   "execution_count": 24,
   "metadata": {},
   "outputs": [
    {
     "data": {
      "text/plain": [
       "40"
      ]
     },
     "execution_count": 24,
     "metadata": {},
     "output_type": "execute_result"
    }
   ],
   "source": [
    "gcd(40, 40)"
   ]
  },
  {
   "cell_type": "code",
   "execution_count": null,
   "metadata": {
    "collapsed": true
   },
   "outputs": [],
   "source": []
  }
 ],
 "metadata": {
  "kernelspec": {
   "display_name": "Python 3",
   "language": "python",
   "name": "python3"
  },
  "language_info": {
   "codemirror_mode": {
    "name": "ipython",
    "version": 3
   },
   "file_extension": ".py",
   "mimetype": "text/x-python",
   "name": "python",
   "nbconvert_exporter": "python",
   "pygments_lexer": "ipython3",
   "version": "3.6.1"
  }
 },
 "nbformat": 4,
 "nbformat_minor": 2
}
