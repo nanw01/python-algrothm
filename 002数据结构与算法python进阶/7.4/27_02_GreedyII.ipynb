{
 "cells": [
  {
   "cell_type": "markdown",
   "metadata": {
    "run_control": {
     "frozen": false,
     "read_only": false
    }
   },
   "source": [
    "# Greedy II"
   ]
  },
  {
   "cell_type": "markdown",
   "metadata": {},
   "source": [
    "### Ex.1 Fractional Knapsack Problem\n",
    "\n",
    "Given weights and values of n items, we need put these items in a knapsack of capacity W to get the maximum total value in the knapsack.\n",
    "\n",
    "In the 0-1 Knapsack problem, we are not allowed to break items. We either take the whole item or don’t take it.\n",
    "\n",
    "In Fractional Knapsack, we can break items for maximizing the total value of knapsack. This problem in which we can break item also called fractional knapsack problem."
   ]
  },
  {
   "cell_type": "markdown",
   "metadata": {
    "collapsed": true
   },
   "source": [
    "** Solution **\n",
    "\n",
    "A brute-force solution would be to try all possible subset with all different fraction but that will be too much time taking.\n",
    "\n",
    "An efficient solution is to use Greedy approach. The basic idea of greedy approach is to calculate the ratio value/weight for each item and sort the item on basis of this ratio. Then take the item with highest ratio and add them until we can’t add the next item as whole and at the end add the next item as much as we can. Which will always be optimal solution of this problem."
   ]
  },
  {
   "cell_type": "code",
   "execution_count": 12,
   "metadata": {
    "collapsed": true
   },
   "outputs": [],
   "source": [
    "def fracKnapsack(capacity, weights, values):\n",
    "    numItems = len(values)\n",
    "    valuePerWeight = sorted([[v / w, w, v] for v,w in zip(values,weights)], reverse=True)\n",
    "    print(valuePerWeight)\n",
    "    totalCost = 0.\n",
    "    for tup in valuePerWeight:\n",
    "        if capacity >= tup[1]:\n",
    "            capacity -= tup[1]\n",
    "            totalCost += tup[2]\n",
    "        else:\n",
    "            totalCost += capacity * tup[0]\n",
    "            break\n",
    "    return totalCost"
   ]
  },
  {
   "cell_type": "code",
   "execution_count": 13,
   "metadata": {},
   "outputs": [
    {
     "name": "stdout",
     "output_type": "stream",
     "text": [
      "[[4.0, 30, 120], [3.0, 24, 72], [2.0, 50, 100]]\n"
     ]
    },
    {
     "data": {
      "text/plain": [
       "180.0"
      ]
     },
     "execution_count": 13,
     "metadata": {},
     "output_type": "execute_result"
    }
   ],
   "source": [
    "n = 3\n",
    "capacity = 50\n",
    "values = [72, 100, 120]\n",
    "weights = [24, 50, 30]\n",
    "fracKnapsack(capacity, weights, values)\n"
   ]
  },
  {
   "cell_type": "code",
   "execution_count": null,
   "metadata": {
    "collapsed": true
   },
   "outputs": [],
   "source": []
  },
  {
   "cell_type": "markdown",
   "metadata": {},
   "source": [
    "### Ex.2 Assign Cookies\n",
    "\n",
    "Assume you are an awesome parent and want to give your children some cookies. But, you should give each child at most one cookie. Each child i has a greed factor gi, which is the minimum size of a cookie that the child will be content with; and each cookie j has a size sj. If sj >= gi, we can assign the cookie j to the child i, and the child i will be content. Your goal is to maximize the number of your content children and output the maximum number."
   ]
  },
  {
   "cell_type": "code",
   "execution_count": null,
   "metadata": {
    "collapsed": true
   },
   "outputs": [],
   "source": []
  },
  {
   "cell_type": "markdown",
   "metadata": {},
   "source": [
    "### Ex.3 Minimum Cost to Cut Board into Squares\n",
    "\n",
    "A board of length m and width n is given, we need to break this board into m*n squares such that cost of breaking is minimum. cutting cost for each edge will be given for the board. In short we need to choose such a sequence of cutting such that cost is minimized.\n",
    "\n",
    "<img src=\"../images/ch27/board.png\" width=\"460\"/>"
   ]
  },
  {
   "cell_type": "code",
   "execution_count": 29,
   "metadata": {},
   "outputs": [
    {
     "data": {
      "text/plain": [
       "''"
      ]
     },
     "execution_count": 29,
     "metadata": {},
     "output_type": "execute_result"
    }
   ],
   "source": [
    "'''\n",
    "For above board optimal way to cut into square is:\n",
    "Total minimum cost in above case is 42. It is \n",
    "evaluated using following steps.\n",
    "\n",
    "Initial Value : Total_cost = 0\n",
    "Total_cost = Total_cost + edge_cost * total_pieces\n",
    "\n",
    "Cost 4 Horizontal cut      Cost = 0 + 4*1 = 4\n",
    "Cost 4 Vertical cut        Cost = 4 + 4*2 = 12\n",
    "Cost 3 Vertical cut        Cost = 12 + 3*2 = 18\n",
    "Cost 2 Horizontal cut      Cost = 18 + 2*3 = 24\n",
    "Cost 2 Vertical cut        Cost = 24 + 2*3 = 30\n",
    "Cost 1 Horizontal cut      Cost = 30 + 1*4 = 34\n",
    "Cost 1 Vertical cut        Cost = 34 + 1*4 = 38\n",
    "Cost 1 Vertical cut        Cost = 38 + 1*4 = 42\n",
    "'''\n",
    "''"
   ]
  },
  {
   "cell_type": "markdown",
   "metadata": {},
   "source": [
    "** Solution: **\n",
    "\n",
    "This problem can be solved using greedy approach, If total cost is denoted by S, then S = a1w1 + a2w2 … + akwk, where wi is a cost of certain edge cutting and ai is corresponding coefficient, The coefficient ai is determined by the total number of cuts we have competed using edge wi at the end of the cutting process. Notice that sum of the coefficients are always constant, hence we want to find a distribution of ai obtainable such that S is minimum. To do so we perform cuts on highest cost edge as early as possible, which will reach to optimal S. If we encounter several edges having the same cost, we can cut any one of them first.\n",
    "\n",
    "Below is the solution using above approach, first we sorted the edge cutting costs in reverse order, then we loop in them from higher cost to lower cost building our solution. Each time we choose an edge, counter part count is incremented by 1, which is to be multiplied each time with corresponding edge cutting cost."
   ]
  },
  {
   "cell_type": "code",
   "execution_count": 30,
   "metadata": {
    "collapsed": true
   },
   "outputs": [],
   "source": [
    "def minimumCostOfBreaking(X, Y, m, n):\n",
    " \n",
    "    res = 0\n",
    " \n",
    "    # sort the horizontal cost in reverse order\n",
    "    X.sort(reverse = True)\n",
    " \n",
    "    # sort the vertical cost in reverse order\n",
    "    Y.sort(reverse = True)\n",
    " \n",
    "    # initialize current width as 1\n",
    "    hzntl = 1; vert = 1\n",
    " \n",
    "    # loop untill one or both\n",
    "    # cost array are processed\n",
    "    i = 0; j = 0\n",
    "    while (i < m and j < n):\n",
    "     \n",
    "        if (X[i] > Y[j]):\n",
    "         \n",
    "            res += X[i] * vert\n",
    " \n",
    "            # increase current horizontal\n",
    "            # part count by 1\n",
    "            hzntl += 1\n",
    "            i += 1\n",
    "         \n",
    "        else:\n",
    "            res += Y[j] * hzntl\n",
    " \n",
    "            # increase current vertical\n",
    "            # part count by 1\n",
    "            vert += 1\n",
    "            j += 1\n",
    " \n",
    "    # loop for horizontal array, if remains\n",
    "    total = 0\n",
    "    while (i < m):\n",
    "        total += X[i]\n",
    "        i += 1\n",
    "    res += total * vert\n",
    " \n",
    "    #loop for vertical array, if remains\n",
    "    total = 0\n",
    "    while (j < n):\n",
    "        total += Y[j]\n",
    "        j += 1\n",
    "    res += total * hzntl\n",
    " \n",
    "    return res"
   ]
  },
  {
   "cell_type": "code",
   "execution_count": 33,
   "metadata": {},
   "outputs": [
    {
     "name": "stdout",
     "output_type": "stream",
     "text": [
      "42\n"
     ]
    }
   ],
   "source": [
    "m, n = 5, 3\n",
    "X = [2, 1, 3, 1, 4]\n",
    "Y = [4, 1, 2]\n",
    " \n",
    "print(minimumCostOfBreaking(X, Y, m, n))"
   ]
  },
  {
   "cell_type": "code",
   "execution_count": null,
   "metadata": {
    "collapsed": true
   },
   "outputs": [],
   "source": []
  },
  {
   "cell_type": "markdown",
   "metadata": {},
   "source": [
    "### Ex.4 Lexicographically Smallest Array After at-most K Consecutive Swaps\n",
    "\n",
    "Given an array arr[], find the lexicographically smallest array that can be obtained after performing at maximum of k consecutive swaps.\n",
    "\n",
    "Examples :\n",
    "\n",
    "** Input:  **\n",
    "\n",
    "arr = [7, 6, 9, 2, 1], k = 3\n",
    "\n",
    "Output: arr = [2, 7, 6, 9, 1]\n",
    "\n",
    "Explanation: \n",
    "\n",
    "Array is: 7, 6, 9, 2, 1\n",
    "\n",
    "Swap 1:   7, 6, 2, 9, 1\n",
    "\n",
    "Swap 2:   7, 2, 6, 9, 1\n",
    "\n",
    "Swap 3:   2, 7, 6, 9, 1\n",
    "\n",
    "So Our final array after k = 3 swaps : \n",
    "\n",
    "2, 7, 6, 9, 1\n",
    "\n",
    "** Input:  **\n",
    "\n",
    "arr = [7, 6, 9, 2, 1], k = 1\n",
    "\n",
    "Output: arr = [6, 7, 9, 2, 1]"
   ]
  },
  {
   "cell_type": "markdown",
   "metadata": {},
   "source": [
    "** Solution: **\n",
    "\n",
    "** Naive approach ** is to generate all the permutation of array and pick the smallest one which satisfy the condition of at-most k swaps. Time complexity of this approach is Ω(n!), which will definitely time out for large value of n.\n",
    "\n",
    "An** Efficient** approach is to think greedily. We first pick the smallest element from array a1, a2, a3…(ak or an) [We consider ak when k is smaller, else n]. We place the smallest element to the a0 position after shifting all these elements by 1 position right. We subtract number of swaps (number of swaps is number of shifts minus 1) from k. If still we are left with k > 0 then we apply the same procedure from the very next starting position i.e., a2, a3,…(ak or an) and then place it to the a1 position. So we keep applying the same process until k becomes 0."
   ]
  },
  {
   "cell_type": "code",
   "execution_count": 17,
   "metadata": {
    "collapsed": true
   },
   "outputs": [],
   "source": [
    "def minimizeWithKSwaps(arr, n, k):\n",
    " \n",
    "    for i in range(n-1):\n",
    "        pos = i\n",
    "        for j in range(i+1, n):\n",
    " \n",
    "            # If we exceed the Max swaps then terminate the loop\n",
    "            if ( j - i > k):\n",
    "                break\n",
    " \n",
    "            # Find the minimum value from i+1 to max (k or n)\n",
    "            if (arr[j] < arr[pos]):\n",
    "                pos = j\n",
    " \n",
    "        # Swap the elements from Minimum position we found till now to the i index\n",
    "        for j in range(pos, i, -1):\n",
    "            arr[j],arr[j-1] = arr[j-1], arr[j]\n",
    " \n",
    "        # Set the final value after swapping pos-i elements\n",
    "        k -= pos - i"
   ]
  },
  {
   "cell_type": "code",
   "execution_count": 18,
   "metadata": {},
   "outputs": [
    {
     "name": "stdout",
     "output_type": "stream",
     "text": [
      "2 7 6 9 1 "
     ]
    }
   ],
   "source": [
    "n, k = 5, 3\n",
    "arr = [7, 6, 9, 2, 1]\n",
    "minimizeWithKSwaps(arr, n, k)\n",
    " \n",
    "# Print the final Array\n",
    "for i in range(n):\n",
    "    print(arr[i], end = \" \")"
   ]
  },
  {
   "cell_type": "code",
   "execution_count": 19,
   "metadata": {},
   "outputs": [
    {
     "name": "stdout",
     "output_type": "stream",
     "text": [
      "6 7 9 2 1 "
     ]
    }
   ],
   "source": [
    "n, k = 5, 1\n",
    "arr = [7, 6, 9, 2, 1]\n",
    "minimizeWithKSwaps(arr, n, k)\n",
    " \n",
    "# Print the final Array\n",
    "for i in range(n):\n",
    "    print(arr[i], end = \" \")"
   ]
  },
  {
   "cell_type": "code",
   "execution_count": null,
   "metadata": {
    "collapsed": true
   },
   "outputs": [],
   "source": []
  },
  {
   "cell_type": "markdown",
   "metadata": {},
   "source": [
    "### Ex.5 Minimize Maximum Difference between Heights\n",
    "\n",
    "Given heights of n towers and a value k. We need to either increase or decrease height of every tower by k (only once) where k > 0. The task is to minimize the difference between the heights of the longest and the shortest tower after modifications, and output this difference."
   ]
  },
  {
   "cell_type": "code",
   "execution_count": 23,
   "metadata": {},
   "outputs": [
    {
     "data": {
      "text/plain": [
       "''"
      ]
     },
     "execution_count": 23,
     "metadata": {},
     "output_type": "execute_result"
    }
   ],
   "source": [
    "'''\n",
    "Input  : arr[] = {1, 15, 10}, k = 6\n",
    "Output :  Maximum difference is 5.\n",
    "Explanation : We change 1 to 6, 15 to 9 and 10 to 4. Maximum difference is 5 (between 4 and 9). We can't get a lower\n",
    "difference.\n",
    "\n",
    "Input : arr[] = {1, 5, 15, 10} \n",
    "        k = 3   \n",
    "Output : Maximum difference is 8\n",
    "arr[] = {4, 8, 12, 7}\n",
    "\n",
    "Input : arr[] = {4, 6} \n",
    "        k = 10\n",
    "Output : Maximum difference is 2\n",
    "arr[] = {14, 16} OR {-6, -4}\n",
    "\n",
    "Input : arr[] = {6, 10} \n",
    "        k = 3\n",
    "Output : Maximum difference is 2\n",
    "arr[] = {9, 7} \n",
    "\n",
    "Input : arr[] = {1, 10, 14, 14, 14, 15}\n",
    "        k = 6 \n",
    "Output: Maximum difference is 5\n",
    "arr[] = {7, 4, 8, 8, 8, 9} \n",
    "\n",
    "Input : arr[] = {1, 2, 3}\n",
    "        k = 2 \n",
    "Output: Maximum difference is 2\n",
    "arr[] = {3, 4, 5} \n",
    "'''\n",
    "''"
   ]
  },
  {
   "cell_type": "code",
   "execution_count": 25,
   "metadata": {
    "collapsed": true
   },
   "outputs": [],
   "source": [
    "def getMinDiff(arr, n, k):\n",
    " \n",
    "    if (n == 1):\n",
    "        return 0\n",
    " \n",
    "    # Sort all elements\n",
    "    arr.sort() \n",
    " \n",
    "    # Initialize result\n",
    "    ans = arr[n-1] - arr[0] \n",
    " \n",
    "    # Handle corner elements\n",
    "    small = arr[0] + k \n",
    "    big = arr[n-1] - k \n",
    "     \n",
    "    if (small > big):\n",
    "        small, big = big, small \n",
    " \n",
    "    # Traverse middle elements\n",
    "    for i in range(1, n-1):\n",
    "     \n",
    "        subtract = arr[i] - k \n",
    "        add = arr[i] + k \n",
    " \n",
    "        # If both subtraction and addition\n",
    "        # do not change diff\n",
    "        if (subtract >= small or add <= big):\n",
    "            continue\n",
    " \n",
    "        # Either subtraction causes a smaller\n",
    "        # number or addition causes a greater\n",
    "        # number. Update small or big using\n",
    "        # greedy approach (If big - subtract\n",
    "        # causes smaller diff, update small\n",
    "        # Else update big)\n",
    "        if (big - subtract <= add - small):\n",
    "            small = subtract \n",
    "        else:\n",
    "            big = add \n",
    "     \n",
    " \n",
    "    return min(ans, big - small) "
   ]
  },
  {
   "cell_type": "code",
   "execution_count": 26,
   "metadata": {},
   "outputs": [
    {
     "name": "stdout",
     "output_type": "stream",
     "text": [
      "Maximum difference is 2\n"
     ]
    }
   ],
   "source": [
    "arr = [ 4, 6 ] \n",
    "n = len(arr) \n",
    "k = 10\n",
    " \n",
    "print(\"Maximum difference is\", getMinDiff(arr, n, k)) "
   ]
  },
  {
   "cell_type": "code",
   "execution_count": null,
   "metadata": {
    "collapsed": true
   },
   "outputs": [],
   "source": []
  }
 ],
 "metadata": {
  "kernelspec": {
   "display_name": "Python 3",
   "language": "python",
   "name": "python3"
  },
  "language_info": {
   "codemirror_mode": {
    "name": "ipython",
    "version": 3
   },
   "file_extension": ".py",
   "mimetype": "text/x-python",
   "name": "python",
   "nbconvert_exporter": "python",
   "pygments_lexer": "ipython3",
   "version": "3.6.1"
  }
 },
 "nbformat": 4,
 "nbformat_minor": 2
}
