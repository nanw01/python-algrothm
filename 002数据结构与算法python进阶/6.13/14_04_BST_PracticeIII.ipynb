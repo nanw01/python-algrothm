{
 "cells": [
  {
   "cell_type": "markdown",
   "metadata": {},
   "source": [
    "# Binary Search Tree III #"
   ]
  },
  {
   "cell_type": "code",
   "execution_count": 1,
   "metadata": {
    "collapsed": true
   },
   "outputs": [],
   "source": [
    "from BinarySearchTree import BinarySearchTree \n",
    "from BinarySearchTree import Node"
   ]
  },
  {
   "cell_type": "code",
   "execution_count": 2,
   "metadata": {},
   "outputs": [
    {
     "name": "stdout",
     "output_type": "stream",
     "text": [
      "[ 1 ] [ 2 ] [ 3 ] [ 4 ] [ 5 ] [ 6 ] [ 7 ] [ 8 ] [ 9 ] [ 10 ] [ 11 ] [ 12 ] [ 13 ] \n",
      "[ 1 ] [ 3 ] [ 2 ] [ 5 ] [ 4 ] [ 7 ] [ 10 ] [ 12 ] [ 11 ] [ 13 ] [ 9 ] [ 8 ] [ 6 ] \n",
      "[ 6 ] [ 4 ] [ 2 ] [ 1 ] [ 3 ] [ 5 ] [ 8 ] [ 7 ] [ 9 ] [ 13 ] [ 11 ] [ 10 ] [ 12 ] \n"
     ]
    }
   ],
   "source": [
    "bst = BinarySearchTree()\n",
    "numbers = [6, 4, 8, 7, 9, 2, 1, 3, 5, 13, 11, 10, 12]\n",
    "for i in numbers:\n",
    "    bst.add(i)\n",
    "bst.print_inorder()\n",
    "bst.print_postorder()\n",
    "bst.print_preorder()"
   ]
  },
  {
   "cell_type": "markdown",
   "metadata": {},
   "source": [
    "### <a id='Ex1'>Ex.1 Level Order Traversal </a>\n",
    "\n",
    "Given a binary tree, return the level order traversal of its nodes' values. (ie, from left to right, level by level).\n",
    "\n",
    "<img src=\"../images/ch14/t1.png\" width=\"75\"/>\n",
    "<img src=\"../images/ch14/t2.png\" width=\"75\"/>"
   ]
  },
  {
   "cell_type": "code",
   "execution_count": 6,
   "metadata": {
    "collapsed": true
   },
   "outputs": [],
   "source": [
    "from collections import deque\n",
    "class AdvBST1(BinarySearchTree):\n",
    "    def levelOrder(self):\n",
    "        if not self._root:\n",
    "            return []\n",
    "\n",
    "        ret = []\n",
    "        level = [self._root]\n",
    "\n",
    "        while level:\n",
    "            currentNodes = []\n",
    "            nextLevel = []\n",
    "            for node in level:\n",
    "                currentNodes.append(node._item)\n",
    "                if node._left:\n",
    "                    nextLevel.append(node._left)\n",
    "                if node._right:\n",
    "                    nextLevel.append(node._right)\n",
    "            ret.append(currentNodes)\n",
    "            level = nextLevel\n",
    "\n",
    "        return ret"
   ]
  },
  {
   "cell_type": "code",
   "execution_count": 7,
   "metadata": {},
   "outputs": [
    {
     "data": {
      "text/plain": [
       "[[6], [4, 8], [2, 5, 7, 9], [1, 3, 13], [11], [10, 12]]"
      ]
     },
     "execution_count": 7,
     "metadata": {},
     "output_type": "execute_result"
    }
   ],
   "source": [
    "bst = AdvBST1()\n",
    "numbers = [6, 4, 8, 7, 9, 2, 1, 3, 5, 13, 11, 10, 12]\n",
    "for i in numbers:\n",
    "    bst.add(i)\n",
    "bst.levelOrder()\n"
   ]
  },
  {
   "cell_type": "code",
   "execution_count": null,
   "metadata": {
    "collapsed": true
   },
   "outputs": [],
   "source": []
  },
  {
   "cell_type": "markdown",
   "metadata": {},
   "source": [
    "### <a id='Ex1'>Ex.2 Level Order Traversal II</a>\n",
    "\n",
    "Given a binary tree, return the bottom-up level order traversal of its nodes' values. (ie, from left to right, level by level from leaf to root).\n",
    "\n",
    "<img src=\"../images/ch14/t1.png\" width=\"75\"/>\n",
    "<img src=\"../images/ch14/t3.png\" width=\"75\"/>"
   ]
  },
  {
   "cell_type": "code",
   "execution_count": 8,
   "metadata": {
    "collapsed": true
   },
   "outputs": [],
   "source": [
    "class AdvBST2(BinarySearchTree):\n",
    "    \n",
    "    def levelOrder(self):\n",
    "        if not self._root:\n",
    "            return []\n",
    "        ans, level = [], [self._root]\n",
    "        while level:\n",
    "            ans.insert(0, [node._item for node in level])\n",
    "            temp = []\n",
    "            for node in level:\n",
    "                temp.extend([node._left, node._right])\n",
    "            level = [leaf for leaf in temp if leaf]\n",
    "        \n",
    "        return ans\n",
    "    \n",
    "    \n",
    "    def levelOrder2(self):\n",
    "        if not self._root:\n",
    "            return []\n",
    "        ans, level = [], [self._root]\n",
    "        while level:\n",
    "            ans.append([node._item for node in level])\n",
    "            temp = []\n",
    "            for node in level:\n",
    "                temp.extend([node._left, node._right])\n",
    "            level = [leaf for leaf in temp if leaf]\n",
    "        ans.reverse()\n",
    "        return ans    \n",
    "    "
   ]
  },
  {
   "cell_type": "code",
   "execution_count": 9,
   "metadata": {},
   "outputs": [
    {
     "data": {
      "text/plain": [
       "[[10, 12], [11], [1, 3, 13], [2, 5, 7, 9], [4, 8], [6]]"
      ]
     },
     "execution_count": 9,
     "metadata": {},
     "output_type": "execute_result"
    }
   ],
   "source": [
    "bst = AdvBST2()\n",
    "numbers = [6, 4, 8, 7, 9, 2, 1, 3, 5, 13, 11, 10, 12]\n",
    "for i in numbers:\n",
    "    bst.add(i)\n",
    "bst.levelOrder()"
   ]
  },
  {
   "cell_type": "code",
   "execution_count": 10,
   "metadata": {},
   "outputs": [
    {
     "data": {
      "text/plain": [
       "[[10, 12], [11], [1, 3, 13], [2, 5, 7, 9], [4, 8], [6]]"
      ]
     },
     "execution_count": 10,
     "metadata": {},
     "output_type": "execute_result"
    }
   ],
   "source": [
    "bst.levelOrder2()"
   ]
  },
  {
   "cell_type": "code",
   "execution_count": null,
   "metadata": {
    "collapsed": true
   },
   "outputs": [],
   "source": []
  },
  {
   "cell_type": "markdown",
   "metadata": {},
   "source": [
    "### <a id='Ex1'>Ex.3 Binary Tree Zigzag Level Order Traversal</a>\n",
    "\n",
    "Given a binary tree, return the zigzag level order traversal of its nodes' values. (ie, from left to right, then right to left for the next level and alternate between).\n",
    "\n",
    "<img src=\"../images/ch14/t1.png\" width=\"75\"/>\n",
    "<img src=\"../images/ch14/t4.png\" width=\"75\"/>"
   ]
  },
  {
   "cell_type": "code",
   "execution_count": 86,
   "metadata": {
    "collapsed": true
   },
   "outputs": [],
   "source": [
    "class AdvBST3(AdvBST2):\n",
    "    \n",
    "    def zigzagLevelOrder(self,):\n",
    "        if not self._root: \n",
    "            return []\n",
    "        res, temp, stack, flag = [], [], [self._root], 1\n",
    "        while stack:\n",
    "            for i in range(len(stack)):\n",
    "                node = stack.pop(0)\n",
    "                temp += [node._item]\n",
    "                if node._left:  stack += [node._left]\n",
    "                if node._right: stack += [node._right]\n",
    "            res += [temp[::flag]]\n",
    "            temp = []\n",
    "            flag *= -1\n",
    "        return res"
   ]
  },
  {
   "cell_type": "code",
   "execution_count": 87,
   "metadata": {},
   "outputs": [
    {
     "data": {
      "text/plain": [
       "[[6], [8, 4], [2, 5, 7, 9], [13, 3, 1], [11], [12, 10]]"
      ]
     },
     "execution_count": 87,
     "metadata": {},
     "output_type": "execute_result"
    }
   ],
   "source": [
    "bst = AdvBST3()\n",
    "numbers = [6, 4, 8, 7, 9, 2, 1, 3, 5, 13, 11, 10, 12]\n",
    "for i in numbers:\n",
    "    bst.add(i)\n",
    "bst.zigzagLevelOrder()"
   ]
  },
  {
   "cell_type": "code",
   "execution_count": null,
   "metadata": {
    "collapsed": true
   },
   "outputs": [],
   "source": []
  },
  {
   "cell_type": "markdown",
   "metadata": {},
   "source": [
    "### <a id='Ex4'>Ex.4 Construct Binary Tree from Preorder and Inorder Traversal</a>\n",
    "\n",
    "Given preorder and inorder traversal of a tree, construct the binary tree.\n",
    "\n",
    "Note:\n",
    "\n",
    "You may assume that duplicates do not exist in the tree.\n",
    "\n",
    "For example, given\n",
    "\n",
    "preorder = [3,9,20,15,7]\n",
    "\n",
    "inorder = [9,3,15,20,7]\n",
    "\n",
    "Return the following binary tree:\n",
    "\n",
    "<img src=\"../images/ch14/t1.png\" width=\"75\"/>"
   ]
  },
  {
   "cell_type": "code",
   "execution_count": 88,
   "metadata": {
    "collapsed": true
   },
   "outputs": [],
   "source": [
    "def buildTree(preorder, inorder):\n",
    "    if inorder:\n",
    "        ind = inorder.index(preorder.pop(0))\n",
    "        root = Node(inorder[ind])\n",
    "        root._left = buildTree(preorder, inorder[0:ind])\n",
    "        root._right = buildTree(preorder, inorder[ind+1:])\n",
    "        return root"
   ]
  },
  {
   "cell_type": "code",
   "execution_count": 93,
   "metadata": {},
   "outputs": [
    {
     "name": "stdout",
     "output_type": "stream",
     "text": [
      "[ 3 ] [ 9 ] [ 20 ] [ 15 ] [ 7 ] \n",
      "[ 9 ] [ 3 ] [ 15 ] [ 20 ] [ 7 ] \n"
     ]
    }
   ],
   "source": [
    "preorder = [3,9,20,15,7]\n",
    "inorder = [9,3,15,20,7]\n",
    "root = buildTree(preorder, inorder)\n",
    "\n",
    "bst = BinarySearchTree(root)\n",
    "bst.print_preorder()\n",
    "bst.print_inorder()"
   ]
  },
  {
   "cell_type": "code",
   "execution_count": 98,
   "metadata": {
    "collapsed": true
   },
   "outputs": [],
   "source": [
    "def buildTree2(preorder, inorder, preorderStart = 0, preorderEnd = None, inorderStart = 0, inorderEnd = None):\n",
    "    if preorderEnd is None:\n",
    "        preorderEnd = len(preorder) - 1\n",
    "        \n",
    "    if inorderEnd is None:\n",
    "        inorderEnd = len(inorder) - 1\n",
    "\n",
    "    if preorderStart > len(preorder) - 1 or inorderStart > inorderEnd:\n",
    "        return None\n",
    "\n",
    "    rootValue = preorder[preorderStart]\n",
    "    root = Node(rootValue)\n",
    "    inorderIndex = inorder.index(rootValue)\n",
    "\n",
    "    root._left = buildTree2(preorder, inorder, preorderStart+1, inorderIndex, inorderStart, inorderIndex-1)\n",
    "    root._right = buildTree2(preorder, inorder, preorderStart+inorderIndex+1-inorderStart, preorderEnd, inorderIndex+1, inorderEnd)\n",
    "\n",
    "    return root"
   ]
  },
  {
   "cell_type": "code",
   "execution_count": 99,
   "metadata": {},
   "outputs": [
    {
     "name": "stdout",
     "output_type": "stream",
     "text": [
      "[ 3 ] [ 9 ] [ 20 ] [ 15 ] [ 7 ] \n",
      "[ 9 ] [ 3 ] [ 15 ] [ 20 ] [ 7 ] \n"
     ]
    }
   ],
   "source": [
    "preorder = [3,9,20,15,7]\n",
    "inorder = [9,3,15,20,7]\n",
    "root = buildTree2(preorder, inorder)\n",
    "\n",
    "bst = BinarySearchTree(root)\n",
    "bst.print_preorder()\n",
    "bst.print_inorder()"
   ]
  },
  {
   "cell_type": "code",
   "execution_count": null,
   "metadata": {
    "collapsed": true
   },
   "outputs": [],
   "source": []
  },
  {
   "cell_type": "markdown",
   "metadata": {},
   "source": [
    "### <a id='Ex5'>Ex.5 Construct Binary Tree from Inorder and Postorder Traversal</a>\n",
    "\n",
    "Given inorder and postorder traversal of a tree, construct the binary tree.\n",
    "\n",
    "Note:\n",
    "\n",
    "You may assume that duplicates do not exist in the tree.\n",
    "\n",
    "For example, given\n",
    "\n",
    "inorder = [9,3,15,20,7]\n",
    "\n",
    "postorder = [9,15,7,20,3]\n",
    "\n",
    "Return the following binary tree:\n",
    "\n",
    "<img src=\"../images/ch14/t1.png\" width=\"75\"/>"
   ]
  },
  {
   "cell_type": "code",
   "execution_count": 107,
   "metadata": {
    "collapsed": true
   },
   "outputs": [],
   "source": [
    "def buildTree(inorder, postorder):\n",
    "    if not inorder or not postorder:\n",
    "        return None\n",
    "\n",
    "    root = Node(postorder.pop())\n",
    "    inorderIndex = inorder.index(root._item)\n",
    "\n",
    "    root._right = buildTree(inorder[inorderIndex+1:], postorder)\n",
    "    root._left = buildTree(inorder[:inorderIndex], postorder)\n",
    "\n",
    "    return root"
   ]
  },
  {
   "cell_type": "code",
   "execution_count": 109,
   "metadata": {},
   "outputs": [
    {
     "name": "stdout",
     "output_type": "stream",
     "text": [
      "[ 9 ] [ 3 ] [ 15 ] [ 20 ] [ 7 ] \n",
      "[ 9 ] [ 15 ] [ 7 ] [ 20 ] [ 3 ] \n"
     ]
    }
   ],
   "source": [
    "inorder = [9,3,15,20,7]\n",
    "postorder = [9,15,7,20,3]\n",
    "root = buildTree(inorder, postorder)\n",
    "\n",
    "bst = BinarySearchTree(root)\n",
    "bst.print_inorder()\n",
    "bst.print_postorder()"
   ]
  },
  {
   "cell_type": "code",
   "execution_count": null,
   "metadata": {
    "collapsed": true
   },
   "outputs": [],
   "source": []
  },
  {
   "cell_type": "markdown",
   "metadata": {},
   "source": [
    "### <a id='Ex6'>Ex.6 Convert Sorted Array to Binary Search Tree</a>\n",
    "\n",
    "Given an array where elements are sorted in ascending order, convert it to a height balanced BST.\n",
    "\n",
    "For this problem, a height-balanced binary tree is defined as a binary tree in which the depth of the two subtrees of every node never differ by more than 1.\n",
    "\n",
    "Given the sorted array: [-10,-3,0,5,9],\n",
    "\n",
    "One possible answer is: \n",
    "\n",
    "<img src=\"../images/ch14/t5.png\" width=\"100\"/>"
   ]
  },
  {
   "cell_type": "code",
   "execution_count": 12,
   "metadata": {
    "collapsed": true
   },
   "outputs": [],
   "source": [
    "def sortedArrayToBST(num):\n",
    "    if not num:\n",
    "        return None\n",
    "\n",
    "    mid = len(num) // 2\n",
    "\n",
    "    root = Node(num[mid])\n",
    "    root._left = sortedArrayToBST(num[:mid])\n",
    "    root._right = sortedArrayToBST(num[mid+1:])\n",
    "\n",
    "    return root"
   ]
  },
  {
   "cell_type": "code",
   "execution_count": 14,
   "metadata": {},
   "outputs": [
    {
     "name": "stdout",
     "output_type": "stream",
     "text": [
      "[ -10 ] [ -3 ] [ 0 ] [ 5 ] [ 9 ] \n",
      "[ 0 ] [ -3 ] [ -10 ] [ 9 ] [ 5 ] \n"
     ]
    }
   ],
   "source": [
    "num = [-10,-3,0,5,9]\n",
    "root = sortedArrayToBST(num)\n",
    "bst = BinarySearchTree(root)\n",
    "bst.print_inorder()\n",
    "bst.print_preorder()"
   ]
  },
  {
   "cell_type": "code",
   "execution_count": null,
   "metadata": {
    "collapsed": true
   },
   "outputs": [],
   "source": []
  },
  {
   "cell_type": "markdown",
   "metadata": {},
   "source": [
    "### <a id='Ex7'>Ex.7 Convert Sorted List to Binary Search Tree</a>"
   ]
  },
  {
   "cell_type": "code",
   "execution_count": 1,
   "metadata": {
    "collapsed": true
   },
   "outputs": [],
   "source": [
    "from LinkedList import LinkedList as LL\n",
    "from LinkedList import Node as LN"
   ]
  },
  {
   "cell_type": "code",
   "execution_count": 2,
   "metadata": {},
   "outputs": [
    {
     "name": "stdout",
     "output_type": "stream",
     "text": [
      "1 2 3 4 \n"
     ]
    }
   ],
   "source": [
    "lst = LL()\n",
    "lst.add_last(1)\n",
    "lst.add_last(2)\n",
    "lst.add_last(3)\n",
    "lst.add_last(4)\n",
    "lst.printlist()"
   ]
  },
  {
   "cell_type": "code",
   "execution_count": 8,
   "metadata": {
    "collapsed": true
   },
   "outputs": [],
   "source": [
    "def sortedListToBST(head):\n",
    "    if head is None:\n",
    "        return None\n",
    "    \n",
    "    dummy = LN(0)\n",
    "    dummy.next = head\n",
    "    head = dummy\n",
    "    \n",
    "    fast = head\n",
    "    slow = head\n",
    "    left_tail = head\n",
    "    \n",
    "    while fast is not None and fast.next is not None:\n",
    "        fast = fast.next.next\n",
    "        left_tail = slow\n",
    "        slow = slow.next\n",
    "    \n",
    "    left_tail.next = None\n",
    "    node = Node(slow.value)\n",
    "    node._left = sortedListToBST(head.next)\n",
    "    node._right = sortedListToBST(slow.next)\n",
    "    return node"
   ]
  },
  {
   "cell_type": "code",
   "execution_count": 18,
   "metadata": {},
   "outputs": [
    {
     "name": "stdout",
     "output_type": "stream",
     "text": [
      "[ 1 ] [ 2 ] [ 3 ] [ 4 ] [ 5 ] [ 6 ] [ 7 ] \n",
      "[ 4 ] [ 2 ] [ 1 ] [ 3 ] [ 6 ] [ 5 ] [ 7 ] \n"
     ]
    }
   ],
   "source": [
    "node1 = LN(1)\n",
    "node2 = LN(2)\n",
    "node3 = LN(3)\n",
    "node4 = LN(4)\n",
    "node5 = LN(5)\n",
    "node6 = LN(6)\n",
    "node7 = LN(7)\n",
    "node8 = LN(8)\n",
    "node1.next = node2\n",
    "node2.next = node3\n",
    "node3.next = node4\n",
    "node4.next = node5\n",
    "node5.next = node6\n",
    "node6.next = node7\n",
    "#node7.next = node8\n",
    "\n",
    "root = sortedListToBST(node1)\n",
    "bst = BinarySearchTree(root)\n",
    "bst.print_inorder()\n",
    "bst.print_preorder()"
   ]
  },
  {
   "cell_type": "code",
   "execution_count": null,
   "metadata": {
    "collapsed": true
   },
   "outputs": [],
   "source": []
  },
  {
   "cell_type": "code",
   "execution_count": null,
   "metadata": {
    "collapsed": true
   },
   "outputs": [],
   "source": []
  }
 ],
 "metadata": {
  "kernelspec": {
   "display_name": "Python 3",
   "language": "python",
   "name": "python3"
  },
  "language_info": {
   "codemirror_mode": {
    "name": "ipython",
    "version": 3
   },
   "file_extension": ".py",
   "mimetype": "text/x-python",
   "name": "python",
   "nbconvert_exporter": "python",
   "pygments_lexer": "ipython3",
   "version": "3.6.1"
  }
 },
 "nbformat": 4,
 "nbformat_minor": 2
}
