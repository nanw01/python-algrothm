{
 "cells": [
  {
   "cell_type": "markdown",
   "metadata": {},
   "source": [
    "# Binary Search Tree #"
   ]
  },
  {
   "cell_type": "code",
   "execution_count": 1,
   "metadata": {
    "collapsed": true
   },
   "outputs": [],
   "source": [
    "from BinarySearchTree import BinarySearchTree\n",
    "from BinarySearchTree import Node"
   ]
  },
  {
   "cell_type": "code",
   "execution_count": 2,
   "metadata": {},
   "outputs": [
    {
     "name": "stdout",
     "output_type": "stream",
     "text": [
      "[ 1 ] [ 2 ] [ 3 ] [ 4 ] [ 5 ] [ 6 ] [ 7 ] [ 8 ] [ 9 ] [ 10 ] [ 11 ] [ 12 ] [ 13 ] \n",
      "[ 1 ] [ 3 ] [ 2 ] [ 5 ] [ 4 ] [ 7 ] [ 10 ] [ 12 ] [ 11 ] [ 13 ] [ 9 ] [ 8 ] [ 6 ] \n",
      "[ 6 ] [ 4 ] [ 2 ] [ 1 ] [ 3 ] [ 5 ] [ 8 ] [ 7 ] [ 9 ] [ 13 ] [ 11 ] [ 10 ] [ 12 ] \n"
     ]
    }
   ],
   "source": [
    "bst = BinarySearchTree()\n",
    "numbers = [6, 4, 8, 7, 9, 2, 1, 3, 5, 13, 11, 10, 12]\n",
    "for i in numbers:\n",
    "    bst.add(i)\n",
    "bst.print_inorder()\n",
    "bst.print_postorder()\n",
    "bst.print_preorder()"
   ]
  },
  {
   "cell_type": "markdown",
   "metadata": {},
   "source": [
    "### <a id='Ex1'>Ex.1 Tree Size </a>\n",
    "\n",
    "Calculate the size of the tree."
   ]
  },
  {
   "cell_type": "code",
   "execution_count": 3,
   "metadata": {
    "collapsed": true
   },
   "outputs": [],
   "source": [
    "class AdvBST1(BinarySearchTree):\n",
    "    \n",
    "    def size(self):\n",
    "        return self._size(self._root)\n",
    "    \n",
    "    def _size(self, node):\n",
    "        if (not node):\n",
    "            return 0\n",
    "        return self._size(node._left) + self._size(node._right) + 1"
   ]
  },
  {
   "cell_type": "code",
   "execution_count": 4,
   "metadata": {},
   "outputs": [
    {
     "name": "stdout",
     "output_type": "stream",
     "text": [
      "[ 1 ] [ 2 ] [ 3 ] [ 4 ] [ 5 ] [ 6 ] [ 7 ] [ 8 ] [ 9 ] [ 10 ] [ 11 ] [ 12 ] [ 13 ] \n"
     ]
    },
    {
     "data": {
      "text/plain": [
       "13"
      ]
     },
     "execution_count": 4,
     "metadata": {},
     "output_type": "execute_result"
    }
   ],
   "source": [
    "bst = AdvBST1()\n",
    "numbers = [6, 4, 8, 7, 9, 2, 1, 3, 5, 13, 11, 10, 12]\n",
    "for i in numbers:\n",
    "    bst.add(i)\n",
    "bst.print_inorder()\n",
    "bst.size()"
   ]
  },
  {
   "cell_type": "markdown",
   "metadata": {},
   "source": [
    "### <a id='Ex1'>Ex.2 Max Depth </a>\n",
    "\n",
    "Calculate the max depth of a tree"
   ]
  },
  {
   "cell_type": "code",
   "execution_count": 5,
   "metadata": {
    "collapsed": true
   },
   "outputs": [],
   "source": [
    "class AdvBST2(AdvBST1):    \n",
    "    def maxDepth(self):\n",
    "        return self._maxDepth(self._root)\n",
    "    \n",
    "    def _maxDepth(self, node):\n",
    "        if (not node):\n",
    "            return 0\n",
    "        left_depth = self._maxDepth(node._left)\n",
    "        right_depth = self._maxDepth(node._right)\n",
    "        return max(left_depth, right_depth) + 1"
   ]
  },
  {
   "cell_type": "code",
   "execution_count": 6,
   "metadata": {},
   "outputs": [
    {
     "name": "stdout",
     "output_type": "stream",
     "text": [
      "[ 1 ] [ 2 ] [ 3 ] [ 4 ] [ 5 ] [ 6 ] [ 7 ] [ 8 ] [ 9 ] [ 10 ] [ 11 ] [ 12 ] [ 13 ] \n"
     ]
    },
    {
     "data": {
      "text/plain": [
       "6"
      ]
     },
     "execution_count": 6,
     "metadata": {},
     "output_type": "execute_result"
    }
   ],
   "source": [
    "bst = AdvBST2()\n",
    "numbers = [6, 4, 8, 7, 9, 2, 1, 3, 5, 13, 11, 10, 12]\n",
    "for i in numbers:\n",
    "    bst.add(i)\n",
    "bst.print_inorder()\n",
    "bst.maxDepth()"
   ]
  },
  {
   "cell_type": "code",
   "execution_count": 7,
   "metadata": {},
   "outputs": [
    {
     "name": "stdout",
     "output_type": "stream",
     "text": [
      "[ 1 ] [ 2 ] [ 3 ] [ 4 ] [ 5 ] [ 6 ] [ 7 ] [ 8 ] \n"
     ]
    },
    {
     "data": {
      "text/plain": [
       "8"
      ]
     },
     "execution_count": 7,
     "metadata": {},
     "output_type": "execute_result"
    }
   ],
   "source": [
    "bst = AdvBST2()\n",
    "numbers = [1,2,3,4,5,6,7,8]\n",
    "for i in numbers:\n",
    "    bst.add(i)\n",
    "bst.print_inorder()\n",
    "bst.maxDepth()"
   ]
  },
  {
   "cell_type": "markdown",
   "metadata": {},
   "source": [
    "### <a id='Ex1'>Ex.3. Is Balance Tree</a>\n",
    "\n",
    "Given a tree, check whether the tree is a balance tree."
   ]
  },
  {
   "cell_type": "code",
   "execution_count": 8,
   "metadata": {
    "collapsed": true
   },
   "outputs": [],
   "source": [
    "class AdvBST3(AdvBST2):    \n",
    "    def minDepth(self):\n",
    "        return self._minDepth(self._root)\n",
    "    \n",
    "    def _minDepth(self, node):\n",
    "        if (not node):\n",
    "            return 0\n",
    "        left_depth = self._minDepth(node._left)\n",
    "        right_depth = self._minDepth(node._right)\n",
    "        return min(left_depth, right_depth) + 1\n",
    "    \n",
    "    def isBalanced(self):\n",
    "        return (self.maxDepth() - self.minDepth()) <= 1\n"
   ]
  },
  {
   "cell_type": "code",
   "execution_count": 9,
   "metadata": {},
   "outputs": [
    {
     "name": "stdout",
     "output_type": "stream",
     "text": [
      "[ 1 ] [ 2 ] [ 3 ] [ 4 ] [ 5 ] [ 6 ] [ 7 ] [ 8 ] \n"
     ]
    },
    {
     "data": {
      "text/plain": [
       "False"
      ]
     },
     "execution_count": 9,
     "metadata": {},
     "output_type": "execute_result"
    }
   ],
   "source": [
    "bst = AdvBST3()\n",
    "numbers = [1,2,3,4,5,6,7,8]\n",
    "for i in numbers:\n",
    "    bst.add(i)\n",
    "bst.print_inorder()\n",
    "bst.isBalanced()\n"
   ]
  },
  {
   "cell_type": "code",
   "execution_count": 10,
   "metadata": {},
   "outputs": [
    {
     "name": "stdout",
     "output_type": "stream",
     "text": [
      "[ 1 ] [ 3 ] [ 5 ] \n"
     ]
    },
    {
     "data": {
      "text/plain": [
       "True"
      ]
     },
     "execution_count": 10,
     "metadata": {},
     "output_type": "execute_result"
    }
   ],
   "source": [
    "bst = AdvBST3()\n",
    "numbers = [3,1,5]\n",
    "for i in numbers:\n",
    "    bst.add(i)\n",
    "bst.print_inorder()\n",
    "bst.isBalanced()"
   ]
  },
  {
   "cell_type": "code",
   "execution_count": null,
   "metadata": {
    "collapsed": true
   },
   "outputs": [],
   "source": []
  },
  {
   "cell_type": "markdown",
   "metadata": {},
   "source": [
    "### <a id='Ex4'>Ex.4 Floor and Ceiling</a>"
   ]
  },
  {
   "cell_type": "code",
   "execution_count": 23,
   "metadata": {
    "collapsed": true
   },
   "outputs": [],
   "source": [
    "class AdvBST4(AdvBST3):    \n",
    "    def floor(self, key):\n",
    "        return self._floor(self._root, key)\n",
    "    \n",
    "    def _floor(self, node, key):\n",
    "        if (not node):\n",
    "            return None\n",
    "        if (key == node._item):\n",
    "            return node\n",
    "        if (key < node._item):\n",
    "            return self._floor(node._left, key)\n",
    "        t = self._floor(node._right, key)\n",
    "        if t:\n",
    "            return t\n",
    "        return node"
   ]
  },
  {
   "cell_type": "code",
   "execution_count": 27,
   "metadata": {},
   "outputs": [
    {
     "name": "stdout",
     "output_type": "stream",
     "text": [
      "40\n",
      "40\n",
      "10\n",
      "None\n",
      "80\n"
     ]
    }
   ],
   "source": [
    "bst = AdvBST4()\n",
    "numbers = [40,20,70,50,10,60,30,80]\n",
    "for i in numbers:\n",
    "    bst.add(i)\n",
    "print(bst.floor(40)._item)\n",
    "print(bst.floor(44)._item)\n",
    "print(bst.floor(10)._item)\n",
    "print(bst.floor(5))\n",
    "print(bst.floor(100)._item)"
   ]
  },
  {
   "cell_type": "code",
   "execution_count": null,
   "metadata": {
    "collapsed": true
   },
   "outputs": [],
   "source": []
  },
  {
   "cell_type": "markdown",
   "metadata": {},
   "source": [
    "### <a id='Ex5'>Ex.5 Is Binary Search Tree</a>\n",
    "\n",
    "Check whether a given tree a binary search tree."
   ]
  },
  {
   "cell_type": "code",
   "execution_count": 70,
   "metadata": {
    "collapsed": true
   },
   "outputs": [],
   "source": [
    "import sys\n",
    "class AdvBST5(AdvBST4):    \n",
    "    def isBST(self):\n",
    "        return self._isBST(self._root, -sys.maxsize, sys.maxsize)\n",
    "    \n",
    "    def _isBST(self, node, minval, maxval):\n",
    "        if not node:\n",
    "            return True\n",
    "        if (node._item < minval or node._item > maxval):\n",
    "            return False\n",
    "        return self._isBST(node._left, minval, node._item) and self._isBST(node._right, node._item, maxval)"
   ]
  },
  {
   "cell_type": "code",
   "execution_count": 74,
   "metadata": {},
   "outputs": [
    {
     "data": {
      "text/plain": [
       "True"
      ]
     },
     "execution_count": 74,
     "metadata": {},
     "output_type": "execute_result"
    }
   ],
   "source": [
    "bst = AdvBST5()\n",
    "numbers = [1,2,3,4,5,6,7,8]\n",
    "for i in numbers:\n",
    "    bst.add(i)\n",
    "bst.isBST()"
   ]
  },
  {
   "cell_type": "code",
   "execution_count": 77,
   "metadata": {},
   "outputs": [
    {
     "name": "stdout",
     "output_type": "stream",
     "text": [
      "[ 2 ] [ 1 ] [ 3 ] [ 5 ] [ 4 ] \n"
     ]
    },
    {
     "data": {
      "text/plain": [
       "False"
      ]
     },
     "execution_count": 77,
     "metadata": {},
     "output_type": "execute_result"
    }
   ],
   "source": [
    "node1 = Node(1)\n",
    "node2 = Node(2)\n",
    "node3 = Node(3)\n",
    "node4 = Node(4)\n",
    "node5 = Node(5)\n",
    "\n",
    "node3._left = node1\n",
    "node3._right = node5\n",
    "node1._left = node2\n",
    "node5._right = node4\n",
    "bst = AdvBST5(node3)\n",
    "bst.print_inorder()\n",
    "bst.isBST()"
   ]
  },
  {
   "cell_type": "markdown",
   "metadata": {},
   "source": [
    "### <a id='Ex6'>Ex.6 Is Mirror Tree</a>"
   ]
  },
  {
   "cell_type": "code",
   "execution_count": 96,
   "metadata": {
    "collapsed": true
   },
   "outputs": [],
   "source": [
    "class AdvBST6(AdvBST5):    \n",
    "    def mirror(self):\n",
    "        self._mirror(self._root)\n",
    "    \n",
    "    def _mirror(self, node):\n",
    "        if (node is not None):\n",
    "            self._mirror(node._left)\n",
    "            self._mirror(node._right)\n",
    "            \n",
    "            temp = node._left\n",
    "            node._left = node._right\n",
    "            node._right = temp\n",
    "            "
   ]
  },
  {
   "cell_type": "code",
   "execution_count": 102,
   "metadata": {},
   "outputs": [
    {
     "name": "stdout",
     "output_type": "stream",
     "text": [
      "[ 1 ] [ 2 ] [ 3 ] [ 4 ] [ 5 ] [ 6 ] [ 7 ] [ 8 ] [ 9 ] \n"
     ]
    }
   ],
   "source": [
    "bst = AdvBST6()\n",
    "numbers = [6, 4, 8, 7, 9, 5, 1, 3, 2]\n",
    "for i in numbers:\n",
    "    bst.add(i)\n",
    "bst.print_inorder()"
   ]
  },
  {
   "cell_type": "code",
   "execution_count": 103,
   "metadata": {},
   "outputs": [
    {
     "name": "stdout",
     "output_type": "stream",
     "text": [
      "[ 9 ] [ 8 ] [ 7 ] [ 6 ] [ 5 ] [ 4 ] [ 3 ] [ 2 ] [ 1 ] \n"
     ]
    }
   ],
   "source": [
    "bst.mirror()\n",
    "bst.print_inorder()"
   ]
  },
  {
   "cell_type": "markdown",
   "metadata": {
    "collapsed": true
   },
   "source": [
    "### <a id='Ex7'>Ex.7 Same Tree</a>"
   ]
  },
  {
   "cell_type": "code",
   "execution_count": 113,
   "metadata": {
    "collapsed": true
   },
   "outputs": [],
   "source": [
    "class AdvBST7(AdvBST6):    \n",
    "    def sameTree(self, another):\n",
    "        return self._sameTree(self._root, another._root)\n",
    "    \n",
    "    def _sameTree(self, nodeA, nodeB):\n",
    "        if (nodeA is None and nodeB is None):\n",
    "            return True\n",
    "        if (nodeA is not None and nodeB is not None):\n",
    "            return nodeA._item == nodeB._item and self._sameTree(nodeA._left, nodeB._left) and self._sameTree(nodeA._right, nodeB._right)\n",
    "        return False"
   ]
  },
  {
   "cell_type": "code",
   "execution_count": 114,
   "metadata": {},
   "outputs": [
    {
     "data": {
      "text/plain": [
       "True"
      ]
     },
     "execution_count": 114,
     "metadata": {},
     "output_type": "execute_result"
    }
   ],
   "source": [
    "bst = AdvBST7()\n",
    "numbers = [6, 4, 8, 7, 9, 5, 1, 3, 2]\n",
    "for i in numbers:\n",
    "    bst.add(i)\n",
    "another = AdvBST7()\n",
    "numbers = [6, 4, 8, 7, 9, 5, 1, 3, 2]\n",
    "for i in numbers:\n",
    "    another.add(i)\n",
    "bst.sameTree(another)\n"
   ]
  },
  {
   "cell_type": "code",
   "execution_count": 115,
   "metadata": {},
   "outputs": [
    {
     "data": {
      "text/plain": [
       "False"
      ]
     },
     "execution_count": 115,
     "metadata": {},
     "output_type": "execute_result"
    }
   ],
   "source": [
    "another.add(100)\n",
    "bst.sameTree(another)"
   ]
  },
  {
   "cell_type": "code",
   "execution_count": 116,
   "metadata": {},
   "outputs": [
    {
     "data": {
      "text/plain": [
       "True"
      ]
     },
     "execution_count": 116,
     "metadata": {},
     "output_type": "execute_result"
    }
   ],
   "source": [
    "bst.add(100)\n",
    "bst.sameTree(another)"
   ]
  },
  {
   "cell_type": "markdown",
   "metadata": {},
   "source": [
    "### <a id='Ex8'>Ex.8 Is Tree Foldable</a>"
   ]
  },
  {
   "cell_type": "code",
   "execution_count": 119,
   "metadata": {
    "collapsed": true
   },
   "outputs": [],
   "source": [
    "class AdvBST8(AdvBST7):    \n",
    "    def isFoldable(self):\n",
    "        if self._root is None:\n",
    "            return True\n",
    "        return self._isFoldable(self._root._left, self._root._right)\n",
    "    \n",
    "    def _isFoldable(self, nodeA, nodeB):\n",
    "        if (nodeA is None and nodeB is None):\n",
    "            return True\n",
    "        if (nodeA is None or nodeB is None):\n",
    "            return False        \n",
    "        return self._isFoldable(nodeA._left, nodeB._right) and self._isFoldable(nodeA._right, nodeB._left)"
   ]
  },
  {
   "cell_type": "code",
   "execution_count": 120,
   "metadata": {},
   "outputs": [
    {
     "data": {
      "text/plain": [
       "False"
      ]
     },
     "execution_count": 120,
     "metadata": {},
     "output_type": "execute_result"
    }
   ],
   "source": [
    "bst = AdvBST8()\n",
    "numbers = [6, 4, 8, 7, 9, 5, 1, 3, 2]\n",
    "for i in numbers:\n",
    "    bst.add(i)\n",
    "bst.isFoldable()"
   ]
  },
  {
   "cell_type": "code",
   "execution_count": 122,
   "metadata": {},
   "outputs": [
    {
     "data": {
      "text/plain": [
       "True"
      ]
     },
     "execution_count": 122,
     "metadata": {},
     "output_type": "execute_result"
    }
   ],
   "source": [
    "bst = AdvBST8()\n",
    "numbers = [3,2,5,1,8]\n",
    "for i in numbers:\n",
    "    bst.add(i)\n",
    "bst.isFoldable()"
   ]
  },
  {
   "cell_type": "code",
   "execution_count": null,
   "metadata": {
    "collapsed": true
   },
   "outputs": [],
   "source": []
  }
 ],
 "metadata": {
  "kernelspec": {
   "display_name": "Python 3",
   "language": "python",
   "name": "python3"
  },
  "language_info": {
   "codemirror_mode": {
    "name": "ipython",
    "version": 3
   },
   "file_extension": ".py",
   "mimetype": "text/x-python",
   "name": "python",
   "nbconvert_exporter": "python",
   "pygments_lexer": "ipython3",
   "version": "3.6.1"
  }
 },
 "nbformat": 4,
 "nbformat_minor": 2
}
