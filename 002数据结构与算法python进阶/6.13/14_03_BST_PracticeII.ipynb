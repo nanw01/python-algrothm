{
 "cells": [
  {
   "cell_type": "markdown",
   "metadata": {},
   "source": [
    "# Binary Search Tree II #"
   ]
  },
  {
   "cell_type": "code",
   "execution_count": 2,
   "metadata": {
    "collapsed": true
   },
   "outputs": [],
   "source": [
    "from BinarySearchTree import BinarySearchTree\n",
    "from BinarySearchTree import Node"
   ]
  },
  {
   "cell_type": "code",
   "execution_count": 3,
   "metadata": {},
   "outputs": [
    {
     "name": "stdout",
     "output_type": "stream",
     "text": [
      "[ 1 ] [ 2 ] [ 3 ] [ 4 ] [ 5 ] [ 6 ] [ 7 ] [ 8 ] [ 9 ] [ 10 ] [ 11 ] [ 12 ] [ 13 ] \n",
      "[ 1 ] [ 3 ] [ 2 ] [ 5 ] [ 4 ] [ 7 ] [ 10 ] [ 12 ] [ 11 ] [ 13 ] [ 9 ] [ 8 ] [ 6 ] \n",
      "[ 6 ] [ 4 ] [ 2 ] [ 1 ] [ 3 ] [ 5 ] [ 8 ] [ 7 ] [ 9 ] [ 13 ] [ 11 ] [ 10 ] [ 12 ] \n"
     ]
    }
   ],
   "source": [
    "bst = BinarySearchTree()\n",
    "numbers = [6, 4, 8, 7, 9, 2, 1, 3, 5, 13, 11, 10, 12]\n",
    "for i in numbers:\n",
    "    bst.add(i)\n",
    "bst.print_inorder()\n",
    "bst.print_postorder()\n",
    "bst.print_preorder()"
   ]
  },
  {
   "cell_type": "markdown",
   "metadata": {},
   "source": [
    "### <a id='Ex1'>Ex.1 Iterative Get </a>\n",
    "\n",
    "Implment BST Get method, iteratively."
   ]
  },
  {
   "cell_type": "code",
   "execution_count": 4,
   "metadata": {
    "collapsed": true
   },
   "outputs": [],
   "source": [
    "class AdvBST1(BinarySearchTree):\n",
    "    \n",
    "    def getIterative(self, key):\n",
    "        node = self._root\n",
    "        while (node is not None):\n",
    "            if key == node._item:\n",
    "                return node._item\n",
    "            if key < node._item:\n",
    "                node = node._left\n",
    "            else:\n",
    "                node = node._right\n",
    "        return None"
   ]
  },
  {
   "cell_type": "code",
   "execution_count": 5,
   "metadata": {},
   "outputs": [
    {
     "name": "stdout",
     "output_type": "stream",
     "text": [
      "[ 1 ] [ 2 ] [ 3 ] [ 4 ] [ 5 ] [ 6 ] [ 7 ] [ 8 ] [ 9 ] [ 10 ] [ 11 ] [ 12 ] [ 13 ] \n"
     ]
    },
    {
     "data": {
      "text/plain": [
       "5"
      ]
     },
     "execution_count": 5,
     "metadata": {},
     "output_type": "execute_result"
    }
   ],
   "source": [
    "bst = AdvBST1()\n",
    "numbers = [6, 4, 8, 7, 9, 2, 1, 3, 5, 13, 11, 10, 12]\n",
    "for i in numbers:\n",
    "    bst.add(i)\n",
    "bst.print_inorder()\n",
    "bst.getIterative(5)"
   ]
  },
  {
   "cell_type": "code",
   "execution_count": 10,
   "metadata": {},
   "outputs": [
    {
     "name": "stdout",
     "output_type": "stream",
     "text": [
      "None\n"
     ]
    }
   ],
   "source": [
    "print(bst.getIterative(99))"
   ]
  },
  {
   "cell_type": "markdown",
   "metadata": {},
   "source": [
    "### <a id='Ex2'>Ex.2 Iterative Add </a>\n",
    "\n",
    "Implment BST Add method, iteratively."
   ]
  },
  {
   "cell_type": "code",
   "execution_count": 6,
   "metadata": {
    "collapsed": true
   },
   "outputs": [],
   "source": [
    "class AdvBST2(AdvBST1):\n",
    "    def addIterative(self, value):\n",
    "        newNode = Node(value)\n",
    "        if (self._root is None):\n",
    "            self._root = newNode\n",
    "            return\n",
    "        \n",
    "        current = self._root\n",
    "        parent = None\n",
    "        while True:\n",
    "            parent = current\n",
    "            if (value == current._item):\n",
    "                return\n",
    "            if (value < current._item):\n",
    "                current = current._left\n",
    "                if (current is None):\n",
    "                    parent._left = newNode\n",
    "                    return\n",
    "            else:\n",
    "                current = current._right\n",
    "                if (current is None):\n",
    "                    parent._right = newNode\n",
    "                    return"
   ]
  },
  {
   "cell_type": "code",
   "execution_count": 7,
   "metadata": {},
   "outputs": [
    {
     "name": "stdout",
     "output_type": "stream",
     "text": [
      "[ 1 ] [ 2 ] [ 3 ] [ 4 ] [ 5 ] [ 6 ] [ 7 ] [ 8 ] [ 9 ] [ 10 ] [ 11 ] [ 12 ] [ 13 ] \n",
      "[ 1 ] [ 2 ] [ 3 ] [ 4 ] [ 5 ] [ 6 ] [ 7 ] [ 8 ] [ 9 ] [ 10 ] [ 11 ] [ 12 ] [ 13 ] \n",
      "[ 6 ] [ 4 ] [ 2 ] [ 1 ] [ 3 ] [ 5 ] [ 8 ] [ 7 ] [ 9 ] [ 13 ] [ 11 ] [ 10 ] [ 12 ] \n",
      "[ 6 ] [ 4 ] [ 2 ] [ 1 ] [ 3 ] [ 5 ] [ 8 ] [ 7 ] [ 9 ] [ 13 ] [ 11 ] [ 10 ] [ 12 ] \n"
     ]
    }
   ],
   "source": [
    "bst = AdvBST2()\n",
    "numbers = [6, 4, 8, 7, 9, 2, 1, 3, 5, 13, 11, 10, 12]\n",
    "for i in numbers:\n",
    "    bst.addIterative(i)\n",
    "\n",
    "bst2 = AdvBST2()\n",
    "numbers = [6, 4, 8, 7, 9, 2, 1, 3, 5, 13, 11, 10, 12]\n",
    "for i in numbers:\n",
    "    bst2.add(i)\n",
    "bst.print_inorder()\n",
    "bst2.print_inorder()\n",
    "bst.print_preorder()\n",
    "bst2.print_preorder()"
   ]
  },
  {
   "cell_type": "markdown",
   "metadata": {},
   "source": [
    "### <a id='Ex3'>Ex.3 Iterative Inorder Traversal </a>\n",
    "\n",
    "Implment BST Inorder traversal method, iteratively."
   ]
  },
  {
   "cell_type": "code",
   "execution_count": null,
   "metadata": {
    "collapsed": true
   },
   "outputs": [],
   "source": [
    "    # Traversal Methods  \n",
    "    def print_inorder(self):\n",
    "        self._print_inorder(self._root)\n",
    "        print('')\n",
    "\n",
    "    def _print_inorder(self, node):\n",
    "        if (node is None):\n",
    "            return\n",
    "        self._print_inorder(node._left)\n",
    "        print ('[', node._item, ']', end = \" \")\n",
    "        self._print_inorder(node._right)"
   ]
  },
  {
   "cell_type": "code",
   "execution_count": 8,
   "metadata": {
    "collapsed": true
   },
   "outputs": [],
   "source": [
    "class AdvBST3(AdvBST2):\n",
    "    def printInorderIterative(self):\n",
    "        node = self._root\n",
    "        stack = []\n",
    "        \n",
    "        while True:\n",
    "            while (node is not None):\n",
    "                stack.append(node)\n",
    "                node = node._left\n",
    "            if len(stack) == 0:\n",
    "                return\n",
    "            \n",
    "            node = stack.pop()\n",
    "            print ('[', node._item, ']', end = \" \")\n",
    "            node = node._right"
   ]
  },
  {
   "cell_type": "code",
   "execution_count": 9,
   "metadata": {},
   "outputs": [
    {
     "name": "stdout",
     "output_type": "stream",
     "text": [
      "[ 1 ] [ 2 ] [ 3 ] [ 4 ] [ 5 ] [ 6 ] [ 7 ] [ 8 ] [ 9 ] [ 10 ] [ 11 ] [ 12 ] [ 13 ] \n",
      "[ 1 ] [ 2 ] [ 3 ] [ 4 ] [ 5 ] [ 6 ] [ 7 ] [ 8 ] [ 9 ] [ 10 ] [ 11 ] [ 12 ] [ 13 ] "
     ]
    }
   ],
   "source": [
    "bst = AdvBST3()\n",
    "numbers = [6, 4, 8, 7, 9, 2, 1, 3, 5, 13, 11, 10, 12]\n",
    "for i in numbers:\n",
    "    bst.add(i)\n",
    "bst.print_inorder()\n",
    "bst.printInorderIterative()"
   ]
  },
  {
   "cell_type": "markdown",
   "metadata": {},
   "source": [
    "### <a id='Ex4'>Ex.4 Iterative Preorder Traversal </a>\n",
    "\n",
    "Implment BST Preorder traversal method, iteratively."
   ]
  },
  {
   "cell_type": "code",
   "execution_count": null,
   "metadata": {
    "collapsed": true
   },
   "outputs": [],
   "source": [
    "    def print_preorder(self):\n",
    "        self._print_preorder(self._root)\n",
    "        print('')\n",
    "\n",
    "    def _print_preorder(self, node):\n",
    "        if (node is None):\n",
    "            return\n",
    "        print ('[', node._item, ']', end = \" \")\n",
    "        self._print_preorder(node._left)\n",
    "        self._print_preorder(node._right) "
   ]
  },
  {
   "cell_type": "code",
   "execution_count": 19,
   "metadata": {},
   "outputs": [],
   "source": [
    "class AdvBST4(AdvBST3):\n",
    "    def printPreorderIterative(self):\n",
    "        ret = []\n",
    "        stack = [self._root]\n",
    "        while stack:\n",
    "            node = stack.pop()\n",
    "            if node:\n",
    "                ret.append(node._item)\n",
    "                stack.append(node._right)\n",
    "                stack.append(node._left)\n",
    "        return ret"
   ]
  },
  {
   "cell_type": "code",
   "execution_count": 20,
   "metadata": {},
   "outputs": [
    {
     "name": "stdout",
     "output_type": "stream",
     "text": [
      "[ 6 ] [ 4 ] [ 2 ] [ 1 ] [ 3 ] [ 5 ] [ 8 ] [ 7 ] [ 9 ] [ 13 ] [ 11 ] [ 10 ] [ 12 ] \n"
     ]
    },
    {
     "data": {
      "text/plain": [
       "[6, 4, 2, 1, 3, 5, 8, 7, 9, 13, 11, 10, 12]"
      ]
     },
     "execution_count": 20,
     "metadata": {},
     "output_type": "execute_result"
    }
   ],
   "source": [
    "bst = AdvBST4()\n",
    "numbers = [6, 4, 8, 7, 9, 2, 1, 3, 5, 13, 11, 10, 12]\n",
    "for i in numbers:\n",
    "    bst.add(i)\n",
    "bst.print_preorder()\n",
    "bst.printPreorderIterative()"
   ]
  },
  {
   "cell_type": "markdown",
   "metadata": {},
   "source": [
    "### <a id='Ex4'>Ex.5 Iterative Postorder Traversal </a>\n",
    "\n",
    "Implment BST Postorder traversal method, iteratively."
   ]
  },
  {
   "cell_type": "code",
   "execution_count": 29,
   "metadata": {
    "collapsed": true
   },
   "outputs": [],
   "source": [
    "class AdvBST5(AdvBST4):\n",
    "    def printPostorderIterative(self):\n",
    "        node = self._root\n",
    "        stack = []\n",
    "        stack.append(node)\n",
    "        \n",
    "        while len(stack) != 0:\n",
    "            node = stack[-1]\n",
    "            if node._left is None and node._right is None:\n",
    "                pop = stack.pop()\n",
    "                print ('[', node._item, ']', end = \" \")\n",
    "                \n",
    "            else:\n",
    "                if node._right is not None:\n",
    "                    stack.append(node._right)\n",
    "                    node._right = None\n",
    "                if node._left is not None:\n",
    "                    stack.append(node._left)\n",
    "                    node._left = None\n",
    "        print('')\n",
    "\n",
    "    def printPostorderIterative2(self):\n",
    "        stack = [(self._root, False)]\n",
    "        while stack:\n",
    "            node, visited = stack.pop()\n",
    "            if node:\n",
    "                if visited:\n",
    "                    # add to result if visited\n",
    "                    print ('[', node._item, ']', end = \" \")\n",
    "                else:\n",
    "                    # post-order\n",
    "                    stack.append((node, True))\n",
    "                    stack.append((node._right, False))\n",
    "                    stack.append((node._left, False))"
   ]
  },
  {
   "cell_type": "code",
   "execution_count": 30,
   "metadata": {},
   "outputs": [
    {
     "name": "stdout",
     "output_type": "stream",
     "text": [
      "[ 4 ] [ 7 ] [ 8 ] [ 6 ] \n",
      "[ 4 ] [ 7 ] [ 8 ] [ 6 ] \n",
      "[ 4 ] [ 7 ] [ 8 ] [ 6 ] "
     ]
    }
   ],
   "source": [
    "bst = AdvBST5()\n",
    "numbers = [6, 4, 8, 7]\n",
    "for i in numbers:\n",
    "    bst.add(i)\n",
    "bst.print_postorder()\n",
    "bst.printPostorderIterative()\n",
    "\n",
    "bst = AdvBST5()\n",
    "numbers = [6, 4, 8, 7]\n",
    "for i in numbers:\n",
    "    bst.add(i)\n",
    "bst.printPostorderIterative2()"
   ]
  },
  {
   "cell_type": "code",
   "execution_count": null,
   "metadata": {
    "collapsed": true
   },
   "outputs": [],
   "source": []
  }
 ],
 "metadata": {
  "kernelspec": {
   "display_name": "Python 3",
   "language": "python",
   "name": "python3"
  },
  "language_info": {
   "codemirror_mode": {
    "name": "ipython",
    "version": 3
   },
   "file_extension": ".py",
   "mimetype": "text/x-python",
   "name": "python",
   "nbconvert_exporter": "python",
   "pygments_lexer": "ipython3",
   "version": "3.6.1"
  }
 },
 "nbformat": 4,
 "nbformat_minor": 2
}
