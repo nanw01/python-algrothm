{
 "cells": [
  {
   "cell_type": "markdown",
   "metadata": {},
   "source": [
    "# Recursion"
   ]
  },
  {
   "cell_type": "markdown",
   "metadata": {},
   "source": [
    "By the end of this chapter, you should be able to answer these questions.\n",
    "\n",
    "- How does Python determine the meaning of an identifier in a program?\n",
    "- What happens to the run-time stack when a function is called?\n",
    "- What happens to the run-time stack when a function returns from a call?\n",
    "- What are the two important parts to a recursive function and which part comes first?\n",
    "- Exactly what happens when a return statement is executed?\n",
    "- Why should we write recursive functions?\n",
    "- What are the computational complexities of various recursive functions?"
   ]
  },
  {
   "cell_type": "markdown",
   "metadata": {},
   "source": [
    "<a href='#Ex1'>Ex.1 求和</a>\n",
    "\n",
    "<a href='#Ex2'>Ex.2 阶乘</a>\n",
    "\n",
    "<a href='#Ex3'>Ex.3 斐波那契数列</a>\n",
    "\n",
    "<a href='#Ex4'>Ex.4 打印尺子</a>\n",
    "\n",
    "<a href='#Ex5'>Ex.5 数学表达式</a>\n",
    "\n",
    "<a href='#Ex6'>Ex.6 格雷码</a>"
   ]
  },
  {
   "cell_type": "markdown",
   "metadata": {},
   "source": [
    "### <a id='Ex1'>Ex.1 Simple Example 求和 </a>"
   ]
  },
  {
   "cell_type": "code",
   "execution_count": null,
   "metadata": {
    "collapsed": true
   },
   "outputs": [],
   "source": [
    "n = 10\n",
    "result = sum(range(n+1))\n",
    "result"
   ]
  },
  {
   "cell_type": "code",
   "execution_count": null,
   "metadata": {
    "collapsed": true
   },
   "outputs": [],
   "source": [
    "def mysum(n):\n",
    "    result = 0\n",
    "    for i in range(n+1):\n",
    "        result += i\n",
    "    return result"
   ]
  },
  {
   "cell_type": "code",
   "execution_count": null,
   "metadata": {
    "collapsed": true
   },
   "outputs": [],
   "source": [
    "result = mysum(10)\n",
    "result"
   ]
  },
  {
   "cell_type": "code",
   "execution_count": null,
   "metadata": {
    "collapsed": true
   },
   "outputs": [],
   "source": [
    "def mysum_recursive(n):\n",
    "    if n == 0:\n",
    "        return 0\n",
    "    return n + mysum_recursive(n-1)"
   ]
  },
  {
   "cell_type": "code",
   "execution_count": null,
   "metadata": {
    "collapsed": true
   },
   "outputs": [],
   "source": [
    "result = mysum_recursive(10)\n",
    "result"
   ]
  },
  {
   "cell_type": "markdown",
   "metadata": {},
   "source": [
    "### <a id='Ex2'>Ex.2 阶乘 </a>"
   ]
  },
  {
   "cell_type": "code",
   "execution_count": null,
   "metadata": {
    "collapsed": true
   },
   "outputs": [],
   "source": [
    "def factorial(n):\n",
    "    result = 1\n",
    "    for i in range(1, n+1):\n",
    "        result *= i\n",
    "    return result"
   ]
  },
  {
   "cell_type": "code",
   "execution_count": null,
   "metadata": {
    "collapsed": true
   },
   "outputs": [],
   "source": [
    "factorial(5)"
   ]
  },
  {
   "cell_type": "code",
   "execution_count": null,
   "metadata": {
    "collapsed": true
   },
   "outputs": [],
   "source": [
    "def factorial_recursive(n):\n",
    "    if n == 1:\n",
    "        return 1\n",
    "    return n * factorial_recursive(n - 1)"
   ]
  },
  {
   "cell_type": "code",
   "execution_count": null,
   "metadata": {
    "collapsed": true
   },
   "outputs": [],
   "source": [
    "factorial_recursive(5)"
   ]
  },
  {
   "cell_type": "markdown",
   "metadata": {},
   "source": [
    "<img src=\"../images/ch02/factorial.jpg\" width=\"350\"/>"
   ]
  },
  {
   "cell_type": "markdown",
   "metadata": {},
   "source": [
    "### <a id='Ex3'>Ex.3 斐波那契数列 </a>"
   ]
  },
  {
   "cell_type": "code",
   "execution_count": 2,
   "metadata": {
    "collapsed": true
   },
   "outputs": [],
   "source": [
    "def fibonacci1(n):\n",
    "    assert(n>=0)\n",
    "    a, b = 0, 1\n",
    "    for i in range(1, n+1):\n",
    "        a, b = b, a + b\n",
    "    return a    \n",
    "    \n",
    "def fibonacci2(n):\n",
    "    assert(n>=0)\n",
    "    if (n <= 2): \n",
    "        return 1\n",
    "    return fibonacci2(n-1) + fibonacci2(n-2)\n",
    "\n",
    "def fibonacci3(n):\n",
    "    assert(n>=0)\n",
    "    if (n <= 1): \n",
    "        return (n,0)\n",
    "    (a, b) = fibonacci3(n-1)\n",
    "    return (a+b, a)"
   ]
  },
  {
   "cell_type": "code",
   "execution_count": 14,
   "metadata": {},
   "outputs": [
    {
     "name": "stdout",
     "output_type": "stream",
     "text": [
      "Wall time: 0 ns\n"
     ]
    },
    {
     "data": {
      "text/plain": [
       "55"
      ]
     },
     "execution_count": 14,
     "metadata": {},
     "output_type": "execute_result"
    }
   ],
   "source": [
    "time fibonacci1(10)"
   ]
  },
  {
   "cell_type": "code",
   "execution_count": 9,
   "metadata": {},
   "outputs": [
    {
     "name": "stdout",
     "output_type": "stream",
     "text": [
      "Wall time: 44.2 s\n"
     ]
    },
    {
     "data": {
      "text/plain": [
       "102334155"
      ]
     },
     "execution_count": 9,
     "metadata": {},
     "output_type": "execute_result"
    }
   ],
   "source": [
    "time fibonacci2(40)"
   ]
  },
  {
   "cell_type": "code",
   "execution_count": null,
   "metadata": {
    "collapsed": true
   },
   "outputs": [],
   "source": []
  },
  {
   "cell_type": "markdown",
   "metadata": {},
   "source": [
    "** Why Fibonacci? **"
   ]
  },
  {
   "cell_type": "code",
   "execution_count": null,
   "metadata": {
    "collapsed": true
   },
   "outputs": [],
   "source": [
    "def fibonaccis(n):\n",
    "    assert(n>=0)\n",
    "    result = [0, 1]\n",
    "    for i in range(2, n+1):\n",
    "        result.append(result[-2] + result[-1])\n",
    "    return result"
   ]
  },
  {
   "cell_type": "code",
   "execution_count": null,
   "metadata": {
    "collapsed": true
   },
   "outputs": [],
   "source": [
    "fibos = fibonaccis(30)\n",
    "r = []\n",
    "for i in range(2, len(fibos)):\n",
    "    r.append(fibos[i] / fibos[i-1])\n",
    "r"
   ]
  },
  {
   "cell_type": "markdown",
   "metadata": {},
   "source": [
    "** 黄金比例：** 肚脐到脚的距离／身高＝0.618\n",
    "<img src=\"../images/ch03/beauty.png\" width=\"200\"/>"
   ]
  },
  {
   "cell_type": "code",
   "execution_count": null,
   "metadata": {
    "collapsed": true
   },
   "outputs": [],
   "source": [
    "Fibonacci Square\n",
    "<img src=\"../images/ch03/fibosquare.png\" width=\"250\"/>\n",
    "\n",
    "<img src=\"../images/ch03/shell.jpg\" width=\"250\"/>\n",
    "<img src=\"../images/ch03/fibo2.png\" width=\"500\"/>"
   ]
  },
  {
   "cell_type": "markdown",
   "metadata": {},
   "source": [
    "### <a id='Ex4'>Ex.4 打印尺子 </a>\n",
    "\n",
    "1\n",
    "\n",
    "1 2 1\n",
    "\n",
    "1 2 1 3 1 2 1\n",
    "\n",
    "1 2 1 3 1 2 1 4 1 2 1 3 1 2 1\n"
   ]
  },
  {
   "cell_type": "code",
   "execution_count": null,
   "metadata": {
    "collapsed": true
   },
   "outputs": [],
   "source": [
    "def ruler_bad(n):\n",
    "    assert(n>=0)\n",
    "    if (n==1):\n",
    "        return \"1\"\n",
    "    return ruler(n-1) + \" \" + str(n) + \" \" + ruler(n-1)\n",
    "\n",
    "def ruler(n):\n",
    "    assert(n>=0)\n",
    "    if (n==1):\n",
    "        return \"1\"\n",
    "    t = ruler(n-1)\n",
    "    return t + \" \" + str(n) + \" \" + t\n",
    "\n",
    "def ruler2(n):\n",
    "    result = \"\"\n",
    "    for i in range(1, n+1):\n",
    "        result = result + str(i) + \" \" + result\n",
    "    return result"
   ]
  },
  {
   "cell_type": "code",
   "execution_count": null,
   "metadata": {
    "collapsed": true
   },
   "outputs": [],
   "source": [
    "ruler_bad(3)"
   ]
  },
  {
   "cell_type": "code",
   "execution_count": null,
   "metadata": {
    "collapsed": true
   },
   "outputs": [],
   "source": [
    "ruler(3)"
   ]
  },
  {
   "cell_type": "code",
   "execution_count": null,
   "metadata": {
    "collapsed": true
   },
   "outputs": [],
   "source": [
    "ruler2(3)"
   ]
  },
  {
   "cell_type": "code",
   "execution_count": null,
   "metadata": {
    "collapsed": true
   },
   "outputs": [],
   "source": [
    "def draw_line(tick_length, tick_label=''):\n",
    "    line = '-' * tick_length\n",
    "    if tick_label:\n",
    "        line += ' ' + tick_label\n",
    "    print(line)\n",
    "\n",
    "def draw_interval(center_length):\n",
    "    if center_length > 0:\n",
    "        draw_interval(center_length - 1)\n",
    "        draw_line(center_length)\n",
    "        draw_interval(center_length - 1)\n",
    "        \n",
    "def draw_rule(num_inches, major_length):\n",
    "    draw_line(major_length, '0')\n",
    "    for j in range(1, 1 + num_inches):\n",
    "        draw_interval(major_length - 1)\n",
    "        draw_line(major_length, str(j))"
   ]
  },
  {
   "cell_type": "code",
   "execution_count": null,
   "metadata": {
    "collapsed": true
   },
   "outputs": [],
   "source": [
    "draw_interval(3)"
   ]
  },
  {
   "cell_type": "code",
   "execution_count": null,
   "metadata": {
    "collapsed": true
   },
   "outputs": [],
   "source": [
    "draw_rule(5,3)"
   ]
  },
  {
   "cell_type": "code",
   "execution_count": null,
   "metadata": {
    "collapsed": true
   },
   "outputs": [],
   "source": []
  },
  {
   "cell_type": "markdown",
   "metadata": {},
   "source": [
    "### <a id='Ex5'>Ex.5 数学表达式  </a>\n",
    "\n",
    "Given two integers a ≤ b, write a program  that transforms a into b by a minimum sequence of increment (add 1) and unfolding (multiply by 2) operations.\n",
    "\n",
    "For example, \t\n",
    "\n",
    "23 = ((5 * 2 + 1) * 2 + 1) \n",
    "\n",
    "113 = ((((11 + 1) + 1) + 1) * 2 * 2 * 2 + 1)\n",
    "\n"
   ]
  },
  {
   "cell_type": "code",
   "execution_count": null,
   "metadata": {
    "collapsed": true
   },
   "outputs": [],
   "source": [
    "def intSeq(a, b):\n",
    "    if (a == b):\n",
    "        return str(a)\n",
    "    \n",
    "    if (b % 2 == 1):\n",
    "        return \"(\" + intSeq(a, b-1) + \" + 1)\"\n",
    "    \n",
    "    if (b < a * 2):\n",
    "        return \"(\" + intSeq(a, b-1) + \" + 1)\"\n",
    "        \n",
    "    return intSeq(a, b/2) + \" * 2\";"
   ]
  },
  {
   "cell_type": "code",
   "execution_count": null,
   "metadata": {
    "collapsed": true
   },
   "outputs": [],
   "source": [
    "a = 5;\n",
    "b = 101;\n",
    "print(str(b) + \" = \" + intSeq(a, b))"
   ]
  },
  {
   "cell_type": "code",
   "execution_count": null,
   "metadata": {
    "collapsed": true
   },
   "outputs": [],
   "source": []
  },
  {
   "cell_type": "markdown",
   "metadata": {},
   "source": [
    "### <a id='Ex6'>Ex.6 格雷码  </a>\n",
    "\n",
    "<img src=\"../images/ch02/hanoi.jpg\" width=\"350\"/>"
   ]
  },
  {
   "cell_type": "code",
   "execution_count": null,
   "metadata": {
    "collapsed": true
   },
   "outputs": [],
   "source": [
    "def hanoi(n, start, end, by):\n",
    "    if (n==1):\n",
    "        print(\"Move from \" + start + \" to \" + end)\n",
    "    else:\n",
    "        hanoi(n-1, start, by, end)\n",
    "        hanoi(1, start, end, by)\n",
    "        hanoi(n-1, by, end, start)"
   ]
  },
  {
   "cell_type": "code",
   "execution_count": null,
   "metadata": {
    "collapsed": true
   },
   "outputs": [],
   "source": [
    "n = 3\n",
    "hanoi(n, \"START\", \"END\", \"BY\")"
   ]
  },
  {
   "cell_type": "markdown",
   "metadata": {},
   "source": [
    "### <a id='Ex7'>Ex.7 汉诺塔  </a>\n",
    "<img src=\"../images/ch03/grey.jpg\" width=\"350\"/>"
   ]
  },
  {
   "cell_type": "markdown",
   "metadata": {
    "collapsed": true
   },
   "source": [
    "def moves(n):\n",
    "    if n == 0: \n",
    "        return\n",
    "    moves(n-1)\n",
    "    print(n)\n",
    "    moves(n-1)"
   ]
  },
  {
   "cell_type": "code",
   "execution_count": null,
   "metadata": {
    "collapsed": true
   },
   "outputs": [],
   "source": [
    "moves(3)"
   ]
  },
  {
   "cell_type": "code",
   "execution_count": null,
   "metadata": {
    "collapsed": true
   },
   "outputs": [],
   "source": [
    "def moves_ins(n, forward):\n",
    "    if n == 0: \n",
    "        return\n",
    "    moves_ins(n-1, True)\n",
    "    print(\"enter \", n) if forward else print(\"exit  \", n)\n",
    "    moves_ins(n-1, False)    "
   ]
  },
  {
   "cell_type": "code",
   "execution_count": null,
   "metadata": {
    "collapsed": true
   },
   "outputs": [],
   "source": [
    "moves_ins(3, True)"
   ]
  },
  {
   "cell_type": "markdown",
   "metadata": {
    "collapsed": true
   },
   "source": [
    "** Why Grey Code? **"
   ]
  },
  {
   "cell_type": "markdown",
   "metadata": {},
   "source": [
    "<img src=\"../images/ch03/grey1.jpg\" width=\"250\"/>\n",
    "<img src=\"../images/ch03/grey2.png\" width=\"380\"/>"
   ]
  },
  {
   "cell_type": "code",
   "execution_count": null,
   "metadata": {
    "collapsed": true
   },
   "outputs": [],
   "source": []
  }
 ],
 "metadata": {
  "kernelspec": {
   "display_name": "Python 3",
   "language": "python",
   "name": "python3"
  },
  "language_info": {
   "codemirror_mode": {
    "name": "ipython",
    "version": 3
   },
   "file_extension": ".py",
   "mimetype": "text/x-python",
   "name": "python",
   "nbconvert_exporter": "python",
   "pygments_lexer": "ipython3",
   "version": "3.6.1"
  }
 },
 "nbformat": 4,
 "nbformat_minor": 2
}
