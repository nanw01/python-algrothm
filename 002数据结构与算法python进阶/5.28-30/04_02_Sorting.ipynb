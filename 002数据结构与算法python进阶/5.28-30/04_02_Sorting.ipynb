{
 "cells": [
  {
   "cell_type": "markdown",
   "metadata": {
    "run_control": {
     "frozen": false,
     "read_only": false
    }
   },
   "source": [
    "## Buble Sort"
   ]
  },
  {
   "cell_type": "code",
   "execution_count": 6,
   "metadata": {
    "collapsed": true
   },
   "outputs": [],
   "source": [
    "import time\n",
    "from random import randint\n",
    "\n",
    "import matplotlib.pyplot as plt\n",
    "%matplotlib inline  "
   ]
  },
  {
   "cell_type": "code",
   "execution_count": 8,
   "metadata": {
    "run_control": {
     "frozen": false,
     "read_only": false
    }
   },
   "outputs": [
    {
     "name": "stdout",
     "output_type": "stream",
     "text": [
      "[9, 8, 7, 6, 5, 4, 3, 2, 1, 0]\n"
     ]
    }
   ],
   "source": [
    "def _bubble_sort(nums: list, reverse=False):\n",
    "    start = time.time()\n",
    "    for i in range(len(nums)):\n",
    "        # Get (i+1) largest in the correct position\n",
    "        for j in range(len(nums) - i - 1):\n",
    "            if nums[j] > nums[j + 1]:\n",
    "                nums[j], nums[j + 1] = nums[j + 1], nums[j]\n",
    "    if reverse:\n",
    "        #nums = nums[::-1]  # why this is not working?\n",
    "        nums.reverse()\n",
    "    t = time.time() - start\n",
    "    return len(nums), t\n",
    "\n",
    "\n",
    "def bubble_sorted(nums: list, reverse=False) -> list:\n",
    "    \"\"\"Bubble Sort\"\"\"\n",
    "    nums_copy = list(nums)\n",
    "    _bubble_sort(nums_copy, reverse=reverse)\n",
    "    return nums_copy\n",
    "\n",
    "l = [1, 3, 5, 7, 9, 2, 4, 6, 8, 0]\n",
    "l = bubble_sorted(l, reverse=True)\n",
    "print(l)"
   ]
  },
  {
   "cell_type": "code",
   "execution_count": 10,
   "metadata": {
    "collapsed": true
   },
   "outputs": [],
   "source": [
    "def generate_random_array(n):\n",
    "    return [randint(0, n) for e in range(n)]"
   ]
  },
  {
   "cell_type": "code",
   "execution_count": 60,
   "metadata": {},
   "outputs": [
    {
     "data": {
      "text/plain": [
       "[(100, 0.0019998550415039062),\n",
       " (200, 0.0060002803802490234),\n",
       " (300, 0.009999752044677734),\n",
       " (400, 0.016000032424926758),\n",
       " (500, 0.023999929428100586),\n",
       " (600, 0.0410003662109375),\n",
       " (700, 0.05099987983703613),\n",
       " (800, 0.07200002670288086),\n",
       " (900, 0.08599996566772461),\n",
       " (1000, 0.11599993705749512),\n",
       " (1100, 0.1919999122619629),\n",
       " (1200, 0.3680000305175781),\n",
       " (1300, 0.2590000629425049),\n",
       " (1400, 0.20800018310546875),\n",
       " (1500, 0.24599981307983398),\n",
       " (1600, 0.2740001678466797),\n",
       " (1700, 0.5399999618530273),\n",
       " (1800, 0.5849997997283936),\n",
       " (1900, 0.4440000057220459)]"
      ]
     },
     "execution_count": 60,
     "metadata": {},
     "output_type": "execute_result"
    }
   ],
   "source": [
    "random_lists = [generate_random_array(100 * n) for n in range(1, 20)]\n",
    "\n",
    "rst = [_bubble_sort(l) for l in random_lists]\n",
    "\n",
    "rst"
   ]
  },
  {
   "cell_type": "code",
   "execution_count": 13,
   "metadata": {},
   "outputs": [
    {
     "data": {
      "text/plain": [
       "[<matplotlib.lines.Line2D at 0x7c200f0>]"
      ]
     },
     "execution_count": 13,
     "metadata": {},
     "output_type": "execute_result"
    },
    {
     "data": {
      "image/png": "[encoded data removed]",
      "text/plain": [
       "<matplotlib.figure.Figure at 0x7b64ef0>"
      ]
     },
     "metadata": {},
     "output_type": "display_data"
    }
   ],
   "source": [
    "x = list(zip(*rst))[0]\n",
    "y = list(zip(*rst))[1]\n",
    "\n",
    "plt.plot(x, y)"
   ]
  },
  {
   "cell_type": "code",
   "execution_count": 17,
   "metadata": {},
   "outputs": [
    {
     "name": "stdout",
     "output_type": "stream",
     "text": [
      "1000 0.10599994659423828\n",
      "1000 0.16499996185302734\n"
     ]
    }
   ],
   "source": [
    "seq = list(range(0,1000))\n",
    "l, t = _bubble_sort(seq)\n",
    "print(l, t)\n",
    "\n",
    "seq = generate_random_array(1000)\n",
    "l, t = _bubble_sort(seq)\n",
    "print(l, t)"
   ]
  },
  {
   "cell_type": "code",
   "execution_count": 18,
   "metadata": {
    "collapsed": true
   },
   "outputs": [],
   "source": [
    "def bubble_sort_mod(array):\n",
    "    import time\n",
    "    start = time.time()    \n",
    "    for i in range(len(array)): # n pass\n",
    "        is_sorted = True  # initialize is_sorted\n",
    "        for j in range(1, len(array) - i):\n",
    "            if (array[j] < array[j - 1]):\n",
    "                # swap\n",
    "                array[j], array[j - 1] = array[j - 1], array[j]\n",
    "                is_sorted = False\n",
    "        \n",
    "        if (is_sorted): break\n",
    "    t = time.time() - start\n",
    "    return len(array), t            "
   ]
  },
  {
   "cell_type": "code",
   "execution_count": 20,
   "metadata": {},
   "outputs": [
    {
     "name": "stdout",
     "output_type": "stream",
     "text": [
      "10000 0.0019998550415039062\n",
      "1000 0.13200020790100098\n"
     ]
    }
   ],
   "source": [
    "seq = list(range(0,10000))\n",
    "l, t = bubble_sort_mod(seq)\n",
    "print(l, t)\n",
    "\n",
    "seq = generate_random_array(1000)\n",
    "l, t = bubble_sort_mod(seq)\n",
    "print(l, t)"
   ]
  },
  {
   "cell_type": "markdown",
   "metadata": {},
   "source": [
    "## Selection Sort"
   ]
  },
  {
   "cell_type": "code",
   "execution_count": 7,
   "metadata": {
    "collapsed": true
   },
   "outputs": [],
   "source": [
    "def selection_sort(items):\n",
    "    start = time.time()\n",
    "    for i in range(len(items)):   # n\n",
    "        pos_min = i   #idx\n",
    "        for j in range(i + 1, len(items)):  # n\n",
    "            if (items[j] < items[pos_min]):\n",
    "                pos_min = j\n",
    "\n",
    "        items[i], items[pos_min] = items[pos_min], items[i]\n",
    "    t = time.time() - start\n",
    "    return len(items), t  "
   ]
  },
  {
   "cell_type": "code",
   "execution_count": 12,
   "metadata": {},
   "outputs": [
    {
     "name": "stdout",
     "output_type": "stream",
     "text": [
      "[1, 2, 3, 4, 5, 6, 7, 8, 9, 99]\n"
     ]
    }
   ],
   "source": [
    "l = [1, 3, 5, 7, 9, 2, 4, 6, 8, 99]\n",
    "selection_sort(l)\n",
    "print(l)"
   ]
  },
  {
   "cell_type": "code",
   "execution_count": 15,
   "metadata": {},
   "outputs": [
    {
     "data": {
      "text/plain": [
       "[(100, 0.0009999275207519531),\n",
       " (200, 0.002000093460083008),\n",
       " (300, 0.0039997100830078125),\n",
       " (400, 0.0070002079010009766),\n",
       " (500, 0.011999845504760742),\n",
       " (600, 0.018000125885009766),\n",
       " (700, 0.023000240325927734),\n",
       " (800, 0.03399968147277832),\n",
       " (900, 0.04400014877319336),\n",
       " (1000, 0.10499978065490723),\n",
       " (1100, 0.10500025749206543),\n",
       " (1200, 0.12199997901916504),\n",
       " (1300, 0.14299988746643066),\n",
       " (1400, 0.17100000381469727),\n",
       " (1500, 0.18700003623962402),\n",
       " (1600, 0.15599989891052246),\n",
       " (1700, 0.12899994850158691),\n",
       " (1800, 0.14600014686584473),\n",
       " (1900, 0.1640000343322754)]"
      ]
     },
     "execution_count": 15,
     "metadata": {},
     "output_type": "execute_result"
    }
   ],
   "source": [
    "random_lists = [generate_random_array(100 * n) for n in range(1, 20)]\n",
    "\n",
    "rst = [selection_sort(l) for l in random_lists]\n",
    "rst"
   ]
  },
  {
   "cell_type": "code",
   "execution_count": 16,
   "metadata": {},
   "outputs": [
    {
     "data": {
      "text/plain": [
       "[<matplotlib.lines.Line2D at 0x7b3f0f0>]"
      ]
     },
     "execution_count": 16,
     "metadata": {},
     "output_type": "execute_result"
    },
    {
     "data": {
      "image/png": "[encoded data removed]",
      "text/plain": [
       "<matplotlib.figure.Figure at 0x7c20940>"
      ]
     },
     "metadata": {},
     "output_type": "display_data"
    }
   ],
   "source": [
    "x = list(zip(*rst))[0]\n",
    "y = list(zip(*rst))[1]\n",
    "plt.plot(x, y)"
   ]
  },
  {
   "cell_type": "code",
   "execution_count": null,
   "metadata": {
    "collapsed": true
   },
   "outputs": [],
   "source": []
  },
  {
   "cell_type": "markdown",
   "metadata": {
    "run_control": {
     "frozen": false,
     "read_only": false
    }
   },
   "source": [
    "## Insert Sort"
   ]
  },
  {
   "cell_type": "code",
   "execution_count": 22,
   "metadata": {
    "collapsed": true,
    "run_control": {
     "frozen": false,
     "read_only": false
    }
   },
   "outputs": [],
   "source": [
    "def insert_sort(items):\n",
    "    start = time.time()\n",
    "    for sort_inx in range(1,len(items)):\n",
    "        unsort_inx = sort_inx\n",
    "        while unsort_inx > 0 and items[unsort_inx-1] > items[unsort_inx]:\n",
    "            items[unsort_inx-1], items[unsort_inx] = items[unsort_inx], items[unsort_inx-1]\n",
    "            unsort_inx = unsort_inx-1\n",
    "    t = time.time() - start\n",
    "    return len(items), t            \n",
    "            "
   ]
  },
  {
   "cell_type": "code",
   "execution_count": 23,
   "metadata": {
    "run_control": {
     "frozen": false,
     "read_only": false
    }
   },
   "outputs": [
    {
     "name": "stdout",
     "output_type": "stream",
     "text": [
      "[1, 2, 3, 4, 5, 6, 7, 8, 9, 99]\n"
     ]
    }
   ],
   "source": [
    "l = [1, 3, 5, 7, 9, 2, 4, 6, 8, 99]\n",
    "insert_sort(l)\n",
    "print(l)"
   ]
  },
  {
   "cell_type": "code",
   "execution_count": 24,
   "metadata": {},
   "outputs": [
    {
     "data": {
      "text/plain": [
       "[(100, 0.0009999275207519531),\n",
       " (200, 0.005000114440917969),\n",
       " (300, 0.011999845504760742),\n",
       " (400, 0.026000022888183594),\n",
       " (500, 0.039999961853027344),\n",
       " (600, 0.03600001335144043),\n",
       " (700, 0.05500006675720215),\n",
       " (800, 0.07799983024597168),\n",
       " (900, 0.08700013160705566),\n",
       " (1000, 0.1100001335144043),\n",
       " (1100, 0.1269998550415039),\n",
       " (1200, 0.1510000228881836),\n",
       " (1300, 0.18499994277954102),\n",
       " (1400, 0.37999987602233887),\n",
       " (1500, 0.4050002098083496),\n",
       " (1600, 0.2629997730255127),\n",
       " (1700, 0.3020002841949463),\n",
       " (1800, 0.36099982261657715),\n",
       " (1900, 0.7910001277923584)]"
      ]
     },
     "execution_count": 24,
     "metadata": {},
     "output_type": "execute_result"
    }
   ],
   "source": [
    "random_lists = [generate_random_array(100 * n) for n in range(1, 20)]\n",
    "\n",
    "rst = [insert_sort(l) for l in random_lists]\n",
    "rst"
   ]
  },
  {
   "cell_type": "code",
   "execution_count": 27,
   "metadata": {},
   "outputs": [
    {
     "data": {
      "text/plain": [
       "[<matplotlib.lines.Line2D at 0x7f99b70>]"
      ]
     },
     "execution_count": 27,
     "metadata": {},
     "output_type": "execute_result"
    },
    {
     "data": {
      "image/png": "[encoded data removed]",
      "text/plain": [
       "<matplotlib.figure.Figure at 0x7f2b208>"
      ]
     },
     "metadata": {},
     "output_type": "display_data"
    }
   ],
   "source": [
    "x = list(zip(*rst))[0]\n",
    "y = list(zip(*rst))[1]\n",
    "plt.plot(x, y)"
   ]
  },
  {
   "cell_type": "markdown",
   "metadata": {},
   "source": [
    "## Shell Sort"
   ]
  },
  {
   "cell_type": "code",
   "execution_count": 40,
   "metadata": {
    "collapsed": true
   },
   "outputs": [],
   "source": [
    "def shell_sort(nums):\n",
    "    start = time.time()\n",
    "\n",
    "    gap = len(nums)\n",
    "    length = len(nums)\n",
    "\n",
    "    while (gap > 0):\n",
    "        for i in range(gap, length):\n",
    "            for j in range(i, gap - 1, -gap):\n",
    "                if (nums[j - gap] > nums[j]):\n",
    "                    nums[j], nums[j - gap] = nums[j - gap], nums[j]\n",
    "\n",
    "        if (gap == 2): \n",
    "            gap = 1\n",
    "        else:\n",
    "            gap = gap // 2\n",
    "\n",
    "    t = time.time() - start\n",
    "    return len(nums), t              "
   ]
  },
  {
   "cell_type": "code",
   "execution_count": 43,
   "metadata": {},
   "outputs": [
    {
     "data": {
      "text/plain": [
       "[(100, 0.002000093460083008),\n",
       " (200, 0.006000041961669922),\n",
       " (300, 0.01399993896484375),\n",
       " (400, 0.02500009536743164),\n",
       " (500, 0.06499981880187988),\n",
       " (600, 0.06300020217895508),\n",
       " (700, 0.08099985122680664),\n",
       " (800, 0.09400010108947754),\n",
       " (900, 0.07799983024597168),\n",
       " (1000, 0.13000011444091797),\n",
       " (1100, 0.21200013160705566),\n",
       " (1200, 0.2499997615814209),\n",
       " (1300, 0.315000057220459),\n",
       " (1400, 0.4310002326965332),\n",
       " (1500, 0.4029998779296875),\n",
       " (1600, 0.3789999485015869),\n",
       " (1700, 0.3209998607635498),\n",
       " (1800, 0.312000036239624),\n",
       " (1900, 0.34400010108947754)]"
      ]
     },
     "execution_count": 43,
     "metadata": {},
     "output_type": "execute_result"
    }
   ],
   "source": [
    "random_lists = [generate_random_array(100 * n) for n in range(1, 20)]\n",
    "\n",
    "rst = [shell_sort(l) for l in random_lists]\n",
    "rst"
   ]
  },
  {
   "cell_type": "code",
   "execution_count": 44,
   "metadata": {},
   "outputs": [
    {
     "data": {
      "text/plain": [
       "[<matplotlib.lines.Line2D at 0x82d8a58>]"
      ]
     },
     "execution_count": 44,
     "metadata": {},
     "output_type": "execute_result"
    },
    {
     "data": {
      "image/png": "[encoded data removed]",
      "text/plain": [
       "<matplotlib.figure.Figure at 0x7fc1cc0>"
      ]
     },
     "metadata": {},
     "output_type": "display_data"
    }
   ],
   "source": [
    "x = list(zip(*rst))[0]\n",
    "y = list(zip(*rst))[1]\n",
    "plt.plot(x, y)"
   ]
  },
  {
   "cell_type": "markdown",
   "metadata": {
    "run_control": {
     "frozen": false,
     "read_only": false
    }
   },
   "source": [
    "## Count Sort"
   ]
  },
  {
   "cell_type": "code",
   "execution_count": 63,
   "metadata": {
    "collapsed": true
   },
   "outputs": [],
   "source": [
    "def count_sort(items):\n",
    "    start = time.time()    \n",
    "    mmax, mmin = items[0], items[0]\n",
    "    for i in range(1, len(items)):\n",
    "        if (items[i] > mmax): mmax = items[i]\n",
    "        elif (items[i] < mmin): mmin = items[i]\n",
    "    print(mmax)\n",
    "    nums = mmax - mmin + 1\n",
    "    counts = [0] * nums\n",
    "    for i in range (len(items)):\n",
    "        counts[items[i] - mmin] = counts[items[i] - mmin] + 1\n",
    "\n",
    "    pos = 0\n",
    "    for i in range(nums):\n",
    "        for j in range(counts[i]):\n",
    "            items[pos] = i + mmin\n",
    "            pos += 1\n",
    "            \n",
    "    t = time.time() - start\n",
    "    return len(items), t             "
   ]
  },
  {
   "cell_type": "code",
   "execution_count": 64,
   "metadata": {},
   "outputs": [
    {
     "name": "stdout",
     "output_type": "stream",
     "text": [
      "100\n",
      "200\n",
      "300\n",
      "400\n",
      "500\n",
      "599\n",
      "700\n",
      "800\n",
      "900\n",
      "1000\n",
      "1100\n",
      "1200\n",
      "1299\n",
      "1400\n",
      "1500\n",
      "1600\n",
      "1698\n",
      "1800\n",
      "1900\n"
     ]
    },
    {
     "data": {
      "text/plain": [
       "[(100, 0.0010001659393310547),\n",
       " (200, 0.0),\n",
       " (300, 0.0010001659393310547),\n",
       " (400, 0.0009999275207519531),\n",
       " (500, 0.0009999275207519531),\n",
       " (600, 0.0),\n",
       " (700, 0.0010001659393310547),\n",
       " (800, 0.0009999275207519531),\n",
       " (900, 0.0009999275207519531),\n",
       " (1000, 0.0009999275207519531),\n",
       " (1100, 0.005000114440917969),\n",
       " (1200, 0.0019998550415039062),\n",
       " (1300, 0.0019998550415039062),\n",
       " (1400, 0.0010001659393310547),\n",
       " (1500, 0.002000093460083008),\n",
       " (1600, 0.002000093460083008),\n",
       " (1700, 0.0019998550415039062),\n",
       " (1800, 0.002000093460083008),\n",
       " (1900, 0.0019998550415039062)]"
      ]
     },
     "execution_count": 64,
     "metadata": {},
     "output_type": "execute_result"
    }
   ],
   "source": [
    "random_lists = [generate_random_array(100 * n) for n in range(1, 20)]\n",
    "\n",
    "rst = [count_sort(l) for l in random_lists]\n",
    "rst"
   ]
  },
  {
   "cell_type": "code",
   "execution_count": null,
   "metadata": {
    "collapsed": true
   },
   "outputs": [],
   "source": []
  },
  {
   "cell_type": "markdown",
   "metadata": {},
   "source": [
    "## Radix Sort"
   ]
  },
  {
   "cell_type": "markdown",
   "metadata": {},
   "source": [
    "Counting sort is a linear time sorting algorithm that sort in O(n+k) time when elements are in range from 1 to k.\n",
    "\n",
    "What if the elements are in range from 1 to n2? \n",
    "\n",
    "We can’t use counting sort because counting sort will take O(n2) which is worse than comparison based sorting algorithms. Can we sort such an array in linear time?\n",
    "\n",
    "Radix Sort is the answer. The idea of Radix Sort is to do digit by digit sort starting from least significant digit to most significant digit. Radix sort uses counting sort as a subroutine to sort.\n",
    "\n",
    "** The Radix Sort Algorithm **\n",
    "\n",
    "1) Do following for each digit i where i varies from least significant digit to the most significant digit.\n",
    "\n",
    "    a) Sort input array using counting sort (or any stable sort) according to the i’th digit.\n",
    "\n",
    "** Example: **\n",
    "\n",
    "Original, unsorted list:\n",
    "\n",
    "170, 45, 75, 90, 802, 24, 2, 66\n",
    "\n",
    "Sorting by least significant digit (1s place) gives: [*Notice that we keep 802 before 2, because 802 occurred before 2 in the original list, and similarly for pairs 170 & 90 and 45 & 75.]\n",
    "\n",
    "170, 90, 802, 2, 24, 45, 75, 66\n",
    "\n",
    "Sorting by next digit (10s place) gives: [*Notice that 802 again comes before 2 as 802 comes before 2 in the previous list.]\n",
    "\n",
    "802, 2, 24, 45, 66, 170, 75, 90\n",
    "\n",
    "Sorting by most significant digit (100s place) gives:\n",
    "\n",
    "2, 24, 45, 66, 75, 90, 170, 802"
   ]
  },
  {
   "cell_type": "code",
   "execution_count": 27,
   "metadata": {
    "collapsed": true
   },
   "outputs": [],
   "source": [
    "def radix_sort(array, base=10):\n",
    "    start = time.time()    \n",
    "    def list_to_buckets(array, base, iteration):\n",
    "        buckets = [[] for _ in range(base)]\n",
    "        for number in array:\n",
    "            # Isolate the base-digit from the number\n",
    "            digit = (number // (base ** iteration)) % base\n",
    "            # Drop the number into the correct bucket\n",
    "            buckets[digit].append(number)\n",
    "        return buckets\n",
    "\n",
    "    def buckets_to_list(buckets):\n",
    "        numbers = []\n",
    "        for bucket in buckets:\n",
    "            # append the numbers in a bucket\n",
    "            # sequentially to the returned array\n",
    "            for number in bucket:\n",
    "                numbers.append(number)\n",
    "        return numbers\n",
    "\n",
    "    maxval = max(array)\n",
    "\n",
    "    it = 0\n",
    "    # Iterate, sorting the array by each base-digit\n",
    "    while base ** it <= maxval:\n",
    "        array = buckets_to_list(list_to_buckets(array, base, it))\n",
    "        it += 1\n",
    "\n",
    "    t = time.time() - start\n",
    "    return len(array), t "
   ]
  },
  {
   "cell_type": "code",
   "execution_count": 29,
   "metadata": {},
   "outputs": [
    {
     "data": {
      "text/plain": [
       "[(100, 0.0),\n",
       " (200, 0.0009999275207519531),\n",
       " (300, 0.002000093460083008),\n",
       " (400, 0.0019998550415039062),\n",
       " (500, 0.0009999275207519531),\n",
       " (600, 0.0009999275207519531),\n",
       " (700, 0.002000093460083008),\n",
       " (800, 0.0009999275207519531),\n",
       " (900, 0.0020003318786621094),\n",
       " (1000, 0.0019998550415039062),\n",
       " (1100, 0.002000093460083008),\n",
       " (1200, 0.0019998550415039062),\n",
       " (1300, 0.002000093460083008),\n",
       " (1400, 0.0029997825622558594),\n",
       " (1500, 0.003000020980834961),\n",
       " (1600, 0.003000020980834961),\n",
       " (1700, 0.0030002593994140625),\n",
       " (1800, 0.003999948501586914),\n",
       " (1900, 0.0029997825622558594)]"
      ]
     },
     "execution_count": 29,
     "metadata": {},
     "output_type": "execute_result"
    }
   ],
   "source": [
    "random_lists = [generate_random_array(100 * n) for n in range(1, 20)]\n",
    "\n",
    "rst = [radix_sort(l) for l in random_lists]\n",
    "rst"
   ]
  },
  {
   "cell_type": "code",
   "execution_count": 30,
   "metadata": {},
   "outputs": [
    {
     "data": {
      "text/plain": [
       "[<matplotlib.lines.Line2D at 0x8872d68>]"
      ]
     },
     "execution_count": 30,
     "metadata": {},
     "output_type": "execute_result"
    },
    {
     "data": {
      "image/png": "[encoded data removed]",
      "text/plain": [
       "<matplotlib.figure.Figure at 0x8331c18>"
      ]
     },
     "metadata": {},
     "output_type": "display_data"
    }
   ],
   "source": [
    "x = list(zip(*rst))[0]\n",
    "y = list(zip(*rst))[1]\n",
    "plt.plot(x, y)"
   ]
  },
  {
   "cell_type": "markdown",
   "metadata": {},
   "source": [
    "## Merge Sort"
   ]
  },
  {
   "cell_type": "code",
   "execution_count": 29,
   "metadata": {
    "code_folding": [],
    "run_control": {
     "frozen": false,
     "read_only": false
    }
   },
   "outputs": [
    {
     "name": "stdout",
     "output_type": "stream",
     "text": [
      "[9, 8, 7, 6, 5, 4, 3, 2, 1, 0]\n"
     ]
    }
   ],
   "source": [
    "def _merge(a: list, b: list) -> list:\n",
    "    \"\"\"Merge two sorted list\"\"\"\n",
    "    c = []\n",
    "    while len(a) > 0 and len(b) > 0:\n",
    "        if a[0] < b[0]:\n",
    "            c.append(a[0])\n",
    "            a.remove(a[0])\n",
    "        else:\n",
    "            c.append(b[0])\n",
    "            b.remove(b[0])\n",
    "\n",
    "    if len(a) == 0:\n",
    "        c += b\n",
    "    else:\n",
    "        c += a\n",
    "    return c\n",
    "\n",
    "\n",
    "def _merge_sorted(nums: list) -> list:\n",
    "    # Won't sort in place\n",
    "    if len(nums) <= 1:\n",
    "        return nums\n",
    "\n",
    "    m = len(nums) // 2\n",
    "    a = _merge_sorted(nums[:m])\n",
    "    b = _merge_sorted(nums[m:])\n",
    "    return _merge(a, b)\n",
    "\n",
    "\n",
    "# Wrapper\n",
    "def merge_sorted(nums: list, reverse=False) -> list:\n",
    "    import time\n",
    "    start = time.time()\n",
    "    \"\"\"Merge Sort\"\"\"\n",
    "    nums = _merge_sorted(nums)\n",
    "    if reverse:\n",
    "        nums = nums[::-1]\n",
    "\n",
    "    t = time.time() - start\n",
    "    return nums, len(nums), t\n",
    "\n",
    "l = [1, 3, 5, 7, 9, 2, 4, 6, 8, 0]\n",
    "l = merge_sorted(l, reverse=True)[0]\n",
    "print(l)"
   ]
  },
  {
   "cell_type": "code",
   "execution_count": 30,
   "metadata": {
    "collapsed": true
   },
   "outputs": [],
   "source": [
    "random_lists = [generate_random_array(100 * n) for n in range(1, 51)]\n",
    "rst = [merge_sorted(l) for l in random_lists]\n",
    "r = [(l[1],l[2]) for l in rst]"
   ]
  },
  {
   "cell_type": "code",
   "execution_count": 31,
   "metadata": {},
   "outputs": [
    {
     "data": {
      "text/plain": [
       "[<matplotlib.lines.Line2D at 0x85c34a8>]"
      ]
     },
     "execution_count": 31,
     "metadata": {},
     "output_type": "execute_result"
    },
    {
     "data": {
      "image/png": "[encoded data removed]",
      "text/plain": [
       "<matplotlib.figure.Figure at 0x7faa780>"
      ]
     },
     "metadata": {},
     "output_type": "display_data"
    }
   ],
   "source": [
    "x = list(zip(*r))[0]\n",
    "y = list(zip(*r))[1]\n",
    "\n",
    "plt.plot(x, y)"
   ]
  },
  {
   "cell_type": "markdown",
   "metadata": {
    "run_control": {
     "frozen": false,
     "read_only": false
    }
   },
   "source": [
    "## Quick Sort"
   ]
  },
  {
   "cell_type": "code",
   "execution_count": 34,
   "metadata": {
    "run_control": {
     "frozen": false,
     "read_only": false
    }
   },
   "outputs": [
    {
     "name": "stdout",
     "output_type": "stream",
     "text": [
      "([9, 8, 7, 6, 5, 4, 3, 2, 1, 0], 10, 0.0)\n"
     ]
    }
   ],
   "source": [
    "def _quick_sorted(nums: list) -> list:\n",
    "    if len(nums) <= 1:\n",
    "        return nums\n",
    "\n",
    "    pivot = nums[0]\n",
    "    left_nums = _quick_sorted([x for x in nums[1:] if x < pivot])\n",
    "    right_nums = _quick_sorted([x for x in nums[1:] if x >= pivot])\n",
    "    return left_nums + [pivot] + right_nums\n",
    "\n",
    "\n",
    "def quick_sorted(nums: list, reverse=False) -> list:\n",
    "    \"\"\"Quick Sort\"\"\"\n",
    "    start = time.time()\n",
    "    nums = _quick_sorted(nums)\n",
    "    if reverse:\n",
    "        nums = nums[::-1]\n",
    "    t = time.time() - start\n",
    "    return nums, len(nums), t\n",
    "\n",
    "\n",
    "l = [1, 3, 5, 7, 9, 2, 4, 6, 8, 0]\n",
    "l = quick_sorted(l, reverse=True)\n",
    "print(l)"
   ]
  },
  {
   "cell_type": "code",
   "execution_count": 35,
   "metadata": {},
   "outputs": [
    {
     "data": {
      "text/plain": [
       "[<matplotlib.lines.Line2D at 0x96c36a0>]"
      ]
     },
     "execution_count": 35,
     "metadata": {},
     "output_type": "execute_result"
    },
    {
     "data": {
      "image/png": "[encoded data removed]",
      "text/plain": [
       "<matplotlib.figure.Figure at 0x8604198>"
      ]
     },
     "metadata": {},
     "output_type": "display_data"
    }
   ],
   "source": [
    "rst = [quick_sorted(l) for l in random_lists]\n",
    "r = [(l[1],l[2]) for l in rst]\n",
    "\n",
    "x = list(zip(*r))[0]\n",
    "y = list(zip(*r))[1]\n",
    "\n",
    "plt.plot(x, y)\n"
   ]
  },
  {
   "cell_type": "code",
   "execution_count": null,
   "metadata": {
    "collapsed": true
   },
   "outputs": [],
   "source": []
  }
 ],
 "metadata": {
  "kernelspec": {
   "display_name": "Python 3",
   "language": "python",
   "name": "python3"
  },
  "language_info": {
   "codemirror_mode": {
    "name": "ipython",
    "version": 3
   },
   "file_extension": ".py",
   "mimetype": "text/x-python",
   "name": "python",
   "nbconvert_exporter": "python",
   "pygments_lexer": "ipython3",
   "version": "3.6.1"
  }
 },
 "nbformat": 4,
 "nbformat_minor": 2
}
