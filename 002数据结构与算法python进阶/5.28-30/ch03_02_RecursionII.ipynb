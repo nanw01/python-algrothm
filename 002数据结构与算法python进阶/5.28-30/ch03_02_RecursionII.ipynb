{
 "cells": [
  {
   "cell_type": "markdown",
   "metadata": {},
   "source": [
    "# Recursion II"
   ]
  },
  {
   "cell_type": "markdown",
   "metadata": {},
   "source": [
    "By the end of this chapter, you should be able to answer these questions. (They are the most interviewed questions in recursion.)\n",
    "\n",
    "- Subset\n",
    "- Permutation\n",
    "- Combination\n",
    "- N Queens\n"
   ]
  },
  {
   "cell_type": "markdown",
   "metadata": {},
   "source": [
    "** Ex.1 Subset **\n",
    "\n",
    "Given a set of distinct integers, nums, return all possible subsets"
   ]
  },
  {
   "cell_type": "code",
   "execution_count": 55,
   "metadata": {
    "collapsed": true
   },
   "outputs": [],
   "source": [
    "def subsets(nums):\n",
    "    result = [[]]\n",
    "    for num in nums:\n",
    "        for element in result[:]:\n",
    "            x=element[:]\n",
    "            x.append(num)\n",
    "            result.append(x)\n",
    "        \n",
    "    return result"
   ]
  },
  {
   "cell_type": "code",
   "execution_count": 56,
   "metadata": {},
   "outputs": [
    {
     "name": "stdout",
     "output_type": "stream",
     "text": [
      "[[], [1], [2], [1, 2], [3], [1, 3], [2, 3], [1, 2, 3]]\n"
     ]
    }
   ],
   "source": [
    "nums = [1, 2, 3]\n",
    "print(subsets(nums))"
   ]
  },
  {
   "cell_type": "markdown",
   "metadata": {},
   "source": [
    "<img src=\"../images/ch03/subset1.png\" width=\"440\"/>"
   ]
  },
  {
   "cell_type": "markdown",
   "metadata": {},
   "source": [
    "**Question 1**: why result[:] ? "
   ]
  },
  {
   "cell_type": "code",
   "execution_count": 65,
   "metadata": {},
   "outputs": [
    {
     "name": "stdout",
     "output_type": "stream",
     "text": [
      "[1, 2]\n",
      "[1, 2]\n"
     ]
    }
   ],
   "source": [
    "l = [1,2]\n",
    "for e in l:\n",
    "    #l.append(9)\n",
    "    print(l)"
   ]
  },
  {
   "cell_type": "code",
   "execution_count": 74,
   "metadata": {},
   "outputs": [
    {
     "name": "stdout",
     "output_type": "stream",
     "text": [
      "1\n",
      "[1, 2, 3, 4]\n",
      "2\n",
      "[1, 2, 3]\n",
      "3\n",
      "[1, 2]\n"
     ]
    },
    {
     "ename": "IndexError",
     "evalue": "list index out of range",
     "output_type": "error",
     "traceback": [
      "\u001b[1;31m---------------------------------------------------------------------------\u001b[0m",
      "\u001b[1;31mIndexError\u001b[0m                                Traceback (most recent call last)",
      "\u001b[1;32m<ipython-input-74-453d0edf3b6f>\u001b[0m in \u001b[0;36m<module>\u001b[1;34m()\u001b[0m\n\u001b[0;32m      1\u001b[0m \u001b[0ml\u001b[0m \u001b[1;33m=\u001b[0m \u001b[1;33m[\u001b[0m\u001b[1;36m1\u001b[0m\u001b[1;33m,\u001b[0m\u001b[1;36m2\u001b[0m\u001b[1;33m,\u001b[0m\u001b[1;36m3\u001b[0m\u001b[1;33m,\u001b[0m\u001b[1;36m4\u001b[0m\u001b[1;33m,\u001b[0m\u001b[1;36m5\u001b[0m\u001b[1;33m]\u001b[0m\u001b[1;33m\u001b[0m\u001b[0m\n\u001b[0;32m      2\u001b[0m \u001b[1;32mfor\u001b[0m \u001b[0mi\u001b[0m \u001b[1;32min\u001b[0m \u001b[0mrange\u001b[0m\u001b[1;33m(\u001b[0m\u001b[0mlen\u001b[0m\u001b[1;33m(\u001b[0m\u001b[0ml\u001b[0m\u001b[1;33m)\u001b[0m\u001b[1;33m)\u001b[0m\u001b[1;33m:\u001b[0m\u001b[1;33m\u001b[0m\u001b[0m\n\u001b[1;32m----> 3\u001b[1;33m     \u001b[0mprint\u001b[0m\u001b[1;33m(\u001b[0m\u001b[0ml\u001b[0m\u001b[1;33m[\u001b[0m\u001b[0mi\u001b[0m\u001b[1;33m]\u001b[0m\u001b[1;33m)\u001b[0m\u001b[1;33m\u001b[0m\u001b[0m\n\u001b[0m\u001b[0;32m      4\u001b[0m     \u001b[0ml\u001b[0m\u001b[1;33m.\u001b[0m\u001b[0mpop\u001b[0m\u001b[1;33m(\u001b[0m\u001b[1;33m)\u001b[0m\u001b[1;33m\u001b[0m\u001b[0m\n\u001b[0;32m      5\u001b[0m     \u001b[0mprint\u001b[0m\u001b[1;33m(\u001b[0m\u001b[0ml\u001b[0m\u001b[1;33m)\u001b[0m\u001b[1;33m\u001b[0m\u001b[0m\n",
      "\u001b[1;31mIndexError\u001b[0m: list index out of range"
     ]
    }
   ],
   "source": [
    "l = [1,2,3,4,5]\n",
    "for i in range(len(l)):\n",
    "    #print(l[i])\n",
    "    l.pop()\n",
    "    print(l)"
   ]
  },
  {
   "cell_type": "code",
   "execution_count": null,
   "metadata": {
    "collapsed": true
   },
   "outputs": [],
   "source": [
    "**Question 1**: why element[:] ? "
   ]
  },
  {
   "cell_type": "code",
   "execution_count": 77,
   "metadata": {
    "collapsed": true
   },
   "outputs": [],
   "source": [
    "def subsets(nums):\n",
    "    result = [[]]\n",
    "    for num in nums:\n",
    "        for element in result[:]:\n",
    "            #print(\"before: \" , element)\n",
    "            element.append(num)\n",
    "            #print(\"after: \" , element)\n",
    "            result.append(element)\n",
    "    return result"
   ]
  },
  {
   "cell_type": "code",
   "execution_count": 78,
   "metadata": {},
   "outputs": [
    {
     "name": "stdout",
     "output_type": "stream",
     "text": [
      "[1, 0]\n",
      "[2, 0]\n",
      "[3, 0]\n"
     ]
    }
   ],
   "source": [
    "lst = [[1],[2],[3]]\n",
    "for e in lst[:]:\n",
    "    e.append(0)\n",
    "    print(e)"
   ]
  },
  {
   "cell_type": "code",
   "execution_count": 79,
   "metadata": {},
   "outputs": [
    {
     "name": "stdout",
     "output_type": "stream",
     "text": [
      "before:  []\n",
      "after:  [1]\n",
      "before:  [1]\n",
      "after:  [1, 2]\n",
      "before:  [1, 2]\n",
      "after:  [1, 2, 2]\n",
      "before:  [1, 2, 2]\n",
      "after:  [1, 2, 2, 3]\n",
      "before:  [1, 2, 2, 3]\n",
      "after:  [1, 2, 2, 3, 3]\n",
      "before:  [1, 2, 2, 3, 3]\n",
      "after:  [1, 2, 2, 3, 3, 3]\n",
      "before:  [1, 2, 2, 3, 3, 3]\n",
      "after:  [1, 2, 2, 3, 3, 3, 3]\n",
      "[[1, 2, 2, 3, 3, 3, 3], [1, 2, 2, 3, 3, 3, 3], [1, 2, 2, 3, 3, 3, 3], [1, 2, 2, 3, 3, 3, 3], [1, 2, 2, 3, 3, 3, 3], [1, 2, 2, 3, 3, 3, 3], [1, 2, 2, 3, 3, 3, 3], [1, 2, 2, 3, 3, 3, 3]]\n"
     ]
    }
   ],
   "source": [
    "nums = [1, 2, 3]\n",
    "print(subsets(nums))"
   ]
  },
  {
   "cell_type": "code",
   "execution_count": null,
   "metadata": {
    "collapsed": true
   },
   "outputs": [],
   "source": []
  },
  {
   "cell_type": "code",
   "execution_count": null,
   "metadata": {
    "collapsed": true
   },
   "outputs": [],
   "source": [
    "def subsets_2(nums):\n",
    "    res = [[]]\n",
    "    for num in nums: \n",
    "        res += [ i + [num] for i in res]\n",
    "    return res"
   ]
  },
  {
   "cell_type": "code",
   "execution_count": null,
   "metadata": {
    "collapsed": true
   },
   "outputs": [],
   "source": []
  },
  {
   "cell_type": "markdown",
   "metadata": {
    "collapsed": true
   },
   "source": [
    "** Backtracking **\n",
    "\n",
    "So, while solving a problem using recursion, we break the given problem into smaller ones. Let's say we have a problem  and we divided it into three smaller problems ,  and . Now it may be the case that the solution to  does not depend on all the three subproblems, in fact we don't even know on which one it depends.\n",
    "\n",
    "Let's take a situation. Suppose you are standing in front of three tunnels, one of which is having a bag of gold at its end, but you don't know which one. So you'll try all three. First go in tunnel , if that is not the one, then come out of it, and go into tunnel , and again if that is not the one, come out of it and go into tunnel . So basically in backtracking we attempt solving a subproblem, and if we don't reach the desired solution, then <font color=\"red\">**undo**</font> whatever we did for solving that subproblem, and try solving another subproblem."
   ]
  },
  {
   "cell_type": "markdown",
   "metadata": {},
   "source": [
    "<img src=\"../images/ch03/subset2.png\" width=\"440\"/>"
   ]
  },
  {
   "cell_type": "code",
   "execution_count": 92,
   "metadata": {
    "collapsed": true
   },
   "outputs": [],
   "source": [
    "def subsets_recursive(nums):\n",
    "    lst = []\n",
    "    result = []\n",
    "    subsets_recursive_helper(result, lst, nums, 0);\n",
    "    return result;\n",
    "\n",
    "def subsets_recursive_helper(result, lst, nums, pos):\n",
    "    result.append(lst[:])\n",
    "    for i in range(pos, len(nums)):\n",
    "        lst.append(nums[i]) #\n",
    "        subsets_recursive_helper(result, lst, nums, i+1) #\n",
    "        lst.pop()"
   ]
  },
  {
   "cell_type": "code",
   "execution_count": 93,
   "metadata": {},
   "outputs": [
    {
     "name": "stdout",
     "output_type": "stream",
     "text": [
      "[[], ['a'], ['a', 'b'], ['a', 'b', 'c'], ['a', 'c'], ['b'], ['b', 'c'], ['c']]\n"
     ]
    }
   ],
   "source": [
    "nums = ['a', 'b', 'c']\n",
    "print(subsets_recursive(nums))"
   ]
  },
  {
   "cell_type": "code",
   "execution_count": 98,
   "metadata": {},
   "outputs": [
    {
     "name": "stdout",
     "output_type": "stream",
     "text": [
      "\n"
     ]
    }
   ],
   "source": [
    "'''\n",
    "Pick a starting point.\n",
    "while(Problem is not solved)\n",
    "    For each path from the starting point.\n",
    "        check if selected path is safe, if yes select it\n",
    "        and make recursive call to rest of the problem\n",
    "        before which undo the current move.\n",
    "    End For\n",
    "If none of the move works out, return false, NO SOLUTON.\n",
    "'''\n",
    "print()"
   ]
  },
  {
   "cell_type": "code",
   "execution_count": null,
   "metadata": {
    "collapsed": true
   },
   "outputs": [],
   "source": []
  },
  {
   "cell_type": "markdown",
   "metadata": {},
   "source": [
    "** Ex.2 Subset II **\n",
    "\n",
    "Given a collection of integers that might contain duplicates, nums, return all possible subsets."
   ]
  },
  {
   "cell_type": "code",
   "execution_count": 94,
   "metadata": {},
   "outputs": [
    {
     "name": "stdout",
     "output_type": "stream",
     "text": [
      "[[], [1], [2], [1, 2], [3], [1, 3], [2, 3], [1, 2, 3]]\n",
      "[1, 2, 3]\n",
      "[[], [1], [1, 2], [1, 2, 3], [1, 3], [2], [2, 3], [3]]\n",
      "[[], [1], [2], [1, 2], [2, 2], [1, 2, 2]]\n",
      "[1, 2, 2]\n",
      "[[], [1], [1, 2], [1, 2, 2], [2], [2, 2]]\n"
     ]
    }
   ],
   "source": [
    "def subsets2(nums):\n",
    "    res = [[]]\n",
    "    for num in nums: \n",
    "        res += [ i + [num] for i in res if i + [num] not in res]\n",
    "    return res\n",
    "\n",
    "def subsets_recursive2(nums):\n",
    "    lst = []\n",
    "    result = []\n",
    "    nums.sort()\n",
    "    print(nums)\n",
    "    subsets2_recursive_helper(result, lst, nums, 0);\n",
    "    return result;\n",
    "\n",
    "def subsets2_recursive_helper(result, lst, nums, pos):\n",
    "    result.append(lst[:])\n",
    "    for i in range(pos, len(nums)):\n",
    "        if (i != pos and nums[i] == nums[i-1]):\n",
    "            continue;\n",
    "        \n",
    "        lst.append(nums[i])\n",
    "        subsets2_recursive_helper(result, lst, nums, i+1)\n",
    "        lst.pop()"
   ]
  },
  {
   "cell_type": "code",
   "execution_count": 96,
   "metadata": {},
   "outputs": [
    {
     "name": "stdout",
     "output_type": "stream",
     "text": [
      "[[], [1], [2], [1, 2], [3], [1, 3], [2, 3], [1, 2, 3]]\n",
      "[1, 2, 3]\n",
      "[[], [1], [1, 2], [1, 2, 3], [1, 3], [2], [2, 3], [3]]\n"
     ]
    }
   ],
   "source": [
    "nums = [1, 2, 3]\n",
    "print(subsets2(nums))\n",
    "print(subsets_recursive2(nums))"
   ]
  },
  {
   "cell_type": "code",
   "execution_count": 97,
   "metadata": {},
   "outputs": [
    {
     "name": "stdout",
     "output_type": "stream",
     "text": [
      "[[], [1], [2], [1, 2], [2, 2], [1, 2, 2]]\n",
      "[1, 2, 2]\n",
      "[[], [1], [1, 2], [1, 2, 2], [2], [2, 2]]\n"
     ]
    }
   ],
   "source": [
    "nums = [1,2,2]\n",
    "print(subsets2(nums))\n",
    "print(subsets_recursive2(nums))"
   ]
  },
  {
   "cell_type": "code",
   "execution_count": null,
   "metadata": {
    "collapsed": true
   },
   "outputs": [],
   "source": []
  },
  {
   "cell_type": "markdown",
   "metadata": {},
   "source": [
    "** Ex.3 Permutation **\n",
    "\n",
    "Given abc:\n",
    "\n",
    "Output: bca cba cab acb bac abc"
   ]
  },
  {
   "cell_type": "markdown",
   "metadata": {},
   "source": [
    "** Solution 1: **"
   ]
  },
  {
   "cell_type": "code",
   "execution_count": 103,
   "metadata": {},
   "outputs": [
    {
     "name": "stdout",
     "output_type": "stream",
     "text": [
      "123\n",
      "132\n",
      "213\n",
      "231\n",
      "312\n",
      "321\n"
     ]
    }
   ],
   "source": [
    "def perm(result, nums):\n",
    "    if (len(nums)==0):\n",
    "        print(result)\n",
    "\n",
    "    for i in range(len(nums)):\n",
    "        perm(result+str(nums[i]), nums[0:i]+nums[i+1:])  #\n",
    "    \n",
    "nums = [1, 2, 3]\n",
    "perm('', nums)"
   ]
  },
  {
   "cell_type": "markdown",
   "metadata": {},
   "source": [
    "<img src=\"../images/ch03/permutation.gif\" width=\"640\"/>"
   ]
  },
  {
   "cell_type": "markdown",
   "metadata": {},
   "source": [
    "** Solution 2 **\n",
    "\n",
    "the basic idea is, to permute n numbers, we can add the nth number into the resulting list from the n-1 numbers, in every possible position.\n",
    "\n",
    "For example, if the input num[] is {1,2,3}: First, add 1 into the initial list (let's call it \"answer\").\n",
    "\n",
    "Then, 2 can be added in front or after 1. So we have to copy the List in answer (it's just {1}), add 2 in position 0 of {1}, then copy the original {1} again, and add 2 in position 1. Now we have an answer of {{2,1},{1,2}}. There are 2 lists in the current answer.\n",
    "\n",
    "Then we have to add 3. first copy {2,1} and {1,2}, add 3 in position 0; then copy {2,1} and {1,2}, and add 3 into position 1, then do the same thing for position 3. Finally we have 2*3=6 lists in answer, which is what we want."
   ]
  },
  {
   "cell_type": "code",
   "execution_count": 183,
   "metadata": {},
   "outputs": [
    {
     "name": "stdout",
     "output_type": "stream",
     "text": [
      "[[3, 2, 1], [2, 3, 1], [2, 1, 3], [3, 1, 2], [1, 3, 2], [1, 2, 3]]\n"
     ]
    }
   ],
   "source": [
    "def permute(nums):\n",
    "    perms = [[]]   \n",
    "    for n in nums:\n",
    "        new_perms = []\n",
    "        for perm in perms:\n",
    "            for i in range(len(perm)+1):   \n",
    "                new_perms.append(perm[:i] + [n] + perm[i:])   ###insert n\n",
    "        perms = new_perms\n",
    "    return perms    \n",
    "\n",
    "nums = [1, 2, 3]\n",
    "print(permute(nums))"
   ]
  },
  {
   "cell_type": "code",
   "execution_count": null,
   "metadata": {
    "collapsed": true
   },
   "outputs": [],
   "source": []
  },
  {
   "cell_type": "code",
   "execution_count": 105,
   "metadata": {},
   "outputs": [
    {
     "name": "stdout",
     "output_type": "stream",
     "text": [
      "312\n"
     ]
    }
   ],
   "source": [
    "import math\n",
    "\n",
    "def getPermutation(n, k):\n",
    "    nums = [str(_) for _ in range(1,n+1)]\n",
    "    k -= 1\n",
    "    ans = \"\"\n",
    "    for i in range(n)[::-1]:\n",
    "        ans += nums.pop(k // math.factorial(i))\n",
    "        k %= math.factorial(i)\n",
    "    return ans\n",
    "\n",
    "nums = [1, 2, 3]\n",
    "print(getPermutation(3,5))"
   ]
  },
  {
   "cell_type": "code",
   "execution_count": null,
   "metadata": {
    "collapsed": true
   },
   "outputs": [],
   "source": []
  },
  {
   "cell_type": "markdown",
   "metadata": {},
   "source": [
    "** Ex.4 Permutation Unique **"
   ]
  },
  {
   "cell_type": "code",
   "execution_count": 108,
   "metadata": {},
   "outputs": [
    {
     "name": "stdout",
     "output_type": "stream",
     "text": [
      "123\n",
      "132\n",
      "213\n",
      "231\n",
      "312\n",
      "321\n",
      "233\n",
      "323\n",
      "332\n"
     ]
    }
   ],
   "source": [
    "def permUnique(result, nums):\n",
    "    nums.sort()\n",
    "    if (len(nums)==0):\n",
    "        print(result)\n",
    "    for i in range(len(nums)):\n",
    "        if (i != 0 and nums[i] == nums[i-1]):\n",
    "            continue;\n",
    "        permUnique(result+str(nums[i]), nums[0:i]+nums[i+1:])\n",
    "        \n",
    "nums = [1, 2, 3]\n",
    "permUnique('', nums)  \n",
    "nums = [3, 2, 3]\n",
    "permUnique('', nums)       \n"
   ]
  },
  {
   "cell_type": "code",
   "execution_count": 107,
   "metadata": {},
   "outputs": [
    {
     "name": "stdout",
     "output_type": "stream",
     "text": [
      "[[3, 2, 1], [2, 3, 1], [2, 1, 3], [3, 1, 2], [1, 3, 2], [1, 2, 3]]\n",
      "[[3, 2, 2], [2, 3, 2], [2, 2, 3]]\n"
     ]
    }
   ],
   "source": [
    "def permuteUnique(nums):\n",
    "    ans = [[]]\n",
    "    for n in nums:\n",
    "        new_ans = []\n",
    "        for l in ans:\n",
    "            for i in range(len(l)+1):\n",
    "                new_ans.append(l[:i]+[n]+l[i:])\n",
    "                if i<len(l) and l[i]==n: break              #handles duplication\n",
    "        ans = new_ans\n",
    "    return ans\n",
    "\n",
    "\n",
    "nums = [1, 2, 3]\n",
    "print(permuteUnique(nums))\n",
    "\n",
    "nums = [2, 2, 3]\n",
    "print(permuteUnique(nums))"
   ]
  },
  {
   "cell_type": "code",
   "execution_count": null,
   "metadata": {
    "collapsed": true
   },
   "outputs": [],
   "source": []
  },
  {
   "cell_type": "markdown",
   "metadata": {},
   "source": [
    "** Ex.5 Permutation of Size K **\n",
    "\n",
    "takes two parameters n and k, and prints out all P(n, k) = n! / (n-k)! permutations that contain exactly k of the n elements.\n",
    "when k = 2 and n = 4\n",
    "\n",
    "ab ac ad ba bc bd ca cb cd da db dc"
   ]
  },
  {
   "cell_type": "code",
   "execution_count": 180,
   "metadata": {
    "collapsed": true
   },
   "outputs": [],
   "source": [
    "def permSizeK(result, nums, k):\n",
    "    if k == 0:\n",
    "        print(result)\n",
    "    for i in range(len(nums)):\n",
    "        permSizeK(result+str(nums[i]), nums[0:i] + nums[i+1:], k - 1)"
   ]
  },
  {
   "cell_type": "code",
   "execution_count": 182,
   "metadata": {},
   "outputs": [
    {
     "name": "stdout",
     "output_type": "stream",
     "text": [
      "12\n",
      "13\n",
      "14\n",
      "21\n",
      "23\n",
      "24\n",
      "31\n",
      "32\n",
      "34\n",
      "41\n",
      "42\n",
      "43\n"
     ]
    }
   ],
   "source": [
    "nums = [1, 2, 3, 4]\n",
    "k = 2\n",
    "permSizeK('', nums, k)\n"
   ]
  },
  {
   "cell_type": "markdown",
   "metadata": {},
   "source": [
    "** Ex.6 Letter Case Permutation **\n",
    "\n",
    "Enumerate all uppercase/lowercase permutation for any letter specified in input\n",
    "\n",
    "For example, \t\n",
    "\n",
    "word = “medium-one”\n",
    "\n",
    "Rule = “io”\n",
    "\n",
    "solutions = [“medium-one”, “medIum-one”, “medium-One”, “medIum-One”]"
   ]
  },
  {
   "cell_type": "code",
   "execution_count": 176,
   "metadata": {
    "collapsed": true
   },
   "outputs": [],
   "source": [
    "results = set()\n",
    "keys = set()\n",
    "\n",
    "def permLetter(word, rule):\n",
    "    rule = rule.lower()\n",
    "    for c in rule:\n",
    "        keys.add(c)\n",
    "    permHelper(word, rule, 0, \"\")\n",
    "    \n",
    "def permHelper(word, rule, index, prefix):\n",
    "    length = len(word)\n",
    "    \n",
    "    for i in range(index, length):\n",
    "        c = word[i]\n",
    "        if (c in keys):\n",
    "            permHelper(word, rule, i + 1, prefix + c)\n",
    "            \n",
    "            c = c.upper()\n",
    "            permHelper(word, rule, i + 1, prefix + c)\n",
    "        else:\n",
    "            prefix += c\n",
    "    \n",
    "    if (len(prefix) == len(word)):\n",
    "        results.add(prefix)       "
   ]
  },
  {
   "cell_type": "code",
   "execution_count": 14,
   "metadata": {},
   "outputs": [
    {
     "name": "stdout",
     "output_type": "stream",
     "text": [
      "{'medium-one', 'medium-oNe', 'mediuM-oNe', 'Medium-one', 'Medium-oNe', 'mediuM-one', 'MediuM-one', 'MediuM-oNe'}\n"
     ]
    }
   ],
   "source": [
    "word = \"medium-one\"\n",
    "rule = \"nm\"\n",
    "\n",
    "permLetter(word, rule)\n",
    "print(results)"
   ]
  },
  {
   "cell_type": "code",
   "execution_count": null,
   "metadata": {
    "collapsed": true
   },
   "outputs": [],
   "source": []
  },
  {
   "cell_type": "markdown",
   "metadata": {},
   "source": [
    "** Ex.7 Combination Sum **\n",
    "\n",
    "Given a set of candidate numbers (candidates) (without duplicates) and a target number (target), find all unique combinations in candidates where the candidate numbers sums to target.\n",
    "\n",
    "The same repeated number may be chosen from candidates unlimited number of times."
   ]
  },
  {
   "cell_type": "code",
   "execution_count": 223,
   "metadata": {
    "collapsed": true
   },
   "outputs": [],
   "source": [
    "def comb(nums, t):\n",
    "    result = []\n",
    "    tmp = []\n",
    "    combHelper(result, tmp, nums, t, 0)\n",
    "    return result\n",
    "        \n",
    "def combHelper(result, tmp, nums, remains, start):\n",
    "    if remains < 0: return\n",
    "    if remains == 0:\n",
    "        result.append(tmp[:])\n",
    "    else:\n",
    "        for i in range(start, len(nums)):\n",
    "            tmp.append(nums[i])\n",
    "            combHelper(result, tmp, nums, remains - nums[i], i)\n",
    "            tmp.pop()\n",
    "    "
   ]
  },
  {
   "cell_type": "code",
   "execution_count": 224,
   "metadata": {},
   "outputs": [
    {
     "data": {
      "text/plain": [
       "[[2, 2, 3], [7]]"
      ]
     },
     "execution_count": 224,
     "metadata": {},
     "output_type": "execute_result"
    }
   ],
   "source": [
    "candidates = [2,3,6,7]\n",
    "t = 7\n",
    "comb(candidates, t)"
   ]
  },
  {
   "cell_type": "code",
   "execution_count": 225,
   "metadata": {},
   "outputs": [
    {
     "data": {
      "text/plain": [
       "[[2, 2, 2, 2], [2, 3, 3], [3, 5]]"
      ]
     },
     "execution_count": 225,
     "metadata": {},
     "output_type": "execute_result"
    }
   ],
   "source": [
    "candidates = [2,3,5]\n",
    "t = 8\n",
    "comb(candidates, t)"
   ]
  },
  {
   "cell_type": "code",
   "execution_count": null,
   "metadata": {
    "collapsed": true
   },
   "outputs": [],
   "source": []
  },
  {
   "cell_type": "markdown",
   "metadata": {},
   "source": [
    "** Ex.8 Combination Sum II **\n",
    "\n",
    "Given a collection of candidate numbers (candidates) and a target number (target), find all unique combinations in candidates where the candidate numbers sums to target.\n",
    "\n",
    "Each number in candidates may only be used once in the combination.\n",
    "\n",
    "Note:\n",
    "\n",
    "All numbers (including target) will be positive integers.\n",
    "\n",
    "The solution set must not contain duplicate combinations."
   ]
  },
  {
   "cell_type": "code",
   "execution_count": 207,
   "metadata": {
    "collapsed": true
   },
   "outputs": [],
   "source": [
    "def comb2(nums, t):\n",
    "    result = []\n",
    "    tmp = []\n",
    "    nums.sort()\n",
    "    combHelper2(result, tmp, nums, t, 0)\n",
    "    return result\n",
    "        \n",
    "def combHelper2(result, tmp, nums, remains, start):\n",
    "    if remains < 0: return\n",
    "    if remains == 0:\n",
    "        result.append(tmp[:])\n",
    "    else:\n",
    "        for i in range(start, len(nums)):\n",
    "            if(i > start and nums[i] == nums[i-1]): continue; # skip duplicates\n",
    "            tmp.append(nums[i])\n",
    "            combHelper2(result, tmp, nums, remains - nums[i], i + 1)\n",
    "            tmp.pop()"
   ]
  },
  {
   "cell_type": "code",
   "execution_count": 208,
   "metadata": {},
   "outputs": [
    {
     "data": {
      "text/plain": [
       "[[1, 1, 6], [1, 2, 5], [1, 7], [2, 6]]"
      ]
     },
     "execution_count": 208,
     "metadata": {},
     "output_type": "execute_result"
    }
   ],
   "source": [
    "candidates = [10,1,2,7,6,1,5]\n",
    "t = 8\n",
    "comb2(candidates, t)"
   ]
  },
  {
   "cell_type": "code",
   "execution_count": 209,
   "metadata": {},
   "outputs": [
    {
     "data": {
      "text/plain": [
       "[[1, 2, 2], [5]]"
      ]
     },
     "execution_count": 209,
     "metadata": {},
     "output_type": "execute_result"
    }
   ],
   "source": [
    "candidates = [2,5,2,1,2]\n",
    "t = 5\n",
    "comb2(candidates, t)"
   ]
  },
  {
   "cell_type": "code",
   "execution_count": 210,
   "metadata": {},
   "outputs": [
    {
     "data": {
      "text/plain": [
       "[[7]]"
      ]
     },
     "execution_count": 210,
     "metadata": {},
     "output_type": "execute_result"
    }
   ],
   "source": [
    "candidates = [2,3,6,7]\n",
    "t = 7\n",
    "comb2(candidates, t)"
   ]
  },
  {
   "cell_type": "code",
   "execution_count": null,
   "metadata": {
    "collapsed": true
   },
   "outputs": [],
   "source": []
  },
  {
   "cell_type": "markdown",
   "metadata": {},
   "source": [
    "** Ex.9 Parentheses **\n",
    "\n",
    "Given n pairs of parentheses, write a function to generate all combinations of well-formed parentheses."
   ]
  },
  {
   "cell_type": "code",
   "execution_count": 2,
   "metadata": {
    "collapsed": true
   },
   "outputs": [],
   "source": [
    "def generateParenthesis(n):\n",
    "    def generate(prefix, left, right, parens=[]):\n",
    "        if right == 0:   parens.append(prefix)\n",
    "        if left > 0:     generate(prefix + '(', left-1, right)\n",
    "        if right > left: generate(prefix + ')', left, right-1)\n",
    "        return parens\n",
    "    return generate('', n, n)"
   ]
  },
  {
   "cell_type": "code",
   "execution_count": 3,
   "metadata": {},
   "outputs": [
    {
     "data": {
      "text/plain": [
       "['(((())))',\n",
       " '((()()))',\n",
       " '((())())',\n",
       " '((()))()',\n",
       " '(()(()))',\n",
       " '(()()())',\n",
       " '(()())()',\n",
       " '(())(())',\n",
       " '(())()()',\n",
       " '()((()))',\n",
       " '()(()())',\n",
       " '()(())()',\n",
       " '()()(())',\n",
       " '()()()()']"
      ]
     },
     "execution_count": 3,
     "metadata": {},
     "output_type": "execute_result"
    }
   ],
   "source": [
    "generateParenthesis(4)"
   ]
  },
  {
   "cell_type": "code",
   "execution_count": null,
   "metadata": {
    "collapsed": true
   },
   "outputs": [],
   "source": []
  },
  {
   "cell_type": "markdown",
   "metadata": {},
   "source": [
    "** Ex.10 N Queens **\n",
    "\n",
    "The n-queens puzzle is the problem of placing n queens on an n×n chessboard such that no two queens attack each other.\n",
    "\n",
    "Given an integer n, return all distinct solutions to the n-queens puzzle.\n",
    "\n",
    "Each solution contains a distinct board configuration of the n-queens' placement, where 'Q' and '.' both indicate a queen and an empty space respectively.\n",
    "\n",
    "<img src=\"../images/ch03/nqueens.png\" width=\"230\"/>"
   ]
  },
  {
   "cell_type": "code",
   "execution_count": 236,
   "metadata": {
    "collapsed": true
   },
   "outputs": [],
   "source": [
    "def solveNQueens(n):\n",
    "    res = []\n",
    "    dfs([-1]*n, 0, [], res)\n",
    "    return res\n",
    " \n",
    "# nums is a one-dimension array, like [1, 3, 0, 2] means\n",
    "# first queen is placed in column 1, second queen is placed\n",
    "# in column 3, etc.\n",
    "def dfs(nums, index, path, res):\n",
    "    if index == len(nums):\n",
    "        res.append(path)\n",
    "        return  # backtracking\n",
    "    for i in range(len(nums)):\n",
    "        nums[index] = i\n",
    "        if valid(nums, index):  # pruning\n",
    "            tmp = \".\" * len(nums)\n",
    "            dfs(nums, index+1, path + [tmp[:i]+\"Q\"+tmp[i+1:]], res)\n",
    "            \n",
    "# check whether nth queen can be placed in that column\n",
    "def valid(nums, n):\n",
    "    for i in range(n):\n",
    "        if abs(nums[i]-nums[n]) == n - i or nums[i] == nums[n]:\n",
    "            return False\n",
    "    return True"
   ]
  },
  {
   "cell_type": "code",
   "execution_count": 237,
   "metadata": {},
   "outputs": [
    {
     "data": {
      "text/plain": [
       "[['.Q..', '...Q', 'Q...', '..Q.'], ['..Q.', 'Q...', '...Q', '.Q..']]"
      ]
     },
     "execution_count": 237,
     "metadata": {},
     "output_type": "execute_result"
    }
   ],
   "source": [
    "solveNQueens(4)"
   ]
  },
  {
   "cell_type": "code",
   "execution_count": null,
   "metadata": {
    "collapsed": true
   },
   "outputs": [],
   "source": []
  }
 ],
 "metadata": {
  "kernelspec": {
   "display_name": "Python 3",
   "language": "python",
   "name": "python3"
  },
  "language_info": {
   "codemirror_mode": {
    "name": "ipython",
    "version": 3
   },
   "file_extension": ".py",
   "mimetype": "text/x-python",
   "name": "python",
   "nbconvert_exporter": "python",
   "pygments_lexer": "ipython3",
   "version": "3.6.1"
  }
 },
 "nbformat": 4,
 "nbformat_minor": 2
}
