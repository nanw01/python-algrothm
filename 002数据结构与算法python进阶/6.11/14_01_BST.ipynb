{
 "cells": [
  {
   "cell_type": "markdown",
   "metadata": {},
   "source": [
    "# Binary Search Tree #"
   ]
  },
  {
   "cell_type": "code",
   "execution_count": 5,
   "metadata": {
    "collapsed": true
   },
   "outputs": [],
   "source": [
    "class Node:\n",
    "    __slots__ = '_item' , '_left' , '_right'\n",
    "\n",
    "    def __init__ (self, item, left=None, right=None):\n",
    "        self._item = item\n",
    "        self._left = left\n",
    "        self._right = right\n",
    "\n",
    "class BinarySearchTree:\n",
    "\n",
    "    \n",
    "    def __init__ (self, root=None):\n",
    "        self._root = root\n",
    "        \n",
    "    # Get methods\n",
    "    def get(self, key):\n",
    "        return self.__get(self._root, key);\n",
    "\n",
    "    def __get(self, node, key): # helper\n",
    "        if (node is None):\n",
    "            return None\n",
    "        if (key == node._item):\n",
    "            return node._item\n",
    "        if (key < node._item):\n",
    "            return self.__get(node._left, key)\n",
    "        else:\n",
    "            return self.__get(node._right, key)\n",
    "        \n",
    "    \n",
    "    # add methods\n",
    "    def add(self, value):\n",
    "        self._root = self.__add(self._root, value)\n",
    "        \n",
    "    def __add(self, node, value): # return node ,helper\n",
    "        if (node is None):\n",
    "            return Node(value)\n",
    "        if (value == node._item):\n",
    "            pass\n",
    "        else:\n",
    "            if (value < node._item):\n",
    "                node._left = self.__add(node._left, value)\n",
    "            else:\n",
    "                node._right = self.__add(node._right, value)\n",
    "        return node \n",
    "    \n",
    "    # remove methods\n",
    "    def remove(self, key):\n",
    "        self._root = self.__remove(self._root, key)\n",
    "        \n",
    "    def __remove(self, node, key):  # helper\n",
    "        if node is None:\n",
    "            return None\n",
    "        if (key < node._item):\n",
    "            node._left = self.__remove(node._left, key)\n",
    "        elif (key > node._item):\n",
    "            node._right = self.__remove(node._right, key)\n",
    "        else:\n",
    "            if (node._left is None):\n",
    "                node = node._right  # if right is None,  node = None; case 1: no child  \n",
    "                                    # if right is not None, node = node._right; case 2: one child\n",
    "            elif (node._right is None):\n",
    "                node = node._left\n",
    "            else:\n",
    "                node._item = self.__get_max(node._left)\n",
    "                node._left = self.__remove(node._left, node._item)\n",
    "                \n",
    "        return node\n",
    "    \n",
    "    # get max/min methods\n",
    "    def get_max(self):\n",
    "        return self.__get_max(self._root)\n",
    "    \n",
    "    def __get_max(self, node): # helper\n",
    "        if (node is None):\n",
    "            return None\n",
    "        while (node._right is not None):\n",
    "            node = node._right\n",
    "        return node._item\n",
    "\n",
    "    # Traversal Methods  \n",
    "    def print_inorder(self):\n",
    "        self._print_inorder(self._root)\n",
    "        print('')\n",
    "\n",
    "    def _print_inorder(self, node):\n",
    "        if (node is None):\n",
    "            return\n",
    "        self._print_inorder(node._left)\n",
    "        print ('[', node._item, ']', end = \" \")\n",
    "        self._print_inorder(node._right)\n",
    "    \n",
    "    def print_preorder(self):\n",
    "        self._print_preorder(self._root)\n",
    "        print('')\n",
    "\n",
    "    def _print_preorder(self, node):\n",
    "        if (node is None):\n",
    "            return\n",
    "        print ('[', node._item, ']', end = \" \")\n",
    "        self._print_preorder(node._left)\n",
    "        self._print_preorder(node._right)    \n",
    "        \n",
    "    def print_postorder(self):\n",
    "        self._print_postorder(self._root)\n",
    "        print('')\n",
    "\n",
    "    def _print_postorder(self, node):\n",
    "        if (node is None):\n",
    "            return\n",
    "        self._print_postorder(node._left)\n",
    "        self._print_postorder(node._right)          \n",
    "        print ('[', node._item, ']', end = \" \")"
   ]
  },
  {
   "cell_type": "code",
   "execution_count": 6,
   "metadata": {},
   "outputs": [
    {
     "name": "stdout",
     "output_type": "stream",
     "text": [
      "[ 1 ] [ 2 ] [ 3 ] [ 4 ] [ 5 ] [ 6 ] [ 7 ] [ 8 ] [ 9 ] [ 10 ] [ 11 ] [ 12 ] [ 13 ] \n",
      "[ 1 ] [ 3 ] [ 2 ] [ 5 ] [ 4 ] [ 7 ] [ 10 ] [ 12 ] [ 11 ] [ 13 ] [ 9 ] [ 8 ] [ 6 ] \n",
      "[ 6 ] [ 4 ] [ 2 ] [ 1 ] [ 3 ] [ 5 ] [ 8 ] [ 7 ] [ 9 ] [ 13 ] [ 11 ] [ 10 ] [ 12 ] \n"
     ]
    }
   ],
   "source": [
    "bst = BinarySearchTree()\n",
    "numbers = [6, 4, 8, 7, 9, 2, 1, 3, 5, 13, 11, 10, 12]\n",
    "for i in numbers:\n",
    "    bst.add(i)\n",
    "bst.print_inorder()\n",
    "bst.print_postorder()\n",
    "bst.print_preorder()"
   ]
  },
  {
   "cell_type": "code",
   "execution_count": null,
   "metadata": {
    "collapsed": true
   },
   "outputs": [],
   "source": []
  }
 ],
 "metadata": {
  "kernelspec": {
   "display_name": "Python 3",
   "language": "python",
   "name": "python3"
  },
  "language_info": {
   "codemirror_mode": {
    "name": "ipython",
    "version": 3
   },
   "file_extension": ".py",
   "mimetype": "text/x-python",
   "name": "python",
   "nbconvert_exporter": "python",
   "pygments_lexer": "ipython3",
   "version": "3.6.1"
  }
 },
 "nbformat": 4,
 "nbformat_minor": 2
}
