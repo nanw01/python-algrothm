{
 "cells": [
  {
   "cell_type": "markdown",
   "metadata": {},
   "source": [
    "# Binary Search Tree IV #"
   ]
  },
  {
   "cell_type": "code",
   "execution_count": 2,
   "metadata": {
    "collapsed": true
   },
   "outputs": [],
   "source": [
    "from BinarySearchTree import BinarySearchTree \n",
    "from BinarySearchTree import Node"
   ]
  },
  {
   "cell_type": "markdown",
   "metadata": {},
   "source": [
    "### <a id='Ex1'>Ex.1 Path Sum </a>\n",
    "\n",
    "Given a binary tree and a sum, determine if the tree has a root-to-leaf path such that adding up all the values along the path equals the given sum.\n",
    "\n",
    "Given the below binary tree and sum = 22,\n",
    "\n",
    "return true, as there exist a root-to-leaf path 5->4->11->2 which sum is 22.\n",
    "\n",
    "<img src=\"../images/ch14/t6.png\" width=\"130\"/>"
   ]
  },
  {
   "cell_type": "code",
   "execution_count": 3,
   "metadata": {
    "collapsed": true
   },
   "outputs": [],
   "source": [
    "class AdvBST1(BinarySearchTree):\n",
    "    def hasPathSumHelper(self, node, s):\n",
    "        if not node:\n",
    "            return False\n",
    "\n",
    "        if not node._left and not node._right and node._item == s:\n",
    "            return True\n",
    "        \n",
    "        s -= node._item\n",
    "\n",
    "        return self.hasPathSumHelper(node._left, s) or self.hasPathSumHelper(node._right, s)\n",
    "    \n",
    "    def hasPathSum(self, s):\n",
    "        return self.hasPathSumHelper(self._root, s)"
   ]
  },
  {
   "cell_type": "code",
   "execution_count": 4,
   "metadata": {},
   "outputs": [
    {
     "name": "stdout",
     "output_type": "stream",
     "text": [
      "True\n",
      "False\n"
     ]
    }
   ],
   "source": [
    "bst = AdvBST1()\n",
    "numbers = [6, 4, 8, 7, 9, 2, 1, 3, 5, 13, 11, 10, 12]\n",
    "for i in numbers:\n",
    "    bst.add(i)\n",
    "\n",
    "print(bst.hasPathSum(15))\n",
    "print(bst.hasPathSum(16))"
   ]
  },
  {
   "cell_type": "code",
   "execution_count": null,
   "metadata": {
    "collapsed": true
   },
   "outputs": [],
   "source": []
  },
  {
   "cell_type": "markdown",
   "metadata": {},
   "source": [
    "### <a id='Ex1'>Ex.2 Path Sum II</a>\n",
    "\n",
    "Given a binary tree and a sum, find all root-to-leaf paths where each path's sum equals the given sum.\n",
    "\n",
    "Given the below binary tree and sum = 22,\n",
    "\n",
    "<img src=\"../images/ch14/t7.png\" width=\"130\"/>"
   ]
  },
  {
   "cell_type": "code",
   "execution_count": 5,
   "metadata": {},
   "outputs": [
    {
     "data": {
      "text/plain": [
       "[[5, 4, 11, 2], [5, 8, 4, 5]]"
      ]
     },
     "execution_count": 5,
     "metadata": {},
     "output_type": "execute_result"
    }
   ],
   "source": [
    "[\n",
    "   [5,4,11,2],\n",
    "   [5,8,4,5]\n",
    "]"
   ]
  },
  {
   "cell_type": "code",
   "execution_count": 9,
   "metadata": {
    "collapsed": true
   },
   "outputs": [],
   "source": [
    "class AdvBST2(AdvBST1):\n",
    "    def hasPathSum2Helper(self, node, s):\n",
    "        if not node:\n",
    "            return []\n",
    "        if not node._left and not node._right and s == node._item:\n",
    "            return [[node._item]]\n",
    "        tmp = self.hasPathSum2Helper(node._left, s-node._item) + self.hasPathSum2Helper(node._right, s - node._item)\n",
    "        #print(tmp)\n",
    "        return [[node._item] + i for i in tmp]\n",
    "    \n",
    "    def hasPathSum2(self, s):\n",
    "        return self.hasPathSum2Helper(self._root, s)    "
   ]
  },
  {
   "cell_type": "code",
   "execution_count": 10,
   "metadata": {},
   "outputs": [
    {
     "name": "stdout",
     "output_type": "stream",
     "text": [
      "[[6, 4, 2, 3], [6, 4, 5]]\n",
      "[]\n"
     ]
    }
   ],
   "source": [
    "bst = AdvBST2()\n",
    "numbers = [6, 4, 8, 7, 9, 2, 1, 3, 5, 13, 11, 10, 12]\n",
    "for i in numbers:\n",
    "    bst.add(i)\n",
    "\n",
    "print(bst.hasPathSum2(15))\n",
    "print(bst.hasPathSum2(16))"
   ]
  },
  {
   "cell_type": "code",
   "execution_count": 13,
   "metadata": {
    "collapsed": true
   },
   "outputs": [],
   "source": [
    "class AdvBST3(AdvBST2):\n",
    "    def hasPathSum2Helper(self, node, s):\n",
    "        if not node:\n",
    "            return []\n",
    "        res = []\n",
    "        self.dfs(node, s, [], res)\n",
    "        return res\n",
    "    \n",
    "    def dfs(self, node, s, ls, res):\n",
    "        if not node._left and not node._right and s == node._item:\n",
    "            ls.append(node._item)\n",
    "            res.append(ls)\n",
    "        if node._left:\n",
    "            self.dfs(node._left, s-node._item, ls+[node._item], res)\n",
    "        if node._right:\n",
    "            self.dfs(node._right, s-node._item, ls+[node._item], res)"
   ]
  },
  {
   "cell_type": "code",
   "execution_count": 14,
   "metadata": {},
   "outputs": [
    {
     "name": "stdout",
     "output_type": "stream",
     "text": [
      "[[6, 4, 2, 3], [6, 4, 5]]\n",
      "[]\n"
     ]
    }
   ],
   "source": [
    "bst = AdvBST3()\n",
    "numbers = [6, 4, 8, 7, 9, 2, 1, 3, 5, 13, 11, 10, 12]\n",
    "for i in numbers:\n",
    "    bst.add(i)\n",
    "\n",
    "print(bst.hasPathSum2(15))\n",
    "print(bst.hasPathSum2(16))"
   ]
  },
  {
   "cell_type": "code",
   "execution_count": null,
   "metadata": {
    "collapsed": true
   },
   "outputs": [],
   "source": []
  },
  {
   "cell_type": "markdown",
   "metadata": {},
   "source": [
    "### <a id='Ex3'>Ex.3 Path Sum III</a>\n",
    "\n",
    "You are given a binary tree in which each node contains an integer value.\n",
    "\n",
    "Find the number of paths that sum to a given value.\n",
    "\n",
    "The path does not need to start or end at the root or a leaf, but it must go downwards (traveling only from parent nodes to child nodes).\n",
    "\n",
    "<img src=\"../images/ch14/t8.png\" width=\"130\"/>"
   ]
  },
  {
   "cell_type": "code",
   "execution_count": 54,
   "metadata": {},
   "outputs": [],
   "source": [
    "class AdvBST4(AdvBST3):\n",
    "    \n",
    "    def pathSum(self, target):\n",
    "        return self.pathSumHelper(self._root, target)\n",
    "    \n",
    "    def findPaths(self, node, target):\n",
    "        if node:\n",
    "            return int(node._item == target) + \\\n",
    "                self.findPaths(node._left, target - node._item) + \\\n",
    "                self.findPaths(node._right, target - node._item)\n",
    "        return 0\n",
    "\n",
    "    def pathSumHelper(self, node, target):\n",
    "        if node:\n",
    "            return self.findPaths(node, target) + \\\n",
    "                self.pathSumHelper(node._left, target) + \\\n",
    "                self.pathSumHelper(node._right, target)\n",
    "        return 0     \n",
    "  "
   ]
  },
  {
   "cell_type": "code",
   "execution_count": 55,
   "metadata": {},
   "outputs": [
    {
     "name": "stdout",
     "output_type": "stream",
     "text": [
      "3\n"
     ]
    }
   ],
   "source": [
    "bst = AdvBST4()\n",
    "numbers = [6, 4, 8, 7, 9, 2, 1, 3, 5, 13, 11,12]\n",
    "for i in numbers:\n",
    "    bst.add(i)\n",
    "\n",
    "print(bst.pathSum(9))"
   ]
  },
  {
   "cell_type": "code",
   "execution_count": 43,
   "metadata": {},
   "outputs": [
    {
     "name": "stdout",
     "output_type": "stream",
     "text": [
      "[ 1 ] [ 2 ] [ 3 ] [ 4 ] [ 5 ] [ 6 ] [ 7 ] [ 8 ] [ 9 ] [ 11 ] [ 12 ] [ 13 ] \n"
     ]
    }
   ],
   "source": [
    "bst.print_inorder()"
   ]
  },
  {
   "cell_type": "code",
   "execution_count": null,
   "metadata": {
    "collapsed": true
   },
   "outputs": [],
   "source": []
  },
  {
   "cell_type": "markdown",
   "metadata": {},
   "source": [
    "### <a id='Ex4'>Ex.4 First Common Ancestor for Binary Search Tree  </a>\n",
    "\n",
    "Given the values of two nodes in a *binary search tree*, write a program to find the lowest common ancestor"
   ]
  },
  {
   "cell_type": "code",
   "execution_count": 63,
   "metadata": {
    "collapsed": true
   },
   "outputs": [],
   "source": [
    "class AdvBST5(AdvBST4):\n",
    "    \n",
    "    def lowestCommonAncestor(self, p, q):\n",
    "        return self.lowestCommonAncestorHelper(self._root, p, q)\n",
    "    \n",
    "    def lowestCommonAncestorHelper(self, node, p, q):\n",
    "        while node:\n",
    "            if node._item > p._item and node._item > q._item:\n",
    "                node = node._left\n",
    "            elif node._item < p._item and node._item < q._item:\n",
    "                node = node._right\n",
    "            else:\n",
    "                return node"
   ]
  },
  {
   "cell_type": "code",
   "execution_count": 65,
   "metadata": {},
   "outputs": [
    {
     "name": "stdout",
     "output_type": "stream",
     "text": [
      "4\n"
     ]
    }
   ],
   "source": [
    "bst = AdvBST5()\n",
    "numbers = [6, 4, 8, 7, 9, 2, 1, 3, 5, 13, 11, 12]\n",
    "for i in numbers:\n",
    "    bst.add(i)\n",
    "\n",
    "node1 = Node(3)\n",
    "node2 = Node(5)\n",
    "print(bst.lowestCommonAncestor(node1, node2)._item)"
   ]
  },
  {
   "cell_type": "code",
   "execution_count": 66,
   "metadata": {},
   "outputs": [
    {
     "name": "stdout",
     "output_type": "stream",
     "text": [
      "6\n"
     ]
    }
   ],
   "source": [
    "node1 = Node(12)\n",
    "node2 = Node(2)\n",
    "print(bst.lowestCommonAncestor(node1, node2)._item)"
   ]
  },
  {
   "cell_type": "code",
   "execution_count": null,
   "metadata": {
    "collapsed": true
   },
   "outputs": [],
   "source": []
  }
 ],
 "metadata": {
  "kernelspec": {
   "display_name": "Python 3",
   "language": "python",
   "name": "python3"
  },
  "language_info": {
   "codemirror_mode": {
    "name": "ipython",
    "version": 3
   },
   "file_extension": ".py",
   "mimetype": "text/x-python",
   "name": "python",
   "nbconvert_exporter": "python",
   "pygments_lexer": "ipython3",
   "version": "3.6.1"
  }
 },
 "nbformat": 4,
 "nbformat_minor": 2
}
