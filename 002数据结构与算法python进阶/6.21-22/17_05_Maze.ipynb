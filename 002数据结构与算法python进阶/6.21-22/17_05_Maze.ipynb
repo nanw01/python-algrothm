{
 "cells": [
  {
   "cell_type": "markdown",
   "metadata": {},
   "source": [
    "# Graph Maze #"
   ]
  },
  {
   "cell_type": "code",
   "execution_count": null,
   "metadata": {
    "collapsed": true
   },
   "outputs": [],
   "source": [
    "from AdjListGraph import Graph\n",
    "from AdjListGraph import Vertex"
   ]
  },
  {
   "cell_type": "markdown",
   "metadata": {
    "collapsed": true
   },
   "source": [
    "### <a id='Ex1'>Ex.1 The Maze</a>\n",
    "\n",
    "There is a ball in a maze with empty spaces and walls. The ball can go through empty spaces by rolling up, down, left or right.\n",
    "\n",
    "Given the ball's start position, the destination and the maze, determine whether the ball could stop at the destination.\n",
    "\n",
    "The maze is represented by a binary 2D array. 1 means the wall and 0 means the empty space. You may assume that the borders of the maze are all walls. The start and destination coordinates are represented by row and column indexes.\n",
    "\n",
    "\n",
    "<img src=\"../images/ch17/maze1.png\" width=\"560\"/>"
   ]
  },
  {
   "cell_type": "code",
   "execution_count": 2,
   "metadata": {
    "collapsed": true
   },
   "outputs": [],
   "source": [
    "def dfs(matrix, start, dest):\n",
    "    visited = [[False] * len(matrix[0]) for i in range(len(matrix))]\n",
    "    return dfsHelper(matrix, start, dest, visited)\n",
    "    \n",
    "def dfsHelper(matrix, start, dest, visited):\n",
    "    if matrix[start[0]][start[1]] == 1:\n",
    "        return False\n",
    "    \n",
    "    if visited[start[0]][start[1]]:\n",
    "        return False\n",
    "    if start[0] == dest[0] and start[1] == dest[1]:\n",
    "        return True\n",
    "    \n",
    "    visited[start[0]][start[1]] = True\n",
    "    \n",
    "    if (start[1] < len(matrix[0]) - 1):\n",
    "        r = (start[0], start[1] + 1)\n",
    "        if (dfsHelper(matrix, r, dest, visited)):\n",
    "            return True\n",
    "        \n",
    "    if (start[1] > 0):\n",
    "        l = (start[0], start[1] - 1)\n",
    "        if (dfsHelper(matrix, l, dest, visited)):\n",
    "            return True\n",
    "        \n",
    "    if (start[0] > 0):\n",
    "        u = (start[0] - 1, start[1])\n",
    "        if (dfsHelper(matrix, u, dest, visited)):\n",
    "            return True\n",
    "        \n",
    "    if (start[0] < len(matrix[0]) - 1):\n",
    "        d = (start[0] + 1, start[1])\n",
    "        if (dfsHelper(matrix, d, dest, visited)):\n",
    "            return True\n",
    "            \n",
    "    return False"
   ]
  },
  {
   "cell_type": "code",
   "execution_count": 3,
   "metadata": {},
   "outputs": [
    {
     "data": {
      "text/plain": [
       "False"
      ]
     },
     "execution_count": 3,
     "metadata": {},
     "output_type": "execute_result"
    }
   ],
   "source": [
    "matrix = [\n",
    "    [0, 0, 1, 0, 0],\n",
    "    [0, 0, 0, 0, 0],\n",
    "    [0, 0, 0, 1, 0],\n",
    "    [1, 1, 1, 1, 1],\n",
    "    [0, 0, 0, 0, 0]\n",
    "]\n",
    "\n",
    "start = (0, 0)\n",
    "dest  = (4, 4)\n",
    "dfs(matrix, start, dest)"
   ]
  },
  {
   "cell_type": "code",
   "execution_count": 4,
   "metadata": {},
   "outputs": [
    {
     "data": {
      "text/plain": [
       "True"
      ]
     },
     "execution_count": 4,
     "metadata": {},
     "output_type": "execute_result"
    }
   ],
   "source": [
    "matrix = [\n",
    "    [0, 0, 1, 0, 0],\n",
    "    [0, 0, 0, 0, 0],\n",
    "    [0, 0, 0, 1, 0],\n",
    "    [1, 1, 0, 1, 1],\n",
    "    [0, 0, 0, 0, 0]\n",
    "]\n",
    "\n",
    "start = (0, 0)\n",
    "dest  = (4, 4)\n",
    "dfs(matrix, start, dest)"
   ]
  },
  {
   "cell_type": "code",
   "execution_count": null,
   "metadata": {
    "collapsed": true
   },
   "outputs": [],
   "source": []
  },
  {
   "cell_type": "code",
   "execution_count": 6,
   "metadata": {
    "collapsed": true
   },
   "outputs": [],
   "source": [
    "def dfsIterative(matrix, start, dest):\n",
    "    visited = [[False] * len(matrix[0]) for i in range(len(matrix))]\n",
    "    stack = []\n",
    "    stack.append(start)\n",
    "    visited[start[0]][start[1]] = True\n",
    "    \n",
    "    idxs = [[0,1], [0,-1], [-1,0], [1,0]]\n",
    "    \n",
    "    while len(stack) != 0:\n",
    "        curr = stack.pop() # vertex\n",
    "        if (curr[0] == dest[0] and curr[1] == dest[1]):\n",
    "            return True\n",
    "\n",
    "        for idx in idxs:\n",
    "            x = curr[0] + idx[0]\n",
    "            y = curr[1] + idx[1]\n",
    "            \n",
    "            if (x < 0 or x >= len(matrix) or y < 0 or y >= len(matrix[0])):\n",
    "                continue\n",
    "            \n",
    "            if (matrix[x][y] == 1):\n",
    "                continue\n",
    "                \n",
    "            if (visited[x][y] == True):\n",
    "                continue\n",
    "            visited[x][y] = True\n",
    "            stack.append((x, y))\n",
    "            \n",
    "    return False"
   ]
  },
  {
   "cell_type": "code",
   "execution_count": 7,
   "metadata": {},
   "outputs": [
    {
     "data": {
      "text/plain": [
       "False"
      ]
     },
     "execution_count": 7,
     "metadata": {},
     "output_type": "execute_result"
    }
   ],
   "source": [
    "matrix = [\n",
    "    [0, 0, 1, 0, 0],\n",
    "    [0, 0, 0, 0, 0],\n",
    "    [0, 0, 0, 1, 0],\n",
    "    [1, 1, 1, 1, 1],\n",
    "    [0, 0, 0, 0, 0]\n",
    "]\n",
    "\n",
    "start = (0, 0)\n",
    "dest  = (4, 4)\n",
    "dfsIterative(matrix, start, dest)"
   ]
  },
  {
   "cell_type": "code",
   "execution_count": 8,
   "metadata": {},
   "outputs": [
    {
     "data": {
      "text/plain": [
       "True"
      ]
     },
     "execution_count": 8,
     "metadata": {},
     "output_type": "execute_result"
    }
   ],
   "source": [
    "matrix = [\n",
    "    [0, 0, 1, 0, 0],\n",
    "    [0, 0, 0, 0, 0],\n",
    "    [0, 0, 0, 1, 0],\n",
    "    [1, 1, 0, 1, 1],\n",
    "    [0, 0, 0, 0, 0]\n",
    "]\n",
    "\n",
    "start = (0, 0)\n",
    "dest  = (4, 4)\n",
    "dfs(matrix, start, dest)"
   ]
  },
  {
   "cell_type": "code",
   "execution_count": null,
   "metadata": {
    "collapsed": true
   },
   "outputs": [],
   "source": []
  },
  {
   "cell_type": "code",
   "execution_count": 9,
   "metadata": {
    "collapsed": true
   },
   "outputs": [],
   "source": [
    "from collections import deque\n",
    "\n",
    "def bfs(matrix, start, dest):\n",
    "    visited = [[False] * len(matrix[0]) for i in range(len(matrix))]\n",
    "    queue = deque()\n",
    "    queue.append(start)\n",
    "    visited[start[0]][start[1]] = True\n",
    "    \n",
    "    idxs = [[0,1], [0,-1], [-1,0], [1,0]]\n",
    "    \n",
    "    while len(queue) != 0:\n",
    "        curr = queue.popleft() # vertex\n",
    "        if (curr[0] == dest[0] and curr[1] == dest[1]):\n",
    "            return True\n",
    "\n",
    "        for idx in idxs:\n",
    "            x = curr[0] + idx[0]\n",
    "            y = curr[1] + idx[1]\n",
    "            \n",
    "            if (x < 0 or x >= len(matrix) or y < 0 or y >= len(matrix[0])):\n",
    "                continue\n",
    "            \n",
    "            if (matrix[x][y] == 1):\n",
    "                continue\n",
    "                \n",
    "            if (visited[x][y] == True):\n",
    "                continue\n",
    "            visited[x][y] = True\n",
    "            queue.append((x, y))\n",
    "            \n",
    "    return False"
   ]
  },
  {
   "cell_type": "code",
   "execution_count": 10,
   "metadata": {},
   "outputs": [
    {
     "data": {
      "text/plain": [
       "True"
      ]
     },
     "execution_count": 10,
     "metadata": {},
     "output_type": "execute_result"
    }
   ],
   "source": [
    "matrix = [\n",
    "    [0, 0, 1, 0, 0],\n",
    "    [0, 0, 0, 0, 0],\n",
    "    [0, 0, 0, 1, 0],\n",
    "    [1, 1, 0, 1, 1],\n",
    "    [0, 0, 0, 0, 0]\n",
    "]\n",
    "\n",
    "start = (0, 0)\n",
    "dest  = (4, 4)\n",
    "bfs(matrix, start, dest)"
   ]
  },
  {
   "cell_type": "code",
   "execution_count": 11,
   "metadata": {},
   "outputs": [
    {
     "data": {
      "text/plain": [
       "False"
      ]
     },
     "execution_count": 11,
     "metadata": {},
     "output_type": "execute_result"
    }
   ],
   "source": [
    "matrix = [\n",
    "    [0, 0, 1, 0, 0],\n",
    "    [0, 0, 0, 0, 0],\n",
    "    [0, 0, 0, 1, 0],\n",
    "    [1, 1, 1, 1, 1],\n",
    "    [0, 0, 0, 0, 0]\n",
    "]\n",
    "\n",
    "start = (0, 0)\n",
    "dest  = (4, 4)\n",
    "bfs(matrix, start, dest)"
   ]
  },
  {
   "cell_type": "code",
   "execution_count": null,
   "metadata": {
    "collapsed": true
   },
   "outputs": [],
   "source": []
  },
  {
   "cell_type": "markdown",
   "metadata": {},
   "source": [
    "### <a id='Ex2'>Ex.2 The Maze II</a>\n",
    "\n",
    "There is a ball in a maze with empty spaces and walls. The ball can go through empty spaces by rolling up, down, left or right. <font color='Red'>but it won't stop rolling until hitting a wall. When the ball stops, it could choose the next direction.</font>\n",
    "\n",
    "Given the ball's start position, the destination and the maze, determine whether the ball could stop at the destination.\n",
    "\n",
    "The maze is represented by a binary 2D array. 1 means the wall and 0 means the empty space. You may assume that the borders of the maze are all walls. The start and destination coordinates are represented by row and column indexes.\n",
    "\n",
    "<img src=\"../images/ch17/maze2.png\" width=\"640\"/>\n",
    "<img src=\"../images/ch17/maze3.png\" width=\"640\"/>"
   ]
  },
  {
   "cell_type": "code",
   "execution_count": 18,
   "metadata": {
    "collapsed": true
   },
   "outputs": [],
   "source": [
    "def dfs2(matrix, start, dest):\n",
    "    visited = [[False] * len(matrix[0]) for i in range(len(matrix))]\n",
    "    return dfsHelper2(matrix, start, dest, visited)\n",
    "    \n",
    "def dfsHelper2(matrix, start, dest, visited):\n",
    "    if matrix[start[0]][start[1]] == 1:\n",
    "        return False\n",
    "    \n",
    "    if visited[start[0]][start[1]]:\n",
    "        return False\n",
    "    if start[0] == dest[0] and start[1] == dest[1]:\n",
    "        return True\n",
    "    \n",
    "    visited[start[0]][start[1]] = True\n",
    "    \n",
    "    r = start[1] + 1\n",
    "    l = start[1] - 1\n",
    "    u = start[0] - 1\n",
    "    d = start[0] + 1\n",
    "    \n",
    "    while (r < len(matrix[0]) and matrix[start[0]][r] == 0):  ##  right\n",
    "        r += 1\n",
    "    x = (start[0], r - 1)\n",
    "    if (dfsHelper2(matrix, x, dest, visited)):\n",
    "        return True\n",
    "\n",
    "    while (l >= 0 and matrix[start[0]][l] == 0):  ##  left\n",
    "        l -= 1\n",
    "    x = (start[0], l + 1)\n",
    "    if (dfsHelper2(matrix, x, dest, visited)):\n",
    "        return True\n",
    "    \n",
    "    while (u >= 0 and matrix[u][start[1]] == 0): ##  up\n",
    "        u -= 1\n",
    "    x = (u + 1, start[1])\n",
    "    if (dfsHelper2(matrix, x, dest, visited)):\n",
    "        return True\n",
    "        \n",
    "    while (d < len(matrix) and matrix[d][start[1]] == 0): ##  down\n",
    "        d += 1\n",
    "    x = (d - 1, start[1])\n",
    "    if (dfsHelper2(matrix, x, dest, visited)):\n",
    "        return True\n",
    "            \n",
    "    return False"
   ]
  },
  {
   "cell_type": "code",
   "execution_count": 20,
   "metadata": {},
   "outputs": [
    {
     "data": {
      "text/plain": [
       "False"
      ]
     },
     "execution_count": 20,
     "metadata": {},
     "output_type": "execute_result"
    }
   ],
   "source": [
    "matrix = [\n",
    "    [0, 0, 1, 0, 0],\n",
    "    [0, 0, 0, 0, 0],\n",
    "    [0, 0, 0, 1, 0],\n",
    "    [1, 1, 0, 1, 1],\n",
    "    [0, 0, 0, 0, 0]\n",
    "]\n",
    "\n",
    "start = (0, 0)\n",
    "dest  = (3, 2)\n",
    "dfs2(matrix, start, dest)"
   ]
  },
  {
   "cell_type": "code",
   "execution_count": null,
   "metadata": {
    "collapsed": true
   },
   "outputs": [],
   "source": []
  },
  {
   "cell_type": "markdown",
   "metadata": {},
   "source": [
    "### <a id='Ex3'>Ex.3 The Maze III</a>\n",
    "\n",
    "There is a ball in a maze with empty spaces and walls. The ball can go through empty spaces by rolling up, down, left or right, but it won't stop rolling until hitting a wall. When the ball stops, it could choose the next direction.\n",
    "\n",
    "Given the ball's start position, the destination and the maze, <font color='red'>find the shortest distance for the ball to stop at the destination</font>. The distance is defined by the number of empty spaces traveled by the ball from the start position (excluded) to the destination (included). If the ball cannot stop at the destination, return -1.\n",
    "\n",
    "The maze is represented by a binary 2D array. 1 means the wall and 0 means the empty space. You may assume that the borders of the maze are all walls. The start and destination coordinates are represented by row and column indexes.\n",
    "\n",
    "<img src=\"../images/ch17/maze4.png\" width=\"640\"/>\n",
    "<img src=\"../images/ch17/maze5.png\" width=\"640\"/>"
   ]
  },
  {
   "cell_type": "code",
   "execution_count": 8,
   "metadata": {
    "collapsed": true
   },
   "outputs": [],
   "source": [
    "import heapq\n",
    "\n",
    "def shortestDistance(matrix, start, destination):\n",
    "    def neighbors(matrix, node):\n",
    "        for dir in [(-1, 0), (0, 1), (0, -1), (1, 0)]:\n",
    "            cur_node, dist = list(node), 0\n",
    "            while 0 <= cur_node[0] + dir[0] < len(matrix) and \\\n",
    "                  0 <= cur_node[1] + dir[1] < len(matrix[0]) and \\\n",
    "                  matrix[cur_node[0] + dir[0]][cur_node[1] + dir[1]] == 0:\n",
    "                cur_node[0] += dir[0]\n",
    "                cur_node[1] += dir[1]\n",
    "                dist += 1\n",
    "            yield dist, tuple(cur_node)\n",
    "\n",
    "    heap = [(0, start)]\n",
    "    visited = set()\n",
    "    while heap:\n",
    "        dist, node = heapq.heappop(heap)\n",
    "        if node in visited: continue\n",
    "        if node == destination:\n",
    "            return dist\n",
    "        visited.add(node)\n",
    "        for neighbor_dist, neighbor in neighbors(matrix, node):\n",
    "            heapq.heappush(heap, (dist + neighbor_dist, neighbor))\n",
    "\n",
    "    return -1"
   ]
  },
  {
   "cell_type": "code",
   "execution_count": 9,
   "metadata": {},
   "outputs": [
    {
     "data": {
      "text/plain": [
       "12"
      ]
     },
     "execution_count": 9,
     "metadata": {},
     "output_type": "execute_result"
    }
   ],
   "source": [
    "matrix = [\n",
    "    [0, 0, 1, 0, 0],\n",
    "    [0, 0, 0, 0, 0],\n",
    "    [0, 0, 0, 1, 0],\n",
    "    [1, 1, 0, 1, 1],\n",
    "    [0, 0, 0, 0, 0]\n",
    "]\n",
    "\n",
    "start = (0, 4)\n",
    "dest  = (4, 4)\n",
    "shortestDistance(matrix, start, dest)"
   ]
  },
  {
   "cell_type": "code",
   "execution_count": 10,
   "metadata": {},
   "outputs": [
    {
     "data": {
      "text/plain": [
       "-1"
      ]
     },
     "execution_count": 10,
     "metadata": {},
     "output_type": "execute_result"
    }
   ],
   "source": [
    "start = (0, 4)\n",
    "dest  = (3, 2)\n",
    "shortestDistance(matrix, start, dest)"
   ]
  },
  {
   "cell_type": "markdown",
   "metadata": {},
   "source": [
    "### <a id='Ex4'>Ex.4 The Maze IV</a>\n",
    "\n",
    "There is a ball in a maze with empty spaces and walls. The ball can go through empty spaces by rolling up (u), down (d), left (l) or right (r), but it won't stop rolling until hitting a wall. When the ball stops, it could choose the next direction. There is also a hole in this maze. <font color=\"red\">The ball will drop into the hole if it rolls on to the hole</font>.\n",
    "\n",
    "Given the ball position, the hole position and the maze, find out how the ball could drop into the hole by moving the shortest distance. The distance is defined by the number of empty spaces traveled by the ball from the start position (excluded) to the hole (included). Output the moving directions by using 'u', 'd', 'l' and 'r'. Since there could be several different shortest ways, you should output the lexicographically smallest way. If the ball cannot reach the hole, output \"impossible\".\n",
    "\n",
    "The maze is represented by a binary 2D array. 1 means the wall and 0 means the empty space. You may assume that the borders of the maze are all walls. The ball and the hole coordinates are represented by row and column indexes."
   ]
  },
  {
   "cell_type": "code",
   "execution_count": 38,
   "metadata": {
    "collapsed": true
   },
   "outputs": [],
   "source": [
    "import heapq\n",
    "\n",
    "def findShortestWay(maze, ball, hole):\n",
    "    dirs = {'u' : (-1, 0), 'r' : (0, 1), 'l' : (0, -1), 'd': (1, 0)}\n",
    "\n",
    "    def neighbors(maze, node):\n",
    "        for dir, vec in dirs.items():\n",
    "            cur_node, dist = list(node), 0\n",
    "            while 0 <= cur_node[0]+vec[0] < len(maze) and \\\n",
    "                  0 <= cur_node[1]+vec[1] < len(maze[0]) and \\\n",
    "                  not maze[cur_node[0]+vec[0]][cur_node[1]+vec[1]]:\n",
    "                cur_node[0] += vec[0]\n",
    "                cur_node[1] += vec[1]\n",
    "                dist += 1\n",
    "                if tuple(cur_node) == hole:\n",
    "                    break\n",
    "            yield tuple(cur_node), dir, dist\n",
    "\n",
    "    heap = [(0, '', ball)]\n",
    "    visited = set()\n",
    "    while heap:\n",
    "        dist, path, node = heapq.heappop(heap)\n",
    "        if node in visited: continue\n",
    "        if node == hole: return path\n",
    "        visited.add(node)\n",
    "        for neighbor, dir, neighbor_dist in neighbors(maze, node):\n",
    "            heapq.heappush(heap, (dist+neighbor_dist, path+dir, neighbor))\n",
    "\n",
    "    return \"impossible\""
   ]
  },
  {
   "cell_type": "code",
   "execution_count": 42,
   "metadata": {},
   "outputs": [
    {
     "data": {
      "text/plain": [
       "'drur'"
      ]
     },
     "execution_count": 42,
     "metadata": {},
     "output_type": "execute_result"
    }
   ],
   "source": [
    "matrix = [\n",
    "    [0, 0, 1, 0, 0],\n",
    "    [0, 0, 0, 0, 0],\n",
    "    [0, 0, 0, 1, 0],\n",
    "    [1, 1, 0, 1, 1],\n",
    "    [0, 0, 0, 0, 0]\n",
    "]\n",
    "\n",
    "start = (0, 0)\n",
    "dest  = (1, 4)\n",
    "findShortestWay(matrix, start, dest)"
   ]
  },
  {
   "cell_type": "code",
   "execution_count": null,
   "metadata": {
    "collapsed": true
   },
   "outputs": [],
   "source": []
  }
 ],
 "metadata": {
  "kernelspec": {
   "display_name": "Python 3",
   "language": "python",
   "name": "python3"
  },
  "language_info": {
   "codemirror_mode": {
    "name": "ipython",
    "version": 3
   },
   "file_extension": ".py",
   "mimetype": "text/x-python",
   "name": "python",
   "nbconvert_exporter": "python",
   "pygments_lexer": "ipython3",
   "version": "3.6.1"
  }
 },
 "nbformat": 4,
 "nbformat_minor": 2
}
