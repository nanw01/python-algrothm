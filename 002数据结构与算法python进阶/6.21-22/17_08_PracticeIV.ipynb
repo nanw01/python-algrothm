{
 "cells": [
  {
   "cell_type": "markdown",
   "metadata": {},
   "source": [
    "# Graph Practice IV #"
   ]
  },
  {
   "cell_type": "code",
   "execution_count": null,
   "metadata": {
    "collapsed": true
   },
   "outputs": [],
   "source": [
    "from AdjListGraph import Graph\n",
    "from AdjListGraph import Vertex"
   ]
  },
  {
   "cell_type": "markdown",
   "metadata": {},
   "source": [
    "### <a id='Ex1'>Ex.1 Accounts Merge</a>\n",
    "\n",
    "Given a list accounts, each element accounts[i] is a list of strings, where the first element accounts[i][0] is a name, and the rest of the elements are emails representing emails of the account.\n",
    "\n",
    "Now, we would like to merge these accounts. Two accounts definitely belong to the same person if there is some email that is common to both accounts. Note that even if two accounts have the same name, they may belong to different people as people could have the same name. A person can have any number of accounts initially, but all of their accounts definitely have the same name.\n",
    "\n",
    "After merging the accounts, return the accounts in the following format: the first element of each account is the name, and the rest of the elements are emails in sorted order. The accounts themselves can be returned in any order.\n",
    "\n",
    "Example 1:\n",
    "\n",
    "Input: \n"
   ]
  },
  {
   "cell_type": "code",
   "execution_count": 4,
   "metadata": {
    "collapsed": true
   },
   "outputs": [],
   "source": [
    "accounts = [\n",
    "    [\"John\", \"johnsmith@mail.com\", \"john00@mail.com\"], \n",
    "    [\"John\", \"johnnybravo@mail.com\"], \n",
    "    [\"John\", \"johnsmith@mail.com\", \"john_newyork@mail.com\"], \n",
    "    [\"Mary\", \"mary@mail.com\"]\n",
    "]\n",
    "\n",
    "Output = [\n",
    "    [\"John\", 'john00@mail.com', 'john_newyork@mail.com', 'johnsmith@mail.com'],  \n",
    "    [\"John\", \"johnnybravo@mail.com\"], \n",
    "    [\"Mary\", \"mary@mail.com\"]\n",
    "]"
   ]
  },
  {
   "cell_type": "markdown",
   "metadata": {},
   "source": [
    "Explanation: \n",
    "\n",
    "The first and third John's are the same person as they have the common email \"johnsmith@mail.com\".\n",
    "\n",
    "The second John and Mary are different people as none of their email addresses are used by other accounts.\n",
    "\n",
    "We could return these lists in any order."
   ]
  },
  {
   "cell_type": "markdown",
   "metadata": {},
   "source": [
    "** Solution **\n",
    "\n",
    "We give each account an ID, based on the index of it within the list of accounts.\n"
   ]
  },
  {
   "cell_type": "code",
   "execution_count": 1,
   "metadata": {},
   "outputs": [
    {
     "name": "stdout",
     "output_type": "stream",
     "text": [
      "\n"
     ]
    }
   ],
   "source": [
    "\n",
    "[\n",
    "[\"John\", \"johnsmith@mail.com\", \"john00@mail.com\"], # Account 0\n",
    "[\"John\", \"johnnybravo@mail.com\"], # Account 1\n",
    "[\"John\", \"johnsmith@mail.com\", \"john_newyork@mail.com\"],  # Account 2\n",
    "[\"Mary\", \"mary@mail.com\"] # Account 3\n",
    "]\n",
    "print()"
   ]
  },
  {
   "cell_type": "markdown",
   "metadata": {},
   "source": [
    "Next, build an emails_accounts_map that maps an email to a list of accounts, which can be used to track which email is linked to which account. This is essentially our graph."
   ]
  },
  {
   "cell_type": "code",
   "execution_count": 4,
   "metadata": {},
   "outputs": [
    {
     "data": {
      "text/plain": [
       "{'john00@mail.com': [0],\n",
       " 'john_newyork@mail.com': [2],\n",
       " 'johnnybravo@mail.com': [1],\n",
       " 'johnsmith@mail.com': [0, 2],\n",
       " 'mary@mail.com': [3]}"
      ]
     },
     "execution_count": 4,
     "metadata": {},
     "output_type": "execute_result"
    }
   ],
   "source": [
    "# emails_accounts_map of email to account ID\n",
    "{\n",
    "  \"johnsmith@mail.com\": [0, 2],\n",
    "  \"john00@mail.com\": [0],\n",
    "  \"johnnybravo@mail.com\": [1],\n",
    "  \"john_newyork@mail.com\": [2],\n",
    "  \"mary@mail.com\": [3]\n",
    "}\n"
   ]
  },
  {
   "cell_type": "markdown",
   "metadata": {},
   "source": [
    "Next we do a DFS on each account in accounts list and look up emails_accounts_map to tell us which accounts are linked to that particular account via common emails. This will make sure we visit each account only once. This is a recursive process and we should collect all the emails that we encounter along the way.\n",
    "\n",
    "Lastly, sort the collected emails and add it to final results, res along with the name."
   ]
  },
  {
   "cell_type": "code",
   "execution_count": 6,
   "metadata": {
    "collapsed": true
   },
   "outputs": [],
   "source": [
    "def accountsMerge(accounts):\n",
    "    from collections import defaultdict\n",
    "    visited_accounts = [False] * len(accounts)\n",
    "    emails_accounts_map = defaultdict(list)\n",
    "    res = []\n",
    "    # Build up the graph.\n",
    "    for i, account in enumerate(accounts):\n",
    "        for j in range(1, len(account)): #email starts from 2nd\n",
    "            email = account[j]\n",
    "            emails_accounts_map[email].append(i)\n",
    "            \n",
    "    print(emails_accounts_map)\n",
    "    # DFS code for traversing accounts.\n",
    "    def dfs(i, emails):\n",
    "        if visited_accounts[i]:\n",
    "            return\n",
    "        visited_accounts[i] = True\n",
    "        for j in range(1, len(accounts[i])):\n",
    "            email = accounts[i][j]\n",
    "            emails.add(email)\n",
    "            for neighbor in emails_accounts_map[email]:\n",
    "                dfs(neighbor, emails)\n",
    "    # Perform DFS for accounts and add to results.\n",
    "    for i, account in enumerate(accounts):\n",
    "        if visited_accounts[i]:\n",
    "            continue\n",
    "        name, emails = account[0], set()\n",
    "        dfs(i, emails)\n",
    "        res.append([name] + sorted(emails))\n",
    "    return res"
   ]
  },
  {
   "cell_type": "code",
   "execution_count": 7,
   "metadata": {},
   "outputs": [
    {
     "name": "stdout",
     "output_type": "stream",
     "text": [
      "defaultdict(<class 'list'>, {'johnsmith@mail.com': [0, 2], 'john00@mail.com': [0], 'johnnybravo@mail.com': [1], 'john_newyork@mail.com': [2], 'mary@mail.com': [3]})\n"
     ]
    },
    {
     "data": {
      "text/plain": [
       "[['John', 'john00@mail.com', 'john_newyork@mail.com', 'johnsmith@mail.com'],\n",
       " ['John', 'johnnybravo@mail.com'],\n",
       " ['Mary', 'mary@mail.com']]"
      ]
     },
     "execution_count": 7,
     "metadata": {},
     "output_type": "execute_result"
    }
   ],
   "source": [
    "accounts = [\n",
    "    [\"John\", \"johnsmith@mail.com\", \"john00@mail.com\"], \n",
    "    [\"John\", \"johnnybravo@mail.com\"], \n",
    "    [\"John\", \"johnsmith@mail.com\", \"john_newyork@mail.com\"], \n",
    "    [\"Mary\", \"mary@mail.com\"]\n",
    "]\n",
    "\n",
    "accountsMerge(accounts)"
   ]
  },
  {
   "cell_type": "code",
   "execution_count": null,
   "metadata": {
    "collapsed": true
   },
   "outputs": [],
   "source": []
  },
  {
   "cell_type": "markdown",
   "metadata": {},
   "source": [
    "### <a id='Ex2'>Ex.2 Word Ladder</a>\n",
    "\n",
    "Given two words (beginWord and endWord), and a dictionary's word list, find the length of shortest transformation sequence from beginWord to endWord, such that:\n",
    "\n",
    "Only one letter can be changed at a time.\n",
    "Each transformed word must exist in the word list. Note that beginWord is not a transformed word.\n",
    "For example,\n",
    "\n",
    "Given:\n",
    "\n",
    "beginWord = \"hit\"\n",
    "\n",
    "endWord = \"cog\"\n",
    "\n",
    "wordList = [\"hot\",\"dot\",\"dog\",\"lot\",\"log\",\"cog\"]\n",
    "\n",
    "As one shortest transformation is \"hit\" -> \"hot\" -> \"dot\" -> \"dog\" -> \"cog\",\n",
    "\n",
    "return its length 5."
   ]
  },
  {
   "cell_type": "code",
   "execution_count": 11,
   "metadata": {
    "collapsed": true
   },
   "outputs": [],
   "source": [
    "from collections import deque\n",
    "def ladderLength(beginWord, endWord, wordList):\n",
    "    wordSet=set(wordList)\n",
    "    wordSet.add(endWord)\n",
    "    queue = deque([[beginWord, 1]])\n",
    "    while queue:\n",
    "        word, length = queue.popleft()\n",
    "        if word == endWord:\n",
    "            return length\n",
    "        for i in range(len(word)):\n",
    "            for c in 'abcdefghijklmnopqrstuvwxyz':\n",
    "                next_word = word[:i] + c + word[i+1:]\n",
    "                if next_word in wordSet:\n",
    "                    wordSet.remove(next_word)\n",
    "                    queue.append([next_word, length + 1])\n",
    "    return 0"
   ]
  },
  {
   "cell_type": "code",
   "execution_count": 12,
   "metadata": {},
   "outputs": [
    {
     "data": {
      "text/plain": [
       "5"
      ]
     },
     "execution_count": 12,
     "metadata": {},
     "output_type": "execute_result"
    }
   ],
   "source": [
    "beginWord = \"hit\"\n",
    "endWord = \"cog\"\n",
    "wordList = [\"hot\",\"dot\",\"dog\",\"lot\",\"log\",\"cog\"]\n",
    "\n",
    "ladderLength(beginWord, endWord, wordList)"
   ]
  },
  {
   "cell_type": "code",
   "execution_count": null,
   "metadata": {
    "collapsed": true
   },
   "outputs": [],
   "source": []
  },
  {
   "cell_type": "markdown",
   "metadata": {},
   "source": [
    "### <a id='Ex3'>Ex.3 Word Ladder II</a>\n",
    "\n",
    "Given two words (beginWord and endWord), and a dictionary's word list, find all shortest transformation sequence(s) from beginWord to endWord, such that:\n",
    "\n",
    "Only one letter can be changed at a time\n",
    "Each transformed word must exist in the word list. Note that beginWord is not a transformed word.\n",
    "For example,\n",
    "\n",
    "Given:\n",
    "\n",
    "beginWord = \"hit\"\n",
    "\n",
    "endWord = \"cog\"\n",
    "\n",
    "wordList = [\"hot\",\"dot\",\"dog\",\"lot\",\"log\",\"cog\"]\n",
    "\n",
    "Returns:"
   ]
  },
  {
   "cell_type": "code",
   "execution_count": 13,
   "metadata": {},
   "outputs": [
    {
     "data": {
      "text/plain": [
       "[['hit', 'hot', 'dot', 'dog', 'cog'], ['hit', 'hot', 'lot', 'log', 'cog']]"
      ]
     },
     "execution_count": 13,
     "metadata": {},
     "output_type": "execute_result"
    }
   ],
   "source": [
    "  [\n",
    "    [\"hit\",\"hot\",\"dot\",\"dog\",\"cog\"],\n",
    "    [\"hit\",\"hot\",\"lot\",\"log\",\"cog\"]\n",
    "  ]"
   ]
  },
  {
   "cell_type": "code",
   "execution_count": 10,
   "metadata": {
    "collapsed": true
   },
   "outputs": [],
   "source": [
    "from collections import defaultdict\n",
    "import string\n",
    "def findLadders(start, end, wordList):\n",
    "    dic = set(wordList)\n",
    "    dic.add(end)\n",
    "    level = {start}\n",
    "    parents = defaultdict(set)\n",
    "    while level and end not in parents:\n",
    "        next_level = defaultdict(set)\n",
    "        for node in level:\n",
    "            for char in string.ascii_lowercase:\n",
    "                for i in range(len(start)):\n",
    "                    n = node[:i] + char + node[i+1:]\n",
    "                    if n in dic and n not in parents:\n",
    "                        next_level[n].add(node)\n",
    "        level = next_level\n",
    "        parents.update(next_level)\n",
    "    res = [[end]]\n",
    "    print(parents)\n",
    "    while res and res[0][0] != start:\n",
    "        res = [[p]+r for r in res for p in parents[r[0]]]\n",
    "    return res"
   ]
  },
  {
   "cell_type": "code",
   "execution_count": 11,
   "metadata": {},
   "outputs": [
    {
     "name": "stdout",
     "output_type": "stream",
     "text": [
      "defaultdict(<class 'set'>, {'hot': {'hit'}, 'dot': {'hot'}, 'lot': {'hot'}, 'dog': {'dot'}, 'log': {'lot'}, 'cog': {'log', 'dog'}})\n"
     ]
    },
    {
     "data": {
      "text/plain": [
       "[['hit', 'hot', 'lot', 'log', 'cog'], ['hit', 'hot', 'dot', 'dog', 'cog']]"
      ]
     },
     "execution_count": 11,
     "metadata": {},
     "output_type": "execute_result"
    }
   ],
   "source": [
    "beginWord = \"hit\"\n",
    "endWord = \"cog\"\n",
    "wordList = [\"hot\",\"dot\",\"dog\",\"lot\",\"log\",\"cog\"]\n",
    "findLadders(beginWord, endWord, wordList)"
   ]
  },
  {
   "cell_type": "code",
   "execution_count": null,
   "metadata": {
    "collapsed": true
   },
   "outputs": [],
   "source": []
  }
 ],
 "metadata": {
  "kernelspec": {
   "display_name": "Python 3",
   "language": "python",
   "name": "python3"
  },
  "language_info": {
   "codemirror_mode": {
    "name": "ipython",
    "version": 3
   },
   "file_extension": ".py",
   "mimetype": "text/x-python",
   "name": "python",
   "nbconvert_exporter": "python",
   "pygments_lexer": "ipython3",
   "version": "3.6.1"
  }
 },
 "nbformat": 4,
 "nbformat_minor": 2
}
