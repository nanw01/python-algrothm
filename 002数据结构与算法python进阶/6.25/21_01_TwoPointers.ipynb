{
 "cells": [
  {
   "cell_type": "markdown",
   "metadata": {
    "run_control": {
     "frozen": false,
     "read_only": false
    }
   },
   "source": [
    "# Two Pointers"
   ]
  },
  {
   "cell_type": "markdown",
   "metadata": {
    "run_control": {
     "frozen": false,
     "read_only": false
    }
   },
   "source": [
    "Array is one of the fundamental blocks in algorithms. Since a string is just formed by an array of characters, they are both similar. Most interview questions fall into this category. And two pointers is one of the most used techniques to solve array/string problems.\n",
    "\n",
    "** 我们已经见过的Two Pointers相关的问题：**\n",
    "\n",
    "- Linked List: Find Middle Node \n",
    "\n",
    "- Linked List: Determine Cycle \n",
    "\n",
    "- Linked List: Find Cycle Start Point\n",
    "\n",
    "- Linked List: Find kth Element From End\n",
    "\n",
    "- Merge Sort\n",
    "\n",
    "- Partition: Quick Sort, Find Kth Largest Element \n"
   ]
  },
  {
   "cell_type": "markdown",
   "metadata": {},
   "source": [
    " ### <a id='Ex0'>Ex.0 Reverse List </a>"
   ]
  },
  {
   "cell_type": "code",
   "execution_count": 70,
   "metadata": {
    "collapsed": true
   },
   "outputs": [],
   "source": [
    "def reverse(nums):\n",
    "    n = len(nums)\n",
    "    for i in range(len(nums) // 2):\n",
    "        nums[i], nums[n-1-i] = nums[n-1-i], nums[i]\n",
    "    print(nums)"
   ]
  },
  {
   "cell_type": "code",
   "execution_count": 71,
   "metadata": {},
   "outputs": [
    {
     "name": "stdout",
     "output_type": "stream",
     "text": [
      "[]\n",
      "[1]\n",
      "[2, 1]\n",
      "[3, 2, 1]\n"
     ]
    }
   ],
   "source": [
    "nums = []\n",
    "reverse(nums)\n",
    "\n",
    "nums = [1]\n",
    "reverse(nums)\n",
    "\n",
    "nums = [1,2]\n",
    "reverse(nums)\n",
    "\n",
    "nums = [1,2,3]\n",
    "reverse(nums)"
   ]
  },
  {
   "cell_type": "code",
   "execution_count": 74,
   "metadata": {
    "collapsed": true
   },
   "outputs": [],
   "source": [
    "def reverse2(nums):\n",
    "    i, j = 0, len(nums) - 1\n",
    "    while (i < j):\n",
    "        nums[i], nums[j] = nums[j], nums[i]\n",
    "        i += 1\n",
    "        j -= 1\n",
    "    print(nums)"
   ]
  },
  {
   "cell_type": "code",
   "execution_count": 75,
   "metadata": {},
   "outputs": [
    {
     "name": "stdout",
     "output_type": "stream",
     "text": [
      "[]\n",
      "[1]\n",
      "[2, 1]\n",
      "[3, 2, 1]\n"
     ]
    }
   ],
   "source": [
    "nums = []\n",
    "reverse2(nums)\n",
    "\n",
    "nums = [1]\n",
    "reverse2(nums)\n",
    "\n",
    "nums = [1,2]\n",
    "reverse2(nums)\n",
    "\n",
    "nums = [1,2,3]\n",
    "reverse2(nums)"
   ]
  },
  {
   "cell_type": "markdown",
   "metadata": {
    "run_control": {
     "frozen": false,
     "read_only": false
    }
   },
   "source": [
    "### <a id='Ex1'> Ex.1 Two Sum </a>\n",
    "Given an array of integers, find two numbers such that they add up to a specific target number."
   ]
  },
  {
   "cell_type": "code",
   "execution_count": 8,
   "metadata": {
    "collapsed": true,
    "run_control": {
     "frozen": false,
     "read_only": false
    }
   },
   "outputs": [],
   "source": [
    "def twoSum(nums, target):\n",
    "    dic = {}\n",
    "    for i, num in enumerate(nums):\n",
    "        if num in dic:\n",
    "            return [dic[num], i]\n",
    "        else:\n",
    "            dic[target - num] = i\n",
    "            \n"
   ]
  },
  {
   "cell_type": "code",
   "execution_count": null,
   "metadata": {
    "collapsed": true
   },
   "outputs": [],
   "source": [
    "def twoSum2(num, target):\n",
    "    index = []\n",
    "    numtosort = num[:]; numtosort.sort()\n",
    "    i = 0; j = len(numtosort) - 1\n",
    "    while i < j:\n",
    "        if numtosort[i] + numtosort[j] == target:\n",
    "            for k in range(0,len(num)):\n",
    "                if num[k] == numtosort[i]:\n",
    "                    index.append(k)\n",
    "                    break\n",
    "            for k in range(len(num)-1,-1,-1):\n",
    "                if num[k] == numtosort[j]:\n",
    "                    index.append(k)\n",
    "                    break\n",
    "            index.sort()\n",
    "            break\n",
    "        elif numtosort[i] + numtosort[j] < target:\n",
    "            i = i + 1\n",
    "        elif numtosort[i] + numtosort[j] > target:\n",
    "            j = j - 1\n",
    "\n",
    "    return (index[0]+1,index[1]+1)"
   ]
  },
  {
   "cell_type": "markdown",
   "metadata": {},
   "source": [
    "### <a id='Ex2'> Ex.2 Three Sum  </a>\n",
    "\n",
    "Given an array S of n integers, are there elements a, b, c in S such that a + b + c = 0? Find all unique triplets in the array which gives the sum of zero."
   ]
  },
  {
   "cell_type": "code",
   "execution_count": 1,
   "metadata": {
    "collapsed": true
   },
   "outputs": [],
   "source": [
    "def threeSum(nums):\n",
    "    res = []\n",
    "    nums.sort()\n",
    "    for i in range(len(nums)-2):\n",
    "        if i > 0 and nums[i] == nums[i-1]:\n",
    "            continue\n",
    "        l, r = i+1, len(nums)-1\n",
    "        while l < r:\n",
    "            s = nums[i] + nums[l] + nums[r]\n",
    "            if s < 0:\n",
    "                l +=1 \n",
    "            elif s > 0:\n",
    "                r -= 1\n",
    "            else:\n",
    "                res.append((nums[i], nums[l], nums[r]))\n",
    "                while l < r and nums[l] == nums[l+1]:\n",
    "                    l += 1\n",
    "                while l < r and nums[r] == nums[r-1]:\n",
    "                    r -= 1\n",
    "                l += 1; r -= 1\n",
    "    return res"
   ]
  },
  {
   "cell_type": "code",
   "execution_count": 2,
   "metadata": {},
   "outputs": [
    {
     "data": {
      "text/plain": [
       "[(-4, 2, 2), (-1, -1, 2), (-1, 0, 1)]"
      ]
     },
     "execution_count": 2,
     "metadata": {},
     "output_type": "execute_result"
    }
   ],
   "source": [
    "nums = [-1, 0, 1, 2, -1, -4, 2, -1, 2]\n",
    "threeSum(nums)"
   ]
  },
  {
   "cell_type": "code",
   "execution_count": null,
   "metadata": {
    "collapsed": true
   },
   "outputs": [],
   "source": []
  },
  {
   "cell_type": "markdown",
   "metadata": {},
   "source": [
    "### <a id='Ex3'> Ex.3 Four Sum  </a>\n",
    "\n",
    "Given an array S of n integers, are there elements a, b, c, d in S such that a + b + c + d = 0? Find all unique combinations in the array which gives the sum of zero."
   ]
  },
  {
   "cell_type": "code",
   "execution_count": 6,
   "metadata": {},
   "outputs": [],
   "source": [
    "def fourSum(num, target):\n",
    "    num.sort(); res = []\n",
    "    for i in range(len(num)):\n",
    "        if i > 0 and num[i] == num[i-1]: \n",
    "            continue \n",
    "        for j in range(i + 1 ,len (num)):\n",
    "            if j > i + 1 and num[j] == num[j-1]: \n",
    "                continue \n",
    "            l = j + 1\n",
    "            r = len(num) - 1\n",
    "            while l < r:\n",
    "                sum = num[i] + num[j] + num[l] + num[r]\n",
    "                if sum > target:\n",
    "                    r -= 1\n",
    "                elif sum < target:\n",
    "                    l += 1\n",
    "                elif l > j + 1 and num[l] == num[l-1]:\n",
    "                    l += 1\n",
    "                elif r < len(num) - 1 and num[r] == num[r+1]:\n",
    "                    r -= 1\n",
    "                else :\n",
    "                    res.append([num[i],num[j],num[l],num[r]])\n",
    "                    l += 1\n",
    "                    r -= 1\n",
    "    return res"
   ]
  },
  {
   "cell_type": "code",
   "execution_count": 7,
   "metadata": {},
   "outputs": [
    {
     "data": {
      "text/plain": [
       "[[-4, 0, 2, 2], [-1, -1, 0, 2]]"
      ]
     },
     "execution_count": 7,
     "metadata": {},
     "output_type": "execute_result"
    }
   ],
   "source": [
    "nums = [-1, 0, 1, 2, -1, -4, 2, -1, 2]\n",
    "fourSum(nums, 0)"
   ]
  },
  {
   "cell_type": "code",
   "execution_count": null,
   "metadata": {
    "collapsed": true
   },
   "outputs": [],
   "source": []
  },
  {
   "cell_type": "code",
   "execution_count": 12,
   "metadata": {},
   "outputs": [],
   "source": [
    "def fourSum2(num, target):\n",
    "    numLen, res, dict = len(num), set(), {}\n",
    "    if numLen < 4: \n",
    "        return []\n",
    "    num.sort()\n",
    "    for p in range(numLen):\n",
    "        for q in range(p+1 , numLen): \n",
    "            if num[p] + num[q] not in dict:\n",
    "                dict[num[p] + num[q]] = [(p,q)]\n",
    "            else :\n",
    "                dict[num[p] + num[q]].append((p,q))\n",
    "    for i in range(numLen):\n",
    "        for j in range(i+1, numLen-2 ):\n",
    "            T = target-num[i]- num[j]\n",
    "            if T in dict:\n",
    "                for k in dict[T]:\n",
    "                    if k[0] > j: res.add((num[i],num[j],num [k[0]],num[k[1 ]]))\n",
    "    return [list(i) for i in res]"
   ]
  },
  {
   "cell_type": "code",
   "execution_count": 13,
   "metadata": {},
   "outputs": [
    {
     "data": {
      "text/plain": [
       "[[-1, -1, 0, 2], [-4, 0, 2, 2]]"
      ]
     },
     "execution_count": 13,
     "metadata": {},
     "output_type": "execute_result"
    }
   ],
   "source": [
    "nums = [-1, 0, 1, 2, -1, -4, 2, -1, 2]\n",
    "fourSum2(nums, 0)"
   ]
  },
  {
   "cell_type": "code",
   "execution_count": null,
   "metadata": {
    "collapsed": true
   },
   "outputs": [],
   "source": []
  },
  {
   "cell_type": "markdown",
   "metadata": {},
   "source": [
    "### <a id='Ex4'> Ex.4 Merge Two Sorted Array into One </a>\n",
    "\n",
    "You are given two sorted arrays, A and B, and A has a large enough buffer at the end to hold B. Write a method to merge B into A in sorted order"
   ]
  },
  {
   "cell_type": "code",
   "execution_count": 9,
   "metadata": {
    "collapsed": true
   },
   "outputs": [],
   "source": [
    "def merge(nums1, m, nums2, n):\n",
    "    while m > 0 and n > 0:\n",
    "        if nums1[m-1] >= nums2[n-1]:\n",
    "            nums1[m+n-1] = nums1[m-1]\n",
    "            m = m - 1\n",
    "        else:\n",
    "            nums1[m+n-1] = nums2[n-1]\n",
    "            n = n - 1\n",
    "    if n > 0:\n",
    "        nums1[:n] = nums2[:n]"
   ]
  },
  {
   "cell_type": "code",
   "execution_count": 10,
   "metadata": {
    "collapsed": true
   },
   "outputs": [],
   "source": [
    "nums1 = [1,2,3,0,0,0]\n",
    "m = 3\n",
    "nums2 = [2,5,6]\n",
    "n = 3\n",
    "merge(nums1, m, nums2, n)"
   ]
  },
  {
   "cell_type": "code",
   "execution_count": 11,
   "metadata": {},
   "outputs": [
    {
     "data": {
      "text/plain": [
       "[1, 2, 2, 3, 5, 6]"
      ]
     },
     "execution_count": 11,
     "metadata": {},
     "output_type": "execute_result"
    }
   ],
   "source": [
    "nums1"
   ]
  },
  {
   "cell_type": "code",
   "execution_count": null,
   "metadata": {
    "collapsed": true
   },
   "outputs": [],
   "source": []
  },
  {
   "cell_type": "markdown",
   "metadata": {},
   "source": [
    "### <a id='Ex5'> Ex.5 Minimum Difference Between Two Sorted Arrays </a>\n",
    "\n",
    "Given two arrays sorted in ascending order, find the absolute minimum difference between any pair of elements |a-b| such that a is from one array and b is from another array."
   ]
  },
  {
   "cell_type": "code",
   "execution_count": 6,
   "metadata": {
    "collapsed": true
   },
   "outputs": [],
   "source": [
    "import sys\n",
    "def printClosest(ar1, ar2):\n",
    "    m = len(ar1)\n",
    "    n = len(ar2)\n",
    "\n",
    "    diff = sys.maxsize\n",
    "    \n",
    "    p1 = 0\n",
    "    p2 = 0\n",
    "    \n",
    "    while (p1 < m and p2 < n):\n",
    "        if abs(ar1[p1] - ar2[p2]) < diff:\n",
    "            diff = abs(ar1[p1] - ar2[p2])\n",
    "        \n",
    "        if (ar1[p1] > ar2[p2]):\n",
    "            p2 += 1\n",
    "        else:\n",
    "            p1 += 1\n",
    "\n",
    "    return diff"
   ]
  },
  {
   "cell_type": "code",
   "execution_count": null,
   "metadata": {
    "collapsed": true
   },
   "outputs": [],
   "source": []
  },
  {
   "cell_type": "markdown",
   "metadata": {},
   "source": [
    "### <a id='Ex6'> Ex. 6 Continuous Maximum Subarray </a>\n",
    "\n",
    "Given an array having N positive integers, find the contiguous subarray having sum as great as possible, but not greater than M."
   ]
  },
  {
   "cell_type": "code",
   "execution_count": 14,
   "metadata": {},
   "outputs": [
    {
     "data": {
      "text/plain": [
       "[1, 3, 6, 10, 15]"
      ]
     },
     "execution_count": 14,
     "metadata": {},
     "output_type": "execute_result"
    }
   ],
   "source": [
    "from itertools import accumulate  # since Python 3.2:\n",
    "list(accumulate([1,2,3,4,5]))"
   ]
  },
  {
   "cell_type": "code",
   "execution_count": 15,
   "metadata": {},
   "outputs": [
    {
     "data": {
      "text/plain": [
       "[0, 4, 10, 22, 23, 25, 28, 32]"
      ]
     },
     "execution_count": 15,
     "metadata": {},
     "output_type": "execute_result"
    }
   ],
   "source": [
    "from itertools import accumulate  # since Python 3.2:\n",
    "\n",
    "a = [4, 6, 12, 1, 2, 3, 4]\n",
    "b = [0]\n",
    "b = b + a\n",
    "type(b)\n",
    "b = list(accumulate(b))\n",
    "b"
   ]
  },
  {
   "cell_type": "code",
   "execution_count": 23,
   "metadata": {
    "collapsed": true
   },
   "outputs": [],
   "source": [
    "def max_subarray(numbers, ceiling):\n",
    "    \n",
    "    cum_sum = [0]\n",
    "    cum_sum = cum_sum + numbers\n",
    "    cum_sum = list(accumulate(cum_sum))\n",
    "\n",
    "    l = 0\n",
    "    r = 1 # two pointers start at tip of the array.\n",
    "    maximum = 0\n",
    "    while l < len(cum_sum):\n",
    "        while r < len(cum_sum) and cum_sum[r] - cum_sum[l] <= ceiling:\n",
    "            r += 1\n",
    "        if cum_sum[r - 1] - cum_sum[l] > maximum: # since cum_sum[0] = 0, thus r always > 0.\n",
    "            maximum = cum_sum[r - 1] - cum_sum[l]\n",
    "            pos = (l, r - 2)\n",
    "        l += 1\n",
    "    return pos"
   ]
  },
  {
   "cell_type": "code",
   "execution_count": 24,
   "metadata": {},
   "outputs": [
    {
     "data": {
      "text/plain": [
       "(2, 4)"
      ]
     },
     "execution_count": 24,
     "metadata": {},
     "output_type": "execute_result"
    }
   ],
   "source": [
    "a = [4, 7, 12, 1, 2, 3, 6]\n",
    "m = 15\n",
    "result = max_subarray(a, m)\n",
    "result"
   ]
  },
  {
   "cell_type": "code",
   "execution_count": null,
   "metadata": {
    "collapsed": true
   },
   "outputs": [],
   "source": []
  }
 ],
 "metadata": {
  "kernelspec": {
   "display_name": "Python 3",
   "language": "python",
   "name": "python3"
  },
  "language_info": {
   "codemirror_mode": {
    "name": "ipython",
    "version": 3
   },
   "file_extension": ".py",
   "mimetype": "text/x-python",
   "name": "python",
   "nbconvert_exporter": "python",
   "pygments_lexer": "ipython3",
   "version": "3.6.1"
  }
 },
 "nbformat": 4,
 "nbformat_minor": 2
}
