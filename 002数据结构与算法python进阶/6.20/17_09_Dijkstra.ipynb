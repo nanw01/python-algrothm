{
 "cells": [
  {
   "cell_type": "markdown",
   "metadata": {},
   "source": [
    "# Dijkstra Algorithm #"
   ]
  },
  {
   "cell_type": "code",
   "execution_count": 1,
   "metadata": {
    "collapsed": true
   },
   "outputs": [],
   "source": [
    "from AdjListGraph import Graph\n",
    "from AdjListGraph import Vertex"
   ]
  },
  {
   "cell_type": "code",
   "execution_count": 2,
   "metadata": {
    "collapsed": true
   },
   "outputs": [],
   "source": [
    "import heapq\n",
    "\n",
    "def shortest(v, path):\n",
    "    ''' make shortest path from v.previous'''\n",
    "    if v.previous:\n",
    "        path.append(v.previous.getVertexID())\n",
    "        shortest(v.previous, path)\n",
    "    return\n",
    "\n",
    "def dijkstra(G, source, destination):\n",
    "    print('''Dijkstra's shortest path''')\n",
    "    # Set the distance for the source node to zero \n",
    "    source.setDistance(0)\n",
    "\n",
    "    # Put tuple pair into the priority queue\n",
    "    unvisitedQueue = [(v.getDistance(), v) for v in G]\n",
    "    heapq.heapify(unvisitedQueue)\n",
    "\n",
    "    while len(unvisitedQueue):\n",
    "        # Pops a vertex with the smallest distance \n",
    "        uv = heapq.heappop(unvisitedQueue)\n",
    "        current = uv[1]\n",
    "        current.setVisited()\n",
    "\n",
    "        # for next in v.adjacent:\n",
    "        for next in current.adjacent:\n",
    "            # if visited, skip\n",
    "            if next.visited:\n",
    "                continue\n",
    "            newDist = current.getDistance() + current.getWeight(next)\n",
    "            \n",
    "            if newDist < next.getDistance():\n",
    "                next.setDistance(newDist)\n",
    "                next.setPrevious(current)\n",
    "                print('Updated : current = %s next = %s newDist = %s' \\\n",
    "                        % (current.getVertexID(), next.getVertexID(), next.getDistance()))\n",
    "            else:\n",
    "                print('Not updated : current = %s next = %s newDist = %s' \\\n",
    "                        % (current.getVertexID(), next.getVertexID(), next.getDistance()))\n",
    "\n",
    "        # Rebuild heap\n",
    "        # 1. Pop every item\n",
    "        while len(unvisitedQueue):\n",
    "            heapq.heappop(unvisitedQueue)\n",
    "        # 2. Put all vertices not visited into the queue\n",
    "        unvisitedQueue = [(v.getDistance(), v) for v in G if not v.visited]\n",
    "        heapq.heapify(unvisitedQueue)"
   ]
  },
  {
   "cell_type": "code",
   "execution_count": 3,
   "metadata": {},
   "outputs": [
    {
     "name": "stdout",
     "output_type": "stream",
     "text": [
      "( a , b,   4)\n",
      "( a , c,   1)\n",
      "( b , e,   4)\n",
      "( c , b,   2)\n",
      "( c , d,   4)\n",
      "( d , e,   4)\n"
     ]
    }
   ],
   "source": [
    "G = Graph(True)\n",
    "G.addVertex('a')\n",
    "G.addVertex('b')\n",
    "G.addVertex('c')\n",
    "G.addVertex('d')\n",
    "G.addVertex('e')\n",
    "G.addEdge('a', 'b', 4)  \n",
    "G.addEdge('a', 'c', 1)\n",
    "G.addEdge('c', 'b', 2)\n",
    "G.addEdge('b', 'e', 4)\n",
    "G.addEdge('c', 'd', 4)\n",
    "G.addEdge('d', 'e', 4)\n",
    "\n",
    "for v in G:\n",
    "    for w in v.getConnections():\n",
    "        vid = v.getVertexID()\n",
    "        wid = w.getVertexID()\n",
    "        print('( %s , %s, %3d)' % (vid, wid, v.getWeight(w)))\n"
   ]
  },
  {
   "cell_type": "code",
   "execution_count": 4,
   "metadata": {},
   "outputs": [
    {
     "name": "stdout",
     "output_type": "stream",
     "text": [
      "Dijkstra's shortest path\n",
      "Updated : current = a next = b newDist = 4\n",
      "Updated : current = a next = c newDist = 1\n",
      "Updated : current = c next = b newDist = 3\n",
      "Updated : current = c next = d newDist = 5\n",
      "Updated : current = b next = e newDist = 7\n",
      "Not updated : current = d next = e newDist = 7\n"
     ]
    }
   ],
   "source": [
    "source = G.getVertex('a')\n",
    "destination = G.getVertex('e')    \n",
    "dijkstra(G, source, destination) "
   ]
  },
  {
   "cell_type": "code",
   "execution_count": 5,
   "metadata": {},
   "outputs": [
    {
     "name": "stdout",
     "output_type": "stream",
     "text": [
      "a  to  a --> 0\n",
      "a  to  b --> 3\n",
      "a  to  c --> 1\n",
      "a  to  d --> 5\n",
      "a  to  e --> 7\n",
      "The shortest path from a to e is: ['a', 'c', 'b', 'e']\n"
     ]
    }
   ],
   "source": [
    "for v in G.vertDictionary.values():\n",
    "    print(source.getVertexID(), \" to \", v.getVertexID(), \"-->\", v.getDistance())\n",
    "\n",
    "path = [destination.getVertexID()]\n",
    "shortest(destination, path)\n",
    "print ('The shortest path from a to e is: %s' % (path[::-1]))"
   ]
  },
  {
   "cell_type": "code",
   "execution_count": null,
   "metadata": {
    "collapsed": true
   },
   "outputs": [],
   "source": []
  }
 ],
 "metadata": {
  "kernelspec": {
   "display_name": "Python 3",
   "language": "python",
   "name": "python3"
  },
  "language_info": {
   "codemirror_mode": {
    "name": "ipython",
    "version": 3
   },
   "file_extension": ".py",
   "mimetype": "text/x-python",
   "name": "python",
   "nbconvert_exporter": "python",
   "pygments_lexer": "ipython3",
   "version": "3.6.1"
  }
 },
 "nbformat": 4,
 "nbformat_minor": 2
}
