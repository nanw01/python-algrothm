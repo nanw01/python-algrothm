{
 "cells": [
  {
   "cell_type": "markdown",
   "metadata": {},
   "source": [
    "# Graph II - AdjListGraph #\n",
    "\n",
    "<img src=\"../images/ch17/listrepr.png\" width=\"640\"/>"
   ]
  },
  {
   "cell_type": "code",
   "execution_count": 1,
   "metadata": {
    "collapsed": true
   },
   "outputs": [],
   "source": [
    "import sys\n",
    "class Vertex:\n",
    "    def __init__(self, node):\n",
    "        self.id = node\n",
    "        self.adjacent = {}\n",
    "        # Set distance to infinity for all nodes\n",
    "        self.distance = sys.maxsize\n",
    "        # Mark all nodes unvisited        \n",
    "        self.visited = False  \n",
    "        # Predecessor\n",
    "        self.previous = None\n",
    "\n",
    "    def addNeighbor(self, neighbor, weight=0):\n",
    "        self.adjacent[neighbor] = weight\n",
    "\n",
    "    # returns a list \n",
    "    def getConnections(self): # neighbor keys\n",
    "        return self.adjacent.keys()  \n",
    "\n",
    "    def getVertexID(self):\n",
    "        return self.id\n",
    "\n",
    "    def getWeight(self, neighbor):\n",
    "        return self.adjacent[neighbor]\n",
    "\n",
    "    def setDistance(self, dist):\n",
    "        self.distance = dist\n",
    "\n",
    "    def getDistance(self):\n",
    "        return self.distance\n",
    "\n",
    "    def setPrevious(self, prev):\n",
    "        self.previous = prev\n",
    "\n",
    "    def setVisited(self):\n",
    "        self.visited = True\n",
    "\n",
    "    def __str__(self):\n",
    "        return str(self.id) + ' adjacent: ' + str([x.id for x in self.adjacent])\n",
    "    \n",
    "    def __lt__(self, other):\n",
    "        return self.distance < other.distance and self.id < other.id    \n",
    "\n",
    "class Graph:\n",
    "    def __init__(self, directed=False):\n",
    "        # key is string, vertex id\n",
    "        # value is Vertex\n",
    "        self.vertDictionary = {}\n",
    "        self.numVertices = 0\n",
    "        self.directed = directed\n",
    "        \n",
    "    def __iter__(self):\n",
    "        return iter(self.vertDictionary.values())\n",
    "\n",
    "    def isDirected(self):\n",
    "        return self.directed\n",
    "    \n",
    "    def vectexCount(self):\n",
    "        return self.numVertices\n",
    "\n",
    "    def addVertex(self, node):\n",
    "        self.numVertices = self.numVertices + 1\n",
    "        newVertex = Vertex(node)\n",
    "        self.vertDictionary[node] = newVertex\n",
    "        return newVertex\n",
    "\n",
    "    def getVertex(self, n):\n",
    "        if n in self.vertDictionary:\n",
    "            return self.vertDictionary[n]\n",
    "        else:\n",
    "            return None\n",
    "\n",
    "    def addEdge(self, frm, to, cost=0):\n",
    "        if frm not in self.vertDictionary:\n",
    "            self.addVertex(frm)\n",
    "        if to not in self.vertDictionary:\n",
    "            self.addVertex(to)\n",
    "\n",
    "        self.vertDictionary[frm].addNeighbor(self.vertDictionary[to], cost)\n",
    "        if not self.directed:\n",
    "            # For directed graph do not add this\n",
    "            self.vertDictionary[to].addNeighbor(self.vertDictionary[frm], cost)\n",
    "\n",
    "    def getVertices(self):\n",
    "        return self.vertDictionary.keys()\n",
    "\n",
    "    def setPrevious(self, current):\n",
    "        self.previous = current\n",
    "\n",
    "    def getPrevious(self, current):\n",
    "        return self.previous\n",
    "\n",
    "    def getEdges(self):\n",
    "        edges = []\n",
    "        for key, currentVert in self.vertDictionary.items():\n",
    "            for nbr in currentVert.getConnections():\n",
    "                currentVertID = currentVert.getVertexID()\n",
    "                nbrID = nbr.getVertexID()\n",
    "                edges.append((currentVertID, nbrID, currentVert.getWeight(nbr))) # tuple\n",
    "        return edges\n",
    "    \n",
    "    def getNeighbors(self, v):\n",
    "        vertex = self.vertDictionary[v]\n",
    "        return vertex.getConnections()"
   ]
  },
  {
   "cell_type": "code",
   "execution_count": 5,
   "metadata": {},
   "outputs": [
    {
     "name": "stdout",
     "output_type": "stream",
     "text": [
      "[('a', 'b', 1), ('a', 'c', 1), ('b', 'd', 1), ('b', 'e', 1), ('c', 'd', 1), ('c', 'e', 1), ('d', 'e', 1), ('e', 'a', 1)]\n",
      "('a', 'b', 1)\n",
      "('a', 'c', 1)\n",
      "('b', 'd', 1)\n",
      "('b', 'e', 1)\n",
      "('c', 'd', 1)\n",
      "('c', 'e', 1)\n",
      "('d', 'e', 1)\n",
      "('e', 'a', 1)\n"
     ]
    }
   ],
   "source": [
    "G = Graph(True)\n",
    "G.addVertex('a')\n",
    "G.addVertex('b')\n",
    "G.addVertex('c')\n",
    "G.addVertex('d')\n",
    "G.addVertex('e')\n",
    "G.addVertex('f')\n",
    "G.addEdge('a', 'b', 1)  \n",
    "G.addEdge('a', 'c', 1)\n",
    "G.addEdge('b', 'd', 1)\n",
    "G.addEdge('b', 'e', 1)\n",
    "G.addEdge('c', 'd', 1)\n",
    "G.addEdge('c', 'e', 1)\n",
    "G.addEdge('d', 'e', 1)\n",
    "G.addEdge('e', 'a', 1)\n",
    "print (G.getEdges())\n",
    "for k in G.getEdges():\n",
    "    print(k)"
   ]
  },
  {
   "cell_type": "code",
   "execution_count": 3,
   "metadata": {},
   "outputs": [
    {
     "name": "stdout",
     "output_type": "stream",
     "text": [
      "a corresponds to a adjacent: ['b', 'c']\n",
      "b corresponds to b adjacent: ['d', 'e']\n",
      "c corresponds to c adjacent: ['d', 'e']\n",
      "d corresponds to d adjacent: ['e']\n",
      "e corresponds to e adjacent: ['a']\n",
      "f corresponds to f adjacent: []\n"
     ]
    }
   ],
   "source": [
    "for key in G.vertDictionary:\n",
    "    print(key, 'corresponds to', G.vertDictionary[key])"
   ]
  },
  {
   "cell_type": "code",
   "execution_count": 4,
   "metadata": {},
   "outputs": [
    {
     "name": "stdout",
     "output_type": "stream",
     "text": [
      "b adjacent: ['d', 'e']\n",
      "c adjacent: ['d', 'e']\n"
     ]
    }
   ],
   "source": [
    "v = 'a'\n",
    "neighbors = G.getNeighbors(v)\n",
    "for n in neighbors:\n",
    "    print(n)"
   ]
  },
  {
   "cell_type": "code",
   "execution_count": null,
   "metadata": {
    "collapsed": true
   },
   "outputs": [],
   "source": [
    "[\n",
    "    ('a','b', 1),\n",
    "    ('a', 'c', 2),\n",
    "    ('b','d',5)\n",
    "]"
   ]
  },
  {
   "cell_type": "code",
   "execution_count": 7,
   "metadata": {
    "collapsed": true
   },
   "outputs": [],
   "source": [
    "def graphFromEdgelist(E, directed=False):\n",
    "    \"\"\"Make a graph instance based on a sequence of edge tuples.\n",
    "    Edges can be either of from (origin,destination) or\n",
    "    (origin,destination,element). Vertex set is presume to be those\n",
    "    incident to at least one edge.\n",
    "    vertex labels are assumed to be hashable.\n",
    "    \"\"\"\n",
    "    g = Graph(directed)\n",
    "    V = set()\n",
    "    for e in E:\n",
    "        V.add(e[0])\n",
    "        V.add(e[1])\n",
    "        \n",
    "    print(\"Vertex: \", V)\n",
    "\n",
    "    verts = {}  # map from vertex label to Vertex instance\n",
    "    for v in V:\n",
    "        verts[v] = g.addVertex(v)\n",
    "    print(g.vectexCount())\n",
    "\n",
    "    for e in E:\n",
    "        src = e[0]\n",
    "        dest = e[1]\n",
    "        cost = e[2] if len(e) > 2 else None\n",
    "        g.addEdge(src, dest, cost)\n",
    "    return g"
   ]
  },
  {
   "cell_type": "code",
   "execution_count": 8,
   "metadata": {},
   "outputs": [
    {
     "name": "stdout",
     "output_type": "stream",
     "text": [
      "Vertex:  {'B', 'A', 'C'}\n",
      "3\n",
      "('A', 'B', 1)\n",
      "('A', 'C', 1)\n"
     ]
    }
   ],
   "source": [
    "E2 = (\n",
    "('A','B', 1), ('A','C', 1),\n",
    ")\n",
    "graph = graphFromEdgelist(E2, True)\n",
    "for k in graph.getEdges():\n",
    "    print(k)"
   ]
  },
  {
   "cell_type": "code",
   "execution_count": 9,
   "metadata": {},
   "outputs": [
    {
     "name": "stdout",
     "output_type": "stream",
     "text": [
      "Vertex:  {'BOS', 'LAX', 'JFK', 'ORD', 'DFW', 'MIA', 'SFO'}\n",
      "7\n",
      "('LAX', 'DFW', 1235)\n",
      "('LAX', 'MIA', 2342)\n",
      "('JFK', 'BOS', 187)\n",
      "('ORD', 'BOS', 867)\n",
      "('ORD', 'JFK', 740)\n",
      "('DFW', 'ORD', 802)\n",
      "('DFW', 'MIA', 1121)\n",
      "('MIA', 'JFK', 1090)\n",
      "('MIA', 'BOS', 1258)\n",
      "('SFO', 'LAX', 337)\n",
      "('SFO', 'BOS', 2704)\n",
      "('SFO', 'ORD', 1846)\n",
      "('SFO', 'DFW', 1464)\n",
      "BOS\n",
      "LAX\n",
      "JFK\n",
      "ORD\n",
      "DFW\n",
      "MIA\n",
      "SFO\n"
     ]
    }
   ],
   "source": [
    "E = (\n",
    "('SFO', 'LAX', 337), ('SFO', 'BOS', 2704), ('SFO', 'ORD', 1846),\n",
    "('SFO', 'DFW', 1464), ('LAX', 'DFW', 1235), ('LAX', 'MIA', 2342),\n",
    "('DFW', 'ORD', 802), ('DFW', 'MIA', 1121), ('ORD', 'BOS', 867),\n",
    "('ORD', 'JFK', 740), ('MIA', 'JFK', 1090), ('MIA', 'BOS', 1258), \n",
    "('JFK', 'BOS', 187),\n",
    ")\n",
    "graph = graphFromEdgelist(E, True)\n",
    "for e in graph.getEdges():\n",
    "    print(e)\n",
    "\n",
    "for m in graph.getVertices():\n",
    "    print(m)"
   ]
  },
  {
   "cell_type": "code",
   "execution_count": null,
   "metadata": {
    "collapsed": true
   },
   "outputs": [],
   "source": []
  }
 ],
 "metadata": {
  "kernelspec": {
   "display_name": "Python 3",
   "language": "python",
   "name": "python3"
  },
  "language_info": {
   "codemirror_mode": {
    "name": "ipython",
    "version": 3
   },
   "file_extension": ".py",
   "mimetype": "text/x-python",
   "name": "python",
   "nbconvert_exporter": "python",
   "pygments_lexer": "ipython3",
   "version": "3.6.1"
  }
 },
 "nbformat": 4,
 "nbformat_minor": 2
}
