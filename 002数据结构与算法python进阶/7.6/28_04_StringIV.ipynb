{
 "cells": [
  {
   "cell_type": "markdown",
   "metadata": {
    "run_control": {
     "frozen": false,
     "read_only": false
    }
   },
   "source": [
    "# String IV\n",
    "\n",
    "## Subsequence"
   ]
  },
  {
   "cell_type": "markdown",
   "metadata": {},
   "source": [
    "### Ex.1 Longest Subsequence\n",
    "\n",
    "Given a string ‘s’ and an integer k, find other string ‘t’ such that ‘t’ is the largest subsequence of given string ‘s’ and each character of ‘t’ must occur at least k times in string s.\n",
    "\n",
    "Input : \n",
    "s = \"baaabaacba\"\n",
    "\n",
    "k = 3\n",
    "\n",
    "Output : baaabaaba"
   ]
  },
  {
   "cell_type": "code",
   "execution_count": 9,
   "metadata": {
    "collapsed": true
   },
   "outputs": [],
   "source": [
    "import collections\n",
    "\n",
    "def longestSub(s, k):\n",
    "    result = list()\n",
    "    c = collections.Counter(s)\n",
    "    for i in s:\n",
    "        if (c[i] >= k):\n",
    "            result.append(i)\n",
    "    return \"\".join(result)"
   ]
  },
  {
   "cell_type": "code",
   "execution_count": 10,
   "metadata": {},
   "outputs": [
    {
     "data": {
      "text/plain": [
       "'baaabaaba'"
      ]
     },
     "execution_count": 10,
     "metadata": {},
     "output_type": "execute_result"
    }
   ],
   "source": [
    "s = \"baaabaacba\"\n",
    "k = 3\n",
    "longestSub(s, k)"
   ]
  },
  {
   "cell_type": "code",
   "execution_count": null,
   "metadata": {
    "collapsed": true
   },
   "outputs": [],
   "source": []
  },
  {
   "cell_type": "markdown",
   "metadata": {},
   "source": [
    "### Ex.2 Check Subsequence\n",
    "\n",
    "Given two string str1, and str2. Determine whether str1 is a subsequence of str2. A subsequence is a sequence that can be derived from another sequence by deleting some elements without changing the order of the remaining elements.\n",
    "\n",
    "Input: str1 = \"AXY\", str2 = \"ADXCPY\"\n",
    "\n",
    "Output: True (str1 is a subsequence of str2)\n",
    "\n",
    "Input: str1 = \"AXY\", str2 = \"YADXCP\"\n",
    "\n",
    "Output: False (str1 is not a subsequence of str2)"
   ]
  },
  {
   "cell_type": "code",
   "execution_count": 12,
   "metadata": {
    "collapsed": true
   },
   "outputs": [],
   "source": [
    "def isSubSequence(string1, string2, m, n):\n",
    "    # Base Cases\n",
    "    if m == 0:    return True\n",
    "    if n == 0:    return False\n",
    " \n",
    "    # If last characters of two strings are matching\n",
    "    if string1[m-1] == string2[n-1]:\n",
    "        return isSubSequence(string1, string2, m-1, n-1)\n",
    " \n",
    "    # If last characters are not matching\n",
    "    return isSubSequence(string1, string2, m, n-1)"
   ]
  },
  {
   "cell_type": "code",
   "execution_count": 14,
   "metadata": {},
   "outputs": [
    {
     "data": {
      "text/plain": [
       "True"
      ]
     },
     "execution_count": 14,
     "metadata": {},
     "output_type": "execute_result"
    }
   ],
   "source": [
    "str1 = \"AXY\"\n",
    "str2 = \"ADXCPY\"\n",
    "isSubSequence(str1, str2, len(str1), len(str2))"
   ]
  },
  {
   "cell_type": "code",
   "execution_count": 15,
   "metadata": {},
   "outputs": [
    {
     "data": {
      "text/plain": [
       "False"
      ]
     },
     "execution_count": 15,
     "metadata": {},
     "output_type": "execute_result"
    }
   ],
   "source": [
    "str1 = \"AXY\"\n",
    "str2 = \"YADXCP\"\n",
    "isSubSequence(str1, str2, len(str1), len(str2))"
   ]
  },
  {
   "cell_type": "code",
   "execution_count": 30,
   "metadata": {
    "collapsed": true
   },
   "outputs": [],
   "source": [
    "def isSubSequence(str1, str2):\n",
    "    m = len(str1)\n",
    "    n = len(str2)\n",
    "    j = 0   # Index of str1\n",
    "    i = 0   # Index of str2\n",
    "    while j < m and i < n:\n",
    "        if str1[j] == str2[i]:  \n",
    "            j = j + 1\n",
    "        i = i + 1\n",
    "         \n",
    "    return j == m"
   ]
  },
  {
   "cell_type": "code",
   "execution_count": 31,
   "metadata": {},
   "outputs": [
    {
     "data": {
      "text/plain": [
       "True"
      ]
     },
     "execution_count": 31,
     "metadata": {},
     "output_type": "execute_result"
    }
   ],
   "source": [
    "str1 = \"AXY\"\n",
    "str2 = \"ADXCPY\"\n",
    "isSubSequence(str1, str2)"
   ]
  },
  {
   "cell_type": "code",
   "execution_count": 32,
   "metadata": {},
   "outputs": [
    {
     "data": {
      "text/plain": [
       "False"
      ]
     },
     "execution_count": 32,
     "metadata": {},
     "output_type": "execute_result"
    }
   ],
   "source": [
    "str1 = \"AXY\"\n",
    "str2 = \"YADXCP\"\n",
    "isSubSequence(str1, str2)"
   ]
  },
  {
   "cell_type": "code",
   "execution_count": null,
   "metadata": {
    "collapsed": true
   },
   "outputs": [],
   "source": []
  },
  {
   "cell_type": "markdown",
   "metadata": {},
   "source": [
    "### Ex.3 Longest Word in Dictionary by Deleteing Characters of Given String\n",
    "\n",
    "Giving a dictionary and a string ‘str’, find the longest string in dictionary which can be formed by deleting some characters of the given ‘str’.\n",
    "\n",
    "Examples:\n",
    "\n",
    "Input :\n",
    "\n",
    "dict = {\"ale\", \"apple\", \"monkey\", \"plea\"}   \n",
    "        \n",
    "str = \"abpcplea\"  \n",
    "\n",
    "Output : apple \n"
   ]
  },
  {
   "cell_type": "code",
   "execution_count": 35,
   "metadata": {
    "collapsed": true
   },
   "outputs": [],
   "source": [
    "def findLongestString(words, s):\n",
    "    result = \"\"\n",
    "    length = 0\n",
    "    for w in words:\n",
    "        if length < len(w) and isSubSequence(w, s):\n",
    "            result = w\n",
    "            length = len(w)\n",
    "    return result"
   ]
  },
  {
   "cell_type": "code",
   "execution_count": 36,
   "metadata": {},
   "outputs": [
    {
     "data": {
      "text/plain": [
       "'apple'"
      ]
     },
     "execution_count": 36,
     "metadata": {},
     "output_type": "execute_result"
    }
   ],
   "source": [
    "words = [\"ale\", \"apple\", \"monkey\", \"plea\"]\n",
    "s = \"abpcplea\"\n",
    "findLongestString(words, s)"
   ]
  },
  {
   "cell_type": "code",
   "execution_count": null,
   "metadata": {
    "collapsed": true
   },
   "outputs": [],
   "source": []
  },
  {
   "cell_type": "markdown",
   "metadata": {},
   "source": [
    "### Ex.4 Find Sum of Sum of All Subsequences\n",
    "\n",
    "Given an array of n integers. The task is to find the sum of sum of each of sub-sequence of the array.\n",
    "\n"
   ]
  },
  {
   "cell_type": "code",
   "execution_count": 2,
   "metadata": {},
   "outputs": [
    {
     "name": "stdout",
     "output_type": "stream",
     "text": [
      "\n"
     ]
    }
   ],
   "source": [
    "'''\n",
    "Input : arr[] = { 6, 8, 5 }\n",
    "Output : 76\n",
    "All subsequence sum are:\n",
    "{ 6 }, sum = 6\n",
    "{ 8 }, sum = 7\n",
    "{ 5 }, sum = 6\n",
    "{ 6, 8 }, sum = 14\n",
    "{ 6, 5 }, sum = 11\n",
    "{ 8, 5 }, sum = 13\n",
    "{ 6, 8, 5 }, sum = 19\n",
    "Total sum = 76.\n",
    "\n",
    "'''\n",
    "print()"
   ]
  },
  {
   "cell_type": "code",
   "execution_count": 3,
   "metadata": {
    "collapsed": true
   },
   "outputs": [],
   "source": [
    "def sumSub(arr):\n",
    "    ans = sum(arr)\n",
    "    return ans * pow(2, len(arr) - 1)"
   ]
  },
  {
   "cell_type": "code",
   "execution_count": 6,
   "metadata": {},
   "outputs": [
    {
     "name": "stdout",
     "output_type": "stream",
     "text": [
      "76\n"
     ]
    }
   ],
   "source": [
    "arr = [5, 6, 8]\n",
    "print(sumSub(arr))"
   ]
  },
  {
   "cell_type": "code",
   "execution_count": null,
   "metadata": {
    "collapsed": true
   },
   "outputs": [],
   "source": []
  }
 ],
 "metadata": {
  "kernelspec": {
   "display_name": "Python 3",
   "language": "python",
   "name": "python3"
  },
  "language_info": {
   "codemirror_mode": {
    "name": "ipython",
    "version": 3
   },
   "file_extension": ".py",
   "mimetype": "text/x-python",
   "name": "python",
   "nbconvert_exporter": "python",
   "pygments_lexer": "ipython3",
   "version": "3.6.1"
  }
 },
 "nbformat": 4,
 "nbformat_minor": 2
}
