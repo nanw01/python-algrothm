{
 "cells": [
  {
   "cell_type": "markdown",
   "metadata": {},
   "source": [
    "# Linked List #"
   ]
  },
  {
   "cell_type": "code",
   "execution_count": 6,
   "metadata": {
    "collapsed": true
   },
   "outputs": [],
   "source": [
    "from LinkedList import LinkedList\n",
    "from LinkedList import Node"
   ]
  },
  {
   "attachments": {},
   "cell_type": "markdown",
   "metadata": {},
   "source": [
    "In this lecture, you will learn:\n",
    "\n",
    "<a href='#Ex1'>Ex.1 Delete Node</a>\n",
    "\n",
    "<a href='#Ex2'>Ex.2 Find the Middle Node</a>\n",
    "\n",
    "<a href='#Ex3'>Ex.3 Has Cycle</a>\n",
    "\n",
    "<a href='#Ex4'>Ex.4 Beginning of Loop</a>\n",
    "\n",
    "<a href='#Ex5'>Ex.5 Remove Nth to Last</a>\n",
    "\n",
    "<a href='#Ex6'>Ex.6 Split in Half</a>"
   ]
  },
  {
   "cell_type": "code",
   "execution_count": null,
   "metadata": {
    "collapsed": true
   },
   "outputs": [],
   "source": []
  },
  {
   "cell_type": "markdown",
   "metadata": {
    "collapsed": true
   },
   "source": [
    "### <a id='Ex1'>Ex.1 Delete Node </a>\n",
    "\n",
    "Delete Node in Linked List: except the tail, given only access to that node."
   ]
  },
  {
   "cell_type": "code",
   "execution_count": 2,
   "metadata": {
    "collapsed": true
   },
   "outputs": [],
   "source": [
    "def delete_node(node):\n",
    "    print(node.value)\n",
    "    node.value = node.next.value\n",
    "    node.next = node.next.next"
   ]
  },
  {
   "cell_type": "code",
   "execution_count": 3,
   "metadata": {},
   "outputs": [
    {
     "name": "stdout",
     "output_type": "stream",
     "text": [
      "1 2 3 4 \n",
      "2\n",
      "1 3 4 \n"
     ]
    }
   ],
   "source": [
    "lst = LinkedList()\n",
    "lst.add_last(1)\n",
    "lst.add_last(2)\n",
    "lst.add_last(3)\n",
    "lst.add_last(4)\n",
    "lst.printlist()\n",
    "delete_node(lst.head.next.next)\n",
    "lst.printlist()\n"
   ]
  },
  {
   "cell_type": "code",
   "execution_count": null,
   "metadata": {
    "collapsed": true
   },
   "outputs": [],
   "source": []
  },
  {
   "cell_type": "markdown",
   "metadata": {},
   "source": [
    "### <a id='Ex2'>Ex.2 Find the Middle Node</a>"
   ]
  },
  {
   "cell_type": "code",
   "execution_count": 4,
   "metadata": {
    "collapsed": true
   },
   "outputs": [],
   "source": [
    "def find_middle(lst):\n",
    "    assert lst.head is not None and lst.head.next is not None\n",
    "    \n",
    "    head = lst.head\n",
    "    fast = head\n",
    "    slow = head\n",
    "    \n",
    "    while fast is not None and fast.next is not None:\n",
    "        fast = fast.next.next\n",
    "        slow = slow.next\n",
    "    \n",
    "    return slow.value"
   ]
  },
  {
   "cell_type": "code",
   "execution_count": 5,
   "metadata": {},
   "outputs": [
    {
     "name": "stdout",
     "output_type": "stream",
     "text": [
      "1\n",
      "2\n",
      "3\n"
     ]
    }
   ],
   "source": [
    "lst = LinkedList()\n",
    "#find_middle(lst)\n",
    "lst.add_last(1)\n",
    "print(find_middle(lst))\n",
    "lst.add_last(2)\n",
    "lst.add_last(3)\n",
    "lst.add_last(4)\n",
    "print(find_middle(lst))\n",
    "\n",
    "lst.add_last(5)\n",
    "print(find_middle(lst))\n"
   ]
  },
  {
   "cell_type": "markdown",
   "metadata": {},
   "source": [
    "### <a id='Ex3'>Ex.3 Has Cycle </a>\n",
    "\n",
    "Determine whether a linked list has cycle"
   ]
  },
  {
   "cell_type": "code",
   "execution_count": 6,
   "metadata": {
    "collapsed": true
   },
   "outputs": [],
   "source": [
    "def has_cycle(lst):\n",
    "    return has_cycle_helper(lst.head)\n",
    "\n",
    "def has_cycle_helper(head):\n",
    "    if head is None:\n",
    "        return False\n",
    "    \n",
    "    slow = head \n",
    "    fast = head\n",
    "    \n",
    "    while fast is not None and fast.next is not None:\n",
    "        fast = fast.next.next\n",
    "        slow = slow.next\n",
    "        \n",
    "        if slow==fast:\n",
    "            return True\n",
    "        \n",
    "    return False"
   ]
  },
  {
   "cell_type": "code",
   "execution_count": 7,
   "metadata": {},
   "outputs": [
    {
     "name": "stdout",
     "output_type": "stream",
     "text": [
      "False\n",
      "False\n",
      "True\n"
     ]
    }
   ],
   "source": [
    "node1 = Node(1)\n",
    "print(has_cycle_helper(node1))\n",
    "node2 = Node(2)\n",
    "node3 = Node(3)\n",
    "node1.next = node2\n",
    "node2.next = node3\n",
    "print(has_cycle_helper(node1))\n",
    "node3.next = node1\n",
    "print(has_cycle_helper(node1))"
   ]
  },
  {
   "cell_type": "markdown",
   "metadata": {},
   "source": [
    "### <a id='Ex4'>Ex.4 Beginning of Loop </a>\n",
    "\n",
    "Given a circular linked list, find the node at the beginning of the loop."
   ]
  },
  {
   "cell_type": "code",
   "execution_count": 8,
   "metadata": {
    "collapsed": true
   },
   "outputs": [],
   "source": [
    "def find_beginning(head):\n",
    "    if head is None:\n",
    "        return None\n",
    "    \n",
    "    slow = head\n",
    "    fast = head\n",
    "    \n",
    "    while fast is not None and fast.next is not None:\n",
    "        fast = fast.next.next\n",
    "        slow = slow.next\n",
    "        \n",
    "        if slow==fast:\n",
    "            fast = head\n",
    "            break\n",
    "        \n",
    "    if fast is None or fast.next is None:\n",
    "        return None\n",
    "    \n",
    "    while fast != slow:\n",
    "        fast = fast.next\n",
    "        slow = slow.next\n",
    "\n",
    "    return slow"
   ]
  },
  {
   "cell_type": "code",
   "execution_count": 9,
   "metadata": {},
   "outputs": [
    {
     "name": "stdout",
     "output_type": "stream",
     "text": [
      "1\n",
      "2\n",
      "3\n",
      "2\n"
     ]
    }
   ],
   "source": [
    "node1 = Node(1)\n",
    "node2 = Node(2)\n",
    "node3 = Node(3)\n",
    "node1.next = node2\n",
    "node2.next = node3\n",
    "node3.next = node1\n",
    "print(find_beginning(node1).value)\n",
    "node3.next = node2\n",
    "print(find_beginning(node1).value)\n",
    "node3.next = node3\n",
    "print(find_beginning(node1).value)\n",
    "node4 = Node(4)\n",
    "node3.next = node4\n",
    "node4.next = node2\n",
    "print(find_beginning(node1).value)"
   ]
  },
  {
   "cell_type": "markdown",
   "metadata": {},
   "source": [
    "### <a id='Ex5'>Ex.5 Remove Nth to Last</a>\n",
    "\n",
    "Remove the nth to last element of a singly linked list"
   ]
  },
  {
   "cell_type": "code",
   "execution_count": 10,
   "metadata": {
    "collapsed": true
   },
   "outputs": [],
   "source": [
    "def remove_nth(lst, n):\n",
    "    assert n<=lst.length and n > 0\n",
    "    \n",
    "    fast = lst.head\n",
    "    while n>0:\n",
    "        fast = fast.next\n",
    "        n = n - 1\n",
    "        \n",
    "    slow = lst.head\n",
    "    while fast.next is not None:\n",
    "        fast = fast.next\n",
    "        slow = slow.next\n",
    "        \n",
    "    result = slow.next\n",
    "    slow.next = slow.next.next\n",
    "    \n",
    "    lst.length = lst.length - 1\n",
    "        \n",
    "    return result"
   ]
  },
  {
   "cell_type": "code",
   "execution_count": 11,
   "metadata": {},
   "outputs": [
    {
     "name": "stdout",
     "output_type": "stream",
     "text": [
      "5\n",
      "1 3 7 9 \n"
     ]
    }
   ],
   "source": [
    "lst = LinkedList()\n",
    "lst.add_last(1)\n",
    "lst.add_last(3)\n",
    "lst.add_last(5)\n",
    "lst.add_last(7)\n",
    "lst.add_last(9)\n",
    "print(remove_nth(lst, 3).value)\n",
    "lst.printlist()"
   ]
  },
  {
   "cell_type": "markdown",
   "metadata": {},
   "source": [
    "### <a id='Ex6'>Ex.6 Split in Half</a>\n",
    "\n",
    "Give a list, split in into two lists, one for the front half, and one for the back half."
   ]
  },
  {
   "cell_type": "code",
   "execution_count": 34,
   "metadata": {
    "collapsed": true
   },
   "outputs": [],
   "source": [
    "def split(head):\n",
    "    if (head is None):\n",
    "        return\n",
    "    slow = head\n",
    "    fast = head\n",
    "    front_last_node = slow\n",
    "    while (fast is not None):\n",
    "        front_last_node = slow\n",
    "        slow = slow.next\n",
    "        fast = fast.next.next if fast.next is not None else None\n",
    "    front_last_node.next = None\n",
    "    front = head\n",
    "    back = slow\n",
    "    return (front, back)\n",
    "    "
   ]
  },
  {
   "cell_type": "code",
   "execution_count": 13,
   "metadata": {},
   "outputs": [
    {
     "name": "stdout",
     "output_type": "stream",
     "text": [
      "1 2 3 \n",
      "4 5 \n"
     ]
    }
   ],
   "source": [
    "node1 = Node(1)\n",
    "node2 = Node(2)\n",
    "node3 = Node(3)\n",
    "node4 = Node(4)\n",
    "node5 = Node(5)\n",
    "node1.next = node2\n",
    "node2.next = node3\n",
    "node3.next = node4\n",
    "node4.next = node5\n",
    "front_node = Node()\n",
    "back_node = Node()\n",
    "\n",
    "front_node, back_node = split(node1)\n",
    "front = LinkedList()\n",
    "front.head.next = front_node\n",
    "front.printlist()\n",
    "\n",
    "back = LinkedList()\n",
    "back.head.next = back_node\n",
    "back.printlist()\n"
   ]
  },
  {
   "cell_type": "code",
   "execution_count": null,
   "metadata": {
    "collapsed": true
   },
   "outputs": [],
   "source": []
  },
  {
   "cell_type": "markdown",
   "metadata": {},
   "source": [
    "### <a id='summary'>Summary: Runner Technique</a>\n",
    "See anything in common? These questions are ALL used several pointers, sometime, we call them fast and slow; sometime, one pointer goes first. We call this <font color=red>runner techinque</font>, (or two pointers). The idea behind the runner technique is simple; use two pointers that either move at different speeds or are a set distance apart and iterate through a list.\n",
    "\n",
    "Why is this so useful? In many linked list problems you need to know the position of a certain element or the overall length of the list. Given that you don’t always have the length of the list you are working on, the runner technique is an elegant way to solve these type of problems (and in some cases it’s the only solution). "
   ]
  },
  {
   "cell_type": "code",
   "execution_count": null,
   "metadata": {
    "collapsed": true
   },
   "outputs": [],
   "source": []
  }
 ],
 "metadata": {
  "kernelspec": {
   "display_name": "Python 3",
   "language": "python",
   "name": "python3"
  },
  "language_info": {
   "codemirror_mode": {
    "name": "ipython",
    "version": 3
   },
   "file_extension": ".py",
   "mimetype": "text/x-python",
   "name": "python",
   "nbconvert_exporter": "python",
   "pygments_lexer": "ipython3",
   "version": "3.6.1"
  }
 },
 "nbformat": 4,
 "nbformat_minor": 2
}
