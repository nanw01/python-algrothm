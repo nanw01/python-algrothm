{
 "cells": [
  {
   "cell_type": "markdown",
   "metadata": {},
   "source": [
    "# Python Dictionary #"
   ]
  },
  {
   "cell_type": "code",
   "execution_count": 14,
   "metadata": {},
   "outputs": [
    {
     "name": "stdout",
     "output_type": "stream",
     "text": [
      "Name:  Alice\n",
      "Age:  7\n",
      "{'Name': 'Alice', 'Age': 7, 'Class': 'First'}\n"
     ]
    }
   ],
   "source": [
    "dict = {'Name': 'Alice', 'Age': 7, 'Class': 'First'}\n",
    "\n",
    "print (\"Name: \", dict['Name'])\n",
    "print (\"Age: \", dict['Age'])\n",
    "print(dict)\n"
   ]
  },
  {
   "cell_type": "code",
   "execution_count": 15,
   "metadata": {
    "collapsed": true
   },
   "outputs": [],
   "source": [
    "#KeyError: 'Sex'\n",
    "#print (\"Sex: \", dict['Sex'])\n"
   ]
  },
  {
   "cell_type": "code",
   "execution_count": 16,
   "metadata": {},
   "outputs": [
    {
     "name": "stdout",
     "output_type": "stream",
     "text": [
      "\n",
      "Updating Dictionary\n",
      "Name:  Alice\n",
      "Age:  8\n",
      "Sex:  F\n",
      "{'Name': 'Alice', 'Age': 8, 'Class': 'First', 'Sex': 'F', 'School': 'Elementary School'}\n"
     ]
    }
   ],
   "source": [
    "print(\"\\nUpdating Dictionary\")\n",
    "dict['Age'] = 8; # update existing entry\n",
    "dict['Sex'] = 'F'; # update existing entry\n",
    "dict['School'] = \"Elementary School\"; # Add new entry\n",
    "print (\"Name: \", dict['Name'])\n",
    "print (\"Age: \", dict['Age'])\n",
    "print (\"Sex: \", dict['Sex'])\n",
    "print(dict)"
   ]
  },
  {
   "cell_type": "code",
   "execution_count": 17,
   "metadata": {},
   "outputs": [
    {
     "name": "stdout",
     "output_type": "stream",
     "text": [
      "\n",
      "Delete Dictionary Elements\n",
      "{'Age': 8, 'Class': 'First', 'Sex': 'F', 'School': 'Elementary School'}\n",
      "{}\n",
      "<class 'dict'>\n"
     ]
    }
   ],
   "source": [
    "print(\"\\nDelete Dictionary Elements\")\n",
    "del dict['Name'] # remove entry with key 'Name'\n",
    "print(dict)\n",
    "# KeyError: 'Name'\n",
    "# print (\"Name: \", dict['Name'])\n",
    "dict.clear();     # remove all entries in dict\n",
    "print(dict)\n",
    "# KeyError: 'Sex'\n",
    "#print (\"Sex: \", dict['Sex'])\n",
    "del dict ;        # delete entire dictionary\n",
    "print(dict)"
   ]
  },
  {
   "cell_type": "code",
   "execution_count": 18,
   "metadata": {},
   "outputs": [
    {
     "name": "stdout",
     "output_type": "stream",
     "text": [
      "\n",
      "Properties of Dictionary Keys\n",
      "\n",
      "  1. More than one entry per key not allowed\n",
      "{'Name': 'Alice', 'Age': 8, 'Class': 'First'}\n",
      "\n",
      "  2. Keys must be immutable\n"
     ]
    },
    {
     "ename": "TypeError",
     "evalue": "unhashable type: 'list'",
     "output_type": "error",
     "traceback": [
      "\u001b[1;31m---------------------------------------------------------------------------\u001b[0m",
      "\u001b[1;31mTypeError\u001b[0m                                 Traceback (most recent call last)",
      "\u001b[1;32m<ipython-input-18-7a732b4ad33b>\u001b[0m in \u001b[0;36m<module>\u001b[1;34m()\u001b[0m\n\u001b[0;32m      6\u001b[0m \u001b[0mprint\u001b[0m\u001b[1;33m(\u001b[0m\u001b[1;34m\"\\n  2. Keys must be immutable\"\u001b[0m\u001b[1;33m)\u001b[0m\u001b[1;33m\u001b[0m\u001b[0m\n\u001b[0;32m      7\u001b[0m \u001b[1;31m# TypeError: unhashable type: 'list'\u001b[0m\u001b[1;33m\u001b[0m\u001b[1;33m\u001b[0m\u001b[0m\n\u001b[1;32m----> 8\u001b[1;33m \u001b[0mdict\u001b[0m \u001b[1;33m=\u001b[0m \u001b[1;33m{\u001b[0m\u001b[1;33m[\u001b[0m\u001b[1;34m'Name'\u001b[0m\u001b[1;33m]\u001b[0m\u001b[1;33m:\u001b[0m \u001b[1;34m'Zara'\u001b[0m\u001b[1;33m,\u001b[0m \u001b[1;34m'Age'\u001b[0m\u001b[1;33m:\u001b[0m \u001b[1;36m7\u001b[0m\u001b[1;33m}\u001b[0m\u001b[1;33m\u001b[0m\u001b[0m\n\u001b[0m\u001b[0;32m      9\u001b[0m \u001b[0mprint\u001b[0m \u001b[1;33m(\u001b[0m\u001b[1;34m\"dict['Name']: \"\u001b[0m\u001b[1;33m,\u001b[0m \u001b[0mdict\u001b[0m\u001b[1;33m[\u001b[0m\u001b[1;34m'Name'\u001b[0m\u001b[1;33m]\u001b[0m\u001b[1;33m)\u001b[0m\u001b[1;33m\u001b[0m\u001b[0m\n",
      "\u001b[1;31mTypeError\u001b[0m: unhashable type: 'list'"
     ]
    }
   ],
   "source": [
    "print(\"\\nProperties of Dictionary Keys\")\n",
    "print(\"\\n  1. More than one entry per key not allowed\")\n",
    "dict = {'Name': 'Alice', 'Age': 7, 'Class': 'First', 'Age': 8}\n",
    "print(dict)\n",
    "\n",
    "print(\"\\n  2. Keys must be immutable\")\n",
    "# TypeError: unhashable type: 'list'\n",
    "dict = {['Name']: 'Zara', 'Age': 7}\n",
    "print (\"dict['Name']: \", dict['Name'])"
   ]
  },
  {
   "cell_type": "code",
   "execution_count": 19,
   "metadata": {
    "collapsed": true
   },
   "outputs": [],
   "source": [
    "a = \"abc\"\n",
    "b = \"xyz\"\n",
    "\n",
    "dict[a] = 123\n",
    "dict[b] = 456"
   ]
  },
  {
   "cell_type": "code",
   "execution_count": null,
   "metadata": {
    "collapsed": true
   },
   "outputs": [],
   "source": []
  },
  {
   "cell_type": "markdown",
   "metadata": {},
   "source": [
    "# My Own Dictionary #\n",
    "\n",
    "<img src=\"../images/ch11/class.png\" width=\"760\"/>"
   ]
  },
  {
   "cell_type": "code",
   "execution_count": null,
   "metadata": {
    "collapsed": true
   },
   "outputs": [],
   "source": []
  },
  {
   "cell_type": "code",
   "execution_count": null,
   "metadata": {
    "collapsed": true
   },
   "outputs": [],
   "source": []
  }
 ],
 "metadata": {
  "kernelspec": {
   "display_name": "Python 3",
   "language": "python",
   "name": "python3"
  },
  "language_info": {
   "codemirror_mode": {
    "name": "ipython",
    "version": 3
   },
   "file_extension": ".py",
   "mimetype": "text/x-python",
   "name": "python",
   "nbconvert_exporter": "python",
   "pygments_lexer": "ipython3",
   "version": "3.6.1"
  }
 },
 "nbformat": 4,
 "nbformat_minor": 2
}
