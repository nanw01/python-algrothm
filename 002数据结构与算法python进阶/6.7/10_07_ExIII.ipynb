{
 "cells": [
  {
   "cell_type": "markdown",
   "metadata": {},
   "source": [
    "# Stack and Queue III #"
   ]
  },
  {
   "cell_type": "code",
   "execution_count": 6,
   "metadata": {
    "collapsed": true
   },
   "outputs": [],
   "source": [
    "from LinkedList import LinkedList\n",
    "from LinkedList import Node\n",
    "from ArrayStack import ArrayStack"
   ]
  },
  {
   "cell_type": "code",
   "execution_count": null,
   "metadata": {
    "collapsed": true
   },
   "outputs": [],
   "source": []
  },
  {
   "cell_type": "markdown",
   "metadata": {},
   "source": [
    "### Ex.1 Next Greater Element\n",
    "\n",
    "Given an array, print the Next Greater Element for every element. The Next greater Element for an element x is the first greater element on the right side of x in array. Elements for which no greater element exist, consider next greater element as -1."
   ]
  },
  {
   "cell_type": "code",
   "execution_count": 7,
   "metadata": {
    "collapsed": true
   },
   "outputs": [],
   "source": [
    "def nextGreat(nums):\n",
    "    if len(nums) == 0:\n",
    "        return\n",
    "    stack = []\n",
    "    stack.append(nums[0])\n",
    "    \n",
    "    for i in range(1, len(nums)):\n",
    "        while (len(stack) != 0 and nums[i] > stack[-1]):\n",
    "            num = stack.pop()\n",
    "            print(num, \": \", array[i])\n",
    "        stack.append(nums[i])\n",
    "        \n",
    "    while len(stack) != 0:\n",
    "        print(stack.pop(), \": -1\")"
   ]
  },
  {
   "cell_type": "code",
   "execution_count": 8,
   "metadata": {},
   "outputs": [
    {
     "name": "stdout",
     "output_type": "stream",
     "text": [
      "4 :  5\n",
      "2 :  25\n",
      "5 :  25\n",
      "6 :  25\n",
      "25 : -1\n"
     ]
    }
   ],
   "source": [
    "array = [6, 4, 5, 2, 25]\n",
    "nextGreat(array)"
   ]
  },
  {
   "cell_type": "code",
   "execution_count": null,
   "metadata": {
    "collapsed": true
   },
   "outputs": [],
   "source": []
  },
  {
   "cell_type": "markdown",
   "metadata": {},
   "source": [
    "### Ex.2 Next Greater Element II\n",
    "\n",
    "Given a circular array (the next element of the last element is the first element of the array), print the Next Greater Number for every element. The Next Greater Number of a number x is the first greater number to its traversing-order next in the array, which means you could search circularly to find its next greater number. If it doesn't exist, output -1 for this number.\n",
    "\n",
    "Example 1:\n",
    "\n",
    "Input: [1,2,1]\n",
    "\n",
    "Output: [2,-1,2]\n",
    "\n",
    "Explanation:\n",
    "\n",
    "The first 1's next greater number is 2; \n",
    "\n",
    "The number 2 can't find next greater number; \n",
    "\n",
    "The second 1's next greater number needs to search circularly, which is also 2."
   ]
  },
  {
   "cell_type": "code",
   "execution_count": 9,
   "metadata": {
    "collapsed": true
   },
   "outputs": [],
   "source": [
    "def nextGreat2(nums):\n",
    "    stack, r = [], [-1] * len(nums)\n",
    "    for i in range(len(nums)):\n",
    "        while stack and (nums[stack[-1]] < nums[i]):\n",
    "            r[stack.pop()] = nums[i]\n",
    "        stack.append(i)\n",
    "    print(r)\n",
    "    for i in range(len(nums)):\n",
    "        while stack and (nums[stack[-1]] < nums[i]):\n",
    "            r[stack.pop()] = nums[i]\n",
    "        if stack == []:\n",
    "            break\n",
    "    return r"
   ]
  },
  {
   "cell_type": "code",
   "execution_count": 10,
   "metadata": {},
   "outputs": [
    {
     "name": "stdout",
     "output_type": "stream",
     "text": [
      "[-1, 25, 5, 25, 25, -1]\n"
     ]
    },
    {
     "data": {
      "text/plain": [
       "[-1, 25, 5, 25, 25, 37]"
      ]
     },
     "execution_count": 10,
     "metadata": {},
     "output_type": "execute_result"
    }
   ],
   "source": [
    "array = [37, 6, 4, 5, 2, 25]\n",
    "nextGreat2(array)"
   ]
  },
  {
   "cell_type": "code",
   "execution_count": null,
   "metadata": {
    "collapsed": true
   },
   "outputs": [],
   "source": []
  },
  {
   "cell_type": "markdown",
   "metadata": {},
   "source": [
    "### Ex.3 Daily Temperatures\n",
    "\n",
    "Given a list of daily temperatures, produce a list that, for each day in the input, tells you how many days you would have to wait until a warmer temperature. If there is no future day for which this is possible, put 0 instead.\n",
    "\n",
    "For example, given the list temperatures = [73, 74, 75, 71, 69, 72, 76, 73], your output should be [1, 1, 4, 2, 1, 1, 0, 0].\n",
    "\n",
    "Note: The length of temperatures will be in the range [1, 30000]. Each temperature will be an integer in the range [30, 100]."
   ]
  },
  {
   "cell_type": "code",
   "execution_count": 1,
   "metadata": {
    "collapsed": true
   },
   "outputs": [],
   "source": [
    "def dailyTemperatures(temperatures):\n",
    "    if not temperatures: return []\n",
    "    result, stack = [0] * len(temperatures), []\n",
    "    stack.append((temperatures[0], 0))\n",
    "\n",
    "    for i in range(1, len(temperatures)):\n",
    "        while stack:\n",
    "            prev = stack[-1]\n",
    "            if prev[0] < temperatures[i]:\n",
    "                result[prev[1]] = i - prev[1]\n",
    "                stack.pop()\n",
    "            else:\n",
    "                break\n",
    "        stack.append((temperatures[i], i))\n",
    "    return result"
   ]
  },
  {
   "cell_type": "code",
   "execution_count": 2,
   "metadata": {},
   "outputs": [
    {
     "data": {
      "text/plain": [
       "[1, 1, 4, 2, 1, 1, 0, 0]"
      ]
     },
     "execution_count": 2,
     "metadata": {},
     "output_type": "execute_result"
    }
   ],
   "source": [
    "t = [73, 74, 75, 71, 69, 72, 76, 73]\n",
    "dailyTemperatures(t)"
   ]
  },
  {
   "cell_type": "code",
   "execution_count": null,
   "metadata": {
    "collapsed": true
   },
   "outputs": [],
   "source": []
  },
  {
   "cell_type": "code",
   "execution_count": 4,
   "metadata": {
    "collapsed": true
   },
   "outputs": [],
   "source": [
    "def dailyTemperatures2(temperatures):\n",
    "    if not temperatures: return []\n",
    "    result, stack = [0] * len(temperatures), []\n",
    "    stack.append(0)\n",
    "\n",
    "    for i in range(1, len(temperatures)):\n",
    "        while stack:\n",
    "            prev = stack[-1]\n",
    "            if temperatures[prev] < temperatures[i]:\n",
    "                result[prev] = i - prev\n",
    "                stack.pop()\n",
    "            else:\n",
    "                break\n",
    "        stack.append(i)\n",
    "    return result"
   ]
  },
  {
   "cell_type": "code",
   "execution_count": 5,
   "metadata": {},
   "outputs": [
    {
     "data": {
      "text/plain": [
       "[1, 1, 4, 2, 1, 1, 0, 0]"
      ]
     },
     "execution_count": 5,
     "metadata": {},
     "output_type": "execute_result"
    }
   ],
   "source": [
    "t = [73, 74, 75, 71, 69, 72, 76, 73]\n",
    "dailyTemperatures2(t)"
   ]
  },
  {
   "cell_type": "code",
   "execution_count": null,
   "metadata": {
    "collapsed": true
   },
   "outputs": [],
   "source": []
  },
  {
   "cell_type": "markdown",
   "metadata": {
    "collapsed": true
   },
   "source": [
    "### Ex.4 Sliding Window Max\n",
    "\n",
    "Given an array and an integer k, find the maximum for each and every contiguous subarray of size k.\n",
    "\n",
    "Examples:\n",
    "\n",
    "Input :\n",
    "\n",
    "arr[] = {1, 2, 3, 1, 4, 5, 2, 3, 6}\n",
    "\n",
    "k = 3\n",
    "\n",
    "Output :\n",
    "\n",
    "3 3 4 5 5 5 6\n",
    "\n",
    "Input :\n",
    "\n",
    "arr[] = {8, 5, 10, 7, 9, 4, 15, 12, 90, 13}\n",
    "\n",
    "k = 4\n",
    "\n",
    "Output :\n",
    "\n",
    "10 10 10 15 15 90 90"
   ]
  },
  {
   "cell_type": "code",
   "execution_count": 5,
   "metadata": {
    "collapsed": true
   },
   "outputs": [],
   "source": [
    "from collections import deque\n",
    "\n",
    "\n",
    "def movingMax(arr,k):\n",
    "    n = len(arr)\n",
    "    Qi = deque()\n",
    "    \n",
    "    # Process first k (or first window) \n",
    "    # elements of array\n",
    "    for i in range(k):\n",
    "        # For every element, the previous \n",
    "        # smaller elements are useless\n",
    "        # so remove them from Qi\n",
    "        while Qi and arr[i] >= arr[Qi[-1]] :\n",
    "            Qi.pop()\n",
    "        \n",
    "        # Add new element at rear of queue\n",
    "        Qi.append(i);\n",
    "        \n",
    "    # Process rest of the elements, i.e. \n",
    "    # from arr[k] to arr[n-1]\n",
    "    for i in range(k, n):\n",
    "        \n",
    "        # The element at the front of the\n",
    "        # queue is the largest element of\n",
    "        # previous window, so print it\n",
    "        print(str(arr[Qi[0]]) + \" \", end = \"\")\n",
    "        \n",
    "        # Remove the elements which are \n",
    "        # out of this window\n",
    "        while Qi and Qi[0] <= i-k:\n",
    "            \n",
    "            # remove from front of deque\n",
    "            Qi.popleft() \n",
    "        \n",
    "        # Remove all elements smaller than\n",
    "        # the currently being added element \n",
    "        # (Remove useless elements)\n",
    "        while Qi and arr[i] >= arr[Qi[-1]] :\n",
    "            Qi.pop()\n",
    "        \n",
    "        # Add current element at the rear of Qi\n",
    "        Qi.append(i)\n",
    "    \n",
    "    # Print the maximum element of last window\n",
    "    print(str(arr[Qi[0]]))"
   ]
  },
  {
   "cell_type": "code",
   "execution_count": 6,
   "metadata": {},
   "outputs": [
    {
     "name": "stdout",
     "output_type": "stream",
     "text": [
      "78 90 90 90 89\n"
     ]
    }
   ],
   "source": [
    "arr = [12, 1, 78, 90, 57, 89, 56]\n",
    "k = 3\n",
    "movingMax(arr, k)"
   ]
  },
  {
   "cell_type": "code",
   "execution_count": null,
   "metadata": {
    "collapsed": true
   },
   "outputs": [],
   "source": []
  }
 ],
 "metadata": {
  "kernelspec": {
   "display_name": "Python 3",
   "language": "python",
   "name": "python3"
  },
  "language_info": {
   "codemirror_mode": {
    "name": "ipython",
    "version": 3
   },
   "file_extension": ".py",
   "mimetype": "text/x-python",
   "name": "python",
   "nbconvert_exporter": "python",
   "pygments_lexer": "ipython3",
   "version": "3.6.1"
  }
 },
 "nbformat": 4,
 "nbformat_minor": 2
}
