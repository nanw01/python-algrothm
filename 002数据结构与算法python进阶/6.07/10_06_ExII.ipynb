{
 "cells": [
  {
   "cell_type": "markdown",
   "metadata": {},
   "source": [
    "# Stack and Queue II #"
   ]
  },
  {
   "cell_type": "code",
   "execution_count": 1,
   "metadata": {
    "collapsed": true
   },
   "outputs": [],
   "source": [
    "from LinkedList import LinkedList\n",
    "from LinkedList import Node\n",
    "from ArrayStack import ArrayStack"
   ]
  },
  {
   "cell_type": "markdown",
   "metadata": {},
   "source": [
    "### Ex.1 Reverse a String "
   ]
  },
  {
   "cell_type": "code",
   "execution_count": 25,
   "metadata": {
    "collapsed": true
   },
   "outputs": [],
   "source": [
    "def reverse(s):\n",
    "    lst = []\n",
    "    for i in s:\n",
    "        lst.append(i)\n",
    "    result = []\n",
    "    while len(lst) != 0:\n",
    "        result.append(lst.pop())\n",
    "    return ''.join(result)"
   ]
  },
  {
   "cell_type": "code",
   "execution_count": 29,
   "metadata": {},
   "outputs": [
    {
     "name": "stdout",
     "output_type": "stream",
     "text": [
      "dlrow olleh\n",
      "madamimadam\n"
     ]
    }
   ],
   "source": [
    "s = \"hello world\"\n",
    "print(reverse(s))\n",
    "\n",
    "s = \"madamimadam\"\n",
    "print(reverse(s))"
   ]
  },
  {
   "cell_type": "markdown",
   "metadata": {},
   "source": [
    "### Ex.2 Palindrome"
   ]
  },
  {
   "cell_type": "code",
   "execution_count": 31,
   "metadata": {
    "collapsed": true
   },
   "outputs": [],
   "source": [
    "def isPalindrome(s):\n",
    "    r = reverse(s)\n",
    "    return r == s"
   ]
  },
  {
   "cell_type": "code",
   "execution_count": 32,
   "metadata": {},
   "outputs": [
    {
     "name": "stdout",
     "output_type": "stream",
     "text": [
      "False\n",
      "True\n"
     ]
    }
   ],
   "source": [
    "s = \"hello world\"\n",
    "print(isPalindrome(s))\n",
    "\n",
    "s = \"madamimadam\"\n",
    "print(isPalindrome(s))"
   ]
  },
  {
   "cell_type": "markdown",
   "metadata": {
    "collapsed": true
   },
   "source": [
    "### Ex.3 Valid Parentheses\n",
    "\n",
    "Given a string containing just the characters '(', ')', '{', '}', '[' and ']', determine if the input string is valid."
   ]
  },
  {
   "cell_type": "code",
   "execution_count": 1,
   "metadata": {
    "collapsed": true
   },
   "outputs": [],
   "source": [
    "def isValid(s):\n",
    "    stack = []\n",
    "    for c in s:\n",
    "        if (c == '(' or c == '[' or c == '{'):\n",
    "            stack.append(c)\n",
    "        else:\n",
    "            if len(stack)==0:\n",
    "                return False\n",
    "            if (   (c == ')' and stack[-1] == '(')\n",
    "                or (c == ']' and stack[-1] == '[')\n",
    "                or (c == '}' and stack[-1] == '{')):\n",
    "                stack.pop()\n",
    "            else:\n",
    "                return False\n",
    "    return len(stack)==0"
   ]
  },
  {
   "cell_type": "code",
   "execution_count": 8,
   "metadata": {},
   "outputs": [
    {
     "name": "stdout",
     "output_type": "stream",
     "text": [
      "True\n",
      "True\n",
      "True\n",
      "True\n",
      "True\n",
      "True\n"
     ]
    }
   ],
   "source": [
    "s = \"\"\n",
    "print(isValid(s))\n",
    "s = \"{}\"\n",
    "print(isValid(s))\n",
    "s = \"{{}}\"\n",
    "print(isValid(s))\n",
    "s = \"{{}}{}{}\"\n",
    "print(isValid(s))\n",
    "s = \"{{{}}{}{{}}}\"\n",
    "print(isValid(s))\n",
    "s = \"[]{}([{}]{})\"\n",
    "print(isValid(s))"
   ]
  },
  {
   "cell_type": "code",
   "execution_count": 9,
   "metadata": {},
   "outputs": [
    {
     "name": "stdout",
     "output_type": "stream",
     "text": [
      "False\n",
      "False\n",
      "False\n",
      "False\n",
      "False\n",
      "False\n",
      "False\n",
      "False\n"
     ]
    }
   ],
   "source": [
    "s = \"{\"\n",
    "print(isValid(s))\n",
    "s = \"}\"\n",
    "print(isValid(s))\n",
    "s = \"{}}\"\n",
    "print(isValid(s))\n",
    "s = \"{}{}}\"\n",
    "print(isValid(s))\n",
    "s = \"}{\"\n",
    "print(isValid(s))\n",
    "s = \"}{}\"\n",
    "print(isValid(s))\n",
    "s = \"(]\"\n",
    "print(isValid(s))\n",
    "s = \"[}]\"\n",
    "print(isValid(s))"
   ]
  },
  {
   "cell_type": "code",
   "execution_count": null,
   "metadata": {
    "collapsed": true
   },
   "outputs": [],
   "source": []
  },
  {
   "cell_type": "markdown",
   "metadata": {},
   "source": [
    "### Ex.4 Simplify Path\n",
    "\n",
    "Given an absolute path for a file (Unix-style), simplify it.\n",
    "\n",
    "For example,\n",
    "\n",
    "path = \"/home/\" => \"/home\"\n",
    "\n",
    "path = \"/a/./b/../../c/\" => \"/c\"\n"
   ]
  },
  {
   "cell_type": "code",
   "execution_count": 18,
   "metadata": {
    "collapsed": true
   },
   "outputs": [],
   "source": [
    "def simplifyPath(path):\n",
    "    lst = []\n",
    "    splits = path.split(\"/\")\n",
    "    \n",
    "    for s in splits:\n",
    "        if s == \"\":\n",
    "            continue\n",
    "        if s == \".\":\n",
    "            continue\n",
    "            \n",
    "        if s == \"..\":\n",
    "            if len(lst) != 0:\n",
    "                lst.pop()\n",
    "        else:\n",
    "            lst.append(s)\n",
    "    \n",
    "    result = []\n",
    "    if len(lst) == 0:\n",
    "        return \"/\"\n",
    "    result = ['/' + i for i in lst]\n",
    "    return ''.join(result)\n",
    "    "
   ]
  },
  {
   "cell_type": "code",
   "execution_count": 21,
   "metadata": {},
   "outputs": [
    {
     "name": "stdout",
     "output_type": "stream",
     "text": [
      "/home\n",
      "/c/e/f\n"
     ]
    }
   ],
   "source": [
    "path = \"/home/\"\n",
    "print(simplifyPath(path))\n",
    "path = \"/a/./b/../../c/d/../e/f/g/../\"\n",
    "print(simplifyPath(path))"
   ]
  },
  {
   "cell_type": "code",
   "execution_count": null,
   "metadata": {
    "collapsed": true
   },
   "outputs": [],
   "source": []
  },
  {
   "cell_type": "markdown",
   "metadata": {},
   "source": [
    "### Ex.5 Decode String\n",
    "\n",
    "Given an encoded string, return it's decoded string.\n",
    "\n",
    "The encoding rule is: k[encoded_string], where the encoded_string inside the square brackets is being repeated exactly k times. Note that k is guaranteed to be a positive integer.\n",
    "\n",
    "You may assume that the input string is always valid; No extra white spaces, square brackets are well-formed, etc.\n",
    "\n",
    "Furthermore, you may assume that the original data does not contain any digits and that digits are only for those repeat numbers, k. For example, there won't be input like 3a or 2[4].\n",
    "\n",
    "Examples:\n",
    "\n",
    "s = \"3[a]2[bc]\", return \"aaabcbc\".\n",
    "\n",
    "s = \"3[a2[c]]\", return \"accaccacc\".\n",
    "\n",
    "s = \"2[abc]3[cd]ef\", return \"abcabccdcdcdef\"."
   ]
  },
  {
   "cell_type": "code",
   "execution_count": 5,
   "metadata": {
    "collapsed": true
   },
   "outputs": [],
   "source": [
    "def decodeString(s):\n",
    "    stack = []\n",
    "    stack.append([\"\", 1])\n",
    "    num = \"\"\n",
    "    for ch in s:\n",
    "        if ch.isdigit():\n",
    "            num += ch\n",
    "        elif ch == '[':\n",
    "            stack.append([\"\", int(num)])\n",
    "            num = \"\"\n",
    "        elif ch == ']':\n",
    "            st, k = stack.pop()\n",
    "            stack[-1][0] += st*k\n",
    "        else:\n",
    "            stack[-1][0] += ch\n",
    "    return stack[0][0]"
   ]
  },
  {
   "cell_type": "code",
   "execution_count": 6,
   "metadata": {},
   "outputs": [
    {
     "name": "stdout",
     "output_type": "stream",
     "text": [
      "aaabcbc\n",
      "accaccacc\n",
      "abcabccdcdcdef\n",
      "abababababababababababab\n"
     ]
    }
   ],
   "source": [
    "s = \"3[a]2[bc]\"\n",
    "print(decodeString(s))\n",
    "s = \"3[a2[c]]\"\n",
    "print(decodeString(s))\n",
    "s = \"2[abc]3[cd]ef\"\n",
    "print(decodeString(s))\n",
    "s = \"12[ab]\"\n",
    "print(decodeString(s))"
   ]
  },
  {
   "cell_type": "code",
   "execution_count": null,
   "metadata": {
    "collapsed": true
   },
   "outputs": [],
   "source": []
  },
  {
   "attachments": {},
   "cell_type": "markdown",
   "metadata": {},
   "source": [
    "### Ex.6 Basketball Game\n",
    "\n",
    "You're now a baseball game point recorder.\n",
    "\n",
    "Given a list of strings, each string can be one of the 4 following types:\n",
    "\n",
    "- Integer (one round's score): Directly represents the number of points you get in this round.\n",
    "- \"+\" (one round's score): Represents that the points you get in this round are the sum of the last two valid round's points.\n",
    "- \"D\" (one round's score): Represents that the points you get in this round are the doubled data of the last valid round's points.\n",
    "- \"C\" (an operation, which isn't a round's score): Represents the last valid round's points you get were invalid and should be removed.\n",
    "\n",
    "Each round's operation is permanent and could have an impact on the round before and the round after.\n",
    "\n",
    "You need to return the sum of the points you could get in all the rounds.\n",
    "\n",
    "Input: [\"5\",\"2\",\"C\",\"D\",\"+\"] \n",
    "\n",
    "Output: 30 \n",
    "\n",
    "- Round 1: You could get 5 points. The sum is: 5. \n",
    "\n",
    "- Round 2: You could get 2 points. The sum is: 7. Operation 1: The round 2's data was invalid. The sum is: 5. \n",
    "\n",
    "- Round 3: You could get 10 points (the round 2's data has been removed). The sum is: 15. \n",
    "\n",
    "- Round 4: You could get 5 + 10 = 15 points. \n",
    "\n",
    "- The sum is: 30.\n"
   ]
  },
  {
   "cell_type": "code",
   "execution_count": 7,
   "metadata": {
    "collapsed": true
   },
   "outputs": [],
   "source": [
    "def calPoints(ops):\n",
    "    stack = []\n",
    "    for op in ops:\n",
    "        if op == '+':\n",
    "            stack.append(stack[-1] + stack[-2])\n",
    "        elif op == 'C':\n",
    "            stack.pop()\n",
    "        elif op == 'D':\n",
    "            stack.append(2 * stack[-1])\n",
    "        else:\n",
    "            stack.append(int(op))\n",
    "\n",
    "    return sum(stack)"
   ]
  },
  {
   "cell_type": "code",
   "execution_count": 8,
   "metadata": {},
   "outputs": [
    {
     "data": {
      "text/plain": [
       "30"
      ]
     },
     "execution_count": 8,
     "metadata": {},
     "output_type": "execute_result"
    }
   ],
   "source": [
    "ops = [\"5\",\"2\",\"C\",\"D\",\"+\"]\n",
    "calPoints(ops)"
   ]
  },
  {
   "cell_type": "code",
   "execution_count": 9,
   "metadata": {},
   "outputs": [
    {
     "data": {
      "text/plain": [
       "27"
      ]
     },
     "execution_count": 9,
     "metadata": {},
     "output_type": "execute_result"
    }
   ],
   "source": [
    "ops = [\"5\",\"-2\",\"4\",\"C\",\"D\",\"9\",\"+\",\"+\"]\n",
    "calPoints(ops)"
   ]
  },
  {
   "cell_type": "code",
   "execution_count": null,
   "metadata": {
    "collapsed": true
   },
   "outputs": [],
   "source": []
  },
  {
   "cell_type": "markdown",
   "metadata": {},
   "source": [
    "### Ex.7 Asteroid Collision\n",
    "\n",
    "We are given an array asteroids of integers representing asteroids in a row.\n",
    "\n",
    "For each asteroid, the absolute value represents its size, and the sign represents its direction (positive meaning right, negative meaning left). Each asteroid moves at the same speed.\n",
    "\n",
    "Find out the state of the asteroids after all collisions. If two asteroids meet, the smaller one will explode. If both are the same size, both will explode. Two asteroids moving in the same direction will never meet.\n",
    "\n",
    "Example 1:\n",
    "\n",
    "- Input: asteroids = [5, 10, -5] \n",
    "- Output: [5, 10] \n",
    "- Explanation: The 10 and -5 collide resulting in 10. The 5 and 10 never collide. \n",
    "\n",
    "Example 2:\n",
    "\n",
    "- Input: asteroids = [10, 2, -5] \n",
    "- Output: [10] \n",
    "- Explanation: The 2 and -5 collide resulting in -5. The 10 and -5 collide resulting in 10. \n",
    "\n",
    "Example 3:\n",
    "\n",
    "- Input: asteroids = [-2, -1, 1, 2]\n",
    "- Output: [-2, -1, 1, 2]\n",
    "- Explanation: The -2 and -1 are moving left, while the 1 and 2 are moving right.\n",
    "- Asteroids moving the same direction never meet, so no asteroids will meet each other.\n"
   ]
  },
  {
   "cell_type": "code",
   "execution_count": 10,
   "metadata": {
    "collapsed": true
   },
   "outputs": [],
   "source": [
    "def asteroidCollision(asteroids):\n",
    "    ans = []\n",
    "    for new in asteroids:\n",
    "        while ans and new < 0 < ans[-1]:\n",
    "            if ans[-1] < -new:\n",
    "                ans.pop()\n",
    "                continue\n",
    "            elif ans[-1] == -new:\n",
    "                ans.pop()\n",
    "            break\n",
    "        else:\n",
    "            ans.append(new)\n",
    "    return ans"
   ]
  },
  {
   "cell_type": "code",
   "execution_count": 11,
   "metadata": {},
   "outputs": [
    {
     "data": {
      "text/plain": [
       "[5, 10]"
      ]
     },
     "execution_count": 11,
     "metadata": {},
     "output_type": "execute_result"
    }
   ],
   "source": [
    "asteroids = [5, 10, -5]\n",
    "asteroidCollision(asteroids)"
   ]
  },
  {
   "cell_type": "code",
   "execution_count": 12,
   "metadata": {},
   "outputs": [
    {
     "data": {
      "text/plain": [
       "[10]"
      ]
     },
     "execution_count": 12,
     "metadata": {},
     "output_type": "execute_result"
    }
   ],
   "source": [
    "asteroids = [10, 2, -5] \n",
    "asteroidCollision(asteroids)"
   ]
  },
  {
   "cell_type": "code",
   "execution_count": 13,
   "metadata": {},
   "outputs": [
    {
     "data": {
      "text/plain": [
       "[-2, -1, 1, 2]"
      ]
     },
     "execution_count": 13,
     "metadata": {},
     "output_type": "execute_result"
    }
   ],
   "source": [
    "asteroids = [-2, -1, 1, 2]\n",
    "asteroidCollision(asteroids)"
   ]
  },
  {
   "cell_type": "code",
   "execution_count": null,
   "metadata": {
    "collapsed": true
   },
   "outputs": [],
   "source": []
  }
 ],
 "metadata": {
  "kernelspec": {
   "display_name": "Python 3",
   "language": "python",
   "name": "python3"
  },
  "language_info": {
   "codemirror_mode": {
    "name": "ipython",
    "version": 3
   },
   "file_extension": ".py",
   "mimetype": "text/x-python",
   "name": "python",
   "nbconvert_exporter": "python",
   "pygments_lexer": "ipython3",
   "version": "3.6.1"
  }
 },
 "nbformat": 4,
 "nbformat_minor": 2
}
