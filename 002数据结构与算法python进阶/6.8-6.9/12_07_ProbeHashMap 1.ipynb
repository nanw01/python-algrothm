{
 "cells": [
  {
   "cell_type": "markdown",
   "metadata": {},
   "source": [
    "# ProbeHashMap #"
   ]
  },
  {
   "cell_type": "code",
   "execution_count": null,
   "metadata": {},
   "outputs": [],
   "source": [
    "from ProbeHashMap import ProbeHashMap"
   ]
  },
  {
   "cell_type": "code",
   "execution_count": 3,
   "metadata": {},
   "outputs": [
    {
     "name": "stdout",
     "output_type": "stream",
     "text": [
      "hash for A is 6\n",
      "hash for B is 5\n",
      "hash for C is 5\n",
      "hash for D is 2\n",
      "hash for E is 5\n",
      "D:Four, B:Two, A:One, C:Three, E:Five, \n",
      "6 A\n",
      "True 6\n",
      "D:Four, B:Two, C:Three, E:Five, hash for A is 6\n",
      "\n",
      "D:Four, B:Two, A:One1, C:Three, E:Five, hash for A is 6\n",
      "\n",
      "D:Four, B:Two, A:One2, C:Three, E:Five, "
     ]
    }
   ],
   "source": [
    "mymap = ProbeHashMap()\n",
    "mymap.__setitem__('A', 'One')\n",
    "mymap.__setitem__('B', 'Two')\n",
    "mymap.__setitem__('C', 'Three')\n",
    "mymap.__setitem__('D', 'Four')\n",
    "mymap.__setitem__('E', 'Five')\n",
    "mymap._print_()\n",
    "print('')\n",
    "mymap.__delitem__('A')\n",
    "mymap._print_()\n",
    "mymap.__setitem__('A', 'One1')\n",
    "print('')\n",
    "mymap._print_()\n",
    "mymap.__setitem__('A', 'One2')\n",
    "print('')\n",
    "mymap._print_()\n"
   ]
  },
  {
   "cell_type": "code",
   "execution_count": null,
   "metadata": {
    "collapsed": true
   },
   "outputs": [],
   "source": []
  }
 ],
 "metadata": {
  "kernelspec": {
   "display_name": "Python 3",
   "language": "python",
   "name": "python3"
  },
  "language_info": {
   "codemirror_mode": {
    "name": "ipython",
    "version": 3
   },
   "file_extension": ".py",
   "mimetype": "text/x-python",
   "name": "python",
   "nbconvert_exporter": "python",
   "pygments_lexer": "ipython3",
   "version": "3.6.1"
  }
 },
 "nbformat": 4,
 "nbformat_minor": 2
}
