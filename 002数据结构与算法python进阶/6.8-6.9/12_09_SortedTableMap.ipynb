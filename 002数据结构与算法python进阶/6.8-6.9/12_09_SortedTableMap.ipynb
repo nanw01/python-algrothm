{
 "cells": [
  {
   "cell_type": "markdown",
   "metadata": {},
   "source": [
    "# SortedTableMap #"
   ]
  },
  {
   "cell_type": "code",
   "execution_count": 1,
   "metadata": {},
   "outputs": [],
   "source": [
    "from SortedTableMap import SortedTableMap"
   ]
  },
  {
   "cell_type": "code",
   "execution_count": 3,
   "metadata": {},
   "outputs": [
    {
     "name": "stdout",
     "output_type": "stream",
     "text": [
      "A:One, B:Two, C:Three, D:Four, E:Five, \n",
      "\n",
      "B:Two, C:Three, D:Four, E:Five, \n",
      "\n",
      "A:One1, B:Two, C:Three, D:Four, E:Five, \n",
      "\n",
      "A:One2, B:Two, C:Three, D:Four, E:Five, \n",
      "\n",
      "A:One2, B:Two, C:Three, D:Four, E:Five, X:Five, Y:Five, Z:Five, \n"
     ]
    }
   ],
   "source": [
    "mymap = SortedTableMap()\n",
    "mymap.__setitem__('A', 'One')\n",
    "mymap.__setitem__('B', 'Two')\n",
    "mymap.__setitem__('C', 'Three')\n",
    "mymap.__setitem__('D', 'Four')\n",
    "mymap.__setitem__('E', 'Five')\n",
    "mymap._print_()\n",
    "print('')\n",
    "mymap.__delitem__('A')\n",
    "mymap._print_()\n",
    "mymap.__setitem__('A', 'One1')\n",
    "print('')\n",
    "mymap._print_()\n",
    "mymap.__setitem__('A', 'One2')\n",
    "print('')\n",
    "mymap._print_()\n",
    "mymap.__setitem__('Z', '26')\n",
    "mymap.__setitem__('Y', '25')\n",
    "mymap.__setitem__('X', '24')\n",
    "print('')\n",
    "mymap._print_()\n"
   ]
  },
  {
   "cell_type": "code",
   "execution_count": null,
   "metadata": {
    "collapsed": true
   },
   "outputs": [],
   "source": []
  }
 ],
 "metadata": {
  "kernelspec": {
   "display_name": "Python 3",
   "language": "python",
   "name": "python3"
  },
  "language_info": {
   "codemirror_mode": {
    "name": "ipython",
    "version": 3
   },
   "file_extension": ".py",
   "mimetype": "text/x-python",
   "name": "python",
   "nbconvert_exporter": "python",
   "pygments_lexer": "ipython3",
   "version": "3.6.1"
  }
 },
 "nbformat": 4,
 "nbformat_minor": 2
}
