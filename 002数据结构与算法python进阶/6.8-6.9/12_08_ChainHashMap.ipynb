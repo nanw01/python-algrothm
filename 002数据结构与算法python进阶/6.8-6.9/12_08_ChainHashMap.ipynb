{
 "cells": [
  {
   "cell_type": "markdown",
   "metadata": {},
   "source": [
    "# ChainHashMap #"
   ]
  },
  {
   "cell_type": "code",
   "execution_count": 1,
   "metadata": {},
   "outputs": [],
   "source": [
    "from ChainHashMap import ChainHashMap"
   ]
  },
  {
   "cell_type": "code",
   "execution_count": 3,
   "metadata": {},
   "outputs": [
    {
     "name": "stdout",
     "output_type": "stream",
     "text": [
      "hash for A is 5\n",
      "hash for B is 7\n",
      "hash for C is 10\n",
      "hash for D is 3\n",
      "hash for E is 8\n",
      "D:Four, \n",
      "A:One, \n",
      "B:Two, \n",
      "E:Five, \n",
      "C:Three, \n",
      "\n",
      "D:Four, \n",
      "B:Two, \n",
      "E:Five, \n",
      "C:Three, \n",
      "hash for A is 5\n",
      "\n",
      "D:Four, \n",
      "A:One1, \n",
      "B:Two, \n",
      "E:Five, \n",
      "C:Three, \n",
      "hash for A is 5\n",
      "\n",
      "D:Four, \n",
      "A:One2, \n",
      "B:Two, \n",
      "E:Five, \n",
      "C:Three, \n"
     ]
    }
   ],
   "source": [
    "mymap = ChainHashMap()\n",
    "mymap.__setitem__('A', 'One')\n",
    "mymap.__setitem__('B', 'Two')\n",
    "mymap.__setitem__('C', 'Three')\n",
    "mymap.__setitem__('D', 'Four')\n",
    "mymap.__setitem__('E', 'Five')\n",
    "mymap._print_()\n",
    "print('')\n",
    "mymap.__delitem__('A')\n",
    "mymap._print_()\n",
    "mymap.__setitem__('A', 'One1')\n",
    "print('')\n",
    "mymap._print_()\n",
    "mymap.__setitem__('A', 'One2')\n",
    "print('')\n",
    "mymap._print_()"
   ]
  },
  {
   "cell_type": "code",
   "execution_count": null,
   "metadata": {
    "collapsed": true
   },
   "outputs": [],
   "source": []
  }
 ],
 "metadata": {
  "kernelspec": {
   "display_name": "Python 3",
   "language": "python",
   "name": "python3"
  },
  "language_info": {
   "codemirror_mode": {
    "name": "ipython",
    "version": 3
   },
   "file_extension": ".py",
   "mimetype": "text/x-python",
   "name": "python",
   "nbconvert_exporter": "python",
   "pygments_lexer": "ipython3",
   "version": "3.6.1"
  }
 },
 "nbformat": 4,
 "nbformat_minor": 2
}
