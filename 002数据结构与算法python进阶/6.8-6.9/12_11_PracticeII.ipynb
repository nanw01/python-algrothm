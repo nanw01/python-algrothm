{
 "cells": [
  {
   "cell_type": "markdown",
   "metadata": {},
   "source": [
    "# Hashtable Practice II #"
   ]
  },
  {
   "cell_type": "markdown",
   "metadata": {},
   "source": [
    "### Ex.1 Word Pattern\n",
    "\n",
    "Given a pattern and a string str, find if str follows the same pattern.\n",
    "\n",
    "Here follow means a full match, such that there is a bijection between a letter in pattern and a non-empty word in str.\n",
    "\n",
    "Examples:\n",
    "\n",
    "pattern = \"abba\", str = \"dog cat cat dog\" should return true.\n",
    "\n",
    "pattern = \"abba\", str = \"dog cat cat fish\" should return false.\n",
    "\n",
    "pattern = \"aaaa\", str = \"dog cat cat dog\" should return false.\n",
    "\n",
    "pattern = \"abba\", str = \"dog dog dog dog\" should return false."
   ]
  },
  {
   "cell_type": "code",
   "execution_count": 6,
   "metadata": {
    "collapsed": true
   },
   "outputs": [],
   "source": [
    "def wordPattern(pattern, str):\n",
    "    s = pattern\n",
    "    t = str.split()\n",
    "    return len(set(zip(s, t))) == len(set(s)) == len(set(t)) and len(s) == len(t)"
   ]
  },
  {
   "cell_type": "markdown",
   "metadata": {},
   "source": [
    "** zip(*iterables) **\n",
    "\n",
    "Make an iterator that aggregates elements from each of the iterables.\n",
    "\n",
    "Returns an iterator of tuples, where the i-th tuple contains the i-th element from each of the argument sequences or iterables. The iterator stops when the shortest input iterable is exhausted. With a single iterable argument, it returns an iterator of 1-tuples. With no arguments, it returns an empty iterator. "
   ]
  },
  {
   "cell_type": "markdown",
   "metadata": {},
   "source": [
    "### Ex.2 Minimum Index Sum of Two Lists\n",
    "\n",
    "Suppose Andy and Doris want to choose a restaurant for dinner, and they both have a list of favorite restaurants represented by strings.\n",
    "\n",
    "You need to help them find out their common interest with the least list index sum. If there is a choice tie between answers, output all of them with no order requirement. You could assume there always exists an answer.\n",
    "\n",
    "Example 1:\n",
    "\n",
    "Input:\n",
    "\n",
    "[\"Shogun\", \"Tapioca Express\", \"Burger King\", \"KFC\"]\n",
    "\n",
    "[\"Piatti\", \"The Grill at Torrey Pines\", \"Hungry Hunter Steakhouse\", \"Shogun\"]\n",
    "\n",
    "Output: [\"Shogun\"]\n",
    "\n",
    "Explanation: The only restaurant they both like is \"Shogun\".\n",
    "\n",
    "Example 2:\n",
    "\n",
    "Input:\n",
    "\n",
    "[\"Shogun\", \"Tapioca Express\", \"Burger King\", \"KFC\"]\n",
    "\n",
    "[\"KFC\", \"Shogun\", \"Burger King\"]\n",
    "\n",
    "Output: [\"Shogun\"]\n",
    "\n",
    "Explanation: The restaurant they both like and have the least index sum is \"Shogun\" with index sum 1 (0+1).\n",
    "\n",
    "Note:\n",
    "\n",
    "The length of both lists will be in the range of [1, 1000].\n",
    "\n",
    "The length of strings in both lists will be in the range of [1, 30].\n",
    "\n",
    "The index is starting from 0 to the list length minus 1.\n",
    "\n",
    "No duplicates in both lists."
   ]
  },
  {
   "cell_type": "code",
   "execution_count": 2,
   "metadata": {
    "collapsed": true
   },
   "outputs": [],
   "source": [
    "def findRestaurant(A, B):\n",
    "    Aindex = {u: i for i, u in enumerate(A)}\n",
    "    best, ans = 1e9, []\n",
    "\n",
    "    for j, v in enumerate(B):\n",
    "        i = Aindex.get(v, 1e9)\n",
    "        if i + j < best:\n",
    "            best = i + j\n",
    "            ans = [v]\n",
    "        elif i + j == best:\n",
    "            ans.append(v)\n",
    "    return ans"
   ]
  },
  {
   "cell_type": "code",
   "execution_count": 3,
   "metadata": {},
   "outputs": [
    {
     "data": {
      "text/plain": [
       "['Shogun']"
      ]
     },
     "execution_count": 3,
     "metadata": {},
     "output_type": "execute_result"
    }
   ],
   "source": [
    "A = [\"Shogun\", \"Tapioca Express\", \"Burger King\", \"KFC\"]\n",
    "B = [\"Piatti\", \"The Grill at Torrey Pines\", \"Hungry Hunter Steakhouse\", \"Shogun\"]\n",
    "findRestaurant(A, B)"
   ]
  },
  {
   "cell_type": "code",
   "execution_count": 7,
   "metadata": {},
   "outputs": [
    {
     "data": {
      "text/plain": [
       "['Burger King', 'Shogun']"
      ]
     },
     "execution_count": 7,
     "metadata": {},
     "output_type": "execute_result"
    }
   ],
   "source": [
    "A = [\"Shogun\", \"Burger King\", \"Tapioca Express\", \"KFC\"]\n",
    "B = [\"KFC\", \"Burger King\", \"Shogun\"]\n",
    "findRestaurant(A, B)"
   ]
  },
  {
   "cell_type": "markdown",
   "metadata": {},
   "source": [
    "### Ex.3 Longest Word in Dictionary\n",
    "\n",
    "Given a list of strings words representing an English Dictionary, find the longest word in words that can be built one character at a time by other words in words. If there is more than one possible answer, return the longest word with the smallest lexicographical order.\n",
    "\n",
    "If there is no answer, return the empty string.\n",
    "\n",
    "Example 1:\n",
    "\n",
    "Input: \n",
    "\n",
    "words = [\"w\",\"wo\",\"wor\",\"worl\", \"world\"]\n",
    "\n",
    "Output: \"world\"\n",
    "\n",
    "Explanation: \n",
    "\n",
    "The word \"world\" can be built one character at a time by \"w\", \"wo\", \"wor\", and \"worl\".\n",
    "\n",
    "Example 2:\n",
    "\n",
    "Input: \n",
    "\n",
    "words = [\"a\", \"banana\", \"app\", \"appl\", \"ap\", \"apply\", \"apple\"]\n",
    "\n",
    "Output: \"apple\"\n",
    "\n",
    "Explanation: \n",
    "\n",
    "Both \"apply\" and \"apple\" can be built from other words in the dictionary. However, \"apple\" is lexicographically smaller than \"apply\".\n",
    "\n",
    "Note:\n",
    "\n",
    "All the strings in the input will only contain lowercase letters.\n",
    "\n",
    "The length of words will be in the range [1, 1000].\n",
    "\n",
    "The length of words[i] will be in the range [1, 30]."
   ]
  },
  {
   "cell_type": "markdown",
   "metadata": {},
   "source": [
    "** Solution: **\n",
    "\n",
    "- Sort the words alphabetically, therefore shorter words always comes before longer words;\n",
    "- Along the sorted list, populate the words that can be built;\n",
    "- Any prefix of a word must comes before that word."
   ]
  },
  {
   "cell_type": "code",
   "execution_count": 4,
   "metadata": {
    "collapsed": true
   },
   "outputs": [],
   "source": [
    "def longestWord(words):\n",
    "    words, resword, res = sorted(words), '', set()\n",
    "    for word in words:\n",
    "        if len(word) == 1 or word[:-1] in res:\n",
    "            res.add(word)\n",
    "            resword = word if resword == '' else word if len(word) > len(resword) else resword\n",
    "    return resword"
   ]
  },
  {
   "cell_type": "code",
   "execution_count": 5,
   "metadata": {},
   "outputs": [
    {
     "data": {
      "text/plain": [
       "'apple'"
      ]
     },
     "execution_count": 5,
     "metadata": {},
     "output_type": "execute_result"
    }
   ],
   "source": [
    "words = [\"a\", \"banana\", \"app\", \"appl\", \"ap\", \"apply\", \"apple\"]\n",
    "longestWord(words)"
   ]
  },
  {
   "cell_type": "markdown",
   "metadata": {},
   "source": [
    "### Ex.4 Happy Number\n",
    "\n",
    "Write an algorithm to determine if a number is \"happy\".\n",
    "\n",
    "A happy number is a number defined by the following process: Starting with any positive integer, replace the number by the sum of the squares of its digits, and repeat the process until the number equals 1 (where it will stay), or it loops endlessly in a cycle which does not include 1. Those numbers for which this process ends in 1 are happy numbers.\n",
    "\n",
    "Example: 19 is a happy number\n",
    "\n",
    "<img src=\"../images/ch11/happy.png\" width=\"140\"/>"
   ]
  },
  {
   "cell_type": "code",
   "execution_count": 7,
   "metadata": {
    "collapsed": true
   },
   "outputs": [],
   "source": [
    "def isHappy(n):\n",
    "    seen = set()\n",
    "    while n not in seen:\n",
    "        seen.add(n)\n",
    "        n = sum([int(x) **2 for x in str(n)])\n",
    "    return n == 1"
   ]
  },
  {
   "cell_type": "code",
   "execution_count": 8,
   "metadata": {},
   "outputs": [
    {
     "data": {
      "text/plain": [
       "True"
      ]
     },
     "execution_count": 8,
     "metadata": {},
     "output_type": "execute_result"
    }
   ],
   "source": [
    "n = 19\n",
    "isHappy(n)"
   ]
  },
  {
   "cell_type": "markdown",
   "metadata": {},
   "source": [
    "### Ex.5 Valid Anagram\n",
    "\n",
    "Given two strings s and t, write a function to determine if t is an anagram of s.\n",
    "\n",
    "For example,\n",
    "\n",
    "s = \"anagram\", t = \"nagaram\", return true.\n",
    "\n",
    "s = \"rat\", t = \"car\", return false.\n",
    "\n",
    "Note:\n",
    "\n",
    "You may assume the string contains only lowercase alphabets.\n"
   ]
  },
  {
   "cell_type": "code",
   "execution_count": null,
   "metadata": {
    "collapsed": true
   },
   "outputs": [],
   "source": [
    "def isAnagram1(s, t):\n",
    "    dic1, dic2 = {}, {}\n",
    "    for item in s:\n",
    "        dic1[item] = dic1.get(item, 0) + 1\n",
    "    for item in t:\n",
    "        dic2[item] = dic2.get(item, 0) + 1\n",
    "    return dic1 == dic2\n"
   ]
  },
  {
   "cell_type": "code",
   "execution_count": null,
   "metadata": {
    "collapsed": true
   },
   "outputs": [],
   "source": [
    "def isAnagram2(s, t):\n",
    "    dic1, dic2 = [0]*26, [0]*26\n",
    "    for item in s:\n",
    "        dic1[ord(item)-ord('a')] += 1\n",
    "    for item in t:\n",
    "        dic2[ord(item)-ord('a')] += 1\n",
    "    return dic1 == dic2\n"
   ]
  },
  {
   "cell_type": "code",
   "execution_count": null,
   "metadata": {
    "collapsed": true
   },
   "outputs": [],
   "source": [
    "def isAnagram3(s, t):\n",
    "    return sorted(s) == sorted(t)"
   ]
  },
  {
   "cell_type": "markdown",
   "metadata": {},
   "source": [
    "### Ex.6 Find All Anagrams in a String\n",
    "\n",
    "Given a string s and a non-empty string p, find all the start indices of p's anagrams in s.\n",
    "\n",
    "Strings consists of lowercase English letters only and the length of both strings s and p will not be larger than 20,100.\n",
    "\n",
    "The order of output does not matter.\n",
    "\n",
    "Example 1:\n",
    "\n",
    "Input: s: \"cbaebabacd\" p: \"abc\"\n",
    "\n",
    "Output: [0, 6]\n",
    "\n",
    "Explanation:\n",
    "\n",
    "The substring with start index = 0 is \"cba\", which is an anagram of \"abc\".\n",
    "\n",
    "The substring with start index = 6 is \"bac\", which is an anagram of \"abc\".\n",
    "\n",
    "Example 2:\n",
    "\n",
    "Input: s: \"abab\" p: \"ab\"\n",
    "\n",
    "Output: [0, 1, 2]\n",
    "\n",
    "Explanation:\n",
    "\n",
    "The substring with start index = 0 is \"ab\", which is an anagram of \"ab\".\n",
    "\n",
    "The substring with start index = 1 is \"ba\", which is an anagram of \"ab\".\n",
    "\n",
    "The substring with start index = 2 is \"ab\", which is an anagram of \"ab\"."
   ]
  },
  {
   "cell_type": "code",
   "execution_count": 9,
   "metadata": {
    "collapsed": true
   },
   "outputs": [],
   "source": [
    "def findAnagrams(s, p):\n",
    "\n",
    "    res = []\n",
    "    n, m = len(s), len(p)\n",
    "    if n < m: return res\n",
    "    phash, shash = [0]*123, [0]*123\n",
    "    for x in p:\n",
    "        phash[ord(x)] += 1\n",
    "    for x in s[:m-1]:\n",
    "        shash[ord(x)] += 1\n",
    "    for i in range(m-1, n):\n",
    "        shash[ord(s[i])] += 1\n",
    "        if i-m >= 0:\n",
    "            shash[ord(s[i-m])] -= 1\n",
    "        if shash == phash:\n",
    "            res.append(i - m + 1)\n",
    "    return res"
   ]
  },
  {
   "cell_type": "code",
   "execution_count": 12,
   "metadata": {},
   "outputs": [
    {
     "data": {
      "text/plain": [
       "67"
      ]
     },
     "execution_count": 12,
     "metadata": {},
     "output_type": "execute_result"
    }
   ],
   "source": [
    "ord('C')"
   ]
  },
  {
   "cell_type": "markdown",
   "metadata": {},
   "source": [
    "### Ex. 7 Group Anagrams\n",
    "\n",
    "Given an array of strings, group anagrams together.\n",
    "\n",
    "For example, given: [\"eat\", \"tea\", \"tan\", \"ate\", \"nat\", \"bat\"], \n",
    "Return:\n",
    "\n",
    "[\n",
    "\n",
    "  [\"ate\", \"eat\",\"tea\"],\n",
    "  \n",
    "  [\"nat\",\"tan\"],\n",
    "  \n",
    "  [\"bat\"]\n",
    "  \n",
    "]\n",
    "\n",
    "Note: All inputs will be in lower-case."
   ]
  },
  {
   "cell_type": "code",
   "execution_count": 13,
   "metadata": {
    "collapsed": true
   },
   "outputs": [],
   "source": [
    "def groupAnagrams(strs):\n",
    "    ans = collections.defaultdict(list)\n",
    "    for s in strs:\n",
    "        ans[tuple(sorted(s))].append(s)\n",
    "    return ans.values()"
   ]
  },
  {
   "cell_type": "code",
   "execution_count": null,
   "metadata": {
    "collapsed": true
   },
   "outputs": [],
   "source": [
    "def groupAnagrams(strs):\n",
    "    ans = collections.defaultdict(list)\n",
    "    for s in strs:\n",
    "        count = [0] * 26\n",
    "        for c in s:\n",
    "            count[ord(c) - ord('a')] += 1\n",
    "        ans[tuple(count)].append(s)\n",
    "    return ans.values()"
   ]
  },
  {
   "cell_type": "markdown",
   "metadata": {},
   "source": [
    "### Ex.8 Sort Characters By Frequency\n",
    "\n",
    "Given a string, sort it in decreasing order based on the frequency of characters.\n",
    "\n",
    "Example 1:\n",
    "\n",
    "Input: \"tree\"\n",
    "\n",
    "Output: \"eert\"\n",
    "\n",
    "Explanation:\n",
    " \n",
    "'e' appears twice while 'r' and 't' both appear once.\n",
    "\n",
    "So 'e' must appear before both 'r' and 't'. Therefore \"eetr\" is also a valid answer.\n",
    "\n",
    "Example 2:\n",
    "\n",
    "Input: \"cccaaa\"\n",
    "\n",
    "Output: \"cccaaa\"\n",
    "\n",
    "Explanation:\n",
    "\n",
    "Both 'c' and 'a' appear three times, so \"aaaccc\" is also a valid answer.\n",
    "\n",
    "Note that \"cacaca\" is incorrect, as the same characters must be together.\n",
    "\n",
    "Example 3:\n",
    "\n",
    "Input: \"Aabb\"\n",
    "\n",
    "Output: \"bbAa\"\n",
    "\n",
    "Explanation:\n",
    "\n",
    "\"bbaA\" is also a valid answer, but \"Aabb\" is incorrect.\n",
    "\n",
    "Note that 'A' and 'a' are treated as two different characters."
   ]
  },
  {
   "cell_type": "code",
   "execution_count": 10,
   "metadata": {
    "collapsed": true
   },
   "outputs": [],
   "source": [
    "def frequencySort(s):\n",
    "    import collections\n",
    "    if not s:\n",
    "        return \"\"\n",
    "    count_s = collections.Counter(s)\n",
    "    counter = count_s.most_common()\n",
    "    rs = ''\n",
    "    for i in counter:\n",
    "        rs += i[0] * i[1]\n",
    "    return rs"
   ]
  },
  {
   "cell_type": "code",
   "execution_count": null,
   "metadata": {
    "collapsed": true
   },
   "outputs": [],
   "source": [
    "def frequencySort(self, s):\n",
    "    import operator\n",
    "    if not s:\n",
    "        return \"\"\n",
    "    counter = {}; rs = ''\n",
    "    for i in s:\n",
    "        counter[i] = 1 if i not in counter else counter[i]+1\n",
    "    sorted_counter = sorted(counter.items(), key=operator.itemgetter(1))\n",
    "    sorted_counter.reverse()\n",
    "    for i in sorted_counter:\n",
    "        rs += i[0] * i[1]\n",
    "    return rs"
   ]
  },
  {
   "cell_type": "markdown",
   "metadata": {},
   "source": [
    "### Ex.9 Rabbits in Forest\n",
    "\n",
    "In a forest, each rabbit has some color. Some subset of rabbits (possibly all of them) tell you how many other rabbits have the same color as them. Those answers are placed in an array.\n",
    "\n",
    "Return the minimum number of rabbits that could be in the forest.\n",
    "\n",
    "Examples:\n",
    "\n",
    "Input: answers = [1, 1, 2]\n",
    "\n",
    "Output: 5\n",
    "\n",
    "Explanation:\n",
    "\n",
    "The two rabbits that answered \"1\" could both be the same color, say red.\n",
    "\n",
    "The rabbit than answered \"2\" can't be red or the answers would be inconsistent.\n",
    "\n",
    "Say the rabbit that answered \"2\" was blue.\n",
    "\n",
    "Then there should be 2 other blue rabbits in the forest that didn't answer into the array.\n",
    "\n",
    "The smallest possible number of rabbits in the forest is therefore 5. \n",
    "\n",
    "\n",
    "Input: answers = [10, 10, 10]\n",
    "\n",
    "Output: 11\n",
    "\n",
    "Input: answers = []\n",
    "\n",
    "Output: 0"
   ]
  },
  {
   "cell_type": "markdown",
   "metadata": {},
   "source": [
    "** Solution **\n",
    "The basic idea is to put every rabbit with the same key (answer) into the same group as much as possible. This fails when key+1 (count itself) is smaller than the cnt (please look at the code). That means we have to divide this group into subgroups to hold this cnt. The number of the subgroup is computed from ceil(1.0 x cnt/key), so the total number of all these subgroups under the same key is ceil(1.0 * cnt/key) * key."
   ]
  },
  {
   "cell_type": "code",
   "execution_count": 17,
   "metadata": {
    "collapsed": true
   },
   "outputs": [],
   "source": [
    "from collections import Counter\n",
    "from math import ceil\n",
    "def numRabbits(answers):\n",
    "    C=Counter(answers)\n",
    "    res=0\n",
    "    print(C)\n",
    "    for key,cnt in C.items():\n",
    "        key+=1\n",
    "        res+=ceil(1.0*cnt/key)*key\n",
    "    return int(res)"
   ]
  },
  {
   "cell_type": "code",
   "execution_count": 18,
   "metadata": {},
   "outputs": [
    {
     "name": "stdout",
     "output_type": "stream",
     "text": [
      "Counter({1: 2, 2: 1})\n"
     ]
    },
    {
     "data": {
      "text/plain": [
       "5"
      ]
     },
     "execution_count": 18,
     "metadata": {},
     "output_type": "execute_result"
    }
   ],
   "source": [
    "answers = [1, 1, 2]\n",
    "numRabbits(answers)"
   ]
  },
  {
   "cell_type": "code",
   "execution_count": 16,
   "metadata": {},
   "outputs": [
    {
     "data": {
      "text/plain": [
       "11"
      ]
     },
     "execution_count": 16,
     "metadata": {},
     "output_type": "execute_result"
    }
   ],
   "source": [
    "answers = [10, 10, 10]\n",
    "numRabbits(answers)"
   ]
  },
  {
   "cell_type": "markdown",
   "metadata": {},
   "source": [
    "### Ex.10 Implement Magic Dictionary\n",
    "\n",
    "Implement a magic directory with buildDict, and search methods.\n",
    "\n",
    "For the method buildDict, you'll be given a list of non-repetitive words to build a dictionary.\n",
    "\n",
    "For the method search, you'll be given a word, and judge whether if you modify exactly one character into another character in this word, the modified word is in the dictionary you just built.\n",
    "\n",
    "Example 1:\n",
    "\n",
    "Input: buildDict([\"hello\", \"leetcode\"]), Output: Null\n",
    "\n",
    "Input: search(\"hello\"), Output: False\n",
    "\n",
    "Input: search(\"hhllo\"), Output: True\n",
    "\n",
    "Input: search(\"hell\"), Output: False\n",
    "\n",
    "Input: search(\"leetcoded\"), Output: False\n",
    "\n",
    "Note:\n",
    "\n",
    "- You may assume that all the inputs are consist of lowercase letters a-z.\n",
    "- For contest purpose, the test data is rather small by now. You could think about highly efficient algorithm after the contest.\n",
    "- Please remember to RESET your class variables declared in class MagicDictionary, as static/class variables are persisted across multiple test cases. Please see here for more details."
   ]
  },
  {
   "cell_type": "code",
   "execution_count": 1,
   "metadata": {
    "collapsed": true
   },
   "outputs": [],
   "source": [
    "class MagicDictionary(object):\n",
    "    def _candidates(self, word):\n",
    "        for i in xrange(len(word)):\n",
    "            yield word[:i] + '*' + word[i+1:]\n",
    "            \n",
    "    def buildDict(self, words):\n",
    "        self.words = set(words)\n",
    "        self.near = collections.Counter(cand for word in words\n",
    "                                        for cand in self._candidates(word))\n",
    "\n",
    "    def search(self, word):\n",
    "        return any(self.near[cand] > 1 or \n",
    "                   self.near[cand] == 1 and word not in self.words\n",
    "                   for cand in self._candidates(word))"
   ]
  },
  {
   "cell_type": "markdown",
   "metadata": {},
   "source": [
    "### Ex.11 Brick Wall\n",
    "\n",
    "There is a brick wall in front of you. The wall is rectangular and has several rows of bricks. The bricks have the same height but different width. You want to draw a vertical line from the top to the bottom and cross the least bricks.\n",
    "\n",
    "The brick wall is represented by a list of rows. Each row is a list of integers representing the width of each brick in this row from left to right.\n",
    "\n",
    "If your line go through the edge of a brick, then the brick is not considered as crossed. You need to find out how to draw the line to cross the least bricks and return the number of crossed bricks.\n",
    "\n",
    "You cannot draw a line just along one of the two vertical edges of the wall, in which case the line will obviously cross no bricks.\n",
    "\n",
    "<img src=\"../images/ch11/bricks.png\" width=\"280\"/>"
   ]
  },
  {
   "cell_type": "markdown",
   "metadata": {},
   "source": [
    "We want to cut from the edge of the most common location among all the levels, hence using a map to record the locations and their corresponding occurrence."
   ]
  },
  {
   "cell_type": "code",
   "execution_count": null,
   "metadata": {
    "collapsed": true
   },
   "outputs": [],
   "source": [
    "def leastBricks(wall):\n",
    "    d = collections.defaultdict(int)\n",
    "    for line in wall:\n",
    "        i = 0\n",
    "        for brick in line[:-1]:\n",
    "            i += brick\n",
    "            d[i] += 1\n",
    "    # print len(wall), d\n",
    "    return len(wall) - max(d.values() + [0])"
   ]
  }
 ],
 "metadata": {
  "kernelspec": {
   "display_name": "Python 3",
   "language": "python",
   "name": "python3"
  },
  "language_info": {
   "codemirror_mode": {
    "name": "ipython",
    "version": 3
   },
   "file_extension": ".py",
   "mimetype": "text/x-python",
   "name": "python",
   "nbconvert_exporter": "python",
   "pygments_lexer": "ipython3",
   "version": "3.6.1"
  }
 },
 "nbformat": 4,
 "nbformat_minor": 2
}
