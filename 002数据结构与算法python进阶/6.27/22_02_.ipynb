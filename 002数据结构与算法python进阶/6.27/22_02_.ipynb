{
 "cells": [
  {
   "cell_type": "markdown",
   "metadata": {
    "run_control": {
     "frozen": false,
     "read_only": false
    }
   },
   "source": [
    "# Sliding Window II"
   ]
  },
  {
   "cell_type": "markdown",
   "metadata": {},
   "source": [
    "### <a id='Ex1'> Ex.1 Longest Substring Without Repeating Characters\n",
    "\n",
    "Given a string, find the length of the longest substring without repeating characters.\n",
    "\n",
    "Given \"abcabcbb\", the answer is \"abc\", which the length is 3. \n",
    "\n",
    "Given \"bbbbb\", the answer is \"b\", with the length of 1. \n",
    "\n",
    "Given \"pwwkew\", the answer is \"wke\", with the length of 3. Note that the answer must be a substring, \"pwke\" is a subsequence and not a substring. "
   ]
  },
  {
   "cell_type": "code",
   "execution_count": 47,
   "metadata": {
    "collapsed": true
   },
   "outputs": [],
   "source": [
    "def lengthOfLongestSubstring(s):\n",
    "    usedChar = set()\n",
    "    maxLength = 0\n",
    "    i = j = 0\n",
    "    n = len(s)\n",
    "    while (i < n and j < n):\n",
    "        if s[j] not in usedChar:\n",
    "            usedChar.add(s[j])\n",
    "            j += 1\n",
    "            maxLength = max(maxLength, j - i)\n",
    "        else:\n",
    "            usedChar.remove(s[i])\n",
    "            i += 1\n",
    "    return maxLength"
   ]
  },
  {
   "cell_type": "code",
   "execution_count": 42,
   "metadata": {},
   "outputs": [
    {
     "data": {
      "text/plain": [
       "9"
      ]
     },
     "execution_count": 42,
     "metadata": {},
     "output_type": "execute_result"
    }
   ],
   "source": [
    "s = 'dxyzabcaxyzlmnbcbb'\n",
    "lengthOfLongestSubstring(s)"
   ]
  },
  {
   "cell_type": "code",
   "execution_count": null,
   "metadata": {
    "collapsed": true
   },
   "outputs": [],
   "source": []
  },
  {
   "cell_type": "code",
   "execution_count": 43,
   "metadata": {
    "collapsed": true
   },
   "outputs": [],
   "source": [
    "def lengthOfLongestSubstring(s):\n",
    "    start = maxLength = 0\n",
    "    usedChar = {}\n",
    "\n",
    "    for i, c in enumerate(s):\n",
    "        if c in usedChar and start <= usedChar[c]:\n",
    "            start = usedChar[c] + 1\n",
    "        else:\n",
    "            maxLength = max(maxLength, i - start + 1)\n",
    "\n",
    "        usedChar[c] = i\n",
    "\n",
    "    return maxLength"
   ]
  },
  {
   "cell_type": "code",
   "execution_count": 48,
   "metadata": {},
   "outputs": [
    {
     "data": {
      "text/plain": [
       "9"
      ]
     },
     "execution_count": 48,
     "metadata": {},
     "output_type": "execute_result"
    }
   ],
   "source": [
    "s = 'dxyzabcaxyzlmnbcbb'\n",
    "lengthOfLongestSubstring(s)"
   ]
  },
  {
   "cell_type": "code",
   "execution_count": 49,
   "metadata": {},
   "outputs": [
    {
     "data": {
      "text/plain": [
       "1"
      ]
     },
     "execution_count": 49,
     "metadata": {},
     "output_type": "execute_result"
    }
   ],
   "source": [
    "s = 'bbbbb'\n",
    "lengthOfLongestSubstring(s)"
   ]
  },
  {
   "cell_type": "code",
   "execution_count": 50,
   "metadata": {},
   "outputs": [
    {
     "data": {
      "text/plain": [
       "3"
      ]
     },
     "execution_count": 50,
     "metadata": {},
     "output_type": "execute_result"
    }
   ],
   "source": [
    "s = 'pwwkew'\n",
    "lengthOfLongestSubstring(s)"
   ]
  },
  {
   "cell_type": "code",
   "execution_count": null,
   "metadata": {
    "collapsed": true
   },
   "outputs": [],
   "source": []
  },
  {
   "cell_type": "markdown",
   "metadata": {},
   "source": [
    "### <a id='Ex2'> Ex.2 Find All Anagrams in a String\n",
    "\n",
    "Given a string s and a non-empty string p, find all the start indices of p’s anagrams in s.\n",
    "\n",
    "Strings consists of lowercase English letters only and the length of both strings s and p will not be larger than 20,100.\n",
    "The order of output does not matter.\n",
    "\n",
    "Input:\n",
    "\n",
    "s: “cbaebabacd” p: “abc”\n",
    "\n",
    "Output:\n",
    "\n",
    "[0, 6]\n",
    "\n",
    "Explanation:\n",
    "\n",
    "The substring with start index = 0 is “cba”, which is an anagram of “abc”.\n",
    "\n",
    "The substring with start index = 6 is “bac”, which is an anagram of “abc”."
   ]
  },
  {
   "cell_type": "code",
   "execution_count": 9,
   "metadata": {
    "collapsed": true
   },
   "outputs": [],
   "source": [
    "import collections\n",
    "def findAnagrams(s, p):\n",
    "    begin, end = 0, 0\n",
    "    count = len(p)\n",
    "    ans = []\n",
    "    d = collections.Counter(p)\n",
    "\n",
    "    while end < len(s):\n",
    "        # map[char]>=1, meaning the new char is in p, then count--\n",
    "        if d[s[end]] > 0:\n",
    "            count -= 1\n",
    "        d[s[end]] -= 1\n",
    "        end += 1\n",
    "\n",
    "        # find an anagram\n",
    "        if count == 0:\n",
    "            ans.append(begin)\n",
    "\n",
    "        # find a window, then advance begin to shrink the window\n",
    "        if end - begin == len(p):\n",
    "            # advance begin\n",
    "            d[s[begin]] += 1\n",
    "            begin += 1\n",
    "            # # map[char]>=1, meaning the exit char is in p, then count++\n",
    "            if d[s[begin-1]] >= 1:\n",
    "                count += 1\n",
    "\n",
    "    return ans"
   ]
  },
  {
   "cell_type": "code",
   "execution_count": 10,
   "metadata": {},
   "outputs": [
    {
     "data": {
      "text/plain": [
       "[0, 6]"
      ]
     },
     "execution_count": 10,
     "metadata": {},
     "output_type": "execute_result"
    }
   ],
   "source": [
    "s = \"cbaebabacd\"\n",
    "p = \"abc\"\n",
    "\n",
    "findAnagrams(s, p)"
   ]
  },
  {
   "cell_type": "code",
   "execution_count": 11,
   "metadata": {
    "collapsed": true
   },
   "outputs": [],
   "source": [
    "from collections import Counter\n",
    "\n",
    "def findAnagrams(s, p):\n",
    "    res = []\n",
    "    pCounter = Counter(p)\n",
    "    sCounter = Counter(s[:len(p)-1])\n",
    "    for i in range(len(p)-1,len(s)):\n",
    "        sCounter[s[i]] += 1   # include a new char in the window\n",
    "        if sCounter == pCounter:    # This step is O(1), since there are at most 26 English letters \n",
    "            res.append(i-len(p)+1)   # append the starting index\n",
    "        sCounter[s[i-len(p)+1]] -= 1   # decrease the count of oldest char in the window\n",
    "        if sCounter[s[i-len(p)+1]] == 0:\n",
    "            del sCounter[s[i-len(p)+1]]   # remove the count if it is 0\n",
    "    return res"
   ]
  },
  {
   "cell_type": "code",
   "execution_count": 12,
   "metadata": {},
   "outputs": [
    {
     "data": {
      "text/plain": [
       "[0, 6]"
      ]
     },
     "execution_count": 12,
     "metadata": {},
     "output_type": "execute_result"
    }
   ],
   "source": [
    "s = \"cbaebabacd\"\n",
    "p = \"abc\"\n",
    "\n",
    "findAnagrams(s, p)"
   ]
  },
  {
   "cell_type": "code",
   "execution_count": null,
   "metadata": {
    "collapsed": true
   },
   "outputs": [],
   "source": []
  },
  {
   "cell_type": "code",
   "execution_count": 7,
   "metadata": {
    "collapsed": true
   },
   "outputs": [],
   "source": []
  },
  {
   "cell_type": "markdown",
   "metadata": {},
   "source": [
    "### <a id='Ex3'> Ex.3 Minimum Window Substring\n",
    "\n",
    "Given a string S and a string T, find the minimum window in S which will contain all the characters in T in complexity O(n).\n",
    "\n",
    "For example,\n",
    "\n",
    "S = “ADOBECODEBANC”\n",
    "\n",
    "T = “ABC”\n",
    "\n",
    "Minimum window is “BANC”.\n",
    "\n",
    "** Note: **\n",
    "\n",
    "If there is no such window in S that covers all characters in T, return the empty string “”.\n",
    "\n",
    "If there are multiple such windows, you are guaranteed that there will always be only one unique minimum window in S."
   ]
  },
  {
   "cell_type": "code",
   "execution_count": 32,
   "metadata": {
    "collapsed": true
   },
   "outputs": [],
   "source": [
    "import sys\n",
    "def minWindow(s, t):\n",
    "    if len(t) > len(s):\n",
    "        return \"\"\n",
    "    lt = len(t)\n",
    "    count = lt\n",
    "    ct = collections.Counter(t)\n",
    "    left = 0\n",
    "    right = 0\n",
    "    minLength = sys.maxsize\n",
    "    notfound = 1\n",
    "    ansleft = 0\n",
    "    ansright = 0\n",
    "    print(ct)\n",
    "    for i in range(len(s)):\n",
    "        # found in t\n",
    "        if ct[s[i]] > 0:\n",
    "            count -= 1\n",
    "        ct[s[i]] -= 1\n",
    "        #print(s[i], ct)\n",
    "        # found a window, containing all chars from t\n",
    "        while count == 0:\n",
    "            right = i\n",
    "            notfound = 0\n",
    "            if right - left < minLength:\n",
    "                minLength = right-left\n",
    "                ansleft = left\n",
    "                ansright = right\n",
    "            # when map[left] is 0, meaning the exit char is in t, then count++\n",
    "            if ct[s[left]] == 0:\n",
    "                count += 1\n",
    "            ct[s[left]] += 1\n",
    "            #print(\"left: \", s[left], ct)\n",
    "            left += 1\n",
    "    if notfound == 1:\n",
    "        return \"\"\n",
    "    return s[ansleft:ansright+1]\n"
   ]
  },
  {
   "cell_type": "code",
   "execution_count": 33,
   "metadata": {},
   "outputs": [
    {
     "name": "stdout",
     "output_type": "stream",
     "text": [
      "Counter({'A': 1, 'B': 1, 'C': 1})\n"
     ]
    },
    {
     "data": {
      "text/plain": [
       "'BANC'"
      ]
     },
     "execution_count": 33,
     "metadata": {},
     "output_type": "execute_result"
    }
   ],
   "source": [
    "s = \"ADOBECODEBANC\"\n",
    "t = \"ABC\"\n",
    "minWindow(s, t)"
   ]
  },
  {
   "cell_type": "code",
   "execution_count": null,
   "metadata": {
    "collapsed": true
   },
   "outputs": [],
   "source": []
  },
  {
   "cell_type": "markdown",
   "metadata": {},
   "source": [
    "### <a id='Ex4'> Ex.4 Longest Substring with At Most 2 Distinct Characters\n",
    "\n",
    "Given a string, find the length of the longest substring T that contains at most 2 distinct characters.\n",
    "\n",
    "### <a id='Ex5'> Ex.5 Longest Substring with At Most K Distinct Characters\n",
    "\n",
    "Given a string, find the length of the longest substring T that contains at most k distinct characters."
   ]
  },
  {
   "cell_type": "code",
   "execution_count": 21,
   "metadata": {
    "collapsed": true
   },
   "outputs": [],
   "source": [
    "def lengthOfLongestSubstringKDistinct(s, k):\n",
    "    longest, start, distinct_count, visited = 0, 0, 0, [0 for _ in range(256)]\n",
    "    for i, char in enumerate(s):\n",
    "        if visited[ord(char)] == 0:\n",
    "            distinct_count += 1\n",
    "        visited[ord(char)] += 1\n",
    "\n",
    "        while distinct_count > k:\n",
    "            visited[ord(s[start])] -= 1\n",
    "            if visited[ord(s[start])] == 0:\n",
    "                distinct_count -= 1\n",
    "            start += 1\n",
    "\n",
    "        longest = max(longest, i - start + 1)\n",
    "    return longest"
   ]
  },
  {
   "cell_type": "code",
   "execution_count": 25,
   "metadata": {},
   "outputs": [
    {
     "data": {
      "text/plain": [
       "3"
      ]
     },
     "execution_count": 25,
     "metadata": {},
     "output_type": "execute_result"
    }
   ],
   "source": [
    "nums = 'eceba'\n",
    "k = 2\n",
    "\n",
    "lengthOfLongestSubstringKDistinct(nums, k)\n"
   ]
  },
  {
   "cell_type": "code",
   "execution_count": 26,
   "metadata": {
    "collapsed": true
   },
   "outputs": [],
   "source": [
    "def lengthOfLongestSubstringKDistinct(s, k):\n",
    "    start = 0\n",
    "    longest = 0\n",
    "    char_dict = {}\n",
    "\n",
    "\n",
    "    for index in range(len(s)):\n",
    "        char = s[index]\n",
    "        char_dict[char] = char_dict.get(char, 0) + 1  # track count of chars\n",
    "\n",
    "        # decrease the size of sliding window until you have k unique chars in sliding window\n",
    "        while len(char_dict) > k: \n",
    "            char_dict[s[start]] -= 1\n",
    "            if char_dict[s[start]] == 0:\n",
    "                del char_dict[s[start]]\n",
    "            start += 1\n",
    "\n",
    "        longest = max(longest, index+1-start)\n",
    "\n",
    "    return longest"
   ]
  },
  {
   "cell_type": "code",
   "execution_count": 27,
   "metadata": {},
   "outputs": [
    {
     "data": {
      "text/plain": [
       "3"
      ]
     },
     "execution_count": 27,
     "metadata": {},
     "output_type": "execute_result"
    }
   ],
   "source": [
    "nums = 'eceba'\n",
    "k = 2\n",
    "\n",
    "lengthOfLongestSubstringKDistinct(nums, k)"
   ]
  },
  {
   "cell_type": "markdown",
   "metadata": {},
   "source": [
    "### <a id='Ex6'> Ex.6 Sliding Window Maximum\n",
    "\n",
    "Given an array nums, there is a sliding window of size k which is moving from the very left of the array to the very right. You can only see the k numbers in the window. Each time the sliding window moves right by one position.\n",
    "\n",
    "For example,\n",
    "\n",
    "Given nums = [1,3,-1,-3,5,3,6,7], and k = 3.\n",
    "\n",
    "<img src=\"../images/ch20/slidingwindowmax.jpg\" width=\"260\"/>"
   ]
  },
  {
   "cell_type": "code",
   "execution_count": 9,
   "metadata": {
    "collapsed": true
   },
   "outputs": [],
   "source": [
    "def maxSlidingWindow(nums, k):\n",
    "    d = collections.deque()\n",
    "    out = []\n",
    "    for i, n in enumerate(nums):\n",
    "        while d and nums[d[-1]] < n:\n",
    "            d.pop()\n",
    "        d += i,\n",
    "        if d[0] == i - k:\n",
    "            d.popleft()\n",
    "        if i >= k - 1:\n",
    "            out += nums[d[0]],\n",
    "    return out"
   ]
  },
  {
   "cell_type": "code",
   "execution_count": 10,
   "metadata": {},
   "outputs": [
    {
     "data": {
      "text/plain": [
       "[3, 3, 5, 5, 6, 7]"
      ]
     },
     "execution_count": 10,
     "metadata": {},
     "output_type": "execute_result"
    }
   ],
   "source": [
    "nums = [1,3,-1,-3,5,3,6,7]\n",
    "k = 3\n",
    "maxSlidingWindow(nums, k)"
   ]
  },
  {
   "cell_type": "code",
   "execution_count": null,
   "metadata": {
    "collapsed": true
   },
   "outputs": [],
   "source": []
  },
  {
   "cell_type": "code",
   "execution_count": null,
   "metadata": {
    "collapsed": true
   },
   "outputs": [],
   "source": []
  }
 ],
 "metadata": {
  "kernelspec": {
   "display_name": "Python 3",
   "language": "python",
   "name": "python3"
  },
  "language_info": {
   "codemirror_mode": {
    "name": "ipython",
    "version": 3
   },
   "file_extension": ".py",
   "mimetype": "text/x-python",
   "name": "python",
   "nbconvert_exporter": "python",
   "pygments_lexer": "ipython3",
   "version": "3.6.1"
  }
 },
 "nbformat": 4,
 "nbformat_minor": 2
}
