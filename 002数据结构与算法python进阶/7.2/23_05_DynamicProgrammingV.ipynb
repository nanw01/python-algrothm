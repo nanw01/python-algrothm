{
 "cells": [
  {
   "cell_type": "markdown",
   "metadata": {
    "run_control": {
     "frozen": false,
     "read_only": false
    }
   },
   "source": [
    "# Dynamic Programming IV"
   ]
  },
  {
   "cell_type": "markdown",
   "metadata": {},
   "source": [
    "### 2-D Dynamic Programming"
   ]
  },
  {
   "cell_type": "markdown",
   "metadata": {},
   "source": [
    "** Ex.1 Matrix Chain **\n",
    "\n",
    "<img src=\"../images/ch23/matrix.JPG\" width=\"660\"/>"
   ]
  },
  {
   "cell_type": "markdown",
   "metadata": {
    "collapsed": true
   },
   "source": [
    "<img src=\"../images/ch23/MatrixExample.JPG\" width=\"360\"/>"
   ]
  },
  {
   "cell_type": "markdown",
   "metadata": {},
   "source": [
    "<img src=\"../images/ch23/matrixways1.JPG\" width=\"500\"/>"
   ]
  },
  {
   "cell_type": "markdown",
   "metadata": {},
   "source": [
    "<img src=\"../images/ch23/matrixways2.JPG\" width=\"650\"/>"
   ]
  },
  {
   "cell_type": "markdown",
   "metadata": {},
   "source": [
    "<img src=\"../images/ch23/Matrixcatalon.JPG\" width=\"560\"/>"
   ]
  },
  {
   "cell_type": "markdown",
   "metadata": {},
   "source": [
    "<img src=\"../images/ch23/Matrixsolution.JPG\" width=\"860\"/>"
   ]
  },
  {
   "cell_type": "code",
   "execution_count": null,
   "metadata": {
    "collapsed": true
   },
   "outputs": [],
   "source": []
  },
  {
   "cell_type": "markdown",
   "metadata": {},
   "source": [
    "<img src=\"../images/ch23/Matrixexample1.JPG\" width=\"560\"/>\n",
    "<img src=\"../images/ch23/Matrixexample2.JPG\" width=\"560\"/>\n",
    "<img src=\"../images/ch23/Matrixexample3.JPG\" width=\"560\"/>\n",
    "<img src=\"../images/ch23/Matrixexample4.JPG\" width=\"560\"/>"
   ]
  },
  {
   "cell_type": "code",
   "execution_count": null,
   "metadata": {
    "collapsed": true
   },
   "outputs": [],
   "source": []
  },
  {
   "cell_type": "markdown",
   "metadata": {},
   "source": [
    "** Ex.2 Sales Travelling **\n",
    "\n",
    "Given a list of n points (x,y) on the plane, construct a path (tour) of minimal length (via the Euclidean distance measure) that starts at some vertex, visits all remaining the n-1 vertices exactly once, and returns to the original vertex.\n",
    "\n",
    "<img src=\"../images/ch23/salestravel.png\" width=\"360\"/>\n"
   ]
  },
  {
   "cell_type": "code",
   "execution_count": null,
   "metadata": {
    "collapsed": true
   },
   "outputs": [],
   "source": []
  },
  {
   "cell_type": "markdown",
   "metadata": {},
   "source": [
    "** Ex.3 Floyd-Warshall Algorithm **\n",
    "\n",
    "Find the shortest distance in a directed edge weighted graph between all pairs of vertices.\n",
    "\n",
    "<img src=\"../images/ch23/floydW.png\" width=\"400\"/>"
   ]
  },
  {
   "cell_type": "code",
   "execution_count": null,
   "metadata": {
    "collapsed": true
   },
   "outputs": [],
   "source": []
  }
 ],
 "metadata": {
  "kernelspec": {
   "display_name": "Python 3",
   "language": "python",
   "name": "python3"
  },
  "language_info": {
   "codemirror_mode": {
    "name": "ipython",
    "version": 3
   },
   "file_extension": ".py",
   "mimetype": "text/x-python",
   "name": "python",
   "nbconvert_exporter": "python",
   "pygments_lexer": "ipython3",
   "version": "3.6.1"
  }
 },
 "nbformat": 4,
 "nbformat_minor": 2
}
