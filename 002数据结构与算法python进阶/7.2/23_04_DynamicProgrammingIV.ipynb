{
 "cells": [
  {
   "cell_type": "markdown",
   "metadata": {
    "run_control": {
     "frozen": false,
     "read_only": false
    }
   },
   "source": [
    "# Dynamic Programming IV"
   ]
  },
  {
   "cell_type": "markdown",
   "metadata": {},
   "source": [
    "### 2-D Dynamic Programming"
   ]
  },
  {
   "cell_type": "markdown",
   "metadata": {},
   "source": [
    "** Ex.1 0/1 Knapsack **"
   ]
  },
  {
   "cell_type": "markdown",
   "metadata": {},
   "source": [
    "Given weights and values of n items, put these items in a knapsack of capacity W to get the maximum total value in the knapsack. "
   ]
  },
  {
   "cell_type": "markdown",
   "metadata": {},
   "source": [
    "<img src=\"../images/ch23/01knapsack.png\" width=\"640\"/>"
   ]
  },
  {
   "cell_type": "markdown",
   "metadata": {},
   "source": [
    "<img src=\"../images/ch23/01knapsack2.png\" width=\"900\"/>"
   ]
  },
  {
   "cell_type": "markdown",
   "metadata": {},
   "source": [
    "<img src=\"../images/ch23/01knapsack.png\" width=\"640\"/>\n",
    "<img src=\"../images/ch23/01knapsack3.png\" width=\"640\"/>"
   ]
  },
  {
   "cell_type": "code",
   "execution_count": 6,
   "metadata": {
    "collapsed": true
   },
   "outputs": [],
   "source": [
    "def knapSack(W, wt, val, n):\n",
    "    K = [[0 for x in range(W+1)] for x in range(n+1)]\n",
    " \n",
    "    # Build table K[][] in bottom up manner\n",
    "    for i in range(n+1):\n",
    "        for w in range(W+1):\n",
    "            if i==0 or w==0:\n",
    "                K[i][w] = 0\n",
    "            elif wt[i-1] <= w:\n",
    "                K[i][w] = max(val[i-1] + K[i-1][w-wt[i-1]],  K[i-1][w])\n",
    "            else:\n",
    "                K[i][w] = K[i-1][w]\n",
    " \n",
    "    return K[n][W]\n"
   ]
  },
  {
   "cell_type": "code",
   "execution_count": 3,
   "metadata": {},
   "outputs": [
    {
     "name": "stdout",
     "output_type": "stream",
     "text": [
      "9\n"
     ]
    }
   ],
   "source": [
    "val = [5, 3, 4]\n",
    "wt = [3, 2, 1]\n",
    "W = 5\n",
    "n = len(val)\n",
    "print(knapSack(W, wt, val, n))"
   ]
  },
  {
   "cell_type": "code",
   "execution_count": 4,
   "metadata": {},
   "outputs": [
    {
     "name": "stdout",
     "output_type": "stream",
     "text": [
      "33\n"
     ]
    }
   ],
   "source": [
    "val = [5,7,10,13,3,11]\n",
    "wt = [2,3,4,6,1,5]\n",
    "W = 14\n",
    "n = len(val)\n",
    "print(knapSack(W, wt, val, n))"
   ]
  },
  {
   "cell_type": "markdown",
   "metadata": {},
   "source": [
    "** Ex.2 Longest Common Substring **\n",
    "\n",
    "Given two strings ‘X’ and ‘Y’, find the length of the longest common substring.\n",
    "\n",
    "Input : X = \"abcdxyz\", y = \"xyzabcd\"\n",
    "\n",
    "Output : 4\n",
    "\n",
    "The longest common substring is \"abcd\" and is of length 4.\n",
    "\n",
    "\n",
    "Input : X = \"zxabcdezy\", y = \"yzabcdezx\"\n",
    "\n",
    "Output : 6\n",
    "\n",
    "The longest common substring is \"abcdez\" and is of length 6."
   ]
  },
  {
   "cell_type": "code",
   "execution_count": 4,
   "metadata": {
    "collapsed": true
   },
   "outputs": [],
   "source": [
    "def LCS(X, Y, m, n):\n",
    "     \n",
    "    matrix = [[0 for k in range(n+1)] for l in range(m+1)]\n",
    "     \n",
    "    result = 0\n",
    " \n",
    "    for i in range(m + 1):\n",
    "        for j in range(n + 1):\n",
    "            if (i == 0 or j == 0):\n",
    "                matrix[i][j] = 0\n",
    "            elif (X[i-1] == Y[j-1]):\n",
    "                matrix[i][j] = matrix[i-1][j-1] + 1\n",
    "                result = max(result, matrix[i][j])\n",
    "            else:\n",
    "                matrix[i][j] = max(matrix[i-1][j], matrix[i][j-1])\n",
    "    return result"
   ]
  },
  {
   "cell_type": "code",
   "execution_count": 11,
   "metadata": {},
   "outputs": [
    {
     "data": {
      "text/plain": [
       "4"
      ]
     },
     "execution_count": 11,
     "metadata": {},
     "output_type": "execute_result"
    }
   ],
   "source": [
    "X = 'AGGTAB'\n",
    "Y = 'GXTXAYB'\n",
    " \n",
    "m = len(X)\n",
    "n = len(Y)\n",
    "LCS(X, Y, m, n)"
   ]
  },
  {
   "cell_type": "code",
   "execution_count": 12,
   "metadata": {},
   "outputs": [
    {
     "data": {
      "text/plain": [
       "3"
      ]
     },
     "execution_count": 12,
     "metadata": {},
     "output_type": "execute_result"
    }
   ],
   "source": [
    "X = '01101'\n",
    "Y = '10011'\n",
    " \n",
    "m = len(X)\n",
    "n = len(Y)\n",
    "LCS(X, Y, m, n)"
   ]
  },
  {
   "cell_type": "code",
   "execution_count": null,
   "metadata": {
    "collapsed": true
   },
   "outputs": [],
   "source": []
  },
  {
   "cell_type": "markdown",
   "metadata": {},
   "source": [
    "** Ex.3 Longest Increasing Subsequence **\n",
    "\n",
    "Given an unsorted array of integers, find the length of longest increasing subsequence.\n",
    "\n",
    "For example,\n",
    "\n",
    "Given [10, 9, 2, 5, 3, 7, 101, 18],\n",
    "\n",
    "The longest increasing subsequence is [2, 3, 7, 101], therefore the length is 4. Note that there may be more than one LIS combination, it is only necessary for you to return the length.\n",
    "\n",
    "Your algorithm should run in O(n2) complexity.\n",
    "\n",
    "Follow up: Could you improve it to O(n log n) time complexity?"
   ]
  },
  {
   "cell_type": "code",
   "execution_count": null,
   "metadata": {
    "collapsed": true
   },
   "outputs": [],
   "source": []
  },
  {
   "cell_type": "markdown",
   "metadata": {},
   "source": [
    "** Solution 1:**\n",
    "\n",
    "Using LCS.\n",
    "\n",
    "Sort and run LCS on sorted array and original array.\n",
    "\n",
    "O(n^2)"
   ]
  },
  {
   "cell_type": "code",
   "execution_count": 5,
   "metadata": {
    "collapsed": true
   },
   "outputs": [],
   "source": [
    "def lengthOfLIS1(nums):\n",
    "    sortNums = sorted(nums)\n",
    "    n = len(nums)\n",
    "    return LCS(nums, sortNums, n, n)"
   ]
  },
  {
   "cell_type": "code",
   "execution_count": 6,
   "metadata": {},
   "outputs": [
    {
     "data": {
      "text/plain": [
       "4"
      ]
     },
     "execution_count": 6,
     "metadata": {},
     "output_type": "execute_result"
    }
   ],
   "source": [
    "nums = [10, 9, 2, 5, 3, 7, 101, 18]\n",
    "lengthOfLIS1(nums)"
   ]
  },
  {
   "cell_type": "code",
   "execution_count": null,
   "metadata": {
    "collapsed": true
   },
   "outputs": [],
   "source": []
  },
  {
   "cell_type": "markdown",
   "metadata": {},
   "source": [
    "** Solution 2:**\n",
    "\n",
    "L(i) be the length of LIS ending at index i, such that, arr[i] os the last element of the LIS.\n",
    "\n",
    "L(i) = 1 + max(L(j)),  where 0 < j < i and arr[j] < arr[i]\n",
    "\n",
    "L(i) = 1,              if no such j exists\n",
    "\n",
    "return max(L(i)), where 0 < i < n."
   ]
  },
  {
   "cell_type": "code",
   "execution_count": 7,
   "metadata": {
    "collapsed": true
   },
   "outputs": [],
   "source": [
    "def lengthOfLIS2(nums):\n",
    "    if not nums:\n",
    "        return 0\n",
    "    dp = [1]*len(nums)\n",
    "    for i in range (1, len(nums)):\n",
    "        for j in range(i):\n",
    "            if nums[i] >nums[j]:\n",
    "                dp[i] = max(dp[i], dp[j]+1)\n",
    "    return max(dp)\n"
   ]
  },
  {
   "cell_type": "code",
   "execution_count": 8,
   "metadata": {},
   "outputs": [
    {
     "data": {
      "text/plain": [
       "4"
      ]
     },
     "execution_count": 8,
     "metadata": {},
     "output_type": "execute_result"
    }
   ],
   "source": [
    "nums = [10, 9, 2, 5, 3, 7, 101, 18]\n",
    "lengthOfLIS2(nums)"
   ]
  },
  {
   "cell_type": "code",
   "execution_count": null,
   "metadata": {
    "collapsed": true
   },
   "outputs": [],
   "source": []
  },
  {
   "cell_type": "markdown",
   "metadata": {},
   "source": [
    "** Solution 3:**\n",
    "\n",
    "Maintain a list: store the increasing subsequence formed by including the curretly encounted element.\n",
    "\n",
    "For jth element, we determine its correct position in dp array, using binary search.\n",
    "\n",
    "In this approach, we scan the array from left to right. We also make use of a dp array initialized with all 0's. \n",
    "\n",
    "This dp array is meant to store the increasing subsequence formed by including the currently encountered element. While traversing the nums array, we keep on filling the dp array with the elements encountered so far. For the element corresponding to the jth index (nums[j]), we determine its correct position in the dp array(say ith index) by making use of Binary Search(which can be used since the dp array is storing increasing subsequence) and also insert it at the correct position.\n",
    "\n",
    "An important point to be noted is that for Binary Search, we consider only that portion of the dp array in which we have made the updates by inserting some elements at their correct positions (which remains always sorted). Thus, only the elements upto the ith index in the dp array can determine the position of the current element in it. Since, the element enters its correct position in an ascending order in the dp array, the subsequence formed so far in it is surely an increasing subsequence.\n",
    "\n",
    "Whenever this position index ii becomes equal to the length of the LIS formed so far(len), it means, we need to update the len as len = len + 1\n",
    "\n",
    "Note: dp array does not result in longest increasing subsequence, but length of dp array will give you length of LIS.\n"
   ]
  },
  {
   "cell_type": "code",
   "execution_count": null,
   "metadata": {
    "collapsed": true
   },
   "outputs": [],
   "source": []
  },
  {
   "cell_type": "code",
   "execution_count": 1,
   "metadata": {
    "collapsed": true
   },
   "outputs": [],
   "source": [
    "#using binary search\n",
    "def lengthOfLIS(nums):\n",
    "    def search(temp, left, right, target):\n",
    "        if left == right:\n",
    "            return left\n",
    "        mid = left+(right-left)//2\n",
    "        return search(temp, mid+1, right, target) if temp[mid]<target else search(temp, left, mid, target)\n",
    "    temp = []\n",
    "    for num in nums:\n",
    "        pos = search(temp, 0, len(temp), num)\n",
    "        if pos >=len(temp):\n",
    "            temp.append(num)\n",
    "        else:\n",
    "            temp[pos]=num\n",
    "    print(temp)\n",
    "    return len(temp)"
   ]
  },
  {
   "cell_type": "code",
   "execution_count": 14,
   "metadata": {},
   "outputs": [
    {
     "name": "stdout",
     "output_type": "stream",
     "text": [
      "[2, 3, 4, 9, 10]\n"
     ]
    },
    {
     "data": {
      "text/plain": [
       "5"
      ]
     },
     "execution_count": 14,
     "metadata": {},
     "output_type": "execute_result"
    }
   ],
   "source": [
    "nums = [10, 9, 2, 5, 3, 7, 101, 18, 9, 4, 10]\n",
    "lengthOfLIS(nums)"
   ]
  },
  {
   "cell_type": "code",
   "execution_count": 10,
   "metadata": {},
   "outputs": [
    {
     "name": "stdout",
     "output_type": "stream",
     "text": [
      "[0, 1, 2, 12, 15]\n"
     ]
    },
    {
     "data": {
      "text/plain": [
       "5"
      ]
     },
     "execution_count": 10,
     "metadata": {},
     "output_type": "execute_result"
    }
   ],
   "source": [
    "nums = [0, 8, 4, 12, 2, 15, 1, 10,12,15,2]\n",
    "lengthOfLIS(nums)"
   ]
  },
  {
   "cell_type": "code",
   "execution_count": null,
   "metadata": {
    "collapsed": true
   },
   "outputs": [],
   "source": []
  },
  {
   "cell_type": "code",
   "execution_count": 17,
   "metadata": {
    "collapsed": true
   },
   "outputs": [],
   "source": [
    "from bisect import bisect "
   ]
  },
  {
   "cell_type": "code",
   "execution_count": 18,
   "metadata": {
    "collapsed": true
   },
   "outputs": [],
   "source": [
    "#using binary search\n",
    "def lengthOfLIS(nums):\n",
    "\n",
    "    temp = []\n",
    "    for num in nums:\n",
    "        pos = bisect(temp, num) \n",
    "        if pos >=len(temp):\n",
    "            temp.append(num)\n",
    "        else:\n",
    "            temp[pos]=num\n",
    "    return len(temp)"
   ]
  },
  {
   "cell_type": "code",
   "execution_count": 19,
   "metadata": {},
   "outputs": [
    {
     "data": {
      "text/plain": [
       "4"
      ]
     },
     "execution_count": 19,
     "metadata": {},
     "output_type": "execute_result"
    }
   ],
   "source": [
    "nums = [10, 9, 2, 5, 3, 7, 101, 18]\n",
    "lengthOfLIS(nums)"
   ]
  },
  {
   "cell_type": "code",
   "execution_count": 23,
   "metadata": {},
   "outputs": [
    {
     "data": {
      "text/plain": [
       "5"
      ]
     },
     "execution_count": 23,
     "metadata": {},
     "output_type": "execute_result"
    }
   ],
   "source": [
    "nums = [10, 9, 2, 5, 3, 7, 101, 18, 9, 4, 10]\n",
    "lengthOfLIS(nums)"
   ]
  },
  {
   "cell_type": "code",
   "execution_count": 20,
   "metadata": {},
   "outputs": [
    {
     "data": {
      "text/plain": [
       "3"
      ]
     },
     "execution_count": 20,
     "metadata": {},
     "output_type": "execute_result"
    }
   ],
   "source": [
    "nums = [0,8,4,12,2]\n",
    "lengthOfLIS(nums)"
   ]
  },
  {
   "cell_type": "code",
   "execution_count": 21,
   "metadata": {},
   "outputs": [
    {
     "data": {
      "text/plain": [
       "4"
      ]
     },
     "execution_count": 21,
     "metadata": {},
     "output_type": "execute_result"
    }
   ],
   "source": [
    "nums = [10, 9, 2, 5, 3, 7, 101, 18]\n",
    "lengthOfLIS(nums)"
   ]
  },
  {
   "cell_type": "code",
   "execution_count": 22,
   "metadata": {},
   "outputs": [
    {
     "data": {
      "text/plain": [
       "5"
      ]
     },
     "execution_count": 22,
     "metadata": {},
     "output_type": "execute_result"
    }
   ],
   "source": [
    "nums = [9,1,3,7,5,6,20]\n",
    "lengthOfLIS(nums)"
   ]
  },
  {
   "cell_type": "code",
   "execution_count": null,
   "metadata": {
    "collapsed": true
   },
   "outputs": [],
   "source": []
  }
 ],
 "metadata": {
  "kernelspec": {
   "display_name": "Python 3",
   "language": "python",
   "name": "python3"
  },
  "language_info": {
   "codemirror_mode": {
    "name": "ipython",
    "version": 3
   },
   "file_extension": ".py",
   "mimetype": "text/x-python",
   "name": "python",
   "nbconvert_exporter": "python",
   "pygments_lexer": "ipython3",
   "version": "3.6.1"
  }
 },
 "nbformat": 4,
 "nbformat_minor": 2
}
