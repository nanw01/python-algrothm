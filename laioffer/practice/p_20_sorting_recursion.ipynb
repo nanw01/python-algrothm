{
 "metadata": {
  "language_info": {
   "codemirror_mode": {
    "name": "ipython",
    "version": 3
   },
   "file_extension": ".py",
   "mimetype": "text/x-python",
   "name": "python",
   "nbconvert_exporter": "python",
   "pygments_lexer": "ipython3",
   "version": "3.8.5-final"
  },
  "orig_nbformat": 2,
  "kernelspec": {
   "name": "python3",
   "display_name": "Python 3",
   "language": "python"
  }
 },
 "nbformat": 4,
 "nbformat_minor": 2,
 "cells": [
  {
   "cell_type": "code",
   "execution_count": 2,
   "metadata": {},
   "outputs": [
    {
     "output_type": "stream",
     "name": "stdout",
     "text": [
      "level 4\ncompare: 0\ncompare: 1\nafter swap: [2, 1, 3, 0.5, -1]\ncompare: 2\nafter swap: [2, 1, 0.5, 3, -1]\ncompare: 3\nafter swap: [2, 1, 0.5, -1, 3]\nlevel 3\ncompare: 0\nafter swap: [1, 2, 0.5, -1, 3]\ncompare: 1\nafter swap: [1, 0.5, 2, -1, 3]\ncompare: 2\nafter swap: [1, 0.5, -1, 2, 3]\nlevel 2\ncompare: 0\nafter swap: [0.5, 1, -1, 2, 3]\ncompare: 1\nafter swap: [0.5, -1, 1, 2, 3]\nlevel 1\ncompare: 0\nafter swap: [-1, 0.5, 1, 2, 3]\n"
     ]
    },
    {
     "output_type": "execute_result",
     "data": {
      "text/plain": [
       "[-1, 0.5, 1, 2, 3]"
      ]
     },
     "metadata": {},
     "execution_count": 2
    }
   ],
   "source": [
    "def bubble_sort(list):\n",
    "    for n in range(len(list)-1,0,-1):\n",
    "        print('level',n)\n",
    "        for j in range(n):\n",
    "            print('compare:',j)\n",
    "            if list[j] > list[j+1]:\n",
    "                list[j], list[j+1] = list[j+1], list[j]\n",
    "                print('after swap:',list)\n",
    "\n",
    "alist = [2,3,1,0.5,-1]\n",
    "bubble_sort(alist)\n",
    "alist"
   ]
  },
  {
   "cell_type": "code",
   "execution_count": 10,
   "metadata": {},
   "outputs": [
    {
     "output_type": "execute_result",
     "data": {
      "text/plain": [
       "[-1, 0.5, 1, 2, 3]"
      ]
     },
     "metadata": {},
     "execution_count": 10
    }
   ],
   "source": [
    "def bubble_sort2(list):\n",
    "    for i in range(len(list)-1,0,-1):\n",
    "        for j in range(i):\n",
    "            if list[j]> list[j+1]:\n",
    "                list[j], list[j+1] = list[j+1], list[j]\n",
    "\n",
    "        \n",
    "\n",
    "alist = [2,3,1,0.5,-1]\n",
    "bubble_sort2(alist)\n",
    "alist"
   ]
  },
  {
   "cell_type": "code",
   "execution_count": 9,
   "metadata": {},
   "outputs": [
    {
     "output_type": "execute_result",
     "data": {
      "text/plain": [
       "[8, 7, 6, 5, 4, 3, 2, 1]"
      ]
     },
     "metadata": {},
     "execution_count": 9
    }
   ],
   "source": [
    "list(range(8,0,-1))"
   ]
  },
  {
   "cell_type": "code",
   "execution_count": 17,
   "metadata": {},
   "outputs": [
    {
     "output_type": "execute_result",
     "data": {
      "text/plain": [
       "[-1, 0, 1, 2, 3, 5]"
      ]
     },
     "metadata": {},
     "execution_count": 17
    }
   ],
   "source": [
    "def selection_sort(lst):\n",
    "    for i in range(len(lst)-1,0,-1):\n",
    "        max_index=0\n",
    "        for j in range(i+1):\n",
    "            if lst[max_index]< lst[j]:\n",
    "                max_index = j\n",
    "        lst[i],lst[max_index] = lst[max_index],lst[i]\n",
    "\n",
    "\n",
    "alist = [2,3,1,0,5,-1]\n",
    "selection_sort(alist)\n",
    "alist\n"
   ]
  },
  {
   "cell_type": "code",
   "execution_count": null,
   "metadata": {},
   "outputs": [],
   "source": []
  }
 ]
}