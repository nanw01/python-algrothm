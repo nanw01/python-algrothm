{
 "metadata": {
  "language_info": {
   "codemirror_mode": {
    "name": "ipython",
    "version": 3
   },
   "file_extension": ".py",
   "mimetype": "text/x-python",
   "name": "python",
   "nbconvert_exporter": "python",
   "pygments_lexer": "ipython3",
   "version": "3.8.5-final"
  },
  "orig_nbformat": 2,
  "kernelspec": {
   "name": "python3",
   "display_name": "Python 3",
   "language": "python"
  }
 },
 "nbformat": 4,
 "nbformat_minor": 2,
 "cells": [
  {
   "cell_type": "code",
   "execution_count": 5,
   "metadata": {},
   "outputs": [],
   "source": [
    "class ListNode(object):\n",
    "    def __init__(self, value):\n",
    "        self.value = value\n",
    "        self.next = None"
   ]
  },
  {
   "cell_type": "code",
   "execution_count": 6,
   "metadata": {},
   "outputs": [],
   "source": [
    "def buildList(seq):\n",
    "    f = ListNode(None)\n",
    "    c = f\n",
    "    for i in seq:\n",
    "        c.next = ListNode(i)\n",
    "        c = c.next\n",
    "    \n",
    "    return f.next"
   ]
  },
  {
   "cell_type": "code",
   "execution_count": null,
   "metadata": {},
   "outputs": [],
   "source": []
  },
  {
   "cell_type": "code",
   "execution_count": 7,
   "metadata": {},
   "outputs": [],
   "source": [
    "h = buildList([1,2,3,4,5,6,7,8,9,0])"
   ]
  },
  {
   "cell_type": "code",
   "execution_count": null,
   "metadata": {},
   "outputs": [],
   "source": []
  },
  {
   "cell_type": "code",
   "execution_count": null,
   "metadata": {},
   "outputs": [],
   "source": [
    "class _ListNode(object):\n",
    "    def __init__(self, val):\n",
    "        self.val = val\n",
    "        self.next = None\n",
    "\n",
    "class MyLinkedList(object):\n",
    "    def __init__(sef):\n",
    "        self._head = None\n",
    "        self._length = 0\n",
    "        self._tail = None\n",
    "    \n",
    "    def _get(self, index):\n",
    "        node = self._head\n",
    "        for _ in range(index):\n",
    "            node = node.next\n",
    "        return node\n",
    "\n",
    "    def get(self,index):\n",
    "        if index >= self.length or inde < 0:\n",
    "            return -1\n",
    "        return self._get(index).val\n",
    "    \n",
    "    def addAtHead(self,value):\n",
    "        if self.length == 0:\n",
    "            self._head = self._tail = _ListNode(val)\n",
    "        else:\n",
    "            newHead = _ListNode(val)\n",
    "            newHead.next = self._head\n",
    "            self._head = newHead\n",
    "        self._length += 1\n",
    "    \n",
    "    def addAtTail(self, val):\n",
    "        if self._length == 0:\n",
    "            self._head = self._tail = _ListNode(val)\n",
    "        else:\n",
    "            self._tail =.next = _ListNode(val)\n",
    "            self._tail = self._tail.next\n",
    "        self._length += 1\n",
    "    \n",
    "    def addAtIndex(self, index, val):\n",
    "        if index < 0 or index > self._length:\n",
    "            return\n",
    "        if index == 0:\n",
    "            self.addAtHead(val)\n",
    "        elif index == self._length:\n",
    "            self.addAtTail(val)\n",
    "        else:\n",
    "            node = self._get(index - 1)\n",
    "            newNode = _ListNode(val)\n",
    "            newNode.next = node.next\n",
    "            node.next = newNode\n",
    "            self._length += 1\n",
    "        "
   ]
  },
  {
   "cell_type": "code",
   "execution_count": 12,
   "metadata": {},
   "outputs": [
    {
     "output_type": "stream",
     "name": "stdout",
     "text": [
      "1\n2\n3\n4\n\n4\n3\n2\n1\n"
     ]
    }
   ],
   "source": [
    "class ListNode(object):\n",
    "    def __init__(self, value):\n",
    "        self.value = value\n",
    "        self.next = None\n",
    "\n",
    "def buildList(seq):\n",
    "    # seq is a list of objects.\n",
    "    f = ListNode(None)\n",
    "    c = f\n",
    "    for obj in seq:\n",
    "        c.next = ListNode(obj)\n",
    "        c = c.next\n",
    "    h, f.next = f.next, None\n",
    "    return h\n",
    "\n",
    "def reverseList(head):\n",
    "    if not head or not head.next:\n",
    "        return head\n",
    "    h = reverseList(head.next)\n",
    "    head.next.next = head\n",
    "    head.next = None\n",
    "    return h\n",
    "\n",
    "def printAllNodes(node):\n",
    "    while node is not None:\n",
    "        print(node.value)\n",
    "        node = node.next\n",
    "\n",
    "h = buildList([1,2,3,4])\n",
    "printAllNodes(h)\n",
    "print()\n",
    "h = reverseList(h)\n",
    "printAllNodes(h)"
   ]
  },
  {
   "cell_type": "code",
   "execution_count": 13,
   "metadata": {},
   "outputs": [
    {
     "output_type": "stream",
     "name": "stdout",
     "text": [
      "1\n2\n3\n4\n"
     ]
    }
   ],
   "source": [
    "def reseveListNodes(node):\n",
    "    if not node or not node.next:\n",
    "        return node\n",
    "    h = reseveListNodes(node.next)\n",
    "    node.next.next = node\n",
    "    node.next = None\n",
    "    return h\n",
    "h = reseveListNodes(h)\n",
    "printAllNodes(h)"
   ]
  },
  {
   "cell_type": "code",
   "execution_count": 17,
   "metadata": {},
   "outputs": [],
   "source": [
    "def merge(node1, node2):\n",
    "    if node1 is None:\n",
    "        return node2\n",
    "    if node2 is None:\n",
    "        return node1\n",
    "    if node1.value < node2.value:\n",
    "        node1.next = merge(node1.next, node2)\n",
    "        return node1\n",
    "    else:\n",
    "        node2.next = merge(node1, node2.next)\n",
    "        return node2"
   ]
  },
  {
   "cell_type": "code",
   "execution_count": 23,
   "metadata": {},
   "outputs": [
    {
     "output_type": "stream",
     "name": "stdout",
     "text": [
      "1\n2\n3\n4\n5\n6\n7\n8\n0\n9\n"
     ]
    }
   ],
   "source": [
    "node1 = buildList([1,3,5,7,9])\n",
    "node2 = buildList([2,4,6,8])\n",
    "nodes = merge(node1, node2)\n",
    "printAllNodes(nodes)"
   ]
  }
 ]
}