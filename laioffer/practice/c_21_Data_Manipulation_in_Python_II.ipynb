{
  "nbformat": 4,
  "nbformat_minor": 0,
  "metadata": {
    "colab": {
      "name": "Data Manipulation in Python II 2020秋季1班.ipynb",
      "provenance": [],
      "collapsed_sections": []
    },
    "kernelspec": {
      "name": "python3",
      "display_name": "Python 3"
    }
  },
  "cells": [
    {
      "cell_type": "markdown",
      "metadata": {
        "id": "OBEByZPKJ-fi"
      },
      "source": [
        "#Data Manipulation in Python II"
      ]
    },
    {
      "cell_type": "markdown",
      "metadata": {
        "id": "96SKJkUhpNzR"
      },
      "source": [
        "**Objectives**\n",
        "* Learn Pandas Basics"
      ]
    },
    {
      "cell_type": "markdown",
      "metadata": {
        "id": "ekD-baKJwISB"
      },
      "source": [
        "**Things need to know**\n",
        "* 对于0基础的同学，以了解为主\n",
        "* 不需要可以从0把code写出来\n",
        "* 这部分code与算法课程code的思维不一样\n",
        "* 需要下课自己去跑一下code，尽量去理解\n",
        "* 工具终归是辅助我们的，先尽力学会一个\n",
        "* 逐步掌握python code debug能力"
      ]
    },
    {
      "cell_type": "markdown",
      "metadata": {
        "id": "S7LQMWhigQVD"
      },
      "source": [
        "## Pandas\n",
        "\n",
        "**Pandas** is a Python package providing fast, flexible, and expressive data structures designed to make working with “relational” or “labeled” data both easy and intuitive. It aims to be the fundamental high-level building block for doing practical, real world data analysis in Python. Additionally, it has the broader goal of becoming **the most powerful and flexible open source data analysis / manipulation tool available in any language**. It is already well on its way toward this goal.\n",
        "\n",
        "The two primary data structures of pandas, **Series (1-dimensional)** and **DataFrame (2-dimensional)**, handle the vast majority of typical use cases in finance, statistics, social science, and many areas of engineering. pandas is built on top of **NumPy** and is intended to integrate well within a scientific computing environment with many other 3rd party libraries."
      ]
    },
    {
      "cell_type": "markdown",
      "metadata": {
        "id": "MFzq7-k8Pz_7"
      },
      "source": [
        "####**Load Data**"
      ]
    },
    {
      "cell_type": "code",
      "metadata": {
        "id": "Y6ehD29wPypS"
      },
      "source": [
        "import numpy as np\n",
        "import pandas as pd"
      ],
      "execution_count": null,
      "outputs": []
    },
    {
      "cell_type": "code",
      "metadata": {
        "id": "17uRXLoERkSI"
      },
      "source": [
        "# read data from URL\n",
        "iris = 'https://gist.githubusercontent.com/curran/a08a1080b88344b0c8a7/raw/639388c2cbc2120a14dcf466e85730eb8be498bb/iris.csv'\n",
        "df_iris = pd.read_csv(iris, sep=',')"
      ],
      "execution_count": null,
      "outputs": []
    },
    {
      "cell_type": "code",
      "metadata": {
        "id": "QBT5n19WSeKh"
      },
      "source": [
        "# Read data from Google Drive (recommend)\n",
        "# Get sharable link and change the permission to \"Anyone with the link can view\"\n",
        "# https://drive.google.com/file/d/1AbJ1P9aXcjut9ox5lh6oDx4uYnLY2HBQ/view?usp=sharing\n",
        "# format: /d/<id>/view\n",
        "# copy out the id: 1AbJ1P9aXcjut9ox5lh6oDx4uYnLY2HBQ\n",
        "# replace the string in file_id\n",
        "\n",
        "file_id='1AbJ1P9aXcjut9ox5lh6oDx4uYnLY2HBQ'\n",
        "link='http://drive.google.com/uc?export=download&id={FILE_ID}'\n",
        "csv_url=link.format(FILE_ID=file_id)\n",
        "\n",
        "df_uk_rain = pd.read_csv(csv_url)"
      ],
      "execution_count": null,
      "outputs": []
    },
    {
      "cell_type": "code",
      "metadata": {
        "id": "ELBz4GbiywGq"
      },
      "source": [
        "df_uk_rain.columns = ['water_year','rain_octsep', 'outflow_octsep',\n",
        "              'rain_decfeb', 'outflow_decfeb', 'rain_junaug', 'outflow_junaug']"
      ],
      "execution_count": null,
      "outputs": []
    },
    {
      "cell_type": "code",
      "metadata": {
        "id": "QK1Zvc7LiCJ7",
        "colab": {
          "base_uri": "https://localhost:8080/",
          "height": 202
        },
        "outputId": "0d5150d3-61ff-46f2-fb71-58be98f6ef96"
      },
      "source": [
        "df_uk_rain.head()"
      ],
      "execution_count": null,
      "outputs": [
        {
          "output_type": "execute_result",
          "data": {
            "text/html": [
              "<div>\n",
              "<style scoped>\n",
              "    .dataframe tbody tr th:only-of-type {\n",
              "        vertical-align: middle;\n",
              "    }\n",
              "\n",
              "    .dataframe tbody tr th {\n",
              "        vertical-align: top;\n",
              "    }\n",
              "\n",
              "    .dataframe thead th {\n",
              "        text-align: right;\n",
              "    }\n",
              "</style>\n",
              "<table border=\"1\" class=\"dataframe\">\n",
              "  <thead>\n",
              "    <tr style=\"text-align: right;\">\n",
              "      <th></th>\n",
              "      <th>water_year</th>\n",
              "      <th>rain_octsep</th>\n",
              "      <th>outflow_octsep</th>\n",
              "      <th>rain_decfeb</th>\n",
              "      <th>outflow_decfeb</th>\n",
              "      <th>rain_junaug</th>\n",
              "      <th>outflow_junaug</th>\n",
              "    </tr>\n",
              "  </thead>\n",
              "  <tbody>\n",
              "    <tr>\n",
              "      <th>0</th>\n",
              "      <td>1980</td>\n",
              "      <td>1182</td>\n",
              "      <td>5408</td>\n",
              "      <td>292</td>\n",
              "      <td>7248</td>\n",
              "      <td>174</td>\n",
              "      <td>2212</td>\n",
              "    </tr>\n",
              "    <tr>\n",
              "      <th>1</th>\n",
              "      <td>1981</td>\n",
              "      <td>1098</td>\n",
              "      <td>5112</td>\n",
              "      <td>257</td>\n",
              "      <td>7316</td>\n",
              "      <td>242</td>\n",
              "      <td>1936</td>\n",
              "    </tr>\n",
              "    <tr>\n",
              "      <th>2</th>\n",
              "      <td>1982</td>\n",
              "      <td>1156</td>\n",
              "      <td>5701</td>\n",
              "      <td>330</td>\n",
              "      <td>8567</td>\n",
              "      <td>124</td>\n",
              "      <td>1802</td>\n",
              "    </tr>\n",
              "    <tr>\n",
              "      <th>3</th>\n",
              "      <td>1983</td>\n",
              "      <td>993</td>\n",
              "      <td>4265</td>\n",
              "      <td>391</td>\n",
              "      <td>8905</td>\n",
              "      <td>141</td>\n",
              "      <td>1078</td>\n",
              "    </tr>\n",
              "    <tr>\n",
              "      <th>4</th>\n",
              "      <td>1984</td>\n",
              "      <td>1182</td>\n",
              "      <td>5364</td>\n",
              "      <td>217</td>\n",
              "      <td>5813</td>\n",
              "      <td>343</td>\n",
              "      <td>4313</td>\n",
              "    </tr>\n",
              "  </tbody>\n",
              "</table>\n",
              "</div>"
            ],
            "text/plain": [
              "   water_year  rain_octsep  ...  rain_junaug  outflow_junaug\n",
              "0        1980         1182  ...          174            2212\n",
              "1        1981         1098  ...          242            1936\n",
              "2        1982         1156  ...          124            1802\n",
              "3        1983          993  ...          141            1078\n",
              "4        1984         1182  ...          343            4313\n",
              "\n",
              "[5 rows x 7 columns]"
            ]
          },
          "metadata": {
            "tags": []
          },
          "execution_count": 5
        }
      ]
    },
    {
      "cell_type": "code",
      "metadata": {
        "id": "C8KzbAt7SWMs"
      },
      "source": [
        "# Read data from Google Drive (not recommended)\n",
        "# https://colab.sandbox.google.com/notebooks/io.ipynb"
      ],
      "execution_count": null,
      "outputs": []
    },
    {
      "cell_type": "markdown",
      "metadata": {
        "id": "zJkbEoa9Wm-S"
      },
      "source": [
        "#### **Data Structure**\n",
        "\n",
        "**Series** is a one-dimensional labeled array capable of holding any data type (integers, strings, floating point numbers, Python objects, etc.). The axis labels are collectively referred to as the index.\n",
        "\n",
        "**DataFrame** is a 2-dimensional labeled data structure with columns of potentially different types. You can think of it like a spreadsheet or SQL table, or a dict of Series objects. It is generally the most commonly used pandas object. "
      ]
    },
    {
      "cell_type": "code",
      "metadata": {
        "id": "U90sQOhyWqig",
        "colab": {
          "base_uri": "https://localhost:8080/"
        },
        "outputId": "09d2fb1d-4ce1-4d7b-df68-8756b6b7ebc8"
      },
      "source": [
        "# Series from list\n",
        "s = pd.Series([1,3,5,6,8])\n",
        "\n",
        "print(type(s))\n",
        "s"
      ],
      "execution_count": null,
      "outputs": [
        {
          "output_type": "stream",
          "text": [
            "<class 'pandas.core.series.Series'>\n"
          ],
          "name": "stdout"
        },
        {
          "output_type": "execute_result",
          "data": {
            "text/plain": [
              "0    1\n",
              "1    3\n",
              "2    5\n",
              "3    6\n",
              "4    8\n",
              "dtype: int64"
            ]
          },
          "metadata": {
            "tags": []
          },
          "execution_count": 7
        }
      ]
    },
    {
      "cell_type": "code",
      "metadata": {
        "id": "MWuNQmz8W8j4",
        "colab": {
          "base_uri": "https://localhost:8080/"
        },
        "outputId": "684959b2-6e6d-45dc-c5fc-0c7dd22acc73"
      },
      "source": [
        "# Dataframe from lists\n",
        "d = pd.DataFrame({'col1': [1,2,3,4,5,6],'col2': ['1', '2', '3', '4', '5', '6'], 'col3': ['1',2,3,4,5,6]})\n",
        "print(d)"
      ],
      "execution_count": null,
      "outputs": [
        {
          "output_type": "stream",
          "text": [
            "   col1 col2 col3\n",
            "0     1    1    1\n",
            "1     2    2    2\n",
            "2     3    3    3\n",
            "3     4    4    4\n",
            "4     5    5    5\n",
            "5     6    6    6\n"
          ],
          "name": "stdout"
        }
      ]
    },
    {
      "cell_type": "code",
      "metadata": {
        "id": "2VQ-nQYGjHkr",
        "colab": {
          "base_uri": "https://localhost:8080/"
        },
        "outputId": "fff5a022-ae94-4197-b0b3-0730f9e795e1"
      },
      "source": [
        "d.info()"
      ],
      "execution_count": null,
      "outputs": [
        {
          "output_type": "stream",
          "text": [
            "<class 'pandas.core.frame.DataFrame'>\n",
            "RangeIndex: 6 entries, 0 to 5\n",
            "Data columns (total 3 columns):\n",
            " #   Column  Non-Null Count  Dtype \n",
            "---  ------  --------------  ----- \n",
            " 0   col1    6 non-null      int64 \n",
            " 1   col2    6 non-null      object\n",
            " 2   col3    6 non-null      object\n",
            "dtypes: int64(1), object(2)\n",
            "memory usage: 272.0+ bytes\n"
          ],
          "name": "stdout"
        }
      ]
    },
    {
      "cell_type": "code",
      "metadata": {
        "id": "uYuAb9oQtJ3y",
        "colab": {
          "base_uri": "https://localhost:8080/"
        },
        "outputId": "bca0e897-afe7-48f6-d90c-13b1b7c70b8d"
      },
      "source": [
        "df_iris.info()"
      ],
      "execution_count": null,
      "outputs": [
        {
          "output_type": "stream",
          "text": [
            "<class 'pandas.core.frame.DataFrame'>\n",
            "RangeIndex: 150 entries, 0 to 149\n",
            "Data columns (total 5 columns):\n",
            " #   Column        Non-Null Count  Dtype  \n",
            "---  ------        --------------  -----  \n",
            " 0   sepal_length  150 non-null    float64\n",
            " 1   sepal_width   150 non-null    float64\n",
            " 2   petal_length  150 non-null    float64\n",
            " 3   petal_width   150 non-null    float64\n",
            " 4   species       150 non-null    object \n",
            "dtypes: float64(4), object(1)\n",
            "memory usage: 6.0+ KB\n"
          ],
          "name": "stdout"
        }
      ]
    },
    {
      "cell_type": "code",
      "metadata": {
        "id": "LmpQtYSlYj17",
        "colab": {
          "base_uri": "https://localhost:8080/",
          "height": 355
        },
        "outputId": "edebb42a-4f56-4f15-9364-d4a28f98a35d"
      },
      "source": [
        "# Dataframe first 5(default) rows\n",
        "df_iris.head(10)"
      ],
      "execution_count": null,
      "outputs": [
        {
          "output_type": "execute_result",
          "data": {
            "text/html": [
              "<div>\n",
              "<style scoped>\n",
              "    .dataframe tbody tr th:only-of-type {\n",
              "        vertical-align: middle;\n",
              "    }\n",
              "\n",
              "    .dataframe tbody tr th {\n",
              "        vertical-align: top;\n",
              "    }\n",
              "\n",
              "    .dataframe thead th {\n",
              "        text-align: right;\n",
              "    }\n",
              "</style>\n",
              "<table border=\"1\" class=\"dataframe\">\n",
              "  <thead>\n",
              "    <tr style=\"text-align: right;\">\n",
              "      <th></th>\n",
              "      <th>sepal_length</th>\n",
              "      <th>sepal_width</th>\n",
              "      <th>petal_length</th>\n",
              "      <th>petal_width</th>\n",
              "      <th>species</th>\n",
              "    </tr>\n",
              "  </thead>\n",
              "  <tbody>\n",
              "    <tr>\n",
              "      <th>0</th>\n",
              "      <td>5.1</td>\n",
              "      <td>3.5</td>\n",
              "      <td>1.4</td>\n",
              "      <td>0.2</td>\n",
              "      <td>setosa</td>\n",
              "    </tr>\n",
              "    <tr>\n",
              "      <th>1</th>\n",
              "      <td>4.9</td>\n",
              "      <td>3.0</td>\n",
              "      <td>1.4</td>\n",
              "      <td>0.2</td>\n",
              "      <td>setosa</td>\n",
              "    </tr>\n",
              "    <tr>\n",
              "      <th>2</th>\n",
              "      <td>4.7</td>\n",
              "      <td>3.2</td>\n",
              "      <td>1.3</td>\n",
              "      <td>0.2</td>\n",
              "      <td>setosa</td>\n",
              "    </tr>\n",
              "    <tr>\n",
              "      <th>3</th>\n",
              "      <td>4.6</td>\n",
              "      <td>3.1</td>\n",
              "      <td>1.5</td>\n",
              "      <td>0.2</td>\n",
              "      <td>setosa</td>\n",
              "    </tr>\n",
              "    <tr>\n",
              "      <th>4</th>\n",
              "      <td>5.0</td>\n",
              "      <td>3.6</td>\n",
              "      <td>1.4</td>\n",
              "      <td>0.2</td>\n",
              "      <td>setosa</td>\n",
              "    </tr>\n",
              "    <tr>\n",
              "      <th>5</th>\n",
              "      <td>5.4</td>\n",
              "      <td>3.9</td>\n",
              "      <td>1.7</td>\n",
              "      <td>0.4</td>\n",
              "      <td>setosa</td>\n",
              "    </tr>\n",
              "    <tr>\n",
              "      <th>6</th>\n",
              "      <td>4.6</td>\n",
              "      <td>3.4</td>\n",
              "      <td>1.4</td>\n",
              "      <td>0.3</td>\n",
              "      <td>setosa</td>\n",
              "    </tr>\n",
              "    <tr>\n",
              "      <th>7</th>\n",
              "      <td>5.0</td>\n",
              "      <td>3.4</td>\n",
              "      <td>1.5</td>\n",
              "      <td>0.2</td>\n",
              "      <td>setosa</td>\n",
              "    </tr>\n",
              "    <tr>\n",
              "      <th>8</th>\n",
              "      <td>4.4</td>\n",
              "      <td>2.9</td>\n",
              "      <td>1.4</td>\n",
              "      <td>0.2</td>\n",
              "      <td>setosa</td>\n",
              "    </tr>\n",
              "    <tr>\n",
              "      <th>9</th>\n",
              "      <td>4.9</td>\n",
              "      <td>3.1</td>\n",
              "      <td>1.5</td>\n",
              "      <td>0.1</td>\n",
              "      <td>setosa</td>\n",
              "    </tr>\n",
              "  </tbody>\n",
              "</table>\n",
              "</div>"
            ],
            "text/plain": [
              "   sepal_length  sepal_width  petal_length  petal_width species\n",
              "0           5.1          3.5           1.4          0.2  setosa\n",
              "1           4.9          3.0           1.4          0.2  setosa\n",
              "2           4.7          3.2           1.3          0.2  setosa\n",
              "3           4.6          3.1           1.5          0.2  setosa\n",
              "4           5.0          3.6           1.4          0.2  setosa\n",
              "5           5.4          3.9           1.7          0.4  setosa\n",
              "6           4.6          3.4           1.4          0.3  setosa\n",
              "7           5.0          3.4           1.5          0.2  setosa\n",
              "8           4.4          2.9           1.4          0.2  setosa\n",
              "9           4.9          3.1           1.5          0.1  setosa"
            ]
          },
          "metadata": {
            "tags": []
          },
          "execution_count": 11
        }
      ]
    },
    {
      "cell_type": "code",
      "metadata": {
        "id": "4YWDLSubH5e2",
        "colab": {
          "base_uri": "https://localhost:8080/",
          "height": 110
        },
        "outputId": "aeca4973-bc8d-4eea-d708-b889e9a2a63d"
      },
      "source": [
        "df_iris.tail(2)"
      ],
      "execution_count": null,
      "outputs": [
        {
          "output_type": "execute_result",
          "data": {
            "text/html": [
              "<div>\n",
              "<style scoped>\n",
              "    .dataframe tbody tr th:only-of-type {\n",
              "        vertical-align: middle;\n",
              "    }\n",
              "\n",
              "    .dataframe tbody tr th {\n",
              "        vertical-align: top;\n",
              "    }\n",
              "\n",
              "    .dataframe thead th {\n",
              "        text-align: right;\n",
              "    }\n",
              "</style>\n",
              "<table border=\"1\" class=\"dataframe\">\n",
              "  <thead>\n",
              "    <tr style=\"text-align: right;\">\n",
              "      <th></th>\n",
              "      <th>sepal_length</th>\n",
              "      <th>sepal_width</th>\n",
              "      <th>petal_length</th>\n",
              "      <th>petal_width</th>\n",
              "      <th>species</th>\n",
              "    </tr>\n",
              "  </thead>\n",
              "  <tbody>\n",
              "    <tr>\n",
              "      <th>148</th>\n",
              "      <td>6.2</td>\n",
              "      <td>3.4</td>\n",
              "      <td>5.4</td>\n",
              "      <td>2.3</td>\n",
              "      <td>virginica</td>\n",
              "    </tr>\n",
              "    <tr>\n",
              "      <th>149</th>\n",
              "      <td>5.9</td>\n",
              "      <td>3.0</td>\n",
              "      <td>5.1</td>\n",
              "      <td>1.8</td>\n",
              "      <td>virginica</td>\n",
              "    </tr>\n",
              "  </tbody>\n",
              "</table>\n",
              "</div>"
            ],
            "text/plain": [
              "     sepal_length  sepal_width  petal_length  petal_width    species\n",
              "148           6.2          3.4           5.4          2.3  virginica\n",
              "149           5.9          3.0           5.1          1.8  virginica"
            ]
          },
          "metadata": {
            "tags": []
          },
          "execution_count": 12
        }
      ]
    },
    {
      "cell_type": "code",
      "metadata": {
        "id": "ZQ62tuXmY15J",
        "colab": {
          "base_uri": "https://localhost:8080/",
          "height": 294
        },
        "outputId": "ae87fa20-3fb8-4fbc-a12e-293d9492f704"
      },
      "source": [
        "# Dataframe stats information\n",
        "df_iris.describe()"
      ],
      "execution_count": null,
      "outputs": [
        {
          "output_type": "execute_result",
          "data": {
            "text/html": [
              "<div>\n",
              "<style scoped>\n",
              "    .dataframe tbody tr th:only-of-type {\n",
              "        vertical-align: middle;\n",
              "    }\n",
              "\n",
              "    .dataframe tbody tr th {\n",
              "        vertical-align: top;\n",
              "    }\n",
              "\n",
              "    .dataframe thead th {\n",
              "        text-align: right;\n",
              "    }\n",
              "</style>\n",
              "<table border=\"1\" class=\"dataframe\">\n",
              "  <thead>\n",
              "    <tr style=\"text-align: right;\">\n",
              "      <th></th>\n",
              "      <th>sepal_length</th>\n",
              "      <th>sepal_width</th>\n",
              "      <th>petal_length</th>\n",
              "      <th>petal_width</th>\n",
              "    </tr>\n",
              "  </thead>\n",
              "  <tbody>\n",
              "    <tr>\n",
              "      <th>count</th>\n",
              "      <td>150.000000</td>\n",
              "      <td>150.000000</td>\n",
              "      <td>150.000000</td>\n",
              "      <td>150.000000</td>\n",
              "    </tr>\n",
              "    <tr>\n",
              "      <th>mean</th>\n",
              "      <td>5.843333</td>\n",
              "      <td>3.054000</td>\n",
              "      <td>3.758667</td>\n",
              "      <td>1.198667</td>\n",
              "    </tr>\n",
              "    <tr>\n",
              "      <th>std</th>\n",
              "      <td>0.828066</td>\n",
              "      <td>0.433594</td>\n",
              "      <td>1.764420</td>\n",
              "      <td>0.763161</td>\n",
              "    </tr>\n",
              "    <tr>\n",
              "      <th>min</th>\n",
              "      <td>4.300000</td>\n",
              "      <td>2.000000</td>\n",
              "      <td>1.000000</td>\n",
              "      <td>0.100000</td>\n",
              "    </tr>\n",
              "    <tr>\n",
              "      <th>25%</th>\n",
              "      <td>5.100000</td>\n",
              "      <td>2.800000</td>\n",
              "      <td>1.600000</td>\n",
              "      <td>0.300000</td>\n",
              "    </tr>\n",
              "    <tr>\n",
              "      <th>50%</th>\n",
              "      <td>5.800000</td>\n",
              "      <td>3.000000</td>\n",
              "      <td>4.350000</td>\n",
              "      <td>1.300000</td>\n",
              "    </tr>\n",
              "    <tr>\n",
              "      <th>75%</th>\n",
              "      <td>6.400000</td>\n",
              "      <td>3.300000</td>\n",
              "      <td>5.100000</td>\n",
              "      <td>1.800000</td>\n",
              "    </tr>\n",
              "    <tr>\n",
              "      <th>max</th>\n",
              "      <td>7.900000</td>\n",
              "      <td>4.400000</td>\n",
              "      <td>6.900000</td>\n",
              "      <td>2.500000</td>\n",
              "    </tr>\n",
              "  </tbody>\n",
              "</table>\n",
              "</div>"
            ],
            "text/plain": [
              "       sepal_length  sepal_width  petal_length  petal_width\n",
              "count    150.000000   150.000000    150.000000   150.000000\n",
              "mean       5.843333     3.054000      3.758667     1.198667\n",
              "std        0.828066     0.433594      1.764420     0.763161\n",
              "min        4.300000     2.000000      1.000000     0.100000\n",
              "25%        5.100000     2.800000      1.600000     0.300000\n",
              "50%        5.800000     3.000000      4.350000     1.300000\n",
              "75%        6.400000     3.300000      5.100000     1.800000\n",
              "max        7.900000     4.400000      6.900000     2.500000"
            ]
          },
          "metadata": {
            "tags": []
          },
          "execution_count": 13
        }
      ]
    },
    {
      "cell_type": "code",
      "metadata": {
        "id": "tCJUdsA3Y86c",
        "colab": {
          "base_uri": "https://localhost:8080/"
        },
        "outputId": "c6f8cd01-9404-4272-e50c-c2aa510bbaa3"
      },
      "source": [
        "# column data type\n",
        "df_iris.dtypes"
      ],
      "execution_count": null,
      "outputs": [
        {
          "output_type": "execute_result",
          "data": {
            "text/plain": [
              "sepal_length    float64\n",
              "sepal_width     float64\n",
              "petal_length    float64\n",
              "petal_width     float64\n",
              "species          object\n",
              "dtype: object"
            ]
          },
          "metadata": {
            "tags": []
          },
          "execution_count": 14
        }
      ]
    },
    {
      "cell_type": "code",
      "metadata": {
        "id": "9SvF87Kva4Cz",
        "colab": {
          "base_uri": "https://localhost:8080/"
        },
        "outputId": "acfd53ed-3e3a-40ba-fb82-37ad0dbd985d"
      },
      "source": [
        "# index info\n",
        "df_iris.index"
      ],
      "execution_count": null,
      "outputs": [
        {
          "output_type": "execute_result",
          "data": {
            "text/plain": [
              "RangeIndex(start=0, stop=150, step=1)"
            ]
          },
          "metadata": {
            "tags": []
          },
          "execution_count": 15
        }
      ]
    },
    {
      "cell_type": "code",
      "metadata": {
        "id": "w8vph2JICKob",
        "colab": {
          "base_uri": "https://localhost:8080/"
        },
        "outputId": "4473dec5-77d6-4600-a394-a299069ac1bb"
      },
      "source": [
        "df_iris.columns"
      ],
      "execution_count": null,
      "outputs": [
        {
          "output_type": "execute_result",
          "data": {
            "text/plain": [
              "Index(['sepal_length', 'sepal_width', 'petal_length', 'petal_width',\n",
              "       'species'],\n",
              "      dtype='object')"
            ]
          },
          "metadata": {
            "tags": []
          },
          "execution_count": 16
        }
      ]
    },
    {
      "cell_type": "code",
      "metadata": {
        "id": "Rh4iF57mZQz1",
        "colab": {
          "base_uri": "https://localhost:8080/",
          "height": 79
        },
        "outputId": "e44b3ba5-986a-4878-8f8b-1aa0d6535981"
      },
      "source": [
        "# change column names\n",
        "# pd.DataFrame.rename\n",
        "attributes = [\"sepal_length\", \"sepal_width\", \"petal_length\", \"petal_width\", \"class\"]\n",
        "df_iris.columns = attributes\n",
        "\n",
        "df_iris.head(1)"
      ],
      "execution_count": null,
      "outputs": [
        {
          "output_type": "execute_result",
          "data": {
            "text/html": [
              "<div>\n",
              "<style scoped>\n",
              "    .dataframe tbody tr th:only-of-type {\n",
              "        vertical-align: middle;\n",
              "    }\n",
              "\n",
              "    .dataframe tbody tr th {\n",
              "        vertical-align: top;\n",
              "    }\n",
              "\n",
              "    .dataframe thead th {\n",
              "        text-align: right;\n",
              "    }\n",
              "</style>\n",
              "<table border=\"1\" class=\"dataframe\">\n",
              "  <thead>\n",
              "    <tr style=\"text-align: right;\">\n",
              "      <th></th>\n",
              "      <th>sepal_length</th>\n",
              "      <th>sepal_width</th>\n",
              "      <th>petal_length</th>\n",
              "      <th>petal_width</th>\n",
              "      <th>class</th>\n",
              "    </tr>\n",
              "  </thead>\n",
              "  <tbody>\n",
              "    <tr>\n",
              "      <th>0</th>\n",
              "      <td>5.1</td>\n",
              "      <td>3.5</td>\n",
              "      <td>1.4</td>\n",
              "      <td>0.2</td>\n",
              "      <td>setosa</td>\n",
              "    </tr>\n",
              "  </tbody>\n",
              "</table>\n",
              "</div>"
            ],
            "text/plain": [
              "   sepal_length  sepal_width  petal_length  petal_width   class\n",
              "0           5.1          3.5           1.4          0.2  setosa"
            ]
          },
          "metadata": {
            "tags": []
          },
          "execution_count": 17
        }
      ]
    },
    {
      "cell_type": "markdown",
      "metadata": {
        "id": "Z0FucuXLih-b"
      },
      "source": [
        "#### **Indexing and Slicing**"
      ]
    },
    {
      "cell_type": "code",
      "metadata": {
        "id": "L9KYxtpTioFa",
        "colab": {
          "base_uri": "https://localhost:8080/"
        },
        "outputId": "23c8fd08-5039-4c15-db19-0f7c79f819e3"
      },
      "source": [
        "# use [] square brackets, only columns\n",
        "df1 = df_iris['sepal_length']\n",
        "print(df1.head())\n",
        "print(type(df1))\n",
        "\n",
        "df2 = df_iris[['sepal_length']]\n",
        "print(df2.head())\n",
        "print(type(df2))\n",
        "\n",
        "df3 = df_iris[['sepal_length', 'petal_length']]\n",
        "print(df3.head())\n",
        "print(type(df3))\n",
        "\n",
        "df4 = df_iris[1:3][['sepal_length','petal_length']]\n",
        "print(df4)\n",
        "print(type(df4))"
      ],
      "execution_count": null,
      "outputs": [
        {
          "output_type": "stream",
          "text": [
            "0    5.1\n",
            "1    4.9\n",
            "2    4.7\n",
            "3    4.6\n",
            "4    5.0\n",
            "Name: sepal_length, dtype: float64\n",
            "<class 'pandas.core.series.Series'>\n",
            "   sepal_length\n",
            "0           5.1\n",
            "1           4.9\n",
            "2           4.7\n",
            "3           4.6\n",
            "4           5.0\n",
            "<class 'pandas.core.frame.DataFrame'>\n",
            "   sepal_length  petal_length\n",
            "0           5.1           1.4\n",
            "1           4.9           1.4\n",
            "2           4.7           1.3\n",
            "3           4.6           1.5\n",
            "4           5.0           1.4\n",
            "<class 'pandas.core.frame.DataFrame'>\n",
            "   sepal_length  petal_length\n",
            "1           4.9           1.4\n",
            "2           4.7           1.3\n",
            "<class 'pandas.core.frame.DataFrame'>\n"
          ],
          "name": "stdout"
        }
      ]
    },
    {
      "cell_type": "code",
      "metadata": {
        "id": "_e10vJ3NlHek",
        "colab": {
          "base_uri": "https://localhost:8080/"
        },
        "outputId": "62c4da55-dd6a-48d2-bdd1-edc5e2f184b6"
      },
      "source": [
        "# selection by position, use iloc, endpoint is excluded\n",
        "df1 = df_iris.iloc[:,3]\n",
        "print(df1)\n",
        "print(type(df1))\n",
        "\n",
        "df2 = df_iris.iloc[3:5,0:2]\n",
        "print(df2)\n",
        "print(type(df2))\n",
        "\n",
        "df3 = df_iris.iloc[[1,2,4],[0,2]]\n",
        "print(df3)\n",
        "print(type(df3))\n"
      ],
      "execution_count": null,
      "outputs": [
        {
          "output_type": "stream",
          "text": [
            "0      0.2\n",
            "1      0.2\n",
            "2      0.2\n",
            "3      0.2\n",
            "4      0.2\n",
            "      ... \n",
            "145    2.3\n",
            "146    1.9\n",
            "147    2.0\n",
            "148    2.3\n",
            "149    1.8\n",
            "Name: petal_width, Length: 150, dtype: float64\n",
            "<class 'pandas.core.series.Series'>\n",
            "   sepal_length  sepal_width\n",
            "3           4.6          3.1\n",
            "4           5.0          3.6\n",
            "<class 'pandas.core.frame.DataFrame'>\n",
            "   sepal_length  petal_length\n",
            "1           4.9           1.4\n",
            "2           4.7           1.3\n",
            "4           5.0           1.4\n",
            "<class 'pandas.core.frame.DataFrame'>\n"
          ],
          "name": "stdout"
        }
      ]
    },
    {
      "cell_type": "code",
      "metadata": {
        "id": "efRLhCOQjeEL",
        "colab": {
          "base_uri": "https://localhost:8080/",
          "height": 370
        },
        "outputId": "c4b7d68e-b539-4b1c-f541-413ce685a4ae"
      },
      "source": [
        "# selection by label, use loc, endpoint is included\n",
        "df1 = df_iris.loc[:, 'sepal_length']\n",
        "print(df1.head())\n",
        "print(type(df1))\n",
        "\n",
        "df2 = df_iris.loc[1:3, ['sepal_length', 'petal_length']]\n",
        "print(df2.head())\n",
        "print(type(df2))\n",
        "\n",
        "df3 = df_iris.loc[[1, 3], 'sepal_length':'petal_length']\n",
        "print(df3)\n",
        "\n",
        "# if you want to select rows and columns, must be like this\n",
        "df_iris[['sepal_length','petal_length']][1:3]"
      ],
      "execution_count": null,
      "outputs": [
        {
          "output_type": "stream",
          "text": [
            "0    5.1\n",
            "1    4.9\n",
            "2    4.7\n",
            "3    4.6\n",
            "4    5.0\n",
            "Name: sepal_length, dtype: float64\n",
            "<class 'pandas.core.series.Series'>\n",
            "   sepal_length  petal_length\n",
            "1           4.9           1.4\n",
            "2           4.7           1.3\n",
            "3           4.6           1.5\n",
            "<class 'pandas.core.frame.DataFrame'>\n",
            "   sepal_length  sepal_width  petal_length\n",
            "1           4.9          3.0           1.4\n",
            "3           4.6          3.1           1.5\n"
          ],
          "name": "stdout"
        },
        {
          "output_type": "execute_result",
          "data": {
            "text/html": [
              "<div>\n",
              "<style scoped>\n",
              "    .dataframe tbody tr th:only-of-type {\n",
              "        vertical-align: middle;\n",
              "    }\n",
              "\n",
              "    .dataframe tbody tr th {\n",
              "        vertical-align: top;\n",
              "    }\n",
              "\n",
              "    .dataframe thead th {\n",
              "        text-align: right;\n",
              "    }\n",
              "</style>\n",
              "<table border=\"1\" class=\"dataframe\">\n",
              "  <thead>\n",
              "    <tr style=\"text-align: right;\">\n",
              "      <th></th>\n",
              "      <th>sepal_length</th>\n",
              "      <th>petal_length</th>\n",
              "    </tr>\n",
              "  </thead>\n",
              "  <tbody>\n",
              "    <tr>\n",
              "      <th>1</th>\n",
              "      <td>4.9</td>\n",
              "      <td>1.4</td>\n",
              "    </tr>\n",
              "    <tr>\n",
              "      <th>2</th>\n",
              "      <td>4.7</td>\n",
              "      <td>1.3</td>\n",
              "    </tr>\n",
              "  </tbody>\n",
              "</table>\n",
              "</div>"
            ],
            "text/plain": [
              "   sepal_length  petal_length\n",
              "1           4.9           1.4\n",
              "2           4.7           1.3"
            ]
          },
          "metadata": {
            "tags": []
          },
          "execution_count": 20
        }
      ]
    },
    {
      "cell_type": "code",
      "metadata": {
        "id": "1gIoBAyISL0R",
        "colab": {
          "base_uri": "https://localhost:8080/",
          "height": 415
        },
        "outputId": "8f425ae7-70f7-48a1-df66-cf733e0d6e8c"
      },
      "source": [
        "df_iris"
      ],
      "execution_count": null,
      "outputs": [
        {
          "output_type": "execute_result",
          "data": {
            "text/html": [
              "<div>\n",
              "<style scoped>\n",
              "    .dataframe tbody tr th:only-of-type {\n",
              "        vertical-align: middle;\n",
              "    }\n",
              "\n",
              "    .dataframe tbody tr th {\n",
              "        vertical-align: top;\n",
              "    }\n",
              "\n",
              "    .dataframe thead th {\n",
              "        text-align: right;\n",
              "    }\n",
              "</style>\n",
              "<table border=\"1\" class=\"dataframe\">\n",
              "  <thead>\n",
              "    <tr style=\"text-align: right;\">\n",
              "      <th></th>\n",
              "      <th>sepal_length</th>\n",
              "      <th>sepal_width</th>\n",
              "      <th>petal_length</th>\n",
              "      <th>petal_width</th>\n",
              "      <th>class</th>\n",
              "    </tr>\n",
              "  </thead>\n",
              "  <tbody>\n",
              "    <tr>\n",
              "      <th>0</th>\n",
              "      <td>5.1</td>\n",
              "      <td>3.5</td>\n",
              "      <td>1.4</td>\n",
              "      <td>0.2</td>\n",
              "      <td>setosa</td>\n",
              "    </tr>\n",
              "    <tr>\n",
              "      <th>1</th>\n",
              "      <td>4.9</td>\n",
              "      <td>3.0</td>\n",
              "      <td>1.4</td>\n",
              "      <td>0.2</td>\n",
              "      <td>setosa</td>\n",
              "    </tr>\n",
              "    <tr>\n",
              "      <th>2</th>\n",
              "      <td>4.7</td>\n",
              "      <td>3.2</td>\n",
              "      <td>1.3</td>\n",
              "      <td>0.2</td>\n",
              "      <td>setosa</td>\n",
              "    </tr>\n",
              "    <tr>\n",
              "      <th>3</th>\n",
              "      <td>4.6</td>\n",
              "      <td>3.1</td>\n",
              "      <td>1.5</td>\n",
              "      <td>0.2</td>\n",
              "      <td>setosa</td>\n",
              "    </tr>\n",
              "    <tr>\n",
              "      <th>4</th>\n",
              "      <td>5.0</td>\n",
              "      <td>3.6</td>\n",
              "      <td>1.4</td>\n",
              "      <td>0.2</td>\n",
              "      <td>setosa</td>\n",
              "    </tr>\n",
              "    <tr>\n",
              "      <th>...</th>\n",
              "      <td>...</td>\n",
              "      <td>...</td>\n",
              "      <td>...</td>\n",
              "      <td>...</td>\n",
              "      <td>...</td>\n",
              "    </tr>\n",
              "    <tr>\n",
              "      <th>145</th>\n",
              "      <td>6.7</td>\n",
              "      <td>3.0</td>\n",
              "      <td>5.2</td>\n",
              "      <td>2.3</td>\n",
              "      <td>virginica</td>\n",
              "    </tr>\n",
              "    <tr>\n",
              "      <th>146</th>\n",
              "      <td>6.3</td>\n",
              "      <td>2.5</td>\n",
              "      <td>5.0</td>\n",
              "      <td>1.9</td>\n",
              "      <td>virginica</td>\n",
              "    </tr>\n",
              "    <tr>\n",
              "      <th>147</th>\n",
              "      <td>6.5</td>\n",
              "      <td>3.0</td>\n",
              "      <td>5.2</td>\n",
              "      <td>2.0</td>\n",
              "      <td>virginica</td>\n",
              "    </tr>\n",
              "    <tr>\n",
              "      <th>148</th>\n",
              "      <td>6.2</td>\n",
              "      <td>3.4</td>\n",
              "      <td>5.4</td>\n",
              "      <td>2.3</td>\n",
              "      <td>virginica</td>\n",
              "    </tr>\n",
              "    <tr>\n",
              "      <th>149</th>\n",
              "      <td>5.9</td>\n",
              "      <td>3.0</td>\n",
              "      <td>5.1</td>\n",
              "      <td>1.8</td>\n",
              "      <td>virginica</td>\n",
              "    </tr>\n",
              "  </tbody>\n",
              "</table>\n",
              "<p>150 rows × 5 columns</p>\n",
              "</div>"
            ],
            "text/plain": [
              "     sepal_length  sepal_width  petal_length  petal_width      class\n",
              "0             5.1          3.5           1.4          0.2     setosa\n",
              "1             4.9          3.0           1.4          0.2     setosa\n",
              "2             4.7          3.2           1.3          0.2     setosa\n",
              "3             4.6          3.1           1.5          0.2     setosa\n",
              "4             5.0          3.6           1.4          0.2     setosa\n",
              "..            ...          ...           ...          ...        ...\n",
              "145           6.7          3.0           5.2          2.3  virginica\n",
              "146           6.3          2.5           5.0          1.9  virginica\n",
              "147           6.5          3.0           5.2          2.0  virginica\n",
              "148           6.2          3.4           5.4          2.3  virginica\n",
              "149           5.9          3.0           5.1          1.8  virginica\n",
              "\n",
              "[150 rows x 5 columns]"
            ]
          },
          "metadata": {
            "tags": []
          },
          "execution_count": 21
        }
      ]
    },
    {
      "cell_type": "code",
      "metadata": {
        "id": "wYJXwqbulpB9",
        "colab": {
          "base_uri": "https://localhost:8080/"
        },
        "outputId": "b85ddc06-64c9-4eba-f113-229f5b0f0028"
      },
      "source": [
        "# boolean masking\n",
        "df1 = df_iris[(df_iris['sepal_length'] > 6.0) & (df_iris['petal_length'] < 5.0)]\n",
        "print(df1)"
      ],
      "execution_count": null,
      "outputs": [
        {
          "output_type": "stream",
          "text": [
            "     sepal_length  sepal_width  petal_length  petal_width       class\n",
            "50            7.0          3.2           4.7          1.4  versicolor\n",
            "51            6.4          3.2           4.5          1.5  versicolor\n",
            "52            6.9          3.1           4.9          1.5  versicolor\n",
            "54            6.5          2.8           4.6          1.5  versicolor\n",
            "56            6.3          3.3           4.7          1.6  versicolor\n",
            "58            6.6          2.9           4.6          1.3  versicolor\n",
            "63            6.1          2.9           4.7          1.4  versicolor\n",
            "65            6.7          3.1           4.4          1.4  versicolor\n",
            "68            6.2          2.2           4.5          1.5  versicolor\n",
            "71            6.1          2.8           4.0          1.3  versicolor\n",
            "72            6.3          2.5           4.9          1.5  versicolor\n",
            "73            6.1          2.8           4.7          1.2  versicolor\n",
            "74            6.4          2.9           4.3          1.3  versicolor\n",
            "75            6.6          3.0           4.4          1.4  versicolor\n",
            "76            6.8          2.8           4.8          1.4  versicolor\n",
            "86            6.7          3.1           4.7          1.5  versicolor\n",
            "87            6.3          2.3           4.4          1.3  versicolor\n",
            "91            6.1          3.0           4.6          1.4  versicolor\n",
            "97            6.2          2.9           4.3          1.3  versicolor\n",
            "123           6.3          2.7           4.9          1.8   virginica\n",
            "126           6.2          2.8           4.8          1.8   virginica\n",
            "127           6.1          3.0           4.9          1.8   virginica\n"
          ],
          "name": "stdout"
        }
      ]
    },
    {
      "cell_type": "code",
      "metadata": {
        "id": "xsAHYLn4vk9n",
        "colab": {
          "base_uri": "https://localhost:8080/"
        },
        "outputId": "2b565ecb-97bf-49b9-c64b-36b77534ed82"
      },
      "source": [
        "df1 = df1.reset_index(drop=True)\n",
        "print(df1)"
      ],
      "execution_count": null,
      "outputs": [
        {
          "output_type": "stream",
          "text": [
            "    sepal_length  sepal_width  petal_length  petal_width       class\n",
            "0            7.0          3.2           4.7          1.4  versicolor\n",
            "1            6.4          3.2           4.5          1.5  versicolor\n",
            "2            6.9          3.1           4.9          1.5  versicolor\n",
            "3            6.5          2.8           4.6          1.5  versicolor\n",
            "4            6.3          3.3           4.7          1.6  versicolor\n",
            "5            6.6          2.9           4.6          1.3  versicolor\n",
            "6            6.1          2.9           4.7          1.4  versicolor\n",
            "7            6.7          3.1           4.4          1.4  versicolor\n",
            "8            6.2          2.2           4.5          1.5  versicolor\n",
            "9            6.1          2.8           4.0          1.3  versicolor\n",
            "10           6.3          2.5           4.9          1.5  versicolor\n",
            "11           6.1          2.8           4.7          1.2  versicolor\n",
            "12           6.4          2.9           4.3          1.3  versicolor\n",
            "13           6.6          3.0           4.4          1.4  versicolor\n",
            "14           6.8          2.8           4.8          1.4  versicolor\n",
            "15           6.7          3.1           4.7          1.5  versicolor\n",
            "16           6.3          2.3           4.4          1.3  versicolor\n",
            "17           6.1          3.0           4.6          1.4  versicolor\n",
            "18           6.2          2.9           4.3          1.3  versicolor\n",
            "19           6.3          2.7           4.9          1.8   virginica\n",
            "20           6.2          2.8           4.8          1.8   virginica\n",
            "21           6.1          3.0           4.9          1.8   virginica\n"
          ],
          "name": "stdout"
        }
      ]
    },
    {
      "cell_type": "markdown",
      "metadata": {
        "id": "5U8R66Rnos4u"
      },
      "source": [
        "#### **(Advanced)Merging**\n",
        "\n",
        "Read this [document](https://pandas.pydata.org/pandas-docs/stable/merging.html) for more info\n"
      ]
    },
    {
      "cell_type": "code",
      "metadata": {
        "id": "EMPg7rWn06Fo"
      },
      "source": [
        "# two dataframe join or concatenate\n",
        "df_right=pd.DataFrame({'year':np.arange(1980,1990),'rain_cn':np.arange(800,810)})\n",
        "\n",
        "df_right2=pd.DataFrame({'year': [1991], 'rain_cn': [800]})"
      ],
      "execution_count": null,
      "outputs": []
    },
    {
      "cell_type": "code",
      "metadata": {
        "id": "DnmGRMTufzr7",
        "colab": {
          "base_uri": "https://localhost:8080/",
          "height": 355
        },
        "outputId": "6d8190fe-3046-42d6-ca16-7ae38ac0dce4"
      },
      "source": [
        "df_right.head(10)"
      ],
      "execution_count": null,
      "outputs": [
        {
          "output_type": "execute_result",
          "data": {
            "text/html": [
              "<div>\n",
              "<style scoped>\n",
              "    .dataframe tbody tr th:only-of-type {\n",
              "        vertical-align: middle;\n",
              "    }\n",
              "\n",
              "    .dataframe tbody tr th {\n",
              "        vertical-align: top;\n",
              "    }\n",
              "\n",
              "    .dataframe thead th {\n",
              "        text-align: right;\n",
              "    }\n",
              "</style>\n",
              "<table border=\"1\" class=\"dataframe\">\n",
              "  <thead>\n",
              "    <tr style=\"text-align: right;\">\n",
              "      <th></th>\n",
              "      <th>year</th>\n",
              "      <th>rain_cn</th>\n",
              "    </tr>\n",
              "  </thead>\n",
              "  <tbody>\n",
              "    <tr>\n",
              "      <th>0</th>\n",
              "      <td>1980</td>\n",
              "      <td>800</td>\n",
              "    </tr>\n",
              "    <tr>\n",
              "      <th>1</th>\n",
              "      <td>1981</td>\n",
              "      <td>801</td>\n",
              "    </tr>\n",
              "    <tr>\n",
              "      <th>2</th>\n",
              "      <td>1982</td>\n",
              "      <td>802</td>\n",
              "    </tr>\n",
              "    <tr>\n",
              "      <th>3</th>\n",
              "      <td>1983</td>\n",
              "      <td>803</td>\n",
              "    </tr>\n",
              "    <tr>\n",
              "      <th>4</th>\n",
              "      <td>1984</td>\n",
              "      <td>804</td>\n",
              "    </tr>\n",
              "    <tr>\n",
              "      <th>5</th>\n",
              "      <td>1985</td>\n",
              "      <td>805</td>\n",
              "    </tr>\n",
              "    <tr>\n",
              "      <th>6</th>\n",
              "      <td>1986</td>\n",
              "      <td>806</td>\n",
              "    </tr>\n",
              "    <tr>\n",
              "      <th>7</th>\n",
              "      <td>1987</td>\n",
              "      <td>807</td>\n",
              "    </tr>\n",
              "    <tr>\n",
              "      <th>8</th>\n",
              "      <td>1988</td>\n",
              "      <td>808</td>\n",
              "    </tr>\n",
              "    <tr>\n",
              "      <th>9</th>\n",
              "      <td>1989</td>\n",
              "      <td>809</td>\n",
              "    </tr>\n",
              "  </tbody>\n",
              "</table>\n",
              "</div>"
            ],
            "text/plain": [
              "   year  rain_cn\n",
              "0  1980      800\n",
              "1  1981      801\n",
              "2  1982      802\n",
              "3  1983      803\n",
              "4  1984      804\n",
              "5  1985      805\n",
              "6  1986      806\n",
              "7  1987      807\n",
              "8  1988      808\n",
              "9  1989      809"
            ]
          },
          "metadata": {
            "tags": []
          },
          "execution_count": 25
        }
      ]
    },
    {
      "cell_type": "code",
      "metadata": {
        "id": "-x3Ma9P9LCsq",
        "colab": {
          "base_uri": "https://localhost:8080/",
          "height": 79
        },
        "outputId": "0e5e8a92-da8d-447d-e146-7bd5de1a7daf"
      },
      "source": [
        "df_right2.head()"
      ],
      "execution_count": null,
      "outputs": [
        {
          "output_type": "execute_result",
          "data": {
            "text/html": [
              "<div>\n",
              "<style scoped>\n",
              "    .dataframe tbody tr th:only-of-type {\n",
              "        vertical-align: middle;\n",
              "    }\n",
              "\n",
              "    .dataframe tbody tr th {\n",
              "        vertical-align: top;\n",
              "    }\n",
              "\n",
              "    .dataframe thead th {\n",
              "        text-align: right;\n",
              "    }\n",
              "</style>\n",
              "<table border=\"1\" class=\"dataframe\">\n",
              "  <thead>\n",
              "    <tr style=\"text-align: right;\">\n",
              "      <th></th>\n",
              "      <th>year</th>\n",
              "      <th>rain_cn</th>\n",
              "    </tr>\n",
              "  </thead>\n",
              "  <tbody>\n",
              "    <tr>\n",
              "      <th>0</th>\n",
              "      <td>1991</td>\n",
              "      <td>800</td>\n",
              "    </tr>\n",
              "  </tbody>\n",
              "</table>\n",
              "</div>"
            ],
            "text/plain": [
              "   year  rain_cn\n",
              "0  1991      800"
            ]
          },
          "metadata": {
            "tags": []
          },
          "execution_count": 26
        }
      ]
    },
    {
      "cell_type": "code",
      "metadata": {
        "id": "eLayX8e7-LT6",
        "colab": {
          "base_uri": "https://localhost:8080/",
          "height": 386
        },
        "outputId": "dc3158a6-52fe-4c71-a370-94fecbe855ba"
      },
      "source": [
        "df_right3=pd.concat([df_right, df_right2], ignore_index = True)\n",
        "df_right3"
      ],
      "execution_count": null,
      "outputs": [
        {
          "output_type": "execute_result",
          "data": {
            "text/html": [
              "<div>\n",
              "<style scoped>\n",
              "    .dataframe tbody tr th:only-of-type {\n",
              "        vertical-align: middle;\n",
              "    }\n",
              "\n",
              "    .dataframe tbody tr th {\n",
              "        vertical-align: top;\n",
              "    }\n",
              "\n",
              "    .dataframe thead th {\n",
              "        text-align: right;\n",
              "    }\n",
              "</style>\n",
              "<table border=\"1\" class=\"dataframe\">\n",
              "  <thead>\n",
              "    <tr style=\"text-align: right;\">\n",
              "      <th></th>\n",
              "      <th>year</th>\n",
              "      <th>rain_cn</th>\n",
              "    </tr>\n",
              "  </thead>\n",
              "  <tbody>\n",
              "    <tr>\n",
              "      <th>0</th>\n",
              "      <td>1980</td>\n",
              "      <td>800</td>\n",
              "    </tr>\n",
              "    <tr>\n",
              "      <th>1</th>\n",
              "      <td>1981</td>\n",
              "      <td>801</td>\n",
              "    </tr>\n",
              "    <tr>\n",
              "      <th>2</th>\n",
              "      <td>1982</td>\n",
              "      <td>802</td>\n",
              "    </tr>\n",
              "    <tr>\n",
              "      <th>3</th>\n",
              "      <td>1983</td>\n",
              "      <td>803</td>\n",
              "    </tr>\n",
              "    <tr>\n",
              "      <th>4</th>\n",
              "      <td>1984</td>\n",
              "      <td>804</td>\n",
              "    </tr>\n",
              "    <tr>\n",
              "      <th>5</th>\n",
              "      <td>1985</td>\n",
              "      <td>805</td>\n",
              "    </tr>\n",
              "    <tr>\n",
              "      <th>6</th>\n",
              "      <td>1986</td>\n",
              "      <td>806</td>\n",
              "    </tr>\n",
              "    <tr>\n",
              "      <th>7</th>\n",
              "      <td>1987</td>\n",
              "      <td>807</td>\n",
              "    </tr>\n",
              "    <tr>\n",
              "      <th>8</th>\n",
              "      <td>1988</td>\n",
              "      <td>808</td>\n",
              "    </tr>\n",
              "    <tr>\n",
              "      <th>9</th>\n",
              "      <td>1989</td>\n",
              "      <td>809</td>\n",
              "    </tr>\n",
              "    <tr>\n",
              "      <th>10</th>\n",
              "      <td>1991</td>\n",
              "      <td>800</td>\n",
              "    </tr>\n",
              "  </tbody>\n",
              "</table>\n",
              "</div>"
            ],
            "text/plain": [
              "    year  rain_cn\n",
              "0   1980      800\n",
              "1   1981      801\n",
              "2   1982      802\n",
              "3   1983      803\n",
              "4   1984      804\n",
              "5   1985      805\n",
              "6   1986      806\n",
              "7   1987      807\n",
              "8   1988      808\n",
              "9   1989      809\n",
              "10  1991      800"
            ]
          },
          "metadata": {
            "tags": []
          },
          "execution_count": 27
        }
      ]
    },
    {
      "cell_type": "code",
      "metadata": {
        "id": "9Z2DbXeXRpwi"
      },
      "source": [
        "df_right2.columns = ['year', 'rain_cn1']"
      ],
      "execution_count": null,
      "outputs": []
    },
    {
      "cell_type": "code",
      "metadata": {
        "id": "3LCZ37Q8-prK",
        "colab": {
          "base_uri": "https://localhost:8080/",
          "height": 79
        },
        "outputId": "3eaf12a8-d4a8-4455-9c5a-d0a920bdba11"
      },
      "source": [
        "df_right2"
      ],
      "execution_count": null,
      "outputs": [
        {
          "output_type": "execute_result",
          "data": {
            "text/html": [
              "<div>\n",
              "<style scoped>\n",
              "    .dataframe tbody tr th:only-of-type {\n",
              "        vertical-align: middle;\n",
              "    }\n",
              "\n",
              "    .dataframe tbody tr th {\n",
              "        vertical-align: top;\n",
              "    }\n",
              "\n",
              "    .dataframe thead th {\n",
              "        text-align: right;\n",
              "    }\n",
              "</style>\n",
              "<table border=\"1\" class=\"dataframe\">\n",
              "  <thead>\n",
              "    <tr style=\"text-align: right;\">\n",
              "      <th></th>\n",
              "      <th>year</th>\n",
              "      <th>rain_cn1</th>\n",
              "    </tr>\n",
              "  </thead>\n",
              "  <tbody>\n",
              "    <tr>\n",
              "      <th>0</th>\n",
              "      <td>1991</td>\n",
              "      <td>800</td>\n",
              "    </tr>\n",
              "  </tbody>\n",
              "</table>\n",
              "</div>"
            ],
            "text/plain": [
              "   year  rain_cn1\n",
              "0  1991       800"
            ]
          },
          "metadata": {
            "tags": []
          },
          "execution_count": 29
        }
      ]
    },
    {
      "cell_type": "code",
      "metadata": {
        "id": "7ci7BhgLNl36",
        "colab": {
          "base_uri": "https://localhost:8080/",
          "height": 386
        },
        "outputId": "03f63078-ae19-45f6-c227-f9c7f395acae"
      },
      "source": [
        "df_right3=pd.concat([df_right, df_right2], ignore_index = True)\n",
        "df_right3"
      ],
      "execution_count": null,
      "outputs": [
        {
          "output_type": "execute_result",
          "data": {
            "text/html": [
              "<div>\n",
              "<style scoped>\n",
              "    .dataframe tbody tr th:only-of-type {\n",
              "        vertical-align: middle;\n",
              "    }\n",
              "\n",
              "    .dataframe tbody tr th {\n",
              "        vertical-align: top;\n",
              "    }\n",
              "\n",
              "    .dataframe thead th {\n",
              "        text-align: right;\n",
              "    }\n",
              "</style>\n",
              "<table border=\"1\" class=\"dataframe\">\n",
              "  <thead>\n",
              "    <tr style=\"text-align: right;\">\n",
              "      <th></th>\n",
              "      <th>year</th>\n",
              "      <th>rain_cn</th>\n",
              "      <th>rain_cn1</th>\n",
              "    </tr>\n",
              "  </thead>\n",
              "  <tbody>\n",
              "    <tr>\n",
              "      <th>0</th>\n",
              "      <td>1980</td>\n",
              "      <td>800.0</td>\n",
              "      <td>NaN</td>\n",
              "    </tr>\n",
              "    <tr>\n",
              "      <th>1</th>\n",
              "      <td>1981</td>\n",
              "      <td>801.0</td>\n",
              "      <td>NaN</td>\n",
              "    </tr>\n",
              "    <tr>\n",
              "      <th>2</th>\n",
              "      <td>1982</td>\n",
              "      <td>802.0</td>\n",
              "      <td>NaN</td>\n",
              "    </tr>\n",
              "    <tr>\n",
              "      <th>3</th>\n",
              "      <td>1983</td>\n",
              "      <td>803.0</td>\n",
              "      <td>NaN</td>\n",
              "    </tr>\n",
              "    <tr>\n",
              "      <th>4</th>\n",
              "      <td>1984</td>\n",
              "      <td>804.0</td>\n",
              "      <td>NaN</td>\n",
              "    </tr>\n",
              "    <tr>\n",
              "      <th>5</th>\n",
              "      <td>1985</td>\n",
              "      <td>805.0</td>\n",
              "      <td>NaN</td>\n",
              "    </tr>\n",
              "    <tr>\n",
              "      <th>6</th>\n",
              "      <td>1986</td>\n",
              "      <td>806.0</td>\n",
              "      <td>NaN</td>\n",
              "    </tr>\n",
              "    <tr>\n",
              "      <th>7</th>\n",
              "      <td>1987</td>\n",
              "      <td>807.0</td>\n",
              "      <td>NaN</td>\n",
              "    </tr>\n",
              "    <tr>\n",
              "      <th>8</th>\n",
              "      <td>1988</td>\n",
              "      <td>808.0</td>\n",
              "      <td>NaN</td>\n",
              "    </tr>\n",
              "    <tr>\n",
              "      <th>9</th>\n",
              "      <td>1989</td>\n",
              "      <td>809.0</td>\n",
              "      <td>NaN</td>\n",
              "    </tr>\n",
              "    <tr>\n",
              "      <th>10</th>\n",
              "      <td>1991</td>\n",
              "      <td>NaN</td>\n",
              "      <td>800.0</td>\n",
              "    </tr>\n",
              "  </tbody>\n",
              "</table>\n",
              "</div>"
            ],
            "text/plain": [
              "    year  rain_cn  rain_cn1\n",
              "0   1980    800.0       NaN\n",
              "1   1981    801.0       NaN\n",
              "2   1982    802.0       NaN\n",
              "3   1983    803.0       NaN\n",
              "4   1984    804.0       NaN\n",
              "5   1985    805.0       NaN\n",
              "6   1986    806.0       NaN\n",
              "7   1987    807.0       NaN\n",
              "8   1988    808.0       NaN\n",
              "9   1989    809.0       NaN\n",
              "10  1991      NaN     800.0"
            ]
          },
          "metadata": {
            "tags": []
          },
          "execution_count": 30
        }
      ]
    },
    {
      "cell_type": "code",
      "metadata": {
        "id": "r3s77kJOpAEH",
        "colab": {
          "base_uri": "https://localhost:8080/",
          "height": 662
        },
        "outputId": "4d09d7c7-273c-4d45-aab9-8788925ab0a6"
      },
      "source": [
        "df_uk_rain.head(20)"
      ],
      "execution_count": null,
      "outputs": [
        {
          "output_type": "execute_result",
          "data": {
            "text/html": [
              "<div>\n",
              "<style scoped>\n",
              "    .dataframe tbody tr th:only-of-type {\n",
              "        vertical-align: middle;\n",
              "    }\n",
              "\n",
              "    .dataframe tbody tr th {\n",
              "        vertical-align: top;\n",
              "    }\n",
              "\n",
              "    .dataframe thead th {\n",
              "        text-align: right;\n",
              "    }\n",
              "</style>\n",
              "<table border=\"1\" class=\"dataframe\">\n",
              "  <thead>\n",
              "    <tr style=\"text-align: right;\">\n",
              "      <th></th>\n",
              "      <th>water_year</th>\n",
              "      <th>rain_octsep</th>\n",
              "      <th>outflow_octsep</th>\n",
              "      <th>rain_decfeb</th>\n",
              "      <th>outflow_decfeb</th>\n",
              "      <th>rain_junaug</th>\n",
              "      <th>outflow_junaug</th>\n",
              "    </tr>\n",
              "  </thead>\n",
              "  <tbody>\n",
              "    <tr>\n",
              "      <th>0</th>\n",
              "      <td>1980</td>\n",
              "      <td>1182</td>\n",
              "      <td>5408</td>\n",
              "      <td>292</td>\n",
              "      <td>7248</td>\n",
              "      <td>174</td>\n",
              "      <td>2212</td>\n",
              "    </tr>\n",
              "    <tr>\n",
              "      <th>1</th>\n",
              "      <td>1981</td>\n",
              "      <td>1098</td>\n",
              "      <td>5112</td>\n",
              "      <td>257</td>\n",
              "      <td>7316</td>\n",
              "      <td>242</td>\n",
              "      <td>1936</td>\n",
              "    </tr>\n",
              "    <tr>\n",
              "      <th>2</th>\n",
              "      <td>1982</td>\n",
              "      <td>1156</td>\n",
              "      <td>5701</td>\n",
              "      <td>330</td>\n",
              "      <td>8567</td>\n",
              "      <td>124</td>\n",
              "      <td>1802</td>\n",
              "    </tr>\n",
              "    <tr>\n",
              "      <th>3</th>\n",
              "      <td>1983</td>\n",
              "      <td>993</td>\n",
              "      <td>4265</td>\n",
              "      <td>391</td>\n",
              "      <td>8905</td>\n",
              "      <td>141</td>\n",
              "      <td>1078</td>\n",
              "    </tr>\n",
              "    <tr>\n",
              "      <th>4</th>\n",
              "      <td>1984</td>\n",
              "      <td>1182</td>\n",
              "      <td>5364</td>\n",
              "      <td>217</td>\n",
              "      <td>5813</td>\n",
              "      <td>343</td>\n",
              "      <td>4313</td>\n",
              "    </tr>\n",
              "    <tr>\n",
              "      <th>5</th>\n",
              "      <td>1985</td>\n",
              "      <td>1027</td>\n",
              "      <td>4991</td>\n",
              "      <td>304</td>\n",
              "      <td>7951</td>\n",
              "      <td>229</td>\n",
              "      <td>2595</td>\n",
              "    </tr>\n",
              "    <tr>\n",
              "      <th>6</th>\n",
              "      <td>1986</td>\n",
              "      <td>1151</td>\n",
              "      <td>5196</td>\n",
              "      <td>295</td>\n",
              "      <td>7593</td>\n",
              "      <td>267</td>\n",
              "      <td>2826</td>\n",
              "    </tr>\n",
              "    <tr>\n",
              "      <th>7</th>\n",
              "      <td>1987</td>\n",
              "      <td>1210</td>\n",
              "      <td>5572</td>\n",
              "      <td>343</td>\n",
              "      <td>8456</td>\n",
              "      <td>294</td>\n",
              "      <td>3154</td>\n",
              "    </tr>\n",
              "    <tr>\n",
              "      <th>8</th>\n",
              "      <td>1988</td>\n",
              "      <td>976</td>\n",
              "      <td>4330</td>\n",
              "      <td>309</td>\n",
              "      <td>6465</td>\n",
              "      <td>200</td>\n",
              "      <td>1440</td>\n",
              "    </tr>\n",
              "    <tr>\n",
              "      <th>9</th>\n",
              "      <td>1989</td>\n",
              "      <td>1130</td>\n",
              "      <td>4973</td>\n",
              "      <td>470</td>\n",
              "      <td>10520</td>\n",
              "      <td>209</td>\n",
              "      <td>1740</td>\n",
              "    </tr>\n",
              "    <tr>\n",
              "      <th>10</th>\n",
              "      <td>1990</td>\n",
              "      <td>1022</td>\n",
              "      <td>4418</td>\n",
              "      <td>305</td>\n",
              "      <td>7120</td>\n",
              "      <td>216</td>\n",
              "      <td>1923</td>\n",
              "    </tr>\n",
              "    <tr>\n",
              "      <th>11</th>\n",
              "      <td>1991</td>\n",
              "      <td>1151</td>\n",
              "      <td>4506</td>\n",
              "      <td>246</td>\n",
              "      <td>5493</td>\n",
              "      <td>280</td>\n",
              "      <td>2118</td>\n",
              "    </tr>\n",
              "    <tr>\n",
              "      <th>12</th>\n",
              "      <td>1992</td>\n",
              "      <td>1130</td>\n",
              "      <td>5246</td>\n",
              "      <td>308</td>\n",
              "      <td>8751</td>\n",
              "      <td>219</td>\n",
              "      <td>2551</td>\n",
              "    </tr>\n",
              "    <tr>\n",
              "      <th>13</th>\n",
              "      <td>1993</td>\n",
              "      <td>1162</td>\n",
              "      <td>5583</td>\n",
              "      <td>422</td>\n",
              "      <td>10109</td>\n",
              "      <td>193</td>\n",
              "      <td>1638</td>\n",
              "    </tr>\n",
              "    <tr>\n",
              "      <th>14</th>\n",
              "      <td>1994</td>\n",
              "      <td>1110</td>\n",
              "      <td>5370</td>\n",
              "      <td>484</td>\n",
              "      <td>11486</td>\n",
              "      <td>103</td>\n",
              "      <td>1231</td>\n",
              "    </tr>\n",
              "    <tr>\n",
              "      <th>15</th>\n",
              "      <td>1995</td>\n",
              "      <td>856</td>\n",
              "      <td>3479</td>\n",
              "      <td>245</td>\n",
              "      <td>5515</td>\n",
              "      <td>172</td>\n",
              "      <td>1439</td>\n",
              "    </tr>\n",
              "    <tr>\n",
              "      <th>16</th>\n",
              "      <td>1996</td>\n",
              "      <td>1047</td>\n",
              "      <td>4019</td>\n",
              "      <td>258</td>\n",
              "      <td>5770</td>\n",
              "      <td>256</td>\n",
              "      <td>2102</td>\n",
              "    </tr>\n",
              "    <tr>\n",
              "      <th>17</th>\n",
              "      <td>1997</td>\n",
              "      <td>1169</td>\n",
              "      <td>4953</td>\n",
              "      <td>341</td>\n",
              "      <td>7747</td>\n",
              "      <td>285</td>\n",
              "      <td>3206</td>\n",
              "    </tr>\n",
              "    <tr>\n",
              "      <th>18</th>\n",
              "      <td>1998</td>\n",
              "      <td>1268</td>\n",
              "      <td>5824</td>\n",
              "      <td>360</td>\n",
              "      <td>8771</td>\n",
              "      <td>225</td>\n",
              "      <td>2240</td>\n",
              "    </tr>\n",
              "    <tr>\n",
              "      <th>19</th>\n",
              "      <td>1999</td>\n",
              "      <td>1204</td>\n",
              "      <td>5665</td>\n",
              "      <td>417</td>\n",
              "      <td>10021</td>\n",
              "      <td>197</td>\n",
              "      <td>2166</td>\n",
              "    </tr>\n",
              "  </tbody>\n",
              "</table>\n",
              "</div>"
            ],
            "text/plain": [
              "    water_year  rain_octsep  ...  rain_junaug  outflow_junaug\n",
              "0         1980         1182  ...          174            2212\n",
              "1         1981         1098  ...          242            1936\n",
              "2         1982         1156  ...          124            1802\n",
              "3         1983          993  ...          141            1078\n",
              "4         1984         1182  ...          343            4313\n",
              "5         1985         1027  ...          229            2595\n",
              "6         1986         1151  ...          267            2826\n",
              "7         1987         1210  ...          294            3154\n",
              "8         1988          976  ...          200            1440\n",
              "9         1989         1130  ...          209            1740\n",
              "10        1990         1022  ...          216            1923\n",
              "11        1991         1151  ...          280            2118\n",
              "12        1992         1130  ...          219            2551\n",
              "13        1993         1162  ...          193            1638\n",
              "14        1994         1110  ...          103            1231\n",
              "15        1995          856  ...          172            1439\n",
              "16        1996         1047  ...          256            2102\n",
              "17        1997         1169  ...          285            3206\n",
              "18        1998         1268  ...          225            2240\n",
              "19        1999         1204  ...          197            2166\n",
              "\n",
              "[20 rows x 7 columns]"
            ]
          },
          "metadata": {
            "tags": []
          },
          "execution_count": 31
        }
      ]
    },
    {
      "cell_type": "code",
      "metadata": {
        "id": "GuC7u1GyPxNx",
        "colab": {
          "base_uri": "https://localhost:8080/",
          "height": 386
        },
        "outputId": "4bfe0466-3d97-46cb-d122-49a5a4ee334a"
      },
      "source": [
        "df_right3.head(11)"
      ],
      "execution_count": null,
      "outputs": [
        {
          "output_type": "execute_result",
          "data": {
            "text/html": [
              "<div>\n",
              "<style scoped>\n",
              "    .dataframe tbody tr th:only-of-type {\n",
              "        vertical-align: middle;\n",
              "    }\n",
              "\n",
              "    .dataframe tbody tr th {\n",
              "        vertical-align: top;\n",
              "    }\n",
              "\n",
              "    .dataframe thead th {\n",
              "        text-align: right;\n",
              "    }\n",
              "</style>\n",
              "<table border=\"1\" class=\"dataframe\">\n",
              "  <thead>\n",
              "    <tr style=\"text-align: right;\">\n",
              "      <th></th>\n",
              "      <th>year</th>\n",
              "      <th>rain_cn</th>\n",
              "      <th>rain_cn1</th>\n",
              "    </tr>\n",
              "  </thead>\n",
              "  <tbody>\n",
              "    <tr>\n",
              "      <th>0</th>\n",
              "      <td>1980</td>\n",
              "      <td>800.0</td>\n",
              "      <td>NaN</td>\n",
              "    </tr>\n",
              "    <tr>\n",
              "      <th>1</th>\n",
              "      <td>1981</td>\n",
              "      <td>801.0</td>\n",
              "      <td>NaN</td>\n",
              "    </tr>\n",
              "    <tr>\n",
              "      <th>2</th>\n",
              "      <td>1982</td>\n",
              "      <td>802.0</td>\n",
              "      <td>NaN</td>\n",
              "    </tr>\n",
              "    <tr>\n",
              "      <th>3</th>\n",
              "      <td>1983</td>\n",
              "      <td>803.0</td>\n",
              "      <td>NaN</td>\n",
              "    </tr>\n",
              "    <tr>\n",
              "      <th>4</th>\n",
              "      <td>1984</td>\n",
              "      <td>804.0</td>\n",
              "      <td>NaN</td>\n",
              "    </tr>\n",
              "    <tr>\n",
              "      <th>5</th>\n",
              "      <td>1985</td>\n",
              "      <td>805.0</td>\n",
              "      <td>NaN</td>\n",
              "    </tr>\n",
              "    <tr>\n",
              "      <th>6</th>\n",
              "      <td>1986</td>\n",
              "      <td>806.0</td>\n",
              "      <td>NaN</td>\n",
              "    </tr>\n",
              "    <tr>\n",
              "      <th>7</th>\n",
              "      <td>1987</td>\n",
              "      <td>807.0</td>\n",
              "      <td>NaN</td>\n",
              "    </tr>\n",
              "    <tr>\n",
              "      <th>8</th>\n",
              "      <td>1988</td>\n",
              "      <td>808.0</td>\n",
              "      <td>NaN</td>\n",
              "    </tr>\n",
              "    <tr>\n",
              "      <th>9</th>\n",
              "      <td>1989</td>\n",
              "      <td>809.0</td>\n",
              "      <td>NaN</td>\n",
              "    </tr>\n",
              "    <tr>\n",
              "      <th>10</th>\n",
              "      <td>1991</td>\n",
              "      <td>NaN</td>\n",
              "      <td>800.0</td>\n",
              "    </tr>\n",
              "  </tbody>\n",
              "</table>\n",
              "</div>"
            ],
            "text/plain": [
              "    year  rain_cn  rain_cn1\n",
              "0   1980    800.0       NaN\n",
              "1   1981    801.0       NaN\n",
              "2   1982    802.0       NaN\n",
              "3   1983    803.0       NaN\n",
              "4   1984    804.0       NaN\n",
              "5   1985    805.0       NaN\n",
              "6   1986    806.0       NaN\n",
              "7   1987    807.0       NaN\n",
              "8   1988    808.0       NaN\n",
              "9   1989    809.0       NaN\n",
              "10  1991      NaN     800.0"
            ]
          },
          "metadata": {
            "tags": []
          },
          "execution_count": 32
        }
      ]
    },
    {
      "cell_type": "code",
      "metadata": {
        "id": "1JAQs-D9Leb-",
        "colab": {
          "base_uri": "https://localhost:8080/",
          "height": 386
        },
        "outputId": "bdf62439-be68-410f-d94a-419f809cba64"
      },
      "source": [
        "# SQL like inner join:\n",
        "df_join=pd.merge(df_uk_rain, df_right3, left_on='water_year',right_on='year',how='inner')\n",
        "df_join"
      ],
      "execution_count": null,
      "outputs": [
        {
          "output_type": "execute_result",
          "data": {
            "text/html": [
              "<div>\n",
              "<style scoped>\n",
              "    .dataframe tbody tr th:only-of-type {\n",
              "        vertical-align: middle;\n",
              "    }\n",
              "\n",
              "    .dataframe tbody tr th {\n",
              "        vertical-align: top;\n",
              "    }\n",
              "\n",
              "    .dataframe thead th {\n",
              "        text-align: right;\n",
              "    }\n",
              "</style>\n",
              "<table border=\"1\" class=\"dataframe\">\n",
              "  <thead>\n",
              "    <tr style=\"text-align: right;\">\n",
              "      <th></th>\n",
              "      <th>water_year</th>\n",
              "      <th>rain_octsep</th>\n",
              "      <th>outflow_octsep</th>\n",
              "      <th>rain_decfeb</th>\n",
              "      <th>outflow_decfeb</th>\n",
              "      <th>rain_junaug</th>\n",
              "      <th>outflow_junaug</th>\n",
              "      <th>year</th>\n",
              "      <th>rain_cn</th>\n",
              "      <th>rain_cn1</th>\n",
              "    </tr>\n",
              "  </thead>\n",
              "  <tbody>\n",
              "    <tr>\n",
              "      <th>0</th>\n",
              "      <td>1980</td>\n",
              "      <td>1182</td>\n",
              "      <td>5408</td>\n",
              "      <td>292</td>\n",
              "      <td>7248</td>\n",
              "      <td>174</td>\n",
              "      <td>2212</td>\n",
              "      <td>1980</td>\n",
              "      <td>800.0</td>\n",
              "      <td>NaN</td>\n",
              "    </tr>\n",
              "    <tr>\n",
              "      <th>1</th>\n",
              "      <td>1981</td>\n",
              "      <td>1098</td>\n",
              "      <td>5112</td>\n",
              "      <td>257</td>\n",
              "      <td>7316</td>\n",
              "      <td>242</td>\n",
              "      <td>1936</td>\n",
              "      <td>1981</td>\n",
              "      <td>801.0</td>\n",
              "      <td>NaN</td>\n",
              "    </tr>\n",
              "    <tr>\n",
              "      <th>2</th>\n",
              "      <td>1982</td>\n",
              "      <td>1156</td>\n",
              "      <td>5701</td>\n",
              "      <td>330</td>\n",
              "      <td>8567</td>\n",
              "      <td>124</td>\n",
              "      <td>1802</td>\n",
              "      <td>1982</td>\n",
              "      <td>802.0</td>\n",
              "      <td>NaN</td>\n",
              "    </tr>\n",
              "    <tr>\n",
              "      <th>3</th>\n",
              "      <td>1983</td>\n",
              "      <td>993</td>\n",
              "      <td>4265</td>\n",
              "      <td>391</td>\n",
              "      <td>8905</td>\n",
              "      <td>141</td>\n",
              "      <td>1078</td>\n",
              "      <td>1983</td>\n",
              "      <td>803.0</td>\n",
              "      <td>NaN</td>\n",
              "    </tr>\n",
              "    <tr>\n",
              "      <th>4</th>\n",
              "      <td>1984</td>\n",
              "      <td>1182</td>\n",
              "      <td>5364</td>\n",
              "      <td>217</td>\n",
              "      <td>5813</td>\n",
              "      <td>343</td>\n",
              "      <td>4313</td>\n",
              "      <td>1984</td>\n",
              "      <td>804.0</td>\n",
              "      <td>NaN</td>\n",
              "    </tr>\n",
              "    <tr>\n",
              "      <th>5</th>\n",
              "      <td>1985</td>\n",
              "      <td>1027</td>\n",
              "      <td>4991</td>\n",
              "      <td>304</td>\n",
              "      <td>7951</td>\n",
              "      <td>229</td>\n",
              "      <td>2595</td>\n",
              "      <td>1985</td>\n",
              "      <td>805.0</td>\n",
              "      <td>NaN</td>\n",
              "    </tr>\n",
              "    <tr>\n",
              "      <th>6</th>\n",
              "      <td>1986</td>\n",
              "      <td>1151</td>\n",
              "      <td>5196</td>\n",
              "      <td>295</td>\n",
              "      <td>7593</td>\n",
              "      <td>267</td>\n",
              "      <td>2826</td>\n",
              "      <td>1986</td>\n",
              "      <td>806.0</td>\n",
              "      <td>NaN</td>\n",
              "    </tr>\n",
              "    <tr>\n",
              "      <th>7</th>\n",
              "      <td>1987</td>\n",
              "      <td>1210</td>\n",
              "      <td>5572</td>\n",
              "      <td>343</td>\n",
              "      <td>8456</td>\n",
              "      <td>294</td>\n",
              "      <td>3154</td>\n",
              "      <td>1987</td>\n",
              "      <td>807.0</td>\n",
              "      <td>NaN</td>\n",
              "    </tr>\n",
              "    <tr>\n",
              "      <th>8</th>\n",
              "      <td>1988</td>\n",
              "      <td>976</td>\n",
              "      <td>4330</td>\n",
              "      <td>309</td>\n",
              "      <td>6465</td>\n",
              "      <td>200</td>\n",
              "      <td>1440</td>\n",
              "      <td>1988</td>\n",
              "      <td>808.0</td>\n",
              "      <td>NaN</td>\n",
              "    </tr>\n",
              "    <tr>\n",
              "      <th>9</th>\n",
              "      <td>1989</td>\n",
              "      <td>1130</td>\n",
              "      <td>4973</td>\n",
              "      <td>470</td>\n",
              "      <td>10520</td>\n",
              "      <td>209</td>\n",
              "      <td>1740</td>\n",
              "      <td>1989</td>\n",
              "      <td>809.0</td>\n",
              "      <td>NaN</td>\n",
              "    </tr>\n",
              "    <tr>\n",
              "      <th>10</th>\n",
              "      <td>1991</td>\n",
              "      <td>1151</td>\n",
              "      <td>4506</td>\n",
              "      <td>246</td>\n",
              "      <td>5493</td>\n",
              "      <td>280</td>\n",
              "      <td>2118</td>\n",
              "      <td>1991</td>\n",
              "      <td>NaN</td>\n",
              "      <td>800.0</td>\n",
              "    </tr>\n",
              "  </tbody>\n",
              "</table>\n",
              "</div>"
            ],
            "text/plain": [
              "    water_year  rain_octsep  outflow_octsep  ...  year  rain_cn  rain_cn1\n",
              "0         1980         1182            5408  ...  1980    800.0       NaN\n",
              "1         1981         1098            5112  ...  1981    801.0       NaN\n",
              "2         1982         1156            5701  ...  1982    802.0       NaN\n",
              "3         1983          993            4265  ...  1983    803.0       NaN\n",
              "4         1984         1182            5364  ...  1984    804.0       NaN\n",
              "5         1985         1027            4991  ...  1985    805.0       NaN\n",
              "6         1986         1151            5196  ...  1986    806.0       NaN\n",
              "7         1987         1210            5572  ...  1987    807.0       NaN\n",
              "8         1988          976            4330  ...  1988    808.0       NaN\n",
              "9         1989         1130            4973  ...  1989    809.0       NaN\n",
              "10        1991         1151            4506  ...  1991      NaN     800.0\n",
              "\n",
              "[11 rows x 10 columns]"
            ]
          },
          "metadata": {
            "tags": []
          },
          "execution_count": 33
        }
      ]
    },
    {
      "cell_type": "markdown",
      "metadata": {
        "id": "01PXGrp2oQuZ"
      },
      "source": [
        "#### **(Advanced)Grouping**\n",
        "\n",
        "Read this [document](https://pandas.pydata.org/pandas-docs/stable/groupby.html) for more info"
      ]
    },
    {
      "cell_type": "code",
      "metadata": {
        "id": "7vVGllv1F42Z",
        "colab": {
          "base_uri": "https://localhost:8080/",
          "height": 202
        },
        "outputId": "9c7eadf8-ec45-4449-8e62-83237dd21399"
      },
      "source": [
        "# groupby: similar to SQL groupby\n",
        "df_uk_rain.groupby(df_uk_rain['water_year'] // 10 *10)[['rain_octsep','outflow_octsep','rain_decfeb']].max()"
      ],
      "execution_count": null,
      "outputs": [
        {
          "output_type": "execute_result",
          "data": {
            "text/html": [
              "<div>\n",
              "<style scoped>\n",
              "    .dataframe tbody tr th:only-of-type {\n",
              "        vertical-align: middle;\n",
              "    }\n",
              "\n",
              "    .dataframe tbody tr th {\n",
              "        vertical-align: top;\n",
              "    }\n",
              "\n",
              "    .dataframe thead th {\n",
              "        text-align: right;\n",
              "    }\n",
              "</style>\n",
              "<table border=\"1\" class=\"dataframe\">\n",
              "  <thead>\n",
              "    <tr style=\"text-align: right;\">\n",
              "      <th></th>\n",
              "      <th>rain_octsep</th>\n",
              "      <th>outflow_octsep</th>\n",
              "      <th>rain_decfeb</th>\n",
              "    </tr>\n",
              "    <tr>\n",
              "      <th>water_year</th>\n",
              "      <th></th>\n",
              "      <th></th>\n",
              "      <th></th>\n",
              "    </tr>\n",
              "  </thead>\n",
              "  <tbody>\n",
              "    <tr>\n",
              "      <th>1980</th>\n",
              "      <td>1210</td>\n",
              "      <td>5701</td>\n",
              "      <td>470</td>\n",
              "    </tr>\n",
              "    <tr>\n",
              "      <th>1990</th>\n",
              "      <td>1268</td>\n",
              "      <td>5824</td>\n",
              "      <td>484</td>\n",
              "    </tr>\n",
              "    <tr>\n",
              "      <th>2000</th>\n",
              "      <td>1387</td>\n",
              "      <td>6391</td>\n",
              "      <td>437</td>\n",
              "    </tr>\n",
              "    <tr>\n",
              "      <th>2010</th>\n",
              "      <td>1285</td>\n",
              "      <td>5500</td>\n",
              "      <td>350</td>\n",
              "    </tr>\n",
              "  </tbody>\n",
              "</table>\n",
              "</div>"
            ],
            "text/plain": [
              "            rain_octsep  outflow_octsep  rain_decfeb\n",
              "water_year                                          \n",
              "1980               1210            5701          470\n",
              "1990               1268            5824          484\n",
              "2000               1387            6391          437\n",
              "2010               1285            5500          350"
            ]
          },
          "metadata": {
            "tags": []
          },
          "execution_count": 34
        }
      ]
    },
    {
      "cell_type": "code",
      "metadata": {
        "id": "3iqCV9gQKYdl",
        "colab": {
          "base_uri": "https://localhost:8080/"
        },
        "outputId": "c9e36e35-ccc9-451b-99d2-cddbe7c51fed"
      },
      "source": [
        "df_uk_rain.groupby(df_uk_rain['water_year'] // 10 *10)"
      ],
      "execution_count": null,
      "outputs": [
        {
          "output_type": "execute_result",
          "data": {
            "text/plain": [
              "<pandas.core.groupby.generic.DataFrameGroupBy object at 0x7f869f8b9e48>"
            ]
          },
          "metadata": {
            "tags": []
          },
          "execution_count": 35
        }
      ]
    },
    {
      "cell_type": "code",
      "metadata": {
        "id": "Rt8hW1ncJIWX",
        "colab": {
          "base_uri": "https://localhost:8080/"
        },
        "outputId": "b3db3c36-879a-48aa-94e3-a32a51004da0"
      },
      "source": [
        "df_uk_rain['water_year'] // 10 * 10"
      ],
      "execution_count": null,
      "outputs": [
        {
          "output_type": "execute_result",
          "data": {
            "text/plain": [
              "0     1980\n",
              "1     1980\n",
              "2     1980\n",
              "3     1980\n",
              "4     1980\n",
              "5     1980\n",
              "6     1980\n",
              "7     1980\n",
              "8     1980\n",
              "9     1980\n",
              "10    1990\n",
              "11    1990\n",
              "12    1990\n",
              "13    1990\n",
              "14    1990\n",
              "15    1990\n",
              "16    1990\n",
              "17    1990\n",
              "18    1990\n",
              "19    1990\n",
              "20    2000\n",
              "21    2000\n",
              "22    2000\n",
              "23    2000\n",
              "24    2000\n",
              "25    2000\n",
              "26    2000\n",
              "27    2000\n",
              "28    2000\n",
              "29    2000\n",
              "30    2010\n",
              "31    2010\n",
              "32    2010\n",
              "Name: water_year, dtype: int64"
            ]
          },
          "metadata": {
            "tags": []
          },
          "execution_count": 36
        }
      ]
    },
    {
      "cell_type": "markdown",
      "metadata": {
        "id": "Dd02UQsPpAqj"
      },
      "source": [
        "## **Data Preprocessing**\n",
        "\n",
        "(Advanced)\n",
        "\n",
        "*   Duplication\n",
        "*   Outlier\n",
        "*   Missing Value\n",
        "\n"
      ]
    },
    {
      "cell_type": "markdown",
      "metadata": {
        "id": "v2EVa9GC9ygN"
      },
      "source": [
        "#### **Duplication**"
      ]
    },
    {
      "cell_type": "code",
      "metadata": {
        "id": "P-AhBupVMWfu",
        "colab": {
          "base_uri": "https://localhost:8080/",
          "height": 141
        },
        "outputId": "bc9939f6-c2fa-45dc-ab4c-8faa6f8df1cc"
      },
      "source": [
        "# check if a column has duplicates\n",
        "df_uk_rain[df_uk_rain['rain_octsep'].duplicated(keep='first')]"
      ],
      "execution_count": null,
      "outputs": [
        {
          "output_type": "execute_result",
          "data": {
            "text/html": [
              "<div>\n",
              "<style scoped>\n",
              "    .dataframe tbody tr th:only-of-type {\n",
              "        vertical-align: middle;\n",
              "    }\n",
              "\n",
              "    .dataframe tbody tr th {\n",
              "        vertical-align: top;\n",
              "    }\n",
              "\n",
              "    .dataframe thead th {\n",
              "        text-align: right;\n",
              "    }\n",
              "</style>\n",
              "<table border=\"1\" class=\"dataframe\">\n",
              "  <thead>\n",
              "    <tr style=\"text-align: right;\">\n",
              "      <th></th>\n",
              "      <th>water_year</th>\n",
              "      <th>rain_octsep</th>\n",
              "      <th>outflow_octsep</th>\n",
              "      <th>rain_decfeb</th>\n",
              "      <th>outflow_decfeb</th>\n",
              "      <th>rain_junaug</th>\n",
              "      <th>outflow_junaug</th>\n",
              "    </tr>\n",
              "  </thead>\n",
              "  <tbody>\n",
              "    <tr>\n",
              "      <th>4</th>\n",
              "      <td>1984</td>\n",
              "      <td>1182</td>\n",
              "      <td>5364</td>\n",
              "      <td>217</td>\n",
              "      <td>5813</td>\n",
              "      <td>343</td>\n",
              "      <td>4313</td>\n",
              "    </tr>\n",
              "    <tr>\n",
              "      <th>11</th>\n",
              "      <td>1991</td>\n",
              "      <td>1151</td>\n",
              "      <td>4506</td>\n",
              "      <td>246</td>\n",
              "      <td>5493</td>\n",
              "      <td>280</td>\n",
              "      <td>2118</td>\n",
              "    </tr>\n",
              "    <tr>\n",
              "      <th>12</th>\n",
              "      <td>1992</td>\n",
              "      <td>1130</td>\n",
              "      <td>5246</td>\n",
              "      <td>308</td>\n",
              "      <td>8751</td>\n",
              "      <td>219</td>\n",
              "      <td>2551</td>\n",
              "    </tr>\n",
              "  </tbody>\n",
              "</table>\n",
              "</div>"
            ],
            "text/plain": [
              "    water_year  rain_octsep  ...  rain_junaug  outflow_junaug\n",
              "4         1984         1182  ...          343            4313\n",
              "11        1991         1151  ...          280            2118\n",
              "12        1992         1130  ...          219            2551\n",
              "\n",
              "[3 rows x 7 columns]"
            ]
          },
          "metadata": {
            "tags": []
          },
          "execution_count": 37
        }
      ]
    },
    {
      "cell_type": "code",
      "metadata": {
        "id": "3WW7iRS6Mxc0",
        "colab": {
          "base_uri": "https://localhost:8080/",
          "height": 110
        },
        "outputId": "a8f89a96-def2-4397-a456-98d7b401c4e4"
      },
      "source": [
        "# create a duplicated row as the last row\n",
        "df_dup=df_uk_rain\n",
        "df_dup.loc[len(df_dup)]=df_dup.iloc[0]\n",
        "df_dup.iloc[[0,-1]] # first and last row"
      ],
      "execution_count": null,
      "outputs": [
        {
          "output_type": "execute_result",
          "data": {
            "text/html": [
              "<div>\n",
              "<style scoped>\n",
              "    .dataframe tbody tr th:only-of-type {\n",
              "        vertical-align: middle;\n",
              "    }\n",
              "\n",
              "    .dataframe tbody tr th {\n",
              "        vertical-align: top;\n",
              "    }\n",
              "\n",
              "    .dataframe thead th {\n",
              "        text-align: right;\n",
              "    }\n",
              "</style>\n",
              "<table border=\"1\" class=\"dataframe\">\n",
              "  <thead>\n",
              "    <tr style=\"text-align: right;\">\n",
              "      <th></th>\n",
              "      <th>water_year</th>\n",
              "      <th>rain_octsep</th>\n",
              "      <th>outflow_octsep</th>\n",
              "      <th>rain_decfeb</th>\n",
              "      <th>outflow_decfeb</th>\n",
              "      <th>rain_junaug</th>\n",
              "      <th>outflow_junaug</th>\n",
              "    </tr>\n",
              "  </thead>\n",
              "  <tbody>\n",
              "    <tr>\n",
              "      <th>0</th>\n",
              "      <td>1980</td>\n",
              "      <td>1182</td>\n",
              "      <td>5408</td>\n",
              "      <td>292</td>\n",
              "      <td>7248</td>\n",
              "      <td>174</td>\n",
              "      <td>2212</td>\n",
              "    </tr>\n",
              "    <tr>\n",
              "      <th>33</th>\n",
              "      <td>1980</td>\n",
              "      <td>1182</td>\n",
              "      <td>5408</td>\n",
              "      <td>292</td>\n",
              "      <td>7248</td>\n",
              "      <td>174</td>\n",
              "      <td>2212</td>\n",
              "    </tr>\n",
              "  </tbody>\n",
              "</table>\n",
              "</div>"
            ],
            "text/plain": [
              "    water_year  rain_octsep  ...  rain_junaug  outflow_junaug\n",
              "0         1980         1182  ...          174            2212\n",
              "33        1980         1182  ...          174            2212\n",
              "\n",
              "[2 rows x 7 columns]"
            ]
          },
          "metadata": {
            "tags": []
          },
          "execution_count": 38
        }
      ]
    },
    {
      "cell_type": "code",
      "metadata": {
        "id": "7w6LsQVoM23Y",
        "colab": {
          "base_uri": "https://localhost:8080/",
          "height": 110
        },
        "outputId": "90089ce9-47b1-4744-bebd-ad186bf6d472"
      },
      "source": [
        "# check duplicate rows\n",
        "df_dup[df_dup.duplicated(keep=False)]"
      ],
      "execution_count": null,
      "outputs": [
        {
          "output_type": "execute_result",
          "data": {
            "text/html": [
              "<div>\n",
              "<style scoped>\n",
              "    .dataframe tbody tr th:only-of-type {\n",
              "        vertical-align: middle;\n",
              "    }\n",
              "\n",
              "    .dataframe tbody tr th {\n",
              "        vertical-align: top;\n",
              "    }\n",
              "\n",
              "    .dataframe thead th {\n",
              "        text-align: right;\n",
              "    }\n",
              "</style>\n",
              "<table border=\"1\" class=\"dataframe\">\n",
              "  <thead>\n",
              "    <tr style=\"text-align: right;\">\n",
              "      <th></th>\n",
              "      <th>water_year</th>\n",
              "      <th>rain_octsep</th>\n",
              "      <th>outflow_octsep</th>\n",
              "      <th>rain_decfeb</th>\n",
              "      <th>outflow_decfeb</th>\n",
              "      <th>rain_junaug</th>\n",
              "      <th>outflow_junaug</th>\n",
              "    </tr>\n",
              "  </thead>\n",
              "  <tbody>\n",
              "    <tr>\n",
              "      <th>0</th>\n",
              "      <td>1980</td>\n",
              "      <td>1182</td>\n",
              "      <td>5408</td>\n",
              "      <td>292</td>\n",
              "      <td>7248</td>\n",
              "      <td>174</td>\n",
              "      <td>2212</td>\n",
              "    </tr>\n",
              "    <tr>\n",
              "      <th>33</th>\n",
              "      <td>1980</td>\n",
              "      <td>1182</td>\n",
              "      <td>5408</td>\n",
              "      <td>292</td>\n",
              "      <td>7248</td>\n",
              "      <td>174</td>\n",
              "      <td>2212</td>\n",
              "    </tr>\n",
              "  </tbody>\n",
              "</table>\n",
              "</div>"
            ],
            "text/plain": [
              "    water_year  rain_octsep  ...  rain_junaug  outflow_junaug\n",
              "0         1980         1182  ...          174            2212\n",
              "33        1980         1182  ...          174            2212\n",
              "\n",
              "[2 rows x 7 columns]"
            ]
          },
          "metadata": {
            "tags": []
          },
          "execution_count": 39
        }
      ]
    },
    {
      "cell_type": "code",
      "metadata": {
        "id": "IhjIxyGbNFF_",
        "colab": {
          "base_uri": "https://localhost:8080/",
          "height": 110
        },
        "outputId": "2b11f8b9-3ad9-4e9b-e67c-f18a355ac938"
      },
      "source": [
        "# remove duplicates\n",
        "df_dedup=df_dup.drop_duplicates()\n",
        "df_dedup.iloc[[0,-1]]"
      ],
      "execution_count": null,
      "outputs": [
        {
          "output_type": "execute_result",
          "data": {
            "text/html": [
              "<div>\n",
              "<style scoped>\n",
              "    .dataframe tbody tr th:only-of-type {\n",
              "        vertical-align: middle;\n",
              "    }\n",
              "\n",
              "    .dataframe tbody tr th {\n",
              "        vertical-align: top;\n",
              "    }\n",
              "\n",
              "    .dataframe thead th {\n",
              "        text-align: right;\n",
              "    }\n",
              "</style>\n",
              "<table border=\"1\" class=\"dataframe\">\n",
              "  <thead>\n",
              "    <tr style=\"text-align: right;\">\n",
              "      <th></th>\n",
              "      <th>water_year</th>\n",
              "      <th>rain_octsep</th>\n",
              "      <th>outflow_octsep</th>\n",
              "      <th>rain_decfeb</th>\n",
              "      <th>outflow_decfeb</th>\n",
              "      <th>rain_junaug</th>\n",
              "      <th>outflow_junaug</th>\n",
              "    </tr>\n",
              "  </thead>\n",
              "  <tbody>\n",
              "    <tr>\n",
              "      <th>0</th>\n",
              "      <td>1980</td>\n",
              "      <td>1182</td>\n",
              "      <td>5408</td>\n",
              "      <td>292</td>\n",
              "      <td>7248</td>\n",
              "      <td>174</td>\n",
              "      <td>2212</td>\n",
              "    </tr>\n",
              "    <tr>\n",
              "      <th>32</th>\n",
              "      <td>2012</td>\n",
              "      <td>1090</td>\n",
              "      <td>5329</td>\n",
              "      <td>350</td>\n",
              "      <td>9615</td>\n",
              "      <td>187</td>\n",
              "      <td>1797</td>\n",
              "    </tr>\n",
              "  </tbody>\n",
              "</table>\n",
              "</div>"
            ],
            "text/plain": [
              "    water_year  rain_octsep  ...  rain_junaug  outflow_junaug\n",
              "0         1980         1182  ...          174            2212\n",
              "32        2012         1090  ...          187            1797\n",
              "\n",
              "[2 rows x 7 columns]"
            ]
          },
          "metadata": {
            "tags": []
          },
          "execution_count": 40
        }
      ]
    },
    {
      "cell_type": "markdown",
      "metadata": {
        "id": "mraQ_hJc-Z_Z"
      },
      "source": [
        "#### **Outlier**\n",
        "\n",
        "boxplot, winsorizing"
      ]
    },
    {
      "cell_type": "markdown",
      "metadata": {
        "id": "-4SNIM9OSRQQ"
      },
      "source": [
        "![alt text](https://www.mathsisfun.com/data/images/outlier.svg)<br>\n",
        "![alt text](https://statistics.laerd.com/statistical-guides/img/pearson-6.png)"
      ]
    },
    {
      "cell_type": "code",
      "metadata": {
        "id": "-VPqrSomd5fY",
        "colab": {
          "base_uri": "https://localhost:8080/",
          "height": 337
        },
        "outputId": "de503bec-f20d-48d4-aaaf-cd0ae5d8ea49"
      },
      "source": [
        "import seaborn as sns\n",
        "# Simulate data\n",
        "dt_outlier=np.concatenate([np.random.normal(0,1,1000),np.random.normal(8,1,10)])\n",
        "sns.set_style('whitegrid')\n",
        "sns.distplot(dt_outlier)"
      ],
      "execution_count": null,
      "outputs": [
        {
          "output_type": "stream",
          "text": [
            "/usr/local/lib/python3.6/dist-packages/seaborn/distributions.py:2551: FutureWarning: `distplot` is a deprecated function and will be removed in a future version. Please adapt your code to use either `displot` (a figure-level function with similar flexibility) or `histplot` (an axes-level function for histograms).\n",
            "  warnings.warn(msg, FutureWarning)\n"
          ],
          "name": "stderr"
        },
        {
          "output_type": "execute_result",
          "data": {
            "text/plain": [
              "<matplotlib.axes._subplots.AxesSubplot at 0x7f869487a2e8>"
            ]
          },
          "metadata": {
            "tags": []
          },
          "execution_count": 41
        },
        {
          "output_type": "display_data",
          "data": {
            "image/png": "[encoded data removed]",
            "text/plain": [
              "<Figure size 432x288 with 1 Axes>"
            ]
          },
          "metadata": {
            "tags": []
          }
        }
      ]
    },
    {
      "cell_type": "markdown",
      "metadata": {
        "id": "CODolxCDSiQv"
      },
      "source": [
        "Outlier Detection： Boxplot  <br>\n",
        "Interquartile Range(IQR):\n",
        "IQR= Upper Quantile(Q3) - Lower Quartile(Q1) <br>\n",
        "Lower Limit = Q1 - 1.5 IQR <br>\n",
        "Upper Limit = Q3 + 1.5 IQR <br>\n",
        "![alt text](https://i.stack.imgur.com/mpbTr.gif)\n"
      ]
    },
    {
      "cell_type": "code",
      "metadata": {
        "id": "pIlD3GhuSjwU",
        "colab": {
          "base_uri": "https://localhost:8080/",
          "height": 372
        },
        "outputId": "c7c5029f-8ab8-4d37-98a9-35d7be14d876"
      },
      "source": [
        "sns.boxplot(dt_outlier,orient='v')"
      ],
      "execution_count": null,
      "outputs": [
        {
          "output_type": "stream",
          "text": [
            "/usr/local/lib/python3.6/dist-packages/seaborn/_decorators.py:43: FutureWarning: Pass the following variable as a keyword arg: x. From version 0.12, the only valid positional argument will be `data`, and passing other arguments without an explicit keyword will result in an error or misinterpretation.\n",
            "  FutureWarning\n",
            "/usr/local/lib/python3.6/dist-packages/seaborn/_core.py:1303: UserWarning: Vertical orientation ignored with only `x` specified.\n",
            "  warnings.warn(single_var_warning.format(\"Vertical\", \"x\"))\n"
          ],
          "name": "stderr"
        },
        {
          "output_type": "execute_result",
          "data": {
            "text/plain": [
              "<matplotlib.axes._subplots.AxesSubplot at 0x7f86946dce48>"
            ]
          },
          "metadata": {
            "tags": []
          },
          "execution_count": 42
        },
        {
          "output_type": "display_data",
          "data": {
            "image/png": "[encoded data removed]",
            "text/plain": [
              "<Figure size 432x288 with 1 Axes>"
            ]
          },
          "metadata": {
            "tags": []
          }
        }
      ]
    },
    {
      "cell_type": "code",
      "metadata": {
        "id": "COGwopQ5Sndz",
        "colab": {
          "base_uri": "https://localhost:8080/",
          "height": 372
        },
        "outputId": "f1213d3e-6ff0-4a89-831f-74ed570a1d89"
      },
      "source": [
        "# define a function remove outlier using IQR\n",
        "def iqr_outlier_rm(dt_input):\n",
        "  lq,uq=np.percentile(dt_input,[25,75])\n",
        "  lower_l=lq - 1.5*(uq-lq)\n",
        "  upper_l=uq + 1.5*(uq-lq)\n",
        "  return dt_input[(dt_input > lower_l) & (dt_input < upper_l)]\n",
        "  \n",
        "dt_outlier_ws=iqr_outlier_rm(dt_outlier)\n",
        "sns.boxplot(dt_outlier_ws,orient='v')"
      ],
      "execution_count": null,
      "outputs": [
        {
          "output_type": "stream",
          "text": [
            "/usr/local/lib/python3.6/dist-packages/seaborn/_decorators.py:43: FutureWarning: Pass the following variable as a keyword arg: x. From version 0.12, the only valid positional argument will be `data`, and passing other arguments without an explicit keyword will result in an error or misinterpretation.\n",
            "  FutureWarning\n",
            "/usr/local/lib/python3.6/dist-packages/seaborn/_core.py:1303: UserWarning: Vertical orientation ignored with only `x` specified.\n",
            "  warnings.warn(single_var_warning.format(\"Vertical\", \"x\"))\n"
          ],
          "name": "stderr"
        },
        {
          "output_type": "execute_result",
          "data": {
            "text/plain": [
              "<matplotlib.axes._subplots.AxesSubplot at 0x7f869420f2e8>"
            ]
          },
          "metadata": {
            "tags": []
          },
          "execution_count": 43
        },
        {
          "output_type": "display_data",
          "data": {
            "image/png": "[encoded data removed]",
            "text/plain": [
              "<Figure size 432x288 with 1 Axes>"
            ]
          },
          "metadata": {
            "tags": []
          }
        }
      ]
    },
    {
      "cell_type": "markdown",
      "metadata": {
        "id": "CSZGjd_q_ASw"
      },
      "source": [
        "#### **Missing Value**"
      ]
    },
    {
      "cell_type": "code",
      "metadata": {
        "id": "FtafT2qOVIUd"
      },
      "source": [
        "# create a dictionary\n",
        "raw_data = {'name': ['Jason', np.nan, 'Mike', 'Rayman', 'Alex', 'Meimei'], \n",
        "        'age': [36, np.nan, 36, 18, 36, 16], \n",
        "        'gender': ['m', np.nan, 'm', np.nan, 'f', 'f'], \n",
        "        'preMLScore': [1, np.nan, np.nan, 2, 3, 90],\n",
        "        'postMLScore': [65, np.nan, np.nan, 62, 70, 100]}\n",
        "\n",
        "# create a dataframe by passing a dictionary\n",
        "df = pd.DataFrame(raw_data, columns = ['name', 'age', 'gender', 'preMLScore', 'postMLScore'])"
      ],
      "execution_count": null,
      "outputs": []
    },
    {
      "cell_type": "code",
      "metadata": {
        "id": "NGWz3l__WoXy",
        "colab": {
          "base_uri": "https://localhost:8080/",
          "height": 233
        },
        "outputId": "fa1a2b8e-7a65-42e4-9eb5-6510b7d80b55"
      },
      "source": [
        "df"
      ],
      "execution_count": null,
      "outputs": [
        {
          "output_type": "execute_result",
          "data": {
            "text/html": [
              "<div>\n",
              "<style scoped>\n",
              "    .dataframe tbody tr th:only-of-type {\n",
              "        vertical-align: middle;\n",
              "    }\n",
              "\n",
              "    .dataframe tbody tr th {\n",
              "        vertical-align: top;\n",
              "    }\n",
              "\n",
              "    .dataframe thead th {\n",
              "        text-align: right;\n",
              "    }\n",
              "</style>\n",
              "<table border=\"1\" class=\"dataframe\">\n",
              "  <thead>\n",
              "    <tr style=\"text-align: right;\">\n",
              "      <th></th>\n",
              "      <th>name</th>\n",
              "      <th>age</th>\n",
              "      <th>gender</th>\n",
              "      <th>preMLScore</th>\n",
              "      <th>postMLScore</th>\n",
              "    </tr>\n",
              "  </thead>\n",
              "  <tbody>\n",
              "    <tr>\n",
              "      <th>0</th>\n",
              "      <td>Jason</td>\n",
              "      <td>36.0</td>\n",
              "      <td>m</td>\n",
              "      <td>1.0</td>\n",
              "      <td>65.0</td>\n",
              "    </tr>\n",
              "    <tr>\n",
              "      <th>1</th>\n",
              "      <td>NaN</td>\n",
              "      <td>NaN</td>\n",
              "      <td>NaN</td>\n",
              "      <td>NaN</td>\n",
              "      <td>NaN</td>\n",
              "    </tr>\n",
              "    <tr>\n",
              "      <th>2</th>\n",
              "      <td>Mike</td>\n",
              "      <td>36.0</td>\n",
              "      <td>m</td>\n",
              "      <td>NaN</td>\n",
              "      <td>NaN</td>\n",
              "    </tr>\n",
              "    <tr>\n",
              "      <th>3</th>\n",
              "      <td>Rayman</td>\n",
              "      <td>18.0</td>\n",
              "      <td>NaN</td>\n",
              "      <td>2.0</td>\n",
              "      <td>62.0</td>\n",
              "    </tr>\n",
              "    <tr>\n",
              "      <th>4</th>\n",
              "      <td>Alex</td>\n",
              "      <td>36.0</td>\n",
              "      <td>f</td>\n",
              "      <td>3.0</td>\n",
              "      <td>70.0</td>\n",
              "    </tr>\n",
              "    <tr>\n",
              "      <th>5</th>\n",
              "      <td>Meimei</td>\n",
              "      <td>16.0</td>\n",
              "      <td>f</td>\n",
              "      <td>90.0</td>\n",
              "      <td>100.0</td>\n",
              "    </tr>\n",
              "  </tbody>\n",
              "</table>\n",
              "</div>"
            ],
            "text/plain": [
              "     name   age gender  preMLScore  postMLScore\n",
              "0   Jason  36.0      m         1.0         65.0\n",
              "1     NaN   NaN    NaN         NaN          NaN\n",
              "2    Mike  36.0      m         NaN          NaN\n",
              "3  Rayman  18.0    NaN         2.0         62.0\n",
              "4    Alex  36.0      f         3.0         70.0\n",
              "5  Meimei  16.0      f        90.0        100.0"
            ]
          },
          "metadata": {
            "tags": []
          },
          "execution_count": 66
        }
      ]
    },
    {
      "cell_type": "markdown",
      "metadata": {
        "id": "I0yYJ-nEYEJ9"
      },
      "source": [
        "##### **Detect missing values**"
      ]
    },
    {
      "cell_type": "code",
      "metadata": {
        "id": "HF5Cc9pIYM7h",
        "colab": {
          "base_uri": "https://localhost:8080/"
        },
        "outputId": "ccf030bd-2dc5-4dc7-9ec4-9b6b67c087d0"
      },
      "source": [
        "df.info() # the overview information for the dataframe"
      ],
      "execution_count": null,
      "outputs": [
        {
          "output_type": "stream",
          "text": [
            "<class 'pandas.core.frame.DataFrame'>\n",
            "RangeIndex: 6 entries, 0 to 5\n",
            "Data columns (total 5 columns):\n",
            " #   Column       Non-Null Count  Dtype  \n",
            "---  ------       --------------  -----  \n",
            " 0   name         5 non-null      object \n",
            " 1   age          5 non-null      float64\n",
            " 2   gender       4 non-null      object \n",
            " 3   preMLScore   4 non-null      float64\n",
            " 4   postMLScore  4 non-null      float64\n",
            "dtypes: float64(3), object(2)\n",
            "memory usage: 368.0+ bytes\n"
          ],
          "name": "stdout"
        }
      ]
    },
    {
      "cell_type": "code",
      "metadata": {
        "id": "gVtymK3JYVq-",
        "colab": {
          "base_uri": "https://localhost:8080/",
          "height": 294
        },
        "outputId": "e6100b63-79aa-440a-aa8a-cffd794022c7"
      },
      "source": [
        "df.describe() # basic stats"
      ],
      "execution_count": null,
      "outputs": [
        {
          "output_type": "execute_result",
          "data": {
            "text/html": [
              "<div>\n",
              "<style scoped>\n",
              "    .dataframe tbody tr th:only-of-type {\n",
              "        vertical-align: middle;\n",
              "    }\n",
              "\n",
              "    .dataframe tbody tr th {\n",
              "        vertical-align: top;\n",
              "    }\n",
              "\n",
              "    .dataframe thead th {\n",
              "        text-align: right;\n",
              "    }\n",
              "</style>\n",
              "<table border=\"1\" class=\"dataframe\">\n",
              "  <thead>\n",
              "    <tr style=\"text-align: right;\">\n",
              "      <th></th>\n",
              "      <th>age</th>\n",
              "      <th>preMLScore</th>\n",
              "      <th>postMLScore</th>\n",
              "    </tr>\n",
              "  </thead>\n",
              "  <tbody>\n",
              "    <tr>\n",
              "      <th>count</th>\n",
              "      <td>5.000000</td>\n",
              "      <td>4.000000</td>\n",
              "      <td>4.000000</td>\n",
              "    </tr>\n",
              "    <tr>\n",
              "      <th>mean</th>\n",
              "      <td>28.400000</td>\n",
              "      <td>24.000000</td>\n",
              "      <td>74.250000</td>\n",
              "    </tr>\n",
              "    <tr>\n",
              "      <th>std</th>\n",
              "      <td>10.430724</td>\n",
              "      <td>44.007575</td>\n",
              "      <td>17.480942</td>\n",
              "    </tr>\n",
              "    <tr>\n",
              "      <th>min</th>\n",
              "      <td>16.000000</td>\n",
              "      <td>1.000000</td>\n",
              "      <td>62.000000</td>\n",
              "    </tr>\n",
              "    <tr>\n",
              "      <th>25%</th>\n",
              "      <td>18.000000</td>\n",
              "      <td>1.750000</td>\n",
              "      <td>64.250000</td>\n",
              "    </tr>\n",
              "    <tr>\n",
              "      <th>50%</th>\n",
              "      <td>36.000000</td>\n",
              "      <td>2.500000</td>\n",
              "      <td>67.500000</td>\n",
              "    </tr>\n",
              "    <tr>\n",
              "      <th>75%</th>\n",
              "      <td>36.000000</td>\n",
              "      <td>24.750000</td>\n",
              "      <td>77.500000</td>\n",
              "    </tr>\n",
              "    <tr>\n",
              "      <th>max</th>\n",
              "      <td>36.000000</td>\n",
              "      <td>90.000000</td>\n",
              "      <td>100.000000</td>\n",
              "    </tr>\n",
              "  </tbody>\n",
              "</table>\n",
              "</div>"
            ],
            "text/plain": [
              "             age  preMLScore  postMLScore\n",
              "count   5.000000    4.000000     4.000000\n",
              "mean   28.400000   24.000000    74.250000\n",
              "std    10.430724   44.007575    17.480942\n",
              "min    16.000000    1.000000    62.000000\n",
              "25%    18.000000    1.750000    64.250000\n",
              "50%    36.000000    2.500000    67.500000\n",
              "75%    36.000000   24.750000    77.500000\n",
              "max    36.000000   90.000000   100.000000"
            ]
          },
          "metadata": {
            "tags": []
          },
          "execution_count": 47
        }
      ]
    },
    {
      "cell_type": "code",
      "metadata": {
        "id": "6JAEfE8B8iZt",
        "colab": {
          "base_uri": "https://localhost:8080/",
          "height": 233
        },
        "outputId": "d284deb0-4c8b-41bd-8b96-b05b8a866823"
      },
      "source": [
        "df.isnull()"
      ],
      "execution_count": null,
      "outputs": [
        {
          "output_type": "execute_result",
          "data": {
            "text/html": [
              "<div>\n",
              "<style scoped>\n",
              "    .dataframe tbody tr th:only-of-type {\n",
              "        vertical-align: middle;\n",
              "    }\n",
              "\n",
              "    .dataframe tbody tr th {\n",
              "        vertical-align: top;\n",
              "    }\n",
              "\n",
              "    .dataframe thead th {\n",
              "        text-align: right;\n",
              "    }\n",
              "</style>\n",
              "<table border=\"1\" class=\"dataframe\">\n",
              "  <thead>\n",
              "    <tr style=\"text-align: right;\">\n",
              "      <th></th>\n",
              "      <th>name</th>\n",
              "      <th>age</th>\n",
              "      <th>gender</th>\n",
              "      <th>preMLScore</th>\n",
              "      <th>postMLScore</th>\n",
              "    </tr>\n",
              "  </thead>\n",
              "  <tbody>\n",
              "    <tr>\n",
              "      <th>0</th>\n",
              "      <td>False</td>\n",
              "      <td>False</td>\n",
              "      <td>False</td>\n",
              "      <td>False</td>\n",
              "      <td>False</td>\n",
              "    </tr>\n",
              "    <tr>\n",
              "      <th>1</th>\n",
              "      <td>True</td>\n",
              "      <td>True</td>\n",
              "      <td>True</td>\n",
              "      <td>True</td>\n",
              "      <td>True</td>\n",
              "    </tr>\n",
              "    <tr>\n",
              "      <th>2</th>\n",
              "      <td>False</td>\n",
              "      <td>False</td>\n",
              "      <td>False</td>\n",
              "      <td>True</td>\n",
              "      <td>True</td>\n",
              "    </tr>\n",
              "    <tr>\n",
              "      <th>3</th>\n",
              "      <td>False</td>\n",
              "      <td>False</td>\n",
              "      <td>True</td>\n",
              "      <td>False</td>\n",
              "      <td>False</td>\n",
              "    </tr>\n",
              "    <tr>\n",
              "      <th>4</th>\n",
              "      <td>False</td>\n",
              "      <td>False</td>\n",
              "      <td>False</td>\n",
              "      <td>False</td>\n",
              "      <td>False</td>\n",
              "    </tr>\n",
              "    <tr>\n",
              "      <th>5</th>\n",
              "      <td>False</td>\n",
              "      <td>False</td>\n",
              "      <td>False</td>\n",
              "      <td>False</td>\n",
              "      <td>False</td>\n",
              "    </tr>\n",
              "  </tbody>\n",
              "</table>\n",
              "</div>"
            ],
            "text/plain": [
              "    name    age  gender  preMLScore  postMLScore\n",
              "0  False  False   False       False        False\n",
              "1   True   True    True        True         True\n",
              "2  False  False   False        True         True\n",
              "3  False  False    True       False        False\n",
              "4  False  False   False       False        False\n",
              "5  False  False   False       False        False"
            ]
          },
          "metadata": {
            "tags": []
          },
          "execution_count": 48
        }
      ]
    },
    {
      "cell_type": "code",
      "metadata": {
        "id": "nSZZgSoPYHeU",
        "colab": {
          "base_uri": "https://localhost:8080/"
        },
        "outputId": "7a789fec-98d8-4e74-cb53-ab6862825045"
      },
      "source": [
        "df.isnull().sum() # the number of rows with NaN for each column"
      ],
      "execution_count": null,
      "outputs": [
        {
          "output_type": "execute_result",
          "data": {
            "text/plain": [
              "name           1\n",
              "age            1\n",
              "gender         2\n",
              "preMLScore     2\n",
              "postMLScore    2\n",
              "dtype: int64"
            ]
          },
          "metadata": {
            "tags": []
          },
          "execution_count": 49
        }
      ]
    },
    {
      "cell_type": "code",
      "metadata": {
        "id": "mG4c3z0yxO6a",
        "colab": {
          "base_uri": "https://localhost:8080/"
        },
        "outputId": "da8107e4-5f48-44a3-a06a-cffdcc09c460"
      },
      "source": [
        "df.notnull().sum() # the number of rows without NaN for each column"
      ],
      "execution_count": null,
      "outputs": [
        {
          "output_type": "execute_result",
          "data": {
            "text/plain": [
              "name           5\n",
              "age            5\n",
              "gender         4\n",
              "preMLScore     4\n",
              "postMLScore    4\n",
              "dtype: int64"
            ]
          },
          "metadata": {
            "tags": []
          },
          "execution_count": 50
        }
      ]
    },
    {
      "cell_type": "code",
      "metadata": {
        "id": "0k65EHvyStcG",
        "colab": {
          "base_uri": "https://localhost:8080/",
          "height": 233
        },
        "outputId": "f20f0ed0-e9aa-4054-8a2b-5dd9cf78642b"
      },
      "source": [
        "df.isnull()"
      ],
      "execution_count": null,
      "outputs": [
        {
          "output_type": "execute_result",
          "data": {
            "text/html": [
              "<div>\n",
              "<style scoped>\n",
              "    .dataframe tbody tr th:only-of-type {\n",
              "        vertical-align: middle;\n",
              "    }\n",
              "\n",
              "    .dataframe tbody tr th {\n",
              "        vertical-align: top;\n",
              "    }\n",
              "\n",
              "    .dataframe thead th {\n",
              "        text-align: right;\n",
              "    }\n",
              "</style>\n",
              "<table border=\"1\" class=\"dataframe\">\n",
              "  <thead>\n",
              "    <tr style=\"text-align: right;\">\n",
              "      <th></th>\n",
              "      <th>name</th>\n",
              "      <th>age</th>\n",
              "      <th>gender</th>\n",
              "      <th>preMLScore</th>\n",
              "      <th>postMLScore</th>\n",
              "    </tr>\n",
              "  </thead>\n",
              "  <tbody>\n",
              "    <tr>\n",
              "      <th>0</th>\n",
              "      <td>False</td>\n",
              "      <td>False</td>\n",
              "      <td>False</td>\n",
              "      <td>False</td>\n",
              "      <td>False</td>\n",
              "    </tr>\n",
              "    <tr>\n",
              "      <th>1</th>\n",
              "      <td>True</td>\n",
              "      <td>True</td>\n",
              "      <td>True</td>\n",
              "      <td>True</td>\n",
              "      <td>True</td>\n",
              "    </tr>\n",
              "    <tr>\n",
              "      <th>2</th>\n",
              "      <td>False</td>\n",
              "      <td>False</td>\n",
              "      <td>False</td>\n",
              "      <td>True</td>\n",
              "      <td>True</td>\n",
              "    </tr>\n",
              "    <tr>\n",
              "      <th>3</th>\n",
              "      <td>False</td>\n",
              "      <td>False</td>\n",
              "      <td>True</td>\n",
              "      <td>False</td>\n",
              "      <td>False</td>\n",
              "    </tr>\n",
              "    <tr>\n",
              "      <th>4</th>\n",
              "      <td>False</td>\n",
              "      <td>False</td>\n",
              "      <td>False</td>\n",
              "      <td>False</td>\n",
              "      <td>False</td>\n",
              "    </tr>\n",
              "    <tr>\n",
              "      <th>5</th>\n",
              "      <td>False</td>\n",
              "      <td>False</td>\n",
              "      <td>False</td>\n",
              "      <td>False</td>\n",
              "      <td>False</td>\n",
              "    </tr>\n",
              "  </tbody>\n",
              "</table>\n",
              "</div>"
            ],
            "text/plain": [
              "    name    age  gender  preMLScore  postMLScore\n",
              "0  False  False   False       False        False\n",
              "1   True   True    True        True         True\n",
              "2  False  False   False        True         True\n",
              "3  False  False    True       False        False\n",
              "4  False  False   False       False        False\n",
              "5  False  False   False       False        False"
            ]
          },
          "metadata": {
            "tags": []
          },
          "execution_count": 67
        }
      ]
    },
    {
      "cell_type": "code",
      "metadata": {
        "id": "c3eHaPvpxhWN",
        "colab": {
          "base_uri": "https://localhost:8080/"
        },
        "outputId": "4216242c-f8e8-4988-984e-09adc3691f50"
      },
      "source": [
        "df.isnull().all(axis=1) # check if there is NaN row"
      ],
      "execution_count": null,
      "outputs": [
        {
          "output_type": "execute_result",
          "data": {
            "text/plain": [
              "0    False\n",
              "1     True\n",
              "2    False\n",
              "3    False\n",
              "4    False\n",
              "5    False\n",
              "dtype: bool"
            ]
          },
          "metadata": {
            "tags": []
          },
          "execution_count": 51
        }
      ]
    },
    {
      "cell_type": "code",
      "metadata": {
        "id": "klq2EpFAxtbq",
        "colab": {
          "base_uri": "https://localhost:8080/"
        },
        "outputId": "04c66ef4-fc3b-47c9-de7e-ca72a88fd155"
      },
      "source": [
        "df.isnull().any(axis=0) # check if there is a NaN in a column"
      ],
      "execution_count": null,
      "outputs": [
        {
          "output_type": "execute_result",
          "data": {
            "text/plain": [
              "name           True\n",
              "age            True\n",
              "gender         True\n",
              "preMLScore     True\n",
              "postMLScore    True\n",
              "dtype: bool"
            ]
          },
          "metadata": {
            "tags": []
          },
          "execution_count": 52
        }
      ]
    },
    {
      "cell_type": "markdown",
      "metadata": {
        "id": "50ulS4QNzXtb"
      },
      "source": [
        "##### **Handle Missing Values**"
      ]
    },
    {
      "cell_type": "markdown",
      "metadata": {
        "id": "HqpgfkM01neH"
      },
      "source": [
        "**Elimination**"
      ]
    },
    {
      "cell_type": "code",
      "metadata": {
        "id": "DEe_KcIjzaEE",
        "colab": {
          "base_uri": "https://localhost:8080/",
          "height": 141
        },
        "outputId": "07fa326d-a12b-4c19-df1d-8d996aa53596"
      },
      "source": [
        "df.dropna(axis=0) # drop the rows with any NaN, equal to df.dropna(axis=0, how='any')"
      ],
      "execution_count": null,
      "outputs": [
        {
          "output_type": "execute_result",
          "data": {
            "text/html": [
              "<div>\n",
              "<style scoped>\n",
              "    .dataframe tbody tr th:only-of-type {\n",
              "        vertical-align: middle;\n",
              "    }\n",
              "\n",
              "    .dataframe tbody tr th {\n",
              "        vertical-align: top;\n",
              "    }\n",
              "\n",
              "    .dataframe thead th {\n",
              "        text-align: right;\n",
              "    }\n",
              "</style>\n",
              "<table border=\"1\" class=\"dataframe\">\n",
              "  <thead>\n",
              "    <tr style=\"text-align: right;\">\n",
              "      <th></th>\n",
              "      <th>name</th>\n",
              "      <th>age</th>\n",
              "      <th>gender</th>\n",
              "      <th>preMLScore</th>\n",
              "      <th>postMLScore</th>\n",
              "    </tr>\n",
              "  </thead>\n",
              "  <tbody>\n",
              "    <tr>\n",
              "      <th>0</th>\n",
              "      <td>Jason</td>\n",
              "      <td>36.0</td>\n",
              "      <td>m</td>\n",
              "      <td>1.0</td>\n",
              "      <td>65.0</td>\n",
              "    </tr>\n",
              "    <tr>\n",
              "      <th>4</th>\n",
              "      <td>Alex</td>\n",
              "      <td>36.0</td>\n",
              "      <td>f</td>\n",
              "      <td>3.0</td>\n",
              "      <td>70.0</td>\n",
              "    </tr>\n",
              "    <tr>\n",
              "      <th>5</th>\n",
              "      <td>Meimei</td>\n",
              "      <td>16.0</td>\n",
              "      <td>f</td>\n",
              "      <td>90.0</td>\n",
              "      <td>100.0</td>\n",
              "    </tr>\n",
              "  </tbody>\n",
              "</table>\n",
              "</div>"
            ],
            "text/plain": [
              "     name   age gender  preMLScore  postMLScore\n",
              "0   Jason  36.0      m         1.0         65.0\n",
              "4    Alex  36.0      f         3.0         70.0\n",
              "5  Meimei  16.0      f        90.0        100.0"
            ]
          },
          "metadata": {
            "tags": []
          },
          "execution_count": 55
        }
      ]
    },
    {
      "cell_type": "code",
      "metadata": {
        "id": "Wo83IB5d0Bet",
        "colab": {
          "base_uri": "https://localhost:8080/",
          "height": 202
        },
        "outputId": "9716ef66-3a26-4c26-e4bb-cbc7490dfecd"
      },
      "source": [
        "df.dropna(how='all', inplace=True) # drop the rows that every column is NaN\n",
        "df = df.reset_index(drop=True)\n",
        "df"
      ],
      "execution_count": null,
      "outputs": [
        {
          "output_type": "execute_result",
          "data": {
            "text/html": [
              "<div>\n",
              "<style scoped>\n",
              "    .dataframe tbody tr th:only-of-type {\n",
              "        vertical-align: middle;\n",
              "    }\n",
              "\n",
              "    .dataframe tbody tr th {\n",
              "        vertical-align: top;\n",
              "    }\n",
              "\n",
              "    .dataframe thead th {\n",
              "        text-align: right;\n",
              "    }\n",
              "</style>\n",
              "<table border=\"1\" class=\"dataframe\">\n",
              "  <thead>\n",
              "    <tr style=\"text-align: right;\">\n",
              "      <th></th>\n",
              "      <th>name</th>\n",
              "      <th>age</th>\n",
              "      <th>gender</th>\n",
              "      <th>preMLScore</th>\n",
              "      <th>postMLScore</th>\n",
              "    </tr>\n",
              "  </thead>\n",
              "  <tbody>\n",
              "    <tr>\n",
              "      <th>0</th>\n",
              "      <td>Jason</td>\n",
              "      <td>36.0</td>\n",
              "      <td>m</td>\n",
              "      <td>1.0</td>\n",
              "      <td>65.0</td>\n",
              "    </tr>\n",
              "    <tr>\n",
              "      <th>1</th>\n",
              "      <td>Mike</td>\n",
              "      <td>36.0</td>\n",
              "      <td>m</td>\n",
              "      <td>NaN</td>\n",
              "      <td>NaN</td>\n",
              "    </tr>\n",
              "    <tr>\n",
              "      <th>2</th>\n",
              "      <td>Rayman</td>\n",
              "      <td>18.0</td>\n",
              "      <td>NaN</td>\n",
              "      <td>2.0</td>\n",
              "      <td>62.0</td>\n",
              "    </tr>\n",
              "    <tr>\n",
              "      <th>3</th>\n",
              "      <td>Alex</td>\n",
              "      <td>36.0</td>\n",
              "      <td>f</td>\n",
              "      <td>3.0</td>\n",
              "      <td>70.0</td>\n",
              "    </tr>\n",
              "    <tr>\n",
              "      <th>4</th>\n",
              "      <td>Meimei</td>\n",
              "      <td>16.0</td>\n",
              "      <td>f</td>\n",
              "      <td>90.0</td>\n",
              "      <td>100.0</td>\n",
              "    </tr>\n",
              "  </tbody>\n",
              "</table>\n",
              "</div>"
            ],
            "text/plain": [
              "     name   age gender  preMLScore  postMLScore\n",
              "0   Jason  36.0      m         1.0         65.0\n",
              "1    Mike  36.0      m         NaN          NaN\n",
              "2  Rayman  18.0    NaN         2.0         62.0\n",
              "3    Alex  36.0      f         3.0         70.0\n",
              "4  Meimei  16.0      f        90.0        100.0"
            ]
          },
          "metadata": {
            "tags": []
          },
          "execution_count": 56
        }
      ]
    },
    {
      "cell_type": "code",
      "metadata": {
        "id": "K9Zt5iZC0fnJ",
        "colab": {
          "base_uri": "https://localhost:8080/",
          "height": 202
        },
        "outputId": "cda5d06e-0b83-4065-f23b-c9bade3fe012"
      },
      "source": [
        "df['playgames'] = np.nan # add an address column that all the values are NaN\n",
        "df"
      ],
      "execution_count": null,
      "outputs": [
        {
          "output_type": "execute_result",
          "data": {
            "text/html": [
              "<div>\n",
              "<style scoped>\n",
              "    .dataframe tbody tr th:only-of-type {\n",
              "        vertical-align: middle;\n",
              "    }\n",
              "\n",
              "    .dataframe tbody tr th {\n",
              "        vertical-align: top;\n",
              "    }\n",
              "\n",
              "    .dataframe thead th {\n",
              "        text-align: right;\n",
              "    }\n",
              "</style>\n",
              "<table border=\"1\" class=\"dataframe\">\n",
              "  <thead>\n",
              "    <tr style=\"text-align: right;\">\n",
              "      <th></th>\n",
              "      <th>name</th>\n",
              "      <th>age</th>\n",
              "      <th>gender</th>\n",
              "      <th>preMLScore</th>\n",
              "      <th>postMLScore</th>\n",
              "      <th>playgames</th>\n",
              "    </tr>\n",
              "  </thead>\n",
              "  <tbody>\n",
              "    <tr>\n",
              "      <th>0</th>\n",
              "      <td>Jason</td>\n",
              "      <td>36.0</td>\n",
              "      <td>m</td>\n",
              "      <td>1.0</td>\n",
              "      <td>65.0</td>\n",
              "      <td>NaN</td>\n",
              "    </tr>\n",
              "    <tr>\n",
              "      <th>1</th>\n",
              "      <td>Mike</td>\n",
              "      <td>36.0</td>\n",
              "      <td>m</td>\n",
              "      <td>NaN</td>\n",
              "      <td>NaN</td>\n",
              "      <td>NaN</td>\n",
              "    </tr>\n",
              "    <tr>\n",
              "      <th>2</th>\n",
              "      <td>Rayman</td>\n",
              "      <td>18.0</td>\n",
              "      <td>NaN</td>\n",
              "      <td>2.0</td>\n",
              "      <td>62.0</td>\n",
              "      <td>NaN</td>\n",
              "    </tr>\n",
              "    <tr>\n",
              "      <th>3</th>\n",
              "      <td>Alex</td>\n",
              "      <td>36.0</td>\n",
              "      <td>f</td>\n",
              "      <td>3.0</td>\n",
              "      <td>70.0</td>\n",
              "      <td>NaN</td>\n",
              "    </tr>\n",
              "    <tr>\n",
              "      <th>4</th>\n",
              "      <td>Meimei</td>\n",
              "      <td>16.0</td>\n",
              "      <td>f</td>\n",
              "      <td>90.0</td>\n",
              "      <td>100.0</td>\n",
              "      <td>NaN</td>\n",
              "    </tr>\n",
              "  </tbody>\n",
              "</table>\n",
              "</div>"
            ],
            "text/plain": [
              "     name   age gender  preMLScore  postMLScore  playgames\n",
              "0   Jason  36.0      m         1.0         65.0        NaN\n",
              "1    Mike  36.0      m         NaN          NaN        NaN\n",
              "2  Rayman  18.0    NaN         2.0         62.0        NaN\n",
              "3    Alex  36.0      f         3.0         70.0        NaN\n",
              "4  Meimei  16.0      f        90.0        100.0        NaN"
            ]
          },
          "metadata": {
            "tags": []
          },
          "execution_count": 57
        }
      ]
    },
    {
      "cell_type": "code",
      "metadata": {
        "id": "tuQkcpz10vkd",
        "colab": {
          "base_uri": "https://localhost:8080/",
          "height": 202
        },
        "outputId": "5404ae65-634c-4364-fcc1-8f758bea90e4"
      },
      "source": [
        "df.dropna(axis=1, how='all') # drop the column that all values are NaN"
      ],
      "execution_count": null,
      "outputs": [
        {
          "output_type": "execute_result",
          "data": {
            "text/html": [
              "<div>\n",
              "<style scoped>\n",
              "    .dataframe tbody tr th:only-of-type {\n",
              "        vertical-align: middle;\n",
              "    }\n",
              "\n",
              "    .dataframe tbody tr th {\n",
              "        vertical-align: top;\n",
              "    }\n",
              "\n",
              "    .dataframe thead th {\n",
              "        text-align: right;\n",
              "    }\n",
              "</style>\n",
              "<table border=\"1\" class=\"dataframe\">\n",
              "  <thead>\n",
              "    <tr style=\"text-align: right;\">\n",
              "      <th></th>\n",
              "      <th>name</th>\n",
              "      <th>age</th>\n",
              "      <th>gender</th>\n",
              "      <th>preMLScore</th>\n",
              "      <th>postMLScore</th>\n",
              "    </tr>\n",
              "  </thead>\n",
              "  <tbody>\n",
              "    <tr>\n",
              "      <th>0</th>\n",
              "      <td>Jason</td>\n",
              "      <td>36.0</td>\n",
              "      <td>m</td>\n",
              "      <td>1.0</td>\n",
              "      <td>65.0</td>\n",
              "    </tr>\n",
              "    <tr>\n",
              "      <th>1</th>\n",
              "      <td>Mike</td>\n",
              "      <td>36.0</td>\n",
              "      <td>m</td>\n",
              "      <td>NaN</td>\n",
              "      <td>NaN</td>\n",
              "    </tr>\n",
              "    <tr>\n",
              "      <th>2</th>\n",
              "      <td>Rayman</td>\n",
              "      <td>18.0</td>\n",
              "      <td>NaN</td>\n",
              "      <td>2.0</td>\n",
              "      <td>62.0</td>\n",
              "    </tr>\n",
              "    <tr>\n",
              "      <th>3</th>\n",
              "      <td>Alex</td>\n",
              "      <td>36.0</td>\n",
              "      <td>f</td>\n",
              "      <td>3.0</td>\n",
              "      <td>70.0</td>\n",
              "    </tr>\n",
              "    <tr>\n",
              "      <th>4</th>\n",
              "      <td>Meimei</td>\n",
              "      <td>16.0</td>\n",
              "      <td>f</td>\n",
              "      <td>90.0</td>\n",
              "      <td>100.0</td>\n",
              "    </tr>\n",
              "  </tbody>\n",
              "</table>\n",
              "</div>"
            ],
            "text/plain": [
              "     name   age gender  preMLScore  postMLScore\n",
              "0   Jason  36.0      m         1.0         65.0\n",
              "1    Mike  36.0      m         NaN          NaN\n",
              "2  Rayman  18.0    NaN         2.0         62.0\n",
              "3    Alex  36.0      f         3.0         70.0\n",
              "4  Meimei  16.0      f        90.0        100.0"
            ]
          },
          "metadata": {
            "tags": []
          },
          "execution_count": 58
        }
      ]
    },
    {
      "cell_type": "code",
      "metadata": {
        "id": "kXchJjD-1K6j",
        "colab": {
          "base_uri": "https://localhost:8080/",
          "height": 141
        },
        "outputId": "a4769db9-e85b-417c-afc6-55b89d952340"
      },
      "source": [
        "df.dropna(thresh=5) # drop the rows without at least five actual value columns"
      ],
      "execution_count": null,
      "outputs": [
        {
          "output_type": "execute_result",
          "data": {
            "text/html": [
              "<div>\n",
              "<style scoped>\n",
              "    .dataframe tbody tr th:only-of-type {\n",
              "        vertical-align: middle;\n",
              "    }\n",
              "\n",
              "    .dataframe tbody tr th {\n",
              "        vertical-align: top;\n",
              "    }\n",
              "\n",
              "    .dataframe thead th {\n",
              "        text-align: right;\n",
              "    }\n",
              "</style>\n",
              "<table border=\"1\" class=\"dataframe\">\n",
              "  <thead>\n",
              "    <tr style=\"text-align: right;\">\n",
              "      <th></th>\n",
              "      <th>name</th>\n",
              "      <th>age</th>\n",
              "      <th>gender</th>\n",
              "      <th>preMLScore</th>\n",
              "      <th>postMLScore</th>\n",
              "      <th>playgames</th>\n",
              "    </tr>\n",
              "  </thead>\n",
              "  <tbody>\n",
              "    <tr>\n",
              "      <th>0</th>\n",
              "      <td>Jason</td>\n",
              "      <td>36.0</td>\n",
              "      <td>m</td>\n",
              "      <td>1.0</td>\n",
              "      <td>65.0</td>\n",
              "      <td>NaN</td>\n",
              "    </tr>\n",
              "    <tr>\n",
              "      <th>3</th>\n",
              "      <td>Alex</td>\n",
              "      <td>36.0</td>\n",
              "      <td>f</td>\n",
              "      <td>3.0</td>\n",
              "      <td>70.0</td>\n",
              "      <td>NaN</td>\n",
              "    </tr>\n",
              "    <tr>\n",
              "      <th>4</th>\n",
              "      <td>Meimei</td>\n",
              "      <td>16.0</td>\n",
              "      <td>f</td>\n",
              "      <td>90.0</td>\n",
              "      <td>100.0</td>\n",
              "      <td>NaN</td>\n",
              "    </tr>\n",
              "  </tbody>\n",
              "</table>\n",
              "</div>"
            ],
            "text/plain": [
              "     name   age gender  preMLScore  postMLScore  playgames\n",
              "0   Jason  36.0      m         1.0         65.0        NaN\n",
              "3    Alex  36.0      f         3.0         70.0        NaN\n",
              "4  Meimei  16.0      f        90.0        100.0        NaN"
            ]
          },
          "metadata": {
            "tags": []
          },
          "execution_count": 59
        }
      ]
    },
    {
      "cell_type": "markdown",
      "metadata": {
        "id": "TPbQfV4F1rPN"
      },
      "source": [
        "**Imputation**"
      ]
    },
    {
      "cell_type": "code",
      "metadata": {
        "id": "hZb8ghjw1uUW",
        "colab": {
          "base_uri": "https://localhost:8080/",
          "height": 202
        },
        "outputId": "67f2d363-b951-4d93-837d-36e478e21617"
      },
      "source": [
        "df.fillna(0) # fill 0 to all missing values"
      ],
      "execution_count": null,
      "outputs": [
        {
          "output_type": "execute_result",
          "data": {
            "text/html": [
              "<div>\n",
              "<style scoped>\n",
              "    .dataframe tbody tr th:only-of-type {\n",
              "        vertical-align: middle;\n",
              "    }\n",
              "\n",
              "    .dataframe tbody tr th {\n",
              "        vertical-align: top;\n",
              "    }\n",
              "\n",
              "    .dataframe thead th {\n",
              "        text-align: right;\n",
              "    }\n",
              "</style>\n",
              "<table border=\"1\" class=\"dataframe\">\n",
              "  <thead>\n",
              "    <tr style=\"text-align: right;\">\n",
              "      <th></th>\n",
              "      <th>name</th>\n",
              "      <th>age</th>\n",
              "      <th>gender</th>\n",
              "      <th>preMLScore</th>\n",
              "      <th>postMLScore</th>\n",
              "      <th>playgames</th>\n",
              "    </tr>\n",
              "  </thead>\n",
              "  <tbody>\n",
              "    <tr>\n",
              "      <th>0</th>\n",
              "      <td>Jason</td>\n",
              "      <td>36.0</td>\n",
              "      <td>m</td>\n",
              "      <td>1.0</td>\n",
              "      <td>65.0</td>\n",
              "      <td>0.0</td>\n",
              "    </tr>\n",
              "    <tr>\n",
              "      <th>1</th>\n",
              "      <td>Mike</td>\n",
              "      <td>36.0</td>\n",
              "      <td>m</td>\n",
              "      <td>0.0</td>\n",
              "      <td>0.0</td>\n",
              "      <td>0.0</td>\n",
              "    </tr>\n",
              "    <tr>\n",
              "      <th>2</th>\n",
              "      <td>Rayman</td>\n",
              "      <td>18.0</td>\n",
              "      <td>0</td>\n",
              "      <td>2.0</td>\n",
              "      <td>62.0</td>\n",
              "      <td>0.0</td>\n",
              "    </tr>\n",
              "    <tr>\n",
              "      <th>3</th>\n",
              "      <td>Alex</td>\n",
              "      <td>36.0</td>\n",
              "      <td>f</td>\n",
              "      <td>3.0</td>\n",
              "      <td>70.0</td>\n",
              "      <td>0.0</td>\n",
              "    </tr>\n",
              "    <tr>\n",
              "      <th>4</th>\n",
              "      <td>Meimei</td>\n",
              "      <td>16.0</td>\n",
              "      <td>f</td>\n",
              "      <td>90.0</td>\n",
              "      <td>100.0</td>\n",
              "      <td>0.0</td>\n",
              "    </tr>\n",
              "  </tbody>\n",
              "</table>\n",
              "</div>"
            ],
            "text/plain": [
              "     name   age gender  preMLScore  postMLScore  playgames\n",
              "0   Jason  36.0      m         1.0         65.0        0.0\n",
              "1    Mike  36.0      m         0.0          0.0        0.0\n",
              "2  Rayman  18.0      0         2.0         62.0        0.0\n",
              "3    Alex  36.0      f         3.0         70.0        0.0\n",
              "4  Meimei  16.0      f        90.0        100.0        0.0"
            ]
          },
          "metadata": {
            "tags": []
          },
          "execution_count": 60
        }
      ]
    },
    {
      "cell_type": "code",
      "metadata": {
        "id": "F4vOA_9F3Aq3",
        "colab": {
          "base_uri": "https://localhost:8080/"
        },
        "outputId": "47ae42f2-6b49-4abf-b215-3ae88e857044"
      },
      "source": [
        "df.gender.fillna(method='ffill') # carry the forward value to the missing value"
      ],
      "execution_count": null,
      "outputs": [
        {
          "output_type": "execute_result",
          "data": {
            "text/plain": [
              "0    m\n",
              "1    m\n",
              "2    m\n",
              "3    f\n",
              "4    f\n",
              "Name: gender, dtype: object"
            ]
          },
          "metadata": {
            "tags": []
          },
          "execution_count": 61
        }
      ]
    },
    {
      "cell_type": "code",
      "metadata": {
        "id": "40E5q37i3yvy",
        "colab": {
          "base_uri": "https://localhost:8080/"
        },
        "outputId": "6f3e2c1a-0c6d-4284-f3b3-d05149c3b6c6"
      },
      "source": [
        "df.gender.fillna(method='bfill') # carry the backward value to the missing value"
      ],
      "execution_count": null,
      "outputs": [
        {
          "output_type": "execute_result",
          "data": {
            "text/plain": [
              "0    m\n",
              "1    m\n",
              "2    f\n",
              "3    f\n",
              "4    f\n",
              "Name: gender, dtype: object"
            ]
          },
          "metadata": {
            "tags": []
          },
          "execution_count": 62
        }
      ]
    },
    {
      "cell_type": "code",
      "metadata": {
        "id": "NF6LHkE714OL",
        "colab": {
          "base_uri": "https://localhost:8080/",
          "height": 202
        },
        "outputId": "2e9c1884-628e-4095-8bc1-16b09c4c92b5"
      },
      "source": [
        "df[\"preMLScore\"].fillna(df[\"preMLScore\"].median(), inplace=True) # fill preMLScore with its median\n",
        "df"
      ],
      "execution_count": null,
      "outputs": [
        {
          "output_type": "execute_result",
          "data": {
            "text/html": [
              "<div>\n",
              "<style scoped>\n",
              "    .dataframe tbody tr th:only-of-type {\n",
              "        vertical-align: middle;\n",
              "    }\n",
              "\n",
              "    .dataframe tbody tr th {\n",
              "        vertical-align: top;\n",
              "    }\n",
              "\n",
              "    .dataframe thead th {\n",
              "        text-align: right;\n",
              "    }\n",
              "</style>\n",
              "<table border=\"1\" class=\"dataframe\">\n",
              "  <thead>\n",
              "    <tr style=\"text-align: right;\">\n",
              "      <th></th>\n",
              "      <th>name</th>\n",
              "      <th>age</th>\n",
              "      <th>gender</th>\n",
              "      <th>preMLScore</th>\n",
              "      <th>postMLScore</th>\n",
              "      <th>playgames</th>\n",
              "    </tr>\n",
              "  </thead>\n",
              "  <tbody>\n",
              "    <tr>\n",
              "      <th>0</th>\n",
              "      <td>Jason</td>\n",
              "      <td>36.0</td>\n",
              "      <td>m</td>\n",
              "      <td>1.0</td>\n",
              "      <td>65.0</td>\n",
              "      <td>NaN</td>\n",
              "    </tr>\n",
              "    <tr>\n",
              "      <th>1</th>\n",
              "      <td>Mike</td>\n",
              "      <td>36.0</td>\n",
              "      <td>m</td>\n",
              "      <td>2.5</td>\n",
              "      <td>NaN</td>\n",
              "      <td>NaN</td>\n",
              "    </tr>\n",
              "    <tr>\n",
              "      <th>2</th>\n",
              "      <td>Rayman</td>\n",
              "      <td>18.0</td>\n",
              "      <td>NaN</td>\n",
              "      <td>2.0</td>\n",
              "      <td>62.0</td>\n",
              "      <td>NaN</td>\n",
              "    </tr>\n",
              "    <tr>\n",
              "      <th>3</th>\n",
              "      <td>Alex</td>\n",
              "      <td>36.0</td>\n",
              "      <td>f</td>\n",
              "      <td>3.0</td>\n",
              "      <td>70.0</td>\n",
              "      <td>NaN</td>\n",
              "    </tr>\n",
              "    <tr>\n",
              "      <th>4</th>\n",
              "      <td>Meimei</td>\n",
              "      <td>16.0</td>\n",
              "      <td>f</td>\n",
              "      <td>90.0</td>\n",
              "      <td>100.0</td>\n",
              "      <td>NaN</td>\n",
              "    </tr>\n",
              "  </tbody>\n",
              "</table>\n",
              "</div>"
            ],
            "text/plain": [
              "     name   age gender  preMLScore  postMLScore  playgames\n",
              "0   Jason  36.0      m         1.0         65.0        NaN\n",
              "1    Mike  36.0      m         2.5          NaN        NaN\n",
              "2  Rayman  18.0    NaN         2.0         62.0        NaN\n",
              "3    Alex  36.0      f         3.0         70.0        NaN\n",
              "4  Meimei  16.0      f        90.0        100.0        NaN"
            ]
          },
          "metadata": {
            "tags": []
          },
          "execution_count": 63
        }
      ]
    }
  ]
}