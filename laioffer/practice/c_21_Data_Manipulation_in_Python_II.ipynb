{
  "nbformat": 4,
  "nbformat_minor": 0,
  "metadata": {
    "colab": {
      "name": "Data Manipulation in Python II 2020秋季1班.ipynb",
      "provenance": [],
      "collapsed_sections": []
    },
    "kernelspec": {
      "name": "python3",
      "display_name": "Python 3",
      "language": "python"
    }
  },
  "cells": [
    {
      "cell_type": "markdown",
      "metadata": {
        "id": "OBEByZPKJ-fi"
      },
      "source": [
        "#Data Manipulation in Python II"
      ]
    },
    {
      "cell_type": "markdown",
      "metadata": {
        "id": "96SKJkUhpNzR"
      },
      "source": [
        "**Objectives**\n",
        "* Learn Pandas Basics"
      ]
    },
    {
      "cell_type": "markdown",
      "metadata": {
        "id": "ekD-baKJwISB"
      },
      "source": [
        "**Things need to know**\n",
        "* 对于0基础的同学，以了解为主\n",
        "* 不需要可以从0把code写出来\n",
        "* 这部分code与算法课程code的思维不一样\n",
        "* 需要下课自己去跑一下code，尽量去理解\n",
        "* 工具终归是辅助我们的，先尽力学会一个\n",
        "* 逐步掌握python code debug能力"
      ]
    },
    {
      "cell_type": "markdown",
      "metadata": {
        "id": "S7LQMWhigQVD"
      },
      "source": [
        "## Pandas\n",
        "\n",
        "**Pandas** is a Python package providing fast, flexible, and expressive data structures designed to make working with “relational” or “labeled” data both easy and intuitive. It aims to be the fundamental high-level building block for doing practical, real world data analysis in Python. Additionally, it has the broader goal of becoming **the most powerful and flexible open source data analysis / manipulation tool available in any language**. It is already well on its way toward this goal.\n",
        "\n",
        "The two primary data structures of pandas, **Series (1-dimensional)** and **DataFrame (2-dimensional)**, handle the vast majority of typical use cases in finance, statistics, social science, and many areas of engineering. pandas is built on top of **NumPy** and is intended to integrate well within a scientific computing environment with many other 3rd party libraries."
      ]
    },
    {
      "cell_type": "markdown",
      "metadata": {
        "id": "MFzq7-k8Pz_7"
      },
      "source": [
        "####**Load Data**"
      ]
    },
    {
      "cell_type": "code",
      "metadata": {
        "id": "Y6ehD29wPypS"
      },
      "source": [
        "import numpy as np\n",
        "import pandas as pd"
      ],
      "execution_count": 2,
      "outputs": []
    },
    {
      "cell_type": "code",
      "metadata": {
        "id": "17uRXLoERkSI"
      },
      "source": [
        "# read data from URL\n",
        "iris = 'https://gist.githubusercontent.com/curran/a08a1080b88344b0c8a7/raw/639388c2cbc2120a14dcf466e85730eb8be498bb/iris.csv'\n",
        "df_iris = pd.read_csv(iris, sep=',')"
      ],
      "execution_count": 3,
      "outputs": []
    },
    {
      "cell_type": "code",
      "metadata": {
        "id": "QBT5n19WSeKh"
      },
      "source": [
        "# Read data from Google Drive (recommend)\n",
        "# Get sharable link and change the permission to \"Anyone with the link can view\"\n",
        "# https://drive.google.com/file/d/1AbJ1P9aXcjut9ox5lh6oDx4uYnLY2HBQ/view?usp=sharing\n",
        "# format: /d/<id>/view\n",
        "# copy out the id: 1AbJ1P9aXcjut9ox5lh6oDx4uYnLY2HBQ\n",
        "# replace the string in file_id\n",
        "\n",
        "file_id='1AbJ1P9aXcjut9ox5lh6oDx4uYnLY2HBQ'\n",
        "link='http://drive.google.com/uc?export=download&id={FILE_ID}'\n",
        "csv_url=link.format(FILE_ID=file_id)\n",
        "\n",
        "df_uk_rain = pd.read_csv(csv_url)"
      ],
      "execution_count": 4,
      "outputs": []
    },
    {
      "cell_type": "code",
      "metadata": {
        "id": "ELBz4GbiywGq"
      },
      "source": [
        "df_uk_rain.columns = ['water_year','rain_octsep', 'outflow_octsep',\n",
        "              'rain_decfeb', 'outflow_decfeb', 'rain_junaug', 'outflow_junaug']"
      ],
      "execution_count": 5,
      "outputs": []
    },
    {
      "cell_type": "code",
      "metadata": {
        "id": "QK1Zvc7LiCJ7",
        "colab": {
          "base_uri": "https://localhost:8080/",
          "height": 202
        },
        "outputId": "0d5150d3-61ff-46f2-fb71-58be98f6ef96"
      },
      "source": [
        "df_uk_rain.head()"
      ],
      "execution_count": 6,
      "outputs": [
        {
          "output_type": "execute_result",
          "data": {
            "text/plain": [
              "   water_year  rain_octsep  outflow_octsep  rain_decfeb  outflow_decfeb  \\\n",
              "0        1980         1182            5408          292            7248   \n",
              "1        1981         1098            5112          257            7316   \n",
              "2        1982         1156            5701          330            8567   \n",
              "3        1983          993            4265          391            8905   \n",
              "4        1984         1182            5364          217            5813   \n",
              "\n",
              "   rain_junaug  outflow_junaug  \n",
              "0          174            2212  \n",
              "1          242            1936  \n",
              "2          124            1802  \n",
              "3          141            1078  \n",
              "4          343            4313  "
            ],
            "text/html": "<div>\n<style scoped>\n    .dataframe tbody tr th:only-of-type {\n        vertical-align: middle;\n    }\n\n    .dataframe tbody tr th {\n        vertical-align: top;\n    }\n\n    .dataframe thead th {\n        text-align: right;\n    }\n</style>\n<table border=\"1\" class=\"dataframe\">\n  <thead>\n    <tr style=\"text-align: right;\">\n      <th></th>\n      <th>water_year</th>\n      <th>rain_octsep</th>\n      <th>outflow_octsep</th>\n      <th>rain_decfeb</th>\n      <th>outflow_decfeb</th>\n      <th>rain_junaug</th>\n      <th>outflow_junaug</th>\n    </tr>\n  </thead>\n  <tbody>\n    <tr>\n      <th>0</th>\n      <td>1980</td>\n      <td>1182</td>\n      <td>5408</td>\n      <td>292</td>\n      <td>7248</td>\n      <td>174</td>\n      <td>2212</td>\n    </tr>\n    <tr>\n      <th>1</th>\n      <td>1981</td>\n      <td>1098</td>\n      <td>5112</td>\n      <td>257</td>\n      <td>7316</td>\n      <td>242</td>\n      <td>1936</td>\n    </tr>\n    <tr>\n      <th>2</th>\n      <td>1982</td>\n      <td>1156</td>\n      <td>5701</td>\n      <td>330</td>\n      <td>8567</td>\n      <td>124</td>\n      <td>1802</td>\n    </tr>\n    <tr>\n      <th>3</th>\n      <td>1983</td>\n      <td>993</td>\n      <td>4265</td>\n      <td>391</td>\n      <td>8905</td>\n      <td>141</td>\n      <td>1078</td>\n    </tr>\n    <tr>\n      <th>4</th>\n      <td>1984</td>\n      <td>1182</td>\n      <td>5364</td>\n      <td>217</td>\n      <td>5813</td>\n      <td>343</td>\n      <td>4313</td>\n    </tr>\n  </tbody>\n</table>\n</div>"
          },
          "metadata": {},
          "execution_count": 6
        }
      ]
    },
    {
      "cell_type": "code",
      "metadata": {
        "id": "C8KzbAt7SWMs"
      },
      "source": [
        "# Read data from Google Drive (not recommended)\n",
        "# https://colab.sandbox.google.com/notebooks/io.ipynb"
      ],
      "execution_count": 7,
      "outputs": []
    },
    {
      "cell_type": "markdown",
      "metadata": {
        "id": "zJkbEoa9Wm-S"
      },
      "source": [
        "#### **Data Structure**\n",
        "\n",
        "**Series** is a one-dimensional labeled array capable of holding any data type (integers, strings, floating point numbers, Python objects, etc.). The axis labels are collectively referred to as the index.\n",
        "\n",
        "**DataFrame** is a 2-dimensional labeled data structure with columns of potentially different types. You can think of it like a spreadsheet or SQL table, or a dict of Series objects. It is generally the most commonly used pandas object. "
      ]
    },
    {
      "cell_type": "code",
      "metadata": {
        "id": "U90sQOhyWqig",
        "colab": {
          "base_uri": "https://localhost:8080/"
        },
        "outputId": "09d2fb1d-4ce1-4d7b-df68-8756b6b7ebc8"
      },
      "source": [
        "# Series from list\n",
        "s = pd.Series([1,3,5,6,8])\n",
        "\n",
        "print(type(s))\n",
        "s"
      ],
      "execution_count": 8,
      "outputs": [
        {
          "output_type": "stream",
          "name": "stdout",
          "text": [
            "<class 'pandas.core.series.Series'>\n"
          ]
        },
        {
          "output_type": "execute_result",
          "data": {
            "text/plain": [
              "0    1\n",
              "1    3\n",
              "2    5\n",
              "3    6\n",
              "4    8\n",
              "dtype: int64"
            ]
          },
          "metadata": {},
          "execution_count": 8
        }
      ]
    },
    {
      "cell_type": "code",
      "metadata": {
        "id": "MWuNQmz8W8j4",
        "colab": {
          "base_uri": "https://localhost:8080/"
        },
        "outputId": "684959b2-6e6d-45dc-c5fc-0c7dd22acc73"
      },
      "source": [
        "# Dataframe from lists\n",
        "d = pd.DataFrame({'col1': [1,2,3,4,5,6],'col2': ['1', '2', '3', '4', '5', '6'], 'col3': ['1',2,3,4,5,6]})\n",
        "print(d)"
      ],
      "execution_count": 9,
      "outputs": [
        {
          "output_type": "stream",
          "name": "stdout",
          "text": [
            "   col1 col2 col3\n0     1    1    1\n1     2    2    2\n2     3    3    3\n3     4    4    4\n4     5    5    5\n5     6    6    6\n"
          ]
        }
      ]
    },
    {
      "cell_type": "code",
      "metadata": {
        "id": "2VQ-nQYGjHkr",
        "colab": {
          "base_uri": "https://localhost:8080/"
        },
        "outputId": "fff5a022-ae94-4197-b0b3-0730f9e795e1"
      },
      "source": [
        "d.info()"
      ],
      "execution_count": 10,
      "outputs": [
        {
          "output_type": "stream",
          "name": "stdout",
          "text": [
            "<class 'pandas.core.frame.DataFrame'>\nRangeIndex: 6 entries, 0 to 5\nData columns (total 3 columns):\n #   Column  Non-Null Count  Dtype \n---  ------  --------------  ----- \n 0   col1    6 non-null      int64 \n 1   col2    6 non-null      object\n 2   col3    6 non-null      object\ndtypes: int64(1), object(2)\nmemory usage: 272.0+ bytes\n"
          ]
        }
      ]
    },
    {
      "cell_type": "code",
      "metadata": {
        "id": "uYuAb9oQtJ3y",
        "colab": {
          "base_uri": "https://localhost:8080/"
        },
        "outputId": "bca0e897-afe7-48f6-d90c-13b1b7c70b8d"
      },
      "source": [
        "df_iris.info()"
      ],
      "execution_count": 11,
      "outputs": [
        {
          "output_type": "stream",
          "name": "stdout",
          "text": [
            "<class 'pandas.core.frame.DataFrame'>\nRangeIndex: 150 entries, 0 to 149\nData columns (total 5 columns):\n #   Column        Non-Null Count  Dtype  \n---  ------        --------------  -----  \n 0   sepal_length  150 non-null    float64\n 1   sepal_width   150 non-null    float64\n 2   petal_length  150 non-null    float64\n 3   petal_width   150 non-null    float64\n 4   species       150 non-null    object \ndtypes: float64(4), object(1)\nmemory usage: 6.0+ KB\n"
          ]
        }
      ]
    },
    {
      "cell_type": "code",
      "metadata": {
        "id": "LmpQtYSlYj17",
        "colab": {
          "base_uri": "https://localhost:8080/",
          "height": 355
        },
        "outputId": "edebb42a-4f56-4f15-9364-d4a28f98a35d"
      },
      "source": [
        "# Dataframe first 5(default) rows\n",
        "df_iris.head(10)"
      ],
      "execution_count": 12,
      "outputs": [
        {
          "output_type": "execute_result",
          "data": {
            "text/plain": [
              "   sepal_length  sepal_width  petal_length  petal_width species\n",
              "0           5.1          3.5           1.4          0.2  setosa\n",
              "1           4.9          3.0           1.4          0.2  setosa\n",
              "2           4.7          3.2           1.3          0.2  setosa\n",
              "3           4.6          3.1           1.5          0.2  setosa\n",
              "4           5.0          3.6           1.4          0.2  setosa\n",
              "5           5.4          3.9           1.7          0.4  setosa\n",
              "6           4.6          3.4           1.4          0.3  setosa\n",
              "7           5.0          3.4           1.5          0.2  setosa\n",
              "8           4.4          2.9           1.4          0.2  setosa\n",
              "9           4.9          3.1           1.5          0.1  setosa"
            ],
            "text/html": "<div>\n<style scoped>\n    .dataframe tbody tr th:only-of-type {\n        vertical-align: middle;\n    }\n\n    .dataframe tbody tr th {\n        vertical-align: top;\n    }\n\n    .dataframe thead th {\n        text-align: right;\n    }\n</style>\n<table border=\"1\" class=\"dataframe\">\n  <thead>\n    <tr style=\"text-align: right;\">\n      <th></th>\n      <th>sepal_length</th>\n      <th>sepal_width</th>\n      <th>petal_length</th>\n      <th>petal_width</th>\n      <th>species</th>\n    </tr>\n  </thead>\n  <tbody>\n    <tr>\n      <th>0</th>\n      <td>5.1</td>\n      <td>3.5</td>\n      <td>1.4</td>\n      <td>0.2</td>\n      <td>setosa</td>\n    </tr>\n    <tr>\n      <th>1</th>\n      <td>4.9</td>\n      <td>3.0</td>\n      <td>1.4</td>\n      <td>0.2</td>\n      <td>setosa</td>\n    </tr>\n    <tr>\n      <th>2</th>\n      <td>4.7</td>\n      <td>3.2</td>\n      <td>1.3</td>\n      <td>0.2</td>\n      <td>setosa</td>\n    </tr>\n    <tr>\n      <th>3</th>\n      <td>4.6</td>\n      <td>3.1</td>\n      <td>1.5</td>\n      <td>0.2</td>\n      <td>setosa</td>\n    </tr>\n    <tr>\n      <th>4</th>\n      <td>5.0</td>\n      <td>3.6</td>\n      <td>1.4</td>\n      <td>0.2</td>\n      <td>setosa</td>\n    </tr>\n    <tr>\n      <th>5</th>\n      <td>5.4</td>\n      <td>3.9</td>\n      <td>1.7</td>\n      <td>0.4</td>\n      <td>setosa</td>\n    </tr>\n    <tr>\n      <th>6</th>\n      <td>4.6</td>\n      <td>3.4</td>\n      <td>1.4</td>\n      <td>0.3</td>\n      <td>setosa</td>\n    </tr>\n    <tr>\n      <th>7</th>\n      <td>5.0</td>\n      <td>3.4</td>\n      <td>1.5</td>\n      <td>0.2</td>\n      <td>setosa</td>\n    </tr>\n    <tr>\n      <th>8</th>\n      <td>4.4</td>\n      <td>2.9</td>\n      <td>1.4</td>\n      <td>0.2</td>\n      <td>setosa</td>\n    </tr>\n    <tr>\n      <th>9</th>\n      <td>4.9</td>\n      <td>3.1</td>\n      <td>1.5</td>\n      <td>0.1</td>\n      <td>setosa</td>\n    </tr>\n  </tbody>\n</table>\n</div>"
          },
          "metadata": {},
          "execution_count": 12
        }
      ]
    },
    {
      "cell_type": "code",
      "metadata": {
        "id": "4YWDLSubH5e2",
        "colab": {
          "base_uri": "https://localhost:8080/",
          "height": 110
        },
        "outputId": "aeca4973-bc8d-4eea-d708-b889e9a2a63d"
      },
      "source": [
        "df_iris.tail(2)"
      ],
      "execution_count": 13,
      "outputs": [
        {
          "output_type": "execute_result",
          "data": {
            "text/plain": [
              "     sepal_length  sepal_width  petal_length  petal_width    species\n",
              "148           6.2          3.4           5.4          2.3  virginica\n",
              "149           5.9          3.0           5.1          1.8  virginica"
            ],
            "text/html": "<div>\n<style scoped>\n    .dataframe tbody tr th:only-of-type {\n        vertical-align: middle;\n    }\n\n    .dataframe tbody tr th {\n        vertical-align: top;\n    }\n\n    .dataframe thead th {\n        text-align: right;\n    }\n</style>\n<table border=\"1\" class=\"dataframe\">\n  <thead>\n    <tr style=\"text-align: right;\">\n      <th></th>\n      <th>sepal_length</th>\n      <th>sepal_width</th>\n      <th>petal_length</th>\n      <th>petal_width</th>\n      <th>species</th>\n    </tr>\n  </thead>\n  <tbody>\n    <tr>\n      <th>148</th>\n      <td>6.2</td>\n      <td>3.4</td>\n      <td>5.4</td>\n      <td>2.3</td>\n      <td>virginica</td>\n    </tr>\n    <tr>\n      <th>149</th>\n      <td>5.9</td>\n      <td>3.0</td>\n      <td>5.1</td>\n      <td>1.8</td>\n      <td>virginica</td>\n    </tr>\n  </tbody>\n</table>\n</div>"
          },
          "metadata": {},
          "execution_count": 13
        }
      ]
    },
    {
      "cell_type": "code",
      "metadata": {
        "id": "ZQ62tuXmY15J",
        "colab": {
          "base_uri": "https://localhost:8080/",
          "height": 294
        },
        "outputId": "ae87fa20-3fb8-4fbc-a12e-293d9492f704"
      },
      "source": [
        "# Dataframe stats information\n",
        "df_iris.describe()"
      ],
      "execution_count": 14,
      "outputs": [
        {
          "output_type": "execute_result",
          "data": {
            "text/plain": [
              "       sepal_length  sepal_width  petal_length  petal_width\n",
              "count    150.000000   150.000000    150.000000   150.000000\n",
              "mean       5.843333     3.054000      3.758667     1.198667\n",
              "std        0.828066     0.433594      1.764420     0.763161\n",
              "min        4.300000     2.000000      1.000000     0.100000\n",
              "25%        5.100000     2.800000      1.600000     0.300000\n",
              "50%        5.800000     3.000000      4.350000     1.300000\n",
              "75%        6.400000     3.300000      5.100000     1.800000\n",
              "max        7.900000     4.400000      6.900000     2.500000"
            ],
            "text/html": "<div>\n<style scoped>\n    .dataframe tbody tr th:only-of-type {\n        vertical-align: middle;\n    }\n\n    .dataframe tbody tr th {\n        vertical-align: top;\n    }\n\n    .dataframe thead th {\n        text-align: right;\n    }\n</style>\n<table border=\"1\" class=\"dataframe\">\n  <thead>\n    <tr style=\"text-align: right;\">\n      <th></th>\n      <th>sepal_length</th>\n      <th>sepal_width</th>\n      <th>petal_length</th>\n      <th>petal_width</th>\n    </tr>\n  </thead>\n  <tbody>\n    <tr>\n      <th>count</th>\n      <td>150.000000</td>\n      <td>150.000000</td>\n      <td>150.000000</td>\n      <td>150.000000</td>\n    </tr>\n    <tr>\n      <th>mean</th>\n      <td>5.843333</td>\n      <td>3.054000</td>\n      <td>3.758667</td>\n      <td>1.198667</td>\n    </tr>\n    <tr>\n      <th>std</th>\n      <td>0.828066</td>\n      <td>0.433594</td>\n      <td>1.764420</td>\n      <td>0.763161</td>\n    </tr>\n    <tr>\n      <th>min</th>\n      <td>4.300000</td>\n      <td>2.000000</td>\n      <td>1.000000</td>\n      <td>0.100000</td>\n    </tr>\n    <tr>\n      <th>25%</th>\n      <td>5.100000</td>\n      <td>2.800000</td>\n      <td>1.600000</td>\n      <td>0.300000</td>\n    </tr>\n    <tr>\n      <th>50%</th>\n      <td>5.800000</td>\n      <td>3.000000</td>\n      <td>4.350000</td>\n      <td>1.300000</td>\n    </tr>\n    <tr>\n      <th>75%</th>\n      <td>6.400000</td>\n      <td>3.300000</td>\n      <td>5.100000</td>\n      <td>1.800000</td>\n    </tr>\n    <tr>\n      <th>max</th>\n      <td>7.900000</td>\n      <td>4.400000</td>\n      <td>6.900000</td>\n      <td>2.500000</td>\n    </tr>\n  </tbody>\n</table>\n</div>"
          },
          "metadata": {},
          "execution_count": 14
        }
      ]
    },
    {
      "cell_type": "code",
      "metadata": {
        "id": "tCJUdsA3Y86c",
        "colab": {
          "base_uri": "https://localhost:8080/"
        },
        "outputId": "c6f8cd01-9404-4272-e50c-c2aa510bbaa3"
      },
      "source": [
        "# column data type\n",
        "df_iris.dtypes"
      ],
      "execution_count": 15,
      "outputs": [
        {
          "output_type": "execute_result",
          "data": {
            "text/plain": [
              "sepal_length    float64\n",
              "sepal_width     float64\n",
              "petal_length    float64\n",
              "petal_width     float64\n",
              "species          object\n",
              "dtype: object"
            ]
          },
          "metadata": {},
          "execution_count": 15
        }
      ]
    },
    {
      "cell_type": "code",
      "metadata": {
        "id": "9SvF87Kva4Cz",
        "colab": {
          "base_uri": "https://localhost:8080/"
        },
        "outputId": "acfd53ed-3e3a-40ba-fb82-37ad0dbd985d"
      },
      "source": [
        "# index info\n",
        "df_iris.index"
      ],
      "execution_count": 16,
      "outputs": [
        {
          "output_type": "execute_result",
          "data": {
            "text/plain": [
              "RangeIndex(start=0, stop=150, step=1)"
            ]
          },
          "metadata": {},
          "execution_count": 16
        }
      ]
    },
    {
      "cell_type": "code",
      "metadata": {
        "id": "w8vph2JICKob",
        "colab": {
          "base_uri": "https://localhost:8080/"
        },
        "outputId": "4473dec5-77d6-4600-a394-a299069ac1bb"
      },
      "source": [
        "df_iris.columns"
      ],
      "execution_count": 17,
      "outputs": [
        {
          "output_type": "execute_result",
          "data": {
            "text/plain": [
              "Index(['sepal_length', 'sepal_width', 'petal_length', 'petal_width',\n",
              "       'species'],\n",
              "      dtype='object')"
            ]
          },
          "metadata": {},
          "execution_count": 17
        }
      ]
    },
    {
      "cell_type": "code",
      "metadata": {
        "id": "Rh4iF57mZQz1",
        "colab": {
          "base_uri": "https://localhost:8080/",
          "height": 79
        },
        "outputId": "e44b3ba5-986a-4878-8f8b-1aa0d6535981"
      },
      "source": [
        "# change column names\n",
        "# pd.DataFrame.rename\n",
        "attributes = [\"sepal_length\", \"sepal_width\", \"petal_length\", \"petal_width\", \"class\"]\n",
        "df_iris.columns = attributes\n",
        "\n",
        "df_iris.head(1)"
      ],
      "execution_count": 18,
      "outputs": [
        {
          "output_type": "execute_result",
          "data": {
            "text/plain": [
              "   sepal_length  sepal_width  petal_length  petal_width   class\n",
              "0           5.1          3.5           1.4          0.2  setosa"
            ],
            "text/html": "<div>\n<style scoped>\n    .dataframe tbody tr th:only-of-type {\n        vertical-align: middle;\n    }\n\n    .dataframe tbody tr th {\n        vertical-align: top;\n    }\n\n    .dataframe thead th {\n        text-align: right;\n    }\n</style>\n<table border=\"1\" class=\"dataframe\">\n  <thead>\n    <tr style=\"text-align: right;\">\n      <th></th>\n      <th>sepal_length</th>\n      <th>sepal_width</th>\n      <th>petal_length</th>\n      <th>petal_width</th>\n      <th>class</th>\n    </tr>\n  </thead>\n  <tbody>\n    <tr>\n      <th>0</th>\n      <td>5.1</td>\n      <td>3.5</td>\n      <td>1.4</td>\n      <td>0.2</td>\n      <td>setosa</td>\n    </tr>\n  </tbody>\n</table>\n</div>"
          },
          "metadata": {},
          "execution_count": 18
        }
      ]
    },
    {
      "cell_type": "markdown",
      "metadata": {
        "id": "Z0FucuXLih-b"
      },
      "source": [
        "#### **Indexing and Slicing**"
      ]
    },
    {
      "cell_type": "code",
      "metadata": {
        "id": "L9KYxtpTioFa",
        "colab": {
          "base_uri": "https://localhost:8080/"
        },
        "outputId": "23c8fd08-5039-4c15-db19-0f7c79f819e3"
      },
      "source": [
        "# use [] square brackets, only columns\n",
        "df1 = df_iris['sepal_length']\n",
        "print(df1.head())\n",
        "print(type(df1))\n",
        "\n",
        "df2 = df_iris[['sepal_length']]\n",
        "print(df2.head())\n",
        "print(type(df2))\n",
        "\n",
        "df3 = df_iris[['sepal_length', 'petal_length']]\n",
        "print(df3.head())\n",
        "print(type(df3))\n",
        "\n",
        "df4 = df_iris[1:3][['sepal_length','petal_length']]\n",
        "print(df4)\n",
        "print(type(df4))"
      ],
      "execution_count": 19,
      "outputs": [
        {
          "output_type": "stream",
          "name": "stdout",
          "text": [
            "0    5.1\n1    4.9\n2    4.7\n3    4.6\n4    5.0\nName: sepal_length, dtype: float64\n<class 'pandas.core.series.Series'>\n   sepal_length\n0           5.1\n1           4.9\n2           4.7\n3           4.6\n4           5.0\n<class 'pandas.core.frame.DataFrame'>\n   sepal_length  petal_length\n0           5.1           1.4\n1           4.9           1.4\n2           4.7           1.3\n3           4.6           1.5\n4           5.0           1.4\n<class 'pandas.core.frame.DataFrame'>\n   sepal_length  petal_length\n1           4.9           1.4\n2           4.7           1.3\n<class 'pandas.core.frame.DataFrame'>\n"
          ]
        }
      ]
    },
    {
      "cell_type": "code",
      "metadata": {
        "id": "_e10vJ3NlHek",
        "colab": {
          "base_uri": "https://localhost:8080/"
        },
        "outputId": "62c4da55-dd6a-48d2-bdd1-edc5e2f184b6"
      },
      "source": [
        "# selection by position, use iloc, endpoint is excluded\n",
        "df1 = df_iris.iloc[:,3]\n",
        "print(df1)\n",
        "print(type(df1))\n",
        "\n",
        "df2 = df_iris.iloc[3:5,0:2]\n",
        "print(df2)\n",
        "print(type(df2))\n",
        "\n",
        "df3 = df_iris.iloc[[1,2,4],[0,2]]\n",
        "print(df3)\n",
        "print(type(df3))\n"
      ],
      "execution_count": 20,
      "outputs": [
        {
          "output_type": "stream",
          "name": "stdout",
          "text": [
            "0      0.2\n1      0.2\n2      0.2\n3      0.2\n4      0.2\n      ... \n145    2.3\n146    1.9\n147    2.0\n148    2.3\n149    1.8\nName: petal_width, Length: 150, dtype: float64\n<class 'pandas.core.series.Series'>\n   sepal_length  sepal_width\n3           4.6          3.1\n4           5.0          3.6\n<class 'pandas.core.frame.DataFrame'>\n   sepal_length  petal_length\n1           4.9           1.4\n2           4.7           1.3\n4           5.0           1.4\n<class 'pandas.core.frame.DataFrame'>\n"
          ]
        }
      ]
    },
    {
      "cell_type": "code",
      "metadata": {
        "id": "efRLhCOQjeEL",
        "colab": {
          "base_uri": "https://localhost:8080/",
          "height": 370
        },
        "outputId": "c4b7d68e-b539-4b1c-f541-413ce685a4ae"
      },
      "source": [
        "# selection by label, use loc, endpoint is included\n",
        "df1 = df_iris.loc[:, 'sepal_length']\n",
        "print(df1.head())\n",
        "print(type(df1))\n",
        "\n",
        "df2 = df_iris.loc[1:3, ['sepal_length', 'petal_length']]\n",
        "print(df2.head())\n",
        "print(type(df2))\n",
        "\n",
        "df3 = df_iris.loc[[1, 3], 'sepal_length':'petal_length']\n",
        "print(df3)\n",
        "\n",
        "# if you want to select rows and columns, must be like this\n",
        "df_iris[['sepal_length','petal_length']][1:3]"
      ],
      "execution_count": 21,
      "outputs": [
        {
          "output_type": "stream",
          "name": "stdout",
          "text": [
            "0    5.1\n1    4.9\n2    4.7\n3    4.6\n4    5.0\nName: sepal_length, dtype: float64\n<class 'pandas.core.series.Series'>\n   sepal_length  petal_length\n1           4.9           1.4\n2           4.7           1.3\n3           4.6           1.5\n<class 'pandas.core.frame.DataFrame'>\n   sepal_length  sepal_width  petal_length\n1           4.9          3.0           1.4\n3           4.6          3.1           1.5\n"
          ]
        },
        {
          "output_type": "execute_result",
          "data": {
            "text/plain": [
              "   sepal_length  petal_length\n",
              "1           4.9           1.4\n",
              "2           4.7           1.3"
            ],
            "text/html": "<div>\n<style scoped>\n    .dataframe tbody tr th:only-of-type {\n        vertical-align: middle;\n    }\n\n    .dataframe tbody tr th {\n        vertical-align: top;\n    }\n\n    .dataframe thead th {\n        text-align: right;\n    }\n</style>\n<table border=\"1\" class=\"dataframe\">\n  <thead>\n    <tr style=\"text-align: right;\">\n      <th></th>\n      <th>sepal_length</th>\n      <th>petal_length</th>\n    </tr>\n  </thead>\n  <tbody>\n    <tr>\n      <th>1</th>\n      <td>4.9</td>\n      <td>1.4</td>\n    </tr>\n    <tr>\n      <th>2</th>\n      <td>4.7</td>\n      <td>1.3</td>\n    </tr>\n  </tbody>\n</table>\n</div>"
          },
          "metadata": {},
          "execution_count": 21
        }
      ]
    },
    {
      "cell_type": "code",
      "metadata": {
        "id": "1gIoBAyISL0R",
        "colab": {
          "base_uri": "https://localhost:8080/",
          "height": 415
        },
        "outputId": "8f425ae7-70f7-48a1-df66-cf733e0d6e8c"
      },
      "source": [
        "df_iris"
      ],
      "execution_count": 22,
      "outputs": [
        {
          "output_type": "execute_result",
          "data": {
            "text/plain": [
              "     sepal_length  sepal_width  petal_length  petal_width      class\n",
              "0             5.1          3.5           1.4          0.2     setosa\n",
              "1             4.9          3.0           1.4          0.2     setosa\n",
              "2             4.7          3.2           1.3          0.2     setosa\n",
              "3             4.6          3.1           1.5          0.2     setosa\n",
              "4             5.0          3.6           1.4          0.2     setosa\n",
              "..            ...          ...           ...          ...        ...\n",
              "145           6.7          3.0           5.2          2.3  virginica\n",
              "146           6.3          2.5           5.0          1.9  virginica\n",
              "147           6.5          3.0           5.2          2.0  virginica\n",
              "148           6.2          3.4           5.4          2.3  virginica\n",
              "149           5.9          3.0           5.1          1.8  virginica\n",
              "\n",
              "[150 rows x 5 columns]"
            ],
            "text/html": "<div>\n<style scoped>\n    .dataframe tbody tr th:only-of-type {\n        vertical-align: middle;\n    }\n\n    .dataframe tbody tr th {\n        vertical-align: top;\n    }\n\n    .dataframe thead th {\n        text-align: right;\n    }\n</style>\n<table border=\"1\" class=\"dataframe\">\n  <thead>\n    <tr style=\"text-align: right;\">\n      <th></th>\n      <th>sepal_length</th>\n      <th>sepal_width</th>\n      <th>petal_length</th>\n      <th>petal_width</th>\n      <th>class</th>\n    </tr>\n  </thead>\n  <tbody>\n    <tr>\n      <th>0</th>\n      <td>5.1</td>\n      <td>3.5</td>\n      <td>1.4</td>\n      <td>0.2</td>\n      <td>setosa</td>\n    </tr>\n    <tr>\n      <th>1</th>\n      <td>4.9</td>\n      <td>3.0</td>\n      <td>1.4</td>\n      <td>0.2</td>\n      <td>setosa</td>\n    </tr>\n    <tr>\n      <th>2</th>\n      <td>4.7</td>\n      <td>3.2</td>\n      <td>1.3</td>\n      <td>0.2</td>\n      <td>setosa</td>\n    </tr>\n    <tr>\n      <th>3</th>\n      <td>4.6</td>\n      <td>3.1</td>\n      <td>1.5</td>\n      <td>0.2</td>\n      <td>setosa</td>\n    </tr>\n    <tr>\n      <th>4</th>\n      <td>5.0</td>\n      <td>3.6</td>\n      <td>1.4</td>\n      <td>0.2</td>\n      <td>setosa</td>\n    </tr>\n    <tr>\n      <th>...</th>\n      <td>...</td>\n      <td>...</td>\n      <td>...</td>\n      <td>...</td>\n      <td>...</td>\n    </tr>\n    <tr>\n      <th>145</th>\n      <td>6.7</td>\n      <td>3.0</td>\n      <td>5.2</td>\n      <td>2.3</td>\n      <td>virginica</td>\n    </tr>\n    <tr>\n      <th>146</th>\n      <td>6.3</td>\n      <td>2.5</td>\n      <td>5.0</td>\n      <td>1.9</td>\n      <td>virginica</td>\n    </tr>\n    <tr>\n      <th>147</th>\n      <td>6.5</td>\n      <td>3.0</td>\n      <td>5.2</td>\n      <td>2.0</td>\n      <td>virginica</td>\n    </tr>\n    <tr>\n      <th>148</th>\n      <td>6.2</td>\n      <td>3.4</td>\n      <td>5.4</td>\n      <td>2.3</td>\n      <td>virginica</td>\n    </tr>\n    <tr>\n      <th>149</th>\n      <td>5.9</td>\n      <td>3.0</td>\n      <td>5.1</td>\n      <td>1.8</td>\n      <td>virginica</td>\n    </tr>\n  </tbody>\n</table>\n<p>150 rows × 5 columns</p>\n</div>"
          },
          "metadata": {},
          "execution_count": 22
        }
      ]
    },
    {
      "cell_type": "code",
      "metadata": {
        "id": "wYJXwqbulpB9",
        "colab": {
          "base_uri": "https://localhost:8080/"
        },
        "outputId": "b85ddc06-64c9-4eba-f113-229f5b0f0028"
      },
      "source": [
        "# boolean masking\n",
        "df1 = df_iris[(df_iris['sepal_length'] > 6.0) & (df_iris['petal_length'] < 5.0)]\n",
        "print(df1)"
      ],
      "execution_count": 23,
      "outputs": [
        {
          "output_type": "stream",
          "name": "stdout",
          "text": [
            "     sepal_length  sepal_width  petal_length  petal_width       class\n50            7.0          3.2           4.7          1.4  versicolor\n51            6.4          3.2           4.5          1.5  versicolor\n52            6.9          3.1           4.9          1.5  versicolor\n54            6.5          2.8           4.6          1.5  versicolor\n56            6.3          3.3           4.7          1.6  versicolor\n58            6.6          2.9           4.6          1.3  versicolor\n63            6.1          2.9           4.7          1.4  versicolor\n65            6.7          3.1           4.4          1.4  versicolor\n68            6.2          2.2           4.5          1.5  versicolor\n71            6.1          2.8           4.0          1.3  versicolor\n72            6.3          2.5           4.9          1.5  versicolor\n73            6.1          2.8           4.7          1.2  versicolor\n74            6.4          2.9           4.3          1.3  versicolor\n75            6.6          3.0           4.4          1.4  versicolor\n76            6.8          2.8           4.8          1.4  versicolor\n86            6.7          3.1           4.7          1.5  versicolor\n87            6.3          2.3           4.4          1.3  versicolor\n91            6.1          3.0           4.6          1.4  versicolor\n97            6.2          2.9           4.3          1.3  versicolor\n123           6.3          2.7           4.9          1.8   virginica\n126           6.2          2.8           4.8          1.8   virginica\n127           6.1          3.0           4.9          1.8   virginica\n"
          ]
        }
      ]
    },
    {
      "cell_type": "code",
      "metadata": {
        "id": "xsAHYLn4vk9n",
        "colab": {
          "base_uri": "https://localhost:8080/"
        },
        "outputId": "2b565ecb-97bf-49b9-c64b-36b77534ed82"
      },
      "source": [
        "df1 = df1.reset_index(drop=True)\n",
        "print(df1)"
      ],
      "execution_count": 24,
      "outputs": [
        {
          "output_type": "stream",
          "name": "stdout",
          "text": [
            "    sepal_length  sepal_width  petal_length  petal_width       class\n0            7.0          3.2           4.7          1.4  versicolor\n1            6.4          3.2           4.5          1.5  versicolor\n2            6.9          3.1           4.9          1.5  versicolor\n3            6.5          2.8           4.6          1.5  versicolor\n4            6.3          3.3           4.7          1.6  versicolor\n5            6.6          2.9           4.6          1.3  versicolor\n6            6.1          2.9           4.7          1.4  versicolor\n7            6.7          3.1           4.4          1.4  versicolor\n8            6.2          2.2           4.5          1.5  versicolor\n9            6.1          2.8           4.0          1.3  versicolor\n10           6.3          2.5           4.9          1.5  versicolor\n11           6.1          2.8           4.7          1.2  versicolor\n12           6.4          2.9           4.3          1.3  versicolor\n13           6.6          3.0           4.4          1.4  versicolor\n14           6.8          2.8           4.8          1.4  versicolor\n15           6.7          3.1           4.7          1.5  versicolor\n16           6.3          2.3           4.4          1.3  versicolor\n17           6.1          3.0           4.6          1.4  versicolor\n18           6.2          2.9           4.3          1.3  versicolor\n19           6.3          2.7           4.9          1.8   virginica\n20           6.2          2.8           4.8          1.8   virginica\n21           6.1          3.0           4.9          1.8   virginica\n"
          ]
        }
      ]
    },
    {
      "cell_type": "markdown",
      "metadata": {
        "id": "5U8R66Rnos4u"
      },
      "source": [
        "#### **(Advanced)Merging**\n",
        "\n",
        "Read this [document](https://pandas.pydata.org/pandas-docs/stable/merging.html) for more info\n"
      ]
    },
    {
      "cell_type": "code",
      "metadata": {
        "id": "EMPg7rWn06Fo"
      },
      "source": [
        "# two dataframe join or concatenate\n",
        "df_right=pd.DataFrame({'year':np.arange(1980,1990),'rain_cn':np.arange(800,810)})\n",
        "\n",
        "df_right2=pd.DataFrame({'year': [1991], 'rain_cn': [800]})"
      ],
      "execution_count": 25,
      "outputs": []
    },
    {
      "cell_type": "code",
      "metadata": {
        "id": "DnmGRMTufzr7",
        "colab": {
          "base_uri": "https://localhost:8080/",
          "height": 355
        },
        "outputId": "6d8190fe-3046-42d6-ca16-7ae38ac0dce4"
      },
      "source": [
        "df_right.head(10)"
      ],
      "execution_count": 26,
      "outputs": [
        {
          "output_type": "execute_result",
          "data": {
            "text/plain": [
              "   year  rain_cn\n",
              "0  1980      800\n",
              "1  1981      801\n",
              "2  1982      802\n",
              "3  1983      803\n",
              "4  1984      804\n",
              "5  1985      805\n",
              "6  1986      806\n",
              "7  1987      807\n",
              "8  1988      808\n",
              "9  1989      809"
            ],
            "text/html": "<div>\n<style scoped>\n    .dataframe tbody tr th:only-of-type {\n        vertical-align: middle;\n    }\n\n    .dataframe tbody tr th {\n        vertical-align: top;\n    }\n\n    .dataframe thead th {\n        text-align: right;\n    }\n</style>\n<table border=\"1\" class=\"dataframe\">\n  <thead>\n    <tr style=\"text-align: right;\">\n      <th></th>\n      <th>year</th>\n      <th>rain_cn</th>\n    </tr>\n  </thead>\n  <tbody>\n    <tr>\n      <th>0</th>\n      <td>1980</td>\n      <td>800</td>\n    </tr>\n    <tr>\n      <th>1</th>\n      <td>1981</td>\n      <td>801</td>\n    </tr>\n    <tr>\n      <th>2</th>\n      <td>1982</td>\n      <td>802</td>\n    </tr>\n    <tr>\n      <th>3</th>\n      <td>1983</td>\n      <td>803</td>\n    </tr>\n    <tr>\n      <th>4</th>\n      <td>1984</td>\n      <td>804</td>\n    </tr>\n    <tr>\n      <th>5</th>\n      <td>1985</td>\n      <td>805</td>\n    </tr>\n    <tr>\n      <th>6</th>\n      <td>1986</td>\n      <td>806</td>\n    </tr>\n    <tr>\n      <th>7</th>\n      <td>1987</td>\n      <td>807</td>\n    </tr>\n    <tr>\n      <th>8</th>\n      <td>1988</td>\n      <td>808</td>\n    </tr>\n    <tr>\n      <th>9</th>\n      <td>1989</td>\n      <td>809</td>\n    </tr>\n  </tbody>\n</table>\n</div>"
          },
          "metadata": {},
          "execution_count": 26
        }
      ]
    },
    {
      "cell_type": "code",
      "metadata": {
        "id": "-x3Ma9P9LCsq",
        "colab": {
          "base_uri": "https://localhost:8080/",
          "height": 79
        },
        "outputId": "0e5e8a92-da8d-447d-e146-7bd5de1a7daf"
      },
      "source": [
        "df_right2.head()"
      ],
      "execution_count": 27,
      "outputs": [
        {
          "output_type": "execute_result",
          "data": {
            "text/plain": [
              "   year  rain_cn\n",
              "0  1991      800"
            ],
            "text/html": "<div>\n<style scoped>\n    .dataframe tbody tr th:only-of-type {\n        vertical-align: middle;\n    }\n\n    .dataframe tbody tr th {\n        vertical-align: top;\n    }\n\n    .dataframe thead th {\n        text-align: right;\n    }\n</style>\n<table border=\"1\" class=\"dataframe\">\n  <thead>\n    <tr style=\"text-align: right;\">\n      <th></th>\n      <th>year</th>\n      <th>rain_cn</th>\n    </tr>\n  </thead>\n  <tbody>\n    <tr>\n      <th>0</th>\n      <td>1991</td>\n      <td>800</td>\n    </tr>\n  </tbody>\n</table>\n</div>"
          },
          "metadata": {},
          "execution_count": 27
        }
      ]
    },
    {
      "cell_type": "code",
      "metadata": {
        "id": "eLayX8e7-LT6",
        "colab": {
          "base_uri": "https://localhost:8080/",
          "height": 386
        },
        "outputId": "dc3158a6-52fe-4c71-a370-94fecbe855ba"
      },
      "source": [
        "df_right3=pd.concat([df_right, df_right2], ignore_index = True)\n",
        "df_right3"
      ],
      "execution_count": 28,
      "outputs": [
        {
          "output_type": "execute_result",
          "data": {
            "text/plain": [
              "    year  rain_cn\n",
              "0   1980      800\n",
              "1   1981      801\n",
              "2   1982      802\n",
              "3   1983      803\n",
              "4   1984      804\n",
              "5   1985      805\n",
              "6   1986      806\n",
              "7   1987      807\n",
              "8   1988      808\n",
              "9   1989      809\n",
              "10  1991      800"
            ],
            "text/html": "<div>\n<style scoped>\n    .dataframe tbody tr th:only-of-type {\n        vertical-align: middle;\n    }\n\n    .dataframe tbody tr th {\n        vertical-align: top;\n    }\n\n    .dataframe thead th {\n        text-align: right;\n    }\n</style>\n<table border=\"1\" class=\"dataframe\">\n  <thead>\n    <tr style=\"text-align: right;\">\n      <th></th>\n      <th>year</th>\n      <th>rain_cn</th>\n    </tr>\n  </thead>\n  <tbody>\n    <tr>\n      <th>0</th>\n      <td>1980</td>\n      <td>800</td>\n    </tr>\n    <tr>\n      <th>1</th>\n      <td>1981</td>\n      <td>801</td>\n    </tr>\n    <tr>\n      <th>2</th>\n      <td>1982</td>\n      <td>802</td>\n    </tr>\n    <tr>\n      <th>3</th>\n      <td>1983</td>\n      <td>803</td>\n    </tr>\n    <tr>\n      <th>4</th>\n      <td>1984</td>\n      <td>804</td>\n    </tr>\n    <tr>\n      <th>5</th>\n      <td>1985</td>\n      <td>805</td>\n    </tr>\n    <tr>\n      <th>6</th>\n      <td>1986</td>\n      <td>806</td>\n    </tr>\n    <tr>\n      <th>7</th>\n      <td>1987</td>\n      <td>807</td>\n    </tr>\n    <tr>\n      <th>8</th>\n      <td>1988</td>\n      <td>808</td>\n    </tr>\n    <tr>\n      <th>9</th>\n      <td>1989</td>\n      <td>809</td>\n    </tr>\n    <tr>\n      <th>10</th>\n      <td>1991</td>\n      <td>800</td>\n    </tr>\n  </tbody>\n</table>\n</div>"
          },
          "metadata": {},
          "execution_count": 28
        }
      ]
    },
    {
      "cell_type": "code",
      "metadata": {
        "id": "9Z2DbXeXRpwi"
      },
      "source": [
        "df_right2.columns = ['year', 'rain_cn1']"
      ],
      "execution_count": 29,
      "outputs": []
    },
    {
      "cell_type": "code",
      "metadata": {
        "id": "3LCZ37Q8-prK",
        "colab": {
          "base_uri": "https://localhost:8080/",
          "height": 79
        },
        "outputId": "3eaf12a8-d4a8-4455-9c5a-d0a920bdba11"
      },
      "source": [
        "df_right2"
      ],
      "execution_count": 30,
      "outputs": [
        {
          "output_type": "execute_result",
          "data": {
            "text/plain": [
              "   year  rain_cn1\n",
              "0  1991       800"
            ],
            "text/html": "<div>\n<style scoped>\n    .dataframe tbody tr th:only-of-type {\n        vertical-align: middle;\n    }\n\n    .dataframe tbody tr th {\n        vertical-align: top;\n    }\n\n    .dataframe thead th {\n        text-align: right;\n    }\n</style>\n<table border=\"1\" class=\"dataframe\">\n  <thead>\n    <tr style=\"text-align: right;\">\n      <th></th>\n      <th>year</th>\n      <th>rain_cn1</th>\n    </tr>\n  </thead>\n  <tbody>\n    <tr>\n      <th>0</th>\n      <td>1991</td>\n      <td>800</td>\n    </tr>\n  </tbody>\n</table>\n</div>"
          },
          "metadata": {},
          "execution_count": 30
        }
      ]
    },
    {
      "cell_type": "code",
      "metadata": {
        "id": "7ci7BhgLNl36",
        "colab": {
          "base_uri": "https://localhost:8080/",
          "height": 386
        },
        "outputId": "03f63078-ae19-45f6-c227-f9c7f395acae"
      },
      "source": [
        "df_right3=pd.concat([df_right, df_right2], ignore_index = True)\n",
        "df_right3"
      ],
      "execution_count": 31,
      "outputs": [
        {
          "output_type": "execute_result",
          "data": {
            "text/plain": [
              "    year  rain_cn  rain_cn1\n",
              "0   1980    800.0       NaN\n",
              "1   1981    801.0       NaN\n",
              "2   1982    802.0       NaN\n",
              "3   1983    803.0       NaN\n",
              "4   1984    804.0       NaN\n",
              "5   1985    805.0       NaN\n",
              "6   1986    806.0       NaN\n",
              "7   1987    807.0       NaN\n",
              "8   1988    808.0       NaN\n",
              "9   1989    809.0       NaN\n",
              "10  1991      NaN     800.0"
            ],
            "text/html": "<div>\n<style scoped>\n    .dataframe tbody tr th:only-of-type {\n        vertical-align: middle;\n    }\n\n    .dataframe tbody tr th {\n        vertical-align: top;\n    }\n\n    .dataframe thead th {\n        text-align: right;\n    }\n</style>\n<table border=\"1\" class=\"dataframe\">\n  <thead>\n    <tr style=\"text-align: right;\">\n      <th></th>\n      <th>year</th>\n      <th>rain_cn</th>\n      <th>rain_cn1</th>\n    </tr>\n  </thead>\n  <tbody>\n    <tr>\n      <th>0</th>\n      <td>1980</td>\n      <td>800.0</td>\n      <td>NaN</td>\n    </tr>\n    <tr>\n      <th>1</th>\n      <td>1981</td>\n      <td>801.0</td>\n      <td>NaN</td>\n    </tr>\n    <tr>\n      <th>2</th>\n      <td>1982</td>\n      <td>802.0</td>\n      <td>NaN</td>\n    </tr>\n    <tr>\n      <th>3</th>\n      <td>1983</td>\n      <td>803.0</td>\n      <td>NaN</td>\n    </tr>\n    <tr>\n      <th>4</th>\n      <td>1984</td>\n      <td>804.0</td>\n      <td>NaN</td>\n    </tr>\n    <tr>\n      <th>5</th>\n      <td>1985</td>\n      <td>805.0</td>\n      <td>NaN</td>\n    </tr>\n    <tr>\n      <th>6</th>\n      <td>1986</td>\n      <td>806.0</td>\n      <td>NaN</td>\n    </tr>\n    <tr>\n      <th>7</th>\n      <td>1987</td>\n      <td>807.0</td>\n      <td>NaN</td>\n    </tr>\n    <tr>\n      <th>8</th>\n      <td>1988</td>\n      <td>808.0</td>\n      <td>NaN</td>\n    </tr>\n    <tr>\n      <th>9</th>\n      <td>1989</td>\n      <td>809.0</td>\n      <td>NaN</td>\n    </tr>\n    <tr>\n      <th>10</th>\n      <td>1991</td>\n      <td>NaN</td>\n      <td>800.0</td>\n    </tr>\n  </tbody>\n</table>\n</div>"
          },
          "metadata": {},
          "execution_count": 31
        }
      ]
    },
    {
      "cell_type": "code",
      "metadata": {
        "id": "r3s77kJOpAEH",
        "colab": {
          "base_uri": "https://localhost:8080/",
          "height": 662
        },
        "outputId": "4d09d7c7-273c-4d45-aab9-8788925ab0a6"
      },
      "source": [
        "df_uk_rain.head(20)"
      ],
      "execution_count": 32,
      "outputs": [
        {
          "output_type": "execute_result",
          "data": {
            "text/plain": [
              "    water_year  rain_octsep  outflow_octsep  rain_decfeb  outflow_decfeb  \\\n",
              "0         1980         1182            5408          292            7248   \n",
              "1         1981         1098            5112          257            7316   \n",
              "2         1982         1156            5701          330            8567   \n",
              "3         1983          993            4265          391            8905   \n",
              "4         1984         1182            5364          217            5813   \n",
              "5         1985         1027            4991          304            7951   \n",
              "6         1986         1151            5196          295            7593   \n",
              "7         1987         1210            5572          343            8456   \n",
              "8         1988          976            4330          309            6465   \n",
              "9         1989         1130            4973          470           10520   \n",
              "10        1990         1022            4418          305            7120   \n",
              "11        1991         1151            4506          246            5493   \n",
              "12        1992         1130            5246          308            8751   \n",
              "13        1993         1162            5583          422           10109   \n",
              "14        1994         1110            5370          484           11486   \n",
              "15        1995          856            3479          245            5515   \n",
              "16        1996         1047            4019          258            5770   \n",
              "17        1997         1169            4953          341            7747   \n",
              "18        1998         1268            5824          360            8771   \n",
              "19        1999         1204            5665          417           10021   \n",
              "\n",
              "    rain_junaug  outflow_junaug  \n",
              "0           174            2212  \n",
              "1           242            1936  \n",
              "2           124            1802  \n",
              "3           141            1078  \n",
              "4           343            4313  \n",
              "5           229            2595  \n",
              "6           267            2826  \n",
              "7           294            3154  \n",
              "8           200            1440  \n",
              "9           209            1740  \n",
              "10          216            1923  \n",
              "11          280            2118  \n",
              "12          219            2551  \n",
              "13          193            1638  \n",
              "14          103            1231  \n",
              "15          172            1439  \n",
              "16          256            2102  \n",
              "17          285            3206  \n",
              "18          225            2240  \n",
              "19          197            2166  "
            ],
            "text/html": "<div>\n<style scoped>\n    .dataframe tbody tr th:only-of-type {\n        vertical-align: middle;\n    }\n\n    .dataframe tbody tr th {\n        vertical-align: top;\n    }\n\n    .dataframe thead th {\n        text-align: right;\n    }\n</style>\n<table border=\"1\" class=\"dataframe\">\n  <thead>\n    <tr style=\"text-align: right;\">\n      <th></th>\n      <th>water_year</th>\n      <th>rain_octsep</th>\n      <th>outflow_octsep</th>\n      <th>rain_decfeb</th>\n      <th>outflow_decfeb</th>\n      <th>rain_junaug</th>\n      <th>outflow_junaug</th>\n    </tr>\n  </thead>\n  <tbody>\n    <tr>\n      <th>0</th>\n      <td>1980</td>\n      <td>1182</td>\n      <td>5408</td>\n      <td>292</td>\n      <td>7248</td>\n      <td>174</td>\n      <td>2212</td>\n    </tr>\n    <tr>\n      <th>1</th>\n      <td>1981</td>\n      <td>1098</td>\n      <td>5112</td>\n      <td>257</td>\n      <td>7316</td>\n      <td>242</td>\n      <td>1936</td>\n    </tr>\n    <tr>\n      <th>2</th>\n      <td>1982</td>\n      <td>1156</td>\n      <td>5701</td>\n      <td>330</td>\n      <td>8567</td>\n      <td>124</td>\n      <td>1802</td>\n    </tr>\n    <tr>\n      <th>3</th>\n      <td>1983</td>\n      <td>993</td>\n      <td>4265</td>\n      <td>391</td>\n      <td>8905</td>\n      <td>141</td>\n      <td>1078</td>\n    </tr>\n    <tr>\n      <th>4</th>\n      <td>1984</td>\n      <td>1182</td>\n      <td>5364</td>\n      <td>217</td>\n      <td>5813</td>\n      <td>343</td>\n      <td>4313</td>\n    </tr>\n    <tr>\n      <th>5</th>\n      <td>1985</td>\n      <td>1027</td>\n      <td>4991</td>\n      <td>304</td>\n      <td>7951</td>\n      <td>229</td>\n      <td>2595</td>\n    </tr>\n    <tr>\n      <th>6</th>\n      <td>1986</td>\n      <td>1151</td>\n      <td>5196</td>\n      <td>295</td>\n      <td>7593</td>\n      <td>267</td>\n      <td>2826</td>\n    </tr>\n    <tr>\n      <th>7</th>\n      <td>1987</td>\n      <td>1210</td>\n      <td>5572</td>\n      <td>343</td>\n      <td>8456</td>\n      <td>294</td>\n      <td>3154</td>\n    </tr>\n    <tr>\n      <th>8</th>\n      <td>1988</td>\n      <td>976</td>\n      <td>4330</td>\n      <td>309</td>\n      <td>6465</td>\n      <td>200</td>\n      <td>1440</td>\n    </tr>\n    <tr>\n      <th>9</th>\n      <td>1989</td>\n      <td>1130</td>\n      <td>4973</td>\n      <td>470</td>\n      <td>10520</td>\n      <td>209</td>\n      <td>1740</td>\n    </tr>\n    <tr>\n      <th>10</th>\n      <td>1990</td>\n      <td>1022</td>\n      <td>4418</td>\n      <td>305</td>\n      <td>7120</td>\n      <td>216</td>\n      <td>1923</td>\n    </tr>\n    <tr>\n      <th>11</th>\n      <td>1991</td>\n      <td>1151</td>\n      <td>4506</td>\n      <td>246</td>\n      <td>5493</td>\n      <td>280</td>\n      <td>2118</td>\n    </tr>\n    <tr>\n      <th>12</th>\n      <td>1992</td>\n      <td>1130</td>\n      <td>5246</td>\n      <td>308</td>\n      <td>8751</td>\n      <td>219</td>\n      <td>2551</td>\n    </tr>\n    <tr>\n      <th>13</th>\n      <td>1993</td>\n      <td>1162</td>\n      <td>5583</td>\n      <td>422</td>\n      <td>10109</td>\n      <td>193</td>\n      <td>1638</td>\n    </tr>\n    <tr>\n      <th>14</th>\n      <td>1994</td>\n      <td>1110</td>\n      <td>5370</td>\n      <td>484</td>\n      <td>11486</td>\n      <td>103</td>\n      <td>1231</td>\n    </tr>\n    <tr>\n      <th>15</th>\n      <td>1995</td>\n      <td>856</td>\n      <td>3479</td>\n      <td>245</td>\n      <td>5515</td>\n      <td>172</td>\n      <td>1439</td>\n    </tr>\n    <tr>\n      <th>16</th>\n      <td>1996</td>\n      <td>1047</td>\n      <td>4019</td>\n      <td>258</td>\n      <td>5770</td>\n      <td>256</td>\n      <td>2102</td>\n    </tr>\n    <tr>\n      <th>17</th>\n      <td>1997</td>\n      <td>1169</td>\n      <td>4953</td>\n      <td>341</td>\n      <td>7747</td>\n      <td>285</td>\n      <td>3206</td>\n    </tr>\n    <tr>\n      <th>18</th>\n      <td>1998</td>\n      <td>1268</td>\n      <td>5824</td>\n      <td>360</td>\n      <td>8771</td>\n      <td>225</td>\n      <td>2240</td>\n    </tr>\n    <tr>\n      <th>19</th>\n      <td>1999</td>\n      <td>1204</td>\n      <td>5665</td>\n      <td>417</td>\n      <td>10021</td>\n      <td>197</td>\n      <td>2166</td>\n    </tr>\n  </tbody>\n</table>\n</div>"
          },
          "metadata": {},
          "execution_count": 32
        }
      ]
    },
    {
      "cell_type": "code",
      "metadata": {
        "id": "GuC7u1GyPxNx",
        "colab": {
          "base_uri": "https://localhost:8080/",
          "height": 386
        },
        "outputId": "4bfe0466-3d97-46cb-d122-49a5a4ee334a"
      },
      "source": [
        "df_right3.head(11)"
      ],
      "execution_count": 33,
      "outputs": [
        {
          "output_type": "execute_result",
          "data": {
            "text/plain": [
              "    year  rain_cn  rain_cn1\n",
              "0   1980    800.0       NaN\n",
              "1   1981    801.0       NaN\n",
              "2   1982    802.0       NaN\n",
              "3   1983    803.0       NaN\n",
              "4   1984    804.0       NaN\n",
              "5   1985    805.0       NaN\n",
              "6   1986    806.0       NaN\n",
              "7   1987    807.0       NaN\n",
              "8   1988    808.0       NaN\n",
              "9   1989    809.0       NaN\n",
              "10  1991      NaN     800.0"
            ],
            "text/html": "<div>\n<style scoped>\n    .dataframe tbody tr th:only-of-type {\n        vertical-align: middle;\n    }\n\n    .dataframe tbody tr th {\n        vertical-align: top;\n    }\n\n    .dataframe thead th {\n        text-align: right;\n    }\n</style>\n<table border=\"1\" class=\"dataframe\">\n  <thead>\n    <tr style=\"text-align: right;\">\n      <th></th>\n      <th>year</th>\n      <th>rain_cn</th>\n      <th>rain_cn1</th>\n    </tr>\n  </thead>\n  <tbody>\n    <tr>\n      <th>0</th>\n      <td>1980</td>\n      <td>800.0</td>\n      <td>NaN</td>\n    </tr>\n    <tr>\n      <th>1</th>\n      <td>1981</td>\n      <td>801.0</td>\n      <td>NaN</td>\n    </tr>\n    <tr>\n      <th>2</th>\n      <td>1982</td>\n      <td>802.0</td>\n      <td>NaN</td>\n    </tr>\n    <tr>\n      <th>3</th>\n      <td>1983</td>\n      <td>803.0</td>\n      <td>NaN</td>\n    </tr>\n    <tr>\n      <th>4</th>\n      <td>1984</td>\n      <td>804.0</td>\n      <td>NaN</td>\n    </tr>\n    <tr>\n      <th>5</th>\n      <td>1985</td>\n      <td>805.0</td>\n      <td>NaN</td>\n    </tr>\n    <tr>\n      <th>6</th>\n      <td>1986</td>\n      <td>806.0</td>\n      <td>NaN</td>\n    </tr>\n    <tr>\n      <th>7</th>\n      <td>1987</td>\n      <td>807.0</td>\n      <td>NaN</td>\n    </tr>\n    <tr>\n      <th>8</th>\n      <td>1988</td>\n      <td>808.0</td>\n      <td>NaN</td>\n    </tr>\n    <tr>\n      <th>9</th>\n      <td>1989</td>\n      <td>809.0</td>\n      <td>NaN</td>\n    </tr>\n    <tr>\n      <th>10</th>\n      <td>1991</td>\n      <td>NaN</td>\n      <td>800.0</td>\n    </tr>\n  </tbody>\n</table>\n</div>"
          },
          "metadata": {},
          "execution_count": 33
        }
      ]
    },
    {
      "cell_type": "code",
      "metadata": {
        "id": "1JAQs-D9Leb-",
        "colab": {
          "base_uri": "https://localhost:8080/",
          "height": 386
        },
        "outputId": "bdf62439-be68-410f-d94a-419f809cba64"
      },
      "source": [
        "# SQL like inner join:\n",
        "df_join=pd.merge(df_uk_rain, df_right3, left_on='water_year',right_on='year',how='inner')\n",
        "df_join"
      ],
      "execution_count": 34,
      "outputs": [
        {
          "output_type": "execute_result",
          "data": {
            "text/plain": [
              "    water_year  rain_octsep  outflow_octsep  rain_decfeb  outflow_decfeb  \\\n",
              "0         1980         1182            5408          292            7248   \n",
              "1         1981         1098            5112          257            7316   \n",
              "2         1982         1156            5701          330            8567   \n",
              "3         1983          993            4265          391            8905   \n",
              "4         1984         1182            5364          217            5813   \n",
              "5         1985         1027            4991          304            7951   \n",
              "6         1986         1151            5196          295            7593   \n",
              "7         1987         1210            5572          343            8456   \n",
              "8         1988          976            4330          309            6465   \n",
              "9         1989         1130            4973          470           10520   \n",
              "10        1991         1151            4506          246            5493   \n",
              "\n",
              "    rain_junaug  outflow_junaug  year  rain_cn  rain_cn1  \n",
              "0           174            2212  1980    800.0       NaN  \n",
              "1           242            1936  1981    801.0       NaN  \n",
              "2           124            1802  1982    802.0       NaN  \n",
              "3           141            1078  1983    803.0       NaN  \n",
              "4           343            4313  1984    804.0       NaN  \n",
              "5           229            2595  1985    805.0       NaN  \n",
              "6           267            2826  1986    806.0       NaN  \n",
              "7           294            3154  1987    807.0       NaN  \n",
              "8           200            1440  1988    808.0       NaN  \n",
              "9           209            1740  1989    809.0       NaN  \n",
              "10          280            2118  1991      NaN     800.0  "
            ],
            "text/html": "<div>\n<style scoped>\n    .dataframe tbody tr th:only-of-type {\n        vertical-align: middle;\n    }\n\n    .dataframe tbody tr th {\n        vertical-align: top;\n    }\n\n    .dataframe thead th {\n        text-align: right;\n    }\n</style>\n<table border=\"1\" class=\"dataframe\">\n  <thead>\n    <tr style=\"text-align: right;\">\n      <th></th>\n      <th>water_year</th>\n      <th>rain_octsep</th>\n      <th>outflow_octsep</th>\n      <th>rain_decfeb</th>\n      <th>outflow_decfeb</th>\n      <th>rain_junaug</th>\n      <th>outflow_junaug</th>\n      <th>year</th>\n      <th>rain_cn</th>\n      <th>rain_cn1</th>\n    </tr>\n  </thead>\n  <tbody>\n    <tr>\n      <th>0</th>\n      <td>1980</td>\n      <td>1182</td>\n      <td>5408</td>\n      <td>292</td>\n      <td>7248</td>\n      <td>174</td>\n      <td>2212</td>\n      <td>1980</td>\n      <td>800.0</td>\n      <td>NaN</td>\n    </tr>\n    <tr>\n      <th>1</th>\n      <td>1981</td>\n      <td>1098</td>\n      <td>5112</td>\n      <td>257</td>\n      <td>7316</td>\n      <td>242</td>\n      <td>1936</td>\n      <td>1981</td>\n      <td>801.0</td>\n      <td>NaN</td>\n    </tr>\n    <tr>\n      <th>2</th>\n      <td>1982</td>\n      <td>1156</td>\n      <td>5701</td>\n      <td>330</td>\n      <td>8567</td>\n      <td>124</td>\n      <td>1802</td>\n      <td>1982</td>\n      <td>802.0</td>\n      <td>NaN</td>\n    </tr>\n    <tr>\n      <th>3</th>\n      <td>1983</td>\n      <td>993</td>\n      <td>4265</td>\n      <td>391</td>\n      <td>8905</td>\n      <td>141</td>\n      <td>1078</td>\n      <td>1983</td>\n      <td>803.0</td>\n      <td>NaN</td>\n    </tr>\n    <tr>\n      <th>4</th>\n      <td>1984</td>\n      <td>1182</td>\n      <td>5364</td>\n      <td>217</td>\n      <td>5813</td>\n      <td>343</td>\n      <td>4313</td>\n      <td>1984</td>\n      <td>804.0</td>\n      <td>NaN</td>\n    </tr>\n    <tr>\n      <th>5</th>\n      <td>1985</td>\n      <td>1027</td>\n      <td>4991</td>\n      <td>304</td>\n      <td>7951</td>\n      <td>229</td>\n      <td>2595</td>\n      <td>1985</td>\n      <td>805.0</td>\n      <td>NaN</td>\n    </tr>\n    <tr>\n      <th>6</th>\n      <td>1986</td>\n      <td>1151</td>\n      <td>5196</td>\n      <td>295</td>\n      <td>7593</td>\n      <td>267</td>\n      <td>2826</td>\n      <td>1986</td>\n      <td>806.0</td>\n      <td>NaN</td>\n    </tr>\n    <tr>\n      <th>7</th>\n      <td>1987</td>\n      <td>1210</td>\n      <td>5572</td>\n      <td>343</td>\n      <td>8456</td>\n      <td>294</td>\n      <td>3154</td>\n      <td>1987</td>\n      <td>807.0</td>\n      <td>NaN</td>\n    </tr>\n    <tr>\n      <th>8</th>\n      <td>1988</td>\n      <td>976</td>\n      <td>4330</td>\n      <td>309</td>\n      <td>6465</td>\n      <td>200</td>\n      <td>1440</td>\n      <td>1988</td>\n      <td>808.0</td>\n      <td>NaN</td>\n    </tr>\n    <tr>\n      <th>9</th>\n      <td>1989</td>\n      <td>1130</td>\n      <td>4973</td>\n      <td>470</td>\n      <td>10520</td>\n      <td>209</td>\n      <td>1740</td>\n      <td>1989</td>\n      <td>809.0</td>\n      <td>NaN</td>\n    </tr>\n    <tr>\n      <th>10</th>\n      <td>1991</td>\n      <td>1151</td>\n      <td>4506</td>\n      <td>246</td>\n      <td>5493</td>\n      <td>280</td>\n      <td>2118</td>\n      <td>1991</td>\n      <td>NaN</td>\n      <td>800.0</td>\n    </tr>\n  </tbody>\n</table>\n</div>"
          },
          "metadata": {},
          "execution_count": 34
        }
      ]
    },
    {
      "cell_type": "markdown",
      "metadata": {
        "id": "01PXGrp2oQuZ"
      },
      "source": [
        "#### **(Advanced)Grouping**\n",
        "\n",
        "Read this [document](https://pandas.pydata.org/pandas-docs/stable/groupby.html) for more info"
      ]
    },
    {
      "cell_type": "code",
      "metadata": {
        "id": "7vVGllv1F42Z",
        "colab": {
          "base_uri": "https://localhost:8080/",
          "height": 202
        },
        "outputId": "9c7eadf8-ec45-4449-8e62-83237dd21399"
      },
      "source": [
        "# groupby: similar to SQL groupby\n",
        "df_uk_rain.groupby(df_uk_rain['water_year'] // 10 *10)[['rain_octsep','outflow_octsep','rain_decfeb']].max()"
      ],
      "execution_count": 35,
      "outputs": [
        {
          "output_type": "execute_result",
          "data": {
            "text/plain": [
              "            rain_octsep  outflow_octsep  rain_decfeb\n",
              "water_year                                          \n",
              "1980               1210            5701          470\n",
              "1990               1268            5824          484\n",
              "2000               1387            6391          437\n",
              "2010               1285            5500          350"
            ],
            "text/html": "<div>\n<style scoped>\n    .dataframe tbody tr th:only-of-type {\n        vertical-align: middle;\n    }\n\n    .dataframe tbody tr th {\n        vertical-align: top;\n    }\n\n    .dataframe thead th {\n        text-align: right;\n    }\n</style>\n<table border=\"1\" class=\"dataframe\">\n  <thead>\n    <tr style=\"text-align: right;\">\n      <th></th>\n      <th>rain_octsep</th>\n      <th>outflow_octsep</th>\n      <th>rain_decfeb</th>\n    </tr>\n    <tr>\n      <th>water_year</th>\n      <th></th>\n      <th></th>\n      <th></th>\n    </tr>\n  </thead>\n  <tbody>\n    <tr>\n      <th>1980</th>\n      <td>1210</td>\n      <td>5701</td>\n      <td>470</td>\n    </tr>\n    <tr>\n      <th>1990</th>\n      <td>1268</td>\n      <td>5824</td>\n      <td>484</td>\n    </tr>\n    <tr>\n      <th>2000</th>\n      <td>1387</td>\n      <td>6391</td>\n      <td>437</td>\n    </tr>\n    <tr>\n      <th>2010</th>\n      <td>1285</td>\n      <td>5500</td>\n      <td>350</td>\n    </tr>\n  </tbody>\n</table>\n</div>"
          },
          "metadata": {},
          "execution_count": 35
        }
      ]
    },
    {
      "cell_type": "code",
      "metadata": {
        "id": "3iqCV9gQKYdl",
        "colab": {
          "base_uri": "https://localhost:8080/"
        },
        "outputId": "c9e36e35-ccc9-451b-99d2-cddbe7c51fed"
      },
      "source": [
        "df_uk_rain.groupby(df_uk_rain['water_year'] // 10 *10)"
      ],
      "execution_count": 36,
      "outputs": [
        {
          "output_type": "execute_result",
          "data": {
            "text/plain": [
              "<pandas.core.groupby.generic.DataFrameGroupBy object at 0x7ff63557b640>"
            ]
          },
          "metadata": {},
          "execution_count": 36
        }
      ]
    },
    {
      "cell_type": "code",
      "metadata": {
        "id": "Rt8hW1ncJIWX",
        "colab": {
          "base_uri": "https://localhost:8080/"
        },
        "outputId": "b3db3c36-879a-48aa-94e3-a32a51004da0"
      },
      "source": [
        "df_uk_rain['water_year'] // 10 * 10"
      ],
      "execution_count": 37,
      "outputs": [
        {
          "output_type": "execute_result",
          "data": {
            "text/plain": [
              "0     1980\n",
              "1     1980\n",
              "2     1980\n",
              "3     1980\n",
              "4     1980\n",
              "5     1980\n",
              "6     1980\n",
              "7     1980\n",
              "8     1980\n",
              "9     1980\n",
              "10    1990\n",
              "11    1990\n",
              "12    1990\n",
              "13    1990\n",
              "14    1990\n",
              "15    1990\n",
              "16    1990\n",
              "17    1990\n",
              "18    1990\n",
              "19    1990\n",
              "20    2000\n",
              "21    2000\n",
              "22    2000\n",
              "23    2000\n",
              "24    2000\n",
              "25    2000\n",
              "26    2000\n",
              "27    2000\n",
              "28    2000\n",
              "29    2000\n",
              "30    2010\n",
              "31    2010\n",
              "32    2010\n",
              "Name: water_year, dtype: int64"
            ]
          },
          "metadata": {},
          "execution_count": 37
        }
      ]
    },
    {
      "cell_type": "markdown",
      "metadata": {
        "id": "Dd02UQsPpAqj"
      },
      "source": [
        "## **Data Preprocessing**\n",
        "\n",
        "(Advanced)\n",
        "\n",
        "*   Duplication\n",
        "*   Outlier\n",
        "*   Missing Value\n",
        "\n"
      ]
    },
    {
      "cell_type": "markdown",
      "metadata": {
        "id": "v2EVa9GC9ygN"
      },
      "source": [
        "#### **Duplication**"
      ]
    },
    {
      "cell_type": "code",
      "metadata": {
        "id": "P-AhBupVMWfu",
        "colab": {
          "base_uri": "https://localhost:8080/",
          "height": 141
        },
        "outputId": "bc9939f6-c2fa-45dc-ab4c-8faa6f8df1cc"
      },
      "source": [
        "# check if a column has duplicates\n",
        "df_uk_rain[df_uk_rain['rain_octsep'].duplicated(keep='first')]"
      ],
      "execution_count": 38,
      "outputs": [
        {
          "output_type": "execute_result",
          "data": {
            "text/plain": [
              "    water_year  rain_octsep  outflow_octsep  rain_decfeb  outflow_decfeb  \\\n",
              "4         1984         1182            5364          217            5813   \n",
              "11        1991         1151            4506          246            5493   \n",
              "12        1992         1130            5246          308            8751   \n",
              "\n",
              "    rain_junaug  outflow_junaug  \n",
              "4           343            4313  \n",
              "11          280            2118  \n",
              "12          219            2551  "
            ],
            "text/html": "<div>\n<style scoped>\n    .dataframe tbody tr th:only-of-type {\n        vertical-align: middle;\n    }\n\n    .dataframe tbody tr th {\n        vertical-align: top;\n    }\n\n    .dataframe thead th {\n        text-align: right;\n    }\n</style>\n<table border=\"1\" class=\"dataframe\">\n  <thead>\n    <tr style=\"text-align: right;\">\n      <th></th>\n      <th>water_year</th>\n      <th>rain_octsep</th>\n      <th>outflow_octsep</th>\n      <th>rain_decfeb</th>\n      <th>outflow_decfeb</th>\n      <th>rain_junaug</th>\n      <th>outflow_junaug</th>\n    </tr>\n  </thead>\n  <tbody>\n    <tr>\n      <th>4</th>\n      <td>1984</td>\n      <td>1182</td>\n      <td>5364</td>\n      <td>217</td>\n      <td>5813</td>\n      <td>343</td>\n      <td>4313</td>\n    </tr>\n    <tr>\n      <th>11</th>\n      <td>1991</td>\n      <td>1151</td>\n      <td>4506</td>\n      <td>246</td>\n      <td>5493</td>\n      <td>280</td>\n      <td>2118</td>\n    </tr>\n    <tr>\n      <th>12</th>\n      <td>1992</td>\n      <td>1130</td>\n      <td>5246</td>\n      <td>308</td>\n      <td>8751</td>\n      <td>219</td>\n      <td>2551</td>\n    </tr>\n  </tbody>\n</table>\n</div>"
          },
          "metadata": {},
          "execution_count": 38
        }
      ]
    },
    {
      "cell_type": "code",
      "metadata": {
        "id": "3WW7iRS6Mxc0",
        "colab": {
          "base_uri": "https://localhost:8080/",
          "height": 110
        },
        "outputId": "a8f89a96-def2-4397-a456-98d7b401c4e4"
      },
      "source": [
        "# create a duplicated row as the last row\n",
        "df_dup=df_uk_rain\n",
        "df_dup.loc[len(df_dup)]=df_dup.iloc[0]\n",
        "df_dup.iloc[[0,-1]] # first and last row"
      ],
      "execution_count": 39,
      "outputs": [
        {
          "output_type": "execute_result",
          "data": {
            "text/plain": [
              "    water_year  rain_octsep  outflow_octsep  rain_decfeb  outflow_decfeb  \\\n",
              "0         1980         1182            5408          292            7248   \n",
              "33        1980         1182            5408          292            7248   \n",
              "\n",
              "    rain_junaug  outflow_junaug  \n",
              "0           174            2212  \n",
              "33          174            2212  "
            ],
            "text/html": "<div>\n<style scoped>\n    .dataframe tbody tr th:only-of-type {\n        vertical-align: middle;\n    }\n\n    .dataframe tbody tr th {\n        vertical-align: top;\n    }\n\n    .dataframe thead th {\n        text-align: right;\n    }\n</style>\n<table border=\"1\" class=\"dataframe\">\n  <thead>\n    <tr style=\"text-align: right;\">\n      <th></th>\n      <th>water_year</th>\n      <th>rain_octsep</th>\n      <th>outflow_octsep</th>\n      <th>rain_decfeb</th>\n      <th>outflow_decfeb</th>\n      <th>rain_junaug</th>\n      <th>outflow_junaug</th>\n    </tr>\n  </thead>\n  <tbody>\n    <tr>\n      <th>0</th>\n      <td>1980</td>\n      <td>1182</td>\n      <td>5408</td>\n      <td>292</td>\n      <td>7248</td>\n      <td>174</td>\n      <td>2212</td>\n    </tr>\n    <tr>\n      <th>33</th>\n      <td>1980</td>\n      <td>1182</td>\n      <td>5408</td>\n      <td>292</td>\n      <td>7248</td>\n      <td>174</td>\n      <td>2212</td>\n    </tr>\n  </tbody>\n</table>\n</div>"
          },
          "metadata": {},
          "execution_count": 39
        }
      ]
    },
    {
      "cell_type": "code",
      "metadata": {
        "id": "7w6LsQVoM23Y",
        "colab": {
          "base_uri": "https://localhost:8080/",
          "height": 110
        },
        "outputId": "90089ce9-47b1-4744-bebd-ad186bf6d472"
      },
      "source": [
        "# check duplicate rows\n",
        "df_dup[df_dup.duplicated(keep=False)]"
      ],
      "execution_count": 40,
      "outputs": [
        {
          "output_type": "execute_result",
          "data": {
            "text/plain": [
              "    water_year  rain_octsep  outflow_octsep  rain_decfeb  outflow_decfeb  \\\n",
              "0         1980         1182            5408          292            7248   \n",
              "33        1980         1182            5408          292            7248   \n",
              "\n",
              "    rain_junaug  outflow_junaug  \n",
              "0           174            2212  \n",
              "33          174            2212  "
            ],
            "text/html": "<div>\n<style scoped>\n    .dataframe tbody tr th:only-of-type {\n        vertical-align: middle;\n    }\n\n    .dataframe tbody tr th {\n        vertical-align: top;\n    }\n\n    .dataframe thead th {\n        text-align: right;\n    }\n</style>\n<table border=\"1\" class=\"dataframe\">\n  <thead>\n    <tr style=\"text-align: right;\">\n      <th></th>\n      <th>water_year</th>\n      <th>rain_octsep</th>\n      <th>outflow_octsep</th>\n      <th>rain_decfeb</th>\n      <th>outflow_decfeb</th>\n      <th>rain_junaug</th>\n      <th>outflow_junaug</th>\n    </tr>\n  </thead>\n  <tbody>\n    <tr>\n      <th>0</th>\n      <td>1980</td>\n      <td>1182</td>\n      <td>5408</td>\n      <td>292</td>\n      <td>7248</td>\n      <td>174</td>\n      <td>2212</td>\n    </tr>\n    <tr>\n      <th>33</th>\n      <td>1980</td>\n      <td>1182</td>\n      <td>5408</td>\n      <td>292</td>\n      <td>7248</td>\n      <td>174</td>\n      <td>2212</td>\n    </tr>\n  </tbody>\n</table>\n</div>"
          },
          "metadata": {},
          "execution_count": 40
        }
      ]
    },
    {
      "cell_type": "code",
      "metadata": {
        "id": "IhjIxyGbNFF_",
        "colab": {
          "base_uri": "https://localhost:8080/",
          "height": 110
        },
        "outputId": "2b11f8b9-3ad9-4e9b-e67c-f18a355ac938"
      },
      "source": [
        "# remove duplicates\n",
        "df_dedup=df_dup.drop_duplicates()\n",
        "df_dedup.iloc[[0,-1]]"
      ],
      "execution_count": 41,
      "outputs": [
        {
          "output_type": "execute_result",
          "data": {
            "text/plain": [
              "    water_year  rain_octsep  outflow_octsep  rain_decfeb  outflow_decfeb  \\\n",
              "0         1980         1182            5408          292            7248   \n",
              "32        2012         1090            5329          350            9615   \n",
              "\n",
              "    rain_junaug  outflow_junaug  \n",
              "0           174            2212  \n",
              "32          187            1797  "
            ],
            "text/html": "<div>\n<style scoped>\n    .dataframe tbody tr th:only-of-type {\n        vertical-align: middle;\n    }\n\n    .dataframe tbody tr th {\n        vertical-align: top;\n    }\n\n    .dataframe thead th {\n        text-align: right;\n    }\n</style>\n<table border=\"1\" class=\"dataframe\">\n  <thead>\n    <tr style=\"text-align: right;\">\n      <th></th>\n      <th>water_year</th>\n      <th>rain_octsep</th>\n      <th>outflow_octsep</th>\n      <th>rain_decfeb</th>\n      <th>outflow_decfeb</th>\n      <th>rain_junaug</th>\n      <th>outflow_junaug</th>\n    </tr>\n  </thead>\n  <tbody>\n    <tr>\n      <th>0</th>\n      <td>1980</td>\n      <td>1182</td>\n      <td>5408</td>\n      <td>292</td>\n      <td>7248</td>\n      <td>174</td>\n      <td>2212</td>\n    </tr>\n    <tr>\n      <th>32</th>\n      <td>2012</td>\n      <td>1090</td>\n      <td>5329</td>\n      <td>350</td>\n      <td>9615</td>\n      <td>187</td>\n      <td>1797</td>\n    </tr>\n  </tbody>\n</table>\n</div>"
          },
          "metadata": {},
          "execution_count": 41
        }
      ]
    },
    {
      "cell_type": "markdown",
      "metadata": {
        "id": "mraQ_hJc-Z_Z"
      },
      "source": [
        "#### **Outlier**\n",
        "\n",
        "boxplot, winsorizing"
      ]
    },
    {
      "cell_type": "markdown",
      "metadata": {
        "id": "-4SNIM9OSRQQ"
      },
      "source": [
        "![alt text](https://www.mathsisfun.com/data/images/outlier.svg)<br>\n",
        "![alt text](https://statistics.laerd.com/statistical-guides/img/pearson-6.png)"
      ]
    },
    {
      "cell_type": "code",
      "metadata": {
        "id": "-VPqrSomd5fY",
        "colab": {
          "base_uri": "https://localhost:8080/",
          "height": 337
        },
        "outputId": "de503bec-f20d-48d4-aaaf-cd0ae5d8ea49"
      },
      "source": [
        "import seaborn as sns\n",
        "# Simulate data\n",
        "dt_outlier=np.concatenate([np.random.normal(0,1,1000),np.random.normal(8,1,10)])\n",
        "sns.set_style('whitegrid')\n",
        "sns.distplot(dt_outlier)"
      ],
      "execution_count": 42,
      "outputs": [
        {
          "output_type": "stream",
          "name": "stderr",
          "text": [
            "/usr/local/anaconda3/lib/python3.8/site-packages/seaborn/distributions.py:2551: FutureWarning: `distplot` is a deprecated function and will be removed in a future version. Please adapt your code to use either `displot` (a figure-level function with similar flexibility) or `histplot` (an axes-level function for histograms).\n  warnings.warn(msg, FutureWarning)\n"
          ]
        },
        {
          "output_type": "execute_result",
          "data": {
            "text/plain": [
              "<AxesSubplot:ylabel='Density'>"
            ]
          },
          "metadata": {},
          "execution_count": 42
        },
        {
          "output_type": "display_data",
          "data": {
            "text/plain": "<Figure size 432x288 with 1 Axes>",
            "image/svg+xml": "<?xml version=\"1.0\" encoding=\"utf-8\" standalone=\"no\"?>\n<!DOCTYPE svg PUBLIC \"-//W3C//DTD SVG 1.1//EN\"\n  \"http://www.w3.org/Graphics/SVG/1.1/DTD/svg11.dtd\">\n<!-- Created with matplotlib (https://matplotlib.org/) -->\n<svg height=\"247.985312pt\" version=\"1.1\" viewBox=\"0 0 388.923437 247.985312\" width=\"388.923437pt\" xmlns=\"http://www.w3.org/2000/svg\" xmlns:xlink=\"http://www.w3.org/1999/xlink\">\n <metadata>\n  <rdf:RDF xmlns:cc=\"http://creativecommons.org/ns#\" xmlns:dc=\"http://purl.org/dc/elements/1.1/\" xmlns:rdf=\"http://www.w3.org/1999/02/22-rdf-syntax-ns#\">\n   <cc:Work>\n    <dc:type rdf:resource=\"http://purl.org/dc/dcmitype/StillImage\"/>\n    <dc:date>2021-03-05T02:33:03.461139</dc:date>\n    <dc:format>image/svg+xml</dc:format>\n    <dc:creator>\n     <cc:Agent>\n      <dc:title>Matplotlib v3.3.2, https://matplotlib.org/</dc:title>\n     </cc:Agent>\n    </dc:creator>\n   </cc:Work>\n  </rdf:RDF>\n </metadata>\n <defs>\n  <style type=\"text/css\">*{stroke-linecap:butt;stroke-linejoin:round;}</style>\n </defs>\n <g id=\"figure_1\">\n  <g id=\"patch_1\">\n   <path d=\"M 0 247.985312 \nL 388.923437 247.985312 \nL 388.923437 0 \nL 0 0 \nz\n\" style=\"fill:#ffffff;\"/>\n  </g>\n  <g id=\"axes_1\">\n   <g id=\"patch_2\">\n    <path d=\"M 46.923438 224.64 \nL 381.723437 224.64 \nL 381.723437 7.2 \nL 46.923438 7.2 \nz\n\" style=\"fill:#ffffff;\"/>\n   </g>\n   <g id=\"matplotlib.axis_1\">\n    <g id=\"xtick_1\">\n     <g id=\"line2d_1\">\n      <path clip-path=\"url(#pc9671aeaf3)\" d=\"M 72.81996 224.64 \nL 72.81996 7.2 \n\" style=\"fill:none;stroke:#cccccc;stroke-linecap:round;stroke-width:0.8;\"/>\n     </g>\n     <g id=\"text_1\">\n      <!-- −4 -->\n      <g style=\"fill:#262626;\" transform=\"translate(67.119179 238.797812)scale(0.1 -0.1)\">\n       <defs>\n        <path d=\"M 52.828125 31.203125 \nL 5.5625 31.203125 \nL 5.5625 39.40625 \nL 52.828125 39.40625 \nz\n\" id=\"ArialMT-8722\"/>\n        <path d=\"M 32.328125 0 \nL 32.328125 17.140625 \nL 1.265625 17.140625 \nL 1.265625 25.203125 \nL 33.9375 71.578125 \nL 41.109375 71.578125 \nL 41.109375 25.203125 \nL 50.78125 25.203125 \nL 50.78125 17.140625 \nL 41.109375 17.140625 \nL 41.109375 0 \nz\nM 32.328125 25.203125 \nL 32.328125 57.46875 \nL 9.90625 25.203125 \nz\n\" id=\"ArialMT-52\"/>\n       </defs>\n       <use xlink:href=\"#ArialMT-8722\"/>\n       <use x=\"58.398438\" xlink:href=\"#ArialMT-52\"/>\n      </g>\n     </g>\n    </g>\n    <g id=\"xtick_2\">\n     <g id=\"line2d_2\">\n      <path clip-path=\"url(#pc9671aeaf3)\" d=\"M 113.780939 224.64 \nL 113.780939 7.2 \n\" style=\"fill:none;stroke:#cccccc;stroke-linecap:round;stroke-width:0.8;\"/>\n     </g>\n     <g id=\"text_2\">\n      <!-- −2 -->\n      <g style=\"fill:#262626;\" transform=\"translate(108.080158 238.797812)scale(0.1 -0.1)\">\n       <defs>\n        <path d=\"M 50.34375 8.453125 \nL 50.34375 0 \nL 3.03125 0 \nQ 2.9375 3.171875 4.046875 6.109375 \nQ 5.859375 10.9375 9.828125 15.625 \nQ 13.8125 20.3125 21.34375 26.46875 \nQ 33.015625 36.03125 37.109375 41.625 \nQ 41.21875 47.21875 41.21875 52.203125 \nQ 41.21875 57.421875 37.46875 61 \nQ 33.734375 64.59375 27.734375 64.59375 \nQ 21.390625 64.59375 17.578125 60.78125 \nQ 13.765625 56.984375 13.71875 50.25 \nL 4.6875 51.171875 \nQ 5.609375 61.28125 11.65625 66.578125 \nQ 17.71875 71.875 27.9375 71.875 \nQ 38.234375 71.875 44.234375 66.15625 \nQ 50.25 60.453125 50.25 52 \nQ 50.25 47.703125 48.484375 43.546875 \nQ 46.734375 39.40625 42.65625 34.8125 \nQ 38.578125 30.21875 29.109375 22.21875 \nQ 21.1875 15.578125 18.9375 13.203125 \nQ 16.703125 10.84375 15.234375 8.453125 \nz\n\" id=\"ArialMT-50\"/>\n       </defs>\n       <use xlink:href=\"#ArialMT-8722\"/>\n       <use x=\"58.398438\" xlink:href=\"#ArialMT-50\"/>\n      </g>\n     </g>\n    </g>\n    <g id=\"xtick_3\">\n     <g id=\"line2d_3\">\n      <path clip-path=\"url(#pc9671aeaf3)\" d=\"M 154.741918 224.64 \nL 154.741918 7.2 \n\" style=\"fill:none;stroke:#cccccc;stroke-linecap:round;stroke-width:0.8;\"/>\n     </g>\n     <g id=\"text_3\">\n      <!-- 0 -->\n      <g style=\"fill:#262626;\" transform=\"translate(151.961449 238.797812)scale(0.1 -0.1)\">\n       <defs>\n        <path d=\"M 4.15625 35.296875 \nQ 4.15625 48 6.765625 55.734375 \nQ 9.375 63.484375 14.515625 67.671875 \nQ 19.671875 71.875 27.484375 71.875 \nQ 33.25 71.875 37.59375 69.546875 \nQ 41.9375 67.234375 44.765625 62.859375 \nQ 47.609375 58.5 49.21875 52.21875 \nQ 50.828125 45.953125 50.828125 35.296875 \nQ 50.828125 22.703125 48.234375 14.96875 \nQ 45.65625 7.234375 40.5 3 \nQ 35.359375 -1.21875 27.484375 -1.21875 \nQ 17.140625 -1.21875 11.234375 6.203125 \nQ 4.15625 15.140625 4.15625 35.296875 \nz\nM 13.1875 35.296875 \nQ 13.1875 17.671875 17.3125 11.828125 \nQ 21.4375 6 27.484375 6 \nQ 33.546875 6 37.671875 11.859375 \nQ 41.796875 17.71875 41.796875 35.296875 \nQ 41.796875 52.984375 37.671875 58.78125 \nQ 33.546875 64.59375 27.390625 64.59375 \nQ 21.34375 64.59375 17.71875 59.46875 \nQ 13.1875 52.9375 13.1875 35.296875 \nz\n\" id=\"ArialMT-48\"/>\n       </defs>\n       <use xlink:href=\"#ArialMT-48\"/>\n      </g>\n     </g>\n    </g>\n    <g id=\"xtick_4\">\n     <g id=\"line2d_4\">\n      <path clip-path=\"url(#pc9671aeaf3)\" d=\"M 195.702897 224.64 \nL 195.702897 7.2 \n\" style=\"fill:none;stroke:#cccccc;stroke-linecap:round;stroke-width:0.8;\"/>\n     </g>\n     <g id=\"text_4\">\n      <!-- 2 -->\n      <g style=\"fill:#262626;\" transform=\"translate(192.922428 238.797812)scale(0.1 -0.1)\">\n       <use xlink:href=\"#ArialMT-50\"/>\n      </g>\n     </g>\n    </g>\n    <g id=\"xtick_5\">\n     <g id=\"line2d_5\">\n      <path clip-path=\"url(#pc9671aeaf3)\" d=\"M 236.663876 224.64 \nL 236.663876 7.2 \n\" style=\"fill:none;stroke:#cccccc;stroke-linecap:round;stroke-width:0.8;\"/>\n     </g>\n     <g id=\"text_5\">\n      <!-- 4 -->\n      <g style=\"fill:#262626;\" transform=\"translate(233.883407 238.797812)scale(0.1 -0.1)\">\n       <use xlink:href=\"#ArialMT-52\"/>\n      </g>\n     </g>\n    </g>\n    <g id=\"xtick_6\">\n     <g id=\"line2d_6\">\n      <path clip-path=\"url(#pc9671aeaf3)\" d=\"M 277.624855 224.64 \nL 277.624855 7.2 \n\" style=\"fill:none;stroke:#cccccc;stroke-linecap:round;stroke-width:0.8;\"/>\n     </g>\n     <g id=\"text_6\">\n      <!-- 6 -->\n      <g style=\"fill:#262626;\" transform=\"translate(274.844386 238.797812)scale(0.1 -0.1)\">\n       <defs>\n        <path d=\"M 49.75 54.046875 \nL 41.015625 53.375 \nQ 39.84375 58.546875 37.703125 60.890625 \nQ 34.125 64.65625 28.90625 64.65625 \nQ 24.703125 64.65625 21.53125 62.3125 \nQ 17.390625 59.28125 14.984375 53.46875 \nQ 12.59375 47.65625 12.5 36.921875 \nQ 15.671875 41.75 20.265625 44.09375 \nQ 24.859375 46.4375 29.890625 46.4375 \nQ 38.671875 46.4375 44.84375 39.96875 \nQ 51.03125 33.5 51.03125 23.25 \nQ 51.03125 16.5 48.125 10.71875 \nQ 45.21875 4.9375 40.140625 1.859375 \nQ 35.0625 -1.21875 28.609375 -1.21875 \nQ 17.625 -1.21875 10.6875 6.859375 \nQ 3.765625 14.9375 3.765625 33.5 \nQ 3.765625 54.25 11.421875 63.671875 \nQ 18.109375 71.875 29.4375 71.875 \nQ 37.890625 71.875 43.28125 67.140625 \nQ 48.6875 62.40625 49.75 54.046875 \nz\nM 13.875 23.1875 \nQ 13.875 18.65625 15.796875 14.5 \nQ 17.71875 10.359375 21.1875 8.171875 \nQ 24.65625 6 28.46875 6 \nQ 34.03125 6 38.03125 10.484375 \nQ 42.046875 14.984375 42.046875 22.703125 \nQ 42.046875 30.125 38.078125 34.390625 \nQ 34.125 38.671875 28.125 38.671875 \nQ 22.171875 38.671875 18.015625 34.390625 \nQ 13.875 30.125 13.875 23.1875 \nz\n\" id=\"ArialMT-54\"/>\n       </defs>\n       <use xlink:href=\"#ArialMT-54\"/>\n      </g>\n     </g>\n    </g>\n    <g id=\"xtick_7\">\n     <g id=\"line2d_7\">\n      <path clip-path=\"url(#pc9671aeaf3)\" d=\"M 318.585834 224.64 \nL 318.585834 7.2 \n\" style=\"fill:none;stroke:#cccccc;stroke-linecap:round;stroke-width:0.8;\"/>\n     </g>\n     <g id=\"text_7\">\n      <!-- 8 -->\n      <g style=\"fill:#262626;\" transform=\"translate(315.805365 238.797812)scale(0.1 -0.1)\">\n       <defs>\n        <path d=\"M 17.671875 38.8125 \nQ 12.203125 40.828125 9.5625 44.53125 \nQ 6.9375 48.25 6.9375 53.421875 \nQ 6.9375 61.234375 12.546875 66.546875 \nQ 18.171875 71.875 27.484375 71.875 \nQ 36.859375 71.875 42.578125 66.421875 \nQ 48.296875 60.984375 48.296875 53.171875 \nQ 48.296875 48.1875 45.671875 44.5 \nQ 43.0625 40.828125 37.75 38.8125 \nQ 44.34375 36.671875 47.78125 31.875 \nQ 51.21875 27.09375 51.21875 20.453125 \nQ 51.21875 11.28125 44.71875 5.03125 \nQ 38.234375 -1.21875 27.640625 -1.21875 \nQ 17.046875 -1.21875 10.546875 5.046875 \nQ 4.046875 11.328125 4.046875 20.703125 \nQ 4.046875 27.6875 7.59375 32.390625 \nQ 11.140625 37.109375 17.671875 38.8125 \nz\nM 15.921875 53.71875 \nQ 15.921875 48.640625 19.1875 45.40625 \nQ 22.46875 42.1875 27.6875 42.1875 \nQ 32.765625 42.1875 36.015625 45.375 \nQ 39.265625 48.578125 39.265625 53.21875 \nQ 39.265625 58.0625 35.90625 61.359375 \nQ 32.5625 64.65625 27.59375 64.65625 \nQ 22.5625 64.65625 19.234375 61.421875 \nQ 15.921875 58.203125 15.921875 53.71875 \nz\nM 13.09375 20.65625 \nQ 13.09375 16.890625 14.875 13.375 \nQ 16.65625 9.859375 20.171875 7.921875 \nQ 23.6875 6 27.734375 6 \nQ 34.03125 6 38.125 10.046875 \nQ 42.234375 14.109375 42.234375 20.359375 \nQ 42.234375 26.703125 38.015625 30.859375 \nQ 33.796875 35.015625 27.4375 35.015625 \nQ 21.234375 35.015625 17.15625 30.90625 \nQ 13.09375 26.8125 13.09375 20.65625 \nz\n\" id=\"ArialMT-56\"/>\n       </defs>\n       <use xlink:href=\"#ArialMT-56\"/>\n      </g>\n     </g>\n    </g>\n    <g id=\"xtick_8\">\n     <g id=\"line2d_8\">\n      <path clip-path=\"url(#pc9671aeaf3)\" d=\"M 359.546813 224.64 \nL 359.546813 7.2 \n\" style=\"fill:none;stroke:#cccccc;stroke-linecap:round;stroke-width:0.8;\"/>\n     </g>\n     <g id=\"text_8\">\n      <!-- 10 -->\n      <g style=\"fill:#262626;\" transform=\"translate(353.985875 238.797812)scale(0.1 -0.1)\">\n       <defs>\n        <path d=\"M 37.25 0 \nL 28.46875 0 \nL 28.46875 56 \nQ 25.296875 52.984375 20.140625 49.953125 \nQ 14.984375 46.921875 10.890625 45.40625 \nL 10.890625 53.90625 \nQ 18.265625 57.375 23.78125 62.296875 \nQ 29.296875 67.234375 31.59375 71.875 \nL 37.25 71.875 \nz\n\" id=\"ArialMT-49\"/>\n       </defs>\n       <use xlink:href=\"#ArialMT-49\"/>\n       <use x=\"55.615234\" xlink:href=\"#ArialMT-48\"/>\n      </g>\n     </g>\n    </g>\n   </g>\n   <g id=\"matplotlib.axis_2\">\n    <g id=\"ytick_1\">\n     <g id=\"line2d_9\">\n      <path clip-path=\"url(#pc9671aeaf3)\" d=\"M 46.923438 224.64 \nL 381.723437 224.64 \n\" style=\"fill:none;stroke:#cccccc;stroke-linecap:round;stroke-width:0.8;\"/>\n     </g>\n     <g id=\"text_9\">\n      <!-- 0.00 -->\n      <g style=\"fill:#262626;\" transform=\"translate(20.4625 228.218906)scale(0.1 -0.1)\">\n       <defs>\n        <path d=\"M 9.078125 0 \nL 9.078125 10.015625 \nL 19.09375 10.015625 \nL 19.09375 0 \nz\n\" id=\"ArialMT-46\"/>\n       </defs>\n       <use xlink:href=\"#ArialMT-48\"/>\n       <use x=\"55.615234\" xlink:href=\"#ArialMT-46\"/>\n       <use x=\"83.398438\" xlink:href=\"#ArialMT-48\"/>\n       <use x=\"139.013672\" xlink:href=\"#ArialMT-48\"/>\n      </g>\n     </g>\n    </g>\n    <g id=\"ytick_2\">\n     <g id=\"line2d_10\">\n      <path clip-path=\"url(#pc9671aeaf3)\" d=\"M 46.923438 198.70074 \nL 381.723437 198.70074 \n\" style=\"fill:none;stroke:#cccccc;stroke-linecap:round;stroke-width:0.8;\"/>\n     </g>\n     <g id=\"text_10\">\n      <!-- 0.05 -->\n      <g style=\"fill:#262626;\" transform=\"translate(20.4625 202.279646)scale(0.1 -0.1)\">\n       <defs>\n        <path d=\"M 4.15625 18.75 \nL 13.375 19.53125 \nQ 14.40625 12.796875 18.140625 9.390625 \nQ 21.875 6 27.15625 6 \nQ 33.5 6 37.890625 10.78125 \nQ 42.28125 15.578125 42.28125 23.484375 \nQ 42.28125 31 38.0625 35.34375 \nQ 33.84375 39.703125 27 39.703125 \nQ 22.75 39.703125 19.328125 37.765625 \nQ 15.921875 35.84375 13.96875 32.765625 \nL 5.71875 33.84375 \nL 12.640625 70.609375 \nL 48.25 70.609375 \nL 48.25 62.203125 \nL 19.671875 62.203125 \nL 15.828125 42.96875 \nQ 22.265625 47.46875 29.34375 47.46875 \nQ 38.71875 47.46875 45.15625 40.96875 \nQ 51.609375 34.46875 51.609375 24.265625 \nQ 51.609375 14.546875 45.953125 7.46875 \nQ 39.0625 -1.21875 27.15625 -1.21875 \nQ 17.390625 -1.21875 11.203125 4.25 \nQ 5.03125 9.71875 4.15625 18.75 \nz\n\" id=\"ArialMT-53\"/>\n       </defs>\n       <use xlink:href=\"#ArialMT-48\"/>\n       <use x=\"55.615234\" xlink:href=\"#ArialMT-46\"/>\n       <use x=\"83.398438\" xlink:href=\"#ArialMT-48\"/>\n       <use x=\"139.013672\" xlink:href=\"#ArialMT-53\"/>\n      </g>\n     </g>\n    </g>\n    <g id=\"ytick_3\">\n     <g id=\"line2d_11\">\n      <path clip-path=\"url(#pc9671aeaf3)\" d=\"M 46.923438 172.76148 \nL 381.723437 172.76148 \n\" style=\"fill:none;stroke:#cccccc;stroke-linecap:round;stroke-width:0.8;\"/>\n     </g>\n     <g id=\"text_11\">\n      <!-- 0.10 -->\n      <g style=\"fill:#262626;\" transform=\"translate(20.4625 176.340386)scale(0.1 -0.1)\">\n       <use xlink:href=\"#ArialMT-48\"/>\n       <use x=\"55.615234\" xlink:href=\"#ArialMT-46\"/>\n       <use x=\"83.398438\" xlink:href=\"#ArialMT-49\"/>\n       <use x=\"139.013672\" xlink:href=\"#ArialMT-48\"/>\n      </g>\n     </g>\n    </g>\n    <g id=\"ytick_4\">\n     <g id=\"line2d_12\">\n      <path clip-path=\"url(#pc9671aeaf3)\" d=\"M 46.923438 146.822219 \nL 381.723437 146.822219 \n\" style=\"fill:none;stroke:#cccccc;stroke-linecap:round;stroke-width:0.8;\"/>\n     </g>\n     <g id=\"text_12\">\n      <!-- 0.15 -->\n      <g style=\"fill:#262626;\" transform=\"translate(20.4625 150.401126)scale(0.1 -0.1)\">\n       <use xlink:href=\"#ArialMT-48\"/>\n       <use x=\"55.615234\" xlink:href=\"#ArialMT-46\"/>\n       <use x=\"83.398438\" xlink:href=\"#ArialMT-49\"/>\n       <use x=\"139.013672\" xlink:href=\"#ArialMT-53\"/>\n      </g>\n     </g>\n    </g>\n    <g id=\"ytick_5\">\n     <g id=\"line2d_13\">\n      <path clip-path=\"url(#pc9671aeaf3)\" d=\"M 46.923438 120.882959 \nL 381.723437 120.882959 \n\" style=\"fill:none;stroke:#cccccc;stroke-linecap:round;stroke-width:0.8;\"/>\n     </g>\n     <g id=\"text_13\">\n      <!-- 0.20 -->\n      <g style=\"fill:#262626;\" transform=\"translate(20.4625 124.461866)scale(0.1 -0.1)\">\n       <use xlink:href=\"#ArialMT-48\"/>\n       <use x=\"55.615234\" xlink:href=\"#ArialMT-46\"/>\n       <use x=\"83.398438\" xlink:href=\"#ArialMT-50\"/>\n       <use x=\"139.013672\" xlink:href=\"#ArialMT-48\"/>\n      </g>\n     </g>\n    </g>\n    <g id=\"ytick_6\">\n     <g id=\"line2d_14\">\n      <path clip-path=\"url(#pc9671aeaf3)\" d=\"M 46.923438 94.943699 \nL 381.723437 94.943699 \n\" style=\"fill:none;stroke:#cccccc;stroke-linecap:round;stroke-width:0.8;\"/>\n     </g>\n     <g id=\"text_14\">\n      <!-- 0.25 -->\n      <g style=\"fill:#262626;\" transform=\"translate(20.4625 98.522605)scale(0.1 -0.1)\">\n       <use xlink:href=\"#ArialMT-48\"/>\n       <use x=\"55.615234\" xlink:href=\"#ArialMT-46\"/>\n       <use x=\"83.398438\" xlink:href=\"#ArialMT-50\"/>\n       <use x=\"139.013672\" xlink:href=\"#ArialMT-53\"/>\n      </g>\n     </g>\n    </g>\n    <g id=\"ytick_7\">\n     <g id=\"line2d_15\">\n      <path clip-path=\"url(#pc9671aeaf3)\" d=\"M 46.923438 69.004439 \nL 381.723437 69.004439 \n\" style=\"fill:none;stroke:#cccccc;stroke-linecap:round;stroke-width:0.8;\"/>\n     </g>\n     <g id=\"text_15\">\n      <!-- 0.30 -->\n      <g style=\"fill:#262626;\" transform=\"translate(20.4625 72.583345)scale(0.1 -0.1)\">\n       <defs>\n        <path d=\"M 4.203125 18.890625 \nL 12.984375 20.0625 \nQ 14.5 12.59375 18.140625 9.296875 \nQ 21.78125 6 27 6 \nQ 33.203125 6 37.46875 10.296875 \nQ 41.75 14.59375 41.75 20.953125 \nQ 41.75 27 37.796875 30.921875 \nQ 33.84375 34.859375 27.734375 34.859375 \nQ 25.25 34.859375 21.53125 33.890625 \nL 22.515625 41.609375 \nQ 23.390625 41.5 23.921875 41.5 \nQ 29.546875 41.5 34.03125 44.421875 \nQ 38.53125 47.359375 38.53125 53.46875 \nQ 38.53125 58.296875 35.25 61.46875 \nQ 31.984375 64.65625 26.8125 64.65625 \nQ 21.6875 64.65625 18.265625 61.421875 \nQ 14.84375 58.203125 13.875 51.765625 \nL 5.078125 53.328125 \nQ 6.6875 62.15625 12.390625 67.015625 \nQ 18.109375 71.875 26.609375 71.875 \nQ 32.46875 71.875 37.390625 69.359375 \nQ 42.328125 66.84375 44.9375 62.5 \nQ 47.5625 58.15625 47.5625 53.265625 \nQ 47.5625 48.640625 45.0625 44.828125 \nQ 42.578125 41.015625 37.703125 38.765625 \nQ 44.046875 37.3125 47.5625 32.6875 \nQ 51.078125 28.078125 51.078125 21.140625 \nQ 51.078125 11.765625 44.234375 5.25 \nQ 37.40625 -1.265625 26.953125 -1.265625 \nQ 17.53125 -1.265625 11.296875 4.34375 \nQ 5.078125 9.96875 4.203125 18.890625 \nz\n\" id=\"ArialMT-51\"/>\n       </defs>\n       <use xlink:href=\"#ArialMT-48\"/>\n       <use x=\"55.615234\" xlink:href=\"#ArialMT-46\"/>\n       <use x=\"83.398438\" xlink:href=\"#ArialMT-51\"/>\n       <use x=\"139.013672\" xlink:href=\"#ArialMT-48\"/>\n      </g>\n     </g>\n    </g>\n    <g id=\"ytick_8\">\n     <g id=\"line2d_16\">\n      <path clip-path=\"url(#pc9671aeaf3)\" d=\"M 46.923438 43.065179 \nL 381.723437 43.065179 \n\" style=\"fill:none;stroke:#cccccc;stroke-linecap:round;stroke-width:0.8;\"/>\n     </g>\n     <g id=\"text_16\">\n      <!-- 0.35 -->\n      <g style=\"fill:#262626;\" transform=\"translate(20.4625 46.644085)scale(0.1 -0.1)\">\n       <use xlink:href=\"#ArialMT-48\"/>\n       <use x=\"55.615234\" xlink:href=\"#ArialMT-46\"/>\n       <use x=\"83.398438\" xlink:href=\"#ArialMT-51\"/>\n       <use x=\"139.013672\" xlink:href=\"#ArialMT-53\"/>\n      </g>\n     </g>\n    </g>\n    <g id=\"ytick_9\">\n     <g id=\"line2d_17\">\n      <path clip-path=\"url(#pc9671aeaf3)\" d=\"M 46.923438 17.125919 \nL 381.723437 17.125919 \n\" style=\"fill:none;stroke:#cccccc;stroke-linecap:round;stroke-width:0.8;\"/>\n     </g>\n     <g id=\"text_17\">\n      <!-- 0.40 -->\n      <g style=\"fill:#262626;\" transform=\"translate(20.4625 20.704825)scale(0.1 -0.1)\">\n       <use xlink:href=\"#ArialMT-48\"/>\n       <use x=\"55.615234\" xlink:href=\"#ArialMT-46\"/>\n       <use x=\"83.398438\" xlink:href=\"#ArialMT-52\"/>\n       <use x=\"139.013672\" xlink:href=\"#ArialMT-48\"/>\n      </g>\n     </g>\n    </g>\n    <g id=\"text_18\">\n     <!-- Density -->\n     <g style=\"fill:#262626;\" transform=\"translate(14.357813 132.591875)rotate(-90)scale(0.1 -0.1)\">\n      <defs>\n       <path d=\"M 7.71875 0 \nL 7.71875 71.578125 \nL 32.375 71.578125 \nQ 40.71875 71.578125 45.125 70.5625 \nQ 51.265625 69.140625 55.609375 65.4375 \nQ 61.28125 60.640625 64.078125 53.1875 \nQ 66.890625 45.75 66.890625 36.1875 \nQ 66.890625 28.03125 64.984375 21.734375 \nQ 63.09375 15.4375 60.109375 11.296875 \nQ 57.125 7.171875 53.578125 4.796875 \nQ 50.046875 2.4375 45.046875 1.21875 \nQ 40.046875 0 33.546875 0 \nz\nM 17.1875 8.453125 \nL 32.46875 8.453125 \nQ 39.546875 8.453125 43.578125 9.765625 \nQ 47.609375 11.078125 50 13.484375 \nQ 53.375 16.84375 55.25 22.53125 \nQ 57.125 28.21875 57.125 36.328125 \nQ 57.125 47.5625 53.4375 53.59375 \nQ 49.75 59.625 44.484375 61.671875 \nQ 40.671875 63.140625 32.234375 63.140625 \nL 17.1875 63.140625 \nz\n\" id=\"ArialMT-68\"/>\n       <path d=\"M 42.09375 16.703125 \nL 51.171875 15.578125 \nQ 49.03125 7.625 43.21875 3.21875 \nQ 37.40625 -1.171875 28.375 -1.171875 \nQ 17 -1.171875 10.328125 5.828125 \nQ 3.65625 12.84375 3.65625 25.484375 \nQ 3.65625 38.578125 10.390625 45.796875 \nQ 17.140625 53.03125 27.875 53.03125 \nQ 38.28125 53.03125 44.875 45.953125 \nQ 51.46875 38.875 51.46875 26.03125 \nQ 51.46875 25.25 51.421875 23.6875 \nL 12.75 23.6875 \nQ 13.234375 15.140625 17.578125 10.59375 \nQ 21.921875 6.0625 28.421875 6.0625 \nQ 33.25 6.0625 36.671875 8.59375 \nQ 40.09375 11.140625 42.09375 16.703125 \nz\nM 13.234375 30.90625 \nL 42.1875 30.90625 \nQ 41.609375 37.453125 38.875 40.71875 \nQ 34.671875 45.796875 27.984375 45.796875 \nQ 21.921875 45.796875 17.796875 41.75 \nQ 13.671875 37.703125 13.234375 30.90625 \nz\n\" id=\"ArialMT-101\"/>\n       <path d=\"M 6.59375 0 \nL 6.59375 51.859375 \nL 14.5 51.859375 \nL 14.5 44.484375 \nQ 20.21875 53.03125 31 53.03125 \nQ 35.6875 53.03125 39.625 51.34375 \nQ 43.5625 49.65625 45.515625 46.921875 \nQ 47.46875 44.1875 48.25 40.4375 \nQ 48.734375 37.984375 48.734375 31.890625 \nL 48.734375 0 \nL 39.9375 0 \nL 39.9375 31.546875 \nQ 39.9375 36.921875 38.90625 39.578125 \nQ 37.890625 42.234375 35.28125 43.8125 \nQ 32.671875 45.40625 29.15625 45.40625 \nQ 23.53125 45.40625 19.453125 41.84375 \nQ 15.375 38.28125 15.375 28.328125 \nL 15.375 0 \nz\n\" id=\"ArialMT-110\"/>\n       <path d=\"M 3.078125 15.484375 \nL 11.765625 16.84375 \nQ 12.5 11.625 15.84375 8.84375 \nQ 19.1875 6.0625 25.203125 6.0625 \nQ 31.25 6.0625 34.171875 8.515625 \nQ 37.109375 10.984375 37.109375 14.3125 \nQ 37.109375 17.28125 34.515625 19 \nQ 32.71875 20.171875 25.53125 21.96875 \nQ 15.875 24.421875 12.140625 26.203125 \nQ 8.40625 27.984375 6.46875 31.125 \nQ 4.546875 34.28125 4.546875 38.09375 \nQ 4.546875 41.546875 6.125 44.5 \nQ 7.71875 47.46875 10.453125 49.421875 \nQ 12.5 50.921875 16.03125 51.96875 \nQ 19.578125 53.03125 23.640625 53.03125 \nQ 29.734375 53.03125 34.34375 51.265625 \nQ 38.96875 49.515625 41.15625 46.5 \nQ 43.359375 43.5 44.1875 38.484375 \nL 35.59375 37.3125 \nQ 35.015625 41.3125 32.203125 43.546875 \nQ 29.390625 45.796875 24.265625 45.796875 \nQ 18.21875 45.796875 15.625 43.796875 \nQ 13.03125 41.796875 13.03125 39.109375 \nQ 13.03125 37.40625 14.109375 36.03125 \nQ 15.1875 34.625 17.484375 33.6875 \nQ 18.796875 33.203125 25.25 31.453125 \nQ 34.578125 28.953125 38.25 27.359375 \nQ 41.9375 25.78125 44.03125 22.75 \nQ 46.140625 19.734375 46.140625 15.234375 \nQ 46.140625 10.84375 43.578125 6.953125 \nQ 41.015625 3.078125 36.171875 0.953125 \nQ 31.34375 -1.171875 25.25 -1.171875 \nQ 15.140625 -1.171875 9.84375 3.03125 \nQ 4.546875 7.234375 3.078125 15.484375 \nz\n\" id=\"ArialMT-115\"/>\n       <path d=\"M 6.640625 61.46875 \nL 6.640625 71.578125 \nL 15.4375 71.578125 \nL 15.4375 61.46875 \nz\nM 6.640625 0 \nL 6.640625 51.859375 \nL 15.4375 51.859375 \nL 15.4375 0 \nz\n\" id=\"ArialMT-105\"/>\n       <path d=\"M 25.78125 7.859375 \nL 27.046875 0.09375 \nQ 23.34375 -0.6875 20.40625 -0.6875 \nQ 15.625 -0.6875 12.984375 0.828125 \nQ 10.359375 2.34375 9.28125 4.8125 \nQ 8.203125 7.28125 8.203125 15.1875 \nL 8.203125 45.015625 \nL 1.765625 45.015625 \nL 1.765625 51.859375 \nL 8.203125 51.859375 \nL 8.203125 64.703125 \nL 16.9375 69.96875 \nL 16.9375 51.859375 \nL 25.78125 51.859375 \nL 25.78125 45.015625 \nL 16.9375 45.015625 \nL 16.9375 14.703125 \nQ 16.9375 10.9375 17.40625 9.859375 \nQ 17.875 8.796875 18.921875 8.15625 \nQ 19.96875 7.515625 21.921875 7.515625 \nQ 23.390625 7.515625 25.78125 7.859375 \nz\n\" id=\"ArialMT-116\"/>\n       <path d=\"M 6.203125 -19.96875 \nL 5.21875 -11.71875 \nQ 8.109375 -12.5 10.25 -12.5 \nQ 13.1875 -12.5 14.9375 -11.515625 \nQ 16.703125 -10.546875 17.828125 -8.796875 \nQ 18.65625 -7.46875 20.515625 -2.25 \nQ 20.75 -1.515625 21.296875 -0.09375 \nL 1.609375 51.859375 \nL 11.078125 51.859375 \nL 21.875 21.828125 \nQ 23.96875 16.109375 25.640625 9.8125 \nQ 27.15625 15.875 29.25 21.625 \nL 40.328125 51.859375 \nL 49.125 51.859375 \nL 29.390625 -0.875 \nQ 26.21875 -9.421875 24.46875 -12.640625 \nQ 22.125 -17 19.09375 -19.015625 \nQ 16.0625 -21.046875 11.859375 -21.046875 \nQ 9.328125 -21.046875 6.203125 -19.96875 \nz\n\" id=\"ArialMT-121\"/>\n      </defs>\n      <use xlink:href=\"#ArialMT-68\"/>\n      <use x=\"72.216797\" xlink:href=\"#ArialMT-101\"/>\n      <use x=\"127.832031\" xlink:href=\"#ArialMT-110\"/>\n      <use x=\"183.447266\" xlink:href=\"#ArialMT-115\"/>\n      <use x=\"233.447266\" xlink:href=\"#ArialMT-105\"/>\n      <use x=\"255.664062\" xlink:href=\"#ArialMT-116\"/>\n      <use x=\"283.447266\" xlink:href=\"#ArialMT-121\"/>\n     </g>\n    </g>\n   </g>\n   <g id=\"patch_3\">\n    <path clip-path=\"url(#pc9671aeaf3)\" d=\"M 81.813869 224.64 \nL 87.452574 224.64 \nL 87.452574 222.774363 \nL 81.813869 222.774363 \nz\n\" style=\"fill:#1f77b4;opacity:0.4;stroke:#ffffff;stroke-linejoin:miter;\"/>\n   </g>\n   <g id=\"patch_4\">\n    <path clip-path=\"url(#pc9671aeaf3)\" d=\"M 87.452574 224.64 \nL 93.091279 224.64 \nL 93.091279 222.774363 \nL 87.452574 222.774363 \nz\n\" style=\"fill:#1f77b4;opacity:0.4;stroke:#ffffff;stroke-linejoin:miter;\"/>\n   </g>\n   <g id=\"patch_5\">\n    <path clip-path=\"url(#pc9671aeaf3)\" d=\"M 93.091279 224.64 \nL 98.729984 224.64 \nL 98.729984 220.908726 \nL 93.091279 220.908726 \nz\n\" style=\"fill:#1f77b4;opacity:0.4;stroke:#ffffff;stroke-linejoin:miter;\"/>\n   </g>\n   <g id=\"patch_6\">\n    <path clip-path=\"url(#pc9671aeaf3)\" d=\"M 98.729984 224.64 \nL 104.368689 224.64 \nL 104.368689 219.043089 \nL 98.729984 219.043089 \nz\n\" style=\"fill:#1f77b4;opacity:0.4;stroke:#ffffff;stroke-linejoin:miter;\"/>\n   </g>\n   <g id=\"patch_7\">\n    <path clip-path=\"url(#pc9671aeaf3)\" d=\"M 104.368689 224.64 \nL 110.007394 224.64 \nL 110.007394 219.043089 \nL 104.368689 219.043089 \nz\n\" style=\"fill:#1f77b4;opacity:0.4;stroke:#ffffff;stroke-linejoin:miter;\"/>\n   </g>\n   <g id=\"patch_8\">\n    <path clip-path=\"url(#pc9671aeaf3)\" d=\"M 110.007394 224.64 \nL 115.646099 224.64 \nL 115.646099 191.058533 \nL 110.007394 191.058533 \nz\n\" style=\"fill:#1f77b4;opacity:0.4;stroke:#ffffff;stroke-linejoin:miter;\"/>\n   </g>\n   <g id=\"patch_9\">\n    <path clip-path=\"url(#pc9671aeaf3)\" d=\"M 115.646099 224.64 \nL 121.284804 224.64 \nL 121.284804 181.730347 \nL 115.646099 181.730347 \nz\n\" style=\"fill:#1f77b4;opacity:0.4;stroke:#ffffff;stroke-linejoin:miter;\"/>\n   </g>\n   <g id=\"patch_10\">\n    <path clip-path=\"url(#pc9671aeaf3)\" d=\"M 121.284804 224.64 \nL 126.923509 224.64 \nL 126.923509 164.939614 \nL 121.284804 164.939614 \nz\n\" style=\"fill:#1f77b4;opacity:0.4;stroke:#ffffff;stroke-linejoin:miter;\"/>\n   </g>\n   <g id=\"patch_11\">\n    <path clip-path=\"url(#pc9671aeaf3)\" d=\"M 126.923509 224.64 \nL 132.562214 224.64 \nL 132.562214 116.43305 \nL 126.923509 116.43305 \nz\n\" style=\"fill:#1f77b4;opacity:0.4;stroke:#ffffff;stroke-linejoin:miter;\"/>\n   </g>\n   <g id=\"patch_12\">\n    <path clip-path=\"url(#pc9671aeaf3)\" d=\"M 132.562214 224.64 \nL 138.200919 224.64 \nL 138.200919 84.71722 \nL 132.562214 84.71722 \nz\n\" style=\"fill:#1f77b4;opacity:0.4;stroke:#ffffff;stroke-linejoin:miter;\"/>\n   </g>\n   <g id=\"patch_13\">\n    <path clip-path=\"url(#pc9671aeaf3)\" d=\"M 138.200919 224.64 \nL 143.839625 224.64 \nL 143.839625 77.254672 \nL 138.200919 77.254672 \nz\n\" style=\"fill:#1f77b4;opacity:0.4;stroke:#ffffff;stroke-linejoin:miter;\"/>\n   </g>\n   <g id=\"patch_14\">\n    <path clip-path=\"url(#pc9671aeaf3)\" d=\"M 143.839625 224.64 \nL 149.47833 224.64 \nL 149.47833 28.748108 \nL 143.839625 28.748108 \nz\n\" style=\"fill:#1f77b4;opacity:0.4;stroke:#ffffff;stroke-linejoin:miter;\"/>\n   </g>\n   <g id=\"patch_15\">\n    <path clip-path=\"url(#pc9671aeaf3)\" d=\"M 149.47833 224.64 \nL 155.117035 224.64 \nL 155.117035 17.554286 \nL 149.47833 17.554286 \nz\n\" style=\"fill:#1f77b4;opacity:0.4;stroke:#ffffff;stroke-linejoin:miter;\"/>\n   </g>\n   <g id=\"patch_16\">\n    <path clip-path=\"url(#pc9671aeaf3)\" d=\"M 155.117035 224.64 \nL 160.75574 224.64 \nL 160.75574 21.28556 \nL 155.117035 21.28556 \nz\n\" style=\"fill:#1f77b4;opacity:0.4;stroke:#ffffff;stroke-linejoin:miter;\"/>\n   </g>\n   <g id=\"patch_17\">\n    <path clip-path=\"url(#pc9671aeaf3)\" d=\"M 160.75574 224.64 \nL 166.394445 224.64 \nL 166.394445 69.792124 \nL 160.75574 69.792124 \nz\n\" style=\"fill:#1f77b4;opacity:0.4;stroke:#ffffff;stroke-linejoin:miter;\"/>\n   </g>\n   <g id=\"patch_18\">\n    <path clip-path=\"url(#pc9671aeaf3)\" d=\"M 166.394445 224.64 \nL 172.03315 224.64 \nL 172.03315 73.523398 \nL 166.394445 73.523398 \nz\n\" style=\"fill:#1f77b4;opacity:0.4;stroke:#ffffff;stroke-linejoin:miter;\"/>\n   </g>\n   <g id=\"patch_19\">\n    <path clip-path=\"url(#pc9671aeaf3)\" d=\"M 172.03315 224.64 \nL 177.671855 224.64 \nL 177.671855 107.104865 \nL 172.03315 107.104865 \nz\n\" style=\"fill:#1f77b4;opacity:0.4;stroke:#ffffff;stroke-linejoin:miter;\"/>\n   </g>\n   <g id=\"patch_20\">\n    <path clip-path=\"url(#pc9671aeaf3)\" d=\"M 177.671855 224.64 \nL 183.31056 224.64 \nL 183.31056 112.701776 \nL 177.671855 112.701776 \nz\n\" style=\"fill:#1f77b4;opacity:0.4;stroke:#ffffff;stroke-linejoin:miter;\"/>\n   </g>\n   <g id=\"patch_21\">\n    <path clip-path=\"url(#pc9671aeaf3)\" d=\"M 183.31056 224.64 \nL 188.949265 224.64 \nL 188.949265 138.820695 \nL 183.31056 138.820695 \nz\n\" style=\"fill:#1f77b4;opacity:0.4;stroke:#ffffff;stroke-linejoin:miter;\"/>\n   </g>\n   <g id=\"patch_22\">\n    <path clip-path=\"url(#pc9671aeaf3)\" d=\"M 188.949265 224.64 \nL 194.58797 224.64 \nL 194.58797 185.461622 \nL 188.949265 185.461622 \nz\n\" style=\"fill:#1f77b4;opacity:0.4;stroke:#ffffff;stroke-linejoin:miter;\"/>\n   </g>\n   <g id=\"patch_23\">\n    <path clip-path=\"url(#pc9671aeaf3)\" d=\"M 194.58797 224.64 \nL 200.226675 224.64 \nL 200.226675 198.521081 \nL 194.58797 198.521081 \nz\n\" style=\"fill:#1f77b4;opacity:0.4;stroke:#ffffff;stroke-linejoin:miter;\"/>\n   </g>\n   <g id=\"patch_24\">\n    <path clip-path=\"url(#pc9671aeaf3)\" d=\"M 200.226675 224.64 \nL 205.86538 224.64 \nL 205.86538 213.446178 \nL 200.226675 213.446178 \nz\n\" style=\"fill:#1f77b4;opacity:0.4;stroke:#ffffff;stroke-linejoin:miter;\"/>\n   </g>\n   <g id=\"patch_25\">\n    <path clip-path=\"url(#pc9671aeaf3)\" d=\"M 205.86538 224.64 \nL 211.504085 224.64 \nL 211.504085 217.177452 \nL 205.86538 217.177452 \nz\n\" style=\"fill:#1f77b4;opacity:0.4;stroke:#ffffff;stroke-linejoin:miter;\"/>\n   </g>\n   <g id=\"patch_26\">\n    <path clip-path=\"url(#pc9671aeaf3)\" d=\"M 211.504085 224.64 \nL 217.14279 224.64 \nL 217.14279 220.908726 \nL 211.504085 220.908726 \nz\n\" style=\"fill:#1f77b4;opacity:0.4;stroke:#ffffff;stroke-linejoin:miter;\"/>\n   </g>\n   <g id=\"patch_27\">\n    <path clip-path=\"url(#pc9671aeaf3)\" d=\"M 217.14279 224.64 \nL 222.781495 224.64 \nL 222.781495 224.64 \nL 217.14279 224.64 \nz\n\" style=\"fill:#1f77b4;opacity:0.4;stroke:#ffffff;stroke-linejoin:miter;\"/>\n   </g>\n   <g id=\"patch_28\">\n    <path clip-path=\"url(#pc9671aeaf3)\" d=\"M 222.781495 224.64 \nL 228.4202 224.64 \nL 228.4202 224.64 \nL 222.781495 224.64 \nz\n\" style=\"fill:#1f77b4;opacity:0.4;stroke:#ffffff;stroke-linejoin:miter;\"/>\n   </g>\n   <g id=\"patch_29\">\n    <path clip-path=\"url(#pc9671aeaf3)\" d=\"M 228.4202 224.64 \nL 234.058905 224.64 \nL 234.058905 224.64 \nL 228.4202 224.64 \nz\n\" style=\"fill:#1f77b4;opacity:0.4;stroke:#ffffff;stroke-linejoin:miter;\"/>\n   </g>\n   <g id=\"patch_30\">\n    <path clip-path=\"url(#pc9671aeaf3)\" d=\"M 234.058905 224.64 \nL 239.69761 224.64 \nL 239.69761 224.64 \nL 234.058905 224.64 \nz\n\" style=\"fill:#1f77b4;opacity:0.4;stroke:#ffffff;stroke-linejoin:miter;\"/>\n   </g>\n   <g id=\"patch_31\">\n    <path clip-path=\"url(#pc9671aeaf3)\" d=\"M 239.69761 224.64 \nL 245.336315 224.64 \nL 245.336315 224.64 \nL 239.69761 224.64 \nz\n\" style=\"fill:#1f77b4;opacity:0.4;stroke:#ffffff;stroke-linejoin:miter;\"/>\n   </g>\n   <g id=\"patch_32\">\n    <path clip-path=\"url(#pc9671aeaf3)\" d=\"M 245.336315 224.64 \nL 250.97502 224.64 \nL 250.97502 224.64 \nL 245.336315 224.64 \nz\n\" style=\"fill:#1f77b4;opacity:0.4;stroke:#ffffff;stroke-linejoin:miter;\"/>\n   </g>\n   <g id=\"patch_33\">\n    <path clip-path=\"url(#pc9671aeaf3)\" d=\"M 250.97502 224.64 \nL 256.613725 224.64 \nL 256.613725 224.64 \nL 250.97502 224.64 \nz\n\" style=\"fill:#1f77b4;opacity:0.4;stroke:#ffffff;stroke-linejoin:miter;\"/>\n   </g>\n   <g id=\"patch_34\">\n    <path clip-path=\"url(#pc9671aeaf3)\" d=\"M 256.613725 224.64 \nL 262.25243 224.64 \nL 262.25243 224.64 \nL 256.613725 224.64 \nz\n\" style=\"fill:#1f77b4;opacity:0.4;stroke:#ffffff;stroke-linejoin:miter;\"/>\n   </g>\n   <g id=\"patch_35\">\n    <path clip-path=\"url(#pc9671aeaf3)\" d=\"M 262.25243 224.64 \nL 267.891135 224.64 \nL 267.891135 224.64 \nL 262.25243 224.64 \nz\n\" style=\"fill:#1f77b4;opacity:0.4;stroke:#ffffff;stroke-linejoin:miter;\"/>\n   </g>\n   <g id=\"patch_36\">\n    <path clip-path=\"url(#pc9671aeaf3)\" d=\"M 267.891135 224.64 \nL 273.52984 224.64 \nL 273.52984 222.774363 \nL 267.891135 222.774363 \nz\n\" style=\"fill:#1f77b4;opacity:0.4;stroke:#ffffff;stroke-linejoin:miter;\"/>\n   </g>\n   <g id=\"patch_37\">\n    <path clip-path=\"url(#pc9671aeaf3)\" d=\"M 273.52984 224.64 \nL 279.168545 224.64 \nL 279.168545 222.774363 \nL 273.52984 222.774363 \nz\n\" style=\"fill:#1f77b4;opacity:0.4;stroke:#ffffff;stroke-linejoin:miter;\"/>\n   </g>\n   <g id=\"patch_38\">\n    <path clip-path=\"url(#pc9671aeaf3)\" d=\"M 279.168545 224.64 \nL 284.80725 224.64 \nL 284.80725 224.64 \nL 279.168545 224.64 \nz\n\" style=\"fill:#1f77b4;opacity:0.4;stroke:#ffffff;stroke-linejoin:miter;\"/>\n   </g>\n   <g id=\"patch_39\">\n    <path clip-path=\"url(#pc9671aeaf3)\" d=\"M 284.80725 224.64 \nL 290.445956 224.64 \nL 290.445956 224.64 \nL 284.80725 224.64 \nz\n\" style=\"fill:#1f77b4;opacity:0.4;stroke:#ffffff;stroke-linejoin:miter;\"/>\n   </g>\n   <g id=\"patch_40\">\n    <path clip-path=\"url(#pc9671aeaf3)\" d=\"M 290.445956 224.64 \nL 296.084661 224.64 \nL 296.084661 224.64 \nL 290.445956 224.64 \nz\n\" style=\"fill:#1f77b4;opacity:0.4;stroke:#ffffff;stroke-linejoin:miter;\"/>\n   </g>\n   <g id=\"patch_41\">\n    <path clip-path=\"url(#pc9671aeaf3)\" d=\"M 296.084661 224.64 \nL 301.723366 224.64 \nL 301.723366 224.64 \nL 296.084661 224.64 \nz\n\" style=\"fill:#1f77b4;opacity:0.4;stroke:#ffffff;stroke-linejoin:miter;\"/>\n   </g>\n   <g id=\"patch_42\">\n    <path clip-path=\"url(#pc9671aeaf3)\" d=\"M 301.723366 224.64 \nL 307.362071 224.64 \nL 307.362071 222.774363 \nL 301.723366 222.774363 \nz\n\" style=\"fill:#1f77b4;opacity:0.4;stroke:#ffffff;stroke-linejoin:miter;\"/>\n   </g>\n   <g id=\"patch_43\">\n    <path clip-path=\"url(#pc9671aeaf3)\" d=\"M 307.362071 224.64 \nL 313.000776 224.64 \nL 313.000776 222.774363 \nL 307.362071 222.774363 \nz\n\" style=\"fill:#1f77b4;opacity:0.4;stroke:#ffffff;stroke-linejoin:miter;\"/>\n   </g>\n   <g id=\"patch_44\">\n    <path clip-path=\"url(#pc9671aeaf3)\" d=\"M 313.000776 224.64 \nL 318.639481 224.64 \nL 318.639481 222.774363 \nL 313.000776 222.774363 \nz\n\" style=\"fill:#1f77b4;opacity:0.4;stroke:#ffffff;stroke-linejoin:miter;\"/>\n   </g>\n   <g id=\"patch_45\">\n    <path clip-path=\"url(#pc9671aeaf3)\" d=\"M 318.639481 224.64 \nL 324.278186 224.64 \nL 324.278186 222.774363 \nL 318.639481 222.774363 \nz\n\" style=\"fill:#1f77b4;opacity:0.4;stroke:#ffffff;stroke-linejoin:miter;\"/>\n   </g>\n   <g id=\"patch_46\">\n    <path clip-path=\"url(#pc9671aeaf3)\" d=\"M 324.278186 224.64 \nL 329.916891 224.64 \nL 329.916891 222.774363 \nL 324.278186 222.774363 \nz\n\" style=\"fill:#1f77b4;opacity:0.4;stroke:#ffffff;stroke-linejoin:miter;\"/>\n   </g>\n   <g id=\"patch_47\">\n    <path clip-path=\"url(#pc9671aeaf3)\" d=\"M 329.916891 224.64 \nL 335.555596 224.64 \nL 335.555596 224.64 \nL 329.916891 224.64 \nz\n\" style=\"fill:#1f77b4;opacity:0.4;stroke:#ffffff;stroke-linejoin:miter;\"/>\n   </g>\n   <g id=\"patch_48\">\n    <path clip-path=\"url(#pc9671aeaf3)\" d=\"M 335.555596 224.64 \nL 341.194301 224.64 \nL 341.194301 222.774363 \nL 335.555596 222.774363 \nz\n\" style=\"fill:#1f77b4;opacity:0.4;stroke:#ffffff;stroke-linejoin:miter;\"/>\n   </g>\n   <g id=\"patch_49\">\n    <path clip-path=\"url(#pc9671aeaf3)\" d=\"M 341.194301 224.64 \nL 346.833006 224.64 \nL 346.833006 220.908726 \nL 341.194301 220.908726 \nz\n\" style=\"fill:#1f77b4;opacity:0.4;stroke:#ffffff;stroke-linejoin:miter;\"/>\n   </g>\n   <g id=\"line2d_18\">\n    <path clip-path=\"url(#pc9671aeaf3)\" d=\"M 62.141619 224.632871 \nL 69.788947 224.518492 \nL 75.906809 224.169394 \nL 83.554136 223.482015 \nL 88.142533 222.82221 \nL 91.201464 222.159091 \nL 94.260395 221.286714 \nL 97.319326 220.102274 \nL 98.848792 219.302446 \nL 100.378257 218.282161 \nL 101.907723 216.964212 \nL 103.437188 215.269477 \nL 104.966654 213.129317 \nL 106.496119 210.497892 \nL 108.025585 207.360716 \nL 109.55505 203.736268 \nL 111.084516 199.669379 \nL 114.143447 190.435175 \nL 117.202378 179.991618 \nL 120.261309 168.309492 \nL 123.32024 155.141109 \nL 126.379171 140.492917 \nL 140.14436 71.389914 \nL 143.203291 56.973442 \nL 144.732757 50.215612 \nL 146.262222 44.017342 \nL 147.791688 38.625748 \nL 149.321153 34.302327 \nL 150.850619 31.289643 \nL 152.380084 29.772952 \nL 153.90955 29.844007 \nL 155.439015 31.47701 \nL 156.968481 34.525968 \nL 158.497946 38.747415 \nL 160.027412 43.843958 \nL 163.086343 55.506409 \nL 169.204205 79.716386 \nL 172.263136 91.116016 \nL 179.910464 118.697198 \nL 182.969395 131.536333 \nL 186.028326 146.113769 \nL 190.616722 169.049678 \nL 192.146188 176.159889 \nL 193.675653 182.696074 \nL 195.205119 188.554906 \nL 196.734584 193.700096 \nL 198.26405 198.15365 \nL 199.793515 201.977913 \nL 201.322981 205.254938 \nL 202.852446 208.06916 \nL 204.381912 210.496723 \nL 205.911377 212.601592 \nL 207.440843 214.436197 \nL 208.970308 216.043669 \nL 210.499774 217.459445 \nL 213.558705 219.820178 \nL 216.617636 221.649369 \nL 219.676567 222.982351 \nL 222.735498 223.843558 \nL 225.794429 224.315794 \nL 228.85336 224.529958 \nL 234.971222 224.632932 \nL 253.324808 224.587555 \nL 259.44267 224.352686 \nL 271.678394 223.642321 \nL 276.266791 223.714961 \nL 282.384653 224.109275 \nL 288.502515 224.435427 \nL 293.090911 224.37832 \nL 297.679308 224.025482 \nL 305.326635 223.281978 \nL 311.444497 222.997265 \nL 319.091825 222.804636 \nL 323.680221 223.009826 \nL 329.798083 223.483018 \nL 332.857014 223.519948 \nL 335.915945 223.34595 \nL 342.033808 222.880705 \nL 345.092739 222.936724 \nL 348.15167 223.245763 \nL 355.798997 224.255377 \nL 360.387394 224.539271 \nL 366.505256 224.631581 \nL 366.505256 224.631581 \n\" style=\"fill:none;stroke:#1f77b4;stroke-linecap:round;stroke-width:1.5;\"/>\n   </g>\n   <g id=\"patch_50\">\n    <path d=\"M 46.923438 224.64 \nL 46.923438 7.2 \n\" style=\"fill:none;stroke:#cccccc;stroke-linecap:square;stroke-linejoin:miter;stroke-width:0.8;\"/>\n   </g>\n   <g id=\"patch_51\">\n    <path d=\"M 381.723437 224.64 \nL 381.723437 7.2 \n\" style=\"fill:none;stroke:#cccccc;stroke-linecap:square;stroke-linejoin:miter;stroke-width:0.8;\"/>\n   </g>\n   <g id=\"patch_52\">\n    <path d=\"M 46.923437 224.64 \nL 381.723437 224.64 \n\" style=\"fill:none;stroke:#cccccc;stroke-linecap:square;stroke-linejoin:miter;stroke-width:0.8;\"/>\n   </g>\n   <g id=\"patch_53\">\n    <path d=\"M 46.923437 7.2 \nL 381.723437 7.2 \n\" style=\"fill:none;stroke:#cccccc;stroke-linecap:square;stroke-linejoin:miter;stroke-width:0.8;\"/>\n   </g>\n  </g>\n </g>\n <defs>\n  <clipPath id=\"pc9671aeaf3\">\n   <rect height=\"217.44\" width=\"334.8\" x=\"46.923438\" y=\"7.2\"/>\n  </clipPath>\n </defs>\n</svg>\n",
            "image/png": "[encoded data removed]"
          },
          "metadata": {}
        }
      ]
    },
    {
      "cell_type": "markdown",
      "metadata": {
        "id": "CODolxCDSiQv"
      },
      "source": [
        "Outlier Detection： Boxplot  <br>\n",
        "Interquartile Range(IQR):\n",
        "IQR= Upper Quantile(Q3) - Lower Quartile(Q1) <br>\n",
        "Lower Limit = Q1 - 1.5 IQR <br>\n",
        "Upper Limit = Q3 + 1.5 IQR <br>\n",
        "![alt text](https://i.stack.imgur.com/mpbTr.gif)\n"
      ]
    },
    {
      "cell_type": "code",
      "metadata": {
        "id": "pIlD3GhuSjwU",
        "colab": {
          "base_uri": "https://localhost:8080/",
          "height": 372
        },
        "outputId": "c7c5029f-8ab8-4d37-98a9-35d7be14d876"
      },
      "source": [
        "sns.boxplot(dt_outlier,orient='v')"
      ],
      "execution_count": 43,
      "outputs": [
        {
          "output_type": "stream",
          "name": "stderr",
          "text": [
            "/usr/local/anaconda3/lib/python3.8/site-packages/seaborn/_decorators.py:36: FutureWarning: Pass the following variable as a keyword arg: x. From version 0.12, the only valid positional argument will be `data`, and passing other arguments without an explicit keyword will result in an error or misinterpretation.\n  warnings.warn(\n/usr/local/anaconda3/lib/python3.8/site-packages/seaborn/_core.py:1303: UserWarning: Vertical orientation ignored with only `x` specified.\n  warnings.warn(single_var_warning.format(\"Vertical\", \"x\"))\n"
          ]
        },
        {
          "output_type": "execute_result",
          "data": {
            "text/plain": [
              "<AxesSubplot:>"
            ]
          },
          "metadata": {},
          "execution_count": 43
        },
        {
          "output_type": "display_data",
          "data": {
            "text/plain": "<Figure size 432x288 with 1 Axes>",
            "image/svg+xml": "<?xml version=\"1.0\" encoding=\"utf-8\" standalone=\"no\"?>\n<!DOCTYPE svg PUBLIC \"-//W3C//DTD SVG 1.1//EN\"\n  \"http://www.w3.org/Graphics/SVG/1.1/DTD/svg11.dtd\">\n<!-- Created with matplotlib (https://matplotlib.org/) -->\n<svg height=\"247.985312pt\" version=\"1.1\" viewBox=\"0 0 354.955778 247.985312\" width=\"354.955778pt\" xmlns=\"http://www.w3.org/2000/svg\" xmlns:xlink=\"http://www.w3.org/1999/xlink\">\n <metadata>\n  <rdf:RDF xmlns:cc=\"http://creativecommons.org/ns#\" xmlns:dc=\"http://purl.org/dc/elements/1.1/\" xmlns:rdf=\"http://www.w3.org/1999/02/22-rdf-syntax-ns#\">\n   <cc:Work>\n    <dc:type rdf:resource=\"http://purl.org/dc/dcmitype/StillImage\"/>\n    <dc:date>2021-03-05T02:33:03.886099</dc:date>\n    <dc:format>image/svg+xml</dc:format>\n    <dc:creator>\n     <cc:Agent>\n      <dc:title>Matplotlib v3.3.2, https://matplotlib.org/</dc:title>\n     </cc:Agent>\n    </dc:creator>\n   </cc:Work>\n  </rdf:RDF>\n </metadata>\n <defs>\n  <style type=\"text/css\">*{stroke-linecap:butt;stroke-linejoin:round;}</style>\n </defs>\n <g id=\"figure_1\">\n  <g id=\"patch_1\">\n   <path d=\"M 0 247.985312 \nL 354.955778 247.985312 \nL 354.955778 0 \nL 0 0 \nz\n\" style=\"fill:#ffffff;\"/>\n  </g>\n  <g id=\"axes_1\">\n   <g id=\"patch_2\">\n    <path d=\"M 8.011736 224.64 \nL 342.811736 224.64 \nL 342.811736 7.2 \nL 8.011736 7.2 \nz\n\" style=\"fill:#ffffff;\"/>\n   </g>\n   <g id=\"matplotlib.axis_1\">\n    <g id=\"xtick_1\">\n     <g id=\"line2d_1\">\n      <path clip-path=\"url(#pecf03fa471)\" d=\"M 12.900781 224.64 \nL 12.900781 7.2 \n\" style=\"fill:none;stroke:#cccccc;stroke-linecap:round;stroke-width:0.8;\"/>\n     </g>\n     <g id=\"text_1\">\n      <!-- −4 -->\n      <g style=\"fill:#262626;\" transform=\"translate(7.2 238.797812)scale(0.1 -0.1)\">\n       <defs>\n        <path d=\"M 52.828125 31.203125 \nL 5.5625 31.203125 \nL 5.5625 39.40625 \nL 52.828125 39.40625 \nz\n\" id=\"ArialMT-8722\"/>\n        <path d=\"M 32.328125 0 \nL 32.328125 17.140625 \nL 1.265625 17.140625 \nL 1.265625 25.203125 \nL 33.9375 71.578125 \nL 41.109375 71.578125 \nL 41.109375 25.203125 \nL 50.78125 25.203125 \nL 50.78125 17.140625 \nL 41.109375 17.140625 \nL 41.109375 0 \nz\nM 32.328125 25.203125 \nL 32.328125 57.46875 \nL 9.90625 25.203125 \nz\n\" id=\"ArialMT-52\"/>\n       </defs>\n       <use xlink:href=\"#ArialMT-8722\"/>\n       <use x=\"58.398438\" xlink:href=\"#ArialMT-52\"/>\n      </g>\n     </g>\n    </g>\n    <g id=\"xtick_2\">\n     <g id=\"line2d_2\">\n      <path clip-path=\"url(#pecf03fa471)\" d=\"M 59.94279 224.64 \nL 59.94279 7.2 \n\" style=\"fill:none;stroke:#cccccc;stroke-linecap:round;stroke-width:0.8;\"/>\n     </g>\n     <g id=\"text_2\">\n      <!-- −2 -->\n      <g style=\"fill:#262626;\" transform=\"translate(54.242009 238.797812)scale(0.1 -0.1)\">\n       <defs>\n        <path d=\"M 50.34375 8.453125 \nL 50.34375 0 \nL 3.03125 0 \nQ 2.9375 3.171875 4.046875 6.109375 \nQ 5.859375 10.9375 9.828125 15.625 \nQ 13.8125 20.3125 21.34375 26.46875 \nQ 33.015625 36.03125 37.109375 41.625 \nQ 41.21875 47.21875 41.21875 52.203125 \nQ 41.21875 57.421875 37.46875 61 \nQ 33.734375 64.59375 27.734375 64.59375 \nQ 21.390625 64.59375 17.578125 60.78125 \nQ 13.765625 56.984375 13.71875 50.25 \nL 4.6875 51.171875 \nQ 5.609375 61.28125 11.65625 66.578125 \nQ 17.71875 71.875 27.9375 71.875 \nQ 38.234375 71.875 44.234375 66.15625 \nQ 50.25 60.453125 50.25 52 \nQ 50.25 47.703125 48.484375 43.546875 \nQ 46.734375 39.40625 42.65625 34.8125 \nQ 38.578125 30.21875 29.109375 22.21875 \nQ 21.1875 15.578125 18.9375 13.203125 \nQ 16.703125 10.84375 15.234375 8.453125 \nz\n\" id=\"ArialMT-50\"/>\n       </defs>\n       <use xlink:href=\"#ArialMT-8722\"/>\n       <use x=\"58.398438\" xlink:href=\"#ArialMT-50\"/>\n      </g>\n     </g>\n    </g>\n    <g id=\"xtick_3\">\n     <g id=\"line2d_3\">\n      <path clip-path=\"url(#pecf03fa471)\" d=\"M 106.984798 224.64 \nL 106.984798 7.2 \n\" style=\"fill:none;stroke:#cccccc;stroke-linecap:round;stroke-width:0.8;\"/>\n     </g>\n     <g id=\"text_3\">\n      <!-- 0 -->\n      <g style=\"fill:#262626;\" transform=\"translate(104.20433 238.797812)scale(0.1 -0.1)\">\n       <defs>\n        <path d=\"M 4.15625 35.296875 \nQ 4.15625 48 6.765625 55.734375 \nQ 9.375 63.484375 14.515625 67.671875 \nQ 19.671875 71.875 27.484375 71.875 \nQ 33.25 71.875 37.59375 69.546875 \nQ 41.9375 67.234375 44.765625 62.859375 \nQ 47.609375 58.5 49.21875 52.21875 \nQ 50.828125 45.953125 50.828125 35.296875 \nQ 50.828125 22.703125 48.234375 14.96875 \nQ 45.65625 7.234375 40.5 3 \nQ 35.359375 -1.21875 27.484375 -1.21875 \nQ 17.140625 -1.21875 11.234375 6.203125 \nQ 4.15625 15.140625 4.15625 35.296875 \nz\nM 13.1875 35.296875 \nQ 13.1875 17.671875 17.3125 11.828125 \nQ 21.4375 6 27.484375 6 \nQ 33.546875 6 37.671875 11.859375 \nQ 41.796875 17.71875 41.796875 35.296875 \nQ 41.796875 52.984375 37.671875 58.78125 \nQ 33.546875 64.59375 27.390625 64.59375 \nQ 21.34375 64.59375 17.71875 59.46875 \nQ 13.1875 52.9375 13.1875 35.296875 \nz\n\" id=\"ArialMT-48\"/>\n       </defs>\n       <use xlink:href=\"#ArialMT-48\"/>\n      </g>\n     </g>\n    </g>\n    <g id=\"xtick_4\">\n     <g id=\"line2d_4\">\n      <path clip-path=\"url(#pecf03fa471)\" d=\"M 154.026807 224.64 \nL 154.026807 7.2 \n\" style=\"fill:none;stroke:#cccccc;stroke-linecap:round;stroke-width:0.8;\"/>\n     </g>\n     <g id=\"text_4\">\n      <!-- 2 -->\n      <g style=\"fill:#262626;\" transform=\"translate(151.246338 238.797812)scale(0.1 -0.1)\">\n       <use xlink:href=\"#ArialMT-50\"/>\n      </g>\n     </g>\n    </g>\n    <g id=\"xtick_5\">\n     <g id=\"line2d_5\">\n      <path clip-path=\"url(#pecf03fa471)\" d=\"M 201.068815 224.64 \nL 201.068815 7.2 \n\" style=\"fill:none;stroke:#cccccc;stroke-linecap:round;stroke-width:0.8;\"/>\n     </g>\n     <g id=\"text_5\">\n      <!-- 4 -->\n      <g style=\"fill:#262626;\" transform=\"translate(198.288347 238.797812)scale(0.1 -0.1)\">\n       <use xlink:href=\"#ArialMT-52\"/>\n      </g>\n     </g>\n    </g>\n    <g id=\"xtick_6\">\n     <g id=\"line2d_6\">\n      <path clip-path=\"url(#pecf03fa471)\" d=\"M 248.110824 224.64 \nL 248.110824 7.2 \n\" style=\"fill:none;stroke:#cccccc;stroke-linecap:round;stroke-width:0.8;\"/>\n     </g>\n     <g id=\"text_6\">\n      <!-- 6 -->\n      <g style=\"fill:#262626;\" transform=\"translate(245.330355 238.797812)scale(0.1 -0.1)\">\n       <defs>\n        <path d=\"M 49.75 54.046875 \nL 41.015625 53.375 \nQ 39.84375 58.546875 37.703125 60.890625 \nQ 34.125 64.65625 28.90625 64.65625 \nQ 24.703125 64.65625 21.53125 62.3125 \nQ 17.390625 59.28125 14.984375 53.46875 \nQ 12.59375 47.65625 12.5 36.921875 \nQ 15.671875 41.75 20.265625 44.09375 \nQ 24.859375 46.4375 29.890625 46.4375 \nQ 38.671875 46.4375 44.84375 39.96875 \nQ 51.03125 33.5 51.03125 23.25 \nQ 51.03125 16.5 48.125 10.71875 \nQ 45.21875 4.9375 40.140625 1.859375 \nQ 35.0625 -1.21875 28.609375 -1.21875 \nQ 17.625 -1.21875 10.6875 6.859375 \nQ 3.765625 14.9375 3.765625 33.5 \nQ 3.765625 54.25 11.421875 63.671875 \nQ 18.109375 71.875 29.4375 71.875 \nQ 37.890625 71.875 43.28125 67.140625 \nQ 48.6875 62.40625 49.75 54.046875 \nz\nM 13.875 23.1875 \nQ 13.875 18.65625 15.796875 14.5 \nQ 17.71875 10.359375 21.1875 8.171875 \nQ 24.65625 6 28.46875 6 \nQ 34.03125 6 38.03125 10.484375 \nQ 42.046875 14.984375 42.046875 22.703125 \nQ 42.046875 30.125 38.078125 34.390625 \nQ 34.125 38.671875 28.125 38.671875 \nQ 22.171875 38.671875 18.015625 34.390625 \nQ 13.875 30.125 13.875 23.1875 \nz\n\" id=\"ArialMT-54\"/>\n       </defs>\n       <use xlink:href=\"#ArialMT-54\"/>\n      </g>\n     </g>\n    </g>\n    <g id=\"xtick_7\">\n     <g id=\"line2d_7\">\n      <path clip-path=\"url(#pecf03fa471)\" d=\"M 295.152832 224.64 \nL 295.152832 7.2 \n\" style=\"fill:none;stroke:#cccccc;stroke-linecap:round;stroke-width:0.8;\"/>\n     </g>\n     <g id=\"text_7\">\n      <!-- 8 -->\n      <g style=\"fill:#262626;\" transform=\"translate(292.372364 238.797812)scale(0.1 -0.1)\">\n       <defs>\n        <path d=\"M 17.671875 38.8125 \nQ 12.203125 40.828125 9.5625 44.53125 \nQ 6.9375 48.25 6.9375 53.421875 \nQ 6.9375 61.234375 12.546875 66.546875 \nQ 18.171875 71.875 27.484375 71.875 \nQ 36.859375 71.875 42.578125 66.421875 \nQ 48.296875 60.984375 48.296875 53.171875 \nQ 48.296875 48.1875 45.671875 44.5 \nQ 43.0625 40.828125 37.75 38.8125 \nQ 44.34375 36.671875 47.78125 31.875 \nQ 51.21875 27.09375 51.21875 20.453125 \nQ 51.21875 11.28125 44.71875 5.03125 \nQ 38.234375 -1.21875 27.640625 -1.21875 \nQ 17.046875 -1.21875 10.546875 5.046875 \nQ 4.046875 11.328125 4.046875 20.703125 \nQ 4.046875 27.6875 7.59375 32.390625 \nQ 11.140625 37.109375 17.671875 38.8125 \nz\nM 15.921875 53.71875 \nQ 15.921875 48.640625 19.1875 45.40625 \nQ 22.46875 42.1875 27.6875 42.1875 \nQ 32.765625 42.1875 36.015625 45.375 \nQ 39.265625 48.578125 39.265625 53.21875 \nQ 39.265625 58.0625 35.90625 61.359375 \nQ 32.5625 64.65625 27.59375 64.65625 \nQ 22.5625 64.65625 19.234375 61.421875 \nQ 15.921875 58.203125 15.921875 53.71875 \nz\nM 13.09375 20.65625 \nQ 13.09375 16.890625 14.875 13.375 \nQ 16.65625 9.859375 20.171875 7.921875 \nQ 23.6875 6 27.734375 6 \nQ 34.03125 6 38.125 10.046875 \nQ 42.234375 14.109375 42.234375 20.359375 \nQ 42.234375 26.703125 38.015625 30.859375 \nQ 33.796875 35.015625 27.4375 35.015625 \nQ 21.234375 35.015625 17.15625 30.90625 \nQ 13.09375 26.8125 13.09375 20.65625 \nz\n\" id=\"ArialMT-56\"/>\n       </defs>\n       <use xlink:href=\"#ArialMT-56\"/>\n      </g>\n     </g>\n    </g>\n    <g id=\"xtick_8\">\n     <g id=\"line2d_8\">\n      <path clip-path=\"url(#pecf03fa471)\" d=\"M 342.194841 224.64 \nL 342.194841 7.2 \n\" style=\"fill:none;stroke:#cccccc;stroke-linecap:round;stroke-width:0.8;\"/>\n     </g>\n     <g id=\"text_8\">\n      <!-- 10 -->\n      <g style=\"fill:#262626;\" transform=\"translate(336.633903 238.797812)scale(0.1 -0.1)\">\n       <defs>\n        <path d=\"M 37.25 0 \nL 28.46875 0 \nL 28.46875 56 \nQ 25.296875 52.984375 20.140625 49.953125 \nQ 14.984375 46.921875 10.890625 45.40625 \nL 10.890625 53.90625 \nQ 18.265625 57.375 23.78125 62.296875 \nQ 29.296875 67.234375 31.59375 71.875 \nL 37.25 71.875 \nz\n\" id=\"ArialMT-49\"/>\n       </defs>\n       <use xlink:href=\"#ArialMT-49\"/>\n       <use x=\"55.615234\" xlink:href=\"#ArialMT-48\"/>\n      </g>\n     </g>\n    </g>\n   </g>\n   <g id=\"matplotlib.axis_2\">\n    <g id=\"ytick_1\"/>\n   </g>\n   <g id=\"patch_3\">\n    <path clip-path=\"url(#pecf03fa471)\" d=\"M 91.266635 28.944 \nL 91.266635 202.896 \nL 124.22694 202.896 \nL 124.22694 28.944 \nL 91.266635 28.944 \nz\n\" style=\"fill:#3274a1;stroke:#3f3f3f;stroke-linejoin:miter;stroke-width:1.5;\"/>\n   </g>\n   <g id=\"line2d_9\">\n    <path clip-path=\"url(#pecf03fa471)\" d=\"M 91.266635 115.92 \nL 42.501688 115.92 \n\" style=\"fill:none;stroke:#3f3f3f;stroke-linecap:round;stroke-width:1.5;\"/>\n   </g>\n   <g id=\"line2d_10\">\n    <path clip-path=\"url(#pecf03fa471)\" d=\"M 124.22694 115.92 \nL 171.745381 115.92 \n\" style=\"fill:none;stroke:#3f3f3f;stroke-linecap:round;stroke-width:1.5;\"/>\n   </g>\n   <g id=\"line2d_11\">\n    <path clip-path=\"url(#pecf03fa471)\" d=\"M 42.501688 72.432 \nL 42.501688 159.408 \n\" style=\"fill:none;stroke:#3f3f3f;stroke-linecap:round;stroke-width:1.5;\"/>\n   </g>\n   <g id=\"line2d_12\">\n    <path clip-path=\"url(#pecf03fa471)\" d=\"M 171.745381 72.432 \nL 171.745381 159.408 \n\" style=\"fill:none;stroke:#3f3f3f;stroke-linecap:round;stroke-width:1.5;\"/>\n   </g>\n   <g id=\"line2d_13\">\n    <defs>\n     <path d=\"M -0 3.535534 \nL 2.12132 0 \nL -0 -3.535534 \nL -2.12132 -0 \nz\n\" id=\"m57e0589a6a\" style=\"stroke:#3f3f3f;stroke-linejoin:miter;\"/>\n    </defs>\n    <g clip-path=\"url(#pecf03fa471)\">\n     <use style=\"fill:#3f3f3f;stroke:#3f3f3f;stroke-linejoin:miter;\" x=\"36.623377\" xlink:href=\"#m57e0589a6a\" y=\"115.92\"/>\n     <use style=\"fill:#3f3f3f;stroke:#3f3f3f;stroke-linejoin:miter;\" x=\"23.229918\" xlink:href=\"#m57e0589a6a\" y=\"115.92\"/>\n     <use style=\"fill:#3f3f3f;stroke:#3f3f3f;stroke-linejoin:miter;\" x=\"35.790576\" xlink:href=\"#m57e0589a6a\" y=\"115.92\"/>\n     <use style=\"fill:#3f3f3f;stroke:#3f3f3f;stroke-linejoin:miter;\" x=\"173.6753\" xlink:href=\"#m57e0589a6a\" y=\"115.92\"/>\n     <use style=\"fill:#3f3f3f;stroke:#3f3f3f;stroke-linejoin:miter;\" x=\"174.89781\" xlink:href=\"#m57e0589a6a\" y=\"115.92\"/>\n     <use style=\"fill:#3f3f3f;stroke:#3f3f3f;stroke-linejoin:miter;\" x=\"283.622928\" xlink:href=\"#m57e0589a6a\" y=\"115.92\"/>\n     <use style=\"fill:#3f3f3f;stroke:#3f3f3f;stroke-linejoin:miter;\" x=\"277.695362\" xlink:href=\"#m57e0589a6a\" y=\"115.92\"/>\n     <use style=\"fill:#3f3f3f;stroke:#3f3f3f;stroke-linejoin:miter;\" x=\"327.593554\" xlink:href=\"#m57e0589a6a\" y=\"115.92\"/>\n     <use style=\"fill:#3f3f3f;stroke:#3f3f3f;stroke-linejoin:miter;\" x=\"247.623068\" xlink:href=\"#m57e0589a6a\" y=\"115.92\"/>\n     <use style=\"fill:#3f3f3f;stroke:#3f3f3f;stroke-linejoin:miter;\" x=\"323.40763\" xlink:href=\"#m57e0589a6a\" y=\"115.92\"/>\n     <use style=\"fill:#3f3f3f;stroke:#3f3f3f;stroke-linejoin:miter;\" x=\"319.511546\" xlink:href=\"#m57e0589a6a\" y=\"115.92\"/>\n     <use style=\"fill:#3f3f3f;stroke:#3f3f3f;stroke-linejoin:miter;\" x=\"237.103327\" xlink:href=\"#m57e0589a6a\" y=\"115.92\"/>\n     <use style=\"fill:#3f3f3f;stroke:#3f3f3f;stroke-linejoin:miter;\" x=\"303.753288\" xlink:href=\"#m57e0589a6a\" y=\"115.92\"/>\n     <use style=\"fill:#3f3f3f;stroke:#3f3f3f;stroke-linejoin:miter;\" x=\"293.781873\" xlink:href=\"#m57e0589a6a\" y=\"115.92\"/>\n     <use style=\"fill:#3f3f3f;stroke:#3f3f3f;stroke-linejoin:miter;\" x=\"296.547355\" xlink:href=\"#m57e0589a6a\" y=\"115.92\"/>\n    </g>\n   </g>\n   <g id=\"line2d_14\">\n    <path clip-path=\"url(#pecf03fa471)\" d=\"M 107.082975 28.944 \nL 107.082975 202.896 \n\" style=\"fill:none;stroke:#3f3f3f;stroke-linecap:round;stroke-width:1.5;\"/>\n   </g>\n   <g id=\"patch_4\">\n    <path d=\"M 8.011736 224.64 \nL 8.011736 7.2 \n\" style=\"fill:none;stroke:#cccccc;stroke-linecap:square;stroke-linejoin:miter;stroke-width:0.8;\"/>\n   </g>\n   <g id=\"patch_5\">\n    <path d=\"M 342.811736 224.64 \nL 342.811736 7.2 \n\" style=\"fill:none;stroke:#cccccc;stroke-linecap:square;stroke-linejoin:miter;stroke-width:0.8;\"/>\n   </g>\n   <g id=\"patch_6\">\n    <path d=\"M 8.011736 224.64 \nL 342.811736 224.64 \n\" style=\"fill:none;stroke:#cccccc;stroke-linecap:square;stroke-linejoin:miter;stroke-width:0.8;\"/>\n   </g>\n   <g id=\"patch_7\">\n    <path d=\"M 8.011736 7.2 \nL 342.811736 7.2 \n\" style=\"fill:none;stroke:#cccccc;stroke-linecap:square;stroke-linejoin:miter;stroke-width:0.8;\"/>\n   </g>\n  </g>\n </g>\n <defs>\n  <clipPath id=\"pecf03fa471\">\n   <rect height=\"217.44\" width=\"334.8\" x=\"8.011736\" y=\"7.2\"/>\n  </clipPath>\n </defs>\n</svg>\n",
            "image/png": "[encoded data removed]"
          },
          "metadata": {}
        }
      ]
    },
    {
      "cell_type": "code",
      "metadata": {
        "id": "COGwopQ5Sndz",
        "colab": {
          "base_uri": "https://localhost:8080/",
          "height": 372
        },
        "outputId": "f1213d3e-6ff0-4a89-831f-74ed570a1d89"
      },
      "source": [
        "# define a function remove outlier using IQR\n",
        "def iqr_outlier_rm(dt_input):\n",
        "  lq,uq=np.percentile(dt_input,[25,75])\n",
        "  lower_l=lq - 1.5*(uq-lq)\n",
        "  upper_l=uq + 1.5*(uq-lq)\n",
        "  return dt_input[(dt_input > lower_l) & (dt_input < upper_l)]\n",
        "  \n",
        "dt_outlier_ws=iqr_outlier_rm(dt_outlier)\n",
        "sns.boxplot(dt_outlier_ws,orient='v')"
      ],
      "execution_count": 44,
      "outputs": [
        {
          "output_type": "stream",
          "name": "stderr",
          "text": [
            "/usr/local/anaconda3/lib/python3.8/site-packages/seaborn/_decorators.py:36: FutureWarning: Pass the following variable as a keyword arg: x. From version 0.12, the only valid positional argument will be `data`, and passing other arguments without an explicit keyword will result in an error or misinterpretation.\n  warnings.warn(\n/usr/local/anaconda3/lib/python3.8/site-packages/seaborn/_core.py:1303: UserWarning: Vertical orientation ignored with only `x` specified.\n  warnings.warn(single_var_warning.format(\"Vertical\", \"x\"))\n"
          ]
        },
        {
          "output_type": "execute_result",
          "data": {
            "text/plain": [
              "<AxesSubplot:>"
            ]
          },
          "metadata": {},
          "execution_count": 44
        },
        {
          "output_type": "display_data",
          "data": {
            "text/plain": "<Figure size 432x288 with 1 Axes>",
            "image/svg+xml": "<?xml version=\"1.0\" encoding=\"utf-8\" standalone=\"no\"?>\n<!DOCTYPE svg PUBLIC \"-//W3C//DTD SVG 1.1//EN\"\n  \"http://www.w3.org/Graphics/SVG/1.1/DTD/svg11.dtd\">\n<!-- Created with matplotlib (https://matplotlib.org/) -->\n<svg height=\"247.985312pt\" version=\"1.1\" viewBox=\"0 0 355.227296 247.985312\" width=\"355.227296pt\" xmlns=\"http://www.w3.org/2000/svg\" xmlns:xlink=\"http://www.w3.org/1999/xlink\">\n <metadata>\n  <rdf:RDF xmlns:cc=\"http://creativecommons.org/ns#\" xmlns:dc=\"http://purl.org/dc/elements/1.1/\" xmlns:rdf=\"http://www.w3.org/1999/02/22-rdf-syntax-ns#\">\n   <cc:Work>\n    <dc:type rdf:resource=\"http://purl.org/dc/dcmitype/StillImage\"/>\n    <dc:date>2021-03-05T02:33:04.118683</dc:date>\n    <dc:format>image/svg+xml</dc:format>\n    <dc:creator>\n     <cc:Agent>\n      <dc:title>Matplotlib v3.3.2, https://matplotlib.org/</dc:title>\n     </cc:Agent>\n    </dc:creator>\n   </cc:Work>\n  </rdf:RDF>\n </metadata>\n <defs>\n  <style type=\"text/css\">*{stroke-linecap:butt;stroke-linejoin:round;}</style>\n </defs>\n <g id=\"figure_1\">\n  <g id=\"patch_1\">\n   <path d=\"M 0 247.985312 \nL 355.227296 247.985312 \nL 355.227296 0 \nL 0 0 \nz\n\" style=\"fill:#ffffff;\"/>\n  </g>\n  <g id=\"axes_1\">\n   <g id=\"patch_2\">\n    <path d=\"M 12.000522 224.64 \nL 346.800522 224.64 \nL 346.800522 7.2 \nL 12.000522 7.2 \nz\n\" style=\"fill:#ffffff;\"/>\n   </g>\n   <g id=\"matplotlib.axis_1\">\n    <g id=\"xtick_1\">\n     <g id=\"line2d_1\">\n      <path clip-path=\"url(#p8151cd8386)\" d=\"M 12.900781 224.64 \nL 12.900781 7.2 \n\" style=\"fill:none;stroke:#cccccc;stroke-linecap:round;stroke-width:0.8;\"/>\n     </g>\n     <g id=\"text_1\">\n      <!-- −3 -->\n      <g style=\"fill:#262626;\" transform=\"translate(7.2 238.797812)scale(0.1 -0.1)\">\n       <defs>\n        <path d=\"M 52.828125 31.203125 \nL 5.5625 31.203125 \nL 5.5625 39.40625 \nL 52.828125 39.40625 \nz\n\" id=\"ArialMT-8722\"/>\n        <path d=\"M 4.203125 18.890625 \nL 12.984375 20.0625 \nQ 14.5 12.59375 18.140625 9.296875 \nQ 21.78125 6 27 6 \nQ 33.203125 6 37.46875 10.296875 \nQ 41.75 14.59375 41.75 20.953125 \nQ 41.75 27 37.796875 30.921875 \nQ 33.84375 34.859375 27.734375 34.859375 \nQ 25.25 34.859375 21.53125 33.890625 \nL 22.515625 41.609375 \nQ 23.390625 41.5 23.921875 41.5 \nQ 29.546875 41.5 34.03125 44.421875 \nQ 38.53125 47.359375 38.53125 53.46875 \nQ 38.53125 58.296875 35.25 61.46875 \nQ 31.984375 64.65625 26.8125 64.65625 \nQ 21.6875 64.65625 18.265625 61.421875 \nQ 14.84375 58.203125 13.875 51.765625 \nL 5.078125 53.328125 \nQ 6.6875 62.15625 12.390625 67.015625 \nQ 18.109375 71.875 26.609375 71.875 \nQ 32.46875 71.875 37.390625 69.359375 \nQ 42.328125 66.84375 44.9375 62.5 \nQ 47.5625 58.15625 47.5625 53.265625 \nQ 47.5625 48.640625 45.0625 44.828125 \nQ 42.578125 41.015625 37.703125 38.765625 \nQ 44.046875 37.3125 47.5625 32.6875 \nQ 51.078125 28.078125 51.078125 21.140625 \nQ 51.078125 11.765625 44.234375 5.25 \nQ 37.40625 -1.265625 26.953125 -1.265625 \nQ 17.53125 -1.265625 11.296875 4.34375 \nQ 5.078125 9.96875 4.203125 18.890625 \nz\n\" id=\"ArialMT-51\"/>\n       </defs>\n       <use xlink:href=\"#ArialMT-8722\"/>\n       <use x=\"58.398438\" xlink:href=\"#ArialMT-51\"/>\n      </g>\n     </g>\n    </g>\n    <g id=\"xtick_2\">\n     <g id=\"line2d_2\">\n      <path clip-path=\"url(#p8151cd8386)\" d=\"M 68.291789 224.64 \nL 68.291789 7.2 \n\" style=\"fill:none;stroke:#cccccc;stroke-linecap:round;stroke-width:0.8;\"/>\n     </g>\n     <g id=\"text_2\">\n      <!-- −2 -->\n      <g style=\"fill:#262626;\" transform=\"translate(62.591008 238.797812)scale(0.1 -0.1)\">\n       <defs>\n        <path d=\"M 50.34375 8.453125 \nL 50.34375 0 \nL 3.03125 0 \nQ 2.9375 3.171875 4.046875 6.109375 \nQ 5.859375 10.9375 9.828125 15.625 \nQ 13.8125 20.3125 21.34375 26.46875 \nQ 33.015625 36.03125 37.109375 41.625 \nQ 41.21875 47.21875 41.21875 52.203125 \nQ 41.21875 57.421875 37.46875 61 \nQ 33.734375 64.59375 27.734375 64.59375 \nQ 21.390625 64.59375 17.578125 60.78125 \nQ 13.765625 56.984375 13.71875 50.25 \nL 4.6875 51.171875 \nQ 5.609375 61.28125 11.65625 66.578125 \nQ 17.71875 71.875 27.9375 71.875 \nQ 38.234375 71.875 44.234375 66.15625 \nQ 50.25 60.453125 50.25 52 \nQ 50.25 47.703125 48.484375 43.546875 \nQ 46.734375 39.40625 42.65625 34.8125 \nQ 38.578125 30.21875 29.109375 22.21875 \nQ 21.1875 15.578125 18.9375 13.203125 \nQ 16.703125 10.84375 15.234375 8.453125 \nz\n\" id=\"ArialMT-50\"/>\n       </defs>\n       <use xlink:href=\"#ArialMT-8722\"/>\n       <use x=\"58.398438\" xlink:href=\"#ArialMT-50\"/>\n      </g>\n     </g>\n    </g>\n    <g id=\"xtick_3\">\n     <g id=\"line2d_3\">\n      <path clip-path=\"url(#p8151cd8386)\" d=\"M 123.682797 224.64 \nL 123.682797 7.2 \n\" style=\"fill:none;stroke:#cccccc;stroke-linecap:round;stroke-width:0.8;\"/>\n     </g>\n     <g id=\"text_3\">\n      <!-- −1 -->\n      <g style=\"fill:#262626;\" transform=\"translate(117.982015 238.797812)scale(0.1 -0.1)\">\n       <defs>\n        <path d=\"M 37.25 0 \nL 28.46875 0 \nL 28.46875 56 \nQ 25.296875 52.984375 20.140625 49.953125 \nQ 14.984375 46.921875 10.890625 45.40625 \nL 10.890625 53.90625 \nQ 18.265625 57.375 23.78125 62.296875 \nQ 29.296875 67.234375 31.59375 71.875 \nL 37.25 71.875 \nz\n\" id=\"ArialMT-49\"/>\n       </defs>\n       <use xlink:href=\"#ArialMT-8722\"/>\n       <use x=\"58.398438\" xlink:href=\"#ArialMT-49\"/>\n      </g>\n     </g>\n    </g>\n    <g id=\"xtick_4\">\n     <g id=\"line2d_4\">\n      <path clip-path=\"url(#p8151cd8386)\" d=\"M 179.073804 224.64 \nL 179.073804 7.2 \n\" style=\"fill:none;stroke:#cccccc;stroke-linecap:round;stroke-width:0.8;\"/>\n     </g>\n     <g id=\"text_4\">\n      <!-- 0 -->\n      <g style=\"fill:#262626;\" transform=\"translate(176.293335 238.797812)scale(0.1 -0.1)\">\n       <defs>\n        <path d=\"M 4.15625 35.296875 \nQ 4.15625 48 6.765625 55.734375 \nQ 9.375 63.484375 14.515625 67.671875 \nQ 19.671875 71.875 27.484375 71.875 \nQ 33.25 71.875 37.59375 69.546875 \nQ 41.9375 67.234375 44.765625 62.859375 \nQ 47.609375 58.5 49.21875 52.21875 \nQ 50.828125 45.953125 50.828125 35.296875 \nQ 50.828125 22.703125 48.234375 14.96875 \nQ 45.65625 7.234375 40.5 3 \nQ 35.359375 -1.21875 27.484375 -1.21875 \nQ 17.140625 -1.21875 11.234375 6.203125 \nQ 4.15625 15.140625 4.15625 35.296875 \nz\nM 13.1875 35.296875 \nQ 13.1875 17.671875 17.3125 11.828125 \nQ 21.4375 6 27.484375 6 \nQ 33.546875 6 37.671875 11.859375 \nQ 41.796875 17.71875 41.796875 35.296875 \nQ 41.796875 52.984375 37.671875 58.78125 \nQ 33.546875 64.59375 27.390625 64.59375 \nQ 21.34375 64.59375 17.71875 59.46875 \nQ 13.1875 52.9375 13.1875 35.296875 \nz\n\" id=\"ArialMT-48\"/>\n       </defs>\n       <use xlink:href=\"#ArialMT-48\"/>\n      </g>\n     </g>\n    </g>\n    <g id=\"xtick_5\">\n     <g id=\"line2d_5\">\n      <path clip-path=\"url(#p8151cd8386)\" d=\"M 234.464812 224.64 \nL 234.464812 7.2 \n\" style=\"fill:none;stroke:#cccccc;stroke-linecap:round;stroke-width:0.8;\"/>\n     </g>\n     <g id=\"text_5\">\n      <!-- 1 -->\n      <g style=\"fill:#262626;\" transform=\"translate(231.684343 238.797812)scale(0.1 -0.1)\">\n       <use xlink:href=\"#ArialMT-49\"/>\n      </g>\n     </g>\n    </g>\n    <g id=\"xtick_6\">\n     <g id=\"line2d_6\">\n      <path clip-path=\"url(#p8151cd8386)\" d=\"M 289.85582 224.64 \nL 289.85582 7.2 \n\" style=\"fill:none;stroke:#cccccc;stroke-linecap:round;stroke-width:0.8;\"/>\n     </g>\n     <g id=\"text_6\">\n      <!-- 2 -->\n      <g style=\"fill:#262626;\" transform=\"translate(287.075351 238.797812)scale(0.1 -0.1)\">\n       <use xlink:href=\"#ArialMT-50\"/>\n      </g>\n     </g>\n    </g>\n    <g id=\"xtick_7\">\n     <g id=\"line2d_7\">\n      <path clip-path=\"url(#p8151cd8386)\" d=\"M 345.246827 224.64 \nL 345.246827 7.2 \n\" style=\"fill:none;stroke:#cccccc;stroke-linecap:round;stroke-width:0.8;\"/>\n     </g>\n     <g id=\"text_7\">\n      <!-- 3 -->\n      <g style=\"fill:#262626;\" transform=\"translate(342.466358 238.797812)scale(0.1 -0.1)\">\n       <use xlink:href=\"#ArialMT-51\"/>\n      </g>\n     </g>\n    </g>\n   </g>\n   <g id=\"matplotlib.axis_2\">\n    <g id=\"ytick_1\"/>\n   </g>\n   <g id=\"patch_3\">\n    <path clip-path=\"url(#p8151cd8386)\" d=\"M 142.030347 28.944 \nL 142.030347 202.896 \nL 217.39403 202.896 \nL 217.39403 28.944 \nL 142.030347 28.944 \nz\n\" style=\"fill:#3274a1;stroke:#3f3f3f;stroke-linejoin:miter;stroke-width:1.5;\"/>\n   </g>\n   <g id=\"line2d_8\">\n    <path clip-path=\"url(#p8151cd8386)\" d=\"M 142.030347 115.92 \nL 31.098071 115.92 \n\" style=\"fill:none;stroke:#3f3f3f;stroke-linecap:round;stroke-width:1.5;\"/>\n   </g>\n   <g id=\"line2d_9\">\n    <path clip-path=\"url(#p8151cd8386)\" d=\"M 217.39403 115.92 \nL 326.55857 115.92 \n\" style=\"fill:none;stroke:#3f3f3f;stroke-linecap:round;stroke-width:1.5;\"/>\n   </g>\n   <g id=\"line2d_10\">\n    <path clip-path=\"url(#p8151cd8386)\" d=\"M 31.098071 72.432 \nL 31.098071 159.408 \n\" style=\"fill:none;stroke:#3f3f3f;stroke-linecap:round;stroke-width:1.5;\"/>\n   </g>\n   <g id=\"line2d_11\">\n    <path clip-path=\"url(#p8151cd8386)\" d=\"M 326.55857 72.432 \nL 326.55857 159.408 \n\" style=\"fill:none;stroke:#3f3f3f;stroke-linecap:round;stroke-width:1.5;\"/>\n   </g>\n   <g id=\"line2d_12\">\n    <defs>\n     <path d=\"M -0 3.535534 \nL 2.12132 0 \nL -0 -3.535534 \nL -2.12132 -0 \nz\n\" id=\"m8eb1a1ecae\" style=\"stroke:#3f3f3f;stroke-linejoin:miter;\"/>\n    </defs>\n    <g clip-path=\"url(#p8151cd8386)\">\n     <use style=\"fill:#3f3f3f;stroke:#3f3f3f;stroke-linejoin:miter;\" x=\"27.218703\" xlink:href=\"#m8eb1a1ecae\" y=\"115.92\"/>\n     <use style=\"fill:#3f3f3f;stroke:#3f3f3f;stroke-linejoin:miter;\" x=\"331.58234\" xlink:href=\"#m8eb1a1ecae\" y=\"115.92\"/>\n    </g>\n   </g>\n   <g id=\"line2d_13\">\n    <path clip-path=\"url(#p8151cd8386)\" d=\"M 178.825443 28.944 \nL 178.825443 202.896 \n\" style=\"fill:none;stroke:#3f3f3f;stroke-linecap:round;stroke-width:1.5;\"/>\n   </g>\n   <g id=\"patch_4\">\n    <path d=\"M 12.000522 224.64 \nL 12.000522 7.2 \n\" style=\"fill:none;stroke:#cccccc;stroke-linecap:square;stroke-linejoin:miter;stroke-width:0.8;\"/>\n   </g>\n   <g id=\"patch_5\">\n    <path d=\"M 346.800522 224.64 \nL 346.800522 7.2 \n\" style=\"fill:none;stroke:#cccccc;stroke-linecap:square;stroke-linejoin:miter;stroke-width:0.8;\"/>\n   </g>\n   <g id=\"patch_6\">\n    <path d=\"M 12.000522 224.64 \nL 346.800522 224.64 \n\" style=\"fill:none;stroke:#cccccc;stroke-linecap:square;stroke-linejoin:miter;stroke-width:0.8;\"/>\n   </g>\n   <g id=\"patch_7\">\n    <path d=\"M 12.000522 7.2 \nL 346.800522 7.2 \n\" style=\"fill:none;stroke:#cccccc;stroke-linecap:square;stroke-linejoin:miter;stroke-width:0.8;\"/>\n   </g>\n  </g>\n </g>\n <defs>\n  <clipPath id=\"p8151cd8386\">\n   <rect height=\"217.44\" width=\"334.8\" x=\"12.000522\" y=\"7.2\"/>\n  </clipPath>\n </defs>\n</svg>\n",
            "image/png": "[encoded data removed]"
          },
          "metadata": {}
        }
      ]
    },
    {
      "cell_type": "markdown",
      "metadata": {
        "id": "CSZGjd_q_ASw"
      },
      "source": [
        "#### **Missing Value**"
      ]
    },
    {
      "cell_type": "code",
      "metadata": {
        "id": "FtafT2qOVIUd"
      },
      "source": [
        "# create a dictionary\n",
        "raw_data = {'name': ['Jason', np.nan, 'Mike', 'Rayman', 'Alex', 'Meimei'], \n",
        "        'age': [36, np.nan, 36, 18, 36, 16], \n",
        "        'gender': ['m', np.nan, 'm', np.nan, 'f', 'f'], \n",
        "        'preMLScore': [1, np.nan, np.nan, 2, 3, 90],\n",
        "        'postMLScore': [65, np.nan, np.nan, 62, 70, 100]}\n",
        "\n",
        "# create a dataframe by passing a dictionary\n",
        "df = pd.DataFrame(raw_data, columns = ['name', 'age', 'gender', 'preMLScore', 'postMLScore'])"
      ],
      "execution_count": 45,
      "outputs": []
    },
    {
      "cell_type": "code",
      "metadata": {
        "id": "NGWz3l__WoXy",
        "colab": {
          "base_uri": "https://localhost:8080/",
          "height": 233
        },
        "outputId": "fa1a2b8e-7a65-42e4-9eb5-6510b7d80b55"
      },
      "source": [
        "df"
      ],
      "execution_count": 46,
      "outputs": [
        {
          "output_type": "execute_result",
          "data": {
            "text/plain": [
              "     name   age gender  preMLScore  postMLScore\n",
              "0   Jason  36.0      m         1.0         65.0\n",
              "1     NaN   NaN    NaN         NaN          NaN\n",
              "2    Mike  36.0      m         NaN          NaN\n",
              "3  Rayman  18.0    NaN         2.0         62.0\n",
              "4    Alex  36.0      f         3.0         70.0\n",
              "5  Meimei  16.0      f        90.0        100.0"
            ],
            "text/html": "<div>\n<style scoped>\n    .dataframe tbody tr th:only-of-type {\n        vertical-align: middle;\n    }\n\n    .dataframe tbody tr th {\n        vertical-align: top;\n    }\n\n    .dataframe thead th {\n        text-align: right;\n    }\n</style>\n<table border=\"1\" class=\"dataframe\">\n  <thead>\n    <tr style=\"text-align: right;\">\n      <th></th>\n      <th>name</th>\n      <th>age</th>\n      <th>gender</th>\n      <th>preMLScore</th>\n      <th>postMLScore</th>\n    </tr>\n  </thead>\n  <tbody>\n    <tr>\n      <th>0</th>\n      <td>Jason</td>\n      <td>36.0</td>\n      <td>m</td>\n      <td>1.0</td>\n      <td>65.0</td>\n    </tr>\n    <tr>\n      <th>1</th>\n      <td>NaN</td>\n      <td>NaN</td>\n      <td>NaN</td>\n      <td>NaN</td>\n      <td>NaN</td>\n    </tr>\n    <tr>\n      <th>2</th>\n      <td>Mike</td>\n      <td>36.0</td>\n      <td>m</td>\n      <td>NaN</td>\n      <td>NaN</td>\n    </tr>\n    <tr>\n      <th>3</th>\n      <td>Rayman</td>\n      <td>18.0</td>\n      <td>NaN</td>\n      <td>2.0</td>\n      <td>62.0</td>\n    </tr>\n    <tr>\n      <th>4</th>\n      <td>Alex</td>\n      <td>36.0</td>\n      <td>f</td>\n      <td>3.0</td>\n      <td>70.0</td>\n    </tr>\n    <tr>\n      <th>5</th>\n      <td>Meimei</td>\n      <td>16.0</td>\n      <td>f</td>\n      <td>90.0</td>\n      <td>100.0</td>\n    </tr>\n  </tbody>\n</table>\n</div>"
          },
          "metadata": {},
          "execution_count": 46
        }
      ]
    },
    {
      "cell_type": "markdown",
      "metadata": {
        "id": "I0yYJ-nEYEJ9"
      },
      "source": [
        "##### **Detect missing values**"
      ]
    },
    {
      "cell_type": "code",
      "metadata": {
        "id": "HF5Cc9pIYM7h",
        "colab": {
          "base_uri": "https://localhost:8080/"
        },
        "outputId": "ccf030bd-2dc5-4dc7-9ec4-9b6b67c087d0"
      },
      "source": [
        "df.info() # the overview information for the dataframe"
      ],
      "execution_count": 47,
      "outputs": [
        {
          "output_type": "stream",
          "name": "stdout",
          "text": [
            "<class 'pandas.core.frame.DataFrame'>\nRangeIndex: 6 entries, 0 to 5\nData columns (total 5 columns):\n #   Column       Non-Null Count  Dtype  \n---  ------       --------------  -----  \n 0   name         5 non-null      object \n 1   age          5 non-null      float64\n 2   gender       4 non-null      object \n 3   preMLScore   4 non-null      float64\n 4   postMLScore  4 non-null      float64\ndtypes: float64(3), object(2)\nmemory usage: 368.0+ bytes\n"
          ]
        }
      ]
    },
    {
      "cell_type": "code",
      "metadata": {
        "id": "gVtymK3JYVq-",
        "colab": {
          "base_uri": "https://localhost:8080/",
          "height": 294
        },
        "outputId": "e6100b63-79aa-440a-aa8a-cffd794022c7"
      },
      "source": [
        "df.describe() # basic stats"
      ],
      "execution_count": 48,
      "outputs": [
        {
          "output_type": "execute_result",
          "data": {
            "text/plain": [
              "             age  preMLScore  postMLScore\n",
              "count   5.000000    4.000000     4.000000\n",
              "mean   28.400000   24.000000    74.250000\n",
              "std    10.430724   44.007575    17.480942\n",
              "min    16.000000    1.000000    62.000000\n",
              "25%    18.000000    1.750000    64.250000\n",
              "50%    36.000000    2.500000    67.500000\n",
              "75%    36.000000   24.750000    77.500000\n",
              "max    36.000000   90.000000   100.000000"
            ],
            "text/html": "<div>\n<style scoped>\n    .dataframe tbody tr th:only-of-type {\n        vertical-align: middle;\n    }\n\n    .dataframe tbody tr th {\n        vertical-align: top;\n    }\n\n    .dataframe thead th {\n        text-align: right;\n    }\n</style>\n<table border=\"1\" class=\"dataframe\">\n  <thead>\n    <tr style=\"text-align: right;\">\n      <th></th>\n      <th>age</th>\n      <th>preMLScore</th>\n      <th>postMLScore</th>\n    </tr>\n  </thead>\n  <tbody>\n    <tr>\n      <th>count</th>\n      <td>5.000000</td>\n      <td>4.000000</td>\n      <td>4.000000</td>\n    </tr>\n    <tr>\n      <th>mean</th>\n      <td>28.400000</td>\n      <td>24.000000</td>\n      <td>74.250000</td>\n    </tr>\n    <tr>\n      <th>std</th>\n      <td>10.430724</td>\n      <td>44.007575</td>\n      <td>17.480942</td>\n    </tr>\n    <tr>\n      <th>min</th>\n      <td>16.000000</td>\n      <td>1.000000</td>\n      <td>62.000000</td>\n    </tr>\n    <tr>\n      <th>25%</th>\n      <td>18.000000</td>\n      <td>1.750000</td>\n      <td>64.250000</td>\n    </tr>\n    <tr>\n      <th>50%</th>\n      <td>36.000000</td>\n      <td>2.500000</td>\n      <td>67.500000</td>\n    </tr>\n    <tr>\n      <th>75%</th>\n      <td>36.000000</td>\n      <td>24.750000</td>\n      <td>77.500000</td>\n    </tr>\n    <tr>\n      <th>max</th>\n      <td>36.000000</td>\n      <td>90.000000</td>\n      <td>100.000000</td>\n    </tr>\n  </tbody>\n</table>\n</div>"
          },
          "metadata": {},
          "execution_count": 48
        }
      ]
    },
    {
      "cell_type": "code",
      "metadata": {
        "id": "6JAEfE8B8iZt",
        "colab": {
          "base_uri": "https://localhost:8080/",
          "height": 233
        },
        "outputId": "d284deb0-4c8b-41bd-8b96-b05b8a866823"
      },
      "source": [
        "df.isnull()"
      ],
      "execution_count": 49,
      "outputs": [
        {
          "output_type": "execute_result",
          "data": {
            "text/plain": [
              "    name    age  gender  preMLScore  postMLScore\n",
              "0  False  False   False       False        False\n",
              "1   True   True    True        True         True\n",
              "2  False  False   False        True         True\n",
              "3  False  False    True       False        False\n",
              "4  False  False   False       False        False\n",
              "5  False  False   False       False        False"
            ],
            "text/html": "<div>\n<style scoped>\n    .dataframe tbody tr th:only-of-type {\n        vertical-align: middle;\n    }\n\n    .dataframe tbody tr th {\n        vertical-align: top;\n    }\n\n    .dataframe thead th {\n        text-align: right;\n    }\n</style>\n<table border=\"1\" class=\"dataframe\">\n  <thead>\n    <tr style=\"text-align: right;\">\n      <th></th>\n      <th>name</th>\n      <th>age</th>\n      <th>gender</th>\n      <th>preMLScore</th>\n      <th>postMLScore</th>\n    </tr>\n  </thead>\n  <tbody>\n    <tr>\n      <th>0</th>\n      <td>False</td>\n      <td>False</td>\n      <td>False</td>\n      <td>False</td>\n      <td>False</td>\n    </tr>\n    <tr>\n      <th>1</th>\n      <td>True</td>\n      <td>True</td>\n      <td>True</td>\n      <td>True</td>\n      <td>True</td>\n    </tr>\n    <tr>\n      <th>2</th>\n      <td>False</td>\n      <td>False</td>\n      <td>False</td>\n      <td>True</td>\n      <td>True</td>\n    </tr>\n    <tr>\n      <th>3</th>\n      <td>False</td>\n      <td>False</td>\n      <td>True</td>\n      <td>False</td>\n      <td>False</td>\n    </tr>\n    <tr>\n      <th>4</th>\n      <td>False</td>\n      <td>False</td>\n      <td>False</td>\n      <td>False</td>\n      <td>False</td>\n    </tr>\n    <tr>\n      <th>5</th>\n      <td>False</td>\n      <td>False</td>\n      <td>False</td>\n      <td>False</td>\n      <td>False</td>\n    </tr>\n  </tbody>\n</table>\n</div>"
          },
          "metadata": {},
          "execution_count": 49
        }
      ]
    },
    {
      "cell_type": "code",
      "metadata": {
        "id": "nSZZgSoPYHeU",
        "colab": {
          "base_uri": "https://localhost:8080/"
        },
        "outputId": "7a789fec-98d8-4e74-cb53-ab6862825045"
      },
      "source": [
        "df.isnull().sum() # the number of rows with NaN for each column"
      ],
      "execution_count": 50,
      "outputs": [
        {
          "output_type": "execute_result",
          "data": {
            "text/plain": [
              "name           1\n",
              "age            1\n",
              "gender         2\n",
              "preMLScore     2\n",
              "postMLScore    2\n",
              "dtype: int64"
            ]
          },
          "metadata": {},
          "execution_count": 50
        }
      ]
    },
    {
      "cell_type": "code",
      "metadata": {
        "id": "mG4c3z0yxO6a",
        "colab": {
          "base_uri": "https://localhost:8080/"
        },
        "outputId": "da8107e4-5f48-44a3-a06a-cffdcc09c460"
      },
      "source": [
        "df.notnull().sum() # the number of rows without NaN for each column"
      ],
      "execution_count": 51,
      "outputs": [
        {
          "output_type": "execute_result",
          "data": {
            "text/plain": [
              "name           5\n",
              "age            5\n",
              "gender         4\n",
              "preMLScore     4\n",
              "postMLScore    4\n",
              "dtype: int64"
            ]
          },
          "metadata": {},
          "execution_count": 51
        }
      ]
    },
    {
      "cell_type": "code",
      "metadata": {
        "id": "0k65EHvyStcG",
        "colab": {
          "base_uri": "https://localhost:8080/",
          "height": 233
        },
        "outputId": "f20f0ed0-e9aa-4054-8a2b-5dd9cf78642b"
      },
      "source": [
        "df.isnull()"
      ],
      "execution_count": 52,
      "outputs": [
        {
          "output_type": "execute_result",
          "data": {
            "text/plain": [
              "    name    age  gender  preMLScore  postMLScore\n",
              "0  False  False   False       False        False\n",
              "1   True   True    True        True         True\n",
              "2  False  False   False        True         True\n",
              "3  False  False    True       False        False\n",
              "4  False  False   False       False        False\n",
              "5  False  False   False       False        False"
            ],
            "text/html": "<div>\n<style scoped>\n    .dataframe tbody tr th:only-of-type {\n        vertical-align: middle;\n    }\n\n    .dataframe tbody tr th {\n        vertical-align: top;\n    }\n\n    .dataframe thead th {\n        text-align: right;\n    }\n</style>\n<table border=\"1\" class=\"dataframe\">\n  <thead>\n    <tr style=\"text-align: right;\">\n      <th></th>\n      <th>name</th>\n      <th>age</th>\n      <th>gender</th>\n      <th>preMLScore</th>\n      <th>postMLScore</th>\n    </tr>\n  </thead>\n  <tbody>\n    <tr>\n      <th>0</th>\n      <td>False</td>\n      <td>False</td>\n      <td>False</td>\n      <td>False</td>\n      <td>False</td>\n    </tr>\n    <tr>\n      <th>1</th>\n      <td>True</td>\n      <td>True</td>\n      <td>True</td>\n      <td>True</td>\n      <td>True</td>\n    </tr>\n    <tr>\n      <th>2</th>\n      <td>False</td>\n      <td>False</td>\n      <td>False</td>\n      <td>True</td>\n      <td>True</td>\n    </tr>\n    <tr>\n      <th>3</th>\n      <td>False</td>\n      <td>False</td>\n      <td>True</td>\n      <td>False</td>\n      <td>False</td>\n    </tr>\n    <tr>\n      <th>4</th>\n      <td>False</td>\n      <td>False</td>\n      <td>False</td>\n      <td>False</td>\n      <td>False</td>\n    </tr>\n    <tr>\n      <th>5</th>\n      <td>False</td>\n      <td>False</td>\n      <td>False</td>\n      <td>False</td>\n      <td>False</td>\n    </tr>\n  </tbody>\n</table>\n</div>"
          },
          "metadata": {},
          "execution_count": 52
        }
      ]
    },
    {
      "cell_type": "code",
      "metadata": {
        "id": "c3eHaPvpxhWN",
        "colab": {
          "base_uri": "https://localhost:8080/"
        },
        "outputId": "4216242c-f8e8-4988-984e-09adc3691f50"
      },
      "source": [
        "df.isnull().all(axis=1) # check if there is NaN row"
      ],
      "execution_count": 53,
      "outputs": [
        {
          "output_type": "execute_result",
          "data": {
            "text/plain": [
              "0    False\n",
              "1     True\n",
              "2    False\n",
              "3    False\n",
              "4    False\n",
              "5    False\n",
              "dtype: bool"
            ]
          },
          "metadata": {},
          "execution_count": 53
        }
      ]
    },
    {
      "cell_type": "code",
      "metadata": {
        "id": "klq2EpFAxtbq",
        "colab": {
          "base_uri": "https://localhost:8080/"
        },
        "outputId": "04c66ef4-fc3b-47c9-de7e-ca72a88fd155"
      },
      "source": [
        "df.isnull().any(axis=0) # check if there is a NaN in a column"
      ],
      "execution_count": 54,
      "outputs": [
        {
          "output_type": "execute_result",
          "data": {
            "text/plain": [
              "name           True\n",
              "age            True\n",
              "gender         True\n",
              "preMLScore     True\n",
              "postMLScore    True\n",
              "dtype: bool"
            ]
          },
          "metadata": {},
          "execution_count": 54
        }
      ]
    },
    {
      "cell_type": "markdown",
      "metadata": {
        "id": "50ulS4QNzXtb"
      },
      "source": [
        "##### **Handle Missing Values**"
      ]
    },
    {
      "cell_type": "markdown",
      "metadata": {
        "id": "HqpgfkM01neH"
      },
      "source": [
        "**Elimination**"
      ]
    },
    {
      "cell_type": "code",
      "metadata": {
        "id": "DEe_KcIjzaEE",
        "colab": {
          "base_uri": "https://localhost:8080/",
          "height": 141
        },
        "outputId": "07fa326d-a12b-4c19-df1d-8d996aa53596"
      },
      "source": [
        "df.dropna(axis=0) # drop the rows with any NaN, equal to df.dropna(axis=0, how='any')"
      ],
      "execution_count": 55,
      "outputs": [
        {
          "output_type": "execute_result",
          "data": {
            "text/plain": [
              "     name   age gender  preMLScore  postMLScore\n",
              "0   Jason  36.0      m         1.0         65.0\n",
              "4    Alex  36.0      f         3.0         70.0\n",
              "5  Meimei  16.0      f        90.0        100.0"
            ],
            "text/html": "<div>\n<style scoped>\n    .dataframe tbody tr th:only-of-type {\n        vertical-align: middle;\n    }\n\n    .dataframe tbody tr th {\n        vertical-align: top;\n    }\n\n    .dataframe thead th {\n        text-align: right;\n    }\n</style>\n<table border=\"1\" class=\"dataframe\">\n  <thead>\n    <tr style=\"text-align: right;\">\n      <th></th>\n      <th>name</th>\n      <th>age</th>\n      <th>gender</th>\n      <th>preMLScore</th>\n      <th>postMLScore</th>\n    </tr>\n  </thead>\n  <tbody>\n    <tr>\n      <th>0</th>\n      <td>Jason</td>\n      <td>36.0</td>\n      <td>m</td>\n      <td>1.0</td>\n      <td>65.0</td>\n    </tr>\n    <tr>\n      <th>4</th>\n      <td>Alex</td>\n      <td>36.0</td>\n      <td>f</td>\n      <td>3.0</td>\n      <td>70.0</td>\n    </tr>\n    <tr>\n      <th>5</th>\n      <td>Meimei</td>\n      <td>16.0</td>\n      <td>f</td>\n      <td>90.0</td>\n      <td>100.0</td>\n    </tr>\n  </tbody>\n</table>\n</div>"
          },
          "metadata": {},
          "execution_count": 55
        }
      ]
    },
    {
      "cell_type": "code",
      "metadata": {
        "id": "Wo83IB5d0Bet",
        "colab": {
          "base_uri": "https://localhost:8080/",
          "height": 202
        },
        "outputId": "9716ef66-3a26-4c26-e4bb-cbc7490dfecd"
      },
      "source": [
        "df.dropna(how='all', inplace=True) # drop the rows that every column is NaN\n",
        "df = df.reset_index(drop=True)\n",
        "df"
      ],
      "execution_count": 56,
      "outputs": [
        {
          "output_type": "execute_result",
          "data": {
            "text/plain": [
              "     name   age gender  preMLScore  postMLScore\n",
              "0   Jason  36.0      m         1.0         65.0\n",
              "1    Mike  36.0      m         NaN          NaN\n",
              "2  Rayman  18.0    NaN         2.0         62.0\n",
              "3    Alex  36.0      f         3.0         70.0\n",
              "4  Meimei  16.0      f        90.0        100.0"
            ],
            "text/html": "<div>\n<style scoped>\n    .dataframe tbody tr th:only-of-type {\n        vertical-align: middle;\n    }\n\n    .dataframe tbody tr th {\n        vertical-align: top;\n    }\n\n    .dataframe thead th {\n        text-align: right;\n    }\n</style>\n<table border=\"1\" class=\"dataframe\">\n  <thead>\n    <tr style=\"text-align: right;\">\n      <th></th>\n      <th>name</th>\n      <th>age</th>\n      <th>gender</th>\n      <th>preMLScore</th>\n      <th>postMLScore</th>\n    </tr>\n  </thead>\n  <tbody>\n    <tr>\n      <th>0</th>\n      <td>Jason</td>\n      <td>36.0</td>\n      <td>m</td>\n      <td>1.0</td>\n      <td>65.0</td>\n    </tr>\n    <tr>\n      <th>1</th>\n      <td>Mike</td>\n      <td>36.0</td>\n      <td>m</td>\n      <td>NaN</td>\n      <td>NaN</td>\n    </tr>\n    <tr>\n      <th>2</th>\n      <td>Rayman</td>\n      <td>18.0</td>\n      <td>NaN</td>\n      <td>2.0</td>\n      <td>62.0</td>\n    </tr>\n    <tr>\n      <th>3</th>\n      <td>Alex</td>\n      <td>36.0</td>\n      <td>f</td>\n      <td>3.0</td>\n      <td>70.0</td>\n    </tr>\n    <tr>\n      <th>4</th>\n      <td>Meimei</td>\n      <td>16.0</td>\n      <td>f</td>\n      <td>90.0</td>\n      <td>100.0</td>\n    </tr>\n  </tbody>\n</table>\n</div>"
          },
          "metadata": {},
          "execution_count": 56
        }
      ]
    },
    {
      "cell_type": "code",
      "metadata": {
        "id": "K9Zt5iZC0fnJ",
        "colab": {
          "base_uri": "https://localhost:8080/",
          "height": 202
        },
        "outputId": "cda5d06e-0b83-4065-f23b-c9bade3fe012"
      },
      "source": [
        "df['playgames'] = np.nan # add an address column that all the values are NaN\n",
        "df"
      ],
      "execution_count": 57,
      "outputs": [
        {
          "output_type": "execute_result",
          "data": {
            "text/plain": [
              "     name   age gender  preMLScore  postMLScore  playgames\n",
              "0   Jason  36.0      m         1.0         65.0        NaN\n",
              "1    Mike  36.0      m         NaN          NaN        NaN\n",
              "2  Rayman  18.0    NaN         2.0         62.0        NaN\n",
              "3    Alex  36.0      f         3.0         70.0        NaN\n",
              "4  Meimei  16.0      f        90.0        100.0        NaN"
            ],
            "text/html": "<div>\n<style scoped>\n    .dataframe tbody tr th:only-of-type {\n        vertical-align: middle;\n    }\n\n    .dataframe tbody tr th {\n        vertical-align: top;\n    }\n\n    .dataframe thead th {\n        text-align: right;\n    }\n</style>\n<table border=\"1\" class=\"dataframe\">\n  <thead>\n    <tr style=\"text-align: right;\">\n      <th></th>\n      <th>name</th>\n      <th>age</th>\n      <th>gender</th>\n      <th>preMLScore</th>\n      <th>postMLScore</th>\n      <th>playgames</th>\n    </tr>\n  </thead>\n  <tbody>\n    <tr>\n      <th>0</th>\n      <td>Jason</td>\n      <td>36.0</td>\n      <td>m</td>\n      <td>1.0</td>\n      <td>65.0</td>\n      <td>NaN</td>\n    </tr>\n    <tr>\n      <th>1</th>\n      <td>Mike</td>\n      <td>36.0</td>\n      <td>m</td>\n      <td>NaN</td>\n      <td>NaN</td>\n      <td>NaN</td>\n    </tr>\n    <tr>\n      <th>2</th>\n      <td>Rayman</td>\n      <td>18.0</td>\n      <td>NaN</td>\n      <td>2.0</td>\n      <td>62.0</td>\n      <td>NaN</td>\n    </tr>\n    <tr>\n      <th>3</th>\n      <td>Alex</td>\n      <td>36.0</td>\n      <td>f</td>\n      <td>3.0</td>\n      <td>70.0</td>\n      <td>NaN</td>\n    </tr>\n    <tr>\n      <th>4</th>\n      <td>Meimei</td>\n      <td>16.0</td>\n      <td>f</td>\n      <td>90.0</td>\n      <td>100.0</td>\n      <td>NaN</td>\n    </tr>\n  </tbody>\n</table>\n</div>"
          },
          "metadata": {},
          "execution_count": 57
        }
      ]
    },
    {
      "cell_type": "code",
      "metadata": {
        "id": "tuQkcpz10vkd",
        "colab": {
          "base_uri": "https://localhost:8080/",
          "height": 202
        },
        "outputId": "5404ae65-634c-4364-fcc1-8f758bea90e4"
      },
      "source": [
        "df.dropna(axis=1, how='all') # drop the column that all values are NaN"
      ],
      "execution_count": 58,
      "outputs": [
        {
          "output_type": "execute_result",
          "data": {
            "text/plain": [
              "     name   age gender  preMLScore  postMLScore\n",
              "0   Jason  36.0      m         1.0         65.0\n",
              "1    Mike  36.0      m         NaN          NaN\n",
              "2  Rayman  18.0    NaN         2.0         62.0\n",
              "3    Alex  36.0      f         3.0         70.0\n",
              "4  Meimei  16.0      f        90.0        100.0"
            ],
            "text/html": "<div>\n<style scoped>\n    .dataframe tbody tr th:only-of-type {\n        vertical-align: middle;\n    }\n\n    .dataframe tbody tr th {\n        vertical-align: top;\n    }\n\n    .dataframe thead th {\n        text-align: right;\n    }\n</style>\n<table border=\"1\" class=\"dataframe\">\n  <thead>\n    <tr style=\"text-align: right;\">\n      <th></th>\n      <th>name</th>\n      <th>age</th>\n      <th>gender</th>\n      <th>preMLScore</th>\n      <th>postMLScore</th>\n    </tr>\n  </thead>\n  <tbody>\n    <tr>\n      <th>0</th>\n      <td>Jason</td>\n      <td>36.0</td>\n      <td>m</td>\n      <td>1.0</td>\n      <td>65.0</td>\n    </tr>\n    <tr>\n      <th>1</th>\n      <td>Mike</td>\n      <td>36.0</td>\n      <td>m</td>\n      <td>NaN</td>\n      <td>NaN</td>\n    </tr>\n    <tr>\n      <th>2</th>\n      <td>Rayman</td>\n      <td>18.0</td>\n      <td>NaN</td>\n      <td>2.0</td>\n      <td>62.0</td>\n    </tr>\n    <tr>\n      <th>3</th>\n      <td>Alex</td>\n      <td>36.0</td>\n      <td>f</td>\n      <td>3.0</td>\n      <td>70.0</td>\n    </tr>\n    <tr>\n      <th>4</th>\n      <td>Meimei</td>\n      <td>16.0</td>\n      <td>f</td>\n      <td>90.0</td>\n      <td>100.0</td>\n    </tr>\n  </tbody>\n</table>\n</div>"
          },
          "metadata": {},
          "execution_count": 58
        }
      ]
    },
    {
      "cell_type": "code",
      "metadata": {
        "id": "kXchJjD-1K6j",
        "colab": {
          "base_uri": "https://localhost:8080/",
          "height": 141
        },
        "outputId": "a4769db9-e85b-417c-afc6-55b89d952340"
      },
      "source": [
        "df.dropna(thresh=5) # drop the rows without at least five actual value columns"
      ],
      "execution_count": 59,
      "outputs": [
        {
          "output_type": "execute_result",
          "data": {
            "text/plain": [
              "     name   age gender  preMLScore  postMLScore  playgames\n",
              "0   Jason  36.0      m         1.0         65.0        NaN\n",
              "3    Alex  36.0      f         3.0         70.0        NaN\n",
              "4  Meimei  16.0      f        90.0        100.0        NaN"
            ],
            "text/html": "<div>\n<style scoped>\n    .dataframe tbody tr th:only-of-type {\n        vertical-align: middle;\n    }\n\n    .dataframe tbody tr th {\n        vertical-align: top;\n    }\n\n    .dataframe thead th {\n        text-align: right;\n    }\n</style>\n<table border=\"1\" class=\"dataframe\">\n  <thead>\n    <tr style=\"text-align: right;\">\n      <th></th>\n      <th>name</th>\n      <th>age</th>\n      <th>gender</th>\n      <th>preMLScore</th>\n      <th>postMLScore</th>\n      <th>playgames</th>\n    </tr>\n  </thead>\n  <tbody>\n    <tr>\n      <th>0</th>\n      <td>Jason</td>\n      <td>36.0</td>\n      <td>m</td>\n      <td>1.0</td>\n      <td>65.0</td>\n      <td>NaN</td>\n    </tr>\n    <tr>\n      <th>3</th>\n      <td>Alex</td>\n      <td>36.0</td>\n      <td>f</td>\n      <td>3.0</td>\n      <td>70.0</td>\n      <td>NaN</td>\n    </tr>\n    <tr>\n      <th>4</th>\n      <td>Meimei</td>\n      <td>16.0</td>\n      <td>f</td>\n      <td>90.0</td>\n      <td>100.0</td>\n      <td>NaN</td>\n    </tr>\n  </tbody>\n</table>\n</div>"
          },
          "metadata": {},
          "execution_count": 59
        }
      ]
    },
    {
      "cell_type": "markdown",
      "metadata": {
        "id": "TPbQfV4F1rPN"
      },
      "source": [
        "**Imputation**"
      ]
    },
    {
      "cell_type": "code",
      "metadata": {
        "id": "hZb8ghjw1uUW",
        "colab": {
          "base_uri": "https://localhost:8080/",
          "height": 202
        },
        "outputId": "67f2d363-b951-4d93-837d-36e478e21617"
      },
      "source": [
        "df.fillna(0) # fill 0 to all missing values"
      ],
      "execution_count": 60,
      "outputs": [
        {
          "output_type": "execute_result",
          "data": {
            "text/plain": [
              "     name   age gender  preMLScore  postMLScore  playgames\n",
              "0   Jason  36.0      m         1.0         65.0        0.0\n",
              "1    Mike  36.0      m         0.0          0.0        0.0\n",
              "2  Rayman  18.0      0         2.0         62.0        0.0\n",
              "3    Alex  36.0      f         3.0         70.0        0.0\n",
              "4  Meimei  16.0      f        90.0        100.0        0.0"
            ],
            "text/html": "<div>\n<style scoped>\n    .dataframe tbody tr th:only-of-type {\n        vertical-align: middle;\n    }\n\n    .dataframe tbody tr th {\n        vertical-align: top;\n    }\n\n    .dataframe thead th {\n        text-align: right;\n    }\n</style>\n<table border=\"1\" class=\"dataframe\">\n  <thead>\n    <tr style=\"text-align: right;\">\n      <th></th>\n      <th>name</th>\n      <th>age</th>\n      <th>gender</th>\n      <th>preMLScore</th>\n      <th>postMLScore</th>\n      <th>playgames</th>\n    </tr>\n  </thead>\n  <tbody>\n    <tr>\n      <th>0</th>\n      <td>Jason</td>\n      <td>36.0</td>\n      <td>m</td>\n      <td>1.0</td>\n      <td>65.0</td>\n      <td>0.0</td>\n    </tr>\n    <tr>\n      <th>1</th>\n      <td>Mike</td>\n      <td>36.0</td>\n      <td>m</td>\n      <td>0.0</td>\n      <td>0.0</td>\n      <td>0.0</td>\n    </tr>\n    <tr>\n      <th>2</th>\n      <td>Rayman</td>\n      <td>18.0</td>\n      <td>0</td>\n      <td>2.0</td>\n      <td>62.0</td>\n      <td>0.0</td>\n    </tr>\n    <tr>\n      <th>3</th>\n      <td>Alex</td>\n      <td>36.0</td>\n      <td>f</td>\n      <td>3.0</td>\n      <td>70.0</td>\n      <td>0.0</td>\n    </tr>\n    <tr>\n      <th>4</th>\n      <td>Meimei</td>\n      <td>16.0</td>\n      <td>f</td>\n      <td>90.0</td>\n      <td>100.0</td>\n      <td>0.0</td>\n    </tr>\n  </tbody>\n</table>\n</div>"
          },
          "metadata": {},
          "execution_count": 60
        }
      ]
    },
    {
      "cell_type": "code",
      "metadata": {
        "id": "F4vOA_9F3Aq3",
        "colab": {
          "base_uri": "https://localhost:8080/"
        },
        "outputId": "47ae42f2-6b49-4abf-b215-3ae88e857044"
      },
      "source": [
        "df.gender.fillna(method='ffill') # carry the forward value to the missing value"
      ],
      "execution_count": 61,
      "outputs": [
        {
          "output_type": "execute_result",
          "data": {
            "text/plain": [
              "0    m\n",
              "1    m\n",
              "2    m\n",
              "3    f\n",
              "4    f\n",
              "Name: gender, dtype: object"
            ]
          },
          "metadata": {},
          "execution_count": 61
        }
      ]
    },
    {
      "cell_type": "code",
      "metadata": {
        "id": "40E5q37i3yvy",
        "colab": {
          "base_uri": "https://localhost:8080/"
        },
        "outputId": "6f3e2c1a-0c6d-4284-f3b3-d05149c3b6c6"
      },
      "source": [
        "df.gender.fillna(method='bfill') # carry the backward value to the missing value"
      ],
      "execution_count": 62,
      "outputs": [
        {
          "output_type": "execute_result",
          "data": {
            "text/plain": [
              "0    m\n",
              "1    m\n",
              "2    f\n",
              "3    f\n",
              "4    f\n",
              "Name: gender, dtype: object"
            ]
          },
          "metadata": {},
          "execution_count": 62
        }
      ]
    },
    {
      "cell_type": "code",
      "metadata": {
        "id": "NF6LHkE714OL",
        "colab": {
          "base_uri": "https://localhost:8080/",
          "height": 202
        },
        "outputId": "2e9c1884-628e-4095-8bc1-16b09c4c92b5"
      },
      "source": [
        "df[\"preMLScore\"].fillna(df[\"preMLScore\"].median(), inplace=True) # fill preMLScore with its median\n",
        "df"
      ],
      "execution_count": 63,
      "outputs": [
        {
          "output_type": "execute_result",
          "data": {
            "text/plain": [
              "     name   age gender  preMLScore  postMLScore  playgames\n",
              "0   Jason  36.0      m         1.0         65.0        NaN\n",
              "1    Mike  36.0      m         2.5          NaN        NaN\n",
              "2  Rayman  18.0    NaN         2.0         62.0        NaN\n",
              "3    Alex  36.0      f         3.0         70.0        NaN\n",
              "4  Meimei  16.0      f        90.0        100.0        NaN"
            ],
            "text/html": "<div>\n<style scoped>\n    .dataframe tbody tr th:only-of-type {\n        vertical-align: middle;\n    }\n\n    .dataframe tbody tr th {\n        vertical-align: top;\n    }\n\n    .dataframe thead th {\n        text-align: right;\n    }\n</style>\n<table border=\"1\" class=\"dataframe\">\n  <thead>\n    <tr style=\"text-align: right;\">\n      <th></th>\n      <th>name</th>\n      <th>age</th>\n      <th>gender</th>\n      <th>preMLScore</th>\n      <th>postMLScore</th>\n      <th>playgames</th>\n    </tr>\n  </thead>\n  <tbody>\n    <tr>\n      <th>0</th>\n      <td>Jason</td>\n      <td>36.0</td>\n      <td>m</td>\n      <td>1.0</td>\n      <td>65.0</td>\n      <td>NaN</td>\n    </tr>\n    <tr>\n      <th>1</th>\n      <td>Mike</td>\n      <td>36.0</td>\n      <td>m</td>\n      <td>2.5</td>\n      <td>NaN</td>\n      <td>NaN</td>\n    </tr>\n    <tr>\n      <th>2</th>\n      <td>Rayman</td>\n      <td>18.0</td>\n      <td>NaN</td>\n      <td>2.0</td>\n      <td>62.0</td>\n      <td>NaN</td>\n    </tr>\n    <tr>\n      <th>3</th>\n      <td>Alex</td>\n      <td>36.0</td>\n      <td>f</td>\n      <td>3.0</td>\n      <td>70.0</td>\n      <td>NaN</td>\n    </tr>\n    <tr>\n      <th>4</th>\n      <td>Meimei</td>\n      <td>16.0</td>\n      <td>f</td>\n      <td>90.0</td>\n      <td>100.0</td>\n      <td>NaN</td>\n    </tr>\n  </tbody>\n</table>\n</div>"
          },
          "metadata": {},
          "execution_count": 63
        }
      ]
    }
  ]
}