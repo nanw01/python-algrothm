{
 "metadata": {
  "language_info": {
   "codemirror_mode": {
    "name": "ipython",
    "version": 3
   },
   "file_extension": ".py",
   "mimetype": "text/x-python",
   "name": "python",
   "nbconvert_exporter": "python",
   "pygments_lexer": "ipython3",
   "version": "3.8.5-final"
  },
  "orig_nbformat": 2,
  "kernelspec": {
   "name": "python3",
   "display_name": "Python 3.8.5 64-bit ('anaconda3': conda)",
   "metadata": {
    "interpreter": {
     "hash": "858990fd0c91b11d2845e77058ef8b2e31d353f5243685c27ad3c2a3691daea4"
    }
   }
  }
 },
 "nbformat": 4,
 "nbformat_minor": 2,
 "cells": [
  {
   "cell_type": "code",
   "execution_count": null,
   "metadata": {},
   "outputs": [],
   "source": [
    "class TreeNode(object):\n",
    "    def __init__(self,x):\n",
    "        self.val = x\n",
    "        self.left = None\n",
    "        self.right = None"
   ]
  },
  {
   "cell_type": "code",
   "execution_count": null,
   "metadata": {},
   "outputs": [],
   "source": [
    "from collections import deque\n",
    "def build_tree(lst):\n",
    "    temp = deque(lst)\n",
    "    \n",
    "        \n",
    "\n",
    "\n",
    "\n",
    "    "
   ]
  },
  {
   "cell_type": "code",
   "execution_count": 1,
   "metadata": {},
   "outputs": [],
   "source": [
    "from collections import deque\n",
    "s = deque([1,2,3])"
   ]
  },
  {
   "cell_type": "code",
   "execution_count": 2,
   "metadata": {},
   "outputs": [
    {
     "output_type": "execute_result",
     "data": {
      "text/plain": [
       "deque([1, 2, 3])"
      ]
     },
     "metadata": {},
     "execution_count": 2
    }
   ],
   "source": [
    "s"
   ]
  },
  {
   "cell_type": "code",
   "execution_count": 4,
   "metadata": {},
   "outputs": [],
   "source": [
    "def preOrderTraversal(self, root):\n",
    "    res = []\n",
    "    preOrder(root)\n",
    "    return res\n",
    "\n",
    "def _preOrder(root,res):\n",
    "    if not root:\n",
    "        return\n",
    "    res.append(root.val)\n",
    "    _preOrder(root.left, res)\n",
    "    _preOrder(root.right, res)"
   ]
  },
  {
   "cell_type": "code",
   "execution_count": null,
   "metadata": {},
   "outputs": [],
   "source": [
    "def getHeight(root):\n",
    "    if root is None:\n",
    "        return 0\n",
    "    left = getHeight(root.left)\n",
    "    right = getHeight(root.right)\n",
    "\n",
    "    return 1 + max(left, right)"
   ]
  },
  {
   "cell_type": "code",
   "execution_count": null,
   "metadata": {},
   "outputs": [],
   "source": [
    "from collections import deque\n",
    "def leve(root):\n",
    "    q = deque([root])\n",
    "    ret = []\n",
    "    while q:\n",
    "        head= q.popleft()\n",
    "        if head.left:\n",
    "            q.append(head.left)\n",
    "        if head.right:\n",
    "            q.append(head.right)\n",
    "        ret.append(head.val)\n",
    "        if not q:\n",
    "            print(val)\n",
    "            i"
   ]
  },
  {
   "cell_type": "code",
   "execution_count": null,
   "metadata": {},
   "outputs": [],
   "source": []
  },
  {
   "cell_type": "code",
   "execution_count": null,
   "metadata": {},
   "outputs": [],
   "source": [
    "# Definition for a binary tree node.\n",
    "# class TreeNode(object):\n",
    "#     def __init__(self, x):\n",
    "#         self.val = x\n",
    "#         self.left = None\n",
    "#         self.right = None\n",
    "class Solution(object):\n",
    "  def inOrder(self, root):\n",
    "    \"\"\"\n",
    "    input: TreeNode root\n",
    "    return: Integer[]\n",
    "    \"\"\"\n",
    "    # write your solution here\n",
    "    return self._inOrder(root, [])\n",
    "\n",
    "  def _inOrder(self, root, ret):\n",
    "    if root is None:\n",
    "      return []\n",
    "    \n",
    "    self._inOrder(root.left, ret)\n",
    "    ret.append(root.val)\n",
    "    self._inOrder(root.right, ret)\n",
    "\n",
    "    return ret"
   ]
  },
  {
   "cell_type": "code",
   "execution_count": null,
   "metadata": {},
   "outputs": [],
   "source": []
  },
  {
   "cell_type": "code",
   "execution_count": null,
   "metadata": {},
   "outputs": [],
   "source": [
    "# Definition for a binary tree node.\n",
    "# class TreeNode(object):\n",
    "#     def __init__(self, x):\n",
    "#         self.val = x\n",
    "#         self.left = None\n",
    "#         self.right = None\n",
    "class Solution(object):\n",
    "  def preOrder(self, root):\n",
    "    \"\"\"\n",
    "    input: TreeNode root\n",
    "    return: Integer[]\n",
    "    \"\"\"\n",
    "    # write your solution here\n",
    "    return self._preOrder(root, [])\n",
    "\n",
    "  def _preOrder(self, root, ret):\n",
    "    if root is None:\n",
    "      return []\n",
    "    \n",
    "    ret.append(root.val)\n",
    "    self._preOrder(root.left, ret)\n",
    "    self._preOrder(root.right, ret)\n",
    "\n",
    "    return ret"
   ]
  },
  {
   "cell_type": "code",
   "execution_count": null,
   "metadata": {},
   "outputs": [],
   "source": []
  },
  {
   "cell_type": "code",
   "execution_count": null,
   "metadata": {},
   "outputs": [],
   "source": [
    "# Definition for a binary tree node.\n",
    "# class TreeNode(object):\n",
    "#     def __init__(self, x):\n",
    "#         self.val = x\n",
    "#         self.left = None\n",
    "#         self.right = None\n",
    "class Solution(object):\n",
    "  def postOrder(self, root):\n",
    "    \"\"\"\n",
    "    input: TreeNode root\n",
    "    return: Integer[]\n",
    "    \"\"\"\n",
    "    # write your solution here\n",
    "    return self._postOrder(root, [])\n",
    "\n",
    "  def _postOrder(self, root, ret):\n",
    "    if root is None:\n",
    "      return []\n",
    "\n",
    "    self._postOrder(root.left, ret)\n",
    "    self._postOrder(root.right, ret)\n",
    "    ret.append(root.val)\n",
    "\n",
    "    return ret"
   ]
  },
  {
   "cell_type": "code",
   "execution_count": null,
   "metadata": {},
   "outputs": [],
   "source": []
  },
  {
   "cell_type": "code",
   "execution_count": null,
   "metadata": {},
   "outputs": [],
   "source": [
    "# Definition for a binary tree node.\n",
    "# class TreeNode(object):\n",
    "#     def __init__(self, x):\n",
    "#         self.val = x\n",
    "#         self.left = None\n",
    "#         self.right = None\n",
    "class Solution(object):\n",
    "  def isSymmetric(self, root):\n",
    "    \"\"\"\n",
    "    input: TreeNode root\n",
    "    return: boolean\n",
    "    \"\"\"\n",
    "    # write your solution here\n",
    "    return self._isSymmetric(root, root)\n",
    "\n",
    "  def _isSymmetric(self, node1, node2):\n",
    "    if node1 is None and node2 is None:\n",
    "      return True\n",
    "    if not node1 or not node2:\n",
    "      return False\n",
    "    if node1.val != node2.val:\n",
    "      return False\n",
    "\n",
    "    return self._isSymmetric(node1.left,node2.right) and self._isSymmetric(node1.right, node2.left)\n"
   ]
  },
  {
   "cell_type": "code",
   "execution_count": null,
   "metadata": {},
   "outputs": [],
   "source": []
  },
  {
   "cell_type": "code",
   "execution_count": null,
   "metadata": {},
   "outputs": [],
   "source": [
    "# Definition for a binary tree node.\n",
    "# class TreeNode(object):\n",
    "#     def __init__(self, x):\n",
    "#         self.val = x\n",
    "#         self.left = None\n",
    "#         self.right = None\n",
    "class Solution(object):\n",
    "  def exist(self, root, target):\n",
    "    \"\"\"\n",
    "    input: TreeNode root, int target\n",
    "    return: boolean\n",
    "    \"\"\"\n",
    "    # write your solution here\n",
    "    return self._exist(root,target)\n",
    "\n",
    "  def _exist(self, root, target):\n",
    "    if root is None:\n",
    "      return 0\n",
    "    if root.left is None and root.right is None:\n",
    "      return root.val == target\n",
    "    \n",
    "    return self._exist(root.left, target - root.val) and self._exist(root.right, target - root.val)"
   ]
  },
  {
   "cell_type": "code",
   "execution_count": null,
   "metadata": {},
   "outputs": [],
   "source": [
    "  def _exist(self, node, target):\n",
    "    if node is None:\n",
    "      return 0\n",
    "    if node.left is None and node.right is None:\n",
    "      return node.val == target\n",
    "    \n",
    "    return self._exist(node.left, target - node.val) or self._exist(node.right, target - node.val)\n",
    "    "
   ]
  },
  {
   "cell_type": "code",
   "execution_count": null,
   "metadata": {},
   "outputs": [],
   "source": []
  },
  {
   "cell_type": "code",
   "execution_count": null,
   "metadata": {},
   "outputs": [],
   "source": [
    "# Definition for a binary tree node.\n",
    "# class TreeNode(object):\n",
    "#     def __init__(self, x):\n",
    "#         self.val = x\n",
    "#         self.left = None\n",
    "#         self.right = None\n",
    "\n",
    "class Solution(object):\n",
    "    def lowestCommonAncestor(self, root, p, q):\n",
    "        \"\"\"\n",
    "        :type root: TreeNode\n",
    "        :type p: TreeNode\n",
    "        :type q: TreeNode\n",
    "        :rtype: TreeNode\n",
    "        \"\"\"\n",
    "        return self._lowestCommonAncestor(root, p,q)\n",
    "    \n"
   ]
  },
  {
   "cell_type": "code",
   "execution_count": null,
   "metadata": {},
   "outputs": [],
   "source": []
  },
  {
   "cell_type": "code",
   "execution_count": null,
   "metadata": {},
   "outputs": [],
   "source": [
    "# Definition for a binary tree node.\n",
    "# class TreeNode(object):\n",
    "#     def __init__(self, x):\n",
    "#         self.val = x\n",
    "#         self.left = None\n",
    "#         self.right = None\n",
    "\n",
    "class Solution(object):\n",
    "    def lowestCommonAncestor(self, root, p, q):\n",
    "        \"\"\"\n",
    "        :type root: TreeNode\n",
    "        :type p: TreeNode\n",
    "        :type q: TreeNode\n",
    "        :rtype: TreeNode\n",
    "        \"\"\"\n",
    "        return self._lowestCommonAncestor(root, p, q)\n",
    "\n",
    "    def _lowestCommonAncestor(self, node, p, q):\n",
    "        if node is None:\n",
    "            return node\n",
    "\n",
    "        if node == q or node == p:\n",
    "            return node\n",
    "\n",
    "        left = self._lowestCommonAncestor(node.left, p, q)\n",
    "        right = self._lowestCommonAncestor(node.right, p, q)\n",
    "\n",
    "        if left and right:\n",
    "            return node\n",
    "        if left:\n",
    "            return left\n",
    "        return right"
   ]
  },
  {
   "cell_type": "code",
   "execution_count": null,
   "metadata": {},
   "outputs": [],
   "source": []
  },
  {
   "cell_type": "code",
   "execution_count": null,
   "metadata": {},
   "outputs": [],
   "source": [
    "# Definition for a binary tree node.\n",
    "# class TreeNode(object):\n",
    "#     def __init__(self, x):\n",
    "#         self.val = x\n",
    "#         self.left = None\n",
    "#         self.right = None\n",
    "class Solution(object):\n",
    "  def isBST(self, root):\n",
    "    \"\"\"\n",
    "    input: TreeNode root\n",
    "    return: boolean\n",
    "    \"\"\"\n",
    "    # write your solution here\n",
    "    return self._isBST(root,float('-inf'), float('inf'))\n",
    "\n",
    "  def _isBST(self, node, left, right):\n",
    "    if node is None:\n",
    "      return True\n",
    "    if node.val <= left or node.val >= right:\n",
    "      return False\n",
    "\n",
    "    return self._isBST(node.left, left, node.val) and self._isBST(node.right, node.val, right)\n"
   ]
  },
  {
   "cell_type": "code",
   "execution_count": null,
   "metadata": {},
   "outputs": [],
   "source": []
  },
  {
   "cell_type": "code",
   "execution_count": null,
   "metadata": {},
   "outputs": [],
   "source": [
    "# Definition for a binary tree node.\n",
    "# class TreeNode(object):\n",
    "#     def __init__(self, x):\n",
    "#         self.val = x\n",
    "#         self.left = None\n",
    "#         self.right = None\n",
    "class Solution(object):\n",
    "  def preOrder(self, root):\n",
    "    \"\"\"\n",
    "    input: TreeNode root\n",
    "    return: Integer[]\n",
    "    \"\"\"\n",
    "    # write your solution here\n",
    "    if root is None:\n",
    "      return []\n",
    "\n",
    "    output = []\n",
    "    stack = [(root, 1)]\n",
    "    while stack:\n",
    "      node, count = stack.pop()\n",
    "      if count == 1:\n",
    "        output.append(node.val)\n",
    "        stack.append((node, count + 1))\n",
    "        if node.left:\n",
    "          stack.append((node.left, 1))\n",
    "      if count == 2:\n",
    "        if node.right:\n",
    "          stack.append((node.right, 1))\n",
    "    \n",
    "    return output\n"
   ]
  },
  {
   "cell_type": "code",
   "execution_count": null,
   "metadata": {},
   "outputs": [],
   "source": [
    "def preOrder(root):\n",
    "    if root is None:\n",
    "        reutrn []\n",
    "    output = []\n",
    "    stock = []\n",
    "    while stack:\n",
    "        node, count = stack.pop()\n",
    "        if count==1:\n",
    "            output.append(node.val)\n",
    "            stack.append((node.left,count+1)\n",
    "            if node.left:\n",
    "                stack.append((node.left,1))\n",
    "        if count ==2:\n",
    "            if node.right:\n",
    "                stack.append((node.right,1))\n",
    "    return output"
   ]
  },
  {
   "cell_type": "code",
   "execution_count": null,
   "metadata": {},
   "outputs": [],
   "source": []
  },
  {
   "cell_type": "code",
   "execution_count": null,
   "metadata": {},
   "outputs": [],
   "source": [
    "# Definition for a binary tree node.\n",
    "# class TreeNode(object):\n",
    "#     def __init__(self, x):\n",
    "#         self.val = x\n",
    "#         self.left = None\n",
    "#         self.right = None\n",
    "class Solution(object):\n",
    "  def inOrder(self, root):\n",
    "    \"\"\"\n",
    "    input: TreeNode root\n",
    "    return: Integer[]\n",
    "    \"\"\"\n",
    "    # write your solution here\n",
    "    if root is None:\n",
    "      return []\n",
    "    output, stack = [],[(root, 1)]\n",
    "    while stack:\n",
    "      node, count = stack.pop()\n",
    "      if count == 2:\n",
    "        output.append(node.val)\n",
    "        if node.right:\n",
    "          stack.append((node.right, 1))\n",
    "      if count == 1:\n",
    "        stack.append((node, count + 1))\n",
    "        if node.left:\n",
    "          stack.append((node.left, 1))\n",
    "\n",
    "    return output"
   ]
  },
  {
   "cell_type": "code",
   "execution_count": null,
   "metadata": {},
   "outputs": [],
   "source": []
  },
  {
   "cell_type": "code",
   "execution_count": null,
   "metadata": {},
   "outputs": [],
   "source": []
  }
 ]
}