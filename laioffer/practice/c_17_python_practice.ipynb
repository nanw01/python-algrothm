{
 "metadata": {
  "language_info": {
   "codemirror_mode": {
    "name": "ipython",
    "version": 3
   },
   "file_extension": ".py",
   "mimetype": "text/x-python",
   "name": "python",
   "nbconvert_exporter": "python",
   "pygments_lexer": "ipython3",
   "version": "3.8.5"
  },
  "orig_nbformat": 2,
  "kernelspec": {
   "name": "python3",
   "display_name": "Python 3",
   "language": "python"
  }
 },
 "nbformat": 4,
 "nbformat_minor": 2,
 "cells": [
  {
   "cell_type": "code",
   "execution_count": 5,
   "metadata": {},
   "outputs": [],
   "source": [
    "class ListNode(object):\n",
    "    def __init__(self, value):\n",
    "        self.value = value\n",
    "        self.next = None\n",
    "\n",
    "def printList(node):\n",
    "    a = []\n",
    "    while node is not None:\n",
    "        a.append(node.value)\n",
    "        node = node.next\n",
    "    return a\n",
    "\n",
    "def removeVowel(head):\n",
    "    fakeHead = ListNode(None)\n",
    "    fakeHead.next = head\n",
    "    prev = fakeHead\n",
    "    curr = head\n",
    "\n",
    "    vowels = ['a', 'e','i', 'o', 'u']\n",
    "    while curr:\n",
    "        if curr.value in vowels:\n",
    "            prev.next = curr.next\n",
    "        else:\n",
    "            prev = prev.next\n",
    "        curr = curr.next\n",
    "    \n",
    "    return fakeHead.next\n",
    "\n",
    "def buildList(seq):\n",
    "    f = ListNode(None)\n",
    "    c = f\n",
    "    for i in seq:\n",
    "        c.next = ListNode(i)\n",
    "        c = c.next\n",
    "    \n",
    "    return f.next\n",
    "            \n",
    "\n"
   ]
  },
  {
   "cell_type": "code",
   "execution_count": 14,
   "metadata": {},
   "outputs": [
    {
     "output_type": "execute_result",
     "data": {
      "text/plain": [
       "['p']"
      ]
     },
     "metadata": {},
     "execution_count": 14
    }
   ],
   "source": [
    "nodes = buildList(['a','e','i','o','u','p', 'a'])\n",
    "nodeNew = removeVowel(nodes)\n",
    "printList(nodeNew)"
   ]
  },
  {
   "cell_type": "code",
   "execution_count": 25,
   "metadata": {},
   "outputs": [],
   "source": [
    "def removeVowel1(head):\n",
    "    fakeHead = ListNode(None)\n",
    "    fakeHead.next = head\n",
    "    curr = fakeHead\n",
    "    vowels = ['a', 'e','i', 'o', 'u']\n",
    "    while curr and curr.next:\n",
    "        if curr.next.value in vowels:\n",
    "            curr.next = curr.next.next\n",
    "        else:\n",
    "            curr = curr.next\n",
    "    return fakeHead.next\n",
    "\n"
   ]
  },
  {
   "cell_type": "code",
   "execution_count": 26,
   "metadata": {},
   "outputs": [
    {
     "output_type": "execute_result",
     "data": {
      "text/plain": [
       "['p']"
      ]
     },
     "metadata": {},
     "execution_count": 26
    }
   ],
   "source": [
    "nodes = buildList(['a','e','i','o','u','p', 'a'])\n",
    "nodeNew = removeVowel1(nodes)\n",
    "printList(nodeNew)"
   ]
  },
  {
   "cell_type": "code",
   "execution_count": 27,
   "metadata": {},
   "outputs": [],
   "source": [
    "# reverse linked list"
   ]
  },
  {
   "cell_type": "code",
   "execution_count": 32,
   "metadata": {},
   "outputs": [],
   "source": [
    "def reverse(head):\n",
    "    prevNode = None\n",
    "    while head:\n",
    "        nextNode = head.next\n",
    "        head.next = prevNode\n",
    "        prevNode = head\n",
    "        head = nextNode\n",
    "    return prevNode\n"
   ]
  },
  {
   "cell_type": "code",
   "execution_count": 34,
   "metadata": {},
   "outputs": [
    {
     "output_type": "execute_result",
     "data": {
      "text/plain": [
       "[9, 8, 7, 6, 5, 4, 3, 2, 1]"
      ]
     },
     "metadata": {},
     "execution_count": 34
    }
   ],
   "source": [
    "nodes = buildList([1,2,3,4,5,6,7,8,9])\n",
    "nodeNew = reverse(nodes)\n",
    "printList(nodeNew)"
   ]
  },
  {
   "cell_type": "code",
   "execution_count": 39,
   "metadata": {},
   "outputs": [],
   "source": [
    "def reverse1(head):\n",
    "    if head is None or head.next is None:\n",
    "        return head\n",
    "    h = reverse1(head.next)\n",
    "    head.next.next = head\n",
    "    head.next = None\n",
    "    return h"
   ]
  },
  {
   "cell_type": "code",
   "execution_count": 40,
   "metadata": {},
   "outputs": [
    {
     "output_type": "execute_result",
     "data": {
      "text/plain": [
       "[9, 8, 7, 6, 5, 4, 3, 2, 1]"
      ]
     },
     "metadata": {},
     "execution_count": 40
    }
   ],
   "source": [
    "nodes = buildList([1,2,3,4,5,6,7,8,9])\n",
    "nodeNew = reverse1(nodes)\n",
    "printList(nodeNew)"
   ]
  },
  {
   "cell_type": "code",
   "execution_count": 50,
   "metadata": {},
   "outputs": [],
   "source": [
    "def add(head1, head2):\n",
    "    newHead1 = reverse1(head1)\n",
    "    newHead2 = reverse1(head2)\n",
    "    fakeHead = ListNode(None)\n",
    "    curNode = fakeHead\n",
    "    carry = 0\n",
    "    while newHead1 and newHead2:\n",
    "        tempSum = newHead1.value + newHead2.value + carry\n",
    "        carry = tempSum // 10\n",
    "        curNode.next = ListNode(tempSum % 10)\n",
    "        curNode = curNode.next\n",
    "        newHead1 = newHead1.next\n",
    "        newHead2 = newHead2.next\n",
    "    while newHead1:\n",
    "        tempSum = newHead1.value + carry\n",
    "        carry = tempSum // 10\n",
    "        curNode.next = ListNode(tempSum % 10)\n",
    "        curNode = curNode.next\n",
    "        newHead1 = newHead1.next\n",
    "    while newHead2:\n",
    "        tempSum = newHead2.value + carry\n",
    "        carry = tempSum // 10\n",
    "        curNode.next =  ListNode(tempSum % 10)\n",
    "        curNode = curNode.next\n",
    "        newHead2 = newHead2.next\n",
    "    if carry > 10:\n",
    "        curNode.next = ListNode(carry)\n",
    "    \n",
    "    return reverse1(fakeHead.next)"
   ]
  },
  {
   "cell_type": "code",
   "execution_count": 51,
   "metadata": {},
   "outputs": [
    {
     "output_type": "execute_result",
     "data": {
      "text/plain": [
       "[3, 1, 2]"
      ]
     },
     "metadata": {},
     "execution_count": 51
    }
   ],
   "source": [
    "nodes1 = buildList([1,2,3])\n",
    "nodes2 = buildList([1,8,9])\n",
    "\n",
    "node = add(nodes1, nodes2)\n",
    "printList(node)"
   ]
  },
  {
   "cell_type": "code",
   "execution_count": 62,
   "metadata": {},
   "outputs": [],
   "source": [
    "def findMid(head):\n",
    "    if head is None or head.next is None:\n",
    "        return head\n",
    "    fast = slow = head\n",
    "    while fast.next and fast.next.next:\n",
    "        fast = fast.next.next\n",
    "        slow = slow.next\n",
    "    \n",
    "    return slow"
   ]
  },
  {
   "cell_type": "code",
   "execution_count": 73,
   "metadata": {},
   "outputs": [
    {
     "output_type": "execute_result",
     "data": {
      "text/plain": [
       "2"
      ]
     },
     "metadata": {},
     "execution_count": 73
    }
   ],
   "source": [
    "node1 = buildList([1,2,3,4])\n",
    "findMid(node1).value"
   ]
  },
  {
   "cell_type": "code",
   "execution_count": null,
   "metadata": {},
   "outputs": [],
   "source": [
    "def isPalindrome(head):\n",
    "    fakeHead = ListNode(None)\n",
    "    fakeHead.next = head\n",
    "    midNodePrev = findMid(fakeHead)\n",
    "    midNode = midNodePrev.next\n",
    "    midNodePrev.next = None\n",
    "    head1 = head\n",
    "    head2 = removeVowel1(midNode)\n",
    "    while head1 and head2:\n",
    "        if head1.value != head2.value:\n",
    "            return False\n",
    "        head1 = head1.next\n",
    "        head2 = head2.next\n",
    "    return True\n"
   ]
  },
  {
   "cell_type": "code",
   "execution_count": null,
   "metadata": {},
   "outputs": [],
   "source": []
  },
  {
   "cell_type": "code",
   "execution_count": null,
   "metadata": {},
   "outputs": [],
   "source": [
    "def removeAllVowel(node):\n",
    "    fakeNode = ListNode(None)\n",
    "    fakeNode.next = node\n",
    "    vowels = ['a','e','i','o','u']\n",
    "    preNode = fakeNode\n",
    "    curr = node\n",
    "    while curr:\n",
    "        if curr.value in vowels:\n",
    "            preNode.next = curr.next\n",
    "        else:\n",
    "            preNode = preNode.next\n",
    "        curr = curr.next\n",
    "    \n",
    "    return fakeNode.next"
   ]
  },
  {
   "cell_type": "code",
   "execution_count": 1,
   "metadata": {},
   "outputs": [],
   "source": [
    "# revese Nodelist"
   ]
  },
  {
   "cell_type": "code",
   "execution_count": 11,
   "metadata": {},
   "outputs": [],
   "source": [
    "def revese(head):\n",
    "    if head is None or head.next is None:\n",
    "        return head\n",
    "    h = revese(head.next)\n",
    "    head.next.next = head\n",
    "    head.next = None\n",
    "    return h"
   ]
  },
  {
   "cell_type": "code",
   "execution_count": 12,
   "metadata": {},
   "outputs": [
    {
     "output_type": "execute_result",
     "data": {
      "text/plain": [
       "[9, 8, 7, 6, 5, 4, 3, 2, 1]"
      ]
     },
     "metadata": {},
     "execution_count": 12
    }
   ],
   "source": [
    "nodes = buildList([1,2,3,4,5,6,7,8,9])\n",
    "nodeNew = revese(nodes)\n",
    "printList(nodeNew)"
   ]
  },
  {
   "cell_type": "code",
   "execution_count": 13,
   "metadata": {},
   "outputs": [],
   "source": [
    "def reverse1(head):\n",
    "    prevNode = None\n",
    "    while head:\n",
    "        nextNode = head.next\n",
    "        head.next = prevNode\n",
    "        prevNode = head\n",
    "        head = nextNode\n",
    "    \n",
    "    return prevNode"
   ]
  },
  {
   "cell_type": "code",
   "execution_count": 14,
   "metadata": {},
   "outputs": [
    {
     "output_type": "execute_result",
     "data": {
      "text/plain": [
       "[1, 2, 3, 4, 5, 6, 7, 8, 9]"
      ]
     },
     "metadata": {},
     "execution_count": 14
    }
   ],
   "source": [
    "nodeNew = revese(nodeNew)\n",
    "printList(nodeNew)"
   ]
  },
  {
   "cell_type": "code",
   "execution_count": 18,
   "metadata": {},
   "outputs": [],
   "source": [
    "def add(node1, node2):\n",
    "    newNode1 = reverse1(node1)\n",
    "    newNode2 = reverse1(node2)\n",
    "    fakeNode = ListNode(None)\n",
    "    curr = fakeNode\n",
    "    carry = 0\n",
    "    while newNode1 and newNode2:\n",
    "        tempSum = newNode1.value + newNode2.value + carry\n",
    "        carry = tempSum // 10\n",
    "        curr.next = ListNode(tempSum%10)\n",
    "        curr = curr.next\n",
    "        newNode1 = newNode1.next\n",
    "        newNode2 = newNode2.next\n",
    "    \n",
    "    while newNode1:\n",
    "        tempSum = newNode1.value + carry\n",
    "        carry = tempSum // 10\n",
    "        curr.next = ListNode(tempSum%10)\n",
    "        curr = curr.next\n",
    "        newNode1 = newNode1.next\n",
    "    \n",
    "    while newNode2:\n",
    "        tempSum = newNode2.value + carry\n",
    "        carry = tempSum // 10\n",
    "        curr.next = ListNode(tempSum%10)\n",
    "        curr = curr.next \n",
    "        newNode2 = newNode2.next\n",
    "    \n",
    "    if carry > 0:\n",
    "        curr.next = ListNode(carry)\n",
    "    \n",
    "    return reverse1(fakeNode.next)"
   ]
  },
  {
   "cell_type": "code",
   "execution_count": 19,
   "metadata": {},
   "outputs": [
    {
     "output_type": "execute_result",
     "data": {
      "text/plain": [
       "[1, 9, 1, 2]"
      ]
     },
     "metadata": {},
     "execution_count": 19
    }
   ],
   "source": [
    "node1 = buildList([1,2,3])\n",
    "node2 = buildList([1,7,8,9])\n",
    "nodes = add(node1,node2)\n",
    "printList(nodes)"
   ]
  }
 ]
}