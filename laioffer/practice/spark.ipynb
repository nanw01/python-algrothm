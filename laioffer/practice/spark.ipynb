{
 "metadata": {
  "language_info": {
   "codemirror_mode": {
    "name": "ipython",
    "version": 3
   },
   "file_extension": ".py",
   "mimetype": "text/x-python",
   "name": "python",
   "nbconvert_exporter": "python",
   "pygments_lexer": "ipython3",
   "version": "3.8.8-final"
  },
  "orig_nbformat": 2,
  "kernelspec": {
   "name": "python3",
   "display_name": "Python 3.8.8 64-bit",
   "metadata": {
    "interpreter": {
     "hash": "3faf8911366678243a6996a95aafde61b4f1d90a5e6b5944fe84897ceaaf2542"
    }
   }
  }
 },
 "nbformat": 4,
 "nbformat_minor": 2,
 "cells": [
  {
   "cell_type": "code",
   "execution_count": null,
   "metadata": {},
   "outputs": [],
   "source": [
    "import folium\n",
    "import pandas as pd"
   ]
  },
  {
   "cell_type": "code",
   "execution_count": null,
   "metadata": {},
   "outputs": [],
   "source": [
    "countries_population = {\"Italy\": 59000000, \"France\": 65000000,\n",
    "                        \"Malta\": 434000, \"Maldives\": 434000,\n",
    "                        \"Brunei\": 434000, \"Iceland\": 337000,\n",
    "                        \"Nauru\": 11300, \"Tuvalu\": 11300,\n",
    "                        \"Anguilla\": 11300, \"Montserrat\": 5200}\n",
    "s = pd.Series(countries_population)\n",
    "s"
   ]
  }
 ]
}