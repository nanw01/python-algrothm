{
 "metadata": {
  "language_info": {
   "codemirror_mode": {
    "name": "ipython",
    "version": 3
   },
   "file_extension": ".py",
   "mimetype": "text/x-python",
   "name": "python",
   "nbconvert_exporter": "python",
   "pygments_lexer": "ipython3",
   "version": "3.8.5-final"
  },
  "orig_nbformat": 2,
  "kernelspec": {
   "name": "python3",
   "display_name": "Python 3.8.5 64-bit ('anaconda3': conda)",
   "metadata": {
    "interpreter": {
     "hash": "858990fd0c91b11d2845e77058ef8b2e31d353f5243685c27ad3c2a3691daea4"
    }
   }
  }
 },
 "nbformat": 4,
 "nbformat_minor": 2,
 "cells": [
  {
   "cell_type": "code",
   "execution_count": null,
   "metadata": {},
   "outputs": [],
   "source": [
    "class TreeNode(object):\n",
    "    def __init__(self, x):\n",
    "        self.val = x\n",
    "        self.left = None\n",
    "        self.right = None"
   ]
  },
  {
   "cell_type": "code",
   "execution_count": null,
   "metadata": {},
   "outputs": [],
   "source": [
    "class Queue(object):\n",
    "    def __init__(self):\n",
    "        self.s1 = []\n",
    "        self.s2 = []\n",
    "        self.head = None\n",
    "\n",
    "    def enqueue(self, x):\n",
    "        if not self.s1:\n",
    "            self.head = x\n",
    "        self.s1.append(x)\n",
    "    \n",
    "    def dequeue(self):\n",
    "        if not self.s2:\n",
    "            while self.s1:\n",
    "                self.s2.append(self.s1.pop())\n",
    "        return self.s2.pop()\n",
    "\n",
    "    def is_empty(self):\n",
    "        return not self.s1 and not self.s2\n",
    "    \n",
    "    def peek(self):\n",
    "        if self.s2:\n",
    "            return self.s2[-1]\n",
    "        return self.head\n",
    "\n",
    "    def size(self):\n",
    "        return len(self.s1)+len(self.s2)"
   ]
  },
  {
   "cell_type": "code",
   "execution_count": null,
   "metadata": {},
   "outputs": [],
   "source": []
  },
  {
   "cell_type": "code",
   "execution_count": 2,
   "metadata": {},
   "outputs": [],
   "source": [
    "class Stack(object):\n",
    "    def __init__(self):\n",
    "        self.stack = []\n",
    "        \n",
    "    def is_empty(self):\n",
    "        return len(self.stack) == 0\n",
    "    \n",
    "    def max(self):\n",
    "        if self.is_empty():\n",
    "            raise Exception('aaa')\n",
    "        return self.stack[-1][-1]\n",
    "\n",
    "    def push(self, x):\n",
    "        temp = x\n",
    "        if not self.is_empty():\n",
    "            temp = max(temp, self.max())\n",
    "        self.stack.append((x, temp))\n",
    "\n",
    "    def pop(self):\n",
    "        if self.is_empty():\n",
    "            raise Exception('sss')\n",
    "        elem = self.stack.pop()\n",
    "        return elem[0]"
   ]
  },
  {
   "cell_type": "code",
   "execution_count": null,
   "metadata": {},
   "outputs": [],
   "source": []
  },
  {
   "cell_type": "code",
   "execution_count": null,
   "metadata": {},
   "outputs": [],
   "source": [
    "# Definition for a binary tree node.\n",
    "# class TreeNode(object):\n",
    "#     def __init__(self, x):\n",
    "#         self.val = x\n",
    "#         self.left = None\n",
    "#         self.right = None\n",
    "class Solution(object):\n",
    "  def preOrder(self, root):\n",
    "    \"\"\"\n",
    "    input: TreeNode root\n",
    "    return: Integer[]\n",
    "    \"\"\"\n",
    "    # write your solution here\n",
    "    if root is None:\n",
    "        return []\n",
    "    stack = [(root, 1)]\n",
    "    rst = []\n",
    "    while stack:\n",
    "        node, count = stack.pop()\n",
    "        if count == 1:\n",
    "            rst.append(node.val)\n",
    "            stack.append((node, count + 1))\n",
    "            if node.left:\n",
    "                stack.append((node.left, 1))\n",
    "        if count == 2:\n",
    "            if node.right:\n",
    "                stack.append((node.right, 1))\n",
    "    return rst"
   ]
  },
  {
   "cell_type": "code",
   "execution_count": null,
   "metadata": {},
   "outputs": [],
   "source": [
    "# Definition for a binary tree node.\n",
    "# class TreeNode(object):\n",
    "#     def __init__(self, x):\n",
    "#         self.val = x\n",
    "#         self.left = None\n",
    "#         self.right = None\n",
    "class Solution(object):\n",
    "  def inOrder(self, root):\n",
    "    \"\"\"\n",
    "    input: TreeNode root\n",
    "    return: Integer[]\n",
    "    \"\"\"\n",
    "    # write your solution here\n",
    "    if root is None:\n",
    "      return []\n",
    "\n",
    "    ret = []\n",
    "    stack = [(root,1)]\n",
    "    while stack:\n",
    "      node, count = stack.pop()\n",
    "      if count == 1:\n",
    "        stack.append((node,count+1))\n",
    "        if node.left:\n",
    "          stack.append((node.left,1))\n",
    "      if count == 2:\n",
    "        ret.append(node.val)\n",
    "        if node.right:\n",
    "          stack.append((node.right,1))\n",
    "\n",
    "    return ret"
   ]
  },
  {
   "cell_type": "code",
   "execution_count": null,
   "metadata": {},
   "outputs": [],
   "source": [
    "# Definition for a binary tree node.\n",
    "# class TreeNode(object):\n",
    "#     def __init__(self, x):\n",
    "#         self.val = x\n",
    "#         self.left = None\n",
    "#         self.right = None\n",
    "class Solution(object):\n",
    "    def postOrder(self, root):\n",
    "        \"\"\"\n",
    "        input: TreeNode root\n",
    "        return: Integer[]\n",
    "        \"\"\"\n",
    "        # write your solution here\n",
    "        if not root:\n",
    "            return []\n",
    "        output, stack = [], [(root, 1)]\n",
    "\n",
    "        while stack:\n",
    "            node, count = stack.pop()\n",
    "            if count == 1:\n",
    "                stack.append((node, count + 1))\n",
    "                if node.left:\n",
    "                    stack.append((node.left, 1))\n",
    "            if count == 2:\n",
    "                stack.append((node, count + 1))\n",
    "                if node.right:\n",
    "                    stack.append((node.right, 1))\n",
    "            if count == 3:\n",
    "                output.append(node.val)\n",
    "\n",
    "        return output"
   ]
  },
  {
   "cell_type": "code",
   "execution_count": null,
   "metadata": {},
   "outputs": [],
   "source": [
    "de longest(curr)"
   ]
  },
  {
   "cell_type": "code",
   "execution_count": null,
   "metadata": {},
   "outputs": [],
   "source": []
  },
  {
   "cell_type": "code",
   "execution_count": null,
   "metadata": {},
   "outputs": [],
   "source": []
  },
  {
   "cell_type": "code",
   "execution_count": null,
   "metadata": {},
   "outputs": [],
   "source": []
  },
  {
   "cell_type": "code",
   "execution_count": null,
   "metadata": {},
   "outputs": [],
   "source": []
  },
  {
   "cell_type": "code",
   "execution_count": null,
   "metadata": {},
   "outputs": [],
   "source": []
  },
  {
   "cell_type": "code",
   "execution_count": null,
   "metadata": {},
   "outputs": [],
   "source": []
  },
  {
   "cell_type": "code",
   "execution_count": null,
   "metadata": {},
   "outputs": [],
   "source": []
  },
  {
   "cell_type": "code",
   "execution_count": null,
   "metadata": {},
   "outputs": [],
   "source": []
  },
  {
   "cell_type": "code",
   "execution_count": null,
   "metadata": {},
   "outputs": [],
   "source": []
  },
  {
   "cell_type": "code",
   "execution_count": null,
   "metadata": {},
   "outputs": [],
   "source": []
  },
  {
   "cell_type": "code",
   "execution_count": null,
   "metadata": {},
   "outputs": [],
   "source": []
  },
  {
   "cell_type": "code",
   "execution_count": null,
   "metadata": {},
   "outputs": [],
   "source": []
  },
  {
   "cell_type": "code",
   "execution_count": null,
   "metadata": {},
   "outputs": [],
   "source": []
  },
  {
   "cell_type": "code",
   "execution_count": null,
   "metadata": {},
   "outputs": [],
   "source": []
  },
  {
   "cell_type": "code",
   "execution_count": null,
   "metadata": {},
   "outputs": [],
   "source": []
  },
  {
   "cell_type": "code",
   "execution_count": null,
   "metadata": {},
   "outputs": [],
   "source": []
  },
  {
   "cell_type": "code",
   "execution_count": null,
   "metadata": {},
   "outputs": [],
   "source": []
  },
  {
   "cell_type": "code",
   "execution_count": null,
   "metadata": {},
   "outputs": [],
   "source": []
  },
  {
   "cell_type": "code",
   "execution_count": null,
   "metadata": {},
   "outputs": [],
   "source": []
  },
  {
   "cell_type": "code",
   "execution_count": null,
   "metadata": {},
   "outputs": [],
   "source": []
  }
 ]
}