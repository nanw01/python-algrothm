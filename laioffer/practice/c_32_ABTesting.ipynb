{
 "metadata": {
  "language_info": {
   "codemirror_mode": {
    "name": "ipython",
    "version": 3
   },
   "file_extension": ".py",
   "mimetype": "text/x-python",
   "name": "python",
   "nbconvert_exporter": "python",
   "pygments_lexer": "ipython3",
   "version": "3.8.5-final"
  },
  "orig_nbformat": 2,
  "kernelspec": {
   "name": "python3",
   "display_name": "Python 3.8.5 64-bit ('anaconda3': conda)",
   "metadata": {
    "interpreter": {
     "hash": "858990fd0c91b11d2845e77058ef8b2e31d353f5243685c27ad3c2a3691daea4"
    }
   }
  }
 },
 "nbformat": 4,
 "nbformat_minor": 2,
 "cells": [
  {
   "cell_type": "code",
   "execution_count": null,
   "metadata": {},
   "outputs": [],
   "source": [
    "\n",
    "# What is A/B testing?\n",
    "\n",
    "# Controlled experiment\n",
    "# A decision-making procedure\n",
    "# Could change across multiple variations\n",
    "# Compare one element(control) with itself with variations\n",
    "# Splits traffic 50/50 between a control and a variation\n",
    "\n",
    "# https://vwo.com/ab-testing/#how-to-perform-an-a-b-test\n",
    "\n",
    "# 案例：\n",
    "# https://designforfounders.com/ab-testing-examples/\n",
    "\n",
    "# How do you perform an A/B testing?\n",
    "\n",
    "# Step1: Research\n",
    "\n",
    "# Quantitative and qualitative research help with gathering visitor behavior data\n",
    "\n",
    "# Step2: Observe and Formulate Hypothesis\n",
    "\n",
    "# Step 3: Create Variations\n",
    "\n",
    "# Step 4: Run Test\n",
    "Split URL Testing\n",
    "Multivariate Testing (MVT)\n",
    "Multipage Testing\n",
    "\n",
    "A/B Testing, Multivariate Testing, Split URL Testing, and Multipage Testing are four different types of testing\n",
    "In addition to the four types just discussed, there are also two different statistical approaches to testing: Frequentist and Bayesian.\n"
   ]
  },
  {
   "cell_type": "code",
   "execution_count": null,
   "metadata": {},
   "outputs": [],
   "source": [
    "AB　testing\n",
    "\n",
    "Using a randomized experiment:to detenube whether the new variation is doing statisticlly better(in term of certain metrics) than th ecurrent version. \n",
    "\n",
    "experiment design, after develpoing a variation, then split the traffic 50/50 between the original and the shorter variation, and wait for the experiment ro run until it has achieved statistical confidence 95%\n"
   ]
  },
  {
   "cell_type": "code",
   "execution_count": null,
   "metadata": {},
   "outputs": [],
   "source": [
    "type of matrics\n",
    "direct metrics vs compound metrics\n",
    "high-level metrics vs low-level metrics\n",
    "primary mattics vs secondary matrics\n",
    "\n",
    "\n",
    "\n",
    "some popular metrice\n",
    "\n",
    "Customer retention rate   \n",
    "    The Formula for Calculation : CRR = ((E-N)/S) X 100\n",
    "repurchase rate \n",
    "    Repurchase rate is the percentage rate of a cohort having placed another order within a certain period of time, typically calculated within 30/60/90/180/360 days from the first order.\n",
    "\n",
    "Daliy Active User\n",
    "Feature Usage\n",
    "User Churn\n",
    "Net promoter score 净推荐值\n",
    "\n"
   ]
  },
  {
   "cell_type": "code",
   "execution_count": null,
   "metadata": {},
   "outputs": [],
   "source": [
    "How to get the new feature, use a framework  \n",
    "AARRR or HEART\n",
    "Acquisition, Activation, Retention, Referral and Revenue\n",
    "用户获取、激活、留存率、推荐和收益\n",
    "\n",
    "HEART\n",
    "Happiness, Engagement, Adoption, Retention, Task success\n",
    "help with measure user Experience\n",
    "\n"
   ]
  },
  {
   "cell_type": "code",
   "execution_count": null,
   "metadata": {},
   "outputs": [],
   "source": [
    "Randomized Experiments\n",
    "\n",
    "1. In Randomized experiments, users are randomly allocated to two different groups(experiment vs control) where the experiment group has a treatment(new design or feature), the control does not(control has the current design)\n",
    "\n",
    "2. Randomization \n",
    "independent\n"
   ]
  },
  {
   "cell_type": "code",
   "execution_count": null,
   "metadata": {},
   "outputs": [],
   "source": [
    "random sampling vs randomization\n",
    "random sampling refers to how you select individuals from the population to participate in your study. Random assignment refers to how you place those participants into groups (such as experimental vs. control\n"
   ]
  },
  {
   "cell_type": "code",
   "execution_count": null,
   "metadata": {},
   "outputs": [],
   "source": [
    "Hypothesis testing can applied to detemine if the obseved difference of the metrics is a statistically meaningful difference.    significance"
   ]
  },
  {
   "cell_type": "code",
   "execution_count": null,
   "metadata": {},
   "outputs": [],
   "source": [
    "Statistical significance indicates, to a degree of confidence, the likelihood your test findings are reliable and not due to chance.\n",
    "Validity, on the other hand, has to do with whether or not other factors outside of sample size are affecting your data negatively.\n"
   ]
  },
  {
   "cell_type": "code",
   "execution_count": null,
   "metadata": {},
   "outputs": [],
   "source": [
    "\n",
    "when A/B testing is not useful\n",
    "\n",
    "logs\n",
    "conduct user experience research\n",
    "focus groups and surveys\n",
    "human evaluation"
   ]
  },
  {
   "cell_type": "code",
   "execution_count": null,
   "metadata": {},
   "outputs": [],
   "source": []
  },
  {
   "cell_type": "code",
   "execution_count": null,
   "metadata": {},
   "outputs": [],
   "source": []
  },
  {
   "cell_type": "code",
   "execution_count": null,
   "metadata": {},
   "outputs": [],
   "source": [
    "correlation VS causation\n",
    "\n",
    "While causation and correlation can exist at the same time, correlation does not imply causation.\n",
    "\n",
    "\n",
    "Causation explicitly applies to cases where action A causes outcome B. On the other hand, correlation is simply a relationship. \n"
   ]
  }
 ]
}