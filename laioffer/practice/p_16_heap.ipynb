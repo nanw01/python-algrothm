{
 "metadata": {
  "language_info": {
   "codemirror_mode": {
    "name": "ipython",
    "version": 3
   },
   "file_extension": ".py",
   "mimetype": "text/x-python",
   "name": "python",
   "nbconvert_exporter": "python",
   "pygments_lexer": "ipython3",
   "version": "3.8.5-final"
  },
  "orig_nbformat": 2,
  "kernelspec": {
   "name": "python3",
   "display_name": "Python 3",
   "language": "python"
  }
 },
 "nbformat": 4,
 "nbformat_minor": 2,
 "cells": [
  {
   "cell_type": "code",
   "execution_count": 12,
   "metadata": {},
   "outputs": [],
   "source": [
    "class PriorityQueueBase:\n",
    "    \"\"\"Abstract base class for a priority queue.\"\"\"\n",
    "\n",
    "    class Item: \n",
    "        \"\"\"Lightweight composite to store priority queue items.\"\"\"\n",
    "        __slots__ = '_key' , '_value'\n",
    "\n",
    "        def __init__ (self, k, v):\n",
    "            self._key = k\n",
    "            self._value = v\n",
    "\n",
    "        def __lt__ (self, other):                                        \n",
    "            return self._key < other._key\n",
    "\n",
    "        def is_empty(self):\n",
    "            return len(self) == 0   \n",
    "\n",
    "        def __str__(self):\n",
    "            return str(self._key)\n",
    "        \n",
    "\n",
    "class HeapPriorityQueue(PriorityQueueBase):\n",
    "\n",
    "    def __init__ (self):\n",
    "        self._data = [ ]         \n",
    "\n",
    "    def __len__ (self):\n",
    "        return len(self._data)\n",
    "    \n",
    "    def is_empty(self):\n",
    "        return len(self) == 0  \n",
    "\n",
    "    def add(self, key, value): \n",
    "        self._data.append(self.Item(key, value)) \n",
    "        self._upheap(len(self._data) - 1)\n",
    "        \n",
    "    def min(self): \n",
    "        if self.is_empty():\n",
    "            raise ValueError( \"Priority queue is empty.\" )\n",
    "        item = self._data[0]\n",
    "        return (item._key, item._value)\n",
    "    \n",
    "    def remove_min(self):\n",
    "        if self.is_empty():\n",
    "            raise ValueError( \"Priority queue is empty.\" )\n",
    "        self._swap(0, len(self._data) - 1)\n",
    "        item = self._data.pop( )\n",
    "        self._downheap(0)\n",
    "        return (item._key, item._value)\n",
    "\n",
    "    def _parent(self, j): \n",
    "        return (j - 1) // 2\n",
    "    \n",
    "    def _left(self, j):\n",
    "        return 2 * j + 1\n",
    "    \n",
    "    def _right(self, j):\n",
    "        return 2 * j + 2\n",
    "\n",
    "    def _has_left(self, j):\n",
    "        return self._left(j) < len(self._data)\n",
    "    \n",
    "    def _has_right(self, j):\n",
    "        return self._right(j) < len(self._data)      \n",
    "    \n",
    "    def _swap(self, i, j):\n",
    "        self._data[i], self._data[j] = self._data[j], self._data[i]\n",
    "        \n",
    "    def _upheap(self, j):\n",
    "        parent = self._parent(j) \n",
    "        if j > 0 and self._data[j] < self._data[parent]: \n",
    "            self._swap(j, parent) \n",
    "            self._upheap(parent) \n",
    "    \n",
    "    def _downheap(self, j):\n",
    "        if self._has_left(j):\n",
    "            left = self._left(j)\n",
    "            small_child = left\n",
    "            if self._has_right(j):\n",
    "                right = self._right(j) \n",
    "                if self._data[right] < self._data[left]:\n",
    "                    small_child = right \n",
    "            if self._data[small_child] < self._data[j]:\n",
    "                self._swap(j, small_child) \n",
    "                self._downheap(small_child)        "
   ]
  },
  {
   "cell_type": "code",
   "execution_count": 13,
   "metadata": {},
   "outputs": [
    {
     "output_type": "stream",
     "name": "stdout",
     "text": [
      "1\n2\n3\n5\n4\n7\n6\n26\nmin is: \n(1, 'A')\n\nremove min: \n(1, 'A')\nNow min is: \n(2, 'B')\n\nremove min: \n(2, 'B')\nNow min is: \n(3, 'C')\n\nNow min is: \n(1, 'A')\n\n"
     ]
    }
   ],
   "source": [
    "heap = HeapPriorityQueue()\n",
    "heap.add(4, \"D\")\n",
    "heap.add(3, \"C\")\n",
    "heap.add(1, \"A\")\n",
    "heap.add(5, \"E\")\n",
    "heap.add(2, \"B\")\n",
    "heap.add(7, \"G\")\n",
    "heap.add(6, \"F\")\n",
    "heap.add(26, \"Z\")\n",
    "\n",
    "for item in heap._data:\n",
    "    print(item)\n",
    "\n",
    "print(\"min is: \")\n",
    "print(heap.min())\n",
    "print()\n",
    "\n",
    "print(\"remove min: \")\n",
    "print(heap.remove_min())\n",
    "print(\"Now min is: \")\n",
    "print(heap.min())\n",
    "print()\n",
    "\n",
    "print(\"remove min: \")\n",
    "print(heap.remove_min())\n",
    "print(\"Now min is: \")\n",
    "print(heap.min())\n",
    "print()\n",
    "\n",
    "heap.add(1, \"A\")\n",
    "print(\"Now min is: \")\n",
    "print(heap.min())\n",
    "print()"
   ]
  },
  {
   "cell_type": "code",
   "execution_count": 1,
   "metadata": {},
   "outputs": [
    {
     "output_type": "execute_result",
     "data": {
      "text/plain": [
       "[0, 1, 2, 3, 4, 5, 6, 7, 8, 9]"
      ]
     },
     "metadata": {},
     "execution_count": 1
    }
   ],
   "source": [
    "from heapq import heappop,heappush\n",
    "\n",
    "heap = []\n",
    "data = [1,3,5,7,9,2,4,6,8,0]\n",
    "\n",
    "for item in data:\n",
    "    heappush(heap,item)\n",
    "\n",
    "order = []\n",
    "while heap:\n",
    "    order.append(heappop(heap))\n",
    "\n",
    "order"
   ]
  },
  {
   "cell_type": "code",
   "execution_count": 4,
   "metadata": {},
   "outputs": [
    {
     "output_type": "stream",
     "name": "stdout",
     "text": [
      "[1, 2, 3, 4, 52, 234, 45, 34, 5, 78]\n[1, 2, 3, 4, 52, 234, 45, 34, 5, 78]\n1\n[2, 4, 3, 5, 52, 234, 45, 34, 78]\n2\n[3, 4, 45, 5, 52, 234, 78, 34]\n3\n[4, 5, 45, 34, 52, 234, 78]\n4\n[5, 34, 45, 78, 52, 234]\n5\n[34, 52, 45, 78, 234]\n34\n[45, 52, 234, 78]\n45\n[52, 78, 234]\n52\n[78, 234]\n78\n[234]\n234\n"
     ]
    }
   ],
   "source": [
    "import heapq\n",
    "\n",
    "data = [1,5,234,2,78,3,45,34,4,52]\n",
    "\n",
    "heapq.heapify(data)\n",
    "print(data)\n",
    "\n",
    "while data:\n",
    "    print(data)\n",
    "    print(heappop(data))"
   ]
  },
  {
   "cell_type": "code",
   "execution_count": 6,
   "metadata": {},
   "outputs": [
    {
     "output_type": "stream",
     "name": "stdout",
     "text": [
      "1 :  h\n2 :  e\n3 :  l\n4 :  l\n5 :  o\n"
     ]
    }
   ],
   "source": [
    "heap = []\n",
    "data = [(1,'h'),(4,'l'),(2,'e'),(5,'o'),(3,'l')]\n",
    "\n",
    "for item in data:\n",
    "    heappush(heap,item)\n",
    "\n",
    "while heap:\n",
    "    item = heappop(heap)\n",
    "    print(item[0],': ',item[1])"
   ]
  },
  {
   "cell_type": "code",
   "execution_count": 8,
   "metadata": {},
   "outputs": [
    {
     "output_type": "stream",
     "name": "stdout",
     "text": [
      "[421, 345, 345]\n"
     ]
    }
   ],
   "source": [
    "import heapq\n",
    "lst1 = [6,3,2,4,6,7,8,9,12,45,7,5,34,5,345,234,421,76,98]\n",
    "heapq.heapify(lst1)\n",
    "print(heapq.nlargest(3,lst1))"
   ]
  },
  {
   "cell_type": "code",
   "execution_count": 10,
   "metadata": {},
   "outputs": [
    {
     "output_type": "execute_result",
     "data": {
      "text/plain": [
       "[2, 3, 4]"
      ]
     },
     "metadata": {},
     "execution_count": 10
    }
   ],
   "source": [
    "heapq.nsmallest(3,lst1)"
   ]
  },
  {
   "cell_type": "code",
   "execution_count": 11,
   "metadata": {},
   "outputs": [],
   "source": [
    "portfolio = [\n",
    "    {'name': 'IBM', 'shares': 100, 'price': 91.1},\n",
    "    {'name': 'AAPL', 'shares': 50, 'price': 543.22},\n",
    "    {'name': 'FB', 'shares': 200, 'price': 21.09},\n",
    "    {'name': 'HPQ', 'shares': 35, 'price': 31.75},\n",
    "    {'name': 'YHOO', 'shares': 45, 'price': 16.35},\n",
    "    {'name': 'ACME', 'shares': 75, 'price': 115.65}\n",
    "]"
   ]
  },
  {
   "cell_type": "code",
   "execution_count": 12,
   "metadata": {},
   "outputs": [
    {
     "output_type": "execute_result",
     "data": {
      "text/plain": [
       "[{'name': 'AAPL', 'shares': 50, 'price': 543.22},\n",
       " {'name': 'ACME', 'shares': 75, 'price': 115.65},\n",
       " {'name': 'IBM', 'shares': 100, 'price': 91.1}]"
      ]
     },
     "metadata": {},
     "execution_count": 12
    }
   ],
   "source": [
    "heapq.nlargest(3,portfolio,key=lambda s: s['price'])"
   ]
  },
  {
   "cell_type": "code",
   "execution_count": 15,
   "metadata": {},
   "outputs": [
    {
     "output_type": "execute_result",
     "data": {
      "text/plain": [
       "[{'name': 'HPQ', 'shares': 35, 'price': 31.75},\n",
       " {'name': 'YHOO', 'shares': 45, 'price': 16.35},\n",
       " {'name': 'AAPL', 'shares': 50, 'price': 543.22}]"
      ]
     },
     "metadata": {},
     "execution_count": 15
    }
   ],
   "source": [
    "heapq.nsmallest(3, portfolio, key=lambda s: s['shares'])"
   ]
  },
  {
   "cell_type": "code",
   "execution_count": 16,
   "metadata": {},
   "outputs": [
    {
     "output_type": "stream",
     "name": "stdout",
     "text": [
      "New Level: Proficient\nNew Level: Expert\nNew Level: Novice\nThe 3 largest numbers in list are : [10: Expert, 5: Proficient, 1: Novice]\n1: Novice\n5: Proficient\n10: Expert\n"
     ]
    }
   ],
   "source": [
    "# Override __lt__ in Python 3, __cmp__ only in Python 2\n",
    "\n",
    "class Skill(object):\n",
    "    def __init__(self, priority, description):\n",
    "        self.priority = priority\n",
    "        self.description = description\n",
    "        print('New Level:', description)\n",
    "        return\n",
    "    def __cmp__(self, other):\n",
    "        return cmp(self.priority, other.priority)\n",
    "    def __lt__(self, other):\n",
    "        return self.priority < other.priority\n",
    "    def __repr__(self):\n",
    "        return str(self.priority) + \": \" + self.description\n",
    "    \n",
    "\n",
    "s1 = Skill(5, 'Proficient')\n",
    "s2 = Skill(10, 'Expert')\n",
    "s3 = Skill(1, 'Novice')\n",
    "\n",
    "l = [s1, s2, s3]\n",
    "\n",
    "heapq.heapify(l)\n",
    "print(\"The 3 largest numbers in list are : \",end=\"\")\n",
    "print(heapq.nlargest(3, l))\n",
    "\n",
    "while l:\n",
    "    item = heappop(l) \n",
    "    print(item)"
   ]
  },
  {
   "cell_type": "code",
   "execution_count": 17,
   "metadata": {},
   "outputs": [],
   "source": [
    "import heapq"
   ]
  },
  {
   "cell_type": "code",
   "execution_count": 23,
   "metadata": {},
   "outputs": [],
   "source": [
    "def findKthLargest(nums,k):\n",
    "    heap = []\n",
    "    for num in nums:\n",
    "        heapq.heappush(heap,num)\n",
    "\n",
    "        if len(heap) > k:\n",
    "            heapq.heappop(heap)\n",
    "    \n",
    "    return heapq.heappop(heap)"
   ]
  },
  {
   "cell_type": "code",
   "execution_count": 26,
   "metadata": {},
   "outputs": [
    {
     "output_type": "execute_result",
     "data": {
      "text/plain": [
       "111"
      ]
     },
     "metadata": {},
     "execution_count": 26
    }
   ],
   "source": [
    "nums = [5,11,3,6,12,9,8,10,14,111,222,333,1,4,2,7,15]\n",
    "k = 3\n",
    "findKthLargest(nums, k)"
   ]
  },
  {
   "cell_type": "code",
   "execution_count": 31,
   "metadata": {},
   "outputs": [],
   "source": [
    "import collections\n",
    "import heapq\n",
    "\n",
    "class Element(object):\n",
    "    def __init__(self, count, word):\n",
    "        self.count = count\n",
    "        self.word = word\n",
    "\n",
    "    def __lt__(self, order):\n",
    "        if self.count == order.count:\n",
    "            return self.word > order.word\n",
    "        return self.count < order.count\n",
    "\n",
    "    def __eq__(self, other):\n",
    "        return self.count == other.count and self.word == other.word\n",
    "\n",
    "\n",
    "def topKFrequent(words, k):\n",
    "    counts = collections.Counter(words)\n",
    "\n",
    "    freqs = []\n",
    "    heapq.heapify(freqs)\n",
    "    for word, count in counts.items():\n",
    "        heapq.heappush(freqs, (Element(count,word), word))\n",
    "        if len(freqs) > k:\n",
    "            heapq.heappop(freqs)\n",
    "    \n",
    "    res = []\n",
    "    for _ in range(k):\n",
    "        res.append(heapq.heappop(freqs)[1])\n",
    "    \n",
    "    return res[::-1]"
   ]
  },
  {
   "cell_type": "code",
   "execution_count": 33,
   "metadata": {},
   "outputs": [
    {
     "output_type": "execute_result",
     "data": {
      "text/plain": [
       "['i', 'love']"
      ]
     },
     "metadata": {},
     "execution_count": 33
    }
   ],
   "source": [
    "words = [\"i\", \"love\", \"you\", \"i\", \"love\", \"coding\",\"i\",\"like\",\"sports\"]\n",
    "k = 2\n",
    "topKFrequent(words, k)"
   ]
  },
  {
   "cell_type": "code",
   "execution_count": 34,
   "metadata": {},
   "outputs": [],
   "source": [
    "from collections import Counter as ct\n",
    "def topKFrequent(nums, k):\n",
    "    return [k for k,v in ct(nums).most_common(k)]    "
   ]
  },
  {
   "cell_type": "code",
   "execution_count": 39,
   "metadata": {},
   "outputs": [
    {
     "output_type": "execute_result",
     "data": {
      "text/plain": [
       "['i', 'love', 'you']"
      ]
     },
     "metadata": {},
     "execution_count": 39
    }
   ],
   "source": [
    "words = [\"i\", \"love\", \"you\", \"i\", \"love\", \"coding\",\"i\",\"like\",\"sports\"]\n",
    "k = 3\n",
    "topKFrequent(words, k)"
   ]
  },
  {
   "cell_type": "code",
   "execution_count": 42,
   "metadata": {},
   "outputs": [
    {
     "output_type": "stream",
     "name": "stdout",
     "text": [
      "2\n3\n5\n"
     ]
    }
   ],
   "source": [
    "for i in heapq.merge([2], [3], [5]):\n",
    "    print(i)"
   ]
  },
  {
   "cell_type": "code",
   "execution_count": null,
   "metadata": {},
   "outputs": [],
   "source": [
    "# Fast Solution\n",
    "\n",
    "def kSmallestPairs(nums1)"
   ]
  },
  {
   "cell_type": "code",
   "execution_count": 2,
   "metadata": {},
   "outputs": [],
   "source": [
    "# 最小范围\n",
    "import heapq\n",
    "\n",
    "def smallestRange(arrays):\n",
    "    heap = []\n",
    "    k = len(arrays)\n",
    "    maxVal = float('-inf')\n",
    "    for i in range(len(arrays)):\n",
    "        if len(arrays[i]):\n",
    "            heap.append((arrays[i][0],i,0))\n",
    "            maxVal = max(arrays[i][0],maxVal)\n",
    "    \n",
    "    heapq.heapify(heap)\n",
    "    result = [float('-inf'),float('inf')]\n",
    "\n",
    "    while len(heap) == k:\n",
    "        minVal, array_index, ele_index = heapq.heappop(heap)\n",
    "        if maxVal - minVal < result[1]-result[0]:\n",
    "            result = [minVal, maxVal]\n",
    "        if ele_index + 1 < len(arrays[array_index]):\n",
    "            maxVal = max(maxVal,arrays[array_index][ele_index+1])\n",
    "            heapq.heappush(heap, (arrays[array_index][ele_index], array_index,ele_index+1))\n",
    "    \n",
    "    return result\n",
    "    "
   ]
  }
 ]
}