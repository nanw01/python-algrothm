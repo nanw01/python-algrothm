{
 "metadata": {
  "language_info": {
   "codemirror_mode": {
    "name": "ipython",
    "version": 3
   },
   "file_extension": ".py",
   "mimetype": "text/x-python",
   "name": "python",
   "nbconvert_exporter": "python",
   "pygments_lexer": "ipython3",
   "version": "3.8.5-final"
  },
  "orig_nbformat": 2,
  "kernelspec": {
   "name": "python3",
   "display_name": "Python 3.8.5 64-bit ('anaconda3': conda)",
   "metadata": {
    "interpreter": {
     "hash": "858990fd0c91b11d2845e77058ef8b2e31d353f5243685c27ad3c2a3691daea4"
    }
   }
  }
 },
 "nbformat": 4,
 "nbformat_minor": 2,
 "cells": [
  {
   "cell_type": "code",
   "execution_count": 1,
   "metadata": {},
   "outputs": [
    {
     "output_type": "stream",
     "name": "stdout",
     "text": [
      "0\n"
     ]
    }
   ],
   "source": [
    "from collections import deque\n",
    "d = deque()\n",
    "print(len(d))"
   ]
  },
  {
   "cell_type": "code",
   "execution_count": 2,
   "metadata": {},
   "outputs": [],
   "source": [
    "d.append(2)\n",
    "d.append(3)\n",
    "d.append(4)\n",
    "d.append(5)\n",
    "d.append(6)\n"
   ]
  },
  {
   "cell_type": "code",
   "execution_count": 3,
   "metadata": {},
   "outputs": [
    {
     "output_type": "execute_result",
     "data": {
      "text/plain": [
       "5"
      ]
     },
     "metadata": {},
     "execution_count": 3
    }
   ],
   "source": [
    "len(d)"
   ]
  },
  {
   "cell_type": "code",
   "execution_count": 6,
   "metadata": {},
   "outputs": [],
   "source": [
    "d.appendleft(1)"
   ]
  },
  {
   "cell_type": "code",
   "execution_count": 7,
   "metadata": {},
   "outputs": [
    {
     "output_type": "execute_result",
     "data": {
      "text/plain": [
       "deque([1, 2, 3, 4, 5, 6])"
      ]
     },
     "metadata": {},
     "execution_count": 7
    }
   ],
   "source": [
    "d"
   ]
  },
  {
   "cell_type": "code",
   "execution_count": 8,
   "metadata": {},
   "outputs": [
    {
     "output_type": "execute_result",
     "data": {
      "text/plain": [
       "1"
      ]
     },
     "metadata": {},
     "execution_count": 8
    }
   ],
   "source": [
    "d.popleft()"
   ]
  },
  {
   "cell_type": "code",
   "execution_count": 9,
   "metadata": {},
   "outputs": [
    {
     "output_type": "execute_result",
     "data": {
      "text/plain": [
       "6"
      ]
     },
     "metadata": {},
     "execution_count": 9
    }
   ],
   "source": [
    "d.pop()"
   ]
  },
  {
   "cell_type": "code",
   "execution_count": 10,
   "metadata": {},
   "outputs": [],
   "source": [
    "d.append(9)"
   ]
  },
  {
   "cell_type": "code",
   "execution_count": 11,
   "metadata": {},
   "outputs": [
    {
     "output_type": "execute_result",
     "data": {
      "text/plain": [
       "9"
      ]
     },
     "metadata": {},
     "execution_count": 11
    }
   ],
   "source": [
    "d.pop()"
   ]
  },
  {
   "cell_type": "code",
   "execution_count": null,
   "metadata": {},
   "outputs": [],
   "source": [
    "from collections import deque\n",
    "\n",
    "class MovingAverage(object):\n",
    "    def __init__(self, size):\n",
    "        self._windows = deque()\n",
    "        self._size = size\n",
    "        self._sum = 0\n",
    "\n",
    "    def next(self,value):\n",
    "        self._windows.append(value)\n",
    "        self._sum += value\n",
    "        if len(self._windows)>self._size:\n",
    "            self._sum -= self._windows.popleft()"
   ]
  },
  {
   "cell_type": "code",
   "execution_count": null,
   "metadata": {},
   "outputs": [],
   "source": []
  },
  {
   "cell_type": "code",
   "execution_count": null,
   "metadata": {},
   "outputs": [],
   "source": []
  },
  {
   "cell_type": "code",
   "execution_count": null,
   "metadata": {},
   "outputs": [],
   "source": []
  },
  {
   "cell_type": "code",
   "execution_count": null,
   "metadata": {},
   "outputs": [],
   "source": []
  },
  {
   "cell_type": "code",
   "execution_count": 14,
   "metadata": {},
   "outputs": [
    {
     "output_type": "execute_result",
     "data": {
      "text/plain": [
       "False"
      ]
     },
     "metadata": {},
     "execution_count": 14
    }
   ],
   "source": [
    "class Solution(object):\n",
    "  def isValid(self, input):\n",
    "    \"\"\"\n",
    "    input: string input\n",
    "    return: boolean\n",
    "    \"\"\"\n",
    "    # write your solution here\n",
    "    if not input:\n",
    "      return True\n",
    "    arr = []\n",
    "    for i in input:\n",
    "      if i in ['(','[','{']:\n",
    "        arr.append(i)\n",
    "      elif i in [')',']','}']:\n",
    "        if len(arr) ==0:\n",
    "          return False\n",
    "        j = arr.pop()\n",
    "        if i ==')' and j != '(':\n",
    "          return False\n",
    "        elif i == ']' and j != '[':\n",
    "          return False\n",
    "        elif i == '}' and j != '{':\n",
    "          return False\n",
    "\n",
    "    return 0 == len(arr)\n",
    "Solution().isValid('[[{()}]]')"
   ]
  },
  {
   "cell_type": "code",
   "execution_count": 15,
   "metadata": {},
   "outputs": [],
   "source": [
    "class Solution(object):\n",
    "\n",
    "    def __init__(self):\n",
    "        \"\"\"\n",
    "        initialize your data structure here.\n",
    "        \"\"\"\n",
    "        self.lst = []\n",
    "        self.minn = []\n",
    "        \n",
    "    def push(self, x):\n",
    "        \"\"\"\n",
    "        input : int x\n",
    "        return : \n",
    "        \"\"\"\n",
    "        self.lst.append(x)\n",
    "        if len(self.minn) == 0:\n",
    "          self.minn.append(x)\n",
    "        else:\n",
    "          self.minn.append(min(x, self.minn[-1]))\n",
    "        \n",
    "    def pop(self):\n",
    "        \"\"\"\n",
    "        return : int\n",
    "        \"\"\"\n",
    "        if len(self.lst) == 0:\n",
    "          return -1\n",
    "        \n",
    "        self.minn.pop()\n",
    "        return self.lst.pop()\n",
    "        \n",
    "        \n",
    "    def top(self):\n",
    "        \"\"\"\n",
    "        return : int\n",
    "        \"\"\"\n",
    "        if len(self.lst) == 0:\n",
    "          return -1\n",
    "        return self.lst[-1]\n",
    "        \n",
    "    def min(self):\n",
    "        \"\"\"\n",
    "        return : int\n",
    "        \"\"\"\n",
    "        if len(self.lst) == 0:\n",
    "          return -1\n",
    "        return self.minn[-1]"
   ]
  },
  {
   "cell_type": "code",
   "execution_count": null,
   "metadata": {},
   "outputs": [],
   "source": []
  },
  {
   "cell_type": "code",
   "execution_count": null,
   "metadata": {},
   "outputs": [],
   "source": []
  },
  {
   "cell_type": "code",
   "execution_count": 16,
   "metadata": {},
   "outputs": [],
   "source": [
    "class Solution(object):\n",
    "  def evalRPN(self, tokens):\n",
    "    \"\"\"\n",
    "    input: string[] tokens\n",
    "    return: int\n",
    "    \"\"\"\n",
    "    # write your solution here\n",
    "    lst = []\n",
    "    for i in tokens:\n",
    "      if i.isdigit():\n",
    "        lst.append(i)\n",
    "      elif i =='+':\n",
    "        lst.append(int(lst.pop())+int(lst.pop()))\n",
    "      elif i =='-':\n",
    "        lst.append(-int(lst.pop())-int(lst.pop()))\n",
    "      elif i == '*':\n",
    "        lst.append(int(lst.pop())*int(lst.pop()))\n",
    "      elif i == '/':\n",
    "        a = int(lst.pop())\n",
    "        b = int(lst.pop())\n",
    "        lst.append(b/a)\n",
    "      else:\n",
    "        return -1\n",
    "    \n",
    "    return lst[-1]\n"
   ]
  },
  {
   "cell_type": "code",
   "execution_count": null,
   "metadata": {},
   "outputs": [],
   "source": []
  },
  {
   "cell_type": "code",
   "execution_count": null,
   "metadata": {},
   "outputs": [],
   "source": []
  },
  {
   "cell_type": "code",
   "execution_count": null,
   "metadata": {},
   "outputs": [],
   "source": []
  },
  {
   "cell_type": "code",
   "execution_count": null,
   "metadata": {},
   "outputs": [],
   "source": []
  },
  {
   "cell_type": "code",
   "execution_count": null,
   "metadata": {},
   "outputs": [],
   "source": []
  },
  {
   "cell_type": "code",
   "execution_count": null,
   "metadata": {},
   "outputs": [],
   "source": []
  },
  {
   "cell_type": "code",
   "execution_count": null,
   "metadata": {},
   "outputs": [],
   "source": []
  }
 ]
}