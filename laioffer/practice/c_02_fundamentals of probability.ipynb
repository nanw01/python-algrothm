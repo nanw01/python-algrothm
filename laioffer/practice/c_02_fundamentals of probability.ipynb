{
 "metadata": {
  "language_info": {
   "codemirror_mode": {
    "name": "ipython",
    "version": 3
   },
   "file_extension": ".py",
   "mimetype": "text/x-python",
   "name": "python",
   "nbconvert_exporter": "python",
   "pygments_lexer": "ipython3",
   "version": 3
  },
  "orig_nbformat": 2
 },
 "nbformat": 4,
 "nbformat_minor": 2,
 "cells": [
  {
   "cell_type": "code",
   "execution_count": null,
   "metadata": {},
   "outputs": [],
   "source": [
    "Posterior Probability  后验概率\n",
    "Prior Probability   先验概率"
   ]
  },
  {
   "cell_type": "code",
   "execution_count": null,
   "metadata": {},
   "outputs": [],
   "source": [
    "P(B|A)  被称为 B 的后验概率\n",
    "P(A)    被称为先验概率\n",
    "P(A|B)  被称为 A 的后验概率\n",
    "\n",
    "P(A|B)/P(A) 被称为似然估计（likelihood）又称为调节因子，使得预估计概率更接近真的概率\n",
    "\n",
    "\n",
    "条件概率可以理解为：后验概率 = 先验概率 x 调节因子(似然估计)\n",
    "\n",
    "P(B|A) = P(B)* P(A|B) / P(A)\n",
    "\n",
    "可以理解为：\n",
    "\n",
    "P(B|A) = P(A|B) * P(B) / P(A)\n",
    "\n",
    "贝叶斯推断是先利用先验概率来推断后验概率\n",
    "\n"
   ]
  },
  {
   "cell_type": "code",
   "execution_count": null,
   "metadata": {},
   "outputs": [],
   "source": [
    "如果 likelihood P(A|B)/P(A) > 1 意味着先验概率被增强，则事件 B 发生的可能性变大。\n",
    "如果 likelihood P(A|B)/P(A) = 1 意味着 A 时间无助于判断事件 B 的可能性。\n",
    "如果 likelihood P(A|B)/P(A) < 1 意味着先验概率被削弱，则事件 B 发生的可能性变小。"
   ]
  }
 ]
}