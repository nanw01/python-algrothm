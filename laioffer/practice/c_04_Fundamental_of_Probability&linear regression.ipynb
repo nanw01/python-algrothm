{
 "metadata": {
  "language_info": {
   "codemirror_mode": {
    "name": "ipython",
    "version": 3
   },
   "file_extension": ".py",
   "mimetype": "text/x-python",
   "name": "python",
   "nbconvert_exporter": "python",
   "pygments_lexer": "ipython3",
   "version": "3.8.8-final"
  },
  "orig_nbformat": 2,
  "kernelspec": {
   "name": "python3",
   "display_name": "Python 3.8.8 64-bit",
   "metadata": {
    "interpreter": {
     "hash": "3faf8911366678243a6996a95aafde61b4f1d90a5e6b5944fe84897ceaaf2542"
    }
   }
  }
 },
 "nbformat": 4,
 "nbformat_minor": 2,
 "cells": [
  {
   "source": [
    "P(A|B)/P(A) 被称为似然估计（likelihood）\n",
    "\n",
    "P(B|A) = P(B)* P(A|B) / P(A)"
   ],
   "cell_type": "markdown",
   "metadata": {}
  },
  {
   "source": [
    "Naive Bayes Classifier"
   ],
   "cell_type": "markdown",
   "metadata": {}
  },
  {
   "source": [
    "条件独立的基本定义：P(F1,F2|C) = P(F1|C)*P(F2|C)\n",
    "对比独立的基本定义：P(F1|F2) = P(F1)*P(F2)\n",
    "推论：P(F2|F1,C) = P(F2|C)"
   ],
   "cell_type": "markdown",
   "metadata": {}
  },
  {
   "source": [],
   "cell_type": "markdown",
   "metadata": {}
  },
  {
   "source": [
    "randomness is the lack of pattern or predictability in event.\n",
    "    each individual occurrence is uncertain\n",
    "    there is a pattern over many occurences"
   ],
   "cell_type": "markdown",
   "metadata": {}
  },
  {
   "source": [
    "random variable\n",
    "it is a variable whose possible values are numerical outcome of a random phenomenon\n",
    "\n",
    "随机变量分为两种:\n",
    "discrete random variable\n",
    "continuous random variable\n"
   ],
   "cell_type": "markdown",
   "metadata": {}
  },
  {
   "source": [
    "parameter vs random variable\n"
   ],
   "cell_type": "markdown",
   "metadata": {}
  },
  {
   "source": [],
   "cell_type": "markdown",
   "metadata": {}
  },
  {
   "source": [
    "discrete random variable\n",
    "\n",
    "expected value   就是mean\n",
    "variance 方差 \n",
    "\n",
    "When $a \\ne 0$, there are two solutions to \\(ax^2 + bx + c = 0\\) and they are\n",
    "$$x = {-b \\pm \\sqrt{b^2-4ac} \\over 2a}.$$"
   ],
   "cell_type": "markdown",
   "metadata": {}
  }
 ]
}