{
 "metadata": {
  "language_info": {
   "codemirror_mode": {
    "name": "ipython",
    "version": 3
   },
   "file_extension": ".py",
   "mimetype": "text/x-python",
   "name": "python",
   "nbconvert_exporter": "python",
   "pygments_lexer": "ipython3",
   "version": "3.8.5-final"
  },
  "orig_nbformat": 2,
  "kernelspec": {
   "name": "python3",
   "display_name": "Python 3.8.5 64-bit ('anaconda3': conda)",
   "metadata": {
    "interpreter": {
     "hash": "858990fd0c91b11d2845e77058ef8b2e31d353f5243685c27ad3c2a3691daea4"
    }
   }
  }
 },
 "nbformat": 4,
 "nbformat_minor": 2,
 "cells": [
  {
   "cell_type": "code",
   "execution_count": null,
   "metadata": {},
   "outputs": [],
   "source": [
    "# Definition for a binary tree node.\n",
    "# class TreeNode(object):\n",
    "#     def __init__(self, x):\n",
    "#         self.val = x\n",
    "#         self.left = None\n",
    "#         self.right = None\n",
    "class Solution(object):\n",
    "  def maxPathSumLeafToRoot(self, root):\n",
    "    \"\"\"\n",
    "    input: TreeNode root\n",
    "    return: int\n",
    "    \"\"\"\n",
    "    # write your solution here\n",
    "    self._max_sum = float('-inf')\n",
    "    self._maxPathSumLeafToRoot(root, 0)\n",
    "    return self._max_sum\n",
    "\n",
    "  def _maxPathSumLeafToRoot(self, node, cur_sum):\n",
    "    if node is None:\n",
    "      return \n",
    "    cur_sum += node.val\n",
    "    if node.left is None and node.right is None:\n",
    "      self._max_sum = max(self._max_sum, cur_sum)\n",
    "    \n",
    "    self._maxPathSumLeafToRoot(node.left, cur_sum)\n",
    "    self._maxPathSumLeafToRoot(node.right, cur_sum)\n",
    "\n",
    "    return\n"
   ]
  },
  {
   "cell_type": "code",
   "execution_count": null,
   "metadata": {},
   "outputs": [],
   "source": []
  },
  {
   "cell_type": "code",
   "execution_count": 8,
   "metadata": {},
   "outputs": [],
   "source": [
    "def merge_sort(arr):\n",
    "    if len(arr)<=1:\n",
    "        return arr\n",
    "    \n",
    "    mid = len(arr)//2\n",
    "    left = merge_sort(arr[:mid])\n",
    "    right = merge_sort(arr[mid:])\n",
    "\n",
    "    return merge(left,right)\n",
    "\n",
    "def merge(left,right):\n",
    "    i,j = 0,0\n",
    "    ret = []\n",
    "    while i<len(left) and j<len(right):\n",
    "        if left[i] < right[j]:\n",
    "            ret.append(left[i])\n",
    "            i+=1\n",
    "        else:\n",
    "            ret.append(right[j])\n",
    "            j+=1\n",
    "    \n",
    "    \n",
    "    while i<len(left):\n",
    "        ret.append(left[i])\n",
    "        i+=1\n",
    "    while j<len(right):\n",
    "        ret.append(right[j])\n",
    "        j+=1\n",
    "\n",
    "    return ret\n",
    "\n",
    "    "
   ]
  },
  {
   "cell_type": "code",
   "execution_count": 9,
   "metadata": {},
   "outputs": [
    {
     "output_type": "execute_result",
     "data": {
      "text/plain": [
       "[0, 1, 2, 3, 4, 5, 6, 7, 8, 9]"
      ]
     },
     "metadata": {},
     "execution_count": 9
    }
   ],
   "source": [
    "merge_sort([1,3,5,7,9,2,4,6,8,0])"
   ]
  },
  {
   "cell_type": "code",
   "execution_count": null,
   "metadata": {},
   "outputs": [],
   "source": []
  },
  {
   "cell_type": "code",
   "execution_count": 14,
   "metadata": {},
   "outputs": [],
   "source": [
    "class Solution(object):\n",
    "  def removeDiplicated(self, arr):\n",
    "    if len(arr) <=1:\n",
    "      return arr\n",
    "    ret = [arr[0]]\n",
    "    for i in arr:\n",
    "      if ret[-1] != i:\n",
    "        ret.append(i)\n",
    "    \n",
    "    return ''.join(ret)"
   ]
  },
  {
   "cell_type": "code",
   "execution_count": 16,
   "metadata": {},
   "outputs": [
    {
     "output_type": "execute_result",
     "data": {
      "text/plain": [
       "'aba'"
      ]
     },
     "metadata": {},
     "execution_count": 16
    }
   ],
   "source": [
    "Solution().removeDiplicated('aaabbbaaa')"
   ]
  },
  {
   "cell_type": "code",
   "execution_count": 19,
   "metadata": {},
   "outputs": [
    {
     "output_type": "execute_result",
     "data": {
      "text/plain": [
       "6"
      ]
     },
     "metadata": {},
     "execution_count": 19
    }
   ],
   "source": [
    "a=[1,2,3,4,5,6]\n",
    "len(a)"
   ]
  },
  {
   "cell_type": "code",
   "execution_count": 36,
   "metadata": {},
   "outputs": [],
   "source": [
    "class Solution(object):\n",
    "  \n",
    "  def findKsmallest(self, arr, k):\n",
    "    if arr is None or len(arr) == 0 or k ==0:\n",
    "      return arr\n",
    "    k_len = len(arr) if len(arr)>=k else k\n",
    "    for i in range(1,k_len):\n",
    "      minn = i-1\n",
    "      for j in range(i,len(arr)):\n",
    "        if arr[minn] > arr[j]:\n",
    "          minn = j\n",
    "      arr[i-1],arr[minn] = arr[minn], arr[i-1]\n",
    "      \n",
    "    return arr[:k]\n",
    "    \n",
    "# time O(kn)\n",
    "# space O(1)"
   ]
  },
  {
   "cell_type": "code",
   "execution_count": 37,
   "metadata": {},
   "outputs": [
    {
     "output_type": "execute_result",
     "data": {
      "text/plain": [
       "[]"
      ]
     },
     "metadata": {},
     "execution_count": 37
    }
   ],
   "source": [
    "Solution().findKsmallest([]  ,2)"
   ]
  },
  {
   "cell_type": "code",
   "execution_count": 22,
   "metadata": {},
   "outputs": [
    {
     "output_type": "execute_result",
     "data": {
      "text/plain": [
       "range(1, 2)"
      ]
     },
     "metadata": {},
     "execution_count": 22
    }
   ],
   "source": []
  },
  {
   "cell_type": "code",
   "execution_count": null,
   "metadata": {},
   "outputs": [],
   "source": []
  },
  {
   "cell_type": "code",
   "execution_count": 16,
   "metadata": {},
   "outputs": [],
   "source": [
    "class Solution(object):\n",
    "  def travesalTreeBottomTop(self, node):\n",
    "    if node is None:\n",
    "      return node\n",
    "    ret = []\n",
    "    q = [node]\n",
    "    next = []\n",
    "    line = []\n",
    "    while q:\n",
    "      n = q.pop(0)\n",
    "      if n.left:\n",
    "        next.append(n.left)\n",
    "      if n.right:\n",
    "        next.append(n.right)\n",
    "      line.append(node.val)\n",
    "      \n",
    "      if not q:\n",
    "        ret.append(line)\n",
    "        if next:\n",
    "          q = next\n",
    "          next=[]\n",
    "          line=[]\n",
    "\n",
    "    return ret\n",
    "        \n",
    "      "
   ]
  },
  {
   "cell_type": "code",
   "execution_count": 17,
   "metadata": {},
   "outputs": [],
   "source": [
    "class TreeNode(object):\n",
    "    def __init__(self, x):\n",
    "        self.val = x\n",
    "        self.left = None\n",
    "        self.right = None"
   ]
  },
  {
   "cell_type": "code",
   "execution_count": 18,
   "metadata": {},
   "outputs": [],
   "source": [
    "node6 = TreeNode(6)\n",
    "node14 = TreeNode(14)\n",
    "node11 = TreeNode(11)\n",
    "node11.left = node6\n",
    "node11.right = node14\n",
    "\n",
    "node2 = TreeNode(2)\n",
    "node5 = TreeNode(5)\n",
    "node5.left = node2\n",
    "node5.right = node11"
   ]
  },
  {
   "cell_type": "code",
   "execution_count": 19,
   "metadata": {},
   "outputs": [
    {
     "output_type": "execute_result",
     "data": {
      "text/plain": [
       "[[5], [5, 5], [5, 5]]"
      ]
     },
     "metadata": {},
     "execution_count": 19
    }
   ],
   "source": [
    "Solution().travesalTreeBottomTop(node5)"
   ]
  },
  {
   "cell_type": "code",
   "execution_count": 20,
   "metadata": {},
   "outputs": [
    {
     "output_type": "execute_result",
     "data": {
      "text/plain": [
       "2"
      ]
     },
     "metadata": {},
     "execution_count": 20
    }
   ],
   "source": [
    "node5.left.val"
   ]
  }
 ]
}