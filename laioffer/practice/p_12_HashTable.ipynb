{
 "metadata": {
  "language_info": {
   "codemirror_mode": {
    "name": "ipython",
    "version": 3
   },
   "file_extension": ".py",
   "mimetype": "text/x-python",
   "name": "python",
   "nbconvert_exporter": "python",
   "pygments_lexer": "ipython3",
   "version": "3.8.5-final"
  },
  "orig_nbformat": 2,
  "kernelspec": {
   "name": "python3",
   "display_name": "Python 3",
   "language": "python"
  }
 },
 "nbformat": 4,
 "nbformat_minor": 2,
 "cells": [
  {
   "cell_type": "code",
   "execution_count": 2,
   "metadata": {},
   "outputs": [
    {
     "output_type": "stream",
     "name": "stdout",
     "text": [
      "<class 'dict'>\n"
     ]
    },
    {
     "output_type": "execute_result",
     "data": {
      "text/plain": [
       "{'Name': 'Alice', 'Class': 'First'}"
      ]
     },
     "metadata": {},
     "execution_count": 2
    }
   ],
   "source": [
    "dict = {'Name': 'Alice', 'Age': 7, 'Class': 'First'}\r\n",
    "print(type(dict))\r\n",
    "del dict['Age']\r\n",
    "dict"
   ]
  },
  {
   "cell_type": "code",
   "execution_count": 3,
   "metadata": {},
   "outputs": [
    {
     "output_type": "stream",
     "name": "stdout",
     "text": [
      "<class 'type'>\n"
     ]
    },
    {
     "output_type": "execute_result",
     "data": {
      "text/plain": [
       "{1, 2, 3, 4, 5, 6, 7, 8}"
      ]
     },
     "metadata": {},
     "execution_count": 3
    }
   ],
   "source": [
    "my_set = {1,2,3}\n",
    "print(type(set))\n",
    "my_set.add(4)\n",
    "my_set.update([5])\n",
    "my_set.update([6],{7,8})\n",
    "\n",
    "my_set"
   ]
  },
  {
   "cell_type": "code",
   "execution_count": 4,
   "metadata": {},
   "outputs": [
    {
     "output_type": "execute_result",
     "data": {
      "text/plain": [
       "{2, 3, 4, 5, 6, 7, 8}"
      ]
     },
     "metadata": {},
     "execution_count": 4
    }
   ],
   "source": [
    "my_set.discard(1)\n",
    "my_set"
   ]
  },
  {
   "cell_type": "code",
   "execution_count": 5,
   "metadata": {},
   "outputs": [
    {
     "output_type": "execute_result",
     "data": {
      "text/plain": [
       "{2, 3, 4, 5, 6, 7}"
      ]
     },
     "metadata": {},
     "execution_count": 5
    }
   ],
   "source": [
    "my_set.remove(8)\n",
    "my_set"
   ]
  },
  {
   "cell_type": "code",
   "execution_count": 6,
   "metadata": {},
   "outputs": [
    {
     "output_type": "stream",
     "name": "stdout",
     "text": [
      "{1, 2}\n"
     ]
    }
   ],
   "source": [
    "my_set1 = {1,2}\n",
    "print(my_set1)"
   ]
  },
  {
   "cell_type": "code",
   "execution_count": 7,
   "metadata": {},
   "outputs": [
    {
     "output_type": "stream",
     "name": "stdout",
     "text": [
      "{1, 2, 3, 4, 5, 6, 7, 8}\n"
     ]
    }
   ],
   "source": [
    "A = {1, 2, 3, 4, 5}\n",
    "B = {8, 7, 6, 5, 4}\n",
    "print(A | B)"
   ]
  },
  {
   "cell_type": "code",
   "execution_count": 8,
   "metadata": {},
   "outputs": [
    {
     "output_type": "execute_result",
     "data": {
      "text/plain": [
       "{1, 2, 3, 4, 5, 6, 7, 8}"
      ]
     },
     "metadata": {},
     "execution_count": 8
    }
   ],
   "source": [
    "A.union(B)"
   ]
  },
  {
   "cell_type": "code",
   "execution_count": 9,
   "metadata": {},
   "outputs": [
    {
     "output_type": "stream",
     "name": "stdout",
     "text": [
      "{4, 5}\n"
     ]
    }
   ],
   "source": [
    "A = {1, 2, 3, 4, 5}\n",
    "B = {4, 5, 6, 7, 8}\n",
    "\n",
    "# use & operator\n",
    "# Output: {4, 5}\n",
    "print(A & B)"
   ]
  },
  {
   "cell_type": "code",
   "execution_count": 10,
   "metadata": {},
   "outputs": [
    {
     "output_type": "execute_result",
     "data": {
      "text/plain": [
       "{4, 5}"
      ]
     },
     "metadata": {},
     "execution_count": 10
    }
   ],
   "source": [
    "A.intersection(B)"
   ]
  },
  {
   "cell_type": "code",
   "execution_count": 11,
   "metadata": {},
   "outputs": [
    {
     "output_type": "stream",
     "name": "stdout",
     "text": [
      "{1, 2, 3}\n{8, 6, 7}\n"
     ]
    }
   ],
   "source": [
    "A = {1, 2, 3, 4, 5}\n",
    "B = {4, 5, 6, 7, 8}\n",
    "\n",
    "# use - operator on A\n",
    "# Output: {1, 2, 3}\n",
    "print(A - B)\n",
    "print(B - A)"
   ]
  },
  {
   "cell_type": "code",
   "execution_count": 12,
   "metadata": {},
   "outputs": [
    {
     "output_type": "execute_result",
     "data": {
      "text/plain": [
       "{1, 2, 3}"
      ]
     },
     "metadata": {},
     "execution_count": 12
    }
   ],
   "source": [
    "A.difference(B)"
   ]
  },
  {
   "cell_type": "code",
   "execution_count": 13,
   "metadata": {},
   "outputs": [
    {
     "output_type": "execute_result",
     "data": {
      "text/plain": [
       "{6, 7, 8}"
      ]
     },
     "metadata": {},
     "execution_count": 13
    }
   ],
   "source": [
    "B.difference(A)"
   ]
  },
  {
   "cell_type": "code",
   "execution_count": 14,
   "metadata": {},
   "outputs": [
    {
     "output_type": "stream",
     "name": "stdout",
     "text": [
      "True\nFalse\n"
     ]
    }
   ],
   "source": [
    "my_set = set(\"apple\")\n",
    "\n",
    "# check if 'a' is present\n",
    "# Output: True\n",
    "print('a' in my_set)\n",
    "\n",
    "# check if 'p' is present\n",
    "# Output: False\n",
    "print('p' not in my_set)"
   ]
  },
  {
   "cell_type": "code",
   "execution_count": 29,
   "metadata": {},
   "outputs": [
    {
     "output_type": "stream",
     "name": "stdout",
     "text": [
      "1\n"
     ]
    }
   ],
   "source": [
    "class Solution(object):\n",
    "    def missing(self, array):\n",
    "        \"\"\"\n",
    "        input: int[] array\n",
    "        return: int\n",
    "        \"\"\"\n",
    "        # write your solution here\n",
    "        return list(set(range(1, len(array)+2)).symmetric_difference(set(array)))[0]\n",
    "\n",
    "\n",
    "s = Solution()\n",
    "print(s.missing([]))\n"
   ]
  },
  {
   "cell_type": "code",
   "execution_count": 20,
   "metadata": {},
   "outputs": [
    {
     "output_type": "execute_result",
     "data": {
      "text/plain": [
       "[1, 2, 3, 4, 5, 6, 7, 8, 9]"
      ]
     },
     "metadata": {},
     "execution_count": 20
    }
   ],
   "source": [
    "list(range(1,10))"
   ]
  },
  {
   "cell_type": "code",
   "execution_count": 14,
   "metadata": {},
   "outputs": [
    {
     "output_type": "execute_result",
     "data": {
      "text/plain": [
       "[0, 1, 2, 4, 5, 6, 7, 8]"
      ]
     },
     "metadata": {},
     "execution_count": 14
    }
   ],
   "source": [
    "def insert(arr):\n",
    "    for i in range(len(arr)):\n",
    "        preIndex = i-1\n",
    "        curr = arr[i]\n",
    "        while preIndex >= 0 and arr[preIndex] > curr:\n",
    "            arr[preIndex+1] = arr[preIndex]\n",
    "            preIndex -= 1\n",
    "        arr[preIndex+1] = curr\n",
    "    return arr\n",
    "\n",
    "arr = [2,1,4,8,5,6,7,0]\n",
    "insert(arr)"
   ]
  },
  {
   "cell_type": "code",
   "execution_count": 26,
   "metadata": {},
   "outputs": [
    {
     "output_type": "execute_result",
     "data": {
      "text/plain": [
       "[0, 1, 2, 3, 4, 5, 6, 7, 8, 9]"
      ]
     },
     "metadata": {},
     "execution_count": 26
    }
   ],
   "source": [
    "def insert111(arr):\n",
    "    for i in range(1, len(arr)):\n",
    "        currValue = arr[i]\n",
    "        k=i\n",
    "        while k > 0 and currValue <arr[k-1]:\n",
    "            arr[k] = arr[k-1]\n",
    "            k-=1\n",
    "        arr[k]=currValue\n",
    "    \n",
    "    return arr\n",
    "\n",
    "arr2 = [1,3,5,7,9,2,4,6,8,0]\n",
    "insert111(arr2)"
   ]
  },
  {
   "cell_type": "code",
   "execution_count": null,
   "metadata": {},
   "outputs": [],
   "source": []
  },
  {
   "cell_type": "code",
   "execution_count": 28,
   "metadata": {},
   "outputs": [
    {
     "output_type": "execute_result",
     "data": {
      "text/plain": [
       "[1, 2, 2, 3, 4, 4, 4, 5, 5, 5, 6, 8, 8]"
      ]
     },
     "metadata": {},
     "execution_count": 28
    }
   ],
   "source": [
    "def insetr11111(arr):\n",
    "    for i in range(1, len(arr)):\n",
    "        curr = arr[i]\n",
    "        k = i\n",
    "        while k > 0 and curr < arr[k-1]:\n",
    "            arr[k] = arr[k-1]\n",
    "            k -= 1\n",
    "        arr[k] = curr\n",
    "    \n",
    "    return arr\n",
    "\n",
    "arr = [1,3,2,4,2,5,6,8,8,5,5,4,4]\n",
    "insetr11111(arr)\n"
   ]
  },
  {
   "cell_type": "code",
   "execution_count": null,
   "metadata": {},
   "outputs": [],
   "source": []
  },
  {
   "cell_type": "code",
   "execution_count": 29,
   "metadata": {},
   "outputs": [],
   "source": [
    "class ListNode(object):\n",
    "    def __init__(self, value):\n",
    "        self.next = None\n",
    "        self.value = value\n",
    "node1 = ListNode('H')\n",
    "node2 = ListNode('E')\n",
    "node1.next = node2\n"
   ]
  },
  {
   "cell_type": "code",
   "execution_count": 30,
   "metadata": {},
   "outputs": [],
   "source": [
    "def print_all_node(head):\n",
    "    while head is not None:\n",
    "        print(head.value)\n",
    "        head = head.next"
   ]
  },
  {
   "cell_type": "code",
   "execution_count": 31,
   "metadata": {},
   "outputs": [
    {
     "output_type": "stream",
     "name": "stdout",
     "text": [
      "H\nE\n"
     ]
    }
   ],
   "source": [
    "print_all_node(node1)"
   ]
  },
  {
   "cell_type": "code",
   "execution_count": 44,
   "metadata": {},
   "outputs": [],
   "source": [
    "def search_by_index(head, index):\n",
    "    if head is None or index < 0:\n",
    "        return None\n",
    "    for move_times in range(index):\n",
    "        head = head.next\n",
    "        if not head:\n",
    "            return None\n",
    "    return head"
   ]
  },
  {
   "cell_type": "code",
   "execution_count": 45,
   "metadata": {},
   "outputs": [
    {
     "output_type": "execute_result",
     "data": {
      "text/plain": [
       "'H'"
      ]
     },
     "metadata": {},
     "execution_count": 45
    }
   ],
   "source": [
    "search_by_index(node1,0).value"
   ]
  },
  {
   "cell_type": "code",
   "execution_count": 47,
   "metadata": {},
   "outputs": [],
   "source": [
    "def search_by_value(head, value):\n",
    "    if not head:\n",
    "        return None\n",
    "    current_node = head\n",
    "    while current_node is not None:\n",
    "        if current_node.value == value:\n",
    "            return current_node\n",
    "        current_node = current_node.next\n",
    "    return None"
   ]
  },
  {
   "cell_type": "code",
   "execution_count": 51,
   "metadata": {},
   "outputs": [
    {
     "output_type": "execute_result",
     "data": {
      "text/plain": [
       "'H'"
      ]
     },
     "metadata": {},
     "execution_count": 51
    }
   ],
   "source": [
    "search_by_value(node1,'H').value"
   ]
  },
  {
   "cell_type": "code",
   "execution_count": 52,
   "metadata": {},
   "outputs": [],
   "source": [
    "class ListNode(object):\n",
    "    \n",
    "    def __init__(self, value):\n",
    "        self.next = None\n",
    "        self.value =  value\n",
    "    \n",
    "    def __eq__(self, other):\n",
    "        return isinstance(other, ListNode) and self.value == other.value"
   ]
  },
  {
   "cell_type": "code",
   "execution_count": null,
   "metadata": {},
   "outputs": [],
   "source": []
  },
  {
   "cell_type": "code",
   "execution_count": 53,
   "metadata": {},
   "outputs": [],
   "source": [
    "def add_to_index(head, index, value):\n",
    "\n",
    "    if index == 0:\n",
    "        new_head = ListNode(value)\n",
    "        new_head.next = head\n",
    "        return new_head\n",
    "    else:\n",
    "        prevNode = search_by_index(head, index-1)\n",
    "        if prevNode is None:\n",
    "            return head\n",
    "        new_head = ListNode(value)\n",
    "        new_head.next = prevNode.next\n",
    "        prevNode.next = new_head\n",
    "        return head"
   ]
  },
  {
   "cell_type": "code",
   "execution_count": 56,
   "metadata": {},
   "outputs": [
    {
     "output_type": "stream",
     "name": "stdout",
     "text": [
      "H\n**\n**\nE\n"
     ]
    }
   ],
   "source": [
    "add_to_index(node1, 2, '**')\n",
    "print_all_node(node1)"
   ]
  },
  {
   "cell_type": "code",
   "execution_count": 57,
   "metadata": {},
   "outputs": [
    {
     "output_type": "execute_result",
     "data": {
      "text/plain": [
       "'stdent'"
      ]
     },
     "metadata": {},
     "execution_count": 57
    }
   ],
   "source": [
    "s = 'student'\n",
    "s.replace('u','')"
   ]
  },
  {
   "cell_type": "code",
   "execution_count": null,
   "metadata": {},
   "outputs": [],
   "source": []
  },
  {
   "cell_type": "code",
   "execution_count": 59,
   "metadata": {},
   "outputs": [
    {
     "output_type": "execute_result",
     "data": {
      "text/plain": [
       "'we'"
      ]
     },
     "metadata": {},
     "execution_count": 59
    }
   ],
   "source": [
    "res = []\n",
    "for i in 'qwe':\n",
    "    if i not in ['q']:\n",
    "        res.append(i)\n",
    "''.join(res)"
   ]
  },
  {
   "cell_type": "code",
   "execution_count": null,
   "metadata": {},
   "outputs": [],
   "source": []
  },
  {
   "cell_type": "code",
   "execution_count": 60,
   "metadata": {},
   "outputs": [
    {
     "output_type": "error",
     "ename": "NameError",
     "evalue": "name 'char' is not defined",
     "traceback": [
      "\u001b[0;31m---------------------------------------------------------------------------\u001b[0m",
      "\u001b[0;31mNameError\u001b[0m                                 Traceback (most recent call last)",
      "\u001b[0;32m<ipython-input-60-72a7345c60f1>\u001b[0m in \u001b[0;36m<module>\u001b[0;34m\u001b[0m\n\u001b[0;32m----> 1\u001b[0;31m \u001b[0mchar\u001b[0m\u001b[0;34m(\u001b[0m\u001b[0;36m26\u001b[0m\u001b[0;34m)\u001b[0m\u001b[0;34m\u001b[0m\u001b[0;34m\u001b[0m\u001b[0m\n\u001b[0m",
      "\u001b[0;31mNameError\u001b[0m: name 'char' is not defined"
     ]
    }
   ],
   "source": [
    "char (26)"
   ]
  },
  {
   "cell_type": "code",
   "execution_count": null,
   "metadata": {},
   "outputs": [],
   "source": []
  },
  {
   "cell_type": "code",
   "execution_count": null,
   "metadata": {},
   "outputs": [],
   "source": []
  },
  {
   "cell_type": "code",
   "execution_count": null,
   "metadata": {},
   "outputs": [],
   "source": []
  },
  {
   "cell_type": "code",
   "execution_count": null,
   "metadata": {},
   "outputs": [],
   "source": []
  },
  {
   "cell_type": "code",
   "execution_count": null,
   "metadata": {},
   "outputs": [],
   "source": []
  },
  {
   "cell_type": "code",
   "execution_count": null,
   "metadata": {},
   "outputs": [],
   "source": []
  }
 ]
}