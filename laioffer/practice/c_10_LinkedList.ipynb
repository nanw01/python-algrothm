{
 "metadata": {
  "language_info": {
   "codemirror_mode": {
    "name": "ipython",
    "version": 3
   },
   "file_extension": ".py",
   "mimetype": "text/x-python",
   "name": "python",
   "nbconvert_exporter": "python",
   "pygments_lexer": "ipython3",
   "version": "3.8.5-final"
  },
  "orig_nbformat": 2,
  "kernelspec": {
   "name": "python3",
   "display_name": "Python 3",
   "language": "python"
  }
 },
 "nbformat": 4,
 "nbformat_minor": 2,
 "cells": [
  {
   "cell_type": "code",
   "execution_count": 1,
   "metadata": {},
   "outputs": [],
   "source": [
    "class ListNode(object):\n",
    "    def __init__(self, value):\n",
    "        self.next = None\n",
    "        self.value = value\n",
    "\n",
    "node1 = ListNode('H')\n",
    "node2 = ListNode('E')\n",
    "node1.next = node2"
   ]
  },
  {
   "cell_type": "code",
   "execution_count": 2,
   "metadata": {},
   "outputs": [],
   "source": [
    "# traverse\n",
    "def print_all_node(node):\n",
    "    while node is not None:\n",
    "        print(node.value)\n",
    "        node = node.next"
   ]
  },
  {
   "cell_type": "code",
   "execution_count": 3,
   "metadata": {},
   "outputs": [
    {
     "output_type": "stream",
     "name": "stdout",
     "text": [
      "H\nE\n"
     ]
    }
   ],
   "source": [
    "print_all_node(node1)"
   ]
  },
  {
   "cell_type": "code",
   "execution_count": 4,
   "metadata": {},
   "outputs": [],
   "source": [
    "# search\n",
    "def search_by_index(node, index):\n",
    "    if node is None or index < 0:\n",
    "        return None\n",
    "    for n in range(index):\n",
    "        node = node.next\n",
    "        if node is None:\n",
    "            return None\n",
    "    return node"
   ]
  },
  {
   "cell_type": "code",
   "execution_count": 8,
   "metadata": {},
   "outputs": [
    {
     "output_type": "execute_result",
     "data": {
      "text/plain": [
       "'H'"
      ]
     },
     "metadata": {},
     "execution_count": 8
    }
   ],
   "source": [
    "search_by_index(node1,0).value"
   ]
  },
  {
   "cell_type": "code",
   "execution_count": null,
   "metadata": {},
   "outputs": [],
   "source": [
    "def search_by_value(node, value):\n",
    "    if not node:\n",
    "        return None\n",
    "    cur_node = node\n",
    "    for cur_node is not None:\n",
    "        if cur_node.value=value:\n",
    "            return cur_node\n",
    "        cur_node = cur_node.next\n",
    "\n",
    "    return None"
   ]
  },
  {
   "cell_type": "code",
   "execution_count": 9,
   "metadata": {},
   "outputs": [],
   "source": [
    "class ListNode(object):\n",
    "    def __init__(self,value):\n",
    "         self.next = None\n",
    "         self.value = value\n",
    "    \n",
    "    def __eq__(self, other):\n",
    "        return isinstance(other, ListNode) and self.value == other.value"
   ]
  },
  {
   "cell_type": "code",
   "execution_count": 13,
   "metadata": {},
   "outputs": [],
   "source": [
    "def add_to_index(node,value, index):\n",
    "    if index ==0:\n",
    "        newNode = ListNode(value)\n",
    "        newNode.next = node\n",
    "        return newNode\n",
    "    else:\n",
    "        prevNode = search_by_index(node,index - 1)\n",
    "        if prevNode is None:\n",
    "            return node\n",
    "        newNode = ListNode(value)\n",
    "        newNode.next = prevNode.next\n",
    "        prevNode.next = newNode\n",
    "        return node"
   ]
  },
  {
   "cell_type": "code",
   "execution_count": 24,
   "metadata": {},
   "outputs": [
    {
     "output_type": "stream",
     "name": "stdout",
     "text": [
      "H\nE\nA\nA\nA\nA\nA\nA\nA\nA\nA\nA\nA\nA\nA\n"
     ]
    }
   ],
   "source": [
    "nn = add_to_index(node1,'A',2)\n",
    "print_all_node(node1)"
   ]
  },
  {
   "cell_type": "code",
   "execution_count": 29,
   "metadata": {},
   "outputs": [],
   "source": [
    "def searchByIndex(node, index):\n",
    "    if node is None or index < 0:\n",
    "        return None\n",
    "    for i in range(index):\n",
    "        node = node.next\n",
    "    return node"
   ]
  },
  {
   "cell_type": "code",
   "execution_count": 31,
   "metadata": {},
   "outputs": [
    {
     "output_type": "execute_result",
     "data": {
      "text/plain": [
       "'E'"
      ]
     },
     "metadata": {},
     "execution_count": 31
    }
   ],
   "source": [
    "searchByIndex(node1,1).value"
   ]
  },
  {
   "cell_type": "code",
   "execution_count": null,
   "metadata": {},
   "outputs": [],
   "source": []
  },
  {
   "cell_type": "code",
   "execution_count": 1,
   "metadata": {},
   "outputs": [
    {
     "output_type": "execute_result",
     "data": {
      "text/plain": [
       "[1, 9, 3, 4, 5, 6, 7]"
      ]
     },
     "metadata": {},
     "execution_count": 1
    }
   ],
   "source": [
    "a = [1,2,3,4,5,6,7,]\n",
    "b=a\n",
    "b[1] = 9\n",
    "a"
   ]
  },
  {
   "cell_type": "code",
   "execution_count": null,
   "metadata": {},
   "outputs": [],
   "source": []
  },
  {
   "cell_type": "code",
   "execution_count": null,
   "metadata": {},
   "outputs": [],
   "source": []
  },
  {
   "cell_type": "code",
   "execution_count": null,
   "metadata": {},
   "outputs": [],
   "source": []
  },
  {
   "cell_type": "code",
   "execution_count": null,
   "metadata": {},
   "outputs": [],
   "source": []
  }
 ]
}