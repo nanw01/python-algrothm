{
 "metadata": {
  "language_info": {
   "codemirror_mode": {
    "name": "ipython",
    "version": 3
   },
   "file_extension": ".py",
   "mimetype": "text/x-python",
   "name": "python",
   "nbconvert_exporter": "python",
   "pygments_lexer": "ipython3",
   "version": "3.8.5-final"
  },
  "orig_nbformat": 2,
  "kernelspec": {
   "name": "python3",
   "display_name": "Python 3.8.5 64-bit ('anaconda3': conda)",
   "metadata": {
    "interpreter": {
     "hash": "858990fd0c91b11d2845e77058ef8b2e31d353f5243685c27ad3c2a3691daea4"
    }
   }
  }
 },
 "nbformat": 4,
 "nbformat_minor": 2,
 "cells": [
  {
   "cell_type": "code",
   "execution_count": null,
   "metadata": {},
   "outputs": [],
   "source": [
    "# OOPS is abbreviated as Object Oriented Programming system in which programs are considered as a collection of objects. Each object is nothing but an instance of a class."
   ]
  },
  {
   "cell_type": "code",
   "execution_count": null,
   "metadata": {},
   "outputs": [],
   "source": [
    "抽象 - abstraction\n",
    "封装 - encapsulation\n",
    "继承 - inheritance\n",
    "多态 - polymorphism\n",
    "重写 - override"
   ]
  },
  {
   "cell_type": "code",
   "execution_count": null,
   "metadata": {},
   "outputs": [],
   "source": [
    "method - class 里面的函数\n",
    "fuction - 面向过程的函数\n",
    "attribute - class的的变量\n",
    "variable - 面向过程的变量"
   ]
  },
  {
   "cell_type": "code",
   "execution_count": null,
   "metadata": {},
   "outputs": [],
   "source": [
    "单下划线 - 私有化属性或方法\n",
    "双下划线 - 表示私有类型 private 的变量 attribute， 只允许这个类本身进行访问，不能被子类(subclass)访问，不能继承(inheritance)\n",
    "头尾双下划线 - special generally system or build-in method name"
   ]
  },
  {
   "cell_type": "code",
   "execution_count": null,
   "metadata": {},
   "outputs": [],
   "source": [
    "def get_height(root):\n",
    "    if root is None:\n",
    "        return 0\n",
    "        \n",
    "    left = get_height(root.left)\n",
    "    right = get_height(root.right)\n",
    "    \n",
    "    return 1 + max(left, right)"
   ]
  },
  {
   "source": [
    "float('-inf')"
   ],
   "cell_type": "code",
   "metadata": {},
   "execution_count": 9,
   "outputs": [
    {
     "output_type": "execute_result",
     "data": {
      "text/plain": [
       "-inf"
      ]
     },
     "metadata": {},
     "execution_count": 9
    }
   ]
  },
  {
   "source": [],
   "cell_type": "code",
   "metadata": {},
   "execution_count": null,
   "outputs": []
  },
  {
   "cell_type": "code",
   "execution_count": null,
   "metadata": {},
   "outputs": [],
   "source": [
    "# Definition for a binary tree node.\n",
    "# class TreeNode(object):\n",
    "#     def __init__(self, x):\n",
    "#         self.val = x\n",
    "#         self.left = None\n",
    "#         self.right = None\n",
    "class Solution(object):\n",
    "    def maxPathSumLeafToRoot(self, root):\n",
    "        \"\"\"\n",
    "        input: TreeNode root\n",
    "        return: int\n",
    "        \"\"\"\n",
    "        # write your solution here\n",
    "        self._max_sum = float('-inf')\n",
    "        self._maxPathSumLeafToRoot(root, 0)\n",
    "        return self._max_sum\n",
    "\n",
    "    def _maxPathSumLeafToRoot(self, node, cur):\n",
    "        if node is None:\n",
    "            return float('-inf')\n",
    "\n",
    "        if node.left is None and node.right is None:\n",
    "            self._max_sum = max(self._max_sum, cur + node.val)\n",
    "            return\n",
    "\n",
    "        self._maxPathSumLeafToRoot(node.left, cur + node.val)\n",
    "        self._maxPathSumLeafToRoot(node.right, cur + node.val)\n",
    "\n",
    "        return\n"
   ]
  },
  {
   "cell_type": "code",
   "execution_count": null,
   "metadata": {},
   "outputs": [],
   "source": []
  },
  {
   "cell_type": "code",
   "execution_count": null,
   "metadata": {},
   "outputs": [],
   "source": []
  },
  {
   "cell_type": "code",
   "execution_count": null,
   "metadata": {},
   "outputs": [],
   "source": []
  },
  {
   "cell_type": "code",
   "execution_count": null,
   "metadata": {},
   "outputs": [],
   "source": []
  },
  {
   "cell_type": "code",
   "execution_count": null,
   "metadata": {},
   "outputs": [],
   "source": []
  },
  {
   "cell_type": "code",
   "execution_count": null,
   "metadata": {},
   "outputs": [],
   "source": []
  },
  {
   "cell_type": "code",
   "execution_count": null,
   "metadata": {},
   "outputs": [],
   "source": []
  },
  {
   "cell_type": "code",
   "execution_count": null,
   "metadata": {},
   "outputs": [],
   "source": []
  },
  {
   "cell_type": "code",
   "execution_count": null,
   "metadata": {},
   "outputs": [],
   "source": []
  },
  {
   "cell_type": "code",
   "execution_count": null,
   "metadata": {},
   "outputs": [],
   "source": []
  }
 ]
}