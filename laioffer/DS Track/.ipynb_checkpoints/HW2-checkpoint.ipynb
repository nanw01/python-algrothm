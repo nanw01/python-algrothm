{
 "cells": [
  {
   "cell_type": "code",
   "execution_count": 3,
   "metadata": {
    "application/vnd.databricks.v1+cell": {
     "inputWidgets": {},
     "nuid": "1929b520-507b-4c5f-a579-090b761306db",
     "showTitle": false,
     "title": ""
    }
   },
   "outputs": [],
   "source": [
    "import pyspark\n",
    "from pyspark import SparkContext"
   ]
  },
  {
   "cell_type": "code",
   "execution_count": 4,
   "metadata": {
    "application/vnd.databricks.v1+cell": {
     "inputWidgets": {},
     "nuid": "f2d5fc5e-28e0-4efa-8b5d-2a66a2c95bea",
     "showTitle": false,
     "title": ""
    }
   },
   "outputs": [
    {
     "name": "stdout",
     "output_type": "stream",
     "text": [
      "3.1.1\n"
     ]
    }
   ],
   "source": [
    "# Import the PySpark module\n",
    "from pyspark.sql import SparkSession\n",
    "\n",
    "# Create SparkSession object\n",
    "spark = SparkSession.builder \\\n",
    "                    .master('local[*]') \\\n",
    "                    .appName('test') \\\n",
    "                    .getOrCreate()\n",
    "print(spark.version)"
   ]
  },
  {
   "cell_type": "code",
   "execution_count": 6,
   "metadata": {
    "application/vnd.databricks.v1+cell": {
     "inputWidgets": {},
     "nuid": "4719213a-2b8f-4ec5-ae7f-735534b8366d",
     "showTitle": false,
     "title": ""
    }
   },
   "outputs": [
    {
     "data": {
      "text/plain": [
       "[Row(movieId=1, title='Toy Story (1995)', genres='Adventure|Animation|Children|Comedy|Fantasy'),\n",
       " Row(movieId=2, title='Jumanji (1995)', genres='Adventure|Children|Fantasy'),\n",
       " Row(movieId=3, title='Grumpier Old Men (1995)', genres='Comedy|Romance'),\n",
       " Row(movieId=4, title='Waiting to Exhale (1995)', genres='Comedy|Drama|Romance'),\n",
       " Row(movieId=5, title='Father of the Bride Part II (1995)', genres='Comedy')]"
      ]
     },
     "metadata": {},
     "output_type": "display_data"
    },
    {
     "data": {
      "text/plain": [
       "[Row(userId=1, movieId=307, rating=3.5, timestamp=1256677221),\n",
       " Row(userId=1, movieId=481, rating=3.5, timestamp=1256677456),\n",
       " Row(userId=1, movieId=1091, rating=1.5, timestamp=1256677471),\n",
       " Row(userId=1, movieId=1257, rating=4.5, timestamp=1256677460),\n",
       " Row(userId=1, movieId=1449, rating=4.5, timestamp=1256677264)]"
      ]
     },
     "metadata": {},
     "output_type": "display_data"
    },
    {
     "data": {
      "text/plain": [
       "[Row(movieId=1, imdbId=114709, tmdbId=862),\n",
       " Row(movieId=2, imdbId=113497, tmdbId=8844),\n",
       " Row(movieId=3, imdbId=113228, tmdbId=15602),\n",
       " Row(movieId=4, imdbId=114885, tmdbId=31357),\n",
       " Row(movieId=5, imdbId=113041, tmdbId=11862)]"
      ]
     },
     "metadata": {},
     "output_type": "display_data"
    },
    {
     "data": {
      "text/plain": [
       "[Row(userId=14, movieId=110, tag='epic', timestamp='1443148538'),\n",
       " Row(userId=14, movieId=110, tag='Medieval', timestamp='1443148532'),\n",
       " Row(userId=14, movieId=260, tag='sci-fi', timestamp='1442169410'),\n",
       " Row(userId=14, movieId=260, tag='space action', timestamp='1442169421'),\n",
       " Row(userId=14, movieId=318, tag='imdb top 250', timestamp='1442615195')]"
      ]
     },
     "metadata": {},
     "output_type": "display_data"
    },
    {
     "data": {
      "text/plain": [
       "DataFrame[userId: int, movieId: int, tag: string, timestamp: string]"
      ]
     },
     "execution_count": 6,
     "metadata": {},
     "output_type": "execute_result"
    }
   ],
   "source": [
    "# File location and type\n",
    "file_location_movies = \"./ml-latest/movies.csv\"\n",
    "file_location_ratings = \"./ml-latest/ratings.csv\"\n",
    "file_location_links = \"./ml-latest/links.csv\"\n",
    "file_location_tags = \"./ml-latest/tags.csv\"\n",
    "\n",
    "file_type = \"csv\"\n",
    "\n",
    "# CSV options\n",
    "infer_schema = \"True\"\n",
    "first_row_is_header = \"True\"\n",
    "delimiter = \",\"\n",
    "\n",
    "# The applied options are for CSV files. For other file types, these will be ignored.\n",
    "movies_df = spark.read.format(file_type).option(\"inferSchema\", infer_schema).option(\"header\", first_row_is_header).option(\"sep\", delimiter).load(file_location_movies)\n",
    "ratings_df = spark.read.format(file_type).option(\"inferSchema\", infer_schema).option(\"header\", first_row_is_header).option(\"sep\", delimiter).load(file_location_ratings)\n",
    "links_df = spark.read.format(file_type).option(\"inferSchema\", infer_schema).option(\"header\", first_row_is_header).option(\"sep\", delimiter).load(file_location_links)\n",
    "tags_df = spark.read.format(file_type).option(\"inferSchema\", infer_schema).option(\"header\", first_row_is_header).option(\"sep\", delimiter).load(file_location_tags)\n",
    "                                            \n",
    "display(movies_df.take(5))\n",
    "display(ratings_df.take(5))\n",
    "display(links_df.take(5))\n",
    "display(tags_df.take(5))\n",
    "\n",
    "movies_df.createOrReplaceTempView('movies')\n",
    "ratings_df.createOrReplaceTempView('ratings')\n",
    "links_df.createOrReplaceTempView('links')\n",
    "tags_df.createOrReplaceTempView('tags')\n",
    "\n",
    "movies_df.cache()\n",
    "ratings_df.cache()\n",
    "links_df.cache()\n",
    "tags_df.cache()"
   ]
  },
  {
   "cell_type": "code",
   "execution_count": 7,
   "metadata": {
    "application/vnd.databricks.v1+cell": {
     "inputWidgets": {},
     "nuid": "f96bdf12-02bb-47f4-83e9-2af3003590ee",
     "showTitle": false,
     "title": ""
    }
   },
   "outputs": [
    {
     "name": "stdout",
     "output_type": "stream",
     "text": [
      "[('movieId', 'int'), ('title', 'string'), ('genres', 'string')]\n",
      "[('userId', 'int'), ('movieId', 'int'), ('rating', 'double'), ('timestamp', 'int')]\n",
      "[('movieId', 'int'), ('imdbId', 'int'), ('tmdbId', 'int')]\n",
      "[('userId', 'int'), ('movieId', 'int'), ('tag', 'string'), ('timestamp', 'string')]\n"
     ]
    }
   ],
   "source": [
    "print(movies_df.dtypes)\n",
    "print(ratings_df.dtypes)\n",
    "print(links_df.dtypes)\n",
    "print(tags_df.dtypes)"
   ]
  },
  {
   "cell_type": "markdown",
   "metadata": {
    "application/vnd.databricks.v1+cell": {
     "inputWidgets": {},
     "nuid": "63466ce6-5d7c-4b2b-ae94-bb796efc5419",
     "showTitle": false,
     "title": ""
    }
   },
   "source": [
    "## Part 1: Spark SQL and OLAP"
   ]
  },
  {
   "cell_type": "code",
   "execution_count": 8,
   "metadata": {
    "application/vnd.databricks.v1+cell": {
     "inputWidgets": {},
     "nuid": "1684d9da-9110-41b3-b959-4b945e374f88",
     "showTitle": false,
     "title": ""
    }
   },
   "outputs": [
    {
     "name": "stdout",
     "output_type": "stream",
     "text": [
      "['movieId', 'title', 'genres']\n",
      "['userId', 'movieId', 'rating', 'timestamp']\n",
      "['movieId', 'imdbId', 'tmdbId']\n",
      "['userId', 'movieId', 'tag', 'timestamp']\n"
     ]
    }
   ],
   "source": [
    "print(movies_df.columns)\n",
    "print(ratings_df.columns)\n",
    "print(links_df.columns)\n",
    "print(tags_df.columns)"
   ]
  },
  {
   "cell_type": "markdown",
   "metadata": {
    "application/vnd.databricks.v1+cell": {
     "inputWidgets": {},
     "nuid": "98ca0286-de72-4d2e-8dea-263f12783359",
     "showTitle": false,
     "title": ""
    }
   },
   "source": [
    "### Q1: The number of Users"
   ]
  },
  {
   "cell_type": "code",
   "execution_count": 9,
   "metadata": {
    "application/vnd.databricks.v1+cell": {
     "inputWidgets": {},
     "nuid": "364b56b1-8f18-4399-ade0-246716e591e5",
     "showTitle": false,
     "title": ""
    }
   },
   "outputs": [
    {
     "ename": "SyntaxError",
     "evalue": "invalid syntax (<ipython-input-9-0d5584a89956>, line 2)",
     "output_type": "error",
     "traceback": [
      "\u001b[0;36m  File \u001b[0;32m\"<ipython-input-9-0d5584a89956>\"\u001b[0;36m, line \u001b[0;32m2\u001b[0m\n\u001b[0;31m    select count(distinct userId)\u001b[0m\n\u001b[0m           ^\u001b[0m\n\u001b[0;31mSyntaxError\u001b[0m\u001b[0;31m:\u001b[0m invalid syntax\n"
     ]
    }
   ],
   "source": [
    "%sql\n",
    "select count(distinct userId)\n",
    "from ratings"
   ]
  },
  {
   "cell_type": "code",
   "execution_count": null,
   "metadata": {
    "application/vnd.databricks.v1+cell": {
     "inputWidgets": {},
     "nuid": "a3fa8eb6-1e39-4bc9-a43f-d1ee49fe2825",
     "showTitle": false,
     "title": ""
    }
   },
   "outputs": [],
   "source": [
    "ratings_df.select('userId').distinct().count()"
   ]
  },
  {
   "cell_type": "markdown",
   "metadata": {
    "application/vnd.databricks.v1+cell": {
     "inputWidgets": {},
     "nuid": "99480cf6-e900-42ad-8787-81a31bea032f",
     "showTitle": false,
     "title": ""
    }
   },
   "source": [
    "### Q2: The number of Movies"
   ]
  },
  {
   "cell_type": "code",
   "execution_count": null,
   "metadata": {
    "application/vnd.databricks.v1+cell": {
     "inputWidgets": {},
     "nuid": "d14ff281-1c21-4c98-9d32-6a69f1da14b6",
     "showTitle": false,
     "title": ""
    }
   },
   "outputs": [],
   "source": [
    "%sql\n",
    "select count(distinct movieId)\n",
    "from movies"
   ]
  },
  {
   "cell_type": "code",
   "execution_count": null,
   "metadata": {
    "application/vnd.databricks.v1+cell": {
     "inputWidgets": {},
     "nuid": "519a86e6-dfbe-4edd-b418-15d51124b73f",
     "showTitle": false,
     "title": ""
    }
   },
   "outputs": [],
   "source": [
    "movies_df.select('movieId').distinct().count()"
   ]
  },
  {
   "cell_type": "markdown",
   "metadata": {
    "application/vnd.databricks.v1+cell": {
     "inputWidgets": {},
     "nuid": "5a22a1e9-9a73-4aa8-aea8-c566c58eb5e9",
     "showTitle": false,
     "title": ""
    }
   },
   "source": [
    "### Q3: How many movies are rated by users? List movies not rated before"
   ]
  },
  {
   "cell_type": "code",
   "execution_count": null,
   "metadata": {
    "application/vnd.databricks.v1+cell": {
     "inputWidgets": {},
     "nuid": "a61dd684-8fd2-4e91-a656-fc30468d292f",
     "showTitle": false,
     "title": ""
    }
   },
   "outputs": [],
   "source": [
    "%sql\n",
    "select count(distinct movieId)\n",
    "from ratings"
   ]
  },
  {
   "cell_type": "code",
   "execution_count": null,
   "metadata": {
    "application/vnd.databricks.v1+cell": {
     "inputWidgets": {},
     "nuid": "b2eb3312-a8ac-49da-9b17-ccb5781728ca",
     "showTitle": false,
     "title": ""
    }
   },
   "outputs": [],
   "source": [
    "# movies_df.select('movieId').subtract(ratings_df.select('movieId')).count()\n",
    "ratings_df.select('movieId').distinct().count()"
   ]
  },
  {
   "cell_type": "markdown",
   "metadata": {
    "application/vnd.databricks.v1+cell": {
     "inputWidgets": {},
     "nuid": "5be4c839-18cf-4f23-a323-7ba8baae7d73",
     "showTitle": false,
     "title": ""
    }
   },
   "source": [
    "### Q4: List Movie Genres"
   ]
  },
  {
   "cell_type": "code",
   "execution_count": null,
   "metadata": {
    "application/vnd.databricks.v1+cell": {
     "inputWidgets": {},
     "nuid": "69def1e7-cbdd-4450-82e6-3aa17fc57b1f",
     "showTitle": false,
     "title": ""
    }
   },
   "outputs": [],
   "source": [
    "%sql\n",
    "select distinct genres\n",
    "from movies"
   ]
  },
  {
   "cell_type": "code",
   "execution_count": null,
   "metadata": {
    "application/vnd.databricks.v1+cell": {
     "inputWidgets": {},
     "nuid": "a7295f8e-bb65-4da0-8d5a-f5444d0bad70",
     "showTitle": false,
     "title": ""
    }
   },
   "outputs": [],
   "source": [
    "movies_df.select('genres').distinct().show()"
   ]
  },
  {
   "cell_type": "markdown",
   "metadata": {
    "application/vnd.databricks.v1+cell": {
     "inputWidgets": {},
     "nuid": "07184a7c-5d12-4d50-bad5-98e97b552292",
     "showTitle": false,
     "title": ""
    }
   },
   "source": [
    "### Q5: Movie for Each Category"
   ]
  },
  {
   "cell_type": "code",
   "execution_count": null,
   "metadata": {
    "application/vnd.databricks.v1+cell": {
     "inputWidgets": {},
     "nuid": "178d0f7e-70dd-482d-a0d4-41925698c727",
     "showTitle": false,
     "title": ""
    }
   },
   "outputs": [],
   "source": [
    "%sql\n",
    "select category, count(*) as category_count\n",
    "from (\n",
    "select explode(split(genres, '\\\\|')) as category\n",
    "from movies\n",
    ") as movies_category\n",
    "group by movies_category.category\n",
    "order by category_count desc"
   ]
  },
  {
   "cell_type": "code",
   "execution_count": null,
   "metadata": {
    "application/vnd.databricks.v1+cell": {
     "inputWidgets": {},
     "nuid": "b6ae42c7-c162-4799-99fb-a638cdc19852",
     "showTitle": false,
     "title": ""
    }
   },
   "outputs": [],
   "source": [
    "movies_df.select(split(col(\"genres\"),\"\\|\").alias(\"genres\")).withColumn('genres', explode('genres')).groupby('genres').count().orderBy(col(\"count\").desc()).show()"
   ]
  },
  {
   "cell_type": "markdown",
   "metadata": {
    "application/vnd.databricks.v1+cell": {
     "inputWidgets": {},
     "nuid": "6dc92317-407f-4377-b116-8727c4e215b7",
     "showTitle": false,
     "title": ""
    }
   },
   "source": [
    "## Part2: Spark ALS based approach for training model"
   ]
  },
  {
   "cell_type": "code",
   "execution_count": 0,
   "metadata": {
    "application/vnd.databricks.v1+cell": {
     "inputWidgets": {},
     "nuid": "508bbf6f-d0d5-4b09-9f24-43a81a8d9f11",
     "showTitle": false,
     "title": ""
    }
   },
   "outputs": [
    {
     "data": {
      "text/html": [
       "<style scoped>\n",
       "  .ansiout {\n",
       "    display: block;\n",
       "    unicode-bidi: embed;\n",
       "    white-space: pre-wrap;\n",
       "    word-wrap: break-word;\n",
       "    word-break: break-all;\n",
       "    font-family: \"Source Code Pro\", \"Menlo\", monospace;;\n",
       "    font-size: 13px;\n",
       "    color: #555;\n",
       "    margin-left: 4px;\n",
       "    line-height: 19px;\n",
       "  }\n",
       "</style>\n",
       "<div class=\"ansiout\">[(&#39;movieId&#39;, &#39;int&#39;), (&#39;title&#39;, &#39;string&#39;), (&#39;genres&#39;, &#39;string&#39;)]\n",
       "[(&#39;userId&#39;, &#39;int&#39;), (&#39;movieId&#39;, &#39;int&#39;), (&#39;rating&#39;, &#39;double&#39;), (&#39;timestamp&#39;, &#39;int&#39;)]\n",
       "[(&#39;movieId&#39;, &#39;int&#39;), (&#39;imdbId&#39;, &#39;int&#39;), (&#39;tmdbId&#39;, &#39;int&#39;)]\n",
       "[(&#39;userId&#39;, &#39;int&#39;), (&#39;movieId&#39;, &#39;int&#39;), (&#39;tag&#39;, &#39;string&#39;), (&#39;timestamp&#39;, &#39;string&#39;)]\n",
       "[&#39;movieId&#39;, &#39;title&#39;, &#39;genres&#39;]\n",
       "[&#39;userId&#39;, &#39;movieId&#39;, &#39;rating&#39;, &#39;timestamp&#39;]\n",
       "[&#39;movieId&#39;, &#39;imdbId&#39;, &#39;tmdbId&#39;]\n",
       "[&#39;userId&#39;, &#39;movieId&#39;, &#39;tag&#39;, &#39;timestamp&#39;]\n",
       "</div>"
      ]
     },
     "metadata": {
      "application/vnd.databricks.v1+output": {
       "addedWidgets": {},
       "arguments": {},
       "data": "<div class=\"ansiout\">[(&#39;movieId&#39;, &#39;int&#39;), (&#39;title&#39;, &#39;string&#39;), (&#39;genres&#39;, &#39;string&#39;)]\n[(&#39;userId&#39;, &#39;int&#39;), (&#39;movieId&#39;, &#39;int&#39;), (&#39;rating&#39;, &#39;double&#39;), (&#39;timestamp&#39;, &#39;int&#39;)]\n[(&#39;movieId&#39;, &#39;int&#39;), (&#39;imdbId&#39;, &#39;int&#39;), (&#39;tmdbId&#39;, &#39;int&#39;)]\n[(&#39;userId&#39;, &#39;int&#39;), (&#39;movieId&#39;, &#39;int&#39;), (&#39;tag&#39;, &#39;string&#39;), (&#39;timestamp&#39;, &#39;string&#39;)]\n[&#39;movieId&#39;, &#39;title&#39;, &#39;genres&#39;]\n[&#39;userId&#39;, &#39;movieId&#39;, &#39;rating&#39;, &#39;timestamp&#39;]\n[&#39;movieId&#39;, &#39;imdbId&#39;, &#39;tmdbId&#39;]\n[&#39;userId&#39;, &#39;movieId&#39;, &#39;tag&#39;, &#39;timestamp&#39;]\n</div>",
       "datasetInfos": [],
       "removedWidgets": [],
       "type": "html"
      }
     },
     "output_type": "display_data"
    }
   ],
   "source": [
    "print(movies_df.dtypes)\n",
    "print(ratings_df.dtypes)\n",
    "print(links_df.dtypes)\n",
    "print(tags_df.dtypes)\n",
    "print(movies_df.columns)\n",
    "print(ratings_df.columns)\n",
    "print(links_df.columns)\n",
    "print(tags_df.columns)"
   ]
  },
  {
   "cell_type": "code",
   "execution_count": 0,
   "metadata": {
    "application/vnd.databricks.v1+cell": {
     "inputWidgets": {},
     "nuid": "aaad8702-864f-43d8-9048-e6755606cab1",
     "showTitle": false,
     "title": ""
    }
   },
   "outputs": [
    {
     "data": {
      "text/html": [
       "<style scoped>\n",
       "  .ansiout {\n",
       "    display: block;\n",
       "    unicode-bidi: embed;\n",
       "    white-space: pre-wrap;\n",
       "    word-wrap: break-word;\n",
       "    word-break: break-all;\n",
       "    font-family: \"Source Code Pro\", \"Menlo\", monospace;;\n",
       "    font-size: 13px;\n",
       "    color: #555;\n",
       "    margin-left: 4px;\n",
       "    line-height: 19px;\n",
       "  }\n",
       "</style>\n",
       "<div class=\"ansiout\">numerator: 27753444 . num_users: 283228 . num_movies: 53889 . denominator: 15262873692 . sparsity: 99.81816370521007\n",
       "The ratings dataframe is  99.82% empty.\n",
       "</div>"
      ]
     },
     "metadata": {
      "application/vnd.databricks.v1+output": {
       "addedWidgets": {},
       "arguments": {},
       "data": "<div class=\"ansiout\">numerator: 27753444 . num_users: 283228 . num_movies: 53889 . denominator: 15262873692 . sparsity: 99.81816370521007\nThe ratings dataframe is  99.82% empty.\n</div>",
       "datasetInfos": [],
       "removedWidgets": [],
       "type": "html"
      }
     },
     "output_type": "display_data"
    }
   ],
   "source": [
    "# Count the total number of ratings in the dataset\n",
    "numerator = ratings_df.select(\"rating\").count()\n",
    "\n",
    "# Count the number of distinct userIds and distinct movieIds\n",
    "num_users = ratings_df.select(\"userId\").distinct().count()\n",
    "num_movies = ratings_df.select(\"movieId\").distinct().count()\n",
    "\n",
    "# Set the denominator equal to the number of users multiplied by the number of movies\n",
    "denominator = num_users * num_movies\n",
    "\n",
    "# Divide the numerator by the denominator\n",
    "sparsity = (1.0 - (numerator *1.0)/denominator)*100\n",
    "print(\"numerator:\",numerator,\". num_users:\",num_users,\". num_movies:\",num_movies,'. denominator:',denominator,'. sparsity:',sparsity)\n",
    "print(\"The ratings dataframe is \", \"%.2f\" % sparsity + \"% empty.\")"
   ]
  },
  {
   "cell_type": "code",
   "execution_count": 0,
   "metadata": {
    "application/vnd.databricks.v1+cell": {
     "inputWidgets": {},
     "nuid": "b69e333e-8897-44eb-8f33-8ad3fd4ebd2e",
     "showTitle": false,
     "title": ""
    }
   },
   "outputs": [
    {
     "data": {
      "text/html": [
       "<style scoped>\n",
       "  .table-result-container {\n",
       "    max-height: 300px;\n",
       "    overflow: auto;\n",
       "  }\n",
       "  table, th, td {\n",
       "    border: 1px solid black;\n",
       "    border-collapse: collapse;\n",
       "  }\n",
       "  th, td {\n",
       "    padding: 5px;\n",
       "  }\n",
       "  th {\n",
       "    text-align: left;\n",
       "  }\n",
       "</style><div class='table-result-container'><table class='table-result'><thead style='background-color: white'><tr><th>userId</th><th>count</th></tr></thead><tbody><tr><td>1</td><td>16</td></tr><tr><td>2</td><td>15</td></tr><tr><td>3</td><td>11</td></tr><tr><td>4</td><td>736</td></tr><tr><td>5</td><td>72</td></tr><tr><td>6</td><td>42</td></tr><tr><td>7</td><td>15</td></tr><tr><td>8</td><td>31</td></tr><tr><td>9</td><td>1</td></tr><tr><td>10</td><td>121</td></tr><tr><td>11</td><td>19</td></tr><tr><td>12</td><td>18</td></tr><tr><td>13</td><td>20</td></tr><tr><td>14</td><td>174</td></tr><tr><td>15</td><td>162</td></tr><tr><td>16</td><td>41</td></tr><tr><td>17</td><td>2</td></tr><tr><td>18</td><td>92</td></tr><tr><td>19</td><td>262</td></tr><tr><td>20</td><td>4</td></tr><tr><td>21</td><td>15</td></tr><tr><td>22</td><td>26</td></tr><tr><td>23</td><td>17</td></tr><tr><td>24</td><td>6</td></tr><tr><td>25</td><td>16</td></tr><tr><td>26</td><td>105</td></tr><tr><td>27</td><td>16</td></tr><tr><td>28</td><td>24</td></tr><tr><td>29</td><td>9</td></tr><tr><td>30</td><td>17</td></tr><tr><td>31</td><td>71</td></tr><tr><td>32</td><td>15</td></tr><tr><td>33</td><td>1</td></tr><tr><td>34</td><td>82</td></tr><tr><td>35</td><td>66</td></tr><tr><td>36</td><td>149</td></tr><tr><td>37</td><td>33</td></tr><tr><td>38</td><td>141</td></tr><tr><td>39</td><td>92</td></tr><tr><td>40</td><td>10</td></tr><tr><td>41</td><td>2</td></tr><tr><td>42</td><td>308</td></tr><tr><td>43</td><td>246</td></tr><tr><td>44</td><td>7</td></tr><tr><td>45</td><td>122</td></tr><tr><td>46</td><td>100</td></tr><tr><td>47</td><td>140</td></tr><tr><td>48</td><td>170</td></tr><tr><td>49</td><td>8</td></tr><tr><td>50</td><td>11</td></tr><tr><td>51</td><td>388</td></tr><tr><td>52</td><td>30</td></tr><tr><td>53</td><td>127</td></tr><tr><td>54</td><td>38</td></tr><tr><td>55</td><td>280</td></tr><tr><td>56</td><td>764</td></tr><tr><td>57</td><td>30</td></tr><tr><td>58</td><td>25</td></tr><tr><td>59</td><td>75</td></tr><tr><td>60</td><td>82</td></tr><tr><td>61</td><td>16</td></tr><tr><td>62</td><td>29</td></tr><tr><td>63</td><td>16</td></tr><tr><td>64</td><td>14</td></tr><tr><td>65</td><td>32</td></tr><tr><td>66</td><td>15</td></tr><tr><td>67</td><td>127</td></tr><tr><td>68</td><td>39</td></tr><tr><td>69</td><td>6</td></tr><tr><td>70</td><td>94</td></tr><tr><td>71</td><td>233</td></tr><tr><td>72</td><td>179</td></tr><tr><td>73</td><td>468</td></tr><tr><td>74</td><td>19</td></tr><tr><td>75</td><td>142</td></tr><tr><td>76</td><td>56</td></tr><tr><td>77</td><td>15</td></tr><tr><td>78</td><td>4</td></tr><tr><td>79</td><td>425</td></tr><tr><td>80</td><td>15</td></tr><tr><td>81</td><td>1093</td></tr><tr><td>82</td><td>45</td></tr><tr><td>83</td><td>92</td></tr><tr><td>84</td><td>153</td></tr><tr><td>85</td><td>15</td></tr><tr><td>86</td><td>19</td></tr><tr><td>87</td><td>18</td></tr><tr><td>88</td><td>302</td></tr><tr><td>89</td><td>14</td></tr><tr><td>90</td><td>148</td></tr><tr><td>91</td><td>14</td></tr><tr><td>92</td><td>15</td></tr><tr><td>93</td><td>19</td></tr><tr><td>94</td><td>16</td></tr><tr><td>95</td><td>158</td></tr><tr><td>96</td><td>10</td></tr><tr><td>97</td><td>15</td></tr><tr><td>98</td><td>20</td></tr><tr><td>99</td><td>146</td></tr><tr><td>100</td><td>511</td></tr><tr><td>101</td><td>46</td></tr><tr><td>102</td><td>15</td></tr><tr><td>103</td><td>133</td></tr><tr><td>104</td><td>18</td></tr><tr><td>105</td><td>44</td></tr><tr><td>106</td><td>11</td></tr><tr><td>107</td><td>34</td></tr><tr><td>108</td><td>29</td></tr><tr><td>109</td><td>5</td></tr><tr><td>110</td><td>16</td></tr><tr><td>111</td><td>67</td></tr><tr><td>112</td><td>14</td></tr><tr><td>113</td><td>12</td></tr><tr><td>114</td><td>303</td></tr><tr><td>115</td><td>16</td></tr><tr><td>116</td><td>21</td></tr><tr><td>117</td><td>68</td></tr><tr><td>118</td><td>7</td></tr><tr><td>119</td><td>267</td></tr><tr><td>120</td><td>17</td></tr><tr><td>121</td><td>66</td></tr><tr><td>122</td><td>44</td></tr><tr><td>123</td><td>5</td></tr><tr><td>124</td><td>8</td></tr><tr><td>125</td><td>8</td></tr><tr><td>126</td><td>15</td></tr><tr><td>127</td><td>19</td></tr><tr><td>128</td><td>69</td></tr><tr><td>129</td><td>9</td></tr><tr><td>130</td><td>76</td></tr><tr><td>131</td><td>16</td></tr><tr><td>132</td><td>134</td></tr><tr><td>133</td><td>15</td></tr><tr><td>134</td><td>1208</td></tr><tr><td>135</td><td>67</td></tr><tr><td>136</td><td>44</td></tr><tr><td>137</td><td>137</td></tr><tr><td>138</td><td>440</td></tr><tr><td>139</td><td>15</td></tr><tr><td>140</td><td>5</td></tr><tr><td>141</td><td>59</td></tr><tr><td>142</td><td>4</td></tr><tr><td>143</td><td>44</td></tr><tr><td>144</td><td>13</td></tr><tr><td>145</td><td>30</td></tr><tr><td>146</td><td>7</td></tr><tr><td>147</td><td>352</td></tr><tr><td>148</td><td>48</td></tr><tr><td>149</td><td>6</td></tr><tr><td>150</td><td>37</td></tr><tr><td>151</td><td>122</td></tr><tr><td>152</td><td>32</td></tr><tr><td>153</td><td>2</td></tr><tr><td>154</td><td>176</td></tr><tr><td>155</td><td>55</td></tr><tr><td>156</td><td>34</td></tr><tr><td>157</td><td>28</td></tr><tr><td>158</td><td>60</td></tr><tr><td>159</td><td>17</td></tr><tr><td>160</td><td>502</td></tr><tr><td>161</td><td>11</td></tr><tr><td>162</td><td>19</td></tr><tr><td>163</td><td>164</td></tr><tr><td>164</td><td>159</td></tr><tr><td>165</td><td>66</td></tr><tr><td>166</td><td>20</td></tr><tr><td>167</td><td>5</td></tr><tr><td>168</td><td>73</td></tr><tr><td>169</td><td>1</td></tr><tr><td>170</td><td>10</td></tr><tr><td>171</td><td>27</td></tr><tr><td>172</td><td>76</td></tr><tr><td>173</td><td>1352</td></tr><tr><td>174</td><td>161</td></tr><tr><td>175</td><td>5</td></tr><tr><td>176</td><td>702</td></tr><tr><td>177</td><td>30</td></tr><tr><td>178</td><td>26</td></tr><tr><td>179</td><td>44</td></tr><tr><td>180</td><td>217</td></tr><tr><td>181</td><td>43</td></tr><tr><td>182</td><td>15</td></tr><tr><td>183</td><td>221</td></tr><tr><td>184</td><td>22</td></tr><tr><td>185</td><td>191</td></tr><tr><td>186</td><td>6</td></tr><tr><td>187</td><td>160</td></tr><tr><td>188</td><td>19</td></tr><tr><td>189</td><td>43</td></tr><tr><td>190</td><td>35</td></tr><tr><td>191</td><td>19</td></tr><tr><td>192</td><td>15</td></tr><tr><td>193</td><td>5</td></tr><tr><td>194</td><td>6</td></tr><tr><td>195</td><td>14</td></tr><tr><td>196</td><td>252</td></tr><tr><td>197</td><td>27</td></tr><tr><td>198</td><td>1</td></tr><tr><td>199</td><td>8</td></tr><tr><td>200</td><td>16</td></tr><tr><td>201</td><td>11</td></tr><tr><td>202</td><td>21</td></tr><tr><td>203</td><td>51</td></tr><tr><td>204</td><td>18</td></tr><tr><td>205</td><td>4</td></tr><tr><td>206</td><td>162</td></tr><tr><td>207</td><td>2</td></tr><tr><td>208</td><td>16</td></tr><tr><td>209</td><td>8</td></tr><tr><td>210</td><td>10</td></tr><tr><td>211</td><td>7</td></tr><tr><td>212</td><td>15</td></tr><tr><td>213</td><td>51</td></tr><tr><td>214</td><td>1616</td></tr><tr><td>215</td><td>34</td></tr><tr><td>216</td><td>17</td></tr><tr><td>217</td><td>15</td></tr><tr><td>218</td><td>76</td></tr><tr><td>219</td><td>54</td></tr><tr><td>220</td><td>1</td></tr><tr><td>221</td><td>70</td></tr><tr><td>222</td><td>185</td></tr><tr><td>223</td><td>43</td></tr><tr><td>224</td><td>61</td></tr><tr><td>225</td><td>88</td></tr><tr><td>226</td><td>2</td></tr><tr><td>227</td><td>24</td></tr><tr><td>228</td><td>11</td></tr><tr><td>229</td><td>6</td></tr><tr><td>230</td><td>3</td></tr><tr><td>231</td><td>27</td></tr><tr><td>232</td><td>17</td></tr><tr><td>233</td><td>32</td></tr><tr><td>234</td><td>15</td></tr><tr><td>235</td><td>1740</td></tr><tr><td>236</td><td>8</td></tr><tr><td>237</td><td>7</td></tr><tr><td>238</td><td>41</td></tr><tr><td>239</td><td>1674</td></tr><tr><td>240</td><td>61</td></tr><tr><td>241</td><td>187</td></tr><tr><td>242</td><td>12</td></tr><tr><td>243</td><td>17</td></tr><tr><td>244</td><td>1</td></tr><tr><td>245</td><td>111</td></tr><tr><td>246</td><td>11</td></tr><tr><td>247</td><td>39</td></tr><tr><td>248</td><td>571</td></tr><tr><td>249</td><td>105</td></tr><tr><td>250</td><td>154</td></tr><tr><td>251</td><td>96</td></tr><tr><td>252</td><td>39</td></tr><tr><td>253</td><td>135</td></tr><tr><td>254</td><td>1</td></tr><tr><td>255</td><td>424</td></tr><tr><td>256</td><td>78</td></tr><tr><td>257</td><td>15</td></tr><tr><td>258</td><td>226</td></tr><tr><td>259</td><td>29</td></tr><tr><td>260</td><td>6</td></tr><tr><td>261</td><td>22</td></tr><tr><td>262</td><td>2</td></tr><tr><td>263</td><td>15</td></tr><tr><td>264</td><td>1</td></tr><tr><td>265</td><td>12</td></tr><tr><td>266</td><td>6</td></tr><tr><td>267</td><td>6</td></tr><tr><td>268</td><td>362</td></tr><tr><td>269</td><td>100</td></tr><tr><td>270</td><td>15</td></tr><tr><td>271</td><td>16</td></tr><tr><td>272</td><td>25</td></tr><tr><td>273</td><td>4</td></tr><tr><td>274</td><td>13</td></tr><tr><td>275</td><td>48</td></tr><tr><td>276</td><td>50</td></tr><tr><td>277</td><td>524</td></tr><tr><td>278</td><td>15</td></tr><tr><td>279</td><td>1</td></tr><tr><td>280</td><td>51</td></tr><tr><td>281</td><td>1</td></tr><tr><td>282</td><td>26</td></tr><tr><td>283</td><td>27</td></tr><tr><td>284</td><td>31</td></tr><tr><td>285</td><td>129</td></tr><tr><td>286</td><td>11</td></tr><tr><td>287</td><td>110</td></tr><tr><td>288</td><td>170</td></tr><tr><td>289</td><td>9</td></tr><tr><td>290</td><td>16</td></tr><tr><td>291</td><td>42</td></tr><tr><td>292</td><td>18</td></tr><tr><td>293</td><td>28</td></tr><tr><td>294</td><td>250</td></tr><tr><td>295</td><td>474</td></tr><tr><td>296</td><td>10</td></tr><tr><td>297</td><td>13</td></tr><tr><td>298</td><td>94</td></tr><tr><td>299</td><td>87</td></tr><tr><td>300</td><td>134</td></tr><tr><td>301</td><td>170</td></tr><tr><td>302</td><td>145</td></tr><tr><td>303</td><td>11</td></tr><tr><td>304</td><td>1</td></tr><tr><td>305</td><td>45</td></tr><tr><td>306</td><td>12</td></tr><tr><td>307</td><td>4</td></tr><tr><td>308</td><td>115</td></tr><tr><td>309</td><td>15</td></tr><tr><td>310</td><td>40</td></tr><tr><td>311</td><td>17</td></tr><tr><td>312</td><td>90</td></tr><tr><td>313</td><td>363</td></tr><tr><td>314</td><td>175</td></tr><tr><td>315</td><td>32</td></tr><tr><td>316</td><td>30</td></tr><tr><td>317</td><td>15</td></tr><tr><td>318</td><td>28</td></tr><tr><td>319</td><td>258</td></tr><tr><td>320</td><td>11</td></tr><tr><td>321</td><td>311</td></tr><tr><td>322</td><td>42</td></tr><tr><td>323</td><td>7</td></tr><tr><td>324</td><td>16</td></tr><tr><td>325</td><td>26</td></tr><tr><td>326</td><td>4</td></tr><tr><td>327</td><td>115</td></tr><tr><td>328</td><td>1</td></tr><tr><td>329</td><td>17</td></tr><tr><td>330</td><td>22</td></tr><tr><td>331</td><td>15</td></tr><tr><td>332</td><td>568</td></tr><tr><td>333</td><td>28</td></tr><tr><td>334</td><td>41</td></tr><tr><td>335</td><td>50</td></tr><tr><td>336</td><td>57</td></tr><tr><td>337</td><td>15</td></tr><tr><td>338</td><td>48</td></tr><tr><td>339</td><td>1093</td></tr><tr><td>340</td><td>67</td></tr><tr><td>341</td><td>41</td></tr><tr><td>342</td><td>30</td></tr><tr><td>343</td><td>286</td></tr><tr><td>344</td><td>7</td></tr><tr><td>345</td><td>227</td></tr><tr><td>346</td><td>6</td></tr><tr><td>347</td><td>18</td></tr><tr><td>348</td><td>34</td></tr><tr><td>349</td><td>16</td></tr><tr><td>350</td><td>83</td></tr><tr><td>351</td><td>101</td></tr><tr><td>352</td><td>1</td></tr><tr><td>353</td><td>16</td></tr><tr><td>354</td><td>12</td></tr><tr><td>355</td><td>113</td></tr><tr><td>356</td><td>89</td></tr><tr><td>357</td><td>384</td></tr><tr><td>358</td><td>170</td></tr><tr><td>359</td><td>17</td></tr><tr><td>360</td><td>49</td></tr><tr><td>361</td><td>7</td></tr><tr><td>362</td><td>112</td></tr><tr><td>363</td><td>216</td></tr><tr><td>364</td><td>10</td></tr><tr><td>365</td><td>35</td></tr><tr><td>366</td><td>93</td></tr><tr><td>367</td><td>20</td></tr><tr><td>368</td><td>161</td></tr><tr><td>369</td><td>93</td></tr><tr><td>370</td><td>25</td></tr><tr><td>371</td><td>16</td></tr><tr><td>372</td><td>277</td></tr><tr><td>373</td><td>16</td></tr><tr><td>374</td><td>219</td></tr><tr><td>375</td><td>13</td></tr><tr><td>376</td><td>166</td></tr><tr><td>377</td><td>162</td></tr><tr><td>378</td><td>295</td></tr><tr><td>379</td><td>286</td></tr><tr><td>380</td><td>38</td></tr><tr><td>381</td><td>21</td></tr><tr><td>382</td><td>270</td></tr><tr><td>383</td><td>26</td></tr><tr><td>384</td><td>385</td></tr><tr><td>385</td><td>28</td></tr><tr><td>386</td><td>113</td></tr><tr><td>387</td><td>16</td></tr><tr><td>388</td><td>81</td></tr><tr><td>389</td><td>20</td></tr><tr><td>390</td><td>152</td></tr><tr><td>391</td><td>35</td></tr><tr><td>392</td><td>20</td></tr><tr><td>393</td><td>35</td></tr><tr><td>394</td><td>15</td></tr><tr><td>395</td><td>34</td></tr><tr><td>396</td><td>189</td></tr><tr><td>397</td><td>5</td></tr><tr><td>398</td><td>1</td></tr><tr><td>399</td><td>174</td></tr><tr><td>400</td><td>14</td></tr><tr><td>401</td><td>15</td></tr><tr><td>402</td><td>477</td></tr><tr><td>403</td><td>128</td></tr><tr><td>404</td><td>2</td></tr><tr><td>405</td><td>13</td></tr><tr><td>406</td><td>21</td></tr><tr><td>407</td><td>113</td></tr><tr><td>408</td><td>341</td></tr><tr><td>409</td><td>24</td></tr><tr><td>410</td><td>31</td></tr><tr><td>411</td><td>45</td></tr><tr><td>412</td><td>8</td></tr><tr><td>413</td><td>19</td></tr><tr><td>414</td><td>68</td></tr><tr><td>415</td><td>172</td></tr><tr><td>416</td><td>86</td></tr><tr><td>417</td><td>15</td></tr><tr><td>418</td><td>90</td></tr><tr><td>419</td><td>44</td></tr><tr><td>420</td><td>5</td></tr><tr><td>421</td><td>108</td></tr><tr><td>422</td><td>16</td></tr><tr><td>423</td><td>179</td></tr><tr><td>424</td><td>33</td></tr><tr><td>425</td><td>5</td></tr><tr><td>426</td><td>1</td></tr><tr><td>427</td><td>281</td></tr><tr><td>428</td><td>302</td></tr><tr><td>429</td><td>8</td></tr><tr><td>430</td><td>38</td></tr><tr><td>431</td><td>6</td></tr><tr><td>432</td><td>65</td></tr><tr><td>433</td><td>10</td></tr><tr><td>434</td><td>15</td></tr><tr><td>435</td><td>100</td></tr><tr><td>436</td><td>15</td></tr><tr><td>437</td><td>6</td></tr><tr><td>438</td><td>48</td></tr><tr><td>439</td><td>15</td></tr><tr><td>440</td><td>13</td></tr><tr><td>441</td><td>15</td></tr><tr><td>442</td><td>15</td></tr><tr><td>443</td><td>258</td></tr><tr><td>444</td><td>127</td></tr><tr><td>445</td><td>50</td></tr><tr><td>446</td><td>17</td></tr><tr><td>447</td><td>192</td></tr><tr><td>448</td><td>9</td></tr><tr><td>449</td><td>825</td></tr><tr><td>450</td><td>255</td></tr><tr><td>451</td><td>45</td></tr><tr><td>452</td><td>23</td></tr><tr><td>453</td><td>27</td></tr><tr><td>454</td><td>16</td></tr><tr><td>455</td><td>105</td></tr><tr><td>456</td><td>12</td></tr><tr><td>457</td><td>31</td></tr><tr><td>458</td><td>559</td></tr><tr><td>459</td><td>86</td></tr><tr><td>460</td><td>37</td></tr><tr><td>461</td><td>6</td></tr><tr><td>462</td><td>41</td></tr><tr><td>463</td><td>92</td></tr><tr><td>464</td><td>197</td></tr><tr><td>465</td><td>536</td></tr><tr><td>466</td><td>42</td></tr><tr><td>467</td><td>10</td></tr><tr><td>468</td><td>17</td></tr><tr><td>469</td><td>20</td></tr><tr><td>470</td><td>42</td></tr><tr><td>471</td><td>363</td></tr><tr><td>472</td><td>5</td></tr><tr><td>473</td><td>391</td></tr><tr><td>474</td><td>4</td></tr><tr><td>475</td><td>11</td></tr><tr><td>476</td><td>52</td></tr><tr><td>477</td><td>29</td></tr><tr><td>478</td><td>96</td></tr><tr><td>479</td><td>19</td></tr><tr><td>480</td><td>48</td></tr><tr><td>481</td><td>27</td></tr><tr><td>482</td><td>48</td></tr><tr><td>483</td><td>18</td></tr><tr><td>484</td><td>121</td></tr><tr><td>485</td><td>52</td></tr><tr><td>486</td><td>220</td></tr><tr><td>487</td><td>17</td></tr><tr><td>488</td><td>124</td></tr><tr><td>489</td><td>38</td></tr><tr><td>490</td><td>12</td></tr><tr><td>491</td><td>601</td></tr><tr><td>492</td><td>5</td></tr><tr><td>493</td><td>16</td></tr><tr><td>494</td><td>18</td></tr><tr><td>495</td><td>143</td></tr><tr><td>496</td><td>31</td></tr><tr><td>497</td><td>344</td></tr><tr><td>498</td><td>35</td></tr><tr><td>499</td><td>10</td></tr><tr><td>500</td><td>145</td></tr><tr><td>501</td><td>16</td></tr><tr><td>502</td><td>311</td></tr><tr><td>503</td><td>15</td></tr><tr><td>504</td><td>12</td></tr><tr><td>505</td><td>338</td></tr><tr><td>506</td><td>17</td></tr><tr><td>507</td><td>131</td></tr><tr><td>508</td><td>22</td></tr><tr><td>509</td><td>18</td></tr><tr><td>510</td><td>37</td></tr><tr><td>511</td><td>24</td></tr><tr><td>512</td><td>11</td></tr><tr><td>513</td><td>86</td></tr><tr><td>514</td><td>187</td></tr><tr><td>515</td><td>32</td></tr><tr><td>516</td><td>36</td></tr><tr><td>517</td><td>6</td></tr><tr><td>518</td><td>19</td></tr><tr><td>519</td><td>7</td></tr><tr><td>520</td><td>48</td></tr><tr><td>521</td><td>51</td></tr><tr><td>522</td><td>1</td></tr><tr><td>523</td><td>153</td></tr><tr><td>524</td><td>20</td></tr><tr><td>525</td><td>10</td></tr><tr><td>526</td><td>654</td></tr><tr><td>527</td><td>25</td></tr><tr><td>528</td><td>6</td></tr><tr><td>529</td><td>45</td></tr><tr><td>530</td><td>5</td></tr><tr><td>531</td><td>11</td></tr><tr><td>532</td><td>50</td></tr><tr><td>533</td><td>10</td></tr><tr><td>534</td><td>1</td></tr><tr><td>535</td><td>12</td></tr><tr><td>536</td><td>63</td></tr><tr><td>537</td><td>39</td></tr><tr><td>538</td><td>109</td></tr><tr><td>539</td><td>81</td></tr><tr><td>540</td><td>1142</td></tr><tr><td>541</td><td>5</td></tr><tr><td>542</td><td>18</td></tr><tr><td>543</td><td>21</td></tr><tr><td>544</td><td>15</td></tr><tr><td>545</td><td>4</td></tr><tr><td>546</td><td>44</td></tr><tr><td>547</td><td>80</td></tr><tr><td>548</td><td>38</td></tr><tr><td>549</td><td>869</td></tr><tr><td>550</td><td>16</td></tr><tr><td>551</td><td>9</td></tr><tr><td>552</td><td>18</td></tr><tr><td>553</td><td>216</td></tr><tr><td>554</td><td>2</td></tr><tr><td>555</td><td>15</td></tr><tr><td>556</td><td>81</td></tr><tr><td>557</td><td>67</td></tr><tr><td>558</td><td>11</td></tr><tr><td>559</td><td>370</td></tr><tr><td>560</td><td>46</td></tr><tr><td>561</td><td>214</td></tr><tr><td>562</td><td>9</td></tr><tr><td>563</td><td>5</td></tr><tr><td>564</td><td>59</td></tr><tr><td>565</td><td>2</td></tr><tr><td>566</td><td>15</td></tr><tr><td>567</td><td>47</td></tr><tr><td>568</td><td>21</td></tr><tr><td>569</td><td>38</td></tr><tr><td>570</td><td>42</td></tr><tr><td>571</td><td>62</td></tr><tr><td>572</td><td>546</td></tr><tr><td>573</td><td>11</td></tr><tr><td>574</td><td>181</td></tr><tr><td>575</td><td>22</td></tr><tr><td>576</td><td>5</td></tr><tr><td>577</td><td>35</td></tr><tr><td>578</td><td>29</td></tr><tr><td>579</td><td>12</td></tr><tr><td>580</td><td>21</td></tr><tr><td>581</td><td>261</td></tr><tr><td>582</td><td>49</td></tr><tr><td>583</td><td>22</td></tr><tr><td>584</td><td>42</td></tr><tr><td>585</td><td>68</td></tr><tr><td>586</td><td>127</td></tr><tr><td>587</td><td>9</td></tr><tr><td>588</td><td>2</td></tr><tr><td>589</td><td>175</td></tr><tr><td>590</td><td>523</td></tr><tr><td>591</td><td>29</td></tr><tr><td>592</td><td>20</td></tr><tr><td>593</td><td>582</td></tr><tr><td>594</td><td>25</td></tr><tr><td>595</td><td>16</td></tr><tr><td>596</td><td>5</td></tr><tr><td>597</td><td>12</td></tr><tr><td>598</td><td>17</td></tr><tr><td>599</td><td>63</td></tr><tr><td>600</td><td>21</td></tr><tr><td>601</td><td>1408</td></tr><tr><td>602</td><td>39</td></tr><tr><td>603</td><td>230</td></tr><tr><td>604</td><td>255</td></tr><tr><td>605</td><td>1246</td></tr><tr><td>606</td><td>19</td></tr><tr><td>607</td><td>18</td></tr><tr><td>608</td><td>17</td></tr><tr><td>609</td><td>54</td></tr><tr><td>610</td><td>58</td></tr><tr><td>611</td><td>16</td></tr><tr><td>612</td><td>19</td></tr><tr><td>613</td><td>27</td></tr><tr><td>614</td><td>25</td></tr><tr><td>615</td><td>57</td></tr><tr><td>616</td><td>29</td></tr><tr><td>617</td><td>13</td></tr><tr><td>618</td><td>9</td></tr><tr><td>619</td><td>16</td></tr><tr><td>620</td><td>133</td></tr><tr><td>621</td><td>62</td></tr><tr><td>622</td><td>11</td></tr><tr><td>623</td><td>109</td></tr><tr><td>624</td><td>15</td></tr><tr><td>625</td><td>10</td></tr><tr><td>626</td><td>3</td></tr><tr><td>627</td><td>215</td></tr><tr><td>628</td><td>7</td></tr><tr><td>629</td><td>118</td></tr><tr><td>630</td><td>19</td></tr><tr><td>631</td><td>29</td></tr><tr><td>632</td><td>200</td></tr><tr><td>633</td><td>5</td></tr><tr><td>634</td><td>17</td></tr><tr><td>635</td><td>2</td></tr><tr><td>636</td><td>82</td></tr><tr><td>637</td><td>31</td></tr><tr><td>638</td><td>24</td></tr><tr><td>639</td><td>2</td></tr><tr><td>640</td><td>79</td></tr><tr><td>641</td><td>17</td></tr><tr><td>642</td><td>175</td></tr><tr><td>643</td><td>22</td></tr><tr><td>644</td><td>23</td></tr><tr><td>645</td><td>41</td></tr><tr><td>646</td><td>3</td></tr><tr><td>647</td><td>6</td></tr><tr><td>648</td><td>52</td></tr><tr><td>649</td><td>31</td></tr><tr><td>650</td><td>17</td></tr><tr><td>651</td><td>12</td></tr><tr><td>652</td><td>167</td></tr><tr><td>653</td><td>166</td></tr><tr><td>654</td><td>1</td></tr><tr><td>655</td><td>30</td></tr><tr><td>656</td><td>15</td></tr><tr><td>657</td><td>119</td></tr><tr><td>658</td><td>256</td></tr><tr><td>659</td><td>25</td></tr><tr><td>660</td><td>19</td></tr><tr><td>661</td><td>10</td></tr><tr><td>662</td><td>6</td></tr><tr><td>663</td><td>8</td></tr><tr><td>664</td><td>194</td></tr><tr><td>665</td><td>54</td></tr><tr><td>666</td><td>49</td></tr><tr><td>667</td><td>272</td></tr><tr><td>668</td><td>99</td></tr><tr><td>669</td><td>358</td></tr><tr><td>670</td><td>283</td></tr><tr><td>671</td><td>5</td></tr><tr><td>672</td><td>3</td></tr><tr><td>673</td><td>101</td></tr><tr><td>674</td><td>101</td></tr><tr><td>675</td><td>4</td></tr><tr><td>676</td><td>33</td></tr><tr><td>677</td><td>15</td></tr><tr><td>678</td><td>12</td></tr><tr><td>679</td><td>1</td></tr><tr><td>680</td><td>21</td></tr><tr><td>681</td><td>113</td></tr><tr><td>682</td><td>16</td></tr><tr><td>683</td><td>5</td></tr><tr><td>684</td><td>2</td></tr><tr><td>685</td><td>15</td></tr><tr><td>686</td><td>15</td></tr><tr><td>687</td><td>1</td></tr><tr><td>688</td><td>41</td></tr><tr><td>689</td><td>1</td></tr><tr><td>690</td><td>17</td></tr><tr><td>691</td><td>15</td></tr><tr><td>692</td><td>34</td></tr><tr><td>693</td><td>25</td></tr><tr><td>694</td><td>15</td></tr><tr><td>695</td><td>20</td></tr><tr><td>696</td><td>14</td></tr><tr><td>697</td><td>741</td></tr><tr><td>698</td><td>218</td></tr><tr><td>699</td><td>140</td></tr><tr><td>700</td><td>5</td></tr><tr><td>701</td><td>44</td></tr><tr><td>702</td><td>110</td></tr><tr><td>703</td><td>3</td></tr><tr><td>704</td><td>30</td></tr><tr><td>705</td><td>35</td></tr><tr><td>706</td><td>66</td></tr><tr><td>707</td><td>19</td></tr><tr><td>708</td><td>90</td></tr><tr><td>709</td><td>28</td></tr><tr><td>710</td><td>200</td></tr><tr><td>711</td><td>30</td></tr><tr><td>712</td><td>17</td></tr><tr><td>713</td><td>164</td></tr><tr><td>714</td><td>17</td></tr><tr><td>715</td><td>1</td></tr><tr><td>716</td><td>239</td></tr><tr><td>717</td><td>56</td></tr><tr><td>718</td><td>16</td></tr><tr><td>719</td><td>1124</td></tr><tr><td>720</td><td>9</td></tr><tr><td>721</td><td>6</td></tr><tr><td>722</td><td>22</td></tr><tr><td>723</td><td>16</td></tr><tr><td>724</td><td>4</td></tr><tr><td>725</td><td>15</td></tr><tr><td>726</td><td>75</td></tr><tr><td>727</td><td>15</td></tr><tr><td>728</td><td>22</td></tr><tr><td>729</td><td>24</td></tr><tr><td>730</td><td>79</td></tr><tr><td>731</td><td>75</td></tr><tr><td>732</td><td>2</td></tr><tr><td>733</td><td>6</td></tr><tr><td>734</td><td>44</td></tr><tr><td>735</td><td>4</td></tr><tr><td>736</td><td>8</td></tr><tr><td>737</td><td>15</td></tr><tr><td>738</td><td>255</td></tr><tr><td>739</td><td>43</td></tr><tr><td>740</td><td>7</td></tr><tr><td>741</td><td>25</td></tr><tr><td>742</td><td>21</td></tr><tr><td>743</td><td>35</td></tr><tr><td>744</td><td>91</td></tr><tr><td>745</td><td>227</td></tr><tr><td>746</td><td>32</td></tr><tr><td>747</td><td>13</td></tr><tr><td>748</td><td>81</td></tr><tr><td>749</td><td>16</td></tr><tr><td>750</td><td>155</td></tr><tr><td>751</td><td>24</td></tr><tr><td>752</td><td>91</td></tr><tr><td>753</td><td>10</td></tr><tr><td>754</td><td>80</td></tr><tr><td>755</td><td>181</td></tr><tr><td>756</td><td>2</td></tr><tr><td>757</td><td>115</td></tr><tr><td>758</td><td>294</td></tr><tr><td>759</td><td>29</td></tr><tr><td>760</td><td>120</td></tr><tr><td>761</td><td>29</td></tr><tr><td>762</td><td>40</td></tr><tr><td>763</td><td>68</td></tr><tr><td>764</td><td>44</td></tr><tr><td>765</td><td>66</td></tr><tr><td>766</td><td>58</td></tr><tr><td>767</td><td>22</td></tr><tr><td>768</td><td>23</td></tr><tr><td>769</td><td>69</td></tr><tr><td>770</td><td>53</td></tr><tr><td>771</td><td>5</td></tr><tr><td>772</td><td>81</td></tr><tr><td>773</td><td>122</td></tr><tr><td>774</td><td>20</td></tr><tr><td>775</td><td>38</td></tr><tr><td>776</td><td>266</td></tr><tr><td>777</td><td>29</td></tr><tr><td>778</td><td>22</td></tr><tr><td>779</td><td>28</td></tr><tr><td>780</td><td>86</td></tr><tr><td>781</td><td>204</td></tr><tr><td>782</td><td>18</td></tr><tr><td>783</td><td>21</td></tr><tr><td>784</td><td>99</td></tr><tr><td>785</td><td>5</td></tr><tr><td>786</td><td>9</td></tr><tr><td>787</td><td>46</td></tr><tr><td>788</td><td>271</td></tr><tr><td>789</td><td>22</td></tr><tr><td>790</td><td>61</td></tr><tr><td>791</td><td>64</td></tr><tr><td>792</td><td>10</td></tr><tr><td>793</td><td>9</td></tr><tr><td>794</td><td>15</td></tr><tr><td>795</td><td>94</td></tr><tr><td>796</td><td>32</td></tr><tr><td>797</td><td>120</td></tr><tr><td>798</td><td>25</td></tr><tr><td>799</td><td>10</td></tr><tr><td>800</td><td>22</td></tr><tr><td>801</td><td>16</td></tr><tr><td>802</td><td>10</td></tr><tr><td>803</td><td>19</td></tr><tr><td>804</td><td>387</td></tr><tr><td>805</td><td>9</td></tr><tr><td>806</td><td>34</td></tr><tr><td>807</td><td>362</td></tr><tr><td>808</td><td>16</td></tr><tr><td>809</td><td>13</td></tr><tr><td>810</td><td>55</td></tr><tr><td>811</td><td>2</td></tr><tr><td>812</td><td>33</td></tr><tr><td>813</td><td>19</td></tr><tr><td>814</td><td>303</td></tr><tr><td>815</td><td>1079</td></tr><tr><td>816</td><td>26</td></tr><tr><td>817</td><td>15</td></tr><tr><td>818</td><td>634</td></tr><tr><td>819</td><td>19</td></tr><tr><td>820</td><td>29</td></tr><tr><td>821</td><td>15</td></tr><tr><td>822</td><td>87</td></tr><tr><td>823</td><td>17</td></tr><tr><td>824</td><td>10</td></tr><tr><td>825</td><td>56</td></tr><tr><td>826</td><td>46</td></tr><tr><td>827</td><td>7</td></tr><tr><td>828</td><td>233</td></tr><tr><td>829</td><td>15</td></tr><tr><td>830</td><td>275</td></tr><tr><td>831</td><td>15</td></tr><tr><td>832</td><td>2</td></tr><tr><td>833</td><td>17</td></tr><tr><td>834</td><td>11</td></tr><tr><td>835</td><td>60</td></tr><tr><td>836</td><td>46</td></tr><tr><td>837</td><td>58</td></tr><tr><td>838</td><td>2</td></tr><tr><td>839</td><td>6</td></tr><tr><td>840</td><td>8</td></tr><tr><td>841</td><td>35</td></tr><tr><td>842</td><td>398</td></tr><tr><td>843</td><td>15</td></tr><tr><td>844</td><td>1</td></tr><tr><td>845</td><td>28</td></tr><tr><td>846</td><td>18</td></tr><tr><td>847</td><td>12</td></tr><tr><td>848</td><td>160</td></tr><tr><td>849</td><td>46</td></tr><tr><td>850</td><td>2</td></tr><tr><td>851</td><td>21</td></tr><tr><td>852</td><td>16</td></tr><tr><td>853</td><td>35</td></tr><tr><td>854</td><td>226</td></tr><tr><td>855</td><td>18</td></tr><tr><td>856</td><td>370</td></tr><tr><td>857</td><td>15</td></tr><tr><td>858</td><td>28</td></tr><tr><td>859</td><td>292</td></tr><tr><td>860</td><td>12</td></tr><tr><td>861</td><td>336</td></tr><tr><td>862</td><td>11</td></tr><tr><td>863</td><td>53</td></tr><tr><td>864</td><td>567</td></tr><tr><td>865</td><td>11</td></tr><tr><td>866</td><td>7</td></tr><tr><td>867</td><td>378</td></tr><tr><td>868</td><td>26</td></tr><tr><td>869</td><td>504</td></tr><tr><td>870</td><td>151</td></tr><tr><td>871</td><td>15</td></tr><tr><td>872</td><td>1</td></tr><tr><td>873</td><td>15</td></tr><tr><td>874</td><td>139</td></tr><tr><td>875</td><td>10</td></tr><tr><td>876</td><td>21</td></tr><tr><td>877</td><td>67</td></tr><tr><td>878</td><td>5</td></tr><tr><td>879</td><td>4</td></tr><tr><td>880</td><td>20</td></tr><tr><td>881</td><td>34</td></tr><tr><td>882</td><td>36</td></tr><tr><td>883</td><td>87</td></tr><tr><td>884</td><td>105</td></tr><tr><td>885</td><td>54</td></tr><tr><td>886</td><td>15</td></tr><tr><td>887</td><td>15</td></tr><tr><td>888</td><td>23</td></tr><tr><td>889</td><td>41</td></tr><tr><td>890</td><td>270</td></tr><tr><td>891</td><td>20</td></tr><tr><td>892</td><td>55</td></tr><tr><td>893</td><td>93</td></tr><tr><td>894</td><td>22</td></tr><tr><td>895</td><td>39</td></tr><tr><td>896</td><td>157</td></tr><tr><td>897</td><td>7</td></tr><tr><td>898</td><td>28</td></tr><tr><td>899</td><td>21</td></tr><tr><td>900</td><td>7</td></tr><tr><td>901</td><td>29</td></tr><tr><td>902</td><td>17</td></tr><tr><td>903</td><td>60</td></tr><tr><td>904</td><td>50</td></tr><tr><td>905</td><td>27</td></tr><tr><td>906</td><td>3</td></tr><tr><td>907</td><td>235</td></tr><tr><td>908</td><td>325</td></tr><tr><td>909</td><td>43</td></tr><tr><td>910</td><td>16</td></tr><tr><td>911</td><td>235</td></tr><tr><td>912</td><td>114</td></tr><tr><td>913</td><td>11</td></tr><tr><td>914</td><td>41</td></tr><tr><td>915</td><td>2</td></tr><tr><td>916</td><td>18</td></tr><tr><td>917</td><td>309</td></tr><tr><td>918</td><td>12</td></tr><tr><td>919</td><td>53</td></tr><tr><td>920</td><td>463</td></tr><tr><td>921</td><td>16</td></tr><tr><td>922</td><td>5</td></tr><tr><td>923</td><td>19</td></tr><tr><td>924</td><td>12</td></tr><tr><td>925</td><td>9</td></tr><tr><td>926</td><td>721</td></tr><tr><td>927</td><td>15</td></tr><tr><td>928</td><td>205</td></tr><tr><td>929</td><td>12</td></tr><tr><td>930</td><td>883</td></tr><tr><td>931</td><td>216</td></tr><tr><td>932</td><td>53</td></tr><tr><td>933</td><td>43</td></tr><tr><td>934</td><td>40</td></tr><tr><td>935</td><td>4</td></tr><tr><td>936</td><td>40</td></tr><tr><td>937</td><td>6</td></tr><tr><td>938</td><td>36</td></tr><tr><td>939</td><td>189</td></tr><tr><td>940</td><td>17</td></tr><tr><td>941</td><td>3</td></tr><tr><td>942</td><td>294</td></tr><tr><td>943</td><td>15</td></tr><tr><td>944</td><td>5</td></tr><tr><td>945</td><td>93</td></tr><tr><td>946</td><td>17</td></tr><tr><td>947</td><td>29</td></tr><tr><td>948</td><td>16</td></tr><tr><td>949</td><td>139</td></tr><tr><td>950</td><td>83</td></tr><tr><td>951</td><td>86</td></tr><tr><td>952</td><td>26</td></tr><tr><td>953</td><td>392</td></tr><tr><td>954</td><td>134</td></tr><tr><td>955</td><td>3</td></tr><tr><td>956</td><td>106</td></tr><tr><td>957</td><td>331</td></tr><tr><td>958</td><td>12</td></tr><tr><td>959</td><td>79</td></tr><tr><td>960</td><td>19</td></tr><tr><td>961</td><td>110</td></tr><tr><td>962</td><td>11</td></tr><tr><td>963</td><td>63</td></tr><tr><td>964</td><td>10</td></tr><tr><td>965</td><td>146</td></tr><tr><td>966</td><td>4</td></tr><tr><td>967</td><td>93</td></tr><tr><td>968</td><td>58</td></tr><tr><td>969</td><td>28</td></tr><tr><td>970</td><td>346</td></tr><tr><td>971</td><td>12</td></tr><tr><td>972</td><td>415</td></tr><tr><td>973</td><td>51</td></tr><tr><td>974</td><td>48</td></tr><tr><td>975</td><td>5</td></tr><tr><td>976</td><td>86</td></tr><tr><td>977</td><td>281</td></tr><tr><td>978</td><td>100</td></tr><tr><td>979</td><td>2</td></tr><tr><td>980</td><td>40</td></tr><tr><td>981</td><td>10</td></tr><tr><td>982</td><td>614</td></tr><tr><td>983</td><td>15</td></tr><tr><td>984</td><td>81</td></tr><tr><td>985</td><td>125</td></tr><tr><td>986</td><td>27</td></tr><tr><td>987</td><td>6</td></tr><tr><td>988</td><td>17</td></tr><tr><td>989</td><td>11</td></tr><tr><td>990</td><td>16</td></tr><tr><td>991</td><td>23</td></tr><tr><td>992</td><td>9</td></tr><tr><td>993</td><td>73</td></tr><tr><td>994</td><td>16</td></tr><tr><td>995</td><td>450</td></tr><tr><td>996</td><td>271</td></tr><tr><td>997</td><td>91</td></tr><tr><td>998</td><td>11</td></tr><tr><td>999</td><td>18</td></tr><tr><td>1000</td><td>240</td></tr></tbody></table>Showing the first 1000 rows.</div>"
      ]
     },
     "metadata": {
      "application/vnd.databricks.v1+output": {
       "addedWidgets": {},
       "aggData": [],
       "aggError": "",
       "aggOverflow": false,
       "aggSchema": [],
       "aggSeriesLimitReached": false,
       "aggType": "",
       "arguments": {},
       "columnCustomDisplayInfos": {},
       "data": [
        [
         1,
         16
        ],
        [
         2,
         15
        ],
        [
         3,
         11
        ],
        [
         4,
         736
        ],
        [
         5,
         72
        ],
        [
         6,
         42
        ],
        [
         7,
         15
        ],
        [
         8,
         31
        ],
        [
         9,
         1
        ],
        [
         10,
         121
        ],
        [
         11,
         19
        ],
        [
         12,
         18
        ],
        [
         13,
         20
        ],
        [
         14,
         174
        ],
        [
         15,
         162
        ],
        [
         16,
         41
        ],
        [
         17,
         2
        ],
        [
         18,
         92
        ],
        [
         19,
         262
        ],
        [
         20,
         4
        ],
        [
         21,
         15
        ],
        [
         22,
         26
        ],
        [
         23,
         17
        ],
        [
         24,
         6
        ],
        [
         25,
         16
        ],
        [
         26,
         105
        ],
        [
         27,
         16
        ],
        [
         28,
         24
        ],
        [
         29,
         9
        ],
        [
         30,
         17
        ],
        [
         31,
         71
        ],
        [
         32,
         15
        ],
        [
         33,
         1
        ],
        [
         34,
         82
        ],
        [
         35,
         66
        ],
        [
         36,
         149
        ],
        [
         37,
         33
        ],
        [
         38,
         141
        ],
        [
         39,
         92
        ],
        [
         40,
         10
        ],
        [
         41,
         2
        ],
        [
         42,
         308
        ],
        [
         43,
         246
        ],
        [
         44,
         7
        ],
        [
         45,
         122
        ],
        [
         46,
         100
        ],
        [
         47,
         140
        ],
        [
         48,
         170
        ],
        [
         49,
         8
        ],
        [
         50,
         11
        ],
        [
         51,
         388
        ],
        [
         52,
         30
        ],
        [
         53,
         127
        ],
        [
         54,
         38
        ],
        [
         55,
         280
        ],
        [
         56,
         764
        ],
        [
         57,
         30
        ],
        [
         58,
         25
        ],
        [
         59,
         75
        ],
        [
         60,
         82
        ],
        [
         61,
         16
        ],
        [
         62,
         29
        ],
        [
         63,
         16
        ],
        [
         64,
         14
        ],
        [
         65,
         32
        ],
        [
         66,
         15
        ],
        [
         67,
         127
        ],
        [
         68,
         39
        ],
        [
         69,
         6
        ],
        [
         70,
         94
        ],
        [
         71,
         233
        ],
        [
         72,
         179
        ],
        [
         73,
         468
        ],
        [
         74,
         19
        ],
        [
         75,
         142
        ],
        [
         76,
         56
        ],
        [
         77,
         15
        ],
        [
         78,
         4
        ],
        [
         79,
         425
        ],
        [
         80,
         15
        ],
        [
         81,
         1093
        ],
        [
         82,
         45
        ],
        [
         83,
         92
        ],
        [
         84,
         153
        ],
        [
         85,
         15
        ],
        [
         86,
         19
        ],
        [
         87,
         18
        ],
        [
         88,
         302
        ],
        [
         89,
         14
        ],
        [
         90,
         148
        ],
        [
         91,
         14
        ],
        [
         92,
         15
        ],
        [
         93,
         19
        ],
        [
         94,
         16
        ],
        [
         95,
         158
        ],
        [
         96,
         10
        ],
        [
         97,
         15
        ],
        [
         98,
         20
        ],
        [
         99,
         146
        ],
        [
         100,
         511
        ],
        [
         101,
         46
        ],
        [
         102,
         15
        ],
        [
         103,
         133
        ],
        [
         104,
         18
        ],
        [
         105,
         44
        ],
        [
         106,
         11
        ],
        [
         107,
         34
        ],
        [
         108,
         29
        ],
        [
         109,
         5
        ],
        [
         110,
         16
        ],
        [
         111,
         67
        ],
        [
         112,
         14
        ],
        [
         113,
         12
        ],
        [
         114,
         303
        ],
        [
         115,
         16
        ],
        [
         116,
         21
        ],
        [
         117,
         68
        ],
        [
         118,
         7
        ],
        [
         119,
         267
        ],
        [
         120,
         17
        ],
        [
         121,
         66
        ],
        [
         122,
         44
        ],
        [
         123,
         5
        ],
        [
         124,
         8
        ],
        [
         125,
         8
        ],
        [
         126,
         15
        ],
        [
         127,
         19
        ],
        [
         128,
         69
        ],
        [
         129,
         9
        ],
        [
         130,
         76
        ],
        [
         131,
         16
        ],
        [
         132,
         134
        ],
        [
         133,
         15
        ],
        [
         134,
         1208
        ],
        [
         135,
         67
        ],
        [
         136,
         44
        ],
        [
         137,
         137
        ],
        [
         138,
         440
        ],
        [
         139,
         15
        ],
        [
         140,
         5
        ],
        [
         141,
         59
        ],
        [
         142,
         4
        ],
        [
         143,
         44
        ],
        [
         144,
         13
        ],
        [
         145,
         30
        ],
        [
         146,
         7
        ],
        [
         147,
         352
        ],
        [
         148,
         48
        ],
        [
         149,
         6
        ],
        [
         150,
         37
        ],
        [
         151,
         122
        ],
        [
         152,
         32
        ],
        [
         153,
         2
        ],
        [
         154,
         176
        ],
        [
         155,
         55
        ],
        [
         156,
         34
        ],
        [
         157,
         28
        ],
        [
         158,
         60
        ],
        [
         159,
         17
        ],
        [
         160,
         502
        ],
        [
         161,
         11
        ],
        [
         162,
         19
        ],
        [
         163,
         164
        ],
        [
         164,
         159
        ],
        [
         165,
         66
        ],
        [
         166,
         20
        ],
        [
         167,
         5
        ],
        [
         168,
         73
        ],
        [
         169,
         1
        ],
        [
         170,
         10
        ],
        [
         171,
         27
        ],
        [
         172,
         76
        ],
        [
         173,
         1352
        ],
        [
         174,
         161
        ],
        [
         175,
         5
        ],
        [
         176,
         702
        ],
        [
         177,
         30
        ],
        [
         178,
         26
        ],
        [
         179,
         44
        ],
        [
         180,
         217
        ],
        [
         181,
         43
        ],
        [
         182,
         15
        ],
        [
         183,
         221
        ],
        [
         184,
         22
        ],
        [
         185,
         191
        ],
        [
         186,
         6
        ],
        [
         187,
         160
        ],
        [
         188,
         19
        ],
        [
         189,
         43
        ],
        [
         190,
         35
        ],
        [
         191,
         19
        ],
        [
         192,
         15
        ],
        [
         193,
         5
        ],
        [
         194,
         6
        ],
        [
         195,
         14
        ],
        [
         196,
         252
        ],
        [
         197,
         27
        ],
        [
         198,
         1
        ],
        [
         199,
         8
        ],
        [
         200,
         16
        ],
        [
         201,
         11
        ],
        [
         202,
         21
        ],
        [
         203,
         51
        ],
        [
         204,
         18
        ],
        [
         205,
         4
        ],
        [
         206,
         162
        ],
        [
         207,
         2
        ],
        [
         208,
         16
        ],
        [
         209,
         8
        ],
        [
         210,
         10
        ],
        [
         211,
         7
        ],
        [
         212,
         15
        ],
        [
         213,
         51
        ],
        [
         214,
         1616
        ],
        [
         215,
         34
        ],
        [
         216,
         17
        ],
        [
         217,
         15
        ],
        [
         218,
         76
        ],
        [
         219,
         54
        ],
        [
         220,
         1
        ],
        [
         221,
         70
        ],
        [
         222,
         185
        ],
        [
         223,
         43
        ],
        [
         224,
         61
        ],
        [
         225,
         88
        ],
        [
         226,
         2
        ],
        [
         227,
         24
        ],
        [
         228,
         11
        ],
        [
         229,
         6
        ],
        [
         230,
         3
        ],
        [
         231,
         27
        ],
        [
         232,
         17
        ],
        [
         233,
         32
        ],
        [
         234,
         15
        ],
        [
         235,
         1740
        ],
        [
         236,
         8
        ],
        [
         237,
         7
        ],
        [
         238,
         41
        ],
        [
         239,
         1674
        ],
        [
         240,
         61
        ],
        [
         241,
         187
        ],
        [
         242,
         12
        ],
        [
         243,
         17
        ],
        [
         244,
         1
        ],
        [
         245,
         111
        ],
        [
         246,
         11
        ],
        [
         247,
         39
        ],
        [
         248,
         571
        ],
        [
         249,
         105
        ],
        [
         250,
         154
        ],
        [
         251,
         96
        ],
        [
         252,
         39
        ],
        [
         253,
         135
        ],
        [
         254,
         1
        ],
        [
         255,
         424
        ],
        [
         256,
         78
        ],
        [
         257,
         15
        ],
        [
         258,
         226
        ],
        [
         259,
         29
        ],
        [
         260,
         6
        ],
        [
         261,
         22
        ],
        [
         262,
         2
        ],
        [
         263,
         15
        ],
        [
         264,
         1
        ],
        [
         265,
         12
        ],
        [
         266,
         6
        ],
        [
         267,
         6
        ],
        [
         268,
         362
        ],
        [
         269,
         100
        ],
        [
         270,
         15
        ],
        [
         271,
         16
        ],
        [
         272,
         25
        ],
        [
         273,
         4
        ],
        [
         274,
         13
        ],
        [
         275,
         48
        ],
        [
         276,
         50
        ],
        [
         277,
         524
        ],
        [
         278,
         15
        ],
        [
         279,
         1
        ],
        [
         280,
         51
        ],
        [
         281,
         1
        ],
        [
         282,
         26
        ],
        [
         283,
         27
        ],
        [
         284,
         31
        ],
        [
         285,
         129
        ],
        [
         286,
         11
        ],
        [
         287,
         110
        ],
        [
         288,
         170
        ],
        [
         289,
         9
        ],
        [
         290,
         16
        ],
        [
         291,
         42
        ],
        [
         292,
         18
        ],
        [
         293,
         28
        ],
        [
         294,
         250
        ],
        [
         295,
         474
        ],
        [
         296,
         10
        ],
        [
         297,
         13
        ],
        [
         298,
         94
        ],
        [
         299,
         87
        ],
        [
         300,
         134
        ],
        [
         301,
         170
        ],
        [
         302,
         145
        ],
        [
         303,
         11
        ],
        [
         304,
         1
        ],
        [
         305,
         45
        ],
        [
         306,
         12
        ],
        [
         307,
         4
        ],
        [
         308,
         115
        ],
        [
         309,
         15
        ],
        [
         310,
         40
        ],
        [
         311,
         17
        ],
        [
         312,
         90
        ],
        [
         313,
         363
        ],
        [
         314,
         175
        ],
        [
         315,
         32
        ],
        [
         316,
         30
        ],
        [
         317,
         15
        ],
        [
         318,
         28
        ],
        [
         319,
         258
        ],
        [
         320,
         11
        ],
        [
         321,
         311
        ],
        [
         322,
         42
        ],
        [
         323,
         7
        ],
        [
         324,
         16
        ],
        [
         325,
         26
        ],
        [
         326,
         4
        ],
        [
         327,
         115
        ],
        [
         328,
         1
        ],
        [
         329,
         17
        ],
        [
         330,
         22
        ],
        [
         331,
         15
        ],
        [
         332,
         568
        ],
        [
         333,
         28
        ],
        [
         334,
         41
        ],
        [
         335,
         50
        ],
        [
         336,
         57
        ],
        [
         337,
         15
        ],
        [
         338,
         48
        ],
        [
         339,
         1093
        ],
        [
         340,
         67
        ],
        [
         341,
         41
        ],
        [
         342,
         30
        ],
        [
         343,
         286
        ],
        [
         344,
         7
        ],
        [
         345,
         227
        ],
        [
         346,
         6
        ],
        [
         347,
         18
        ],
        [
         348,
         34
        ],
        [
         349,
         16
        ],
        [
         350,
         83
        ],
        [
         351,
         101
        ],
        [
         352,
         1
        ],
        [
         353,
         16
        ],
        [
         354,
         12
        ],
        [
         355,
         113
        ],
        [
         356,
         89
        ],
        [
         357,
         384
        ],
        [
         358,
         170
        ],
        [
         359,
         17
        ],
        [
         360,
         49
        ],
        [
         361,
         7
        ],
        [
         362,
         112
        ],
        [
         363,
         216
        ],
        [
         364,
         10
        ],
        [
         365,
         35
        ],
        [
         366,
         93
        ],
        [
         367,
         20
        ],
        [
         368,
         161
        ],
        [
         369,
         93
        ],
        [
         370,
         25
        ],
        [
         371,
         16
        ],
        [
         372,
         277
        ],
        [
         373,
         16
        ],
        [
         374,
         219
        ],
        [
         375,
         13
        ],
        [
         376,
         166
        ],
        [
         377,
         162
        ],
        [
         378,
         295
        ],
        [
         379,
         286
        ],
        [
         380,
         38
        ],
        [
         381,
         21
        ],
        [
         382,
         270
        ],
        [
         383,
         26
        ],
        [
         384,
         385
        ],
        [
         385,
         28
        ],
        [
         386,
         113
        ],
        [
         387,
         16
        ],
        [
         388,
         81
        ],
        [
         389,
         20
        ],
        [
         390,
         152
        ],
        [
         391,
         35
        ],
        [
         392,
         20
        ],
        [
         393,
         35
        ],
        [
         394,
         15
        ],
        [
         395,
         34
        ],
        [
         396,
         189
        ],
        [
         397,
         5
        ],
        [
         398,
         1
        ],
        [
         399,
         174
        ],
        [
         400,
         14
        ],
        [
         401,
         15
        ],
        [
         402,
         477
        ],
        [
         403,
         128
        ],
        [
         404,
         2
        ],
        [
         405,
         13
        ],
        [
         406,
         21
        ],
        [
         407,
         113
        ],
        [
         408,
         341
        ],
        [
         409,
         24
        ],
        [
         410,
         31
        ],
        [
         411,
         45
        ],
        [
         412,
         8
        ],
        [
         413,
         19
        ],
        [
         414,
         68
        ],
        [
         415,
         172
        ],
        [
         416,
         86
        ],
        [
         417,
         15
        ],
        [
         418,
         90
        ],
        [
         419,
         44
        ],
        [
         420,
         5
        ],
        [
         421,
         108
        ],
        [
         422,
         16
        ],
        [
         423,
         179
        ],
        [
         424,
         33
        ],
        [
         425,
         5
        ],
        [
         426,
         1
        ],
        [
         427,
         281
        ],
        [
         428,
         302
        ],
        [
         429,
         8
        ],
        [
         430,
         38
        ],
        [
         431,
         6
        ],
        [
         432,
         65
        ],
        [
         433,
         10
        ],
        [
         434,
         15
        ],
        [
         435,
         100
        ],
        [
         436,
         15
        ],
        [
         437,
         6
        ],
        [
         438,
         48
        ],
        [
         439,
         15
        ],
        [
         440,
         13
        ],
        [
         441,
         15
        ],
        [
         442,
         15
        ],
        [
         443,
         258
        ],
        [
         444,
         127
        ],
        [
         445,
         50
        ],
        [
         446,
         17
        ],
        [
         447,
         192
        ],
        [
         448,
         9
        ],
        [
         449,
         825
        ],
        [
         450,
         255
        ],
        [
         451,
         45
        ],
        [
         452,
         23
        ],
        [
         453,
         27
        ],
        [
         454,
         16
        ],
        [
         455,
         105
        ],
        [
         456,
         12
        ],
        [
         457,
         31
        ],
        [
         458,
         559
        ],
        [
         459,
         86
        ],
        [
         460,
         37
        ],
        [
         461,
         6
        ],
        [
         462,
         41
        ],
        [
         463,
         92
        ],
        [
         464,
         197
        ],
        [
         465,
         536
        ],
        [
         466,
         42
        ],
        [
         467,
         10
        ],
        [
         468,
         17
        ],
        [
         469,
         20
        ],
        [
         470,
         42
        ],
        [
         471,
         363
        ],
        [
         472,
         5
        ],
        [
         473,
         391
        ],
        [
         474,
         4
        ],
        [
         475,
         11
        ],
        [
         476,
         52
        ],
        [
         477,
         29
        ],
        [
         478,
         96
        ],
        [
         479,
         19
        ],
        [
         480,
         48
        ],
        [
         481,
         27
        ],
        [
         482,
         48
        ],
        [
         483,
         18
        ],
        [
         484,
         121
        ],
        [
         485,
         52
        ],
        [
         486,
         220
        ],
        [
         487,
         17
        ],
        [
         488,
         124
        ],
        [
         489,
         38
        ],
        [
         490,
         12
        ],
        [
         491,
         601
        ],
        [
         492,
         5
        ],
        [
         493,
         16
        ],
        [
         494,
         18
        ],
        [
         495,
         143
        ],
        [
         496,
         31
        ],
        [
         497,
         344
        ],
        [
         498,
         35
        ],
        [
         499,
         10
        ],
        [
         500,
         145
        ],
        [
         501,
         16
        ],
        [
         502,
         311
        ],
        [
         503,
         15
        ],
        [
         504,
         12
        ],
        [
         505,
         338
        ],
        [
         506,
         17
        ],
        [
         507,
         131
        ],
        [
         508,
         22
        ],
        [
         509,
         18
        ],
        [
         510,
         37
        ],
        [
         511,
         24
        ],
        [
         512,
         11
        ],
        [
         513,
         86
        ],
        [
         514,
         187
        ],
        [
         515,
         32
        ],
        [
         516,
         36
        ],
        [
         517,
         6
        ],
        [
         518,
         19
        ],
        [
         519,
         7
        ],
        [
         520,
         48
        ],
        [
         521,
         51
        ],
        [
         522,
         1
        ],
        [
         523,
         153
        ],
        [
         524,
         20
        ],
        [
         525,
         10
        ],
        [
         526,
         654
        ],
        [
         527,
         25
        ],
        [
         528,
         6
        ],
        [
         529,
         45
        ],
        [
         530,
         5
        ],
        [
         531,
         11
        ],
        [
         532,
         50
        ],
        [
         533,
         10
        ],
        [
         534,
         1
        ],
        [
         535,
         12
        ],
        [
         536,
         63
        ],
        [
         537,
         39
        ],
        [
         538,
         109
        ],
        [
         539,
         81
        ],
        [
         540,
         1142
        ],
        [
         541,
         5
        ],
        [
         542,
         18
        ],
        [
         543,
         21
        ],
        [
         544,
         15
        ],
        [
         545,
         4
        ],
        [
         546,
         44
        ],
        [
         547,
         80
        ],
        [
         548,
         38
        ],
        [
         549,
         869
        ],
        [
         550,
         16
        ],
        [
         551,
         9
        ],
        [
         552,
         18
        ],
        [
         553,
         216
        ],
        [
         554,
         2
        ],
        [
         555,
         15
        ],
        [
         556,
         81
        ],
        [
         557,
         67
        ],
        [
         558,
         11
        ],
        [
         559,
         370
        ],
        [
         560,
         46
        ],
        [
         561,
         214
        ],
        [
         562,
         9
        ],
        [
         563,
         5
        ],
        [
         564,
         59
        ],
        [
         565,
         2
        ],
        [
         566,
         15
        ],
        [
         567,
         47
        ],
        [
         568,
         21
        ],
        [
         569,
         38
        ],
        [
         570,
         42
        ],
        [
         571,
         62
        ],
        [
         572,
         546
        ],
        [
         573,
         11
        ],
        [
         574,
         181
        ],
        [
         575,
         22
        ],
        [
         576,
         5
        ],
        [
         577,
         35
        ],
        [
         578,
         29
        ],
        [
         579,
         12
        ],
        [
         580,
         21
        ],
        [
         581,
         261
        ],
        [
         582,
         49
        ],
        [
         583,
         22
        ],
        [
         584,
         42
        ],
        [
         585,
         68
        ],
        [
         586,
         127
        ],
        [
         587,
         9
        ],
        [
         588,
         2
        ],
        [
         589,
         175
        ],
        [
         590,
         523
        ],
        [
         591,
         29
        ],
        [
         592,
         20
        ],
        [
         593,
         582
        ],
        [
         594,
         25
        ],
        [
         595,
         16
        ],
        [
         596,
         5
        ],
        [
         597,
         12
        ],
        [
         598,
         17
        ],
        [
         599,
         63
        ],
        [
         600,
         21
        ],
        [
         601,
         1408
        ],
        [
         602,
         39
        ],
        [
         603,
         230
        ],
        [
         604,
         255
        ],
        [
         605,
         1246
        ],
        [
         606,
         19
        ],
        [
         607,
         18
        ],
        [
         608,
         17
        ],
        [
         609,
         54
        ],
        [
         610,
         58
        ],
        [
         611,
         16
        ],
        [
         612,
         19
        ],
        [
         613,
         27
        ],
        [
         614,
         25
        ],
        [
         615,
         57
        ],
        [
         616,
         29
        ],
        [
         617,
         13
        ],
        [
         618,
         9
        ],
        [
         619,
         16
        ],
        [
         620,
         133
        ],
        [
         621,
         62
        ],
        [
         622,
         11
        ],
        [
         623,
         109
        ],
        [
         624,
         15
        ],
        [
         625,
         10
        ],
        [
         626,
         3
        ],
        [
         627,
         215
        ],
        [
         628,
         7
        ],
        [
         629,
         118
        ],
        [
         630,
         19
        ],
        [
         631,
         29
        ],
        [
         632,
         200
        ],
        [
         633,
         5
        ],
        [
         634,
         17
        ],
        [
         635,
         2
        ],
        [
         636,
         82
        ],
        [
         637,
         31
        ],
        [
         638,
         24
        ],
        [
         639,
         2
        ],
        [
         640,
         79
        ],
        [
         641,
         17
        ],
        [
         642,
         175
        ],
        [
         643,
         22
        ],
        [
         644,
         23
        ],
        [
         645,
         41
        ],
        [
         646,
         3
        ],
        [
         647,
         6
        ],
        [
         648,
         52
        ],
        [
         649,
         31
        ],
        [
         650,
         17
        ],
        [
         651,
         12
        ],
        [
         652,
         167
        ],
        [
         653,
         166
        ],
        [
         654,
         1
        ],
        [
         655,
         30
        ],
        [
         656,
         15
        ],
        [
         657,
         119
        ],
        [
         658,
         256
        ],
        [
         659,
         25
        ],
        [
         660,
         19
        ],
        [
         661,
         10
        ],
        [
         662,
         6
        ],
        [
         663,
         8
        ],
        [
         664,
         194
        ],
        [
         665,
         54
        ],
        [
         666,
         49
        ],
        [
         667,
         272
        ],
        [
         668,
         99
        ],
        [
         669,
         358
        ],
        [
         670,
         283
        ],
        [
         671,
         5
        ],
        [
         672,
         3
        ],
        [
         673,
         101
        ],
        [
         674,
         101
        ],
        [
         675,
         4
        ],
        [
         676,
         33
        ],
        [
         677,
         15
        ],
        [
         678,
         12
        ],
        [
         679,
         1
        ],
        [
         680,
         21
        ],
        [
         681,
         113
        ],
        [
         682,
         16
        ],
        [
         683,
         5
        ],
        [
         684,
         2
        ],
        [
         685,
         15
        ],
        [
         686,
         15
        ],
        [
         687,
         1
        ],
        [
         688,
         41
        ],
        [
         689,
         1
        ],
        [
         690,
         17
        ],
        [
         691,
         15
        ],
        [
         692,
         34
        ],
        [
         693,
         25
        ],
        [
         694,
         15
        ],
        [
         695,
         20
        ],
        [
         696,
         14
        ],
        [
         697,
         741
        ],
        [
         698,
         218
        ],
        [
         699,
         140
        ],
        [
         700,
         5
        ],
        [
         701,
         44
        ],
        [
         702,
         110
        ],
        [
         703,
         3
        ],
        [
         704,
         30
        ],
        [
         705,
         35
        ],
        [
         706,
         66
        ],
        [
         707,
         19
        ],
        [
         708,
         90
        ],
        [
         709,
         28
        ],
        [
         710,
         200
        ],
        [
         711,
         30
        ],
        [
         712,
         17
        ],
        [
         713,
         164
        ],
        [
         714,
         17
        ],
        [
         715,
         1
        ],
        [
         716,
         239
        ],
        [
         717,
         56
        ],
        [
         718,
         16
        ],
        [
         719,
         1124
        ],
        [
         720,
         9
        ],
        [
         721,
         6
        ],
        [
         722,
         22
        ],
        [
         723,
         16
        ],
        [
         724,
         4
        ],
        [
         725,
         15
        ],
        [
         726,
         75
        ],
        [
         727,
         15
        ],
        [
         728,
         22
        ],
        [
         729,
         24
        ],
        [
         730,
         79
        ],
        [
         731,
         75
        ],
        [
         732,
         2
        ],
        [
         733,
         6
        ],
        [
         734,
         44
        ],
        [
         735,
         4
        ],
        [
         736,
         8
        ],
        [
         737,
         15
        ],
        [
         738,
         255
        ],
        [
         739,
         43
        ],
        [
         740,
         7
        ],
        [
         741,
         25
        ],
        [
         742,
         21
        ],
        [
         743,
         35
        ],
        [
         744,
         91
        ],
        [
         745,
         227
        ],
        [
         746,
         32
        ],
        [
         747,
         13
        ],
        [
         748,
         81
        ],
        [
         749,
         16
        ],
        [
         750,
         155
        ],
        [
         751,
         24
        ],
        [
         752,
         91
        ],
        [
         753,
         10
        ],
        [
         754,
         80
        ],
        [
         755,
         181
        ],
        [
         756,
         2
        ],
        [
         757,
         115
        ],
        [
         758,
         294
        ],
        [
         759,
         29
        ],
        [
         760,
         120
        ],
        [
         761,
         29
        ],
        [
         762,
         40
        ],
        [
         763,
         68
        ],
        [
         764,
         44
        ],
        [
         765,
         66
        ],
        [
         766,
         58
        ],
        [
         767,
         22
        ],
        [
         768,
         23
        ],
        [
         769,
         69
        ],
        [
         770,
         53
        ],
        [
         771,
         5
        ],
        [
         772,
         81
        ],
        [
         773,
         122
        ],
        [
         774,
         20
        ],
        [
         775,
         38
        ],
        [
         776,
         266
        ],
        [
         777,
         29
        ],
        [
         778,
         22
        ],
        [
         779,
         28
        ],
        [
         780,
         86
        ],
        [
         781,
         204
        ],
        [
         782,
         18
        ],
        [
         783,
         21
        ],
        [
         784,
         99
        ],
        [
         785,
         5
        ],
        [
         786,
         9
        ],
        [
         787,
         46
        ],
        [
         788,
         271
        ],
        [
         789,
         22
        ],
        [
         790,
         61
        ],
        [
         791,
         64
        ],
        [
         792,
         10
        ],
        [
         793,
         9
        ],
        [
         794,
         15
        ],
        [
         795,
         94
        ],
        [
         796,
         32
        ],
        [
         797,
         120
        ],
        [
         798,
         25
        ],
        [
         799,
         10
        ],
        [
         800,
         22
        ],
        [
         801,
         16
        ],
        [
         802,
         10
        ],
        [
         803,
         19
        ],
        [
         804,
         387
        ],
        [
         805,
         9
        ],
        [
         806,
         34
        ],
        [
         807,
         362
        ],
        [
         808,
         16
        ],
        [
         809,
         13
        ],
        [
         810,
         55
        ],
        [
         811,
         2
        ],
        [
         812,
         33
        ],
        [
         813,
         19
        ],
        [
         814,
         303
        ],
        [
         815,
         1079
        ],
        [
         816,
         26
        ],
        [
         817,
         15
        ],
        [
         818,
         634
        ],
        [
         819,
         19
        ],
        [
         820,
         29
        ],
        [
         821,
         15
        ],
        [
         822,
         87
        ],
        [
         823,
         17
        ],
        [
         824,
         10
        ],
        [
         825,
         56
        ],
        [
         826,
         46
        ],
        [
         827,
         7
        ],
        [
         828,
         233
        ],
        [
         829,
         15
        ],
        [
         830,
         275
        ],
        [
         831,
         15
        ],
        [
         832,
         2
        ],
        [
         833,
         17
        ],
        [
         834,
         11
        ],
        [
         835,
         60
        ],
        [
         836,
         46
        ],
        [
         837,
         58
        ],
        [
         838,
         2
        ],
        [
         839,
         6
        ],
        [
         840,
         8
        ],
        [
         841,
         35
        ],
        [
         842,
         398
        ],
        [
         843,
         15
        ],
        [
         844,
         1
        ],
        [
         845,
         28
        ],
        [
         846,
         18
        ],
        [
         847,
         12
        ],
        [
         848,
         160
        ],
        [
         849,
         46
        ],
        [
         850,
         2
        ],
        [
         851,
         21
        ],
        [
         852,
         16
        ],
        [
         853,
         35
        ],
        [
         854,
         226
        ],
        [
         855,
         18
        ],
        [
         856,
         370
        ],
        [
         857,
         15
        ],
        [
         858,
         28
        ],
        [
         859,
         292
        ],
        [
         860,
         12
        ],
        [
         861,
         336
        ],
        [
         862,
         11
        ],
        [
         863,
         53
        ],
        [
         864,
         567
        ],
        [
         865,
         11
        ],
        [
         866,
         7
        ],
        [
         867,
         378
        ],
        [
         868,
         26
        ],
        [
         869,
         504
        ],
        [
         870,
         151
        ],
        [
         871,
         15
        ],
        [
         872,
         1
        ],
        [
         873,
         15
        ],
        [
         874,
         139
        ],
        [
         875,
         10
        ],
        [
         876,
         21
        ],
        [
         877,
         67
        ],
        [
         878,
         5
        ],
        [
         879,
         4
        ],
        [
         880,
         20
        ],
        [
         881,
         34
        ],
        [
         882,
         36
        ],
        [
         883,
         87
        ],
        [
         884,
         105
        ],
        [
         885,
         54
        ],
        [
         886,
         15
        ],
        [
         887,
         15
        ],
        [
         888,
         23
        ],
        [
         889,
         41
        ],
        [
         890,
         270
        ],
        [
         891,
         20
        ],
        [
         892,
         55
        ],
        [
         893,
         93
        ],
        [
         894,
         22
        ],
        [
         895,
         39
        ],
        [
         896,
         157
        ],
        [
         897,
         7
        ],
        [
         898,
         28
        ],
        [
         899,
         21
        ],
        [
         900,
         7
        ],
        [
         901,
         29
        ],
        [
         902,
         17
        ],
        [
         903,
         60
        ],
        [
         904,
         50
        ],
        [
         905,
         27
        ],
        [
         906,
         3
        ],
        [
         907,
         235
        ],
        [
         908,
         325
        ],
        [
         909,
         43
        ],
        [
         910,
         16
        ],
        [
         911,
         235
        ],
        [
         912,
         114
        ],
        [
         913,
         11
        ],
        [
         914,
         41
        ],
        [
         915,
         2
        ],
        [
         916,
         18
        ],
        [
         917,
         309
        ],
        [
         918,
         12
        ],
        [
         919,
         53
        ],
        [
         920,
         463
        ],
        [
         921,
         16
        ],
        [
         922,
         5
        ],
        [
         923,
         19
        ],
        [
         924,
         12
        ],
        [
         925,
         9
        ],
        [
         926,
         721
        ],
        [
         927,
         15
        ],
        [
         928,
         205
        ],
        [
         929,
         12
        ],
        [
         930,
         883
        ],
        [
         931,
         216
        ],
        [
         932,
         53
        ],
        [
         933,
         43
        ],
        [
         934,
         40
        ],
        [
         935,
         4
        ],
        [
         936,
         40
        ],
        [
         937,
         6
        ],
        [
         938,
         36
        ],
        [
         939,
         189
        ],
        [
         940,
         17
        ],
        [
         941,
         3
        ],
        [
         942,
         294
        ],
        [
         943,
         15
        ],
        [
         944,
         5
        ],
        [
         945,
         93
        ],
        [
         946,
         17
        ],
        [
         947,
         29
        ],
        [
         948,
         16
        ],
        [
         949,
         139
        ],
        [
         950,
         83
        ],
        [
         951,
         86
        ],
        [
         952,
         26
        ],
        [
         953,
         392
        ],
        [
         954,
         134
        ],
        [
         955,
         3
        ],
        [
         956,
         106
        ],
        [
         957,
         331
        ],
        [
         958,
         12
        ],
        [
         959,
         79
        ],
        [
         960,
         19
        ],
        [
         961,
         110
        ],
        [
         962,
         11
        ],
        [
         963,
         63
        ],
        [
         964,
         10
        ],
        [
         965,
         146
        ],
        [
         966,
         4
        ],
        [
         967,
         93
        ],
        [
         968,
         58
        ],
        [
         969,
         28
        ],
        [
         970,
         346
        ],
        [
         971,
         12
        ],
        [
         972,
         415
        ],
        [
         973,
         51
        ],
        [
         974,
         48
        ],
        [
         975,
         5
        ],
        [
         976,
         86
        ],
        [
         977,
         281
        ],
        [
         978,
         100
        ],
        [
         979,
         2
        ],
        [
         980,
         40
        ],
        [
         981,
         10
        ],
        [
         982,
         614
        ],
        [
         983,
         15
        ],
        [
         984,
         81
        ],
        [
         985,
         125
        ],
        [
         986,
         27
        ],
        [
         987,
         6
        ],
        [
         988,
         17
        ],
        [
         989,
         11
        ],
        [
         990,
         16
        ],
        [
         991,
         23
        ],
        [
         992,
         9
        ],
        [
         993,
         73
        ],
        [
         994,
         16
        ],
        [
         995,
         450
        ],
        [
         996,
         271
        ],
        [
         997,
         91
        ],
        [
         998,
         11
        ],
        [
         999,
         18
        ],
        [
         1000,
         240
        ]
       ],
       "datasetInfos": [],
       "dbfsResultPath": null,
       "isJsonSchema": true,
       "overflow": true,
       "plotOptions": {
        "customPlotOptions": {},
        "displayType": "table",
        "pivotAggregation": null,
        "pivotColumns": null,
        "xColumns": null,
        "yColumns": null
       },
       "removedWidgets": [],
       "schema": [
        {
         "metadata": "{}",
         "name": "userId",
         "type": "\"integer\""
        },
        {
         "metadata": "{}",
         "name": "count",
         "type": "\"long\""
        }
       ],
       "type": "table"
      }
     },
     "output_type": "display_data"
    }
   ],
   "source": [
    "%sql\n",
    "select userId, count(*) as count\n",
    "from ratings\n",
    "group by userId\n",
    "order by userId"
   ]
  },
  {
   "cell_type": "code",
   "execution_count": 0,
   "metadata": {
    "application/vnd.databricks.v1+cell": {
     "inputWidgets": {},
     "nuid": "4b7ae6d7-ed46-4b35-b626-dd2d6dc7378f",
     "showTitle": false,
     "title": ""
    }
   },
   "outputs": [
    {
     "data": {
      "text/html": [
       "<style scoped>\n",
       "  .ansiout {\n",
       "    display: block;\n",
       "    unicode-bidi: embed;\n",
       "    white-space: pre-wrap;\n",
       "    word-wrap: break-word;\n",
       "    word-break: break-all;\n",
       "    font-family: \"Source Code Pro\", \"Menlo\", monospace;;\n",
       "    font-size: 13px;\n",
       "    color: #555;\n",
       "    margin-left: 4px;\n",
       "    line-height: 19px;\n",
       "  }\n",
       "</style>\n",
       "<div class=\"ansiout\">+------+-----+\n",
       "userId|count|\n",
       "+------+-----+\n",
       "   148|   48|\n",
       "   463|   92|\n",
       "   471|  363|\n",
       "   496|   31|\n",
       "   833|   17|\n",
       "  1088|    5|\n",
       "  1238|    5|\n",
       "  1342|    3|\n",
       "  1580|   33|\n",
       "  1591|   52|\n",
       "  1645|  189|\n",
       "  1829|   19|\n",
       "  1959|   38|\n",
       "  2122|   88|\n",
       "  2142|   16|\n",
       "  2366|   25|\n",
       "  2659|  183|\n",
       "  2866|   20|\n",
       "  3175|   20|\n",
       "  3749|   73|\n",
       "+------+-----+\n",
       "only showing top 20 rows\n",
       "\n",
       "</div>"
      ]
     },
     "metadata": {
      "application/vnd.databricks.v1+output": {
       "addedWidgets": {},
       "arguments": {},
       "data": "<div class=\"ansiout\">+------+-----+\n|userId|count|\n+------+-----+\n|   148|   48|\n|   463|   92|\n|   471|  363|\n|   496|   31|\n|   833|   17|\n|  1088|    5|\n|  1238|    5|\n|  1342|    3|\n|  1580|   33|\n|  1591|   52|\n|  1645|  189|\n|  1829|   19|\n|  1959|   38|\n|  2122|   88|\n|  2142|   16|\n|  2366|   25|\n|  2659|  183|\n|  2866|   20|\n|  3175|   20|\n|  3749|   73|\n+------+-----+\nonly showing top 20 rows\n\n</div>",
       "datasetInfos": [],
       "removedWidgets": [],
       "type": "html"
      }
     },
     "output_type": "display_data"
    }
   ],
   "source": [
    "# Group data by userId, count ratings\n",
    "ratings_df.groupBy(\"userId\").count().show()"
   ]
  },
  {
   "cell_type": "code",
   "execution_count": 0,
   "metadata": {
    "application/vnd.databricks.v1+cell": {
     "inputWidgets": {},
     "nuid": "774cb5c4-6266-47e7-8aec-efa9a282540f",
     "showTitle": false,
     "title": ""
    }
   },
   "outputs": [
    {
     "data": {
      "text/html": [
       "<style scoped>\n",
       "  .ansiout {\n",
       "    display: block;\n",
       "    unicode-bidi: embed;\n",
       "    white-space: pre-wrap;\n",
       "    word-wrap: break-word;\n",
       "    word-break: break-all;\n",
       "    font-family: \"Source Code Pro\", \"Menlo\", monospace;;\n",
       "    font-size: 13px;\n",
       "    color: #555;\n",
       "    margin-left: 4px;\n",
       "    line-height: 19px;\n",
       "  }\n",
       "</style>\n",
       "<div class=\"ansiout\"></div>"
      ]
     },
     "metadata": {
      "application/vnd.databricks.v1+output": {
       "addedWidgets": {},
       "arguments": {},
       "data": "<div class=\"ansiout\"></div>",
       "datasetInfos": [],
       "removedWidgets": [],
       "type": "html"
      }
     },
     "output_type": "display_data"
    }
   ],
   "source": [
    "# %sql\n",
    "# SELECT movieId, COUNT(movieId) \n",
    "# FROM ratings \n",
    "# GROUP BY ratings \n",
    "# ORDER BY COUNT(movieId) \n",
    "# DESC LIMIT 1;"
   ]
  },
  {
   "cell_type": "code",
   "execution_count": 0,
   "metadata": {
    "application/vnd.databricks.v1+cell": {
     "inputWidgets": {},
     "nuid": "2f3907c9-77d1-4046-9440-28acc751fe86",
     "showTitle": false,
     "title": ""
    }
   },
   "outputs": [
    {
     "data": {
      "text/html": [
       "<style scoped>\n",
       "  .ansiout {\n",
       "    display: block;\n",
       "    unicode-bidi: embed;\n",
       "    white-space: pre-wrap;\n",
       "    word-wrap: break-word;\n",
       "    word-break: break-all;\n",
       "    font-family: \"Source Code Pro\", \"Menlo\", monospace;;\n",
       "    font-size: 13px;\n",
       "    color: #555;\n",
       "    margin-left: 4px;\n",
       "    line-height: 19px;\n",
       "  }\n",
       "</style>\n",
       "<div class=\"ansiout\">Movie with the fewest ratings: \n",
       "+----------+\n",
       "min(count)|\n",
       "+----------+\n",
       "         1|\n",
       "+----------+\n",
       "\n",
       "Avg num ratings per movie: \n",
       "+-----------------+\n",
       "       avg(count)|\n",
       "+-----------------+\n",
       "515.0113010076268|\n",
       "+-----------------+\n",
       "\n",
       "User with the fewest ratings: \n",
       "+----------+\n",
       "min(count)|\n",
       "+----------+\n",
       "         1|\n",
       "+----------+\n",
       "\n",
       "Avg num ratings per user: \n",
       "+-----------------+\n",
       "       avg(count)|\n",
       "+-----------------+\n",
       "97.98976089934611|\n",
       "+-----------------+\n",
       "\n",
       "</div>"
      ]
     },
     "metadata": {
      "application/vnd.databricks.v1+output": {
       "addedWidgets": {},
       "arguments": {},
       "data": "<div class=\"ansiout\">Movie with the fewest ratings: \n+----------+\n|min(count)|\n+----------+\n|         1|\n+----------+\n\nAvg num ratings per movie: \n+-----------------+\n|       avg(count)|\n+-----------------+\n|515.0113010076268|\n+-----------------+\n\nUser with the fewest ratings: \n+----------+\n|min(count)|\n+----------+\n|         1|\n+----------+\n\nAvg num ratings per user: \n+-----------------+\n|       avg(count)|\n+-----------------+\n|97.98976089934611|\n+-----------------+\n\n</div>",
       "datasetInfos": [],
       "removedWidgets": [],
       "type": "html"
      }
     },
     "output_type": "display_data"
    }
   ],
   "source": [
    "# Min num ratings for movies\n",
    "print(\"Movie with the fewest ratings: \")\n",
    "ratings_df.groupBy(\"movieId\").count().select(min(\"count\")).show()\n",
    "\n",
    "# Avg num ratings per movie\n",
    "print(\"Avg num ratings per movie: \")\n",
    "ratings_df.groupBy(\"movieId\").count().select(avg(\"count\")).show()\n",
    "\n",
    "# Min num ratings for user\n",
    "print(\"User with the fewest ratings: \")\n",
    "ratings_df.groupBy(\"userId\").count().select(min(\"count\")).show()\n",
    "\n",
    "# Avg num ratings per users\n",
    "print(\"Avg num ratings per user: \")\n",
    "ratings_df.groupBy(\"userId\").count().select(avg(\"count\")).show()"
   ]
  },
  {
   "cell_type": "code",
   "execution_count": 0,
   "metadata": {
    "application/vnd.databricks.v1+cell": {
     "inputWidgets": {},
     "nuid": "f499408d-f10b-4b42-a574-aee6a02d7a34",
     "showTitle": false,
     "title": ""
    }
   },
   "outputs": [
    {
     "data": {
      "text/html": [
       "<style scoped>\n",
       "  .ansiout {\n",
       "    display: block;\n",
       "    unicode-bidi: embed;\n",
       "    white-space: pre-wrap;\n",
       "    word-wrap: break-word;\n",
       "    word-break: break-all;\n",
       "    font-family: \"Source Code Pro\", \"Menlo\", monospace;;\n",
       "    font-size: 13px;\n",
       "    color: #555;\n",
       "    margin-left: 4px;\n",
       "    line-height: 19px;\n",
       "  }\n",
       "</style>\n",
       "<div class=\"ansiout\">root\n",
       "-- userId: integer (nullable = true)\n",
       "-- movieId: integer (nullable = true)\n",
       "-- rating: double (nullable = true)\n",
       "-- timestamp: integer (nullable = true)\n",
       "\n",
       "</div>"
      ]
     },
     "metadata": {
      "application/vnd.databricks.v1+output": {
       "addedWidgets": {},
       "arguments": {},
       "data": "<div class=\"ansiout\">root\n |-- userId: integer (nullable = true)\n |-- movieId: integer (nullable = true)\n |-- rating: double (nullable = true)\n |-- timestamp: integer (nullable = true)\n\n</div>",
       "datasetInfos": [],
       "removedWidgets": [],
       "type": "html"
      }
     },
     "output_type": "display_data"
    }
   ],
   "source": [
    "# Use .printSchema() to see the datatypes of the ratings dataset\n",
    "ratings_df.printSchema()\n",
    "\n",
    "# # Tell Spark to convert the columns to the proper data types\n",
    "# ratings_df = ratings_df.select(ratings_df.userId.cast(\"integer\"), ratings_df.movieId.cast(\"integer\"), ratings_df.rating.cast(\"double\"))\n",
    "\n",
    "# # Call .printSchema() again to confirm the columns are now in the correct format\n",
    "# ratings_df.printSchema()"
   ]
  },
  {
   "cell_type": "code",
   "execution_count": 0,
   "metadata": {
    "application/vnd.databricks.v1+cell": {
     "inputWidgets": {},
     "nuid": "a5b3ce2b-6c81-4a92-8fa1-f12b732a4736",
     "showTitle": false,
     "title": ""
    }
   },
   "outputs": [
    {
     "data": {
      "text/html": [
       "<style scoped>\n",
       "  .ansiout {\n",
       "    display: block;\n",
       "    unicode-bidi: embed;\n",
       "    white-space: pre-wrap;\n",
       "    word-wrap: break-word;\n",
       "    word-break: break-all;\n",
       "    font-family: \"Source Code Pro\", \"Menlo\", monospace;;\n",
       "    font-size: 13px;\n",
       "    color: #555;\n",
       "    margin-left: 4px;\n",
       "    line-height: 19px;\n",
       "  }\n",
       "</style>\n",
       "<div class=\"ansiout\">Out[17]: pyspark.ml.recommendation.ALS</div>"
      ]
     },
     "metadata": {
      "application/vnd.databricks.v1+output": {
       "addedWidgets": {},
       "arguments": {},
       "data": "<div class=\"ansiout\">Out[17]: pyspark.ml.recommendation.ALS</div>",
       "datasetInfos": [],
       "removedWidgets": [],
       "type": "html"
      }
     },
     "output_type": "display_data"
    }
   ],
   "source": [
    "# Import the required functions\n",
    "from pyspark.ml.evaluation import RegressionEvaluator\n",
    "from pyspark.ml.recommendation import ALS\n",
    "from pyspark.ml.tuning import ParamGridBuilder, CrossValidator\n",
    "\n",
    "# Create test and train set\n",
    "(train, test) = ratings_df.randomSplit([0.8, 0.2], seed = 1234)\n",
    "\n",
    "# Create ALS model\n",
    "als = ALS(userCol=\"userId\", itemCol=\"movieId\", ratingCol=\"rating\", nonnegative = True, implicitPrefs = False)\n",
    "\n",
    "# Confirm that a model called \"als\" was created\n",
    "type(als)"
   ]
  },
  {
   "cell_type": "code",
   "execution_count": 0,
   "metadata": {
    "application/vnd.databricks.v1+cell": {
     "inputWidgets": {},
     "nuid": "c94856a8-9b21-48b1-a9a7-5c29d30dc69f",
     "showTitle": false,
     "title": ""
    }
   },
   "outputs": [
    {
     "data": {
      "text/html": [
       "<style scoped>\n",
       "  .ansiout {\n",
       "    display: block;\n",
       "    unicode-bidi: embed;\n",
       "    white-space: pre-wrap;\n",
       "    word-wrap: break-word;\n",
       "    word-break: break-all;\n",
       "    font-family: \"Source Code Pro\", \"Menlo\", monospace;;\n",
       "    font-size: 13px;\n",
       "    color: #555;\n",
       "    margin-left: 4px;\n",
       "    line-height: 19px;\n",
       "  }\n",
       "</style>\n",
       "<div class=\"ansiout\">Num models to be tested:  4\n",
       "</div>"
      ]
     },
     "metadata": {
      "application/vnd.databricks.v1+output": {
       "addedWidgets": {},
       "arguments": {},
       "data": "<div class=\"ansiout\">Num models to be tested:  4\n</div>",
       "datasetInfos": [],
       "removedWidgets": [],
       "type": "html"
      }
     },
     "output_type": "display_data"
    }
   ],
   "source": [
    "# Import the requisite items\n",
    "from pyspark.ml.evaluation import RegressionEvaluator\n",
    "from pyspark.ml.tuning import ParamGridBuilder, CrossValidator\n",
    "\n",
    "# Add hyperparameters and their respective values to param_grid\n",
    "param_grid = ParamGridBuilder() \\\n",
    "            .addGrid(als.rank, [5,10]) \\\n",
    "            .addGrid(als.regParam, [.01,.1]) \\\n",
    "            .build()\n",
    "           \n",
    "# Define evaluator as RMSE and print length of evaluator\n",
    "evaluator = RegressionEvaluator(metricName=\"rmse\", labelCol=\"rating\", predictionCol=\"prediction\") \n",
    "print (\"Num models to be tested: \", len(param_grid))"
   ]
  },
  {
   "cell_type": "code",
   "execution_count": 0,
   "metadata": {
    "application/vnd.databricks.v1+cell": {
     "inputWidgets": {},
     "nuid": "5738443d-1ba1-4eab-8701-48fac790d6c3",
     "showTitle": false,
     "title": ""
    },
    "scrolled": true
   },
   "outputs": [
    {
     "data": {
      "text/html": [
       "<style scoped>\n",
       "  .ansiout {\n",
       "    display: block;\n",
       "    unicode-bidi: embed;\n",
       "    white-space: pre-wrap;\n",
       "    word-wrap: break-word;\n",
       "    word-break: break-all;\n",
       "    font-family: \"Source Code Pro\", \"Menlo\", monospace;;\n",
       "    font-size: 13px;\n",
       "    color: #555;\n",
       "    margin-left: 4px;\n",
       "    line-height: 19px;\n",
       "  }\n",
       "</style>\n",
       "<div class=\"ansiout\">CrossValidator_1444f326f555\n",
       "</div>"
      ]
     },
     "metadata": {
      "application/vnd.databricks.v1+output": {
       "addedWidgets": {},
       "arguments": {},
       "data": "<div class=\"ansiout\">CrossValidator_1444f326f555\n</div>",
       "datasetInfos": [],
       "removedWidgets": [],
       "type": "html"
      }
     },
     "output_type": "display_data"
    }
   ],
   "source": [
    "# Build cross validation using CrossValidator\n",
    "cv = CrossValidator(estimator=als, estimatorParamMaps=param_grid, evaluator=evaluator, numFolds=5)\n",
    "\n",
    "# Confirm cv was built\n",
    "print(cv)"
   ]
  },
  {
   "cell_type": "code",
   "execution_count": 0,
   "metadata": {
    "application/vnd.databricks.v1+cell": {
     "inputWidgets": {},
     "nuid": "21a0a75f-de4a-4972-818e-2650383c9ef8",
     "showTitle": false,
     "title": ""
    }
   },
   "outputs": [
    {
     "data": {
      "text/html": [
       "<style scoped>\n",
       "  .ansiout {\n",
       "    display: block;\n",
       "    unicode-bidi: embed;\n",
       "    white-space: pre-wrap;\n",
       "    word-wrap: break-word;\n",
       "    word-break: break-all;\n",
       "    font-family: \"Source Code Pro\", \"Menlo\", monospace;;\n",
       "    font-size: 13px;\n",
       "    color: #555;\n",
       "    margin-left: 4px;\n",
       "    line-height: 19px;\n",
       "  }\n",
       "</style>\n",
       "<div class=\"ansiout\">/databricks/spark/python/pyspark/ml/util.py:786: UserWarning: Cannot find mlflow module. To enable MLflow logging, install mlflow from PyPI.\n",
       "  warnings.warn(_MLflowInstrumentation._NO_MLFLOW_WARNING)\n",
       "</div>"
      ]
     },
     "metadata": {
      "application/vnd.databricks.v1+output": {
       "addedWidgets": {},
       "arguments": {},
       "data": "<div class=\"ansiout\">/databricks/spark/python/pyspark/ml/util.py:786: UserWarning: Cannot find mlflow module. To enable MLflow logging, install mlflow from PyPI.\n  warnings.warn(_MLflowInstrumentation._NO_MLFLOW_WARNING)\n</div>",
       "datasetInfos": [],
       "removedWidgets": [],
       "type": "html"
      }
     },
     "output_type": "display_data"
    }
   ],
   "source": [
    "#Fit cross validator to the 'train' dataset\n",
    "model = cv.fit(train)\n",
    "\n",
    "#Extract best model from the cv model above\n",
    "best_model = model.bestModel"
   ]
  },
  {
   "cell_type": "code",
   "execution_count": 0,
   "metadata": {
    "application/vnd.databricks.v1+cell": {
     "inputWidgets": {},
     "nuid": "6a0c1266-910c-4fcb-8695-f90735ec3649",
     "showTitle": false,
     "title": ""
    }
   },
   "outputs": [],
   "source": [
    "from pyspark.ml import Pipeline\n",
    "from pyspark.ml import PipelineModel\n",
    "\n",
    "pipeTrain.write().overwrite().save(outpath)\n",
    "model_in = PipelineModel.load(outpath)"
   ]
  },
  {
   "cell_type": "code",
   "execution_count": 0,
   "metadata": {
    "application/vnd.databricks.v1+cell": {
     "inputWidgets": {},
     "nuid": "8e4e4db8-609e-4042-9177-ec721199ac78",
     "showTitle": false,
     "title": ""
    }
   },
   "outputs": [
    {
     "data": {
      "text/html": [
       "<style scoped>\n",
       "  .ansiout {\n",
       "    display: block;\n",
       "    unicode-bidi: embed;\n",
       "    white-space: pre-wrap;\n",
       "    word-wrap: break-word;\n",
       "    word-break: break-all;\n",
       "    font-family: \"Source Code Pro\", \"Menlo\", monospace;;\n",
       "    font-size: 13px;\n",
       "    color: #555;\n",
       "    margin-left: 4px;\n",
       "    line-height: 19px;\n",
       "  }\n",
       "</style>\n",
       "<div class=\"ansiout\"></div>"
      ]
     },
     "metadata": {
      "application/vnd.databricks.v1+output": {
       "addedWidgets": {},
       "arguments": {},
       "data": "<div class=\"ansiout\"></div>",
       "datasetInfos": [],
       "removedWidgets": [],
       "type": "html"
      }
     },
     "output_type": "display_data"
    }
   ],
   "source": [
    "type(best_model)\n",
    "best_model.save('/model_save_ALS')"
   ]
  },
  {
   "cell_type": "code",
   "execution_count": 0,
   "metadata": {
    "application/vnd.databricks.v1+cell": {
     "inputWidgets": {},
     "nuid": "964d5d59-c6b9-459c-8179-662c41d1e5fc",
     "showTitle": false,
     "title": ""
    }
   },
   "outputs": [
    {
     "data": {
      "text/html": [
       "<style scoped>\n",
       "  .ansiout {\n",
       "    display: block;\n",
       "    unicode-bidi: embed;\n",
       "    white-space: pre-wrap;\n",
       "    word-wrap: break-word;\n",
       "    word-break: break-all;\n",
       "    font-family: \"Source Code Pro\", \"Menlo\", monospace;;\n",
       "    font-size: 13px;\n",
       "    color: #555;\n",
       "    margin-left: 4px;\n",
       "    line-height: 19px;\n",
       "  }\n",
       "</style>\n",
       "<div class=\"ansiout\"></div>"
      ]
     },
     "metadata": {
      "application/vnd.databricks.v1+output": {
       "addedWidgets": {},
       "arguments": {},
       "data": "<div class=\"ansiout\"></div>",
       "datasetInfos": [],
       "removedWidgets": [],
       "type": "html"
      }
     },
     "output_type": "display_data"
    }
   ],
   "source": [
    "model_path = \"/model_save\"\n",
    "cv.write().save(model_path)"
   ]
  },
  {
   "cell_type": "code",
   "execution_count": 0,
   "metadata": {
    "application/vnd.databricks.v1+cell": {
     "inputWidgets": {},
     "nuid": "c76712b7-b825-4557-8247-bc2284677cc4",
     "showTitle": false,
     "title": ""
    }
   },
   "outputs": [
    {
     "data": {
      "text/html": [
       "<style scoped>\n",
       "  .ansiout {\n",
       "    display: block;\n",
       "    unicode-bidi: embed;\n",
       "    white-space: pre-wrap;\n",
       "    word-wrap: break-word;\n",
       "    word-break: break-all;\n",
       "    font-family: \"Source Code Pro\", \"Menlo\", monospace;;\n",
       "    font-size: 13px;\n",
       "    color: #555;\n",
       "    margin-left: 4px;\n",
       "    line-height: 19px;\n",
       "  }\n",
       "</style>\n",
       "<div class=\"ansiout\">Out[25]: ALSModel: uid=ALS_5796a9e493d5, rank=5</div>"
      ]
     },
     "metadata": {
      "application/vnd.databricks.v1+output": {
       "addedWidgets": {},
       "arguments": {},
       "data": "<div class=\"ansiout\">Out[25]: ALSModel: uid=ALS_5796a9e493d5, rank=5</div>",
       "datasetInfos": [],
       "removedWidgets": [],
       "type": "html"
      }
     },
     "output_type": "display_data"
    }
   ],
   "source": [
    "from pyspark.ml.recommendation import ALSModel\n",
    "\n",
    "als_loaded = ALSModel.read().load('/model_save_ALS')\n",
    "als_loaded"
   ]
  },
  {
   "cell_type": "code",
   "execution_count": 0,
   "metadata": {
    "application/vnd.databricks.v1+cell": {
     "inputWidgets": {},
     "nuid": "e664fbb7-a27d-4219-8d4a-22044f2dadb6",
     "showTitle": false,
     "title": ""
    }
   },
   "outputs": [
    {
     "data": {
      "text/html": [
       "<style scoped>\n",
       "  .ansiout {\n",
       "    display: block;\n",
       "    unicode-bidi: embed;\n",
       "    white-space: pre-wrap;\n",
       "    word-wrap: break-word;\n",
       "    word-break: break-all;\n",
       "    font-family: \"Source Code Pro\", \"Menlo\", monospace;;\n",
       "    font-size: 13px;\n",
       "    color: #555;\n",
       "    margin-left: 4px;\n",
       "    line-height: 19px;\n",
       "  }\n",
       "</style>"
      ]
     },
     "metadata": {
      "application/vnd.databricks.v1+output": {
       "arguments": {},
       "data": "",
       "errorSummary": "Cancelled",
       "type": "ipynbError"
      }
     },
     "output_type": "display_data"
    }
   ],
   "source": [
    "display(als_loaded.recommendForAllUsers(10))"
   ]
  },
  {
   "cell_type": "code",
   "execution_count": 0,
   "metadata": {
    "application/vnd.databricks.v1+cell": {
     "inputWidgets": {},
     "nuid": "f06ef1b8-9e21-4e59-8f76-aff8093ebb25",
     "showTitle": false,
     "title": ""
    }
   },
   "outputs": [
    {
     "data": {
      "text/html": [
       "<style scoped>\n",
       "  .ansiout {\n",
       "    display: block;\n",
       "    unicode-bidi: embed;\n",
       "    white-space: pre-wrap;\n",
       "    word-wrap: break-word;\n",
       "    word-break: break-all;\n",
       "    font-family: \"Source Code Pro\", \"Menlo\", monospace;;\n",
       "    font-size: 13px;\n",
       "    color: #555;\n",
       "    margin-left: 4px;\n",
       "    line-height: 19px;\n",
       "  }\n",
       "</style>\n",
       "<div class=\"ansiout\">&lt;class &#39;pyspark.ml.recommendation.ALSModel&#39;&gt;\n",
       "</div>"
      ]
     },
     "metadata": {
      "application/vnd.databricks.v1+output": {
       "addedWidgets": {},
       "arguments": {},
       "data": "<div class=\"ansiout\">&lt;class &#39;pyspark.ml.recommendation.ALSModel&#39;&gt;\n</div>",
       "datasetInfos": [],
       "removedWidgets": [],
       "type": "html"
      }
     },
     "output_type": "display_data"
    }
   ],
   "source": [
    "# Print best_model\n",
    "print(type(als_loaded))"
   ]
  },
  {
   "cell_type": "code",
   "execution_count": 0,
   "metadata": {
    "application/vnd.databricks.v1+cell": {
     "inputWidgets": {},
     "nuid": "b9c854fa-24f1-42a8-a424-3bfee249007c",
     "showTitle": false,
     "title": ""
    }
   },
   "outputs": [
    {
     "data": {
      "text/html": [
       "<style scoped>\n",
       "  .ansiout {\n",
       "    display: block;\n",
       "    unicode-bidi: embed;\n",
       "    white-space: pre-wrap;\n",
       "    word-wrap: break-word;\n",
       "    word-break: break-all;\n",
       "    font-family: \"Source Code Pro\", \"Menlo\", monospace;;\n",
       "    font-size: 13px;\n",
       "    color: #555;\n",
       "    margin-left: 4px;\n",
       "    line-height: 19px;\n",
       "  }\n",
       "</style>\n",
       "<div class=\"ansiout\">+------+-------+------+----------+----------+\n",
       "userId|movieId|rating| timestamp|prediction|\n",
       "+------+-------+------+----------+----------+\n",
       "     1|    481|   3.5|1256677456| 3.3207288|\n",
       "     1|   1449|   4.5|1256677264| 4.3242846|\n",
       "     2|   1296|   4.5|1192913608|  3.769777|\n",
       "     2|   2108|   3.5|1192913541|  3.579589|\n",
       "     2|   2243|   4.5|1192913604| 3.1901984|\n",
       "     2|   2352|   4.0|1192913575| 3.4683208|\n",
       "     2|   2707|   3.5|1192913600|  3.270605|\n",
       "     3|   1645|   4.0| 945141611| 3.4446282|\n",
       "     4|      6|   4.5|1113767242| 4.1821594|\n",
       "     4|     11|   3.5|1113767280|  3.131746|\n",
       "     4|     25|   4.5|1113767215| 3.6037304|\n",
       "     4|     36|   3.5|1113767240| 3.4628158|\n",
       "     4|     39|   2.5|1113767219| 2.1099954|\n",
       "     4|     41|   4.5|1123990211| 3.6195352|\n",
       "     4|     61|   3.0|1114050467| 2.9804428|\n",
       "     4|     66|   0.5|1145937915| 2.1060114|\n",
       "     4|    100|   4.0|1115782366|  3.369331|\n",
       "     4|    104|   3.0|1113765671|  3.587079|\n",
       "     4|    150|   4.0|1113765768| 3.8063343|\n",
       "     4|    169|   0.5|1113796675| 1.5303686|\n",
       "+------+-------+------+----------+----------+\n",
       "only showing top 20 rows\n",
       "\n",
       "</div>"
      ]
     },
     "metadata": {
      "application/vnd.databricks.v1+output": {
       "addedWidgets": {},
       "arguments": {},
       "data": "<div class=\"ansiout\">+------+-------+------+----------+----------+\n|userId|movieId|rating| timestamp|prediction|\n+------+-------+------+----------+----------+\n|     1|    481|   3.5|1256677456| 3.3207288|\n|     1|   1449|   4.5|1256677264| 4.3242846|\n|     2|   1296|   4.5|1192913608|  3.769777|\n|     2|   2108|   3.5|1192913541|  3.579589|\n|     2|   2243|   4.5|1192913604| 3.1901984|\n|     2|   2352|   4.0|1192913575| 3.4683208|\n|     2|   2707|   3.5|1192913600|  3.270605|\n|     3|   1645|   4.0| 945141611| 3.4446282|\n|     4|      6|   4.5|1113767242| 4.1821594|\n|     4|     11|   3.5|1113767280|  3.131746|\n|     4|     25|   4.5|1113767215| 3.6037304|\n|     4|     36|   3.5|1113767240| 3.4628158|\n|     4|     39|   2.5|1113767219| 2.1099954|\n|     4|     41|   4.5|1123990211| 3.6195352|\n|     4|     61|   3.0|1114050467| 2.9804428|\n|     4|     66|   0.5|1145937915| 2.1060114|\n|     4|    100|   4.0|1115782366|  3.369331|\n|     4|    104|   3.0|1113765671|  3.587079|\n|     4|    150|   4.0|1113765768| 3.8063343|\n|     4|    169|   0.5|1113796675| 1.5303686|\n+------+-------+------+----------+----------+\nonly showing top 20 rows\n\n</div>",
       "datasetInfos": [],
       "removedWidgets": [],
       "type": "html"
      }
     },
     "output_type": "display_data"
    }
   ],
   "source": [
    "predictions=als_loaded.transform(test)\n",
    "predictions.show()"
   ]
  },
  {
   "cell_type": "code",
   "execution_count": 0,
   "metadata": {
    "application/vnd.databricks.v1+cell": {
     "inputWidgets": {},
     "nuid": "2aee8d2b-7f44-49ad-8405-a2b1b4dc5c10",
     "showTitle": false,
     "title": ""
    }
   },
   "outputs": [
    {
     "data": {
      "text/html": [
       "<style scoped>\n",
       "  .ansiout {\n",
       "    display: block;\n",
       "    unicode-bidi: embed;\n",
       "    white-space: pre-wrap;\n",
       "    word-wrap: break-word;\n",
       "    word-break: break-all;\n",
       "    font-family: \"Source Code Pro\", \"Menlo\", monospace;;\n",
       "    font-size: 13px;\n",
       "    color: #555;\n",
       "    margin-left: 4px;\n",
       "    line-height: 19px;\n",
       "  }\n",
       "</style>\n",
       "<div class=\"ansiout\">+------+-------+------+----------+----------+\n",
       "userId|movieId|rating| timestamp|prediction|\n",
       "+------+-------+------+----------+----------+\n",
       "     1|    481|   3.5|1256677456| 3.3207288|\n",
       "     1|   1449|   4.5|1256677264| 4.3242846|\n",
       "     2|   1296|   4.5|1192913608|  3.769777|\n",
       "     2|   2108|   3.5|1192913541|  3.579589|\n",
       "     2|   2243|   4.5|1192913604| 3.1901984|\n",
       "     2|   2352|   4.0|1192913575| 3.4683208|\n",
       "     2|   2707|   3.5|1192913600|  3.270605|\n",
       "     3|   1645|   4.0| 945141611| 3.4446282|\n",
       "     4|      6|   4.5|1113767242| 4.1821594|\n",
       "     4|     11|   3.5|1113767280|  3.131746|\n",
       "     4|     25|   4.5|1113767215| 3.6037304|\n",
       "     4|     36|   3.5|1113767240| 3.4628158|\n",
       "     4|     39|   2.5|1113767219| 2.1099954|\n",
       "     4|     41|   4.5|1123990211| 3.6195352|\n",
       "     4|     61|   3.0|1114050467| 2.9804428|\n",
       "     4|     66|   0.5|1145937915| 2.1060114|\n",
       "     4|    100|   4.0|1115782366|  3.369331|\n",
       "     4|    104|   3.0|1113765671|  3.587079|\n",
       "     4|    150|   4.0|1113765768| 3.8063343|\n",
       "     4|    169|   0.5|1113796675| 1.5303686|\n",
       "+------+-------+------+----------+----------+\n",
       "only showing top 20 rows\n",
       "\n",
       "</div>"
      ]
     },
     "metadata": {
      "application/vnd.databricks.v1+output": {
       "addedWidgets": {},
       "arguments": {},
       "data": "<div class=\"ansiout\">+------+-------+------+----------+----------+\n|userId|movieId|rating| timestamp|prediction|\n+------+-------+------+----------+----------+\n|     1|    481|   3.5|1256677456| 3.3207288|\n|     1|   1449|   4.5|1256677264| 4.3242846|\n|     2|   1296|   4.5|1192913608|  3.769777|\n|     2|   2108|   3.5|1192913541|  3.579589|\n|     2|   2243|   4.5|1192913604| 3.1901984|\n|     2|   2352|   4.0|1192913575| 3.4683208|\n|     2|   2707|   3.5|1192913600|  3.270605|\n|     3|   1645|   4.0| 945141611| 3.4446282|\n|     4|      6|   4.5|1113767242| 4.1821594|\n|     4|     11|   3.5|1113767280|  3.131746|\n|     4|     25|   4.5|1113767215| 3.6037304|\n|     4|     36|   3.5|1113767240| 3.4628158|\n|     4|     39|   2.5|1113767219| 2.1099954|\n|     4|     41|   4.5|1123990211| 3.6195352|\n|     4|     61|   3.0|1114050467| 2.9804428|\n|     4|     66|   0.5|1145937915| 2.1060114|\n|     4|    100|   4.0|1115782366|  3.369331|\n|     4|    104|   3.0|1113765671|  3.587079|\n|     4|    150|   4.0|1113765768| 3.8063343|\n|     4|    169|   0.5|1113796675| 1.5303686|\n+------+-------+------+----------+----------+\nonly showing top 20 rows\n\n</div>",
       "datasetInfos": [],
       "removedWidgets": [],
       "type": "html"
      }
     },
     "output_type": "display_data"
    }
   ],
   "source": [
    "predictions = predictions.na.drop()\n",
    "predictions.show()"
   ]
  },
  {
   "cell_type": "code",
   "execution_count": 0,
   "metadata": {
    "application/vnd.databricks.v1+cell": {
     "inputWidgets": {},
     "nuid": "fb373bcd-a4c9-4aeb-956a-4176c1ebc156",
     "showTitle": false,
     "title": ""
    }
   },
   "outputs": [
    {
     "data": {
      "text/html": [
       "<style scoped>\n",
       "  .ansiout {\n",
       "    display: block;\n",
       "    unicode-bidi: embed;\n",
       "    white-space: pre-wrap;\n",
       "    word-wrap: break-word;\n",
       "    word-break: break-all;\n",
       "    font-family: \"Source Code Pro\", \"Menlo\", monospace;;\n",
       "    font-size: 13px;\n",
       "    color: #555;\n",
       "    margin-left: 4px;\n",
       "    line-height: 19px;\n",
       "  }\n",
       "</style>\n",
       "<div class=\"ansiout\">Out[31]: 0.8337916596744103</div>"
      ]
     },
     "metadata": {
      "application/vnd.databricks.v1+output": {
       "addedWidgets": {},
       "arguments": {},
       "data": "<div class=\"ansiout\">Out[31]: 0.8337916596744103</div>",
       "datasetInfos": [],
       "removedWidgets": [],
       "type": "html"
      }
     },
     "output_type": "display_data"
    }
   ],
   "source": [
    "rmse = evaluator.evaluate(predictions)\n",
    "rmse"
   ]
  },
  {
   "cell_type": "code",
   "execution_count": 0,
   "metadata": {
    "application/vnd.databricks.v1+cell": {
     "inputWidgets": {},
     "nuid": "9b42c28e-a619-4ea9-b127-d77fd1b48459",
     "showTitle": false,
     "title": ""
    }
   },
   "outputs": [
    {
     "data": {
      "text/html": [
       "<style scoped>\n",
       "  .ansiout {\n",
       "    display: block;\n",
       "    unicode-bidi: embed;\n",
       "    white-space: pre-wrap;\n",
       "    word-wrap: break-word;\n",
       "    word-break: break-all;\n",
       "    font-family: \"Source Code Pro\", \"Menlo\", monospace;;\n",
       "    font-size: 13px;\n",
       "    color: #555;\n",
       "    margin-left: 4px;\n",
       "    line-height: 19px;\n",
       "  }\n",
       "</style>\n",
       "<div class=\"ansiout\"></div>"
      ]
     },
     "metadata": {
      "application/vnd.databricks.v1+output": {
       "addedWidgets": {},
       "arguments": {},
       "data": "<div class=\"ansiout\"></div>",
       "datasetInfos": [],
       "removedWidgets": [],
       "type": "html"
      }
     },
     "output_type": "display_data"
    }
   ],
   "source": [
    "best_model = als_loaded"
   ]
  },
  {
   "cell_type": "code",
   "execution_count": 0,
   "metadata": {
    "application/vnd.databricks.v1+cell": {
     "inputWidgets": {},
     "nuid": "75d8aabd-4dfe-4cfd-97c2-9fcc46f6e1c8",
     "showTitle": false,
     "title": ""
    }
   },
   "outputs": [
    {
     "data": {
      "text/html": [
       "<style scoped>\n",
       "  .ansiout {\n",
       "    display: block;\n",
       "    unicode-bidi: embed;\n",
       "    white-space: pre-wrap;\n",
       "    word-wrap: break-word;\n",
       "    word-break: break-all;\n",
       "    font-family: \"Source Code Pro\", \"Menlo\", monospace;;\n",
       "    font-size: 13px;\n",
       "    color: #555;\n",
       "    margin-left: 4px;\n",
       "    line-height: 19px;\n",
       "  }\n",
       "</style>\n",
       "<div class=\"ansiout\">Out[38]: 4096</div>"
      ]
     },
     "metadata": {
      "application/vnd.databricks.v1+output": {
       "addedWidgets": {},
       "arguments": {},
       "data": "<div class=\"ansiout\">Out[38]: 4096</div>",
       "datasetInfos": [],
       "removedWidgets": [],
       "type": "html"
      }
     },
     "output_type": "display_data"
    }
   ],
   "source": [
    "best_model.getBlockSize()"
   ]
  },
  {
   "cell_type": "code",
   "execution_count": 0,
   "metadata": {
    "application/vnd.databricks.v1+cell": {
     "inputWidgets": {},
     "nuid": "6db57475-b9a9-457e-acc8-c69fb961744f",
     "showTitle": false,
     "title": ""
    }
   },
   "outputs": [
    {
     "data": {
      "text/html": [
       "<style scoped>\n",
       "  .ansiout {\n",
       "    display: block;\n",
       "    unicode-bidi: embed;\n",
       "    white-space: pre-wrap;\n",
       "    word-wrap: break-word;\n",
       "    word-break: break-all;\n",
       "    font-family: \"Source Code Pro\", \"Menlo\", monospace;;\n",
       "    font-size: 13px;\n",
       "    color: #555;\n",
       "    margin-left: 4px;\n",
       "    line-height: 19px;\n",
       "  }\n",
       "</style>\n",
       "<div class=\"ansiout\">Out[39]: &#39;userId&#39;</div>"
      ]
     },
     "metadata": {
      "application/vnd.databricks.v1+output": {
       "addedWidgets": {},
       "arguments": {},
       "data": "<div class=\"ansiout\">Out[39]: &#39;userId&#39;</div>",
       "datasetInfos": [],
       "removedWidgets": [],
       "type": "html"
      }
     },
     "output_type": "display_data"
    }
   ],
   "source": [
    "best_model.getUserCol()"
   ]
  },
  {
   "cell_type": "code",
   "execution_count": 0,
   "metadata": {
    "application/vnd.databricks.v1+cell": {
     "inputWidgets": {},
     "nuid": "92a14144-1307-4693-8a74-65ee35096f33",
     "showTitle": false,
     "title": ""
    }
   },
   "outputs": [
    {
     "data": {
      "text/html": [
       "<style scoped>\n",
       "  .table-result-container {\n",
       "    max-height: 300px;\n",
       "    overflow: auto;\n",
       "  }\n",
       "  table, th, td {\n",
       "    border: 1px solid black;\n",
       "    border-collapse: collapse;\n",
       "  }\n",
       "  th, td {\n",
       "    padding: 5px;\n",
       "  }\n",
       "  th {\n",
       "    text-align: left;\n",
       "  }\n",
       "</style><div class='table-result-container'><table class='table-result'><thead style='background-color: white'><tr><th>id</th><th>features</th></tr></thead><tbody><tr><td>1</td><td>List(2.7106189727783203, 3.4204370975494385, 1.0696133375167847, 3.2918269634246826, 3.4723706245422363)</td></tr><tr><td>2</td><td>List(3.4761226177215576, 2.9496142864227295, 3.27455472946167, 1.988886833190918, 2.3487050533294678)</td></tr><tr><td>3</td><td>List(2.5094239711761475, 4.3667168617248535, 2.8416635990142822, 1.4065183401107788, 2.623562812805176)</td></tr><tr><td>4</td><td>List(0.6865320801734924, 3.232478380203247, 3.204557180404663, 2.056591033935547, 4.044508934020996)</td></tr><tr><td>5</td><td>List(1.0852680206298828, 3.326652765274048, 1.8209935426712036, 2.5497100353240967, 4.591876029968262)</td></tr><tr><td>6</td><td>List(3.298166275024414, 3.0859696865081787, 1.7481738328933716, 1.974731206893921, 4.442023277282715)</td></tr><tr><td>7</td><td>List(2.110003709793091, 4.042046070098877, 1.4678417444229126, 1.9046857357025146, 2.562107563018799)</td></tr><tr><td>8</td><td>List(3.227114677429199, 2.976378917694092, 2.6246206760406494, 1.1009538173675537, 3.4232897758483887)</td></tr><tr><td>9</td><td>List(0.0, 4.828293800354004, 0.37908509373664856, 1.7712457180023193, 4.1917243003845215)</td></tr><tr><td>10</td><td>List(3.031416654586792, 3.7143807411193848, 0.7452799081802368, 2.9069347381591797, 3.4425299167633057)</td></tr><tr><td>11</td><td>List(2.579944372177124, 3.2585926055908203, 2.249849319458008, 1.8566774129867554, 4.388051986694336)</td></tr><tr><td>12</td><td>List(1.6497443914413452, 2.845048666000366, 2.1380808353424072, 1.888863444328308, 1.8840702772140503)</td></tr><tr><td>13</td><td>List(2.826019763946533, 2.6980159282684326, 4.440021991729736, 3.236358880996704, 2.67016863822937)</td></tr><tr><td>14</td><td>List(2.6416432857513428, 3.331599235534668, 2.8342225551605225, 1.74518883228302, 3.685727834701538)</td></tr><tr><td>15</td><td>List(2.3385062217712402, 2.936044931411743, 1.9805160760879517, 2.716841697692871, 4.2942585945129395)</td></tr><tr><td>16</td><td>List(3.861800193786621, 3.6027255058288574, 2.8913378715515137, 2.399200677871704, 3.810072898864746)</td></tr><tr><td>17</td><td>List(0.7761734127998352, 1.7156308889389038, 5.803232669830322, 1.8331553936004639, 2.1888883113861084)</td></tr><tr><td>18</td><td>List(2.267850160598755, 4.147937297821045, 2.3907630443573, 2.193509578704834, 3.755459785461426)</td></tr><tr><td>19</td><td>List(2.5196146965026855, 3.4635818004608154, 3.3036489486694336, 1.778172254562378, 2.87370228767395)</td></tr><tr><td>20</td><td>List(3.774007558822632, 0.9419941902160645, 3.404572010040283, 1.1300829648971558, 0.7781700491905212)</td></tr><tr><td>21</td><td>List(1.7818371057510376, 3.956953763961792, 1.3160449266433716, 2.6605305671691895, 2.553795099258423)</td></tr><tr><td>22</td><td>List(2.7690556049346924, 2.8583123683929443, 1.1856389045715332, 2.376385450363159, 2.205050230026245)</td></tr><tr><td>23</td><td>List(3.1705844402313232, 3.9792511463165283, 1.076928973197937, 1.2207326889038086, 3.0926754474639893)</td></tr><tr><td>24</td><td>List(2.5858688354492188, 1.1879210472106934, 3.8372368812561035, 0.6528005599975586, 2.9330942630767822)</td></tr><tr><td>25</td><td>List(1.990221381187439, 4.103248119354248, 3.0424489974975586, 2.949117660522461, 2.9021754264831543)</td></tr><tr><td>26</td><td>List(1.9241188764572144, 1.793397068977356, 4.834130764007568, 3.4391002655029297, 3.124896287918091)</td></tr><tr><td>27</td><td>List(3.6888091564178467, 3.5458521842956543, 2.6567533016204834, 2.0876898765563965, 3.561089515686035)</td></tr><tr><td>28</td><td>List(1.3348603248596191, 3.356755018234253, 2.078080654144287, 2.885472536087036, 3.936009407043457)</td></tr><tr><td>29</td><td>List(4.054250240325928, 0.0, 3.121793270111084, 0.0, 4.81014347076416)</td></tr><tr><td>30</td><td>List(0.2841991186141968, 4.982423782348633, 1.6932563781738281, 2.0207550525665283, 3.1290676593780518)</td></tr><tr><td>31</td><td>List(2.6271495819091797, 3.7063567638397217, 1.668056845664978, 2.913968324661255, 3.3709819316864014)</td></tr><tr><td>32</td><td>List(2.1164164543151855, 3.1875152587890625, 3.492490768432617, 2.9897632598876953, 3.8944339752197266)</td></tr><tr><td>33</td><td>List(0.3531988561153412, 0.0, 1.4796857833862305, 0.9056808948516846, 0.0)</td></tr><tr><td>34</td><td>List(1.4990290403366089, 2.628596067428589, 2.308941125869751, 1.6692407131195068, 4.036695957183838)</td></tr><tr><td>35</td><td>List(1.8298686742782593, 2.4260787963867188, 3.9674460887908936, 2.7886016368865967, 3.3992135524749756)</td></tr><tr><td>36</td><td>List(1.5819120407104492, 4.086674690246582, 0.47289395332336426, 2.51004958152771, 3.7648072242736816)</td></tr><tr><td>37</td><td>List(1.3082711696624756, 3.457700729370117, 1.3982765674591064, 1.3010560274124146, 3.0040061473846436)</td></tr><tr><td>38</td><td>List(3.2320845127105713, 3.5887820720672607, 2.7314696311950684, 1.8044222593307495, 3.272218942642212)</td></tr><tr><td>39</td><td>List(2.1993556022644043, 2.671553134918213, 3.0101897716522217, 2.6614975929260254, 2.605126142501831)</td></tr><tr><td>40</td><td>List(0.0, 3.156226873397827, 4.3976149559021, 2.802340030670166, 4.543586730957031)</td></tr><tr><td>41</td><td>List(3.640037775039673, 2.1406474113464355, 2.1856329441070557, 3.694760799407959, 0.0)</td></tr><tr><td>42</td><td>List(2.156073808670044, 3.32765793800354, 1.2150975465774536, 2.885338544845581, 3.636362075805664)</td></tr><tr><td>43</td><td>List(2.7701425552368164, 4.201359272003174, 2.0633692741394043, 2.326669692993164, 3.5533111095428467)</td></tr><tr><td>44</td><td>List(2.587364435195923, 3.438788890838623, 4.504641532897949, 1.256397008895874, 3.8394582271575928)</td></tr><tr><td>45</td><td>List(0.3642638325691223, 3.0774760246276855, 2.0376477241516113, 2.564129114151001, 2.920590400695801)</td></tr><tr><td>46</td><td>List(3.28995943069458, 2.850130319595337, 1.209578275680542, 2.0655357837677, 2.970851421356201)</td></tr><tr><td>47</td><td>List(1.8243945837020874, 3.4882209300994873, 0.05293910950422287, 1.6969678401947021, 3.026794195175171)</td></tr><tr><td>48</td><td>List(0.23833689093589783, 3.5601139068603516, 1.173365592956543, 1.8540083169937134, 4.640936851501465)</td></tr><tr><td>49</td><td>List(0.3465020954608917, 1.4074627161026, 2.707253932952881, 1.8247920274734497, 0.9561623930931091)</td></tr><tr><td>50</td><td>List(2.6905272006988525, 4.354776382446289, 4.4899187088012695, 2.4616191387176514, 1.179673671722412)</td></tr><tr><td>51</td><td>List(2.477086305618286, 4.060945510864258, 3.499192953109741, 1.8346998691558838, 2.3524258136749268)</td></tr><tr><td>52</td><td>List(1.0759592056274414, 3.088940143585205, 2.9799752235412598, 2.381909132003784, 3.6506991386413574)</td></tr><tr><td>53</td><td>List(1.2725547552108765, 2.488471031188965, 3.9517159461975098, 1.8856741189956665, 3.0101544857025146)</td></tr><tr><td>54</td><td>List(4.182602405548096, 0.07055610418319702, 3.461536169052124, 1.477331280708313, 2.4577133655548096)</td></tr><tr><td>55</td><td>List(1.8974095582962036, 3.8953161239624023, 1.8834072351455688, 1.839547872543335, 2.5648488998413086)</td></tr><tr><td>56</td><td>List(0.5133513808250427, 2.9791460037231445, 1.61735999584198, 1.6787067651748657, 3.3906009197235107)</td></tr><tr><td>57</td><td>List(1.344278335571289, 3.324612855911255, 2.092456340789795, 1.4159399271011353, 4.949134349822998)</td></tr><tr><td>58</td><td>List(2.2902908325195312, 3.191790819168091, 3.3247365951538086, 1.4088972806930542, 2.4764204025268555)</td></tr><tr><td>59</td><td>List(3.398146152496338, 3.4309377670288086, 4.639796733856201, 1.428095817565918, 2.762948989868164)</td></tr><tr><td>60</td><td>List(1.9910223484039307, 3.7271900177001953, 4.2350568771362305, 1.5241750478744507, 2.0835320949554443)</td></tr><tr><td>61</td><td>List(2.3336474895477295, 2.2342631816864014, 2.3337676525115967, 1.826709270477295, 2.779581308364868)</td></tr><tr><td>62</td><td>List(1.4425443410873413, 2.219835042953491, 0.979000985622406, 2.0401546955108643, 4.727474689483643)</td></tr><tr><td>63</td><td>List(1.3265241384506226, 3.546499252319336, 1.4683729410171509, 2.9156672954559326, 3.385686159133911)</td></tr><tr><td>64</td><td>List(1.7704776525497437, 3.9401135444641113, 3.63930606842041, 0.05068086460232735, 3.8611185550689697)</td></tr><tr><td>65</td><td>List(0.7804551720619202, 1.7425258159637451, 2.6450846195220947, 3.193932294845581, 3.318364143371582)</td></tr><tr><td>66</td><td>List(2.2429211139678955, 0.9381157159805298, 4.392575263977051, 0.0, 2.124356746673584)</td></tr><tr><td>67</td><td>List(2.2727227210998535, 3.1801459789276123, 1.6652827262878418, 2.2279891967773438, 4.43234395980835)</td></tr><tr><td>68</td><td>List(1.5127893686294556, 2.9376604557037354, 2.734498977661133, 0.6222505569458008, 2.231713056564331)</td></tr><tr><td>69</td><td>List(1.2675094604492188, 0.7863787412643433, 0.0, 1.0792055130004883, 8.88746166229248)</td></tr><tr><td>70</td><td>List(2.2567005157470703, 2.553321599960327, 2.6199638843536377, 2.8378725051879883, 2.135457754135132)</td></tr><tr><td>71</td><td>List(1.4841049909591675, 3.252351760864258, 1.1593762636184692, 2.112208843231201, 3.928755760192871)</td></tr><tr><td>72</td><td>List(2.6424577236175537, 2.7700071334838867, 4.0180487632751465, 2.9118053913116455, 3.3394556045532227)</td></tr><tr><td>73</td><td>List(1.272341251373291, 3.5848066806793213, 0.705003023147583, 2.6894948482513428, 3.738490343093872)</td></tr><tr><td>74</td><td>List(3.786524772644043, 3.238501787185669, 3.1628289222717285, 2.517033815383911, 1.7583180665969849)</td></tr><tr><td>75</td><td>List(1.0689630508422852, 2.1309094429016113, 1.6090341806411743, 1.6396467685699463, 3.8088877201080322)</td></tr><tr><td>76</td><td>List(0.0, 4.4959635734558105, 2.374077558517456, 1.3932288885116577, 3.2556252479553223)</td></tr><tr><td>77</td><td>List(3.258575201034546, 1.4918968677520752, 2.1859235763549805, 2.0826382637023926, 3.3841447830200195)</td></tr><tr><td>78</td><td>List(0.0, 3.924832820892334, 3.247750997543335, 4.2364678382873535, 1.626357913017273)</td></tr><tr><td>79</td><td>List(3.3554012775421143, 3.608118772506714, 2.600172281265259, 3.045947551727295, 3.2018744945526123)</td></tr><tr><td>80</td><td>List(4.260538101196289, 2.5078792572021484, 3.454089403152466, 2.722182035446167, 2.2857236862182617)</td></tr><tr><td>81</td><td>List(0.7659934163093567, 3.366626262664795, 0.7817714214324951, 2.9973621368408203, 3.996974229812622)</td></tr><tr><td>82</td><td>List(1.636250376701355, 3.630009651184082, 0.0, 3.2121286392211914, 4.046422481536865)</td></tr><tr><td>83</td><td>List(4.114854335784912, 1.6302261352539062, 5.072271823883057, 0.9020779728889465, 1.7619792222976685)</td></tr><tr><td>84</td><td>List(2.305860996246338, 2.9570531845092773, 2.0416111946105957, 0.43463385105133057, 3.624537706375122)</td></tr><tr><td>85</td><td>List(1.2460697889328003, 2.9709715843200684, 3.281898260116577, 0.5406087040901184, 2.982512950897217)</td></tr><tr><td>86</td><td>List(0.0, 0.6000572443008423, 5.763482093811035, 2.0721890926361084, 1.0453362464904785)</td></tr><tr><td>87</td><td>List(1.9607069492340088, 0.6035398244857788, 4.393167972564697, 1.1202701330184937, 0.6720600128173828)</td></tr><tr><td>88</td><td>List(1.0363788604736328, 3.4313595294952393, 2.7885830402374268, 1.9717179536819458, 4.533854007720947)</td></tr><tr><td>89</td><td>List(1.19320547580719, 2.25787091255188, 4.002433776855469, 1.412497639656067, 0.8700374364852905)</td></tr><tr><td>90</td><td>List(1.8974732160568237, 2.8770830631256104, 3.3573594093322754, 0.144099622964859, 3.1862564086914062)</td></tr><tr><td>91</td><td>List(3.427736759185791, 3.169778347015381, 2.6748273372650146, 3.088088274002075, 4.096931457519531)</td></tr><tr><td>92</td><td>List(3.0237717628479004, 4.188836574554443, 0.6082477569580078, 0.0, 2.1066598892211914)</td></tr><tr><td>93</td><td>List(2.6312804222106934, 2.930476188659668, 1.80970299243927, 1.1218160390853882, 3.7631194591522217)</td></tr><tr><td>94</td><td>List(4.576139450073242, 3.396188259124756, 2.1955859661102295, 2.6142430305480957, 4.43699312210083)</td></tr><tr><td>95</td><td>List(2.4936861991882324, 3.869154930114746, 2.264139175415039, 2.3980154991149902, 3.983383893966675)</td></tr><tr><td>96</td><td>List(0.8859997987747192, 2.4450457096099854, 1.6251896619796753, 1.6716444492340088, 6.139612197875977)</td></tr><tr><td>97</td><td>List(1.8316868543624878, 2.80304217338562, 2.8036134243011475, 3.5951430797576904, 4.0327301025390625)</td></tr><tr><td>98</td><td>List(0.0, 4.0311150550842285, 2.215776205062866, 2.2197163105010986, 2.9186384677886963)</td></tr><tr><td>99</td><td>List(1.938630223274231, 3.238907814025879, 2.531984806060791, 2.196532964706421, 3.6956663131713867)</td></tr><tr><td>100</td><td>List(2.5275144577026367, 3.535299777984619, 2.5611393451690674, 2.4509334564208984, 4.01606559753418)</td></tr><tr><td>101</td><td>List(1.5420597791671753, 1.7374001741409302, 2.175037384033203, 2.497994899749756, 2.8159494400024414)</td></tr><tr><td>102</td><td>List(0.7790416479110718, 0.8697119355201721, 1.048997163772583, 0.534359872341156, 0.6759288907051086)</td></tr><tr><td>103</td><td>List(2.168926954269409, 4.563231945037842, 2.901296615600586, 2.627760410308838, 3.2160098552703857)</td></tr><tr><td>104</td><td>List(1.0251855850219727, 2.7890896797180176, 4.569785118103027, 2.559520721435547, 2.755777597427368)</td></tr><tr><td>105</td><td>List(1.129598617553711, 3.0407209396362305, 3.3413708209991455, 3.3746519088745117, 2.8534529209136963)</td></tr><tr><td>106</td><td>List(2.171562910079956, 2.785466194152832, 2.7343978881835938, 2.234812021255493, 5.04855489730835)</td></tr><tr><td>107</td><td>List(5.048647403717041, 1.438301920890808, 4.274582862854004, 0.0, 2.1767616271972656)</td></tr><tr><td>108</td><td>List(2.894277334213257, 4.336903095245361, 2.7725448608398438, 1.1478251218795776, 3.5986132621765137)</td></tr><tr><td>109</td><td>List(0.5885806679725647, 3.8965015411376953, 5.689263343811035, 1.5338072776794434, 3.5091280937194824)</td></tr><tr><td>110</td><td>List(2.5015203952789307, 0.0, 1.2325376272201538, 3.7961812019348145, 3.7677345275878906)</td></tr><tr><td>111</td><td>List(2.4469029903411865, 3.1740458011627197, 1.6584601402282715, 1.2330024242401123, 3.9797024726867676)</td></tr><tr><td>112</td><td>List(2.5391132831573486, 2.1298575401306152, 2.2854013442993164, 2.0090296268463135, 4.306158542633057)</td></tr><tr><td>113</td><td>List(2.717113733291626, 2.4241669178009033, 3.498995304107666, 4.6663994789123535, 2.2790286540985107)</td></tr><tr><td>114</td><td>List(1.9241470098495483, 3.318105936050415, 4.314779758453369, 1.7055715322494507, 2.1862964630126953)</td></tr><tr><td>115</td><td>List(3.203335762023926, 4.192052841186523, 2.206108331680298, 0.0, 3.8920223712921143)</td></tr><tr><td>116</td><td>List(0.8690833449363708, 3.1828629970550537, 2.7489049434661865, 1.8178248405456543, 3.962351083755493)</td></tr><tr><td>117</td><td>List(2.1947171688079834, 3.3803441524505615, 2.0119009017944336, 1.2331507205963135, 3.4976017475128174)</td></tr><tr><td>118</td><td>List(0.0, 1.249583125114441, 3.722768545150757, 4.357501983642578, 0.8160744309425354)</td></tr><tr><td>119</td><td>List(2.122547149658203, 4.032124042510986, 2.493703603744507, 2.483995199203491, 5.391246318817139)</td></tr><tr><td>120</td><td>List(2.1327803134918213, 3.7892513275146484, 3.5038628578186035, 1.5728802680969238, 3.138241767883301)</td></tr><tr><td>121</td><td>List(1.889066219329834, 4.07100248336792, 4.605878829956055, 1.1811678409576416, 2.0823862552642822)</td></tr><tr><td>122</td><td>List(1.0200996398925781, 3.4026761054992676, 2.560302972793579, 2.9073922634124756, 2.8750364780426025)</td></tr><tr><td>123</td><td>List(0.18776002526283264, 2.916754961013794, 2.9510130882263184, 1.867706298828125, 5.322783470153809)</td></tr><tr><td>124</td><td>List(2.672969102859497, 3.4974513053894043, 2.810723066329956, 3.7929084300994873, 2.4365108013153076)</td></tr><tr><td>125</td><td>List(0.0, 2.3563921451568604, 3.523388385772705, 1.8608490228652954, 2.2940406799316406)</td></tr><tr><td>126</td><td>List(1.5655994415283203, 4.323257923126221, 1.2726904153823853, 1.5666167736053467, 2.525953769683838)</td></tr><tr><td>127</td><td>List(0.0, 2.2360358238220215, 2.2789790630340576, 0.199729323387146, 3.2491893768310547)</td></tr><tr><td>128</td><td>List(2.7474396228790283, 3.158106565475464, 1.8548669815063477, 2.8558497428894043, 1.901924967765808)</td></tr><tr><td>129</td><td>List(1.0080804824829102, 2.8570780754089355, 2.3373401165008545, 5.311543941497803, 3.3057782649993896)</td></tr><tr><td>130</td><td>List(0.5747201442718506, 0.0, 1.766118049621582, 0.0, 2.8771233558654785)</td></tr><tr><td>131</td><td>List(2.069948196411133, 5.021782398223877, 0.9231488704681396, 1.818601369857788, 0.9640476703643799)</td></tr><tr><td>132</td><td>List(2.345094919204712, 3.469637632369995, 2.4119420051574707, 1.9604568481445312, 3.967449188232422)</td></tr><tr><td>133</td><td>List(0.15591686964035034, 3.7837228775024414, 1.9126224517822266, 1.5646741390228271, 1.4001895189285278)</td></tr><tr><td>134</td><td>List(2.6703507900238037, 3.3433122634887695, 3.5594003200531006, 2.6310441493988037, 3.0105223655700684)</td></tr><tr><td>135</td><td>List(3.297259569168091, 3.0408859252929688, 1.6038227081298828, 2.2001278400421143, 2.6743557453155518)</td></tr><tr><td>136</td><td>List(3.662065267562866, 2.6632537841796875, 3.984492063522339, 1.9330071210861206, 3.371224880218506)</td></tr><tr><td>137</td><td>List(2.072827100753784, 3.992661952972412, 0.0, 1.3446857929229736, 3.691429376602173)</td></tr><tr><td>138</td><td>List(1.5754773616790771, 3.6661574840545654, 1.4713459014892578, 3.029130458831787, 4.2135491371154785)</td></tr><tr><td>139</td><td>List(0.430691659450531, 3.8108136653900146, 2.8888590335845947, 3.642855644226074, 2.3630869388580322)</td></tr><tr><td>140</td><td>List(2.0868306159973145, 3.9346561431884766, 2.713484764099121, 0.0, 2.231053590774536)</td></tr><tr><td>141</td><td>List(0.0, 3.302107334136963, 2.606029510498047, 2.018833637237549, 4.464014530181885)</td></tr><tr><td>142</td><td>List(0.15120266377925873, 4.487628936767578, 2.7695472240448, 1.4507544040679932, 4.300529479980469)</td></tr><tr><td>143</td><td>List(1.8976778984069824, 3.315692663192749, 3.1310956478118896, 1.7125228643417358, 3.0611610412597656)</td></tr><tr><td>144</td><td>List(3.4794187545776367, 2.6088995933532715, 2.8059659004211426, 1.1051024198532104, 3.116109848022461)</td></tr><tr><td>145</td><td>List(2.693779945373535, 4.663212299346924, 3.62217116355896, 1.7595067024230957, 2.6515772342681885)</td></tr><tr><td>146</td><td>List(4.773383140563965, 1.7890528440475464, 1.5245506763458252, 2.59311842918396, 2.7205631732940674)</td></tr><tr><td>147</td><td>List(2.6085195541381836, 2.718958616256714, 0.8195593357086182, 1.973818302154541, 2.934947967529297)</td></tr><tr><td>148</td><td>List(2.185302972793579, 4.040153503417969, 1.0413310527801514, 1.0528644323349, 3.5796456336975098)</td></tr><tr><td>149</td><td>List(2.5318093299865723, 4.94343376159668, 5.0503249168396, 0.0017757965251803398, 3.711794376373291)</td></tr><tr><td>150</td><td>List(0.6680200695991516, 3.627134084701538, 0.0, 3.1283035278320312, 2.6143991947174072)</td></tr><tr><td>151</td><td>List(2.242122173309326, 1.2808350324630737, 0.0, 1.4033647775650024, 3.6325106620788574)</td></tr><tr><td>152</td><td>List(1.4111618995666504, 3.7861859798431396, 3.040172815322876, 2.7182962894439697, 1.8895291090011597)</td></tr><tr><td>153</td><td>List(0.5057592391967773, 6.134024620056152, 2.4967453479766846, 1.168214201927185, 3.020787239074707)</td></tr><tr><td>154</td><td>List(2.8744871616363525, 3.5872042179107666, 2.688666582107544, 2.766629457473755, 2.740291118621826)</td></tr><tr><td>155</td><td>List(3.3148038387298584, 3.8818278312683105, 1.598484754562378, 0.816276490688324, 4.293903827667236)</td></tr><tr><td>156</td><td>List(1.9604722261428833, 4.645613670349121, 2.047581911087036, 0.31366804242134094, 3.140129566192627)</td></tr><tr><td>157</td><td>List(1.978760838508606, 3.5369510650634766, 3.7710254192352295, 0.8212953805923462, 3.421584367752075)</td></tr><tr><td>158</td><td>List(3.770441770553589, 3.900322914123535, 3.5712718963623047, 2.7796804904937744, 2.9765067100524902)</td></tr><tr><td>159</td><td>List(2.7073590755462646, 1.7350925207138062, 4.685794830322266, 2.9187588691711426, 1.1701335906982422)</td></tr><tr><td>160</td><td>List(2.865476369857788, 4.068782329559326, 2.651439666748047, 2.4696643352508545, 3.419496774673462)</td></tr><tr><td>161</td><td>List(2.5089378356933594, 0.0, 5.732461929321289, 0.0, 1.5773537158966064)</td></tr><tr><td>162</td><td>List(3.4172635078430176, 3.5930798053741455, 3.4450175762176514, 1.0137070417404175, 1.3279292583465576)</td></tr><tr><td>163</td><td>List(2.6295711994171143, 2.4765243530273438, 3.387136697769165, 1.6837414503097534, 3.9519760608673096)</td></tr><tr><td>164</td><td>List(1.132388949394226, 2.41062593460083, 3.3258612155914307, 2.7626171112060547, 3.2945895195007324)</td></tr><tr><td>165</td><td>List(2.753720998764038, 3.9722652435302734, 2.4408812522888184, 1.8480952978134155, 3.2489359378814697)</td></tr><tr><td>166</td><td>List(1.5668230056762695, 3.281228542327881, 1.0874090194702148, 2.957977533340454, 4.070357322692871)</td></tr><tr><td>167</td><td>List(0.27480682730674744, 1.643540620803833, 3.108004331588745, 2.243452548980713, 4.319984436035156)</td></tr><tr><td>168</td><td>List(1.7071610689163208, 3.370351552963257, 2.0751373767852783, 2.151108741760254, 3.0137693881988525)</td></tr><tr><td>169</td><td>List(0.0, 0.0, 0.8768181800842285, 5.288679599761963, 0.0)</td></tr><tr><td>170</td><td>List(2.509899854660034, 3.7217118740081787, 2.7990100383758545, 0.0, 3.4520320892333984)</td></tr><tr><td>171</td><td>List(0.7726659774780273, 3.9897372722625732, 4.350677967071533, 0.0, 0.6079288721084595)</td></tr><tr><td>172</td><td>List(2.1166889667510986, 3.1597847938537598, 2.5240867137908936, 1.8270121812820435, 3.817363739013672)</td></tr><tr><td>173</td><td>List(1.6977237462997437, 3.1654598712921143, 1.4967927932739258, 2.386120319366455, 3.76804518699646)</td></tr><tr><td>174</td><td>List(2.9297425746917725, 3.752764940261841, 1.261993169784546, 2.335491180419922, 3.4798996448516846)</td></tr><tr><td>175</td><td>List(0.5452790856361389, 4.7445387840271, 2.4494593143463135, 0.6853179335594177, 4.728466033935547)</td></tr><tr><td>176</td><td>List(2.2039132118225098, 2.8552405834198, 3.4512503147125244, 1.7401305437088013, 3.0855016708374023)</td></tr><tr><td>177</td><td>List(1.8583158254623413, 3.0747411251068115, 4.386024475097656, 0.7015505433082581, 2.3539538383483887)</td></tr><tr><td>178</td><td>List(3.4020016193389893, 3.6241815090179443, 3.666802167892456, 2.5352649688720703, 3.028614044189453)</td></tr><tr><td>179</td><td>List(2.674287796020508, 4.711477756500244, 2.2895455360412598, 1.71614408493042, 3.164458751678467)</td></tr><tr><td>180</td><td>List(2.086284875869751, 3.7777211666107178, 2.9556808471679688, 2.7072622776031494, 3.774961471557617)</td></tr><tr><td>181</td><td>List(1.937665581703186, 2.715343475341797, 3.622424364089966, 2.7408294677734375, 2.9058456420898438)</td></tr><tr><td>182</td><td>List(0.6951347589492798, 2.70041823387146, 4.519829273223877, 0.4871407449245453, 0.1583847850561142)</td></tr><tr><td>183</td><td>List(2.71651291847229, 4.036670207977295, 1.9135074615478516, 2.4909861087799072, 2.516127824783325)</td></tr><tr><td>184</td><td>List(5.266869068145752, 2.773311138153076, 1.6814112663269043, 2.479407787322998, 0.3637233078479767)</td></tr><tr><td>185</td><td>List(2.0116684436798096, 3.510880947113037, 2.081834077835083, 2.5580825805664062, 4.161965370178223)</td></tr><tr><td>186</td><td>List(1.7391595840454102, 3.2512881755828857, 3.5999908447265625, 1.6230467557907104, 4.486138820648193)</td></tr><tr><td>187</td><td>List(2.6156036853790283, 3.6378214359283447, 0.7586593627929688, 0.9624192118644714, 3.660421371459961)</td></tr><tr><td>188</td><td>List(2.2224395275115967, 1.6785351037979126, 2.7455708980560303, 2.933720827102661, 5.03812837600708)</td></tr><tr><td>189</td><td>List(1.7891709804534912, 3.6998631954193115, 1.8126450777053833, 3.0675621032714844, 3.6568679809570312)</td></tr><tr><td>190</td><td>List(1.466915249824524, 2.3088221549987793, 2.9938621520996094, 2.042943000793457, 2.390683650970459)</td></tr><tr><td>191</td><td>List(2.6158697605133057, 4.645458698272705, 0.3715660274028778, 1.2294409275054932, 4.851024150848389)</td></tr><tr><td>192</td><td>List(3.374039888381958, 2.105870008468628, 3.775627374649048, 2.131410598754883, 3.1165266036987305)</td></tr><tr><td>193</td><td>List(0.1295434683561325, 5.793113708496094, 4.5754265785217285, 0.06176227331161499, 0.49280545115470886)</td></tr><tr><td>194</td><td>List(2.552828311920166, 4.8200578689575195, 2.108166456222534, 0.6733142733573914, 3.282196283340454)</td></tr><tr><td>195</td><td>List(3.1439764499664307, 2.278615713119507, 3.936491012573242, 1.0790098905563354, 1.739917278289795)</td></tr><tr><td>196</td><td>List(2.1184074878692627, 2.5173025131225586, 1.533109188079834, 1.3183670043945312, 3.7872111797332764)</td></tr><tr><td>197</td><td>List(1.51034677028656, 4.355250358581543, 1.9596164226531982, 1.6589552164077759, 4.075288772583008)</td></tr><tr><td>198</td><td>List(0.0, 5.203134059906006, 0.2763047516345978, 1.9407154321670532, 1.9784142971038818)</td></tr><tr><td>199</td><td>List(0.6711323857307434, 3.0867509841918945, 4.050386905670166, 1.8613475561141968, 2.919121265411377)</td></tr><tr><td>200</td><td>List(2.307246446609497, 2.7630701065063477, 1.6135271787643433, 1.0852183103561401, 4.341987609863281)</td></tr><tr><td>201</td><td>List(1.6841425895690918, 3.149226665496826, 4.194785118103027, 1.4596117734909058, 1.7997548580169678)</td></tr><tr><td>202</td><td>List(2.4159939289093018, 3.577653646469116, 4.378344535827637, 0.3056240379810333, 2.3868112564086914)</td></tr><tr><td>203</td><td>List(1.6155246496200562, 2.8685882091522217, 2.996253490447998, 1.5436819791793823, 5.518116474151611)</td></tr><tr><td>204</td><td>List(4.665574073791504, 2.3785245418548584, 1.5095574855804443, 3.2875537872314453, 2.815361499786377)</td></tr><tr><td>205</td><td>List(0.8839545249938965, 3.3542582988739014, 4.253815650939941, 3.2408900260925293, 4.322216510772705)</td></tr><tr><td>206</td><td>List(2.0172040462493896, 3.485415458679199, 1.8277748823165894, 2.7448835372924805, 3.632171154022217)</td></tr><tr><td>207</td><td>List(4.580420017242432, 3.3443922996520996, 0.6695367097854614, 2.351012945175171, 0.3735910952091217)</td></tr><tr><td>208</td><td>List(0.0, 2.5072214603424072, 0.7457210421562195, 3.2964906692504883, 3.194105863571167)</td></tr><tr><td>209</td><td>List(4.321922779083252, 3.0171234607696533, 2.0446813106536865, 2.641697645187378, 4.4826884269714355)</td></tr><tr><td>210</td><td>List(2.11407470703125, 3.9121034145355225, 4.672054290771484, 1.8861249685287476, 4.2749834060668945)</td></tr><tr><td>211</td><td>List(2.1580543518066406, 1.4726535081863403, 4.66760778427124, 4.148626327514648, 1.0560195446014404)</td></tr><tr><td>212</td><td>List(0.8164389133453369, 4.2054572105407715, 0.09766148775815964, 2.24894380569458, 2.004146099090576)</td></tr><tr><td>213</td><td>List(1.927642822265625, 2.7307114601135254, 0.8681783080101013, 2.254610776901245, 4.107199668884277)</td></tr><tr><td>214</td><td>List(1.3433644771575928, 3.0193583965301514, 1.4978842735290527, 1.9888641834259033, 3.702324628829956)</td></tr><tr><td>215</td><td>List(1.9282610416412354, 2.9919087886810303, 0.0, 1.148293375968933, 4.916831016540527)</td></tr><tr><td>216</td><td>List(2.5973310470581055, 3.913841485977173, 2.974039316177368, 1.9129470586776733, 1.8095121383666992)</td></tr><tr><td>217</td><td>List(0.9544157385826111, 4.3207550048828125, 0.27478259801864624, 2.1416385173797607, 1.130285620689392)</td></tr><tr><td>218</td><td>List(1.907029628753662, 4.826100826263428, 0.16513577103614807, 1.6463992595672607, 4.259855270385742)</td></tr><tr><td>219</td><td>List(1.1094622611999512, 4.907513618469238, 1.957527756690979, 0.8683845400810242, 2.7894418239593506)</td></tr><tr><td>220</td><td>List(0.4927186965942383, 0.02384663000702858, 0.1308269053697586, 0.41067659854888916, 0.06499827653169632)</td></tr><tr><td>221</td><td>List(2.3567864894866943, 2.6103765964508057, 1.7584830522537231, 1.8943202495574951, 4.011567115783691)</td></tr><tr><td>222</td><td>List(3.0614712238311768, 2.650818347930908, 4.576889514923096, 2.2640743255615234, 3.430173873901367)</td></tr><tr><td>223</td><td>List(2.0244626998901367, 3.7044825553894043, 2.637589931488037, 2.9626173973083496, 3.8207504749298096)</td></tr><tr><td>224</td><td>List(0.9448981881141663, 1.0943289995193481, 2.2733898162841797, 0.0, 5.079812526702881)</td></tr><tr><td>225</td><td>List(0.5389052629470825, 3.662172555923462, 3.4526500701904297, 2.3404505252838135, 3.6150848865509033)</td></tr><tr><td>226</td><td>List(4.986039161682129, 1.2495750188827515, 3.5798277854919434, 0.8067798614501953, 3.9555177688598633)</td></tr><tr><td>227</td><td>List(0.649714469909668, 3.1942899227142334, 3.1769604682922363, 1.6807109117507935, 3.706843137741089)</td></tr><tr><td>228</td><td>List(0.7109915018081665, 3.161329746246338, 0.5311388373374939, 2.5808722972869873, 3.659813404083252)</td></tr><tr><td>229</td><td>List(2.6647064685821533, 2.421210527420044, 4.521940231323242, 3.533823013305664, 2.088796377182007)</td></tr><tr><td>230</td><td>List(0.0, 5.016393184661865, 0.11389528214931488, 2.3086676597595215, 5.4994306564331055)</td></tr><tr><td>231</td><td>List(2.2789158821105957, 2.8167126178741455, 2.8133695125579834, 1.65829598903656, 4.982120037078857)</td></tr><tr><td>232</td><td>List(3.92231822013855, 2.3671813011169434, 1.90652334690094, 0.0, 3.0219883918762207)</td></tr><tr><td>233</td><td>List(1.2902497053146362, 3.194483757019043, 2.151958703994751, 1.5948482751846313, 4.389729976654053)</td></tr><tr><td>234</td><td>List(2.7138469219207764, 4.456536293029785, 3.5796985626220703, 1.7019532918930054, 1.8361152410507202)</td></tr><tr><td>235</td><td>List(2.655302047729492, 4.133823871612549, 1.958146333694458, 2.603425979614258, 3.337272882461548)</td></tr><tr><td>236</td><td>List(3.2545268535614014, 1.4908013343811035, 0.30878204107284546, 1.2560515403747559, 0.8493099212646484)</td></tr><tr><td>237</td><td>List(1.8826693296432495, 3.663250207901001, 5.413418769836426, 1.5836447477340698, 0.9564967155456543)</td></tr><tr><td>238</td><td>List(0.0, 4.2450480461120605, 3.5100343227386475, 3.1800503730773926, 2.0070841312408447)</td></tr><tr><td>239</td><td>List(1.8064018487930298, 2.996673822402954, 1.4922922849655151, 1.912196397781372, 2.97084379196167)</td></tr><tr><td>240</td><td>List(3.7065317630767822, 3.2010536193847656, 1.7777972221374512, 2.659729242324829, 3.193009614944458)</td></tr><tr><td>241</td><td>List(2.408165216445923, 3.457166910171509, 2.6599066257476807, 1.549639344215393, 2.8217434883117676)</td></tr><tr><td>242</td><td>List(2.4757070541381836, 5.906129360198975, 1.9406310319900513, 0.9708678722381592, 1.6123985052108765)</td></tr><tr><td>243</td><td>List(0.0, 0.724833071231842, 0.509361743927002, 1.156337857246399, 0.48404771089553833)</td></tr><tr><td>244</td><td>List(4.295143127441406, 3.0507490634918213, 1.453437328338623, 1.6327323913574219, 1.017643928527832)</td></tr><tr><td>245</td><td>List(1.9216023683547974, 3.129045248031616, 2.199448823928833, 1.7997132539749146, 3.023750066757202)</td></tr><tr><td>246</td><td>List(0.5068714022636414, 4.785383224487305, 2.215649127960205, 2.2362024784088135, 2.4680275917053223)</td></tr><tr><td>247</td><td>List(1.7738449573516846, 2.9265024662017822, 2.5923027992248535, 2.7349042892456055, 4.8547468185424805)</td></tr><tr><td>248</td><td>List(0.7040495276451111, 2.7487499713897705, 1.1795930862426758, 2.0133793354034424, 2.86495041847229)</td></tr><tr><td>249</td><td>List(3.2499022483825684, 3.355471611022949, 1.860833764076233, 1.6902199983596802, 3.425276279449463)</td></tr><tr><td>250</td><td>List(3.051886558532715, 3.7578532695770264, 2.163356304168701, 2.237210273742676, 3.9905283451080322)</td></tr><tr><td>251</td><td>List(2.2196903228759766, 3.5034339427948, 3.818108558654785, 1.4650508165359497, 3.1375575065612793)</td></tr><tr><td>252</td><td>List(3.9616916179656982, 2.980360984802246, 2.2388081550598145, 1.8334810733795166, 2.4604811668395996)</td></tr><tr><td>253</td><td>List(1.8239564895629883, 3.9424567222595215, 1.6900396347045898, 2.052993059158325, 4.558207988739014)</td></tr><tr><td>254</td><td>List(0.32291796803474426, 4.512025356292725, 2.4711849689483643, 0.7214781045913696, 3.8817591667175293)</td></tr><tr><td>255</td><td>List(3.0253419876098633, 4.2912750244140625, 2.1342461109161377, 2.4609241485595703, 4.258586406707764)</td></tr><tr><td>256</td><td>List(1.471299409866333, 2.7989304065704346, 3.45218563079834, 3.2340493202209473, 2.855083703994751)</td></tr><tr><td>257</td><td>List(4.959802627563477, 1.4661211967468262, 3.606325149536133, 0.8144879341125488, 2.1526787281036377)</td></tr><tr><td>258</td><td>List(1.2202738523483276, 4.052060127258301, 0.591597855091095, 2.6924166679382324, 3.683607578277588)</td></tr><tr><td>259</td><td>List(2.22418212890625, 3.084199905395508, 3.550888776779175, 2.822166681289673, 2.004584312438965)</td></tr><tr><td>260</td><td>List(2.9837491512298584, 2.5118095874786377, 3.7403764724731445, 2.793060541152954, 4.0377726554870605)</td></tr><tr><td>261</td><td>List(0.9246935844421387, 3.017605781555176, 1.227023959159851, 2.1644768714904785, 5.130396366119385)</td></tr><tr><td>262</td><td>List(4.549739360809326, 1.2585070133209229, 3.562121868133545, 0.831015408039093, 2.486854076385498)</td></tr><tr><td>263</td><td>List(2.0138518810272217, 5.466869831085205, 1.9178847074508667, 0.0, 2.157773971557617)</td></tr><tr><td>264</td><td>List(2.037091016769409, 2.9716036319732666, 0.0, 0.012233923189342022, 3.238370418548584)</td></tr><tr><td>265</td><td>List(2.225409984588623, 1.0427695512771606, 3.290881872177124, 3.7727348804473877, 1.5006310939788818)</td></tr><tr><td>266</td><td>List(2.0682244300842285, 2.85550594329834, 3.921909809112549, 2.050252676010132, 2.790842294692993)</td></tr><tr><td>267</td><td>List(3.5459907054901123, 1.516884684562683, 4.089897632598877, 0.0, 2.848386764526367)</td></tr><tr><td>268</td><td>List(0.7891295552253723, 1.6196807622909546, 0.9136524796485901, 1.6268703937530518, 3.5406126976013184)</td></tr><tr><td>269</td><td>List(0.9428752064704895, 3.8327982425689697, 4.10505485534668, 0.16508735716342926, 3.0177462100982666)</td></tr><tr><td>270</td><td>List(0.9762086272239685, 3.0634069442749023, 3.5038270950317383, 3.1199350357055664, 1.693040370941162)</td></tr><tr><td>271</td><td>List(3.6096158027648926, 3.9993667602539062, 1.344334363937378, 2.8954873085021973, 3.2861416339874268)</td></tr><tr><td>272</td><td>List(0.8593679070472717, 2.261491537094116, 3.0023770332336426, 2.55600905418396, 4.793358325958252)</td></tr><tr><td>273</td><td>List(2.844536542892456, 3.498335123062134, 3.767202854156494, 2.365910291671753, 2.606606960296631)</td></tr><tr><td>274</td><td>List(3.2497682571411133, 1.98790442943573, 4.502009868621826, 3.2152163982391357, 0.1637585461139679)</td></tr><tr><td>275</td><td>List(1.1113537549972534, 3.3789918422698975, 1.2109514474868774, 2.125519275665283, 4.819257736206055)</td></tr><tr><td>276</td><td>List(2.9802634716033936, 3.4608993530273438, 1.687626838684082, 1.1053434610366821, 4.036229133605957)</td></tr><tr><td>277</td><td>List(1.650569200515747, 2.899887800216675, 1.33804452419281, 1.7298264503479004, 3.6968374252319336)</td></tr><tr><td>278</td><td>List(2.3484127521514893, 4.612811088562012, 3.251054048538208, 0.0, 4.236996173858643)</td></tr><tr><td>279</td><td>List(0.0, 0.0, 3.4069130420684814, 0.17339752614498138, 1.4692776203155518)</td></tr><tr><td>280</td><td>List(1.5600231885910034, 3.3064727783203125, 2.831275463104248, 2.8575382232666016, 4.162990093231201)</td></tr><tr><td>281</td><td>List(1.5887147188186646, 1.3929721117019653, 0.8332129120826721, 3.8867387771606445, 0.8608816862106323)</td></tr><tr><td>282</td><td>List(2.192333221435547, 3.778898239135742, 1.4208836555480957, 0.6463060975074768, 3.900031805038452)</td></tr><tr><td>283</td><td>List(1.9837925434112549, 4.224246501922607, 0.610557496547699, 2.8398611545562744, 3.30745792388916)</td></tr><tr><td>284</td><td>List(2.898416757583618, 4.784241199493408, 3.1194939613342285, 1.1860452890396118, 2.0446746349334717)</td></tr><tr><td>285</td><td>List(0.5900219082832336, 2.4347798824310303, 1.8837453126907349, 3.4532437324523926, 3.130573034286499)</td></tr><tr><td>286</td><td>List(2.138061761856079, 3.575390338897705, 0.26392456889152527, 2.5806493759155273, 3.1755897998809814)</td></tr><tr><td>287</td><td>List(1.8455394506454468, 3.332883834838867, 3.653596878051758, 1.3872432708740234, 3.44138765335083)</td></tr><tr><td>288</td><td>List(1.94816255569458, 2.9991016387939453, 1.0866429805755615, 1.5218091011047363, 3.7070400714874268)</td></tr><tr><td>289</td><td>List(3.0508434772491455, 0.7109852433204651, 1.2901400327682495, 4.713693141937256, 2.786644220352173)</td></tr><tr><td>290</td><td>List(2.265753746032715, 2.12636399269104, 4.046930313110352, 2.9036383628845215, 2.4520041942596436)</td></tr><tr><td>291</td><td>List(2.4389991760253906, 3.2644152641296387, 2.7128615379333496, 2.637737989425659, 4.321933746337891)</td></tr><tr><td>292</td><td>List(0.7562273144721985, 2.9624273777008057, 0.0, 2.3989627361297607, 5.029926300048828)</td></tr><tr><td>293</td><td>List(2.080156087875366, 2.405205726623535, 3.765514612197876, 2.5354244709014893, 3.949004650115967)</td></tr><tr><td>294</td><td>List(2.0339386463165283, 1.8544611930847168, 1.5384842157363892, 2.4282877445220947, 3.136133909225464)</td></tr><tr><td>295</td><td>List(1.7046388387680054, 3.5585997104644775, 1.9593677520751953, 2.9299566745758057, 3.3787150382995605)</td></tr><tr><td>296</td><td>List(0.0, 1.3552640676498413, 7.026998043060303, 0.3006204664707184, 0.0)</td></tr><tr><td>297</td><td>List(2.239151954650879, 4.3404083251953125, 3.8443851470947266, 2.7853617668151855, 2.613537549972534)</td></tr><tr><td>298</td><td>List(0.6672216057777405, 2.5264999866485596, 2.2807326316833496, 1.3392430543899536, 3.365203857421875)</td></tr><tr><td>299</td><td>List(2.1027204990386963, 3.677370071411133, 2.8208298683166504, 1.940328598022461, 3.218693733215332)</td></tr><tr><td>300</td><td>List(2.1177985668182373, 3.9235610961914062, 1.3579204082489014, 2.98066782951355, 3.1905629634857178)</td></tr><tr><td>301</td><td>List(1.4984203577041626, 3.8917789459228516, 3.4177935123443604, 2.6808228492736816, 4.512946128845215)</td></tr><tr><td>302</td><td>List(1.670494556427002, 2.747069835662842, 2.36254620552063, 1.9633045196533203, 4.096081256866455)</td></tr><tr><td>303</td><td>List(1.236737847328186, 3.118928909301758, 2.8158652782440186, 1.3533860445022583, 3.66575288772583)</td></tr><tr><td>304</td><td>List(2.9160714149475098, 2.7022719383239746, 2.78995418548584, 1.6587437391281128, 0.0)</td></tr><tr><td>305</td><td>List(3.5041356086730957, 0.0, 2.5948808193206787, 1.7231961488723755, 2.7966272830963135)</td></tr><tr><td>306</td><td>List(1.5709835290908813, 4.388279914855957, 2.072333574295044, 1.7790148258209229, 4.805046558380127)</td></tr><tr><td>307</td><td>List(1.5967785120010376, 2.7123138904571533, 4.223962783813477, 2.749255895614624, 1.3384084701538086)</td></tr><tr><td>308</td><td>List(1.442133903503418, 0.9385982751846313, 1.9538373947143555, 1.9713819026947021, 2.9088518619537354)</td></tr><tr><td>309</td><td>List(0.38707053661346436, 0.44650909304618835, 0.4213782548904419, 0.27307191491127014, 0.3679097890853882)</td></tr><tr><td>310</td><td>List(3.1143414974212646, 3.8827991485595703, 2.0474894046783447, 0.23687635362148285, 3.186577558517456)</td></tr><tr><td>311</td><td>List(4.92913818359375, 2.6888396739959717, 3.1414201259613037, 0.0, 4.434139728546143)</td></tr><tr><td>312</td><td>List(2.6684839725494385, 2.899954319000244, 1.5849357843399048, 2.0596261024475098, 3.8298661708831787)</td></tr><tr><td>313</td><td>List(1.5003434419631958, 2.9506077766418457, 2.052269697189331, 2.8441476821899414, 3.4717233180999756)</td></tr><tr><td>314</td><td>List(1.8902630805969238, 3.2185585498809814, 2.806159019470215, 2.7722251415252686, 3.652071475982666)</td></tr><tr><td>315</td><td>List(1.168045163154602, 3.530383825302124, 0.5706415176391602, 0.7400622963905334, 4.218608856201172)</td></tr><tr><td>316</td><td>List(2.375818967819214, 2.7034378051757812, 2.2075917720794678, 1.480138897895813, 4.425435543060303)</td></tr><tr><td>317</td><td>List(3.288045644760132, 3.6416473388671875, 3.76187801361084, 1.85598886013031, 4.903569221496582)</td></tr><tr><td>318</td><td>List(3.169523239135742, 2.120748996734619, 2.4923882484436035, 2.076220989227295, 2.7173335552215576)</td></tr><tr><td>319</td><td>List(2.159883737564087, 4.066040992736816, 2.478015422821045, 1.8912262916564941, 2.9454469680786133)</td></tr><tr><td>320</td><td>List(0.5006976127624512, 5.165884494781494, 3.0687673091888428, 1.1591805219650269, 2.2268283367156982)</td></tr><tr><td>321</td><td>List(1.2968846559524536, 2.0797059535980225, 1.9815881252288818, 1.8945369720458984, 3.9377973079681396)</td></tr><tr><td>322</td><td>List(1.0956617593765259, 3.2048494815826416, 2.872302532196045, 0.9304099678993225, 4.353114128112793)</td></tr><tr><td>323</td><td>List(2.0489091873168945, 5.703532695770264, 3.770836591720581, 0.0, 1.336021900177002)</td></tr><tr><td>324</td><td>List(0.8552733659744263, 0.8944183588027954, 6.577654838562012, 2.431735038757324, 2.9213316440582275)</td></tr><tr><td>325</td><td>List(0.0, 3.2807648181915283, 2.6422200202941895, 1.1489059925079346, 3.965261459350586)</td></tr><tr><td>326</td><td>List(6.826968193054199, 0.0, 2.0455427169799805, 0.0, 4.093001842498779)</td></tr><tr><td>327</td><td>List(3.08561110496521, 4.130614757537842, 1.049363613128662, 0.5736145973205566, 3.348806619644165)</td></tr><tr><td>328</td><td>List(0.36111801862716675, 2.76004958152771, 1.0905275344848633, 0.0, 1.8855358362197876)</td></tr><tr><td>329</td><td>List(1.400413155555725, 3.376459836959839, 2.9588685035705566, 0.98316890001297, 0.8451025485992432)</td></tr><tr><td>330</td><td>List(3.1378173828125, 3.4454445838928223, 3.2840774059295654, 2.3543992042541504, 4.65824031829834)</td></tr><tr><td>331</td><td>List(1.4343479871749878, 2.201777696609497, 4.2479705810546875, 3.210580825805664, 3.6747331619262695)</td></tr><tr><td>332</td><td>List(2.8401758670806885, 4.088006019592285, 2.3327982425689697, 1.0247225761413574, 3.057502508163452)</td></tr><tr><td>333</td><td>List(2.055715322494507, 3.154932737350464, 2.993574857711792, 3.4004099369049072, 3.9960756301879883)</td></tr><tr><td>334</td><td>List(2.469637632369995, 3.583402395248413, 1.594628095626831, 2.1336147785186768, 4.415827751159668)</td></tr><tr><td>335</td><td>List(2.737412452697754, 3.6447031497955322, 2.08085298538208, 2.6483469009399414, 3.808492660522461)</td></tr><tr><td>336</td><td>List(2.204824686050415, 3.2712950706481934, 3.1936328411102295, 1.5824477672576904, 2.7749781608581543)</td></tr><tr><td>337</td><td>List(1.9788165092468262, 3.1903345584869385, 4.032214164733887, 1.500410795211792, 2.9977543354034424)</td></tr><tr><td>338</td><td>List(2.002908229827881, 4.039765357971191, 1.7043308019638062, 1.427067518234253, 3.840552806854248)</td></tr><tr><td>339</td><td>List(0.0, 1.0062450170516968, 2.1176512241363525, 3.4121294021606445, 2.466041088104248)</td></tr><tr><td>340</td><td>List(2.585442304611206, 3.482947587966919, 3.0566234588623047, 3.066762924194336, 4.120441913604736)</td></tr><tr><td>341</td><td>List(2.0565624237060547, 3.8803751468658447, 1.5604398250579834, 2.6456081867218018, 3.7885994911193848)</td></tr><tr><td>342</td><td>List(1.5321192741394043, 3.9145872592926025, 2.405457019805908, 1.9547368288040161, 2.8244740962982178)</td></tr><tr><td>343</td><td>List(1.3765841722488403, 3.089388370513916, 2.0516133308410645, 2.636355400085449, 3.4657039642333984)</td></tr><tr><td>344</td><td>List(3.0938055515289307, 4.25200891494751, 3.5626027584075928, 2.672196626663208, 3.5856857299804688)</td></tr><tr><td>345</td><td>List(1.9084521532058716, 3.0624125003814697, 1.3662521839141846, 1.6966419219970703, 3.1831679344177246)</td></tr><tr><td>346</td><td>List(0.0, 1.1632452011108398, 5.753480434417725, 0.9426332712173462, 1.4156262874603271)</td></tr><tr><td>347</td><td>List(2.0326085090637207, 2.9790337085723877, 3.1128265857696533, 0.877019464969635, 5.020646572113037)</td></tr><tr><td>348</td><td>List(2.787139654159546, 5.075481414794922, 0.9625936150550842, 2.4438631534576416, 3.8504655361175537)</td></tr><tr><td>349</td><td>List(2.571976661682129, 2.576986789703369, 0.0, 2.6426897048950195, 4.1884765625)</td></tr><tr><td>350</td><td>List(0.9239556789398193, 3.7125275135040283, 2.8389182090759277, 1.4687224626541138, 4.327949047088623)</td></tr><tr><td>351</td><td>List(0.9808205962181091, 3.0634117126464844, 2.220674514770508, 3.5277085304260254, 3.3115897178649902)</td></tr><tr><td>352</td><td>List(0.6703683137893677, 3.6288373470306396, 0.0, 3.3147900104522705, 5.029184341430664)</td></tr><tr><td>353</td><td>List(2.778709650039673, 1.6971559524536133, 5.505483627319336, 2.826629400253296, 1.1155195236206055)</td></tr><tr><td>354</td><td>List(4.010440349578857, 3.7955281734466553, 2.9591891765594482, 2.229292631149292, 3.1822140216827393)</td></tr><tr><td>355</td><td>List(1.8211886882781982, 2.9002609252929688, 4.161424160003662, 1.0100376605987549, 2.786425828933716)</td></tr><tr><td>356</td><td>List(0.7112926244735718, 3.574458122253418, 1.2828303575515747, 2.8467907905578613, 3.0338480472564697)</td></tr><tr><td>357</td><td>List(2.433184862136841, 3.448913097381592, 1.7062076330184937, 1.6735390424728394, 2.5414528846740723)</td></tr><tr><td>358</td><td>List(1.6107391119003296, 3.423112630844116, 0.4116501808166504, 2.784165382385254, 3.9933969974517822)</td></tr><tr><td>359</td><td>List(3.3370447158813477, 2.0444772243499756, 2.4998111724853516, 0.9243433475494385, 3.2950217723846436)</td></tr><tr><td>360</td><td>List(2.3033316135406494, 2.7964842319488525, 2.306781768798828, 3.7001006603240967, 4.096231460571289)</td></tr><tr><td>361</td><td>List(3.953700542449951, 2.9633493423461914, 2.5836293697357178, 2.0806472301483154, 3.5341694355010986)</td></tr><tr><td>362</td><td>List(1.736860990524292, 3.4663028717041016, 0.5055595636367798, 1.7459502220153809, 3.1179757118225098)</td></tr><tr><td>363</td><td>List(2.5935752391815186, 2.73116135597229, 2.8765439987182617, 1.8367210626602173, 4.553103923797607)</td></tr><tr><td>364</td><td>List(4.169666767120361, 3.2616126537323, 1.5932096242904663, 2.075582981109619, 3.7963037490844727)</td></tr><tr><td>365</td><td>List(2.129960775375366, 3.66861891746521, 0.0, 0.336250901222229, 4.791100978851318)</td></tr><tr><td>366</td><td>List(2.85201358795166, 3.090449333190918, 2.4305505752563477, 0.6134154200553894, 3.041550397872925)</td></tr><tr><td>367</td><td>List(2.1551856994628906, 3.438911199569702, 1.2372667789459229, 0.0, 3.886078357696533)</td></tr><tr><td>368</td><td>List(3.3261289596557617, 2.5529654026031494, 3.465674638748169, 3.169302463531494, 3.516554117202759)</td></tr><tr><td>369</td><td>List(2.100118398666382, 3.911855459213257, 2.4745519161224365, 2.8486030101776123, 3.314059257507324)</td></tr><tr><td>370</td><td>List(0.12306420505046844, 4.333953857421875, 1.04682195186615, 1.1775741577148438, 3.090113401412964)</td></tr><tr><td>371</td><td>List(3.8419623374938965, 4.0323686599731445, 2.419647455215454, 0.5760716795921326, 3.9045217037200928)</td></tr><tr><td>372</td><td>List(1.5911180973052979, 2.951756715774536, 2.324857234954834, 2.4264426231384277, 3.2798147201538086)</td></tr><tr><td>373</td><td>List(3.14544939994812, 0.673198938369751, 1.45577871799469, 0.3226291835308075, 1.6481560468673706)</td></tr><tr><td>374</td><td>List(2.5868818759918213, 3.319951057434082, 3.539525270462036, 3.0579380989074707, 3.6559605598449707)</td></tr><tr><td>375</td><td>List(2.355916976928711, 3.3789827823638916, 3.107208728790283, 1.2797315120697021, 3.735342264175415)</td></tr><tr><td>376</td><td>List(1.6397616863250732, 1.7261052131652832, 2.2646071910858154, 2.946432590484619, 2.410159111022949)</td></tr><tr><td>377</td><td>List(2.1509313583374023, 2.324127435684204, 3.3920178413391113, 1.4564497470855713, 4.244513988494873)</td></tr><tr><td>378</td><td>List(2.296008825302124, 3.0719079971313477, 3.0580036640167236, 2.4165151119232178, 3.979548454284668)</td></tr><tr><td>379</td><td>List(3.545646905899048, 3.8235111236572266, 3.371170997619629, 0.8008409142494202, 1.8036249876022339)</td></tr><tr><td>380</td><td>List(1.3876203298568726, 1.8757104873657227, 4.021670341491699, 1.4129339456558228, 4.172207832336426)</td></tr><tr><td>381</td><td>List(2.8996901512145996, 3.3568854331970215, 2.0573065280914307, 2.045085906982422, 5.528250694274902)</td></tr><tr><td>382</td><td>List(3.7426249980926514, 2.819779634475708, 1.2538636922836304, 1.1875720024108887, 3.2273733615875244)</td></tr><tr><td>383</td><td>List(2.2729995250701904, 2.3615896701812744, 4.273844242095947, 3.6212563514709473, 2.7125489711761475)</td></tr><tr><td>384</td><td>List(1.342564582824707, 3.0829384326934814, 1.2395751476287842, 1.276605248451233, 4.753252983093262)</td></tr><tr><td>385</td><td>List(2.413743019104004, 4.578136920928955, 3.673121929168701, 0.0, 2.5081396102905273)</td></tr><tr><td>386</td><td>List(1.5984045267105103, 4.0062255859375, 1.53058660030365, 2.3848769664764404, 3.554109573364258)</td></tr><tr><td>387</td><td>List(1.8899883031845093, 3.3639049530029297, 4.433178901672363, 1.3512179851531982, 4.163641452789307)</td></tr><tr><td>388</td><td>List(2.7235591411590576, 3.683192729949951, 0.8820108771324158, 2.616150379180908, 3.40366268157959)</td></tr><tr><td>389</td><td>List(2.673814535140991, 3.206432342529297, 3.31441593170166, 3.8088998794555664, 3.7934799194335938)</td></tr><tr><td>390</td><td>List(1.7243292331695557, 4.2151875495910645, 1.5854030847549438, 1.503226399421692, 2.9171111583709717)</td></tr><tr><td>391</td><td>List(2.7326560020446777, 3.6933553218841553, 0.9404399394989014, 2.890821933746338, 4.28696346282959)</td></tr><tr><td>392</td><td>List(2.0581254959106445, 3.6758856773376465, 2.33140230178833, 3.2422871589660645, 2.9768974781036377)</td></tr><tr><td>393</td><td>List(2.836799144744873, 3.7877042293548584, 2.3099777698516846, 0.6806342005729675, 2.2039966583251953)</td></tr><tr><td>394</td><td>List(0.7736268639564514, 3.153909206390381, 4.517407417297363, 2.239121913909912, 1.0307062864303589)</td></tr><tr><td>395</td><td>List(1.9482053518295288, 3.1876773834228516, 1.9678903818130493, 1.645785927772522, 3.1395797729492188)</td></tr><tr><td>396</td><td>List(1.8961005210876465, 2.4037137031555176, 0.08887921273708344, 1.0266575813293457, 4.192071437835693)</td></tr><tr><td>397</td><td>List(1.070556402206421, 2.145437717437744, 5.2115864753723145, 2.8607900142669678, 2.0726492404937744)</td></tr><tr><td>398</td><td>List(4.307718753814697, 3.3979318141937256, 2.272843599319458, 0.0, 1.0643705129623413)</td></tr><tr><td>399</td><td>List(3.2224674224853516, 3.502204418182373, 3.3056864738464355, 1.634352207183838, 3.010784864425659)</td></tr><tr><td>400</td><td>List(2.162720203399658, 4.1695146560668945, 2.016343593597412, 1.5180163383483887, 5.01483154296875)</td></tr><tr><td>401</td><td>List(2.7253851890563965, 2.7153782844543457, 5.437902450561523, 1.739616870880127, 2.9834794998168945)</td></tr><tr><td>402</td><td>List(2.402752161026001, 3.0083088874816895, 2.050431251525879, 2.6862735748291016, 3.4405159950256348)</td></tr><tr><td>403</td><td>List(1.7447950839996338, 2.772111177444458, 2.0722970962524414, 0.0, 2.8511855602264404)</td></tr><tr><td>404</td><td>List(2.164658308029175, 0.5658125281333923, 3.562711238861084, 2.1833903789520264, 3.6597201824188232)</td></tr><tr><td>405</td><td>List(1.897911787033081, 4.362708568572998, 3.4032177925109863, 4.952634811401367, 2.5671608448028564)</td></tr><tr><td>406</td><td>List(2.3692820072174072, 4.304692268371582, 0.0, 2.529723644256592, 4.880459308624268)</td></tr><tr><td>407</td><td>List(3.3572757244110107, 1.7194130420684814, 2.763814687728882, 1.8979456424713135, 3.100313425064087)</td></tr><tr><td>408</td><td>List(1.5651947259902954, 3.600696325302124, 0.48359203338623047, 1.4627273082733154, 2.8843677043914795)</td></tr><tr><td>409</td><td>List(2.8029515743255615, 3.952556848526001, 2.4215874671936035, 2.6042890548706055, 4.10225248336792)</td></tr><tr><td>410</td><td>List(1.6813117265701294, 2.8518099784851074, 1.3192299604415894, 2.1133968830108643, 2.1085727214813232)</td></tr><tr><td>411</td><td>List(1.6986513137817383, 2.332927703857422, 3.1665711402893066, 2.4062466621398926, 3.677215814590454)</td></tr><tr><td>412</td><td>List(0.3258660137653351, 2.6311848163604736, 2.4677155017852783, 3.9543135166168213, 3.6309421062469482)</td></tr><tr><td>413</td><td>List(3.685434579849243, 4.192521095275879, 3.229214906692505, 2.3182966709136963, 1.60709547996521)</td></tr><tr><td>414</td><td>List(1.834364414215088, 2.3739936351776123, 1.2253532409667969, 2.0910604000091553, 4.487098217010498)</td></tr><tr><td>415</td><td>List(2.5191147327423096, 4.469627380371094, 0.7055285573005676, 0.0, 3.103726625442505)</td></tr><tr><td>416</td><td>List(1.4888373613357544, 2.687988519668579, 3.9601192474365234, 3.32210111618042, 2.828104257583618)</td></tr><tr><td>417</td><td>List(3.4777801036834717, 2.577108383178711, 1.3707128763198853, 0.3219972848892212, 4.529829502105713)</td></tr><tr><td>418</td><td>List(2.2754170894622803, 2.5823910236358643, 2.4320826530456543, 2.031510829925537, 4.131557464599609)</td></tr><tr><td>419</td><td>List(1.1833107471466064, 4.479791164398193, 0.4559215307235718, 3.9621148109436035, 3.331725835800171)</td></tr><tr><td>420</td><td>List(2.0349700450897217, 2.832780361175537, 3.7214279174804688, 3.2379987239837646, 1.5992010831832886)</td></tr><tr><td>421</td><td>List(2.0666873455047607, 3.7361085414886475, 1.91568124294281, 2.995978593826294, 4.172645568847656)</td></tr><tr><td>422</td><td>List(3.0473294258117676, 1.9886188507080078, 3.4485628604888916, 2.3454627990722656, 4.81583833694458)</td></tr><tr><td>423</td><td>List(2.2158868312835693, 3.5336503982543945, 2.6898999214172363, 1.980633020401001, 2.9157190322875977)</td></tr><tr><td>424</td><td>List(1.7389262914657593, 3.302812337875366, 1.7263214588165283, 2.163869619369507, 3.4267632961273193)</td></tr><tr><td>425</td><td>List(0.853512167930603, 1.733981728553772, 3.989784002304077, 2.793348550796509, 5.16312313079834)</td></tr><tr><td>427</td><td>List(0.2236044704914093, 1.319396734237671, 4.468905448913574, 1.9816745519638062, 0.0)</td></tr><tr><td>428</td><td>List(1.7796294689178467, 3.7376275062561035, 1.7648004293441772, 2.7297403812408447, 3.829789876937866)</td></tr><tr><td>429</td><td>List(1.9048750400543213, 1.557342290878296, 2.3936142921447754, 4.139252662658691, 2.3748085498809814)</td></tr><tr><td>430</td><td>List(1.5682706832885742, 3.7693254947662354, 1.8757282495498657, 3.0065627098083496, 3.7015910148620605)</td></tr><tr><td>431</td><td>List(3.4048259258270264, 2.7867727279663086, 1.0486712455749512, 0.0, 3.004514455795288)</td></tr><tr><td>432</td><td>List(2.820253849029541, 4.727034091949463, 2.2602574825286865, 2.448033094406128, 2.8500730991363525)</td></tr><tr><td>433</td><td>List(2.8212618827819824, 2.037355661392212, 6.0125627517700195, 1.1866390705108643, 1.5339248180389404)</td></tr><tr><td>434</td><td>List(2.8068714141845703, 3.877556800842285, 2.2243332862854004, 1.5213590860366821, 2.540839910507202)</td></tr><tr><td>435</td><td>List(1.3175358772277832, 3.3354785442352295, 3.764411449432373, 2.389451742172241, 2.1235358715057373)</td></tr><tr><td>436</td><td>List(0.031622134149074554, 5.00092077255249, 0.08224409818649292, 2.958411693572998, 2.6530990600585938)</td></tr><tr><td>437</td><td>List(0.18304987251758575, 4.702049732208252, 2.8264660835266113, 0.3395525813102722, 3.956390619277954)</td></tr><tr><td>438</td><td>List(1.3347691297531128, 3.6994054317474365, 2.0818324089050293, 3.3863799571990967, 3.505984306335449)</td></tr><tr><td>439</td><td>List(1.618385910987854, 3.801276206970215, 2.8236238956451416, 1.5877830982208252, 1.2058899402618408)</td></tr><tr><td>440</td><td>List(3.4803237915039062, 4.694404602050781, 0.04616934061050415, 0.5815565586090088, 2.7113969326019287)</td></tr><tr><td>441</td><td>List(1.9006296396255493, 2.3774657249450684, 2.0832159519195557, 0.9796443581581116, 4.4857177734375)</td></tr><tr><td>442</td><td>List(0.0, 0.09238649159669876, 3.5182101726531982, 2.059861660003662, 0.0)</td></tr><tr><td>443</td><td>List(2.440624952316284, 3.2463161945343018, 2.699492931365967, 2.6910829544067383, 2.414440393447876)</td></tr><tr><td>444</td><td>List(2.5806539058685303, 2.4092369079589844, 1.6854430437088013, 2.6416399478912354, 3.9582858085632324)</td></tr><tr><td>445</td><td>List(1.129136323928833, 0.9159027934074402, 4.969646453857422, 2.854506015777588, 1.0153199434280396)</td></tr><tr><td>446</td><td>List(2.458836078643799, 2.6095974445343018, 3.5106611251831055, 2.058131217956543, 2.878878593444824)</td></tr><tr><td>447</td><td>List(2.365118980407715, 3.35430645942688, 1.0284810066223145, 2.142106056213379, 3.807565689086914)</td></tr><tr><td>448</td><td>List(1.5491541624069214, 1.1818139553070068, 4.70675802230835, 4.817021369934082, 2.0953822135925293)</td></tr><tr><td>449</td><td>List(3.2750320434570312, 1.8926547765731812, 2.0988566875457764, 2.0409328937530518, 2.015157699584961)</td></tr><tr><td>450</td><td>List(2.2337942123413086, 3.2326042652130127, 2.2591142654418945, 2.908872365951538, 3.803706169128418)</td></tr><tr><td>451</td><td>List(1.5769705772399902, 3.5638840198516846, 3.373429775238037, 1.0397045612335205, 2.614635705947876)</td></tr><tr><td>452</td><td>List(1.4553157091140747, 4.072967529296875, 3.8515841960906982, 2.986274242401123, 2.41339373588562)</td></tr><tr><td>453</td><td>List(2.06126070022583, 3.4629459381103516, 2.402252197265625, 3.3820159435272217, 3.8057479858398438)</td></tr><tr><td>454</td><td>List(0.2752591669559479, 4.640281677246094, 1.929939866065979, 0.7048032283782959, 3.1422934532165527)</td></tr><tr><td>455</td><td>List(1.6085892915725708, 3.630418539047241, 0.7005250453948975, 0.8160609006881714, 3.972672700881958)</td></tr><tr><td>456</td><td>List(2.009995698928833, 3.9225497245788574, 3.100766658782959, 2.199948310852051, 2.8144240379333496)</td></tr><tr><td>457</td><td>List(2.297645092010498, 3.8036246299743652, 2.928115129470825, 1.8940401077270508, 2.5147581100463867)</td></tr><tr><td>458</td><td>List(0.963785707950592, 1.8409956693649292, 2.4151978492736816, 2.231508493423462, 2.792201280593872)</td></tr><tr><td>459</td><td>List(1.2945841550827026, 4.319320201873779, 0.0, 3.22065806388855, 3.373178005218506)</td></tr><tr><td>460</td><td>List(1.2863978147506714, 3.9876303672790527, 3.227522373199463, 1.4724918603897095, 2.4033761024475098)</td></tr><tr><td>461</td><td>List(0.0, 2.194697856903076, 3.0042550563812256, 2.801985502243042, 2.971843719482422)</td></tr><tr><td>462</td><td>List(2.7582221031188965, 4.079465389251709, 2.6802656650543213, 3.527517557144165, 2.7088277339935303)</td></tr><tr><td>463</td><td>List(1.495631456375122, 2.063513994216919, 0.6494446396827698, 0.8314951062202454, 2.7442615032196045)</td></tr><tr><td>464</td><td>List(1.0584025382995605, 4.308315753936768, 0.6990768313407898, 3.4167096614837646, 2.6805341243743896)</td></tr><tr><td>465</td><td>List(0.5881419777870178, 3.0031237602233887, 1.5448710918426514, 2.799482822418213, 2.715548276901245)</td></tr><tr><td>466</td><td>List(1.7435190677642822, 3.261234998703003, 2.1520986557006836, 1.2570827007293701, 4.746028900146484)</td></tr><tr><td>467</td><td>List(2.388648509979248, 4.99031925201416, 1.247653841972351, 2.2515313625335693, 1.1299784183502197)</td></tr><tr><td>468</td><td>List(2.5012216567993164, 3.6882896423339844, 1.6205350160598755, 1.3350626230239868, 4.912890911102295)</td></tr><tr><td>469</td><td>List(3.1139614582061768, 2.8361592292785645, 2.4275779724121094, 1.400071620941162, 4.739659786224365)</td></tr><tr><td>470</td><td>List(2.456112861633301, 5.502878189086914, 2.505420446395874, 0.0, 1.8062266111373901)</td></tr><tr><td>471</td><td>List(1.512934923171997, 2.8188369274139404, 2.2665438652038574, 1.3897138833999634, 3.4988622665405273)</td></tr><tr><td>472</td><td>List(0.9046134948730469, 2.1175427436828613, 4.209396839141846, 1.8176416158676147, 5.094290733337402)</td></tr><tr><td>473</td><td>List(1.6202011108398438, 3.9891982078552246, 1.523210048675537, 2.325604200363159, 3.7317745685577393)</td></tr><tr><td>474</td><td>List(0.940558671951294, 3.9239978790283203, 2.964012861251831, 1.9124318361282349, 3.8809351921081543)</td></tr><tr><td>475</td><td>List(5.818098545074463, 2.0372707843780518, 6.708824634552002, 0.0, 1.906337022781372)</td></tr><tr><td>476</td><td>List(4.0049285888671875, 4.594996452331543, 3.4110965728759766, 0.0, 2.2090137004852295)</td></tr><tr><td>477</td><td>List(1.9787909984588623, 2.7739906311035156, 2.0911786556243896, 2.4126856327056885, 5.405850887298584)</td></tr><tr><td>478</td><td>List(2.0652236938476562, 3.087864637374878, 3.0828044414520264, 2.5202107429504395, 3.932825803756714)</td></tr><tr><td>479</td><td>List(0.8491957187652588, 4.642151832580566, 0.9581437110900879, 1.989209771156311, 3.89685320854187)</td></tr><tr><td>480</td><td>List(2.8644752502441406, 4.2180256843566895, 3.047847270965576, 0.3327091634273529, 2.9974851608276367)</td></tr><tr><td>481</td><td>List(3.7945706844329834, 4.539460182189941, 0.16099674999713898, 1.4604426622390747, 4.470119476318359)</td></tr><tr><td>482</td><td>List(3.0945301055908203, 2.689415454864502, 1.2132718563079834, 2.584859848022461, 2.6639397144317627)</td></tr><tr><td>483</td><td>List(2.0059123039245605, 3.603926420211792, 1.1876379251480103, 2.9046595096588135, 3.9473180770874023)</td></tr><tr><td>484</td><td>List(2.2119760513305664, 3.678863763809204, 2.9621591567993164, 1.9533966779708862, 2.6364681720733643)</td></tr><tr><td>485</td><td>List(2.5909950733184814, 4.6383819580078125, 0.9956468939781189, 1.9611494541168213, 3.274071455001831)</td></tr><tr><td>486</td><td>List(3.108496904373169, 4.528192520141602, 2.2197117805480957, 2.531773090362549, 3.7143073081970215)</td></tr><tr><td>487</td><td>List(0.0, 2.527709484100342, 0.7103670835494995, 1.2049908638000488, 4.475492477416992)</td></tr><tr><td>488</td><td>List(2.743168830871582, 4.552662372589111, 0.0, 2.2121758460998535, 3.260244846343994)</td></tr><tr><td>489</td><td>List(2.4828264713287354, 3.518981456756592, 2.117657423019409, 2.320892333984375, 3.627551555633545)</td></tr><tr><td>490</td><td>List(0.0, 3.417188882827759, 2.9665892124176025, 0.0, 2.5195791721343994)</td></tr><tr><td>491</td><td>List(2.5625224113464355, 3.697171926498413, 2.7559263706207275, 1.9487173557281494, 4.011343955993652)</td></tr><tr><td>492</td><td>List(3.6614480018615723, 4.425303936004639, 1.583720326423645, 3.489237070083618, 1.5543724298477173)</td></tr><tr><td>493</td><td>List(1.8027137517929077, 4.386971473693848, 4.162239074707031, 1.398111343383789, 2.7278690338134766)</td></tr><tr><td>494</td><td>List(3.503180742263794, 3.5605616569519043, 5.015728950500488, 2.0049099922180176, 2.5534849166870117)</td></tr><tr><td>495</td><td>List(2.6017298698425293, 3.057483673095703, 1.305646538734436, 1.1922049522399902, 4.762132167816162)</td></tr><tr><td>496</td><td>List(1.9169306755065918, 4.023930072784424, 1.2957541942596436, 1.253495454788208, 4.22680139541626)</td></tr><tr><td>497</td><td>List(2.047165870666504, 4.0049004554748535, 1.5170472860336304, 1.2952877283096313, 4.292416095733643)</td></tr><tr><td>498</td><td>List(2.7071359157562256, 4.383148193359375, 1.5383036136627197, 2.908226490020752, 2.8142662048339844)</td></tr><tr><td>499</td><td>List(0.7929520010948181, 3.4933648109436035, 3.048002004623413, 2.7458577156066895, 0.7156149744987488)</td></tr><tr><td>500</td><td>List(1.0860055685043335, 2.1577036380767822, 1.7119649648666382, 1.7422174215316772, 1.9811378717422485)</td></tr><tr><td>501</td><td>List(0.5808261632919312, 0.47510045766830444, 5.29562520980835, 3.3137567043304443, 1.8254964351654053)</td></tr><tr><td>502</td><td>List(2.3677845001220703, 3.667274236679077, 1.3810540437698364, 2.586984872817993, 3.464053153991699)</td></tr><tr><td>503</td><td>List(0.0, 1.8032071590423584, 2.367938756942749, 4.980129241943359, 3.667314291000366)</td></tr><tr><td>504</td><td>List(0.0, 3.1888020038604736, 2.8809804916381836, 1.2686960697174072, 3.735470771789551)</td></tr><tr><td>505</td><td>List(1.8428529500961304, 2.7136924266815186, 1.1880284547805786, 2.3577017784118652, 3.408235788345337)</td></tr><tr><td>506</td><td>List(1.4835288524627686, 1.7173058986663818, 3.130364179611206, 0.0, 4.80474853515625)</td></tr><tr><td>507</td><td>List(0.0, 3.677229166030884, 1.9974372386932373, 2.306919813156128, 3.5752713680267334)</td></tr><tr><td>508</td><td>List(2.9320027828216553, 3.441657304763794, 1.21309494972229, 2.89249587059021, 3.203437089920044)</td></tr><tr><td>509</td><td>List(1.6359388828277588, 3.346956729888916, 2.4346392154693604, 2.4644980430603027, 3.6557247638702393)</td></tr><tr><td>510</td><td>List(2.349506139755249, 4.461114406585693, 1.5049232244491577, 2.3565244674682617, 3.430919647216797)</td></tr><tr><td>511</td><td>List(0.0, 3.899289608001709, 2.059170961380005, 1.2713302373886108, 2.6345484256744385)</td></tr><tr><td>512</td><td>List(1.0338863134384155, 4.593416690826416, 0.0, 1.7335528135299683, 3.2894127368927)</td></tr><tr><td>513</td><td>List(1.752922773361206, 2.5395750999450684, 1.4501837491989136, 1.7451812028884888, 2.501478672027588)</td></tr><tr><td>514</td><td>List(0.7759097814559937, 1.5996264219284058, 2.607901096343994, 3.7653844356536865, 3.8680882453918457)</td></tr><tr><td>515</td><td>List(3.140268087387085, 4.0173773765563965, 3.128790855407715, 0.6960961222648621, 3.495122194290161)</td></tr><tr><td>516</td><td>List(1.5220634937286377, 3.7267229557037354, 2.643043279647827, 2.302525520324707, 3.5404701232910156)</td></tr><tr><td>517</td><td>List(3.1627197265625, 3.1748995780944824, 4.160962104797363, 1.8115720748901367, 1.9477884769439697)</td></tr><tr><td>518</td><td>List(3.861572504043579, 2.1222474575042725, 3.5370733737945557, 3.1918225288391113, 2.9139819145202637)</td></tr><tr><td>519</td><td>List(0.6445733308792114, 2.505126953125, 3.0930964946746826, 1.4954833984375, 2.7973358631134033)</td></tr><tr><td>520</td><td>List(3.212439775466919, 3.8898091316223145, 1.492998719215393, 0.9926663041114807, 3.8196475505828857)</td></tr><tr><td>521</td><td>List(3.2968087196350098, 2.947596788406372, 3.6568732261657715, 1.3540986776351929, 3.359672784805298)</td></tr><tr><td>522</td><td>List(2.750415325164795, 1.0669753551483154, 0.20286040008068085, 0.006969872396439314, 1.4279963970184326)</td></tr><tr><td>523</td><td>List(3.4163172245025635, 3.5646488666534424, 2.75836443901062, 1.851514458656311, 2.9406895637512207)</td></tr><tr><td>524</td><td>List(1.8439686298370361, 2.97994065284729, 2.8988070487976074, 1.6314597129821777, 2.5079736709594727)</td></tr><tr><td>525</td><td>List(2.362565517425537, 2.622478485107422, 2.2586214542388916, 2.20656681060791, 4.972723007202148)</td></tr><tr><td>526</td><td>List(0.0, 3.6213955879211426, 2.328281879425049, 2.849513530731201, 2.5062150955200195)</td></tr><tr><td>527</td><td>List(3.1546738147735596, 3.4802238941192627, 1.2905606031417847, 3.3030922412872314, 2.865896701812744)</td></tr><tr><td>528</td><td>List(3.3640401363372803, 3.0952556133270264, 2.3701980113983154, 2.6238462924957275, 1.8607261180877686)</td></tr><tr><td>529</td><td>List(2.4288291931152344, 2.8174774646759033, 2.733880043029785, 1.7146317958831787, 4.447254657745361)</td></tr><tr><td>530</td><td>List(0.7226002216339111, 5.349443435668945, 4.514443397521973, 1.7167071104049683, 1.7588967084884644)</td></tr><tr><td>531</td><td>List(3.667741537094116, 4.245200157165527, 2.1730916500091553, 0.0, 3.211764097213745)</td></tr><tr><td>532</td><td>List(2.647963047027588, 1.578202724456787, 2.46065616607666, 2.326132297515869, 4.0109992027282715)</td></tr><tr><td>533</td><td>List(0.3735305964946747, 3.117017984390259, 1.9647516012191772, 3.2680742740631104, 3.285214424133301)</td></tr><tr><td>534</td><td>List(1.1228113174438477, 0.0, 2.487358808517456, 0.6173757910728455, 1.0361992120742798)</td></tr><tr><td>535</td><td>List(1.761139988899231, 5.317282676696777, 1.7227048873901367, 1.5731672048568726, 4.1570868492126465)</td></tr><tr><td>536</td><td>List(1.4080984592437744, 3.044389247894287, 0.7611117959022522, 2.3999180793762207, 4.2258148193359375)</td></tr><tr><td>537</td><td>List(0.0, 1.865743637084961, 2.8686411380767822, 0.3493083119392395, 3.7670936584472656)</td></tr><tr><td>538</td><td>List(2.967271566390991, 2.76796817779541, 2.717231512069702, 1.2777421474456787, 2.1728601455688477)</td></tr><tr><td>539</td><td>List(2.954258918762207, 3.981827974319458, 3.582071542739868, 2.21601939201355, 2.167607545852661)</td></tr><tr><td>540</td><td>List(2.412447452545166, 4.043437480926514, 2.2841618061065674, 2.3794150352478027, 2.6651804447174072)</td></tr><tr><td>541</td><td>List(1.6659947633743286, 2.592512369155884, 3.3002922534942627, 1.5567903518676758, 1.7051862478256226)</td></tr><tr><td>542</td><td>List(4.689007759094238, 1.9854711294174194, 2.4641482830047607, 0.3131980895996094, 4.4362077713012695)</td></tr><tr><td>543</td><td>List(1.7391301393508911, 2.812354326248169, 2.5423362255096436, 1.8734931945800781, 4.243314743041992)</td></tr><tr><td>544</td><td>List(0.7296008467674255, 0.7848124504089355, 4.078526496887207, 2.5036089420318604, 1.589460849761963)</td></tr><tr><td>545</td><td>List(2.858464241027832, 2.682131052017212, 0.7869866490364075, 2.6865532398223877, 3.7208452224731445)</td></tr><tr><td>546</td><td>List(1.9485048055648804, 2.789870262145996, 4.173616886138916, 0.5790878534317017, 3.907395362854004)</td></tr><tr><td>547</td><td>List(2.004256010055542, 3.21637225151062, 3.1481258869171143, 1.884744644165039, 3.2094168663024902)</td></tr><tr><td>548</td><td>List(1.9878032207489014, 1.5000646114349365, 3.0386269092559814, 2.5840024948120117, 5.545658111572266)</td></tr><tr><td>549</td><td>List(2.5589611530303955, 4.526212215423584, 1.0941463708877563, 2.76484751701355, 3.8032212257385254)</td></tr><tr><td>550</td><td>List(1.704965591430664, 3.6123971939086914, 3.6330935955047607, 2.3309099674224854, 3.2016026973724365)</td></tr><tr><td>551</td><td>List(3.1225228309631348, 4.320693492889404, 2.632286787033081, 1.508890986442566, 3.6279196739196777)</td></tr><tr><td>552</td><td>List(1.5977481603622437, 3.8654346466064453, 1.7323063611984253, 2.8376753330230713, 3.2469539642333984)</td></tr><tr><td>553</td><td>List(2.3092851638793945, 3.7332258224487305, 2.426992893218994, 2.761173963546753, 3.982145309448242)</td></tr><tr><td>554</td><td>List(0.8398668169975281, 2.089730739593506, 1.092037320137024, 3.1479506492614746, 0.6944504380226135)</td></tr><tr><td>555</td><td>List(2.805154323577881, 3.980968713760376, 2.0780584812164307, 1.4655046463012695, 3.0404233932495117)</td></tr><tr><td>556</td><td>List(0.8931756615638733, 2.5799102783203125, 0.05957783758640289, 2.09909725189209, 3.8352315425872803)</td></tr><tr><td>557</td><td>List(2.811380624771118, 2.722623825073242, 3.496309280395508, 2.361591100692749, 3.6480159759521484)</td></tr><tr><td>558</td><td>List(0.9362382292747498, 4.450672626495361, 0.0, 1.931058406829834, 3.130511522293091)</td></tr><tr><td>559</td><td>List(1.9551283121109009, 3.700665235519409, 0.36360296607017517, 2.402653455734253, 3.0335280895233154)</td></tr><tr><td>560</td><td>List(1.7459747791290283, 3.8563263416290283, 1.6815967559814453, 2.0866167545318604, 4.545827388763428)</td></tr><tr><td>561</td><td>List(2.5632779598236084, 2.2758851051330566, 3.582615613937378, 2.982532262802124, 2.759880542755127)</td></tr><tr><td>562</td><td>List(2.999569892883301, 4.263486862182617, 3.513429880142212, 2.2678208351135254, 1.2971670627593994)</td></tr><tr><td>563</td><td>List(1.402820348739624, 2.5708131790161133, 3.846184730529785, 1.4846340417861938, 0.8783676028251648)</td></tr><tr><td>564</td><td>List(2.443528652191162, 3.3751933574676514, 5.179089546203613, 1.5397725105285645, 3.0041263103485107)</td></tr><tr><td>566</td><td>List(2.7865214347839355, 2.3346900939941406, 2.9679598808288574, 1.6975194215774536, 3.4823694229125977)</td></tr><tr><td>567</td><td>List(2.7097675800323486, 3.4956204891204834, 4.045807361602783, 1.8583413362503052, 2.7527966499328613)</td></tr><tr><td>568</td><td>List(3.2837884426116943, 4.587273597717285, 2.468682050704956, 1.2294138669967651, 4.502137184143066)</td></tr><tr><td>569</td><td>List(3.5779271125793457, 2.1922521591186523, 4.471376419067383, 1.1970964670181274, 2.334505558013916)</td></tr><tr><td>570</td><td>List(3.6485400199890137, 3.084914207458496, 1.337906002998352, 1.554878830909729, 1.6512036323547363)</td></tr><tr><td>571</td><td>List(1.517371416091919, 1.8278645277023315, 4.214778900146484, 2.624988317489624, 3.8869576454162598)</td></tr><tr><td>572</td><td>List(1.607620120048523, 3.02416729927063, 4.646736145019531, 2.976907730102539, 2.585411548614502)</td></tr><tr><td>573</td><td>List(1.2242815494537354, 6.0210957527160645, 1.3618457317352295, 0.9749435782432556, 1.4553322792053223)</td></tr><tr><td>574</td><td>List(3.1308975219726562, 3.3487675189971924, 5.090384006500244, 2.3333654403686523, 3.29986310005188)</td></tr><tr><td>575</td><td>List(2.7853949069976807, 3.3677752017974854, 0.0, 1.4827502965927124, 2.7817792892456055)</td></tr><tr><td>576</td><td>List(4.575616836547852, 4.735457420349121, 2.5834593772888184, 1.9138282537460327, 3.1696879863739014)</td></tr><tr><td>577</td><td>List(3.5600485801696777, 3.7431137561798096, 3.0370306968688965, 0.7579734921455383, 2.917915105819702)</td></tr><tr><td>578</td><td>List(2.6369805335998535, 2.36505126953125, 2.7410340309143066, 1.3044681549072266, 3.2193121910095215)</td></tr><tr><td>579</td><td>List(2.719470262527466, 4.069521427154541, 2.4248886108398438, 3.2701728343963623, 1.53036630153656)</td></tr><tr><td>580</td><td>List(2.9827990531921387, 2.611633539199829, 2.2113254070281982, 1.8075029850006104, 2.2303154468536377)</td></tr><tr><td>581</td><td>List(2.9928689002990723, 3.840902805328369, 1.349287509918213, 0.9286683797836304, 2.820300579071045)</td></tr><tr><td>582</td><td>List(3.282630205154419, 3.8420395851135254, 2.409769296646118, 3.2190539836883545, 3.808058023452759)</td></tr><tr><td>583</td><td>List(3.4703891277313232, 1.137630581855774, 2.513739824295044, 3.220932722091675, 3.8098552227020264)</td></tr><tr><td>584</td><td>List(1.561420202255249, 4.163055896759033, 1.080674409866333, 3.3408243656158447, 2.9825692176818848)</td></tr><tr><td>585</td><td>List(2.5865113735198975, 2.9178946018218994, 2.515652656555176, 1.339369773864746, 3.4387662410736084)</td></tr><tr><td>586</td><td>List(2.563124179840088, 3.6660449504852295, 2.8083488941192627, 3.0178465843200684, 2.651827096939087)</td></tr><tr><td>587</td><td>List(3.4777991771698, 3.8234031200408936, 4.4295830726623535, 3.0176351070404053, 2.9503719806671143)</td></tr><tr><td>588</td><td>List(0.05425412952899933, 4.797616481781006, 0.4857935607433319, 1.705054759979248, 4.072473526000977)</td></tr><tr><td>589</td><td>List(2.6201858520507812, 3.689331531524658, 0.9941763877868652, 1.1825875043869019, 4.173834323883057)</td></tr><tr><td>590</td><td>List(2.9515607357025146, 2.97880220413208, 1.7309268712997437, 2.9005236625671387, 4.353260517120361)</td></tr><tr><td>591</td><td>List(1.1275681257247925, 3.6117241382598877, 1.6984599828720093, 1.335806965827942, 4.932053565979004)</td></tr><tr><td>592</td><td>List(1.7407681941986084, 2.861328125, 2.1580450534820557, 0.9722518920898438, 3.03574538230896)</td></tr><tr><td>593</td><td>List(1.5370407104492188, 3.4742331504821777, 1.6800782680511475, 2.0482661724090576, 3.821356773376465)</td></tr><tr><td>594</td><td>List(0.40887463092803955, 0.49845272302627563, 2.65108585357666, 0.5461621284484863, 5.475081920623779)</td></tr><tr><td>595</td><td>List(1.6123716831207275, 1.6882524490356445, 4.199012756347656, 1.831761360168457, 3.4007997512817383)</td></tr><tr><td>596</td><td>List(0.38013577461242676, 5.063126087188721, 1.6138324737548828, 0.7989928722381592, 3.592019557952881)</td></tr><tr><td>597</td><td>List(1.421533465385437, 2.923992156982422, 2.3988900184631348, 2.4412689208984375, 4.281283855438232)</td></tr><tr><td>598</td><td>List(3.902963399887085, 0.9394946694374084, 1.6218680143356323, 2.816742420196533, 1.272877812385559)</td></tr><tr><td>599</td><td>List(1.9702996015548706, 3.4428157806396484, 0.6590573191642761, 1.9852076768875122, 3.8459784984588623)</td></tr><tr><td>600</td><td>List(2.1329004764556885, 2.9806230068206787, 3.6967830657958984, 2.4865305423736572, 4.330904960632324)</td></tr><tr><td>601</td><td>List(1.0213987827301025, 2.8020176887512207, 2.798844814300537, 1.864913821220398, 3.1195805072784424)</td></tr><tr><td>602</td><td>List(0.18530510365962982, 4.099574565887451, 3.0142834186553955, 0.8779135942459106, 2.5452351570129395)</td></tr><tr><td>603</td><td>List(1.849022626876831, 3.396091938018799, 0.3577265441417694, 2.39463472366333, 4.081969738006592)</td></tr><tr><td>604</td><td>List(2.666226387023926, 3.234199285507202, 3.2020263671875, 2.0247228145599365, 3.4294331073760986)</td></tr><tr><td>605</td><td>List(0.31728047132492065, 1.0540307760238647, 3.9405877590179443, 2.540570020675659, 2.432138204574585)</td></tr><tr><td>606</td><td>List(2.3979196548461914, 1.8677036762237549, 4.767919540405273, 1.0399577617645264, 1.612465739250183)</td></tr><tr><td>607</td><td>List(3.5106935501098633, 4.3090643882751465, 0.35775187611579895, 3.3018059730529785, 2.284935235977173)</td></tr><tr><td>608</td><td>List(0.3833247721195221, 3.611844539642334, 0.10509969294071198, 1.7603157758712769, 4.3586626052856445)</td></tr><tr><td>609</td><td>List(3.2895100116729736, 3.277977705001831, 2.882537841796875, 1.88243567943573, 2.679967164993286)</td></tr><tr><td>610</td><td>List(3.1904330253601074, 2.045635461807251, 2.948367118835449, 1.3067147731781006, 4.764770030975342)</td></tr><tr><td>611</td><td>List(1.4333099126815796, 3.8996083736419678, 2.2566890716552734, 1.0606387853622437, 2.3594424724578857)</td></tr><tr><td>612</td><td>List(0.6724055409431458, 4.460093975067139, 4.2066450119018555, 0.2186073511838913, 3.4542129039764404)</td></tr><tr><td>613</td><td>List(2.532120943069458, 3.1991186141967773, 3.936988353729248, 2.39132022857666, 3.3474299907684326)</td></tr><tr><td>614</td><td>List(0.2820485532283783, 3.476081132888794, 1.1291460990905762, 0.09913334995508194, 2.0808801651000977)</td></tr><tr><td>615</td><td>List(0.29634517431259155, 3.3206372261047363, 2.5195319652557373, 1.685826301574707, 4.870088577270508)</td></tr><tr><td>616</td><td>List(2.3458616733551025, 2.187385320663452, 4.0152153968811035, 1.47164785861969, 3.125474214553833)</td></tr><tr><td>617</td><td>List(0.2672927677631378, 1.4990460872650146, 3.90381121635437, 0.8162009119987488, 4.2893242835998535)</td></tr><tr><td>618</td><td>List(3.4932475090026855, 4.382415771484375, 1.5537928342819214, 0.0, 2.599304676055908)</td></tr><tr><td>619</td><td>List(3.5175344944000244, 4.78778600692749, 3.3699283599853516, 0.3472763001918793, 2.323651075363159)</td></tr><tr><td>620</td><td>List(3.100034236907959, 3.009232759475708, 1.9289374351501465, 1.3697011470794678, 3.6109659671783447)</td></tr><tr><td>621</td><td>List(2.658303737640381, 3.884394884109497, 2.3142035007476807, 2.3128347396850586, 3.6306140422821045)</td></tr><tr><td>622</td><td>List(0.7537040114402771, 2.326113224029541, 4.254035472869873, 2.218899965286255, 1.071563959121704)</td></tr><tr><td>623</td><td>List(2.563819408416748, 3.570782423019409, 2.4071061611175537, 1.4536290168762207, 3.094353437423706)</td></tr><tr><td>624</td><td>List(3.3117246627807617, 2.57258677482605, 5.493032455444336, 1.692706823348999, 2.626877784729004)</td></tr><tr><td>625</td><td>List(0.11543649435043335, 5.150883674621582, 2.6945159435272217, 1.5956480503082275, 5.367441177368164)</td></tr><tr><td>626</td><td>List(2.1437790393829346, 4.390504360198975, 1.5628451108932495, 2.7890968322753906, 2.0400397777557373)</td></tr><tr><td>627</td><td>List(1.8226263523101807, 3.1821794509887695, 1.4492827653884888, 2.932743787765503, 3.6453516483306885)</td></tr><tr><td>628</td><td>List(2.8626766204833984, 0.0, 5.962951183319092, 0.0, 0.0)</td></tr><tr><td>629</td><td>List(1.529284119606018, 3.9037609100341797, 0.4635167717933655, 2.8899776935577393, 3.7993693351745605)</td></tr><tr><td>630</td><td>List(2.324293613433838, 2.4464778900146484, 4.041864395141602, 2.6741647720336914, 2.469327449798584)</td></tr><tr><td>631</td><td>List(2.264932155609131, 2.5044937133789062, 3.5089049339294434, 2.6174795627593994, 1.642890453338623)</td></tr><tr><td>632</td><td>List(1.7407963275909424, 2.252974033355713, 1.0516672134399414, 3.5888748168945312, 3.2548861503601074)</td></tr><tr><td>633</td><td>List(1.9785109758377075, 4.411678314208984, 0.0, 0.0, 4.5556511878967285)</td></tr><tr><td>634</td><td>List(2.7138583660125732, 2.2933967113494873, 3.5748062133789062, 1.0071799755096436, 2.5547940731048584)</td></tr><tr><td>635</td><td>List(3.062706708908081, 2.2574095726013184, 1.3279902935028076, 3.56445574760437, 0.0)</td></tr><tr><td>636</td><td>List(2.3635711669921875, 2.9579579830169678, 2.3504586219787598, 1.883981704711914, 2.9083821773529053)</td></tr><tr><td>637</td><td>List(3.286224365234375, 3.7765769958496094, 1.8867214918136597, 0.0, 2.5754668712615967)</td></tr><tr><td>638</td><td>List(0.7304132580757141, 3.210329294204712, 3.609985113143921, 1.471017837524414, 4.978582382202148)</td></tr><tr><td>639</td><td>List(1.9009045362472534, 1.6634711027145386, 1.0100841522216797, 4.88795280456543, 1.1714460849761963)</td></tr><tr><td>640</td><td>List(3.4544966220855713, 2.9134397506713867, 2.491687774658203, 2.1297736167907715, 3.672459125518799)</td></tr><tr><td>641</td><td>List(2.788116693496704, 0.7223827242851257, 4.010299205780029, 1.858852505683899, 2.82672119140625)</td></tr><tr><td>642</td><td>List(1.6377350091934204, 2.088348150253296, 2.625596761703491, 2.0891640186309814, 4.312356948852539)</td></tr><tr><td>643</td><td>List(2.898730516433716, 3.9074342250823975, 3.023040294647217, 0.4511355757713318, 3.0275328159332275)</td></tr><tr><td>644</td><td>List(1.297229528427124, 2.6940207481384277, 2.9097392559051514, 2.5863454341888428, 4.064258098602295)</td></tr><tr><td>645</td><td>List(2.414897918701172, 2.43924617767334, 3.8094701766967773, 1.8662810325622559, 1.88020920753479)</td></tr><tr><td>646</td><td>List(0.2120911329984665, 4.353940963745117, 2.5078282356262207, 0.7314518094062805, 3.8543331623077393)</td></tr><tr><td>647</td><td>List(0.0, 5.0717082023620605, 3.719830274581909, 0.0, 2.5603268146514893)</td></tr><tr><td>648</td><td>List(3.3162968158721924, 2.907428503036499, 3.5909647941589355, 2.7882320880889893, 3.1635732650756836)</td></tr><tr><td>649</td><td>List(3.815436840057373, 3.652116537094116, 3.794276475906372, 1.8734633922576904, 2.980433464050293)</td></tr><tr><td>650</td><td>List(0.0, 4.120772838592529, 3.287351369857788, 1.699461579322815, 2.8202311992645264)</td></tr><tr><td>651</td><td>List(3.5817227363586426, 4.292901992797852, 2.3254354000091553, 0.9700713753700256, 2.662940502166748)</td></tr><tr><td>652</td><td>List(2.902405261993408, 2.524477005004883, 0.8182669281959534, 1.7639721632003784, 3.661320686340332)</td></tr><tr><td>653</td><td>List(1.632067322731018, 2.453569173812866, 2.001497507095337, 1.4750005006790161, 4.237755298614502)</td></tr><tr><td>654</td><td>List(0.32291796803474426, 4.512025356292725, 2.4711849689483643, 0.7214781045913696, 3.8817591667175293)</td></tr><tr><td>655</td><td>List(1.671360969543457, 3.5989768505096436, 3.6191229820251465, 3.1938135623931885, 3.860368013381958)</td></tr><tr><td>656</td><td>List(0.0, 2.9810473918914795, 3.680260419845581, 1.3287419080734253, 2.0778629779815674)</td></tr><tr><td>657</td><td>List(2.731938123703003, 3.8767404556274414, 2.3157832622528076, 1.8089569807052612, 3.1834912300109863)</td></tr><tr><td>658</td><td>List(0.0, 1.4736459255218506, 3.8979392051696777, 1.9231984615325928, 2.9260201454162598)</td></tr><tr><td>659</td><td>List(3.9906136989593506, 4.116335868835449, 3.397064447402954, 1.5349208116531372, 2.3166258335113525)</td></tr><tr><td>660</td><td>List(2.108276605606079, 4.087744235992432, 1.4890624284744263, 2.4714553356170654, 3.9397947788238525)</td></tr><tr><td>661</td><td>List(2.774718999862671, 0.0, 0.0, 0.0, 4.566169738769531)</td></tr><tr><td>662</td><td>List(1.3919368982315063, 2.136712074279785, 2.834444761276245, 1.0587033033370972, 2.83186411857605)</td></tr><tr><td>663</td><td>List(0.0, 3.645402193069458, 0.6136746406555176, 3.8001656532287598, 3.1668777465820312)</td></tr><tr><td>664</td><td>List(2.3471715450286865, 4.502500534057617, 1.4859131574630737, 2.0180065631866455, 3.4602601528167725)</td></tr><tr><td>665</td><td>List(1.5785071849822998, 3.734692096710205, 2.409817934036255, 2.6732609272003174, 4.304728031158447)</td></tr><tr><td>666</td><td>List(0.36757901310920715, 2.467155933380127, 3.6090822219848633, 2.848219156265259, 4.928117752075195)</td></tr><tr><td>667</td><td>List(2.6865592002868652, 2.9355146884918213, 2.4587509632110596, 2.133871078491211, 3.4086461067199707)</td></tr><tr><td>668</td><td>List(2.3174891471862793, 2.6912894248962402, 2.017197370529175, 2.6446077823638916, 3.9521164894104004)</td></tr><tr><td>669</td><td>List(1.256399154663086, 2.636174201965332, 2.4287097454071045, 1.9763286113739014, 2.436994791030884)</td></tr><tr><td>670</td><td>List(1.799013614654541, 2.729849338531494, 3.223715305328369, 2.672159194946289, 3.865825891494751)</td></tr><tr><td>671</td><td>List(4.210282802581787, 2.8226497173309326, 1.0352253913879395, 0.5340656042098999, 1.9216076135635376)</td></tr><tr><td>672</td><td>List(0.0, 0.0, 3.36783766746521, 0.0, 3.591334104537964)</td></tr><tr><td>673</td><td>List(3.4313669204711914, 2.744605541229248, 3.803086280822754, 1.1594122648239136, 2.762350082397461)</td></tr><tr><td>674</td><td>List(2.160536050796509, 3.3908979892730713, 1.8153185844421387, 2.8475844860076904, 3.9141831398010254)</td></tr><tr><td>675</td><td>List(6.055088043212891, 0.0, 0.0, 0.0, 0.0)</td></tr><tr><td>676</td><td>List(1.1099733114242554, 3.364731550216675, 4.871110916137695, 2.015085220336914, 2.95137095451355)</td></tr><tr><td>677</td><td>List(2.0772829055786133, 0.016601629555225372, 2.9768388271331787, 3.0612449645996094, 4.798571586608887)</td></tr><tr><td>678</td><td>List(3.1734230518341064, 4.768078804016113, 1.8099884986877441, 1.4583384990692139, 2.880624771118164)</td></tr><tr><td>679</td><td>List(0.4659368693828583, 0.2601183354854584, 0.2263844758272171, 2.9753952026367188, 0.5538729429244995)</td></tr><tr><td>680</td><td>List(2.6623027324676514, 2.6934027671813965, 2.5958070755004883, 3.4052445888519287, 4.294590950012207)</td></tr><tr><td>681</td><td>List(1.6349951028823853, 4.433478832244873, 1.6504062414169312, 2.9752259254455566, 3.5208375453948975)</td></tr><tr><td>682</td><td>List(4.26731014251709, 1.5638395547866821, 1.0518602132797241, 2.580139398574829, 3.9627139568328857)</td></tr><tr><td>683</td><td>List(3.486119270324707, 0.0, 1.6858034133911133, 3.482966899871826, 1.3514666557312012)</td></tr><tr><td>684</td><td>List(0.0, 6.579715728759766, 0.7865333557128906, 0.0, 0.0)</td></tr><tr><td>685</td><td>List(3.0436127185821533, 4.116763591766357, 4.5485076904296875, 1.3838051557540894, 3.0356807708740234)</td></tr><tr><td>686</td><td>List(1.7638272047042847, 3.353811025619507, 4.139765739440918, 0.8954213261604309, 2.71174955368042)</td></tr><tr><td>687</td><td>List(1.6117116212844849, 0.0, 2.3199639320373535, 4.588932037353516, 0.6315407156944275)</td></tr><tr><td>688</td><td>List(2.5240530967712402, 4.034459114074707, 2.6613049507141113, 1.1088205575942993, 1.3648508787155151)</td></tr><tr><td>690</td><td>List(2.700127363204956, 4.412694931030273, 0.5343263149261475, 0.7555044293403625, 3.2329046726226807)</td></tr><tr><td>691</td><td>List(0.5555018186569214, 5.14717960357666, 2.514381170272827, 3.197732448577881, 1.8838526010513306)</td></tr><tr><td>692</td><td>List(0.0, 4.4823126792907715, 1.9192776679992676, 1.7522950172424316, 3.577181577682495)</td></tr><tr><td>693</td><td>List(0.9481511116027832, 3.688009262084961, 2.9230847358703613, 2.4989044666290283, 2.0273983478546143)</td></tr><tr><td>694</td><td>List(3.1562392711639404, 2.6183457374572754, 5.398829936981201, 2.2167205810546875, 2.42059588432312)</td></tr><tr><td>695</td><td>List(1.516704797744751, 1.9657889604568481, 1.5471298694610596, 2.059431552886963, 3.0811610221862793)</td></tr><tr><td>696</td><td>List(2.2791645526885986, 1.7660845518112183, 3.2174806594848633, 1.6134165525436401, 4.468498229980469)</td></tr><tr><td>697</td><td>List(1.496446967124939, 3.4520764350891113, 2.437638759613037, 2.1039676666259766, 3.5460045337677)</td></tr><tr><td>698</td><td>List(3.3926689624786377, 2.6118266582489014, 3.9192864894866943, 1.0615410804748535, 2.415534019470215)</td></tr><tr><td>699</td><td>List(2.0363597869873047, 2.4362802505493164, 0.5232505798339844, 1.2604594230651855, 3.228133201599121)</td></tr><tr><td>700</td><td>List(5.2021918296813965, 1.7663750648498535, 0.0, 1.2289584875106812, 6.865795612335205)</td></tr><tr><td>701</td><td>List(0.2921611964702606, 3.098494052886963, 2.3122947216033936, 2.012708902359009, 4.260960102081299)</td></tr><tr><td>702</td><td>List(2.633410692214966, 2.839442491531372, 2.6047451496124268, 3.1829793453216553, 4.498638153076172)</td></tr><tr><td>703</td><td>List(3.5982697010040283, 4.0084919929504395, 0.5749583840370178, 0.5373044610023499, 4.851323127746582)</td></tr><tr><td>704</td><td>List(2.7597858905792236, 4.610030174255371, 3.865319013595581, 1.958945870399475, 1.8214240074157715)</td></tr><tr><td>705</td><td>List(3.2030904293060303, 1.6969597339630127, 2.8873236179351807, 3.435331344604492, 3.258993625640869)</td></tr><tr><td>706</td><td>List(3.397280693054199, 2.3731133937835693, 2.8838329315185547, 1.3652855157852173, 3.828200340270996)</td></tr><tr><td>707</td><td>List(1.2283447980880737, 3.374743700027466, 1.0979549884796143, 3.3633573055267334, 3.6804611682891846)</td></tr><tr><td>708</td><td>List(2.083495855331421, 2.5030901432037354, 2.44169282913208, 2.497548818588257, 4.283337116241455)</td></tr><tr><td>709</td><td>List(0.12406298518180847, 3.047208309173584, 2.7913506031036377, 5.61027193069458, 1.270803689956665)</td></tr><tr><td>710</td><td>List(1.8812792301177979, 3.9110634326934814, 2.278820037841797, 2.4656002521514893, 3.05942964553833)</td></tr><tr><td>711</td><td>List(2.5280637741088867, 2.939997673034668, 2.916022777557373, 1.3455579280853271, 4.003757476806641)</td></tr><tr><td>712</td><td>List(3.6233625411987305, 4.506709098815918, 2.4923105239868164, 1.3835238218307495, 3.8746657371520996)</td></tr><tr><td>713</td><td>List(2.3532323837280273, 3.3907978534698486, 0.2795432209968567, 1.8393760919570923, 3.958402395248413)</td></tr><tr><td>714</td><td>List(2.266223669052124, 3.071751832962036, 0.0, 1.932116985321045, 4.52411413192749)</td></tr><tr><td>715</td><td>List(1.3378585577011108, 2.9041106700897217, 5.688885688781738, 3.3462767601013184, 3.66882586479187)</td></tr><tr><td>716</td><td>List(2.098487377166748, 3.7928173542022705, 3.044123888015747, 2.5106329917907715, 3.1152503490448)</td></tr><tr><td>717</td><td>List(1.4201058149337769, 2.8746142387390137, 3.3336446285247803, 3.1900415420532227, 3.7913191318511963)</td></tr><tr><td>718</td><td>List(0.0, 3.241874933242798, 4.3076324462890625, 2.063044786453247, 4.51373291015625)</td></tr><tr><td>719</td><td>List(1.8457000255584717, 3.3377490043640137, 2.7462446689605713, 1.7499353885650635, 3.4778997898101807)</td></tr><tr><td>720</td><td>List(3.53818941116333, 0.0, 2.426021099090576, 1.3590902090072632, 3.1834657192230225)</td></tr><tr><td>721</td><td>List(1.0358096361160278, 3.050004243850708, 1.416495680809021, 3.303384780883789, 3.921851873397827)</td></tr><tr><td>722</td><td>List(3.022796630859375, 4.711248397827148, 0.6356564164161682, 2.035403251647949, 1.8030524253845215)</td></tr><tr><td>723</td><td>List(0.2718585431575775, 5.770603656768799, 0.6725091934204102, 0.5833070278167725, 2.1120145320892334)</td></tr><tr><td>724</td><td>List(1.437400460243225, 4.338141441345215, 3.0286574363708496, 2.5398142337799072, 4.375785827636719)</td></tr><tr><td>725</td><td>List(1.525371789932251, 0.9425197243690491, 0.38879847526550293, 3.4983980655670166, 3.936319351196289)</td></tr><tr><td>726</td><td>List(2.772315263748169, 2.5380616188049316, 3.5305674076080322, 2.3653464317321777, 2.0132439136505127)</td></tr><tr><td>727</td><td>List(2.5170695781707764, 2.7513394355773926, 1.4629175662994385, 1.4611018896102905, 4.109347820281982)</td></tr><tr><td>728</td><td>List(2.521674633026123, 2.879883289337158, 1.9183473587036133, 2.997830390930176, 4.146045207977295)</td></tr><tr><td>729</td><td>List(2.602128028869629, 3.8267457485198975, 3.0372304916381836, 1.9449812173843384, 3.7868287563323975)</td></tr><tr><td>730</td><td>List(0.88985675573349, 3.10933518409729, 2.523738384246826, 2.405629873275757, 2.363023042678833)</td></tr><tr><td>731</td><td>List(1.6438018083572388, 4.202322006225586, 1.7606626749038696, 2.821460247039795, 2.5689895153045654)</td></tr><tr><td>732</td><td>List(1.3853713274002075, 4.321306228637695, 2.4175338745117188, 3.3389222621917725, 3.4737637042999268)</td></tr><tr><td>733</td><td>List(1.7090137004852295, 3.407719135284424, 4.204887866973877, 0.21393854916095734, 4.57594633102417)</td></tr><tr><td>734</td><td>List(2.276219367980957, 2.015272617340088, 3.283076286315918, 2.6871607303619385, 3.7363827228546143)</td></tr><tr><td>735</td><td>List(2.8079426288604736, 0.47573354840278625, 5.295304775238037, 0.6251202821731567, 1.207900047302246)</td></tr><tr><td>736</td><td>List(1.6979901790618896, 2.099625825881958, 4.8181281089782715, 1.5996519327163696, 4.471893787384033)</td></tr><tr><td>737</td><td>List(0.9370797276496887, 3.5985615253448486, 6.4560346603393555, 0.7507108449935913, 0.0)</td></tr><tr><td>738</td><td>List(1.5113695859909058, 3.6515886783599854, 1.2377114295959473, 2.5396275520324707, 2.9367072582244873)</td></tr><tr><td>739</td><td>List(2.2324695587158203, 3.958543300628662, 2.4988393783569336, 1.4973419904708862, 3.8751187324523926)</td></tr><tr><td>740</td><td>List(2.22220778465271, 5.188007831573486, 1.748891830444336, 0.9153586626052856, 2.6995036602020264)</td></tr><tr><td>741</td><td>List(2.198504686355591, 3.499454975128174, 3.5605461597442627, 2.342951774597168, 2.336665630340576)</td></tr><tr><td>742</td><td>List(2.986985206604004, 4.223118305206299, 1.8466717004776, 1.355846643447876, 4.117776870727539)</td></tr><tr><td>743</td><td>List(2.199052095413208, 1.754117727279663, 3.4136335849761963, 0.17677198350429535, 0.8230754733085632)</td></tr><tr><td>744</td><td>List(2.06462025642395, 2.940688371658325, 2.2138583660125732, 1.5498008728027344, 3.830375909805298)</td></tr><tr><td>745</td><td>List(1.8436012268066406, 2.420114040374756, 1.6523497104644775, 2.743905782699585, 4.404438495635986)</td></tr><tr><td>746</td><td>List(2.9858169555664062, 3.589148759841919, 4.62131929397583, 1.6434307098388672, 2.4826838970184326)</td></tr><tr><td>747</td><td>List(0.20852895081043243, 3.633965492248535, 3.172689437866211, 1.7538584470748901, 3.737114429473877)</td></tr><tr><td>748</td><td>List(2.9170002937316895, 4.281670093536377, 1.175736904144287, 1.7725818157196045, 3.5119264125823975)</td></tr><tr><td>749</td><td>List(0.7679950594902039, 2.547950267791748, 1.0093071460723877, 3.705214023590088, 3.2400684356689453)</td></tr><tr><td>750</td><td>List(1.9808040857315063, 3.4941563606262207, 0.38796907663345337, 2.2616310119628906, 3.457141876220703)</td></tr><tr><td>751</td><td>List(3.9055657386779785, 3.471590518951416, 3.2011189460754395, 1.5438902378082275, 3.0077457427978516)</td></tr><tr><td>752</td><td>List(2.8604938983917236, 3.4887630939483643, 2.654522657394409, 2.046553373336792, 4.452301025390625)</td></tr><tr><td>753</td><td>List(0.947051465511322, 3.468771457672119, 2.309919834136963, 0.0, 1.6104090213775635)</td></tr><tr><td>754</td><td>List(3.5674502849578857, 1.9711068868637085, 1.8958879709243774, 2.0440077781677246, 2.8521296977996826)</td></tr><tr><td>755</td><td>List(3.0102884769439697, 3.204742193222046, 0.9667049646377563, 1.2800062894821167, 4.225065231323242)</td></tr><tr><td>756</td><td>List(0.901724100112915, 5.3480634689331055, 0.8251596093177795, 0.4403556287288666, 4.212094783782959)</td></tr><tr><td>757</td><td>List(2.852675676345825, 3.177659273147583, 2.981623411178589, 0.9105584025382996, 3.5519301891326904)</td></tr><tr><td>758</td><td>List(2.3959810733795166, 3.9328408241271973, 2.416050434112549, 2.847383975982666, 3.6631362438201904)</td></tr><tr><td>759</td><td>List(0.31677770614624023, 3.406818151473999, 2.3376989364624023, 2.688542604446411, 4.391539096832275)</td></tr><tr><td>760</td><td>List(2.2831103801727295, 3.0401363372802734, 5.396647930145264, 2.479370355606079, 2.01226806640625)</td></tr><tr><td>761</td><td>List(0.8689134120941162, 3.955613851547241, 4.586359024047852, 3.0505990982055664, 0.0)</td></tr><tr><td>762</td><td>List(0.552311360836029, 3.139554977416992, 2.5753538608551025, 1.739473819732666, 3.510338068008423)</td></tr><tr><td>763</td><td>List(0.9761559367179871, 3.0797643661499023, 2.5769879817962646, 1.828670859336853, 3.6632986068725586)</td></tr><tr><td>764</td><td>List(0.8397615551948547, 2.584651231765747, 0.49869871139526367, 2.7642126083374023, 3.6453986167907715)</td></tr><tr><td>765</td><td>List(1.9176253080368042, 2.430220603942871, 2.385284423828125, 2.76934552192688, 4.328514099121094)</td></tr><tr><td>766</td><td>List(1.0309514999389648, 1.2978339195251465, 3.8980119228363037, 2.8012893199920654, 3.1374502182006836)</td></tr><tr><td>767</td><td>List(1.9049086570739746, 3.471053123474121, 3.0818021297454834, 2.7903037071228027, 2.4301674365997314)</td></tr><tr><td>768</td><td>List(2.490448236465454, 3.2316648960113525, 1.7909976243972778, 2.365612268447876, 2.679175853729248)</td></tr><tr><td>769</td><td>List(1.7789546251296997, 3.1238441467285156, 3.813988447189331, 2.131310224533081, 2.1037230491638184)</td></tr><tr><td>770</td><td>List(1.5590641498565674, 2.0719940662384033, 2.314685106277466, 2.2834856510162354, 3.4749159812927246)</td></tr><tr><td>771</td><td>List(1.023921012878418, 0.3717806041240692, 0.46055126190185547, 2.7428433895111084, 4.922444820404053)</td></tr><tr><td>772</td><td>List(2.614380359649658, 1.9476474523544312, 3.783616065979004, 1.7862238883972168, 3.5288166999816895)</td></tr><tr><td>773</td><td>List(1.1489938497543335, 3.8598248958587646, 2.4040818214416504, 1.873907208442688, 3.8867619037628174)</td></tr><tr><td>774</td><td>List(1.6255066394805908, 3.343533515930176, 3.690744161605835, 2.6979219913482666, 2.676840305328369)</td></tr><tr><td>775</td><td>List(3.2896194458007812, 3.099184989929199, 1.0023576021194458, 2.149221658706665, 3.217205047607422)</td></tr><tr><td>776</td><td>List(2.470271348953247, 2.218198537826538, 3.101450204849243, 2.56819486618042, 3.6133010387420654)</td></tr><tr><td>777</td><td>List(2.0180745124816895, 2.897550106048584, 2.9980127811431885, 4.378531455993652, 4.849429607391357)</td></tr><tr><td>778</td><td>List(2.186840772628784, 4.227963447570801, 2.1666924953460693, 1.1707407236099243, 3.219332695007324)</td></tr><tr><td>779</td><td>List(0.8674225807189941, 3.414712905883789, 1.652450442314148, 0.7906104922294617, 2.76248836517334)</td></tr><tr><td>780</td><td>List(1.669524073600769, 3.1516335010528564, 5.533636569976807, 1.1287271976470947, 2.4560956954956055)</td></tr><tr><td>781</td><td>List(0.9272107481956482, 4.126205921173096, 2.3908631801605225, 3.4055278301239014, 3.624952554702759)</td></tr><tr><td>782</td><td>List(2.3252971172332764, 3.5995280742645264, 3.42716908454895, 2.444418430328369, 3.8714990615844727)</td></tr><tr><td>783</td><td>List(0.002228856086730957, 3.686396837234497, 2.7513272762298584, 1.5755459070205688, 3.418107748031616)</td></tr><tr><td>784</td><td>List(1.556217908859253, 3.25337553024292, 2.931408166885376, 3.2291340827941895, 3.6132102012634277)</td></tr><tr><td>785</td><td>List(0.10447682440280914, 2.8105874061584473, 0.9167085886001587, 4.925179481506348, 4.256911754608154)</td></tr><tr><td>786</td><td>List(2.31610369682312, 1.1116851568222046, 2.66870379447937, 1.579228162765503, 5.197782516479492)</td></tr><tr><td>787</td><td>List(2.505858898162842, 3.167994737625122, 3.1587326526641846, 2.773770570755005, 2.9858622550964355)</td></tr><tr><td>788</td><td>List(2.398352861404419, 3.6257665157318115, 3.630309581756592, 2.8371663093566895, 3.1579391956329346)</td></tr><tr><td>789</td><td>List(2.3964452743530273, 3.5430173873901367, 0.0, 0.29947078227996826, 2.0671896934509277)</td></tr><tr><td>790</td><td>List(2.1644346714019775, 3.7291293144226074, 2.5908267498016357, 1.405690312385559, 2.8283751010894775)</td></tr><tr><td>791</td><td>List(1.934717059135437, 3.3452417850494385, 1.572034239768982, 1.319052815437317, 3.740607261657715)</td></tr><tr><td>792</td><td>List(2.0099737644195557, 3.082178831100464, 4.11929988861084, 1.8031636476516724, 3.744044303894043)</td></tr><tr><td>793</td><td>List(2.847429037094116, 4.068562030792236, 0.5525741577148438, 1.1731970310211182, 1.910902738571167)</td></tr><tr><td>794</td><td>List(2.4619662761688232, 3.501997709274292, 0.10678349435329437, 2.4566149711608887, 2.2392868995666504)</td></tr><tr><td>795</td><td>List(3.4353671073913574, 2.4425811767578125, 3.7225332260131836, 2.4072964191436768, 3.374915838241577)</td></tr><tr><td>796</td><td>List(0.6274163722991943, 5.361948490142822, 3.030364990234375, 2.7700459957122803, 2.980928897857666)</td></tr><tr><td>797</td><td>List(1.3429639339447021, 3.298381805419922, 2.491227388381958, 2.1576640605926514, 3.4784226417541504)</td></tr><tr><td>798</td><td>List(0.9050969481468201, 3.055316686630249, 2.5180931091308594, 3.587663173675537, 1.4706850051879883)</td></tr><tr><td>799</td><td>List(1.9175046682357788, 2.1950724124908447, 2.606635093688965, 3.8602850437164307, 3.5404813289642334)</td></tr><tr><td>800</td><td>List(2.187648057937622, 3.9626688957214355, 0.0, 2.7510998249053955, 2.64219331741333)</td></tr><tr><td>801</td><td>List(1.8843779563903809, 3.236361503601074, 3.417910099029541, 3.6321043968200684, 3.085184097290039)</td></tr><tr><td>802</td><td>List(0.0, 5.518462181091309, 0.6179792881011963, 0.0, 1.126806616783142)</td></tr><tr><td>803</td><td>List(2.132042407989502, 2.7615020275115967, 1.9576232433319092, 2.1721408367156982, 1.2110663652420044)</td></tr><tr><td>804</td><td>List(2.0706827640533447, 1.890586256980896, 2.645883083343506, 3.4875433444976807, 3.7693979740142822)</td></tr><tr><td>805</td><td>List(3.445800542831421, 3.8838372230529785, 3.154613733291626, 0.5719506740570068, 2.262873411178589)</td></tr><tr><td>806</td><td>List(3.295748710632324, 1.764681339263916, 0.7222276926040649, 2.08286190032959, 4.0357489585876465)</td></tr><tr><td>807</td><td>List(1.7634845972061157, 4.098323822021484, 1.97577965259552, 2.089280128479004, 4.04075288772583)</td></tr><tr><td>808</td><td>List(2.5028116703033447, 4.1461310386657715, 2.0672473907470703, 3.0528948307037354, 4.560648441314697)</td></tr><tr><td>809</td><td>List(2.904158592224121, 5.414000988006592, 2.4345827102661133, 1.8443559408187866, 0.6073616147041321)</td></tr><tr><td>810</td><td>List(1.8770906925201416, 2.70216703414917, 2.9182398319244385, 2.5235421657562256, 2.8650431632995605)</td></tr><tr><td>811</td><td>List(0.843243420124054, 5.592288970947266, 2.1350178718566895, 1.1976563930511475, 3.415485143661499)</td></tr><tr><td>812</td><td>List(1.1437511444091797, 4.47835111618042, 0.10219227522611618, 3.167773962020874, 4.149716854095459)</td></tr><tr><td>813</td><td>List(2.387589693069458, 3.006552219390869, 0.0, 2.2309844493865967, 5.416332721710205)</td></tr><tr><td>814</td><td>List(1.8371862173080444, 3.9155356884002686, 2.3947346210479736, 1.1913275718688965, 2.562609910964966)</td></tr><tr><td>815</td><td>List(2.0081701278686523, 3.405695915222168, 1.9410873651504517, 1.8733303546905518, 3.6362037658691406)</td></tr><tr><td>816</td><td>List(0.33082184195518494, 3.2630627155303955, 1.5322288274765015, 2.8185317516326904, 5.042461395263672)</td></tr><tr><td>817</td><td>List(3.520689010620117, 0.5244166254997253, 2.7072601318359375, 0.17186401784420013, 1.8134019374847412)</td></tr><tr><td>818</td><td>List(1.8952611684799194, 3.3380837440490723, 2.5894322395324707, 2.1338744163513184, 3.6429615020751953)</td></tr><tr><td>819</td><td>List(1.2067538499832153, 3.4738128185272217, 1.8737789392471313, 2.8679771423339844, 5.292757511138916)</td></tr><tr><td>820</td><td>List(3.1024162769317627, 3.1192994117736816, 2.099379301071167, 3.2449698448181152, 3.9786036014556885)</td></tr><tr><td>821</td><td>List(0.7732819318771362, 1.292271375656128, 3.0428645610809326, 2.479779005050659, 4.576024055480957)</td></tr><tr><td>822</td><td>List(3.364630937576294, 4.1361002922058105, 2.8456671237945557, 2.160573959350586, 3.3622918128967285)</td></tr><tr><td>823</td><td>List(5.231165409088135, 2.1835806369781494, 4.471024513244629, 3.2209224700927734, 0.0)</td></tr><tr><td>824</td><td>List(1.789520025253296, 4.326530933380127, 1.7779498100280762, 2.284255266189575, 4.120672702789307)</td></tr><tr><td>825</td><td>List(1.8522824048995972, 4.9106245040893555, 1.512073278427124, 0.0, 3.062290906906128)</td></tr><tr><td>826</td><td>List(2.5511813163757324, 4.483083724975586, 2.7115797996520996, 2.1653900146484375, 3.9270570278167725)</td></tr><tr><td>827</td><td>List(1.7600282430648804, 4.33182430267334, 0.0, 0.5779016613960266, 3.801351547241211)</td></tr><tr><td>828</td><td>List(3.041734457015991, 3.6259288787841797, 2.320870876312256, 2.0746190547943115, 3.041527509689331)</td></tr><tr><td>829</td><td>List(3.9165947437286377, 2.2658023834228516, 1.587265133857727, 0.9628605842590332, 2.12113618850708)</td></tr><tr><td>830</td><td>List(0.2798689305782318, 3.047487735748291, 4.148467540740967, 3.6735198497772217, 3.230750799179077)</td></tr><tr><td>831</td><td>List(1.7618969678878784, 4.075653076171875, 3.8084170818328857, 3.1154770851135254, 2.3576669692993164)</td></tr><tr><td>832</td><td>List(0.5323130488395691, 2.489140272140503, 2.2912073135375977, 0.8661347031593323, 0.0)</td></tr><tr><td>833</td><td>List(1.9299769401550293, 3.8990180492401123, 1.5942541360855103, 0.32705214619636536, 3.2677409648895264)</td></tr><tr><td>834</td><td>List(2.194674491882324, 4.043541431427002, 1.0581022500991821, 0.0, 4.5200066566467285)</td></tr><tr><td>835</td><td>List(3.2342309951782227, 3.5878708362579346, 3.7124826908111572, 2.5870587825775146, 3.084066390991211)</td></tr><tr><td>836</td><td>List(2.172926902770996, 3.9941937923431396, 2.9686410427093506, 2.358901023864746, 3.5110414028167725)</td></tr><tr><td>837</td><td>List(1.9616219997406006, 4.611078262329102, 3.900867223739624, 1.1953855752944946, 3.4646239280700684)</td></tr><tr><td>838</td><td>List(0.0, 0.688038170337677, 1.5476292371749878, 0.8079432845115662, 5.411241054534912)</td></tr><tr><td>839</td><td>List(0.6227935552597046, 3.9358997344970703, 2.925405979156494, 1.163343906402588, 4.846355438232422)</td></tr><tr><td>840</td><td>List(5.299761772155762, 1.2017744779586792, 0.0, 2.5908148288726807, 2.699396848678589)</td></tr><tr><td>841</td><td>List(1.112930178642273, 3.6142725944519043, 5.11165714263916, 1.0195032358169556, 3.2773051261901855)</td></tr><tr><td>842</td><td>List(1.9487382173538208, 4.095705032348633, 3.2080492973327637, 1.4700615406036377, 2.3880014419555664)</td></tr><tr><td>843</td><td>List(1.390936017036438, 3.2766737937927246, 1.0302038192749023, 2.393099546432495, 4.981956481933594)</td></tr><tr><td>844</td><td>List(4.636040687561035, 2.495772123336792, 0.0, 3.2229135036468506, 2.9103598594665527)</td></tr><tr><td>845</td><td>List(2.7657406330108643, 1.2624422311782837, 3.560891628265381, 1.1931030750274658, 5.310897350311279)</td></tr><tr><td>846</td><td>List(0.7965564727783203, 4.857907772064209, 1.2030524015426636, 3.864671230316162, 0.9081041216850281)</td></tr><tr><td>847</td><td>List(3.7320704460144043, 0.755985677242279, 1.7913252115249634, 2.3258988857269287, 3.974661350250244)</td></tr><tr><td>848</td><td>List(3.209545135498047, 3.8251988887786865, 4.014042854309082, 1.68295419216156, 2.9590723514556885)</td></tr><tr><td>849</td><td>List(2.1842527389526367, 2.94415545463562, 2.3300416469573975, 1.4072710275650024, 3.3540878295898438)</td></tr><tr><td>850</td><td>List(3.3629870414733887, 0.0, 2.066025733947754, 1.1268730163574219, 5.272851943969727)</td></tr><tr><td>851</td><td>List(1.9248145818710327, 2.9090938568115234, 3.209627151489258, 2.4250407218933105, 3.2598700523376465)</td></tr><tr><td>852</td><td>List(4.834192276000977, 2.1199350357055664, 3.74277663230896, 2.773038387298584, 2.173945903778076)</td></tr><tr><td>853</td><td>List(3.439037799835205, 2.947124719619751, 2.5742251873016357, 2.0015790462493896, 3.993565797805786)</td></tr><tr><td>854</td><td>List(2.3831448554992676, 2.9885380268096924, 1.8631709814071655, 1.511894941329956, 4.625755310058594)</td></tr><tr><td>855</td><td>List(0.0, 1.9967514276504517, 2.149596929550171, 1.1985167264938354, 1.4198797941207886)</td></tr><tr><td>856</td><td>List(3.1953771114349365, 3.7038464546203613, 0.9691405892372131, 2.1493606567382812, 3.2558035850524902)</td></tr><tr><td>857</td><td>List(2.415633201599121, 2.3413350582122803, 3.707183599472046, 0.21669058501720428, 2.444600820541382)</td></tr><tr><td>858</td><td>List(1.6455872058868408, 2.5759425163269043, 3.6162633895874023, 1.4284569025039673, 4.791943550109863)</td></tr><tr><td>859</td><td>List(0.2456682026386261, 2.6093268394470215, 2.5151937007904053, 2.195641040802002, 3.4357283115386963)</td></tr><tr><td>860</td><td>List(1.6260762214660645, 4.34282112121582, 2.1926887035369873, 1.8290530443191528, 3.3521854877471924)</td></tr><tr><td>861</td><td>List(1.9766249656677246, 2.9989371299743652, 3.808295249938965, 2.4129037857055664, 2.0994436740875244)</td></tr><tr><td>862</td><td>List(2.932553291320801, 1.137362003326416, 5.5425543785095215, 0.8288866281509399, 1.1691533327102661)</td></tr><tr><td>863</td><td>List(1.9729900360107422, 2.9830102920532227, 2.911658525466919, 2.6444969177246094, 3.653761863708496)</td></tr><tr><td>864</td><td>List(1.980420708656311, 2.85874080657959, 3.1736347675323486, 2.396322250366211, 2.975372076034546)</td></tr><tr><td>865</td><td>List(1.413435935974121, 1.6800905466079712, 3.749826431274414, 0.7860485315322876, 5.635547637939453)</td></tr><tr><td>866</td><td>List(0.0, 4.2510528564453125, 3.03678297996521, 0.0, 3.794339656829834)</td></tr><tr><td>867</td><td>List(1.4933271408081055, 3.1696574687957764, 0.0, 1.6158761978149414, 3.661628246307373)</td></tr><tr><td>868</td><td>List(2.452208995819092, 4.489503860473633, 3.136235475540161, 0.4133881628513336, 3.1593363285064697)</td></tr><tr><td>869</td><td>List(1.7385681867599487, 2.9208481311798096, 2.983905553817749, 2.230154275894165, 3.727989673614502)</td></tr><tr><td>870</td><td>List(1.1479674577713013, 3.9812960624694824, 1.4817255735397339, 0.28009432554244995, 2.8303725719451904)</td></tr><tr><td>871</td><td>List(3.154273271560669, 2.7946279048919678, 4.569493293762207, 3.6452856063842773, 2.714184284210205)</td></tr><tr><td>872</td><td>List(4.95672607421875, 1.1655224561691284, 5.1015400886535645, 0.39151427149772644, 2.1101672649383545)</td></tr><tr><td>873</td><td>List(2.0780279636383057, 1.927674651145935, 3.023416757583618, 1.9798868894577026, 5.2789459228515625)</td></tr><tr><td>874</td><td>List(2.801689386367798, 2.0208990573883057, 1.9579992294311523, 1.9580504894256592, 3.2069733142852783)</td></tr><tr><td>875</td><td>List(0.0, 3.4966928958892822, 2.377291202545166, 2.855933904647827, 3.788891315460205)</td></tr><tr><td>876</td><td>List(1.1800620555877686, 1.7718383073806763, 3.905146598815918, 3.0810060501098633, 3.481879711151123)</td></tr><tr><td>877</td><td>List(3.434457540512085, 3.897223472595215, 3.2673566341400146, 1.313381314277649, 3.8456130027770996)</td></tr><tr><td>878</td><td>List(0.0, 2.7768044471740723, 1.1061155796051025, 0.0, 6.934996604919434)</td></tr><tr><td>879</td><td>List(0.12230421602725983, 4.039781093597412, 1.6124528646469116, 2.521843910217285, 4.561789035797119)</td></tr><tr><td>880</td><td>List(0.24116258323192596, 0.4786297082901001, 0.32652416825294495, 0.18578402698040009, 0.41200295090675354)</td></tr><tr><td>881</td><td>List(2.372584819793701, 3.574810028076172, 1.1474884748458862, 1.6620967388153076, 3.839343547821045)</td></tr><tr><td>882</td><td>List(1.0613759756088257, 3.775827407836914, 2.8675479888916016, 1.3867436647415161, 3.3085172176361084)</td></tr><tr><td>883</td><td>List(2.3672659397125244, 2.5609130859375, 5.738903522491455, 2.8077290058135986, 1.6916311979293823)</td></tr><tr><td>884</td><td>List(2.8336002826690674, 1.4073660373687744, 2.5065836906433105, 2.103642702102661, 3.6291987895965576)</td></tr><tr><td>885</td><td>List(1.6580796241760254, 3.3540232181549072, 1.2709764242172241, 2.7597603797912598, 2.892076015472412)</td></tr><tr><td>886</td><td>List(2.7188990116119385, 2.332808017730713, 4.691402435302734, 1.9497849941253662, 3.63985013961792)</td></tr><tr><td>887</td><td>List(1.2743266820907593, 3.2004449367523193, 3.6271378993988037, 3.8807880878448486, 0.9609021544456482)</td></tr><tr><td>888</td><td>List(0.8278977274894714, 4.71566915512085, 2.6288516521453857, 2.1290175914764404, 3.425994396209717)</td></tr><tr><td>889</td><td>List(2.465391159057617, 3.621415138244629, 2.2560389041900635, 1.686254620552063, 3.435011386871338)</td></tr><tr><td>890</td><td>List(2.694011688232422, 3.167682647705078, 2.3852286338806152, 0.9931037425994873, 2.893033742904663)</td></tr><tr><td>891</td><td>List(1.7063616514205933, 3.1804769039154053, 1.7391695976257324, 3.221219539642334, 3.4857797622680664)</td></tr><tr><td>892</td><td>List(1.6161082983016968, 4.3776044845581055, 2.685389518737793, 2.2570953369140625, 3.9448814392089844)</td></tr><tr><td>893</td><td>List(1.946362853050232, 3.58109188079834, 3.1144659519195557, 2.609520435333252, 3.9902853965759277)</td></tr><tr><td>894</td><td>List(2.7843596935272217, 3.665680408477783, 0.0, 2.561647653579712, 1.958626389503479)</td></tr><tr><td>895</td><td>List(1.3591229915618896, 3.7243783473968506, 1.9071011543273926, 1.0867938995361328, 4.777000427246094)</td></tr><tr><td>896</td><td>List(1.5883322954177856, 3.535820960998535, 1.471146583557129, 1.3850229978561401, 4.056487083435059)</td></tr><tr><td>897</td><td>List(4.450583457946777, 4.687401294708252, 3.1365604400634766, 0.08513171225786209, 4.461643695831299)</td></tr><tr><td>898</td><td>List(1.2012526988983154, 3.248936891555786, 3.2867181301116943, 4.07248067855835, 3.596378803253174)</td></tr><tr><td>899</td><td>List(1.3634488582611084, 3.7712526321411133, 2.809096574783325, 1.126794457435608, 4.773054599761963)</td></tr><tr><td>900</td><td>List(4.206075191497803, 2.883044958114624, 4.640985488891602, 0.04482158645987511, 4.408415794372559)</td></tr><tr><td>901</td><td>List(2.3509068489074707, 1.0720224380493164, 1.7819960117340088, 1.9839677810668945, 3.786762237548828)</td></tr><tr><td>902</td><td>List(2.5142667293548584, 4.9227190017700195, 0.9823144674301147, 0.06519109755754471, 1.7970669269561768)</td></tr><tr><td>903</td><td>List(2.3993256092071533, 2.687978506088257, 1.8371137380599976, 2.563535213470459, 4.198977470397949)</td></tr><tr><td>904</td><td>List(0.0, 4.940241813659668, 1.9170247316360474, 0.7938804626464844, 3.6592612266540527)</td></tr><tr><td>905</td><td>List(1.6187572479248047, 2.940096616744995, 2.3131613731384277, 1.4800599813461304, 4.649645805358887)</td></tr><tr><td>906</td><td>List(3.7015960216522217, 4.565006732940674, 1.8885467052459717, 1.339025616645813, 0.9123803377151489)</td></tr><tr><td>907</td><td>List(2.5151562690734863, 4.057201862335205, 1.113425850868225, 1.990668535232544, 3.0990419387817383)</td></tr><tr><td>908</td><td>List(1.586477279663086, 4.4600443840026855, 1.7698239088058472, 2.349245548248291, 1.6277974843978882)</td></tr><tr><td>909</td><td>List(0.9488489627838135, 3.3321919441223145, 2.894643783569336, 1.3457095623016357, 3.523714065551758)</td></tr><tr><td>910</td><td>List(3.027832269668579, 1.007775902748108, 2.1309709548950195, 0.09128578752279282, 5.417527198791504)</td></tr><tr><td>911</td><td>List(1.9737238883972168, 3.0534605979919434, 2.929485321044922, 3.258016347885132, 2.767845869064331)</td></tr><tr><td>912</td><td>List(2.791447401046753, 3.1924545764923096, 3.4885170459747314, 0.7706236839294434, 2.713998317718506)</td></tr><tr><td>913</td><td>List(2.1477115154266357, 3.4047083854675293, 2.6553375720977783, 1.7890048027038574, 3.27555513381958)</td></tr><tr><td>914</td><td>List(2.884972333908081, 3.9417731761932373, 0.11854865401983261, 1.8329848051071167, 3.865239143371582)</td></tr><tr><td>915</td><td>List(0.08649817854166031, 3.1342082023620605, 4.388515949249268, 0.37998661398887634, 4.3730788230896)</td></tr><tr><td>916</td><td>List(2.2404868602752686, 2.7345612049102783, 3.7073330879211426, 2.9484002590179443, 3.2009387016296387)</td></tr><tr><td>917</td><td>List(2.852741241455078, 3.86112380027771, 2.2227747440338135, 2.2577102184295654, 3.892167091369629)</td></tr><tr><td>918</td><td>List(1.8011248111724854, 4.490297317504883, 2.264862537384033, 2.3043453693389893, 1.7392942905426025)</td></tr><tr><td>919</td><td>List(1.603988766670227, 2.5885725021362305, 2.376185894012451, 2.1309564113616943, 3.384566068649292)</td></tr><tr><td>920</td><td>List(2.2203588485717773, 3.7541871070861816, 2.510631799697876, 0.8427537083625793, 4.210877895355225)</td></tr><tr><td>921</td><td>List(1.7430256605148315, 2.2174980640411377, 2.6279988288879395, 1.3512601852416992, 3.7815349102020264)</td></tr><tr><td>922</td><td>List(3.4874050617218018, 2.586496114730835, 2.3097269535064697, 4.754377365112305, 1.1562384366989136)</td></tr><tr><td>923</td><td>List(0.598209023475647, 3.442204475402832, 4.132238864898682, 1.4432061910629272, 2.327998161315918)</td></tr><tr><td>924</td><td>List(0.8437448740005493, 4.944497108459473, 1.037724256515503, 1.775496006011963, 3.4739317893981934)</td></tr><tr><td>925</td><td>List(4.447195529937744, 3.907625436782837, 0.0, 2.362732410430908, 4.4757819175720215)</td></tr><tr><td>926</td><td>List(3.0001652240753174, 3.518327236175537, 2.0930607318878174, 2.4421732425689697, 4.1276535987854)</td></tr><tr><td>927</td><td>List(2.902717113494873, 1.7962160110473633, 4.4784417152404785, 2.1526124477386475, 2.8474791049957275)</td></tr><tr><td>928</td><td>List(2.289752960205078, 3.578989028930664, 1.6450706720352173, 2.401940107345581, 4.089007377624512)</td></tr><tr><td>929</td><td>List(2.0695488452911377, 2.7227487564086914, 1.047629952430725, 1.347900629043579, 4.451530933380127)</td></tr><tr><td>930</td><td>List(2.048780679702759, 3.1763663291931152, 2.0726022720336914, 1.6447350978851318, 3.045137405395508)</td></tr><tr><td>931</td><td>List(0.4700812101364136, 3.5481321811676025, 3.8478775024414062, 4.15460205078125, 3.287034273147583)</td></tr><tr><td>932</td><td>List(2.3735947608947754, 3.7547266483306885, 2.3373868465423584, 2.678013324737549, 3.586278200149536)</td></tr><tr><td>933</td><td>List(2.9660701751708984, 1.420475721359253, 3.8775222301483154, 0.5555804371833801, 2.734055519104004)</td></tr><tr><td>934</td><td>List(3.0028233528137207, 3.767735004425049, 1.7171030044555664, 3.120473861694336, 3.59694242477417)</td></tr><tr><td>935</td><td>List(0.0, 3.19531512260437, 3.1777985095977783, 1.3426227569580078, 4.357784748077393)</td></tr><tr><td>936</td><td>List(2.9155991077423096, 2.0842645168304443, 2.990910053253174, 1.6593008041381836, 2.471791982650757)</td></tr><tr><td>937</td><td>List(0.052347294986248016, 3.6699106693267822, 0.30144503712654114, 3.254319190979004, 3.8431713581085205)</td></tr><tr><td>938</td><td>List(3.196119546890259, 3.0920088291168213, 2.0704522132873535, 3.3208611011505127, 1.930503487586975)</td></tr><tr><td>939</td><td>List(1.7292041778564453, 2.798780918121338, 3.9196763038635254, 3.0284459590911865, 2.3518564701080322)</td></tr><tr><td>940</td><td>List(2.2065117359161377, 2.346775770187378, 3.3639111518859863, 2.938789129257202, 4.378839492797852)</td></tr><tr><td>941</td><td>List(1.1427839994430542, 1.6803722381591797, 1.9244154691696167, 1.3250529766082764, 3.4976000785827637)</td></tr><tr><td>942</td><td>List(1.8364115953445435, 3.2020657062530518, 3.499558448791504, 2.314321279525757, 3.7493393421173096)</td></tr><tr><td>943</td><td>List(2.636590003967285, 1.8034417629241943, 3.095768928527832, 0.8258994817733765, 5.019587993621826)</td></tr><tr><td>944</td><td>List(2.5665032863616943, 4.449357032775879, 0.9192975163459778, 0.017808927223086357, 1.1664419174194336)</td></tr><tr><td>945</td><td>List(3.027195692062378, 4.191884517669678, 1.2607210874557495, 1.3425168991088867, 2.6213393211364746)</td></tr><tr><td>946</td><td>List(1.771315336227417, 3.6640870571136475, 1.1524791717529297, 2.6309852600097656, 3.0747416019439697)</td></tr><tr><td>947</td><td>List(0.6991357803344727, 4.799034595489502, 2.0857698917388916, 3.09751558303833, 1.8863168954849243)</td></tr><tr><td>948</td><td>List(1.597480058670044, 2.6730904579162598, 4.337702751159668, 3.401440143585205, 3.907839775085449)</td></tr><tr><td>949</td><td>List(2.6693806648254395, 2.159996271133423, 4.6287946701049805, 2.491583824157715, 1.9538657665252686)</td></tr><tr><td>950</td><td>List(2.342071056365967, 2.775712013244629, 1.4056631326675415, 1.98995041847229, 3.3458189964294434)</td></tr><tr><td>951</td><td>List(1.9301462173461914, 3.382981777191162, 0.898754358291626, 3.4517126083374023, 2.6761579513549805)</td></tr><tr><td>952</td><td>List(1.0102168321609497, 2.642090320587158, 1.8093161582946777, 2.6646907329559326, 3.5223255157470703)</td></tr><tr><td>953</td><td>List(1.922341227531433, 3.4108595848083496, 2.1477410793304443, 2.483553647994995, 2.8890223503112793)</td></tr><tr><td>954</td><td>List(1.4040697813034058, 2.716242790222168, 2.417513847351074, 1.1189674139022827, 5.4322333335876465)</td></tr><tr><td>955</td><td>List(2.7508795261383057, 5.712435722351074, 0.266358345746994, 4.509905815124512, 0.0)</td></tr><tr><td>956</td><td>List(2.170048475265503, 4.458963871002197, 2.6962263584136963, 1.9096521139144897, 3.449143171310425)</td></tr><tr><td>957</td><td>List(1.6889126300811768, 2.865142345428467, 1.369234561920166, 0.956602931022644, 4.901971817016602)</td></tr><tr><td>958</td><td>List(3.691312551498413, 1.7056879997253418, 4.052122592926025, 0.14245708286762238, 4.599141597747803)</td></tr><tr><td>959</td><td>List(1.3209925889968872, 3.23476243019104, 0.0, 1.8593679666519165, 4.418925762176514)</td></tr><tr><td>960</td><td>List(6.788697719573975, 0.3120828866958618, 0.39430513978004456, 3.677438497543335, 0.0)</td></tr><tr><td>961</td><td>List(1.281702995300293, 2.7081947326660156, 2.804715633392334, 2.5383191108703613, 2.806624412536621)</td></tr><tr><td>962</td><td>List(2.8931291103363037, 2.532855749130249, 2.2676050662994385, 1.009674310684204, 4.733940124511719)</td></tr><tr><td>963</td><td>List(2.2560386657714844, 2.8981425762176514, 2.1657445430755615, 2.506270408630371, 2.7501728534698486)</td></tr><tr><td>964</td><td>List(3.336301803588867, 2.261620283126831, 3.1428582668304443, 0.0, 3.918140411376953)</td></tr><tr><td>965</td><td>List(2.831833839416504, 4.1179022789001465, 0.5242545008659363, 1.7937971353530884, 3.2159409523010254)</td></tr><tr><td>966</td><td>List(0.14830642938613892, 1.2137049436569214, 5.564074516296387, 0.8801660537719727, 1.3528810739517212)</td></tr><tr><td>967</td><td>List(1.9025793075561523, 3.627312183380127, 2.216214656829834, 3.0778300762176514, 3.0837206840515137)</td></tr><tr><td>968</td><td>List(1.8902337551116943, 3.830322265625, 1.4713037014007568, 3.5563955307006836, 4.411214351654053)</td></tr><tr><td>969</td><td>List(1.7410857677459717, 3.375121831893921, 1.3050706386566162, 1.1109771728515625, 5.151682376861572)</td></tr><tr><td>970</td><td>List(1.0813406705856323, 3.257056713104248, 0.0, 2.0017359256744385, 4.298936367034912)</td></tr><tr><td>971</td><td>List(0.5558773279190063, 3.7564969062805176, 3.075246572494507, 4.064874172210693, 1.6075750589370728)</td></tr><tr><td>972</td><td>List(2.419656276702881, 4.426032543182373, 0.08072245866060257, 2.4304487705230713, 3.1934685707092285)</td></tr><tr><td>973</td><td>List(3.2208104133605957, 2.7330400943756104, 4.357660293579102, 1.3638005256652832, 2.827322244644165)</td></tr><tr><td>974</td><td>List(2.6921863555908203, 4.2122344970703125, 0.8549757599830627, 1.204208254814148, 4.178808212280273)</td></tr><tr><td>975</td><td>List(2.388054370880127, 4.121650695800781, 3.3290228843688965, 0.9086657166481018, 1.6954357624053955)</td></tr><tr><td>976</td><td>List(2.377546787261963, 3.4634432792663574, 2.714635133743286, 1.9128786325454712, 3.449770927429199)</td></tr><tr><td>977</td><td>List(1.6306116580963135, 3.10247540473938, 2.5815141201019287, 1.9482117891311646, 3.1316545009613037)</td></tr><tr><td>978</td><td>List(2.603543519973755, 3.9288318157196045, 2.5356128215789795, 2.093285322189331, 3.4096779823303223)</td></tr><tr><td>979</td><td>List(3.4313254356384277, 1.804913878440857, 3.73394513130188, 0.750510573387146, 4.08826208114624)</td></tr><tr><td>980</td><td>List(2.234898567199707, 4.2782721519470215, 1.8684139251708984, 2.1028146743774414, 3.5166008472442627)</td></tr><tr><td>981</td><td>List(1.5876820087432861, 4.5592193603515625, 2.6922969818115234, 2.8976778984069824, 2.741429090499878)</td></tr><tr><td>982</td><td>List(2.4311792850494385, 3.5225601196289062, 1.9951684474945068, 2.7896170616149902, 4.082546234130859)</td></tr><tr><td>983</td><td>List(2.9144346714019775, 2.1102771759033203, 3.8605504035949707, 2.359267473220825, 1.4015872478485107)</td></tr><tr><td>984</td><td>List(1.8855732679367065, 3.3968517780303955, 4.078209400177002, 0.5911489129066467, 4.593048572540283)</td></tr><tr><td>985</td><td>List(1.031151294708252, 2.7675118446350098, 1.904671549797058, 3.3271069526672363, 3.796621799468994)</td></tr><tr><td>986</td><td>List(2.934156894683838, 3.1768898963928223, 2.030398368835449, 0.9978196620941162, 0.0)</td></tr><tr><td>987</td><td>List(3.4108381271362305, 2.639963150024414, 2.537606716156006, 0.3813782036304474, 5.534634590148926)</td></tr><tr><td>988</td><td>List(4.111225605010986, 4.021175384521484, 2.8025496006011963, 0.5997353196144104, 4.485098838806152)</td></tr><tr><td>989</td><td>List(0.03980284929275513, 0.6430683732032776, 3.044574022293091, 3.2768466472625732, 3.7479469776153564)</td></tr><tr><td>990</td><td>List(2.8146064281463623, 2.3412649631500244, 3.2744650840759277, 2.4152376651763916, 4.218354225158691)</td></tr><tr><td>991</td><td>List(1.9955424070358276, 0.6011918783187866, 4.282419681549072, 2.9015653133392334, 3.5931320190429688)</td></tr><tr><td>992</td><td>List(2.9670090675354004, 3.208482265472412, 4.4539289474487305, 1.5361261367797852, 3.333709478378296)</td></tr><tr><td>993</td><td>List(1.3245999813079834, 4.1525068283081055, 0.7100149393081665, 1.7307512760162354, 3.391842842102051)</td></tr><tr><td>994</td><td>List(1.8634624481201172, 1.7058851718902588, 0.5982266068458557, 1.9507778882980347, 0.34594911336898804)</td></tr><tr><td>995</td><td>List(0.0, 3.171732187271118, 2.7438693046569824, 0.8573240041732788, 2.5804443359375)</td></tr><tr><td>996</td><td>List(2.6990480422973633, 3.4515342712402344, 3.047156810760498, 2.0697755813598633, 3.590059518814087)</td></tr><tr><td>997</td><td>List(1.91702401638031, 2.8785183429718018, 2.118318557739258, 0.9189717173576355, 2.9236366748809814)</td></tr><tr><td>998</td><td>List(3.1975719928741455, 3.3152918815612793, 3.1163382530212402, 2.159306764602661, 1.9999010562896729)</td></tr><tr><td>999</td><td>List(2.840784788131714, 3.640130043029785, 0.46396926045417786, 2.7786407470703125, 4.249034404754639)</td></tr><tr><td>1000</td><td>List(2.3789939880371094, 2.5907835960388184, 2.890014886856079, 1.8798197507858276, 2.8762009143829346)</td></tr><tr><td>1001</td><td>List(0.08750264346599579, 3.672748565673828, 4.696999549865723, 1.2767871618270874, 2.4775736331939697)</td></tr><tr><td>1002</td><td>List(1.894439697265625, 3.771329402923584, 2.7047314643859863, 2.111614942550659, 3.44077205657959)</td></tr><tr><td>1003</td><td>List(0.5361407995223999, 3.9776413440704346, 1.569986343383789, 2.7829885482788086, 3.630265712738037)</td></tr></tbody></table>Showing the first 1000 rows.</div>"
      ]
     },
     "metadata": {
      "application/vnd.databricks.v1+output": {
       "addedWidgets": {},
       "aggData": [],
       "aggError": "",
       "aggOverflow": false,
       "aggSchema": [],
       "aggSeriesLimitReached": false,
       "aggType": "",
       "arguments": {},
       "columnCustomDisplayInfos": {},
       "data": [
        [
         1,
         [
          2.7106189727783203,
          3.4204370975494385,
          1.0696133375167847,
          3.2918269634246826,
          3.4723706245422363
         ]
        ],
        [
         2,
         [
          3.4761226177215576,
          2.9496142864227295,
          3.27455472946167,
          1.988886833190918,
          2.3487050533294678
         ]
        ],
        [
         3,
         [
          2.5094239711761475,
          4.3667168617248535,
          2.8416635990142822,
          1.4065183401107788,
          2.623562812805176
         ]
        ],
        [
         4,
         [
          0.6865320801734924,
          3.232478380203247,
          3.204557180404663,
          2.056591033935547,
          4.044508934020996
         ]
        ],
        [
         5,
         [
          1.0852680206298828,
          3.326652765274048,
          1.8209935426712036,
          2.5497100353240967,
          4.591876029968262
         ]
        ],
        [
         6,
         [
          3.298166275024414,
          3.0859696865081787,
          1.7481738328933716,
          1.974731206893921,
          4.442023277282715
         ]
        ],
        [
         7,
         [
          2.110003709793091,
          4.042046070098877,
          1.4678417444229126,
          1.9046857357025146,
          2.562107563018799
         ]
        ],
        [
         8,
         [
          3.227114677429199,
          2.976378917694092,
          2.6246206760406494,
          1.1009538173675537,
          3.4232897758483887
         ]
        ],
        [
         9,
         [
          0,
          4.828293800354004,
          0.37908509373664856,
          1.7712457180023193,
          4.1917243003845215
         ]
        ],
        [
         10,
         [
          3.031416654586792,
          3.7143807411193848,
          0.7452799081802368,
          2.9069347381591797,
          3.4425299167633057
         ]
        ],
        [
         11,
         [
          2.579944372177124,
          3.2585926055908203,
          2.249849319458008,
          1.8566774129867554,
          4.388051986694336
         ]
        ],
        [
         12,
         [
          1.6497443914413452,
          2.845048666000366,
          2.1380808353424072,
          1.888863444328308,
          1.8840702772140503
         ]
        ],
        [
         13,
         [
          2.826019763946533,
          2.6980159282684326,
          4.440021991729736,
          3.236358880996704,
          2.67016863822937
         ]
        ],
        [
         14,
         [
          2.6416432857513428,
          3.331599235534668,
          2.8342225551605225,
          1.74518883228302,
          3.685727834701538
         ]
        ],
        [
         15,
         [
          2.3385062217712402,
          2.936044931411743,
          1.9805160760879517,
          2.716841697692871,
          4.2942585945129395
         ]
        ],
        [
         16,
         [
          3.861800193786621,
          3.6027255058288574,
          2.8913378715515137,
          2.399200677871704,
          3.810072898864746
         ]
        ],
        [
         17,
         [
          0.7761734127998352,
          1.7156308889389038,
          5.803232669830322,
          1.8331553936004639,
          2.1888883113861084
         ]
        ],
        [
         18,
         [
          2.267850160598755,
          4.147937297821045,
          2.3907630443573,
          2.193509578704834,
          3.755459785461426
         ]
        ],
        [
         19,
         [
          2.5196146965026855,
          3.4635818004608154,
          3.3036489486694336,
          1.778172254562378,
          2.87370228767395
         ]
        ],
        [
         20,
         [
          3.774007558822632,
          0.9419941902160645,
          3.404572010040283,
          1.1300829648971558,
          0.7781700491905212
         ]
        ],
        [
         21,
         [
          1.7818371057510376,
          3.956953763961792,
          1.3160449266433716,
          2.6605305671691895,
          2.553795099258423
         ]
        ],
        [
         22,
         [
          2.7690556049346924,
          2.8583123683929443,
          1.1856389045715332,
          2.376385450363159,
          2.205050230026245
         ]
        ],
        [
         23,
         [
          3.1705844402313232,
          3.9792511463165283,
          1.076928973197937,
          1.2207326889038086,
          3.0926754474639893
         ]
        ],
        [
         24,
         [
          2.5858688354492188,
          1.1879210472106934,
          3.8372368812561035,
          0.6528005599975586,
          2.9330942630767822
         ]
        ],
        [
         25,
         [
          1.990221381187439,
          4.103248119354248,
          3.0424489974975586,
          2.949117660522461,
          2.9021754264831543
         ]
        ],
        [
         26,
         [
          1.9241188764572144,
          1.793397068977356,
          4.834130764007568,
          3.4391002655029297,
          3.124896287918091
         ]
        ],
        [
         27,
         [
          3.6888091564178467,
          3.5458521842956543,
          2.6567533016204834,
          2.0876898765563965,
          3.561089515686035
         ]
        ],
        [
         28,
         [
          1.3348603248596191,
          3.356755018234253,
          2.078080654144287,
          2.885472536087036,
          3.936009407043457
         ]
        ],
        [
         29,
         [
          4.054250240325928,
          0,
          3.121793270111084,
          0,
          4.81014347076416
         ]
        ],
        [
         30,
         [
          0.2841991186141968,
          4.982423782348633,
          1.6932563781738281,
          2.0207550525665283,
          3.1290676593780518
         ]
        ],
        [
         31,
         [
          2.6271495819091797,
          3.7063567638397217,
          1.668056845664978,
          2.913968324661255,
          3.3709819316864014
         ]
        ],
        [
         32,
         [
          2.1164164543151855,
          3.1875152587890625,
          3.492490768432617,
          2.9897632598876953,
          3.8944339752197266
         ]
        ],
        [
         33,
         [
          0.3531988561153412,
          0,
          1.4796857833862305,
          0.9056808948516846,
          0
         ]
        ],
        [
         34,
         [
          1.4990290403366089,
          2.628596067428589,
          2.308941125869751,
          1.6692407131195068,
          4.036695957183838
         ]
        ],
        [
         35,
         [
          1.8298686742782593,
          2.4260787963867188,
          3.9674460887908936,
          2.7886016368865967,
          3.3992135524749756
         ]
        ],
        [
         36,
         [
          1.5819120407104492,
          4.086674690246582,
          0.47289395332336426,
          2.51004958152771,
          3.7648072242736816
         ]
        ],
        [
         37,
         [
          1.3082711696624756,
          3.457700729370117,
          1.3982765674591064,
          1.3010560274124146,
          3.0040061473846436
         ]
        ],
        [
         38,
         [
          3.2320845127105713,
          3.5887820720672607,
          2.7314696311950684,
          1.8044222593307495,
          3.272218942642212
         ]
        ],
        [
         39,
         [
          2.1993556022644043,
          2.671553134918213,
          3.0101897716522217,
          2.6614975929260254,
          2.605126142501831
         ]
        ],
        [
         40,
         [
          0,
          3.156226873397827,
          4.3976149559021,
          2.802340030670166,
          4.543586730957031
         ]
        ],
        [
         41,
         [
          3.640037775039673,
          2.1406474113464355,
          2.1856329441070557,
          3.694760799407959,
          0
         ]
        ],
        [
         42,
         [
          2.156073808670044,
          3.32765793800354,
          1.2150975465774536,
          2.885338544845581,
          3.636362075805664
         ]
        ],
        [
         43,
         [
          2.7701425552368164,
          4.201359272003174,
          2.0633692741394043,
          2.326669692993164,
          3.5533111095428467
         ]
        ],
        [
         44,
         [
          2.587364435195923,
          3.438788890838623,
          4.504641532897949,
          1.256397008895874,
          3.8394582271575928
         ]
        ],
        [
         45,
         [
          0.3642638325691223,
          3.0774760246276855,
          2.0376477241516113,
          2.564129114151001,
          2.920590400695801
         ]
        ],
        [
         46,
         [
          3.28995943069458,
          2.850130319595337,
          1.209578275680542,
          2.0655357837677,
          2.970851421356201
         ]
        ],
        [
         47,
         [
          1.8243945837020874,
          3.4882209300994873,
          0.05293910950422287,
          1.6969678401947021,
          3.026794195175171
         ]
        ],
        [
         48,
         [
          0.23833689093589783,
          3.5601139068603516,
          1.173365592956543,
          1.8540083169937134,
          4.640936851501465
         ]
        ],
        [
         49,
         [
          0.3465020954608917,
          1.4074627161026,
          2.707253932952881,
          1.8247920274734497,
          0.9561623930931091
         ]
        ],
        [
         50,
         [
          2.6905272006988525,
          4.354776382446289,
          4.4899187088012695,
          2.4616191387176514,
          1.179673671722412
         ]
        ],
        [
         51,
         [
          2.477086305618286,
          4.060945510864258,
          3.499192953109741,
          1.8346998691558838,
          2.3524258136749268
         ]
        ],
        [
         52,
         [
          1.0759592056274414,
          3.088940143585205,
          2.9799752235412598,
          2.381909132003784,
          3.6506991386413574
         ]
        ],
        [
         53,
         [
          1.2725547552108765,
          2.488471031188965,
          3.9517159461975098,
          1.8856741189956665,
          3.0101544857025146
         ]
        ],
        [
         54,
         [
          4.182602405548096,
          0.07055610418319702,
          3.461536169052124,
          1.477331280708313,
          2.4577133655548096
         ]
        ],
        [
         55,
         [
          1.8974095582962036,
          3.8953161239624023,
          1.8834072351455688,
          1.839547872543335,
          2.5648488998413086
         ]
        ],
        [
         56,
         [
          0.5133513808250427,
          2.9791460037231445,
          1.61735999584198,
          1.6787067651748657,
          3.3906009197235107
         ]
        ],
        [
         57,
         [
          1.344278335571289,
          3.324612855911255,
          2.092456340789795,
          1.4159399271011353,
          4.949134349822998
         ]
        ],
        [
         58,
         [
          2.2902908325195312,
          3.191790819168091,
          3.3247365951538086,
          1.4088972806930542,
          2.4764204025268555
         ]
        ],
        [
         59,
         [
          3.398146152496338,
          3.4309377670288086,
          4.639796733856201,
          1.428095817565918,
          2.762948989868164
         ]
        ],
        [
         60,
         [
          1.9910223484039307,
          3.7271900177001953,
          4.2350568771362305,
          1.5241750478744507,
          2.0835320949554443
         ]
        ],
        [
         61,
         [
          2.3336474895477295,
          2.2342631816864014,
          2.3337676525115967,
          1.826709270477295,
          2.779581308364868
         ]
        ],
        [
         62,
         [
          1.4425443410873413,
          2.219835042953491,
          0.979000985622406,
          2.0401546955108643,
          4.727474689483643
         ]
        ],
        [
         63,
         [
          1.3265241384506226,
          3.546499252319336,
          1.4683729410171509,
          2.9156672954559326,
          3.385686159133911
         ]
        ],
        [
         64,
         [
          1.7704776525497437,
          3.9401135444641113,
          3.63930606842041,
          0.05068086460232735,
          3.8611185550689697
         ]
        ],
        [
         65,
         [
          0.7804551720619202,
          1.7425258159637451,
          2.6450846195220947,
          3.193932294845581,
          3.318364143371582
         ]
        ],
        [
         66,
         [
          2.2429211139678955,
          0.9381157159805298,
          4.392575263977051,
          0,
          2.124356746673584
         ]
        ],
        [
         67,
         [
          2.2727227210998535,
          3.1801459789276123,
          1.6652827262878418,
          2.2279891967773438,
          4.43234395980835
         ]
        ],
        [
         68,
         [
          1.5127893686294556,
          2.9376604557037354,
          2.734498977661133,
          0.6222505569458008,
          2.231713056564331
         ]
        ],
        [
         69,
         [
          1.2675094604492188,
          0.7863787412643433,
          0,
          1.0792055130004883,
          8.88746166229248
         ]
        ],
        [
         70,
         [
          2.2567005157470703,
          2.553321599960327,
          2.6199638843536377,
          2.8378725051879883,
          2.135457754135132
         ]
        ],
        [
         71,
         [
          1.4841049909591675,
          3.252351760864258,
          1.1593762636184692,
          2.112208843231201,
          3.928755760192871
         ]
        ],
        [
         72,
         [
          2.6424577236175537,
          2.7700071334838867,
          4.0180487632751465,
          2.9118053913116455,
          3.3394556045532227
         ]
        ],
        [
         73,
         [
          1.272341251373291,
          3.5848066806793213,
          0.705003023147583,
          2.6894948482513428,
          3.738490343093872
         ]
        ],
        [
         74,
         [
          3.786524772644043,
          3.238501787185669,
          3.1628289222717285,
          2.517033815383911,
          1.7583180665969849
         ]
        ],
        [
         75,
         [
          1.0689630508422852,
          2.1309094429016113,
          1.6090341806411743,
          1.6396467685699463,
          3.8088877201080322
         ]
        ],
        [
         76,
         [
          0,
          4.4959635734558105,
          2.374077558517456,
          1.3932288885116577,
          3.2556252479553223
         ]
        ],
        [
         77,
         [
          3.258575201034546,
          1.4918968677520752,
          2.1859235763549805,
          2.0826382637023926,
          3.3841447830200195
         ]
        ],
        [
         78,
         [
          0,
          3.924832820892334,
          3.247750997543335,
          4.2364678382873535,
          1.626357913017273
         ]
        ],
        [
         79,
         [
          3.3554012775421143,
          3.608118772506714,
          2.600172281265259,
          3.045947551727295,
          3.2018744945526123
         ]
        ],
        [
         80,
         [
          4.260538101196289,
          2.5078792572021484,
          3.454089403152466,
          2.722182035446167,
          2.2857236862182617
         ]
        ],
        [
         81,
         [
          0.7659934163093567,
          3.366626262664795,
          0.7817714214324951,
          2.9973621368408203,
          3.996974229812622
         ]
        ],
        [
         82,
         [
          1.636250376701355,
          3.630009651184082,
          0,
          3.2121286392211914,
          4.046422481536865
         ]
        ],
        [
         83,
         [
          4.114854335784912,
          1.6302261352539062,
          5.072271823883057,
          0.9020779728889465,
          1.7619792222976685
         ]
        ],
        [
         84,
         [
          2.305860996246338,
          2.9570531845092773,
          2.0416111946105957,
          0.43463385105133057,
          3.624537706375122
         ]
        ],
        [
         85,
         [
          1.2460697889328003,
          2.9709715843200684,
          3.281898260116577,
          0.5406087040901184,
          2.982512950897217
         ]
        ],
        [
         86,
         [
          0,
          0.6000572443008423,
          5.763482093811035,
          2.0721890926361084,
          1.0453362464904785
         ]
        ],
        [
         87,
         [
          1.9607069492340088,
          0.6035398244857788,
          4.393167972564697,
          1.1202701330184937,
          0.6720600128173828
         ]
        ],
        [
         88,
         [
          1.0363788604736328,
          3.4313595294952393,
          2.7885830402374268,
          1.9717179536819458,
          4.533854007720947
         ]
        ],
        [
         89,
         [
          1.19320547580719,
          2.25787091255188,
          4.002433776855469,
          1.412497639656067,
          0.8700374364852905
         ]
        ],
        [
         90,
         [
          1.8974732160568237,
          2.8770830631256104,
          3.3573594093322754,
          0.144099622964859,
          3.1862564086914062
         ]
        ],
        [
         91,
         [
          3.427736759185791,
          3.169778347015381,
          2.6748273372650146,
          3.088088274002075,
          4.096931457519531
         ]
        ],
        [
         92,
         [
          3.0237717628479004,
          4.188836574554443,
          0.6082477569580078,
          0,
          2.1066598892211914
         ]
        ],
        [
         93,
         [
          2.6312804222106934,
          2.930476188659668,
          1.80970299243927,
          1.1218160390853882,
          3.7631194591522217
         ]
        ],
        [
         94,
         [
          4.576139450073242,
          3.396188259124756,
          2.1955859661102295,
          2.6142430305480957,
          4.43699312210083
         ]
        ],
        [
         95,
         [
          2.4936861991882324,
          3.869154930114746,
          2.264139175415039,
          2.3980154991149902,
          3.983383893966675
         ]
        ],
        [
         96,
         [
          0.8859997987747192,
          2.4450457096099854,
          1.6251896619796753,
          1.6716444492340088,
          6.139612197875977
         ]
        ],
        [
         97,
         [
          1.8316868543624878,
          2.80304217338562,
          2.8036134243011475,
          3.5951430797576904,
          4.0327301025390625
         ]
        ],
        [
         98,
         [
          0,
          4.0311150550842285,
          2.215776205062866,
          2.2197163105010986,
          2.9186384677886963
         ]
        ],
        [
         99,
         [
          1.938630223274231,
          3.238907814025879,
          2.531984806060791,
          2.196532964706421,
          3.6956663131713867
         ]
        ],
        [
         100,
         [
          2.5275144577026367,
          3.535299777984619,
          2.5611393451690674,
          2.4509334564208984,
          4.01606559753418
         ]
        ],
        [
         101,
         [
          1.5420597791671753,
          1.7374001741409302,
          2.175037384033203,
          2.497994899749756,
          2.8159494400024414
         ]
        ],
        [
         102,
         [
          0.7790416479110718,
          0.8697119355201721,
          1.048997163772583,
          0.534359872341156,
          0.6759288907051086
         ]
        ],
        [
         103,
         [
          2.168926954269409,
          4.563231945037842,
          2.901296615600586,
          2.627760410308838,
          3.2160098552703857
         ]
        ],
        [
         104,
         [
          1.0251855850219727,
          2.7890896797180176,
          4.569785118103027,
          2.559520721435547,
          2.755777597427368
         ]
        ],
        [
         105,
         [
          1.129598617553711,
          3.0407209396362305,
          3.3413708209991455,
          3.3746519088745117,
          2.8534529209136963
         ]
        ],
        [
         106,
         [
          2.171562910079956,
          2.785466194152832,
          2.7343978881835938,
          2.234812021255493,
          5.04855489730835
         ]
        ],
        [
         107,
         [
          5.048647403717041,
          1.438301920890808,
          4.274582862854004,
          0,
          2.1767616271972656
         ]
        ],
        [
         108,
         [
          2.894277334213257,
          4.336903095245361,
          2.7725448608398438,
          1.1478251218795776,
          3.5986132621765137
         ]
        ],
        [
         109,
         [
          0.5885806679725647,
          3.8965015411376953,
          5.689263343811035,
          1.5338072776794434,
          3.5091280937194824
         ]
        ],
        [
         110,
         [
          2.5015203952789307,
          0,
          1.2325376272201538,
          3.7961812019348145,
          3.7677345275878906
         ]
        ],
        [
         111,
         [
          2.4469029903411865,
          3.1740458011627197,
          1.6584601402282715,
          1.2330024242401123,
          3.9797024726867676
         ]
        ],
        [
         112,
         [
          2.5391132831573486,
          2.1298575401306152,
          2.2854013442993164,
          2.0090296268463135,
          4.306158542633057
         ]
        ],
        [
         113,
         [
          2.717113733291626,
          2.4241669178009033,
          3.498995304107666,
          4.6663994789123535,
          2.2790286540985107
         ]
        ],
        [
         114,
         [
          1.9241470098495483,
          3.318105936050415,
          4.314779758453369,
          1.7055715322494507,
          2.1862964630126953
         ]
        ],
        [
         115,
         [
          3.203335762023926,
          4.192052841186523,
          2.206108331680298,
          0,
          3.8920223712921143
         ]
        ],
        [
         116,
         [
          0.8690833449363708,
          3.1828629970550537,
          2.7489049434661865,
          1.8178248405456543,
          3.962351083755493
         ]
        ],
        [
         117,
         [
          2.1947171688079834,
          3.3803441524505615,
          2.0119009017944336,
          1.2331507205963135,
          3.4976017475128174
         ]
        ],
        [
         118,
         [
          0,
          1.249583125114441,
          3.722768545150757,
          4.357501983642578,
          0.8160744309425354
         ]
        ],
        [
         119,
         [
          2.122547149658203,
          4.032124042510986,
          2.493703603744507,
          2.483995199203491,
          5.391246318817139
         ]
        ],
        [
         120,
         [
          2.1327803134918213,
          3.7892513275146484,
          3.5038628578186035,
          1.5728802680969238,
          3.138241767883301
         ]
        ],
        [
         121,
         [
          1.889066219329834,
          4.07100248336792,
          4.605878829956055,
          1.1811678409576416,
          2.0823862552642822
         ]
        ],
        [
         122,
         [
          1.0200996398925781,
          3.4026761054992676,
          2.560302972793579,
          2.9073922634124756,
          2.8750364780426025
         ]
        ],
        [
         123,
         [
          0.18776002526283264,
          2.916754961013794,
          2.9510130882263184,
          1.867706298828125,
          5.322783470153809
         ]
        ],
        [
         124,
         [
          2.672969102859497,
          3.4974513053894043,
          2.810723066329956,
          3.7929084300994873,
          2.4365108013153076
         ]
        ],
        [
         125,
         [
          0,
          2.3563921451568604,
          3.523388385772705,
          1.8608490228652954,
          2.2940406799316406
         ]
        ],
        [
         126,
         [
          1.5655994415283203,
          4.323257923126221,
          1.2726904153823853,
          1.5666167736053467,
          2.525953769683838
         ]
        ],
        [
         127,
         [
          0,
          2.2360358238220215,
          2.2789790630340576,
          0.199729323387146,
          3.2491893768310547
         ]
        ],
        [
         128,
         [
          2.7474396228790283,
          3.158106565475464,
          1.8548669815063477,
          2.8558497428894043,
          1.901924967765808
         ]
        ],
        [
         129,
         [
          1.0080804824829102,
          2.8570780754089355,
          2.3373401165008545,
          5.311543941497803,
          3.3057782649993896
         ]
        ],
        [
         130,
         [
          0.5747201442718506,
          0,
          1.766118049621582,
          0,
          2.8771233558654785
         ]
        ],
        [
         131,
         [
          2.069948196411133,
          5.021782398223877,
          0.9231488704681396,
          1.818601369857788,
          0.9640476703643799
         ]
        ],
        [
         132,
         [
          2.345094919204712,
          3.469637632369995,
          2.4119420051574707,
          1.9604568481445312,
          3.967449188232422
         ]
        ],
        [
         133,
         [
          0.15591686964035034,
          3.7837228775024414,
          1.9126224517822266,
          1.5646741390228271,
          1.4001895189285278
         ]
        ],
        [
         134,
         [
          2.6703507900238037,
          3.3433122634887695,
          3.5594003200531006,
          2.6310441493988037,
          3.0105223655700684
         ]
        ],
        [
         135,
         [
          3.297259569168091,
          3.0408859252929688,
          1.6038227081298828,
          2.2001278400421143,
          2.6743557453155518
         ]
        ],
        [
         136,
         [
          3.662065267562866,
          2.6632537841796875,
          3.984492063522339,
          1.9330071210861206,
          3.371224880218506
         ]
        ],
        [
         137,
         [
          2.072827100753784,
          3.992661952972412,
          0,
          1.3446857929229736,
          3.691429376602173
         ]
        ],
        [
         138,
         [
          1.5754773616790771,
          3.6661574840545654,
          1.4713459014892578,
          3.029130458831787,
          4.2135491371154785
         ]
        ],
        [
         139,
         [
          0.430691659450531,
          3.8108136653900146,
          2.8888590335845947,
          3.642855644226074,
          2.3630869388580322
         ]
        ],
        [
         140,
         [
          2.0868306159973145,
          3.9346561431884766,
          2.713484764099121,
          0,
          2.231053590774536
         ]
        ],
        [
         141,
         [
          0,
          3.302107334136963,
          2.606029510498047,
          2.018833637237549,
          4.464014530181885
         ]
        ],
        [
         142,
         [
          0.15120266377925873,
          4.487628936767578,
          2.7695472240448,
          1.4507544040679932,
          4.300529479980469
         ]
        ],
        [
         143,
         [
          1.8976778984069824,
          3.315692663192749,
          3.1310956478118896,
          1.7125228643417358,
          3.0611610412597656
         ]
        ],
        [
         144,
         [
          3.4794187545776367,
          2.6088995933532715,
          2.8059659004211426,
          1.1051024198532104,
          3.116109848022461
         ]
        ],
        [
         145,
         [
          2.693779945373535,
          4.663212299346924,
          3.62217116355896,
          1.7595067024230957,
          2.6515772342681885
         ]
        ],
        [
         146,
         [
          4.773383140563965,
          1.7890528440475464,
          1.5245506763458252,
          2.59311842918396,
          2.7205631732940674
         ]
        ],
        [
         147,
         [
          2.6085195541381836,
          2.718958616256714,
          0.8195593357086182,
          1.973818302154541,
          2.934947967529297
         ]
        ],
        [
         148,
         [
          2.185302972793579,
          4.040153503417969,
          1.0413310527801514,
          1.0528644323349,
          3.5796456336975098
         ]
        ],
        [
         149,
         [
          2.5318093299865723,
          4.94343376159668,
          5.0503249168396,
          0.0017757965251803398,
          3.711794376373291
         ]
        ],
        [
         150,
         [
          0.6680200695991516,
          3.627134084701538,
          0,
          3.1283035278320312,
          2.6143991947174072
         ]
        ],
        [
         151,
         [
          2.242122173309326,
          1.2808350324630737,
          0,
          1.4033647775650024,
          3.6325106620788574
         ]
        ],
        [
         152,
         [
          1.4111618995666504,
          3.7861859798431396,
          3.040172815322876,
          2.7182962894439697,
          1.8895291090011597
         ]
        ],
        [
         153,
         [
          0.5057592391967773,
          6.134024620056152,
          2.4967453479766846,
          1.168214201927185,
          3.020787239074707
         ]
        ],
        [
         154,
         [
          2.8744871616363525,
          3.5872042179107666,
          2.688666582107544,
          2.766629457473755,
          2.740291118621826
         ]
        ],
        [
         155,
         [
          3.3148038387298584,
          3.8818278312683105,
          1.598484754562378,
          0.816276490688324,
          4.293903827667236
         ]
        ],
        [
         156,
         [
          1.9604722261428833,
          4.645613670349121,
          2.047581911087036,
          0.31366804242134094,
          3.140129566192627
         ]
        ],
        [
         157,
         [
          1.978760838508606,
          3.5369510650634766,
          3.7710254192352295,
          0.8212953805923462,
          3.421584367752075
         ]
        ],
        [
         158,
         [
          3.770441770553589,
          3.900322914123535,
          3.5712718963623047,
          2.7796804904937744,
          2.9765067100524902
         ]
        ],
        [
         159,
         [
          2.7073590755462646,
          1.7350925207138062,
          4.685794830322266,
          2.9187588691711426,
          1.1701335906982422
         ]
        ],
        [
         160,
         [
          2.865476369857788,
          4.068782329559326,
          2.651439666748047,
          2.4696643352508545,
          3.419496774673462
         ]
        ],
        [
         161,
         [
          2.5089378356933594,
          0,
          5.732461929321289,
          0,
          1.5773537158966064
         ]
        ],
        [
         162,
         [
          3.4172635078430176,
          3.5930798053741455,
          3.4450175762176514,
          1.0137070417404175,
          1.3279292583465576
         ]
        ],
        [
         163,
         [
          2.6295711994171143,
          2.4765243530273438,
          3.387136697769165,
          1.6837414503097534,
          3.9519760608673096
         ]
        ],
        [
         164,
         [
          1.132388949394226,
          2.41062593460083,
          3.3258612155914307,
          2.7626171112060547,
          3.2945895195007324
         ]
        ],
        [
         165,
         [
          2.753720998764038,
          3.9722652435302734,
          2.4408812522888184,
          1.8480952978134155,
          3.2489359378814697
         ]
        ],
        [
         166,
         [
          1.5668230056762695,
          3.281228542327881,
          1.0874090194702148,
          2.957977533340454,
          4.070357322692871
         ]
        ],
        [
         167,
         [
          0.27480682730674744,
          1.643540620803833,
          3.108004331588745,
          2.243452548980713,
          4.319984436035156
         ]
        ],
        [
         168,
         [
          1.7071610689163208,
          3.370351552963257,
          2.0751373767852783,
          2.151108741760254,
          3.0137693881988525
         ]
        ],
        [
         169,
         [
          0,
          0,
          0.8768181800842285,
          5.288679599761963,
          0
         ]
        ],
        [
         170,
         [
          2.509899854660034,
          3.7217118740081787,
          2.7990100383758545,
          0,
          3.4520320892333984
         ]
        ],
        [
         171,
         [
          0.7726659774780273,
          3.9897372722625732,
          4.350677967071533,
          0,
          0.6079288721084595
         ]
        ],
        [
         172,
         [
          2.1166889667510986,
          3.1597847938537598,
          2.5240867137908936,
          1.8270121812820435,
          3.817363739013672
         ]
        ],
        [
         173,
         [
          1.6977237462997437,
          3.1654598712921143,
          1.4967927932739258,
          2.386120319366455,
          3.76804518699646
         ]
        ],
        [
         174,
         [
          2.9297425746917725,
          3.752764940261841,
          1.261993169784546,
          2.335491180419922,
          3.4798996448516846
         ]
        ],
        [
         175,
         [
          0.5452790856361389,
          4.7445387840271,
          2.4494593143463135,
          0.6853179335594177,
          4.728466033935547
         ]
        ],
        [
         176,
         [
          2.2039132118225098,
          2.8552405834198,
          3.4512503147125244,
          1.7401305437088013,
          3.0855016708374023
         ]
        ],
        [
         177,
         [
          1.8583158254623413,
          3.0747411251068115,
          4.386024475097656,
          0.7015505433082581,
          2.3539538383483887
         ]
        ],
        [
         178,
         [
          3.4020016193389893,
          3.6241815090179443,
          3.666802167892456,
          2.5352649688720703,
          3.028614044189453
         ]
        ],
        [
         179,
         [
          2.674287796020508,
          4.711477756500244,
          2.2895455360412598,
          1.71614408493042,
          3.164458751678467
         ]
        ],
        [
         180,
         [
          2.086284875869751,
          3.7777211666107178,
          2.9556808471679688,
          2.7072622776031494,
          3.774961471557617
         ]
        ],
        [
         181,
         [
          1.937665581703186,
          2.715343475341797,
          3.622424364089966,
          2.7408294677734375,
          2.9058456420898438
         ]
        ],
        [
         182,
         [
          0.6951347589492798,
          2.70041823387146,
          4.519829273223877,
          0.4871407449245453,
          0.1583847850561142
         ]
        ],
        [
         183,
         [
          2.71651291847229,
          4.036670207977295,
          1.9135074615478516,
          2.4909861087799072,
          2.516127824783325
         ]
        ],
        [
         184,
         [
          5.266869068145752,
          2.773311138153076,
          1.6814112663269043,
          2.479407787322998,
          0.3637233078479767
         ]
        ],
        [
         185,
         [
          2.0116684436798096,
          3.510880947113037,
          2.081834077835083,
          2.5580825805664062,
          4.161965370178223
         ]
        ],
        [
         186,
         [
          1.7391595840454102,
          3.2512881755828857,
          3.5999908447265625,
          1.6230467557907104,
          4.486138820648193
         ]
        ],
        [
         187,
         [
          2.6156036853790283,
          3.6378214359283447,
          0.7586593627929688,
          0.9624192118644714,
          3.660421371459961
         ]
        ],
        [
         188,
         [
          2.2224395275115967,
          1.6785351037979126,
          2.7455708980560303,
          2.933720827102661,
          5.03812837600708
         ]
        ],
        [
         189,
         [
          1.7891709804534912,
          3.6998631954193115,
          1.8126450777053833,
          3.0675621032714844,
          3.6568679809570312
         ]
        ],
        [
         190,
         [
          1.466915249824524,
          2.3088221549987793,
          2.9938621520996094,
          2.042943000793457,
          2.390683650970459
         ]
        ],
        [
         191,
         [
          2.6158697605133057,
          4.645458698272705,
          0.3715660274028778,
          1.2294409275054932,
          4.851024150848389
         ]
        ],
        [
         192,
         [
          3.374039888381958,
          2.105870008468628,
          3.775627374649048,
          2.131410598754883,
          3.1165266036987305
         ]
        ],
        [
         193,
         [
          0.1295434683561325,
          5.793113708496094,
          4.5754265785217285,
          0.06176227331161499,
          0.49280545115470886
         ]
        ],
        [
         194,
         [
          2.552828311920166,
          4.8200578689575195,
          2.108166456222534,
          0.6733142733573914,
          3.282196283340454
         ]
        ],
        [
         195,
         [
          3.1439764499664307,
          2.278615713119507,
          3.936491012573242,
          1.0790098905563354,
          1.739917278289795
         ]
        ],
        [
         196,
         [
          2.1184074878692627,
          2.5173025131225586,
          1.533109188079834,
          1.3183670043945312,
          3.7872111797332764
         ]
        ],
        [
         197,
         [
          1.51034677028656,
          4.355250358581543,
          1.9596164226531982,
          1.6589552164077759,
          4.075288772583008
         ]
        ],
        [
         198,
         [
          0,
          5.203134059906006,
          0.2763047516345978,
          1.9407154321670532,
          1.9784142971038818
         ]
        ],
        [
         199,
         [
          0.6711323857307434,
          3.0867509841918945,
          4.050386905670166,
          1.8613475561141968,
          2.919121265411377
         ]
        ],
        [
         200,
         [
          2.307246446609497,
          2.7630701065063477,
          1.6135271787643433,
          1.0852183103561401,
          4.341987609863281
         ]
        ],
        [
         201,
         [
          1.6841425895690918,
          3.149226665496826,
          4.194785118103027,
          1.4596117734909058,
          1.7997548580169678
         ]
        ],
        [
         202,
         [
          2.4159939289093018,
          3.577653646469116,
          4.378344535827637,
          0.3056240379810333,
          2.3868112564086914
         ]
        ],
        [
         203,
         [
          1.6155246496200562,
          2.8685882091522217,
          2.996253490447998,
          1.5436819791793823,
          5.518116474151611
         ]
        ],
        [
         204,
         [
          4.665574073791504,
          2.3785245418548584,
          1.5095574855804443,
          3.2875537872314453,
          2.815361499786377
         ]
        ],
        [
         205,
         [
          0.8839545249938965,
          3.3542582988739014,
          4.253815650939941,
          3.2408900260925293,
          4.322216510772705
         ]
        ],
        [
         206,
         [
          2.0172040462493896,
          3.485415458679199,
          1.8277748823165894,
          2.7448835372924805,
          3.632171154022217
         ]
        ],
        [
         207,
         [
          4.580420017242432,
          3.3443922996520996,
          0.6695367097854614,
          2.351012945175171,
          0.3735910952091217
         ]
        ],
        [
         208,
         [
          0,
          2.5072214603424072,
          0.7457210421562195,
          3.2964906692504883,
          3.194105863571167
         ]
        ],
        [
         209,
         [
          4.321922779083252,
          3.0171234607696533,
          2.0446813106536865,
          2.641697645187378,
          4.4826884269714355
         ]
        ],
        [
         210,
         [
          2.11407470703125,
          3.9121034145355225,
          4.672054290771484,
          1.8861249685287476,
          4.2749834060668945
         ]
        ],
        [
         211,
         [
          2.1580543518066406,
          1.4726535081863403,
          4.66760778427124,
          4.148626327514648,
          1.0560195446014404
         ]
        ],
        [
         212,
         [
          0.8164389133453369,
          4.2054572105407715,
          0.09766148775815964,
          2.24894380569458,
          2.004146099090576
         ]
        ],
        [
         213,
         [
          1.927642822265625,
          2.7307114601135254,
          0.8681783080101013,
          2.254610776901245,
          4.107199668884277
         ]
        ],
        [
         214,
         [
          1.3433644771575928,
          3.0193583965301514,
          1.4978842735290527,
          1.9888641834259033,
          3.702324628829956
         ]
        ],
        [
         215,
         [
          1.9282610416412354,
          2.9919087886810303,
          0,
          1.148293375968933,
          4.916831016540527
         ]
        ],
        [
         216,
         [
          2.5973310470581055,
          3.913841485977173,
          2.974039316177368,
          1.9129470586776733,
          1.8095121383666992
         ]
        ],
        [
         217,
         [
          0.9544157385826111,
          4.3207550048828125,
          0.27478259801864624,
          2.1416385173797607,
          1.130285620689392
         ]
        ],
        [
         218,
         [
          1.907029628753662,
          4.826100826263428,
          0.16513577103614807,
          1.6463992595672607,
          4.259855270385742
         ]
        ],
        [
         219,
         [
          1.1094622611999512,
          4.907513618469238,
          1.957527756690979,
          0.8683845400810242,
          2.7894418239593506
         ]
        ],
        [
         220,
         [
          0.4927186965942383,
          0.02384663000702858,
          0.1308269053697586,
          0.41067659854888916,
          0.06499827653169632
         ]
        ],
        [
         221,
         [
          2.3567864894866943,
          2.6103765964508057,
          1.7584830522537231,
          1.8943202495574951,
          4.011567115783691
         ]
        ],
        [
         222,
         [
          3.0614712238311768,
          2.650818347930908,
          4.576889514923096,
          2.2640743255615234,
          3.430173873901367
         ]
        ],
        [
         223,
         [
          2.0244626998901367,
          3.7044825553894043,
          2.637589931488037,
          2.9626173973083496,
          3.8207504749298096
         ]
        ],
        [
         224,
         [
          0.9448981881141663,
          1.0943289995193481,
          2.2733898162841797,
          0,
          5.079812526702881
         ]
        ],
        [
         225,
         [
          0.5389052629470825,
          3.662172555923462,
          3.4526500701904297,
          2.3404505252838135,
          3.6150848865509033
         ]
        ],
        [
         226,
         [
          4.986039161682129,
          1.2495750188827515,
          3.5798277854919434,
          0.8067798614501953,
          3.9555177688598633
         ]
        ],
        [
         227,
         [
          0.649714469909668,
          3.1942899227142334,
          3.1769604682922363,
          1.6807109117507935,
          3.706843137741089
         ]
        ],
        [
         228,
         [
          0.7109915018081665,
          3.161329746246338,
          0.5311388373374939,
          2.5808722972869873,
          3.659813404083252
         ]
        ],
        [
         229,
         [
          2.6647064685821533,
          2.421210527420044,
          4.521940231323242,
          3.533823013305664,
          2.088796377182007
         ]
        ],
        [
         230,
         [
          0,
          5.016393184661865,
          0.11389528214931488,
          2.3086676597595215,
          5.4994306564331055
         ]
        ],
        [
         231,
         [
          2.2789158821105957,
          2.8167126178741455,
          2.8133695125579834,
          1.65829598903656,
          4.982120037078857
         ]
        ],
        [
         232,
         [
          3.92231822013855,
          2.3671813011169434,
          1.90652334690094,
          0,
          3.0219883918762207
         ]
        ],
        [
         233,
         [
          1.2902497053146362,
          3.194483757019043,
          2.151958703994751,
          1.5948482751846313,
          4.389729976654053
         ]
        ],
        [
         234,
         [
          2.7138469219207764,
          4.456536293029785,
          3.5796985626220703,
          1.7019532918930054,
          1.8361152410507202
         ]
        ],
        [
         235,
         [
          2.655302047729492,
          4.133823871612549,
          1.958146333694458,
          2.603425979614258,
          3.337272882461548
         ]
        ],
        [
         236,
         [
          3.2545268535614014,
          1.4908013343811035,
          0.30878204107284546,
          1.2560515403747559,
          0.8493099212646484
         ]
        ],
        [
         237,
         [
          1.8826693296432495,
          3.663250207901001,
          5.413418769836426,
          1.5836447477340698,
          0.9564967155456543
         ]
        ],
        [
         238,
         [
          0,
          4.2450480461120605,
          3.5100343227386475,
          3.1800503730773926,
          2.0070841312408447
         ]
        ],
        [
         239,
         [
          1.8064018487930298,
          2.996673822402954,
          1.4922922849655151,
          1.912196397781372,
          2.97084379196167
         ]
        ],
        [
         240,
         [
          3.7065317630767822,
          3.2010536193847656,
          1.7777972221374512,
          2.659729242324829,
          3.193009614944458
         ]
        ],
        [
         241,
         [
          2.408165216445923,
          3.457166910171509,
          2.6599066257476807,
          1.549639344215393,
          2.8217434883117676
         ]
        ],
        [
         242,
         [
          2.4757070541381836,
          5.906129360198975,
          1.9406310319900513,
          0.9708678722381592,
          1.6123985052108765
         ]
        ],
        [
         243,
         [
          0,
          0.724833071231842,
          0.509361743927002,
          1.156337857246399,
          0.48404771089553833
         ]
        ],
        [
         244,
         [
          4.295143127441406,
          3.0507490634918213,
          1.453437328338623,
          1.6327323913574219,
          1.017643928527832
         ]
        ],
        [
         245,
         [
          1.9216023683547974,
          3.129045248031616,
          2.199448823928833,
          1.7997132539749146,
          3.023750066757202
         ]
        ],
        [
         246,
         [
          0.5068714022636414,
          4.785383224487305,
          2.215649127960205,
          2.2362024784088135,
          2.4680275917053223
         ]
        ],
        [
         247,
         [
          1.7738449573516846,
          2.9265024662017822,
          2.5923027992248535,
          2.7349042892456055,
          4.8547468185424805
         ]
        ],
        [
         248,
         [
          0.7040495276451111,
          2.7487499713897705,
          1.1795930862426758,
          2.0133793354034424,
          2.86495041847229
         ]
        ],
        [
         249,
         [
          3.2499022483825684,
          3.355471611022949,
          1.860833764076233,
          1.6902199983596802,
          3.425276279449463
         ]
        ],
        [
         250,
         [
          3.051886558532715,
          3.7578532695770264,
          2.163356304168701,
          2.237210273742676,
          3.9905283451080322
         ]
        ],
        [
         251,
         [
          2.2196903228759766,
          3.5034339427948,
          3.818108558654785,
          1.4650508165359497,
          3.1375575065612793
         ]
        ],
        [
         252,
         [
          3.9616916179656982,
          2.980360984802246,
          2.2388081550598145,
          1.8334810733795166,
          2.4604811668395996
         ]
        ],
        [
         253,
         [
          1.8239564895629883,
          3.9424567222595215,
          1.6900396347045898,
          2.052993059158325,
          4.558207988739014
         ]
        ],
        [
         254,
         [
          0.32291796803474426,
          4.512025356292725,
          2.4711849689483643,
          0.7214781045913696,
          3.8817591667175293
         ]
        ],
        [
         255,
         [
          3.0253419876098633,
          4.2912750244140625,
          2.1342461109161377,
          2.4609241485595703,
          4.258586406707764
         ]
        ],
        [
         256,
         [
          1.471299409866333,
          2.7989304065704346,
          3.45218563079834,
          3.2340493202209473,
          2.855083703994751
         ]
        ],
        [
         257,
         [
          4.959802627563477,
          1.4661211967468262,
          3.606325149536133,
          0.8144879341125488,
          2.1526787281036377
         ]
        ],
        [
         258,
         [
          1.2202738523483276,
          4.052060127258301,
          0.591597855091095,
          2.6924166679382324,
          3.683607578277588
         ]
        ],
        [
         259,
         [
          2.22418212890625,
          3.084199905395508,
          3.550888776779175,
          2.822166681289673,
          2.004584312438965
         ]
        ],
        [
         260,
         [
          2.9837491512298584,
          2.5118095874786377,
          3.7403764724731445,
          2.793060541152954,
          4.0377726554870605
         ]
        ],
        [
         261,
         [
          0.9246935844421387,
          3.017605781555176,
          1.227023959159851,
          2.1644768714904785,
          5.130396366119385
         ]
        ],
        [
         262,
         [
          4.549739360809326,
          1.2585070133209229,
          3.562121868133545,
          0.831015408039093,
          2.486854076385498
         ]
        ],
        [
         263,
         [
          2.0138518810272217,
          5.466869831085205,
          1.9178847074508667,
          0,
          2.157773971557617
         ]
        ],
        [
         264,
         [
          2.037091016769409,
          2.9716036319732666,
          0,
          0.012233923189342022,
          3.238370418548584
         ]
        ],
        [
         265,
         [
          2.225409984588623,
          1.0427695512771606,
          3.290881872177124,
          3.7727348804473877,
          1.5006310939788818
         ]
        ],
        [
         266,
         [
          2.0682244300842285,
          2.85550594329834,
          3.921909809112549,
          2.050252676010132,
          2.790842294692993
         ]
        ],
        [
         267,
         [
          3.5459907054901123,
          1.516884684562683,
          4.089897632598877,
          0,
          2.848386764526367
         ]
        ],
        [
         268,
         [
          0.7891295552253723,
          1.6196807622909546,
          0.9136524796485901,
          1.6268703937530518,
          3.5406126976013184
         ]
        ],
        [
         269,
         [
          0.9428752064704895,
          3.8327982425689697,
          4.10505485534668,
          0.16508735716342926,
          3.0177462100982666
         ]
        ],
        [
         270,
         [
          0.9762086272239685,
          3.0634069442749023,
          3.5038270950317383,
          3.1199350357055664,
          1.693040370941162
         ]
        ],
        [
         271,
         [
          3.6096158027648926,
          3.9993667602539062,
          1.344334363937378,
          2.8954873085021973,
          3.2861416339874268
         ]
        ],
        [
         272,
         [
          0.8593679070472717,
          2.261491537094116,
          3.0023770332336426,
          2.55600905418396,
          4.793358325958252
         ]
        ],
        [
         273,
         [
          2.844536542892456,
          3.498335123062134,
          3.767202854156494,
          2.365910291671753,
          2.606606960296631
         ]
        ],
        [
         274,
         [
          3.2497682571411133,
          1.98790442943573,
          4.502009868621826,
          3.2152163982391357,
          0.1637585461139679
         ]
        ],
        [
         275,
         [
          1.1113537549972534,
          3.3789918422698975,
          1.2109514474868774,
          2.125519275665283,
          4.819257736206055
         ]
        ],
        [
         276,
         [
          2.9802634716033936,
          3.4608993530273438,
          1.687626838684082,
          1.1053434610366821,
          4.036229133605957
         ]
        ],
        [
         277,
         [
          1.650569200515747,
          2.899887800216675,
          1.33804452419281,
          1.7298264503479004,
          3.6968374252319336
         ]
        ],
        [
         278,
         [
          2.3484127521514893,
          4.612811088562012,
          3.251054048538208,
          0,
          4.236996173858643
         ]
        ],
        [
         279,
         [
          0,
          0,
          3.4069130420684814,
          0.17339752614498138,
          1.4692776203155518
         ]
        ],
        [
         280,
         [
          1.5600231885910034,
          3.3064727783203125,
          2.831275463104248,
          2.8575382232666016,
          4.162990093231201
         ]
        ],
        [
         281,
         [
          1.5887147188186646,
          1.3929721117019653,
          0.8332129120826721,
          3.8867387771606445,
          0.8608816862106323
         ]
        ],
        [
         282,
         [
          2.192333221435547,
          3.778898239135742,
          1.4208836555480957,
          0.6463060975074768,
          3.900031805038452
         ]
        ],
        [
         283,
         [
          1.9837925434112549,
          4.224246501922607,
          0.610557496547699,
          2.8398611545562744,
          3.30745792388916
         ]
        ],
        [
         284,
         [
          2.898416757583618,
          4.784241199493408,
          3.1194939613342285,
          1.1860452890396118,
          2.0446746349334717
         ]
        ],
        [
         285,
         [
          0.5900219082832336,
          2.4347798824310303,
          1.8837453126907349,
          3.4532437324523926,
          3.130573034286499
         ]
        ],
        [
         286,
         [
          2.138061761856079,
          3.575390338897705,
          0.26392456889152527,
          2.5806493759155273,
          3.1755897998809814
         ]
        ],
        [
         287,
         [
          1.8455394506454468,
          3.332883834838867,
          3.653596878051758,
          1.3872432708740234,
          3.44138765335083
         ]
        ],
        [
         288,
         [
          1.94816255569458,
          2.9991016387939453,
          1.0866429805755615,
          1.5218091011047363,
          3.7070400714874268
         ]
        ],
        [
         289,
         [
          3.0508434772491455,
          0.7109852433204651,
          1.2901400327682495,
          4.713693141937256,
          2.786644220352173
         ]
        ],
        [
         290,
         [
          2.265753746032715,
          2.12636399269104,
          4.046930313110352,
          2.9036383628845215,
          2.4520041942596436
         ]
        ],
        [
         291,
         [
          2.4389991760253906,
          3.2644152641296387,
          2.7128615379333496,
          2.637737989425659,
          4.321933746337891
         ]
        ],
        [
         292,
         [
          0.7562273144721985,
          2.9624273777008057,
          0,
          2.3989627361297607,
          5.029926300048828
         ]
        ],
        [
         293,
         [
          2.080156087875366,
          2.405205726623535,
          3.765514612197876,
          2.5354244709014893,
          3.949004650115967
         ]
        ],
        [
         294,
         [
          2.0339386463165283,
          1.8544611930847168,
          1.5384842157363892,
          2.4282877445220947,
          3.136133909225464
         ]
        ],
        [
         295,
         [
          1.7046388387680054,
          3.5585997104644775,
          1.9593677520751953,
          2.9299566745758057,
          3.3787150382995605
         ]
        ],
        [
         296,
         [
          0,
          1.3552640676498413,
          7.026998043060303,
          0.3006204664707184,
          0
         ]
        ],
        [
         297,
         [
          2.239151954650879,
          4.3404083251953125,
          3.8443851470947266,
          2.7853617668151855,
          2.613537549972534
         ]
        ],
        [
         298,
         [
          0.6672216057777405,
          2.5264999866485596,
          2.2807326316833496,
          1.3392430543899536,
          3.365203857421875
         ]
        ],
        [
         299,
         [
          2.1027204990386963,
          3.677370071411133,
          2.8208298683166504,
          1.940328598022461,
          3.218693733215332
         ]
        ],
        [
         300,
         [
          2.1177985668182373,
          3.9235610961914062,
          1.3579204082489014,
          2.98066782951355,
          3.1905629634857178
         ]
        ],
        [
         301,
         [
          1.4984203577041626,
          3.8917789459228516,
          3.4177935123443604,
          2.6808228492736816,
          4.512946128845215
         ]
        ],
        [
         302,
         [
          1.670494556427002,
          2.747069835662842,
          2.36254620552063,
          1.9633045196533203,
          4.096081256866455
         ]
        ],
        [
         303,
         [
          1.236737847328186,
          3.118928909301758,
          2.8158652782440186,
          1.3533860445022583,
          3.66575288772583
         ]
        ],
        [
         304,
         [
          2.9160714149475098,
          2.7022719383239746,
          2.78995418548584,
          1.6587437391281128,
          0
         ]
        ],
        [
         305,
         [
          3.5041356086730957,
          0,
          2.5948808193206787,
          1.7231961488723755,
          2.7966272830963135
         ]
        ],
        [
         306,
         [
          1.5709835290908813,
          4.388279914855957,
          2.072333574295044,
          1.7790148258209229,
          4.805046558380127
         ]
        ],
        [
         307,
         [
          1.5967785120010376,
          2.7123138904571533,
          4.223962783813477,
          2.749255895614624,
          1.3384084701538086
         ]
        ],
        [
         308,
         [
          1.442133903503418,
          0.9385982751846313,
          1.9538373947143555,
          1.9713819026947021,
          2.9088518619537354
         ]
        ],
        [
         309,
         [
          0.38707053661346436,
          0.44650909304618835,
          0.4213782548904419,
          0.27307191491127014,
          0.3679097890853882
         ]
        ],
        [
         310,
         [
          3.1143414974212646,
          3.8827991485595703,
          2.0474894046783447,
          0.23687635362148285,
          3.186577558517456
         ]
        ],
        [
         311,
         [
          4.92913818359375,
          2.6888396739959717,
          3.1414201259613037,
          0,
          4.434139728546143
         ]
        ],
        [
         312,
         [
          2.6684839725494385,
          2.899954319000244,
          1.5849357843399048,
          2.0596261024475098,
          3.8298661708831787
         ]
        ],
        [
         313,
         [
          1.5003434419631958,
          2.9506077766418457,
          2.052269697189331,
          2.8441476821899414,
          3.4717233180999756
         ]
        ],
        [
         314,
         [
          1.8902630805969238,
          3.2185585498809814,
          2.806159019470215,
          2.7722251415252686,
          3.652071475982666
         ]
        ],
        [
         315,
         [
          1.168045163154602,
          3.530383825302124,
          0.5706415176391602,
          0.7400622963905334,
          4.218608856201172
         ]
        ],
        [
         316,
         [
          2.375818967819214,
          2.7034378051757812,
          2.2075917720794678,
          1.480138897895813,
          4.425435543060303
         ]
        ],
        [
         317,
         [
          3.288045644760132,
          3.6416473388671875,
          3.76187801361084,
          1.85598886013031,
          4.903569221496582
         ]
        ],
        [
         318,
         [
          3.169523239135742,
          2.120748996734619,
          2.4923882484436035,
          2.076220989227295,
          2.7173335552215576
         ]
        ],
        [
         319,
         [
          2.159883737564087,
          4.066040992736816,
          2.478015422821045,
          1.8912262916564941,
          2.9454469680786133
         ]
        ],
        [
         320,
         [
          0.5006976127624512,
          5.165884494781494,
          3.0687673091888428,
          1.1591805219650269,
          2.2268283367156982
         ]
        ],
        [
         321,
         [
          1.2968846559524536,
          2.0797059535980225,
          1.9815881252288818,
          1.8945369720458984,
          3.9377973079681396
         ]
        ],
        [
         322,
         [
          1.0956617593765259,
          3.2048494815826416,
          2.872302532196045,
          0.9304099678993225,
          4.353114128112793
         ]
        ],
        [
         323,
         [
          2.0489091873168945,
          5.703532695770264,
          3.770836591720581,
          0,
          1.336021900177002
         ]
        ],
        [
         324,
         [
          0.8552733659744263,
          0.8944183588027954,
          6.577654838562012,
          2.431735038757324,
          2.9213316440582275
         ]
        ],
        [
         325,
         [
          0,
          3.2807648181915283,
          2.6422200202941895,
          1.1489059925079346,
          3.965261459350586
         ]
        ],
        [
         326,
         [
          6.826968193054199,
          0,
          2.0455427169799805,
          0,
          4.093001842498779
         ]
        ],
        [
         327,
         [
          3.08561110496521,
          4.130614757537842,
          1.049363613128662,
          0.5736145973205566,
          3.348806619644165
         ]
        ],
        [
         328,
         [
          0.36111801862716675,
          2.76004958152771,
          1.0905275344848633,
          0,
          1.8855358362197876
         ]
        ],
        [
         329,
         [
          1.400413155555725,
          3.376459836959839,
          2.9588685035705566,
          0.98316890001297,
          0.8451025485992432
         ]
        ],
        [
         330,
         [
          3.1378173828125,
          3.4454445838928223,
          3.2840774059295654,
          2.3543992042541504,
          4.65824031829834
         ]
        ],
        [
         331,
         [
          1.4343479871749878,
          2.201777696609497,
          4.2479705810546875,
          3.210580825805664,
          3.6747331619262695
         ]
        ],
        [
         332,
         [
          2.8401758670806885,
          4.088006019592285,
          2.3327982425689697,
          1.0247225761413574,
          3.057502508163452
         ]
        ],
        [
         333,
         [
          2.055715322494507,
          3.154932737350464,
          2.993574857711792,
          3.4004099369049072,
          3.9960756301879883
         ]
        ],
        [
         334,
         [
          2.469637632369995,
          3.583402395248413,
          1.594628095626831,
          2.1336147785186768,
          4.415827751159668
         ]
        ],
        [
         335,
         [
          2.737412452697754,
          3.6447031497955322,
          2.08085298538208,
          2.6483469009399414,
          3.808492660522461
         ]
        ],
        [
         336,
         [
          2.204824686050415,
          3.2712950706481934,
          3.1936328411102295,
          1.5824477672576904,
          2.7749781608581543
         ]
        ],
        [
         337,
         [
          1.9788165092468262,
          3.1903345584869385,
          4.032214164733887,
          1.500410795211792,
          2.9977543354034424
         ]
        ],
        [
         338,
         [
          2.002908229827881,
          4.039765357971191,
          1.7043308019638062,
          1.427067518234253,
          3.840552806854248
         ]
        ],
        [
         339,
         [
          0,
          1.0062450170516968,
          2.1176512241363525,
          3.4121294021606445,
          2.466041088104248
         ]
        ],
        [
         340,
         [
          2.585442304611206,
          3.482947587966919,
          3.0566234588623047,
          3.066762924194336,
          4.120441913604736
         ]
        ],
        [
         341,
         [
          2.0565624237060547,
          3.8803751468658447,
          1.5604398250579834,
          2.6456081867218018,
          3.7885994911193848
         ]
        ],
        [
         342,
         [
          1.5321192741394043,
          3.9145872592926025,
          2.405457019805908,
          1.9547368288040161,
          2.8244740962982178
         ]
        ],
        [
         343,
         [
          1.3765841722488403,
          3.089388370513916,
          2.0516133308410645,
          2.636355400085449,
          3.4657039642333984
         ]
        ],
        [
         344,
         [
          3.0938055515289307,
          4.25200891494751,
          3.5626027584075928,
          2.672196626663208,
          3.5856857299804688
         ]
        ],
        [
         345,
         [
          1.9084521532058716,
          3.0624125003814697,
          1.3662521839141846,
          1.6966419219970703,
          3.1831679344177246
         ]
        ],
        [
         346,
         [
          0,
          1.1632452011108398,
          5.753480434417725,
          0.9426332712173462,
          1.4156262874603271
         ]
        ],
        [
         347,
         [
          2.0326085090637207,
          2.9790337085723877,
          3.1128265857696533,
          0.877019464969635,
          5.020646572113037
         ]
        ],
        [
         348,
         [
          2.787139654159546,
          5.075481414794922,
          0.9625936150550842,
          2.4438631534576416,
          3.8504655361175537
         ]
        ],
        [
         349,
         [
          2.571976661682129,
          2.576986789703369,
          0,
          2.6426897048950195,
          4.1884765625
         ]
        ],
        [
         350,
         [
          0.9239556789398193,
          3.7125275135040283,
          2.8389182090759277,
          1.4687224626541138,
          4.327949047088623
         ]
        ],
        [
         351,
         [
          0.9808205962181091,
          3.0634117126464844,
          2.220674514770508,
          3.5277085304260254,
          3.3115897178649902
         ]
        ],
        [
         352,
         [
          0.6703683137893677,
          3.6288373470306396,
          0,
          3.3147900104522705,
          5.029184341430664
         ]
        ],
        [
         353,
         [
          2.778709650039673,
          1.6971559524536133,
          5.505483627319336,
          2.826629400253296,
          1.1155195236206055
         ]
        ],
        [
         354,
         [
          4.010440349578857,
          3.7955281734466553,
          2.9591891765594482,
          2.229292631149292,
          3.1822140216827393
         ]
        ],
        [
         355,
         [
          1.8211886882781982,
          2.9002609252929688,
          4.161424160003662,
          1.0100376605987549,
          2.786425828933716
         ]
        ],
        [
         356,
         [
          0.7112926244735718,
          3.574458122253418,
          1.2828303575515747,
          2.8467907905578613,
          3.0338480472564697
         ]
        ],
        [
         357,
         [
          2.433184862136841,
          3.448913097381592,
          1.7062076330184937,
          1.6735390424728394,
          2.5414528846740723
         ]
        ],
        [
         358,
         [
          1.6107391119003296,
          3.423112630844116,
          0.4116501808166504,
          2.784165382385254,
          3.9933969974517822
         ]
        ],
        [
         359,
         [
          3.3370447158813477,
          2.0444772243499756,
          2.4998111724853516,
          0.9243433475494385,
          3.2950217723846436
         ]
        ],
        [
         360,
         [
          2.3033316135406494,
          2.7964842319488525,
          2.306781768798828,
          3.7001006603240967,
          4.096231460571289
         ]
        ],
        [
         361,
         [
          3.953700542449951,
          2.9633493423461914,
          2.5836293697357178,
          2.0806472301483154,
          3.5341694355010986
         ]
        ],
        [
         362,
         [
          1.736860990524292,
          3.4663028717041016,
          0.5055595636367798,
          1.7459502220153809,
          3.1179757118225098
         ]
        ],
        [
         363,
         [
          2.5935752391815186,
          2.73116135597229,
          2.8765439987182617,
          1.8367210626602173,
          4.553103923797607
         ]
        ],
        [
         364,
         [
          4.169666767120361,
          3.2616126537323,
          1.5932096242904663,
          2.075582981109619,
          3.7963037490844727
         ]
        ],
        [
         365,
         [
          2.129960775375366,
          3.66861891746521,
          0,
          0.336250901222229,
          4.791100978851318
         ]
        ],
        [
         366,
         [
          2.85201358795166,
          3.090449333190918,
          2.4305505752563477,
          0.6134154200553894,
          3.041550397872925
         ]
        ],
        [
         367,
         [
          2.1551856994628906,
          3.438911199569702,
          1.2372667789459229,
          0,
          3.886078357696533
         ]
        ],
        [
         368,
         [
          3.3261289596557617,
          2.5529654026031494,
          3.465674638748169,
          3.169302463531494,
          3.516554117202759
         ]
        ],
        [
         369,
         [
          2.100118398666382,
          3.911855459213257,
          2.4745519161224365,
          2.8486030101776123,
          3.314059257507324
         ]
        ],
        [
         370,
         [
          0.12306420505046844,
          4.333953857421875,
          1.04682195186615,
          1.1775741577148438,
          3.090113401412964
         ]
        ],
        [
         371,
         [
          3.8419623374938965,
          4.0323686599731445,
          2.419647455215454,
          0.5760716795921326,
          3.9045217037200928
         ]
        ],
        [
         372,
         [
          1.5911180973052979,
          2.951756715774536,
          2.324857234954834,
          2.4264426231384277,
          3.2798147201538086
         ]
        ],
        [
         373,
         [
          3.14544939994812,
          0.673198938369751,
          1.45577871799469,
          0.3226291835308075,
          1.6481560468673706
         ]
        ],
        [
         374,
         [
          2.5868818759918213,
          3.319951057434082,
          3.539525270462036,
          3.0579380989074707,
          3.6559605598449707
         ]
        ],
        [
         375,
         [
          2.355916976928711,
          3.3789827823638916,
          3.107208728790283,
          1.2797315120697021,
          3.735342264175415
         ]
        ],
        [
         376,
         [
          1.6397616863250732,
          1.7261052131652832,
          2.2646071910858154,
          2.946432590484619,
          2.410159111022949
         ]
        ],
        [
         377,
         [
          2.1509313583374023,
          2.324127435684204,
          3.3920178413391113,
          1.4564497470855713,
          4.244513988494873
         ]
        ],
        [
         378,
         [
          2.296008825302124,
          3.0719079971313477,
          3.0580036640167236,
          2.4165151119232178,
          3.979548454284668
         ]
        ],
        [
         379,
         [
          3.545646905899048,
          3.8235111236572266,
          3.371170997619629,
          0.8008409142494202,
          1.8036249876022339
         ]
        ],
        [
         380,
         [
          1.3876203298568726,
          1.8757104873657227,
          4.021670341491699,
          1.4129339456558228,
          4.172207832336426
         ]
        ],
        [
         381,
         [
          2.8996901512145996,
          3.3568854331970215,
          2.0573065280914307,
          2.045085906982422,
          5.528250694274902
         ]
        ],
        [
         382,
         [
          3.7426249980926514,
          2.819779634475708,
          1.2538636922836304,
          1.1875720024108887,
          3.2273733615875244
         ]
        ],
        [
         383,
         [
          2.2729995250701904,
          2.3615896701812744,
          4.273844242095947,
          3.6212563514709473,
          2.7125489711761475
         ]
        ],
        [
         384,
         [
          1.342564582824707,
          3.0829384326934814,
          1.2395751476287842,
          1.276605248451233,
          4.753252983093262
         ]
        ],
        [
         385,
         [
          2.413743019104004,
          4.578136920928955,
          3.673121929168701,
          0,
          2.5081396102905273
         ]
        ],
        [
         386,
         [
          1.5984045267105103,
          4.0062255859375,
          1.53058660030365,
          2.3848769664764404,
          3.554109573364258
         ]
        ],
        [
         387,
         [
          1.8899883031845093,
          3.3639049530029297,
          4.433178901672363,
          1.3512179851531982,
          4.163641452789307
         ]
        ],
        [
         388,
         [
          2.7235591411590576,
          3.683192729949951,
          0.8820108771324158,
          2.616150379180908,
          3.40366268157959
         ]
        ],
        [
         389,
         [
          2.673814535140991,
          3.206432342529297,
          3.31441593170166,
          3.8088998794555664,
          3.7934799194335938
         ]
        ],
        [
         390,
         [
          1.7243292331695557,
          4.2151875495910645,
          1.5854030847549438,
          1.503226399421692,
          2.9171111583709717
         ]
        ],
        [
         391,
         [
          2.7326560020446777,
          3.6933553218841553,
          0.9404399394989014,
          2.890821933746338,
          4.28696346282959
         ]
        ],
        [
         392,
         [
          2.0581254959106445,
          3.6758856773376465,
          2.33140230178833,
          3.2422871589660645,
          2.9768974781036377
         ]
        ],
        [
         393,
         [
          2.836799144744873,
          3.7877042293548584,
          2.3099777698516846,
          0.6806342005729675,
          2.2039966583251953
         ]
        ],
        [
         394,
         [
          0.7736268639564514,
          3.153909206390381,
          4.517407417297363,
          2.239121913909912,
          1.0307062864303589
         ]
        ],
        [
         395,
         [
          1.9482053518295288,
          3.1876773834228516,
          1.9678903818130493,
          1.645785927772522,
          3.1395797729492188
         ]
        ],
        [
         396,
         [
          1.8961005210876465,
          2.4037137031555176,
          0.08887921273708344,
          1.0266575813293457,
          4.192071437835693
         ]
        ],
        [
         397,
         [
          1.070556402206421,
          2.145437717437744,
          5.2115864753723145,
          2.8607900142669678,
          2.0726492404937744
         ]
        ],
        [
         398,
         [
          4.307718753814697,
          3.3979318141937256,
          2.272843599319458,
          0,
          1.0643705129623413
         ]
        ],
        [
         399,
         [
          3.2224674224853516,
          3.502204418182373,
          3.3056864738464355,
          1.634352207183838,
          3.010784864425659
         ]
        ],
        [
         400,
         [
          2.162720203399658,
          4.1695146560668945,
          2.016343593597412,
          1.5180163383483887,
          5.01483154296875
         ]
        ],
        [
         401,
         [
          2.7253851890563965,
          2.7153782844543457,
          5.437902450561523,
          1.739616870880127,
          2.9834794998168945
         ]
        ],
        [
         402,
         [
          2.402752161026001,
          3.0083088874816895,
          2.050431251525879,
          2.6862735748291016,
          3.4405159950256348
         ]
        ],
        [
         403,
         [
          1.7447950839996338,
          2.772111177444458,
          2.0722970962524414,
          0,
          2.8511855602264404
         ]
        ],
        [
         404,
         [
          2.164658308029175,
          0.5658125281333923,
          3.562711238861084,
          2.1833903789520264,
          3.6597201824188232
         ]
        ],
        [
         405,
         [
          1.897911787033081,
          4.362708568572998,
          3.4032177925109863,
          4.952634811401367,
          2.5671608448028564
         ]
        ],
        [
         406,
         [
          2.3692820072174072,
          4.304692268371582,
          0,
          2.529723644256592,
          4.880459308624268
         ]
        ],
        [
         407,
         [
          3.3572757244110107,
          1.7194130420684814,
          2.763814687728882,
          1.8979456424713135,
          3.100313425064087
         ]
        ],
        [
         408,
         [
          1.5651947259902954,
          3.600696325302124,
          0.48359203338623047,
          1.4627273082733154,
          2.8843677043914795
         ]
        ],
        [
         409,
         [
          2.8029515743255615,
          3.952556848526001,
          2.4215874671936035,
          2.6042890548706055,
          4.10225248336792
         ]
        ],
        [
         410,
         [
          1.6813117265701294,
          2.8518099784851074,
          1.3192299604415894,
          2.1133968830108643,
          2.1085727214813232
         ]
        ],
        [
         411,
         [
          1.6986513137817383,
          2.332927703857422,
          3.1665711402893066,
          2.4062466621398926,
          3.677215814590454
         ]
        ],
        [
         412,
         [
          0.3258660137653351,
          2.6311848163604736,
          2.4677155017852783,
          3.9543135166168213,
          3.6309421062469482
         ]
        ],
        [
         413,
         [
          3.685434579849243,
          4.192521095275879,
          3.229214906692505,
          2.3182966709136963,
          1.60709547996521
         ]
        ],
        [
         414,
         [
          1.834364414215088,
          2.3739936351776123,
          1.2253532409667969,
          2.0910604000091553,
          4.487098217010498
         ]
        ],
        [
         415,
         [
          2.5191147327423096,
          4.469627380371094,
          0.7055285573005676,
          0,
          3.103726625442505
         ]
        ],
        [
         416,
         [
          1.4888373613357544,
          2.687988519668579,
          3.9601192474365234,
          3.32210111618042,
          2.828104257583618
         ]
        ],
        [
         417,
         [
          3.4777801036834717,
          2.577108383178711,
          1.3707128763198853,
          0.3219972848892212,
          4.529829502105713
         ]
        ],
        [
         418,
         [
          2.2754170894622803,
          2.5823910236358643,
          2.4320826530456543,
          2.031510829925537,
          4.131557464599609
         ]
        ],
        [
         419,
         [
          1.1833107471466064,
          4.479791164398193,
          0.4559215307235718,
          3.9621148109436035,
          3.331725835800171
         ]
        ],
        [
         420,
         [
          2.0349700450897217,
          2.832780361175537,
          3.7214279174804688,
          3.2379987239837646,
          1.5992010831832886
         ]
        ],
        [
         421,
         [
          2.0666873455047607,
          3.7361085414886475,
          1.91568124294281,
          2.995978593826294,
          4.172645568847656
         ]
        ],
        [
         422,
         [
          3.0473294258117676,
          1.9886188507080078,
          3.4485628604888916,
          2.3454627990722656,
          4.81583833694458
         ]
        ],
        [
         423,
         [
          2.2158868312835693,
          3.5336503982543945,
          2.6898999214172363,
          1.980633020401001,
          2.9157190322875977
         ]
        ],
        [
         424,
         [
          1.7389262914657593,
          3.302812337875366,
          1.7263214588165283,
          2.163869619369507,
          3.4267632961273193
         ]
        ],
        [
         425,
         [
          0.853512167930603,
          1.733981728553772,
          3.989784002304077,
          2.793348550796509,
          5.16312313079834
         ]
        ],
        [
         427,
         [
          0.2236044704914093,
          1.319396734237671,
          4.468905448913574,
          1.9816745519638062,
          0
         ]
        ],
        [
         428,
         [
          1.7796294689178467,
          3.7376275062561035,
          1.7648004293441772,
          2.7297403812408447,
          3.829789876937866
         ]
        ],
        [
         429,
         [
          1.9048750400543213,
          1.557342290878296,
          2.3936142921447754,
          4.139252662658691,
          2.3748085498809814
         ]
        ],
        [
         430,
         [
          1.5682706832885742,
          3.7693254947662354,
          1.8757282495498657,
          3.0065627098083496,
          3.7015910148620605
         ]
        ],
        [
         431,
         [
          3.4048259258270264,
          2.7867727279663086,
          1.0486712455749512,
          0,
          3.004514455795288
         ]
        ],
        [
         432,
         [
          2.820253849029541,
          4.727034091949463,
          2.2602574825286865,
          2.448033094406128,
          2.8500730991363525
         ]
        ],
        [
         433,
         [
          2.8212618827819824,
          2.037355661392212,
          6.0125627517700195,
          1.1866390705108643,
          1.5339248180389404
         ]
        ],
        [
         434,
         [
          2.8068714141845703,
          3.877556800842285,
          2.2243332862854004,
          1.5213590860366821,
          2.540839910507202
         ]
        ],
        [
         435,
         [
          1.3175358772277832,
          3.3354785442352295,
          3.764411449432373,
          2.389451742172241,
          2.1235358715057373
         ]
        ],
        [
         436,
         [
          0.031622134149074554,
          5.00092077255249,
          0.08224409818649292,
          2.958411693572998,
          2.6530990600585938
         ]
        ],
        [
         437,
         [
          0.18304987251758575,
          4.702049732208252,
          2.8264660835266113,
          0.3395525813102722,
          3.956390619277954
         ]
        ],
        [
         438,
         [
          1.3347691297531128,
          3.6994054317474365,
          2.0818324089050293,
          3.3863799571990967,
          3.505984306335449
         ]
        ],
        [
         439,
         [
          1.618385910987854,
          3.801276206970215,
          2.8236238956451416,
          1.5877830982208252,
          1.2058899402618408
         ]
        ],
        [
         440,
         [
          3.4803237915039062,
          4.694404602050781,
          0.04616934061050415,
          0.5815565586090088,
          2.7113969326019287
         ]
        ],
        [
         441,
         [
          1.9006296396255493,
          2.3774657249450684,
          2.0832159519195557,
          0.9796443581581116,
          4.4857177734375
         ]
        ],
        [
         442,
         [
          0,
          0.09238649159669876,
          3.5182101726531982,
          2.059861660003662,
          0
         ]
        ],
        [
         443,
         [
          2.440624952316284,
          3.2463161945343018,
          2.699492931365967,
          2.6910829544067383,
          2.414440393447876
         ]
        ],
        [
         444,
         [
          2.5806539058685303,
          2.4092369079589844,
          1.6854430437088013,
          2.6416399478912354,
          3.9582858085632324
         ]
        ],
        [
         445,
         [
          1.129136323928833,
          0.9159027934074402,
          4.969646453857422,
          2.854506015777588,
          1.0153199434280396
         ]
        ],
        [
         446,
         [
          2.458836078643799,
          2.6095974445343018,
          3.5106611251831055,
          2.058131217956543,
          2.878878593444824
         ]
        ],
        [
         447,
         [
          2.365118980407715,
          3.35430645942688,
          1.0284810066223145,
          2.142106056213379,
          3.807565689086914
         ]
        ],
        [
         448,
         [
          1.5491541624069214,
          1.1818139553070068,
          4.70675802230835,
          4.817021369934082,
          2.0953822135925293
         ]
        ],
        [
         449,
         [
          3.2750320434570312,
          1.8926547765731812,
          2.0988566875457764,
          2.0409328937530518,
          2.015157699584961
         ]
        ],
        [
         450,
         [
          2.2337942123413086,
          3.2326042652130127,
          2.2591142654418945,
          2.908872365951538,
          3.803706169128418
         ]
        ],
        [
         451,
         [
          1.5769705772399902,
          3.5638840198516846,
          3.373429775238037,
          1.0397045612335205,
          2.614635705947876
         ]
        ],
        [
         452,
         [
          1.4553157091140747,
          4.072967529296875,
          3.8515841960906982,
          2.986274242401123,
          2.41339373588562
         ]
        ],
        [
         453,
         [
          2.06126070022583,
          3.4629459381103516,
          2.402252197265625,
          3.3820159435272217,
          3.8057479858398438
         ]
        ],
        [
         454,
         [
          0.2752591669559479,
          4.640281677246094,
          1.929939866065979,
          0.7048032283782959,
          3.1422934532165527
         ]
        ],
        [
         455,
         [
          1.6085892915725708,
          3.630418539047241,
          0.7005250453948975,
          0.8160609006881714,
          3.972672700881958
         ]
        ],
        [
         456,
         [
          2.009995698928833,
          3.9225497245788574,
          3.100766658782959,
          2.199948310852051,
          2.8144240379333496
         ]
        ],
        [
         457,
         [
          2.297645092010498,
          3.8036246299743652,
          2.928115129470825,
          1.8940401077270508,
          2.5147581100463867
         ]
        ],
        [
         458,
         [
          0.963785707950592,
          1.8409956693649292,
          2.4151978492736816,
          2.231508493423462,
          2.792201280593872
         ]
        ],
        [
         459,
         [
          1.2945841550827026,
          4.319320201873779,
          0,
          3.22065806388855,
          3.373178005218506
         ]
        ],
        [
         460,
         [
          1.2863978147506714,
          3.9876303672790527,
          3.227522373199463,
          1.4724918603897095,
          2.4033761024475098
         ]
        ],
        [
         461,
         [
          0,
          2.194697856903076,
          3.0042550563812256,
          2.801985502243042,
          2.971843719482422
         ]
        ],
        [
         462,
         [
          2.7582221031188965,
          4.079465389251709,
          2.6802656650543213,
          3.527517557144165,
          2.7088277339935303
         ]
        ],
        [
         463,
         [
          1.495631456375122,
          2.063513994216919,
          0.6494446396827698,
          0.8314951062202454,
          2.7442615032196045
         ]
        ],
        [
         464,
         [
          1.0584025382995605,
          4.308315753936768,
          0.6990768313407898,
          3.4167096614837646,
          2.6805341243743896
         ]
        ],
        [
         465,
         [
          0.5881419777870178,
          3.0031237602233887,
          1.5448710918426514,
          2.799482822418213,
          2.715548276901245
         ]
        ],
        [
         466,
         [
          1.7435190677642822,
          3.261234998703003,
          2.1520986557006836,
          1.2570827007293701,
          4.746028900146484
         ]
        ],
        [
         467,
         [
          2.388648509979248,
          4.99031925201416,
          1.247653841972351,
          2.2515313625335693,
          1.1299784183502197
         ]
        ],
        [
         468,
         [
          2.5012216567993164,
          3.6882896423339844,
          1.6205350160598755,
          1.3350626230239868,
          4.912890911102295
         ]
        ],
        [
         469,
         [
          3.1139614582061768,
          2.8361592292785645,
          2.4275779724121094,
          1.400071620941162,
          4.739659786224365
         ]
        ],
        [
         470,
         [
          2.456112861633301,
          5.502878189086914,
          2.505420446395874,
          0,
          1.8062266111373901
         ]
        ],
        [
         471,
         [
          1.512934923171997,
          2.8188369274139404,
          2.2665438652038574,
          1.3897138833999634,
          3.4988622665405273
         ]
        ],
        [
         472,
         [
          0.9046134948730469,
          2.1175427436828613,
          4.209396839141846,
          1.8176416158676147,
          5.094290733337402
         ]
        ],
        [
         473,
         [
          1.6202011108398438,
          3.9891982078552246,
          1.523210048675537,
          2.325604200363159,
          3.7317745685577393
         ]
        ],
        [
         474,
         [
          0.940558671951294,
          3.9239978790283203,
          2.964012861251831,
          1.9124318361282349,
          3.8809351921081543
         ]
        ],
        [
         475,
         [
          5.818098545074463,
          2.0372707843780518,
          6.708824634552002,
          0,
          1.906337022781372
         ]
        ],
        [
         476,
         [
          4.0049285888671875,
          4.594996452331543,
          3.4110965728759766,
          0,
          2.2090137004852295
         ]
        ],
        [
         477,
         [
          1.9787909984588623,
          2.7739906311035156,
          2.0911786556243896,
          2.4126856327056885,
          5.405850887298584
         ]
        ],
        [
         478,
         [
          2.0652236938476562,
          3.087864637374878,
          3.0828044414520264,
          2.5202107429504395,
          3.932825803756714
         ]
        ],
        [
         479,
         [
          0.8491957187652588,
          4.642151832580566,
          0.9581437110900879,
          1.989209771156311,
          3.89685320854187
         ]
        ],
        [
         480,
         [
          2.8644752502441406,
          4.2180256843566895,
          3.047847270965576,
          0.3327091634273529,
          2.9974851608276367
         ]
        ],
        [
         481,
         [
          3.7945706844329834,
          4.539460182189941,
          0.16099674999713898,
          1.4604426622390747,
          4.470119476318359
         ]
        ],
        [
         482,
         [
          3.0945301055908203,
          2.689415454864502,
          1.2132718563079834,
          2.584859848022461,
          2.6639397144317627
         ]
        ],
        [
         483,
         [
          2.0059123039245605,
          3.603926420211792,
          1.1876379251480103,
          2.9046595096588135,
          3.9473180770874023
         ]
        ],
        [
         484,
         [
          2.2119760513305664,
          3.678863763809204,
          2.9621591567993164,
          1.9533966779708862,
          2.6364681720733643
         ]
        ],
        [
         485,
         [
          2.5909950733184814,
          4.6383819580078125,
          0.9956468939781189,
          1.9611494541168213,
          3.274071455001831
         ]
        ],
        [
         486,
         [
          3.108496904373169,
          4.528192520141602,
          2.2197117805480957,
          2.531773090362549,
          3.7143073081970215
         ]
        ],
        [
         487,
         [
          0,
          2.527709484100342,
          0.7103670835494995,
          1.2049908638000488,
          4.475492477416992
         ]
        ],
        [
         488,
         [
          2.743168830871582,
          4.552662372589111,
          0,
          2.2121758460998535,
          3.260244846343994
         ]
        ],
        [
         489,
         [
          2.4828264713287354,
          3.518981456756592,
          2.117657423019409,
          2.320892333984375,
          3.627551555633545
         ]
        ],
        [
         490,
         [
          0,
          3.417188882827759,
          2.9665892124176025,
          0,
          2.5195791721343994
         ]
        ],
        [
         491,
         [
          2.5625224113464355,
          3.697171926498413,
          2.7559263706207275,
          1.9487173557281494,
          4.011343955993652
         ]
        ],
        [
         492,
         [
          3.6614480018615723,
          4.425303936004639,
          1.583720326423645,
          3.489237070083618,
          1.5543724298477173
         ]
        ],
        [
         493,
         [
          1.8027137517929077,
          4.386971473693848,
          4.162239074707031,
          1.398111343383789,
          2.7278690338134766
         ]
        ],
        [
         494,
         [
          3.503180742263794,
          3.5605616569519043,
          5.015728950500488,
          2.0049099922180176,
          2.5534849166870117
         ]
        ],
        [
         495,
         [
          2.6017298698425293,
          3.057483673095703,
          1.305646538734436,
          1.1922049522399902,
          4.762132167816162
         ]
        ],
        [
         496,
         [
          1.9169306755065918,
          4.023930072784424,
          1.2957541942596436,
          1.253495454788208,
          4.22680139541626
         ]
        ],
        [
         497,
         [
          2.047165870666504,
          4.0049004554748535,
          1.5170472860336304,
          1.2952877283096313,
          4.292416095733643
         ]
        ],
        [
         498,
         [
          2.7071359157562256,
          4.383148193359375,
          1.5383036136627197,
          2.908226490020752,
          2.8142662048339844
         ]
        ],
        [
         499,
         [
          0.7929520010948181,
          3.4933648109436035,
          3.048002004623413,
          2.7458577156066895,
          0.7156149744987488
         ]
        ],
        [
         500,
         [
          1.0860055685043335,
          2.1577036380767822,
          1.7119649648666382,
          1.7422174215316772,
          1.9811378717422485
         ]
        ],
        [
         501,
         [
          0.5808261632919312,
          0.47510045766830444,
          5.29562520980835,
          3.3137567043304443,
          1.8254964351654053
         ]
        ],
        [
         502,
         [
          2.3677845001220703,
          3.667274236679077,
          1.3810540437698364,
          2.586984872817993,
          3.464053153991699
         ]
        ],
        [
         503,
         [
          0,
          1.8032071590423584,
          2.367938756942749,
          4.980129241943359,
          3.667314291000366
         ]
        ],
        [
         504,
         [
          0,
          3.1888020038604736,
          2.8809804916381836,
          1.2686960697174072,
          3.735470771789551
         ]
        ],
        [
         505,
         [
          1.8428529500961304,
          2.7136924266815186,
          1.1880284547805786,
          2.3577017784118652,
          3.408235788345337
         ]
        ],
        [
         506,
         [
          1.4835288524627686,
          1.7173058986663818,
          3.130364179611206,
          0,
          4.80474853515625
         ]
        ],
        [
         507,
         [
          0,
          3.677229166030884,
          1.9974372386932373,
          2.306919813156128,
          3.5752713680267334
         ]
        ],
        [
         508,
         [
          2.9320027828216553,
          3.441657304763794,
          1.21309494972229,
          2.89249587059021,
          3.203437089920044
         ]
        ],
        [
         509,
         [
          1.6359388828277588,
          3.346956729888916,
          2.4346392154693604,
          2.4644980430603027,
          3.6557247638702393
         ]
        ],
        [
         510,
         [
          2.349506139755249,
          4.461114406585693,
          1.5049232244491577,
          2.3565244674682617,
          3.430919647216797
         ]
        ],
        [
         511,
         [
          0,
          3.899289608001709,
          2.059170961380005,
          1.2713302373886108,
          2.6345484256744385
         ]
        ],
        [
         512,
         [
          1.0338863134384155,
          4.593416690826416,
          0,
          1.7335528135299683,
          3.2894127368927
         ]
        ],
        [
         513,
         [
          1.752922773361206,
          2.5395750999450684,
          1.4501837491989136,
          1.7451812028884888,
          2.501478672027588
         ]
        ],
        [
         514,
         [
          0.7759097814559937,
          1.5996264219284058,
          2.607901096343994,
          3.7653844356536865,
          3.8680882453918457
         ]
        ],
        [
         515,
         [
          3.140268087387085,
          4.0173773765563965,
          3.128790855407715,
          0.6960961222648621,
          3.495122194290161
         ]
        ],
        [
         516,
         [
          1.5220634937286377,
          3.7267229557037354,
          2.643043279647827,
          2.302525520324707,
          3.5404701232910156
         ]
        ],
        [
         517,
         [
          3.1627197265625,
          3.1748995780944824,
          4.160962104797363,
          1.8115720748901367,
          1.9477884769439697
         ]
        ],
        [
         518,
         [
          3.861572504043579,
          2.1222474575042725,
          3.5370733737945557,
          3.1918225288391113,
          2.9139819145202637
         ]
        ],
        [
         519,
         [
          0.6445733308792114,
          2.505126953125,
          3.0930964946746826,
          1.4954833984375,
          2.7973358631134033
         ]
        ],
        [
         520,
         [
          3.212439775466919,
          3.8898091316223145,
          1.492998719215393,
          0.9926663041114807,
          3.8196475505828857
         ]
        ],
        [
         521,
         [
          3.2968087196350098,
          2.947596788406372,
          3.6568732261657715,
          1.3540986776351929,
          3.359672784805298
         ]
        ],
        [
         522,
         [
          2.750415325164795,
          1.0669753551483154,
          0.20286040008068085,
          0.006969872396439314,
          1.4279963970184326
         ]
        ],
        [
         523,
         [
          3.4163172245025635,
          3.5646488666534424,
          2.75836443901062,
          1.851514458656311,
          2.9406895637512207
         ]
        ],
        [
         524,
         [
          1.8439686298370361,
          2.97994065284729,
          2.8988070487976074,
          1.6314597129821777,
          2.5079736709594727
         ]
        ],
        [
         525,
         [
          2.362565517425537,
          2.622478485107422,
          2.2586214542388916,
          2.20656681060791,
          4.972723007202148
         ]
        ],
        [
         526,
         [
          0,
          3.6213955879211426,
          2.328281879425049,
          2.849513530731201,
          2.5062150955200195
         ]
        ],
        [
         527,
         [
          3.1546738147735596,
          3.4802238941192627,
          1.2905606031417847,
          3.3030922412872314,
          2.865896701812744
         ]
        ],
        [
         528,
         [
          3.3640401363372803,
          3.0952556133270264,
          2.3701980113983154,
          2.6238462924957275,
          1.8607261180877686
         ]
        ],
        [
         529,
         [
          2.4288291931152344,
          2.8174774646759033,
          2.733880043029785,
          1.7146317958831787,
          4.447254657745361
         ]
        ],
        [
         530,
         [
          0.7226002216339111,
          5.349443435668945,
          4.514443397521973,
          1.7167071104049683,
          1.7588967084884644
         ]
        ],
        [
         531,
         [
          3.667741537094116,
          4.245200157165527,
          2.1730916500091553,
          0,
          3.211764097213745
         ]
        ],
        [
         532,
         [
          2.647963047027588,
          1.578202724456787,
          2.46065616607666,
          2.326132297515869,
          4.0109992027282715
         ]
        ],
        [
         533,
         [
          0.3735305964946747,
          3.117017984390259,
          1.9647516012191772,
          3.2680742740631104,
          3.285214424133301
         ]
        ],
        [
         534,
         [
          1.1228113174438477,
          0,
          2.487358808517456,
          0.6173757910728455,
          1.0361992120742798
         ]
        ],
        [
         535,
         [
          1.761139988899231,
          5.317282676696777,
          1.7227048873901367,
          1.5731672048568726,
          4.1570868492126465
         ]
        ],
        [
         536,
         [
          1.4080984592437744,
          3.044389247894287,
          0.7611117959022522,
          2.3999180793762207,
          4.2258148193359375
         ]
        ],
        [
         537,
         [
          0,
          1.865743637084961,
          2.8686411380767822,
          0.3493083119392395,
          3.7670936584472656
         ]
        ],
        [
         538,
         [
          2.967271566390991,
          2.76796817779541,
          2.717231512069702,
          1.2777421474456787,
          2.1728601455688477
         ]
        ],
        [
         539,
         [
          2.954258918762207,
          3.981827974319458,
          3.582071542739868,
          2.21601939201355,
          2.167607545852661
         ]
        ],
        [
         540,
         [
          2.412447452545166,
          4.043437480926514,
          2.2841618061065674,
          2.3794150352478027,
          2.6651804447174072
         ]
        ],
        [
         541,
         [
          1.6659947633743286,
          2.592512369155884,
          3.3002922534942627,
          1.5567903518676758,
          1.7051862478256226
         ]
        ],
        [
         542,
         [
          4.689007759094238,
          1.9854711294174194,
          2.4641482830047607,
          0.3131980895996094,
          4.4362077713012695
         ]
        ],
        [
         543,
         [
          1.7391301393508911,
          2.812354326248169,
          2.5423362255096436,
          1.8734931945800781,
          4.243314743041992
         ]
        ],
        [
         544,
         [
          0.7296008467674255,
          0.7848124504089355,
          4.078526496887207,
          2.5036089420318604,
          1.589460849761963
         ]
        ],
        [
         545,
         [
          2.858464241027832,
          2.682131052017212,
          0.7869866490364075,
          2.6865532398223877,
          3.7208452224731445
         ]
        ],
        [
         546,
         [
          1.9485048055648804,
          2.789870262145996,
          4.173616886138916,
          0.5790878534317017,
          3.907395362854004
         ]
        ],
        [
         547,
         [
          2.004256010055542,
          3.21637225151062,
          3.1481258869171143,
          1.884744644165039,
          3.2094168663024902
         ]
        ],
        [
         548,
         [
          1.9878032207489014,
          1.5000646114349365,
          3.0386269092559814,
          2.5840024948120117,
          5.545658111572266
         ]
        ],
        [
         549,
         [
          2.5589611530303955,
          4.526212215423584,
          1.0941463708877563,
          2.76484751701355,
          3.8032212257385254
         ]
        ],
        [
         550,
         [
          1.704965591430664,
          3.6123971939086914,
          3.6330935955047607,
          2.3309099674224854,
          3.2016026973724365
         ]
        ],
        [
         551,
         [
          3.1225228309631348,
          4.320693492889404,
          2.632286787033081,
          1.508890986442566,
          3.6279196739196777
         ]
        ],
        [
         552,
         [
          1.5977481603622437,
          3.8654346466064453,
          1.7323063611984253,
          2.8376753330230713,
          3.2469539642333984
         ]
        ],
        [
         553,
         [
          2.3092851638793945,
          3.7332258224487305,
          2.426992893218994,
          2.761173963546753,
          3.982145309448242
         ]
        ],
        [
         554,
         [
          0.8398668169975281,
          2.089730739593506,
          1.092037320137024,
          3.1479506492614746,
          0.6944504380226135
         ]
        ],
        [
         555,
         [
          2.805154323577881,
          3.980968713760376,
          2.0780584812164307,
          1.4655046463012695,
          3.0404233932495117
         ]
        ],
        [
         556,
         [
          0.8931756615638733,
          2.5799102783203125,
          0.05957783758640289,
          2.09909725189209,
          3.8352315425872803
         ]
        ],
        [
         557,
         [
          2.811380624771118,
          2.722623825073242,
          3.496309280395508,
          2.361591100692749,
          3.6480159759521484
         ]
        ],
        [
         558,
         [
          0.9362382292747498,
          4.450672626495361,
          0,
          1.931058406829834,
          3.130511522293091
         ]
        ],
        [
         559,
         [
          1.9551283121109009,
          3.700665235519409,
          0.36360296607017517,
          2.402653455734253,
          3.0335280895233154
         ]
        ],
        [
         560,
         [
          1.7459747791290283,
          3.8563263416290283,
          1.6815967559814453,
          2.0866167545318604,
          4.545827388763428
         ]
        ],
        [
         561,
         [
          2.5632779598236084,
          2.2758851051330566,
          3.582615613937378,
          2.982532262802124,
          2.759880542755127
         ]
        ],
        [
         562,
         [
          2.999569892883301,
          4.263486862182617,
          3.513429880142212,
          2.2678208351135254,
          1.2971670627593994
         ]
        ],
        [
         563,
         [
          1.402820348739624,
          2.5708131790161133,
          3.846184730529785,
          1.4846340417861938,
          0.8783676028251648
         ]
        ],
        [
         564,
         [
          2.443528652191162,
          3.3751933574676514,
          5.179089546203613,
          1.5397725105285645,
          3.0041263103485107
         ]
        ],
        [
         566,
         [
          2.7865214347839355,
          2.3346900939941406,
          2.9679598808288574,
          1.6975194215774536,
          3.4823694229125977
         ]
        ],
        [
         567,
         [
          2.7097675800323486,
          3.4956204891204834,
          4.045807361602783,
          1.8583413362503052,
          2.7527966499328613
         ]
        ],
        [
         568,
         [
          3.2837884426116943,
          4.587273597717285,
          2.468682050704956,
          1.2294138669967651,
          4.502137184143066
         ]
        ],
        [
         569,
         [
          3.5779271125793457,
          2.1922521591186523,
          4.471376419067383,
          1.1970964670181274,
          2.334505558013916
         ]
        ],
        [
         570,
         [
          3.6485400199890137,
          3.084914207458496,
          1.337906002998352,
          1.554878830909729,
          1.6512036323547363
         ]
        ],
        [
         571,
         [
          1.517371416091919,
          1.8278645277023315,
          4.214778900146484,
          2.624988317489624,
          3.8869576454162598
         ]
        ],
        [
         572,
         [
          1.607620120048523,
          3.02416729927063,
          4.646736145019531,
          2.976907730102539,
          2.585411548614502
         ]
        ],
        [
         573,
         [
          1.2242815494537354,
          6.0210957527160645,
          1.3618457317352295,
          0.9749435782432556,
          1.4553322792053223
         ]
        ],
        [
         574,
         [
          3.1308975219726562,
          3.3487675189971924,
          5.090384006500244,
          2.3333654403686523,
          3.29986310005188
         ]
        ],
        [
         575,
         [
          2.7853949069976807,
          3.3677752017974854,
          0,
          1.4827502965927124,
          2.7817792892456055
         ]
        ],
        [
         576,
         [
          4.575616836547852,
          4.735457420349121,
          2.5834593772888184,
          1.9138282537460327,
          3.1696879863739014
         ]
        ],
        [
         577,
         [
          3.5600485801696777,
          3.7431137561798096,
          3.0370306968688965,
          0.7579734921455383,
          2.917915105819702
         ]
        ],
        [
         578,
         [
          2.6369805335998535,
          2.36505126953125,
          2.7410340309143066,
          1.3044681549072266,
          3.2193121910095215
         ]
        ],
        [
         579,
         [
          2.719470262527466,
          4.069521427154541,
          2.4248886108398438,
          3.2701728343963623,
          1.53036630153656
         ]
        ],
        [
         580,
         [
          2.9827990531921387,
          2.611633539199829,
          2.2113254070281982,
          1.8075029850006104,
          2.2303154468536377
         ]
        ],
        [
         581,
         [
          2.9928689002990723,
          3.840902805328369,
          1.349287509918213,
          0.9286683797836304,
          2.820300579071045
         ]
        ],
        [
         582,
         [
          3.282630205154419,
          3.8420395851135254,
          2.409769296646118,
          3.2190539836883545,
          3.808058023452759
         ]
        ],
        [
         583,
         [
          3.4703891277313232,
          1.137630581855774,
          2.513739824295044,
          3.220932722091675,
          3.8098552227020264
         ]
        ],
        [
         584,
         [
          1.561420202255249,
          4.163055896759033,
          1.080674409866333,
          3.3408243656158447,
          2.9825692176818848
         ]
        ],
        [
         585,
         [
          2.5865113735198975,
          2.9178946018218994,
          2.515652656555176,
          1.339369773864746,
          3.4387662410736084
         ]
        ],
        [
         586,
         [
          2.563124179840088,
          3.6660449504852295,
          2.8083488941192627,
          3.0178465843200684,
          2.651827096939087
         ]
        ],
        [
         587,
         [
          3.4777991771698,
          3.8234031200408936,
          4.4295830726623535,
          3.0176351070404053,
          2.9503719806671143
         ]
        ],
        [
         588,
         [
          0.05425412952899933,
          4.797616481781006,
          0.4857935607433319,
          1.705054759979248,
          4.072473526000977
         ]
        ],
        [
         589,
         [
          2.6201858520507812,
          3.689331531524658,
          0.9941763877868652,
          1.1825875043869019,
          4.173834323883057
         ]
        ],
        [
         590,
         [
          2.9515607357025146,
          2.97880220413208,
          1.7309268712997437,
          2.9005236625671387,
          4.353260517120361
         ]
        ],
        [
         591,
         [
          1.1275681257247925,
          3.6117241382598877,
          1.6984599828720093,
          1.335806965827942,
          4.932053565979004
         ]
        ],
        [
         592,
         [
          1.7407681941986084,
          2.861328125,
          2.1580450534820557,
          0.9722518920898438,
          3.03574538230896
         ]
        ],
        [
         593,
         [
          1.5370407104492188,
          3.4742331504821777,
          1.6800782680511475,
          2.0482661724090576,
          3.821356773376465
         ]
        ],
        [
         594,
         [
          0.40887463092803955,
          0.49845272302627563,
          2.65108585357666,
          0.5461621284484863,
          5.475081920623779
         ]
        ],
        [
         595,
         [
          1.6123716831207275,
          1.6882524490356445,
          4.199012756347656,
          1.831761360168457,
          3.4007997512817383
         ]
        ],
        [
         596,
         [
          0.38013577461242676,
          5.063126087188721,
          1.6138324737548828,
          0.7989928722381592,
          3.592019557952881
         ]
        ],
        [
         597,
         [
          1.421533465385437,
          2.923992156982422,
          2.3988900184631348,
          2.4412689208984375,
          4.281283855438232
         ]
        ],
        [
         598,
         [
          3.902963399887085,
          0.9394946694374084,
          1.6218680143356323,
          2.816742420196533,
          1.272877812385559
         ]
        ],
        [
         599,
         [
          1.9702996015548706,
          3.4428157806396484,
          0.6590573191642761,
          1.9852076768875122,
          3.8459784984588623
         ]
        ],
        [
         600,
         [
          2.1329004764556885,
          2.9806230068206787,
          3.6967830657958984,
          2.4865305423736572,
          4.330904960632324
         ]
        ],
        [
         601,
         [
          1.0213987827301025,
          2.8020176887512207,
          2.798844814300537,
          1.864913821220398,
          3.1195805072784424
         ]
        ],
        [
         602,
         [
          0.18530510365962982,
          4.099574565887451,
          3.0142834186553955,
          0.8779135942459106,
          2.5452351570129395
         ]
        ],
        [
         603,
         [
          1.849022626876831,
          3.396091938018799,
          0.3577265441417694,
          2.39463472366333,
          4.081969738006592
         ]
        ],
        [
         604,
         [
          2.666226387023926,
          3.234199285507202,
          3.2020263671875,
          2.0247228145599365,
          3.4294331073760986
         ]
        ],
        [
         605,
         [
          0.31728047132492065,
          1.0540307760238647,
          3.9405877590179443,
          2.540570020675659,
          2.432138204574585
         ]
        ],
        [
         606,
         [
          2.3979196548461914,
          1.8677036762237549,
          4.767919540405273,
          1.0399577617645264,
          1.612465739250183
         ]
        ],
        [
         607,
         [
          3.5106935501098633,
          4.3090643882751465,
          0.35775187611579895,
          3.3018059730529785,
          2.284935235977173
         ]
        ],
        [
         608,
         [
          0.3833247721195221,
          3.611844539642334,
          0.10509969294071198,
          1.7603157758712769,
          4.3586626052856445
         ]
        ],
        [
         609,
         [
          3.2895100116729736,
          3.277977705001831,
          2.882537841796875,
          1.88243567943573,
          2.679967164993286
         ]
        ],
        [
         610,
         [
          3.1904330253601074,
          2.045635461807251,
          2.948367118835449,
          1.3067147731781006,
          4.764770030975342
         ]
        ],
        [
         611,
         [
          1.4333099126815796,
          3.8996083736419678,
          2.2566890716552734,
          1.0606387853622437,
          2.3594424724578857
         ]
        ],
        [
         612,
         [
          0.6724055409431458,
          4.460093975067139,
          4.2066450119018555,
          0.2186073511838913,
          3.4542129039764404
         ]
        ],
        [
         613,
         [
          2.532120943069458,
          3.1991186141967773,
          3.936988353729248,
          2.39132022857666,
          3.3474299907684326
         ]
        ],
        [
         614,
         [
          0.2820485532283783,
          3.476081132888794,
          1.1291460990905762,
          0.09913334995508194,
          2.0808801651000977
         ]
        ],
        [
         615,
         [
          0.29634517431259155,
          3.3206372261047363,
          2.5195319652557373,
          1.685826301574707,
          4.870088577270508
         ]
        ],
        [
         616,
         [
          2.3458616733551025,
          2.187385320663452,
          4.0152153968811035,
          1.47164785861969,
          3.125474214553833
         ]
        ],
        [
         617,
         [
          0.2672927677631378,
          1.4990460872650146,
          3.90381121635437,
          0.8162009119987488,
          4.2893242835998535
         ]
        ],
        [
         618,
         [
          3.4932475090026855,
          4.382415771484375,
          1.5537928342819214,
          0,
          2.599304676055908
         ]
        ],
        [
         619,
         [
          3.5175344944000244,
          4.78778600692749,
          3.3699283599853516,
          0.3472763001918793,
          2.323651075363159
         ]
        ],
        [
         620,
         [
          3.100034236907959,
          3.009232759475708,
          1.9289374351501465,
          1.3697011470794678,
          3.6109659671783447
         ]
        ],
        [
         621,
         [
          2.658303737640381,
          3.884394884109497,
          2.3142035007476807,
          2.3128347396850586,
          3.6306140422821045
         ]
        ],
        [
         622,
         [
          0.7537040114402771,
          2.326113224029541,
          4.254035472869873,
          2.218899965286255,
          1.071563959121704
         ]
        ],
        [
         623,
         [
          2.563819408416748,
          3.570782423019409,
          2.4071061611175537,
          1.4536290168762207,
          3.094353437423706
         ]
        ],
        [
         624,
         [
          3.3117246627807617,
          2.57258677482605,
          5.493032455444336,
          1.692706823348999,
          2.626877784729004
         ]
        ],
        [
         625,
         [
          0.11543649435043335,
          5.150883674621582,
          2.6945159435272217,
          1.5956480503082275,
          5.367441177368164
         ]
        ],
        [
         626,
         [
          2.1437790393829346,
          4.390504360198975,
          1.5628451108932495,
          2.7890968322753906,
          2.0400397777557373
         ]
        ],
        [
         627,
         [
          1.8226263523101807,
          3.1821794509887695,
          1.4492827653884888,
          2.932743787765503,
          3.6453516483306885
         ]
        ],
        [
         628,
         [
          2.8626766204833984,
          0,
          5.962951183319092,
          0,
          0
         ]
        ],
        [
         629,
         [
          1.529284119606018,
          3.9037609100341797,
          0.4635167717933655,
          2.8899776935577393,
          3.7993693351745605
         ]
        ],
        [
         630,
         [
          2.324293613433838,
          2.4464778900146484,
          4.041864395141602,
          2.6741647720336914,
          2.469327449798584
         ]
        ],
        [
         631,
         [
          2.264932155609131,
          2.5044937133789062,
          3.5089049339294434,
          2.6174795627593994,
          1.642890453338623
         ]
        ],
        [
         632,
         [
          1.7407963275909424,
          2.252974033355713,
          1.0516672134399414,
          3.5888748168945312,
          3.2548861503601074
         ]
        ],
        [
         633,
         [
          1.9785109758377075,
          4.411678314208984,
          0,
          0,
          4.5556511878967285
         ]
        ],
        [
         634,
         [
          2.7138583660125732,
          2.2933967113494873,
          3.5748062133789062,
          1.0071799755096436,
          2.5547940731048584
         ]
        ],
        [
         635,
         [
          3.062706708908081,
          2.2574095726013184,
          1.3279902935028076,
          3.56445574760437,
          0
         ]
        ],
        [
         636,
         [
          2.3635711669921875,
          2.9579579830169678,
          2.3504586219787598,
          1.883981704711914,
          2.9083821773529053
         ]
        ],
        [
         637,
         [
          3.286224365234375,
          3.7765769958496094,
          1.8867214918136597,
          0,
          2.5754668712615967
         ]
        ],
        [
         638,
         [
          0.7304132580757141,
          3.210329294204712,
          3.609985113143921,
          1.471017837524414,
          4.978582382202148
         ]
        ],
        [
         639,
         [
          1.9009045362472534,
          1.6634711027145386,
          1.0100841522216797,
          4.88795280456543,
          1.1714460849761963
         ]
        ],
        [
         640,
         [
          3.4544966220855713,
          2.9134397506713867,
          2.491687774658203,
          2.1297736167907715,
          3.672459125518799
         ]
        ],
        [
         641,
         [
          2.788116693496704,
          0.7223827242851257,
          4.010299205780029,
          1.858852505683899,
          2.82672119140625
         ]
        ],
        [
         642,
         [
          1.6377350091934204,
          2.088348150253296,
          2.625596761703491,
          2.0891640186309814,
          4.312356948852539
         ]
        ],
        [
         643,
         [
          2.898730516433716,
          3.9074342250823975,
          3.023040294647217,
          0.4511355757713318,
          3.0275328159332275
         ]
        ],
        [
         644,
         [
          1.297229528427124,
          2.6940207481384277,
          2.9097392559051514,
          2.5863454341888428,
          4.064258098602295
         ]
        ],
        [
         645,
         [
          2.414897918701172,
          2.43924617767334,
          3.8094701766967773,
          1.8662810325622559,
          1.88020920753479
         ]
        ],
        [
         646,
         [
          0.2120911329984665,
          4.353940963745117,
          2.5078282356262207,
          0.7314518094062805,
          3.8543331623077393
         ]
        ],
        [
         647,
         [
          0,
          5.0717082023620605,
          3.719830274581909,
          0,
          2.5603268146514893
         ]
        ],
        [
         648,
         [
          3.3162968158721924,
          2.907428503036499,
          3.5909647941589355,
          2.7882320880889893,
          3.1635732650756836
         ]
        ],
        [
         649,
         [
          3.815436840057373,
          3.652116537094116,
          3.794276475906372,
          1.8734633922576904,
          2.980433464050293
         ]
        ],
        [
         650,
         [
          0,
          4.120772838592529,
          3.287351369857788,
          1.699461579322815,
          2.8202311992645264
         ]
        ],
        [
         651,
         [
          3.5817227363586426,
          4.292901992797852,
          2.3254354000091553,
          0.9700713753700256,
          2.662940502166748
         ]
        ],
        [
         652,
         [
          2.902405261993408,
          2.524477005004883,
          0.8182669281959534,
          1.7639721632003784,
          3.661320686340332
         ]
        ],
        [
         653,
         [
          1.632067322731018,
          2.453569173812866,
          2.001497507095337,
          1.4750005006790161,
          4.237755298614502
         ]
        ],
        [
         654,
         [
          0.32291796803474426,
          4.512025356292725,
          2.4711849689483643,
          0.7214781045913696,
          3.8817591667175293
         ]
        ],
        [
         655,
         [
          1.671360969543457,
          3.5989768505096436,
          3.6191229820251465,
          3.1938135623931885,
          3.860368013381958
         ]
        ],
        [
         656,
         [
          0,
          2.9810473918914795,
          3.680260419845581,
          1.3287419080734253,
          2.0778629779815674
         ]
        ],
        [
         657,
         [
          2.731938123703003,
          3.8767404556274414,
          2.3157832622528076,
          1.8089569807052612,
          3.1834912300109863
         ]
        ],
        [
         658,
         [
          0,
          1.4736459255218506,
          3.8979392051696777,
          1.9231984615325928,
          2.9260201454162598
         ]
        ],
        [
         659,
         [
          3.9906136989593506,
          4.116335868835449,
          3.397064447402954,
          1.5349208116531372,
          2.3166258335113525
         ]
        ],
        [
         660,
         [
          2.108276605606079,
          4.087744235992432,
          1.4890624284744263,
          2.4714553356170654,
          3.9397947788238525
         ]
        ],
        [
         661,
         [
          2.774718999862671,
          0,
          0,
          0,
          4.566169738769531
         ]
        ],
        [
         662,
         [
          1.3919368982315063,
          2.136712074279785,
          2.834444761276245,
          1.0587033033370972,
          2.83186411857605
         ]
        ],
        [
         663,
         [
          0,
          3.645402193069458,
          0.6136746406555176,
          3.8001656532287598,
          3.1668777465820312
         ]
        ],
        [
         664,
         [
          2.3471715450286865,
          4.502500534057617,
          1.4859131574630737,
          2.0180065631866455,
          3.4602601528167725
         ]
        ],
        [
         665,
         [
          1.5785071849822998,
          3.734692096710205,
          2.409817934036255,
          2.6732609272003174,
          4.304728031158447
         ]
        ],
        [
         666,
         [
          0.36757901310920715,
          2.467155933380127,
          3.6090822219848633,
          2.848219156265259,
          4.928117752075195
         ]
        ],
        [
         667,
         [
          2.6865592002868652,
          2.9355146884918213,
          2.4587509632110596,
          2.133871078491211,
          3.4086461067199707
         ]
        ],
        [
         668,
         [
          2.3174891471862793,
          2.6912894248962402,
          2.017197370529175,
          2.6446077823638916,
          3.9521164894104004
         ]
        ],
        [
         669,
         [
          1.256399154663086,
          2.636174201965332,
          2.4287097454071045,
          1.9763286113739014,
          2.436994791030884
         ]
        ],
        [
         670,
         [
          1.799013614654541,
          2.729849338531494,
          3.223715305328369,
          2.672159194946289,
          3.865825891494751
         ]
        ],
        [
         671,
         [
          4.210282802581787,
          2.8226497173309326,
          1.0352253913879395,
          0.5340656042098999,
          1.9216076135635376
         ]
        ],
        [
         672,
         [
          0,
          0,
          3.36783766746521,
          0,
          3.591334104537964
         ]
        ],
        [
         673,
         [
          3.4313669204711914,
          2.744605541229248,
          3.803086280822754,
          1.1594122648239136,
          2.762350082397461
         ]
        ],
        [
         674,
         [
          2.160536050796509,
          3.3908979892730713,
          1.8153185844421387,
          2.8475844860076904,
          3.9141831398010254
         ]
        ],
        [
         675,
         [
          6.055088043212891,
          0,
          0,
          0,
          0
         ]
        ],
        [
         676,
         [
          1.1099733114242554,
          3.364731550216675,
          4.871110916137695,
          2.015085220336914,
          2.95137095451355
         ]
        ],
        [
         677,
         [
          2.0772829055786133,
          0.016601629555225372,
          2.9768388271331787,
          3.0612449645996094,
          4.798571586608887
         ]
        ],
        [
         678,
         [
          3.1734230518341064,
          4.768078804016113,
          1.8099884986877441,
          1.4583384990692139,
          2.880624771118164
         ]
        ],
        [
         679,
         [
          0.4659368693828583,
          0.2601183354854584,
          0.2263844758272171,
          2.9753952026367188,
          0.5538729429244995
         ]
        ],
        [
         680,
         [
          2.6623027324676514,
          2.6934027671813965,
          2.5958070755004883,
          3.4052445888519287,
          4.294590950012207
         ]
        ],
        [
         681,
         [
          1.6349951028823853,
          4.433478832244873,
          1.6504062414169312,
          2.9752259254455566,
          3.5208375453948975
         ]
        ],
        [
         682,
         [
          4.26731014251709,
          1.5638395547866821,
          1.0518602132797241,
          2.580139398574829,
          3.9627139568328857
         ]
        ],
        [
         683,
         [
          3.486119270324707,
          0,
          1.6858034133911133,
          3.482966899871826,
          1.3514666557312012
         ]
        ],
        [
         684,
         [
          0,
          6.579715728759766,
          0.7865333557128906,
          0,
          0
         ]
        ],
        [
         685,
         [
          3.0436127185821533,
          4.116763591766357,
          4.5485076904296875,
          1.3838051557540894,
          3.0356807708740234
         ]
        ],
        [
         686,
         [
          1.7638272047042847,
          3.353811025619507,
          4.139765739440918,
          0.8954213261604309,
          2.71174955368042
         ]
        ],
        [
         687,
         [
          1.6117116212844849,
          0,
          2.3199639320373535,
          4.588932037353516,
          0.6315407156944275
         ]
        ],
        [
         688,
         [
          2.5240530967712402,
          4.034459114074707,
          2.6613049507141113,
          1.1088205575942993,
          1.3648508787155151
         ]
        ],
        [
         690,
         [
          2.700127363204956,
          4.412694931030273,
          0.5343263149261475,
          0.7555044293403625,
          3.2329046726226807
         ]
        ],
        [
         691,
         [
          0.5555018186569214,
          5.14717960357666,
          2.514381170272827,
          3.197732448577881,
          1.8838526010513306
         ]
        ],
        [
         692,
         [
          0,
          4.4823126792907715,
          1.9192776679992676,
          1.7522950172424316,
          3.577181577682495
         ]
        ],
        [
         693,
         [
          0.9481511116027832,
          3.688009262084961,
          2.9230847358703613,
          2.4989044666290283,
          2.0273983478546143
         ]
        ],
        [
         694,
         [
          3.1562392711639404,
          2.6183457374572754,
          5.398829936981201,
          2.2167205810546875,
          2.42059588432312
         ]
        ],
        [
         695,
         [
          1.516704797744751,
          1.9657889604568481,
          1.5471298694610596,
          2.059431552886963,
          3.0811610221862793
         ]
        ],
        [
         696,
         [
          2.2791645526885986,
          1.7660845518112183,
          3.2174806594848633,
          1.6134165525436401,
          4.468498229980469
         ]
        ],
        [
         697,
         [
          1.496446967124939,
          3.4520764350891113,
          2.437638759613037,
          2.1039676666259766,
          3.5460045337677
         ]
        ],
        [
         698,
         [
          3.3926689624786377,
          2.6118266582489014,
          3.9192864894866943,
          1.0615410804748535,
          2.415534019470215
         ]
        ],
        [
         699,
         [
          2.0363597869873047,
          2.4362802505493164,
          0.5232505798339844,
          1.2604594230651855,
          3.228133201599121
         ]
        ],
        [
         700,
         [
          5.2021918296813965,
          1.7663750648498535,
          0,
          1.2289584875106812,
          6.865795612335205
         ]
        ],
        [
         701,
         [
          0.2921611964702606,
          3.098494052886963,
          2.3122947216033936,
          2.012708902359009,
          4.260960102081299
         ]
        ],
        [
         702,
         [
          2.633410692214966,
          2.839442491531372,
          2.6047451496124268,
          3.1829793453216553,
          4.498638153076172
         ]
        ],
        [
         703,
         [
          3.5982697010040283,
          4.0084919929504395,
          0.5749583840370178,
          0.5373044610023499,
          4.851323127746582
         ]
        ],
        [
         704,
         [
          2.7597858905792236,
          4.610030174255371,
          3.865319013595581,
          1.958945870399475,
          1.8214240074157715
         ]
        ],
        [
         705,
         [
          3.2030904293060303,
          1.6969597339630127,
          2.8873236179351807,
          3.435331344604492,
          3.258993625640869
         ]
        ],
        [
         706,
         [
          3.397280693054199,
          2.3731133937835693,
          2.8838329315185547,
          1.3652855157852173,
          3.828200340270996
         ]
        ],
        [
         707,
         [
          1.2283447980880737,
          3.374743700027466,
          1.0979549884796143,
          3.3633573055267334,
          3.6804611682891846
         ]
        ],
        [
         708,
         [
          2.083495855331421,
          2.5030901432037354,
          2.44169282913208,
          2.497548818588257,
          4.283337116241455
         ]
        ],
        [
         709,
         [
          0.12406298518180847,
          3.047208309173584,
          2.7913506031036377,
          5.61027193069458,
          1.270803689956665
         ]
        ],
        [
         710,
         [
          1.8812792301177979,
          3.9110634326934814,
          2.278820037841797,
          2.4656002521514893,
          3.05942964553833
         ]
        ],
        [
         711,
         [
          2.5280637741088867,
          2.939997673034668,
          2.916022777557373,
          1.3455579280853271,
          4.003757476806641
         ]
        ],
        [
         712,
         [
          3.6233625411987305,
          4.506709098815918,
          2.4923105239868164,
          1.3835238218307495,
          3.8746657371520996
         ]
        ],
        [
         713,
         [
          2.3532323837280273,
          3.3907978534698486,
          0.2795432209968567,
          1.8393760919570923,
          3.958402395248413
         ]
        ],
        [
         714,
         [
          2.266223669052124,
          3.071751832962036,
          0,
          1.932116985321045,
          4.52411413192749
         ]
        ],
        [
         715,
         [
          1.3378585577011108,
          2.9041106700897217,
          5.688885688781738,
          3.3462767601013184,
          3.66882586479187
         ]
        ],
        [
         716,
         [
          2.098487377166748,
          3.7928173542022705,
          3.044123888015747,
          2.5106329917907715,
          3.1152503490448
         ]
        ],
        [
         717,
         [
          1.4201058149337769,
          2.8746142387390137,
          3.3336446285247803,
          3.1900415420532227,
          3.7913191318511963
         ]
        ],
        [
         718,
         [
          0,
          3.241874933242798,
          4.3076324462890625,
          2.063044786453247,
          4.51373291015625
         ]
        ],
        [
         719,
         [
          1.8457000255584717,
          3.3377490043640137,
          2.7462446689605713,
          1.7499353885650635,
          3.4778997898101807
         ]
        ],
        [
         720,
         [
          3.53818941116333,
          0,
          2.426021099090576,
          1.3590902090072632,
          3.1834657192230225
         ]
        ],
        [
         721,
         [
          1.0358096361160278,
          3.050004243850708,
          1.416495680809021,
          3.303384780883789,
          3.921851873397827
         ]
        ],
        [
         722,
         [
          3.022796630859375,
          4.711248397827148,
          0.6356564164161682,
          2.035403251647949,
          1.8030524253845215
         ]
        ],
        [
         723,
         [
          0.2718585431575775,
          5.770603656768799,
          0.6725091934204102,
          0.5833070278167725,
          2.1120145320892334
         ]
        ],
        [
         724,
         [
          1.437400460243225,
          4.338141441345215,
          3.0286574363708496,
          2.5398142337799072,
          4.375785827636719
         ]
        ],
        [
         725,
         [
          1.525371789932251,
          0.9425197243690491,
          0.38879847526550293,
          3.4983980655670166,
          3.936319351196289
         ]
        ],
        [
         726,
         [
          2.772315263748169,
          2.5380616188049316,
          3.5305674076080322,
          2.3653464317321777,
          2.0132439136505127
         ]
        ],
        [
         727,
         [
          2.5170695781707764,
          2.7513394355773926,
          1.4629175662994385,
          1.4611018896102905,
          4.109347820281982
         ]
        ],
        [
         728,
         [
          2.521674633026123,
          2.879883289337158,
          1.9183473587036133,
          2.997830390930176,
          4.146045207977295
         ]
        ],
        [
         729,
         [
          2.602128028869629,
          3.8267457485198975,
          3.0372304916381836,
          1.9449812173843384,
          3.7868287563323975
         ]
        ],
        [
         730,
         [
          0.88985675573349,
          3.10933518409729,
          2.523738384246826,
          2.405629873275757,
          2.363023042678833
         ]
        ],
        [
         731,
         [
          1.6438018083572388,
          4.202322006225586,
          1.7606626749038696,
          2.821460247039795,
          2.5689895153045654
         ]
        ],
        [
         732,
         [
          1.3853713274002075,
          4.321306228637695,
          2.4175338745117188,
          3.3389222621917725,
          3.4737637042999268
         ]
        ],
        [
         733,
         [
          1.7090137004852295,
          3.407719135284424,
          4.204887866973877,
          0.21393854916095734,
          4.57594633102417
         ]
        ],
        [
         734,
         [
          2.276219367980957,
          2.015272617340088,
          3.283076286315918,
          2.6871607303619385,
          3.7363827228546143
         ]
        ],
        [
         735,
         [
          2.8079426288604736,
          0.47573354840278625,
          5.295304775238037,
          0.6251202821731567,
          1.207900047302246
         ]
        ],
        [
         736,
         [
          1.6979901790618896,
          2.099625825881958,
          4.8181281089782715,
          1.5996519327163696,
          4.471893787384033
         ]
        ],
        [
         737,
         [
          0.9370797276496887,
          3.5985615253448486,
          6.4560346603393555,
          0.7507108449935913,
          0
         ]
        ],
        [
         738,
         [
          1.5113695859909058,
          3.6515886783599854,
          1.2377114295959473,
          2.5396275520324707,
          2.9367072582244873
         ]
        ],
        [
         739,
         [
          2.2324695587158203,
          3.958543300628662,
          2.4988393783569336,
          1.4973419904708862,
          3.8751187324523926
         ]
        ],
        [
         740,
         [
          2.22220778465271,
          5.188007831573486,
          1.748891830444336,
          0.9153586626052856,
          2.6995036602020264
         ]
        ],
        [
         741,
         [
          2.198504686355591,
          3.499454975128174,
          3.5605461597442627,
          2.342951774597168,
          2.336665630340576
         ]
        ],
        [
         742,
         [
          2.986985206604004,
          4.223118305206299,
          1.8466717004776,
          1.355846643447876,
          4.117776870727539
         ]
        ],
        [
         743,
         [
          2.199052095413208,
          1.754117727279663,
          3.4136335849761963,
          0.17677198350429535,
          0.8230754733085632
         ]
        ],
        [
         744,
         [
          2.06462025642395,
          2.940688371658325,
          2.2138583660125732,
          1.5498008728027344,
          3.830375909805298
         ]
        ],
        [
         745,
         [
          1.8436012268066406,
          2.420114040374756,
          1.6523497104644775,
          2.743905782699585,
          4.404438495635986
         ]
        ],
        [
         746,
         [
          2.9858169555664062,
          3.589148759841919,
          4.62131929397583,
          1.6434307098388672,
          2.4826838970184326
         ]
        ],
        [
         747,
         [
          0.20852895081043243,
          3.633965492248535,
          3.172689437866211,
          1.7538584470748901,
          3.737114429473877
         ]
        ],
        [
         748,
         [
          2.9170002937316895,
          4.281670093536377,
          1.175736904144287,
          1.7725818157196045,
          3.5119264125823975
         ]
        ],
        [
         749,
         [
          0.7679950594902039,
          2.547950267791748,
          1.0093071460723877,
          3.705214023590088,
          3.2400684356689453
         ]
        ],
        [
         750,
         [
          1.9808040857315063,
          3.4941563606262207,
          0.38796907663345337,
          2.2616310119628906,
          3.457141876220703
         ]
        ],
        [
         751,
         [
          3.9055657386779785,
          3.471590518951416,
          3.2011189460754395,
          1.5438902378082275,
          3.0077457427978516
         ]
        ],
        [
         752,
         [
          2.8604938983917236,
          3.4887630939483643,
          2.654522657394409,
          2.046553373336792,
          4.452301025390625
         ]
        ],
        [
         753,
         [
          0.947051465511322,
          3.468771457672119,
          2.309919834136963,
          0,
          1.6104090213775635
         ]
        ],
        [
         754,
         [
          3.5674502849578857,
          1.9711068868637085,
          1.8958879709243774,
          2.0440077781677246,
          2.8521296977996826
         ]
        ],
        [
         755,
         [
          3.0102884769439697,
          3.204742193222046,
          0.9667049646377563,
          1.2800062894821167,
          4.225065231323242
         ]
        ],
        [
         756,
         [
          0.901724100112915,
          5.3480634689331055,
          0.8251596093177795,
          0.4403556287288666,
          4.212094783782959
         ]
        ],
        [
         757,
         [
          2.852675676345825,
          3.177659273147583,
          2.981623411178589,
          0.9105584025382996,
          3.5519301891326904
         ]
        ],
        [
         758,
         [
          2.3959810733795166,
          3.9328408241271973,
          2.416050434112549,
          2.847383975982666,
          3.6631362438201904
         ]
        ],
        [
         759,
         [
          0.31677770614624023,
          3.406818151473999,
          2.3376989364624023,
          2.688542604446411,
          4.391539096832275
         ]
        ],
        [
         760,
         [
          2.2831103801727295,
          3.0401363372802734,
          5.396647930145264,
          2.479370355606079,
          2.01226806640625
         ]
        ],
        [
         761,
         [
          0.8689134120941162,
          3.955613851547241,
          4.586359024047852,
          3.0505990982055664,
          0
         ]
        ],
        [
         762,
         [
          0.552311360836029,
          3.139554977416992,
          2.5753538608551025,
          1.739473819732666,
          3.510338068008423
         ]
        ],
        [
         763,
         [
          0.9761559367179871,
          3.0797643661499023,
          2.5769879817962646,
          1.828670859336853,
          3.6632986068725586
         ]
        ],
        [
         764,
         [
          0.8397615551948547,
          2.584651231765747,
          0.49869871139526367,
          2.7642126083374023,
          3.6453986167907715
         ]
        ],
        [
         765,
         [
          1.9176253080368042,
          2.430220603942871,
          2.385284423828125,
          2.76934552192688,
          4.328514099121094
         ]
        ],
        [
         766,
         [
          1.0309514999389648,
          1.2978339195251465,
          3.8980119228363037,
          2.8012893199920654,
          3.1374502182006836
         ]
        ],
        [
         767,
         [
          1.9049086570739746,
          3.471053123474121,
          3.0818021297454834,
          2.7903037071228027,
          2.4301674365997314
         ]
        ],
        [
         768,
         [
          2.490448236465454,
          3.2316648960113525,
          1.7909976243972778,
          2.365612268447876,
          2.679175853729248
         ]
        ],
        [
         769,
         [
          1.7789546251296997,
          3.1238441467285156,
          3.813988447189331,
          2.131310224533081,
          2.1037230491638184
         ]
        ],
        [
         770,
         [
          1.5590641498565674,
          2.0719940662384033,
          2.314685106277466,
          2.2834856510162354,
          3.4749159812927246
         ]
        ],
        [
         771,
         [
          1.023921012878418,
          0.3717806041240692,
          0.46055126190185547,
          2.7428433895111084,
          4.922444820404053
         ]
        ],
        [
         772,
         [
          2.614380359649658,
          1.9476474523544312,
          3.783616065979004,
          1.7862238883972168,
          3.5288166999816895
         ]
        ],
        [
         773,
         [
          1.1489938497543335,
          3.8598248958587646,
          2.4040818214416504,
          1.873907208442688,
          3.8867619037628174
         ]
        ],
        [
         774,
         [
          1.6255066394805908,
          3.343533515930176,
          3.690744161605835,
          2.6979219913482666,
          2.676840305328369
         ]
        ],
        [
         775,
         [
          3.2896194458007812,
          3.099184989929199,
          1.0023576021194458,
          2.149221658706665,
          3.217205047607422
         ]
        ],
        [
         776,
         [
          2.470271348953247,
          2.218198537826538,
          3.101450204849243,
          2.56819486618042,
          3.6133010387420654
         ]
        ],
        [
         777,
         [
          2.0180745124816895,
          2.897550106048584,
          2.9980127811431885,
          4.378531455993652,
          4.849429607391357
         ]
        ],
        [
         778,
         [
          2.186840772628784,
          4.227963447570801,
          2.1666924953460693,
          1.1707407236099243,
          3.219332695007324
         ]
        ],
        [
         779,
         [
          0.8674225807189941,
          3.414712905883789,
          1.652450442314148,
          0.7906104922294617,
          2.76248836517334
         ]
        ],
        [
         780,
         [
          1.669524073600769,
          3.1516335010528564,
          5.533636569976807,
          1.1287271976470947,
          2.4560956954956055
         ]
        ],
        [
         781,
         [
          0.9272107481956482,
          4.126205921173096,
          2.3908631801605225,
          3.4055278301239014,
          3.624952554702759
         ]
        ],
        [
         782,
         [
          2.3252971172332764,
          3.5995280742645264,
          3.42716908454895,
          2.444418430328369,
          3.8714990615844727
         ]
        ],
        [
         783,
         [
          0.002228856086730957,
          3.686396837234497,
          2.7513272762298584,
          1.5755459070205688,
          3.418107748031616
         ]
        ],
        [
         784,
         [
          1.556217908859253,
          3.25337553024292,
          2.931408166885376,
          3.2291340827941895,
          3.6132102012634277
         ]
        ],
        [
         785,
         [
          0.10447682440280914,
          2.8105874061584473,
          0.9167085886001587,
          4.925179481506348,
          4.256911754608154
         ]
        ],
        [
         786,
         [
          2.31610369682312,
          1.1116851568222046,
          2.66870379447937,
          1.579228162765503,
          5.197782516479492
         ]
        ],
        [
         787,
         [
          2.505858898162842,
          3.167994737625122,
          3.1587326526641846,
          2.773770570755005,
          2.9858622550964355
         ]
        ],
        [
         788,
         [
          2.398352861404419,
          3.6257665157318115,
          3.630309581756592,
          2.8371663093566895,
          3.1579391956329346
         ]
        ],
        [
         789,
         [
          2.3964452743530273,
          3.5430173873901367,
          0,
          0.29947078227996826,
          2.0671896934509277
         ]
        ],
        [
         790,
         [
          2.1644346714019775,
          3.7291293144226074,
          2.5908267498016357,
          1.405690312385559,
          2.8283751010894775
         ]
        ],
        [
         791,
         [
          1.934717059135437,
          3.3452417850494385,
          1.572034239768982,
          1.319052815437317,
          3.740607261657715
         ]
        ],
        [
         792,
         [
          2.0099737644195557,
          3.082178831100464,
          4.11929988861084,
          1.8031636476516724,
          3.744044303894043
         ]
        ],
        [
         793,
         [
          2.847429037094116,
          4.068562030792236,
          0.5525741577148438,
          1.1731970310211182,
          1.910902738571167
         ]
        ],
        [
         794,
         [
          2.4619662761688232,
          3.501997709274292,
          0.10678349435329437,
          2.4566149711608887,
          2.2392868995666504
         ]
        ],
        [
         795,
         [
          3.4353671073913574,
          2.4425811767578125,
          3.7225332260131836,
          2.4072964191436768,
          3.374915838241577
         ]
        ],
        [
         796,
         [
          0.6274163722991943,
          5.361948490142822,
          3.030364990234375,
          2.7700459957122803,
          2.980928897857666
         ]
        ],
        [
         797,
         [
          1.3429639339447021,
          3.298381805419922,
          2.491227388381958,
          2.1576640605926514,
          3.4784226417541504
         ]
        ],
        [
         798,
         [
          0.9050969481468201,
          3.055316686630249,
          2.5180931091308594,
          3.587663173675537,
          1.4706850051879883
         ]
        ],
        [
         799,
         [
          1.9175046682357788,
          2.1950724124908447,
          2.606635093688965,
          3.8602850437164307,
          3.5404813289642334
         ]
        ],
        [
         800,
         [
          2.187648057937622,
          3.9626688957214355,
          0,
          2.7510998249053955,
          2.64219331741333
         ]
        ],
        [
         801,
         [
          1.8843779563903809,
          3.236361503601074,
          3.417910099029541,
          3.6321043968200684,
          3.085184097290039
         ]
        ],
        [
         802,
         [
          0,
          5.518462181091309,
          0.6179792881011963,
          0,
          1.126806616783142
         ]
        ],
        [
         803,
         [
          2.132042407989502,
          2.7615020275115967,
          1.9576232433319092,
          2.1721408367156982,
          1.2110663652420044
         ]
        ],
        [
         804,
         [
          2.0706827640533447,
          1.890586256980896,
          2.645883083343506,
          3.4875433444976807,
          3.7693979740142822
         ]
        ],
        [
         805,
         [
          3.445800542831421,
          3.8838372230529785,
          3.154613733291626,
          0.5719506740570068,
          2.262873411178589
         ]
        ],
        [
         806,
         [
          3.295748710632324,
          1.764681339263916,
          0.7222276926040649,
          2.08286190032959,
          4.0357489585876465
         ]
        ],
        [
         807,
         [
          1.7634845972061157,
          4.098323822021484,
          1.97577965259552,
          2.089280128479004,
          4.04075288772583
         ]
        ],
        [
         808,
         [
          2.5028116703033447,
          4.1461310386657715,
          2.0672473907470703,
          3.0528948307037354,
          4.560648441314697
         ]
        ],
        [
         809,
         [
          2.904158592224121,
          5.414000988006592,
          2.4345827102661133,
          1.8443559408187866,
          0.6073616147041321
         ]
        ],
        [
         810,
         [
          1.8770906925201416,
          2.70216703414917,
          2.9182398319244385,
          2.5235421657562256,
          2.8650431632995605
         ]
        ],
        [
         811,
         [
          0.843243420124054,
          5.592288970947266,
          2.1350178718566895,
          1.1976563930511475,
          3.415485143661499
         ]
        ],
        [
         812,
         [
          1.1437511444091797,
          4.47835111618042,
          0.10219227522611618,
          3.167773962020874,
          4.149716854095459
         ]
        ],
        [
         813,
         [
          2.387589693069458,
          3.006552219390869,
          0,
          2.2309844493865967,
          5.416332721710205
         ]
        ],
        [
         814,
         [
          1.8371862173080444,
          3.9155356884002686,
          2.3947346210479736,
          1.1913275718688965,
          2.562609910964966
         ]
        ],
        [
         815,
         [
          2.0081701278686523,
          3.405695915222168,
          1.9410873651504517,
          1.8733303546905518,
          3.6362037658691406
         ]
        ],
        [
         816,
         [
          0.33082184195518494,
          3.2630627155303955,
          1.5322288274765015,
          2.8185317516326904,
          5.042461395263672
         ]
        ],
        [
         817,
         [
          3.520689010620117,
          0.5244166254997253,
          2.7072601318359375,
          0.17186401784420013,
          1.8134019374847412
         ]
        ],
        [
         818,
         [
          1.8952611684799194,
          3.3380837440490723,
          2.5894322395324707,
          2.1338744163513184,
          3.6429615020751953
         ]
        ],
        [
         819,
         [
          1.2067538499832153,
          3.4738128185272217,
          1.8737789392471313,
          2.8679771423339844,
          5.292757511138916
         ]
        ],
        [
         820,
         [
          3.1024162769317627,
          3.1192994117736816,
          2.099379301071167,
          3.2449698448181152,
          3.9786036014556885
         ]
        ],
        [
         821,
         [
          0.7732819318771362,
          1.292271375656128,
          3.0428645610809326,
          2.479779005050659,
          4.576024055480957
         ]
        ],
        [
         822,
         [
          3.364630937576294,
          4.1361002922058105,
          2.8456671237945557,
          2.160573959350586,
          3.3622918128967285
         ]
        ],
        [
         823,
         [
          5.231165409088135,
          2.1835806369781494,
          4.471024513244629,
          3.2209224700927734,
          0
         ]
        ],
        [
         824,
         [
          1.789520025253296,
          4.326530933380127,
          1.7779498100280762,
          2.284255266189575,
          4.120672702789307
         ]
        ],
        [
         825,
         [
          1.8522824048995972,
          4.9106245040893555,
          1.512073278427124,
          0,
          3.062290906906128
         ]
        ],
        [
         826,
         [
          2.5511813163757324,
          4.483083724975586,
          2.7115797996520996,
          2.1653900146484375,
          3.9270570278167725
         ]
        ],
        [
         827,
         [
          1.7600282430648804,
          4.33182430267334,
          0,
          0.5779016613960266,
          3.801351547241211
         ]
        ],
        [
         828,
         [
          3.041734457015991,
          3.6259288787841797,
          2.320870876312256,
          2.0746190547943115,
          3.041527509689331
         ]
        ],
        [
         829,
         [
          3.9165947437286377,
          2.2658023834228516,
          1.587265133857727,
          0.9628605842590332,
          2.12113618850708
         ]
        ],
        [
         830,
         [
          0.2798689305782318,
          3.047487735748291,
          4.148467540740967,
          3.6735198497772217,
          3.230750799179077
         ]
        ],
        [
         831,
         [
          1.7618969678878784,
          4.075653076171875,
          3.8084170818328857,
          3.1154770851135254,
          2.3576669692993164
         ]
        ],
        [
         832,
         [
          0.5323130488395691,
          2.489140272140503,
          2.2912073135375977,
          0.8661347031593323,
          0
         ]
        ],
        [
         833,
         [
          1.9299769401550293,
          3.8990180492401123,
          1.5942541360855103,
          0.32705214619636536,
          3.2677409648895264
         ]
        ],
        [
         834,
         [
          2.194674491882324,
          4.043541431427002,
          1.0581022500991821,
          0,
          4.5200066566467285
         ]
        ],
        [
         835,
         [
          3.2342309951782227,
          3.5878708362579346,
          3.7124826908111572,
          2.5870587825775146,
          3.084066390991211
         ]
        ],
        [
         836,
         [
          2.172926902770996,
          3.9941937923431396,
          2.9686410427093506,
          2.358901023864746,
          3.5110414028167725
         ]
        ],
        [
         837,
         [
          1.9616219997406006,
          4.611078262329102,
          3.900867223739624,
          1.1953855752944946,
          3.4646239280700684
         ]
        ],
        [
         838,
         [
          0,
          0.688038170337677,
          1.5476292371749878,
          0.8079432845115662,
          5.411241054534912
         ]
        ],
        [
         839,
         [
          0.6227935552597046,
          3.9358997344970703,
          2.925405979156494,
          1.163343906402588,
          4.846355438232422
         ]
        ],
        [
         840,
         [
          5.299761772155762,
          1.2017744779586792,
          0,
          2.5908148288726807,
          2.699396848678589
         ]
        ],
        [
         841,
         [
          1.112930178642273,
          3.6142725944519043,
          5.11165714263916,
          1.0195032358169556,
          3.2773051261901855
         ]
        ],
        [
         842,
         [
          1.9487382173538208,
          4.095705032348633,
          3.2080492973327637,
          1.4700615406036377,
          2.3880014419555664
         ]
        ],
        [
         843,
         [
          1.390936017036438,
          3.2766737937927246,
          1.0302038192749023,
          2.393099546432495,
          4.981956481933594
         ]
        ],
        [
         844,
         [
          4.636040687561035,
          2.495772123336792,
          0,
          3.2229135036468506,
          2.9103598594665527
         ]
        ],
        [
         845,
         [
          2.7657406330108643,
          1.2624422311782837,
          3.560891628265381,
          1.1931030750274658,
          5.310897350311279
         ]
        ],
        [
         846,
         [
          0.7965564727783203,
          4.857907772064209,
          1.2030524015426636,
          3.864671230316162,
          0.9081041216850281
         ]
        ],
        [
         847,
         [
          3.7320704460144043,
          0.755985677242279,
          1.7913252115249634,
          2.3258988857269287,
          3.974661350250244
         ]
        ],
        [
         848,
         [
          3.209545135498047,
          3.8251988887786865,
          4.014042854309082,
          1.68295419216156,
          2.9590723514556885
         ]
        ],
        [
         849,
         [
          2.1842527389526367,
          2.94415545463562,
          2.3300416469573975,
          1.4072710275650024,
          3.3540878295898438
         ]
        ],
        [
         850,
         [
          3.3629870414733887,
          0,
          2.066025733947754,
          1.1268730163574219,
          5.272851943969727
         ]
        ],
        [
         851,
         [
          1.9248145818710327,
          2.9090938568115234,
          3.209627151489258,
          2.4250407218933105,
          3.2598700523376465
         ]
        ],
        [
         852,
         [
          4.834192276000977,
          2.1199350357055664,
          3.74277663230896,
          2.773038387298584,
          2.173945903778076
         ]
        ],
        [
         853,
         [
          3.439037799835205,
          2.947124719619751,
          2.5742251873016357,
          2.0015790462493896,
          3.993565797805786
         ]
        ],
        [
         854,
         [
          2.3831448554992676,
          2.9885380268096924,
          1.8631709814071655,
          1.511894941329956,
          4.625755310058594
         ]
        ],
        [
         855,
         [
          0,
          1.9967514276504517,
          2.149596929550171,
          1.1985167264938354,
          1.4198797941207886
         ]
        ],
        [
         856,
         [
          3.1953771114349365,
          3.7038464546203613,
          0.9691405892372131,
          2.1493606567382812,
          3.2558035850524902
         ]
        ],
        [
         857,
         [
          2.415633201599121,
          2.3413350582122803,
          3.707183599472046,
          0.21669058501720428,
          2.444600820541382
         ]
        ],
        [
         858,
         [
          1.6455872058868408,
          2.5759425163269043,
          3.6162633895874023,
          1.4284569025039673,
          4.791943550109863
         ]
        ],
        [
         859,
         [
          0.2456682026386261,
          2.6093268394470215,
          2.5151937007904053,
          2.195641040802002,
          3.4357283115386963
         ]
        ],
        [
         860,
         [
          1.6260762214660645,
          4.34282112121582,
          2.1926887035369873,
          1.8290530443191528,
          3.3521854877471924
         ]
        ],
        [
         861,
         [
          1.9766249656677246,
          2.9989371299743652,
          3.808295249938965,
          2.4129037857055664,
          2.0994436740875244
         ]
        ],
        [
         862,
         [
          2.932553291320801,
          1.137362003326416,
          5.5425543785095215,
          0.8288866281509399,
          1.1691533327102661
         ]
        ],
        [
         863,
         [
          1.9729900360107422,
          2.9830102920532227,
          2.911658525466919,
          2.6444969177246094,
          3.653761863708496
         ]
        ],
        [
         864,
         [
          1.980420708656311,
          2.85874080657959,
          3.1736347675323486,
          2.396322250366211,
          2.975372076034546
         ]
        ],
        [
         865,
         [
          1.413435935974121,
          1.6800905466079712,
          3.749826431274414,
          0.7860485315322876,
          5.635547637939453
         ]
        ],
        [
         866,
         [
          0,
          4.2510528564453125,
          3.03678297996521,
          0,
          3.794339656829834
         ]
        ],
        [
         867,
         [
          1.4933271408081055,
          3.1696574687957764,
          0,
          1.6158761978149414,
          3.661628246307373
         ]
        ],
        [
         868,
         [
          2.452208995819092,
          4.489503860473633,
          3.136235475540161,
          0.4133881628513336,
          3.1593363285064697
         ]
        ],
        [
         869,
         [
          1.7385681867599487,
          2.9208481311798096,
          2.983905553817749,
          2.230154275894165,
          3.727989673614502
         ]
        ],
        [
         870,
         [
          1.1479674577713013,
          3.9812960624694824,
          1.4817255735397339,
          0.28009432554244995,
          2.8303725719451904
         ]
        ],
        [
         871,
         [
          3.154273271560669,
          2.7946279048919678,
          4.569493293762207,
          3.6452856063842773,
          2.714184284210205
         ]
        ],
        [
         872,
         [
          4.95672607421875,
          1.1655224561691284,
          5.1015400886535645,
          0.39151427149772644,
          2.1101672649383545
         ]
        ],
        [
         873,
         [
          2.0780279636383057,
          1.927674651145935,
          3.023416757583618,
          1.9798868894577026,
          5.2789459228515625
         ]
        ],
        [
         874,
         [
          2.801689386367798,
          2.0208990573883057,
          1.9579992294311523,
          1.9580504894256592,
          3.2069733142852783
         ]
        ],
        [
         875,
         [
          0,
          3.4966928958892822,
          2.377291202545166,
          2.855933904647827,
          3.788891315460205
         ]
        ],
        [
         876,
         [
          1.1800620555877686,
          1.7718383073806763,
          3.905146598815918,
          3.0810060501098633,
          3.481879711151123
         ]
        ],
        [
         877,
         [
          3.434457540512085,
          3.897223472595215,
          3.2673566341400146,
          1.313381314277649,
          3.8456130027770996
         ]
        ],
        [
         878,
         [
          0,
          2.7768044471740723,
          1.1061155796051025,
          0,
          6.934996604919434
         ]
        ],
        [
         879,
         [
          0.12230421602725983,
          4.039781093597412,
          1.6124528646469116,
          2.521843910217285,
          4.561789035797119
         ]
        ],
        [
         880,
         [
          0.24116258323192596,
          0.4786297082901001,
          0.32652416825294495,
          0.18578402698040009,
          0.41200295090675354
         ]
        ],
        [
         881,
         [
          2.372584819793701,
          3.574810028076172,
          1.1474884748458862,
          1.6620967388153076,
          3.839343547821045
         ]
        ],
        [
         882,
         [
          1.0613759756088257,
          3.775827407836914,
          2.8675479888916016,
          1.3867436647415161,
          3.3085172176361084
         ]
        ],
        [
         883,
         [
          2.3672659397125244,
          2.5609130859375,
          5.738903522491455,
          2.8077290058135986,
          1.6916311979293823
         ]
        ],
        [
         884,
         [
          2.8336002826690674,
          1.4073660373687744,
          2.5065836906433105,
          2.103642702102661,
          3.6291987895965576
         ]
        ],
        [
         885,
         [
          1.6580796241760254,
          3.3540232181549072,
          1.2709764242172241,
          2.7597603797912598,
          2.892076015472412
         ]
        ],
        [
         886,
         [
          2.7188990116119385,
          2.332808017730713,
          4.691402435302734,
          1.9497849941253662,
          3.63985013961792
         ]
        ],
        [
         887,
         [
          1.2743266820907593,
          3.2004449367523193,
          3.6271378993988037,
          3.8807880878448486,
          0.9609021544456482
         ]
        ],
        [
         888,
         [
          0.8278977274894714,
          4.71566915512085,
          2.6288516521453857,
          2.1290175914764404,
          3.425994396209717
         ]
        ],
        [
         889,
         [
          2.465391159057617,
          3.621415138244629,
          2.2560389041900635,
          1.686254620552063,
          3.435011386871338
         ]
        ],
        [
         890,
         [
          2.694011688232422,
          3.167682647705078,
          2.3852286338806152,
          0.9931037425994873,
          2.893033742904663
         ]
        ],
        [
         891,
         [
          1.7063616514205933,
          3.1804769039154053,
          1.7391695976257324,
          3.221219539642334,
          3.4857797622680664
         ]
        ],
        [
         892,
         [
          1.6161082983016968,
          4.3776044845581055,
          2.685389518737793,
          2.2570953369140625,
          3.9448814392089844
         ]
        ],
        [
         893,
         [
          1.946362853050232,
          3.58109188079834,
          3.1144659519195557,
          2.609520435333252,
          3.9902853965759277
         ]
        ],
        [
         894,
         [
          2.7843596935272217,
          3.665680408477783,
          0,
          2.561647653579712,
          1.958626389503479
         ]
        ],
        [
         895,
         [
          1.3591229915618896,
          3.7243783473968506,
          1.9071011543273926,
          1.0867938995361328,
          4.777000427246094
         ]
        ],
        [
         896,
         [
          1.5883322954177856,
          3.535820960998535,
          1.471146583557129,
          1.3850229978561401,
          4.056487083435059
         ]
        ],
        [
         897,
         [
          4.450583457946777,
          4.687401294708252,
          3.1365604400634766,
          0.08513171225786209,
          4.461643695831299
         ]
        ],
        [
         898,
         [
          1.2012526988983154,
          3.248936891555786,
          3.2867181301116943,
          4.07248067855835,
          3.596378803253174
         ]
        ],
        [
         899,
         [
          1.3634488582611084,
          3.7712526321411133,
          2.809096574783325,
          1.126794457435608,
          4.773054599761963
         ]
        ],
        [
         900,
         [
          4.206075191497803,
          2.883044958114624,
          4.640985488891602,
          0.04482158645987511,
          4.408415794372559
         ]
        ],
        [
         901,
         [
          2.3509068489074707,
          1.0720224380493164,
          1.7819960117340088,
          1.9839677810668945,
          3.786762237548828
         ]
        ],
        [
         902,
         [
          2.5142667293548584,
          4.9227190017700195,
          0.9823144674301147,
          0.06519109755754471,
          1.7970669269561768
         ]
        ],
        [
         903,
         [
          2.3993256092071533,
          2.687978506088257,
          1.8371137380599976,
          2.563535213470459,
          4.198977470397949
         ]
        ],
        [
         904,
         [
          0,
          4.940241813659668,
          1.9170247316360474,
          0.7938804626464844,
          3.6592612266540527
         ]
        ],
        [
         905,
         [
          1.6187572479248047,
          2.940096616744995,
          2.3131613731384277,
          1.4800599813461304,
          4.649645805358887
         ]
        ],
        [
         906,
         [
          3.7015960216522217,
          4.565006732940674,
          1.8885467052459717,
          1.339025616645813,
          0.9123803377151489
         ]
        ],
        [
         907,
         [
          2.5151562690734863,
          4.057201862335205,
          1.113425850868225,
          1.990668535232544,
          3.0990419387817383
         ]
        ],
        [
         908,
         [
          1.586477279663086,
          4.4600443840026855,
          1.7698239088058472,
          2.349245548248291,
          1.6277974843978882
         ]
        ],
        [
         909,
         [
          0.9488489627838135,
          3.3321919441223145,
          2.894643783569336,
          1.3457095623016357,
          3.523714065551758
         ]
        ],
        [
         910,
         [
          3.027832269668579,
          1.007775902748108,
          2.1309709548950195,
          0.09128578752279282,
          5.417527198791504
         ]
        ],
        [
         911,
         [
          1.9737238883972168,
          3.0534605979919434,
          2.929485321044922,
          3.258016347885132,
          2.767845869064331
         ]
        ],
        [
         912,
         [
          2.791447401046753,
          3.1924545764923096,
          3.4885170459747314,
          0.7706236839294434,
          2.713998317718506
         ]
        ],
        [
         913,
         [
          2.1477115154266357,
          3.4047083854675293,
          2.6553375720977783,
          1.7890048027038574,
          3.27555513381958
         ]
        ],
        [
         914,
         [
          2.884972333908081,
          3.9417731761932373,
          0.11854865401983261,
          1.8329848051071167,
          3.865239143371582
         ]
        ],
        [
         915,
         [
          0.08649817854166031,
          3.1342082023620605,
          4.388515949249268,
          0.37998661398887634,
          4.3730788230896
         ]
        ],
        [
         916,
         [
          2.2404868602752686,
          2.7345612049102783,
          3.7073330879211426,
          2.9484002590179443,
          3.2009387016296387
         ]
        ],
        [
         917,
         [
          2.852741241455078,
          3.86112380027771,
          2.2227747440338135,
          2.2577102184295654,
          3.892167091369629
         ]
        ],
        [
         918,
         [
          1.8011248111724854,
          4.490297317504883,
          2.264862537384033,
          2.3043453693389893,
          1.7392942905426025
         ]
        ],
        [
         919,
         [
          1.603988766670227,
          2.5885725021362305,
          2.376185894012451,
          2.1309564113616943,
          3.384566068649292
         ]
        ],
        [
         920,
         [
          2.2203588485717773,
          3.7541871070861816,
          2.510631799697876,
          0.8427537083625793,
          4.210877895355225
         ]
        ],
        [
         921,
         [
          1.7430256605148315,
          2.2174980640411377,
          2.6279988288879395,
          1.3512601852416992,
          3.7815349102020264
         ]
        ],
        [
         922,
         [
          3.4874050617218018,
          2.586496114730835,
          2.3097269535064697,
          4.754377365112305,
          1.1562384366989136
         ]
        ],
        [
         923,
         [
          0.598209023475647,
          3.442204475402832,
          4.132238864898682,
          1.4432061910629272,
          2.327998161315918
         ]
        ],
        [
         924,
         [
          0.8437448740005493,
          4.944497108459473,
          1.037724256515503,
          1.775496006011963,
          3.4739317893981934
         ]
        ],
        [
         925,
         [
          4.447195529937744,
          3.907625436782837,
          0,
          2.362732410430908,
          4.4757819175720215
         ]
        ],
        [
         926,
         [
          3.0001652240753174,
          3.518327236175537,
          2.0930607318878174,
          2.4421732425689697,
          4.1276535987854
         ]
        ],
        [
         927,
         [
          2.902717113494873,
          1.7962160110473633,
          4.4784417152404785,
          2.1526124477386475,
          2.8474791049957275
         ]
        ],
        [
         928,
         [
          2.289752960205078,
          3.578989028930664,
          1.6450706720352173,
          2.401940107345581,
          4.089007377624512
         ]
        ],
        [
         929,
         [
          2.0695488452911377,
          2.7227487564086914,
          1.047629952430725,
          1.347900629043579,
          4.451530933380127
         ]
        ],
        [
         930,
         [
          2.048780679702759,
          3.1763663291931152,
          2.0726022720336914,
          1.6447350978851318,
          3.045137405395508
         ]
        ],
        [
         931,
         [
          0.4700812101364136,
          3.5481321811676025,
          3.8478775024414062,
          4.15460205078125,
          3.287034273147583
         ]
        ],
        [
         932,
         [
          2.3735947608947754,
          3.7547266483306885,
          2.3373868465423584,
          2.678013324737549,
          3.586278200149536
         ]
        ],
        [
         933,
         [
          2.9660701751708984,
          1.420475721359253,
          3.8775222301483154,
          0.5555804371833801,
          2.734055519104004
         ]
        ],
        [
         934,
         [
          3.0028233528137207,
          3.767735004425049,
          1.7171030044555664,
          3.120473861694336,
          3.59694242477417
         ]
        ],
        [
         935,
         [
          0,
          3.19531512260437,
          3.1777985095977783,
          1.3426227569580078,
          4.357784748077393
         ]
        ],
        [
         936,
         [
          2.9155991077423096,
          2.0842645168304443,
          2.990910053253174,
          1.6593008041381836,
          2.471791982650757
         ]
        ],
        [
         937,
         [
          0.052347294986248016,
          3.6699106693267822,
          0.30144503712654114,
          3.254319190979004,
          3.8431713581085205
         ]
        ],
        [
         938,
         [
          3.196119546890259,
          3.0920088291168213,
          2.0704522132873535,
          3.3208611011505127,
          1.930503487586975
         ]
        ],
        [
         939,
         [
          1.7292041778564453,
          2.798780918121338,
          3.9196763038635254,
          3.0284459590911865,
          2.3518564701080322
         ]
        ],
        [
         940,
         [
          2.2065117359161377,
          2.346775770187378,
          3.3639111518859863,
          2.938789129257202,
          4.378839492797852
         ]
        ],
        [
         941,
         [
          1.1427839994430542,
          1.6803722381591797,
          1.9244154691696167,
          1.3250529766082764,
          3.4976000785827637
         ]
        ],
        [
         942,
         [
          1.8364115953445435,
          3.2020657062530518,
          3.499558448791504,
          2.314321279525757,
          3.7493393421173096
         ]
        ],
        [
         943,
         [
          2.636590003967285,
          1.8034417629241943,
          3.095768928527832,
          0.8258994817733765,
          5.019587993621826
         ]
        ],
        [
         944,
         [
          2.5665032863616943,
          4.449357032775879,
          0.9192975163459778,
          0.017808927223086357,
          1.1664419174194336
         ]
        ],
        [
         945,
         [
          3.027195692062378,
          4.191884517669678,
          1.2607210874557495,
          1.3425168991088867,
          2.6213393211364746
         ]
        ],
        [
         946,
         [
          1.771315336227417,
          3.6640870571136475,
          1.1524791717529297,
          2.6309852600097656,
          3.0747416019439697
         ]
        ],
        [
         947,
         [
          0.6991357803344727,
          4.799034595489502,
          2.0857698917388916,
          3.09751558303833,
          1.8863168954849243
         ]
        ],
        [
         948,
         [
          1.597480058670044,
          2.6730904579162598,
          4.337702751159668,
          3.401440143585205,
          3.907839775085449
         ]
        ],
        [
         949,
         [
          2.6693806648254395,
          2.159996271133423,
          4.6287946701049805,
          2.491583824157715,
          1.9538657665252686
         ]
        ],
        [
         950,
         [
          2.342071056365967,
          2.775712013244629,
          1.4056631326675415,
          1.98995041847229,
          3.3458189964294434
         ]
        ],
        [
         951,
         [
          1.9301462173461914,
          3.382981777191162,
          0.898754358291626,
          3.4517126083374023,
          2.6761579513549805
         ]
        ],
        [
         952,
         [
          1.0102168321609497,
          2.642090320587158,
          1.8093161582946777,
          2.6646907329559326,
          3.5223255157470703
         ]
        ],
        [
         953,
         [
          1.922341227531433,
          3.4108595848083496,
          2.1477410793304443,
          2.483553647994995,
          2.8890223503112793
         ]
        ],
        [
         954,
         [
          1.4040697813034058,
          2.716242790222168,
          2.417513847351074,
          1.1189674139022827,
          5.4322333335876465
         ]
        ],
        [
         955,
         [
          2.7508795261383057,
          5.712435722351074,
          0.266358345746994,
          4.509905815124512,
          0
         ]
        ],
        [
         956,
         [
          2.170048475265503,
          4.458963871002197,
          2.6962263584136963,
          1.9096521139144897,
          3.449143171310425
         ]
        ],
        [
         957,
         [
          1.6889126300811768,
          2.865142345428467,
          1.369234561920166,
          0.956602931022644,
          4.901971817016602
         ]
        ],
        [
         958,
         [
          3.691312551498413,
          1.7056879997253418,
          4.052122592926025,
          0.14245708286762238,
          4.599141597747803
         ]
        ],
        [
         959,
         [
          1.3209925889968872,
          3.23476243019104,
          0,
          1.8593679666519165,
          4.418925762176514
         ]
        ],
        [
         960,
         [
          6.788697719573975,
          0.3120828866958618,
          0.39430513978004456,
          3.677438497543335,
          0
         ]
        ],
        [
         961,
         [
          1.281702995300293,
          2.7081947326660156,
          2.804715633392334,
          2.5383191108703613,
          2.806624412536621
         ]
        ],
        [
         962,
         [
          2.8931291103363037,
          2.532855749130249,
          2.2676050662994385,
          1.009674310684204,
          4.733940124511719
         ]
        ],
        [
         963,
         [
          2.2560386657714844,
          2.8981425762176514,
          2.1657445430755615,
          2.506270408630371,
          2.7501728534698486
         ]
        ],
        [
         964,
         [
          3.336301803588867,
          2.261620283126831,
          3.1428582668304443,
          0,
          3.918140411376953
         ]
        ],
        [
         965,
         [
          2.831833839416504,
          4.1179022789001465,
          0.5242545008659363,
          1.7937971353530884,
          3.2159409523010254
         ]
        ],
        [
         966,
         [
          0.14830642938613892,
          1.2137049436569214,
          5.564074516296387,
          0.8801660537719727,
          1.3528810739517212
         ]
        ],
        [
         967,
         [
          1.9025793075561523,
          3.627312183380127,
          2.216214656829834,
          3.0778300762176514,
          3.0837206840515137
         ]
        ],
        [
         968,
         [
          1.8902337551116943,
          3.830322265625,
          1.4713037014007568,
          3.5563955307006836,
          4.411214351654053
         ]
        ],
        [
         969,
         [
          1.7410857677459717,
          3.375121831893921,
          1.3050706386566162,
          1.1109771728515625,
          5.151682376861572
         ]
        ],
        [
         970,
         [
          1.0813406705856323,
          3.257056713104248,
          0,
          2.0017359256744385,
          4.298936367034912
         ]
        ],
        [
         971,
         [
          0.5558773279190063,
          3.7564969062805176,
          3.075246572494507,
          4.064874172210693,
          1.6075750589370728
         ]
        ],
        [
         972,
         [
          2.419656276702881,
          4.426032543182373,
          0.08072245866060257,
          2.4304487705230713,
          3.1934685707092285
         ]
        ],
        [
         973,
         [
          3.2208104133605957,
          2.7330400943756104,
          4.357660293579102,
          1.3638005256652832,
          2.827322244644165
         ]
        ],
        [
         974,
         [
          2.6921863555908203,
          4.2122344970703125,
          0.8549757599830627,
          1.204208254814148,
          4.178808212280273
         ]
        ],
        [
         975,
         [
          2.388054370880127,
          4.121650695800781,
          3.3290228843688965,
          0.9086657166481018,
          1.6954357624053955
         ]
        ],
        [
         976,
         [
          2.377546787261963,
          3.4634432792663574,
          2.714635133743286,
          1.9128786325454712,
          3.449770927429199
         ]
        ],
        [
         977,
         [
          1.6306116580963135,
          3.10247540473938,
          2.5815141201019287,
          1.9482117891311646,
          3.1316545009613037
         ]
        ],
        [
         978,
         [
          2.603543519973755,
          3.9288318157196045,
          2.5356128215789795,
          2.093285322189331,
          3.4096779823303223
         ]
        ],
        [
         979,
         [
          3.4313254356384277,
          1.804913878440857,
          3.73394513130188,
          0.750510573387146,
          4.08826208114624
         ]
        ],
        [
         980,
         [
          2.234898567199707,
          4.2782721519470215,
          1.8684139251708984,
          2.1028146743774414,
          3.5166008472442627
         ]
        ],
        [
         981,
         [
          1.5876820087432861,
          4.5592193603515625,
          2.6922969818115234,
          2.8976778984069824,
          2.741429090499878
         ]
        ],
        [
         982,
         [
          2.4311792850494385,
          3.5225601196289062,
          1.9951684474945068,
          2.7896170616149902,
          4.082546234130859
         ]
        ],
        [
         983,
         [
          2.9144346714019775,
          2.1102771759033203,
          3.8605504035949707,
          2.359267473220825,
          1.4015872478485107
         ]
        ],
        [
         984,
         [
          1.8855732679367065,
          3.3968517780303955,
          4.078209400177002,
          0.5911489129066467,
          4.593048572540283
         ]
        ],
        [
         985,
         [
          1.031151294708252,
          2.7675118446350098,
          1.904671549797058,
          3.3271069526672363,
          3.796621799468994
         ]
        ],
        [
         986,
         [
          2.934156894683838,
          3.1768898963928223,
          2.030398368835449,
          0.9978196620941162,
          0
         ]
        ],
        [
         987,
         [
          3.4108381271362305,
          2.639963150024414,
          2.537606716156006,
          0.3813782036304474,
          5.534634590148926
         ]
        ],
        [
         988,
         [
          4.111225605010986,
          4.021175384521484,
          2.8025496006011963,
          0.5997353196144104,
          4.485098838806152
         ]
        ],
        [
         989,
         [
          0.03980284929275513,
          0.6430683732032776,
          3.044574022293091,
          3.2768466472625732,
          3.7479469776153564
         ]
        ],
        [
         990,
         [
          2.8146064281463623,
          2.3412649631500244,
          3.2744650840759277,
          2.4152376651763916,
          4.218354225158691
         ]
        ],
        [
         991,
         [
          1.9955424070358276,
          0.6011918783187866,
          4.282419681549072,
          2.9015653133392334,
          3.5931320190429688
         ]
        ],
        [
         992,
         [
          2.9670090675354004,
          3.208482265472412,
          4.4539289474487305,
          1.5361261367797852,
          3.333709478378296
         ]
        ],
        [
         993,
         [
          1.3245999813079834,
          4.1525068283081055,
          0.7100149393081665,
          1.7307512760162354,
          3.391842842102051
         ]
        ],
        [
         994,
         [
          1.8634624481201172,
          1.7058851718902588,
          0.5982266068458557,
          1.9507778882980347,
          0.34594911336898804
         ]
        ],
        [
         995,
         [
          0,
          3.171732187271118,
          2.7438693046569824,
          0.8573240041732788,
          2.5804443359375
         ]
        ],
        [
         996,
         [
          2.6990480422973633,
          3.4515342712402344,
          3.047156810760498,
          2.0697755813598633,
          3.590059518814087
         ]
        ],
        [
         997,
         [
          1.91702401638031,
          2.8785183429718018,
          2.118318557739258,
          0.9189717173576355,
          2.9236366748809814
         ]
        ],
        [
         998,
         [
          3.1975719928741455,
          3.3152918815612793,
          3.1163382530212402,
          2.159306764602661,
          1.9999010562896729
         ]
        ],
        [
         999,
         [
          2.840784788131714,
          3.640130043029785,
          0.46396926045417786,
          2.7786407470703125,
          4.249034404754639
         ]
        ],
        [
         1000,
         [
          2.3789939880371094,
          2.5907835960388184,
          2.890014886856079,
          1.8798197507858276,
          2.8762009143829346
         ]
        ],
        [
         1001,
         [
          0.08750264346599579,
          3.672748565673828,
          4.696999549865723,
          1.2767871618270874,
          2.4775736331939697
         ]
        ],
        [
         1002,
         [
          1.894439697265625,
          3.771329402923584,
          2.7047314643859863,
          2.111614942550659,
          3.44077205657959
         ]
        ],
        [
         1003,
         [
          0.5361407995223999,
          3.9776413440704346,
          1.569986343383789,
          2.7829885482788086,
          3.630265712738037
         ]
        ]
       ],
       "datasetInfos": [],
       "dbfsResultPath": null,
       "isJsonSchema": true,
       "overflow": true,
       "plotOptions": {
        "customPlotOptions": {},
        "displayType": "table",
        "pivotAggregation": null,
        "pivotColumns": null,
        "xColumns": null,
        "yColumns": null
       },
       "removedWidgets": [],
       "schema": [
        {
         "metadata": "{}",
         "name": "id",
         "type": "\"long\""
        },
        {
         "metadata": "{}",
         "name": "features",
         "type": "{\"type\":\"array\",\"elementType\":\"double\",\"containsNull\":true}"
        }
       ],
       "type": "table"
      }
     },
     "output_type": "display_data"
    }
   ],
   "source": [
    "display(best_model.userFactors.orderBy(\"id\").collect())"
   ]
  },
  {
   "cell_type": "code",
   "execution_count": 0,
   "metadata": {
    "application/vnd.databricks.v1+cell": {
     "inputWidgets": {},
     "nuid": "f2e4b456-7a07-4100-9a3b-8e95c6543cc6",
     "showTitle": false,
     "title": ""
    }
   },
   "outputs": [],
   "source": []
  },
  {
   "cell_type": "code",
   "execution_count": 0,
   "metadata": {
    "application/vnd.databricks.v1+cell": {
     "inputWidgets": {},
     "nuid": "5c1329ca-e787-49f7-afa7-120a199764a8",
     "showTitle": false,
     "title": ""
    }
   },
   "outputs": [
    {
     "data": {
      "text/html": [
       "<style scoped>\n",
       "  .ansiout {\n",
       "    display: block;\n",
       "    unicode-bidi: embed;\n",
       "    white-space: pre-wrap;\n",
       "    word-wrap: break-word;\n",
       "    word-break: break-all;\n",
       "    font-family: \"Source Code Pro\", \"Menlo\", monospace;;\n",
       "    font-size: 13px;\n",
       "    color: #555;\n",
       "    margin-left: 4px;\n",
       "    line-height: 19px;\n",
       "  }\n",
       "</style>\n",
       "<div class=\"ansiout\">Root-mean-square error = 0.8337916596744103\n",
       "</div>"
      ]
     },
     "metadata": {
      "application/vnd.databricks.v1+output": {
       "addedWidgets": {},
       "arguments": {},
       "data": "<div class=\"ansiout\">Root-mean-square error = 0.8337916596744103\n</div>",
       "datasetInfos": [],
       "removedWidgets": [],
       "type": "html"
      }
     },
     "output_type": "display_data"
    }
   ],
   "source": [
    "rmse = evaluator.evaluate(predictions)\n",
    "print(\"Root-mean-square error = \" + str(rmse))"
   ]
  },
  {
   "cell_type": "code",
   "execution_count": 0,
   "metadata": {
    "application/vnd.databricks.v1+cell": {
     "inputWidgets": {},
     "nuid": "7b767bcc-9215-4b34-9590-6d2c9188b0e6",
     "showTitle": false,
     "title": ""
    }
   },
   "outputs": [],
   "source": [
    "\n"
   ]
  },
  {
   "cell_type": "code",
   "execution_count": 0,
   "metadata": {
    "application/vnd.databricks.v1+cell": {
     "inputWidgets": {},
     "nuid": "b92083da-b0df-4b71-aee6-abdf844caed3",
     "showTitle": false,
     "title": ""
    }
   },
   "outputs": [
    {
     "data": {
      "text/html": [
       "<style scoped>\n",
       "  .ansiout {\n",
       "    display: block;\n",
       "    unicode-bidi: embed;\n",
       "    white-space: pre-wrap;\n",
       "    word-wrap: break-word;\n",
       "    word-break: break-all;\n",
       "    font-family: \"Source Code Pro\", \"Menlo\", monospace;;\n",
       "    font-size: 13px;\n",
       "    color: #555;\n",
       "    margin-left: 4px;\n",
       "    line-height: 19px;\n",
       "  }\n",
       "</style>\n",
       "<div class=\"ansiout\"></div>"
      ]
     },
     "metadata": {
      "application/vnd.databricks.v1+output": {
       "addedWidgets": {},
       "arguments": {},
       "data": "<div class=\"ansiout\"></div>",
       "datasetInfos": [],
       "removedWidgets": [],
       "type": "html"
      }
     },
     "output_type": "display_data"
    },
    {
     "data": {
      "text/html": [
       "<style scoped>\n",
       "  .ansiout {\n",
       "    display: block;\n",
       "    unicode-bidi: embed;\n",
       "    white-space: pre-wrap;\n",
       "    word-wrap: break-word;\n",
       "    word-break: break-all;\n",
       "    font-family: \"Source Code Pro\", \"Menlo\", monospace;;\n",
       "    font-size: 13px;\n",
       "    color: #555;\n",
       "    margin-left: 4px;\n",
       "    line-height: 19px;\n",
       "  }\n",
       "</style>"
      ]
     },
     "metadata": {
      "application/vnd.databricks.v1+output": {
       "arguments": {},
       "data": "",
       "errorSummary": "Cancelled",
       "type": "ipynbError"
      }
     },
     "output_type": "display_data"
    }
   ],
   "source": [
    "# Generate top 10 movie recommendations for each user\n",
    "userRecs = best_model.recommendForAllUsers(10)\n",
    "# Generate top 10 user recommendations for each movie\n",
    "movieRecs = best_model.recommendForAllItems(10)\n",
    "display(userRecs.take(5))\n",
    "display(movieRecs.take(5))"
   ]
  },
  {
   "cell_type": "code",
   "execution_count": 0,
   "metadata": {
    "application/vnd.databricks.v1+cell": {
     "inputWidgets": {},
     "nuid": "674c3f40-9af2-41f1-b049-37c524750ef1",
     "showTitle": false,
     "title": ""
    }
   },
   "outputs": [],
   "source": []
  },
  {
   "cell_type": "code",
   "execution_count": 0,
   "metadata": {
    "application/vnd.databricks.v1+cell": {
     "inputWidgets": {},
     "nuid": "8bc6fd03-aa45-4575-aa1d-fe1730fef876",
     "showTitle": false,
     "title": ""
    }
   },
   "outputs": [],
   "source": []
  },
  {
   "cell_type": "markdown",
   "metadata": {
    "application/vnd.databricks.v1+cell": {
     "inputWidgets": {},
     "nuid": "ad3ec2df-ed8d-4727-bc7f-d492453a2662",
     "showTitle": false,
     "title": ""
    }
   },
   "source": [
    "#Recommend moive to users with id: 575, 232.\n",
    "you can choose some users to recommend the moives"
   ]
  },
  {
   "cell_type": "code",
   "execution_count": 0,
   "metadata": {
    "application/vnd.databricks.v1+cell": {
     "inputWidgets": {},
     "nuid": "693e3ae1-271e-4f49-8512-10f8728560fe",
     "showTitle": false,
     "title": ""
    }
   },
   "outputs": [
    {
     "data": {
      "text/html": [
       "<style scoped>\n",
       "  .ansiout {\n",
       "    display: block;\n",
       "    unicode-bidi: embed;\n",
       "    white-space: pre-wrap;\n",
       "    word-wrap: break-word;\n",
       "    word-break: break-all;\n",
       "    font-family: \"Source Code Pro\", \"Menlo\", monospace;;\n",
       "    font-size: 13px;\n",
       "    color: #555;\n",
       "    margin-left: 4px;\n",
       "    line-height: 19px;\n",
       "  }\n",
       "</style>\n",
       "<div class=\"ansiout\">root\n",
       "-- id: integer (nullable = true)\n",
       "-- userId: integer (nullable = true)\n",
       "\n",
       "+---+------+\n",
       "id |userId|\n",
       "+---+------+\n",
       "0  |575   |\n",
       "1  |232   |\n",
       "+---+------+\n",
       "\n",
       "</div>"
      ]
     },
     "metadata": {
      "application/vnd.databricks.v1+output": {
       "addedWidgets": {},
       "arguments": {},
       "data": "<div class=\"ansiout\">root\n |-- id: integer (nullable = true)\n |-- userId: integer (nullable = true)\n\n+---+------+\n|id |userId|\n+---+------+\n|0  |575   |\n|1  |232   |\n+---+------+\n\n</div>",
       "datasetInfos": [],
       "removedWidgets": [],
       "type": "html"
      }
     },
     "output_type": "display_data"
    }
   ],
   "source": [
    "from pyspark.sql.types import StructType,StructField, StringType, IntegerType\n",
    "data2 = [(0,575),(1,232)]\n",
    "schema = StructType([StructField(\"id\", IntegerType(), True),StructField(\"userId\", IntegerType(), True)])\n",
    " \n",
    "user_ids = spark.createDataFrame(data=data2,schema=schema)\n",
    "user_ids.printSchema()\n",
    "user_ids.show(truncate=False)"
   ]
  },
  {
   "cell_type": "code",
   "execution_count": 0,
   "metadata": {
    "application/vnd.databricks.v1+cell": {
     "inputWidgets": {},
     "nuid": "89dbb253-a7d3-4837-bcb6-bd1a7ece6723",
     "showTitle": false,
     "title": ""
    }
   },
   "outputs": [
    {
     "data": {
      "text/html": [
       "<style scoped>\n",
       "  .table-result-container {\n",
       "    max-height: 300px;\n",
       "    overflow: auto;\n",
       "  }\n",
       "  table, th, td {\n",
       "    border: 1px solid black;\n",
       "    border-collapse: collapse;\n",
       "  }\n",
       "  th, td {\n",
       "    padding: 5px;\n",
       "  }\n",
       "  th {\n",
       "    text-align: left;\n",
       "  }\n",
       "</style><div class='table-result-container'><table class='table-result'><thead style='background-color: white'><tr><th>userId</th><th>recommendations</th></tr></thead><tbody><tr><td>232</td><td>List(List(175695, 16.653065), List(136880, 16.487339), List(187937, 15.228992), List(135757, 14.850873), List(135151, 13.785253))</td></tr><tr><td>575</td><td>List(List(175695, 24.52223), List(182521, 17.310308), List(136880, 11.708318), List(187937, 10.938843), List(135757, 10.121726))</td></tr></tbody></table></div>"
      ]
     },
     "metadata": {
      "application/vnd.databricks.v1+output": {
       "addedWidgets": {},
       "aggData": [],
       "aggError": "",
       "aggOverflow": false,
       "aggSchema": [],
       "aggSeriesLimitReached": false,
       "aggType": "",
       "arguments": {},
       "columnCustomDisplayInfos": {},
       "data": [
        [
         232,
         [
          [
           175695,
           16.653065
          ],
          [
           136880,
           16.487339
          ],
          [
           187937,
           15.228992
          ],
          [
           135757,
           14.850873
          ],
          [
           135151,
           13.785253
          ]
         ]
        ],
        [
         575,
         [
          [
           175695,
           24.52223
          ],
          [
           182521,
           17.310308
          ],
          [
           136880,
           11.708318
          ],
          [
           187937,
           10.938843
          ],
          [
           135757,
           10.121726
          ]
         ]
        ]
       ],
       "datasetInfos": [],
       "dbfsResultPath": null,
       "isJsonSchema": true,
       "overflow": false,
       "plotOptions": {
        "customPlotOptions": {},
        "displayType": "table",
        "pivotAggregation": null,
        "pivotColumns": null,
        "xColumns": null,
        "yColumns": null
       },
       "removedWidgets": [],
       "schema": [
        {
         "metadata": "{}",
         "name": "userId",
         "type": "\"integer\""
        },
        {
         "metadata": "{}",
         "name": "recommendations",
         "type": "{\"type\":\"array\",\"elementType\":{\"type\":\"struct\",\"fields\":[{\"name\":\"movieId\",\"type\":\"integer\",\"nullable\":true,\"metadata\":{}},{\"name\":\"rating\",\"type\":\"float\",\"nullable\":true,\"metadata\":{}}]},\"containsNull\":true}"
        }
       ],
       "type": "table"
      }
     },
     "output_type": "display_data"
    }
   ],
   "source": [
    "movies_ids = best_model.recommendForUserSubset(user_ids,5)\n",
    "display(movies_ids)"
   ]
  },
  {
   "cell_type": "markdown",
   "metadata": {
    "application/vnd.databricks.v1+cell": {
     "inputWidgets": {},
     "nuid": "c6ea5933-596b-4d3a-88de-7b00a750895f",
     "showTitle": false,
     "title": ""
    }
   },
   "source": [
    "# Find the similar moives for moive with id: 463, 471\n",
    "You can find the similar moives based on the ALS results"
   ]
  },
  {
   "cell_type": "code",
   "execution_count": 0,
   "metadata": {
    "application/vnd.databricks.v1+cell": {
     "inputWidgets": {},
     "nuid": "7e8833d3-3e33-41c6-90dc-5bb7b93a3da3",
     "showTitle": false,
     "title": ""
    }
   },
   "outputs": [
    {
     "data": {
      "text/html": [
       "<style scoped>\n",
       "  .ansiout {\n",
       "    display: block;\n",
       "    unicode-bidi: embed;\n",
       "    white-space: pre-wrap;\n",
       "    word-wrap: break-word;\n",
       "    word-break: break-all;\n",
       "    font-family: \"Source Code Pro\", \"Menlo\", monospace;;\n",
       "    font-size: 13px;\n",
       "    color: #555;\n",
       "    margin-left: 4px;\n",
       "    line-height: 19px;\n",
       "  }\n",
       "</style>\n",
       "<div class=\"ansiout\">root\n",
       "-- id: integer (nullable = true)\n",
       "-- movieId: integer (nullable = true)\n",
       "\n",
       "+---+-------+\n",
       "id |movieId|\n",
       "+---+-------+\n",
       "0  |463    |\n",
       "1  |471    |\n",
       "+---+-------+\n",
       "\n",
       "</div>"
      ]
     },
     "metadata": {
      "application/vnd.databricks.v1+output": {
       "addedWidgets": {},
       "arguments": {},
       "data": "<div class=\"ansiout\">root\n |-- id: integer (nullable = true)\n |-- movieId: integer (nullable = true)\n\n+---+-------+\n|id |movieId|\n+---+-------+\n|0  |463    |\n|1  |471    |\n+---+-------+\n\n</div>",
       "datasetInfos": [],
       "removedWidgets": [],
       "type": "html"
      }
     },
     "output_type": "display_data"
    }
   ],
   "source": [
    "from pyspark.sql.types import StructType,StructField, StringType, IntegerType\n",
    "data2 = [(0,463),(1,471)]\n",
    "schema = StructType([StructField(\"id\", IntegerType(), True),StructField(\"movieId\", IntegerType(), True)])\n",
    " \n",
    "movie_ids = spark.createDataFrame(data=data2,schema=schema)\n",
    "movie_ids.printSchema()\n",
    "movie_ids.show(truncate=False)"
   ]
  },
  {
   "cell_type": "code",
   "execution_count": 0,
   "metadata": {
    "application/vnd.databricks.v1+cell": {
     "inputWidgets": {},
     "nuid": "793a8858-947c-4eb1-bed2-bb4b84cf8806",
     "showTitle": false,
     "title": ""
    }
   },
   "outputs": [
    {
     "data": {
      "text/html": [
       "<style scoped>\n",
       "  .table-result-container {\n",
       "    max-height: 300px;\n",
       "    overflow: auto;\n",
       "  }\n",
       "  table, th, td {\n",
       "    border: 1px solid black;\n",
       "    border-collapse: collapse;\n",
       "  }\n",
       "  th, td {\n",
       "    padding: 5px;\n",
       "  }\n",
       "  th {\n",
       "    text-align: left;\n",
       "  }\n",
       "</style><div class='table-result-container'><table class='table-result'><thead style='background-color: white'><tr><th>movieId</th><th>recommendations</th></tr></thead><tbody><tr><td>463</td><td>List(List(230692, 6.051877), List(165699, 6.040237), List(26576, 5.8531137), List(188265, 5.7603807), List(31812, 5.692924))</td></tr><tr><td>471</td><td>List(List(174669, 8.885668), List(195814, 7.672152), List(91645, 7.668568), List(187577, 7.557473), List(77814, 6.923845))</td></tr></tbody></table></div>"
      ]
     },
     "metadata": {
      "application/vnd.databricks.v1+output": {
       "addedWidgets": {},
       "aggData": [],
       "aggError": "",
       "aggOverflow": false,
       "aggSchema": [],
       "aggSeriesLimitReached": false,
       "aggType": "",
       "arguments": {},
       "columnCustomDisplayInfos": {},
       "data": [
        [
         463,
         [
          [
           230692,
           6.051877
          ],
          [
           165699,
           6.040237
          ],
          [
           26576,
           5.8531137
          ],
          [
           188265,
           5.7603807
          ],
          [
           31812,
           5.692924
          ]
         ]
        ],
        [
         471,
         [
          [
           174669,
           8.885668
          ],
          [
           195814,
           7.672152
          ],
          [
           91645,
           7.668568
          ],
          [
           187577,
           7.557473
          ],
          [
           77814,
           6.923845
          ]
         ]
        ]
       ],
       "datasetInfos": [],
       "dbfsResultPath": null,
       "isJsonSchema": true,
       "overflow": false,
       "plotOptions": {
        "customPlotOptions": {},
        "displayType": "table",
        "pivotAggregation": null,
        "pivotColumns": null,
        "xColumns": null,
        "yColumns": null
       },
       "removedWidgets": [],
       "schema": [
        {
         "metadata": "{}",
         "name": "movieId",
         "type": "\"integer\""
        },
        {
         "metadata": "{}",
         "name": "recommendations",
         "type": "{\"type\":\"array\",\"elementType\":{\"type\":\"struct\",\"fields\":[{\"name\":\"userId\",\"type\":\"integer\",\"nullable\":true,\"metadata\":{}},{\"name\":\"rating\",\"type\":\"float\",\"nullable\":true,\"metadata\":{}}]},\"containsNull\":true}"
        }
       ],
       "type": "table"
      }
     },
     "output_type": "display_data"
    }
   ],
   "source": [
    "users_ids = best_model.recommendForItemSubset(movie_ids,5)\n",
    "display(users_ids)"
   ]
  }
 ],
 "metadata": {
  "application/vnd.databricks.v1+notebook": {
   "dashboards": [
    {
     "elements": [
      {
       "elementNUID": "63466ce6-5d7c-4b2b-ae94-bb796efc5419",
       "elementType": "command",
       "guid": "14182e44-2cad-4e43-a4a8-466dfc9dac98",
       "options": null,
       "position": {
        "height": 2,
        "width": 12,
        "x": 0,
        "y": 0,
        "z": null
       }
      },
      {
       "elementNUID": "5a22a1e9-9a73-4aa8-aea8-c566c58eb5e9",
       "elementType": "command",
       "guid": "24d0eed3-8bfc-4839-b02d-62a88bb21088",
       "options": null,
       "position": {
        "height": 2,
        "width": 12,
        "x": 0,
        "y": 6,
        "z": null
       }
      },
      {
       "elementNUID": "6dc92317-407f-4377-b116-8727c4e215b7",
       "elementType": "command",
       "guid": "4b36752d-7679-4a0a-a163-f2ba7985d097",
       "options": null,
       "position": {
        "height": 2,
        "width": 12,
        "x": 0,
        "y": 12,
        "z": null
       }
      },
      {
       "elementNUID": "07184a7c-5d12-4d50-bad5-98e97b552292",
       "elementType": "command",
       "guid": "55436545-ea68-43c4-9f2e-566ca747c2f2",
       "options": null,
       "position": {
        "height": 2,
        "width": 12,
        "x": 0,
        "y": 10,
        "z": null
       }
      },
      {
       "elementNUID": "5be4c839-18cf-4f23-a323-7ba8baae7d73",
       "elementType": "command",
       "guid": "651dafea-f6e4-4e5f-9b04-c3ea99b9fe57",
       "options": null,
       "position": {
        "height": 2,
        "width": 12,
        "x": 0,
        "y": 8,
        "z": null
       }
      },
      {
       "elementNUID": "98ca0286-de72-4d2e-8dea-263f12783359",
       "elementType": "command",
       "guid": "8c447d7c-9aed-473b-8e3a-4bf3427aa62d",
       "options": null,
       "position": {
        "height": 2,
        "width": 12,
        "x": 0,
        "y": 2,
        "z": null
       }
      },
      {
       "elementNUID": "99480cf6-e900-42ad-8787-81a31bea032f",
       "elementType": "command",
       "guid": "e50d7b68-bc04-4b48-aeb7-70b4e5b74d78",
       "options": null,
       "position": {
        "height": 2,
        "width": 12,
        "x": 0,
        "y": 4,
        "z": null
       }
      }
     ],
     "globalVars": {},
     "guid": "6a872ed4-53b2-4b99-afe0-ee0a838f4279",
     "layoutOption": {
      "grid": true,
      "stack": true
     },
     "nuid": "8eddc115-0788-4c93-bb8b-fdd6151d3ffd",
     "origId": 3153392235006644,
     "title": "Untitled",
     "version": "DashboardViewV1",
     "width": 1024
    }
   ],
   "language": "python",
   "notebookName": "Movie Recommendation Engine in Apache Spark",
   "notebookOrigID": 1683711558086085,
   "widgets": {}
  },
  "kernelspec": {
   "display_name": "Python 3",
   "language": "python",
   "name": "python3"
  },
  "language_info": {
   "codemirror_mode": {
    "name": "ipython",
    "version": 3
   },
   "file_extension": ".py",
   "mimetype": "text/x-python",
   "name": "python",
   "nbconvert_exporter": "python",
   "pygments_lexer": "ipython3",
   "version": "3.8.8"
  },
  "toc": {
   "base_numbering": 1,
   "nav_menu": {},
   "number_sections": true,
   "sideBar": true,
   "skip_h1_title": false,
   "title_cell": "Table of Contents",
   "title_sidebar": "Contents",
   "toc_cell": false,
   "toc_position": {},
   "toc_section_display": true,
   "toc_window_display": false
  },
  "varInspector": {
   "cols": {
    "lenName": 16,
    "lenType": 16,
    "lenVar": 40
   },
   "kernels_config": {
    "python": {
     "delete_cmd_postfix": "",
     "delete_cmd_prefix": "del ",
     "library": "var_list.py",
     "varRefreshCmd": "print(var_dic_list())"
    },
    "r": {
     "delete_cmd_postfix": ") ",
     "delete_cmd_prefix": "rm(",
     "library": "var_list.r",
     "varRefreshCmd": "cat(var_dic_list()) "
    }
   },
   "types_to_exclude": [
    "module",
    "function",
    "builtin_function_or_method",
    "instance",
    "_Feature"
   ],
   "window_display": false
  }
 },
 "nbformat": 4,
 "nbformat_minor": 1
}
