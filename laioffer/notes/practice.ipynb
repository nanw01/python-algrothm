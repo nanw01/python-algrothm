{
 "metadata": {
  "language_info": {
   "codemirror_mode": {
    "name": "ipython",
    "version": 3
   },
   "file_extension": ".py",
   "mimetype": "text/x-python",
   "name": "python",
   "nbconvert_exporter": "python",
   "pygments_lexer": "ipython3",
   "version": "3.8.5-final"
  },
  "orig_nbformat": 2,
  "kernelspec": {
   "name": "python3",
   "display_name": "Python 3",
   "language": "python"
  }
 },
 "nbformat": 4,
 "nbformat_minor": 2,
 "cells": [
  {
   "cell_type": "code",
   "execution_count": 2,
   "metadata": {},
   "outputs": [
    {
     "output_type": "stream",
     "name": "stdout",
     "text": [
      "[0, 1, 2, 3, 4, 5, 6, 7, 7, 8, 9]\n"
     ]
    }
   ],
   "source": [
    "def partition(lst,start,end,pivot_index):\n",
    "    lst[pivot_index],lst[end]=lst[end],lst[pivot_index]\n",
    "\n",
    "    store_index = start   \n",
    "    \n",
    "    pivot = lst[end]\n",
    "\n",
    "    for i in range(start,end):\n",
    "        if lst[i] < pivot:\n",
    "            lst[i],lst[store_index] = lst[store_index],lst[i]\n",
    "            store_index+=1\n",
    "\n",
    "    lst[store_index],lst[end] = lst[end],lst[store_index]\n",
    "    \n",
    "    return store_index\n",
    "\n",
    "from random import randrange\n",
    "\n",
    "def quick_sort_helper(lst,start,end):\n",
    "    if start>=end:\n",
    "        return\n",
    "    pivot_index = randrange(start,end+1)\n",
    "    new_pivot_index = partition(lst,start,end,pivot_index)\n",
    "    quick_sort_helper(lst,start,new_pivot_index-1)\n",
    "    quick_sort_helper(lst,new_pivot_index+1,end)\n",
    "    return lst\n",
    "\n",
    "def quick_sort(lst):\n",
    "    quick_sort_helper(lst,0,len(lst)-1)\n",
    "    return lst\n",
    "\n",
    "print(quick_sort([5,4,3,6,7,2,7,1,9,8,0]))\n"
   ]
  },
  {
   "cell_type": "code",
   "execution_count": 6,
   "metadata": {},
   "outputs": [
    {
     "output_type": "stream",
     "name": "stdout",
     "text": [
      "[0, 1, 2, 3, 4, 5, 6, 7, 8, 9]\n"
     ]
    }
   ],
   "source": [
    "class Solution:\n",
    "    from random import randrange\n",
    "\n",
    "    def partition(self, lst, start, end, pivot_index):\n",
    "        lst[pivot_index], lst[end] = lst[end], lst[pivot_index]\n",
    "\n",
    "        store_index = start\n",
    "        pivot = lst[end]\n",
    "\n",
    "        for i in range(start, end):\n",
    "            if lst[i] < pivot:\n",
    "                lst[i], lst[store_index] = lst[store_index], lst[i]\n",
    "                store_index += 1\n",
    "\n",
    "        lst[store_index], lst[end] = lst[end], lst[store_index]\n",
    "\n",
    "        return store_index\n",
    "\n",
    "    def quick_sort_helper(self, lst, start, end):\n",
    "        if start >= end:\n",
    "            return\n",
    "        pivot_index = self.randrange(start, end+1)\n",
    "        new_pivot_index = self.partition(lst, start, end, pivot_index)\n",
    "        self.quick_sort_helper(lst, start, new_pivot_index-1)\n",
    "        self.quick_sort_helper(lst, new_pivot_index+1, end)\\\n",
    "\n",
    "\n",
    "    def quickSort(self, lst):\n",
    "        self.quick_sort_helper(lst, 0, len(lst)-1)\n",
    "        return lst\n",
    "\n",
    "\n",
    "print(Solution().quickSort([2, 1, 3, 6, 4, 5, 9, 7, 8, 0]))\n"
   ]
  },
  {
   "cell_type": "code",
   "execution_count": null,
   "metadata": {},
   "outputs": [],
   "source": [
    "\n",
    "def search_first(alist):\n",
    "    left, right = 0,1\n",
    "    \n",
    "    while alist[right] == 0:\n",
    "        left = right\n",
    "        right *= 2\n",
    "\n",
    "        if right > len(alist):\n",
    "            right = len(alist)-1\n",
    "            break\n",
    "    \n",
    "    return left+search_first(alist[left:right+1],1)[0]"
   ]
  }
 ]
}