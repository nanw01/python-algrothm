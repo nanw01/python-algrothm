{
 "metadata": {
  "language_info": {
   "codemirror_mode": {
    "name": "ipython",
    "version": 3
   },
   "file_extension": ".py",
   "mimetype": "text/x-python",
   "name": "python",
   "nbconvert_exporter": "python",
   "pygments_lexer": "ipython3",
   "version": "3.8.5-final"
  },
  "orig_nbformat": 2,
  "kernelspec": {
   "name": "python3",
   "display_name": "Python 3",
   "language": "python"
  }
 },
 "nbformat": 4,
 "nbformat_minor": 2,
 "cells": [
  {
   "cell_type": "code",
   "execution_count": 2,
   "metadata": {},
   "outputs": [
    {
     "output_type": "stream",
     "name": "stdout",
     "text": [
      "[0, 1, 2, 3, 4, 5, 6, 7, 7, 8, 9]\n"
     ]
    }
   ],
   "source": [
    "def partition(lst,start,end,pivot_index):\n",
    "    lst[pivot_index],lst[end]=lst[end],lst[pivot_index]\n",
    "\n",
    "    store_index = start\n",
    "    pivot = lst[end]\n",
    "\n",
    "    for i in range(start,end):\n",
    "        if lst[i] < pivot:\n",
    "            lst[i],lst[store_index] = lst[store_index],lst[i]\n",
    "            store_index+=1\n",
    "\n",
    "    lst[store_index],lst[end] = lst[end],lst[store_index]\n",
    "    \n",
    "    return store_index\n",
    "\n",
    "from random import randrange\n",
    "\n",
    "def quick_sort_helper(lst,start,end):\n",
    "    if start>=end:\n",
    "        return\n",
    "    pivot_index = randrange(start,end+1)\n",
    "    new_pivot_index = partition(lst,start,end,pivot_index)\n",
    "    quick_sort_helper(lst,start,new_pivot_index-1)\n",
    "    quick_sort_helper(lst,new_pivot_index+1,end)\n",
    "    return lst\n",
    "\n",
    "def quick_sort(lst):\n",
    "    quick_sort_helper(lst,0,len(lst)-1)\n",
    "    return lst\n",
    "\n",
    "print(quick_sort([5,4,3,6,7,2,7,1,9,8,0]))\n"
   ]
  },
  {
   "cell_type": "code",
   "execution_count": 5,
   "metadata": {},
   "outputs": [
    {
     "output_type": "error",
     "ename": "NameError",
     "evalue": "name 'self' is not defined",
     "traceback": [
      "\u001b[0;31m---------------------------------------------------------------------------\u001b[0m",
      "\u001b[0;31mNameError\u001b[0m                                 Traceback (most recent call last)",
      "\u001b[0;32m<ipython-input-5-c2ab32f25c99>\u001b[0m in \u001b[0;36m<module>\u001b[0;34m\u001b[0m\n\u001b[1;32m     32\u001b[0m     \u001b[0;32mreturn\u001b[0m \u001b[0mlst\u001b[0m\u001b[0;34m\u001b[0m\u001b[0;34m\u001b[0m\u001b[0m\n\u001b[1;32m     33\u001b[0m \u001b[0;34m\u001b[0m\u001b[0m\n\u001b[0;32m---> 34\u001b[0;31m \u001b[0mprint\u001b[0m\u001b[0;34m(\u001b[0m\u001b[0mquick_sort\u001b[0m\u001b[0;34m(\u001b[0m\u001b[0;34m[\u001b[0m\u001b[0;36m5\u001b[0m\u001b[0;34m,\u001b[0m\u001b[0;36m4\u001b[0m\u001b[0;34m,\u001b[0m\u001b[0;36m3\u001b[0m\u001b[0;34m,\u001b[0m\u001b[0;36m6\u001b[0m\u001b[0;34m,\u001b[0m\u001b[0;36m7\u001b[0m\u001b[0;34m,\u001b[0m\u001b[0;36m2\u001b[0m\u001b[0;34m,\u001b[0m\u001b[0;36m7\u001b[0m\u001b[0;34m,\u001b[0m\u001b[0;36m1\u001b[0m\u001b[0;34m,\u001b[0m\u001b[0;36m9\u001b[0m\u001b[0;34m,\u001b[0m\u001b[0;36m8\u001b[0m\u001b[0;34m,\u001b[0m\u001b[0;36m0\u001b[0m\u001b[0;34m]\u001b[0m\u001b[0;34m)\u001b[0m\u001b[0;34m)\u001b[0m\u001b[0;34m\u001b[0m\u001b[0;34m\u001b[0m\u001b[0m\n\u001b[0m",
      "\u001b[0;32m<ipython-input-5-c2ab32f25c99>\u001b[0m in \u001b[0;36mquick_sort\u001b[0;34m(lst)\u001b[0m\n\u001b[1;32m     29\u001b[0m \u001b[0;34m\u001b[0m\u001b[0m\n\u001b[1;32m     30\u001b[0m \u001b[0;32mdef\u001b[0m \u001b[0mquick_sort\u001b[0m\u001b[0;34m(\u001b[0m\u001b[0mlst\u001b[0m\u001b[0;34m)\u001b[0m\u001b[0;34m:\u001b[0m\u001b[0;34m\u001b[0m\u001b[0;34m\u001b[0m\u001b[0m\n\u001b[0;32m---> 31\u001b[0;31m     \u001b[0mquick_sort_helper\u001b[0m\u001b[0;34m(\u001b[0m\u001b[0mlst\u001b[0m\u001b[0;34m,\u001b[0m\u001b[0;36m0\u001b[0m\u001b[0;34m,\u001b[0m\u001b[0mlen\u001b[0m\u001b[0;34m(\u001b[0m\u001b[0mlst\u001b[0m\u001b[0;34m)\u001b[0m\u001b[0;34m-\u001b[0m\u001b[0;36m1\u001b[0m\u001b[0;34m)\u001b[0m\u001b[0;34m\u001b[0m\u001b[0;34m\u001b[0m\u001b[0m\n\u001b[0m\u001b[1;32m     32\u001b[0m     \u001b[0;32mreturn\u001b[0m \u001b[0mlst\u001b[0m\u001b[0;34m\u001b[0m\u001b[0;34m\u001b[0m\u001b[0m\n\u001b[1;32m     33\u001b[0m \u001b[0;34m\u001b[0m\u001b[0m\n",
      "\u001b[0;32m<ipython-input-5-c2ab32f25c99>\u001b[0m in \u001b[0;36mquick_sort_helper\u001b[0;34m(lst, left, right)\u001b[0m\n\u001b[1;32m     25\u001b[0m     \u001b[0mnew_pivot_index\u001b[0m \u001b[0;34m=\u001b[0m \u001b[0mpartition\u001b[0m\u001b[0;34m(\u001b[0m\u001b[0mlst\u001b[0m\u001b[0;34m,\u001b[0m\u001b[0mleft\u001b[0m\u001b[0;34m,\u001b[0m\u001b[0mright\u001b[0m\u001b[0;34m,\u001b[0m\u001b[0mpivot_index\u001b[0m\u001b[0;34m)\u001b[0m \u001b[0;31m# 获得新的pivot 并且小雨的在左，大于的在右\u001b[0m\u001b[0;34m\u001b[0m\u001b[0;34m\u001b[0m\u001b[0m\n\u001b[1;32m     26\u001b[0m \u001b[0;34m\u001b[0m\u001b[0m\n\u001b[0;32m---> 27\u001b[0;31m     \u001b[0mself\u001b[0m\u001b[0;34m.\u001b[0m\u001b[0mquick_sort_helper\u001b[0m\u001b[0;34m(\u001b[0m\u001b[0mlst\u001b[0m\u001b[0;34m,\u001b[0m\u001b[0mleft\u001b[0m\u001b[0;34m,\u001b[0m\u001b[0mnew_pivot_index\u001b[0m\u001b[0;34m-\u001b[0m\u001b[0;36m1\u001b[0m\u001b[0;34m)\u001b[0m\u001b[0;34m\u001b[0m\u001b[0;34m\u001b[0m\u001b[0m\n\u001b[0m\u001b[1;32m     28\u001b[0m     \u001b[0mself\u001b[0m\u001b[0;34m.\u001b[0m\u001b[0mquick_sort_helper\u001b[0m\u001b[0;34m(\u001b[0m\u001b[0mlst\u001b[0m\u001b[0;34m,\u001b[0m\u001b[0mnew_pivot_index\u001b[0m\u001b[0;34m+\u001b[0m\u001b[0;36m1\u001b[0m\u001b[0;34m,\u001b[0m\u001b[0mright\u001b[0m\u001b[0;34m)\u001b[0m\u001b[0;34m\u001b[0m\u001b[0;34m\u001b[0m\u001b[0m\n\u001b[1;32m     29\u001b[0m \u001b[0;34m\u001b[0m\u001b[0m\n",
      "\u001b[0;31mNameError\u001b[0m: name 'self' is not defined"
     ]
    }
   ],
   "source": [
    "from random import randrange\n",
    "\n",
    "def partition(lst,left,right,pivot_index):\n",
    "    lst[pivot_index],lst[right] = lst[right],lst[pivot_index]\n",
    "\n",
    "    pivot = lst[right]\n",
    "    store_index = 0\n",
    "\n",
    "    for i in range(left,right):\n",
    "        if lst[store_index] < pivot:\n",
    "            lst[i],lst[store_index]=lst[store_index],lst[i]\n",
    "            store_index+=1\n",
    "    \n",
    "    lst[pivot_index],lst[store_index] = lst[store_index],lst[pivot_index]\n",
    "    \n",
    "    return store_index\n",
    "\n",
    "def quick_sort_helper(lst,left,right):\n",
    "\n",
    "    if len(lst)<=1:\n",
    "        return lst\n",
    "\n",
    "    pivot_index = randrange(left,right-1)\n",
    "\n",
    "    new_pivot_index = partition(lst,left,right,pivot_index) # 获得新的pivot 并且小雨的在左，大于的在右\n",
    "    \n",
    "    self.quick_sort_helper(lst,left,new_pivot_index-1)\n",
    "    self.quick_sort_helper(lst,new_pivot_index+1,right)\n",
    "\n",
    "def quick_sort(lst):\n",
    "    quick_sort_helper(lst,0,len(lst)-1)\n",
    "    return lst\n",
    "\n",
    "print(quick_sort([5,4,3,6,7,2,7,1,9,8,0]))"
   ]
  },
  {
   "cell_type": "code",
   "execution_count": null,
   "metadata": {},
   "outputs": [],
   "source": []
  }
 ]
}