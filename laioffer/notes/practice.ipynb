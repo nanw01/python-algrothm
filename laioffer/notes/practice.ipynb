{
 "metadata": {
  "language_info": {
   "codemirror_mode": {
    "name": "ipython",
    "version": 3
   },
   "file_extension": ".py",
   "mimetype": "text/x-python",
   "name": "python",
   "nbconvert_exporter": "python",
   "pygments_lexer": "ipython3",
   "version": "3.8.3-final"
  },
  "orig_nbformat": 2,
  "kernelspec": {
   "name": "python3",
   "display_name": "Python 3",
   "language": "python"
  }
 },
 "nbformat": 4,
 "nbformat_minor": 2,
 "cells": [
  {
   "cell_type": "code",
   "execution_count": 2,
   "metadata": {},
   "outputs": [
    {
     "output_type": "stream",
     "name": "stdout",
     "text": [
      "[0, 1, 2, 3, 4, 5, 6, 7, 7, 8, 9]\n"
     ]
    }
   ],
   "source": [
    "def partition(lst,start,end,pivot_index):\n",
    "    lst[pivot_index],lst[end]=lst[end],lst[pivot_index]\n",
    "\n",
    "    store_index = start   \n",
    "    \n",
    "    pivot = lst[end]\n",
    "\n",
    "    for i in range(start,end):\n",
    "        if lst[i] < pivot:\n",
    "            lst[i],lst[store_index] = lst[store_index],lst[i]\n",
    "            store_index+=1\n",
    "\n",
    "    lst[store_index],lst[end] = lst[end],lst[store_index]\n",
    "    \n",
    "    return store_index\n",
    "\n",
    "from random import randrange\n",
    "\n",
    "def quick_sort_helper(lst,start,end):\n",
    "    if start>=end:\n",
    "        return\n",
    "    pivot_index = randrange(start,end+1)\n",
    "    new_pivot_index = partition(lst,start,end,pivot_index)\n",
    "    quick_sort_helper(lst,start,new_pivot_index-1)\n",
    "    quick_sort_helper(lst,new_pivot_index+1,end)\n",
    "    return lst\n",
    "\n",
    "def quick_sort(lst):\n",
    "    quick_sort_helper(lst,0,len(lst)-1)\n",
    "    return lst\n",
    "\n",
    "print(quick_sort([5,4,3,6,7,2,7,1,9,8,0]))\n"
   ]
  },
  {
   "cell_type": "code",
   "execution_count": 6,
   "metadata": {},
   "outputs": [
    {
     "output_type": "stream",
     "name": "stdout",
     "text": [
      "[0, 1, 2, 3, 4, 5, 6, 7, 8, 9]\n"
     ]
    }
   ],
   "source": [
    "class Solution:\n",
    "    from random import randrange\n",
    "\n",
    "    def partition(self, lst, start, end, pivot_index):\n",
    "        lst[pivot_index], lst[end] = lst[end], lst[pivot_index]\n",
    "\n",
    "        store_index = start\n",
    "        pivot = lst[end]\n",
    "\n",
    "        for i in range(start, end):\n",
    "            if lst[i] < pivot:\n",
    "                lst[i], lst[store_index] = lst[store_index], lst[i]\n",
    "                store_index += 1\n",
    "\n",
    "        lst[store_index], lst[end] = lst[end], lst[store_index]\n",
    "\n",
    "        return store_index\n",
    "\n",
    "    def quick_sort_helper(self, lst, start, end):\n",
    "        if start >= end:\n",
    "            return\n",
    "        pivot_index = self.randrange(start, end+1)\n",
    "        new_pivot_index = self.partition(lst, start, end, pivot_index)\n",
    "        self.quick_sort_helper(lst, start, new_pivot_index-1)\n",
    "        self.quick_sort_helper(lst, new_pivot_index+1, end)\\\n",
    "\n",
    "\n",
    "    def quickSort(self, lst):\n",
    "        self.quick_sort_helper(lst, 0, len(lst)-1)\n",
    "        return lst\n",
    "\n",
    "\n",
    "print(Solution().quickSort([2, 1, 3, 6, 4, 5, 9, 7, 8, 0]))\n"
   ]
  },
  {
   "cell_type": "code",
   "execution_count": null,
   "metadata": {},
   "outputs": [],
   "source": [
    "\n",
    "def search_first(alist):\n",
    "    left, right = 0,1\n",
    "    \n",
    "    while alist[right] == 0:\n",
    "        left = right\n",
    "        right *= 2\n",
    "\n",
    "        if right > len(alist):\n",
    "            right = len(alist)-1\n",
    "            break\n",
    "    \n",
    "    return left+search_first(alist[left:right+1],1)[0]"
   ]
  },
  {
   "cell_type": "code",
   "execution_count": 1,
   "metadata": {},
   "outputs": [],
   "source": [
    "from BinarySearchTree import Node\n",
    "from BinarySearchTree import BinarySearchTree"
   ]
  },
  {
   "cell_type": "code",
   "execution_count": 2,
   "metadata": {},
   "outputs": [
    {
     "output_type": "stream",
     "name": "stdout",
     "text": [
      "[ 1 ] [ 2 ] [ 3 ] [ 4 ] [ 5 ] [ 6 ] [ 7 ] [ 8 ] [ 9 ] [ 10 ] [ 11 ] [ 12 ] [ 13 ] \n"
     ]
    }
   ],
   "source": [
    "bst = BinarySearchTree()\n",
    "nums = [6, 4, 8, 7, 9, 2, 1, 3, 5, 13, 11, 10, 12]\n",
    "for i in nums:\n",
    "    bst.add(i)\n",
    "\n",
    "bst.print_inorder()"
   ]
  },
  {
   "cell_type": "code",
   "execution_count": 3,
   "metadata": {},
   "outputs": [
    {
     "output_type": "stream",
     "name": "stdout",
     "text": [
      "[ 1 ] [ 3 ] [ 2 ] [ 5 ] [ 4 ] [ 7 ] [ 10 ] [ 12 ] [ 11 ] [ 13 ] [ 9 ] [ 8 ] [ 6 ] \n"
     ]
    }
   ],
   "source": [
    "bst.print_postorder()"
   ]
  },
  {
   "cell_type": "code",
   "execution_count": 5,
   "metadata": {},
   "outputs": [
    {
     "output_type": "stream",
     "name": "stdout",
     "text": [
      "[ 6 ] [ 4 ] [ 2 ] [ 1 ] [ 3 ] [ 5 ] [ 8 ] [ 7 ] [ 9 ] [ 13 ] [ 11 ] [ 10 ] [ 12 ] \n"
     ]
    }
   ],
   "source": [
    "bst.print_preorder()"
   ]
  },
  {
   "cell_type": "code",
   "execution_count": 6,
   "metadata": {},
   "outputs": [],
   "source": [
    "class AdvBST1(BinarySearchTree):\n",
    "\n",
    "    def tree_size(self):\n",
    "        return self.__tree_size(self._root)\n",
    "\n",
    "    def __tree_size(self,node):\n",
    "        if node is None:\n",
    "            return 0\n",
    "        return self.__tree_size(node._left) +self.__tree_size(node._right)+1\n",
    "        "
   ]
  },
  {
   "cell_type": "code",
   "execution_count": 9,
   "metadata": {},
   "outputs": [
    {
     "output_type": "stream",
     "name": "stdout",
     "text": [
      "[ 1 ] [ 2 ] [ 3 ] [ 4 ] [ 5 ] [ 6 ] [ 7 ] [ 8 ] [ 9 ] [ 10 ] [ 11 ] [ 12 ] [ 13 ] \n"
     ]
    }
   ],
   "source": [
    "bst = AdvBST1()\n",
    "nums = [6, 4, 8, 7, 9, 2, 1, 3, 5, 13, 11, 10, 12]\n",
    "for i in nums:\n",
    "    bst.add(i)\n",
    "\n",
    "bst.print_inorder()"
   ]
  },
  {
   "cell_type": "code",
   "execution_count": 10,
   "metadata": {},
   "outputs": [
    {
     "output_type": "execute_result",
     "data": {
      "text/plain": [
       "13"
      ]
     },
     "metadata": {},
     "execution_count": 10
    }
   ],
   "source": [
    "bst.tree_size()"
   ]
  },
  {
   "cell_type": "code",
   "execution_count": 12,
   "metadata": {},
   "outputs": [],
   "source": [
    "# max_depth\n",
    "\n",
    "class AdvBST2(AdvBST1):\n",
    "\n",
    "    def max_depth(self):\n",
    "        return self.__max_depth(self._root)\n",
    "\n",
    "    def __max_depth(self,node):\n",
    "        if node is None:\n",
    "            return 0\n",
    "        left_depth =self.__max_depth(node._left)\n",
    "        right_depth = self.__max_depth(node._right)\n",
    "\n",
    "        return max(left_depth,right_depth)+1"
   ]
  },
  {
   "cell_type": "code",
   "execution_count": 15,
   "metadata": {},
   "outputs": [
    {
     "output_type": "stream",
     "name": "stdout",
     "text": [
      "[ 1 ] [ 2 ] [ 3 ] [ 4 ] [ 5 ] [ 6 ] [ 7 ] [ 8 ] [ 9 ] [ 10 ] [ 11 ] [ 12 ] [ 13 ] \n"
     ]
    },
    {
     "output_type": "execute_result",
     "data": {
      "text/plain": [
       "6"
      ]
     },
     "metadata": {},
     "execution_count": 15
    }
   ],
   "source": [
    "bst = AdvBST2()\n",
    "nums = [6, 4, 8, 7, 9, 2, 1, 3, 5, 13, 11, 10, 12]\n",
    "for i in nums:\n",
    "    bst.add(i)\n",
    "\n",
    "bst.print_inorder()\n",
    "bst.max_depth()"
   ]
  },
  {
   "cell_type": "code",
   "execution_count": 21,
   "metadata": {},
   "outputs": [],
   "source": [
    "class AdvBST3(AdvBST2):\n",
    "\n",
    "    def min_depth(self):\n",
    "        return self.__min_depth(self._root)\n",
    "\n",
    "    def __min_depth(self,node):\n",
    "        if node is None:\n",
    "            return 0\n",
    "        \n",
    "        left_depth =  self.__min_depth(node._left)\n",
    "        right_depth = self.__min_depth(node._right)\n",
    "\n",
    "        return min(left_depth,right_depth) + 1\n",
    "    \n",
    "    def isBalanced(self):\n",
    "        return (self.max_depth() - self.min_depth()) <= 1"
   ]
  },
  {
   "cell_type": "code",
   "execution_count": 22,
   "metadata": {},
   "outputs": [
    {
     "output_type": "execute_result",
     "data": {
      "text/plain": [
       "False"
      ]
     },
     "metadata": {},
     "execution_count": 22
    }
   ],
   "source": [
    "bst = AdvBST3()\n",
    "numbers = [1,2,3,4,5,6,7,8]\n",
    "for i in nums:\n",
    "    bst.add(i)\n",
    "bst.isBalanced()"
   ]
  },
  {
   "cell_type": "code",
   "execution_count": 23,
   "metadata": {},
   "outputs": [
    {
     "output_type": "stream",
     "name": "stdout",
     "text": [
      "[ 1 ] [ 3 ] [ 5 ] \n"
     ]
    },
    {
     "output_type": "execute_result",
     "data": {
      "text/plain": [
       "True"
      ]
     },
     "metadata": {},
     "execution_count": 23
    }
   ],
   "source": [
    "bst = AdvBST3()\n",
    "numbers = [3,1,5]\n",
    "for i in numbers:\n",
    "    bst.add(i)\n",
    "bst.print_inorder()\n",
    "bst.isBalanced()"
   ]
  },
  {
   "cell_type": "code",
   "execution_count": 26,
   "metadata": {},
   "outputs": [],
   "source": [
    "class AdvBST4(AdvBST3):\n",
    "\n",
    "    def floor(self,key):\n",
    "        return self.__floor(self._root,key)\n",
    "\n",
    "    def __floor(self,node,key):\n",
    "        if not node:\n",
    "            return None\n",
    "        if key == node._item:\n",
    "            return node\n",
    "        if key<node._item:\n",
    "            return self.__floor(node._left,key)\n",
    "        t = self.__floor(node._right,key)\n",
    "        if t:\n",
    "            return t\n",
    "        return node"
   ]
  },
  {
   "cell_type": "code",
   "execution_count": 27,
   "metadata": {},
   "outputs": [
    {
     "output_type": "stream",
     "name": "stdout",
     "text": [
      "40\n70\n10\nNone\n80\n"
     ]
    }
   ],
   "source": [
    "bst = AdvBST4()\n",
    "numbers = [40,20,70,50,10,60,30,80]\n",
    "for i in numbers:\n",
    "    bst.add(i)\n",
    "print(bst.floor(40)._item)\n",
    "print(bst.floor(70)._item)\n",
    "print(bst.floor(10)._item)\n",
    "print(bst.floor(5))\n",
    "print(bst.floor(100)._item)\n"
   ]
  },
  {
   "cell_type": "code",
   "execution_count": 32,
   "metadata": {},
   "outputs": [],
   "source": [
    "class AdvBST5(AdvBST4):\n",
    "\n",
    "    def isBST(self):\n",
    "        return self._isBst(self._root,float('-inf'),float('inf'))\n",
    "\n",
    "    def _isBst(self,node,minval,maxval):\n",
    "        if not node:\n",
    "            return True\n",
    "        if node._item < minval or node._item > maxval:\n",
    "            return False\n",
    "        return self._isBst(node._left,minval,node._item) and self._isBst(node._right,node._item,maxval)\n",
    "\n"
   ]
  },
  {
   "cell_type": "code",
   "execution_count": 33,
   "metadata": {},
   "outputs": [
    {
     "output_type": "execute_result",
     "data": {
      "text/plain": [
       "True"
      ]
     },
     "metadata": {},
     "execution_count": 33
    }
   ],
   "source": [
    "bst = AdvBST5()\n",
    "numbers = [1,2,3,4,5,6,7,8]\n",
    "for i in numbers:\n",
    "    bst.add(i)\n",
    "bst.isBST()"
   ]
  },
  {
   "cell_type": "code",
   "execution_count": 34,
   "metadata": {},
   "outputs": [],
   "source": [
    "class AdvBST6(AdvBST5):    \n",
    "    def mirror(self):\n",
    "        self._mirror(self._root)\n",
    "    \n",
    "    def _mirror(self, node):\n",
    "        if (node is not None):\n",
    "            self._mirror(node._left)\n",
    "            self._mirror(node._right)\n",
    "            \n",
    "            temp = node._left\n",
    "            node._left = node._right\n",
    "            node._right = temp\n",
    "            "
   ]
  },
  {
   "cell_type": "code",
   "execution_count": 35,
   "metadata": {},
   "outputs": [
    {
     "output_type": "stream",
     "name": "stdout",
     "text": [
      "[ 1 ] [ 2 ] [ 3 ] [ 4 ] [ 5 ] [ 6 ] [ 7 ] [ 8 ] [ 9 ] \n"
     ]
    }
   ],
   "source": [
    "bst = AdvBST6()\n",
    "numbers = [6, 4, 8, 7, 9, 5, 1, 3, 2]\n",
    "for i in numbers:\n",
    "    bst.add(i)\n",
    "bst.print_inorder()"
   ]
  },
  {
   "cell_type": "code",
   "execution_count": 36,
   "metadata": {},
   "outputs": [
    {
     "output_type": "stream",
     "name": "stdout",
     "text": [
      "[ 9 ] [ 8 ] [ 7 ] [ 6 ] [ 5 ] [ 4 ] [ 3 ] [ 2 ] [ 1 ] \n"
     ]
    }
   ],
   "source": [
    "bst.mirror()\n",
    "bst.print_inorder()"
   ]
  },
  {
   "cell_type": "code",
   "execution_count": 37,
   "metadata": {},
   "outputs": [],
   "source": [
    "class AdvBST7(AdvBST6):\n",
    "\n",
    "    def sameTree(self, another):\n",
    "        return self._sameTree(self._root, another._root)\n",
    "\n",
    "    def _sameTree(self, nodeA, nodeB):\n",
    "        if nodeA is None and nodeB is None:\n",
    "            return True\n",
    "        if nodeA is not None and nodeB is not None:\n",
    "            return nodeA._item == nodeB._item and self._sameTree(nodeA._left,nodeB._left) and self._sameTree(nodeA._right, nodeB._right)\n",
    "        return False\n",
    "\n"
   ]
  },
  {
   "cell_type": "code",
   "execution_count": 38,
   "metadata": {},
   "outputs": [
    {
     "output_type": "execute_result",
     "data": {
      "text/plain": [
       "True"
      ]
     },
     "metadata": {},
     "execution_count": 38
    }
   ],
   "source": [
    "bst = AdvBST7()\n",
    "numbers = [6, 4, 8, 7, 9, 5, 1, 3, 2]\n",
    "for i in numbers:\n",
    "    bst.add(i)\n",
    "another = AdvBST7()\n",
    "numbers = [6, 4, 8, 7, 9, 5, 1, 3, 2]\n",
    "for i in numbers:\n",
    "    another.add(i)\n",
    "bst.sameTree(another)\n"
   ]
  },
  {
   "cell_type": "code",
   "execution_count": 39,
   "metadata": {},
   "outputs": [
    {
     "output_type": "execute_result",
     "data": {
      "text/plain": [
       "False"
      ]
     },
     "metadata": {},
     "execution_count": 39
    }
   ],
   "source": [
    "another.add(100)\n",
    "bst.sameTree(another)"
   ]
  },
  {
   "cell_type": "code",
   "execution_count": 40,
   "metadata": {},
   "outputs": [],
   "source": [
    "# Is Tree Foldable\n",
    "\n",
    "class AdvBST8(AdvBST7):\n",
    "\n",
    "    def isFoldable(self):\n",
    "        if self._root is None:\n",
    "            return True\n",
    "        return self._isFoldable(self._root._left,self._root._right)\n",
    "\n",
    "    def _isFoldable(self,nodeA, nodeB):\n",
    "\n",
    "        if nodeA is None and nodeB is None:\n",
    "            return True\n",
    "        if nodeA is None or nodeB is None:\n",
    "            return False\n",
    "        return self._isFoldable(nodeA._left,nodeB._right) and self._isFoldable(nodeA._right,nodeB._left)\n",
    "        \n",
    "        "
   ]
  },
  {
   "cell_type": "code",
   "execution_count": 41,
   "metadata": {},
   "outputs": [
    {
     "output_type": "execute_result",
     "data": {
      "text/plain": [
       "False"
      ]
     },
     "metadata": {},
     "execution_count": 41
    }
   ],
   "source": [
    "bst = AdvBST8()\n",
    "numbers = [6, 4, 8, 7, 9, 5, 1, 3, 2]\n",
    "for i in numbers:\n",
    "    bst.add(i)\n",
    "bst.isFoldable()"
   ]
  },
  {
   "cell_type": "code",
   "execution_count": 42,
   "metadata": {},
   "outputs": [
    {
     "output_type": "execute_result",
     "data": {
      "text/plain": [
       "True"
      ]
     },
     "metadata": {},
     "execution_count": 42
    }
   ],
   "source": [
    "bst = AdvBST8()\n",
    "numbers = [3,2,5,1,8]\n",
    "for i in numbers:\n",
    "    bst.add(i)\n",
    "bst.isFoldable()"
   ]
  },
  {
   "cell_type": "code",
   "execution_count": 5,
   "metadata": {},
   "outputs": [],
   "source": [
    "from BinarySearchTree import Node\n",
    "from BinarySearchTree import BinarySearchTree"
   ]
  },
  {
   "cell_type": "code",
   "execution_count": 16,
   "metadata": {},
   "outputs": [],
   "source": [
    "class AdvBST1(BinarySearchTree):\n",
    "    \n",
    "    def levelOrder(self):\n",
    "        if not self._root:\n",
    "            return []\n",
    "        \n",
    "        ret = []\n",
    "        level =[self._root]\n",
    "\n",
    "        while level:\n",
    "\n",
    "            currentNodes=[]\n",
    "            nextlevel = []\n",
    "\n",
    "            for node in level:\n",
    "                currentNodes.append(node._item)\n",
    "\n",
    "                if node._left:\n",
    "                    nextlevel.append(node._left)\n",
    "                if node._right:\n",
    "                    nextlevel.append(node._right)\n",
    "            ret.append(currentNodes)\n",
    "            level = nextlevel\n",
    "        \n",
    "        return ret\n"
   ]
  },
  {
   "cell_type": "code",
   "execution_count": 17,
   "metadata": {},
   "outputs": [
    {
     "output_type": "execute_result",
     "data": {
      "text/plain": [
       "[[6], [4, 8], [2, 5, 7, 9], [1, 3, 13], [11], [10, 12]]"
      ]
     },
     "metadata": {},
     "execution_count": 17
    }
   ],
   "source": [
    "bst = AdvBST1()\n",
    "numbers = [6, 4, 8, 7, 9, 2, 1, 3, 5, 13, 11, 10, 12]\n",
    "for i in numbers:\n",
    "    bst.add(i)\n",
    "bst.levelOrder()\n",
    "\n"
   ]
  },
  {
   "cell_type": "code",
   "execution_count": 44,
   "metadata": {},
   "outputs": [],
   "source": [
    "class AdvBST2(BinarySearchTree):\n",
    "\n",
    "    def levelOrder(self):\n",
    "\n",
    "        if not self._root:\n",
    "            return []\n",
    "\n",
    "        ret,level = [],[self._root]\n",
    "        while level:\n",
    "            currentNode = []\n",
    "            nextlevel = []\n",
    "\n",
    "            for node in level:\n",
    "                currentNode.append(node._item)\n",
    "\n",
    "                if node._left:\n",
    "                    nextlevel.append(node._left)\n",
    "                if node._right:\n",
    "                    nextlevel.append(node._right)\n",
    "            ret.append(currentNode)\n",
    "            level = nextlevel\n",
    "        return ret\n",
    "\n",
    "    def levelOrder2(self):\n",
    "        \n",
    "        if not self._root:\n",
    "            return []\n",
    "        \n",
    "        ans,level = [],[self._root]\n",
    "        while level:\n",
    "            ans.append([node._item for node in level])\n",
    "            temp = []\n",
    "            for node in level:\n",
    "                temp.extend([node._left,node._right])\n",
    "            level = [leaf for leaf in temp if leaf]\n",
    "        ans.reverse()\n",
    "        \n",
    "        return ans"
   ]
  },
  {
   "cell_type": "code",
   "execution_count": 45,
   "metadata": {},
   "outputs": [
    {
     "output_type": "execute_result",
     "data": {
      "text/plain": [
       "[[6], [4, 8], [2, 5, 7, 9], [1, 3, 13], [11], [10, 12]]"
      ]
     },
     "metadata": {},
     "execution_count": 45
    }
   ],
   "source": [
    "bst = AdvBST2()\n",
    "numbers = [6, 4, 8, 7, 9, 2, 1, 3, 5, 13, 11, 10, 12]\n",
    "for i in numbers:\n",
    "    bst.add(i)\n",
    "bst.levelOrder()\n"
   ]
  },
  {
   "cell_type": "code",
   "execution_count": 46,
   "metadata": {},
   "outputs": [
    {
     "output_type": "execute_result",
     "data": {
      "text/plain": [
       "[[10, 12], [11], [1, 3, 13], [2, 5, 7, 9], [4, 8], [6]]"
      ]
     },
     "metadata": {},
     "execution_count": 46
    }
   ],
   "source": [
    "\n",
    "bst.levelOrder2()"
   ]
  }
 ]
}