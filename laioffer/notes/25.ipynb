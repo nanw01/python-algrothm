{
 "metadata": {
  "language_info": {
   "codemirror_mode": {
    "name": "ipython",
    "version": 3
   },
   "file_extension": ".py",
   "mimetype": "text/x-python",
   "name": "python",
   "nbconvert_exporter": "python",
   "pygments_lexer": "ipython3",
   "version": "3.8.5-final"
  },
  "orig_nbformat": 2,
  "kernelspec": {
   "name": "python3",
   "display_name": "Python 3",
   "language": "python"
  }
 },
 "nbformat": 4,
 "nbformat_minor": 2,
 "cells": [
  {
   "cell_type": "code",
   "execution_count": 1,
   "metadata": {},
   "outputs": [
    {
     "output_type": "stream",
     "name": "stderr",
     "text": [
      "[nltk_data] Downloading package punkt to /home/nanwang/nltk_data...\n[nltk_data]   Package punkt is already up-to-date!\n[nltk_data] Downloading package stopwords to\n[nltk_data]     /home/nanwang/nltk_data...\n[nltk_data]   Package stopwords is already up-to-date!\n"
     ]
    },
    {
     "output_type": "execute_result",
     "data": {
      "text/plain": [
       "True"
      ]
     },
     "metadata": {},
     "execution_count": 1
    }
   ],
   "source": [
    "import numpy as np\n",
    "import pandas as pd\n",
    "import nltk\n",
    "\n",
    "from sklearn.feature_extraction.text import TfidfVectorizer\n",
    "import matplotlib.pyplot as plt\n",
    "\n",
    "nltk.download('punkt')\n",
    "nltk.download('stopwords')\n"
   ]
  },
  {
   "cell_type": "code",
   "execution_count": 2,
   "metadata": {},
   "outputs": [
    {
     "output_type": "stream",
     "name": "stderr",
     "text": [
      "b'Skipping line 8704: expected 15 fields, saw 22\\nSkipping line 16933: expected 15 fields, saw 22\\nSkipping line 23726: expected 15 fields, saw 22\\n'\n",
      "b'Skipping line 85637: expected 15 fields, saw 22\\n'\n",
      "b'Skipping line 132136: expected 15 fields, saw 22\\nSkipping line 158070: expected 15 fields, saw 22\\nSkipping line 166007: expected 15 fields, saw 22\\nSkipping line 171877: expected 15 fields, saw 22\\nSkipping line 177756: expected 15 fields, saw 22\\nSkipping line 181773: expected 15 fields, saw 22\\nSkipping line 191085: expected 15 fields, saw 22\\nSkipping line 196273: expected 15 fields, saw 22\\nSkipping line 196331: expected 15 fields, saw 22\\n'\n",
      "b'Skipping line 197000: expected 15 fields, saw 22\\nSkipping line 197011: expected 15 fields, saw 22\\nSkipping line 197432: expected 15 fields, saw 22\\nSkipping line 208016: expected 15 fields, saw 22\\nSkipping line 214110: expected 15 fields, saw 22\\nSkipping line 244328: expected 15 fields, saw 22\\nSkipping line 248519: expected 15 fields, saw 22\\nSkipping line 254936: expected 15 fields, saw 22\\n'\n",
      "b'Skipping line 272057: expected 15 fields, saw 22\\nSkipping line 293214: expected 15 fields, saw 22\\nSkipping line 310507: expected 15 fields, saw 22\\nSkipping line 312306: expected 15 fields, saw 22\\nSkipping line 316296: expected 15 fields, saw 22\\n'\n",
      "b'Skipping line 336028: expected 15 fields, saw 22\\nSkipping line 344885: expected 15 fields, saw 22\\nSkipping line 352551: expected 15 fields, saw 22\\n'\n",
      "b'Skipping line 408773: expected 15 fields, saw 22\\nSkipping line 434535: expected 15 fields, saw 22\\n'\n",
      "b'Skipping line 581593: expected 15 fields, saw 22\\n'\n",
      "b'Skipping line 652409: expected 15 fields, saw 22\\n'\n"
     ]
    }
   ],
   "source": [
    "df = pd.read_csv('/home/nanwang/github/python-algrothm/python-algrothm/laioffer/notes/watch_reviews.tsv',sep='\\t',error_bad_lines=False)"
   ]
  },
  {
   "cell_type": "code",
   "execution_count": 3,
   "metadata": {},
   "outputs": [
    {
     "output_type": "execute_result",
     "data": {
      "text/plain": [
       "  marketplace  customer_id       review_id  product_id  product_parent  \\\n",
       "0          US      3653882  R3O9SGZBVQBV76  B00FALQ1ZC       937001370   \n",
       "1          US     14661224   RKH8BNC3L5DLF  B00D3RGO20       484010722   \n",
       "2          US     27324930  R2HLE8WKZSU3NL  B00DKYC7TK       361166390   \n",
       "3          US      7211452  R31U3UH5AZ42LL  B000EQS1JW       958035625   \n",
       "4          US     12733322  R2SV659OUJ945Y  B00A6GFD7S       765328221   \n",
       "\n",
       "                                       product_title product_category  \\\n",
       "0  Invicta Women's 15150 \"Angel\" 18k Yellow Gold ...          Watches   \n",
       "1  Kenneth Cole New York Women's KC4944 Automatic...          Watches   \n",
       "2  Ritche 22mm Black Stainless Steel Bracelet Wat...          Watches   \n",
       "3  Citizen Men's BM8180-03E Eco-Drive Stainless S...          Watches   \n",
       "4  Orient ER27009B Men's Symphony Automatic Stain...          Watches   \n",
       "\n",
       "   star_rating  helpful_votes  total_votes vine verified_purchase  \\\n",
       "0            5              0            0    N                 Y   \n",
       "1            5              0            0    N                 Y   \n",
       "2            2              1            1    N                 Y   \n",
       "3            5              0            0    N                 Y   \n",
       "4            4              0            0    N                 Y   \n",
       "\n",
       "                              review_headline  \\\n",
       "0                                  Five Stars   \n",
       "1  I love thiswatch it keeps time wonderfully   \n",
       "2                                   Two Stars   \n",
       "3                                  Five Stars   \n",
       "4    Beautiful face, but cheap sounding links   \n",
       "\n",
       "                                         review_body review_date  \n",
       "0  Absolutely love this watch! Get compliments al...  2015-08-31  \n",
       "1       I love this watch it keeps time wonderfully.  2015-08-31  \n",
       "2                                          Scratches  2015-08-31  \n",
       "3  It works well on me. However, I found cheaper ...  2015-08-31  \n",
       "4  Beautiful watch face.  The band looks nice all...  2015-08-31  "
      ],
      "text/html": "<div>\n<style scoped>\n    .dataframe tbody tr th:only-of-type {\n        vertical-align: middle;\n    }\n\n    .dataframe tbody tr th {\n        vertical-align: top;\n    }\n\n    .dataframe thead th {\n        text-align: right;\n    }\n</style>\n<table border=\"1\" class=\"dataframe\">\n  <thead>\n    <tr style=\"text-align: right;\">\n      <th></th>\n      <th>marketplace</th>\n      <th>customer_id</th>\n      <th>review_id</th>\n      <th>product_id</th>\n      <th>product_parent</th>\n      <th>product_title</th>\n      <th>product_category</th>\n      <th>star_rating</th>\n      <th>helpful_votes</th>\n      <th>total_votes</th>\n      <th>vine</th>\n      <th>verified_purchase</th>\n      <th>review_headline</th>\n      <th>review_body</th>\n      <th>review_date</th>\n    </tr>\n  </thead>\n  <tbody>\n    <tr>\n      <th>0</th>\n      <td>US</td>\n      <td>3653882</td>\n      <td>R3O9SGZBVQBV76</td>\n      <td>B00FALQ1ZC</td>\n      <td>937001370</td>\n      <td>Invicta Women's 15150 \"Angel\" 18k Yellow Gold ...</td>\n      <td>Watches</td>\n      <td>5</td>\n      <td>0</td>\n      <td>0</td>\n      <td>N</td>\n      <td>Y</td>\n      <td>Five Stars</td>\n      <td>Absolutely love this watch! Get compliments al...</td>\n      <td>2015-08-31</td>\n    </tr>\n    <tr>\n      <th>1</th>\n      <td>US</td>\n      <td>14661224</td>\n      <td>RKH8BNC3L5DLF</td>\n      <td>B00D3RGO20</td>\n      <td>484010722</td>\n      <td>Kenneth Cole New York Women's KC4944 Automatic...</td>\n      <td>Watches</td>\n      <td>5</td>\n      <td>0</td>\n      <td>0</td>\n      <td>N</td>\n      <td>Y</td>\n      <td>I love thiswatch it keeps time wonderfully</td>\n      <td>I love this watch it keeps time wonderfully.</td>\n      <td>2015-08-31</td>\n    </tr>\n    <tr>\n      <th>2</th>\n      <td>US</td>\n      <td>27324930</td>\n      <td>R2HLE8WKZSU3NL</td>\n      <td>B00DKYC7TK</td>\n      <td>361166390</td>\n      <td>Ritche 22mm Black Stainless Steel Bracelet Wat...</td>\n      <td>Watches</td>\n      <td>2</td>\n      <td>1</td>\n      <td>1</td>\n      <td>N</td>\n      <td>Y</td>\n      <td>Two Stars</td>\n      <td>Scratches</td>\n      <td>2015-08-31</td>\n    </tr>\n    <tr>\n      <th>3</th>\n      <td>US</td>\n      <td>7211452</td>\n      <td>R31U3UH5AZ42LL</td>\n      <td>B000EQS1JW</td>\n      <td>958035625</td>\n      <td>Citizen Men's BM8180-03E Eco-Drive Stainless S...</td>\n      <td>Watches</td>\n      <td>5</td>\n      <td>0</td>\n      <td>0</td>\n      <td>N</td>\n      <td>Y</td>\n      <td>Five Stars</td>\n      <td>It works well on me. However, I found cheaper ...</td>\n      <td>2015-08-31</td>\n    </tr>\n    <tr>\n      <th>4</th>\n      <td>US</td>\n      <td>12733322</td>\n      <td>R2SV659OUJ945Y</td>\n      <td>B00A6GFD7S</td>\n      <td>765328221</td>\n      <td>Orient ER27009B Men's Symphony Automatic Stain...</td>\n      <td>Watches</td>\n      <td>4</td>\n      <td>0</td>\n      <td>0</td>\n      <td>N</td>\n      <td>Y</td>\n      <td>Beautiful face, but cheap sounding links</td>\n      <td>Beautiful watch face.  The band looks nice all...</td>\n      <td>2015-08-31</td>\n    </tr>\n  </tbody>\n</table>\n</div>"
     },
     "metadata": {},
     "execution_count": 3
    }
   ],
   "source": [
    "df.head()"
   ]
  },
  {
   "cell_type": "code",
   "execution_count": 4,
   "metadata": {},
   "outputs": [],
   "source": [
    "df.dropna(subset=['review_body'],inplace=True)"
   ]
  },
  {
   "cell_type": "code",
   "execution_count": 5,
   "metadata": {},
   "outputs": [],
   "source": [
    "df.reset_index(inplace=True, drop=True)"
   ]
  },
  {
   "cell_type": "code",
   "execution_count": 6,
   "metadata": {},
   "outputs": [
    {
     "output_type": "stream",
     "name": "stdout",
     "text": [
      "<class 'pandas.core.frame.DataFrame'>\nRangeIndex: 960056 entries, 0 to 960055\nData columns (total 15 columns):\n #   Column             Non-Null Count   Dtype \n---  ------             --------------   ----- \n 0   marketplace        960056 non-null  object\n 1   customer_id        960056 non-null  int64 \n 2   review_id          960056 non-null  object\n 3   product_id         960056 non-null  object\n 4   product_parent     960056 non-null  int64 \n 5   product_title      960054 non-null  object\n 6   product_category   960056 non-null  object\n 7   star_rating        960056 non-null  int64 \n 8   helpful_votes      960056 non-null  int64 \n 9   total_votes        960056 non-null  int64 \n 10  vine               960056 non-null  object\n 11  verified_purchase  960056 non-null  object\n 12  review_headline    960049 non-null  object\n 13  review_body        960056 non-null  object\n 14  review_date        960052 non-null  object\ndtypes: int64(5), object(10)\nmemory usage: 109.9+ MB\n"
     ]
    }
   ],
   "source": [
    "df.info()"
   ]
  },
  {
   "cell_type": "code",
   "execution_count": 7,
   "metadata": {},
   "outputs": [],
   "source": [
    "# use the first 1000 data as our training data\n",
    "data = df.loc[:999, 'review_body'].tolist()"
   ]
  },
  {
   "cell_type": "code",
   "execution_count": 8,
   "metadata": {},
   "outputs": [
    {
     "output_type": "execute_result",
     "data": {
      "text/plain": [
       "f it was going to work well.<br />I'm  saying this because it was  ridiculous low price for the look that this product can give. surprisingly enough this watch works fine. except for the 24 hr  and montly indicators. they are stationary.  i though the metal part wast going to rust and change color, so far it hasn't .<br />good product for that price.\",\n",
       " 'A little small',\n",
       " 'Nice',\n",
       " 'I love it.',\n",
       " 'excellent',\n",
       " 'Excellent watch and very fast delivery.  Very pleased',\n",
       " \"This is a very nice watch. I like to use it when I am working in the garden and in the kitchen. I don't have to worry about having to take it off for dirty work.\",\n",
       " \"This is my second G shock and it's really a cool one. It's a little more expensive than the main line of Gshocks but it more than makes up for it with its appearance. As others have said here, the colors are not pure orange and blue, but a tad washed out. The Japanese special edition has more vibrant color. I knew this before hand and chose this version as I think the colors stand out enough already to the point where you can't avoid seeing it and to go further would be a little obnoxious. It's big and colorful so it works well in places like dark bars, clubs, or anywhere else at night that isn't very dressy. The yellow roller on the side is a little overpowering on the watch but it adds a little childish character to the watch. It looks like something out of a cartoon or perhaps a nerf produce or a late 80s, early 90s watch. I will wear this over my Rolex when I'm out at night just because the colors can keep. Good buy and will easily last at least a decade like most Gshocks do.\",\n",
       " 'Really beautiful.......',\n",
       " \"I bought this watch May of 2013 to use before my deployment with the army to Afghanistan. This watch is still going strong. It also looks great; not too big like some other G- Shocks I've been, and it looks more subtle than the others, which I like. I don't like the other flashy looking ones.  My younger brother is in need of a watch for cross country and am buying this one once again. Great watch, I highly recommend it!\",\n",
       " 'These have worked nicely so far.',\n",
       " \"Took about a month to get here, but it's worth the wait. I've gotten a lot of compliments on it and it even glows in the dark :)\",\n",
       " 'Very disappointed with this watch, does not work.  I removed the pin and set the time and the hands never moved.',\n",
       " 'Excellent watch! Does all I need it to do. Use the stopwatch often. Also temperature function. All easy to access and fairly easy to operate. Complicated! Just what I wanted for years.',\n",
       " 'Bought this watch for my Fiance birthday and he loved it. The watch looks so much better in person. The leather band is very well made and thick. The watch itself is great.',\n",
       " \"beautiful appearance I bought for my wife's 25th anniversary and it is worth the money\",\n",
       " 'Really nice and sleek looking watch. The style and look is very unique and is very durable. This face of the watch looks very chic. Good value for the price. I have made this my every day watch, i wear it to work, a night on the town or a nice wedding it looks good in every situation. It is a very comfortable fit I would highly recommend this watch to anyone looking for a good quality watch. This is already my second tmbr watch purchase and these watches have not given me any issues. Pick one up, you wont regret it.',\n",
       " \"It's very nice and exactly what I expected. I already had a silver one.\",\n",
       " 'Ilike the look and feel of the watch. it is very easy to operate and I love the auto time setting.',\n",
       " \"I absolutely love this watch. I don't like that the battery died a month after I bought it.\",\n",
       " 'I absolutely love this watch!! Thankfully there was no physical damage to the watch but it was loose in the box like it had just been put in there with limited care. I was a little disappointed when opening the box but thankfully the watch still had its plastic covering on the face to help protect it.  Overall, I was very pleased with the purchase. It even came in the Fossil tin. :)',\n",
       " \"truly the perfect watch....classic in it's appearance, not too bulky, perfect size.\",\n",
       " 'Broke in two weeks',\n",
       " \"I never have to worry about the time again since its an atomic talking watch. Nice big numbers and it even lights up at night! I'll never want to go back to a regular watch again!\",\n",
       " 'Excelent on time its that they offer. Elgant and finest',\n",
       " \"The lid of the box doesn't close properly with my Seiko SSC007 in it.\",\n",
       " 'Love this watch, very simple and straight forward. nothing to distract you when trying to read time.',\n",
       " 'Very nice.',\n",
       " 'Not bad, not great. It takes a little getting accustomed to, though I am not a techie wizard. The only thing I would change is the digital display. It is dim until the light is turned on. It reads the temperature accurately and other functions seem to work well. It needs to have time to take it through my routine.',\n",
       " 'good product original',\n",
       " \"very nice watch as I am an ESQ fan having owned a number of ESQ watches in the past... my favorite ESQ's  though have been and still are their Octane line of watches that they have since discontinued.. the Octane snap clasp rubber watchband is better for my needs than this standard band... this is overall a super nice watch though.. nice large numerals that are easily readable..great crystal quality..  still very happy overall with ESQ-Movado watches .. BTW I just purchased a 2nd one thru Amazon today 2/9/2016\",\n",
       " 'It does the job, however, a timer would be nice.',\n",
       " 'Good',\n",
       " 'Works well',\n",
       " 'have to say originally,  I could not tell the difference between the band that came on my citizen watch and this one. They have the same look, same thickness. This one was advertised as Leather, and while the back portion seems to be leather, the front (the part that everyone sees) is DEFINITELY NOT LEATHER...BUT VERY CHEAP VINYL. It has cracked and split to the point that after less than six weeks, I have to get another watch band. I have included a picture that shows how the band wore out over this time period and proves that it cannot be leather.',\n",
       " \"Needed a battery operated, reliable alarm clock.  This one is easy to read, the alarm is loud enough to wake me, but not jarring or harsh. There's an easy-to-locate button to light the face if you need to take a look during the night.\",\n",
       " 'Its stylish as well as functiones great with quiet mechanism unlike my old Timex. I just wish it had a sweeping second hand option without having to keep the stopwatch feature turned on.',\n",
       " 'Excelent!!!',\n",
       " 'It just wonderful. Best if you want to give as a gift.',\n",
       " 'good',\n",
       " \"This watch looks nice, but it has a nasty tendency to spontaneously stop, because the opening mechanism is at the same location as the time-setting mechanism. I left mine in Philadelphia and didn't feel compelled to go back for it.\",\n",
       " 'My watch stopped working almost right away! Gumball machine quality.',\n",
       " 'Great watch, comfortable, good looking.',\n",
       " 'Nice !!!!!!!!',\n",
       " 'The Only problem is that the strap band looks inferior and is made of a low quality.<br />I just ordered for a new quality stray band replacement.<br />The band kills the beauty of this time piece.',\n",
       " 'I love this watch!! I wanted something casual but nice and inexpensive. These weekenders take a classic look and make it totally versatile but allowing you to easily switch the bands with different styles/colors. :-)',\n",
       " \"I got this watch because I always see  it posted online with rave reviews, so I decided to give it a shot. I didn't like the band initially, but it has come to grow on me. The watch comes with a ton of functions, I don't think I'll use them all except for the indiglo feature. On thing I was happy about was that this watch doesn't have the loud tick that so many Timex watches suffer from. I was able to snag this on sale, but I wouldn't mind paying full retail for this watch. If you are looking for a stylish daily driver, do yourself a favor and get this watch.\",\n",
       " 'fell off apart and i am trying to send it back to company.',\n",
       " '10 points. everything was as expected',\n",
       " 'exactly products',\n",
       " 'Band fell off after wear it a while',\n",
       " 'Thought this watch too big for even me, a large watch lover. I think had the watch itself been somewhat thinner  and the band slightly more narrow I would have kept it as it was a beautiful color. As it was, I returned mine the same day I received it. But for those who love really large face watches, this one is great!',\n",
       " \"This box is beautiful and was a great gift! I took it to a local engraver to have my husband's initials added, which just added to the character. Love this!\",\n",
       " 'GREAT WATCH , VERY COMFORTABLE TO WEAR',\n",
       " 'Having had a Pathfinder for ten(10) years, I am about to get another.  Still operates great(features and solar powered) but is beginning to look its age.  Great for traveling other time zones too!  Not Bonny&#62;&#62;&#62;&#62;J',\n",
       " \"The pictures don't really give you an impression of how big it is. THIS THING IS GIANORMOUS!!! Perfect if you want everyone to know that you are wearing a watch. But not really my style.\",\n",
       " 'That best buy ever',\n",
       " 'very comfortable nice fit goes with everything really glad I purchased like it a lot',\n",
       " 'Great watch.',\n",
       " 'The product as per the shipping agreement. The watch was packaged well. The only problem was the battery was just about dead. I had to send the watch to Nixon to have the battery replaced.',\n",
       " 'you get what you pay for.  not the best quality.  would not buy again.',\n",
       " \"If you're looking for a stylish and heavy-duty watch with an analog readout, check out Swiss Legends.  This watch has the same look as what you would see on James Bond.  Extremely heavy-duty, but stylish at the same time (no laser beams or decoders included that I know of though).<br /><br />I've had a number of watches, but this one is by far the heaviest I've ever owned (not just heavy duty, but it physically weighs a lot).  So if you like the feeling of knowing you have the watch on your arm, then this is a great option.<br /><br />The readout has a lot of settings.  There are stopwatch capabilities, including lap timer, multiple different time zone readout options, and date.<br /><br />It does take a bit of time (no pun intended) to learn how to use this sophisticated watch.  But once you learn the basics, it is fairly intuitive.<br /><br />Be sure you get the chronograph version (unless you enjoy regularly winding the watch, or you're prepping for an EMC and you want a watch that won't stop working).<br /><br />The only notable downside - the many readouts, and the instruction manual, are tiny.  My eyes are starting to go and I can really only read the &#34;big hand, little hand&#34; parts without the aid of eyeglasses.  Even the date is too tiny for me to read without eyeglasses.  So one star removed because of my aging eyes.<br /><br />Also, unless your wrist exactly fits this watch, you'll likely be taking it to a jeweler to get a link or two removed in order to size it for your wrist (but that's the case with any high-end watch).\",\n",
       " 'this watch so far has been really nice. it fits comfortably, not big and bulky, easy to use perfect for work',\n",
       " \"this watch performs all the functions I need it to have it perform. It is inexpensive and durable. I'll buy another one when this one breaks.\",\n",
       " 'very good',\n",
       " \"It's just like in the picture but would have appreciated if they offered wrist sizing\",\n",
       " \"Not sure if it's even genuine. This watch can pass 12 two or three times before the date will change.\",\n",
       " 'Looks great and good quality.',\n",
       " 'Metal feels kinda cheap, but watch looks great.',\n",
       " 'Have used it several times.  Works great!',\n",
       " 'hard to set time, etc. Even with the instructions was unable to set it.  Nice looking though',\n",
       " 'Love this watch. Face is easy to read and not too big on my wrist. Leather band is beautiful shade of blue and comfortable as well. Thanks for a great value.',\n",
       " 'I like the style and fit but the clasp is installed backwards, it makes it difficult to clasp yourself so you have the have the made in china face outwards instead of Akribos.',\n",
       " 'Looks sharp! The face is a bit big for my liking but my husband loves it and it was a great value for a nice &#34;dress watch&#34;.',\n",
       " \"I've just received this watch 4 days ago and when I press the light buttom it goes like crazy, changing light colors and it doesn't stop.<br />I set the time and just one day after it had 45 minutes behind real time.  So, It definitely has a serious quality problem!<br />So, It's just a waste of money!\",\n",
       " \"This is a cool looking watch without going too far, the stainless steel case is well machined and solid, the offset 10 O'Clock crown is knurled making it easy to grip while adjusting. A Sapphire Crystal is strong preventing scratches much better than mineral glass that you'l find in many watches in this price range.  This watch comes in a shaped ballistic nylon case that zips the clam shell case closed keeping your watch safe when not being worn. The second hand extends the full 12 to 6 O'clock length, half of the second hand is red so its easy to keep track of. The ribbed soft rubber strap is light and comfortable, its shaped at the contact points helping to keep it from rolling around on your wrist. No rubber smell emitting from this strap. The hour and minuet hands have blue/Green luminous markers, they hold a good glow for longer than most showing Oakley cared about the details.\",\n",
       " 'I used a push pin to remove links from the band, which was very easy. Light weight overall. You can definitely hear the second hand tick, but this is not a problem for me.',\n",
       " \"She likes the appearances, the fit and the feel time will tell if it's a fantastic watch.\",\n",
       " \"i have just received my hilfiger men's watch. it is perfect except that i cannot get instruction anywhere`order no. 701-2002682=7454662  it is a<br />tommy hilfiger men's 1710337.  please. i know that i am no quite in the rightn dept.\",\n",
       " 'The watch is beautiful! I love it',\n",
       " 'Very pleased.  Beautiful watch and very fast delivery.',\n",
       " 'Package arrived in time, product is excellent clock is working but a bit bigger than indicated in the picture, overall satisfied with the transaction.',\n",
       " \"I've had itcsbout a month now & like it.  It was just as represented, is attractive and keeping good tome.\",\n",
       " 'Stamp is incorrect on backside. It is reversed, so can tell it is a remake. It is still very nice though.',\n",
       " 'Beautiful - love it!',\n",
       " \"It's a good watch for the price. The watch band broke already, just popped apart.\",\n",
       " 'It stoped working 3 days after arriving...',\n",
       " 'very very nice finish , fast and easy to adjust !',\n",
       " \"I just loved it.. it's glass so you have to keep it clean from top and bottom but it worth it.\",\n",
       " \"This is truly a magnificent watch.. it's a quartz movement watch but the quality is incredibly. Pictures don't do justice to it. A great watch for this price.\",\n",
       " 'Beautiful workmanship.  Chimes have volume control, so can be tuned to a room.  Good purchase.',\n",
       " 'Metal feels kinda cheap, but watch looks great.',\n",
       " 'Great looking, stylish very comfortable',\n",
       " \"I got it in a black plastic bag covered in tape. It doesn't tell the time. Its about a half second slow. It confused me for half the day. Also the strap broke as I first put it on. The gem stones instide the watch fell off on that one day I wore it. I guess it makes a good maraca...\",\n",
       " 'works well, it is a bit difficult to program without the manual.',\n",
       " 'Very nice and quiet',\n",
       " \"I love this watch! It's so unique and I've gotten lots of compliments.<br /><br />Initially after ordering, I got a quick email with a shipping confirmation, and received the watch a few days later. It shipped inside a nifty little suede pouch with a button fastener, and I use it as a place to set my watch on my nightstand.  After I got it the first day and did a quick inspection, the watch was flawless with a really nice rose gold finish. The wood dial is stunning with the tmbr logo very tiny and understated. The crown clicks in and out precisely, and overall the watch feels like precision workmanship.<br /><br />The band is nice supple leather that breathes quite well, even when it's humid outside, and the buckle matches the rose gold watch case perfectly.<br /><br />This is all good news, because I'll probably buy another one. After a week of me wearing it, my wife decided she liked it so much that she claimed it for herself.  She has very tiny wrists, but I have to admit it looks great on her, too.\",\n",
       " 'Received quickly and will make a lovely Christmas gift!',\n",
       " \"It's prank, the worst item I ever bought from Amazon, I got it for my girlfriend on her birthday and withe two months it turns the colors which made me look like s***, wish I could give lower than one star also.\",\n",
       " 'Scrached to easy and if i would have known it was so heavy i would not have bought it.',\n",
       " 'What a gorgeous watch!  I am a nurse and wanted an everyday watch to wear to work with some style.  This is it!  I have received many compliments already!',\n",
       " 'Very good!',\n",
       " \"It's OK,very pretty. It it much too large for me to wear, but would look lovely if you like BIG watches.\",\n",
       " \"Exactly as advertised. It's the real deal. My pathfinder has seen some rough days, and the band was about to go. I expected to have problems with the screws, but aside from having to use knives as screwdrivers, the bolts came out and went back in easily, even though they were badly bent. That's the only downside to this product; it doesn't come with the screws, but it said that in the description. But the band is nice and legit. Nicer than my ratty old watch!\",\n",
       " 'I like it!!',\n",
       " 'Is so cute .love it',\n",
       " 'Excellent value for this watch, for smaller wrist - best purchase price you could find anywhere',\n",
       " 'Awesome watch!!! Love it',\n",
       " 'Just what was shown and ordered.  Delivery etc was good.',\n",
       " 'It is a very nice clock with  sweeping second hand.  We purchased it for our administrative office and it is a very nice addition.',\n",
       " \"Strap too short and I don't have large wrists.  Loops keep migrating.  Other than that it does it's job albeit &#34;snugly&#34;.  For 12 bucks I'm being too fussy.\",\n",
       " 'Great watch',\n",
       " 'Magnifique watch very sturdy very high quality 100% recommend use it everyday',\n",
       " 'a very nice watch for a good price.',\n",
       " \"I received this product at a discount in exchange for an honest review.  Fits the wrist very well and it's a cool watch.  Does not come with any instructions and it's pretty tough to set.\",\n",
       " 'My husband LOVED it😁👍🏽👍🏽👍🏽👍🏽',\n",
       " 'very nice!',\n",
       " \"I like this watch. It's got a retro look to it. I have a skinny wrist so the band is on nearly the tightest notch, but that's ok. The face is big but not overwhelming and the numbers are clear. The date is hard to read, but hey, I'm retired, so who cares what the date is!\",\n",
       " \"Excellent replacement/alternate  watch, considering it's not a &#34;high dollar&#34; model.  I bought it as a back up to my other watch of the same type, and I was surprised to see it has a 10 year battery (didn't think that was possible; will see).  Anyway, the five alarms are nice to have, it looks nice; with decent sized numbers for me (eyesight's not what it used to be).  Nice color.  My other is black and silver this is as pictured, black and blue; which is cool, as I like both colors.  Nifty little inexpensive watch to have.  It includes manual, which the Casio Men's AW80D-1AVCB 10-Year Battery Ana-Digi Bracelet Watch did not, reviewed separately.\",\n",
       " \"I'm late getting to the party, but after discovering Invicta watches I just can't get enough of them. There is a watch for every situation from dress to casual. After acquiring several of these in a short time, I can honestly say that I have not been let down in style or performance. I don't think I'll ever buy another watch that isn't an Invicta!!!!!\",\n",
       " 'Wear it all the time!',\n",
       " 'very good.',\n",
       " 'Watch is exactly as it is shown in the picture..would definitely recommend..',\n",
       " \"Really large on the arm but that's what I wanted - thx!\"]"
      ]
     },
     "metadata": {},
     "execution_count": 8
    }
   ],
   "source": [
    "data"
   ]
  },
  {
   "cell_type": "code",
   "execution_count": 9,
   "metadata": {},
   "outputs": [
    {
     "output_type": "stream",
     "name": "stdout",
     "text": [
      "We use 184 stop-words from nltk library.\n['i', 'me', 'my', 'myself', 'we', 'our', 'ours', 'ourselves', 'you', \"you're\"]\n"
     ]
    }
   ],
   "source": [
    "# Use nltk's English stopwords.\n",
    "stopwords = nltk.corpus.stopwords.words('english') \n",
    "stopwords.append(\"n't\")\n",
    "stopwords.append(\"'s\")\n",
    "stopwords.append(\"'m\")\n",
    "stopwords.append(\"br\") #html <br>\n",
    "stopwords.append(\"watch\")\n",
    "\n",
    "print (\"We use \" + str(len(stopwords)) + \" stop-words from nltk library.\")\n",
    "print (stopwords[:10])"
   ]
  },
  {
   "cell_type": "code",
   "execution_count": 10,
   "metadata": {},
   "outputs": [],
   "source": [
    "from nltk.stem.snowball import SnowballStemmer\n",
    "# from nltk.stem import WordNetLemmatizer \n",
    "\n",
    "stemmer = SnowballStemmer(\"english\")\n",
    "\n",
    "# tokenization and stemming\n",
    "def tokenization_and_stemming(text):\n",
    "    tokens = []\n",
    "    # exclude stop words and tokenize the document, generate a list of string \n",
    "    for word in nltk.word_tokenize(text):\n",
    "        if word.lower() not in stopwords:\n",
    "            tokens.append(word.lower())\n",
    "\n",
    "    filtered_tokens = []\n",
    "    \n",
    "    # filter out any tokens not containing letters (e.g., numeric tokens, raw punctuation)\n",
    "    for token in tokens:\n",
    "        if token.isalpha():\n",
    "            filtered_tokens.append(token)\n",
    "            \n",
    "    # stemming\n",
    "    stems = [stemmer.stem(t) for t in filtered_tokens]\n",
    "    return stems"
   ]
  },
  {
   "cell_type": "code",
   "execution_count": 11,
   "metadata": {},
   "outputs": [
    {
     "output_type": "execute_result",
     "data": {
      "text/plain": [
       "['absolut',\n",
       " 'love',\n",
       " 'get',\n",
       " 'compliment',\n",
       " 'almost',\n",
       " 'everi',\n",
       " 'time',\n",
       " 'wear',\n",
       " 'dainti']"
      ]
     },
     "metadata": {},
     "execution_count": 11
    }
   ],
   "source": [
    "tokenization_and_stemming(data[0])"
   ]
  },
  {
   "cell_type": "code",
   "execution_count": 12,
   "metadata": {},
   "outputs": [
    {
     "output_type": "execute_result",
     "data": {
      "text/plain": [
       "'Absolutely love this watch! Get compliments almost every time I wear it. Dainty.'"
      ]
     },
     "metadata": {},
     "execution_count": 12
    }
   ],
   "source": [
    "data[0]"
   ]
  },
  {
   "cell_type": "code",
   "execution_count": 13,
   "metadata": {},
   "outputs": [
    {
     "output_type": "stream",
     "name": "stdout",
     "text": [
      "In total, there are 1000 reviews and 239 terms.\n"
     ]
    }
   ],
   "source": [
    "from sklearn.feature_extraction.text import TfidfVectorizer\n",
    "# define vectorizer parameters\n",
    "# TfidfVectorizer will help us to create tf-idf matrix\n",
    "# max_df : maximum document frequency for the given word\n",
    "# min_df : minimum document frequency for the given word\n",
    "# max_features: maximum number of words\n",
    "# use_idf: if not true, we only calculate tf\n",
    "# stop_words : built-in stop words\n",
    "# tokenizer: how to tokenize the document\n",
    "# ngram_range: (min_value, max_value), eg. (1, 3) means the result will include 1-gram, 2-gram, 3-gram\n",
    "tfidf_model = TfidfVectorizer(max_df=0.99, max_features=1000,\n",
    "                                 min_df=0.01, stop_words='english',\n",
    "                                 use_idf=True, tokenizer=tokenization_and_stemming, ngram_range=(1,1))\n",
    "\n",
    "tfidf_matrix = tfidf_model.fit_transform(data) #fit the vectorizer to synopses\n",
    "\n",
    "print (\"In total, there are \" + str(tfidf_matrix.shape[0]) + \\\n",
    "      \" reviews and \" + str(tfidf_matrix.shape[1]) + \" terms.\")"
   ]
  },
  {
   "cell_type": "code",
   "execution_count": 14,
   "metadata": {},
   "outputs": [
    {
     "output_type": "execute_result",
     "data": {
      "text/plain": [
       "<1000x239 sparse matrix of type '<class 'numpy.float64'>'\n",
       "\twith 6891 stored elements in Compressed Sparse Row format>"
      ]
     },
     "metadata": {},
     "execution_count": 14
    }
   ],
   "source": [
    "tfidf_matrix"
   ]
  },
  {
   "cell_type": "code",
   "execution_count": 15,
   "metadata": {},
   "outputs": [
    {
     "output_type": "execute_result",
     "data": {
      "text/plain": [
       "array([[0.       , 0.5125863, 0.       , ..., 0.       , 0.       ,\n",
       "        0.       ],\n",
       "       [0.       , 0.       , 0.       , ..., 0.       , 0.       ,\n",
       "        0.       ],\n",
       "       [0.       , 0.       , 0.       , ..., 0.       , 0.       ,\n",
       "        0.       ],\n",
       "       ...,\n",
       "       [0.       , 0.       , 0.       , ..., 0.       , 0.       ,\n",
       "        0.       ],\n",
       "       [0.       , 0.       , 0.       , ..., 0.       , 0.       ,\n",
       "        0.       ],\n",
       "       [0.       , 0.       , 0.       , ..., 0.       , 0.       ,\n",
       "        0.       ]])"
      ]
     },
     "metadata": {},
     "execution_count": 15
    }
   ],
   "source": [
    "tfidf_matrix.toarray()"
   ]
  },
  {
   "cell_type": "code",
   "execution_count": 16,
   "metadata": {},
   "outputs": [],
   "source": [
    "# words\n",
    "tf_selected_words = tfidf_model.get_feature_names()"
   ]
  },
  {
   "cell_type": "code",
   "execution_count": 17,
   "metadata": {},
   "outputs": [
    {
     "output_type": "execute_result",
     "data": {
      "text/plain": [
       "['abl',\n",
       " 'absolut',\n",
       " 'accur',\n",
       " 'actual',\n",
       " 'adjust',\n",
       " 'alarm',\n",
       " 'alreadi',\n",
       " 'alway',\n",
       " 'amaz',\n",
       " 'amazon',\n",
       " 'anoth',\n",
       " 'arm',\n",
       " 'arriv',\n",
       " 'automat',\n",
       " 'awesom',\n",
       " 'bad',\n",
       " 'band',\n",
       " 'batteri',\n",
       " 'beauti',\n",
       " 'best',\n",
       " 'better',\n",
       " 'big',\n",
       " 'bit',\n",
       " 'black',\n",
       " 'blue',\n",
       " 'bought',\n",
       " 'box',\n",
       " 'bracelet',\n",
       " 'brand',\n",
       " 'break',\n",
       " 'bright',\n",
       " 'broke',\n",
       " 'button',\n",
       " 'buy',\n",
       " 'ca',\n",
       " 'came',\n",
       " 'case',\n",
       " 'casio',\n",
       " 'chang',\n",
       " 'cheap',\n",
       " 'clasp',\n",
       " 'classi',\n",
       " 'clock',\n",
       " 'color',\n",
       " 'come',\n",
       " 'comfort',\n",
       " 'compliment',\n",
       " 'cool',\n",
       " 'cost',\n",
       " 'crown',\n",
       " 'crystal',\n",
       " 'dark',\n",
       " 'date',\n",
       " 'daughter',\n",
       " 'day',\n",
       " 'deal',\n",
       " 'definit',\n",
       " 'deliveri',\n",
       " 'design',\n",
       " 'dial',\n",
       " 'differ',\n",
       " 'difficult',\n",
       " 'disappoint',\n",
       " 'display',\n",
       " 'dress',\n",
       " 'durabl',\n",
       " 'easi',\n",
       " 'easili',\n",
       " 'end',\n",
       " 'everi',\n",
       " 'everyday',\n",
       " 'everyth',\n",
       " 'exact',\n",
       " 'excel',\n",
       " 'expect',\n",
       " 'expens',\n",
       " 'face',\n",
       " 'fair',\n",
       " 'far',\n",
       " 'fast',\n",
       " 'featur',\n",
       " 'feel',\n",
       " 'fell',\n",
       " 'fine',\n",
       " 'finish',\n",
       " 'fit',\n",
       " 'function',\n",
       " 'gave',\n",
       " 'gift',\n",
       " 'gold',\n",
       " 'good',\n",
       " 'got',\n",
       " 'great',\n",
       " 'hand',\n",
       " 'happi',\n",
       " 'hard',\n",
       " 'heavi',\n",
       " 'high',\n",
       " 'hold',\n",
       " 'honest',\n",
       " 'hope',\n",
       " 'hour',\n",
       " 'howev',\n",
       " 'husband',\n",
       " 'includ',\n",
       " 'instruct',\n",
       " 'invicta',\n",
       " 'issu',\n",
       " 'item',\n",
       " 'kept',\n",
       " 'know',\n",
       " 'larg',\n",
       " 'leather',\n",
       " 'light',\n",
       " 'like',\n",
       " 'link',\n",
       " 'littl',\n",
       " 'long',\n",
       " 'look',\n",
       " 'lot',\n",
       " 'love',\n",
       " 'low',\n",
       " 'make',\n",
       " 'mani',\n",
       " 'metal',\n",
       " 'minut',\n",
       " 'model',\n",
       " 'money',\n",
       " 'month',\n",
       " 'movement',\n",
       " 'need',\n",
       " 'new',\n",
       " 'nice',\n",
       " 'night',\n",
       " 'normal',\n",
       " 'number',\n",
       " 'old',\n",
       " 'open',\n",
       " 'oper',\n",
       " 'order',\n",
       " 'origin',\n",
       " 'overal',\n",
       " 'packag',\n",
       " 'paid',\n",
       " 'pay',\n",
       " 'perfect',\n",
       " 'perform',\n",
       " 'person',\n",
       " 'pictur',\n",
       " 'piec',\n",
       " 'pin',\n",
       " 'place',\n",
       " 'plastic',\n",
       " 'pleas',\n",
       " 'point',\n",
       " 'press',\n",
       " 'pretti',\n",
       " 'price',\n",
       " 'problem',\n",
       " 'product',\n",
       " 'purchas',\n",
       " 'qualiti',\n",
       " 'quick',\n",
       " 'quit',\n",
       " 'rate',\n",
       " 'read',\n",
       " 'real',\n",
       " 'realli',\n",
       " 'reason',\n",
       " 'receiv',\n",
       " 'recommend',\n",
       " 'red',\n",
       " 'remov',\n",
       " 'replac',\n",
       " 'resist',\n",
       " 'return',\n",
       " 'review',\n",
       " 'right',\n",
       " 'run',\n",
       " 'said',\n",
       " 'say',\n",
       " 'screw',\n",
       " 'second',\n",
       " 'seiko',\n",
       " 'seller',\n",
       " 'send',\n",
       " 'sent',\n",
       " 'set',\n",
       " 'sever',\n",
       " 'ship',\n",
       " 'short',\n",
       " 'simpl',\n",
       " 'sinc',\n",
       " 'size',\n",
       " 'small',\n",
       " 'smaller',\n",
       " 'solid',\n",
       " 'someth',\n",
       " 'somewhat',\n",
       " 'son',\n",
       " 'star',\n",
       " 'start',\n",
       " 'stop',\n",
       " 'strap',\n",
       " 'sturdi',\n",
       " 'style',\n",
       " 'stylish',\n",
       " 'super',\n",
       " 'sure',\n",
       " 'surpris',\n",
       " 'swim',\n",
       " 'tell',\n",
       " 'thank',\n",
       " 'thing',\n",
       " 'think',\n",
       " 'thought',\n",
       " 'time',\n",
       " 'timex',\n",
       " 'tini',\n",
       " 'tri',\n",
       " 'turn',\n",
       " 'use',\n",
       " 'valu',\n",
       " 'want',\n",
       " 'watch',\n",
       " 'water',\n",
       " 'way',\n",
       " 'wear',\n",
       " 'week',\n",
       " 'weight',\n",
       " 'went',\n",
       " 'wife',\n",
       " 'wind',\n",
       " 'wish',\n",
       " 'work',\n",
       " 'worn',\n",
       " 'worth',\n",
       " 'wrist',\n",
       " 'year']"
      ]
     },
     "metadata": {},
     "execution_count": 17
    }
   ],
   "source": [
    "# print out words\n",
    "tf_selected_words"
   ]
  },
  {
   "cell_type": "code",
   "execution_count": 18,
   "metadata": {},
   "outputs": [],
   "source": [
    "# k-means clustering\n",
    "from sklearn.cluster import KMeans\n",
    "\n",
    "num_clusters = 5\n",
    "\n",
    "# number of clusters\n",
    "km = KMeans(n_clusters=num_clusters)\n",
    "km.fit(tfidf_matrix)\n",
    "\n",
    "clusters = km.labels_.tolist()"
   ]
  },
  {
   "cell_type": "code",
   "execution_count": 19,
   "metadata": {},
   "outputs": [],
   "source": [
    "# create DataFrame films from all of the input files.\n",
    "product = { 'review': df[:1000].review_body, 'cluster': clusters}\n",
    "frame = pd.DataFrame(product, columns = ['review', 'cluster'])"
   ]
  },
  {
   "cell_type": "code",
   "execution_count": 20,
   "metadata": {},
   "outputs": [
    {
     "output_type": "execute_result",
     "data": {
      "text/plain": [
       "                                              review  cluster\n",
       "0  Absolutely love this watch! Get compliments al...        2\n",
       "1       I love this watch it keeps time wonderfully.        2\n",
       "2                                          Scratches        0\n",
       "3  It works well on me. However, I found cheaper ...        0\n",
       "4  Beautiful watch face.  The band looks nice all...        0\n",
       "5  i love this watch for my purpose, about the pe...        2\n",
       "6  for my wife and she loved it, looks great and ...        4\n",
       "7  I was about to buy this thinking it was a Swis...        0\n",
       "8  Watch is perfect. Rugged with the metal &#34;B...        4\n",
       "9  Great quality and build.<br />The motors are r...        0"
      ],
      "text/html": "<div>\n<style scoped>\n    .dataframe tbody tr th:only-of-type {\n        vertical-align: middle;\n    }\n\n    .dataframe tbody tr th {\n        vertical-align: top;\n    }\n\n    .dataframe thead th {\n        text-align: right;\n    }\n</style>\n<table border=\"1\" class=\"dataframe\">\n  <thead>\n    <tr style=\"text-align: right;\">\n      <th></th>\n      <th>review</th>\n      <th>cluster</th>\n    </tr>\n  </thead>\n  <tbody>\n    <tr>\n      <th>0</th>\n      <td>Absolutely love this watch! Get compliments al...</td>\n      <td>2</td>\n    </tr>\n    <tr>\n      <th>1</th>\n      <td>I love this watch it keeps time wonderfully.</td>\n      <td>2</td>\n    </tr>\n    <tr>\n      <th>2</th>\n      <td>Scratches</td>\n      <td>0</td>\n    </tr>\n    <tr>\n      <th>3</th>\n      <td>It works well on me. However, I found cheaper ...</td>\n      <td>0</td>\n    </tr>\n    <tr>\n      <th>4</th>\n      <td>Beautiful watch face.  The band looks nice all...</td>\n      <td>0</td>\n    </tr>\n    <tr>\n      <th>5</th>\n      <td>i love this watch for my purpose, about the pe...</td>\n      <td>2</td>\n    </tr>\n    <tr>\n      <th>6</th>\n      <td>for my wife and she loved it, looks great and ...</td>\n      <td>4</td>\n    </tr>\n    <tr>\n      <th>7</th>\n      <td>I was about to buy this thinking it was a Swis...</td>\n      <td>0</td>\n    </tr>\n    <tr>\n      <th>8</th>\n      <td>Watch is perfect. Rugged with the metal &amp;#34;B...</td>\n      <td>4</td>\n    </tr>\n    <tr>\n      <th>9</th>\n      <td>Great quality and build.&lt;br /&gt;The motors are r...</td>\n      <td>0</td>\n    </tr>\n  </tbody>\n</table>\n</div>"
     },
     "metadata": {},
     "execution_count": 20
    }
   ],
   "source": [
    "frame.head(10)"
   ]
  },
  {
   "cell_type": "code",
   "execution_count": 21,
   "metadata": {},
   "outputs": [
    {
     "output_type": "stream",
     "name": "stdout",
     "text": [
      "Number of reviews included in each cluster:\n"
     ]
    },
    {
     "output_type": "execute_result",
     "data": {
      "text/plain": [
       "   cluster\n",
       "0      669\n",
       "2      111\n",
       "4       81\n",
       "1       77\n",
       "3       62"
      ],
      "text/html": "<div>\n<style scoped>\n    .dataframe tbody tr th:only-of-type {\n        vertical-align: middle;\n    }\n\n    .dataframe tbody tr th {\n        vertical-align: top;\n    }\n\n    .dataframe thead th {\n        text-align: right;\n    }\n</style>\n<table border=\"1\" class=\"dataframe\">\n  <thead>\n    <tr style=\"text-align: right;\">\n      <th></th>\n      <th>cluster</th>\n    </tr>\n  </thead>\n  <tbody>\n    <tr>\n      <th>0</th>\n      <td>669</td>\n    </tr>\n    <tr>\n      <th>2</th>\n      <td>111</td>\n    </tr>\n    <tr>\n      <th>4</th>\n      <td>81</td>\n    </tr>\n    <tr>\n      <th>1</th>\n      <td>77</td>\n    </tr>\n    <tr>\n      <th>3</th>\n      <td>62</td>\n    </tr>\n  </tbody>\n</table>\n</div>"
     },
     "metadata": {},
     "execution_count": 21
    }
   ],
   "source": [
    "print (\"Number of reviews included in each cluster:\")\n",
    "frame['cluster'].value_counts().to_frame()"
   ]
  },
  {
   "cell_type": "code",
   "execution_count": 22,
   "metadata": {},
   "outputs": [
    {
     "output_type": "execute_result",
     "data": {
      "text/plain": [
       "array([[0.00563952, 0.00435867, 0.00381727, ..., 0.00651155, 0.01795646,\n",
       "        0.01502076],\n",
       "       [0.        , 0.        , 0.        , ..., 0.        , 0.00851693,\n",
       "        0.        ],\n",
       "       [0.        , 0.04125958, 0.        , ..., 0.01222159, 0.01717547,\n",
       "        0.        ],\n",
       "       [0.        , 0.        , 0.        , ..., 0.        , 0.00784247,\n",
       "        0.        ],\n",
       "       [0.00398137, 0.        , 0.        , ..., 0.00275151, 0.        ,\n",
       "        0.01911375]])"
      ]
     },
     "metadata": {},
     "execution_count": 22
    }
   ],
   "source": [
    "km.cluster_centers_\n",
    "\n",
    "# 239数的list -> cluster 0的中心点的tf-idf值\n",
    "#-> assumption: 中心点的值可以代表这个cluster\n",
    "#-> tf-idf值越大，对应的词越能代表这个document\n",
    "#-> 选出了tf-idf最大的6个值对应的词来代表这个cluster"
   ]
  },
  {
   "cell_type": "code",
   "execution_count": 23,
   "metadata": {},
   "outputs": [
    {
     "output_type": "execute_result",
     "data": {
      "text/plain": [
       "(5, 239)"
      ]
     },
     "metadata": {},
     "execution_count": 23
    }
   ],
   "source": [
    "km.cluster_centers_.shape"
   ]
  },
  {
   "cell_type": "code",
   "execution_count": 24,
   "metadata": {
    "tags": [
     "outputPrepend"
    ]
   },
   "outputs": [
    {
     "output_type": "stream",
     "name": "stdout",
     "text": [
      " as screwdrivers, the bolts came out and went back in easily, even though they were badly bent. That's the only downside to this product; it doesn't come with the screws, but it said that in the description. But the band is nice and legit. Nicer than my ratty old watch!, I like it!!, Is so cute .love it, Excellent value for this watch, for smaller wrist - best purchase price you could find anywhere, Strap too short and I don't have large wrists.  Loops keep migrating.  Other than that it does it's job albeit &#34;snugly&#34;.  For 12 bucks I'm being too fussy., Magnifique watch very sturdy very high quality 100% recommend use it everyday, I received this product at a discount in exchange for an honest review.  Fits the wrist very well and it's a cool watch.  Does not come with any instructions and it's pretty tough to set., I like this watch. It's got a retro look to it. I have a skinny wrist so the band is on nearly the tightest notch, but that's ok. The face is big but not overwhelming and the numbers are clear. The date is hard to read, but hey, I'm retired, so who cares what the date is!, Excellent replacement/alternate  watch, considering it's not a &#34;high dollar&#34; model.  I bought it as a back up to my other watch of the same type, and I was surprised to see it has a 10 year battery (didn't think that was possible; will see).  Anyway, the five alarms are nice to have, it looks nice; with decent sized numbers for me (eyesight's not what it used to be).  Nice color.  My other is black and silver this is as pictured, black and blue; which is cool, as I like both colors.  Nifty little inexpensive watch to have.  It includes manual, which the Casio Men's AW80D-1AVCB 10-Year Battery Ana-Digi Bracelet Watch did not, reviewed separately., I'm late getting to the party, but after discovering Invicta watches I just can't get enough of them. There is a watch for every situation from dress to casual. After acquiring several of these in a short time, I can honestly say that I have not been let down in style or performance. I don't think I'll ever buy another watch that isn't an Invicta!!!!!, Wear it all the time!, Watch is exactly as it is shown in the picture..would definitely recommend.., Really large on the arm but that's what I wanted - thx!\n\nCluster 1 words:good,product,qualiti,seller,price,love,\nCluster 1 reviews (77 reviews): \nvery good, It's a good value, and a good functional watch strap.  It's super wide though, and takes more space on the wrist than I'd like., very good, Excellent product and seller very good service, Good value product, Looks good. Not bulky. Keeps good time., good, Love the Watch. Good Deal and works Good.. :-), works good so far., good, very good., Good, Good quality with a reasonable price, good quality. on time, Good looking and smart! Works like a charm., Good for work, Very stylish; looks good on my wrist. Lots of compliments. A good buy., Good qualities and a great seller., Good Product & good seller, It's not keeping good time, good, its good, Good!, good, Good, good, A little big, Good!, so far so good,  it is a good looking watch.  With all the necessary features one needs.  only drawback is the date window, the date is awfully small., Very good, very good, Good watch links scratch easily, Good, Good product, If looking for a FUN / Practical & good quality watch for the Spring / Summer, this is the one to grab!!!  I definitely am enjoying mine this Summer '15., very good., Pretty good, good good!good good!good good!, slightly lighter in color than the picture, but overall a good quality - easy to install.  I can wear my watch again.  Good value for the price., good, good watch fast shipping good price, Very good for the price<br />Love it, Good I love it, Good quality, Thx it's very good, that's good. I love so much., Good, It's very good watch, good, A little big, Good, good tool good price fast shipping, very good, Its very big but it looks good, very good., good one, Good qualities and a great seller., good, Very good product, Excellent product and seller very good service, It is good and lot of cheaper thank officer website, good, Good Watch.. Excellent, Good, very good, Good, Good product, The backlight is not very good. It only lights up the digital section at the bottom of the watch. Other than that, I haven't had any problems with this watch., Really good sports watch for the price., Good watch, good product original, Good, good, very good, I've had itcsbout a month now & like it.  It was just as represented, is attractive and keeping good tome., Beautiful workmanship.  Chimes have volume control, so can be tuned to a room.  Good purchase., Very good!, Just what was shown and ordered.  Delivery etc was good., very good.\n\nCluster 2 words:love,wife,look,husband,absolut,beauti,\nCluster 2 reviews (111 reviews): \nAbsolutely love this watch! Get compliments almost every time I wear it. Dainty., I love this watch it keeps time wonderfully., i love this watch for my purpose, about the people complaining should of done their research better before buying. dumb people., Love this watch, I just received it yesterday it looks really nice on my  wrist, my friends and family love it., Grand Kids loved this, Have worn it constantly, love the light at night, Wife loves it and nice looking watch,, Love the look but the leather band is so stiff it doesn't conform well to my wrist., Loved the watch; it just did not work supposedly self-winding; tried all possible motions to cause the winder clearly visible from the rear of the watch; no luck, Love it, More beautiful in person. High quality! Looks understated but so sophisticated! It was a gift for my mother and she loved it!, Bought for a cousin, he loved it, the watch is beautiful, a little on the big side but it is perfect!!!!! LOVE LOVE LOVE!!!!!, Love. That is pretty much it. Item as described, really beautiful and functional., husband loves it, Love it, Love fits good use it every day., Love the looks, love the style..... it's a Seiko., I love love love this watch it's beautiful!!, Its a great watch love tge color, I love this watch! Aside from being cheap, this watch fits perfectly my son's wrist. My first purchase was the gray one. Then I purchased blue for my husband. Now I'm planning to buy one for myself. It has a simple design and the size and thickness is just enough on my wrist. I really love this watch!, LOVE ITTTTTT!!!!!!!, Love love this watch fits nicely on my hand. Got lots of compliments on it 😆, I love it. I did not know that it glows in the dark. That was a nice surprise., love the look just too big for my wrist., Great watch I love it, A+ deal, love the band., love it. ellegant sleek, and ferrari, Its Great!!! So beautiful.<br /><br />Totally recommended. My mother loved it, Love the look and function as advertised. Couldn't beat the price., Love it and works very good! Looks exactly as pictured and love wearing., My favorite features in a watch, now available  in Vikings colors! Love love love!, love this watch color, Amazing watch, Love every aspect of this thing and especially for its price. So worth it., Love this watch. I actually purchased it for my son. It’s awesome., I love having this watch!  Make sure to allow it to charge in the sun when you first get it because it's solar.  You will lose some of the functions if it's not charged up properly., My wife is a dental hygienist and she loves her watch!, My mom LOVES this watch. The band is very smooth..., I bought it for my 7 year-old niece and she loved it so that makes me love the purchase as well!, This watch is beautiful!  Way better than the picture... and the pic is fab. I love it!, My husband loves it!  Excellent product!, My husband loves it and it does look very classy., I've been eyeing this watch for months now and i love it!!, Love it, Bought this watch as a birthday present for my boyfriend and he absolutely loved it!, Very classy, a little spendy, but you get what you pay for. My son loves it., She loves it., I love it, very comfortable. Feels weak in the bracelet., love it --came alot faster than noted too!, Love the watch, pretty colors., Watch looks great and was easy to use.  My wife loves it, Wife loves it., I loved the face of this watch the moment I first saw it.  It's clean and bright and keeps good time.  I also love the fact that i don't have to wind it.  Yesterday I was sitting in a restaurant in Los Angeles and a lady passed by my table, stopped, stepped back and said: &#34;Nice watch!&#34;, I love this watch but within a month, the clasp has broken. Really disappointed!, Love the watch I will buy another one, My wife loves this watch., Excellent. My son loves it. He wants to swim with it, so we are yet to pass this test!, love, love<br />so cute and ladylike, I ordered this watch online and I absolutely love it. It's true to the picture, very sophisticated. It's great for nights out. Overall an amazing purchase!, It looks even better in person than it does in the picture. Awesome watch, I love Nixon., This is a very pretty watch .... My granddaughter loved it!, Love, Love, Love the soft shade of Lavender.  I ordered several for gifts & I know they will be a HIT!!!, great watch! I love it!, A fun watch with a retro look!  Love this watch, highly recommend!, Wife loves it. So no complains!, My niece loved it, Beautiful watch! Son in Law loves it!, loved it, a very cool looking watch for a teenager., I absolutely love these silicone watch bands. Totally waterproof., Love this watch. It looks very professional and masculine. Got it for my husband for his birthday. At first he thought the face was a little too big, but now he loves it. Great price too, I love my watch it's exactly as pictured. A boyfriend style watch with the copper/rose gold accents., Love this retro watch!  Very stylish and fun!, I love it. Lightweight and comfortable, it fits with any occasion and overall a great everyday watch to have., I love the watch!!! However I only received the white one. Who can I talk to about not getting the black one delivered, love the design and style - awesome, I got this watch for my father for Father's Day, as an everyday watch, and was surprised how much he loves it. My mom says he wears it all the time,  and loves its simplicity., My wife loves the watch, so much she slept with it.she really appreciate the watch thank you very much, love it, We love it, I absolutely love this watch. It's casual enough to wear daily and dressy enough to wear out. Perfect :-), I love it! It's like a rolex but it's invicta., My husband LOVE it, I will definitely buy more in the future different color of course., Love this watch and many compliments on the large face, My wife loves her gift., I love it.....I can actually read the numbers!!, Love it. The perfect AKA gift!, Daughter loved it, I love it!!!!, Bought this for my son and he loves it..<br />No problem so far.., I have 5 other Phlip Stein watches and I just love, love, love the Fruitz  watches!, Bought this for my Guy and he LOVED IT !!!, A gift to myself, and I absolutely love!, It was disappointing to me.  Perhaps it is the Color Combination???  I love Pink but it doesn't go with the trim color of the watch.  My Opinion!, In love!! Thank you, Strap looks better in real life, love the watch itself!!!, Amazing quality! Love it, This was a gift and the person I gave it to loved it very much!, it's pretty early to  to give a good rating, but I think I'm going to love it, My husband and I got this for our daughter for her birthday, and she absolutely loves it!!  It is so cute and looks even better than the pictures!, I love it.., I love it., Bought this watch for my Fiance birthday and he loved it. The watch looks so much better in person. The leather band is very well made and thick. The watch itself is great., I absolutely love this watch. I don't like that the battery died a month after I bought it., Love this watch, very simple and straight forward. nothing to distract you when trying to read time., This box is beautiful and was a great gift! I took it to a local engraver to have my husband's initials added, which just added to the character. Love this!, The watch is beautiful! I love it, Beautiful - love it!, I just loved it.. it's glass so you have to keep it clean from top and bottom but it worth it., Received quickly and will make a lovely Christmas gift!, Awesome watch!!! Love it, My husband LOVED it😁👍🏽👍🏽👍🏽👍🏽\n\nCluster 3 words:nice,price,look,realli,simpl,good,\nCluster 3 reviews (62 reviews): \nNice watch, on time delivery from seller., It works well with nice simple look., vary nice, Very nice watch !!!, nice watch what you see on the picture is what you get, Very nice watch for running, Nice, Nice, Good Nice watch, Nice desing. I love this watch., Nice, Very nice and reasonably price!, Nice watch, a little complicated getting set up, but has nice features, probably more than I'll ever use. Great looking!, Very nice, the nice watch, Its really nice and it looks good to me. Thumbs up!, Very nice and simple!!!!, Nice watch. Not what I was expecting but that is not the sellers fault., Very nice watch! Very comfortable to wear., Nice watch, on time delivery from the seller., Very nice looking watch., Nice and strong, I love it. Really nice., Super nice, Very nice watch for the money!, nice, Nice quality, very good precision. Leather belt is really nice., Nice watch, band is light and hollow., VERY NICE WATCH AND VERY NICE PRICE, Nice summer watch., nice watch, Nice, It looks very nice., Nice watch. It's simple and perfect for daily wear., pretty nice, very nice strap, Nice watch. I returned it as it was small on my wrist., for this price it's really a nice watch, Nice watch but has one of the loudest movements I've ever come across which is distracting but not unexpected at this price., Nice and classy appeal. Solid construction., Very nice !, Nice, great  Watch  a very nice price., Very nice and light., nice, Nice watch and a great bargain. I love it., very nice, Just nice. In accordance to the price paid., Nice, not for me but if you like a large watch face it is a nice watch, nice, Nice, Nice, These have worked nicely so far., Very nice., It does the job, however, a timer would be nice., Nice !!!!!!!!, Stamp is incorrect on backside. It is reversed, so can tell it is a remake. It is still very nice though., Very nice and quiet, It is a very nice clock with  sweeping second hand.  We purchased it for our administrative office and it is a very nice addition., a very nice watch for a good price., very nice!\n\nCluster 4 words:great,look,price,work,product,comfort,\nCluster 4 reviews (81 reviews): \nfor my wife and she loved it, looks great and a great price!, Watch is perfect. Rugged with the metal &#34;Bull Bars&#34;. The red accents are a great touch and I get compliments when wearing it. If you are worried about being able to read this in sunlight or in the dark don't! The LED ilumination works great! I might even get this in a different color for my next G-Shock purchase!, Perfect Condition, Arrived on Time,Works & Looks Great, great looking sports watch, A great automatic, but I give it 4 stars for being too conservative with its small size and the blue is dark and more of a navy color unless light is shining on it and reflecting. Other than that, like all based seiko 5s, it looks great on a Nato strap. I have this bad boy setup on a brown leather strap with a deployable clasp which looks very similar to the Omega Seamaster Aqua Terra. A great watch that can be worn in almost any occasion except when swimming, Gorgeous, petite watch - goes great with my engagement ring ;-), Great, Beautiful watch!  Great seller!, Great looking g shock., Great price great look!, great watch for gifting., Great watch! I've had the watch for almost 4 years with no complaints. Looks great, really durable, first battery lasted over 2 years. The light works great and sometimes you'll need it during the day to read the time. The all black can be a little hard to read at times, but the light will is sufficient to help out. Worth every penny!, Love this watch! Got a great price and quick delivery., Great key. Works well and does exactly as it should. Solid Construction., great watch, Great product., Great watch...great price...great delivery..., Great Box for the Price, Beautiful watch in almost perfect condition. Such a great deal compared to the regular price on this watch., Good looking watch, very comfortable, great price, GREAT WATCH & VALUE, VERY COMFORTABLE TO WEAR, great watch for referee.  super fast shipping!, cool watch, slim and big dial. Looks great, Looks great, came super fast. I would recommend., Great item... excellent price, great show watch, Great watch, amazing features!, Great watch for a amazing price!, A great watch., Exactly what I needed and wanted. Awesome and great price!, Great, Great watch... versace versace!!!!!!, Great watch. Great water resistance, substantial-feeling case and band, keeps time very well. Only downside is that the gold plating isn't very scratch resistant., Great deal on a great watch., Great!, Great watch never own something so stylish, great for swimming can see numbers under water and works perfectly. Allot of compliments., Works great!, Nice looking watch, but I prefer a watch with a little bigger face. Other than that its great., Great product, great watch for gifting., Great Watch!, Just great!, Metal feels kinda cheap, but watch looks great., Great watch, Excellent product!...great deal!, This watch is very nice.  A great value.  I think it looks great, Great value for the price., Great product, Great watch band., Great product, quiet and it works, Very Happy!  This is my second purchase and its great for a gift, Works great only thing missing is the ability to give the date., GREAT watch for price paid. No issues and looks nice!!, Looks great and feels great!, GREAT Disney Watch!  Fast Delivery!  Awesome., Works great. Stylish.  Looking to buy other colors too. Thanks. MauistyleAloha.com, Sk8Maui.com TexasStyleSkateboarding.com, Great watch, Great deal on a great watch., Owned probably 4 or more over the last 25 years.  Great watch....so glad they are still available..., Great watch, easy to wear, looks great on, and very inexpensive!  Love wearing it in the Florida heat when I bike!  Doesn't fade, water resistant, keeps on ticking!, Great watch ,large and blingy, just as it looks at the picture!, Hard to unhook at first, but it's great now!, Great watch for the money!, great fit and durrable., Great watch, Great watch for the price. Looks like it cost more. Keeps time very well., I get compliments on it also it looks great and it goes with anything I want to wear it was definitely a great buy., Great watch band., Great watch. Look well., I bought this watch May of 2013 to use before my deployment with the army to Afghanistan. This watch is still going strong. It also looks great; not too big like some other G- Shocks I've been, and it looks more subtle than the others, which I like. I don't like the other flashy looking ones.  My younger brother is in need of a watch for cross country and am buying this one once again. Great watch, I highly recommend it!, Great watch, comfortable, good looking., GREAT WATCH , VERY COMFORTABLE TO WEAR, Having had a Pathfinder for ten(10) years, I am about to get another.  Still operates great(features and solar powered) but is beginning to look its age.  Great for traveling other time zones too!  Not Bonny&#62;&#62;&#62;&#62;J, Great watch., Looks great and good quality., Metal feels kinda cheap, but watch looks great., Have used it several times.  Works great!, This is truly a magnificent watch.. it's a quartz movement watch but the quality is incredibly. Pictures don't do justice to it. A great watch for this price., Metal feels kinda cheap, but watch looks great., Great looking, stylish very comfortable, Great watch\n\n"
     ]
    }
   ],
   "source": [
    "print (\"<Document clustering result by K-means>\")\n",
    "\n",
    "#km.cluster_centers_ denotes the importances of each items in centroid.\n",
    "#We need to sort it in decreasing-order and get the top k items.\n",
    "order_centroids = km.cluster_centers_.argsort()[:, ::-1] \n",
    "\n",
    "Cluster_keywords_summary = {}\n",
    "for i in range(num_clusters):\n",
    "    print (\"Cluster \" + str(i) + \" words:\", end='')\n",
    "    Cluster_keywords_summary[i] = []\n",
    "    for ind in order_centroids[i, :6]: #replace 6 with n words per cluster\n",
    "        Cluster_keywords_summary[i].append(tf_selected_words[ind])\n",
    "        print (tf_selected_words[ind] + \",\", end='')\n",
    "    print ()\n",
    "    \n",
    "    cluster_reviews = frame[frame.cluster==i].review.tolist()\n",
    "    print (\"Cluster \" + str(i) + \" reviews (\" + str(len(cluster_reviews)) + \" reviews): \")\n",
    "    print (\", \".join(cluster_reviews))\n",
    "    print ()"
   ]
  },
  {
   "cell_type": "code",
   "execution_count": 25,
   "metadata": {},
   "outputs": [],
   "source": [
    "# Use LDA for clustering\n",
    "from sklearn.decomposition import LatentDirichletAllocation\n",
    "lda = LatentDirichletAllocation(n_components=5)"
   ]
  },
  {
   "cell_type": "code",
   "execution_count": 26,
   "metadata": {},
   "outputs": [
    {
     "output_type": "stream",
     "name": "stdout",
     "text": [
      "(1000, 5)\n[[0.54749152 0.27216957 0.06006541 0.05948725 0.06078625]\n [0.0857093  0.09031294 0.65596823 0.08373725 0.0842723 ]\n [0.2        0.2        0.2        0.2        0.2       ]\n ...\n [0.10000019 0.10000118 0.10005656 0.59994176 0.10000031]\n [0.0672203  0.73105105 0.06689111 0.06800979 0.06682774]\n [0.72985509 0.06743175 0.06792441 0.06737022 0.06741853]]\n"
     ]
    }
   ],
   "source": [
    "# document topic matrix for tfidf_matrix_lda\n",
    "lda_output = lda.fit_transform(tfidf_matrix)\n",
    "print(lda_output.shape)\n",
    "print(lda_output)"
   ]
  },
  {
   "cell_type": "code",
   "execution_count": 27,
   "metadata": {},
   "outputs": [],
   "source": [
    "# Use LDA for clustering\n",
    "from sklearn.decomposition import LatentDirichletAllocation\n",
    "lda = LatentDirichletAllocation(n_components=5)"
   ]
  },
  {
   "cell_type": "code",
   "execution_count": 28,
   "metadata": {},
   "outputs": [
    {
     "output_type": "stream",
     "name": "stdout",
     "text": [
      "(1000, 5)\n[[0.29295114 0.06186259 0.05943308 0.05984604 0.52590716]\n [0.0877571  0.08365425 0.08352753 0.65964709 0.08541403]\n [0.2        0.2        0.2        0.2        0.2       ]\n ...\n [0.10000129 0.10024461 0.59965407 0.1000003  0.10009974]\n [0.4023357  0.39605516 0.06738643 0.06673901 0.06748371]\n [0.29749672 0.06758661 0.06821887 0.49781451 0.06888329]]\n"
     ]
    }
   ],
   "source": [
    "# document topic matrix for tfidf_matrix_lda\n",
    "lda_output = lda.fit_transform(tfidf_matrix)\n",
    "print(lda_output.shape)\n",
    "print(lda_output)"
   ]
  },
  {
   "cell_type": "code",
   "execution_count": 29,
   "metadata": {},
   "outputs": [
    {
     "output_type": "stream",
     "name": "stdout",
     "text": [
      "(5, 239)\n[[3.10651875 7.69098592 0.2028007  ... 3.77848758 9.55927807 0.20230091]\n [0.21480102 0.20074283 0.20391624 ... 0.20315714 0.79022789 1.83273785]\n [0.74009549 0.20038263 0.20039804 ... 0.20035712 0.20097032 0.21939375]\n [0.72505013 0.20055606 1.03938666 ... 0.5083148  2.38676256 2.1762812 ]\n [0.30886169 0.20309538 1.90725344 ... 2.24538065 3.12414896 8.16639176]]\n"
     ]
    }
   ],
   "source": [
    "# topics and words matrix\n",
    "topic_word = lda.components_\n",
    "print(topic_word.shape)\n",
    "print(topic_word)"
   ]
  },
  {
   "cell_type": "code",
   "execution_count": 30,
   "metadata": {},
   "outputs": [
    {
     "output_type": "execute_result",
     "data": {
      "text/plain": [
       "      Topic0  Topic1  Topic2  Topic3  Topic4  topic\n",
       "Doc0    0.29    0.06    0.06    0.06    0.53      4\n",
       "Doc1    0.09    0.08    0.08    0.66    0.09      3\n",
       "Doc2    0.20    0.20    0.20    0.20    0.20      0\n",
       "Doc3    0.06    0.06    0.06    0.06    0.76      4\n",
       "Doc4    0.34    0.04    0.04    0.04    0.54      4\n",
       "Doc5    0.42    0.35    0.07    0.07    0.08      0\n",
       "Doc6    0.07    0.06    0.06    0.74    0.06      3\n",
       "Doc7    0.06    0.75    0.06    0.06    0.06      1\n",
       "Doc8    0.19    0.04    0.04    0.05    0.67      4\n",
       "Doc9    0.06    0.76    0.06    0.06    0.06      1"
      ],
      "text/html": "<div>\n<style scoped>\n    .dataframe tbody tr th:only-of-type {\n        vertical-align: middle;\n    }\n\n    .dataframe tbody tr th {\n        vertical-align: top;\n    }\n\n    .dataframe thead th {\n        text-align: right;\n    }\n</style>\n<table border=\"1\" class=\"dataframe\">\n  <thead>\n    <tr style=\"text-align: right;\">\n      <th></th>\n      <th>Topic0</th>\n      <th>Topic1</th>\n      <th>Topic2</th>\n      <th>Topic3</th>\n      <th>Topic4</th>\n      <th>topic</th>\n    </tr>\n  </thead>\n  <tbody>\n    <tr>\n      <th>Doc0</th>\n      <td>0.29</td>\n      <td>0.06</td>\n      <td>0.06</td>\n      <td>0.06</td>\n      <td>0.53</td>\n      <td>4</td>\n    </tr>\n    <tr>\n      <th>Doc1</th>\n      <td>0.09</td>\n      <td>0.08</td>\n      <td>0.08</td>\n      <td>0.66</td>\n      <td>0.09</td>\n      <td>3</td>\n    </tr>\n    <tr>\n      <th>Doc2</th>\n      <td>0.20</td>\n      <td>0.20</td>\n      <td>0.20</td>\n      <td>0.20</td>\n      <td>0.20</td>\n      <td>0</td>\n    </tr>\n    <tr>\n      <th>Doc3</th>\n      <td>0.06</td>\n      <td>0.06</td>\n      <td>0.06</td>\n      <td>0.06</td>\n      <td>0.76</td>\n      <td>4</td>\n    </tr>\n    <tr>\n      <th>Doc4</th>\n      <td>0.34</td>\n      <td>0.04</td>\n      <td>0.04</td>\n      <td>0.04</td>\n      <td>0.54</td>\n      <td>4</td>\n    </tr>\n    <tr>\n      <th>Doc5</th>\n      <td>0.42</td>\n      <td>0.35</td>\n      <td>0.07</td>\n      <td>0.07</td>\n      <td>0.08</td>\n      <td>0</td>\n    </tr>\n    <tr>\n      <th>Doc6</th>\n      <td>0.07</td>\n      <td>0.06</td>\n      <td>0.06</td>\n      <td>0.74</td>\n      <td>0.06</td>\n      <td>3</td>\n    </tr>\n    <tr>\n      <th>Doc7</th>\n      <td>0.06</td>\n      <td>0.75</td>\n      <td>0.06</td>\n      <td>0.06</td>\n      <td>0.06</td>\n      <td>1</td>\n    </tr>\n    <tr>\n      <th>Doc8</th>\n      <td>0.19</td>\n      <td>0.04</td>\n      <td>0.04</td>\n      <td>0.05</td>\n      <td>0.67</td>\n      <td>4</td>\n    </tr>\n    <tr>\n      <th>Doc9</th>\n      <td>0.06</td>\n      <td>0.76</td>\n      <td>0.06</td>\n      <td>0.06</td>\n      <td>0.06</td>\n      <td>1</td>\n    </tr>\n  </tbody>\n</table>\n</div>"
     },
     "metadata": {},
     "execution_count": 30
    }
   ],
   "source": [
    "# column names\n",
    "topic_names = [\"Topic\" + str(i) for i in range(lda.n_components)]\n",
    "\n",
    "# index names\n",
    "doc_names = [\"Doc\" + str(i) for i in range(len(data))]\n",
    "\n",
    "df_document_topic = pd.DataFrame(np.round(lda_output, 2), columns=topic_names, index=doc_names)\n",
    "\n",
    "# get dominant topic for each document\n",
    "topic = np.argmax(df_document_topic.values, axis=1)\n",
    "df_document_topic['topic'] = topic\n",
    "\n",
    "df_document_topic.head(10)"
   ]
  },
  {
   "cell_type": "code",
   "execution_count": 31,
   "metadata": {},
   "outputs": [
    {
     "output_type": "execute_result",
     "data": {
      "text/plain": [
       "   topic\n",
       "4    286\n",
       "0    264\n",
       "2    184\n",
       "3    144\n",
       "1    122"
      ],
      "text/html": "<div>\n<style scoped>\n    .dataframe tbody tr th:only-of-type {\n        vertical-align: middle;\n    }\n\n    .dataframe tbody tr th {\n        vertical-align: top;\n    }\n\n    .dataframe thead th {\n        text-align: right;\n    }\n</style>\n<table border=\"1\" class=\"dataframe\">\n  <thead>\n    <tr style=\"text-align: right;\">\n      <th></th>\n      <th>topic</th>\n    </tr>\n  </thead>\n  <tbody>\n    <tr>\n      <th>4</th>\n      <td>286</td>\n    </tr>\n    <tr>\n      <th>0</th>\n      <td>264</td>\n    </tr>\n    <tr>\n      <th>2</th>\n      <td>184</td>\n    </tr>\n    <tr>\n      <th>3</th>\n      <td>144</td>\n    </tr>\n    <tr>\n      <th>1</th>\n      <td>122</td>\n    </tr>\n  </tbody>\n</table>\n</div>"
     },
     "metadata": {},
     "execution_count": 31
    }
   ],
   "source": [
    "df_document_topic['topic'].value_counts().to_frame()"
   ]
  },
  {
   "cell_type": "code",
   "execution_count": 32,
   "metadata": {},
   "outputs": [
    {
     "output_type": "stream",
     "name": "stdout",
     "text": [
      "[[3.10651875 7.69098592 0.2028007  ... 3.77848758 9.55927807 0.20230091]\n [0.21480102 0.20074283 0.20391624 ... 0.20315714 0.79022789 1.83273785]\n [0.74009549 0.20038263 0.20039804 ... 0.20035712 0.20097032 0.21939375]\n [0.72505013 0.20055606 1.03938666 ... 0.5083148  2.38676256 2.1762812 ]\n [0.30886169 0.20309538 1.90725344 ... 2.24538065 3.12414896 8.16639176]]\n"
     ]
    },
    {
     "output_type": "execute_result",
     "data": {
      "text/plain": [
       "             abl   absolut     accur    actual    adjust     alarm   alreadi  \\\n",
       "Topic0  3.106519  7.690986  0.202801  0.818268  2.356015  2.698626  0.201529   \n",
       "Topic1  0.214801  0.200743  0.203916  0.200931  0.202409  1.402577  0.203951   \n",
       "Topic2  0.740095  0.200383  0.200398  0.200488  0.695155  0.202205  3.015077   \n",
       "Topic3  0.725050  0.200556  1.039387  1.729957  0.202750  1.428277  0.200266   \n",
       "Topic4  0.308862  0.203095  1.907253  2.906753  2.836842  0.208726  2.142546   \n",
       "\n",
       "           alway      amaz    amazon  ...    weight      went       wife  \\\n",
       "Topic0  0.202470  9.960818  0.201567  ...  0.203156  0.200473   0.202470   \n",
       "Topic1  1.613821  0.201364  2.384100  ...  0.200211  0.201110   0.201230   \n",
       "Topic2  0.202811  0.200807  0.222590  ...  0.201264  0.200650   0.200422   \n",
       "Topic3  0.274974  0.200993  0.201588  ...  1.190325  0.202343  11.836279   \n",
       "Topic4  2.545928  0.204852  3.792695  ...  3.923407  2.912599   0.201997   \n",
       "\n",
       "            wind      wish       work      worn     worth     wrist      year  \n",
       "Topic0  0.205469  0.946679   0.428263  1.595219  3.778488  9.559278  0.202301  \n",
       "Topic1  1.725259  1.025212   3.603270  0.300744  0.203157  0.790228  1.832738  \n",
       "Topic2  0.201104  0.200242  27.377240  0.200090  0.200357  0.200970  0.219394  \n",
       "Topic3  1.876613  0.200635   1.535448  0.200207  0.508315  2.386763  2.176281  \n",
       "Topic4  0.225264  2.197740   8.117446  1.906833  2.245381  3.124149  8.166392  \n",
       "\n",
       "[5 rows x 239 columns]"
      ],
      "text/html": "<div>\n<style scoped>\n    .dataframe tbody tr th:only-of-type {\n        vertical-align: middle;\n    }\n\n    .dataframe tbody tr th {\n        vertical-align: top;\n    }\n\n    .dataframe thead th {\n        text-align: right;\n    }\n</style>\n<table border=\"1\" class=\"dataframe\">\n  <thead>\n    <tr style=\"text-align: right;\">\n      <th></th>\n      <th>abl</th>\n      <th>absolut</th>\n      <th>accur</th>\n      <th>actual</th>\n      <th>adjust</th>\n      <th>alarm</th>\n      <th>alreadi</th>\n      <th>alway</th>\n      <th>amaz</th>\n      <th>amazon</th>\n      <th>...</th>\n      <th>weight</th>\n      <th>went</th>\n      <th>wife</th>\n      <th>wind</th>\n      <th>wish</th>\n      <th>work</th>\n      <th>worn</th>\n      <th>worth</th>\n      <th>wrist</th>\n      <th>year</th>\n    </tr>\n  </thead>\n  <tbody>\n    <tr>\n      <th>Topic0</th>\n      <td>3.106519</td>\n      <td>7.690986</td>\n      <td>0.202801</td>\n      <td>0.818268</td>\n      <td>2.356015</td>\n      <td>2.698626</td>\n      <td>0.201529</td>\n      <td>0.202470</td>\n      <td>9.960818</td>\n      <td>0.201567</td>\n      <td>...</td>\n      <td>0.203156</td>\n      <td>0.200473</td>\n      <td>0.202470</td>\n      <td>0.205469</td>\n      <td>0.946679</td>\n      <td>0.428263</td>\n      <td>1.595219</td>\n      <td>3.778488</td>\n      <td>9.559278</td>\n      <td>0.202301</td>\n    </tr>\n    <tr>\n      <th>Topic1</th>\n      <td>0.214801</td>\n      <td>0.200743</td>\n      <td>0.203916</td>\n      <td>0.200931</td>\n      <td>0.202409</td>\n      <td>1.402577</td>\n      <td>0.203951</td>\n      <td>1.613821</td>\n      <td>0.201364</td>\n      <td>2.384100</td>\n      <td>...</td>\n      <td>0.200211</td>\n      <td>0.201110</td>\n      <td>0.201230</td>\n      <td>1.725259</td>\n      <td>1.025212</td>\n      <td>3.603270</td>\n      <td>0.300744</td>\n      <td>0.203157</td>\n      <td>0.790228</td>\n      <td>1.832738</td>\n    </tr>\n    <tr>\n      <th>Topic2</th>\n      <td>0.740095</td>\n      <td>0.200383</td>\n      <td>0.200398</td>\n      <td>0.200488</td>\n      <td>0.695155</td>\n      <td>0.202205</td>\n      <td>3.015077</td>\n      <td>0.202811</td>\n      <td>0.200807</td>\n      <td>0.222590</td>\n      <td>...</td>\n      <td>0.201264</td>\n      <td>0.200650</td>\n      <td>0.200422</td>\n      <td>0.201104</td>\n      <td>0.200242</td>\n      <td>27.377240</td>\n      <td>0.200090</td>\n      <td>0.200357</td>\n      <td>0.200970</td>\n      <td>0.219394</td>\n    </tr>\n    <tr>\n      <th>Topic3</th>\n      <td>0.725050</td>\n      <td>0.200556</td>\n      <td>1.039387</td>\n      <td>1.729957</td>\n      <td>0.202750</td>\n      <td>1.428277</td>\n      <td>0.200266</td>\n      <td>0.274974</td>\n      <td>0.200993</td>\n      <td>0.201588</td>\n      <td>...</td>\n      <td>1.190325</td>\n      <td>0.202343</td>\n      <td>11.836279</td>\n      <td>1.876613</td>\n      <td>0.200635</td>\n      <td>1.535448</td>\n      <td>0.200207</td>\n      <td>0.508315</td>\n      <td>2.386763</td>\n      <td>2.176281</td>\n    </tr>\n    <tr>\n      <th>Topic4</th>\n      <td>0.308862</td>\n      <td>0.203095</td>\n      <td>1.907253</td>\n      <td>2.906753</td>\n      <td>2.836842</td>\n      <td>0.208726</td>\n      <td>2.142546</td>\n      <td>2.545928</td>\n      <td>0.204852</td>\n      <td>3.792695</td>\n      <td>...</td>\n      <td>3.923407</td>\n      <td>2.912599</td>\n      <td>0.201997</td>\n      <td>0.225264</td>\n      <td>2.197740</td>\n      <td>8.117446</td>\n      <td>1.906833</td>\n      <td>2.245381</td>\n      <td>3.124149</td>\n      <td>8.166392</td>\n    </tr>\n  </tbody>\n</table>\n<p>5 rows × 239 columns</p>\n</div>"
     },
     "metadata": {},
     "execution_count": 32
    }
   ],
   "source": [
    "# topic word matrix\n",
    "print(lda.components_)\n",
    "# topic-word matrix\n",
    "df_topic_words = pd.DataFrame(lda.components_)\n",
    "\n",
    "# column and index\n",
    "df_topic_words.columns = tfidf_model.get_feature_names()\n",
    "df_topic_words.index = topic_names\n",
    "\n",
    "df_topic_words.head()"
   ]
  },
  {
   "cell_type": "code",
   "execution_count": 33,
   "metadata": {},
   "outputs": [
    {
     "output_type": "execute_result",
     "data": {
      "text/plain": [
       "        Word 0  Word 1   Word 2   Word 3  Word 4 Word 5 Word 6   Word 7  \\\n",
       "Topic 0   love  beauti  perfect     look  pretti   nice   band     amaz   \n",
       "Topic 1   like     use    excel      buy    look  style  watch  qualiti   \n",
       "Topic 2   good    nice     work  product  expect  price  excel  qualiti   \n",
       "Topic 3  great    look     wife     love    feel   time   need      bad   \n",
       "Topic 4   time    band      day    light  awesom   wear   hand     look   \n",
       "\n",
       "         Word 8    Word 9 Word 10  Word 11     Word 12  Word 13    Word 14  \n",
       "Topic 0    size    realli   wrist     gift       small      fit     bought  \n",
       "Topic 1   strap       big    dial    great     invicta   review  recommend  \n",
       "Topic 2  seller  deliveri   thank     fast       pleas     week       stop  \n",
       "Topic 3    deal     cheap    want    money      return  comfort       like  \n",
       "Topic 4   month     color    love  batteri  compliment   second       like  "
      ],
      "text/html": "<div>\n<style scoped>\n    .dataframe tbody tr th:only-of-type {\n        vertical-align: middle;\n    }\n\n    .dataframe tbody tr th {\n        vertical-align: top;\n    }\n\n    .dataframe thead th {\n        text-align: right;\n    }\n</style>\n<table border=\"1\" class=\"dataframe\">\n  <thead>\n    <tr style=\"text-align: right;\">\n      <th></th>\n      <th>Word 0</th>\n      <th>Word 1</th>\n      <th>Word 2</th>\n      <th>Word 3</th>\n      <th>Word 4</th>\n      <th>Word 5</th>\n      <th>Word 6</th>\n      <th>Word 7</th>\n      <th>Word 8</th>\n      <th>Word 9</th>\n      <th>Word 10</th>\n      <th>Word 11</th>\n      <th>Word 12</th>\n      <th>Word 13</th>\n      <th>Word 14</th>\n    </tr>\n  </thead>\n  <tbody>\n    <tr>\n      <th>Topic 0</th>\n      <td>love</td>\n      <td>beauti</td>\n      <td>perfect</td>\n      <td>look</td>\n      <td>pretti</td>\n      <td>nice</td>\n      <td>band</td>\n      <td>amaz</td>\n      <td>size</td>\n      <td>realli</td>\n      <td>wrist</td>\n      <td>gift</td>\n      <td>small</td>\n      <td>fit</td>\n      <td>bought</td>\n    </tr>\n    <tr>\n      <th>Topic 1</th>\n      <td>like</td>\n      <td>use</td>\n      <td>excel</td>\n      <td>buy</td>\n      <td>look</td>\n      <td>style</td>\n      <td>watch</td>\n      <td>qualiti</td>\n      <td>strap</td>\n      <td>big</td>\n      <td>dial</td>\n      <td>great</td>\n      <td>invicta</td>\n      <td>review</td>\n      <td>recommend</td>\n    </tr>\n    <tr>\n      <th>Topic 2</th>\n      <td>good</td>\n      <td>nice</td>\n      <td>work</td>\n      <td>product</td>\n      <td>expect</td>\n      <td>price</td>\n      <td>excel</td>\n      <td>qualiti</td>\n      <td>seller</td>\n      <td>deliveri</td>\n      <td>thank</td>\n      <td>fast</td>\n      <td>pleas</td>\n      <td>week</td>\n      <td>stop</td>\n    </tr>\n    <tr>\n      <th>Topic 3</th>\n      <td>great</td>\n      <td>look</td>\n      <td>wife</td>\n      <td>love</td>\n      <td>feel</td>\n      <td>time</td>\n      <td>need</td>\n      <td>bad</td>\n      <td>deal</td>\n      <td>cheap</td>\n      <td>want</td>\n      <td>money</td>\n      <td>return</td>\n      <td>comfort</td>\n      <td>like</td>\n    </tr>\n    <tr>\n      <th>Topic 4</th>\n      <td>time</td>\n      <td>band</td>\n      <td>day</td>\n      <td>light</td>\n      <td>awesom</td>\n      <td>wear</td>\n      <td>hand</td>\n      <td>look</td>\n      <td>month</td>\n      <td>color</td>\n      <td>love</td>\n      <td>batteri</td>\n      <td>compliment</td>\n      <td>second</td>\n      <td>like</td>\n    </tr>\n  </tbody>\n</table>\n</div>"
     },
     "metadata": {},
     "execution_count": 33
    }
   ],
   "source": [
    "# print top n keywords for each topic\n",
    "def print_topic_words(tfidf_model, lda_model, n_words):\n",
    "    words = np.array(tfidf_model.get_feature_names())\n",
    "    topic_words = []\n",
    "    # for each topic, we have words weight\n",
    "    for topic_words_weights in lda_model.components_:\n",
    "        top_words = topic_words_weights.argsort()[::-1][:n_words]\n",
    "        topic_words.append(words.take(top_words))\n",
    "    return topic_words\n",
    "\n",
    "topic_keywords = print_topic_words(tfidf_model=tfidf_model, lda_model=lda, n_words=15)        \n",
    "\n",
    "df_topic_words = pd.DataFrame(topic_keywords)\n",
    "df_topic_words.columns = ['Word '+str(i) for i in range(df_topic_words.shape[1])]\n",
    "df_topic_words.index = ['Topic '+str(i) for i in range(df_topic_words.shape[0])]\n",
    "df_topic_words"
   ]
  },
  {
   "cell_type": "code",
   "execution_count": null,
   "metadata": {},
   "outputs": [],
   "source": []
  }
 ]
}