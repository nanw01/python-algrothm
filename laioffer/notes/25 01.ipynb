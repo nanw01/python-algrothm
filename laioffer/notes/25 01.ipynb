{
 "metadata": {
  "language_info": {
   "codemirror_mode": {
    "name": "ipython",
    "version": 3
   },
   "file_extension": ".py",
   "mimetype": "text/x-python",
   "name": "python",
   "nbconvert_exporter": "python",
   "pygments_lexer": "ipython3",
   "version": "3.8.5-final"
  },
  "orig_nbformat": 2,
  "kernelspec": {
   "name": "python3",
   "display_name": "Python 3",
   "language": "python"
  }
 },
 "nbformat": 4,
 "nbformat_minor": 2,
 "cells": [
  {
   "source": [
    "# load data"
   ],
   "cell_type": "code",
   "metadata": {},
   "execution_count": null,
   "outputs": []
  },
  {
   "cell_type": "code",
   "execution_count": 1,
   "metadata": {},
   "outputs": [
    {
     "output_type": "stream",
     "name": "stderr",
     "text": [
      "[nltk_data] Downloading package punkt to /home/nanwang/nltk_data...\n[nltk_data]   Package punkt is already up-to-date!\n[nltk_data] Downloading package stopwords to\n[nltk_data]     /home/nanwang/nltk_data...\n[nltk_data]   Package stopwords is already up-to-date!\n"
     ]
    },
    {
     "output_type": "execute_result",
     "data": {
      "text/plain": [
       "True"
      ]
     },
     "metadata": {},
     "execution_count": 1
    }
   ],
   "source": [
    "# 首先加载依赖包\n",
    "import pandas as pd\n",
    "import numpy as np\n",
    "import matplotlib.pyplot as plt\n",
    "\n",
    "from sklearn.feature_extraction.text import TfidfVectorizer\n",
    "import nltk\n",
    "\n",
    "nltk.download('punkt')\n",
    "nltk.download('stopwords') \n"
   ]
  },
  {
   "cell_type": "code",
   "execution_count": 2,
   "metadata": {},
   "outputs": [
    {
     "output_type": "stream",
     "name": "stderr",
     "text": [
      "b'Skipping line 8704: expected 15 fields, saw 22\\nSkipping line 16933: expected 15 fields, saw 22\\nSkipping line 23726: expected 15 fields, saw 22\\n'\n",
      "b'Skipping line 85637: expected 15 fields, saw 22\\n'\n",
      "b'Skipping line 132136: expected 15 fields, saw 22\\nSkipping line 158070: expected 15 fields, saw 22\\nSkipping line 166007: expected 15 fields, saw 22\\nSkipping line 171877: expected 15 fields, saw 22\\nSkipping line 177756: expected 15 fields, saw 22\\nSkipping line 181773: expected 15 fields, saw 22\\nSkipping line 191085: expected 15 fields, saw 22\\nSkipping line 196273: expected 15 fields, saw 22\\nSkipping line 196331: expected 15 fields, saw 22\\n'\n",
      "b'Skipping line 197000: expected 15 fields, saw 22\\nSkipping line 197011: expected 15 fields, saw 22\\nSkipping line 197432: expected 15 fields, saw 22\\nSkipping line 208016: expected 15 fields, saw 22\\nSkipping line 214110: expected 15 fields, saw 22\\nSkipping line 244328: expected 15 fields, saw 22\\nSkipping line 248519: expected 15 fields, saw 22\\nSkipping line 254936: expected 15 fields, saw 22\\n'\n",
      "b'Skipping line 272057: expected 15 fields, saw 22\\nSkipping line 293214: expected 15 fields, saw 22\\nSkipping line 310507: expected 15 fields, saw 22\\nSkipping line 312306: expected 15 fields, saw 22\\nSkipping line 316296: expected 15 fields, saw 22\\n'\n",
      "b'Skipping line 336028: expected 15 fields, saw 22\\nSkipping line 344885: expected 15 fields, saw 22\\nSkipping line 352551: expected 15 fields, saw 22\\n'\n",
      "b'Skipping line 408773: expected 15 fields, saw 22\\nSkipping line 434535: expected 15 fields, saw 22\\n'\n",
      "b'Skipping line 581593: expected 15 fields, saw 22\\n'\n",
      "b'Skipping line 652409: expected 15 fields, saw 22\\n'\n"
     ]
    }
   ],
   "source": [
    "df = pd.read_csv('/home/nanwang/github/python-algrothm/python-algrothm/laioffer/notes/watch_reviews.tsv',sep='\\t', error_bad_lines=False)"
   ]
  },
  {
   "cell_type": "code",
   "execution_count": 4,
   "metadata": {},
   "outputs": [
    {
     "output_type": "execute_result",
     "data": {
      "text/plain": [
       "  marketplace  customer_id       review_id  product_id  product_parent  \\\n",
       "0          US      3653882  R3O9SGZBVQBV76  B00FALQ1ZC       937001370   \n",
       "1          US     14661224   RKH8BNC3L5DLF  B00D3RGO20       484010722   \n",
       "2          US     27324930  R2HLE8WKZSU3NL  B00DKYC7TK       361166390   \n",
       "3          US      7211452  R31U3UH5AZ42LL  B000EQS1JW       958035625   \n",
       "4          US     12733322  R2SV659OUJ945Y  B00A6GFD7S       765328221   \n",
       "\n",
       "                                       product_title product_category  \\\n",
       "0  Invicta Women's 15150 \"Angel\" 18k Yellow Gold ...          Watches   \n",
       "1  Kenneth Cole New York Women's KC4944 Automatic...          Watches   \n",
       "2  Ritche 22mm Black Stainless Steel Bracelet Wat...          Watches   \n",
       "3  Citizen Men's BM8180-03E Eco-Drive Stainless S...          Watches   \n",
       "4  Orient ER27009B Men's Symphony Automatic Stain...          Watches   \n",
       "\n",
       "   star_rating  helpful_votes  total_votes vine verified_purchase  \\\n",
       "0            5              0            0    N                 Y   \n",
       "1            5              0            0    N                 Y   \n",
       "2            2              1            1    N                 Y   \n",
       "3            5              0            0    N                 Y   \n",
       "4            4              0            0    N                 Y   \n",
       "\n",
       "                              review_headline  \\\n",
       "0                                  Five Stars   \n",
       "1  I love thiswatch it keeps time wonderfully   \n",
       "2                                   Two Stars   \n",
       "3                                  Five Stars   \n",
       "4    Beautiful face, but cheap sounding links   \n",
       "\n",
       "                                         review_body review_date  \n",
       "0  Absolutely love this watch! Get compliments al...  2015-08-31  \n",
       "1       I love this watch it keeps time wonderfully.  2015-08-31  \n",
       "2                                          Scratches  2015-08-31  \n",
       "3  It works well on me. However, I found cheaper ...  2015-08-31  \n",
       "4  Beautiful watch face.  The band looks nice all...  2015-08-31  "
      ],
      "text/html": "<div>\n<style scoped>\n    .dataframe tbody tr th:only-of-type {\n        vertical-align: middle;\n    }\n\n    .dataframe tbody tr th {\n        vertical-align: top;\n    }\n\n    .dataframe thead th {\n        text-align: right;\n    }\n</style>\n<table border=\"1\" class=\"dataframe\">\n  <thead>\n    <tr style=\"text-align: right;\">\n      <th></th>\n      <th>marketplace</th>\n      <th>customer_id</th>\n      <th>review_id</th>\n      <th>product_id</th>\n      <th>product_parent</th>\n      <th>product_title</th>\n      <th>product_category</th>\n      <th>star_rating</th>\n      <th>helpful_votes</th>\n      <th>total_votes</th>\n      <th>vine</th>\n      <th>verified_purchase</th>\n      <th>review_headline</th>\n      <th>review_body</th>\n      <th>review_date</th>\n    </tr>\n  </thead>\n  <tbody>\n    <tr>\n      <th>0</th>\n      <td>US</td>\n      <td>3653882</td>\n      <td>R3O9SGZBVQBV76</td>\n      <td>B00FALQ1ZC</td>\n      <td>937001370</td>\n      <td>Invicta Women's 15150 \"Angel\" 18k Yellow Gold ...</td>\n      <td>Watches</td>\n      <td>5</td>\n      <td>0</td>\n      <td>0</td>\n      <td>N</td>\n      <td>Y</td>\n      <td>Five Stars</td>\n      <td>Absolutely love this watch! Get compliments al...</td>\n      <td>2015-08-31</td>\n    </tr>\n    <tr>\n      <th>1</th>\n      <td>US</td>\n      <td>14661224</td>\n      <td>RKH8BNC3L5DLF</td>\n      <td>B00D3RGO20</td>\n      <td>484010722</td>\n      <td>Kenneth Cole New York Women's KC4944 Automatic...</td>\n      <td>Watches</td>\n      <td>5</td>\n      <td>0</td>\n      <td>0</td>\n      <td>N</td>\n      <td>Y</td>\n      <td>I love thiswatch it keeps time wonderfully</td>\n      <td>I love this watch it keeps time wonderfully.</td>\n      <td>2015-08-31</td>\n    </tr>\n    <tr>\n      <th>2</th>\n      <td>US</td>\n      <td>27324930</td>\n      <td>R2HLE8WKZSU3NL</td>\n      <td>B00DKYC7TK</td>\n      <td>361166390</td>\n      <td>Ritche 22mm Black Stainless Steel Bracelet Wat...</td>\n      <td>Watches</td>\n      <td>2</td>\n      <td>1</td>\n      <td>1</td>\n      <td>N</td>\n      <td>Y</td>\n      <td>Two Stars</td>\n      <td>Scratches</td>\n      <td>2015-08-31</td>\n    </tr>\n    <tr>\n      <th>3</th>\n      <td>US</td>\n      <td>7211452</td>\n      <td>R31U3UH5AZ42LL</td>\n      <td>B000EQS1JW</td>\n      <td>958035625</td>\n      <td>Citizen Men's BM8180-03E Eco-Drive Stainless S...</td>\n      <td>Watches</td>\n      <td>5</td>\n      <td>0</td>\n      <td>0</td>\n      <td>N</td>\n      <td>Y</td>\n      <td>Five Stars</td>\n      <td>It works well on me. However, I found cheaper ...</td>\n      <td>2015-08-31</td>\n    </tr>\n    <tr>\n      <th>4</th>\n      <td>US</td>\n      <td>12733322</td>\n      <td>R2SV659OUJ945Y</td>\n      <td>B00A6GFD7S</td>\n      <td>765328221</td>\n      <td>Orient ER27009B Men's Symphony Automatic Stain...</td>\n      <td>Watches</td>\n      <td>4</td>\n      <td>0</td>\n      <td>0</td>\n      <td>N</td>\n      <td>Y</td>\n      <td>Beautiful face, but cheap sounding links</td>\n      <td>Beautiful watch face.  The band looks nice all...</td>\n      <td>2015-08-31</td>\n    </tr>\n  </tbody>\n</table>\n</div>"
     },
     "metadata": {},
     "execution_count": 4
    }
   ],
   "source": [
    "df.head()"
   ]
  },
  {
   "cell_type": "code",
   "execution_count": 6,
   "metadata": {},
   "outputs": [],
   "source": [
    "df.dropna(subset=['review_body'], inplace= True)\n",
    "df.reset_index(inplace=True, drop=True)\n"
   ]
  },
  {
   "cell_type": "code",
   "execution_count": 7,
   "metadata": {},
   "outputs": [
    {
     "output_type": "stream",
     "name": "stdout",
     "text": [
      "<class 'pandas.core.frame.DataFrame'>\nRangeIndex: 960056 entries, 0 to 960055\nData columns (total 15 columns):\n #   Column             Non-Null Count   Dtype \n---  ------             --------------   ----- \n 0   marketplace        960056 non-null  object\n 1   customer_id        960056 non-null  int64 \n 2   review_id          960056 non-null  object\n 3   product_id         960056 non-null  object\n 4   product_parent     960056 non-null  int64 \n 5   product_title      960054 non-null  object\n 6   product_category   960056 non-null  object\n 7   star_rating        960056 non-null  int64 \n 8   helpful_votes      960056 non-null  int64 \n 9   total_votes        960056 non-null  int64 \n 10  vine               960056 non-null  object\n 11  verified_purchase  960056 non-null  object\n 12  review_headline    960049 non-null  object\n 13  review_body        960056 non-null  object\n 14  review_date        960052 non-null  object\ndtypes: int64(5), object(10)\nmemory usage: 109.9+ MB\n"
     ]
    }
   ],
   "source": [
    "df.info()"
   ]
  },
  {
   "cell_type": "code",
   "execution_count": 9,
   "metadata": {},
   "outputs": [],
   "source": [
    "data = df.loc[:999,'review_body'].tolist()"
   ]
  },
  {
   "cell_type": "code",
   "execution_count": 10,
   "metadata": {},
   "outputs": [
    {
     "output_type": "execute_result",
     "data": {
      "text/plain": [
       "f it was going to work well.<br />I'm  saying this because it was  ridiculous low price for the look that this product can give. surprisingly enough this watch works fine. except for the 24 hr  and montly indicators. they are stationary.  i though the metal part wast going to rust and change color, so far it hasn't .<br />good product for that price.\",\n",
       " 'A little small',\n",
       " 'Nice',\n",
       " 'I love it.',\n",
       " 'excellent',\n",
       " 'Excellent watch and very fast delivery.  Very pleased',\n",
       " \"This is a very nice watch. I like to use it when I am working in the garden and in the kitchen. I don't have to worry about having to take it off for dirty work.\",\n",
       " \"This is my second G shock and it's really a cool one. It's a little more expensive than the main line of Gshocks but it more than makes up for it with its appearance. As others have said here, the colors are not pure orange and blue, but a tad washed out. The Japanese special edition has more vibrant color. I knew this before hand and chose this version as I think the colors stand out enough already to the point where you can't avoid seeing it and to go further would be a little obnoxious. It's big and colorful so it works well in places like dark bars, clubs, or anywhere else at night that isn't very dressy. The yellow roller on the side is a little overpowering on the watch but it adds a little childish character to the watch. It looks like something out of a cartoon or perhaps a nerf produce or a late 80s, early 90s watch. I will wear this over my Rolex when I'm out at night just because the colors can keep. Good buy and will easily last at least a decade like most Gshocks do.\",\n",
       " 'Really beautiful.......',\n",
       " \"I bought this watch May of 2013 to use before my deployment with the army to Afghanistan. This watch is still going strong. It also looks great; not too big like some other G- Shocks I've been, and it looks more subtle than the others, which I like. I don't like the other flashy looking ones.  My younger brother is in need of a watch for cross country and am buying this one once again. Great watch, I highly recommend it!\",\n",
       " 'These have worked nicely so far.',\n",
       " \"Took about a month to get here, but it's worth the wait. I've gotten a lot of compliments on it and it even glows in the dark :)\",\n",
       " 'Very disappointed with this watch, does not work.  I removed the pin and set the time and the hands never moved.',\n",
       " 'Excellent watch! Does all I need it to do. Use the stopwatch often. Also temperature function. All easy to access and fairly easy to operate. Complicated! Just what I wanted for years.',\n",
       " 'Bought this watch for my Fiance birthday and he loved it. The watch looks so much better in person. The leather band is very well made and thick. The watch itself is great.',\n",
       " \"beautiful appearance I bought for my wife's 25th anniversary and it is worth the money\",\n",
       " 'Really nice and sleek looking watch. The style and look is very unique and is very durable. This face of the watch looks very chic. Good value for the price. I have made this my every day watch, i wear it to work, a night on the town or a nice wedding it looks good in every situation. It is a very comfortable fit I would highly recommend this watch to anyone looking for a good quality watch. This is already my second tmbr watch purchase and these watches have not given me any issues. Pick one up, you wont regret it.',\n",
       " \"It's very nice and exactly what I expected. I already had a silver one.\",\n",
       " 'Ilike the look and feel of the watch. it is very easy to operate and I love the auto time setting.',\n",
       " \"I absolutely love this watch. I don't like that the battery died a month after I bought it.\",\n",
       " 'I absolutely love this watch!! Thankfully there was no physical damage to the watch but it was loose in the box like it had just been put in there with limited care. I was a little disappointed when opening the box but thankfully the watch still had its plastic covering on the face to help protect it.  Overall, I was very pleased with the purchase. It even came in the Fossil tin. :)',\n",
       " \"truly the perfect watch....classic in it's appearance, not too bulky, perfect size.\",\n",
       " 'Broke in two weeks',\n",
       " \"I never have to worry about the time again since its an atomic talking watch. Nice big numbers and it even lights up at night! I'll never want to go back to a regular watch again!\",\n",
       " 'Excelent on time its that they offer. Elgant and finest',\n",
       " \"The lid of the box doesn't close properly with my Seiko SSC007 in it.\",\n",
       " 'Love this watch, very simple and straight forward. nothing to distract you when trying to read time.',\n",
       " 'Very nice.',\n",
       " 'Not bad, not great. It takes a little getting accustomed to, though I am not a techie wizard. The only thing I would change is the digital display. It is dim until the light is turned on. It reads the temperature accurately and other functions seem to work well. It needs to have time to take it through my routine.',\n",
       " 'good product original',\n",
       " \"very nice watch as I am an ESQ fan having owned a number of ESQ watches in the past... my favorite ESQ's  though have been and still are their Octane line of watches that they have since discontinued.. the Octane snap clasp rubber watchband is better for my needs than this standard band... this is overall a super nice watch though.. nice large numerals that are easily readable..great crystal quality..  still very happy overall with ESQ-Movado watches .. BTW I just purchased a 2nd one thru Amazon today 2/9/2016\",\n",
       " 'It does the job, however, a timer would be nice.',\n",
       " 'Good',\n",
       " 'Works well',\n",
       " 'have to say originally,  I could not tell the difference between the band that came on my citizen watch and this one. They have the same look, same thickness. This one was advertised as Leather, and while the back portion seems to be leather, the front (the part that everyone sees) is DEFINITELY NOT LEATHER...BUT VERY CHEAP VINYL. It has cracked and split to the point that after less than six weeks, I have to get another watch band. I have included a picture that shows how the band wore out over this time period and proves that it cannot be leather.',\n",
       " \"Needed a battery operated, reliable alarm clock.  This one is easy to read, the alarm is loud enough to wake me, but not jarring or harsh. There's an easy-to-locate button to light the face if you need to take a look during the night.\",\n",
       " 'Its stylish as well as functiones great with quiet mechanism unlike my old Timex. I just wish it had a sweeping second hand option without having to keep the stopwatch feature turned on.',\n",
       " 'Excelent!!!',\n",
       " 'It just wonderful. Best if you want to give as a gift.',\n",
       " 'good',\n",
       " \"This watch looks nice, but it has a nasty tendency to spontaneously stop, because the opening mechanism is at the same location as the time-setting mechanism. I left mine in Philadelphia and didn't feel compelled to go back for it.\",\n",
       " 'My watch stopped working almost right away! Gumball machine quality.',\n",
       " 'Great watch, comfortable, good looking.',\n",
       " 'Nice !!!!!!!!',\n",
       " 'The Only problem is that the strap band looks inferior and is made of a low quality.<br />I just ordered for a new quality stray band replacement.<br />The band kills the beauty of this time piece.',\n",
       " 'I love this watch!! I wanted something casual but nice and inexpensive. These weekenders take a classic look and make it totally versatile but allowing you to easily switch the bands with different styles/colors. :-)',\n",
       " \"I got this watch because I always see  it posted online with rave reviews, so I decided to give it a shot. I didn't like the band initially, but it has come to grow on me. The watch comes with a ton of functions, I don't think I'll use them all except for the indiglo feature. On thing I was happy about was that this watch doesn't have the loud tick that so many Timex watches suffer from. I was able to snag this on sale, but I wouldn't mind paying full retail for this watch. If you are looking for a stylish daily driver, do yourself a favor and get this watch.\",\n",
       " 'fell off apart and i am trying to send it back to company.',\n",
       " '10 points. everything was as expected',\n",
       " 'exactly products',\n",
       " 'Band fell off after wear it a while',\n",
       " 'Thought this watch too big for even me, a large watch lover. I think had the watch itself been somewhat thinner  and the band slightly more narrow I would have kept it as it was a beautiful color. As it was, I returned mine the same day I received it. But for those who love really large face watches, this one is great!',\n",
       " \"This box is beautiful and was a great gift! I took it to a local engraver to have my husband's initials added, which just added to the character. Love this!\",\n",
       " 'GREAT WATCH , VERY COMFORTABLE TO WEAR',\n",
       " 'Having had a Pathfinder for ten(10) years, I am about to get another.  Still operates great(features and solar powered) but is beginning to look its age.  Great for traveling other time zones too!  Not Bonny&#62;&#62;&#62;&#62;J',\n",
       " \"The pictures don't really give you an impression of how big it is. THIS THING IS GIANORMOUS!!! Perfect if you want everyone to know that you are wearing a watch. But not really my style.\",\n",
       " 'That best buy ever',\n",
       " 'very comfortable nice fit goes with everything really glad I purchased like it a lot',\n",
       " 'Great watch.',\n",
       " 'The product as per the shipping agreement. The watch was packaged well. The only problem was the battery was just about dead. I had to send the watch to Nixon to have the battery replaced.',\n",
       " 'you get what you pay for.  not the best quality.  would not buy again.',\n",
       " \"If you're looking for a stylish and heavy-duty watch with an analog readout, check out Swiss Legends.  This watch has the same look as what you would see on James Bond.  Extremely heavy-duty, but stylish at the same time (no laser beams or decoders included that I know of though).<br /><br />I've had a number of watches, but this one is by far the heaviest I've ever owned (not just heavy duty, but it physically weighs a lot).  So if you like the feeling of knowing you have the watch on your arm, then this is a great option.<br /><br />The readout has a lot of settings.  There are stopwatch capabilities, including lap timer, multiple different time zone readout options, and date.<br /><br />It does take a bit of time (no pun intended) to learn how to use this sophisticated watch.  But once you learn the basics, it is fairly intuitive.<br /><br />Be sure you get the chronograph version (unless you enjoy regularly winding the watch, or you're prepping for an EMC and you want a watch that won't stop working).<br /><br />The only notable downside - the many readouts, and the instruction manual, are tiny.  My eyes are starting to go and I can really only read the &#34;big hand, little hand&#34; parts without the aid of eyeglasses.  Even the date is too tiny for me to read without eyeglasses.  So one star removed because of my aging eyes.<br /><br />Also, unless your wrist exactly fits this watch, you'll likely be taking it to a jeweler to get a link or two removed in order to size it for your wrist (but that's the case with any high-end watch).\",\n",
       " 'this watch so far has been really nice. it fits comfortably, not big and bulky, easy to use perfect for work',\n",
       " \"this watch performs all the functions I need it to have it perform. It is inexpensive and durable. I'll buy another one when this one breaks.\",\n",
       " 'very good',\n",
       " \"It's just like in the picture but would have appreciated if they offered wrist sizing\",\n",
       " \"Not sure if it's even genuine. This watch can pass 12 two or three times before the date will change.\",\n",
       " 'Looks great and good quality.',\n",
       " 'Metal feels kinda cheap, but watch looks great.',\n",
       " 'Have used it several times.  Works great!',\n",
       " 'hard to set time, etc. Even with the instructions was unable to set it.  Nice looking though',\n",
       " 'Love this watch. Face is easy to read and not too big on my wrist. Leather band is beautiful shade of blue and comfortable as well. Thanks for a great value.',\n",
       " 'I like the style and fit but the clasp is installed backwards, it makes it difficult to clasp yourself so you have the have the made in china face outwards instead of Akribos.',\n",
       " 'Looks sharp! The face is a bit big for my liking but my husband loves it and it was a great value for a nice &#34;dress watch&#34;.',\n",
       " \"I've just received this watch 4 days ago and when I press the light buttom it goes like crazy, changing light colors and it doesn't stop.<br />I set the time and just one day after it had 45 minutes behind real time.  So, It definitely has a serious quality problem!<br />So, It's just a waste of money!\",\n",
       " \"This is a cool looking watch without going too far, the stainless steel case is well machined and solid, the offset 10 O'Clock crown is knurled making it easy to grip while adjusting. A Sapphire Crystal is strong preventing scratches much better than mineral glass that you'l find in many watches in this price range.  This watch comes in a shaped ballistic nylon case that zips the clam shell case closed keeping your watch safe when not being worn. The second hand extends the full 12 to 6 O'clock length, half of the second hand is red so its easy to keep track of. The ribbed soft rubber strap is light and comfortable, its shaped at the contact points helping to keep it from rolling around on your wrist. No rubber smell emitting from this strap. The hour and minuet hands have blue/Green luminous markers, they hold a good glow for longer than most showing Oakley cared about the details.\",\n",
       " 'I used a push pin to remove links from the band, which was very easy. Light weight overall. You can definitely hear the second hand tick, but this is not a problem for me.',\n",
       " \"She likes the appearances, the fit and the feel time will tell if it's a fantastic watch.\",\n",
       " \"i have just received my hilfiger men's watch. it is perfect except that i cannot get instruction anywhere`order no. 701-2002682=7454662  it is a<br />tommy hilfiger men's 1710337.  please. i know that i am no quite in the rightn dept.\",\n",
       " 'The watch is beautiful! I love it',\n",
       " 'Very pleased.  Beautiful watch and very fast delivery.',\n",
       " 'Package arrived in time, product is excellent clock is working but a bit bigger than indicated in the picture, overall satisfied with the transaction.',\n",
       " \"I've had itcsbout a month now & like it.  It was just as represented, is attractive and keeping good tome.\",\n",
       " 'Stamp is incorrect on backside. It is reversed, so can tell it is a remake. It is still very nice though.',\n",
       " 'Beautiful - love it!',\n",
       " \"It's a good watch for the price. The watch band broke already, just popped apart.\",\n",
       " 'It stoped working 3 days after arriving...',\n",
       " 'very very nice finish , fast and easy to adjust !',\n",
       " \"I just loved it.. it's glass so you have to keep it clean from top and bottom but it worth it.\",\n",
       " \"This is truly a magnificent watch.. it's a quartz movement watch but the quality is incredibly. Pictures don't do justice to it. A great watch for this price.\",\n",
       " 'Beautiful workmanship.  Chimes have volume control, so can be tuned to a room.  Good purchase.',\n",
       " 'Metal feels kinda cheap, but watch looks great.',\n",
       " 'Great looking, stylish very comfortable',\n",
       " \"I got it in a black plastic bag covered in tape. It doesn't tell the time. Its about a half second slow. It confused me for half the day. Also the strap broke as I first put it on. The gem stones instide the watch fell off on that one day I wore it. I guess it makes a good maraca...\",\n",
       " 'works well, it is a bit difficult to program without the manual.',\n",
       " 'Very nice and quiet',\n",
       " \"I love this watch! It's so unique and I've gotten lots of compliments.<br /><br />Initially after ordering, I got a quick email with a shipping confirmation, and received the watch a few days later. It shipped inside a nifty little suede pouch with a button fastener, and I use it as a place to set my watch on my nightstand.  After I got it the first day and did a quick inspection, the watch was flawless with a really nice rose gold finish. The wood dial is stunning with the tmbr logo very tiny and understated. The crown clicks in and out precisely, and overall the watch feels like precision workmanship.<br /><br />The band is nice supple leather that breathes quite well, even when it's humid outside, and the buckle matches the rose gold watch case perfectly.<br /><br />This is all good news, because I'll probably buy another one. After a week of me wearing it, my wife decided she liked it so much that she claimed it for herself.  She has very tiny wrists, but I have to admit it looks great on her, too.\",\n",
       " 'Received quickly and will make a lovely Christmas gift!',\n",
       " \"It's prank, the worst item I ever bought from Amazon, I got it for my girlfriend on her birthday and withe two months it turns the colors which made me look like s***, wish I could give lower than one star also.\",\n",
       " 'Scrached to easy and if i would have known it was so heavy i would not have bought it.',\n",
       " 'What a gorgeous watch!  I am a nurse and wanted an everyday watch to wear to work with some style.  This is it!  I have received many compliments already!',\n",
       " 'Very good!',\n",
       " \"It's OK,very pretty. It it much too large for me to wear, but would look lovely if you like BIG watches.\",\n",
       " \"Exactly as advertised. It's the real deal. My pathfinder has seen some rough days, and the band was about to go. I expected to have problems with the screws, but aside from having to use knives as screwdrivers, the bolts came out and went back in easily, even though they were badly bent. That's the only downside to this product; it doesn't come with the screws, but it said that in the description. But the band is nice and legit. Nicer than my ratty old watch!\",\n",
       " 'I like it!!',\n",
       " 'Is so cute .love it',\n",
       " 'Excellent value for this watch, for smaller wrist - best purchase price you could find anywhere',\n",
       " 'Awesome watch!!! Love it',\n",
       " 'Just what was shown and ordered.  Delivery etc was good.',\n",
       " 'It is a very nice clock with  sweeping second hand.  We purchased it for our administrative office and it is a very nice addition.',\n",
       " \"Strap too short and I don't have large wrists.  Loops keep migrating.  Other than that it does it's job albeit &#34;snugly&#34;.  For 12 bucks I'm being too fussy.\",\n",
       " 'Great watch',\n",
       " 'Magnifique watch very sturdy very high quality 100% recommend use it everyday',\n",
       " 'a very nice watch for a good price.',\n",
       " \"I received this product at a discount in exchange for an honest review.  Fits the wrist very well and it's a cool watch.  Does not come with any instructions and it's pretty tough to set.\",\n",
       " 'My husband LOVED it😁👍🏽👍🏽👍🏽👍🏽',\n",
       " 'very nice!',\n",
       " \"I like this watch. It's got a retro look to it. I have a skinny wrist so the band is on nearly the tightest notch, but that's ok. The face is big but not overwhelming and the numbers are clear. The date is hard to read, but hey, I'm retired, so who cares what the date is!\",\n",
       " \"Excellent replacement/alternate  watch, considering it's not a &#34;high dollar&#34; model.  I bought it as a back up to my other watch of the same type, and I was surprised to see it has a 10 year battery (didn't think that was possible; will see).  Anyway, the five alarms are nice to have, it looks nice; with decent sized numbers for me (eyesight's not what it used to be).  Nice color.  My other is black and silver this is as pictured, black and blue; which is cool, as I like both colors.  Nifty little inexpensive watch to have.  It includes manual, which the Casio Men's AW80D-1AVCB 10-Year Battery Ana-Digi Bracelet Watch did not, reviewed separately.\",\n",
       " \"I'm late getting to the party, but after discovering Invicta watches I just can't get enough of them. There is a watch for every situation from dress to casual. After acquiring several of these in a short time, I can honestly say that I have not been let down in style or performance. I don't think I'll ever buy another watch that isn't an Invicta!!!!!\",\n",
       " 'Wear it all the time!',\n",
       " 'very good.',\n",
       " 'Watch is exactly as it is shown in the picture..would definitely recommend..',\n",
       " \"Really large on the arm but that's what I wanted - thx!\"]"
      ]
     },
     "metadata": {},
     "execution_count": 10
    }
   ],
   "source": [
    "data"
   ]
  },
  {
   "cell_type": "code",
   "execution_count": null,
   "metadata": {},
   "outputs": [],
   "source": [
    "# tokenizing and stemming\n",
    "stopwords are words which donn't convey significant meaning"
   ]
  },
  {
   "cell_type": "code",
   "execution_count": null,
   "metadata": {},
   "outputs": [],
   "source": [
    "stopwords  = nltk.corpus"
   ]
  }
 ]
}