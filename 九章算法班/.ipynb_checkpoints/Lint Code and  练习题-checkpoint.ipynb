{
 "cells": [
  {
   "cell_type": "code",
   "execution_count": null,
   "metadata": {},
   "outputs": [],
   "source": []
  },
  {
   "cell_type": "code",
   "execution_count": null,
   "metadata": {},
   "outputs": [],
   "source": []
  },
  {
   "cell_type": "code",
   "execution_count": null,
   "metadata": {},
   "outputs": [],
   "source": []
  },
  {
   "cell_type": "code",
   "execution_count": null,
   "metadata": {},
   "outputs": [],
   "source": []
  },
  {
   "cell_type": "code",
   "execution_count": null,
   "metadata": {},
   "outputs": [],
   "source": []
  },
  {
   "cell_type": "markdown",
   "metadata": {},
   "source": [
    "# 2- Breadth First Search"
   ]
  },
  {
   "cell_type": "code",
   "execution_count": null,
   "metadata": {},
   "outputs": [],
   "source": [
    "# 433. 岛屿的个数\n",
    "\n",
    "\n",
    "# Given a boolean 2D matrix, 0 is represented as the sea, 1 is represented as the island. \n",
    "# If two 1 is adjacent, we consider them in the same island. We only consider up/down/left/right adjacent.\n",
    "\n",
    "# Find the number of islands.\n",
    "\n",
    "# Example 1:\n",
    "\n",
    "# Input:\n",
    "# [\n",
    "#   [1,1,0,0,0],\n",
    "#   [0,1,0,0,1],\n",
    "#   [0,0,0,1,1],\n",
    "#   [0,0,0,0,0],\n",
    "#   [0,0,0,0,1]\n",
    "# ]\n",
    "# Output:\n",
    "# 3\n",
    "\n",
    "\n",
    "# Example 2:\n",
    "\n",
    "# Input:\n",
    "# [\n",
    "#   [1,1]\n",
    "# ]\n",
    "# Output:\n",
    "# 1\n",
    "\n"
   ]
  },
  {
   "cell_type": "code",
   "execution_count": null,
   "metadata": {},
   "outputs": [],
   "source": [
    "class Solution:\n",
    "    # @param {boolean[][]} grid a boolean 2D matrix\n",
    "    # @return {int} an integer\n",
    "    def numIslands(self, grid):\n",
    "        # Write your code here\n",
    "        m = len(grid)\n",
    "        if m==0:\n",
    "            return 0\n",
    "        n = len(grid[0])\n",
    "        if  n==0:\n",
    "            return 0\n",
    "        count = 0\n",
    "        for i in range(m):\n",
    "            for j in range(n):\n",
    "                if grid[i][j]==True:\n",
    "                    self.dfs(grid,i,j)\n",
    "                    count +=1\n",
    "        return count\n",
    "    \n",
    "    def dfs(self,grid,i,j):\n",
    "        if i<0 or j<0 or i>=len(grid) or j>=len(grid[0]):\n",
    "            return\n",
    "        if grid[i][j]==True:\n",
    "            grid[i][j]=False\n",
    "            self.dfs(grid,i-1,j)\n",
    "            self.dfs(grid,i+1,j)\n",
    "            self.dfs(grid,i,j-1)\n",
    "            self.dfs(grid,i,j+1)\n",
    "            \n",
    "            \n",
    "            \n"
   ]
  },
  {
   "cell_type": "code",
   "execution_count": null,
   "metadata": {},
   "outputs": [],
   "source": []
  },
  {
   "cell_type": "code",
   "execution_count": null,
   "metadata": {},
   "outputs": [],
   "source": []
  }
 ],
 "metadata": {
  "kernelspec": {
   "display_name": "Python 3",
   "language": "python",
   "name": "python3"
  },
  "language_info": {
   "codemirror_mode": {
    "name": "ipython",
    "version": 3
   },
   "file_extension": ".py",
   "mimetype": "text/x-python",
   "name": "python",
   "nbconvert_exporter": "python",
   "pygments_lexer": "ipython3",
   "version": "3.7.4"
  },
  "toc": {
   "base_numbering": 1,
   "nav_menu": {},
   "number_sections": true,
   "sideBar": true,
   "skip_h1_title": false,
   "title_cell": "Table of Contents",
   "title_sidebar": "Contents",
   "toc_cell": false,
   "toc_position": {},
   "toc_section_display": true,
   "toc_window_display": false
  },
  "varInspector": {
   "cols": {
    "lenName": 16,
    "lenType": 16,
    "lenVar": 40
   },
   "kernels_config": {
    "python": {
     "delete_cmd_postfix": "",
     "delete_cmd_prefix": "del ",
     "library": "var_list.py",
     "varRefreshCmd": "print(var_dic_list())"
    },
    "r": {
     "delete_cmd_postfix": ") ",
     "delete_cmd_prefix": "rm(",
     "library": "var_list.r",
     "varRefreshCmd": "cat(var_dic_list()) "
    }
   },
   "types_to_exclude": [
    "module",
    "function",
    "builtin_function_or_method",
    "instance",
    "_Feature"
   ],
   "window_display": false
  }
 },
 "nbformat": 4,
 "nbformat_minor": 2
}
