{
 "metadata": {
  "language_info": {
   "codemirror_mode": {
    "name": "ipython",
    "version": 3
   },
   "file_extension": ".py",
   "mimetype": "text/x-python",
   "name": "python",
   "nbconvert_exporter": "python",
   "pygments_lexer": "ipython3",
   "version": "3.8.5-final"
  },
  "orig_nbformat": 2,
  "kernelspec": {
   "name": "python3",
   "display_name": "Python 3",
   "language": "python"
  }
 },
 "nbformat": 4,
 "nbformat_minor": 2,
 "cells": [
  {
   "cell_type": "code",
   "execution_count": 2,
   "metadata": {},
   "outputs": [],
   "source": [
    "# import basic packages\n",
    "import pathlib\n",
    "import matplotlib.pyplot as plt\n",
    "import pandas as pd\n",
    "import numpy as np\n",
    "import datetime\n",
    "\n",
    "import yfinance as yf"
   ]
  },
  {
   "cell_type": "code",
   "execution_count": 8,
   "metadata": {},
   "outputs": [
    {
     "output_type": "stream",
     "name": "stdout",
     "text": [
      "[*********************100%***********************]  1 of 1 completed\n",
      "<backtrader.feeds.yahoo.YahooFinanceCSVData object at 0x7f13232da400>\n"
     ]
    },
    {
     "output_type": "execute_result",
     "data": {
      "text/plain": [
       "[<backtrader.feeds.yahoo.YahooFinanceCSVData at 0x7f13232da400>]"
      ]
     },
     "metadata": {},
     "execution_count": 8
    }
   ],
   "source": [
    "\n",
    "tickers = ['TSLA']\n",
    "\n",
    "start_date = '2018-1-1'  # start day for lookback\n",
    "end_date = '2020-1-1'  # end day for lookback\n",
    "\n",
    "ohlc = yf.download(tickers, period=\"max\",start=start_date, end=end_date)\n",
    "ohlc.head()\n",
    "\n",
    "\n",
    "data = bt.feeds.YahooFinanceCSVData(dataname='TSLA.csv') \n",
    "\n",
    "cerebro.adddata(data)\n"
   ]
  },
  {
   "cell_type": "code",
   "execution_count": 16,
   "metadata": {},
   "outputs": [
    {
     "output_type": "stream",
     "name": "stdout",
     "text": [
      "Close: 130.11\nClose: 156.0\nClose: 177.41\nClose: 146.94\nClose: 149.79\nClose: 149.61\nClose: 154.26\nClose: 154.88\nClose: 153.46\nClose: 160.8\nClose: 160.01\nClose: 171.68\nClose: 183.48\nClose: 179.88\nClose: 180.2\nClose: 166.76\nClose: 159.98\nClose: 155.76\nClose: 135.8\nClose: 133.6\nClose: 148.72\nClose: 149.1\nClose: 149.9\nClose: 144.91\nClose: 140.7\nClose: 121.6\nClose: 129.07\nClose: 126.85\nClose: 112.11\nClose: 109.32\nClose: 89.01\nClose: 86.04\nClose: 72.24\nClose: 85.53\nClose: 85.51\nClose: 86.86\nClose: 101.0\nClose: 107.85\nClose: 105.63\nClose: 102.87\nClose: 100.43\nClose: 104.8\nClose: 96.31\nClose: 90.89\nClose: 96.0\nClose: 103.25\nClose: 109.09\nClose: 109.77\nClose: 114.6\nClose: 130.19\nClose: 141.98\nClose: 145.97\nClose: 149.04\nClose: 150.78\nClose: 149.27\nClose: 137.34\nClose: 146.42\nClose: 141.13\nClose: 145.03\nClose: 159.75\nClose: 153.82\nClose: 160.1\nClose: 156.38\nClose: 140.26\nClose: 152.24\nClose: 153.64\nClose: 156.52\nClose: 156.01\nClose: 163.88\nClose: 162.26\nClose: 161.88\nClose: 158.19\nClose: 160.67\nClose: 159.83\nClose: 162.73\nClose: 161.6\nClose: 163.11\nClose: 165.52\nClose: 163.38\nClose: 163.77\nClose: 164.05\nClose: 161.16\nClose: 167.0\nClose: 179.62\nClose: 176.31\nClose: 176.59\nClose: 172.88\nClose: 177.13\nClose: 189.98\nClose: 188.13\nClose: 205.01\nClose: 194.57\nClose: 187.06\nClose: 198.18\nClose: 196.43\nClose: 198.36\nClose: 200.79\nClose: 200.18\nClose: 198.86\nClose: 200.36\nClose: 192.17\nClose: 197.2\nClose: 191.95\nClose: 201.87\nClose: 215.96\nClose: 223.93\nClose: 241.73\nClose: 274.32\nClose: 277.97\nClose: 273.18\nClose: 278.86\nClose: 308.93\nClose: 299.41\nClose: 303.36\nClose: 309.2\nClose: 300.13\nClose: 300.17\nClose: 328.6\nClose: 313.67\nClose: 318.47\nClose: 302.61\nClose: 283.4\nClose: 307.92\nClose: 295.3\nClose: 299.82\nClose: 297.5\nClose: 286.15\nClose: 297.0\nClose: 297.4\nClose: 297.0\nClose: 297.92\nClose: 290.54\nClose: 283.71\nClose: 274.88\nClose: 310.95\nClose: 324.2\nClose: 330.14\nClose: 367.13\nClose: 377.42\nClose: 375.71\nClose: 400.37\nClose: 410.0\nClose: 402.84\nClose: 404.67\nClose: 430.63\nClose: 447.75\nClose: 442.68\nClose: 498.32\nClose: 475.05\nClose: 447.37\nClose: 407.0\nClose: 418.32\nClose: 330.21\nClose: 366.28\nClose: 371.34\nClose: 372.72\nClose: 419.62\nClose: 449.76\nClose: 441.76\nClose: 423.43\nClose: 442.15\nClose: 449.39\nClose: 424.23\nClose: 380.36\nClose: 387.79\nClose: 407.34\nClose: 421.2\nClose: 419.07\nClose: 429.01\nClose: 448.16\nClose: 415.09\nClose: 425.68\nClose: 413.98\nClose: 425.3\nClose: 425.92\nClose: 434.0\nClose: 442.3\nClose: 446.65\nClose: 461.3\nClose: 448.88\nClose: 439.67\nClose: 430.83\nClose: 421.94\nClose: 422.64\nClose: 425.79\nClose: 420.63\nClose: 420.28\nClose: 424.68\nClose: 406.02\nClose: 410.83\nClose: 388.04\nClose: 400.51\nClose: 423.9\nClose: 420.98\nClose: 438.09\nClose: 429.95\nClose: 421.26\nClose: 410.36\nClose: 417.13\nClose: 411.76\nClose: 408.5\nClose: 408.09\nClose: 441.61\nClose: 486.64\nClose: 499.27\nClose: 489.61\nClose: 521.85\nClose: 555.38\nClose: 574.0\nClose: 585.76\nClose: 567.6\nClose: 584.76\nClose: 568.82\nClose: 593.38\nClose: 599.04\nClose: 641.76\nClose: 649.88\nClose: 604.48\nClose: 627.07\nClose: 609.99\nClose: 639.83\nClose: 633.25\nClose: 622.77\nClose: 655.9\nClose: 695.0\nClose: 649.86\nClose: 640.34\nClose: 645.98\nClose: 661.77\nClose: 663.69\nClose: 665.99\nClose: 694.78\nClose: 705.67\nClose: 729.77\nClose: 735.11\nClose: 755.98\nClose: 816.04\nClose: 880.02\nClose: 811.19\nClose: 849.44\nClose: 854.41\nClose: 845.0\nClose: 826.16\nClose: 844.55\nClose: 850.45\nClose: 844.99\nClose: 846.64\nClose: 880.8\nClose: 883.09\nClose: 864.16\nClose: 835.43\nClose: 793.53\n"
     ]
    },
    {
     "output_type": "execute_result",
     "data": {
      "text/plain": [
       "[<__main__.PrintClose at 0x7f1323876fd0>]"
      ]
     },
     "metadata": {},
     "execution_count": 16
    }
   ],
   "source": [
    "import backtrader as bt\n",
    "\n",
    "\n",
    "class PrintClose(bt.Strategy):\n",
    "\n",
    "    def __init__(self):\n",
    "        # Keep a reference to the \"close\" line in the data[0] dataseries\n",
    "        self.dataclose = self.datas[0].close\n",
    "\n",
    "    def log(self, txt, dt=None):\n",
    "        dt = dt or self.datas[0].datetime.date(0)\n",
    "        print(f'{txt}{dt}')\n",
    "        # Print date and close\n",
    "\n",
    "    def next(self):\n",
    "        self.log('Close: ', self.dataclose[0])\n",
    "\n",
    "\n",
    "# Instantiate Cerebro engine\n",
    "cerebro = bt.Cerebro()\n",
    "\n",
    "# Add data feed to Cerebro\n",
    "data = bt.feeds.YahooFinanceCSVData(dataname='TSLA.csv')\n",
    "cerebro.adddata(data)\n",
    "\n",
    "# Add strategy to Cerebro\n",
    "cerebro.addstrategy(PrintClose)\n",
    "\n",
    "# Run Cerebro Engine\n",
    "cerebro.run()\n"
   ]
  },
  {
   "cell_type": "code",
   "execution_count": 3,
   "metadata": {},
   "outputs": [
    {
     "output_type": "stream",
     "name": "stderr",
     "text": [
      "usage: ipykernel_launcher.py [-h] [--data0 TICKER] [--data1 TICKER]\n                             [--offline] [--fromdate FROMDATE]\n                             [--todate TODATE] [--cerebro kwargs]\n                             [--broker kwargs] [--sizer kwargs]\n                             [--strat kwargs] [--plot [kwargs]]\nipykernel_launcher.py: error: unrecognized arguments: --ip=127.0.0.1 --stdin=9018 --control=9016 --hb=9015 --Session.signature_scheme=\"hmac-sha256\" --Session.key=b\"13c4e142-5d0e-4612-9fe4-903f6032a782\" --shell=9017 --transport=\"tcp\" --iopub=9019\n"
     ]
    },
    {
     "output_type": "error",
     "ename": "SystemExit",
     "evalue": "2",
     "traceback": [
      "An exception has occurred, use %tb to see the full traceback.\n",
      "\u001b[0;31mSystemExit\u001b[0m\u001b[0;31m:\u001b[0m 2\n"
     ]
    }
   ],
   "source": [
    "\n",
    "import argparse\n",
    "import datetime\n",
    "\n",
    "import scipy.stats\n",
    "\n",
    "import backtrader as bt\n",
    "\n",
    "\n",
    "class PearsonR(bt.ind.PeriodN):\n",
    "    _mindatas = 2  # hint to the platform\n",
    "\n",
    "    lines = ('correlation',)\n",
    "    params = (('period', 20),)\n",
    "\n",
    "    def next(self):\n",
    "        c, p = scipy.stats.pearsonr(self.data0.get(size=self.p.period),\n",
    "                                    self.data1.get(size=self.p.period))\n",
    "\n",
    "        self.lines.correlation[0] = c\n",
    "\n",
    "\n",
    "class MACrossOver(bt.Strategy):\n",
    "    params = (\n",
    "        ('ma', bt.ind.MovAv.SMA),\n",
    "        ('pd1', 20),\n",
    "        ('pd2', 20),\n",
    "    )\n",
    "\n",
    "    def __init__(self):\n",
    "        ma1 = self.p.ma(self.data0, period=self.p.pd1, subplot=True)\n",
    "        self.p.ma(self.data1, period=self.p.pd2, plotmaster=ma1)\n",
    "        PearsonR(self.data0, self.data1)\n",
    "\n",
    "\n",
    "def runstrat(args=None):\n",
    "    args = parse_args(args)\n",
    "\n",
    "    cerebro = bt.Cerebro()\n",
    "\n",
    "    # Data feed kwargs\n",
    "    kwargs = dict()\n",
    "\n",
    "    # Parse from/to-date\n",
    "    dtfmt, tmfmt = '%Y-%m-%d', 'T%H:%M:%S'\n",
    "    for a, d in ((getattr(args, x), x) for x in ['fromdate', 'todate']):\n",
    "        if a:\n",
    "            strpfmt = dtfmt + tmfmt * ('T' in a)\n",
    "            kwargs[d] = datetime.datetime.strptime(a, strpfmt)\n",
    "\n",
    "    if not args.offline:\n",
    "        YahooData = bt.feeds.YahooFinanceData\n",
    "    else:\n",
    "        YahooData = bt.feeds.YahooFinanceCSVData\n",
    "\n",
    "    # Data feeds\n",
    "    data0 = YahooData(dataname=args.data0, **kwargs)\n",
    "    # cerebro.adddata(data0)\n",
    "    cerebro.resampledata(data0, timeframe=bt.TimeFrame.Weeks)\n",
    "\n",
    "    data1 = YahooData(dataname=args.data1, **kwargs)\n",
    "    # cerebro.adddata(data1)\n",
    "    cerebro.resampledata(data1, timeframe=bt.TimeFrame.Weeks)\n",
    "    data1.plotinfo.plotmaster = data0\n",
    "\n",
    "    # Broker\n",
    "    kwargs = eval('dict(' + args.broker + ')')\n",
    "    cerebro.broker = bt.brokers.BackBroker(**kwargs)\n",
    "\n",
    "    # Sizer\n",
    "    kwargs = eval('dict(' + args.sizer + ')')\n",
    "    cerebro.addsizer(bt.sizers.FixedSize, **kwargs)\n",
    "\n",
    "    # Strategy\n",
    "    if True:\n",
    "        kwargs = eval('dict(' + args.strat + ')')\n",
    "        cerebro.addstrategy(MACrossOver, **kwargs)\n",
    "\n",
    "    cerebro.addobserver(bt.observers.LogReturns2,\n",
    "                        timeframe=bt.TimeFrame.Weeks,\n",
    "                        compression=20)\n",
    "\n",
    "    # Execute\n",
    "    cerebro.run(**(eval('dict(' + args.cerebro + ')')))\n",
    "\n",
    "    if args.plot:  # Plot if requested to\n",
    "        cerebro.plot(**(eval('dict(' + args.plot + ')')))\n",
    "\n",
    "\n",
    "def parse_args(pargs=None):\n",
    "\n",
    "    parser = argparse.ArgumentParser(\n",
    "        formatter_class=argparse.ArgumentDefaultsHelpFormatter,\n",
    "        description=(\n",
    "            'Gold vs SP500 from '\n",
    "            'https://estrategiastrading.com/oro-bolsa-estadistica-con-python/')\n",
    "    )\n",
    "\n",
    "    parser.add_argument('--data0', required=False, default='SPY',\n",
    "                        metavar='TICKER', help='Yahoo ticker to download')\n",
    "\n",
    "    parser.add_argument('--data1', required=False, default='GLD',\n",
    "                        metavar='TICKER', help='Yahoo ticker to download')\n",
    "\n",
    "    parser.add_argument('--offline', required=False, action='store_true',\n",
    "                        help='Use the offline files')\n",
    "\n",
    "    # Defaults for dates\n",
    "    parser.add_argument('--fromdate', required=False, default='2005-01-01',\n",
    "                        help='Date[time] in YYYY-MM-DD[THH:MM:SS] format')\n",
    "\n",
    "    parser.add_argument('--todate', required=False, default='2016-01-01',\n",
    "                        help='Date[time] in YYYY-MM-DD[THH:MM:SS] format')\n",
    "\n",
    "    parser.add_argument('--cerebro', required=False, default='',\n",
    "                        metavar='kwargs', help='kwargs in key=value format')\n",
    "\n",
    "    parser.add_argument('--broker', required=False, default='',\n",
    "                        metavar='kwargs', help='kwargs in key=value format')\n",
    "\n",
    "    parser.add_argument('--sizer', required=False, default='',\n",
    "                        metavar='kwargs', help='kwargs in key=value format')\n",
    "\n",
    "    parser.add_argument('--strat', required=False, default='',\n",
    "                        metavar='kwargs', help='kwargs in key=value format')\n",
    "\n",
    "    parser.add_argument('--plot', required=False, default='',\n",
    "                        nargs='?', const='{}',\n",
    "                        metavar='kwargs', help='kwargs in key=value format')\n",
    "\n",
    "    return parser.parse_args(pargs)\n",
    "\n",
    "\n",
    "\n",
    "runstrat()\n"
   ]
  }
 ]
}