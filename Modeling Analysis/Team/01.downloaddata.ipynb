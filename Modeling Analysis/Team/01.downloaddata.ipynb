{
 "metadata": {
  "language_info": {
   "codemirror_mode": {
    "name": "ipython",
    "version": 3
   },
   "file_extension": ".py",
   "mimetype": "text/x-python",
   "name": "python",
   "nbconvert_exporter": "python",
   "pygments_lexer": "ipython3",
   "version": "3.8.5-final"
  },
  "orig_nbformat": 2,
  "kernelspec": {
   "name": "python3",
   "display_name": "Python 3",
   "language": "python"
  }
 },
 "nbformat": 4,
 "nbformat_minor": 2,
 "cells": [
  {
   "cell_type": "code",
   "execution_count": 1,
   "metadata": {},
   "outputs": [],
   "source": [
    "import matplotlib.pyplot as plt\n",
    "import pandas as pd\n",
    "import numpy as np\n",
    "\n",
    "import yfinance as yf"
   ]
  },
  {
   "cell_type": "code",
   "execution_count": 2,
   "metadata": {},
   "outputs": [
    {
     "output_type": "execute_result",
     "data": {
      "text/plain": [
       "  Symbol             Security SEC filings             GICS Sector  \\\n",
       "0    MMM           3M Company     reports             Industrials   \n",
       "1    ABT  Abbott Laboratories     reports             Health Care   \n",
       "2   ABBV          AbbVie Inc.     reports             Health Care   \n",
       "3   ABMD          ABIOMED Inc     reports             Health Care   \n",
       "4    ACN        Accenture plc     reports  Information Technology   \n",
       "\n",
       "                GICS Sub-Industry    Headquarters Location Date first added  \\\n",
       "0        Industrial Conglomerates      St. Paul, Minnesota       1976-08-09   \n",
       "1           Health Care Equipment  North Chicago, Illinois       1964-03-31   \n",
       "2                 Pharmaceuticals  North Chicago, Illinois       2012-12-31   \n",
       "3           Health Care Equipment   Danvers, Massachusetts       2018-05-31   \n",
       "4  IT Consulting & Other Services          Dublin, Ireland       2011-07-06   \n",
       "\n",
       "       CIK      Founded  \n",
       "0    66740         1902  \n",
       "1     1800         1888  \n",
       "2  1551152  2013 (1888)  \n",
       "3   815094         1981  \n",
       "4  1467373         1989  "
      ],
      "text/html": "<div>\n<style scoped>\n    .dataframe tbody tr th:only-of-type {\n        vertical-align: middle;\n    }\n\n    .dataframe tbody tr th {\n        vertical-align: top;\n    }\n\n    .dataframe thead th {\n        text-align: right;\n    }\n</style>\n<table border=\"1\" class=\"dataframe\">\n  <thead>\n    <tr style=\"text-align: right;\">\n      <th></th>\n      <th>Symbol</th>\n      <th>Security</th>\n      <th>SEC filings</th>\n      <th>GICS Sector</th>\n      <th>GICS Sub-Industry</th>\n      <th>Headquarters Location</th>\n      <th>Date first added</th>\n      <th>CIK</th>\n      <th>Founded</th>\n    </tr>\n  </thead>\n  <tbody>\n    <tr>\n      <th>0</th>\n      <td>MMM</td>\n      <td>3M Company</td>\n      <td>reports</td>\n      <td>Industrials</td>\n      <td>Industrial Conglomerates</td>\n      <td>St. Paul, Minnesota</td>\n      <td>1976-08-09</td>\n      <td>66740</td>\n      <td>1902</td>\n    </tr>\n    <tr>\n      <th>1</th>\n      <td>ABT</td>\n      <td>Abbott Laboratories</td>\n      <td>reports</td>\n      <td>Health Care</td>\n      <td>Health Care Equipment</td>\n      <td>North Chicago, Illinois</td>\n      <td>1964-03-31</td>\n      <td>1800</td>\n      <td>1888</td>\n    </tr>\n    <tr>\n      <th>2</th>\n      <td>ABBV</td>\n      <td>AbbVie Inc.</td>\n      <td>reports</td>\n      <td>Health Care</td>\n      <td>Pharmaceuticals</td>\n      <td>North Chicago, Illinois</td>\n      <td>2012-12-31</td>\n      <td>1551152</td>\n      <td>2013 (1888)</td>\n    </tr>\n    <tr>\n      <th>3</th>\n      <td>ABMD</td>\n      <td>ABIOMED Inc</td>\n      <td>reports</td>\n      <td>Health Care</td>\n      <td>Health Care Equipment</td>\n      <td>Danvers, Massachusetts</td>\n      <td>2018-05-31</td>\n      <td>815094</td>\n      <td>1981</td>\n    </tr>\n    <tr>\n      <th>4</th>\n      <td>ACN</td>\n      <td>Accenture plc</td>\n      <td>reports</td>\n      <td>Information Technology</td>\n      <td>IT Consulting &amp; Other Services</td>\n      <td>Dublin, Ireland</td>\n      <td>2011-07-06</td>\n      <td>1467373</td>\n      <td>1989</td>\n    </tr>\n  </tbody>\n</table>\n</div>"
     },
     "metadata": {},
     "execution_count": 2
    }
   ],
   "source": [
    "# get the S&P 500\n",
    "table=pd.read_html('https://en.wikipedia.org/wiki/list_of_S%26P_500_companies')\n",
    "df = table[0]\n",
    "df.head()"
   ]
  },
  {
   "cell_type": "code",
   "execution_count": 3,
   "metadata": {},
   "outputs": [
    {
     "output_type": "execute_result",
     "data": {
      "text/plain": [
       "array(['Industrials', 'Health Care', 'Information Technology',\n",
       "       'Communication Services', 'Consumer Discretionary', 'Utilities',\n",
       "       'Financials', 'Materials', 'Real Estate', 'Consumer Staples',\n",
       "       'Energy'], dtype=object)"
      ]
     },
     "metadata": {},
     "execution_count": 3
    }
   ],
   "source": [
    "df['GICS Sector'].unique()"
   ]
  },
  {
   "cell_type": "code",
   "execution_count": 4,
   "metadata": {},
   "outputs": [],
   "source": [
    "sp500_companies = df['Symbol'].to_list()"
   ]
  },
  {
   "cell_type": "code",
   "execution_count": 5,
   "metadata": {},
   "outputs": [
    {
     "output_type": "stream",
     "name": "stdout",
     "text": [
      "[*********************100%***********************]  505 of 505 completed\n",
      "\n",
      "2 Failed downloads:\n",
      "- BRK.B: No data found, symbol may be delisted\n",
      "- BF.B: No data found for this date range, symbol may be delisted\n"
     ]
    },
    {
     "output_type": "execute_result",
     "data": {
      "text/plain": [
       "            Adj Close                                                       \\\n",
       "                    A       AAL        AAP      AAPL ABBV        ABC  ABMD   \n",
       "Date                                                                         \n",
       "2010-01-04  20.545469  4.496876  39.103363  6.583586  NaN  22.512976  8.74   \n",
       "2010-01-05  20.322289  5.005957  38.870968  6.594968  NaN  22.352354  8.53   \n",
       "2010-01-06  20.250088  4.798555  39.209885  6.490066  NaN  22.141001  8.40   \n",
       "2010-01-07  20.223829  4.939965  39.200214  6.478067  NaN  21.785934  8.40   \n",
       "2010-01-08  20.217272  4.845690  39.355148  6.521136  NaN  22.022644  8.23   \n",
       "\n",
       "                                             ...     Volume              \\\n",
       "                  ABT        ACN       ADBE  ...       XLNX         XOM   \n",
       "Date                                         ...                          \n",
       "2010-01-04  20.074522  33.718582  37.090000  ...  2824700.0  27809100.0   \n",
       "2010-01-05  19.912334  33.926979  37.700001  ...  3469700.0  30174700.0   \n",
       "2010-01-06  20.022911  34.287651  37.619999  ...  6329200.0  35044700.0   \n",
       "2010-01-07  20.188793  34.255581  36.889999  ...  9252700.0  27192100.0   \n",
       "2010-01-08  20.292002  34.119335  36.689999  ...  5005800.0  24891800.0   \n",
       "\n",
       "                                                                      \\\n",
       "                 XRAY        XRX XYL        YUM        ZBH      ZBRA   \n",
       "Date                                                                   \n",
       "2010-01-04  1051400.0  5112890.0 NaN  2962274.0   782400.0  168800.0   \n",
       "2010-01-05   763400.0  3255844.0 NaN  3298757.0  1718100.0  168800.0   \n",
       "2010-01-06  1595100.0  2634375.0 NaN  4178981.0  1277300.0  385300.0   \n",
       "2010-01-07  1096100.0  4508536.0 NaN  2452472.0  1683500.0  183600.0   \n",
       "2010-01-08   803600.0  2460109.0 NaN  3772392.0  2149500.0  266500.0   \n",
       "\n",
       "                            \n",
       "                  ZION ZTS  \n",
       "Date                        \n",
       "2010-01-04   3974600.0 NaN  \n",
       "2010-01-05   5605500.0 NaN  \n",
       "2010-01-06  12615200.0 NaN  \n",
       "2010-01-07  24716800.0 NaN  \n",
       "2010-01-08   6903000.0 NaN  \n",
       "\n",
       "[5 rows x 3030 columns]"
      ],
      "text/html": "<div>\n<style scoped>\n    .dataframe tbody tr th:only-of-type {\n        vertical-align: middle;\n    }\n\n    .dataframe tbody tr th {\n        vertical-align: top;\n    }\n\n    .dataframe thead tr th {\n        text-align: left;\n    }\n\n    .dataframe thead tr:last-of-type th {\n        text-align: right;\n    }\n</style>\n<table border=\"1\" class=\"dataframe\">\n  <thead>\n    <tr>\n      <th></th>\n      <th colspan=\"10\" halign=\"left\">Adj Close</th>\n      <th>...</th>\n      <th colspan=\"10\" halign=\"left\">Volume</th>\n    </tr>\n    <tr>\n      <th></th>\n      <th>A</th>\n      <th>AAL</th>\n      <th>AAP</th>\n      <th>AAPL</th>\n      <th>ABBV</th>\n      <th>ABC</th>\n      <th>ABMD</th>\n      <th>ABT</th>\n      <th>ACN</th>\n      <th>ADBE</th>\n      <th>...</th>\n      <th>XLNX</th>\n      <th>XOM</th>\n      <th>XRAY</th>\n      <th>XRX</th>\n      <th>XYL</th>\n      <th>YUM</th>\n      <th>ZBH</th>\n      <th>ZBRA</th>\n      <th>ZION</th>\n      <th>ZTS</th>\n    </tr>\n    <tr>\n      <th>Date</th>\n      <th></th>\n      <th></th>\n      <th></th>\n      <th></th>\n      <th></th>\n      <th></th>\n      <th></th>\n      <th></th>\n      <th></th>\n      <th></th>\n      <th></th>\n      <th></th>\n      <th></th>\n      <th></th>\n      <th></th>\n      <th></th>\n      <th></th>\n      <th></th>\n      <th></th>\n      <th></th>\n      <th></th>\n    </tr>\n  </thead>\n  <tbody>\n    <tr>\n      <th>2010-01-04</th>\n      <td>20.545469</td>\n      <td>4.496876</td>\n      <td>39.103363</td>\n      <td>6.583586</td>\n      <td>NaN</td>\n      <td>22.512976</td>\n      <td>8.74</td>\n      <td>20.074522</td>\n      <td>33.718582</td>\n      <td>37.090000</td>\n      <td>...</td>\n      <td>2824700.0</td>\n      <td>27809100.0</td>\n      <td>1051400.0</td>\n      <td>5112890.0</td>\n      <td>NaN</td>\n      <td>2962274.0</td>\n      <td>782400.0</td>\n      <td>168800.0</td>\n      <td>3974600.0</td>\n      <td>NaN</td>\n    </tr>\n    <tr>\n      <th>2010-01-05</th>\n      <td>20.322289</td>\n      <td>5.005957</td>\n      <td>38.870968</td>\n      <td>6.594968</td>\n      <td>NaN</td>\n      <td>22.352354</td>\n      <td>8.53</td>\n      <td>19.912334</td>\n      <td>33.926979</td>\n      <td>37.700001</td>\n      <td>...</td>\n      <td>3469700.0</td>\n      <td>30174700.0</td>\n      <td>763400.0</td>\n      <td>3255844.0</td>\n      <td>NaN</td>\n      <td>3298757.0</td>\n      <td>1718100.0</td>\n      <td>168800.0</td>\n      <td>5605500.0</td>\n      <td>NaN</td>\n    </tr>\n    <tr>\n      <th>2010-01-06</th>\n      <td>20.250088</td>\n      <td>4.798555</td>\n      <td>39.209885</td>\n      <td>6.490066</td>\n      <td>NaN</td>\n      <td>22.141001</td>\n      <td>8.40</td>\n      <td>20.022911</td>\n      <td>34.287651</td>\n      <td>37.619999</td>\n      <td>...</td>\n      <td>6329200.0</td>\n      <td>35044700.0</td>\n      <td>1595100.0</td>\n      <td>2634375.0</td>\n      <td>NaN</td>\n      <td>4178981.0</td>\n      <td>1277300.0</td>\n      <td>385300.0</td>\n      <td>12615200.0</td>\n      <td>NaN</td>\n    </tr>\n    <tr>\n      <th>2010-01-07</th>\n      <td>20.223829</td>\n      <td>4.939965</td>\n      <td>39.200214</td>\n      <td>6.478067</td>\n      <td>NaN</td>\n      <td>21.785934</td>\n      <td>8.40</td>\n      <td>20.188793</td>\n      <td>34.255581</td>\n      <td>36.889999</td>\n      <td>...</td>\n      <td>9252700.0</td>\n      <td>27192100.0</td>\n      <td>1096100.0</td>\n      <td>4508536.0</td>\n      <td>NaN</td>\n      <td>2452472.0</td>\n      <td>1683500.0</td>\n      <td>183600.0</td>\n      <td>24716800.0</td>\n      <td>NaN</td>\n    </tr>\n    <tr>\n      <th>2010-01-08</th>\n      <td>20.217272</td>\n      <td>4.845690</td>\n      <td>39.355148</td>\n      <td>6.521136</td>\n      <td>NaN</td>\n      <td>22.022644</td>\n      <td>8.23</td>\n      <td>20.292002</td>\n      <td>34.119335</td>\n      <td>36.689999</td>\n      <td>...</td>\n      <td>5005800.0</td>\n      <td>24891800.0</td>\n      <td>803600.0</td>\n      <td>2460109.0</td>\n      <td>NaN</td>\n      <td>3772392.0</td>\n      <td>2149500.0</td>\n      <td>266500.0</td>\n      <td>6903000.0</td>\n      <td>NaN</td>\n    </tr>\n  </tbody>\n</table>\n<p>5 rows × 3030 columns</p>\n</div>"
     },
     "metadata": {},
     "execution_count": 5
    }
   ],
   "source": [
    "\n",
    "ohlc = yf.download(sp500_companies,start='2010-01-01')\n",
    "ohlc.head()"
   ]
  },
  {
   "cell_type": "code",
   "execution_count": 6,
   "metadata": {},
   "outputs": [],
   "source": [
    "ohlc[['Adj Close']].to_csv(\"./sp500_adj_close.csv\") "
   ]
  },
  {
   "cell_type": "code",
   "execution_count": 13,
   "metadata": {},
   "outputs": [],
   "source": [
    "ohlc[['Volume']].to_csv(\"./sp500_volume.csv\") "
   ]
  },
  {
   "cell_type": "code",
   "execution_count": 8,
   "metadata": {},
   "outputs": [
    {
     "output_type": "stream",
     "name": "stdout",
     "text": [
      "[*********************100%***********************]  1 of 1 completed\n"
     ]
    },
    {
     "output_type": "execute_result",
     "data": {
      "text/plain": [
       "                   Open         High          Low        Close    Adj Close  \\\n",
       "Date                                                                          \n",
       "2010-01-04  1116.560059  1133.869995  1116.560059  1132.989990  1132.989990   \n",
       "2010-01-05  1132.660034  1136.630005  1129.660034  1136.520020  1136.520020   \n",
       "2010-01-06  1135.709961  1139.189941  1133.949951  1137.140015  1137.140015   \n",
       "2010-01-07  1136.270020  1142.459961  1131.319946  1141.689941  1141.689941   \n",
       "2010-01-08  1140.520020  1145.390015  1136.219971  1144.979980  1144.979980   \n",
       "\n",
       "                Volume  \n",
       "Date                    \n",
       "2010-01-04  3991400000  \n",
       "2010-01-05  2491020000  \n",
       "2010-01-06  4972660000  \n",
       "2010-01-07  5270680000  \n",
       "2010-01-08  4389590000  "
      ],
      "text/html": "<div>\n<style scoped>\n    .dataframe tbody tr th:only-of-type {\n        vertical-align: middle;\n    }\n\n    .dataframe tbody tr th {\n        vertical-align: top;\n    }\n\n    .dataframe thead th {\n        text-align: right;\n    }\n</style>\n<table border=\"1\" class=\"dataframe\">\n  <thead>\n    <tr style=\"text-align: right;\">\n      <th></th>\n      <th>Open</th>\n      <th>High</th>\n      <th>Low</th>\n      <th>Close</th>\n      <th>Adj Close</th>\n      <th>Volume</th>\n    </tr>\n    <tr>\n      <th>Date</th>\n      <th></th>\n      <th></th>\n      <th></th>\n      <th></th>\n      <th></th>\n      <th></th>\n    </tr>\n  </thead>\n  <tbody>\n    <tr>\n      <th>2010-01-04</th>\n      <td>1116.560059</td>\n      <td>1133.869995</td>\n      <td>1116.560059</td>\n      <td>1132.989990</td>\n      <td>1132.989990</td>\n      <td>3991400000</td>\n    </tr>\n    <tr>\n      <th>2010-01-05</th>\n      <td>1132.660034</td>\n      <td>1136.630005</td>\n      <td>1129.660034</td>\n      <td>1136.520020</td>\n      <td>1136.520020</td>\n      <td>2491020000</td>\n    </tr>\n    <tr>\n      <th>2010-01-06</th>\n      <td>1135.709961</td>\n      <td>1139.189941</td>\n      <td>1133.949951</td>\n      <td>1137.140015</td>\n      <td>1137.140015</td>\n      <td>4972660000</td>\n    </tr>\n    <tr>\n      <th>2010-01-07</th>\n      <td>1136.270020</td>\n      <td>1142.459961</td>\n      <td>1131.319946</td>\n      <td>1141.689941</td>\n      <td>1141.689941</td>\n      <td>5270680000</td>\n    </tr>\n    <tr>\n      <th>2010-01-08</th>\n      <td>1140.520020</td>\n      <td>1145.390015</td>\n      <td>1136.219971</td>\n      <td>1144.979980</td>\n      <td>1144.979980</td>\n      <td>4389590000</td>\n    </tr>\n  </tbody>\n</table>\n</div>"
     },
     "metadata": {},
     "execution_count": 8
    }
   ],
   "source": [
    "ohlc_sp500 = yf.download('^GSPC',start='2010-01-01')\n",
    "ohlc_sp500.head()"
   ]
  },
  {
   "cell_type": "code",
   "execution_count": 14,
   "metadata": {},
   "outputs": [
    {
     "output_type": "execute_result",
     "data": {
      "text/plain": [
       "       datatime        ^GSPC\n",
       "0    2010-01-04  1132.989990\n",
       "1    2010-01-05  1136.520020\n",
       "2    2010-01-06  1137.140015\n",
       "3    2010-01-07  1141.689941\n",
       "4    2010-01-08  1144.979980\n",
       "...         ...          ...\n",
       "2788 2021-02-01  3773.860107\n",
       "2789 2021-02-02  3826.310059\n",
       "2790 2021-02-03  3830.169922\n",
       "2791 2021-02-04  3871.739990\n",
       "2792 2021-02-05  3886.830078\n",
       "\n",
       "[2793 rows x 2 columns]"
      ],
      "text/html": "<div>\n<style scoped>\n    .dataframe tbody tr th:only-of-type {\n        vertical-align: middle;\n    }\n\n    .dataframe tbody tr th {\n        vertical-align: top;\n    }\n\n    .dataframe thead th {\n        text-align: right;\n    }\n</style>\n<table border=\"1\" class=\"dataframe\">\n  <thead>\n    <tr style=\"text-align: right;\">\n      <th></th>\n      <th>datatime</th>\n      <th>^GSPC</th>\n    </tr>\n  </thead>\n  <tbody>\n    <tr>\n      <th>0</th>\n      <td>2010-01-04</td>\n      <td>1132.989990</td>\n    </tr>\n    <tr>\n      <th>1</th>\n      <td>2010-01-05</td>\n      <td>1136.520020</td>\n    </tr>\n    <tr>\n      <th>2</th>\n      <td>2010-01-06</td>\n      <td>1137.140015</td>\n    </tr>\n    <tr>\n      <th>3</th>\n      <td>2010-01-07</td>\n      <td>1141.689941</td>\n    </tr>\n    <tr>\n      <th>4</th>\n      <td>2010-01-08</td>\n      <td>1144.979980</td>\n    </tr>\n    <tr>\n      <th>...</th>\n      <td>...</td>\n      <td>...</td>\n    </tr>\n    <tr>\n      <th>2788</th>\n      <td>2021-02-01</td>\n      <td>3773.860107</td>\n    </tr>\n    <tr>\n      <th>2789</th>\n      <td>2021-02-02</td>\n      <td>3826.310059</td>\n    </tr>\n    <tr>\n      <th>2790</th>\n      <td>2021-02-03</td>\n      <td>3830.169922</td>\n    </tr>\n    <tr>\n      <th>2791</th>\n      <td>2021-02-04</td>\n      <td>3871.739990</td>\n    </tr>\n    <tr>\n      <th>2792</th>\n      <td>2021-02-05</td>\n      <td>3886.830078</td>\n    </tr>\n  </tbody>\n</table>\n<p>2793 rows × 2 columns</p>\n</div>"
     },
     "metadata": {},
     "execution_count": 14
    }
   ],
   "source": [
    "data_sp = ohlc_sp500[['Adj Close']].reset_index()\n",
    "data_sp.columns = ['datatime','^GSPC']\n",
    "data_sp"
   ]
  },
  {
   "cell_type": "code",
   "execution_count": 10,
   "metadata": {},
   "outputs": [],
   "source": [
    "data_sp.to_csv('./sp500_^SPGC_adj_close.csv')"
   ]
  },
  {
   "cell_type": "code",
   "execution_count": 11,
   "metadata": {},
   "outputs": [
    {
     "output_type": "execute_result",
     "data": {
      "text/plain": [
       "       datatime      volume\n",
       "0    2010-01-04  3991400000\n",
       "1    2010-01-05  2491020000\n",
       "2    2010-01-06  4972660000\n",
       "3    2010-01-07  5270680000\n",
       "4    2010-01-08  4389590000\n",
       "...         ...         ...\n",
       "2788 2021-02-01  5392870000\n",
       "2789 2021-02-02  5495370000\n",
       "2790 2021-02-03  4846900000\n",
       "2791 2021-02-04  4856670000\n",
       "2792 2021-02-05  4838580000\n",
       "\n",
       "[2793 rows x 2 columns]"
      ],
      "text/html": "<div>\n<style scoped>\n    .dataframe tbody tr th:only-of-type {\n        vertical-align: middle;\n    }\n\n    .dataframe tbody tr th {\n        vertical-align: top;\n    }\n\n    .dataframe thead th {\n        text-align: right;\n    }\n</style>\n<table border=\"1\" class=\"dataframe\">\n  <thead>\n    <tr style=\"text-align: right;\">\n      <th></th>\n      <th>datatime</th>\n      <th>volume</th>\n    </tr>\n  </thead>\n  <tbody>\n    <tr>\n      <th>0</th>\n      <td>2010-01-04</td>\n      <td>3991400000</td>\n    </tr>\n    <tr>\n      <th>1</th>\n      <td>2010-01-05</td>\n      <td>2491020000</td>\n    </tr>\n    <tr>\n      <th>2</th>\n      <td>2010-01-06</td>\n      <td>4972660000</td>\n    </tr>\n    <tr>\n      <th>3</th>\n      <td>2010-01-07</td>\n      <td>5270680000</td>\n    </tr>\n    <tr>\n      <th>4</th>\n      <td>2010-01-08</td>\n      <td>4389590000</td>\n    </tr>\n    <tr>\n      <th>...</th>\n      <td>...</td>\n      <td>...</td>\n    </tr>\n    <tr>\n      <th>2788</th>\n      <td>2021-02-01</td>\n      <td>5392870000</td>\n    </tr>\n    <tr>\n      <th>2789</th>\n      <td>2021-02-02</td>\n      <td>5495370000</td>\n    </tr>\n    <tr>\n      <th>2790</th>\n      <td>2021-02-03</td>\n      <td>4846900000</td>\n    </tr>\n    <tr>\n      <th>2791</th>\n      <td>2021-02-04</td>\n      <td>4856670000</td>\n    </tr>\n    <tr>\n      <th>2792</th>\n      <td>2021-02-05</td>\n      <td>4838580000</td>\n    </tr>\n  </tbody>\n</table>\n<p>2793 rows × 2 columns</p>\n</div>"
     },
     "metadata": {},
     "execution_count": 11
    }
   ],
   "source": [
    "data_sp_volume = ohlc_sp500[['Volume']].reset_index()\n",
    "data_sp_volume.columns = ['datatime','volume']\n",
    "data_sp_volume"
   ]
  },
  {
   "cell_type": "code",
   "execution_count": 12,
   "metadata": {},
   "outputs": [],
   "source": [
    "data_sp_volume.to_csv('./sp500_^SPGC_volume.csv')"
   ]
  },
  {
   "cell_type": "code",
   "execution_count": null,
   "metadata": {},
   "outputs": [],
   "source": []
  }
 ]
}