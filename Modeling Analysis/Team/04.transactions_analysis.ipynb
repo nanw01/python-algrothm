{
 "metadata": {
  "language_info": {
   "codemirror_mode": {
    "name": "ipython",
    "version": 3
   },
   "file_extension": ".py",
   "mimetype": "text/x-python",
   "name": "python",
   "nbconvert_exporter": "python",
   "pygments_lexer": "ipython3",
   "version": "3.8.5-final"
  },
  "orig_nbformat": 2,
  "kernelspec": {
   "name": "python3",
   "display_name": "Python 3",
   "language": "python"
  }
 },
 "nbformat": 4,
 "nbformat_minor": 2,
 "cells": [
  {
   "cell_type": "code",
   "execution_count": 14,
   "metadata": {},
   "outputs": [],
   "source": [
    "import pandas as pd\n",
    "import numpy as np\n",
    "import matplotlib.pyplot as plt\n",
    "import seaborn as sns\n"
   ]
  },
  {
   "cell_type": "code",
   "execution_count": 15,
   "metadata": {},
   "outputs": [
    {
     "output_type": "execute_result",
     "data": {
      "text/plain": [
       "                    A       AAL        AAP      AAPL  ABBV        ABC  ABMD  \\\n",
       "datetime                                                                      \n",
       "2010-01-04  20.545469  4.496876  39.103363  6.583586   NaN  22.512976  8.74   \n",
       "2010-01-05  20.322289  5.005957  38.870968  6.594968   NaN  22.352354  8.53   \n",
       "2010-01-06  20.250088  4.798555  39.209885  6.490066   NaN  22.141001  8.40   \n",
       "2010-01-07  20.223829  4.939965  39.200214  6.478067   NaN  21.785934  8.40   \n",
       "2010-01-08  20.217272  4.845690  39.355148  6.521136   NaN  22.022644  8.23   \n",
       "\n",
       "                  ABT        ACN       ADBE  ...       XLNX        XOM  \\\n",
       "datetime                                     ...                         \n",
       "2010-01-04  20.074522  33.718582  37.090000  ...  19.830650  46.349365   \n",
       "2010-01-05  19.912334  33.926979  37.700001  ...  19.580618  46.530319   \n",
       "2010-01-06  20.022911  34.287651  37.619999  ...  19.447794  46.932491   \n",
       "2010-01-07  20.188793  34.255581  36.889999  ...  19.252451  46.785034   \n",
       "2010-01-08  20.292002  34.119335  36.689999  ...  19.533739  46.597363   \n",
       "\n",
       "                 XRAY        XRX  XYL        YUM        ZBH       ZBRA  \\\n",
       "datetime                                                                 \n",
       "2010-01-04  32.941868  14.571863  NaN  20.328438  55.501415  28.670000   \n",
       "2010-01-05  32.550251  14.588748  NaN  20.258917  57.258369  28.620001   \n",
       "2010-01-06  32.764709  14.453672  NaN  20.114088  57.239891  28.400000   \n",
       "2010-01-07  33.193615  14.521203  NaN  20.108294  58.552982  27.690001   \n",
       "2010-01-08  33.193615  14.470551  NaN  20.114088  57.323116  27.600000   \n",
       "\n",
       "                 ZION  ZTS  \n",
       "datetime                    \n",
       "2010-01-04  11.726357  NaN  \n",
       "2010-01-05  12.139812  NaN  \n",
       "2010-01-06  13.195447  NaN  \n",
       "2010-01-07  14.673337  NaN  \n",
       "2010-01-08  14.435819  NaN  \n",
       "\n",
       "[5 rows x 505 columns]"
      ],
      "text/html": "<div>\n<style scoped>\n    .dataframe tbody tr th:only-of-type {\n        vertical-align: middle;\n    }\n\n    .dataframe tbody tr th {\n        vertical-align: top;\n    }\n\n    .dataframe thead th {\n        text-align: right;\n    }\n</style>\n<table border=\"1\" class=\"dataframe\">\n  <thead>\n    <tr style=\"text-align: right;\">\n      <th></th>\n      <th>A</th>\n      <th>AAL</th>\n      <th>AAP</th>\n      <th>AAPL</th>\n      <th>ABBV</th>\n      <th>ABC</th>\n      <th>ABMD</th>\n      <th>ABT</th>\n      <th>ACN</th>\n      <th>ADBE</th>\n      <th>...</th>\n      <th>XLNX</th>\n      <th>XOM</th>\n      <th>XRAY</th>\n      <th>XRX</th>\n      <th>XYL</th>\n      <th>YUM</th>\n      <th>ZBH</th>\n      <th>ZBRA</th>\n      <th>ZION</th>\n      <th>ZTS</th>\n    </tr>\n    <tr>\n      <th>datetime</th>\n      <th></th>\n      <th></th>\n      <th></th>\n      <th></th>\n      <th></th>\n      <th></th>\n      <th></th>\n      <th></th>\n      <th></th>\n      <th></th>\n      <th></th>\n      <th></th>\n      <th></th>\n      <th></th>\n      <th></th>\n      <th></th>\n      <th></th>\n      <th></th>\n      <th></th>\n      <th></th>\n      <th></th>\n    </tr>\n  </thead>\n  <tbody>\n    <tr>\n      <th>2010-01-04</th>\n      <td>20.545469</td>\n      <td>4.496876</td>\n      <td>39.103363</td>\n      <td>6.583586</td>\n      <td>NaN</td>\n      <td>22.512976</td>\n      <td>8.74</td>\n      <td>20.074522</td>\n      <td>33.718582</td>\n      <td>37.090000</td>\n      <td>...</td>\n      <td>19.830650</td>\n      <td>46.349365</td>\n      <td>32.941868</td>\n      <td>14.571863</td>\n      <td>NaN</td>\n      <td>20.328438</td>\n      <td>55.501415</td>\n      <td>28.670000</td>\n      <td>11.726357</td>\n      <td>NaN</td>\n    </tr>\n    <tr>\n      <th>2010-01-05</th>\n      <td>20.322289</td>\n      <td>5.005957</td>\n      <td>38.870968</td>\n      <td>6.594968</td>\n      <td>NaN</td>\n      <td>22.352354</td>\n      <td>8.53</td>\n      <td>19.912334</td>\n      <td>33.926979</td>\n      <td>37.700001</td>\n      <td>...</td>\n      <td>19.580618</td>\n      <td>46.530319</td>\n      <td>32.550251</td>\n      <td>14.588748</td>\n      <td>NaN</td>\n      <td>20.258917</td>\n      <td>57.258369</td>\n      <td>28.620001</td>\n      <td>12.139812</td>\n      <td>NaN</td>\n    </tr>\n    <tr>\n      <th>2010-01-06</th>\n      <td>20.250088</td>\n      <td>4.798555</td>\n      <td>39.209885</td>\n      <td>6.490066</td>\n      <td>NaN</td>\n      <td>22.141001</td>\n      <td>8.40</td>\n      <td>20.022911</td>\n      <td>34.287651</td>\n      <td>37.619999</td>\n      <td>...</td>\n      <td>19.447794</td>\n      <td>46.932491</td>\n      <td>32.764709</td>\n      <td>14.453672</td>\n      <td>NaN</td>\n      <td>20.114088</td>\n      <td>57.239891</td>\n      <td>28.400000</td>\n      <td>13.195447</td>\n      <td>NaN</td>\n    </tr>\n    <tr>\n      <th>2010-01-07</th>\n      <td>20.223829</td>\n      <td>4.939965</td>\n      <td>39.200214</td>\n      <td>6.478067</td>\n      <td>NaN</td>\n      <td>21.785934</td>\n      <td>8.40</td>\n      <td>20.188793</td>\n      <td>34.255581</td>\n      <td>36.889999</td>\n      <td>...</td>\n      <td>19.252451</td>\n      <td>46.785034</td>\n      <td>33.193615</td>\n      <td>14.521203</td>\n      <td>NaN</td>\n      <td>20.108294</td>\n      <td>58.552982</td>\n      <td>27.690001</td>\n      <td>14.673337</td>\n      <td>NaN</td>\n    </tr>\n    <tr>\n      <th>2010-01-08</th>\n      <td>20.217272</td>\n      <td>4.845690</td>\n      <td>39.355148</td>\n      <td>6.521136</td>\n      <td>NaN</td>\n      <td>22.022644</td>\n      <td>8.23</td>\n      <td>20.292002</td>\n      <td>34.119335</td>\n      <td>36.689999</td>\n      <td>...</td>\n      <td>19.533739</td>\n      <td>46.597363</td>\n      <td>33.193615</td>\n      <td>14.470551</td>\n      <td>NaN</td>\n      <td>20.114088</td>\n      <td>57.323116</td>\n      <td>27.600000</td>\n      <td>14.435819</td>\n      <td>NaN</td>\n    </tr>\n  </tbody>\n</table>\n<p>5 rows × 505 columns</p>\n</div>"
     },
     "metadata": {},
     "execution_count": 15
    }
   ],
   "source": [
    "data = pd.read_csv('./sp500_adj_close.csv',header=0, skiprows=1)\n",
    "data = data[1:]\n",
    "data.columns = ['datetime'] + data.columns[1:].to_list()\n",
    "data['datetime'] = pd.to_datetime(data['datetime'])\n",
    "data = data.set_index('datetime')\n",
    "# special\n",
    "data.drop(pd.to_datetime('2017-09-04'),inplace=True)\n",
    "# data.loc['2018-01-01':]\n",
    "data.head()"
   ]
  },
  {
   "cell_type": "code",
   "execution_count": 16,
   "metadata": {},
   "outputs": [
    {
     "output_type": "execute_result",
     "data": {
      "text/plain": [
       "                     A        AAL         AAP        AAPL        ABBV  \\\n",
       "datetime                                                                \n",
       "2021-01-25  125.480003  15.430000  159.660004  142.706757  110.500000   \n",
       "2021-01-26  123.919998  15.530000  157.630005  142.946396  108.800003   \n",
       "2021-01-27  118.800003  16.559999  147.929993  141.848038  102.790001   \n",
       "2021-01-28  121.559998  18.100000  153.339996  136.885452  104.209999   \n",
       "2021-01-29  120.169998  17.170000  149.139999  131.763107  102.480003   \n",
       "\n",
       "                   ABC        ABMD         ABT         ACN        ADBE  ...  \\\n",
       "datetime                                                                ...   \n",
       "2021-01-25  106.870003  348.320007  114.720001  252.039993  473.440002  ...   \n",
       "2021-01-26  108.839996  340.890015  114.730003  252.990005  476.279999  ...   \n",
       "2021-01-27  106.839996  328.600006  114.290001  246.100006  460.000000  ...   \n",
       "2021-01-28  106.900002  355.130005  120.389999  249.339996  465.670013  ...   \n",
       "2021-01-29  104.199997  348.250000  123.589996  241.919998  458.769989  ...   \n",
       "\n",
       "                  XLNX        XOM       XRAY        XRX         XYL  \\\n",
       "datetime                                                              \n",
       "2021-01-25  145.139999  46.900002  57.009998  20.750000  101.000000   \n",
       "2021-01-26  144.389999  45.869999  57.160000  21.070000   99.230003   \n",
       "2021-01-27  133.860001  45.349998  55.369999  20.870001   97.949997   \n",
       "2021-01-28  133.570007  46.060001  55.340000  21.219999   99.089996   \n",
       "2021-01-29  130.570007  44.840000  53.490002  21.030001   96.589996   \n",
       "\n",
       "                   YUM         ZBH        ZBRA       ZION         ZTS  \n",
       "datetime                                                               \n",
       "2021-01-25  105.260002  159.309998  402.630005  47.209999  161.339996  \n",
       "2021-01-26  106.339996  158.220001  395.160004  46.049999  159.710007  \n",
       "2021-01-27  102.019997  152.600006  391.359985  43.810001  153.149994  \n",
       "2021-01-28  102.529999  157.029999  393.029999  45.169998  156.529999  \n",
       "2021-01-29  101.489998  153.669998  387.829987  44.139999  154.250000  \n",
       "\n",
       "[5 rows x 505 columns]"
      ],
      "text/html": "<div>\n<style scoped>\n    .dataframe tbody tr th:only-of-type {\n        vertical-align: middle;\n    }\n\n    .dataframe tbody tr th {\n        vertical-align: top;\n    }\n\n    .dataframe thead th {\n        text-align: right;\n    }\n</style>\n<table border=\"1\" class=\"dataframe\">\n  <thead>\n    <tr style=\"text-align: right;\">\n      <th></th>\n      <th>A</th>\n      <th>AAL</th>\n      <th>AAP</th>\n      <th>AAPL</th>\n      <th>ABBV</th>\n      <th>ABC</th>\n      <th>ABMD</th>\n      <th>ABT</th>\n      <th>ACN</th>\n      <th>ADBE</th>\n      <th>...</th>\n      <th>XLNX</th>\n      <th>XOM</th>\n      <th>XRAY</th>\n      <th>XRX</th>\n      <th>XYL</th>\n      <th>YUM</th>\n      <th>ZBH</th>\n      <th>ZBRA</th>\n      <th>ZION</th>\n      <th>ZTS</th>\n    </tr>\n    <tr>\n      <th>datetime</th>\n      <th></th>\n      <th></th>\n      <th></th>\n      <th></th>\n      <th></th>\n      <th></th>\n      <th></th>\n      <th></th>\n      <th></th>\n      <th></th>\n      <th></th>\n      <th></th>\n      <th></th>\n      <th></th>\n      <th></th>\n      <th></th>\n      <th></th>\n      <th></th>\n      <th></th>\n      <th></th>\n      <th></th>\n    </tr>\n  </thead>\n  <tbody>\n    <tr>\n      <th>2021-01-25</th>\n      <td>125.480003</td>\n      <td>15.430000</td>\n      <td>159.660004</td>\n      <td>142.706757</td>\n      <td>110.500000</td>\n      <td>106.870003</td>\n      <td>348.320007</td>\n      <td>114.720001</td>\n      <td>252.039993</td>\n      <td>473.440002</td>\n      <td>...</td>\n      <td>145.139999</td>\n      <td>46.900002</td>\n      <td>57.009998</td>\n      <td>20.750000</td>\n      <td>101.000000</td>\n      <td>105.260002</td>\n      <td>159.309998</td>\n      <td>402.630005</td>\n      <td>47.209999</td>\n      <td>161.339996</td>\n    </tr>\n    <tr>\n      <th>2021-01-26</th>\n      <td>123.919998</td>\n      <td>15.530000</td>\n      <td>157.630005</td>\n      <td>142.946396</td>\n      <td>108.800003</td>\n      <td>108.839996</td>\n      <td>340.890015</td>\n      <td>114.730003</td>\n      <td>252.990005</td>\n      <td>476.279999</td>\n      <td>...</td>\n      <td>144.389999</td>\n      <td>45.869999</td>\n      <td>57.160000</td>\n      <td>21.070000</td>\n      <td>99.230003</td>\n      <td>106.339996</td>\n      <td>158.220001</td>\n      <td>395.160004</td>\n      <td>46.049999</td>\n      <td>159.710007</td>\n    </tr>\n    <tr>\n      <th>2021-01-27</th>\n      <td>118.800003</td>\n      <td>16.559999</td>\n      <td>147.929993</td>\n      <td>141.848038</td>\n      <td>102.790001</td>\n      <td>106.839996</td>\n      <td>328.600006</td>\n      <td>114.290001</td>\n      <td>246.100006</td>\n      <td>460.000000</td>\n      <td>...</td>\n      <td>133.860001</td>\n      <td>45.349998</td>\n      <td>55.369999</td>\n      <td>20.870001</td>\n      <td>97.949997</td>\n      <td>102.019997</td>\n      <td>152.600006</td>\n      <td>391.359985</td>\n      <td>43.810001</td>\n      <td>153.149994</td>\n    </tr>\n    <tr>\n      <th>2021-01-28</th>\n      <td>121.559998</td>\n      <td>18.100000</td>\n      <td>153.339996</td>\n      <td>136.885452</td>\n      <td>104.209999</td>\n      <td>106.900002</td>\n      <td>355.130005</td>\n      <td>120.389999</td>\n      <td>249.339996</td>\n      <td>465.670013</td>\n      <td>...</td>\n      <td>133.570007</td>\n      <td>46.060001</td>\n      <td>55.340000</td>\n      <td>21.219999</td>\n      <td>99.089996</td>\n      <td>102.529999</td>\n      <td>157.029999</td>\n      <td>393.029999</td>\n      <td>45.169998</td>\n      <td>156.529999</td>\n    </tr>\n    <tr>\n      <th>2021-01-29</th>\n      <td>120.169998</td>\n      <td>17.170000</td>\n      <td>149.139999</td>\n      <td>131.763107</td>\n      <td>102.480003</td>\n      <td>104.199997</td>\n      <td>348.250000</td>\n      <td>123.589996</td>\n      <td>241.919998</td>\n      <td>458.769989</td>\n      <td>...</td>\n      <td>130.570007</td>\n      <td>44.840000</td>\n      <td>53.490002</td>\n      <td>21.030001</td>\n      <td>96.589996</td>\n      <td>101.489998</td>\n      <td>153.669998</td>\n      <td>387.829987</td>\n      <td>44.139999</td>\n      <td>154.250000</td>\n    </tr>\n  </tbody>\n</table>\n<p>5 rows × 505 columns</p>\n</div>"
     },
     "metadata": {},
     "execution_count": 16
    }
   ],
   "source": [
    "data[:'2021-01-31'].tail()"
   ]
  },
  {
   "cell_type": "code",
   "execution_count": 17,
   "metadata": {},
   "outputs": [],
   "source": [
    "transactions_min_v_monthly = pd.read_csv('./dataset_transactions_min_v_monthly.csv',index_col=[0,1])\n",
    "transactions_max_sr_monthly = pd.read_csv('./dataset_transactions_max_sr_monthly.csv',index_col=[0,1])\n",
    "transactions_min_v_yearly = pd.read_csv('./dataset_transactions_min_v_yearly.csv',index_col=[0,1])\n",
    "transactions_max_sr_yearly = pd.read_csv('./dataset_transactions_max_r_yearly.csv',index_col=[0,1])"
   ]
  },
  {
   "cell_type": "code",
   "execution_count": 18,
   "metadata": {},
   "outputs": [
    {
     "output_type": "execute_result",
     "data": {
      "text/plain": [
       "                          price  quantity\n",
       "Date       Security                      \n",
       "2011-02-01 ABC        31.034409     170.0\n",
       "           AWK        20.310934     488.0\n",
       "           AZO       255.000000     523.0\n",
       "           CHTR       41.639999    4607.0\n",
       "           COO        57.254578     457.0\n",
       "...                         ...       ...\n",
       "2021-02-01 TGT       183.570007     806.0\n",
       "           TWTR       52.660000     146.0\n",
       "           VRSK      185.940002    -258.0\n",
       "           WLTW      207.449997     784.0\n",
       "           WMT       139.270004   -3484.0\n",
       "\n",
       "[3215 rows x 2 columns]"
      ],
      "text/html": "<div>\n<style scoped>\n    .dataframe tbody tr th:only-of-type {\n        vertical-align: middle;\n    }\n\n    .dataframe tbody tr th {\n        vertical-align: top;\n    }\n\n    .dataframe thead th {\n        text-align: right;\n    }\n</style>\n<table border=\"1\" class=\"dataframe\">\n  <thead>\n    <tr style=\"text-align: right;\">\n      <th></th>\n      <th></th>\n      <th>price</th>\n      <th>quantity</th>\n    </tr>\n    <tr>\n      <th>Date</th>\n      <th>Security</th>\n      <th></th>\n      <th></th>\n    </tr>\n  </thead>\n  <tbody>\n    <tr>\n      <th rowspan=\"5\" valign=\"top\">2011-02-01</th>\n      <th>ABC</th>\n      <td>31.034409</td>\n      <td>170.0</td>\n    </tr>\n    <tr>\n      <th>AWK</th>\n      <td>20.310934</td>\n      <td>488.0</td>\n    </tr>\n    <tr>\n      <th>AZO</th>\n      <td>255.000000</td>\n      <td>523.0</td>\n    </tr>\n    <tr>\n      <th>CHTR</th>\n      <td>41.639999</td>\n      <td>4607.0</td>\n    </tr>\n    <tr>\n      <th>COO</th>\n      <td>57.254578</td>\n      <td>457.0</td>\n    </tr>\n    <tr>\n      <th>...</th>\n      <th>...</th>\n      <td>...</td>\n      <td>...</td>\n    </tr>\n    <tr>\n      <th rowspan=\"5\" valign=\"top\">2021-02-01</th>\n      <th>TGT</th>\n      <td>183.570007</td>\n      <td>806.0</td>\n    </tr>\n    <tr>\n      <th>TWTR</th>\n      <td>52.660000</td>\n      <td>146.0</td>\n    </tr>\n    <tr>\n      <th>VRSK</th>\n      <td>185.940002</td>\n      <td>-258.0</td>\n    </tr>\n    <tr>\n      <th>WLTW</th>\n      <td>207.449997</td>\n      <td>784.0</td>\n    </tr>\n    <tr>\n      <th>WMT</th>\n      <td>139.270004</td>\n      <td>-3484.0</td>\n    </tr>\n  </tbody>\n</table>\n<p>3215 rows × 2 columns</p>\n</div>"
     },
     "metadata": {},
     "execution_count": 18
    }
   ],
   "source": [
    "transactions_min_v_monthly"
   ]
  },
  {
   "cell_type": "code",
   "execution_count": 19,
   "metadata": {},
   "outputs": [],
   "source": [
    "def get_summ(transactions, data):\n",
    "    stocks_lst = []\n",
    "    for i in transactions.index:\n",
    "        stocks_lst.append(i[1])\n",
    "    stocks_lst = list(set(stocks_lst))\n",
    "    lst = []\n",
    "    for name in stocks_lst:\n",
    "        stock = transactions.loc[(slice(None),name),:]\n",
    "        stocks_held = stock['quantity'].sum()\n",
    "        profit = stocks_held*data[name][-1] -(stock['price']*stock['quantity']).sum()\n",
    "        nums_trade = stock.shape[0]\n",
    "        lst.append([stocks_held, profit, nums_trade])\n",
    "\n",
    "    df_summary = pd.DataFrame(data = np.array(lst), index= stocks_lst, columns=['hold', 'profit', 'nums of trade'])\n",
    "    return df_summary\n"
   ]
  },
  {
   "cell_type": "code",
   "execution_count": 20,
   "metadata": {},
   "outputs": [],
   "source": [
    "summ_trans_min_v_monthly = get_summ(transactions_min_v_monthly,data)\n",
    "summ_trans_max_sr_monthly = get_summ(transactions_max_sr_monthly,data)\n",
    "summ_trans_min_v_yearly = get_summ(transactions_min_v_yearly,data)\n",
    "summ_trans_max_sr_yearly = get_summ(transactions_max_sr_yearly,data)"
   ]
  },
  {
   "cell_type": "code",
   "execution_count": 21,
   "metadata": {},
   "outputs": [],
   "source": [
    "summ_trans_min_v_monthly.to_csv('./summ_trans_min_v_monthly.csv')\n",
    "summ_trans_max_sr_monthly.to_csv('./summ_trans_max_sr_monthly.csv')\n",
    "summ_trans_min_v_yearly.to_csv('./summ_trans_min_v_yearly.csv')\n",
    "summ_trans_max_sr_yearly.to_csv('./summ_trans_max_sr_yearly.csv')"
   ]
  },
  {
   "cell_type": "code",
   "execution_count": 22,
   "metadata": {},
   "outputs": [
    {
     "output_type": "execute_result",
     "data": {
      "text/plain": [
       "       hold        profit  nums of trade\n",
       "KMB     0.0 -10506.498196           29.0\n",
       "HAS   199.0   1445.908829           17.0\n",
       "WRB     0.0  23513.206810           18.0\n",
       "CME     0.0  -9063.861450            4.0\n",
       "UPS     0.0  -5059.649773            3.0\n",
       "...     ...           ...            ...\n",
       "MLM     0.0   -293.724304            2.0\n",
       "CNP     0.0   3770.439257            3.0\n",
       "KO      0.0 -54562.323345           13.0\n",
       "GWW     0.0   9479.206329            5.0\n",
       "AMZN    0.0    450.149048            4.0\n",
       "\n",
       "[185 rows x 3 columns]"
      ],
      "text/html": "<div>\n<style scoped>\n    .dataframe tbody tr th:only-of-type {\n        vertical-align: middle;\n    }\n\n    .dataframe tbody tr th {\n        vertical-align: top;\n    }\n\n    .dataframe thead th {\n        text-align: right;\n    }\n</style>\n<table border=\"1\" class=\"dataframe\">\n  <thead>\n    <tr style=\"text-align: right;\">\n      <th></th>\n      <th>hold</th>\n      <th>profit</th>\n      <th>nums of trade</th>\n    </tr>\n  </thead>\n  <tbody>\n    <tr>\n      <th>KMB</th>\n      <td>0.0</td>\n      <td>-10506.498196</td>\n      <td>29.0</td>\n    </tr>\n    <tr>\n      <th>HAS</th>\n      <td>199.0</td>\n      <td>1445.908829</td>\n      <td>17.0</td>\n    </tr>\n    <tr>\n      <th>WRB</th>\n      <td>0.0</td>\n      <td>23513.206810</td>\n      <td>18.0</td>\n    </tr>\n    <tr>\n      <th>CME</th>\n      <td>0.0</td>\n      <td>-9063.861450</td>\n      <td>4.0</td>\n    </tr>\n    <tr>\n      <th>UPS</th>\n      <td>0.0</td>\n      <td>-5059.649773</td>\n      <td>3.0</td>\n    </tr>\n    <tr>\n      <th>...</th>\n      <td>...</td>\n      <td>...</td>\n      <td>...</td>\n    </tr>\n    <tr>\n      <th>MLM</th>\n      <td>0.0</td>\n      <td>-293.724304</td>\n      <td>2.0</td>\n    </tr>\n    <tr>\n      <th>CNP</th>\n      <td>0.0</td>\n      <td>3770.439257</td>\n      <td>3.0</td>\n    </tr>\n    <tr>\n      <th>KO</th>\n      <td>0.0</td>\n      <td>-54562.323345</td>\n      <td>13.0</td>\n    </tr>\n    <tr>\n      <th>GWW</th>\n      <td>0.0</td>\n      <td>9479.206329</td>\n      <td>5.0</td>\n    </tr>\n    <tr>\n      <th>AMZN</th>\n      <td>0.0</td>\n      <td>450.149048</td>\n      <td>4.0</td>\n    </tr>\n  </tbody>\n</table>\n<p>185 rows × 3 columns</p>\n</div>"
     },
     "metadata": {},
     "execution_count": 22
    }
   ],
   "source": [
    "summ_trans_min_v_monthly"
   ]
  },
  {
   "cell_type": "code",
   "execution_count": 36,
   "metadata": {},
   "outputs": [
    {
     "output_type": "execute_result",
     "data": {
      "text/plain": [
       "     hold         profit  nums of trade\n",
       "AZO   0.0  158975.778229           71.0"
      ],
      "text/html": "<div>\n<style scoped>\n    .dataframe tbody tr th:only-of-type {\n        vertical-align: middle;\n    }\n\n    .dataframe tbody tr th {\n        vertical-align: top;\n    }\n\n    .dataframe thead th {\n        text-align: right;\n    }\n</style>\n<table border=\"1\" class=\"dataframe\">\n  <thead>\n    <tr style=\"text-align: right;\">\n      <th></th>\n      <th>hold</th>\n      <th>profit</th>\n      <th>nums of trade</th>\n    </tr>\n  </thead>\n  <tbody>\n    <tr>\n      <th>AZO</th>\n      <td>0.0</td>\n      <td>158975.778229</td>\n      <td>71.0</td>\n    </tr>\n  </tbody>\n</table>\n</div>"
     },
     "metadata": {},
     "execution_count": 36
    }
   ],
   "source": [
    "summ_trans_min_v_monthly.sort_values('nums of trade', ascending=False)[:1]\n",
    "\n"
   ]
  },
  {
   "cell_type": "code",
   "execution_count": null,
   "metadata": {},
   "outputs": [],
   "source": []
  },
  {
   "cell_type": "code",
   "execution_count": null,
   "metadata": {},
   "outputs": [],
   "source": []
  },
  {
   "cell_type": "code",
   "execution_count": null,
   "metadata": {},
   "outputs": [],
   "source": []
  },
  {
   "cell_type": "code",
   "execution_count": null,
   "metadata": {},
   "outputs": [],
   "source": []
  },
  {
   "cell_type": "code",
   "execution_count": null,
   "metadata": {},
   "outputs": [],
   "source": []
  },
  {
   "cell_type": "code",
   "execution_count": null,
   "metadata": {},
   "outputs": [],
   "source": []
  },
  {
   "cell_type": "code",
   "execution_count": 25,
   "metadata": {},
   "outputs": [
    {
     "output_type": "execute_result",
     "data": {
      "text/plain": [
       "                           price  quantity\n",
       "Date       Security                       \n",
       "2021-02-01 AMZN      3342.879883      18.0"
      ],
      "text/html": "<div>\n<style scoped>\n    .dataframe tbody tr th:only-of-type {\n        vertical-align: middle;\n    }\n\n    .dataframe tbody tr th {\n        vertical-align: top;\n    }\n\n    .dataframe thead th {\n        text-align: right;\n    }\n</style>\n<table border=\"1\" class=\"dataframe\">\n  <thead>\n    <tr style=\"text-align: right;\">\n      <th></th>\n      <th></th>\n      <th>price</th>\n      <th>quantity</th>\n    </tr>\n    <tr>\n      <th>Date</th>\n      <th>Security</th>\n      <th></th>\n      <th></th>\n    </tr>\n  </thead>\n  <tbody>\n    <tr>\n      <th>2021-02-01</th>\n      <th>AMZN</th>\n      <td>3342.879883</td>\n      <td>18.0</td>\n    </tr>\n  </tbody>\n</table>\n</div>"
     },
     "metadata": {},
     "execution_count": 25
    }
   ],
   "source": [
    "stock = transactions_max_sr_monthly.loc[(slice(None),'AMZN'),:]\n",
    "stock"
   ]
  },
  {
   "cell_type": "code",
   "execution_count": 26,
   "metadata": {},
   "outputs": [
    {
     "output_type": "execute_result",
     "data": {
      "text/plain": [
       "18.0"
      ]
     },
     "metadata": {},
     "execution_count": 26
    }
   ],
   "source": [
    "stocks_held = stock['quantity'].sum()\n",
    "stocks_held"
   ]
  },
  {
   "cell_type": "code",
   "execution_count": 27,
   "metadata": {},
   "outputs": [
    {
     "output_type": "execute_result",
     "data": {
      "text/plain": [
       "3342.8798828125"
      ]
     },
     "metadata": {},
     "execution_count": 27
    }
   ],
   "source": [
    "stock['price'][-1]"
   ]
  },
  {
   "cell_type": "code",
   "execution_count": 28,
   "metadata": {},
   "outputs": [
    {
     "output_type": "execute_result",
     "data": {
      "text/plain": [
       "60171.837890625"
      ]
     },
     "metadata": {},
     "execution_count": 28
    }
   ],
   "source": [
    "stocks_held*stock['price'][-1]"
   ]
  },
  {
   "cell_type": "code",
   "execution_count": 29,
   "metadata": {},
   "outputs": [
    {
     "output_type": "execute_result",
     "data": {
      "text/plain": [
       "-60171.837890625"
      ]
     },
     "metadata": {},
     "execution_count": 29
    }
   ],
   "source": [
    "-(stock['price']*stock['quantity']).sum()"
   ]
  },
  {
   "cell_type": "code",
   "execution_count": 30,
   "metadata": {},
   "outputs": [
    {
     "output_type": "execute_result",
     "data": {
      "text/plain": [
       "166.8603515625"
      ]
     },
     "metadata": {},
     "execution_count": 30
    }
   ],
   "source": [
    "profit = stocks_held*data['AMZN'][-1] -(stock['price']*stock['quantity']).sum()\n",
    "profit"
   ]
  },
  {
   "cell_type": "code",
   "execution_count": null,
   "metadata": {},
   "outputs": [],
   "source": []
  },
  {
   "cell_type": "code",
   "execution_count": 26,
   "metadata": {},
   "outputs": [
    {
     "output_type": "execute_result",
     "data": {
      "text/plain": [
       "3304.46728515625"
      ]
     },
     "metadata": {},
     "execution_count": 26
    }
   ],
   "source": []
  },
  {
   "cell_type": "code",
   "execution_count": null,
   "metadata": {},
   "outputs": [],
   "source": []
  }
 ]
}