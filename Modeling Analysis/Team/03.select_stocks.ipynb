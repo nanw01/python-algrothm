{
 "metadata": {
  "language_info": {
   "codemirror_mode": {
    "name": "ipython",
    "version": 3
   },
   "file_extension": ".py",
   "mimetype": "text/x-python",
   "name": "python",
   "nbconvert_exporter": "python",
   "pygments_lexer": "ipython3",
   "version": "3.8.5-final"
  },
  "orig_nbformat": 2,
  "kernelspec": {
   "name": "python3",
   "display_name": "Python 3",
   "language": "python"
  }
 },
 "nbformat": 4,
 "nbformat_minor": 2,
 "cells": [
  {
   "cell_type": "code",
   "execution_count": 1,
   "metadata": {},
   "outputs": [],
   "source": [
    "import bt\n",
    "import pandas as pd\n",
    "import numpy as np\n",
    "import matplotlib.pyplot as plt\n",
    "from bt.core import Algo"
   ]
  },
  {
   "cell_type": "code",
   "execution_count": 2,
   "metadata": {},
   "outputs": [
    {
     "output_type": "execute_result",
     "data": {
      "text/plain": [
       "                    A       AAL        AAP      AAPL  ABBV        ABC  ABMD  \\\n",
       "datetime                                                                      \n",
       "2010-01-04  20.545469  4.496876  39.103363  6.583586   NaN  22.512976  8.74   \n",
       "2010-01-05  20.322289  5.005957  38.870968  6.594968   NaN  22.352354  8.53   \n",
       "2010-01-06  20.250088  4.798555  39.209885  6.490066   NaN  22.141001  8.40   \n",
       "2010-01-07  20.223829  4.939965  39.200214  6.478067   NaN  21.785934  8.40   \n",
       "2010-01-08  20.217272  4.845690  39.355148  6.521136   NaN  22.022644  8.23   \n",
       "\n",
       "                  ABT        ACN       ADBE  ...       XLNX        XOM  \\\n",
       "datetime                                     ...                         \n",
       "2010-01-04  20.074522  33.718582  37.090000  ...  19.830650  46.349365   \n",
       "2010-01-05  19.912334  33.926979  37.700001  ...  19.580618  46.530319   \n",
       "2010-01-06  20.022911  34.287651  37.619999  ...  19.447794  46.932491   \n",
       "2010-01-07  20.188793  34.255581  36.889999  ...  19.252451  46.785034   \n",
       "2010-01-08  20.292002  34.119335  36.689999  ...  19.533739  46.597363   \n",
       "\n",
       "                 XRAY        XRX  XYL        YUM        ZBH       ZBRA  \\\n",
       "datetime                                                                 \n",
       "2010-01-04  32.941868  14.571863  NaN  20.328438  55.501415  28.670000   \n",
       "2010-01-05  32.550251  14.588748  NaN  20.258917  57.258369  28.620001   \n",
       "2010-01-06  32.764709  14.453672  NaN  20.114088  57.239891  28.400000   \n",
       "2010-01-07  33.193615  14.521203  NaN  20.108294  58.552982  27.690001   \n",
       "2010-01-08  33.193615  14.470551  NaN  20.114088  57.323116  27.600000   \n",
       "\n",
       "                 ZION  ZTS  \n",
       "datetime                    \n",
       "2010-01-04  11.726357  NaN  \n",
       "2010-01-05  12.139812  NaN  \n",
       "2010-01-06  13.195447  NaN  \n",
       "2010-01-07  14.673337  NaN  \n",
       "2010-01-08  14.435819  NaN  \n",
       "\n",
       "[5 rows x 505 columns]"
      ],
      "text/html": "<div>\n<style scoped>\n    .dataframe tbody tr th:only-of-type {\n        vertical-align: middle;\n    }\n\n    .dataframe tbody tr th {\n        vertical-align: top;\n    }\n\n    .dataframe thead th {\n        text-align: right;\n    }\n</style>\n<table border=\"1\" class=\"dataframe\">\n  <thead>\n    <tr style=\"text-align: right;\">\n      <th></th>\n      <th>A</th>\n      <th>AAL</th>\n      <th>AAP</th>\n      <th>AAPL</th>\n      <th>ABBV</th>\n      <th>ABC</th>\n      <th>ABMD</th>\n      <th>ABT</th>\n      <th>ACN</th>\n      <th>ADBE</th>\n      <th>...</th>\n      <th>XLNX</th>\n      <th>XOM</th>\n      <th>XRAY</th>\n      <th>XRX</th>\n      <th>XYL</th>\n      <th>YUM</th>\n      <th>ZBH</th>\n      <th>ZBRA</th>\n      <th>ZION</th>\n      <th>ZTS</th>\n    </tr>\n    <tr>\n      <th>datetime</th>\n      <th></th>\n      <th></th>\n      <th></th>\n      <th></th>\n      <th></th>\n      <th></th>\n      <th></th>\n      <th></th>\n      <th></th>\n      <th></th>\n      <th></th>\n      <th></th>\n      <th></th>\n      <th></th>\n      <th></th>\n      <th></th>\n      <th></th>\n      <th></th>\n      <th></th>\n      <th></th>\n      <th></th>\n    </tr>\n  </thead>\n  <tbody>\n    <tr>\n      <th>2010-01-04</th>\n      <td>20.545469</td>\n      <td>4.496876</td>\n      <td>39.103363</td>\n      <td>6.583586</td>\n      <td>NaN</td>\n      <td>22.512976</td>\n      <td>8.74</td>\n      <td>20.074522</td>\n      <td>33.718582</td>\n      <td>37.090000</td>\n      <td>...</td>\n      <td>19.830650</td>\n      <td>46.349365</td>\n      <td>32.941868</td>\n      <td>14.571863</td>\n      <td>NaN</td>\n      <td>20.328438</td>\n      <td>55.501415</td>\n      <td>28.670000</td>\n      <td>11.726357</td>\n      <td>NaN</td>\n    </tr>\n    <tr>\n      <th>2010-01-05</th>\n      <td>20.322289</td>\n      <td>5.005957</td>\n      <td>38.870968</td>\n      <td>6.594968</td>\n      <td>NaN</td>\n      <td>22.352354</td>\n      <td>8.53</td>\n      <td>19.912334</td>\n      <td>33.926979</td>\n      <td>37.700001</td>\n      <td>...</td>\n      <td>19.580618</td>\n      <td>46.530319</td>\n      <td>32.550251</td>\n      <td>14.588748</td>\n      <td>NaN</td>\n      <td>20.258917</td>\n      <td>57.258369</td>\n      <td>28.620001</td>\n      <td>12.139812</td>\n      <td>NaN</td>\n    </tr>\n    <tr>\n      <th>2010-01-06</th>\n      <td>20.250088</td>\n      <td>4.798555</td>\n      <td>39.209885</td>\n      <td>6.490066</td>\n      <td>NaN</td>\n      <td>22.141001</td>\n      <td>8.40</td>\n      <td>20.022911</td>\n      <td>34.287651</td>\n      <td>37.619999</td>\n      <td>...</td>\n      <td>19.447794</td>\n      <td>46.932491</td>\n      <td>32.764709</td>\n      <td>14.453672</td>\n      <td>NaN</td>\n      <td>20.114088</td>\n      <td>57.239891</td>\n      <td>28.400000</td>\n      <td>13.195447</td>\n      <td>NaN</td>\n    </tr>\n    <tr>\n      <th>2010-01-07</th>\n      <td>20.223829</td>\n      <td>4.939965</td>\n      <td>39.200214</td>\n      <td>6.478067</td>\n      <td>NaN</td>\n      <td>21.785934</td>\n      <td>8.40</td>\n      <td>20.188793</td>\n      <td>34.255581</td>\n      <td>36.889999</td>\n      <td>...</td>\n      <td>19.252451</td>\n      <td>46.785034</td>\n      <td>33.193615</td>\n      <td>14.521203</td>\n      <td>NaN</td>\n      <td>20.108294</td>\n      <td>58.552982</td>\n      <td>27.690001</td>\n      <td>14.673337</td>\n      <td>NaN</td>\n    </tr>\n    <tr>\n      <th>2010-01-08</th>\n      <td>20.217272</td>\n      <td>4.845690</td>\n      <td>39.355148</td>\n      <td>6.521136</td>\n      <td>NaN</td>\n      <td>22.022644</td>\n      <td>8.23</td>\n      <td>20.292002</td>\n      <td>34.119335</td>\n      <td>36.689999</td>\n      <td>...</td>\n      <td>19.533739</td>\n      <td>46.597363</td>\n      <td>33.193615</td>\n      <td>14.470551</td>\n      <td>NaN</td>\n      <td>20.114088</td>\n      <td>57.323116</td>\n      <td>27.600000</td>\n      <td>14.435819</td>\n      <td>NaN</td>\n    </tr>\n  </tbody>\n</table>\n<p>5 rows × 505 columns</p>\n</div>"
     },
     "metadata": {},
     "execution_count": 2
    }
   ],
   "source": [
    "data = pd.read_csv('./sp500_adj_close.csv',header=0, skiprows=1)\n",
    "data = data[1:]\n",
    "data.columns = ['datetime'] + data.columns[1:].to_list()\n",
    "data['datetime'] = pd.to_datetime(data['datetime'])\n",
    "data = data.set_index('datetime')\n",
    "# special\n",
    "data.drop(pd.to_datetime('2017-09-04'),inplace=True)\n",
    "# data.loc['2018-01-01':]\n",
    "data.head()"
   ]
  },
  {
   "cell_type": "code",
   "execution_count": 55,
   "metadata": {},
   "outputs": [
    {
     "output_type": "execute_result",
     "data": {
      "text/plain": [
       "                  ^GSPC\n",
       "datatime               \n",
       "2010-01-04  1132.989990\n",
       "2010-01-05  1136.520020\n",
       "2010-01-06  1137.140015\n",
       "2010-01-07  1141.689941\n",
       "2010-01-08  1144.979980\n",
       "...                 ...\n",
       "2021-02-01  3773.860107\n",
       "2021-02-02  3826.310059\n",
       "2021-02-03  3830.169922\n",
       "2021-02-04  3871.739990\n",
       "2021-02-05  3886.830078\n",
       "\n",
       "[2793 rows x 1 columns]"
      ],
      "text/html": "<div>\n<style scoped>\n    .dataframe tbody tr th:only-of-type {\n        vertical-align: middle;\n    }\n\n    .dataframe tbody tr th {\n        vertical-align: top;\n    }\n\n    .dataframe thead th {\n        text-align: right;\n    }\n</style>\n<table border=\"1\" class=\"dataframe\">\n  <thead>\n    <tr style=\"text-align: right;\">\n      <th></th>\n      <th>^GSPC</th>\n    </tr>\n    <tr>\n      <th>datatime</th>\n      <th></th>\n    </tr>\n  </thead>\n  <tbody>\n    <tr>\n      <th>2010-01-04</th>\n      <td>1132.989990</td>\n    </tr>\n    <tr>\n      <th>2010-01-05</th>\n      <td>1136.520020</td>\n    </tr>\n    <tr>\n      <th>2010-01-06</th>\n      <td>1137.140015</td>\n    </tr>\n    <tr>\n      <th>2010-01-07</th>\n      <td>1141.689941</td>\n    </tr>\n    <tr>\n      <th>2010-01-08</th>\n      <td>1144.979980</td>\n    </tr>\n    <tr>\n      <th>...</th>\n      <td>...</td>\n    </tr>\n    <tr>\n      <th>2021-02-01</th>\n      <td>3773.860107</td>\n    </tr>\n    <tr>\n      <th>2021-02-02</th>\n      <td>3826.310059</td>\n    </tr>\n    <tr>\n      <th>2021-02-03</th>\n      <td>3830.169922</td>\n    </tr>\n    <tr>\n      <th>2021-02-04</th>\n      <td>3871.739990</td>\n    </tr>\n    <tr>\n      <th>2021-02-05</th>\n      <td>3886.830078</td>\n    </tr>\n  </tbody>\n</table>\n<p>2793 rows × 1 columns</p>\n</div>"
     },
     "metadata": {},
     "execution_count": 55
    }
   ],
   "source": [
    "benchmark_data = pd.read_csv('./sp500_^SPGC_adj_close.csv',index_col=1)\n",
    "benchmark_data = benchmark_data[['^GSPC']].reset_index('datatime').set_index('datatime').copy()\n",
    "benchmark_data.index = pd.DatetimeIndex(benchmark_data.index)\n",
    "benchmark_data\n",
    "\n"
   ]
  },
  {
   "cell_type": "code",
   "execution_count": null,
   "metadata": {},
   "outputs": [],
   "source": []
  },
  {
   "cell_type": "code",
   "execution_count": 4,
   "metadata": {},
   "outputs": [
    {
     "output_type": "execute_result",
     "data": {
      "text/plain": [
       "                A    AAL    AAP   AAPL   ABBV    ABC   ABMD    ABT    ACN  \\\n",
       "datetime                                                                    \n",
       "2010-01-04  False  False  False  False  False  False  False  False  False   \n",
       "2010-01-05  False  False  False  False  False  False  False  False  False   \n",
       "2010-01-06  False  False  False  False  False  False  False  False  False   \n",
       "2010-01-07  False  False  False  False  False  False  False  False  False   \n",
       "2010-01-08  False  False  False  False  False  False  False  False  False   \n",
       "...           ...    ...    ...    ...    ...    ...    ...    ...    ...   \n",
       "2021-02-01   True  False  False   True  False   True   True   True  False   \n",
       "2021-02-02   True  False  False   True  False   True   True   True  False   \n",
       "2021-02-03   True  False  False   True   True   True   True   True  False   \n",
       "2021-02-04   True  False   True   True   True   True   True   True   True   \n",
       "2021-02-05   True  False  False   True   True   True   True   True   True   \n",
       "\n",
       "             ADBE  ...   XLNX    XOM   XRAY    XRX    XYL    YUM    ZBH  \\\n",
       "datetime           ...                                                    \n",
       "2010-01-04  False  ...  False  False  False  False  False  False  False   \n",
       "2010-01-05  False  ...  False  False  False  False  False  False  False   \n",
       "2010-01-06  False  ...  False  False  False  False  False  False  False   \n",
       "2010-01-07  False  ...  False  False  False  False  False  False  False   \n",
       "2010-01-08  False  ...  False  False  False  False  False  False  False   \n",
       "...           ...  ...    ...    ...    ...    ...    ...    ...    ...   \n",
       "2021-02-01  False  ...  False  False  False  False  False  False   True   \n",
       "2021-02-02   True  ...  False  False   True  False  False   True   True   \n",
       "2021-02-03   True  ...  False  False   True  False  False  False   True   \n",
       "2021-02-04   True  ...  False  False   True  False  False  False   True   \n",
       "2021-02-05   True  ...  False  False   True  False  False   True   True   \n",
       "\n",
       "             ZBRA   ZION    ZTS  \n",
       "datetime                         \n",
       "2010-01-04  False  False  False  \n",
       "2010-01-05  False  False  False  \n",
       "2010-01-06  False  False  False  \n",
       "2010-01-07  False  False  False  \n",
       "2010-01-08  False  False  False  \n",
       "...           ...    ...    ...  \n",
       "2021-02-01   True   True  False  \n",
       "2021-02-02   True   True  False  \n",
       "2021-02-03   True   True  False  \n",
       "2021-02-04   True   True  False  \n",
       "2021-02-05   True   True  False  \n",
       "\n",
       "[2793 rows x 505 columns]"
      ],
      "text/html": "<div>\n<style scoped>\n    .dataframe tbody tr th:only-of-type {\n        vertical-align: middle;\n    }\n\n    .dataframe tbody tr th {\n        vertical-align: top;\n    }\n\n    .dataframe thead th {\n        text-align: right;\n    }\n</style>\n<table border=\"1\" class=\"dataframe\">\n  <thead>\n    <tr style=\"text-align: right;\">\n      <th></th>\n      <th>A</th>\n      <th>AAL</th>\n      <th>AAP</th>\n      <th>AAPL</th>\n      <th>ABBV</th>\n      <th>ABC</th>\n      <th>ABMD</th>\n      <th>ABT</th>\n      <th>ACN</th>\n      <th>ADBE</th>\n      <th>...</th>\n      <th>XLNX</th>\n      <th>XOM</th>\n      <th>XRAY</th>\n      <th>XRX</th>\n      <th>XYL</th>\n      <th>YUM</th>\n      <th>ZBH</th>\n      <th>ZBRA</th>\n      <th>ZION</th>\n      <th>ZTS</th>\n    </tr>\n    <tr>\n      <th>datetime</th>\n      <th></th>\n      <th></th>\n      <th></th>\n      <th></th>\n      <th></th>\n      <th></th>\n      <th></th>\n      <th></th>\n      <th></th>\n      <th></th>\n      <th></th>\n      <th></th>\n      <th></th>\n      <th></th>\n      <th></th>\n      <th></th>\n      <th></th>\n      <th></th>\n      <th></th>\n      <th></th>\n      <th></th>\n    </tr>\n  </thead>\n  <tbody>\n    <tr>\n      <th>2010-01-04</th>\n      <td>False</td>\n      <td>False</td>\n      <td>False</td>\n      <td>False</td>\n      <td>False</td>\n      <td>False</td>\n      <td>False</td>\n      <td>False</td>\n      <td>False</td>\n      <td>False</td>\n      <td>...</td>\n      <td>False</td>\n      <td>False</td>\n      <td>False</td>\n      <td>False</td>\n      <td>False</td>\n      <td>False</td>\n      <td>False</td>\n      <td>False</td>\n      <td>False</td>\n      <td>False</td>\n    </tr>\n    <tr>\n      <th>2010-01-05</th>\n      <td>False</td>\n      <td>False</td>\n      <td>False</td>\n      <td>False</td>\n      <td>False</td>\n      <td>False</td>\n      <td>False</td>\n      <td>False</td>\n      <td>False</td>\n      <td>False</td>\n      <td>...</td>\n      <td>False</td>\n      <td>False</td>\n      <td>False</td>\n      <td>False</td>\n      <td>False</td>\n      <td>False</td>\n      <td>False</td>\n      <td>False</td>\n      <td>False</td>\n      <td>False</td>\n    </tr>\n    <tr>\n      <th>2010-01-06</th>\n      <td>False</td>\n      <td>False</td>\n      <td>False</td>\n      <td>False</td>\n      <td>False</td>\n      <td>False</td>\n      <td>False</td>\n      <td>False</td>\n      <td>False</td>\n      <td>False</td>\n      <td>...</td>\n      <td>False</td>\n      <td>False</td>\n      <td>False</td>\n      <td>False</td>\n      <td>False</td>\n      <td>False</td>\n      <td>False</td>\n      <td>False</td>\n      <td>False</td>\n      <td>False</td>\n    </tr>\n    <tr>\n      <th>2010-01-07</th>\n      <td>False</td>\n      <td>False</td>\n      <td>False</td>\n      <td>False</td>\n      <td>False</td>\n      <td>False</td>\n      <td>False</td>\n      <td>False</td>\n      <td>False</td>\n      <td>False</td>\n      <td>...</td>\n      <td>False</td>\n      <td>False</td>\n      <td>False</td>\n      <td>False</td>\n      <td>False</td>\n      <td>False</td>\n      <td>False</td>\n      <td>False</td>\n      <td>False</td>\n      <td>False</td>\n    </tr>\n    <tr>\n      <th>2010-01-08</th>\n      <td>False</td>\n      <td>False</td>\n      <td>False</td>\n      <td>False</td>\n      <td>False</td>\n      <td>False</td>\n      <td>False</td>\n      <td>False</td>\n      <td>False</td>\n      <td>False</td>\n      <td>...</td>\n      <td>False</td>\n      <td>False</td>\n      <td>False</td>\n      <td>False</td>\n      <td>False</td>\n      <td>False</td>\n      <td>False</td>\n      <td>False</td>\n      <td>False</td>\n      <td>False</td>\n    </tr>\n    <tr>\n      <th>...</th>\n      <td>...</td>\n      <td>...</td>\n      <td>...</td>\n      <td>...</td>\n      <td>...</td>\n      <td>...</td>\n      <td>...</td>\n      <td>...</td>\n      <td>...</td>\n      <td>...</td>\n      <td>...</td>\n      <td>...</td>\n      <td>...</td>\n      <td>...</td>\n      <td>...</td>\n      <td>...</td>\n      <td>...</td>\n      <td>...</td>\n      <td>...</td>\n      <td>...</td>\n      <td>...</td>\n    </tr>\n    <tr>\n      <th>2021-02-01</th>\n      <td>True</td>\n      <td>False</td>\n      <td>False</td>\n      <td>True</td>\n      <td>False</td>\n      <td>True</td>\n      <td>True</td>\n      <td>True</td>\n      <td>False</td>\n      <td>False</td>\n      <td>...</td>\n      <td>False</td>\n      <td>False</td>\n      <td>False</td>\n      <td>False</td>\n      <td>False</td>\n      <td>False</td>\n      <td>True</td>\n      <td>True</td>\n      <td>True</td>\n      <td>False</td>\n    </tr>\n    <tr>\n      <th>2021-02-02</th>\n      <td>True</td>\n      <td>False</td>\n      <td>False</td>\n      <td>True</td>\n      <td>False</td>\n      <td>True</td>\n      <td>True</td>\n      <td>True</td>\n      <td>False</td>\n      <td>True</td>\n      <td>...</td>\n      <td>False</td>\n      <td>False</td>\n      <td>True</td>\n      <td>False</td>\n      <td>False</td>\n      <td>True</td>\n      <td>True</td>\n      <td>True</td>\n      <td>True</td>\n      <td>False</td>\n    </tr>\n    <tr>\n      <th>2021-02-03</th>\n      <td>True</td>\n      <td>False</td>\n      <td>False</td>\n      <td>True</td>\n      <td>True</td>\n      <td>True</td>\n      <td>True</td>\n      <td>True</td>\n      <td>False</td>\n      <td>True</td>\n      <td>...</td>\n      <td>False</td>\n      <td>False</td>\n      <td>True</td>\n      <td>False</td>\n      <td>False</td>\n      <td>False</td>\n      <td>True</td>\n      <td>True</td>\n      <td>True</td>\n      <td>False</td>\n    </tr>\n    <tr>\n      <th>2021-02-04</th>\n      <td>True</td>\n      <td>False</td>\n      <td>True</td>\n      <td>True</td>\n      <td>True</td>\n      <td>True</td>\n      <td>True</td>\n      <td>True</td>\n      <td>True</td>\n      <td>True</td>\n      <td>...</td>\n      <td>False</td>\n      <td>False</td>\n      <td>True</td>\n      <td>False</td>\n      <td>False</td>\n      <td>False</td>\n      <td>True</td>\n      <td>True</td>\n      <td>True</td>\n      <td>False</td>\n    </tr>\n    <tr>\n      <th>2021-02-05</th>\n      <td>True</td>\n      <td>False</td>\n      <td>False</td>\n      <td>True</td>\n      <td>True</td>\n      <td>True</td>\n      <td>True</td>\n      <td>True</td>\n      <td>True</td>\n      <td>True</td>\n      <td>...</td>\n      <td>False</td>\n      <td>False</td>\n      <td>True</td>\n      <td>False</td>\n      <td>False</td>\n      <td>True</td>\n      <td>True</td>\n      <td>True</td>\n      <td>True</td>\n      <td>False</td>\n    </tr>\n  </tbody>\n</table>\n<p>2793 rows × 505 columns</p>\n</div>"
     },
     "metadata": {},
     "execution_count": 4
    }
   ],
   "source": [
    "ema_50 = data.ewm(span=50, adjust=True).mean()\n",
    "ema_100 = data.ewm(span=100, adjust=True).mean()\n",
    "ema_150 = data.ewm(span=150, adjust=True).mean()\n",
    "ema_200 = data.ewm(span=200, adjust=True).mean()\n",
    "\n",
    "# 1. The current stock price is above both the 150-day and 200-day moving average\n",
    "r_1 = (data > ema_150) + (data >ema_200)\n",
    "# 2. The 150-day moving average is above the 200-day moving average\n",
    "r_2 = ema_150 > ema_200\n",
    "# 3. The 200-day moving average line is trending up for at least 1 month\n",
    "\n",
    "# 4. The 50-day moving average is above both the 150-day and 200-day moving averages\n",
    "r_4 = (ema_50 > ema_150) + (ema_50 > ema_200)\n",
    "# 5. The current stock price is trading above the 50-day moving average\n",
    "r_5 = data > ema_50\n",
    "# 6. The current stock price is at least 30% above it’s 52-week low\n",
    "low_52week = data.rolling(52 * 5).min()\n",
    "r_6 = data >= low_52week * 1.3\n",
    "# 7. The current stock price is within at least 25% of its 52-week high\n",
    "high_52week = data.rolling(52 * 5).max()\n",
    "r_7 = (data >= high_52week * 0.75) + (data <= high_52week * 1.25)\n",
    "# 8. The relative strength ranking (as reported in Investor’s Business Daily) is no less than 70. Preferably \n",
    "\n",
    "signal = r_1 & r_2 & r_4 & r_5 & r_6 & r_7\n",
    "signal"
   ]
  },
  {
   "cell_type": "code",
   "execution_count": 5,
   "metadata": {},
   "outputs": [],
   "source": [
    "from pypfopt import EfficientFrontier\n",
    "from pypfopt import risk_models\n",
    "from pypfopt import expected_returns\n",
    "\n",
    "\n",
    "class WeighEqually_DIY(Algo):\n",
    "\n",
    "    def __init__(self,optimial_type='min_volatility',risk_free_rate = 0.1):\n",
    "        super(WeighEqually_DIY, self).__init__()\n",
    "        self.optimial_type = optimial_type\n",
    "        self.risk_free_rate = risk_free_rate\n",
    "\n",
    "    def __call__(self, target):\n",
    "        selected = target.temp['selected']\n",
    "        n = len(selected)\n",
    "\n",
    "        if n == 0:\n",
    "            target.temp['weights'] = {}\n",
    "        else:\n",
    "            \n",
    "            df = target.universe[selected]\n",
    "            # Calculate expected returns and sample covariance\n",
    "            mu = expected_returns.mean_historical_return(df)\n",
    "            S = risk_models.sample_cov(df)\n",
    "            \n",
    "            # Optimise for maximal Sharpe ratio\n",
    "            ef = EfficientFrontier(mu, S)\n",
    "            \n",
    "            if self.optimial_type == 'min_volatility':\n",
    "                \n",
    "                weights = ef.min_volatility()\n",
    "                cleaned_weights = ef.clean_weights()\n",
    "                target.temp['selected'] = list(cleaned_weights.keys())\n",
    "                target.temp['weights'] = cleaned_weights\n",
    "            elif self.optimial_type == 'max_sharpe':\n",
    "                weights = ef.max_sharpe(risk_free_rate = self.risk_free_rate)\n",
    "\n",
    "                # risk_free_rate (float, optional) – risk-free rate of borrowing/lending, defaults to 0.02. The period of the risk-free rate should correspond to the frequency of expected returns.\n",
    "\n",
    "                cleaned_weights = ef.clean_weights()\n",
    "                target.temp['selected'] = list(cleaned_weights.keys())\n",
    "                target.temp['weights'] = cleaned_weights\n",
    "        return True\n"
   ]
  },
  {
   "cell_type": "code",
   "execution_count": 6,
   "metadata": {},
   "outputs": [],
   "source": [
    "# create the strategy #risk\n",
    "s_mv_monthly = bt.Strategy('minimum volatility monthly', [bt.algos.RunMonthly(),\n",
    "                       bt.algos.SelectWhere(signal),\n",
    "                       WeighEqually_DIY(optimial_type='min_volatility'),\n",
    "                       bt.algos.Rebalance()])\n",
    "# create a backtest and run it\n",
    "mv_monthly = bt.Backtest(s_mv_monthly, data,progress_bar=True)\n",
    "\n",
    "# create the strategy. #return(max risk)\n",
    "s_msr_monthly = bt.Strategy('maximum sharpe ratio monthly', [bt.algos.RunMonthly(),\n",
    "                       bt.algos.SelectWhere(signal),\n",
    "                       WeighEqually_DIY(optimial_type='max_sharpe',risk_free_rate = 0.05),\n",
    "                       bt.algos.Rebalance()])\n",
    "# create a backtest and run it\n",
    "msr__monthly = bt.Backtest(s_msr_monthly, data,progress_bar=True)"
   ]
  },
  {
   "cell_type": "code",
   "execution_count": 7,
   "metadata": {},
   "outputs": [],
   "source": [
    "# 'minimum volatility monthly'\n",
    "# 'maximum sharpe ratio monthly'\n",
    "# 'minimum volatility yearly'\n",
    "# 'maximum sharpe ratio yearly'"
   ]
  },
  {
   "cell_type": "code",
   "execution_count": 8,
   "metadata": {},
   "outputs": [],
   "source": [
    "# create the strategy #risk\n",
    "s_mv_yearly = bt.Strategy('minimum volatility yearly', [bt.algos.RunYearly(),\n",
    "                       bt.algos.SelectWhere(signal),\n",
    "                       WeighEqually_DIY(optimial_type='min_volatility'),\n",
    "                       bt.algos.Rebalance()])\n",
    "# create a backtest and run it\n",
    "mv_yearly = bt.Backtest(s_mv_yearly, data,progress_bar=True)\n",
    "\n",
    "# create the strategy. #return(max risk)\n",
    "s_msr_yearly = bt.Strategy('maximum sharpe ratio yearly', [bt.algos.RunYearly(),\n",
    "                       bt.algos.SelectWhere(signal),\n",
    "                       WeighEqually_DIY(optimial_type='max_sharpe',risk_free_rate = 0.1),\n",
    "                       bt.algos.Rebalance()])\n",
    "# create a backtest and run it\n",
    "msr__yearly = bt.Backtest(s_msr_yearly, data,progress_bar=True)"
   ]
  },
  {
   "cell_type": "code",
   "execution_count": 9,
   "metadata": {},
   "outputs": [
    {
     "output_type": "execute_result",
     "data": {
      "text/plain": [
       "                  ^GSPC\n",
       "datatime               \n",
       "2010-01-04  1132.989990\n",
       "2010-01-05  1136.520020\n",
       "2010-01-06  1137.140015\n",
       "2010-01-07  1141.689941\n",
       "2010-01-08  1144.979980\n",
       "...                 ...\n",
       "2021-02-01  3773.860107\n",
       "2021-02-02  3826.310059\n",
       "2021-02-03  3830.169922\n",
       "2021-02-04  3871.739990\n",
       "2021-02-05  3886.830078\n",
       "\n",
       "[2793 rows x 1 columns]"
      ],
      "text/html": "<div>\n<style scoped>\n    .dataframe tbody tr th:only-of-type {\n        vertical-align: middle;\n    }\n\n    .dataframe tbody tr th {\n        vertical-align: top;\n    }\n\n    .dataframe thead th {\n        text-align: right;\n    }\n</style>\n<table border=\"1\" class=\"dataframe\">\n  <thead>\n    <tr style=\"text-align: right;\">\n      <th></th>\n      <th>^GSPC</th>\n    </tr>\n    <tr>\n      <th>datatime</th>\n      <th></th>\n    </tr>\n  </thead>\n  <tbody>\n    <tr>\n      <th>2010-01-04</th>\n      <td>1132.989990</td>\n    </tr>\n    <tr>\n      <th>2010-01-05</th>\n      <td>1136.520020</td>\n    </tr>\n    <tr>\n      <th>2010-01-06</th>\n      <td>1137.140015</td>\n    </tr>\n    <tr>\n      <th>2010-01-07</th>\n      <td>1141.689941</td>\n    </tr>\n    <tr>\n      <th>2010-01-08</th>\n      <td>1144.979980</td>\n    </tr>\n    <tr>\n      <th>...</th>\n      <td>...</td>\n    </tr>\n    <tr>\n      <th>2021-02-01</th>\n      <td>3773.860107</td>\n    </tr>\n    <tr>\n      <th>2021-02-02</th>\n      <td>3826.310059</td>\n    </tr>\n    <tr>\n      <th>2021-02-03</th>\n      <td>3830.169922</td>\n    </tr>\n    <tr>\n      <th>2021-02-04</th>\n      <td>3871.739990</td>\n    </tr>\n    <tr>\n      <th>2021-02-05</th>\n      <td>3886.830078</td>\n    </tr>\n  </tbody>\n</table>\n<p>2793 rows × 1 columns</p>\n</div>"
     },
     "metadata": {},
     "execution_count": 9
    }
   ],
   "source": [
    "benchmark_data"
   ]
  },
  {
   "cell_type": "code",
   "execution_count": 10,
   "metadata": {},
   "outputs": [
    {
     "output_type": "stream",
     "name": "stdout",
     "text": [
      "minimum volatility monthly\n",
      "0% [############################# ] 100% | ETA: 00:00:00maximum sharpe ratio monthly\n",
      "0% [############################# ] 100% | ETA: 00:00:01minimum volatility yearly\n",
      "0% [############################# ] 100% | ETA: 00:00:00maximum sharpe ratio yearly\n",
      "0% [############################# ] 100% | ETA: 00:00:00"
     ]
    }
   ],
   "source": [
    "res = bt.run(mv_monthly, msr__monthly,mv_yearly,msr__yearly)  #,b_yearly)"
   ]
  },
  {
   "cell_type": "code",
   "execution_count": 11,
   "metadata": {},
   "outputs": [],
   "source": [
    "#AT the minimium risk the return is low and the maximum risk the return is high."
   ]
  },
  {
   "cell_type": "code",
   "execution_count": 12,
   "metadata": {},
   "outputs": [
    {
     "output_type": "stream",
     "name": "stdout",
     "text": [
      "Stat                 minimum volatility monthly    maximum sharpe ratio monthly    minimum volatility yearly    maximum sharpe ratio yearly\n-------------------  ----------------------------  ------------------------------  ---------------------------  -----------------------------\nStart                2010-01-03                    2010-01-03                      2010-01-03                   2010-01-03\nEnd                  2021-02-05                    2021-02-05                      2021-02-05                   2021-02-05\nRisk-free rate       0.00%                         0.00%                           0.00%                        0.00%\n\nTotal Return         221.98%                       434.28%                         157.90%                      470.29%\nDaily Sharpe         0.84                          0.91                            0.67                         0.91\nDaily Sortino        1.31                          1.43                            1.02                         1.40\nCAGR                 11.12%                        16.31%                          8.92%                        17.00%\nMax Drawdown         -29.02%                       -29.58%                         -34.65%                      -38.70%\nCalmar Ratio         0.38                          0.55                            0.26                         0.44\n\nMTD                  -0.78%                        4.34%                           2.20%                        6.51%\n3m                   -5.27%                        3.09%                           1.96%                        7.15%\n6m                   -7.67%                        11.70%                          7.93%                        18.51%\nYTD                  -4.96%                        -1.07%                          -2.48%                       0.07%\n1Y                   -4.18%                        14.08%                          -2.91%                       12.68%\n3Y (ann.)            9.85%                         12.14%                          11.74%                       23.34%\n5Y (ann.)            11.85%                        14.16%                          10.43%                       21.00%\n10Y (ann.)           12.29%                        18.14%                          9.94%                        19.03%\nSince Incep. (ann.)  11.12%                        16.31%                          8.92%                        17.00%\n\nDaily Sharpe         0.84                          0.91                            0.67                         0.91\nDaily Sortino        1.31                          1.43                            1.02                         1.40\nDaily Mean (ann.)    11.49%                        16.86%                          9.57%                        17.60%\nDaily Vol (ann.)     13.70%                        18.63%                          14.23%                       19.36%\nDaily Skew           -0.13                         -0.33                           -0.37                        -0.75\nDaily Kurt           17.71                         8.23                            31.92                        14.20\nBest Day             8.93%                         9.51%                           10.28%                       11.26%\nWorst Day            -8.12%                        -9.86%                          -10.91%                      -13.77%\n\nMonthly Sharpe       1.05                          1.19                            0.85                         1.06\nMonthly Sortino      2.03                          2.22                            1.46                         1.91\nMonthly Mean (ann.)  11.15%                        16.12%                          9.16%                        17.12%\nMonthly Vol (ann.)   10.57%                        13.52%                          10.73%                       16.15%\nMonthly Skew         -0.15                         -0.41                           -0.70                        -0.60\nMonthly Kurt         1.52                          1.24                            4.74                         5.04\nBest Month           11.92%                        11.84%                          10.67%                       15.87%\nWorst Month          -9.67%                        -11.38%                         -14.34%                      -21.79%\n\nYearly Sharpe        1.06                          1.09                            0.86                         1.14\nYearly Sortino       7.83                          12.21                           12.73                        inf\nYearly Mean          11.71%                        17.41%                          9.47%                        18.07%\nYearly Vol           11.05%                        15.92%                          11.03%                       15.89%\nYearly Skew          0.32                          0.53                            1.14                         0.98\nYearly Kurt          -1.19                         0.26                            0.86                         1.27\nBest Year            28.35%                        49.69%                          33.63%                       53.07%\nWorst Year           -4.96%                        -4.72%                          -2.48%                       0.00%\n\nAvg. Drawdown        -1.87%                        -2.71%                          -1.86%                       -2.95%\nAvg. Drawdown Days   20.99                         22.64                           24.95                        25.51\nAvg. Up Month        2.91%                         3.42%                           2.79%                        4.43%\nAvg. Down Month      -1.63%                        -2.34%                          -1.42%                       -2.01%\nWin Year %           90.91%                        81.82%                          72.73%                       90.91%\nWin 12m %            97.56%                        90.24%                          78.86%                       84.55%\n"
     ]
    }
   ],
   "source": [
    "res.display()"
   ]
  },
  {
   "cell_type": "code",
   "execution_count": 13,
   "metadata": {},
   "outputs": [
    {
     "output_type": "stream",
     "name": "stdout",
     "text": [
      "  Year    Jan    Feb    Mar    Apr    May    Jun    Jul    Aug    Sep    Oct    Nov    Dec    YTD\n------  -----  -----  -----  -----  -----  -----  -----  -----  -----  -----  -----  -----  -----\n  2010   0      0      0      0      0      0      0      0      0      0      0      0      0\n  2011   0      6.29   4.46   5.49   1.47  -1.06  -2.11  -1.92  -0.98   2.01   1.65   2.65  19\n  2012  -1.43   1.33   2.48   3.15  -0.93   4.78   1.92  -3.56   1.63  -2.11  -1.04  -0.58   5.44\n  2013   4.6    4.59   5.12   2.56  -3.34   0.68   6.42  -4.63   5.42   5.34  -0.16  -0.64  28.35\n  2014  -0.45   3.3   -0.17   0.92   0.19   1.54  -5.21   3.57  -0.35   4.82   4.82  -0.13  13.16\n  2015   1.74  -0.5   -0.84  -4.07   1.58   1.4    3.8   -3.15   0.48   2.91  -0.77   1.28   3.62\n  2016  -0.1    1.66   5.03  -0.7    0.2    3.61   0.83  -0.9   -0.01  -2.68  -0.4   -1.83   4.55\n  2017   0.62   3.09   0.56   2.54   3.32  -0.69   1.24   0.51   1.31   4.25   4.91  -0.84  22.7\n  2018   4.96  -5.06   0.39   2.06  -0.82   3.42   1.07   4.73   0.13  -2.64   4.13  -5.85   5.95\n  2019   3.14   5.16   3.52   1.02  -2.04   4.71   0.45   2.58   1.71  -0.09   1.53   2.8   27.14\n  2020   2.54  -9.67  -7.57  11.92   4.54  -0.72   6.65   1.76  -2.71  -4.2    2.49   0.68   3.81\n  2021  -4.21  -0.78   0      0      0      0      0      0      0      0      0      0     -4.96\n"
     ]
    }
   ],
   "source": [
    "res.display_monthly_returns()"
   ]
  },
  {
   "cell_type": "code",
   "execution_count": 14,
   "metadata": {},
   "outputs": [
    {
     "output_type": "stream",
     "name": "stdout",
     "text": [
      "  Year    Jan    Feb     Mar    Apr    May    Jun    Jul    Aug    Sep    Oct    Nov     Dec    YTD\n------  -----  -----  ------  -----  -----  -----  -----  -----  -----  -----  -----  ------  -----\n  2010   0      0       0      0      0      0      0      0      0      0      0       0      0\n  2011   0      0.15    4.46   3.36   3.38   0.54  -4.75  -0.96   1.23   3.49   1.08    1.76  14.26\n  2012   2.93   8.1     4.93   2.78  -1.31   1.84  -1.21   1.01   1.14  -4.4    2.21    0.48  19.51\n  2013   4.8    5.11    7.09   3.17   7.71  -4.24   6.36  -0.14   9.18   0.71   0.21    1.89  49.69\n  2014  -1.03  11.84    0.55   2.39   3.34   7.65  -5.02   5.79  -6.29   4.19   6.91   -0.46  32.37\n  2015  -1.41   4.76    0.9    0.92   1.42  -0.96   2.57  -3     -0.73   6.8    0.5    -3.23   8.38\n  2016  -0.03  -1.66    3.21  -3.27   2.94   3.51   2.08   0.19   0.96   1.02  -1.16   -4.31   3.18\n  2017   4.14   6.59   -1.19   0.92   7.32   0.81  -3.96   0.69   2.43   1.65   2.52    0.87  24.69\n  2018   4.84  -3.59    2.45   6.56  -1.33   6.96   0.64   1.17  -0.18  -9.78   0.67  -11.38  -4.72\n  2019   4.22   2.65    2.44   0.97  -0.28   5.15   1.68   6.06  -5.34   0.22   5.62    0.99  26.63\n  2020   2.81  -7.5   -10.96   9.22   8.93  -0.93   3.91   5.84  -0.46  -0.56   3.98    5.01  18.65\n  2021  -5.18   4.34    0      0      0      0      0      0      0      0      0       0     -1.07\n"
     ]
    }
   ],
   "source": [
    "res.display_monthly_returns(1)"
   ]
  },
  {
   "cell_type": "code",
   "execution_count": 15,
   "metadata": {},
   "outputs": [
    {
     "output_type": "stream",
     "name": "stdout",
     "text": [
      "  Year    Jan    Feb     Mar    Apr    May    Jun    Jul    Aug    Sep    Oct    Nov    Dec    YTD\n------  -----  -----  ------  -----  -----  -----  -----  -----  -----  -----  -----  -----  -----\n  2010   0      0       0      0      0      0      0      0      0      0      0      0      0\n  2011   0      0       0      0      0      0      0      0      0      0      0      0      0\n  2012  -0.44   2.06    2.52   3.25  -2.89   3.85   0.49  -1.6    0.63  -3.71   2.96  -1.57   5.33\n  2013   3.76   4.56    6.18   0.26  -1.96  -0.8    5.85  -3.16   1      3.72   0.12   0.36  21.18\n  2014  -0.4    7.33   -1.08  -1.91   1.56   0.8   -3.68   4.3   -1.29   5.59   4.67   1.9   18.61\n  2015   1.76   1.05    0.08  -1.4    2.62  -2.36   6.37  -1.97  -0.05   2.56  -1.17   1.56   9.09\n  2016   0.25  -1.02    4.94  -3.61  -2.32   1.71  -0.97  -1.15  -0.48  -1      1.19   2.38  -0.38\n  2017  -0.39   2.02   -0.18   0.06   1.79  -1.22   3.27  -0.39   0.44   0.27   3.45   1.83  11.39\n  2018   5.52  -5.3     1.56   0.3   -1.01   3.2    2.79   1.67  -0.32   1.64   1.82  -6.77   4.52\n  2019   3.67   5.62    5.24   0.92  -2.22   5.43   3.9    2.98  -0      1.22   0.82   2.08  33.63\n  2020   3.08  -9.22  -14.34  10.67   2.76  -2.16   4.47   1.82  -0.46  -0.49   7.99   1.79   3.3\n  2021  -4.58   2.2     0      0      0      0      0      0      0      0      0      0     -2.48\n"
     ]
    }
   ],
   "source": [
    "res.display_monthly_returns(2)"
   ]
  },
  {
   "cell_type": "code",
   "execution_count": 16,
   "metadata": {},
   "outputs": [
    {
     "output_type": "stream",
     "name": "stdout",
     "text": [
      "  Year    Jan    Feb     Mar    Apr    May    Jun    Jul    Aug    Sep     Oct    Nov    Dec    YTD\n------  -----  -----  ------  -----  -----  -----  -----  -----  -----  ------  -----  -----  -----\n  2010   0      0       0      0      0      0      0      0      0       0      0      0      0\n  2011   0      0       0      0      0      0      0      0      0       0      0      0      0\n  2012   4.34   9.01    6.59   2.09  -4.14   1.39  -4.15  -0.01   5.47  -12.75   4.2    2.46  13.26\n  2013   3.72   2.99    6.72   4.2    8.73  -2.13   9.06  -3.64  11.03    0.16   2.12   1.46  53.07\n  2014  -0.47  15.81   -0.4    2.52   3.83   8.39  -4.07   5.61  -8.49    0.22  -6.22   2.42  18.2\n  2015  -0.87   6.5     0.93   2.26   1.04  -0.75   4.48  -1.18  -1.2     6.55  -1.83  -0.96  15.48\n  2016   0.29  -3.42    8.45  -4.78   3.4    3.55   0.08  -1.71  -1.35   -2.39  -2.46   2.57   1.5\n  2017   5.14   5.25    0.11   0.63   1.61  -1.1    4.37  -1.81   1.48    1.2    1.36   2.77  22.81\n  2018   7.27  -3.96    4.86   5.96  -0.64   5.16   1.91  -1.16  -0.52    7.08  -0.69  -5.81  20.04\n  2019   7.62   6.88    6.04   3.68  -2.04   4.54   3.44   0.7   -3.97   -1.4    5.09   1.22  35.89\n  2020   4.5   -2.96  -21.79  15.87   5.25   1.66  -1.09   3.22   3.53   -0.17   9.03   4.7   18.44\n  2021  -6.04   6.51    0      0      0      0      0      0      0       0      0      0      0.07\n"
     ]
    }
   ],
   "source": [
    "res.display_monthly_returns(3)"
   ]
  },
  {
   "cell_type": "code",
   "execution_count": null,
   "metadata": {},
   "outputs": [],
   "source": []
  },
  {
   "cell_type": "code",
   "execution_count": 110,
   "metadata": {},
   "outputs": [
    {
     "output_type": "execute_result",
     "data": {
      "text/plain": [
       "            minimum volatility monthly  maximum sharpe ratio monthly  \\\n",
       "2010-01-03                  100.000000                    100.000000   \n",
       "2010-01-04                  100.000000                    100.000000   \n",
       "2010-01-05                  100.000000                    100.000000   \n",
       "2010-01-06                  100.000000                    100.000000   \n",
       "2010-01-07                  100.000000                    100.000000   \n",
       "...                                ...                           ...   \n",
       "2021-02-01                  325.701902                    525.390202   \n",
       "2021-02-02                  322.997156                    534.631524   \n",
       "2021-02-03                  322.104430                    526.465569   \n",
       "2021-02-04                  318.601179                    531.638869   \n",
       "2021-02-05                  321.976242                    534.275317   \n",
       "\n",
       "            minimum volatility yearly  maximum sharpe ratio yearly  \n",
       "2010-01-03                 100.000000                   100.000000  \n",
       "2010-01-04                 100.000000                   100.000000  \n",
       "2010-01-05                 100.000000                   100.000000  \n",
       "2010-01-06                 100.000000                   100.000000  \n",
       "2010-01-07                 100.000000                   100.000000  \n",
       "...                               ...                          ...  \n",
       "2021-02-01                 253.284725                   553.271818  \n",
       "2021-02-02                 255.370912                   568.000873  \n",
       "2021-02-03                 254.417208                   559.559393  \n",
       "2021-02-04                 255.674968                   566.665152  \n",
       "2021-02-05                 257.903049                   570.293022  \n",
       "\n",
       "[2794 rows x 4 columns]"
      ],
      "text/html": "<div>\n<style scoped>\n    .dataframe tbody tr th:only-of-type {\n        vertical-align: middle;\n    }\n\n    .dataframe tbody tr th {\n        vertical-align: top;\n    }\n\n    .dataframe thead th {\n        text-align: right;\n    }\n</style>\n<table border=\"1\" class=\"dataframe\">\n  <thead>\n    <tr style=\"text-align: right;\">\n      <th></th>\n      <th>minimum volatility monthly</th>\n      <th>maximum sharpe ratio monthly</th>\n      <th>minimum volatility yearly</th>\n      <th>maximum sharpe ratio yearly</th>\n    </tr>\n  </thead>\n  <tbody>\n    <tr>\n      <th>2010-01-03</th>\n      <td>100.000000</td>\n      <td>100.000000</td>\n      <td>100.000000</td>\n      <td>100.000000</td>\n    </tr>\n    <tr>\n      <th>2010-01-04</th>\n      <td>100.000000</td>\n      <td>100.000000</td>\n      <td>100.000000</td>\n      <td>100.000000</td>\n    </tr>\n    <tr>\n      <th>2010-01-05</th>\n      <td>100.000000</td>\n      <td>100.000000</td>\n      <td>100.000000</td>\n      <td>100.000000</td>\n    </tr>\n    <tr>\n      <th>2010-01-06</th>\n      <td>100.000000</td>\n      <td>100.000000</td>\n      <td>100.000000</td>\n      <td>100.000000</td>\n    </tr>\n    <tr>\n      <th>2010-01-07</th>\n      <td>100.000000</td>\n      <td>100.000000</td>\n      <td>100.000000</td>\n      <td>100.000000</td>\n    </tr>\n    <tr>\n      <th>...</th>\n      <td>...</td>\n      <td>...</td>\n      <td>...</td>\n      <td>...</td>\n    </tr>\n    <tr>\n      <th>2021-02-01</th>\n      <td>325.701902</td>\n      <td>525.390202</td>\n      <td>253.284725</td>\n      <td>553.271818</td>\n    </tr>\n    <tr>\n      <th>2021-02-02</th>\n      <td>322.997156</td>\n      <td>534.631524</td>\n      <td>255.370912</td>\n      <td>568.000873</td>\n    </tr>\n    <tr>\n      <th>2021-02-03</th>\n      <td>322.104430</td>\n      <td>526.465569</td>\n      <td>254.417208</td>\n      <td>559.559393</td>\n    </tr>\n    <tr>\n      <th>2021-02-04</th>\n      <td>318.601179</td>\n      <td>531.638869</td>\n      <td>255.674968</td>\n      <td>566.665152</td>\n    </tr>\n    <tr>\n      <th>2021-02-05</th>\n      <td>321.976242</td>\n      <td>534.275317</td>\n      <td>257.903049</td>\n      <td>570.293022</td>\n    </tr>\n  </tbody>\n</table>\n<p>2794 rows × 4 columns</p>\n</div>"
     },
     "metadata": {},
     "execution_count": 110
    }
   ],
   "source": [
    "res.prices[:]"
   ]
  },
  {
   "cell_type": "code",
   "execution_count": null,
   "metadata": {},
   "outputs": [],
   "source": []
  },
  {
   "cell_type": "code",
   "execution_count": null,
   "metadata": {},
   "outputs": [],
   "source": []
  },
  {
   "cell_type": "code",
   "execution_count": 17,
   "metadata": {},
   "outputs": [],
   "source": [
    "res.plot().get_figure().savefig(\"output_res_plot.png\")"
   ]
  },
  {
   "cell_type": "code",
   "execution_count": 18,
   "metadata": {},
   "outputs": [],
   "source": [
    "res.to_csv(path='./dataset_res_performanceStats.csv')"
   ]
  },
  {
   "cell_type": "code",
   "execution_count": 19,
   "metadata": {},
   "outputs": [],
   "source": [
    "res.prices[:].to_csv('./dataset_cumulative_returns_Income.csv')"
   ]
  },
  {
   "cell_type": "code",
   "execution_count": 20,
   "metadata": {},
   "outputs": [
    {
     "output_type": "execute_result",
     "data": {
      "text/plain": [
       "            minimum volatility monthly  maximum sharpe ratio monthly  \\\n",
       "2010-01-03                    0.000000                      0.000000   \n",
       "2010-01-04                    0.000000                      0.000000   \n",
       "2010-01-05                    0.000000                      0.000000   \n",
       "2010-01-06                    0.000000                      0.000000   \n",
       "2010-01-07                    0.000000                      0.000000   \n",
       "...                                ...                           ...   \n",
       "2021-02-01                    2.257019                      4.253902   \n",
       "2021-02-02                    2.229972                      4.346315   \n",
       "2021-02-03                    2.221044                      4.264656   \n",
       "2021-02-04                    2.186012                      4.316389   \n",
       "2021-02-05                    2.219762                      4.342753   \n",
       "\n",
       "            minimum volatility yearly  maximum sharpe ratio yearly  \n",
       "2010-01-03                   0.000000                     0.000000  \n",
       "2010-01-04                   0.000000                     0.000000  \n",
       "2010-01-05                   0.000000                     0.000000  \n",
       "2010-01-06                   0.000000                     0.000000  \n",
       "2010-01-07                   0.000000                     0.000000  \n",
       "...                               ...                          ...  \n",
       "2021-02-01                   1.532847                     4.532718  \n",
       "2021-02-02                   1.553709                     4.680009  \n",
       "2021-02-03                   1.544172                     4.595594  \n",
       "2021-02-04                   1.556750                     4.666652  \n",
       "2021-02-05                   1.579030                     4.702930  \n",
       "\n",
       "[2794 rows x 4 columns]"
      ],
      "text/html": "<div>\n<style scoped>\n    .dataframe tbody tr th:only-of-type {\n        vertical-align: middle;\n    }\n\n    .dataframe tbody tr th {\n        vertical-align: top;\n    }\n\n    .dataframe thead th {\n        text-align: right;\n    }\n</style>\n<table border=\"1\" class=\"dataframe\">\n  <thead>\n    <tr style=\"text-align: right;\">\n      <th></th>\n      <th>minimum volatility monthly</th>\n      <th>maximum sharpe ratio monthly</th>\n      <th>minimum volatility yearly</th>\n      <th>maximum sharpe ratio yearly</th>\n    </tr>\n  </thead>\n  <tbody>\n    <tr>\n      <th>2010-01-03</th>\n      <td>0.000000</td>\n      <td>0.000000</td>\n      <td>0.000000</td>\n      <td>0.000000</td>\n    </tr>\n    <tr>\n      <th>2010-01-04</th>\n      <td>0.000000</td>\n      <td>0.000000</td>\n      <td>0.000000</td>\n      <td>0.000000</td>\n    </tr>\n    <tr>\n      <th>2010-01-05</th>\n      <td>0.000000</td>\n      <td>0.000000</td>\n      <td>0.000000</td>\n      <td>0.000000</td>\n    </tr>\n    <tr>\n      <th>2010-01-06</th>\n      <td>0.000000</td>\n      <td>0.000000</td>\n      <td>0.000000</td>\n      <td>0.000000</td>\n    </tr>\n    <tr>\n      <th>2010-01-07</th>\n      <td>0.000000</td>\n      <td>0.000000</td>\n      <td>0.000000</td>\n      <td>0.000000</td>\n    </tr>\n    <tr>\n      <th>...</th>\n      <td>...</td>\n      <td>...</td>\n      <td>...</td>\n      <td>...</td>\n    </tr>\n    <tr>\n      <th>2021-02-01</th>\n      <td>2.257019</td>\n      <td>4.253902</td>\n      <td>1.532847</td>\n      <td>4.532718</td>\n    </tr>\n    <tr>\n      <th>2021-02-02</th>\n      <td>2.229972</td>\n      <td>4.346315</td>\n      <td>1.553709</td>\n      <td>4.680009</td>\n    </tr>\n    <tr>\n      <th>2021-02-03</th>\n      <td>2.221044</td>\n      <td>4.264656</td>\n      <td>1.544172</td>\n      <td>4.595594</td>\n    </tr>\n    <tr>\n      <th>2021-02-04</th>\n      <td>2.186012</td>\n      <td>4.316389</td>\n      <td>1.556750</td>\n      <td>4.666652</td>\n    </tr>\n    <tr>\n      <th>2021-02-05</th>\n      <td>2.219762</td>\n      <td>4.342753</td>\n      <td>1.579030</td>\n      <td>4.702930</td>\n    </tr>\n  </tbody>\n</table>\n<p>2794 rows × 4 columns</p>\n</div>"
     },
     "metadata": {},
     "execution_count": 20
    }
   ],
   "source": [
    "cumulative_returns = res.prices[:]\n",
    "cumulative_returns = cumulative_returns/100 -1\n",
    "cumulative_returns"
   ]
  },
  {
   "cell_type": "code",
   "execution_count": 21,
   "metadata": {},
   "outputs": [],
   "source": [
    "cumulative_returns.to_csv('./dataset_cumulative_returns.csv')"
   ]
  },
  {
   "cell_type": "code",
   "execution_count": 22,
   "metadata": {},
   "outputs": [],
   "source": [
    "cumulative_returns.plot(figsize=(16,9)).get_figure().savefig('output_cumulative_returns.png')"
   ]
  },
  {
   "cell_type": "code",
   "execution_count": 23,
   "metadata": {},
   "outputs": [
    {
     "output_type": "execute_result",
     "data": {
      "text/plain": [
       "            minimum volatility monthly  maximum sharpe ratio monthly  \\\n",
       "2021-02-01                   -1.200305                    -13.333770   \n",
       "2021-02-02                    2.704746                     -9.241321   \n",
       "2021-02-03                    0.892726                      8.165954   \n",
       "2021-02-04                    3.503252                     -5.173300   \n",
       "2021-02-05                   -3.375063                     -2.636447   \n",
       "\n",
       "            minimum volatility yearly  maximum sharpe ratio yearly  \n",
       "2021-02-01                  -0.933249                   -17.820067  \n",
       "2021-02-02                  -2.086188                   -14.729055  \n",
       "2021-02-03                   0.953704                     8.441480  \n",
       "2021-02-04                  -1.257760                    -7.105760  \n",
       "2021-02-05                  -2.228082                    -3.627870  "
      ],
      "text/html": "<div>\n<style scoped>\n    .dataframe tbody tr th:only-of-type {\n        vertical-align: middle;\n    }\n\n    .dataframe tbody tr th {\n        vertical-align: top;\n    }\n\n    .dataframe thead th {\n        text-align: right;\n    }\n</style>\n<table border=\"1\" class=\"dataframe\">\n  <thead>\n    <tr style=\"text-align: right;\">\n      <th></th>\n      <th>minimum volatility monthly</th>\n      <th>maximum sharpe ratio monthly</th>\n      <th>minimum volatility yearly</th>\n      <th>maximum sharpe ratio yearly</th>\n    </tr>\n  </thead>\n  <tbody>\n    <tr>\n      <th>2021-02-01</th>\n      <td>-1.200305</td>\n      <td>-13.333770</td>\n      <td>-0.933249</td>\n      <td>-17.820067</td>\n    </tr>\n    <tr>\n      <th>2021-02-02</th>\n      <td>2.704746</td>\n      <td>-9.241321</td>\n      <td>-2.086188</td>\n      <td>-14.729055</td>\n    </tr>\n    <tr>\n      <th>2021-02-03</th>\n      <td>0.892726</td>\n      <td>8.165954</td>\n      <td>0.953704</td>\n      <td>8.441480</td>\n    </tr>\n    <tr>\n      <th>2021-02-04</th>\n      <td>3.503252</td>\n      <td>-5.173300</td>\n      <td>-1.257760</td>\n      <td>-7.105760</td>\n    </tr>\n    <tr>\n      <th>2021-02-05</th>\n      <td>-3.375063</td>\n      <td>-2.636447</td>\n      <td>-2.228082</td>\n      <td>-3.627870</td>\n    </tr>\n  </tbody>\n</table>\n</div>"
     },
     "metadata": {},
     "execution_count": 23
    }
   ],
   "source": [
    "daily_return = res.prices[:].shift(1) - res.prices[:]\n",
    "daily_return.tail()"
   ]
  },
  {
   "cell_type": "code",
   "execution_count": 24,
   "metadata": {},
   "outputs": [],
   "source": [
    "daily_return.to_csv('./dataset_daily_returns.csv')"
   ]
  },
  {
   "cell_type": "code",
   "execution_count": 25,
   "metadata": {},
   "outputs": [],
   "source": [
    "daily_return.plot(figsize=(16,9)).get_figure().savefig('output_daily_return.png')"
   ]
  },
  {
   "cell_type": "code",
   "execution_count": null,
   "metadata": {},
   "outputs": [],
   "source": []
  },
  {
   "cell_type": "code",
   "execution_count": null,
   "metadata": {},
   "outputs": [],
   "source": []
  },
  {
   "cell_type": "code",
   "execution_count": 26,
   "metadata": {},
   "outputs": [
    {
     "output_type": "execute_result",
     "data": {
      "text/plain": [
       "                  ^GSPC\n",
       "datatime               \n",
       "2010-01-04  1132.989990\n",
       "2010-01-05  1136.520020\n",
       "2010-01-06  1137.140015\n",
       "2010-01-07  1141.689941\n",
       "2010-01-08  1144.979980\n",
       "...                 ...\n",
       "2021-02-01  3773.860107\n",
       "2021-02-02  3826.310059\n",
       "2021-02-03  3830.169922\n",
       "2021-02-04  3871.739990\n",
       "2021-02-05  3886.830078\n",
       "\n",
       "[2793 rows x 1 columns]"
      ],
      "text/html": "<div>\n<style scoped>\n    .dataframe tbody tr th:only-of-type {\n        vertical-align: middle;\n    }\n\n    .dataframe tbody tr th {\n        vertical-align: top;\n    }\n\n    .dataframe thead th {\n        text-align: right;\n    }\n</style>\n<table border=\"1\" class=\"dataframe\">\n  <thead>\n    <tr style=\"text-align: right;\">\n      <th></th>\n      <th>^GSPC</th>\n    </tr>\n    <tr>\n      <th>datatime</th>\n      <th></th>\n    </tr>\n  </thead>\n  <tbody>\n    <tr>\n      <th>2010-01-04</th>\n      <td>1132.989990</td>\n    </tr>\n    <tr>\n      <th>2010-01-05</th>\n      <td>1136.520020</td>\n    </tr>\n    <tr>\n      <th>2010-01-06</th>\n      <td>1137.140015</td>\n    </tr>\n    <tr>\n      <th>2010-01-07</th>\n      <td>1141.689941</td>\n    </tr>\n    <tr>\n      <th>2010-01-08</th>\n      <td>1144.979980</td>\n    </tr>\n    <tr>\n      <th>...</th>\n      <td>...</td>\n    </tr>\n    <tr>\n      <th>2021-02-01</th>\n      <td>3773.860107</td>\n    </tr>\n    <tr>\n      <th>2021-02-02</th>\n      <td>3826.310059</td>\n    </tr>\n    <tr>\n      <th>2021-02-03</th>\n      <td>3830.169922</td>\n    </tr>\n    <tr>\n      <th>2021-02-04</th>\n      <td>3871.739990</td>\n    </tr>\n    <tr>\n      <th>2021-02-05</th>\n      <td>3886.830078</td>\n    </tr>\n  </tbody>\n</table>\n<p>2793 rows × 1 columns</p>\n</div>"
     },
     "metadata": {},
     "execution_count": 26
    }
   ],
   "source": [
    "benchmark_data.loc[:]"
   ]
  },
  {
   "cell_type": "code",
   "execution_count": null,
   "metadata": {},
   "outputs": [],
   "source": [
    "sdasd"
   ]
  },
  {
   "cell_type": "code",
   "execution_count": null,
   "metadata": {},
   "outputs": [],
   "source": []
  },
  {
   "cell_type": "code",
   "execution_count": null,
   "metadata": {},
   "outputs": [],
   "source": [
    "###################################################################\n",
    "# compare monthly stragies\n",
    "###################################################################"
   ]
  },
  {
   "cell_type": "code",
   "execution_count": 94,
   "metadata": {},
   "outputs": [],
   "source": [
    "benchmark_spical_data = benchmark_data.loc['2011-02-01':]\n",
    "benchmark_daily_return = benchmark_spical_data.pct_change()"
   ]
  },
  {
   "cell_type": "code",
   "execution_count": 93,
   "metadata": {},
   "outputs": [],
   "source": [
    "benchmark_data_cumulat_return = (1 + benchmark_daily_return).cumprod() - 1 \n",
    "benchmark_data_cumulat_return.fillna(0,inplace=True)"
   ]
  },
  {
   "cell_type": "code",
   "execution_count": 103,
   "metadata": {},
   "outputs": [
    {
     "output_type": "execute_result",
     "data": {
      "text/plain": [
       "            maximum sharpe ratio monthly\n",
       "2011-02-01                      0.000000\n",
       "2011-02-02                     -0.003012\n",
       "2011-02-03                     -0.003984\n",
       "2011-02-04                      0.013350\n",
       "2011-02-07                      0.009520\n",
       "...                                  ...\n",
       "2021-02-01                      4.253902\n",
       "2021-02-02                      4.346315\n",
       "2021-02-03                      4.264656\n",
       "2021-02-04                      4.316389\n",
       "2021-02-05                      4.342753\n",
       "\n",
       "[2521 rows x 1 columns]"
      ],
      "text/html": "<div>\n<style scoped>\n    .dataframe tbody tr th:only-of-type {\n        vertical-align: middle;\n    }\n\n    .dataframe tbody tr th {\n        vertical-align: top;\n    }\n\n    .dataframe thead th {\n        text-align: right;\n    }\n</style>\n<table border=\"1\" class=\"dataframe\">\n  <thead>\n    <tr style=\"text-align: right;\">\n      <th></th>\n      <th>maximum sharpe ratio monthly</th>\n    </tr>\n  </thead>\n  <tbody>\n    <tr>\n      <th>2011-02-01</th>\n      <td>0.000000</td>\n    </tr>\n    <tr>\n      <th>2011-02-02</th>\n      <td>-0.003012</td>\n    </tr>\n    <tr>\n      <th>2011-02-03</th>\n      <td>-0.003984</td>\n    </tr>\n    <tr>\n      <th>2011-02-04</th>\n      <td>0.013350</td>\n    </tr>\n    <tr>\n      <th>2011-02-07</th>\n      <td>0.009520</td>\n    </tr>\n    <tr>\n      <th>...</th>\n      <td>...</td>\n    </tr>\n    <tr>\n      <th>2021-02-01</th>\n      <td>4.253902</td>\n    </tr>\n    <tr>\n      <th>2021-02-02</th>\n      <td>4.346315</td>\n    </tr>\n    <tr>\n      <th>2021-02-03</th>\n      <td>4.264656</td>\n    </tr>\n    <tr>\n      <th>2021-02-04</th>\n      <td>4.316389</td>\n    </tr>\n    <tr>\n      <th>2021-02-05</th>\n      <td>4.342753</td>\n    </tr>\n  </tbody>\n</table>\n<p>2521 rows × 1 columns</p>\n</div>"
     },
     "metadata": {},
     "execution_count": 103
    }
   ],
   "source": [
    "cumulative_return_min_vol_monthly = cumulative_returns[['minimum volatility monthly']].loc['2011-02-01':]\n",
    "cumulative_return_max_sr_monthly = cumulative_returns[['maximum sharpe ratio monthly']].loc['2011-02-01':]"
   ]
  },
  {
   "cell_type": "code",
   "execution_count": 95,
   "metadata": {},
   "outputs": [],
   "source": [
    "compare_min_v_monthly_vs_benchmark = pd.concat([benchmark_data_cumulat_return,min_vol_monthly_cumulative_return],axis = 1)\n",
    "compare_max_sr_monthly_vs_benchmark = pd.concat([benchmark_data_cumulat_return,cumulative_return_max_sr_monthly],axis = 1)"
   ]
  },
  {
   "cell_type": "code",
   "execution_count": 96,
   "metadata": {},
   "outputs": [],
   "source": [
    "compare_min_vol_monthly_vs_max_sr_monthly_vs_benchmark = pd.concat([benchmark_data_cumulat_return, min_vol_monthly_cumulative_return, cumulative_return_max_sr_monthly],axis = 1)"
   ]
  },
  {
   "cell_type": "code",
   "execution_count": 90,
   "metadata": {},
   "outputs": [],
   "source": [
    "compare_min_v_monthly_vs_benchmark.to_csv('./dataset_compare_min_v_monthly_vs_benchmark.csv')\n",
    "compare_max_sr_monthly_vs_benchmark.to_csv('./dataset_compare_max_sr_monthly_vs_benchmark.csv')\n",
    "compare_min_vol_monthly_vs_max_sr_monthly_vs_benchmark.to_csv('./dataset_compare_min_v_monthly_vs_max_sr_monthly_vs_benchmark.csv')"
   ]
  },
  {
   "cell_type": "code",
   "execution_count": 89,
   "metadata": {},
   "outputs": [],
   "source": [
    "compare_min_v_monthly_vs_benchmark.plot(figsize=(16,9)).get_figure().savefig('output_compare_min_v_monthly_vs_benchmark.png')\n",
    "compare_max_sr_monthly_vs_benchmark.plot(figsize=(16,9)).get_figure().savefig('output_compare_max_sr_monthly_vs_benchmark.png')\n",
    "compare_min_vol_monthly_vs_max_sr_monthly_vs_benchmark.plot(figsize=(16,9)).get_figure().savefig('output_compare_min_v_monthly_vs_max_sr_monthly_vs_benchmark.png')"
   ]
  },
  {
   "cell_type": "code",
   "execution_count": null,
   "metadata": {},
   "outputs": [],
   "source": []
  },
  {
   "cell_type": "code",
   "execution_count": null,
   "metadata": {},
   "outputs": [],
   "source": [
    "###################################################################\n",
    "# compare yearly stragies\n",
    "###################################################################"
   ]
  },
  {
   "cell_type": "code",
   "execution_count": 104,
   "metadata": {},
   "outputs": [
    {
     "output_type": "execute_result",
     "data": {
      "text/plain": [
       "               ^GSPC\n",
       "datatime            \n",
       "2012-01-03       NaN\n",
       "2012-01-04  0.000188\n",
       "2012-01-05  0.002944\n",
       "2012-01-06 -0.002537\n",
       "2012-01-09  0.002262\n",
       "...              ...\n",
       "2021-02-01  0.016052\n",
       "2021-02-02  0.013898\n",
       "2021-02-03  0.001009\n",
       "2021-02-04  0.010853\n",
       "2021-02-05  0.003897\n",
       "\n",
       "[2289 rows x 1 columns]"
      ],
      "text/html": "<div>\n<style scoped>\n    .dataframe tbody tr th:only-of-type {\n        vertical-align: middle;\n    }\n\n    .dataframe tbody tr th {\n        vertical-align: top;\n    }\n\n    .dataframe thead th {\n        text-align: right;\n    }\n</style>\n<table border=\"1\" class=\"dataframe\">\n  <thead>\n    <tr style=\"text-align: right;\">\n      <th></th>\n      <th>^GSPC</th>\n    </tr>\n    <tr>\n      <th>datatime</th>\n      <th></th>\n    </tr>\n  </thead>\n  <tbody>\n    <tr>\n      <th>2012-01-03</th>\n      <td>NaN</td>\n    </tr>\n    <tr>\n      <th>2012-01-04</th>\n      <td>0.000188</td>\n    </tr>\n    <tr>\n      <th>2012-01-05</th>\n      <td>0.002944</td>\n    </tr>\n    <tr>\n      <th>2012-01-06</th>\n      <td>-0.002537</td>\n    </tr>\n    <tr>\n      <th>2012-01-09</th>\n      <td>0.002262</td>\n    </tr>\n    <tr>\n      <th>...</th>\n      <td>...</td>\n    </tr>\n    <tr>\n      <th>2021-02-01</th>\n      <td>0.016052</td>\n    </tr>\n    <tr>\n      <th>2021-02-02</th>\n      <td>0.013898</td>\n    </tr>\n    <tr>\n      <th>2021-02-03</th>\n      <td>0.001009</td>\n    </tr>\n    <tr>\n      <th>2021-02-04</th>\n      <td>0.010853</td>\n    </tr>\n    <tr>\n      <th>2021-02-05</th>\n      <td>0.003897</td>\n    </tr>\n  </tbody>\n</table>\n<p>2289 rows × 1 columns</p>\n</div>"
     },
     "metadata": {},
     "execution_count": 104
    }
   ],
   "source": [
    "benchmark_spical_data_2012 = benchmark_data.loc['2012-01-01':]\n",
    "benchmark_daily_return_2012 = benchmark_spical_data_2012.pct_change()\n",
    "benchmark_daily_return_2012"
   ]
  },
  {
   "cell_type": "code",
   "execution_count": 105,
   "metadata": {},
   "outputs": [],
   "source": [
    "benchmark_data_cumulat_return_2012 = (1 + benchmark_daily_return_2012).cumprod() - 1 \n",
    "benchmark_data_cumulat_return_2012.fillna(0,inplace=True)"
   ]
  },
  {
   "cell_type": "code",
   "execution_count": 106,
   "metadata": {},
   "outputs": [],
   "source": [
    "cumulative_return_min_vol_yearly = cumulative_returns[['minimum volatility yearly']].loc['2012-01-01':]\n",
    "cumulative_return_max_sr_yearly = cumulative_returns[['maximum sharpe ratio yearly']].loc['2012-01-01':]"
   ]
  },
  {
   "cell_type": "code",
   "execution_count": 107,
   "metadata": {},
   "outputs": [],
   "source": [
    "compare_min_v_yearly_vs_benchmark = pd.concat([benchmark_data_cumulat_return_2012,cumulative_return_min_vol_yearly],axis = 1)\n",
    "compare_max_sr_yearly_vs_benchmark = pd.concat([benchmark_data_cumulat_return_2012,cumulative_return_max_sr_yearly],axis = 1)\n",
    "compare_min_vol_yearly_vs_max_sr_yearly_vs_benchmark = pd.concat([benchmark_data_cumulat_return_2012, cumulative_return_min_vol_yearly, cumulative_return_max_sr_yearly],axis = 1)"
   ]
  },
  {
   "cell_type": "code",
   "execution_count": 108,
   "metadata": {},
   "outputs": [],
   "source": [
    "compare_min_v_yearly_vs_benchmark.to_csv('./dataset_compare_min_v_yearly_vs_benchmark.csv')\n",
    "compare_max_sr_yearly_vs_benchmark.to_csv('./dataset_compare_max_sr_yearly_vs_benchmark.csv')\n",
    "compare_min_vol_yearly_vs_max_sr_yearly_vs_benchmark.to_csv('./dataset_compare_min_v_yearly_vs_max_sr_yearly_vs_benchmark.csv')"
   ]
  },
  {
   "cell_type": "code",
   "execution_count": 109,
   "metadata": {},
   "outputs": [],
   "source": [
    "compare_min_v_yearly_vs_benchmark.plot(figsize=(16,9)).get_figure().savefig('output_compare_min_v_yearly_vs_benchmark.png')\n",
    "compare_max_sr_yearly_vs_benchmark.plot(figsize=(16,9)).get_figure().savefig('output_compare_max_sr_yearly_vs_benchmark.png')\n",
    "compare_min_vol_yearly_vs_max_sr_yearly_vs_benchmark.plot(figsize=(16,9)).get_figure().savefig('output_compare_min_v_yearly_vs_max_sr_yearly_vs_benchmark.png')"
   ]
  },
  {
   "cell_type": "code",
   "execution_count": null,
   "metadata": {},
   "outputs": [],
   "source": []
  },
  {
   "cell_type": "code",
   "execution_count": null,
   "metadata": {},
   "outputs": [],
   "source": []
  },
  {
   "cell_type": "code",
   "execution_count": null,
   "metadata": {},
   "outputs": [],
   "source": []
  },
  {
   "cell_type": "code",
   "execution_count": 31,
   "metadata": {},
   "outputs": [
    {
     "output_type": "execute_result",
     "data": {
      "text/plain": [
       "minimum volatility monthly     -0.000787\n",
       "maximum sharpe ratio monthly   -0.001541\n",
       "minimum volatility yearly      -0.000554\n",
       "maximum sharpe ratio yearly    -0.001658\n",
       "benchmark                      -0.000856\n",
       "dtype: float64"
      ]
     },
     "metadata": {},
     "execution_count": 31
    }
   ],
   "source": [
    "daily_return.mean()"
   ]
  },
  {
   "cell_type": "code",
   "execution_count": 56,
   "metadata": {},
   "outputs": [],
   "source": [
    "df[:].plot(figsize=(16,9)).get_figure().savefig('output_benchmark.png')"
   ]
  },
  {
   "cell_type": "code",
   "execution_count": null,
   "metadata": {},
   "outputs": [],
   "source": []
  },
  {
   "cell_type": "code",
   "execution_count": null,
   "metadata": {},
   "outputs": [],
   "source": []
  },
  {
   "cell_type": "code",
   "execution_count": null,
   "metadata": {},
   "outputs": [],
   "source": []
  },
  {
   "cell_type": "code",
   "execution_count": null,
   "metadata": {},
   "outputs": [],
   "source": []
  },
  {
   "cell_type": "code",
   "execution_count": 23,
   "metadata": {},
   "outputs": [],
   "source": [
    "# Rolling Volatility\n",
    "(res.prices.pct_change().rolling(window=12*20).std()*np.sqrt(252)).plot().get_figure().savefig(\"output_rolling_olatility.png\")"
   ]
  },
  {
   "cell_type": "code",
   "execution_count": 28,
   "metadata": {},
   "outputs": [
    {
     "output_type": "execute_result",
     "data": {
      "text/plain": [
       "[]"
      ]
     },
     "metadata": {},
     "execution_count": 28
    }
   ],
   "source": []
  },
  {
   "cell_type": "code",
   "execution_count": 114,
   "metadata": {},
   "outputs": [],
   "source": [
    "res.get_security_weights().plot().get_figure().savefig(\"./output_security_weights.png\")"
   ]
  },
  {
   "cell_type": "code",
   "execution_count": 116,
   "metadata": {},
   "outputs": [],
   "source": [
    "res.get_security_weights().to_csv('./dataset_security_weights_min_v_monthly.csv')\n",
    "res.get_security_weights(1).to_csv('./dataset_security_weights_min_sr_monthly.csv')\n",
    "res.get_security_weights(2).to_csv('./dataset_security_weights_min_v_yearly.csv')\n",
    "res.get_security_weights(3).to_csv('./dataset_security_weights_min_sr_yearly.csv')"
   ]
  },
  {
   "cell_type": "code",
   "execution_count": null,
   "metadata": {},
   "outputs": [],
   "source": []
  },
  {
   "cell_type": "code",
   "execution_count": null,
   "metadata": {},
   "outputs": [],
   "source": []
  },
  {
   "cell_type": "code",
   "execution_count": null,
   "metadata": {},
   "outputs": [],
   "source": []
  },
  {
   "cell_type": "code",
   "execution_count": null,
   "metadata": {},
   "outputs": [],
   "source": [
    "\n",
    "\n",
    "\n"
   ]
  },
  {
   "cell_type": "code",
   "execution_count": 117,
   "metadata": {},
   "outputs": [],
   "source": [
    "transactions_min_v_monthly = res.get_transactions('minimum volatility monthly')\n",
    "transactions_max_sr_monthly = res.get_transactions('maximum sharpe ratio monthly')\n",
    "transactions_min_v_yearly = res.get_transactions('minimum volatility yearly')\n",
    "transactions_max_v_yearly = res.get_transactions('maximum sharpe ratio yearly')"
   ]
  },
  {
   "cell_type": "code",
   "execution_count": 118,
   "metadata": {},
   "outputs": [],
   "source": [
    "transactions_min_v_monthly.to_csv('./dataset_transactions_min_v_monthly.csv')\n",
    "transactions_max_sr_monthly.to_csv('./dataset_transactions_max_sr_monthly.csv')\n",
    "transactions_min_v_yearly.to_csv('./dataset_transactions_min_v_yearly.csv')\n",
    "transactions_max_v_yearly.to_csv('./dataset_transactions_max_r_yearly.csv')"
   ]
  },
  {
   "cell_type": "code",
   "execution_count": null,
   "metadata": {},
   "outputs": [],
   "source": []
  },
  {
   "cell_type": "code",
   "execution_count": null,
   "metadata": {},
   "outputs": [],
   "source": []
  }
 ]
}