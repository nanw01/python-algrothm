{
 "metadata": {
  "language_info": {
   "codemirror_mode": {
    "name": "ipython",
    "version": 3
   },
   "file_extension": ".py",
   "mimetype": "text/x-python",
   "name": "python",
   "nbconvert_exporter": "python",
   "pygments_lexer": "ipython3",
   "version": "3.8.5-final"
  },
  "orig_nbformat": 2,
  "kernelspec": {
   "name": "python3",
   "display_name": "Python 3",
   "language": "python"
  }
 },
 "nbformat": 4,
 "nbformat_minor": 2,
 "cells": [
  {
   "cell_type": "code",
   "execution_count": 1,
   "metadata": {},
   "outputs": [],
   "source": [
    "import pandas as pd\n",
    "import numpy as np\n",
    "import matplotlib.pyplot as plt"
   ]
  },
  {
   "cell_type": "code",
   "execution_count": 2,
   "metadata": {},
   "outputs": [
    {
     "output_type": "execute_result",
     "data": {
      "text/plain": [
       "                    A       AAL        AAP      AAPL  ABBV        ABC  ABMD  \\\n",
       "datetime                                                                      \n",
       "2010-01-04  20.545469  4.496876  39.103363  6.583586   NaN  22.512976  8.74   \n",
       "2010-01-05  20.322289  5.005957  38.870968  6.594968   NaN  22.352354  8.53   \n",
       "2010-01-06  20.250088  4.798555  39.209885  6.490066   NaN  22.141001  8.40   \n",
       "2010-01-07  20.223829  4.939965  39.200214  6.478067   NaN  21.785934  8.40   \n",
       "2010-01-08  20.217272  4.845690  39.355148  6.521136   NaN  22.022644  8.23   \n",
       "\n",
       "                  ABT        ACN       ADBE  ...       XLNX        XOM  \\\n",
       "datetime                                     ...                         \n",
       "2010-01-04  20.074522  33.718582  37.090000  ...  19.830650  46.349365   \n",
       "2010-01-05  19.912334  33.926979  37.700001  ...  19.580618  46.530319   \n",
       "2010-01-06  20.022911  34.287651  37.619999  ...  19.447794  46.932491   \n",
       "2010-01-07  20.188793  34.255581  36.889999  ...  19.252451  46.785034   \n",
       "2010-01-08  20.292002  34.119335  36.689999  ...  19.533739  46.597363   \n",
       "\n",
       "                 XRAY        XRX  XYL        YUM        ZBH       ZBRA  \\\n",
       "datetime                                                                 \n",
       "2010-01-04  32.941868  14.571863  NaN  20.328438  55.501415  28.670000   \n",
       "2010-01-05  32.550251  14.588748  NaN  20.258917  57.258369  28.620001   \n",
       "2010-01-06  32.764709  14.453672  NaN  20.114088  57.239891  28.400000   \n",
       "2010-01-07  33.193615  14.521203  NaN  20.108294  58.552982  27.690001   \n",
       "2010-01-08  33.193615  14.470551  NaN  20.114088  57.323116  27.600000   \n",
       "\n",
       "                 ZION  ZTS  \n",
       "datetime                    \n",
       "2010-01-04  11.726357  NaN  \n",
       "2010-01-05  12.139812  NaN  \n",
       "2010-01-06  13.195447  NaN  \n",
       "2010-01-07  14.673337  NaN  \n",
       "2010-01-08  14.435819  NaN  \n",
       "\n",
       "[5 rows x 505 columns]"
      ],
      "text/html": "<div>\n<style scoped>\n    .dataframe tbody tr th:only-of-type {\n        vertical-align: middle;\n    }\n\n    .dataframe tbody tr th {\n        vertical-align: top;\n    }\n\n    .dataframe thead th {\n        text-align: right;\n    }\n</style>\n<table border=\"1\" class=\"dataframe\">\n  <thead>\n    <tr style=\"text-align: right;\">\n      <th></th>\n      <th>A</th>\n      <th>AAL</th>\n      <th>AAP</th>\n      <th>AAPL</th>\n      <th>ABBV</th>\n      <th>ABC</th>\n      <th>ABMD</th>\n      <th>ABT</th>\n      <th>ACN</th>\n      <th>ADBE</th>\n      <th>...</th>\n      <th>XLNX</th>\n      <th>XOM</th>\n      <th>XRAY</th>\n      <th>XRX</th>\n      <th>XYL</th>\n      <th>YUM</th>\n      <th>ZBH</th>\n      <th>ZBRA</th>\n      <th>ZION</th>\n      <th>ZTS</th>\n    </tr>\n    <tr>\n      <th>datetime</th>\n      <th></th>\n      <th></th>\n      <th></th>\n      <th></th>\n      <th></th>\n      <th></th>\n      <th></th>\n      <th></th>\n      <th></th>\n      <th></th>\n      <th></th>\n      <th></th>\n      <th></th>\n      <th></th>\n      <th></th>\n      <th></th>\n      <th></th>\n      <th></th>\n      <th></th>\n      <th></th>\n      <th></th>\n    </tr>\n  </thead>\n  <tbody>\n    <tr>\n      <th>2010-01-04</th>\n      <td>20.545469</td>\n      <td>4.496876</td>\n      <td>39.103363</td>\n      <td>6.583586</td>\n      <td>NaN</td>\n      <td>22.512976</td>\n      <td>8.74</td>\n      <td>20.074522</td>\n      <td>33.718582</td>\n      <td>37.090000</td>\n      <td>...</td>\n      <td>19.830650</td>\n      <td>46.349365</td>\n      <td>32.941868</td>\n      <td>14.571863</td>\n      <td>NaN</td>\n      <td>20.328438</td>\n      <td>55.501415</td>\n      <td>28.670000</td>\n      <td>11.726357</td>\n      <td>NaN</td>\n    </tr>\n    <tr>\n      <th>2010-01-05</th>\n      <td>20.322289</td>\n      <td>5.005957</td>\n      <td>38.870968</td>\n      <td>6.594968</td>\n      <td>NaN</td>\n      <td>22.352354</td>\n      <td>8.53</td>\n      <td>19.912334</td>\n      <td>33.926979</td>\n      <td>37.700001</td>\n      <td>...</td>\n      <td>19.580618</td>\n      <td>46.530319</td>\n      <td>32.550251</td>\n      <td>14.588748</td>\n      <td>NaN</td>\n      <td>20.258917</td>\n      <td>57.258369</td>\n      <td>28.620001</td>\n      <td>12.139812</td>\n      <td>NaN</td>\n    </tr>\n    <tr>\n      <th>2010-01-06</th>\n      <td>20.250088</td>\n      <td>4.798555</td>\n      <td>39.209885</td>\n      <td>6.490066</td>\n      <td>NaN</td>\n      <td>22.141001</td>\n      <td>8.40</td>\n      <td>20.022911</td>\n      <td>34.287651</td>\n      <td>37.619999</td>\n      <td>...</td>\n      <td>19.447794</td>\n      <td>46.932491</td>\n      <td>32.764709</td>\n      <td>14.453672</td>\n      <td>NaN</td>\n      <td>20.114088</td>\n      <td>57.239891</td>\n      <td>28.400000</td>\n      <td>13.195447</td>\n      <td>NaN</td>\n    </tr>\n    <tr>\n      <th>2010-01-07</th>\n      <td>20.223829</td>\n      <td>4.939965</td>\n      <td>39.200214</td>\n      <td>6.478067</td>\n      <td>NaN</td>\n      <td>21.785934</td>\n      <td>8.40</td>\n      <td>20.188793</td>\n      <td>34.255581</td>\n      <td>36.889999</td>\n      <td>...</td>\n      <td>19.252451</td>\n      <td>46.785034</td>\n      <td>33.193615</td>\n      <td>14.521203</td>\n      <td>NaN</td>\n      <td>20.108294</td>\n      <td>58.552982</td>\n      <td>27.690001</td>\n      <td>14.673337</td>\n      <td>NaN</td>\n    </tr>\n    <tr>\n      <th>2010-01-08</th>\n      <td>20.217272</td>\n      <td>4.845690</td>\n      <td>39.355148</td>\n      <td>6.521136</td>\n      <td>NaN</td>\n      <td>22.022644</td>\n      <td>8.23</td>\n      <td>20.292002</td>\n      <td>34.119335</td>\n      <td>36.689999</td>\n      <td>...</td>\n      <td>19.533739</td>\n      <td>46.597363</td>\n      <td>33.193615</td>\n      <td>14.470551</td>\n      <td>NaN</td>\n      <td>20.114088</td>\n      <td>57.323116</td>\n      <td>27.600000</td>\n      <td>14.435819</td>\n      <td>NaN</td>\n    </tr>\n  </tbody>\n</table>\n<p>5 rows × 505 columns</p>\n</div>"
     },
     "metadata": {},
     "execution_count": 2
    }
   ],
   "source": [
    "data = pd.read_csv('./sp500_adj_close.csv',header=0, skiprows=1)\n",
    "data = data[1:]\n",
    "data.columns = ['datetime'] + data.columns[1:].to_list()\n",
    "data['datetime'] = pd.to_datetime(data['datetime'])\n",
    "data = data.set_index('datetime')\n",
    "# special\n",
    "data.drop(pd.to_datetime('2017-09-04'),inplace=True)\n",
    "# data.loc['2018-01-01':]\n",
    "data.head()"
   ]
  },
  {
   "cell_type": "code",
   "execution_count": 3,
   "metadata": {},
   "outputs": [
    {
     "output_type": "execute_result",
     "data": {
      "text/plain": [
       "                  ^GSPC\n",
       "datatime               \n",
       "2010-01-04  1132.989990\n",
       "2010-01-05  1136.520020\n",
       "2010-01-06  1137.140015\n",
       "2010-01-07  1141.689941\n",
       "2010-01-08  1144.979980\n",
       "...                 ...\n",
       "2021-02-01  3773.860107\n",
       "2021-02-02  3826.310059\n",
       "2021-02-03  3830.169922\n",
       "2021-02-04  3871.739990\n",
       "2021-02-05  3886.830078\n",
       "\n",
       "[2793 rows x 1 columns]"
      ],
      "text/html": "<div>\n<style scoped>\n    .dataframe tbody tr th:only-of-type {\n        vertical-align: middle;\n    }\n\n    .dataframe tbody tr th {\n        vertical-align: top;\n    }\n\n    .dataframe thead th {\n        text-align: right;\n    }\n</style>\n<table border=\"1\" class=\"dataframe\">\n  <thead>\n    <tr style=\"text-align: right;\">\n      <th></th>\n      <th>^GSPC</th>\n    </tr>\n    <tr>\n      <th>datatime</th>\n      <th></th>\n    </tr>\n  </thead>\n  <tbody>\n    <tr>\n      <th>2010-01-04</th>\n      <td>1132.989990</td>\n    </tr>\n    <tr>\n      <th>2010-01-05</th>\n      <td>1136.520020</td>\n    </tr>\n    <tr>\n      <th>2010-01-06</th>\n      <td>1137.140015</td>\n    </tr>\n    <tr>\n      <th>2010-01-07</th>\n      <td>1141.689941</td>\n    </tr>\n    <tr>\n      <th>2010-01-08</th>\n      <td>1144.979980</td>\n    </tr>\n    <tr>\n      <th>...</th>\n      <td>...</td>\n    </tr>\n    <tr>\n      <th>2021-02-01</th>\n      <td>3773.860107</td>\n    </tr>\n    <tr>\n      <th>2021-02-02</th>\n      <td>3826.310059</td>\n    </tr>\n    <tr>\n      <th>2021-02-03</th>\n      <td>3830.169922</td>\n    </tr>\n    <tr>\n      <th>2021-02-04</th>\n      <td>3871.739990</td>\n    </tr>\n    <tr>\n      <th>2021-02-05</th>\n      <td>3886.830078</td>\n    </tr>\n  </tbody>\n</table>\n<p>2793 rows × 1 columns</p>\n</div>"
     },
     "metadata": {},
     "execution_count": 3
    }
   ],
   "source": [
    "benchmark_data = pd.read_csv('./sp500_^SPGC_adj_close.csv',index_col=1)\n",
    "benchmark_data = benchmark_data[['^GSPC']].reset_index('datatime').set_index('datatime').copy()\n",
    "benchmark_data.index = pd.DatetimeIndex(benchmark_data.index)\n",
    "benchmark_data"
   ]
  },
  {
   "cell_type": "code",
   "execution_count": 4,
   "metadata": {},
   "outputs": [
    {
     "output_type": "execute_result",
     "data": {
      "text/plain": [
       "27.6018180847168"
      ]
     },
     "metadata": {},
     "execution_count": 4
    }
   ],
   "source": [
    "data['A']['2011-02-01']"
   ]
  }
 ]
}