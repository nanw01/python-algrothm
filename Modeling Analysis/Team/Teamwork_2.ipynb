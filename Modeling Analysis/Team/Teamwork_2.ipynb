{
 "metadata": {
  "language_info": {
   "codemirror_mode": {
    "name": "ipython",
    "version": 3
   },
   "file_extension": ".py",
   "mimetype": "text/x-python",
   "name": "python",
   "nbconvert_exporter": "python",
   "pygments_lexer": "ipython3",
   "version": "3.8.5-final"
  },
  "orig_nbformat": 2,
  "kernelspec": {
   "name": "python3",
   "display_name": "Python 3",
   "language": "python"
  }
 },
 "nbformat": 4,
 "nbformat_minor": 2,
 "cells": [
  {
   "cell_type": "code",
   "execution_count": 1,
   "metadata": {},
   "outputs": [],
   "source": [
    "import bt\n",
    "import pandas as pd\n",
    "import numpy as np\n",
    "import matplotlib.pyplot as plt\n",
    "from bt.core import Algo"
   ]
  },
  {
   "cell_type": "code",
   "execution_count": 2,
   "metadata": {},
   "outputs": [
    {
     "output_type": "execute_result",
     "data": {
      "text/plain": [
       "                    A       AAL        AAP      AAPL  ABBV        ABC  ABMD  \\\n",
       "datetime                                                                      \n",
       "2010-01-04  20.545469  4.496876  39.103363  6.583586   NaN  22.512976  8.74   \n",
       "2010-01-05  20.322289  5.005957  38.870968  6.594968   NaN  22.352354  8.53   \n",
       "2010-01-06  20.250088  4.798555  39.209885  6.490066   NaN  22.141001  8.40   \n",
       "2010-01-07  20.223829  4.939965  39.200214  6.478067   NaN  21.785934  8.40   \n",
       "2010-01-08  20.217272  4.845690  39.355148  6.521136   NaN  22.022644  8.23   \n",
       "\n",
       "                  ABT        ACN       ADBE  ...       XLNX        XOM  \\\n",
       "datetime                                     ...                         \n",
       "2010-01-04  20.074522  33.718582  37.090000  ...  19.830650  46.349365   \n",
       "2010-01-05  19.912334  33.926979  37.700001  ...  19.580618  46.530319   \n",
       "2010-01-06  20.022911  34.287651  37.619999  ...  19.447794  46.932491   \n",
       "2010-01-07  20.188793  34.255581  36.889999  ...  19.252451  46.785034   \n",
       "2010-01-08  20.292002  34.119335  36.689999  ...  19.533739  46.597363   \n",
       "\n",
       "                 XRAY        XRX  XYL        YUM        ZBH       ZBRA  \\\n",
       "datetime                                                                 \n",
       "2010-01-04  32.941868  14.571863  NaN  20.328438  55.501415  28.670000   \n",
       "2010-01-05  32.550251  14.588748  NaN  20.258917  57.258369  28.620001   \n",
       "2010-01-06  32.764709  14.453672  NaN  20.114088  57.239891  28.400000   \n",
       "2010-01-07  33.193615  14.521203  NaN  20.108294  58.552982  27.690001   \n",
       "2010-01-08  33.193615  14.470551  NaN  20.114088  57.323116  27.600000   \n",
       "\n",
       "                 ZION  ZTS  \n",
       "datetime                    \n",
       "2010-01-04  11.726357  NaN  \n",
       "2010-01-05  12.139812  NaN  \n",
       "2010-01-06  13.195447  NaN  \n",
       "2010-01-07  14.673337  NaN  \n",
       "2010-01-08  14.435819  NaN  \n",
       "\n",
       "[5 rows x 505 columns]"
      ],
      "text/html": "<div>\n<style scoped>\n    .dataframe tbody tr th:only-of-type {\n        vertical-align: middle;\n    }\n\n    .dataframe tbody tr th {\n        vertical-align: top;\n    }\n\n    .dataframe thead th {\n        text-align: right;\n    }\n</style>\n<table border=\"1\" class=\"dataframe\">\n  <thead>\n    <tr style=\"text-align: right;\">\n      <th></th>\n      <th>A</th>\n      <th>AAL</th>\n      <th>AAP</th>\n      <th>AAPL</th>\n      <th>ABBV</th>\n      <th>ABC</th>\n      <th>ABMD</th>\n      <th>ABT</th>\n      <th>ACN</th>\n      <th>ADBE</th>\n      <th>...</th>\n      <th>XLNX</th>\n      <th>XOM</th>\n      <th>XRAY</th>\n      <th>XRX</th>\n      <th>XYL</th>\n      <th>YUM</th>\n      <th>ZBH</th>\n      <th>ZBRA</th>\n      <th>ZION</th>\n      <th>ZTS</th>\n    </tr>\n    <tr>\n      <th>datetime</th>\n      <th></th>\n      <th></th>\n      <th></th>\n      <th></th>\n      <th></th>\n      <th></th>\n      <th></th>\n      <th></th>\n      <th></th>\n      <th></th>\n      <th></th>\n      <th></th>\n      <th></th>\n      <th></th>\n      <th></th>\n      <th></th>\n      <th></th>\n      <th></th>\n      <th></th>\n      <th></th>\n      <th></th>\n    </tr>\n  </thead>\n  <tbody>\n    <tr>\n      <th>2010-01-04</th>\n      <td>20.545469</td>\n      <td>4.496876</td>\n      <td>39.103363</td>\n      <td>6.583586</td>\n      <td>NaN</td>\n      <td>22.512976</td>\n      <td>8.74</td>\n      <td>20.074522</td>\n      <td>33.718582</td>\n      <td>37.090000</td>\n      <td>...</td>\n      <td>19.830650</td>\n      <td>46.349365</td>\n      <td>32.941868</td>\n      <td>14.571863</td>\n      <td>NaN</td>\n      <td>20.328438</td>\n      <td>55.501415</td>\n      <td>28.670000</td>\n      <td>11.726357</td>\n      <td>NaN</td>\n    </tr>\n    <tr>\n      <th>2010-01-05</th>\n      <td>20.322289</td>\n      <td>5.005957</td>\n      <td>38.870968</td>\n      <td>6.594968</td>\n      <td>NaN</td>\n      <td>22.352354</td>\n      <td>8.53</td>\n      <td>19.912334</td>\n      <td>33.926979</td>\n      <td>37.700001</td>\n      <td>...</td>\n      <td>19.580618</td>\n      <td>46.530319</td>\n      <td>32.550251</td>\n      <td>14.588748</td>\n      <td>NaN</td>\n      <td>20.258917</td>\n      <td>57.258369</td>\n      <td>28.620001</td>\n      <td>12.139812</td>\n      <td>NaN</td>\n    </tr>\n    <tr>\n      <th>2010-01-06</th>\n      <td>20.250088</td>\n      <td>4.798555</td>\n      <td>39.209885</td>\n      <td>6.490066</td>\n      <td>NaN</td>\n      <td>22.141001</td>\n      <td>8.40</td>\n      <td>20.022911</td>\n      <td>34.287651</td>\n      <td>37.619999</td>\n      <td>...</td>\n      <td>19.447794</td>\n      <td>46.932491</td>\n      <td>32.764709</td>\n      <td>14.453672</td>\n      <td>NaN</td>\n      <td>20.114088</td>\n      <td>57.239891</td>\n      <td>28.400000</td>\n      <td>13.195447</td>\n      <td>NaN</td>\n    </tr>\n    <tr>\n      <th>2010-01-07</th>\n      <td>20.223829</td>\n      <td>4.939965</td>\n      <td>39.200214</td>\n      <td>6.478067</td>\n      <td>NaN</td>\n      <td>21.785934</td>\n      <td>8.40</td>\n      <td>20.188793</td>\n      <td>34.255581</td>\n      <td>36.889999</td>\n      <td>...</td>\n      <td>19.252451</td>\n      <td>46.785034</td>\n      <td>33.193615</td>\n      <td>14.521203</td>\n      <td>NaN</td>\n      <td>20.108294</td>\n      <td>58.552982</td>\n      <td>27.690001</td>\n      <td>14.673337</td>\n      <td>NaN</td>\n    </tr>\n    <tr>\n      <th>2010-01-08</th>\n      <td>20.217272</td>\n      <td>4.845690</td>\n      <td>39.355148</td>\n      <td>6.521136</td>\n      <td>NaN</td>\n      <td>22.022644</td>\n      <td>8.23</td>\n      <td>20.292002</td>\n      <td>34.119335</td>\n      <td>36.689999</td>\n      <td>...</td>\n      <td>19.533739</td>\n      <td>46.597363</td>\n      <td>33.193615</td>\n      <td>14.470551</td>\n      <td>NaN</td>\n      <td>20.114088</td>\n      <td>57.323116</td>\n      <td>27.600000</td>\n      <td>14.435819</td>\n      <td>NaN</td>\n    </tr>\n  </tbody>\n</table>\n<p>5 rows × 505 columns</p>\n</div>"
     },
     "metadata": {},
     "execution_count": 2
    }
   ],
   "source": [
    "data = pd.read_csv('./sp500_adj_close.csv',header=0, skiprows=1)\n",
    "data = data[1:]\n",
    "data.columns = ['datetime'] + data.columns[1:].to_list()\n",
    "data['datetime'] = pd.to_datetime(data['datetime'])\n",
    "data = data.set_index('datetime')\n",
    "# special\n",
    "data.drop(pd.to_datetime('2017-09-04'),inplace=True)\n",
    "# data.loc['2018-01-01':]\n",
    "data.head()"
   ]
  },
  {
   "cell_type": "code",
   "execution_count": 3,
   "metadata": {},
   "outputs": [
    {
     "output_type": "execute_result",
     "data": {
      "text/plain": [
       "                  ^GSPC\n",
       "datatime               \n",
       "2010-01-04  1132.989990\n",
       "2010-01-05  1136.520020\n",
       "2010-01-06  1137.140015\n",
       "2010-01-07  1141.689941\n",
       "2010-01-08  1144.979980\n",
       "...                 ...\n",
       "2021-02-01  3773.860107\n",
       "2021-02-02  3826.310059\n",
       "2021-02-03  3830.169922\n",
       "2021-02-04  3871.739990\n",
       "2021-02-05  3886.830078\n",
       "\n",
       "[2793 rows x 1 columns]"
      ],
      "text/html": "<div>\n<style scoped>\n    .dataframe tbody tr th:only-of-type {\n        vertical-align: middle;\n    }\n\n    .dataframe tbody tr th {\n        vertical-align: top;\n    }\n\n    .dataframe thead th {\n        text-align: right;\n    }\n</style>\n<table border=\"1\" class=\"dataframe\">\n  <thead>\n    <tr style=\"text-align: right;\">\n      <th></th>\n      <th>^GSPC</th>\n    </tr>\n    <tr>\n      <th>datatime</th>\n      <th></th>\n    </tr>\n  </thead>\n  <tbody>\n    <tr>\n      <th>2010-01-04</th>\n      <td>1132.989990</td>\n    </tr>\n    <tr>\n      <th>2010-01-05</th>\n      <td>1136.520020</td>\n    </tr>\n    <tr>\n      <th>2010-01-06</th>\n      <td>1137.140015</td>\n    </tr>\n    <tr>\n      <th>2010-01-07</th>\n      <td>1141.689941</td>\n    </tr>\n    <tr>\n      <th>2010-01-08</th>\n      <td>1144.979980</td>\n    </tr>\n    <tr>\n      <th>...</th>\n      <td>...</td>\n    </tr>\n    <tr>\n      <th>2021-02-01</th>\n      <td>3773.860107</td>\n    </tr>\n    <tr>\n      <th>2021-02-02</th>\n      <td>3826.310059</td>\n    </tr>\n    <tr>\n      <th>2021-02-03</th>\n      <td>3830.169922</td>\n    </tr>\n    <tr>\n      <th>2021-02-04</th>\n      <td>3871.739990</td>\n    </tr>\n    <tr>\n      <th>2021-02-05</th>\n      <td>3886.830078</td>\n    </tr>\n  </tbody>\n</table>\n<p>2793 rows × 1 columns</p>\n</div>"
     },
     "metadata": {},
     "execution_count": 3
    }
   ],
   "source": [
    "benchmark_data = pd.read_csv('./sp500_^SPGC_adj_close.csv',index_col=1)\n",
    "benchmark_data = benchmark_data[['^GSPC']]\n",
    "benchmark_data"
   ]
  },
  {
   "cell_type": "code",
   "execution_count": 4,
   "metadata": {},
   "outputs": [
    {
     "output_type": "execute_result",
     "data": {
      "text/plain": [
       "                A    AAL    AAP   AAPL   ABBV    ABC   ABMD    ABT    ACN  \\\n",
       "datetime                                                                    \n",
       "2010-01-04  False  False  False  False  False  False  False  False  False   \n",
       "2010-01-05  False  False  False  False  False  False  False  False  False   \n",
       "2010-01-06  False  False  False  False  False  False  False  False  False   \n",
       "2010-01-07  False  False  False  False  False  False  False  False  False   \n",
       "2010-01-08  False  False  False  False  False  False  False  False  False   \n",
       "...           ...    ...    ...    ...    ...    ...    ...    ...    ...   \n",
       "2021-02-01   True  False  False   True  False   True   True   True  False   \n",
       "2021-02-02   True  False  False   True  False   True   True   True  False   \n",
       "2021-02-03   True  False  False   True   True   True   True   True  False   \n",
       "2021-02-04   True  False   True   True   True   True   True   True   True   \n",
       "2021-02-05   True  False  False   True   True   True   True   True   True   \n",
       "\n",
       "             ADBE  ...   XLNX    XOM   XRAY    XRX    XYL    YUM    ZBH  \\\n",
       "datetime           ...                                                    \n",
       "2010-01-04  False  ...  False  False  False  False  False  False  False   \n",
       "2010-01-05  False  ...  False  False  False  False  False  False  False   \n",
       "2010-01-06  False  ...  False  False  False  False  False  False  False   \n",
       "2010-01-07  False  ...  False  False  False  False  False  False  False   \n",
       "2010-01-08  False  ...  False  False  False  False  False  False  False   \n",
       "...           ...  ...    ...    ...    ...    ...    ...    ...    ...   \n",
       "2021-02-01  False  ...  False  False  False  False  False  False   True   \n",
       "2021-02-02   True  ...  False  False   True  False  False   True   True   \n",
       "2021-02-03   True  ...  False  False   True  False  False  False   True   \n",
       "2021-02-04   True  ...  False  False   True  False  False  False   True   \n",
       "2021-02-05   True  ...  False  False   True  False  False   True   True   \n",
       "\n",
       "             ZBRA   ZION    ZTS  \n",
       "datetime                         \n",
       "2010-01-04  False  False  False  \n",
       "2010-01-05  False  False  False  \n",
       "2010-01-06  False  False  False  \n",
       "2010-01-07  False  False  False  \n",
       "2010-01-08  False  False  False  \n",
       "...           ...    ...    ...  \n",
       "2021-02-01   True   True  False  \n",
       "2021-02-02   True   True  False  \n",
       "2021-02-03   True   True  False  \n",
       "2021-02-04   True   True  False  \n",
       "2021-02-05   True   True  False  \n",
       "\n",
       "[2793 rows x 505 columns]"
      ],
      "text/html": "<div>\n<style scoped>\n    .dataframe tbody tr th:only-of-type {\n        vertical-align: middle;\n    }\n\n    .dataframe tbody tr th {\n        vertical-align: top;\n    }\n\n    .dataframe thead th {\n        text-align: right;\n    }\n</style>\n<table border=\"1\" class=\"dataframe\">\n  <thead>\n    <tr style=\"text-align: right;\">\n      <th></th>\n      <th>A</th>\n      <th>AAL</th>\n      <th>AAP</th>\n      <th>AAPL</th>\n      <th>ABBV</th>\n      <th>ABC</th>\n      <th>ABMD</th>\n      <th>ABT</th>\n      <th>ACN</th>\n      <th>ADBE</th>\n      <th>...</th>\n      <th>XLNX</th>\n      <th>XOM</th>\n      <th>XRAY</th>\n      <th>XRX</th>\n      <th>XYL</th>\n      <th>YUM</th>\n      <th>ZBH</th>\n      <th>ZBRA</th>\n      <th>ZION</th>\n      <th>ZTS</th>\n    </tr>\n    <tr>\n      <th>datetime</th>\n      <th></th>\n      <th></th>\n      <th></th>\n      <th></th>\n      <th></th>\n      <th></th>\n      <th></th>\n      <th></th>\n      <th></th>\n      <th></th>\n      <th></th>\n      <th></th>\n      <th></th>\n      <th></th>\n      <th></th>\n      <th></th>\n      <th></th>\n      <th></th>\n      <th></th>\n      <th></th>\n      <th></th>\n    </tr>\n  </thead>\n  <tbody>\n    <tr>\n      <th>2010-01-04</th>\n      <td>False</td>\n      <td>False</td>\n      <td>False</td>\n      <td>False</td>\n      <td>False</td>\n      <td>False</td>\n      <td>False</td>\n      <td>False</td>\n      <td>False</td>\n      <td>False</td>\n      <td>...</td>\n      <td>False</td>\n      <td>False</td>\n      <td>False</td>\n      <td>False</td>\n      <td>False</td>\n      <td>False</td>\n      <td>False</td>\n      <td>False</td>\n      <td>False</td>\n      <td>False</td>\n    </tr>\n    <tr>\n      <th>2010-01-05</th>\n      <td>False</td>\n      <td>False</td>\n      <td>False</td>\n      <td>False</td>\n      <td>False</td>\n      <td>False</td>\n      <td>False</td>\n      <td>False</td>\n      <td>False</td>\n      <td>False</td>\n      <td>...</td>\n      <td>False</td>\n      <td>False</td>\n      <td>False</td>\n      <td>False</td>\n      <td>False</td>\n      <td>False</td>\n      <td>False</td>\n      <td>False</td>\n      <td>False</td>\n      <td>False</td>\n    </tr>\n    <tr>\n      <th>2010-01-06</th>\n      <td>False</td>\n      <td>False</td>\n      <td>False</td>\n      <td>False</td>\n      <td>False</td>\n      <td>False</td>\n      <td>False</td>\n      <td>False</td>\n      <td>False</td>\n      <td>False</td>\n      <td>...</td>\n      <td>False</td>\n      <td>False</td>\n      <td>False</td>\n      <td>False</td>\n      <td>False</td>\n      <td>False</td>\n      <td>False</td>\n      <td>False</td>\n      <td>False</td>\n      <td>False</td>\n    </tr>\n    <tr>\n      <th>2010-01-07</th>\n      <td>False</td>\n      <td>False</td>\n      <td>False</td>\n      <td>False</td>\n      <td>False</td>\n      <td>False</td>\n      <td>False</td>\n      <td>False</td>\n      <td>False</td>\n      <td>False</td>\n      <td>...</td>\n      <td>False</td>\n      <td>False</td>\n      <td>False</td>\n      <td>False</td>\n      <td>False</td>\n      <td>False</td>\n      <td>False</td>\n      <td>False</td>\n      <td>False</td>\n      <td>False</td>\n    </tr>\n    <tr>\n      <th>2010-01-08</th>\n      <td>False</td>\n      <td>False</td>\n      <td>False</td>\n      <td>False</td>\n      <td>False</td>\n      <td>False</td>\n      <td>False</td>\n      <td>False</td>\n      <td>False</td>\n      <td>False</td>\n      <td>...</td>\n      <td>False</td>\n      <td>False</td>\n      <td>False</td>\n      <td>False</td>\n      <td>False</td>\n      <td>False</td>\n      <td>False</td>\n      <td>False</td>\n      <td>False</td>\n      <td>False</td>\n    </tr>\n    <tr>\n      <th>...</th>\n      <td>...</td>\n      <td>...</td>\n      <td>...</td>\n      <td>...</td>\n      <td>...</td>\n      <td>...</td>\n      <td>...</td>\n      <td>...</td>\n      <td>...</td>\n      <td>...</td>\n      <td>...</td>\n      <td>...</td>\n      <td>...</td>\n      <td>...</td>\n      <td>...</td>\n      <td>...</td>\n      <td>...</td>\n      <td>...</td>\n      <td>...</td>\n      <td>...</td>\n      <td>...</td>\n    </tr>\n    <tr>\n      <th>2021-02-01</th>\n      <td>True</td>\n      <td>False</td>\n      <td>False</td>\n      <td>True</td>\n      <td>False</td>\n      <td>True</td>\n      <td>True</td>\n      <td>True</td>\n      <td>False</td>\n      <td>False</td>\n      <td>...</td>\n      <td>False</td>\n      <td>False</td>\n      <td>False</td>\n      <td>False</td>\n      <td>False</td>\n      <td>False</td>\n      <td>True</td>\n      <td>True</td>\n      <td>True</td>\n      <td>False</td>\n    </tr>\n    <tr>\n      <th>2021-02-02</th>\n      <td>True</td>\n      <td>False</td>\n      <td>False</td>\n      <td>True</td>\n      <td>False</td>\n      <td>True</td>\n      <td>True</td>\n      <td>True</td>\n      <td>False</td>\n      <td>True</td>\n      <td>...</td>\n      <td>False</td>\n      <td>False</td>\n      <td>True</td>\n      <td>False</td>\n      <td>False</td>\n      <td>True</td>\n      <td>True</td>\n      <td>True</td>\n      <td>True</td>\n      <td>False</td>\n    </tr>\n    <tr>\n      <th>2021-02-03</th>\n      <td>True</td>\n      <td>False</td>\n      <td>False</td>\n      <td>True</td>\n      <td>True</td>\n      <td>True</td>\n      <td>True</td>\n      <td>True</td>\n      <td>False</td>\n      <td>True</td>\n      <td>...</td>\n      <td>False</td>\n      <td>False</td>\n      <td>True</td>\n      <td>False</td>\n      <td>False</td>\n      <td>False</td>\n      <td>True</td>\n      <td>True</td>\n      <td>True</td>\n      <td>False</td>\n    </tr>\n    <tr>\n      <th>2021-02-04</th>\n      <td>True</td>\n      <td>False</td>\n      <td>True</td>\n      <td>True</td>\n      <td>True</td>\n      <td>True</td>\n      <td>True</td>\n      <td>True</td>\n      <td>True</td>\n      <td>True</td>\n      <td>...</td>\n      <td>False</td>\n      <td>False</td>\n      <td>True</td>\n      <td>False</td>\n      <td>False</td>\n      <td>False</td>\n      <td>True</td>\n      <td>True</td>\n      <td>True</td>\n      <td>False</td>\n    </tr>\n    <tr>\n      <th>2021-02-05</th>\n      <td>True</td>\n      <td>False</td>\n      <td>False</td>\n      <td>True</td>\n      <td>True</td>\n      <td>True</td>\n      <td>True</td>\n      <td>True</td>\n      <td>True</td>\n      <td>True</td>\n      <td>...</td>\n      <td>False</td>\n      <td>False</td>\n      <td>True</td>\n      <td>False</td>\n      <td>False</td>\n      <td>True</td>\n      <td>True</td>\n      <td>True</td>\n      <td>True</td>\n      <td>False</td>\n    </tr>\n  </tbody>\n</table>\n<p>2793 rows × 505 columns</p>\n</div>"
     },
     "metadata": {},
     "execution_count": 4
    }
   ],
   "source": [
    "ema_50 = data.ewm(span=50, adjust=True).mean()\n",
    "ema_100 = data.ewm(span=100, adjust=True).mean()\n",
    "ema_150 = data.ewm(span=150, adjust=True).mean()\n",
    "ema_200 = data.ewm(span=200, adjust=True).mean()\n",
    "\n",
    "# 1. The current stock price is above both the 150-day and 200-day moving average\n",
    "r_1 = (data > ema_150) + (data >ema_200)\n",
    "# 2. The 150-day moving average is above the 200-day moving average\n",
    "r_2 = ema_150 > ema_200\n",
    "# 3. The 200-day moving average line is trending up for at least 1 month\n",
    "\n",
    "# 4. The 50-day moving average is above both the 150-day and 200-day moving averages\n",
    "r_4 = (ema_50 > ema_150) + (ema_50 > ema_200)\n",
    "# 5. The current stock price is trading above the 50-day moving average\n",
    "r_5 = data > ema_50\n",
    "# 6. The current stock price is at least 30% above it’s 52-week low\n",
    "low_52week = data.rolling(52 * 5).min()\n",
    "r_6 = data >= low_52week * 1.3\n",
    "# 7. The current stock price is within at least 25% of its 52-week high\n",
    "high_52week = data.rolling(52 * 5).max()\n",
    "r_7 = (data >= high_52week * 0.75) + (data <= high_52week * 1.25)\n",
    "# 8. The relative strength ranking (as reported in Investor’s Business Daily) is no less than 70. Preferably \n",
    "\n",
    "signal = r_1 & r_2 & r_4 & r_5 & r_6 & r_7\n",
    "signal"
   ]
  },
  {
   "cell_type": "code",
   "execution_count": 16,
   "metadata": {},
   "outputs": [],
   "source": [
    "from pypfopt import EfficientFrontier\n",
    "from pypfopt import risk_models\n",
    "from pypfopt import expected_returns\n",
    "\n",
    "\n",
    "class WeighEqually_DIY(Algo):\n",
    "\n",
    "    def __init__(self,optimial_type='min_volatility',risk_free_rate = 0.1):\n",
    "        super(WeighEqually_DIY, self).__init__()\n",
    "        self.optimial_type = optimial_type\n",
    "        self.risk_free_rate = risk_free_rate\n",
    "\n",
    "    def __call__(self, target):\n",
    "        selected = target.temp['selected']\n",
    "        n = len(selected)\n",
    "\n",
    "        if n == 0:\n",
    "            target.temp['weights'] = {}\n",
    "        else:\n",
    "            \n",
    "            df = target.universe[selected]\n",
    "            # Calculate expected returns and sample covariance\n",
    "            mu = expected_returns.mean_historical_return(df)\n",
    "            S = risk_models.sample_cov(df)\n",
    "            \n",
    "            # Optimise for maximal Sharpe ratio\n",
    "            ef = EfficientFrontier(mu, S)\n",
    "            \n",
    "            if self.optimial_type == 'min_volatility':\n",
    "                \n",
    "                weights = ef.min_volatility()\n",
    "                cleaned_weights = ef.clean_weights()\n",
    "                target.temp['selected'] = list(cleaned_weights.keys())\n",
    "                target.temp['weights'] = cleaned_weights\n",
    "            elif self.optimial_type == 'max_sharpe':\n",
    "                weights = ef.max_sharpe(risk_free_rate = self.risk_free_rate)\n",
    "\n",
    "                # risk_free_rate (float, optional) – risk-free rate of borrowing/lending, defaults to 0.02. The period of the risk-free rate should correspond to the frequency of expected returns.\n",
    "\n",
    "                cleaned_weights = ef.clean_weights()\n",
    "                target.temp['selected'] = list(cleaned_weights.keys())\n",
    "                target.temp['weights'] = cleaned_weights\n",
    "        return True\n"
   ]
  },
  {
   "cell_type": "code",
   "execution_count": 8,
   "metadata": {},
   "outputs": [],
   "source": [
    "# create the strategy #risk\n",
    "s_mv_monthly = bt.Strategy('minimum volatility monthly', [bt.algos.RunMonthly(),\n",
    "                       bt.algos.SelectWhere(signal),\n",
    "                       WeighEqually_DIY(optimial_type='min_volatility'),\n",
    "                       bt.algos.Rebalance()])\n",
    "# create a backtest and run it\n",
    "mv_monthly = bt.Backtest(s_mv_monthly, data,progress_bar=True)\n",
    "\n",
    "# create the strategy. #return(max risk)\n",
    "s_msr_monthly = bt.Strategy('maximum sharpe ratio monthly', [bt.algos.RunMonthly(),\n",
    "                       bt.algos.SelectWhere(signal),\n",
    "                       WeighEqually_DIY(optimial_type='max_sharpe',risk_free_rate = 0.05),\n",
    "                       bt.algos.Rebalance()])\n",
    "# create a backtest and run it\n",
    "msr__monthly = bt.Backtest(s_msr_monthly, data,progress_bar=True)"
   ]
  },
  {
   "cell_type": "code",
   "execution_count": 9,
   "metadata": {},
   "outputs": [],
   "source": [
    "# create the strategy #risk\n",
    "s_mv_yearly = bt.Strategy('minimum volatility yearly', [bt.algos.RunYearly(),\n",
    "                       bt.algos.SelectWhere(signal),\n",
    "                       WeighEqually_DIY(optimial_type='min_volatility'),\n",
    "                       bt.algos.Rebalance()])\n",
    "# create a backtest and run it\n",
    "mv_yearly = bt.Backtest(s_mv_yearly, data,progress_bar=True)\n",
    "\n",
    "# create the strategy. #return(max risk)\n",
    "s_msr_yearly = bt.Strategy('maximum sharpe ratio yearly', [bt.algos.RunYearly(),\n",
    "                       bt.algos.SelectWhere(signal),\n",
    "                       WeighEqually_DIY(optimial_type='max_sharpe',risk_free_rate = 0.1),\n",
    "                       bt.algos.Rebalance()])\n",
    "# create a backtest and run it\n",
    "msr__yearly = bt.Backtest(s_msr_yearly, data,progress_bar=True)"
   ]
  },
  {
   "cell_type": "code",
   "execution_count": 11,
   "metadata": {},
   "outputs": [],
   "source": [
    "# # create the strategy benchmark \n",
    "# benchmark_yearly =  bt.Strategy('benchmark', [bt.algos.RunYearly(),\n",
    "#                        bt.algos.SelectAll(),\n",
    "#                        bt.algos.WeighEqually(),\n",
    "#                        bt.algos.Rebalance()])\n",
    "# # create a backtest and run it\n",
    "# b_yearly = bt.Backtest(benchmark_yearly, benchmark_data, progress_bar=True)\n",
    "\n"
   ]
  },
  {
   "cell_type": "code",
   "execution_count": 17,
   "metadata": {},
   "outputs": [
    {
     "output_type": "stream",
     "name": "stdout",
     "text": [
      "maximum sharpe ratio monthly\n",
      "0% [##                            ] 100% | ETA: 00:00:00"
     ]
    },
    {
     "output_type": "error",
     "ename": "Exception",
     "evalue": "Cannot allocate capital to A weight because price is 0 as of 2011-02-01 00:00:00",
     "traceback": [
      "\u001b[0;31m---------------------------------------------------------------------------\u001b[0m",
      "\u001b[0;31mException\u001b[0m                                 Traceback (most recent call last)",
      "\u001b[0;32m<ipython-input-17-b0be733359c8>\u001b[0m in \u001b[0;36m<module>\u001b[0;34m\u001b[0m\n\u001b[0;32m----> 1\u001b[0;31m \u001b[0mres\u001b[0m \u001b[0;34m=\u001b[0m \u001b[0mbt\u001b[0m\u001b[0;34m.\u001b[0m\u001b[0mrun\u001b[0m\u001b[0;34m(\u001b[0m\u001b[0mmv_monthly\u001b[0m\u001b[0;34m,\u001b[0m \u001b[0mmsr__monthly\u001b[0m\u001b[0;34m,\u001b[0m\u001b[0mmv_yearly\u001b[0m\u001b[0;34m,\u001b[0m\u001b[0mmsr__yearly\u001b[0m\u001b[0;34m)\u001b[0m  \u001b[0;31m#,b_yearly)\u001b[0m\u001b[0;34m\u001b[0m\u001b[0;34m\u001b[0m\u001b[0m\n\u001b[0m",
      "\u001b[0;32m~/anaconda3/lib/python3.8/site-packages/bt/backtest.py\u001b[0m in \u001b[0;36mrun\u001b[0;34m(*backtests)\u001b[0m\n\u001b[1;32m     26\u001b[0m     \u001b[0;31m# run each backtest\u001b[0m\u001b[0;34m\u001b[0m\u001b[0;34m\u001b[0m\u001b[0;34m\u001b[0m\u001b[0m\n\u001b[1;32m     27\u001b[0m     \u001b[0;32mfor\u001b[0m \u001b[0mbkt\u001b[0m \u001b[0;32min\u001b[0m \u001b[0mbacktests\u001b[0m\u001b[0;34m:\u001b[0m\u001b[0;34m\u001b[0m\u001b[0;34m\u001b[0m\u001b[0m\n\u001b[0;32m---> 28\u001b[0;31m         \u001b[0mbkt\u001b[0m\u001b[0;34m.\u001b[0m\u001b[0mrun\u001b[0m\u001b[0;34m(\u001b[0m\u001b[0;34m)\u001b[0m\u001b[0;34m\u001b[0m\u001b[0;34m\u001b[0m\u001b[0m\n\u001b[0m\u001b[1;32m     29\u001b[0m \u001b[0;34m\u001b[0m\u001b[0m\n\u001b[1;32m     30\u001b[0m     \u001b[0;32mreturn\u001b[0m \u001b[0mResult\u001b[0m\u001b[0;34m(\u001b[0m\u001b[0;34m*\u001b[0m\u001b[0mbacktests\u001b[0m\u001b[0;34m)\u001b[0m\u001b[0;34m\u001b[0m\u001b[0;34m\u001b[0m\u001b[0m\n",
      "\u001b[0;32m~/anaconda3/lib/python3.8/site-packages/bt/backtest.py\u001b[0m in \u001b[0;36mrun\u001b[0;34m(self)\u001b[0m\n\u001b[1;32m    224\u001b[0m \u001b[0;34m\u001b[0m\u001b[0m\n\u001b[1;32m    225\u001b[0m             \u001b[0;32mif\u001b[0m \u001b[0;32mnot\u001b[0m \u001b[0mself\u001b[0m\u001b[0;34m.\u001b[0m\u001b[0mstrategy\u001b[0m\u001b[0;34m.\u001b[0m\u001b[0mbankrupt\u001b[0m\u001b[0;34m:\u001b[0m\u001b[0;34m\u001b[0m\u001b[0;34m\u001b[0m\u001b[0m\n\u001b[0;32m--> 226\u001b[0;31m                 \u001b[0mself\u001b[0m\u001b[0;34m.\u001b[0m\u001b[0mstrategy\u001b[0m\u001b[0;34m.\u001b[0m\u001b[0mrun\u001b[0m\u001b[0;34m(\u001b[0m\u001b[0;34m)\u001b[0m\u001b[0;34m\u001b[0m\u001b[0;34m\u001b[0m\u001b[0m\n\u001b[0m\u001b[1;32m    227\u001b[0m                 \u001b[0;31m# need update after to save weights, values and such\u001b[0m\u001b[0;34m\u001b[0m\u001b[0;34m\u001b[0m\u001b[0;34m\u001b[0m\u001b[0m\n\u001b[1;32m    228\u001b[0m                 \u001b[0mself\u001b[0m\u001b[0;34m.\u001b[0m\u001b[0mstrategy\u001b[0m\u001b[0;34m.\u001b[0m\u001b[0mupdate\u001b[0m\u001b[0;34m(\u001b[0m\u001b[0mdt\u001b[0m\u001b[0;34m)\u001b[0m\u001b[0;34m\u001b[0m\u001b[0;34m\u001b[0m\u001b[0m\n",
      "\u001b[0;32m~/anaconda3/lib/python3.8/site-packages/bt/core.cpython-38-x86_64-linux-gnu.so\u001b[0m in \u001b[0;36mbt.core.Strategy.run\u001b[0;34m()\u001b[0m\n",
      "\u001b[0;32m~/anaconda3/lib/python3.8/site-packages/bt/core.cpython-38-x86_64-linux-gnu.so\u001b[0m in \u001b[0;36mbt.core.AlgoStack.__call__\u001b[0;34m()\u001b[0m\n",
      "\u001b[0;32m~/anaconda3/lib/python3.8/site-packages/bt/algos.py\u001b[0m in \u001b[0;36m__call__\u001b[0;34m(self, target)\u001b[0m\n\u001b[1;32m   1783\u001b[0m         \u001b[0;31m# Turn off updating while we rebalance each child\u001b[0m\u001b[0;34m\u001b[0m\u001b[0;34m\u001b[0m\u001b[0;34m\u001b[0m\u001b[0m\n\u001b[1;32m   1784\u001b[0m         \u001b[0;32mfor\u001b[0m \u001b[0mitem\u001b[0m \u001b[0;32min\u001b[0m \u001b[0miteritems\u001b[0m\u001b[0;34m(\u001b[0m\u001b[0mtargets\u001b[0m\u001b[0;34m)\u001b[0m\u001b[0;34m:\u001b[0m\u001b[0;34m\u001b[0m\u001b[0;34m\u001b[0m\u001b[0m\n\u001b[0;32m-> 1785\u001b[0;31m             \u001b[0mtarget\u001b[0m\u001b[0;34m.\u001b[0m\u001b[0mrebalance\u001b[0m\u001b[0;34m(\u001b[0m\u001b[0mitem\u001b[0m\u001b[0;34m[\u001b[0m\u001b[0;36m1\u001b[0m\u001b[0;34m]\u001b[0m\u001b[0;34m,\u001b[0m \u001b[0mchild\u001b[0m\u001b[0;34m=\u001b[0m\u001b[0mitem\u001b[0m\u001b[0;34m[\u001b[0m\u001b[0;36m0\u001b[0m\u001b[0;34m]\u001b[0m\u001b[0;34m,\u001b[0m \u001b[0mbase\u001b[0m\u001b[0;34m=\u001b[0m\u001b[0mbase\u001b[0m\u001b[0;34m,\u001b[0m \u001b[0mupdate\u001b[0m\u001b[0;34m=\u001b[0m\u001b[0;32mFalse\u001b[0m\u001b[0;34m)\u001b[0m\u001b[0;34m\u001b[0m\u001b[0;34m\u001b[0m\u001b[0m\n\u001b[0m\u001b[1;32m   1786\u001b[0m \u001b[0;34m\u001b[0m\u001b[0m\n\u001b[1;32m   1787\u001b[0m         \u001b[0;31m# Now update\u001b[0m\u001b[0;34m\u001b[0m\u001b[0;34m\u001b[0m\u001b[0;34m\u001b[0m\u001b[0m\n",
      "\u001b[0;32m~/anaconda3/lib/python3.8/site-packages/bt/core.cpython-38-x86_64-linux-gnu.so\u001b[0m in \u001b[0;36mbt.core.StrategyBase.rebalance\u001b[0;34m()\u001b[0m\n",
      "\u001b[0;32m~/anaconda3/lib/python3.8/site-packages/bt/core.cpython-38-x86_64-linux-gnu.so\u001b[0m in \u001b[0;36mbt.core.SecurityBase.allocate\u001b[0;34m()\u001b[0m\n",
      "\u001b[0;31mException\u001b[0m: Cannot allocate capital to A weight because price is 0 as of 2011-02-01 00:00:00"
     ]
    }
   ],
   "source": [
    "res = bt.run(mv_monthly, msr__monthly,mv_yearly,msr__yearly)  #,b_yearly)"
   ]
  },
  {
   "cell_type": "code",
   "execution_count": 11,
   "metadata": {},
   "outputs": [],
   "source": [
    "#AT the minimium risk the return is low and the maximum risk the return is high."
   ]
  },
  {
   "cell_type": "code",
   "execution_count": 12,
   "metadata": {},
   "outputs": [
    {
     "output_type": "stream",
     "name": "stdout",
     "text": [
      "Stat                 minimum volatility monthly    maximum sharpe ratio monthly    minimum volatility yearly    maximum sharpe ratio yearly    benchmark\n-------------------  ----------------------------  ------------------------------  ---------------------------  -----------------------------  -----------\nStart                2010-01-03                    2010-01-03                      2010-01-03                   2010-01-03                     2010-01-03\nEnd                  2021-02-04                    2021-02-04                      2021-02-04                   2021-02-04                     2021-02-04\nRisk-free rate       0.00%                         0.00%                           0.00%                        0.00%                          0.00%\n\nTotal Return         219.67%                       430.28%                         154.57%                      463.01%                        238.94%\nDaily Sharpe         0.83                          0.90                            0.66                         0.90                           0.72\nDaily Sortino        1.30                          1.42                            1.01                         1.39                           1.10\nCAGR                 11.05%                        16.24%                          8.79%                        16.87%                         11.64%\nMax Drawdown         -29.02%                       -29.58%                         -34.65%                      -38.98%                        -33.92%\nCalmar Ratio         0.38                          0.55                            0.25                         0.43                           0.34\n\nMTD                  -1.49%                        3.55%                           0.88%                        5.04%                          3.44%\n3m                   -5.01%                        1.49%                           1.58%                        5.80%                          11.57%\n6m                   -8.64%                        10.94%                          6.15%                        18.47%                         16.19%\nYTD                  -5.64%                        -1.81%                          -3.74%                       -1.33%                         2.29%\n1Y                   -4.61%                        12.01%                          -3.61%                       10.42%                         16.51%\n3Y (ann.)            9.59%                         11.88%                          11.27%                       22.84%                         13.20%\n5Y (ann.)            11.38%                        13.36%                          9.52%                        19.75%                         14.93%\n10Y (ann.)           12.19%                        18.00%                          9.79%                        18.86%                         11.35%\nSince Incep. (ann.)  11.05%                        16.24%                          8.79%                        16.87%                         11.64%\n\nDaily Sharpe         0.83                          0.90                            0.66                         0.90                           0.72\nDaily Sortino        1.30                          1.42                            1.01                         1.39                           1.10\nDaily Mean (ann.)    11.43%                        16.80%                          9.45%                        17.50%                         12.55%\nDaily Vol (ann.)     13.70%                        18.63%                          14.23%                       19.42%                         17.48%\nDaily Skew           -0.13                         -0.33                           -0.37                        -0.75                          -0.58\nDaily Kurt           17.73                         8.23                            31.94                        14.55                          15.10\nBest Day             8.93%                         9.51%                           10.28%                       11.38%                         9.38%\nWorst Day            -8.12%                        -9.86%                          -10.91%                      -13.90%                        -11.98%\n\nMonthly Sharpe       1.05                          1.19                            0.84                         1.05                           0.90\nMonthly Sortino      2.02                          2.21                            1.44                         1.89                           1.59\nMonthly Mean (ann.)  11.08%                        16.05%                          9.04%                        17.01%                         12.52%\nMonthly Vol (ann.)   10.58%                        13.51%                          10.72%                       16.16%                         13.97%\nMonthly Skew         -0.15                         -0.41                           -0.69                        -0.61                          -0.34\nMonthly Kurt         1.50                          1.25                            4.76                         5.20                           1.17\nBest Month           11.92%                        11.84%                          10.67%                       16.05%                         12.68%\nWorst Month          -9.67%                        -11.37%                         -14.34%                      -21.97%                        -12.51%\n\nYearly Sharpe        1.04                          1.08                            0.84                         1.12                           0.95\nYearly Sortino       6.85                          11.79                           8.35                         44.71                          6.01\nYearly Mean          11.64%                        17.35%                          9.36%                        17.96%                         11.25%\nYearly Vol           11.15%                        16.01%                          11.18%                       16.05%                         11.84%\nYearly Skew          0.28                          0.51                            1.08                         0.94                           0.23\nYearly Kurt          -1.14                         0.23                            0.80                         1.19                           -0.89\nBest Year            28.35%                        49.69%                          33.63%                       53.07%                         29.58%\nWorst Year           -5.64%                        -4.72%                          -3.74%                       -1.33%                         -6.24%\n\nAvg. Drawdown        -1.87%                        -2.71%                          -1.86%                       -2.96%                         -1.79%\nAvg. Drawdown Days   20.98                         22.64                           24.94                        25.50                          18.92\nAvg. Up Month        2.91%                         3.41%                           2.77%                        4.41%                          3.17%\nAvg. Down Month      -1.64%                        -2.34%                          -1.42%                       -2.01%                         -3.26%\nWin Year %           90.91%                        81.82%                          72.73%                       81.82%                         72.73%\nWin 12m %            97.56%                        90.24%                          78.86%                       84.55%                         87.80%\n"
     ]
    }
   ],
   "source": [
    "res.display()"
   ]
  },
  {
   "cell_type": "code",
   "execution_count": 13,
   "metadata": {},
   "outputs": [],
   "source": [
    "res.plot().get_figure().savefig(\"output_res_plot.png\")"
   ]
  },
  {
   "cell_type": "code",
   "execution_count": 14,
   "metadata": {},
   "outputs": [
    {
     "output_type": "execute_result",
     "data": {
      "text/plain": [
       "            minimum volatility monthly  maximum sharpe ratio monthly  \\\n",
       "2010-01-03                  100.000000                    100.000000   \n",
       "2010-01-04                  100.000000                    100.000000   \n",
       "2010-01-05                  100.000000                    100.000000   \n",
       "2010-01-06                  100.000000                    100.000000   \n",
       "2010-01-07                  100.000000                    100.000000   \n",
       "...                                ...                           ...   \n",
       "2021-01-29                  324.506310                    512.085782   \n",
       "2021-02-01                  325.706713                    525.420283   \n",
       "2021-02-02                  323.001966                    534.661859   \n",
       "2021-02-03                  322.109241                    526.495815   \n",
       "2021-02-04                  319.672468                    530.275769   \n",
       "\n",
       "            minimum volatility yearly  maximum sharpe ratio yearly   benchmark  \n",
       "2010-01-03                 100.000000                   100.000000  100.000000  \n",
       "2010-01-04                 100.000000                   100.000000  100.000000  \n",
       "2010-01-05                 100.000000                   100.000000  100.311349  \n",
       "2010-01-06                 100.000000                   100.000000  100.366032  \n",
       "2010-01-07                 100.000000                   100.000000  100.767336  \n",
       "...                               ...                          ...         ...  \n",
       "2021-01-29                 252.352670                   536.005366  327.666250  \n",
       "2021-02-01                 253.286008                   553.843201  332.924744  \n",
       "2021-02-02                 255.371959                   568.586680  337.550830  \n",
       "2021-02-03                 254.418271                   560.135499  337.891270  \n",
       "2021-02-04                 254.568840                   563.012148  338.943511  \n",
       "\n",
       "[2793 rows x 5 columns]"
      ],
      "text/html": "<div>\n<style scoped>\n    .dataframe tbody tr th:only-of-type {\n        vertical-align: middle;\n    }\n\n    .dataframe tbody tr th {\n        vertical-align: top;\n    }\n\n    .dataframe thead th {\n        text-align: right;\n    }\n</style>\n<table border=\"1\" class=\"dataframe\">\n  <thead>\n    <tr style=\"text-align: right;\">\n      <th></th>\n      <th>minimum volatility monthly</th>\n      <th>maximum sharpe ratio monthly</th>\n      <th>minimum volatility yearly</th>\n      <th>maximum sharpe ratio yearly</th>\n      <th>benchmark</th>\n    </tr>\n  </thead>\n  <tbody>\n    <tr>\n      <th>2010-01-03</th>\n      <td>100.000000</td>\n      <td>100.000000</td>\n      <td>100.000000</td>\n      <td>100.000000</td>\n      <td>100.000000</td>\n    </tr>\n    <tr>\n      <th>2010-01-04</th>\n      <td>100.000000</td>\n      <td>100.000000</td>\n      <td>100.000000</td>\n      <td>100.000000</td>\n      <td>100.000000</td>\n    </tr>\n    <tr>\n      <th>2010-01-05</th>\n      <td>100.000000</td>\n      <td>100.000000</td>\n      <td>100.000000</td>\n      <td>100.000000</td>\n      <td>100.311349</td>\n    </tr>\n    <tr>\n      <th>2010-01-06</th>\n      <td>100.000000</td>\n      <td>100.000000</td>\n      <td>100.000000</td>\n      <td>100.000000</td>\n      <td>100.366032</td>\n    </tr>\n    <tr>\n      <th>2010-01-07</th>\n      <td>100.000000</td>\n      <td>100.000000</td>\n      <td>100.000000</td>\n      <td>100.000000</td>\n      <td>100.767336</td>\n    </tr>\n    <tr>\n      <th>...</th>\n      <td>...</td>\n      <td>...</td>\n      <td>...</td>\n      <td>...</td>\n      <td>...</td>\n    </tr>\n    <tr>\n      <th>2021-01-29</th>\n      <td>324.506310</td>\n      <td>512.085782</td>\n      <td>252.352670</td>\n      <td>536.005366</td>\n      <td>327.666250</td>\n    </tr>\n    <tr>\n      <th>2021-02-01</th>\n      <td>325.706713</td>\n      <td>525.420283</td>\n      <td>253.286008</td>\n      <td>553.843201</td>\n      <td>332.924744</td>\n    </tr>\n    <tr>\n      <th>2021-02-02</th>\n      <td>323.001966</td>\n      <td>534.661859</td>\n      <td>255.371959</td>\n      <td>568.586680</td>\n      <td>337.550830</td>\n    </tr>\n    <tr>\n      <th>2021-02-03</th>\n      <td>322.109241</td>\n      <td>526.495815</td>\n      <td>254.418271</td>\n      <td>560.135499</td>\n      <td>337.891270</td>\n    </tr>\n    <tr>\n      <th>2021-02-04</th>\n      <td>319.672468</td>\n      <td>530.275769</td>\n      <td>254.568840</td>\n      <td>563.012148</td>\n      <td>338.943511</td>\n    </tr>\n  </tbody>\n</table>\n<p>2793 rows × 5 columns</p>\n</div>"
     },
     "metadata": {},
     "execution_count": 14
    }
   ],
   "source": [
    "res.prices[:]"
   ]
  },
  {
   "cell_type": "code",
   "execution_count": 43,
   "metadata": {},
   "outputs": [
    {
     "output_type": "stream",
     "name": "stdout",
     "text": [
      "  Year    Jan    Feb    Mar    Apr    May    Jun    Jul    Aug    Sep    Oct    Nov    Dec    YTD\n------  -----  -----  -----  -----  -----  -----  -----  -----  -----  -----  -----  -----  -----\n  2010   0      0      0      0      0      0      0      0      0      0      0      0      0\n  2011   0      6.29   4.46   5.49   1.47  -1.06  -2.11  -1.92  -0.98   2.01   1.65   2.65  19.01\n  2012  -1.43   1.33   2.48   3.15  -0.93   4.78   1.92  -3.56   1.63  -2.11  -1.03  -0.58   5.44\n  2013   4.6    4.59   5.12   2.56  -3.34   0.68   6.42  -4.63   5.42   5.34  -0.16  -0.64  28.35\n  2014  -0.45   3.3   -0.17   0.92   0.19   1.54  -5.21   3.57  -0.35   4.82   4.82  -0.13  13.16\n  2015   1.74  -0.5   -0.84  -4.07   1.58   1.4    3.8   -3.15   0.48   2.91  -0.77   1.28   3.62\n  2016  -0.1    1.66   5.03  -0.7    0.2    3.61   0.83  -0.9   -0.01  -2.68  -0.4   -1.83   4.55\n  2017   0.62   3.09   0.56   2.54   3.32  -0.69   1.24   0.51   1.31   4.25   4.91  -0.84  22.71\n  2018   4.96  -5.06   0.39   2.06  -0.82   3.42   1.07   4.73   0.13  -2.64   4.13  -5.85   5.95\n  2019   3.14   5.16   3.52   1.02  -2.03   4.71   0.45   2.58   1.71  -0.09   1.53   2.8   27.14\n  2020   2.54  -9.67  -7.57  11.92   4.54  -0.72   6.65   1.76  -2.71  -4.2    2.49   0.68   3.81\n  2021  -4.21  -1.49   0      0      0      0      0      0      0      0      0      0     -5.64\n"
     ]
    },
    {
     "output_type": "execute_result",
     "data": {
      "text/plain": [
       "NoneType"
      ]
     },
     "metadata": {},
     "execution_count": 43
    }
   ],
   "source": [
    "bubble = res.display_monthly_returns()\n",
    "type(bubble)"
   ]
  },
  {
   "cell_type": "code",
   "execution_count": 44,
   "metadata": {},
   "outputs": [
    {
     "output_type": "execute_result",
     "data": {
      "text/plain": [
       "            ABC  AWK      AZO      CHTR  COO      COST       DVA   EW  FIS  \\\n",
       "2010-01-03  0.0  0.0  0.00000  0.000000  0.0  0.000000  0.000000  0.0  0.0   \n",
       "2010-01-04  0.0  0.0  0.00000  0.000000  0.0  0.000000  0.000000  0.0  0.0   \n",
       "2010-01-05  0.0  0.0  0.00000  0.000000  0.0  0.000000  0.000000  0.0  0.0   \n",
       "2010-01-06  0.0  0.0  0.00000  0.000000  0.0  0.000000  0.000000  0.0  0.0   \n",
       "2010-01-07  0.0  0.0  0.00000  0.000000  0.0  0.000000  0.000000  0.0  0.0   \n",
       "...         ...  ...      ...       ...  ...       ...       ...  ...  ...   \n",
       "2021-01-29  0.0  0.0  0.07582  0.018348  0.0  0.037577  0.008246  0.0  0.0   \n",
       "2021-02-01  0.0  0.0  0.00000  0.000000  0.0  0.000000  0.014409  0.0  0.0   \n",
       "2021-02-02  0.0  0.0  0.00000  0.000000  0.0  0.000000  0.013652  0.0  0.0   \n",
       "2021-02-03  0.0  0.0  0.00000  0.000000  0.0  0.000000  0.013549  0.0  0.0   \n",
       "2021-02-04  0.0  0.0  0.00000  0.000000  0.0  0.000000  0.013583  0.0  0.0   \n",
       "\n",
       "            HRL  ...  CTXS  EQIX      NLOK  WST  LIN  CERN  GOOG       PSA  \\\n",
       "2010-01-03  0.0  ...   0.0   0.0  0.000000  0.0  0.0   0.0   0.0  0.000000   \n",
       "2010-01-04  0.0  ...   0.0   0.0  0.000000  0.0  0.0   0.0   0.0  0.000000   \n",
       "2010-01-05  0.0  ...   0.0   0.0  0.000000  0.0  0.0   0.0   0.0  0.000000   \n",
       "2010-01-06  0.0  ...   0.0   0.0  0.000000  0.0  0.0   0.0   0.0  0.000000   \n",
       "2010-01-07  0.0  ...   0.0   0.0  0.000000  0.0  0.0   0.0   0.0  0.000000   \n",
       "...         ...  ...   ...   ...       ...  ...  ...   ...   ...       ...   \n",
       "2021-01-29  0.0  ...   0.0   0.0  0.024829  0.0  0.0   0.0   0.0  0.000000   \n",
       "2021-02-01  0.0  ...   0.0   0.0  0.030319  0.0  0.0   0.0   0.0  0.021218   \n",
       "2021-02-02  0.0  ...   0.0   0.0  0.031172  0.0  0.0   0.0   0.0  0.021176   \n",
       "2021-02-03  0.0  ...   0.0   0.0  0.030930  0.0  0.0   0.0   0.0  0.021327   \n",
       "2021-02-04  0.0  ...   0.0   0.0  0.031353  0.0  0.0   0.0   0.0  0.021893   \n",
       "\n",
       "                 AON      FLIR  \n",
       "2010-01-03  0.000000  0.000000  \n",
       "2010-01-04  0.000000  0.000000  \n",
       "2010-01-05  0.000000  0.000000  \n",
       "2010-01-06  0.000000  0.000000  \n",
       "2010-01-07  0.000000  0.000000  \n",
       "...              ...       ...  \n",
       "2021-01-29  0.000000  0.000000  \n",
       "2021-02-01  0.007488  0.000754  \n",
       "2021-02-02  0.007678  0.000772  \n",
       "2021-02-03  0.007520  0.000773  \n",
       "2021-02-04  0.007575  0.000780  \n",
       "\n",
       "[2793 rows x 185 columns]"
      ],
      "text/html": "<div>\n<style scoped>\n    .dataframe tbody tr th:only-of-type {\n        vertical-align: middle;\n    }\n\n    .dataframe tbody tr th {\n        vertical-align: top;\n    }\n\n    .dataframe thead th {\n        text-align: right;\n    }\n</style>\n<table border=\"1\" class=\"dataframe\">\n  <thead>\n    <tr style=\"text-align: right;\">\n      <th></th>\n      <th>ABC</th>\n      <th>AWK</th>\n      <th>AZO</th>\n      <th>CHTR</th>\n      <th>COO</th>\n      <th>COST</th>\n      <th>DVA</th>\n      <th>EW</th>\n      <th>FIS</th>\n      <th>HRL</th>\n      <th>...</th>\n      <th>CTXS</th>\n      <th>EQIX</th>\n      <th>NLOK</th>\n      <th>WST</th>\n      <th>LIN</th>\n      <th>CERN</th>\n      <th>GOOG</th>\n      <th>PSA</th>\n      <th>AON</th>\n      <th>FLIR</th>\n    </tr>\n  </thead>\n  <tbody>\n    <tr>\n      <th>2010-01-03</th>\n      <td>0.0</td>\n      <td>0.0</td>\n      <td>0.00000</td>\n      <td>0.000000</td>\n      <td>0.0</td>\n      <td>0.000000</td>\n      <td>0.000000</td>\n      <td>0.0</td>\n      <td>0.0</td>\n      <td>0.0</td>\n      <td>...</td>\n      <td>0.0</td>\n      <td>0.0</td>\n      <td>0.000000</td>\n      <td>0.0</td>\n      <td>0.0</td>\n      <td>0.0</td>\n      <td>0.0</td>\n      <td>0.000000</td>\n      <td>0.000000</td>\n      <td>0.000000</td>\n    </tr>\n    <tr>\n      <th>2010-01-04</th>\n      <td>0.0</td>\n      <td>0.0</td>\n      <td>0.00000</td>\n      <td>0.000000</td>\n      <td>0.0</td>\n      <td>0.000000</td>\n      <td>0.000000</td>\n      <td>0.0</td>\n      <td>0.0</td>\n      <td>0.0</td>\n      <td>...</td>\n      <td>0.0</td>\n      <td>0.0</td>\n      <td>0.000000</td>\n      <td>0.0</td>\n      <td>0.0</td>\n      <td>0.0</td>\n      <td>0.0</td>\n      <td>0.000000</td>\n      <td>0.000000</td>\n      <td>0.000000</td>\n    </tr>\n    <tr>\n      <th>2010-01-05</th>\n      <td>0.0</td>\n      <td>0.0</td>\n      <td>0.00000</td>\n      <td>0.000000</td>\n      <td>0.0</td>\n      <td>0.000000</td>\n      <td>0.000000</td>\n      <td>0.0</td>\n      <td>0.0</td>\n      <td>0.0</td>\n      <td>...</td>\n      <td>0.0</td>\n      <td>0.0</td>\n      <td>0.000000</td>\n      <td>0.0</td>\n      <td>0.0</td>\n      <td>0.0</td>\n      <td>0.0</td>\n      <td>0.000000</td>\n      <td>0.000000</td>\n      <td>0.000000</td>\n    </tr>\n    <tr>\n      <th>2010-01-06</th>\n      <td>0.0</td>\n      <td>0.0</td>\n      <td>0.00000</td>\n      <td>0.000000</td>\n      <td>0.0</td>\n      <td>0.000000</td>\n      <td>0.000000</td>\n      <td>0.0</td>\n      <td>0.0</td>\n      <td>0.0</td>\n      <td>...</td>\n      <td>0.0</td>\n      <td>0.0</td>\n      <td>0.000000</td>\n      <td>0.0</td>\n      <td>0.0</td>\n      <td>0.0</td>\n      <td>0.0</td>\n      <td>0.000000</td>\n      <td>0.000000</td>\n      <td>0.000000</td>\n    </tr>\n    <tr>\n      <th>2010-01-07</th>\n      <td>0.0</td>\n      <td>0.0</td>\n      <td>0.00000</td>\n      <td>0.000000</td>\n      <td>0.0</td>\n      <td>0.000000</td>\n      <td>0.000000</td>\n      <td>0.0</td>\n      <td>0.0</td>\n      <td>0.0</td>\n      <td>...</td>\n      <td>0.0</td>\n      <td>0.0</td>\n      <td>0.000000</td>\n      <td>0.0</td>\n      <td>0.0</td>\n      <td>0.0</td>\n      <td>0.0</td>\n      <td>0.000000</td>\n      <td>0.000000</td>\n      <td>0.000000</td>\n    </tr>\n    <tr>\n      <th>...</th>\n      <td>...</td>\n      <td>...</td>\n      <td>...</td>\n      <td>...</td>\n      <td>...</td>\n      <td>...</td>\n      <td>...</td>\n      <td>...</td>\n      <td>...</td>\n      <td>...</td>\n      <td>...</td>\n      <td>...</td>\n      <td>...</td>\n      <td>...</td>\n      <td>...</td>\n      <td>...</td>\n      <td>...</td>\n      <td>...</td>\n      <td>...</td>\n      <td>...</td>\n      <td>...</td>\n    </tr>\n    <tr>\n      <th>2021-01-29</th>\n      <td>0.0</td>\n      <td>0.0</td>\n      <td>0.07582</td>\n      <td>0.018348</td>\n      <td>0.0</td>\n      <td>0.037577</td>\n      <td>0.008246</td>\n      <td>0.0</td>\n      <td>0.0</td>\n      <td>0.0</td>\n      <td>...</td>\n      <td>0.0</td>\n      <td>0.0</td>\n      <td>0.024829</td>\n      <td>0.0</td>\n      <td>0.0</td>\n      <td>0.0</td>\n      <td>0.0</td>\n      <td>0.000000</td>\n      <td>0.000000</td>\n      <td>0.000000</td>\n    </tr>\n    <tr>\n      <th>2021-02-01</th>\n      <td>0.0</td>\n      <td>0.0</td>\n      <td>0.00000</td>\n      <td>0.000000</td>\n      <td>0.0</td>\n      <td>0.000000</td>\n      <td>0.014409</td>\n      <td>0.0</td>\n      <td>0.0</td>\n      <td>0.0</td>\n      <td>...</td>\n      <td>0.0</td>\n      <td>0.0</td>\n      <td>0.030319</td>\n      <td>0.0</td>\n      <td>0.0</td>\n      <td>0.0</td>\n      <td>0.0</td>\n      <td>0.021218</td>\n      <td>0.007488</td>\n      <td>0.000754</td>\n    </tr>\n    <tr>\n      <th>2021-02-02</th>\n      <td>0.0</td>\n      <td>0.0</td>\n      <td>0.00000</td>\n      <td>0.000000</td>\n      <td>0.0</td>\n      <td>0.000000</td>\n      <td>0.013652</td>\n      <td>0.0</td>\n      <td>0.0</td>\n      <td>0.0</td>\n      <td>...</td>\n      <td>0.0</td>\n      <td>0.0</td>\n      <td>0.031172</td>\n      <td>0.0</td>\n      <td>0.0</td>\n      <td>0.0</td>\n      <td>0.0</td>\n      <td>0.021176</td>\n      <td>0.007678</td>\n      <td>0.000772</td>\n    </tr>\n    <tr>\n      <th>2021-02-03</th>\n      <td>0.0</td>\n      <td>0.0</td>\n      <td>0.00000</td>\n      <td>0.000000</td>\n      <td>0.0</td>\n      <td>0.000000</td>\n      <td>0.013549</td>\n      <td>0.0</td>\n      <td>0.0</td>\n      <td>0.0</td>\n      <td>...</td>\n      <td>0.0</td>\n      <td>0.0</td>\n      <td>0.030930</td>\n      <td>0.0</td>\n      <td>0.0</td>\n      <td>0.0</td>\n      <td>0.0</td>\n      <td>0.021327</td>\n      <td>0.007520</td>\n      <td>0.000773</td>\n    </tr>\n    <tr>\n      <th>2021-02-04</th>\n      <td>0.0</td>\n      <td>0.0</td>\n      <td>0.00000</td>\n      <td>0.000000</td>\n      <td>0.0</td>\n      <td>0.000000</td>\n      <td>0.013583</td>\n      <td>0.0</td>\n      <td>0.0</td>\n      <td>0.0</td>\n      <td>...</td>\n      <td>0.0</td>\n      <td>0.0</td>\n      <td>0.031353</td>\n      <td>0.0</td>\n      <td>0.0</td>\n      <td>0.0</td>\n      <td>0.0</td>\n      <td>0.021893</td>\n      <td>0.007575</td>\n      <td>0.000780</td>\n    </tr>\n  </tbody>\n</table>\n<p>2793 rows × 185 columns</p>\n</div>"
     },
     "metadata": {},
     "execution_count": 44
    }
   ],
   "source": []
  },
  {
   "cell_type": "code",
   "execution_count": null,
   "metadata": {},
   "outputs": [],
   "source": [
    "import matplotlib.pyplot as plt\n",
    "import numpy as np\n",
    " \n",
    " \n",
    "# Change color with c and alpha\n",
    "plt.scatter(x, y, s=z*4000, c=\"red\", alpha=0.4)\n",
    "#plt.show()\n"
   ]
  },
  {
   "cell_type": "code",
   "execution_count": 35,
   "metadata": {},
   "outputs": [
    {
     "output_type": "stream",
     "name": "stdout",
     "text": [
      "  Year    Jan    Feb     Mar    Apr    May    Jun    Jul    Aug    Sep    Oct    Nov     Dec    YTD\n------  -----  -----  ------  -----  -----  -----  -----  -----  -----  -----  -----  ------  -----\n  2010   0      0       0      0      0      0      0      0      0      0      0       0      0\n  2011   0      0.15    4.46   3.36   3.38   0.54  -4.75  -0.96   1.23   3.49   1.08    1.76  14.26\n  2012   2.93   8.1     4.93   2.78  -1.31   1.84  -1.21   1.01   1.14  -4.4    2.21    0.48  19.51\n  2013   4.8    5.11    7.09   3.17   7.71  -4.24   6.36  -0.14   9.18   0.71   0.21    1.89  49.69\n  2014  -1.03  11.84    0.55   2.39   3.34   7.65  -5.02   5.79  -6.29   4.19   6.91   -0.46  32.37\n  2015  -1.41   4.76    0.9    0.92   1.42  -0.96   2.57  -3     -0.73   6.8    0.5    -3.23   8.38\n  2016  -0.03  -1.66    3.21  -3.27   2.94   3.51   2.08   0.19   0.96   1.02  -1.16   -4.31   3.18\n  2017   4.14   6.59   -1.21   0.92   7.32   0.81  -3.96   0.69   2.43   1.65   2.52    0.87  24.67\n  2018   4.84  -3.59    2.45   6.56  -1.33   6.96   0.64   1.17  -0.18  -9.78   0.67  -11.37  -4.72\n  2019   4.22   2.65    2.44   0.97  -0.28   5.14   1.68   6.06  -5.34   0.22   5.62    0.99  26.63\n  2020   2.83  -7.49  -10.96   9.22   8.93  -0.93   3.91   5.84  -0.46  -0.56   3.98    5.01  18.67\n  2021  -5.18   3.55    0      0      0      0      0      0      0      0      0       0     -1.81\n"
     ]
    }
   ],
   "source": [
    "res.display_monthly_returns(1)"
   ]
  },
  {
   "cell_type": "code",
   "execution_count": 36,
   "metadata": {},
   "outputs": [
    {
     "output_type": "stream",
     "name": "stdout",
     "text": [
      "  Year    Jan    Feb     Mar    Apr    May    Jun    Jul    Aug    Sep    Oct    Nov    Dec    YTD\n------  -----  -----  ------  -----  -----  -----  -----  -----  -----  -----  -----  -----  -----\n  2010   0      0       0      0      0      0      0      0      0      0      0      0      0\n  2011   0      0       0      0      0      0      0      0      0      0      0      0      0\n  2012  -0.44   2.06    2.52   3.25  -2.89   3.85   0.49  -1.6    0.63  -3.71   2.96  -1.57   5.33\n  2013   3.76   4.56    6.18   0.26  -1.96  -0.8    5.85  -3.16   1      3.72   0.12   0.36  21.18\n  2014  -0.4    7.33   -1.08  -1.91   1.56   0.8   -3.68   4.3   -1.29   5.59   4.67   1.9   18.61\n  2015   1.76   1.05    0.08  -1.4    2.62  -2.36   6.37  -1.97  -0.05   2.56  -1.17   1.56   9.09\n  2016   0.25  -1.02    4.94  -3.61  -2.32   1.71  -0.97  -1.15  -0.48  -1      1.19   2.38  -0.38\n  2017  -0.39   2.02   -0.18   0.06   1.79  -1.22   3.27  -0.39   0.44   0.27   3.45   1.83  11.39\n  2018   5.52  -5.3     1.56   0.3   -1.01   3.2    2.79   1.67  -0.32   1.64   1.82  -6.77   4.52\n  2019   3.67   5.62    5.24   0.92  -2.22   5.43   3.9    2.98  -0      1.22   0.82   2.08  33.63\n  2020   3.08  -9.22  -14.34  10.67   2.76  -2.16   4.47   1.82  -0.46  -0.49   7.99   1.79   3.3\n  2021  -4.58   0.88    0      0      0      0      0      0      0      0      0      0     -3.74\n"
     ]
    }
   ],
   "source": [
    "res.display_monthly_returns(2)"
   ]
  },
  {
   "cell_type": "code",
   "execution_count": 37,
   "metadata": {},
   "outputs": [
    {
     "output_type": "stream",
     "name": "stdout",
     "text": [
      "  Year    Jan    Feb     Mar    Apr    May    Jun    Jul    Aug    Sep     Oct    Nov    Dec    YTD\n------  -----  -----  ------  -----  -----  -----  -----  -----  -----  ------  -----  -----  -----\n  2010   0      0       0      0      0      0      0      0      0       0      0      0      0\n  2011   0      0       0      0      0      0      0      0      0       0      0      0      0\n  2012   4.34   9.01    6.59   2.09  -4.14   1.39  -4.15  -0.01   5.47  -12.75   4.2    2.46  13.26\n  2013   3.72   2.99    6.72   4.2    8.73  -2.13   9.06  -3.64  11.03    0.16   2.12   1.46  53.07\n  2014  -0.47  15.81   -0.4    2.52   3.83   8.39  -4.07   5.61  -8.49    0.22  -6.22   2.42  18.2\n  2015  -0.87   6.5     0.93   2.26   1.04  -0.75   4.48  -1.18  -1.2     6.55  -1.83  -0.96  15.48\n  2016   0.29  -3.42    8.45  -4.78   3.4    3.55   0.08  -1.71  -1.35   -2.39  -2.46   2.57   1.5\n  2017   5.14   5.24    0.11   0.63   1.61  -1.1    4.37  -1.81   1.48    1.21   1.35   2.77  22.79\n  2018   7.27  -3.96    4.86   5.96  -0.64   5.16   1.91  -1.16  -0.52    7.08  -0.69  -5.81  20.04\n  2019   7.62   6.88    6.04   3.68  -2.04   4.54   3.44   0.7   -3.97   -1.4    5.09   1.22  35.89\n  2020   4.53  -3     -21.97  16.05   5.33   1.66  -1.08   3.26   3.54   -0.17   9.1    4.73  18.61\n  2021  -6.06   5.04    0      0      0      0      0      0      0       0      0      0     -1.33\n"
     ]
    }
   ],
   "source": [
    "res.display_monthly_returns(3)"
   ]
  },
  {
   "cell_type": "code",
   "execution_count": 39,
   "metadata": {},
   "outputs": [
    {
     "output_type": "stream",
     "name": "stdout",
     "text": [
      "  Year    Jan    Feb     Mar    Apr    May    Jun    Jul    Aug    Sep    Oct    Nov    Dec    YTD\n------  -----  -----  ------  -----  -----  -----  -----  -----  -----  -----  -----  -----  -----\n  2010  -5.21   2.85    5.88   1.47  -8.19  -5.38   6.87  -4.74   8.75   3.68  -0.23   6.53  10.99\n  2011   2.26   3.19   -0.1    2.85  -1.35  -1.82  -2.15  -5.68  -7.17  10.76  -0.51   0.85  -0\n  2012   4.36   4.06    3.13  -0.75  -6.26   3.95   1.26   1.98   2.42  -1.98   0.28   0.71  13.4\n  2013   5.04   1.11    3.6    1.81   2.08  -1.5    4.94  -3.13   2.97   4.46   2.8    2.36  29.58\n  2014  -3.56   4.31    0.69   0.62   2.1    1.91  -1.51   3.76  -1.55   2.32   2.45  -0.42  11.39\n  2015  -3.1    5.49   -1.74   0.85   1.05  -2.1    1.97  -6.26  -2.64   8.29   0.05  -1.75  -0.73\n  2016  -5.07  -0.41    6.6    0.27   1.53   0.09   3.56  -0.12  -0.12  -1.94   3.42   1.82   9.53\n  2017   1.79   3.72   -0.04   0.91   1.16   0.48   1.93   0.05   1.93   2.22   2.81   0.98  19.41\n  2018   5.62  -3.89   -2.69   0.27   2.16   0.48   3.6    3.03   0.43  -6.94   1.79  -9.18  -6.24\n  2019   7.87   2.97    1.79   3.93  -6.58   6.89   1.31  -1.81   1.72   2.04   3.4    2.86  28.87\n  2020  -0.16  -8.41  -12.51  12.68   4.53   1.84   5.51   7     -3.92  -2.77  10.75   3.71  16.25\n  2021  -1.11   3.44    0      0      0      0      0      0      0      0      0      0      2.29\n"
     ]
    }
   ],
   "source": [
    "res.display_monthly_returns(4)"
   ]
  },
  {
   "cell_type": "code",
   "execution_count": 20,
   "metadata": {},
   "outputs": [],
   "source": [
    "res.to_csv(path='./res_performanceStats.csv')"
   ]
  },
  {
   "cell_type": "code",
   "execution_count": 45,
   "metadata": {},
   "outputs": [
    {
     "output_type": "execute_result",
     "data": {
      "text/plain": [
       "            minimum volatility monthly  maximum sharpe ratio monthly  \\\n",
       "2010-01-03                  100.000000                    100.000000   \n",
       "2010-01-04                  100.000000                    100.000000   \n",
       "2010-01-05                  100.000000                    100.000000   \n",
       "2010-01-06                  100.000000                    100.000000   \n",
       "2010-01-07                  100.000000                    100.000000   \n",
       "...                                ...                           ...   \n",
       "2021-01-29                  324.506310                    512.085782   \n",
       "2021-02-01                  325.706713                    525.420283   \n",
       "2021-02-02                  323.001966                    534.661859   \n",
       "2021-02-03                  322.109241                    526.495815   \n",
       "2021-02-04                  319.672468                    530.275769   \n",
       "\n",
       "            minimum volatility yearly  maximum sharpe ratio yearly   benchmark  \n",
       "2010-01-03                 100.000000                   100.000000  100.000000  \n",
       "2010-01-04                 100.000000                   100.000000  100.000000  \n",
       "2010-01-05                 100.000000                   100.000000  100.311349  \n",
       "2010-01-06                 100.000000                   100.000000  100.366032  \n",
       "2010-01-07                 100.000000                   100.000000  100.767336  \n",
       "...                               ...                          ...         ...  \n",
       "2021-01-29                 252.352670                   536.005366  327.666250  \n",
       "2021-02-01                 253.286008                   553.843201  332.924744  \n",
       "2021-02-02                 255.371959                   568.586680  337.550830  \n",
       "2021-02-03                 254.418271                   560.135499  337.891270  \n",
       "2021-02-04                 254.568840                   563.012148  338.943511  \n",
       "\n",
       "[2793 rows x 5 columns]"
      ],
      "text/html": "<div>\n<style scoped>\n    .dataframe tbody tr th:only-of-type {\n        vertical-align: middle;\n    }\n\n    .dataframe tbody tr th {\n        vertical-align: top;\n    }\n\n    .dataframe thead th {\n        text-align: right;\n    }\n</style>\n<table border=\"1\" class=\"dataframe\">\n  <thead>\n    <tr style=\"text-align: right;\">\n      <th></th>\n      <th>minimum volatility monthly</th>\n      <th>maximum sharpe ratio monthly</th>\n      <th>minimum volatility yearly</th>\n      <th>maximum sharpe ratio yearly</th>\n      <th>benchmark</th>\n    </tr>\n  </thead>\n  <tbody>\n    <tr>\n      <th>2010-01-03</th>\n      <td>100.000000</td>\n      <td>100.000000</td>\n      <td>100.000000</td>\n      <td>100.000000</td>\n      <td>100.000000</td>\n    </tr>\n    <tr>\n      <th>2010-01-04</th>\n      <td>100.000000</td>\n      <td>100.000000</td>\n      <td>100.000000</td>\n      <td>100.000000</td>\n      <td>100.000000</td>\n    </tr>\n    <tr>\n      <th>2010-01-05</th>\n      <td>100.000000</td>\n      <td>100.000000</td>\n      <td>100.000000</td>\n      <td>100.000000</td>\n      <td>100.311349</td>\n    </tr>\n    <tr>\n      <th>2010-01-06</th>\n      <td>100.000000</td>\n      <td>100.000000</td>\n      <td>100.000000</td>\n      <td>100.000000</td>\n      <td>100.366032</td>\n    </tr>\n    <tr>\n      <th>2010-01-07</th>\n      <td>100.000000</td>\n      <td>100.000000</td>\n      <td>100.000000</td>\n      <td>100.000000</td>\n      <td>100.767336</td>\n    </tr>\n    <tr>\n      <th>...</th>\n      <td>...</td>\n      <td>...</td>\n      <td>...</td>\n      <td>...</td>\n      <td>...</td>\n    </tr>\n    <tr>\n      <th>2021-01-29</th>\n      <td>324.506310</td>\n      <td>512.085782</td>\n      <td>252.352670</td>\n      <td>536.005366</td>\n      <td>327.666250</td>\n    </tr>\n    <tr>\n      <th>2021-02-01</th>\n      <td>325.706713</td>\n      <td>525.420283</td>\n      <td>253.286008</td>\n      <td>553.843201</td>\n      <td>332.924744</td>\n    </tr>\n    <tr>\n      <th>2021-02-02</th>\n      <td>323.001966</td>\n      <td>534.661859</td>\n      <td>255.371959</td>\n      <td>568.586680</td>\n      <td>337.550830</td>\n    </tr>\n    <tr>\n      <th>2021-02-03</th>\n      <td>322.109241</td>\n      <td>526.495815</td>\n      <td>254.418271</td>\n      <td>560.135499</td>\n      <td>337.891270</td>\n    </tr>\n    <tr>\n      <th>2021-02-04</th>\n      <td>319.672468</td>\n      <td>530.275769</td>\n      <td>254.568840</td>\n      <td>563.012148</td>\n      <td>338.943511</td>\n    </tr>\n  </tbody>\n</table>\n<p>2793 rows × 5 columns</p>\n</div>"
     },
     "metadata": {},
     "execution_count": 45
    }
   ],
   "source": [
    "res.prices[:]"
   ]
  },
  {
   "cell_type": "code",
   "execution_count": 22,
   "metadata": {},
   "outputs": [],
   "source": [
    "fig, axs = plt.subplots()\n",
    "sns.lineplot(data=res.prices).get_figure().savefig('output.png')\n"
   ]
  },
  {
   "cell_type": "code",
   "execution_count": 23,
   "metadata": {},
   "outputs": [
    {
     "output_type": "execute_result",
     "data": {
      "text/plain": [
       "            minimum volatility monthly  maximum sharpe ratio monthly  \\\n",
       "2010-01-03                    0.000000                      0.000000   \n",
       "2010-01-04                    0.000000                      0.000000   \n",
       "2010-01-05                    0.000000                      0.000000   \n",
       "2010-01-06                    0.000000                      0.000000   \n",
       "2010-01-07                    0.000000                      0.000000   \n",
       "...                                ...                           ...   \n",
       "2021-01-29                    2.245063                      4.120858   \n",
       "2021-02-01                    2.257067                      4.254203   \n",
       "2021-02-02                    2.230020                      4.346619   \n",
       "2021-02-03                    2.221092                      4.264958   \n",
       "2021-02-04                    2.196725                      4.302758   \n",
       "\n",
       "            minimum volatility yearly  maximum sharpe ratio yearly  benchmark  \n",
       "2010-01-03                   0.000000                     0.000000   0.000000  \n",
       "2010-01-04                   0.000000                     0.000000   0.000000  \n",
       "2010-01-05                   0.000000                     0.000000   0.003113  \n",
       "2010-01-06                   0.000000                     0.000000   0.003660  \n",
       "2010-01-07                   0.000000                     0.000000   0.007673  \n",
       "...                               ...                          ...        ...  \n",
       "2021-01-29                   1.523527                     4.360054   2.276662  \n",
       "2021-02-01                   1.532860                     4.538432   2.329247  \n",
       "2021-02-02                   1.553720                     4.685867   2.375508  \n",
       "2021-02-03                   1.544183                     4.601355   2.378913  \n",
       "2021-02-04                   1.545688                     4.630121   2.389435  \n",
       "\n",
       "[2793 rows x 5 columns]"
      ],
      "text/html": "<div>\n<style scoped>\n    .dataframe tbody tr th:only-of-type {\n        vertical-align: middle;\n    }\n\n    .dataframe tbody tr th {\n        vertical-align: top;\n    }\n\n    .dataframe thead th {\n        text-align: right;\n    }\n</style>\n<table border=\"1\" class=\"dataframe\">\n  <thead>\n    <tr style=\"text-align: right;\">\n      <th></th>\n      <th>minimum volatility monthly</th>\n      <th>maximum sharpe ratio monthly</th>\n      <th>minimum volatility yearly</th>\n      <th>maximum sharpe ratio yearly</th>\n      <th>benchmark</th>\n    </tr>\n  </thead>\n  <tbody>\n    <tr>\n      <th>2010-01-03</th>\n      <td>0.000000</td>\n      <td>0.000000</td>\n      <td>0.000000</td>\n      <td>0.000000</td>\n      <td>0.000000</td>\n    </tr>\n    <tr>\n      <th>2010-01-04</th>\n      <td>0.000000</td>\n      <td>0.000000</td>\n      <td>0.000000</td>\n      <td>0.000000</td>\n      <td>0.000000</td>\n    </tr>\n    <tr>\n      <th>2010-01-05</th>\n      <td>0.000000</td>\n      <td>0.000000</td>\n      <td>0.000000</td>\n      <td>0.000000</td>\n      <td>0.003113</td>\n    </tr>\n    <tr>\n      <th>2010-01-06</th>\n      <td>0.000000</td>\n      <td>0.000000</td>\n      <td>0.000000</td>\n      <td>0.000000</td>\n      <td>0.003660</td>\n    </tr>\n    <tr>\n      <th>2010-01-07</th>\n      <td>0.000000</td>\n      <td>0.000000</td>\n      <td>0.000000</td>\n      <td>0.000000</td>\n      <td>0.007673</td>\n    </tr>\n    <tr>\n      <th>...</th>\n      <td>...</td>\n      <td>...</td>\n      <td>...</td>\n      <td>...</td>\n      <td>...</td>\n    </tr>\n    <tr>\n      <th>2021-01-29</th>\n      <td>2.245063</td>\n      <td>4.120858</td>\n      <td>1.523527</td>\n      <td>4.360054</td>\n      <td>2.276662</td>\n    </tr>\n    <tr>\n      <th>2021-02-01</th>\n      <td>2.257067</td>\n      <td>4.254203</td>\n      <td>1.532860</td>\n      <td>4.538432</td>\n      <td>2.329247</td>\n    </tr>\n    <tr>\n      <th>2021-02-02</th>\n      <td>2.230020</td>\n      <td>4.346619</td>\n      <td>1.553720</td>\n      <td>4.685867</td>\n      <td>2.375508</td>\n    </tr>\n    <tr>\n      <th>2021-02-03</th>\n      <td>2.221092</td>\n      <td>4.264958</td>\n      <td>1.544183</td>\n      <td>4.601355</td>\n      <td>2.378913</td>\n    </tr>\n    <tr>\n      <th>2021-02-04</th>\n      <td>2.196725</td>\n      <td>4.302758</td>\n      <td>1.545688</td>\n      <td>4.630121</td>\n      <td>2.389435</td>\n    </tr>\n  </tbody>\n</table>\n<p>2793 rows × 5 columns</p>\n</div>"
     },
     "metadata": {},
     "execution_count": 23
    }
   ],
   "source": [
    "df = res.prices[:]\n",
    "df = df/100 -1\n",
    "df"
   ]
  },
  {
   "cell_type": "code",
   "execution_count": 27,
   "metadata": {},
   "outputs": [
    {
     "output_type": "execute_result",
     "data": {
      "text/plain": [
       "            minimum volatility monthly  maximum sharpe ratio monthly  \\\n",
       "2021-01-29                    0.067096                      0.121712   \n",
       "2021-02-01                   -0.012004                     -0.133345   \n",
       "2021-02-02                    0.027047                     -0.092416   \n",
       "2021-02-03                    0.008927                      0.081660   \n",
       "2021-02-04                    0.024368                     -0.037800   \n",
       "\n",
       "            minimum volatility yearly  maximum sharpe ratio yearly  benchmark  \n",
       "2021-01-29                   0.052155                     0.129658   0.064509  \n",
       "2021-02-01                  -0.009333                    -0.178378  -0.052585  \n",
       "2021-02-02                  -0.020860                    -0.147435  -0.046261  \n",
       "2021-02-03                   0.009537                     0.084512  -0.003404  \n",
       "2021-02-04                  -0.001506                    -0.028766  -0.010522  "
      ],
      "text/html": "<div>\n<style scoped>\n    .dataframe tbody tr th:only-of-type {\n        vertical-align: middle;\n    }\n\n    .dataframe tbody tr th {\n        vertical-align: top;\n    }\n\n    .dataframe thead th {\n        text-align: right;\n    }\n</style>\n<table border=\"1\" class=\"dataframe\">\n  <thead>\n    <tr style=\"text-align: right;\">\n      <th></th>\n      <th>minimum volatility monthly</th>\n      <th>maximum sharpe ratio monthly</th>\n      <th>minimum volatility yearly</th>\n      <th>maximum sharpe ratio yearly</th>\n      <th>benchmark</th>\n    </tr>\n  </thead>\n  <tbody>\n    <tr>\n      <th>2021-01-29</th>\n      <td>0.067096</td>\n      <td>0.121712</td>\n      <td>0.052155</td>\n      <td>0.129658</td>\n      <td>0.064509</td>\n    </tr>\n    <tr>\n      <th>2021-02-01</th>\n      <td>-0.012004</td>\n      <td>-0.133345</td>\n      <td>-0.009333</td>\n      <td>-0.178378</td>\n      <td>-0.052585</td>\n    </tr>\n    <tr>\n      <th>2021-02-02</th>\n      <td>0.027047</td>\n      <td>-0.092416</td>\n      <td>-0.020860</td>\n      <td>-0.147435</td>\n      <td>-0.046261</td>\n    </tr>\n    <tr>\n      <th>2021-02-03</th>\n      <td>0.008927</td>\n      <td>0.081660</td>\n      <td>0.009537</td>\n      <td>0.084512</td>\n      <td>-0.003404</td>\n    </tr>\n    <tr>\n      <th>2021-02-04</th>\n      <td>0.024368</td>\n      <td>-0.037800</td>\n      <td>-0.001506</td>\n      <td>-0.028766</td>\n      <td>-0.010522</td>\n    </tr>\n  </tbody>\n</table>\n</div>"
     },
     "metadata": {},
     "execution_count": 27
    }
   ],
   "source": [
    "daily_return = df.shift(1) - df\n",
    "daily_return.tail()"
   ]
  },
  {
   "cell_type": "code",
   "execution_count": 30,
   "metadata": {},
   "outputs": [],
   "source": [
    "daily_return.plot(figsize=(16,9)).get_figure().savefig('output_daily_return.png')"
   ]
  },
  {
   "cell_type": "code",
   "execution_count": 33,
   "metadata": {},
   "outputs": [],
   "source": [
    "daily_return[['minimum volatility monthly','benchmark']].plot(figsize=(16,9)).get_figure().savefig('output_daily_return_benchmark_minimum_volatility_monthly.png')"
   ]
  },
  {
   "cell_type": "code",
   "execution_count": 34,
   "metadata": {},
   "outputs": [],
   "source": [
    "daily_return[['maximum sharpe ratio monthly','benchmark']].plot(figsize=(16,9)).get_figure().savefig('output_daily_return_benchmark_maximum_sharpe_ratio_monthly.png')"
   ]
  },
  {
   "cell_type": "code",
   "execution_count": null,
   "metadata": {},
   "outputs": [],
   "source": []
  },
  {
   "cell_type": "code",
   "execution_count": null,
   "metadata": {},
   "outputs": [],
   "source": []
  },
  {
   "cell_type": "code",
   "execution_count": 31,
   "metadata": {},
   "outputs": [
    {
     "output_type": "execute_result",
     "data": {
      "text/plain": [
       "minimum volatility monthly     -0.000787\n",
       "maximum sharpe ratio monthly   -0.001541\n",
       "minimum volatility yearly      -0.000554\n",
       "maximum sharpe ratio yearly    -0.001658\n",
       "benchmark                      -0.000856\n",
       "dtype: float64"
      ]
     },
     "metadata": {},
     "execution_count": 31
    }
   ],
   "source": [
    "daily_return.mean()"
   ]
  },
  {
   "cell_type": "code",
   "execution_count": 56,
   "metadata": {},
   "outputs": [],
   "source": [
    "df[:].plot(figsize=(16,9)).get_figure().savefig('output_benchmark.png')"
   ]
  },
  {
   "cell_type": "code",
   "execution_count": null,
   "metadata": {},
   "outputs": [],
   "source": []
  },
  {
   "cell_type": "code",
   "execution_count": null,
   "metadata": {},
   "outputs": [],
   "source": []
  },
  {
   "cell_type": "code",
   "execution_count": null,
   "metadata": {},
   "outputs": [],
   "source": []
  },
  {
   "cell_type": "code",
   "execution_count": null,
   "metadata": {},
   "outputs": [],
   "source": []
  },
  {
   "cell_type": "code",
   "execution_count": 42,
   "metadata": {},
   "outputs": [],
   "source": [
    "# Rolling Volatility\n",
    "(res.prices.pct_change().rolling(window=12*20).std()*np.sqrt(252)).plot().get_figure().savefig(\"Rolling Volatility.png\")"
   ]
  },
  {
   "cell_type": "code",
   "execution_count": 28,
   "metadata": {},
   "outputs": [
    {
     "output_type": "execute_result",
     "data": {
      "text/plain": [
       "[]"
      ]
     },
     "metadata": {},
     "execution_count": 28
    }
   ],
   "source": []
  },
  {
   "cell_type": "code",
   "execution_count": 50,
   "metadata": {},
   "outputs": [],
   "source": [
    "res.get_security_weights().plot().get_figure().savefig(\"./security_weights.png\")"
   ]
  },
  {
   "cell_type": "code",
   "execution_count": 53,
   "metadata": {},
   "outputs": [],
   "source": [
    "res.get_security_weights().to_csv('./security_weights.csv')"
   ]
  },
  {
   "cell_type": "code",
   "execution_count": 61,
   "metadata": {},
   "outputs": [],
   "source": [
    "res.get_transactions().to_csv('./transactions.csv')"
   ]
  },
  {
   "cell_type": "code",
   "execution_count": 132,
   "metadata": {},
   "outputs": [
    {
     "output_type": "execute_result",
     "data": {
      "text/plain": [
       "                          price  quantity\n",
       "Date       Security                      \n",
       "2011-02-01 ABC        31.034409     170.0\n",
       "           AWK        20.379272     487.0\n",
       "           AZO       255.000000     523.0\n",
       "           CHTR       41.639999    4607.0\n",
       "           COO        57.254578     457.0\n",
       "...                         ...       ...\n",
       "2021-02-01 TGT       183.570007     806.0\n",
       "           TWTR       52.660000     146.0\n",
       "           VRSK      185.940002    -258.0\n",
       "           WLTW      207.449997     784.0\n",
       "           WMT       139.270004   -3484.0\n",
       "\n",
       "[3216 rows x 2 columns]"
      ],
      "text/html": "<div>\n<style scoped>\n    .dataframe tbody tr th:only-of-type {\n        vertical-align: middle;\n    }\n\n    .dataframe tbody tr th {\n        vertical-align: top;\n    }\n\n    .dataframe thead th {\n        text-align: right;\n    }\n</style>\n<table border=\"1\" class=\"dataframe\">\n  <thead>\n    <tr style=\"text-align: right;\">\n      <th></th>\n      <th></th>\n      <th>price</th>\n      <th>quantity</th>\n    </tr>\n    <tr>\n      <th>Date</th>\n      <th>Security</th>\n      <th></th>\n      <th></th>\n    </tr>\n  </thead>\n  <tbody>\n    <tr>\n      <th rowspan=\"5\" valign=\"top\">2011-02-01</th>\n      <th>ABC</th>\n      <td>31.034409</td>\n      <td>170.0</td>\n    </tr>\n    <tr>\n      <th>AWK</th>\n      <td>20.379272</td>\n      <td>487.0</td>\n    </tr>\n    <tr>\n      <th>AZO</th>\n      <td>255.000000</td>\n      <td>523.0</td>\n    </tr>\n    <tr>\n      <th>CHTR</th>\n      <td>41.639999</td>\n      <td>4607.0</td>\n    </tr>\n    <tr>\n      <th>COO</th>\n      <td>57.254578</td>\n      <td>457.0</td>\n    </tr>\n    <tr>\n      <th>...</th>\n      <th>...</th>\n      <td>...</td>\n      <td>...</td>\n    </tr>\n    <tr>\n      <th rowspan=\"5\" valign=\"top\">2021-02-01</th>\n      <th>TGT</th>\n      <td>183.570007</td>\n      <td>806.0</td>\n    </tr>\n    <tr>\n      <th>TWTR</th>\n      <td>52.660000</td>\n      <td>146.0</td>\n    </tr>\n    <tr>\n      <th>VRSK</th>\n      <td>185.940002</td>\n      <td>-258.0</td>\n    </tr>\n    <tr>\n      <th>WLTW</th>\n      <td>207.449997</td>\n      <td>784.0</td>\n    </tr>\n    <tr>\n      <th>WMT</th>\n      <td>139.270004</td>\n      <td>-3484.0</td>\n    </tr>\n  </tbody>\n</table>\n<p>3216 rows × 2 columns</p>\n</div>"
     },
     "metadata": {},
     "execution_count": 132
    }
   ],
   "source": [
    "transactions_min_v_monthly = res.get_transactions('minimum volatility monthly')\n",
    "transactions_min_v_monthly.to_csv('./transactions_min_v_monthly.csv')\n",
    "transactions_min_v_monthly"
   ]
  },
  {
   "cell_type": "code",
   "execution_count": null,
   "metadata": {},
   "outputs": [],
   "source": []
  },
  {
   "cell_type": "code",
   "execution_count": 133,
   "metadata": {},
   "outputs": [
    {
     "output_type": "execute_result",
     "data": {
      "text/plain": [
       "                          price  quantity\n",
       "Date       Security                      \n",
       "2011-02-01 ALXN       42.825001     799.0\n",
       "           AZO       255.000000     650.0\n",
       "           CHTR       41.639999     533.0\n",
       "           EW         14.323333   14164.0\n",
       "           FTNT       19.730000    5323.0\n",
       "...                         ...       ...\n",
       "2021-02-01 POOL      359.820007    -352.0\n",
       "           STZ       215.059998    -323.0\n",
       "           TDG       570.309998     -65.0\n",
       "           TSLA      839.809998     -41.0\n",
       "           WST       297.019989     245.0\n",
       "\n",
       "[1840 rows x 2 columns]"
      ],
      "text/html": "<div>\n<style scoped>\n    .dataframe tbody tr th:only-of-type {\n        vertical-align: middle;\n    }\n\n    .dataframe tbody tr th {\n        vertical-align: top;\n    }\n\n    .dataframe thead th {\n        text-align: right;\n    }\n</style>\n<table border=\"1\" class=\"dataframe\">\n  <thead>\n    <tr style=\"text-align: right;\">\n      <th></th>\n      <th></th>\n      <th>price</th>\n      <th>quantity</th>\n    </tr>\n    <tr>\n      <th>Date</th>\n      <th>Security</th>\n      <th></th>\n      <th></th>\n    </tr>\n  </thead>\n  <tbody>\n    <tr>\n      <th rowspan=\"5\" valign=\"top\">2011-02-01</th>\n      <th>ALXN</th>\n      <td>42.825001</td>\n      <td>799.0</td>\n    </tr>\n    <tr>\n      <th>AZO</th>\n      <td>255.000000</td>\n      <td>650.0</td>\n    </tr>\n    <tr>\n      <th>CHTR</th>\n      <td>41.639999</td>\n      <td>533.0</td>\n    </tr>\n    <tr>\n      <th>EW</th>\n      <td>14.323333</td>\n      <td>14164.0</td>\n    </tr>\n    <tr>\n      <th>FTNT</th>\n      <td>19.730000</td>\n      <td>5323.0</td>\n    </tr>\n    <tr>\n      <th>...</th>\n      <th>...</th>\n      <td>...</td>\n      <td>...</td>\n    </tr>\n    <tr>\n      <th rowspan=\"5\" valign=\"top\">2021-02-01</th>\n      <th>POOL</th>\n      <td>359.820007</td>\n      <td>-352.0</td>\n    </tr>\n    <tr>\n      <th>STZ</th>\n      <td>215.059998</td>\n      <td>-323.0</td>\n    </tr>\n    <tr>\n      <th>TDG</th>\n      <td>570.309998</td>\n      <td>-65.0</td>\n    </tr>\n    <tr>\n      <th>TSLA</th>\n      <td>839.809998</td>\n      <td>-41.0</td>\n    </tr>\n    <tr>\n      <th>WST</th>\n      <td>297.019989</td>\n      <td>245.0</td>\n    </tr>\n  </tbody>\n</table>\n<p>1840 rows × 2 columns</p>\n</div>"
     },
     "metadata": {},
     "execution_count": 133
    }
   ],
   "source": [
    "transactions_max_sr_monthly = res.get_transactions('maximum sharpe ratio monthly')\n",
    "transactions_max_sr_monthly.to_csv('./transactions_max_sr_monthly.csv')\n",
    "transactions_max_sr_monthly"
   ]
  },
  {
   "cell_type": "code",
   "execution_count": 134,
   "metadata": {},
   "outputs": [
    {
     "output_type": "execute_result",
     "data": {
      "text/plain": [
       "                          price  quantity\n",
       "Date       Security                      \n",
       "2012-01-03 AAP        67.470627     483.0\n",
       "           AMGN       51.639805     579.0\n",
       "           BMY        26.591764    7131.0\n",
       "           CHD        19.679581    3181.0\n",
       "           CHTR       57.189999      91.0\n",
       "...                         ...       ...\n",
       "2021-01-04 T          28.928171   -3254.0\n",
       "           TGT       177.630005     105.0\n",
       "           VRSK      202.880005      31.0\n",
       "           WLTW      203.699997     -38.0\n",
       "           WMT       146.529999    1550.0\n",
       "\n",
       "[299 rows x 2 columns]"
      ],
      "text/html": "<div>\n<style scoped>\n    .dataframe tbody tr th:only-of-type {\n        vertical-align: middle;\n    }\n\n    .dataframe tbody tr th {\n        vertical-align: top;\n    }\n\n    .dataframe thead th {\n        text-align: right;\n    }\n</style>\n<table border=\"1\" class=\"dataframe\">\n  <thead>\n    <tr style=\"text-align: right;\">\n      <th></th>\n      <th></th>\n      <th>price</th>\n      <th>quantity</th>\n    </tr>\n    <tr>\n      <th>Date</th>\n      <th>Security</th>\n      <th></th>\n      <th></th>\n    </tr>\n  </thead>\n  <tbody>\n    <tr>\n      <th rowspan=\"5\" valign=\"top\">2012-01-03</th>\n      <th>AAP</th>\n      <td>67.470627</td>\n      <td>483.0</td>\n    </tr>\n    <tr>\n      <th>AMGN</th>\n      <td>51.639805</td>\n      <td>579.0</td>\n    </tr>\n    <tr>\n      <th>BMY</th>\n      <td>26.591764</td>\n      <td>7131.0</td>\n    </tr>\n    <tr>\n      <th>CHD</th>\n      <td>19.679581</td>\n      <td>3181.0</td>\n    </tr>\n    <tr>\n      <th>CHTR</th>\n      <td>57.189999</td>\n      <td>91.0</td>\n    </tr>\n    <tr>\n      <th>...</th>\n      <th>...</th>\n      <td>...</td>\n      <td>...</td>\n    </tr>\n    <tr>\n      <th rowspan=\"5\" valign=\"top\">2021-01-04</th>\n      <th>T</th>\n      <td>28.928171</td>\n      <td>-3254.0</td>\n    </tr>\n    <tr>\n      <th>TGT</th>\n      <td>177.630005</td>\n      <td>105.0</td>\n    </tr>\n    <tr>\n      <th>VRSK</th>\n      <td>202.880005</td>\n      <td>31.0</td>\n    </tr>\n    <tr>\n      <th>WLTW</th>\n      <td>203.699997</td>\n      <td>-38.0</td>\n    </tr>\n    <tr>\n      <th>WMT</th>\n      <td>146.529999</td>\n      <td>1550.0</td>\n    </tr>\n  </tbody>\n</table>\n<p>299 rows × 2 columns</p>\n</div>"
     },
     "metadata": {},
     "execution_count": 134
    }
   ],
   "source": [
    "transactions_min_v_yearly = res.get_transactions('minimum volatility yearly')\n",
    "transactions_min_v_yearly.to_csv('./transactions_min_v_yearly.csv')\n",
    "transactions_min_v_yearly"
   ]
  },
  {
   "cell_type": "code",
   "execution_count": 135,
   "metadata": {},
   "outputs": [
    {
     "output_type": "execute_result",
     "data": {
      "text/plain": [
       "                          price  quantity\n",
       "Date       Security                      \n",
       "2012-01-03 ALXN       70.570000    3004.0\n",
       "           CMG       341.269989     788.0\n",
       "           DLTR       41.215000    6697.0\n",
       "           DPZ        28.185535    8617.0\n",
       "2013-01-02 ALXN      100.050003   -1599.0\n",
       "...                         ...       ...\n",
       "2021-01-04 NFLX      522.859985     905.0\n",
       "           PAYC      427.730011    1208.0\n",
       "           POOL      356.890015    1150.0\n",
       "           TDG       587.669983    -348.0\n",
       "           TSLA      729.770020    1089.0\n",
       "\n",
       "[147 rows x 2 columns]"
      ],
      "text/html": "<div>\n<style scoped>\n    .dataframe tbody tr th:only-of-type {\n        vertical-align: middle;\n    }\n\n    .dataframe tbody tr th {\n        vertical-align: top;\n    }\n\n    .dataframe thead th {\n        text-align: right;\n    }\n</style>\n<table border=\"1\" class=\"dataframe\">\n  <thead>\n    <tr style=\"text-align: right;\">\n      <th></th>\n      <th></th>\n      <th>price</th>\n      <th>quantity</th>\n    </tr>\n    <tr>\n      <th>Date</th>\n      <th>Security</th>\n      <th></th>\n      <th></th>\n    </tr>\n  </thead>\n  <tbody>\n    <tr>\n      <th rowspan=\"4\" valign=\"top\">2012-01-03</th>\n      <th>ALXN</th>\n      <td>70.570000</td>\n      <td>3004.0</td>\n    </tr>\n    <tr>\n      <th>CMG</th>\n      <td>341.269989</td>\n      <td>788.0</td>\n    </tr>\n    <tr>\n      <th>DLTR</th>\n      <td>41.215000</td>\n      <td>6697.0</td>\n    </tr>\n    <tr>\n      <th>DPZ</th>\n      <td>28.185535</td>\n      <td>8617.0</td>\n    </tr>\n    <tr>\n      <th>2013-01-02</th>\n      <th>ALXN</th>\n      <td>100.050003</td>\n      <td>-1599.0</td>\n    </tr>\n    <tr>\n      <th>...</th>\n      <th>...</th>\n      <td>...</td>\n      <td>...</td>\n    </tr>\n    <tr>\n      <th rowspan=\"5\" valign=\"top\">2021-01-04</th>\n      <th>NFLX</th>\n      <td>522.859985</td>\n      <td>905.0</td>\n    </tr>\n    <tr>\n      <th>PAYC</th>\n      <td>427.730011</td>\n      <td>1208.0</td>\n    </tr>\n    <tr>\n      <th>POOL</th>\n      <td>356.890015</td>\n      <td>1150.0</td>\n    </tr>\n    <tr>\n      <th>TDG</th>\n      <td>587.669983</td>\n      <td>-348.0</td>\n    </tr>\n    <tr>\n      <th>TSLA</th>\n      <td>729.770020</td>\n      <td>1089.0</td>\n    </tr>\n  </tbody>\n</table>\n<p>147 rows × 2 columns</p>\n</div>"
     },
     "metadata": {},
     "execution_count": 135
    }
   ],
   "source": [
    "transactions_max_sr_yearly = res.get_transactions('maximum sharpe ratio yearly')\n",
    "transactions_max_sr_yearly.to_csv('./transactions_max_sr_yearly.csv')\n",
    "transactions_max_sr_yearly"
   ]
  },
  {
   "cell_type": "code",
   "execution_count": 136,
   "metadata": {},
   "outputs": [
    {
     "output_type": "execute_result",
     "data": {
      "text/plain": [
       "                           price  quantity\n",
       "Date       Security                       \n",
       "2010-01-04 Adj Close  1132.98999     882.0"
      ],
      "text/html": "<div>\n<style scoped>\n    .dataframe tbody tr th:only-of-type {\n        vertical-align: middle;\n    }\n\n    .dataframe tbody tr th {\n        vertical-align: top;\n    }\n\n    .dataframe thead th {\n        text-align: right;\n    }\n</style>\n<table border=\"1\" class=\"dataframe\">\n  <thead>\n    <tr style=\"text-align: right;\">\n      <th></th>\n      <th></th>\n      <th>price</th>\n      <th>quantity</th>\n    </tr>\n    <tr>\n      <th>Date</th>\n      <th>Security</th>\n      <th></th>\n      <th></th>\n    </tr>\n  </thead>\n  <tbody>\n    <tr>\n      <th>2010-01-04</th>\n      <th>Adj Close</th>\n      <td>1132.98999</td>\n      <td>882.0</td>\n    </tr>\n  </tbody>\n</table>\n</div>"
     },
     "metadata": {},
     "execution_count": 136
    }
   ],
   "source": [
    "transactions_benchmark = res.get_transactions('benchmark')\n",
    "transactions_benchmark.to_csv('./transactions_benchmark.csv')\n",
    "transactions_benchmark"
   ]
  },
  {
   "cell_type": "code",
   "execution_count": null,
   "metadata": {},
   "outputs": [],
   "source": []
  },
  {
   "cell_type": "code",
   "execution_count": 128,
   "metadata": {},
   "outputs": [
    {
     "output_type": "execute_result",
     "data": {
      "text/plain": [
       "999405.0350484848"
      ]
     },
     "metadata": {},
     "execution_count": 128
    }
   ],
   "source": [
    "(transactions.loc['2011-02-01']['price'] * transactions.loc['2011-02-01']['quantity']).sum()"
   ]
  },
  {
   "cell_type": "code",
   "execution_count": null,
   "metadata": {},
   "outputs": [],
   "source": []
  },
  {
   "cell_type": "code",
   "execution_count": null,
   "metadata": {},
   "outputs": [],
   "source": []
  },
  {
   "cell_type": "code",
   "execution_count": null,
   "metadata": {},
   "outputs": [],
   "source": []
  },
  {
   "cell_type": "code",
   "execution_count": 77,
   "metadata": {},
   "outputs": [
    {
     "output_type": "execute_result",
     "data": {
      "text/plain": [
       "MultiIndex([('2011-02-01',  'ABC'),\n",
       "            ('2011-02-01',  'AWK'),\n",
       "            ('2011-02-01',  'AZO'),\n",
       "            ('2011-02-01', 'CHTR'),\n",
       "            ('2011-02-01',  'COO'),\n",
       "            ('2011-02-01', 'COST'),\n",
       "            ('2011-02-01',  'DVA'),\n",
       "            ('2011-02-01',   'EW'),\n",
       "            ('2011-02-01',  'FIS'),\n",
       "            ('2011-02-01',  'HRL'),\n",
       "            ...\n",
       "            ('2021-02-01', 'NFLX'),\n",
       "            ('2021-02-01', 'NLOK'),\n",
       "            ('2021-02-01',  'NVR'),\n",
       "            ('2021-02-01',  'PPL'),\n",
       "            ('2021-02-01',  'PSA'),\n",
       "            ('2021-02-01',  'TGT'),\n",
       "            ('2021-02-01', 'TWTR'),\n",
       "            ('2021-02-01', 'VRSK'),\n",
       "            ('2021-02-01', 'WLTW'),\n",
       "            ('2021-02-01',  'WMT')],\n",
       "           names=['Date', 'Security'], length=3216)"
      ]
     },
     "metadata": {},
     "execution_count": 77
    }
   ],
   "source": [
    "transactions.index"
   ]
  },
  {
   "cell_type": "code",
   "execution_count": 123,
   "metadata": {},
   "outputs": [
    {
     "output_type": "execute_result",
     "data": {
      "text/plain": [
       "['LUMN', 'DRI', 'FE', 'BMY', 'APTV']"
      ]
     },
     "metadata": {},
     "execution_count": 123
    }
   ],
   "source": [
    "stocks_lst = []\n",
    "for i in transactions.index:\n",
    "    stocks_lst.append(i[1])\n",
    "stocks_lst = list(set(stocks))\n",
    "stocks_lst[:5]"
   ]
  },
  {
   "cell_type": "code",
   "execution_count": 120,
   "metadata": {},
   "outputs": [
    {
     "output_type": "execute_result",
     "data": {
      "text/plain": [
       "       hold         profit  nums of trade\n",
       "LUMN    0.0     880.427952           15.0\n",
       "DRI     0.0   -1328.600815            5.0\n",
       "FE      0.0    2652.262096           16.0\n",
       "BMY     0.0  -21733.123657           49.0\n",
       "APTV    0.0  -34344.150965           23.0\n",
       "...     ...            ...            ...\n",
       "ECL     0.0    -782.780533            2.0\n",
       "BIIB    0.0    1523.560150            2.0\n",
       "MO      0.0 -100419.681570           35.0\n",
       "GILD    0.0     412.908543            6.0\n",
       "GOOGL   0.0    -373.890564            2.0\n",
       "\n",
       "[185 rows x 3 columns]"
      ],
      "text/html": "<div>\n<style scoped>\n    .dataframe tbody tr th:only-of-type {\n        vertical-align: middle;\n    }\n\n    .dataframe tbody tr th {\n        vertical-align: top;\n    }\n\n    .dataframe thead th {\n        text-align: right;\n    }\n</style>\n<table border=\"1\" class=\"dataframe\">\n  <thead>\n    <tr style=\"text-align: right;\">\n      <th></th>\n      <th>hold</th>\n      <th>profit</th>\n      <th>nums of trade</th>\n    </tr>\n  </thead>\n  <tbody>\n    <tr>\n      <th>LUMN</th>\n      <td>0.0</td>\n      <td>880.427952</td>\n      <td>15.0</td>\n    </tr>\n    <tr>\n      <th>DRI</th>\n      <td>0.0</td>\n      <td>-1328.600815</td>\n      <td>5.0</td>\n    </tr>\n    <tr>\n      <th>FE</th>\n      <td>0.0</td>\n      <td>2652.262096</td>\n      <td>16.0</td>\n    </tr>\n    <tr>\n      <th>BMY</th>\n      <td>0.0</td>\n      <td>-21733.123657</td>\n      <td>49.0</td>\n    </tr>\n    <tr>\n      <th>APTV</th>\n      <td>0.0</td>\n      <td>-34344.150965</td>\n      <td>23.0</td>\n    </tr>\n    <tr>\n      <th>...</th>\n      <td>...</td>\n      <td>...</td>\n      <td>...</td>\n    </tr>\n    <tr>\n      <th>ECL</th>\n      <td>0.0</td>\n      <td>-782.780533</td>\n      <td>2.0</td>\n    </tr>\n    <tr>\n      <th>BIIB</th>\n      <td>0.0</td>\n      <td>1523.560150</td>\n      <td>2.0</td>\n    </tr>\n    <tr>\n      <th>MO</th>\n      <td>0.0</td>\n      <td>-100419.681570</td>\n      <td>35.0</td>\n    </tr>\n    <tr>\n      <th>GILD</th>\n      <td>0.0</td>\n      <td>412.908543</td>\n      <td>6.0</td>\n    </tr>\n    <tr>\n      <th>GOOGL</th>\n      <td>0.0</td>\n      <td>-373.890564</td>\n      <td>2.0</td>\n    </tr>\n  </tbody>\n</table>\n<p>185 rows × 3 columns</p>\n</div>"
     },
     "metadata": {},
     "execution_count": 120
    }
   ],
   "source": [
    "lst = []\n",
    "for name in stocks_lst:\n",
    "    stock = transactions.loc[(slice(None),name),:]\n",
    "    stocks_held = stock['quantity'].sum()\n",
    "    profit = (stock['price']*stock['quantity']).sum()\n",
    "    nums_trade = stock.shape[0]\n",
    "    lst.append([stocks_held, profit, nums_trade])\n",
    "\n",
    "df_summary = pd.DataFrame(data = np.array(lst), index= stocks_lst, columns=['hold', 'profit', 'nums of trade'])\n",
    "\n",
    "df_summary"
   ]
  },
  {
   "cell_type": "code",
   "execution_count": 129,
   "metadata": {},
   "outputs": [],
   "source": [
    "df_summary.to_csv('./transactions_summary.csv')"
   ]
  },
  {
   "cell_type": "code",
   "execution_count": 121,
   "metadata": {},
   "outputs": [
    {
     "output_type": "execute_result",
     "data": {
      "text/plain": [
       "       hold         profit  nums of trade\n",
       "AZO     0.0 -158975.778229           71.0\n",
       "MCD     0.0 -148278.865112           35.0\n",
       "PG      0.0 -142300.256634           34.0\n",
       "WST     0.0 -137624.534668            2.0\n",
       "NEM     0.0 -126682.639452           36.0\n",
       "..      ...            ...            ...\n",
       "TGT  1036.0  168504.450340           43.0\n",
       "BDX   695.0  216584.690422           31.0\n",
       "DUK  5242.0  487718.798828           10.0\n",
       "JNJ  4255.0  676258.383972           23.0\n",
       "CLX  3594.0  713941.607513           31.0\n",
       "\n",
       "[185 rows x 3 columns]"
      ],
      "text/html": "<div>\n<style scoped>\n    .dataframe tbody tr th:only-of-type {\n        vertical-align: middle;\n    }\n\n    .dataframe tbody tr th {\n        vertical-align: top;\n    }\n\n    .dataframe thead th {\n        text-align: right;\n    }\n</style>\n<table border=\"1\" class=\"dataframe\">\n  <thead>\n    <tr style=\"text-align: right;\">\n      <th></th>\n      <th>hold</th>\n      <th>profit</th>\n      <th>nums of trade</th>\n    </tr>\n  </thead>\n  <tbody>\n    <tr>\n      <th>AZO</th>\n      <td>0.0</td>\n      <td>-158975.778229</td>\n      <td>71.0</td>\n    </tr>\n    <tr>\n      <th>MCD</th>\n      <td>0.0</td>\n      <td>-148278.865112</td>\n      <td>35.0</td>\n    </tr>\n    <tr>\n      <th>PG</th>\n      <td>0.0</td>\n      <td>-142300.256634</td>\n      <td>34.0</td>\n    </tr>\n    <tr>\n      <th>WST</th>\n      <td>0.0</td>\n      <td>-137624.534668</td>\n      <td>2.0</td>\n    </tr>\n    <tr>\n      <th>NEM</th>\n      <td>0.0</td>\n      <td>-126682.639452</td>\n      <td>36.0</td>\n    </tr>\n    <tr>\n      <th>...</th>\n      <td>...</td>\n      <td>...</td>\n      <td>...</td>\n    </tr>\n    <tr>\n      <th>TGT</th>\n      <td>1036.0</td>\n      <td>168504.450340</td>\n      <td>43.0</td>\n    </tr>\n    <tr>\n      <th>BDX</th>\n      <td>695.0</td>\n      <td>216584.690422</td>\n      <td>31.0</td>\n    </tr>\n    <tr>\n      <th>DUK</th>\n      <td>5242.0</td>\n      <td>487718.798828</td>\n      <td>10.0</td>\n    </tr>\n    <tr>\n      <th>JNJ</th>\n      <td>4255.0</td>\n      <td>676258.383972</td>\n      <td>23.0</td>\n    </tr>\n    <tr>\n      <th>CLX</th>\n      <td>3594.0</td>\n      <td>713941.607513</td>\n      <td>31.0</td>\n    </tr>\n  </tbody>\n</table>\n<p>185 rows × 3 columns</p>\n</div>"
     },
     "metadata": {},
     "execution_count": 121
    }
   ],
   "source": [
    "df_summary.sort_values(\"profit\",inplace=False)"
   ]
  },
  {
   "cell_type": "code",
   "execution_count": 122,
   "metadata": {},
   "outputs": [
    {
     "output_type": "execute_result",
     "data": {
      "text/plain": [
       "996282.687652589"
      ]
     },
     "metadata": {},
     "execution_count": 122
    }
   ],
   "source": [
    "df_summary['profit'].sum()"
   ]
  },
  {
   "cell_type": "code",
   "execution_count": null,
   "metadata": {},
   "outputs": [],
   "source": []
  },
  {
   "cell_type": "code",
   "execution_count": null,
   "metadata": {},
   "outputs": [],
   "source": []
  },
  {
   "cell_type": "code",
   "execution_count": null,
   "metadata": {},
   "outputs": [],
   "source": []
  },
  {
   "cell_type": "code",
   "execution_count": null,
   "metadata": {},
   "outputs": [],
   "source": []
  }
 ]
}