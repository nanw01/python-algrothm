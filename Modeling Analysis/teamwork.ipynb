{
 "metadata": {
  "language_info": {
   "codemirror_mode": {
    "name": "ipython",
    "version": 3
   },
   "file_extension": ".py",
   "mimetype": "text/x-python",
   "name": "python",
   "nbconvert_exporter": "python",
   "pygments_lexer": "ipython3",
   "version": "3.8.5-final"
  },
  "orig_nbformat": 2,
  "kernelspec": {
   "name": "python3",
   "display_name": "Python 3",
   "language": "python"
  }
 },
 "nbformat": 4,
 "nbformat_minor": 2,
 "cells": [
  {
   "cell_type": "code",
   "execution_count": 1,
   "metadata": {},
   "outputs": [],
   "source": [
    "from pandas_datareader import data\n",
    "import pandas as pd\n",
    "import matplotlib.pyplot as plt\n",
    "import numpy as np\n",
    "import statistics as stats  # need this to take standard deviations\n",
    "from random import choice  # choice will select an item from list at random\n"
   ]
  },
  {
   "cell_type": "code",
   "execution_count": 2,
   "metadata": {},
   "outputs": [],
   "source": [
    "start_date = '2018-1-1'  # start day for lookback\n",
    "end_date = '2020-1-1'  # end day for lookback\n",
    "\n",
    "tickers = ['F', 'AAPL', 'GOOG']\n",
    "\n",
    "def MR_get(tickers, start_date, end_date ):\n",
    "    stock_data = data.DataReader(tickers, data_source='yahoo', start=start_date,\n",
    "                                 end=end_date)['Adj Close']\n",
    "\n",
    "    return stock_data\n",
    "    \n",
    "stock_data = MR_get(tickers,start_date,end_date)"
   ]
  },
  {
   "cell_type": "code",
   "execution_count": 3,
   "metadata": {},
   "outputs": [
    {
     "output_type": "execute_result",
     "data": {
      "text/plain": [
       "Symbols             F       AAPL         GOOG\n",
       "Date                                         \n",
       "2018-01-02  10.890413  41.442081  1065.000000\n",
       "2018-01-03  10.976439  41.434864  1082.479980\n",
       "2018-01-04  11.165686  41.627323  1086.400024\n",
       "2018-01-05  11.354935  42.101261  1102.229980\n",
       "2018-01-08  11.311922  41.944889  1106.939941"
      ],
      "text/html": "<div>\n<style scoped>\n    .dataframe tbody tr th:only-of-type {\n        vertical-align: middle;\n    }\n\n    .dataframe tbody tr th {\n        vertical-align: top;\n    }\n\n    .dataframe thead th {\n        text-align: right;\n    }\n</style>\n<table border=\"1\" class=\"dataframe\">\n  <thead>\n    <tr style=\"text-align: right;\">\n      <th>Symbols</th>\n      <th>F</th>\n      <th>AAPL</th>\n      <th>GOOG</th>\n    </tr>\n    <tr>\n      <th>Date</th>\n      <th></th>\n      <th></th>\n      <th></th>\n    </tr>\n  </thead>\n  <tbody>\n    <tr>\n      <th>2018-01-02</th>\n      <td>10.890413</td>\n      <td>41.442081</td>\n      <td>1065.000000</td>\n    </tr>\n    <tr>\n      <th>2018-01-03</th>\n      <td>10.976439</td>\n      <td>41.434864</td>\n      <td>1082.479980</td>\n    </tr>\n    <tr>\n      <th>2018-01-04</th>\n      <td>11.165686</td>\n      <td>41.627323</td>\n      <td>1086.400024</td>\n    </tr>\n    <tr>\n      <th>2018-01-05</th>\n      <td>11.354935</td>\n      <td>42.101261</td>\n      <td>1102.229980</td>\n    </tr>\n    <tr>\n      <th>2018-01-08</th>\n      <td>11.311922</td>\n      <td>41.944889</td>\n      <td>1106.939941</td>\n    </tr>\n  </tbody>\n</table>\n</div>"
     },
     "metadata": {},
     "execution_count": 3
    }
   ],
   "source": [
    "stock_data.head()"
   ]
  },
  {
   "cell_type": "code",
   "execution_count": 4,
   "metadata": {},
   "outputs": [],
   "source": [
    "df_return = stock_data.pct_change()"
   ]
  },
  {
   "cell_type": "code",
   "execution_count": 5,
   "metadata": {},
   "outputs": [
    {
     "output_type": "execute_result",
     "data": {
      "text/plain": [
       "Symbols            F      AAPL      GOOG\n",
       "Date                                    \n",
       "2018-01-03  0.007899 -0.000174  0.016413\n",
       "2018-01-04  0.017241  0.004645  0.003621\n",
       "2018-01-05  0.016949  0.011385  0.014571\n",
       "2018-01-08 -0.003788 -0.003714  0.004273\n",
       "2018-01-09 -0.005323 -0.000115 -0.000614"
      ],
      "text/html": "<div>\n<style scoped>\n    .dataframe tbody tr th:only-of-type {\n        vertical-align: middle;\n    }\n\n    .dataframe tbody tr th {\n        vertical-align: top;\n    }\n\n    .dataframe thead th {\n        text-align: right;\n    }\n</style>\n<table border=\"1\" class=\"dataframe\">\n  <thead>\n    <tr style=\"text-align: right;\">\n      <th>Symbols</th>\n      <th>F</th>\n      <th>AAPL</th>\n      <th>GOOG</th>\n    </tr>\n    <tr>\n      <th>Date</th>\n      <th></th>\n      <th></th>\n      <th></th>\n    </tr>\n  </thead>\n  <tbody>\n    <tr>\n      <th>2018-01-03</th>\n      <td>0.007899</td>\n      <td>-0.000174</td>\n      <td>0.016413</td>\n    </tr>\n    <tr>\n      <th>2018-01-04</th>\n      <td>0.017241</td>\n      <td>0.004645</td>\n      <td>0.003621</td>\n    </tr>\n    <tr>\n      <th>2018-01-05</th>\n      <td>0.016949</td>\n      <td>0.011385</td>\n      <td>0.014571</td>\n    </tr>\n    <tr>\n      <th>2018-01-08</th>\n      <td>-0.003788</td>\n      <td>-0.003714</td>\n      <td>0.004273</td>\n    </tr>\n    <tr>\n      <th>2018-01-09</th>\n      <td>-0.005323</td>\n      <td>-0.000115</td>\n      <td>-0.000614</td>\n    </tr>\n  </tbody>\n</table>\n</div>"
     },
     "metadata": {},
     "execution_count": 5
    }
   ],
   "source": [
    "df_return.dropna().head()"
   ]
  },
  {
   "cell_type": "code",
   "execution_count": 9,
   "metadata": {},
   "outputs": [],
   "source": [
    "mu = df_return.mean()\n",
    "sigma =  df_return.std()"
   ]
  },
  {
   "cell_type": "code",
   "execution_count": 13,
   "metadata": {},
   "outputs": [],
   "source": [
    "weights = pd.Series(index=tickers, dtype=float)\n",
    "weights[tickers] = 1/len(tickers)"
   ]
  },
  {
   "cell_type": "code",
   "execution_count": 14,
   "metadata": {},
   "outputs": [
    {
     "output_type": "execute_result",
     "data": {
      "text/plain": [
       "F       0.333333\n",
       "AAPL    0.333333\n",
       "GOOG    0.333333\n",
       "dtype: float64"
      ]
     },
     "metadata": {},
     "execution_count": 14
    }
   ],
   "source": [
    "weights"
   ]
  }
 ]
}