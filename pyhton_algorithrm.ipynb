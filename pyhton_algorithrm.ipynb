{
 "metadata": {
  "language_info": {
   "codemirror_mode": {
    "name": "ipython",
    "version": 3
   },
   "file_extension": ".py",
   "mimetype": "text/x-python",
   "name": "python",
   "nbconvert_exporter": "python",
   "pygments_lexer": "ipython3",
   "version": "3.8.2"
  },
  "orig_nbformat": 4,
  "kernelspec": {
   "name": "python3",
   "display_name": "Python 3.8.2 64-bit ('usr')"
  },
  "interpreter": {
   "hash": "5edc29c2ed010d6458d71a83433b383a96a8cbd3efe8531bc90c4b8a5b8bcec9"
  }
 },
 "nbformat": 4,
 "nbformat_minor": 2,
 "cells": [
  {
   "cell_type": "code",
   "execution_count": 1,
   "metadata": {},
   "outputs": [
    {
     "output_type": "stream",
     "name": "stdout",
     "text": [
      "The deque after appending at right is : \ndeque([1, 2, 3, 4])\nThe deque after appending at left is : \ndeque([6, 1, 2, 3, 4])\nThe deque after deleting from right is : \ndeque([6, 1, 2, 3])\nThe deque after deleting from left is : \ndeque([1, 2, 3])\n"
     ]
    }
   ],
   "source": [
    "\n",
    "# Python code to demonstrate working of\n",
    "# append(), appendleft(), pop(), and popleft()\n",
    "\n",
    "# importing \"collections\" for deque operations\n",
    "import collections\n",
    "\n",
    "# initializing deque\n",
    "de = collections.deque([1,2,3])\n",
    "\n",
    "# using append() to insert element at right end\n",
    "# inserts 4 at the end of deque\n",
    "de.append(4)\n",
    "\n",
    "# printing modified deque\n",
    "print (\"The deque after appending at right is : \")\n",
    "print (de)\n",
    "\n",
    "# using appendleft() to insert element at left end\n",
    "# inserts 6 at the beginning of deque\n",
    "de.appendleft(6)\n",
    "\n",
    "# printing modified deque\n",
    "print (\"The deque after appending at left is : \")\n",
    "print (de)\n",
    "\n",
    "# using pop() to delete element from right end\n",
    "# deletes 4 from the right end of deque\n",
    "de.pop()\n",
    "\n",
    "# printing modified deque\n",
    "print (\"The deque after deleting from right is : \")\n",
    "print (de)\n",
    "\n",
    "# using popleft() to delete element from left end\n",
    "# deletes 6 from the left end of deque\n",
    "de.popleft()\n",
    "\n",
    "# printing modified deque\n",
    "print (\"The deque after deleting from left is : \")\n",
    "print (de)\n",
    "\n",
    "\n",
    "        "
   ]
  },
  {
   "cell_type": "code",
   "execution_count": 2,
   "metadata": {},
   "outputs": [
    {
     "output_type": "stream",
     "name": "stdout",
     "text": [
      "The number 4 first occurs at a position : \n4\nThe deque after inserting 3 at 5th position is : \ndeque([1, 2, 3, 3, 3, 4, 2, 4])\nThe count of 3 in deque is : \n3\nThe deque after deleting first occurrence of 3 is : \ndeque([1, 2, 3, 3, 4, 2, 4])\n"
     ]
    }
   ],
   "source": [
    "# Python code to demonstrate working of\n",
    "# insert(), index(), remove(), count()\n",
    "\n",
    "# importing \"collections\" for deque operations\n",
    "import collections\n",
    "\n",
    "# initializing deque\n",
    "de = collections.deque([1, 2, 3, 3, 4, 2, 4])\n",
    "\n",
    "# using index() to print the first occurrence of 4\n",
    "print (\"The number 4 first occurs at a position : \")\n",
    "print (de.index(4,2,5))\n",
    "\n",
    "# using insert() to insert the value 3 at 5th position\n",
    "de.insert(4,3)\n",
    "\n",
    "# printing modified deque\n",
    "print (\"The deque after inserting 3 at 5th position is : \")\n",
    "print (de)\n",
    "\n",
    "# using count() to count the occurrences of 3\n",
    "print (\"The count of 3 in deque is : \")\n",
    "print (de.count(3))\n",
    "\n",
    "# using remove() to remove the first occurrence of 3\n",
    "de.remove(3)\n",
    "\n",
    "# printing modified deque\n",
    "print (\"The deque after deleting first occurrence of 3 is : \")\n",
    "print (de)\n"
   ]
  },
  {
   "cell_type": "code",
   "execution_count": null,
   "metadata": {},
   "outputs": [],
   "source": []
  }
 ]
}