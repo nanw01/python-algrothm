{
 "cells": [
  {
   "cell_type": "markdown",
   "metadata": {},
   "source": [
    "# Heap Practice II #"
   ]
  },
  {
   "cell_type": "code",
   "execution_count": 7,
   "metadata": {
    "collapsed": true
   },
   "outputs": [],
   "source": [
    "import heapq  "
   ]
  },
  {
   "cell_type": "markdown",
   "metadata": {},
   "source": [
    "### Ex.1 Merge K Sorted List   \n",
    "\n",
    "Merge k sorted linked lists and return it as one sorted list. Analyze and describe its complexity."
   ]
  },
  {
   "cell_type": "code",
   "execution_count": 8,
   "metadata": {
    "collapsed": true
   },
   "outputs": [],
   "source": [
    "from queue import PriorityQueue\n",
    "from LinkedList import LinkedList\n",
    "from LinkedList import Node\n",
    "\n",
    "def mergeKLists(lists):\n",
    "    dummy = Node(None)\n",
    "    curr = dummy\n",
    "    q = PriorityQueue()\n",
    "    for node in lists:\n",
    "        if node: \n",
    "            q.put((node.value, node))\n",
    "    while q.qsize()>0:\n",
    "        curr.next = q.get()[1]\n",
    "        curr = curr.next\n",
    "        if curr.next: q.put((curr.next.value, curr.next))\n",
    "    return dummy.next\n",
    "\n"
   ]
  },
  {
   "cell_type": "code",
   "execution_count": 9,
   "metadata": {},
   "outputs": [
    {
     "name": "stdout",
     "output_type": "stream",
     "text": [
      "1 1 2 3 4 4 5 6 \n"
     ]
    }
   ],
   "source": [
    "lst1 = LinkedList()\n",
    "lst1.add_last(1)\n",
    "lst1.add_last(4)\n",
    "lst1.add_last(5)\n",
    "\n",
    "lst2 = LinkedList()\n",
    "lst2.add_last(1)\n",
    "lst2.add_last(3)\n",
    "lst2.add_last(4)\n",
    "\n",
    "lst3 = LinkedList()\n",
    "lst3.add_last(2)\n",
    "lst3.add_last(6)\n",
    "\n",
    "lists = [lst1.head.next, lst2.head.next, lst3.head.next]\n",
    "node = mergeKLists(lists)\n",
    "result = LinkedList()\n",
    "\n",
    "result.head.next = node\n",
    "result.printlist()"
   ]
  },
  {
   "cell_type": "code",
   "execution_count": null,
   "metadata": {
    "collapsed": true
   },
   "outputs": [],
   "source": []
  },
  {
   "cell_type": "markdown",
   "metadata": {},
   "source": [
    "### Ex.2 Find Median from Data Stream \n",
    "\n",
    "Median is the middle value in an ordered integer list. If the size of the list is even, there is no middle value. So the median is the mean of the two middle value.\n",
    "\n",
    "Examples: \n",
    "\n",
    "[2,3,4] , the median is 3\n",
    "\n",
    "[2,3], the median is (2 + 3) / 2 = 2.5\n",
    "\n",
    "Design a data structure that supports the following two operations:\n",
    "\n",
    "void addNum(int num) - Add a integer number from the data stream to the data structure.\n",
    "\n",
    "double findMedian() - Return the median of all elements so far."
   ]
  },
  {
   "cell_type": "code",
   "execution_count": 10,
   "metadata": {
    "collapsed": true
   },
   "outputs": [],
   "source": [
    "from heapq import *\n",
    "\n",
    "class MedianFinder:\n",
    "\n",
    "    def __init__(self):\n",
    "        self.heaps = [], []\n",
    "\n",
    "    def addNum(self, num):\n",
    "        small, large = self.heaps\n",
    "        heappush(small, -heappushpop(large, num))\n",
    "        if len(large) < len(small):\n",
    "            heappush(large, -heappop(small))\n",
    "\n",
    "    def findMedian(self):\n",
    "        small, large = self.heaps\n",
    "        if len(large) > len(small):\n",
    "            return float(large[0])\n",
    "        return (large[0] - small[0]) / 2.0"
   ]
  },
  {
   "cell_type": "code",
   "execution_count": 11,
   "metadata": {},
   "outputs": [
    {
     "data": {
      "text/plain": [
       "3.0"
      ]
     },
     "execution_count": 11,
     "metadata": {},
     "output_type": "execute_result"
    }
   ],
   "source": [
    "finder = MedianFinder()\n",
    "finder.addNum(2)\n",
    "finder.addNum(3)\n",
    "finder.addNum(4)\n",
    "finder.findMedian()"
   ]
  },
  {
   "cell_type": "code",
   "execution_count": 12,
   "metadata": {},
   "outputs": [
    {
     "data": {
      "text/plain": [
       "3.5"
      ]
     },
     "execution_count": 12,
     "metadata": {},
     "output_type": "execute_result"
    }
   ],
   "source": [
    "finder = MedianFinder()\n",
    "finder.addNum(2)\n",
    "finder.addNum(3)\n",
    "finder.addNum(4)\n",
    "finder.addNum(5)\n",
    "finder.findMedian()"
   ]
  },
  {
   "cell_type": "code",
   "execution_count": null,
   "metadata": {
    "collapsed": true
   },
   "outputs": [],
   "source": []
  },
  {
   "cell_type": "markdown",
   "metadata": {},
   "source": [
    "### Ex.3 Manage Your Project (IPO)\n",
    "\n",
    "You are given several projects. For each project i, it has a pure profit Pi and a minimum capital of Ci is needed to start the corresponding project. Initially, you have W capital. When you finish a project, you will obtain its pure profit and the profit will be added to your total capital.\n",
    "\n",
    "To sum up, pick a list of at most k distinct projects from given projects to maximize your final capital, and output your final maximized capital.\n",
    "\n",
    "Input: k=2, W=0, Profits=[1,2,3], Capital=[0,1,1]. \n",
    "\n",
    "Output: 4 \n",
    "\n",
    "Explanation: Since your initial capital is 0, you can only start the project indexed 0. After finishing it you will obtain profit 1 and your capital becomes 1. With capital 1, you can either start the project indexed 1 or the project indexed 2. Since you can choose at most 2 projects, you need to finish the project indexed 2 to get the maximum capital. Therefore, output the final maximized capital, which is 0 + 1 + 3 = 4. \n"
   ]
  },
  {
   "cell_type": "code",
   "execution_count": null,
   "metadata": {
    "collapsed": true
   },
   "outputs": [],
   "source": []
  },
  {
   "cell_type": "code",
   "execution_count": 13,
   "metadata": {
    "collapsed": true
   },
   "outputs": [],
   "source": [
    "import heapq\n",
    "def findMaximizedCapital(k, W, Profits, Capital):\n",
    "    pqCap = []\n",
    "    pqPro = []\n",
    "    \n",
    "    for i in range(len(Profits)):\n",
    "        heapq.heappush(pqCap, (Capital[i], Profits[i]))\n",
    "        \n",
    "    for i in range(k):\n",
    "        while len(pqCap) != 0 and pqCap[0][0] <= W:\n",
    "            heapq.heappush(pqPro, -heapq.heappop(pqCap)[1])\n",
    "            \n",
    "        if len(pqPro) == 0:\n",
    "            break\n",
    "        \n",
    "        W -= heapq.heappop(pqPro)\n",
    "    \n",
    "    return W"
   ]
  },
  {
   "cell_type": "code",
   "execution_count": 14,
   "metadata": {},
   "outputs": [
    {
     "data": {
      "text/plain": [
       "4"
      ]
     },
     "execution_count": 14,
     "metadata": {},
     "output_type": "execute_result"
    }
   ],
   "source": [
    "k=2\n",
    "W=0\n",
    "Profits=[1,2,3]\n",
    "Capital=[0,1,1]\n",
    "\n",
    "findMaximizedCapital(k, W, Profits, Capital)"
   ]
  },
  {
   "cell_type": "code",
   "execution_count": 30,
   "metadata": {
    "collapsed": true
   },
   "outputs": [],
   "source": [
    "def findMaximizedCapital2(k, W, Profits, Capital):\n",
    "    current = []\n",
    "    future = sorted(zip(Capital, Profits))[::-1]\n",
    "    for _ in range(k):\n",
    "        while future and future[-1][0] <= W:  # afford\n",
    "            heapq.heappush(current, -future.pop()[1])\n",
    "        if current:\n",
    "            W -= heapq.heappop(current)\n",
    "    return W"
   ]
  },
  {
   "cell_type": "code",
   "execution_count": 31,
   "metadata": {},
   "outputs": [
    {
     "data": {
      "text/plain": [
       "3"
      ]
     },
     "execution_count": 31,
     "metadata": {},
     "output_type": "execute_result"
    }
   ],
   "source": [
    "k=2\n",
    "W=0\n",
    "Profits=[1,2,3]\n",
    "Capital=[0,1,1]\n",
    "\n",
    "findMaximizedCapital2(k, W, Profits, Capital)"
   ]
  },
  {
   "cell_type": "code",
   "execution_count": 35,
   "metadata": {},
   "outputs": [
    {
     "data": {
      "text/plain": [
       "[(1, 3), (1, 2), (0, 1)]"
      ]
     },
     "execution_count": 35,
     "metadata": {},
     "output_type": "execute_result"
    }
   ],
   "source": [
    "future = sorted(zip(Capital, Profits))[::-1]\n",
    "future"
   ]
  },
  {
   "cell_type": "code",
   "execution_count": 36,
   "metadata": {},
   "outputs": [
    {
     "data": {
      "text/plain": [
       "1"
      ]
     },
     "execution_count": 36,
     "metadata": {},
     "output_type": "execute_result"
    }
   ],
   "source": [
    "future.pop()[1]"
   ]
  },
  {
   "cell_type": "code",
   "execution_count": 1,
   "metadata": {},
   "outputs": [
    {
     "name": "stdout",
     "output_type": "stream",
     "text": [
      "[7, 8]\n",
      "[9, 9]\n",
      "[5, 6]\n",
      "[6, 7]\n",
      "[5, 8]\n",
      "[6, 7]\n"
     ]
    },
    {
     "data": {
      "text/plain": [
       "array([[1, 2, 3, 4, 5, 6],\n",
       "       [2, 3, 5, 7, 8, 1],\n",
       "       [7, 9, 6, 6, 3, 2],\n",
       "       [8, 9, 0, 1, 4, 7]])"
      ]
     },
     "execution_count": 1,
     "metadata": {},
     "output_type": "execute_result"
    }
   ],
   "source": []
  }
 ],
 "metadata": {
  "kernelspec": {
   "display_name": "Python 3",
   "language": "python",
   "name": "python3"
  },
  "language_info": {
   "codemirror_mode": {
    "name": "ipython",
    "version": 3
   },
   "file_extension": ".py",
   "mimetype": "text/x-python",
   "name": "python",
   "nbconvert_exporter": "python",
   "pygments_lexer": "ipython3",
   "version": "3.6.1"
  }
 },
 "nbformat": 4,
 "nbformat_minor": 2
}
