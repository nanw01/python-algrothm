{
 "cells": [
  {
   "cell_type": "markdown",
   "metadata": {
    "run_control": {
     "frozen": false,
     "read_only": false
    }
   },
   "source": [
    "# Two Pointers II "
   ]
  },
  {
   "cell_type": "markdown",
   "metadata": {},
   "source": [
    "### <a id='Ex1'> Ex.1 Majority Element </a>\n",
    "\n",
    "Given an array of size n, find the majority element. The majority element is the element that appears more than ⌊ n/2 ⌋ times."
   ]
  },
  {
   "cell_type": "code",
   "execution_count": null,
   "metadata": {
    "collapsed": true
   },
   "outputs": [],
   "source": [
    "# brute force: O(n^2)"
   ]
  },
  {
   "cell_type": "code",
   "execution_count": null,
   "metadata": {
    "collapsed": true
   },
   "outputs": [],
   "source": [
    "# Hashtable: O(n)  +  O(n)"
   ]
  },
  {
   "cell_type": "code",
   "execution_count": null,
   "metadata": {
    "collapsed": true
   },
   "outputs": [],
   "source": [
    "# sort: O(nlgn)"
   ]
  },
  {
   "cell_type": "code",
   "execution_count": 70,
   "metadata": {
    "collapsed": true
   },
   "outputs": [],
   "source": [
    "# Boyer-Moore Voting Algorithm\n",
    "\n",
    "def majority(alist):\n",
    "    result = count = 0\n",
    "    for i in alist:\n",
    "        if count == 0:\n",
    "            result = i\n",
    "            count = 1\n",
    "        elif result == i:\n",
    "            count += 1\n",
    "        else:\n",
    "            count -= 1\n",
    "    return result"
   ]
  },
  {
   "cell_type": "markdown",
   "metadata": {
    "collapsed": true
   },
   "source": [
    "### <a id='Ex2'> Ex.2 Majority Element II </a>\n",
    "\n",
    "Given an integer array of size n, find all elements that appear more than ⌊ n/3 ⌋ times."
   ]
  },
  {
   "cell_type": "code",
   "execution_count": 2,
   "metadata": {
    "collapsed": true
   },
   "outputs": [],
   "source": [
    "def majority2(alist):\n",
    "    n1 = n2 = None\n",
    "    c1 = c2 = 0\n",
    "    for num in alist:\n",
    "        if n1 == num:\n",
    "            c1 += 1\n",
    "        elif n2 == num:\n",
    "            c2 += 1\n",
    "        elif c1 == 0:\n",
    "            n1, c1 = num, 1\n",
    "        elif c2 == 0:\n",
    "            n2, c2 = num, 1\n",
    "        else:\n",
    "            c1, c2 = c1 - 1, c2 - 1\n",
    "    size = len(alist)\n",
    "    return [n for n in (n1, n2) \n",
    "               if n is not None and alist.count(n) > size / 3]  \n"
   ]
  },
  {
   "cell_type": "code",
   "execution_count": null,
   "metadata": {
    "collapsed": true
   },
   "outputs": [],
   "source": []
  },
  {
   "cell_type": "markdown",
   "metadata": {},
   "source": [
    "### <a id='Ex3'> Ex.3 Sort Color </a>\n",
    "\n",
    "Given an array with n objects colored red, white or blue, sort them so that objects of the same color are adjacent, with the colors in the order red, white and blue.\n",
    "\n",
    "Here, we will use the integers 0, 1, and 2 to represent the color red, white, and blue respectively."
   ]
  },
  {
   "cell_type": "code",
   "execution_count": 3,
   "metadata": {
    "collapsed": true
   },
   "outputs": [],
   "source": [
    "def sortColors(nums):\n",
    "\n",
    "    count = [0] * 3\n",
    "    for num in nums:\n",
    "        count[num] += 1\n",
    "    i = 0\n",
    "    for j in range(3):\n",
    "        for _ in range(count[j]):\n",
    "            nums[i] = j\n",
    "            i += 1"
   ]
  },
  {
   "cell_type": "code",
   "execution_count": 5,
   "metadata": {},
   "outputs": [
    {
     "data": {
      "text/plain": [
       "[0, 0, 1, 1, 2, 2]"
      ]
     },
     "execution_count": 5,
     "metadata": {},
     "output_type": "execute_result"
    }
   ],
   "source": [
    "nums = [2,0,2,1,1,0]\n",
    "sortColors(nums)\n",
    "nums"
   ]
  },
  {
   "cell_type": "code",
   "execution_count": null,
   "metadata": {
    "collapsed": true
   },
   "outputs": [],
   "source": []
  },
  {
   "cell_type": "code",
   "execution_count": 6,
   "metadata": {
    "collapsed": true
   },
   "outputs": [],
   "source": [
    "def sortColors2(nums):\n",
    "    i, l, r = 0, 0, len(nums) - 1\n",
    "    while i <= r:\n",
    "        if nums[i] == 0:\n",
    "            nums[i], nums[l] = nums[l], nums[i]\n",
    "            i, l = i + 1, l + 1\n",
    "        elif nums[i] == 2:\n",
    "            nums[i], nums[r] = nums[r], nums[i]\n",
    "            r -= 1\n",
    "        else:\n",
    "            i += 1"
   ]
  },
  {
   "cell_type": "code",
   "execution_count": 7,
   "metadata": {},
   "outputs": [
    {
     "data": {
      "text/plain": [
       "[0, 0, 1, 1, 2, 2]"
      ]
     },
     "execution_count": 7,
     "metadata": {},
     "output_type": "execute_result"
    }
   ],
   "source": [
    "nums = [2,0,2,1,1,0]\n",
    "sortColors(nums)\n",
    "nums"
   ]
  },
  {
   "cell_type": "code",
   "execution_count": null,
   "metadata": {
    "collapsed": true
   },
   "outputs": [],
   "source": []
  },
  {
   "cell_type": "markdown",
   "metadata": {},
   "source": [
    "### <a id='Ex4'> Ex.4 Find K Closest Elements </a>\n",
    "\n",
    "Given a sorted array, two integers k and x, find the k closest elements to x in the array. The result should also be sorted in ascending order. If there is a tie, the smaller elements are always preferred."
   ]
  },
  {
   "cell_type": "code",
   "execution_count": 1,
   "metadata": {
    "collapsed": true
   },
   "outputs": [],
   "source": [
    "def findClosestElements(alist, k, x):\n",
    "    left = right = bisect.bisect_left(alist, x)\n",
    "    while right - left < k:\n",
    "        if left == 0: return alist[:k]\n",
    "        if right == len(alist): return alist[-k:]\n",
    "        if x - alist[left - 1] <= alist[right] - x: left -= 1\n",
    "        else: right += 1\n",
    "    return alist[left:right]"
   ]
  },
  {
   "cell_type": "code",
   "execution_count": null,
   "metadata": {
    "collapsed": true
   },
   "outputs": [],
   "source": [
    "def findClosestElements(self, arr, k, x):\n",
    "    diffTuples = sorted((abs(x - num), num) for num in arr)\n",
    "    return sorted(map(lambda x: x[1], diffTuples[:k])) #prefer the smaller number for same diff."
   ]
  },
  {
   "cell_type": "code",
   "execution_count": null,
   "metadata": {
    "collapsed": true
   },
   "outputs": [],
   "source": []
  },
  {
   "cell_type": "markdown",
   "metadata": {},
   "source": [
    "### <a id='Ex5'> Ex.5 Longest Mountain in Array </a>\n",
    "\n",
    "Let's call any (contiguous) subarray B (of A) a mountain if the following properties hold:\n",
    "\n",
    "B.length >= 3\n",
    "There exists some 0 < i < B.length - 1 such that B[0] < B[1] < ... B[i-1] < B[i] > B[i+1] > ... > B[B.length - 1]\n",
    "(Note that B could be any subarray of A, including the entire array A.)\n",
    "\n",
    "Given an array A of integers, return the length of the longest mountain. \n",
    "\n",
    "Return 0 if there is no mountain."
   ]
  },
  {
   "cell_type": "code",
   "execution_count": 9,
   "metadata": {
    "collapsed": true
   },
   "outputs": [],
   "source": [
    "def longestMountain(A):\n",
    "    N = len(A)\n",
    "    ans = base = 0\n",
    "\n",
    "    while base < N:\n",
    "        end = base\n",
    "        if end + 1 < N and A[end] < A[end + 1]: #if base is a left-boundary\n",
    "            #set end to the peak of this potential mountain\n",
    "            while end+1 < N and A[end] < A[end+1]:\n",
    "                end += 1\n",
    "\n",
    "            if end + 1 < N and A[end] > A[end + 1]: #if end is really a peak..\n",
    "                #set 'end' to right-boundary of mountain\n",
    "                while end+1 < N and A[end] > A[end+1]:\n",
    "                    end += 1\n",
    "                #record candidate answer\n",
    "                ans = max(ans, end - base + 1)\n",
    "\n",
    "        base = max(end, base + 1)\n",
    "\n",
    "    return ans"
   ]
  },
  {
   "cell_type": "code",
   "execution_count": 10,
   "metadata": {},
   "outputs": [
    {
     "data": {
      "text/plain": [
       "5"
      ]
     },
     "execution_count": 10,
     "metadata": {},
     "output_type": "execute_result"
    }
   ],
   "source": [
    "A = [2,1,4,7,3,2,5]\n",
    "longestMountain(A)"
   ]
  },
  {
   "cell_type": "code",
   "execution_count": null,
   "metadata": {
    "collapsed": true
   },
   "outputs": [],
   "source": []
  },
  {
   "cell_type": "markdown",
   "metadata": {},
   "source": [
    "### <a id='Ex6'> Ex.6 Container With Most Water </a>\n",
    "\n",
    "Given n non-negative integers a1, a2, ..., an, where each represents a point at coordinate (i, ai). n vertical lines are drawn such that the two endpoints of line i is at (i, ai) and (i, 0). Find two lines, which together with x-axis forms a container, such that the container contains the most water."
   ]
  },
  {
   "cell_type": "code",
   "execution_count": 1,
   "metadata": {
    "collapsed": true
   },
   "outputs": [],
   "source": [
    "def maxArea(height):\n",
    "    res = 0\n",
    "    for i in range(len(height)):\n",
    "        for j in range(i+1, len(height)):\n",
    "            res = max(res, min(height[i], height[j]) * (j - i))\n",
    "    return res "
   ]
  },
  {
   "cell_type": "code",
   "execution_count": 2,
   "metadata": {},
   "outputs": [
    {
     "data": {
      "text/plain": [
       "6"
      ]
     },
     "execution_count": 2,
     "metadata": {},
     "output_type": "execute_result"
    }
   ],
   "source": [
    "height = [1, 5, 4, 3]\n",
    "maxArea(height)"
   ]
  },
  {
   "cell_type": "code",
   "execution_count": 3,
   "metadata": {},
   "outputs": [
    {
     "data": {
      "text/plain": [
       "12"
      ]
     },
     "execution_count": 3,
     "metadata": {},
     "output_type": "execute_result"
    }
   ],
   "source": [
    "height = [3, 1, 2, 4, 5]\n",
    "maxArea(height)"
   ]
  },
  {
   "cell_type": "code",
   "execution_count": 6,
   "metadata": {
    "collapsed": true
   },
   "outputs": [],
   "source": [
    "def maxArea(height):\n",
    "    left = 0; right = len(height)-1\n",
    "    res = 0\n",
    "    while left < right:\n",
    "        water = min(height[left], height[right]) * (right-left)\n",
    "        res = max(res, water)\n",
    "        if height[left] < height[right]: \n",
    "            left += 1\n",
    "        else:\n",
    "            right -= 1\n",
    "    return res "
   ]
  },
  {
   "cell_type": "code",
   "execution_count": 7,
   "metadata": {},
   "outputs": [
    {
     "data": {
      "text/plain": [
       "6"
      ]
     },
     "execution_count": 7,
     "metadata": {},
     "output_type": "execute_result"
    }
   ],
   "source": [
    "height = [1, 5, 4, 3]\n",
    "maxArea(height)"
   ]
  },
  {
   "cell_type": "code",
   "execution_count": 8,
   "metadata": {},
   "outputs": [
    {
     "data": {
      "text/plain": [
       "12"
      ]
     },
     "execution_count": 8,
     "metadata": {},
     "output_type": "execute_result"
    }
   ],
   "source": [
    "height = [3, 1, 2, 4, 5]\n",
    "maxArea(height)"
   ]
  },
  {
   "cell_type": "code",
   "execution_count": null,
   "metadata": {
    "collapsed": true
   },
   "outputs": [],
   "source": []
  },
  {
   "cell_type": "markdown",
   "metadata": {},
   "source": [
    "### <a id='Ex7'> Ex.7 Trapping Rain Water </a>\n",
    "\n",
    "Given n non-negative integers representing an elevation map where the width of each bar is 1, compute how much water it is able to trap after raining.\n",
    "\n",
    "Given [0,1,0,2,1,0,1,3,2,1,2,1], return 6\n",
    "\n",
    "<img src=\"../images/ch19/traprain.png\" width=\"380\"/>"
   ]
  },
  {
   "cell_type": "code",
   "execution_count": 2,
   "metadata": {
    "collapsed": true
   },
   "outputs": [],
   "source": [
    "# Brute Force\n",
    "# Time complexity: O(n^2)\n",
    "# Space complexity: O(1)O(1)\n",
    "def trap1(height):\n",
    "    if not height or len(height) < 3:\n",
    "        return 0    \n",
    "    ans, size = 0, len(height)\n",
    "    for i in range (1, size-1):\n",
    "        max_left = max_right = 0\n",
    "        for j in range(i-1, -1, -1):\n",
    "            max_left = max(max_left, height[j])\n",
    "        for j in range(i+1, size):\n",
    "            max_right = max(max_right, height[j])\n",
    "        ans +=  max(0, min(max_left, max_right) - height[i])\n",
    "    \n",
    "    return ans"
   ]
  },
  {
   "cell_type": "code",
   "execution_count": 3,
   "metadata": {},
   "outputs": [
    {
     "data": {
      "text/plain": [
       "6"
      ]
     },
     "execution_count": 3,
     "metadata": {},
     "output_type": "execute_result"
    }
   ],
   "source": [
    "height = [0,1,0,2,1,0,1,3,2,1,2,1]\n",
    "trap1(height)"
   ]
  },
  {
   "cell_type": "code",
   "execution_count": 6,
   "metadata": {
    "collapsed": true
   },
   "outputs": [],
   "source": [
    "# Dynamic Programming\n",
    "# Time complexity: O(n)\n",
    "# Space complexity: O(n)\n",
    "def trap2(height):\n",
    "    if not height or len(height) < 3:\n",
    "        return 0\n",
    "    ans, size = 0, len(height)\n",
    "    left_max, right_max, anss = [0] * size, [0] * size, [0] * size\n",
    "    left_max[0] = height[0]\n",
    "    for i in range (1, size):\n",
    "        left_max[i] = max(height[i], left_max[i-1])\n",
    "    right_max[-1] = height[-1]\n",
    "    for i in range (size-2, -1, -1):\n",
    "        right_max[i] = max(height[i], right_max[i+1])\n",
    "    for i in range (1, size-1):\n",
    "        anss[i] =  min(left_max[i], right_max[i]) - height[i]\n",
    "        ans += min(left_max[i], right_max[i]) - height[i]\n",
    "\n",
    "    return ans"
   ]
  },
  {
   "cell_type": "code",
   "execution_count": 7,
   "metadata": {},
   "outputs": [
    {
     "data": {
      "text/plain": [
       "6"
      ]
     },
     "execution_count": 7,
     "metadata": {},
     "output_type": "execute_result"
    }
   ],
   "source": [
    "height = [0,1,0,2,1,0,1,3,2,1,2,1]\n",
    "trap2(height)"
   ]
  },
  {
   "cell_type": "code",
   "execution_count": null,
   "metadata": {
    "collapsed": true
   },
   "outputs": [],
   "source": [
    "# Two Pointers\n",
    "# Time complexity: O(n)\n",
    "# Space complexity: O(1)\n",
    "def trap3(height):\n",
    "    if not height or len(height) < 3:\n",
    "        return 0\n",
    "    left, right = 0, len(height) - 1\n",
    "    left_max, right_max = 0, 0\n",
    "    ans = 0\n",
    "    while (left < right):\n",
    "        if (height[left] < height[right]):\n",
    "            if height[left] >= left_max:\n",
    "                left_max = height[left]  \n",
    "            else:\n",
    "                ans += (left_max - height[left])\n",
    "            left += 1\n",
    "        \n",
    "        else:\n",
    "            if height[right] >= right_max:\n",
    "                right_max = height[right] \n",
    "            else:\n",
    "                ans += (right_max - height[right])\n",
    "            right -= 1\n",
    "    return ans;"
   ]
  },
  {
   "cell_type": "code",
   "execution_count": 8,
   "metadata": {},
   "outputs": [
    {
     "data": {
      "text/plain": [
       "6"
      ]
     },
     "execution_count": 8,
     "metadata": {},
     "output_type": "execute_result"
    }
   ],
   "source": [
    "height = [0,1,0,2,1,0,1,3,2,1,2,1]\n",
    "trap3(height)"
   ]
  },
  {
   "cell_type": "code",
   "execution_count": 24,
   "metadata": {
    "collapsed": true
   },
   "outputs": [],
   "source": [
    "# Stack\n",
    "# Time complexity: O(n)\n",
    "# Space complexity: O(n)"
   ]
  },
  {
   "cell_type": "code",
   "execution_count": 37,
   "metadata": {
    "collapsed": true
   },
   "outputs": [],
   "source": [
    "def trap4(height): \n",
    "    ans, current = 0, 0\n",
    "    st = []\n",
    "    while (current < len(height)):\n",
    "        while (len(st) != 0 and height[current] > height[st[-1]]):\n",
    "            top = st[-1]\n",
    "            print(\"current: \", current, \"   top: \", top)\n",
    "            print(\"before: \", st)\n",
    "            st.pop()\n",
    "            if len(st) == 0:\n",
    "                break\n",
    "            distance = current - st[-1] - 1\n",
    "            bounded_height = min(height[current], height[st[-1]]) - height[top]\n",
    "            ans += distance * bounded_height\n",
    "            print(\"after: \", st)\n",
    "        st.append(current)\n",
    "        current += 1\n",
    "    return ans"
   ]
  },
  {
   "cell_type": "code",
   "execution_count": 38,
   "metadata": {},
   "outputs": [
    {
     "name": "stdout",
     "output_type": "stream",
     "text": [
      "current:  1    top:  0\n",
      "before:  [0]\n",
      "current:  3    top:  2\n",
      "before:  [1, 2]\n",
      "after:  [1]\n",
      "current:  3    top:  1\n",
      "before:  [1]\n",
      "current:  6    top:  5\n",
      "before:  [3, 4, 5]\n",
      "after:  [3, 4]\n",
      "current:  7    top:  6\n",
      "before:  [3, 4, 6]\n",
      "after:  [3, 4]\n",
      "current:  7    top:  4\n",
      "before:  [3, 4]\n",
      "after:  [3]\n",
      "current:  7    top:  3\n",
      "before:  [3]\n",
      "current:  10    top:  9\n",
      "before:  [7, 8, 9]\n",
      "after:  [7, 8]\n"
     ]
    },
    {
     "data": {
      "text/plain": [
       "6"
      ]
     },
     "execution_count": 38,
     "metadata": {},
     "output_type": "execute_result"
    }
   ],
   "source": [
    "height = [0,1,0,2,1,0,1,3,2,1,2,1]\n",
    "trap4(height)"
   ]
  },
  {
   "cell_type": "code",
   "execution_count": null,
   "metadata": {
    "collapsed": true
   },
   "outputs": [],
   "source": []
  }
 ],
 "metadata": {
  "kernelspec": {
   "display_name": "Python 3",
   "language": "python",
   "name": "python3"
  },
  "language_info": {
   "codemirror_mode": {
    "name": "ipython",
    "version": 3
   },
   "file_extension": ".py",
   "mimetype": "text/x-python",
   "name": "python",
   "nbconvert_exporter": "python",
   "pygments_lexer": "ipython3",
   "version": "3.6.1"
  }
 },
 "nbformat": 4,
 "nbformat_minor": 2
}
