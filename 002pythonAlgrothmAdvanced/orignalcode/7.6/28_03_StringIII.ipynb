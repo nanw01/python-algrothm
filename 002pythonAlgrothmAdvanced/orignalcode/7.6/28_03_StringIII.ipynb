{
 "cells": [
  {
   "cell_type": "markdown",
   "metadata": {
    "run_control": {
     "frozen": false,
     "read_only": false
    }
   },
   "source": [
    "# String III\n",
    "\n",
    "## Palindrome"
   ]
  },
  {
   "cell_type": "markdown",
   "metadata": {},
   "source": [
    "### Ex.1 Rotation\n",
    "\n",
    "Given a string s1 and a string s2, write a snippet to say whether s2 is a rotation of s1."
   ]
  },
  {
   "cell_type": "code",
   "execution_count": 18,
   "metadata": {
    "collapsed": true
   },
   "outputs": [],
   "source": [
    "def areRotations(string1, string2):\n",
    "    size1 = len(string1)\n",
    "    size2 = len(string2)\n",
    "\n",
    "    if size1 != size2:\n",
    "        return 0\n",
    " \n",
    "    temp = string1 + string1\n",
    " \n",
    "    return temp.count(string2) > 0"
   ]
  },
  {
   "cell_type": "code",
   "execution_count": 19,
   "metadata": {},
   "outputs": [
    {
     "data": {
      "text/plain": [
       "True"
      ]
     },
     "execution_count": 19,
     "metadata": {},
     "output_type": "execute_result"
    }
   ],
   "source": [
    "string1 = \"AACD\"\n",
    "string2 = \"ACDA\"\n",
    "areRotations(string1, string2)"
   ]
  },
  {
   "cell_type": "markdown",
   "metadata": {},
   "source": [
    "### Ex.2 Rotation II\n",
    "\n",
    "Write a function rotate(arr[], d, n) that rotates arr[] of size n by d elements."
   ]
  },
  {
   "cell_type": "code",
   "execution_count": 20,
   "metadata": {
    "collapsed": true
   },
   "outputs": [],
   "source": [
    "def reverse(arr, start, end):\n",
    "    while start < end:\n",
    "        arr[start], arr[end] = arr[end], arr[start]\n",
    "        start += 1\n",
    "        end -= 1\n",
    "\n",
    "def rotate(arr, d):\n",
    "    n = len(arr)\n",
    "    reverse(arr, 0, d - 1)\n",
    "    reverse(arr, d, n - 1)\n",
    "    reverse(arr, 0, n - 1)"
   ]
  },
  {
   "cell_type": "code",
   "execution_count": 22,
   "metadata": {},
   "outputs": [
    {
     "data": {
      "text/plain": [
       "[3, 4, 5, 6, 7, 1, 2]"
      ]
     },
     "execution_count": 22,
     "metadata": {},
     "output_type": "execute_result"
    }
   ],
   "source": [
    "arr = [1, 2, 3, 4, 5, 6, 7]\n",
    "rotate(arr, 2)\n",
    "arr"
   ]
  },
  {
   "cell_type": "code",
   "execution_count": null,
   "metadata": {
    "collapsed": true
   },
   "outputs": [],
   "source": []
  },
  {
   "cell_type": "markdown",
   "metadata": {},
   "source": [
    "### Ex.3 Palindrome\n",
    "\n",
    "Check if a Given String is Palindrome."
   ]
  },
  {
   "cell_type": "code",
   "execution_count": 1,
   "metadata": {
    "collapsed": true
   },
   "outputs": [],
   "source": [
    "def reverse(s):\n",
    "    return s[::-1]\n",
    " \n",
    "def isPalindrome(s):\n",
    "    # Calling reverse function\n",
    "    rev = reverse(s)\n",
    " \n",
    "    # Checking if both string are equal or not\n",
    "    if (s == rev):\n",
    "        return True\n",
    "    return False"
   ]
  },
  {
   "cell_type": "code",
   "execution_count": 4,
   "metadata": {},
   "outputs": [
    {
     "name": "stdout",
     "output_type": "stream",
     "text": [
      "True\n",
      "False\n"
     ]
    }
   ],
   "source": [
    "s = \"malayalam\"\n",
    "print(isPalindrome(s))\n",
    "\n",
    "s = \"helloworld\"\n",
    "print(isPalindrome(s))"
   ]
  },
  {
   "cell_type": "code",
   "execution_count": 5,
   "metadata": {
    "collapsed": true
   },
   "outputs": [],
   "source": [
    "def isPalindrome(s):\n",
    "    return s == s[::-1]"
   ]
  },
  {
   "cell_type": "code",
   "execution_count": 6,
   "metadata": {},
   "outputs": [
    {
     "name": "stdout",
     "output_type": "stream",
     "text": [
      "True\n",
      "False\n"
     ]
    }
   ],
   "source": [
    "s = \"malayalam\"\n",
    "print(isPalindrome(s))\n",
    "\n",
    "s = \"helloworld\"\n",
    "print(isPalindrome(s))"
   ]
  },
  {
   "cell_type": "code",
   "execution_count": 7,
   "metadata": {
    "collapsed": true
   },
   "outputs": [],
   "source": [
    "def isPalindrome(s):\n",
    "    for i in range(len(s) // 2):\n",
    "        if s[i] != s[- 1 - i]:\n",
    "            return False\n",
    "\n",
    "    return True"
   ]
  },
  {
   "cell_type": "code",
   "execution_count": 8,
   "metadata": {},
   "outputs": [
    {
     "name": "stdout",
     "output_type": "stream",
     "text": [
      "True\n",
      "False\n"
     ]
    }
   ],
   "source": [
    "s = \"malayalam\"\n",
    "print(isPalindrome(s))\n",
    "\n",
    "s = \"helloworld\"\n",
    "print(isPalindrome(s))"
   ]
  },
  {
   "cell_type": "code",
   "execution_count": null,
   "metadata": {
    "collapsed": true
   },
   "outputs": [],
   "source": []
  },
  {
   "cell_type": "markdown",
   "metadata": {},
   "source": [
    "### Ex.4 Palindrome Number\n",
    "\n",
    "Determine whether an integer is a palindrome. An integer is a palindrome when it reads the same backward as forward."
   ]
  },
  {
   "cell_type": "code",
   "execution_count": 60,
   "metadata": {
    "collapsed": true
   },
   "outputs": [],
   "source": [
    "def intPalindrome(n):\n",
    "    return str(n) == str(n)[::-1]"
   ]
  },
  {
   "cell_type": "code",
   "execution_count": 2,
   "metadata": {
    "collapsed": true
   },
   "outputs": [],
   "source": [
    "def isPalindrome(x):\n",
    "    if x < 0:\n",
    "        return False\n",
    "\n",
    "    ranger = 1\n",
    "    while x // ranger >= 10:\n",
    "        ranger *= 10\n",
    "    print(ranger)\n",
    "    while x:\n",
    "        left = x // ranger\n",
    "        right = x % 10\n",
    "        if left != right:\n",
    "            return False\n",
    "\n",
    "        x = (x % ranger) // 10\n",
    "        ranger //= 100\n",
    "\n",
    "    return True"
   ]
  },
  {
   "cell_type": "code",
   "execution_count": 3,
   "metadata": {},
   "outputs": [
    {
     "name": "stdout",
     "output_type": "stream",
     "text": [
      "1000\n",
      "True\n"
     ]
    }
   ],
   "source": [
    "print(isPalindrome(1221))\n"
   ]
  },
  {
   "cell_type": "code",
   "execution_count": null,
   "metadata": {
    "collapsed": true
   },
   "outputs": [],
   "source": [
    "print(isPalindrome(12321))\n",
    "print(isPalindrome(123421))\n",
    "print(isPalindrome(-1221))"
   ]
  },
  {
   "cell_type": "markdown",
   "metadata": {},
   "source": [
    "### Ex.5 Rotation Palindrome\n",
    "\n",
    "Check if a given string is a rotation of a palindrome"
   ]
  },
  {
   "cell_type": "code",
   "execution_count": 9,
   "metadata": {
    "collapsed": true
   },
   "outputs": [],
   "source": [
    "def isRotationOfPalindrome(s):\n",
    " \n",
    "    # If string itself is palindrome\n",
    "    if isPalindrome(s):\n",
    "        return True\n",
    " \n",
    "    # Now try all rotations one by one\n",
    "    n = len(s)\n",
    "    for i in range(len(s) - 1):\n",
    "        s1 = s[i+1:n]\n",
    "        s2 = s[0:i+1]\n",
    " \n",
    "        # Check if this rotation is palindrome\n",
    "        s1 += s2\n",
    "        if isPalindrome(s1):\n",
    "            return True\n",
    " \n",
    "    return False"
   ]
  },
  {
   "cell_type": "code",
   "execution_count": 10,
   "metadata": {},
   "outputs": [
    {
     "name": "stdout",
     "output_type": "stream",
     "text": [
      "True\n",
      "False\n",
      "True\n"
     ]
    }
   ],
   "source": [
    "print(isRotationOfPalindrome(\"aab\"))\n",
    "print(isRotationOfPalindrome(\"abcde\"))\n",
    "print(isRotationOfPalindrome(\"aaaad\"))"
   ]
  },
  {
   "cell_type": "code",
   "execution_count": 15,
   "metadata": {
    "collapsed": true
   },
   "outputs": [],
   "source": [
    "def isRotationOfPalindrome(s):\n",
    "    n = len(s)\n",
    "    s = s + s\n",
    "    for i in range(n):\n",
    "        if isPalindrome(s[i : i + n]):\n",
    "            return True\n",
    "    return False"
   ]
  },
  {
   "cell_type": "code",
   "execution_count": 16,
   "metadata": {},
   "outputs": [
    {
     "name": "stdout",
     "output_type": "stream",
     "text": [
      "True\n",
      "False\n",
      "True\n"
     ]
    }
   ],
   "source": [
    "print(isRotationOfPalindrome(\"aab\"))\n",
    "print(isRotationOfPalindrome(\"abcde\"))\n",
    "print(isRotationOfPalindrome(\"aaaad\"))"
   ]
  },
  {
   "cell_type": "code",
   "execution_count": null,
   "metadata": {
    "collapsed": true
   },
   "outputs": [],
   "source": []
  },
  {
   "cell_type": "markdown",
   "metadata": {},
   "source": [
    "### Ex.6 Rearrange Palindrome\n",
    "\n",
    "Given a string, Check if characters of the given string can be rearranged to form a palindrome. "
   ]
  },
  {
   "cell_type": "code",
   "execution_count": 25,
   "metadata": {
    "collapsed": true
   },
   "outputs": [],
   "source": [
    "from collections import Counter\n",
    "def canRearrage(s):\n",
    "    odd = 0\n",
    "    counter = Counter(s)\n",
    "    for key in counter.keys():\n",
    "        if counter[key] % 2 == 1:\n",
    "            odd += 1\n",
    "        if odd > 1:\n",
    "            return False\n",
    "    return True"
   ]
  },
  {
   "cell_type": "code",
   "execution_count": 30,
   "metadata": {},
   "outputs": [
    {
     "name": "stdout",
     "output_type": "stream",
     "text": [
      "True\n",
      "True\n",
      "True\n",
      "False\n"
     ]
    }
   ],
   "source": [
    "print(canRearrage(\"baaaa\"))\n",
    "print(canRearrage(\"ababaa\"))\n",
    "print(canRearrage(\"ababcbaab\"))\n",
    "print(canRearrage(\"ababcbaa\"))"
   ]
  },
  {
   "cell_type": "code",
   "execution_count": 28,
   "metadata": {},
   "outputs": [
    {
     "data": {
      "text/plain": [
       "True"
      ]
     },
     "execution_count": 28,
     "metadata": {},
     "output_type": "execute_result"
    }
   ],
   "source": [
    "canRearrage(\"aabbaa\")"
   ]
  },
  {
   "cell_type": "code",
   "execution_count": null,
   "metadata": {
    "collapsed": true
   },
   "outputs": [],
   "source": []
  },
  {
   "cell_type": "markdown",
   "metadata": {},
   "source": [
    "### Ex.7 Longest Palindrome\n",
    "\n",
    "Given a string which consists of lowercase or uppercase letters, find the length of the longest palindromes that can be built with those letters.\n",
    "\n",
    "This is case sensitive, for example \"Aa\" is not considered a palindrome here."
   ]
  },
  {
   "cell_type": "code",
   "execution_count": 58,
   "metadata": {
    "collapsed": true
   },
   "outputs": [],
   "source": [
    "from collections import Counter\n",
    "def longestPalindrome(s):\n",
    "    ans = 0\n",
    "    counter = Counter(s)\n",
    "    for key in counter.keys():\n",
    "        v = counter[key]\n",
    "        ans += v // 2 * 2\n",
    "        if ans % 2 == 0 and v % 2 == 1:\n",
    "            ans += 1\n",
    "    return ans"
   ]
  },
  {
   "cell_type": "code",
   "execution_count": 59,
   "metadata": {},
   "outputs": [
    {
     "data": {
      "text/plain": [
       "7"
      ]
     },
     "execution_count": 59,
     "metadata": {},
     "output_type": "execute_result"
    }
   ],
   "source": [
    "longestPalindrome(\"abccccdd\")"
   ]
  },
  {
   "cell_type": "markdown",
   "metadata": {},
   "source": [
    "### Ex.8 Palindrome in Stream"
   ]
  },
  {
   "cell_type": "code",
   "execution_count": 37,
   "metadata": {},
   "outputs": [
    {
     "name": "stdout",
     "output_type": "stream",
     "text": [
      "\n"
     ]
    }
   ],
   "source": [
    "'''\n",
    "Input: str[] = \"abcba\"\n",
    "Output: a Yes   // \"a\" is palindrome\n",
    "        b No    // \"ab\" is not palindrome\n",
    "        c No    // \"abc\" is not palindrome\n",
    "        b No    // \"abcb\" is not palindrome\n",
    "        a Yes   // \"abcba\" is palindrome\n",
    "\n",
    "Input: str[] = \"aabaacaabaa\"\n",
    "Output:  a Yes   // \"a\" is palindrome\n",
    "         a Yes   // \"aa\" is palindrome\n",
    "         b No    // \"aab\" is not palindrome \n",
    "         a No    // \"aaba\" is not palindrome  \n",
    "         a Yes   // \"aabaa\" is palindrome  \n",
    "         c No    // \"aabaac\" is not palindrome  \n",
    "         a No    // \"aabaaca\" is not palindrome  \n",
    "         a No    // \"aabaacaa\" is not palindrome  \n",
    "         b No    // \"aabaacaab\" is not palindrome  \n",
    "         a No    // \"aabaacaaba\" is not palindrome  \n",
    "         a Yes   // \"aabaacaabaa\" is palindrome  \n",
    "'''\n",
    "'''\n",
    "'''\n",
    "print()"
   ]
  },
  {
   "cell_type": "code",
   "execution_count": 46,
   "metadata": {
    "collapsed": true
   },
   "outputs": [],
   "source": [
    "# d is the number of characters in input alphabet\n",
    "d = 256\n",
    " \n",
    "# q is a prime number used for evaluating Rabin Karp's\n",
    "# Rolling hash\n",
    "q = 103\n",
    " \n",
    "def checkPalindromes(string):\n",
    " \n",
    "    # Length of input string\n",
    "    N = len(string)\n",
    " \n",
    "    # A single character is always a palindrome\n",
    "    print(string[0] + \" Yes\")\n",
    " \n",
    "    # Return if string has only one character\n",
    "    if N == 1:\n",
    "        return\n",
    " \n",
    "    # Initialize first half reverse and second half for\n",
    "    # as firstr and second characters\n",
    "    firstr = ord(string[0]) % q\n",
    "    second = ord(string[1]) % q\n",
    " \n",
    "    h = 1\n",
    "    i = 0\n",
    "    j = 0\n",
    " \n",
    "    # Now check for palindromes from second character\n",
    "    # onward\n",
    "    for i in range(1,N):\n",
    " \n",
    "        # If the hash values of 'firstr' and 'second'\n",
    "        # match, then only check individual characters\n",
    "        if firstr == second:\n",
    " \n",
    "            # Check if str[0..i] is palindrome using\n",
    "            # simple character by character match\n",
    "            for j in range(0,i//2):\n",
    "                if string[j] != string[i-j]:\n",
    "                    break\n",
    "            j += 1\n",
    "            if j == i//2:\n",
    "                print(string[i] + \" Yes\")\n",
    "            else:\n",
    "                print(string[i] + \" No\")\n",
    "        else:\n",
    "            print(string[i] + \" No\")\n",
    " \n",
    "        # Calculate hash values for next iteration.\n",
    "        # Don't calculate hash for next characters if\n",
    "        # this is the last character of string\n",
    "        if i != N-1:\n",
    " \n",
    "            # If i is even (next i is odd)\n",
    "            if i % 2 == 0:\n",
    " \n",
    "                # Add next character after first half at\n",
    "                # beginning of 'firstr'\n",
    "                h = (h*d) % q\n",
    "                firstr = (firstr + h*ord(string[i//2]))%q\n",
    " \n",
    "                # Add next character after second half at\n",
    "                # the end of second half.\n",
    "                second = (second*d + ord(string[i+1]))%q\n",
    "            else:\n",
    "                # If next i is odd (next i is even) then we\n",
    "                # need not to change firstr, we need to remove\n",
    "                # first character of second and append a\n",
    "                # character to it.\n",
    "                second = (d*(second + q - ord(string[(i+1)//2])*h)%q\n",
    "                            + ord(string[i+1]))%q"
   ]
  },
  {
   "cell_type": "code",
   "execution_count": 48,
   "metadata": {},
   "outputs": [
    {
     "name": "stdout",
     "output_type": "stream",
     "text": [
      "a Yes\n",
      "b No\n",
      "c No\n",
      "b No\n",
      "a Yes\n"
     ]
    }
   ],
   "source": [
    "checkPalindromes(\"abcba\")"
   ]
  },
  {
   "cell_type": "code",
   "execution_count": 49,
   "metadata": {},
   "outputs": [
    {
     "name": "stdout",
     "output_type": "stream",
     "text": [
      "a Yes\n",
      "a No\n",
      "b No\n",
      "a No\n",
      "a Yes\n",
      "c No\n",
      "a No\n",
      "a No\n",
      "b No\n",
      "a No\n",
      "a Yes\n"
     ]
    }
   ],
   "source": [
    "checkPalindromes(\"aabaacaabaa\")"
   ]
  },
  {
   "cell_type": "code",
   "execution_count": null,
   "metadata": {
    "collapsed": true
   },
   "outputs": [],
   "source": []
  },
  {
   "cell_type": "code",
   "execution_count": null,
   "metadata": {
    "collapsed": true
   },
   "outputs": [],
   "source": []
  }
 ],
 "metadata": {
  "kernelspec": {
   "display_name": "Python 3",
   "language": "python",
   "name": "python3"
  },
  "language_info": {
   "codemirror_mode": {
    "name": "ipython",
    "version": 3
   },
   "file_extension": ".py",
   "mimetype": "text/x-python",
   "name": "python",
   "nbconvert_exporter": "python",
   "pygments_lexer": "ipython3",
   "version": "3.6.1"
  }
 },
 "nbformat": 4,
 "nbformat_minor": 2
}
