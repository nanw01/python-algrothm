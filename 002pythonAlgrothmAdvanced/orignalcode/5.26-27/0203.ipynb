{
 "metadata": {
  "language_info": {
   "codemirror_mode": {
    "name": "ipython",
    "version": 3
   },
   "file_extension": ".py",
   "mimetype": "text/x-python",
   "name": "python",
   "nbconvert_exporter": "python",
   "pygments_lexer": "ipython3",
   "version": "3.8.3-final"
  },
  "orig_nbformat": 2,
  "kernelspec": {
   "name": "python3",
   "display_name": "Python 3"
  }
 },
 "nbformat": 4,
 "nbformat_minor": 2,
 "cells": [
  {
   "cell_type": "code",
   "execution_count": 3,
   "metadata": {},
   "outputs": [],
   "source": [
    "import random\n",
    "\n",
    "def minesweeper(m,n,p):\n",
    "\n",
    "    borad = [[None]* (n+2) for i in range(m+2)]\n",
    "\n",
    "    # 创造棋盘\n",
    "    for i in range(1, m+1):\n",
    "        for j in range(1,n+1):\n",
    "            r = random.random()\n",
    "            borad[i][j] = -1 if r<p else 0\n",
    "    print()\n",
    "\n",
    "    # print board\n",
    "    for i in range(1, m+1):\n",
    "        for j in range(1,n+1):\n",
    "            print('*', end=' ') if borad[i][j] == -1 else print('.',end=' ')\n",
    "        print()\n",
    "\n",
    "    print()\n",
    "    \n",
    "\n",
    "    # \n",
    "    for i in range(1, m+1):\n",
    "        for j in range(1,n+1):\n",
    "            if (borad[i][j]!=-1):\n",
    "                for ii in range(i-1,i+2):\n",
    "                    for jj in range(j-1,j+2):\n",
    "                        if borad[ii][jj]==-1:\n",
    "                            borad[i][j]+=1\n",
    "\n",
    "\n",
    "\n",
    "\n",
    "    print()\n",
    "\n",
    "    for i in range(1, m + 1):\n",
    "        for j in range(1, n + 1):\n",
    "            print(\"*\", end=\" \") if borad[i][j] == -1 else print(borad[i][j], end=\" \")\n",
    "        print()\n"
   ]
  },
  {
   "cell_type": "code",
   "execution_count": 31,
   "metadata": {},
   "outputs": [
    {
     "output_type": "stream",
     "name": "stdout",
     "text": [
      "\n. . . . . . . . . * \n. . . . . . * . . * \n. . * . . . . . . * \n. . * . * . . . . . \n. . . . . . . . * . \n\n\n0 0 0 0 0 1 1 1 2 * \n0 1 1 1 0 1 * 1 3 * \n0 2 * 3 1 2 1 1 2 * \n0 2 * 3 * 1 0 1 2 2 \n0 1 1 2 1 1 0 1 * 1 \n"
     ]
    }
   ],
   "source": [
    "minesweeper(5, 10, 0.2)"
   ]
  },
  {
   "cell_type": "code",
   "execution_count": null,
   "metadata": {},
   "outputs": [],
   "source": [
    "def zero(matrix):\n",
    "    m = [None * len(matrix)]\n",
    "    n = [None * len(matrix[0])]\n",
    "    for i in range(len(matrix)):\n",
    "        for j in range(len(matrix[0])):\n",
    "            if matrix =[i][j] == 0\n",
    "                m[i] = 1\n",
    "                n[j] = 1\n",
    "\n",
    "    for i in range(len(matrix)):\n",
    "        for j in range(len(matrix[0])):\n",
    "            if m[i]==1 or n[j]==1:\n",
    "                matrix[i][j] = 0\n"
   ]
  },
  {
   "cell_type": "code",
   "execution_count": null,
   "metadata": {},
   "outputs": [],
   "source": [
    "matrix = [  [ 1, 1, 1, 1, 1, 0, 1, 1, 1, 1 ],\n",
    "            [ 1, 1, 1, 1, 1, 1, 1, 1, 1, 1 ],\n",
    "            [ 1, 1, 0, 1, 1, 1, 1, 1, 1, 1 ],\n",
    "            [ 1, 1, 1, 1, 1, 1, 1, 1, 1, 1 ],\n",
    "            [ 1, 1, 1, 1, 1, 1, 1, 1, 1, 1 ] ]"
   ]
  }
 ]
}