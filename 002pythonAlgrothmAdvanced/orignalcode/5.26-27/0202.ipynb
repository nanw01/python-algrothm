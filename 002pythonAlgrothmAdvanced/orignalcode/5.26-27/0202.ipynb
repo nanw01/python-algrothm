{
 "cells": [
  {
   "cell_type": "code",
   "execution_count": 2,
   "metadata": {
    "collapsed": true
   },
   "outputs": [],
   "source": [
    "import ctypes\n",
    "class DynamicArray:\n",
    "\n",
    "    def __init__(self):\n",
    "        self._n = 0\n",
    "        self._capacity = 10\n",
    "        self._A = self._make_array(self._capacity)\n",
    "\n",
    "    def _make_array(self,c):\n",
    "        return c*ctypes.py_object\n",
    "\n",
    "    def __len__(self):\n",
    "        return self._n\n",
    "\n",
    "    def is_empty(self):\n",
    "        return self._n==0\n",
    "\n",
    "    def __getitem__(self, item):\n",
    "        if not 0<=item<self._n:\n",
    "            raise ValueError('invalid index')\n",
    "        return self._A[item]\n",
    "\n",
    "    def append(self,obj):\n",
    "        if self._n == self._capacity:\n",
    "            self._resize(2*self._capacity)\n",
    "        self._A[self._n] = obj\n",
    "        self._n += 1\n",
    "\n",
    "    def _resize(self,k):\n",
    "        new = self._make_array(k)\n",
    "        for i in range(self._n):\n",
    "            new[i] = self._A[i]\n",
    "        self._A = new\n",
    "        self._capacity = k\n",
    "\n",
    "    def insert(self,k,value):\n",
    "        if self._n == self._capacity:\n",
    "            self._resize(2*self._capacity)\n",
    "        for i in range(self._n,k,-1):\n",
    "            self._A[i] = self._A[i-1]\n",
    "        self._A[k] = value\n",
    "        self._n+=1\n",
    "\n",
    "    def remove(self,value):\n",
    "        for k in range(self._n):\n",
    "            if self._A[k] == value:\n",
    "                for j in range(k,self._n-1):\n",
    "                    self._A[j] = self._A[j+1]\n",
    "                self._A[self._n-1] = None\n",
    "                self._n-=1\n",
    "                return\n",
    "        raise ValueError('value not found')\n",
    "\n",
    "    def _print(self):\n",
    "        for i in range(self._n):\n",
    "            print(self._A[i],end=' ')\n",
    "        print()\n"
   ]
  },
  {
   "cell_type": "code",
   "execution_count": 3,
   "outputs": [
    {
     "ename": "NameError",
     "evalue": "name 'DynamicArray' is not defined",
     "output_type": "error",
     "traceback": [
      "\u001B[1;31m---------------------------------------------------------------------------\u001B[0m",
      "\u001B[1;31mNameError\u001B[0m                                 Traceback (most recent call last)",
      "\u001B[1;32m<ipython-input-3-ae7db0a933d0>\u001B[0m in \u001B[0;36m<module>\u001B[1;34m\u001B[0m\n\u001B[1;32m----> 1\u001B[1;33m \u001B[0mmylist\u001B[0m \u001B[1;33m=\u001B[0m \u001B[0mDynamicArray\u001B[0m\u001B[1;33m(\u001B[0m\u001B[1;33m)\u001B[0m\u001B[1;33m\u001B[0m\u001B[1;33m\u001B[0m\u001B[0m\n\u001B[0m\u001B[0;32m      2\u001B[0m \u001B[0mprint\u001B[0m \u001B[1;33m(\u001B[0m\u001B[1;34m'size was: '\u001B[0m\u001B[1;33m,\u001B[0m \u001B[0mstr\u001B[0m\u001B[1;33m(\u001B[0m\u001B[0mlen\u001B[0m\u001B[1;33m(\u001B[0m\u001B[0mmylist\u001B[0m\u001B[1;33m)\u001B[0m\u001B[1;33m)\u001B[0m\u001B[1;33m)\u001B[0m\u001B[1;33m\u001B[0m\u001B[1;33m\u001B[0m\u001B[0m\n\u001B[0;32m      3\u001B[0m \u001B[0mmylist\u001B[0m\u001B[1;33m.\u001B[0m\u001B[0mappend\u001B[0m\u001B[1;33m(\u001B[0m\u001B[1;36m10\u001B[0m\u001B[1;33m)\u001B[0m\u001B[1;33m\u001B[0m\u001B[1;33m\u001B[0m\u001B[0m\n\u001B[0;32m      4\u001B[0m \u001B[0mmylist\u001B[0m\u001B[1;33m.\u001B[0m\u001B[0mappend\u001B[0m\u001B[1;33m(\u001B[0m\u001B[1;36m20\u001B[0m\u001B[1;33m)\u001B[0m\u001B[1;33m\u001B[0m\u001B[1;33m\u001B[0m\u001B[0m\n\u001B[0;32m      5\u001B[0m \u001B[0mmylist\u001B[0m\u001B[1;33m.\u001B[0m\u001B[0mappend\u001B[0m\u001B[1;33m(\u001B[0m\u001B[1;36m30\u001B[0m\u001B[1;33m)\u001B[0m\u001B[1;33m\u001B[0m\u001B[1;33m\u001B[0m\u001B[0m\n",
      "\u001B[1;31mNameError\u001B[0m: name 'DynamicArray' is not defined"
     ]
    }
   ],
   "source": [
    "mylist = DynamicArray()\n",
    "print ('size was: ', str(len(mylist)))\n",
    "mylist.append(10)\n",
    "mylist.append(20)\n",
    "mylist.append(30)\n",
    "mylist.insert(0, 0)\n",
    "mylist.insert(1, 5)\n",
    "mylist.insert(3, 15)\n",
    "mylist._print()\n",
    "mylist.remove(20)\n",
    "mylist._print()\n",
    "\n",
    "print ('size is: ', str(len(mylist)))\n",
    "\n"
   ],
   "metadata": {
    "collapsed": false,
    "pycharm": {
     "name": "#%%\n"
    }
   }
  }
 ],
 "metadata": {
  "kernelspec": {
   "name": "pycharm-58b31a0e",
   "language": "python",
   "display_name": "PyCharm (python-algrothm)"
  },
  "language_info": {
   "codemirror_mode": {
    "name": "ipython",
    "version": 2
   },
   "file_extension": ".py",
   "mimetype": "text/x-python",
   "name": "python",
   "nbconvert_exporter": "python",
   "pygments_lexer": "ipython2",
   "version": "2.7.6"
  }
 },
 "nbformat": 4,
 "nbformat_minor": 0
}