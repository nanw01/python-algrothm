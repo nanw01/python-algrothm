{
 "cells": [
  {
   "cell_type": "markdown",
   "metadata": {},
   "source": [
    "# Array"
   ]
  },
  {
   "cell_type": "markdown",
   "metadata": {},
   "source": [
    "##### Utility"
   ]
  },
  {
   "cell_type": "code",
   "execution_count": 3,
   "metadata": {},
   "outputs": [],
   "source": [
    "import time\n",
    "import matplotlib.pyplot as plt\n",
    "import random\n",
    "import math\n",
    "%matplotlib inline  \n",
    "\n",
    "def random_list(l):\n",
    "    return [[int(1000*random.random()) for i in range(l * n)] for n in range(1, 20)]"
   ]
  },
  {
   "cell_type": "code",
   "execution_count": null,
   "metadata": {},
   "outputs": [],
   "source": []
  },
  {
   "cell_type": "markdown",
   "metadata": {},
   "source": [
    "### Python Array"
   ]
  },
  {
   "cell_type": "markdown",
   "metadata": {},
   "source": [
    "##### Reference:\n",
    "\n",
    "https://docs.python.org/3/library/array.html\n",
    "\n",
    "The array module defines a sequence data structure that looks very much like a list except that all of the members have to be of the same type. The types supported are all numeric or other fixed-size primitive types such as bytes.\n",
    "\n",
    "<img src=\"../images/ch01/pythonarray.png\" width=\"380\" />"
   ]
  },
  {
   "cell_type": "code",
   "execution_count": 4,
   "metadata": {},
   "outputs": [
    {
     "data": {
      "text/plain": [
       "array('i', [1, 2, 3, 4])"
      ]
     },
     "execution_count": 4,
     "metadata": {},
     "output_type": "execute_result"
    }
   ],
   "source": [
    "from array import *\n",
    "\n",
    "my_array = array('i',[1,2,3,4])\n",
    "my_array"
   ]
  },
  {
   "cell_type": "code",
   "execution_count": 5,
   "metadata": {},
   "outputs": [],
   "source": [
    "s = b'This is the array.'\n",
    "a = array('b', s)"
   ]
  },
  {
   "cell_type": "code",
   "execution_count": 6,
   "metadata": {},
   "outputs": [
    {
     "data": {
      "text/plain": [
       "array('b', [84, 104, 105, 115, 32, 105, 115, 32, 116, 104, 101, 32, 97, 114, 114, 97, 121, 46])"
      ]
     },
     "execution_count": 6,
     "metadata": {},
     "output_type": "execute_result"
    }
   ],
   "source": [
    "a"
   ]
  },
  {
   "cell_type": "code",
   "execution_count": 7,
   "metadata": {},
   "outputs": [
    {
     "name": "stdout",
     "output_type": "stream",
     "text": [
      "Initial : array('i', [0, 1, 2])\n",
      "Appended : array('i', [0, 1, 2, 3])\n",
      "Extended: array('i', [0, 1, 2, 3, 0, 1, 2, 3])\n"
     ]
    }
   ],
   "source": [
    "a = array('i', range(3))\n",
    "print('Initial :', a)\n",
    "\n",
    "a.append(3)\n",
    "print('Appended :', a)\n",
    "\n",
    "a.extend(range(4))\n",
    "print('Extended:', a)"
   ]
  },
  {
   "cell_type": "code",
   "execution_count": null,
   "metadata": {},
   "outputs": [],
   "source": []
  },
  {
   "cell_type": "markdown",
   "metadata": {},
   "source": [
    "### Ex1：计算一元二次方程解\n",
    "<img src=\"../images/ch01/Ex1.jpg\" width=\"380\" align=\"left\"/>\n"
   ]
  },
  {
   "cell_type": "code",
   "execution_count": 8,
   "metadata": {},
   "outputs": [],
   "source": [
    "def solve(a, b, c):\n",
    "    ## your code starts here\n",
    "    pass"
   ]
  },
  {
   "cell_type": "code",
   "execution_count": 9,
   "metadata": {},
   "outputs": [],
   "source": [
    "solve(1, 4, 1)"
   ]
  },
  {
   "cell_type": "code",
   "execution_count": null,
   "metadata": {},
   "outputs": [],
   "source": []
  },
  {
   "cell_type": "markdown",
   "metadata": {},
   "source": [
    "### Ex2：Singing Contest\n",
    "一个歌唱比赛的歌手打分，我们设计一个程序帮助现场去掉一个最低分和一个最高分，再计算一个平均分。\n",
    "\n",
    "例如分数为: [8,9,5,10,9.5,8,7,9,9.5] 则去掉最低分 [8,9,5,10,9.5,8,9,9.5]"
   ]
  },
  {
   "cell_type": "code",
   "execution_count": 10,
   "metadata": {},
   "outputs": [
    {
     "data": {
      "text/plain": [
       "(0, 9, 0.0)"
      ]
     },
     "execution_count": 10,
     "metadata": {},
     "output_type": "execute_result"
    }
   ],
   "source": [
    "def singing_score(values):\n",
    "    start = time.time()\n",
    "    ## your code starts here\n",
    "    rst = 0\n",
    "    t = time.time() - start\n",
    "    return rst, len(values), t\n",
    "\n",
    "#Find the min and max\n",
    "#Remove it from the list.\n",
    "values =  [8,9,5,10,5,8,7,9,9.5]\n",
    "singing_score(values)"
   ]
  },
  {
   "cell_type": "code",
   "execution_count": 2,
   "metadata": {},
   "outputs": [
    {
     "ename": "NameError",
     "evalue": "name 'random_list' is not defined",
     "output_type": "error",
     "traceback": [
      "\u001b[0;31m---------------------------------------------------------------------------\u001b[0m",
      "\u001b[0;31mNameError\u001b[0m                                 Traceback (most recent call last)",
      "\u001b[0;32m<ipython-input-2-83fc0ff162ff>\u001b[0m in \u001b[0;36m<module>\u001b[0;34m\u001b[0m\n\u001b[0;32m----> 1\u001b[0;31m \u001b[0mrandom_lists\u001b[0m \u001b[0;34m=\u001b[0m \u001b[0mrandom_list\u001b[0m\u001b[0;34m(\u001b[0m\u001b[0;36m1000\u001b[0m\u001b[0;34m)\u001b[0m\u001b[0;34m\u001b[0m\u001b[0;34m\u001b[0m\u001b[0m\n\u001b[0m\u001b[1;32m      2\u001b[0m \u001b[0mrst\u001b[0m \u001b[0;34m=\u001b[0m \u001b[0;34m[\u001b[0m\u001b[0msinging_score\u001b[0m\u001b[0;34m(\u001b[0m\u001b[0ml\u001b[0m\u001b[0;34m)\u001b[0m \u001b[0;32mfor\u001b[0m \u001b[0ml\u001b[0m \u001b[0;32min\u001b[0m \u001b[0mrandom_lists\u001b[0m\u001b[0;34m]\u001b[0m\u001b[0;34m\u001b[0m\u001b[0;34m\u001b[0m\u001b[0m\n",
      "\u001b[0;31mNameError\u001b[0m: name 'random_list' is not defined"
     ]
    }
   ],
   "source": [
    "random_lists = random_list(1000)\n",
    "rst = [singing_score(l) for l in random_lists]"
   ]
  },
  {
   "cell_type": "code",
   "execution_count": null,
   "metadata": {
    "collapsed": true
   },
   "outputs": [],
   "source": [
    "x = list(zip(*rst))[1]\n",
    "y = list(zip(*rst))[2]\n",
    "\n",
    "plt.plot(x, y)"
   ]
  },
  {
   "cell_type": "code",
   "execution_count": null,
   "metadata": {
    "collapsed": true
   },
   "outputs": [],
   "source": [
    "def singing_score2(values):\n",
    "    start = time.time()\n",
    "    ## your code starts here\n",
    "            \n",
    "    rst = 0\n",
    "    t = time.time() - start\n",
    "    return rst, len(values), t"
   ]
  },
  {
   "cell_type": "code",
   "execution_count": null,
   "metadata": {
    "collapsed": true
   },
   "outputs": [],
   "source": [
    "#random_lists = random_list(1000)\n",
    "rst = [singing_score2(l) for l in random_lists]"
   ]
  },
  {
   "cell_type": "code",
   "execution_count": null,
   "metadata": {
    "collapsed": true
   },
   "outputs": [],
   "source": []
  },
  {
   "cell_type": "markdown",
   "metadata": {},
   "source": [
    "### Ex3：计算 𝜋 值\n",
    "\n",
    "#### 方法一\n",
    "\n",
    "$$\n",
    "\\frac{\\pi}{4} = 1-\\frac{1}{3}+\\frac{1}{5}-\\frac{1}{7}+\\frac{1}{9}+…\n",
    "$$"
   ]
  },
  {
   "cell_type": "code",
   "execution_count": null,
   "metadata": {
    "collapsed": true
   },
   "outputs": [],
   "source": [
    "def pi1(n):\n",
    "    ## your code starts here\n",
    "    pass"
   ]
  },
  {
   "cell_type": "code",
   "execution_count": null,
   "metadata": {
    "collapsed": true
   },
   "outputs": [],
   "source": [
    "pi1(10000)"
   ]
  },
  {
   "cell_type": "code",
   "execution_count": null,
   "metadata": {
    "collapsed": true
   },
   "outputs": [],
   "source": [
    "def pi2():\n",
    "    ## your code starts here\n",
    "    pass "
   ]
  },
  {
   "cell_type": "code",
   "execution_count": null,
   "metadata": {
    "collapsed": true
   },
   "outputs": [],
   "source": [
    "pi2()"
   ]
  },
  {
   "cell_type": "markdown",
   "metadata": {},
   "source": [
    "### 方法二: 蒙特卡洛模拟\n",
    "想象一个圆形靶子，我们不停的向靶面射击, 命名圆内的我们算是“击中 也就是 $x^2 + y^2 ≤ 1$.<br/>\n",
    "假如我们不停的射击，直到我们把这个方形的靶子全部覆盖(打成了骰子)<br/>\n",
    "圆的面积应该是$$ S_{circle} = \\pi r^2 $$\n",
    "方形的面积应该是$$ S_{square} = a^2 $$\n",
    "也就是说 $$ S_{circle} /  S_{square} = \\pi r^2 / a^2$$\n",
    "$$ r = 1, a =2 $$\n",
    "hits / tries is approximately equal to the ratio of the areas\n",
    "of the circle\n",
    "那么$$ S_{circle} /  S_{square} = \\pi / 4$$\n",
    "那么预估的$$\\pi = 4 \\times (S_{circle} /  S_{square})$$\n",
    "<img src=\"../images/ch01/ex3.png\" width=\"280\"/>"
   ]
  },
  {
   "cell_type": "code",
   "execution_count": null,
   "metadata": {
    "collapsed": true
   },
   "outputs": [],
   "source": [
    "from random import random\n",
    "\n",
    "def pi3(TRIES):\n",
    "    ## your code starts here\n",
    "    pass\n"
   ]
  },
  {
   "cell_type": "code",
   "execution_count": null,
   "metadata": {
    "collapsed": true
   },
   "outputs": [],
   "source": [
    "pi3(10000000)"
   ]
  },
  {
   "cell_type": "code",
   "execution_count": null,
   "metadata": {
    "collapsed": true
   },
   "outputs": [],
   "source": []
  },
  {
   "cell_type": "markdown",
   "metadata": {},
   "source": [
    "### Ex4：乘法口诀表\n",
    "\n",
    "<img src=\"../images/ch01/ex4.png\" width=\"480\"/>"
   ]
  },
  {
   "cell_type": "code",
   "execution_count": null,
   "metadata": {
    "collapsed": true
   },
   "outputs": [],
   "source": [
    "def mults():\n",
    "    ## your code starts here\n",
    "    pass      "
   ]
  },
  {
   "cell_type": "code",
   "execution_count": null,
   "metadata": {
    "collapsed": true
   },
   "outputs": [],
   "source": [
    "mults()"
   ]
  },
  {
   "cell_type": "code",
   "execution_count": null,
   "metadata": {
    "collapsed": true
   },
   "outputs": [],
   "source": []
  },
  {
   "cell_type": "markdown",
   "metadata": {},
   "source": [
    "### Ex5：洗牌\n",
    "\n",
    "洗牌后的每个元素随机出现在每个位置，且<B><I>概率相同</I></B>"
   ]
  },
  {
   "cell_type": "code",
   "execution_count": 13,
   "metadata": {
    "collapsed": true
   },
   "outputs": [],
   "source": [
    "import random\n",
    "def shuffle_system(cards):\n",
    "    random.shuffle(cards)     "
   ]
  },
  {
   "cell_type": "code",
   "execution_count": 4,
   "metadata": {
    "collapsed": true
   },
   "outputs": [],
   "source": [
    "def shuffle_1st(cards):\n",
    "    for k in range(len(cards)):\n",
    "        i = random.randint(0, len(cards) - 1)\n",
    "        j = random.randint(0, len(cards) - 1)\n",
    "        cards[i], cards[j] = cards[j], cards[i]"
   ]
  },
  {
   "cell_type": "code",
   "execution_count": 20,
   "metadata": {
    "collapsed": true
   },
   "outputs": [],
   "source": [
    "def shuffle_2nd(cards):\n",
    "    for k in range(len(cards)):\n",
    "        i = random.randint(0, len(cards) - 1)\n",
    "        cards[i], cards[k] = cards[k], cards[i]"
   ]
  },
  {
   "cell_type": "code",
   "execution_count": 8,
   "metadata": {},
   "outputs": [],
   "source": [
    "def shuffle_correct(cards):\n",
    "    ## your code starts here\n",
    "    for i in range(len(cards)):\n",
    "        randomi = i + random.randint(0,(len(cards)-i-1))\n",
    "        cards[i],cards[randomi] = cards[randomi],cards[i]\n",
    "    pass"
   ]
  },
  {
   "cell_type": "code",
   "execution_count": 5,
   "metadata": {},
   "outputs": [
    {
     "data": {
      "text/plain": [
       "[0, 1, 2, 3, 4, 5, 6, 7, 8, 9]"
      ]
     },
     "execution_count": 5,
     "metadata": {},
     "output_type": "execute_result"
    }
   ],
   "source": [
    "A = [i for i in range(0, 10)]\n",
    "A"
   ]
  },
  {
   "cell_type": "code",
   "execution_count": 10,
   "metadata": {},
   "outputs": [
    {
     "data": {
      "text/plain": [
       "[8, 6, 1, 7, 9, 2, 5, 4, 0, 3]"
      ]
     },
     "execution_count": 10,
     "metadata": {},
     "output_type": "execute_result"
    }
   ],
   "source": [
    "shuffle_1st(A)\n",
    "A"
   ]
  },
  {
   "cell_type": "code",
   "execution_count": 12,
   "metadata": {
    "collapsed": true
   },
   "outputs": [],
   "source": [
    "shuffle_system(A)"
   ]
  },
  {
   "cell_type": "code",
   "execution_count": null,
   "metadata": {
    "collapsed": true
   },
   "outputs": [],
   "source": [
    "A"
   ]
  },
  {
   "cell_type": "code",
   "execution_count": 10,
   "metadata": {},
   "outputs": [],
   "source": [
    "def test_shuffle(f):\n",
    "    result = [[0 for i in range(10)] for j in range(10)]\n",
    "\n",
    "    for i in range(10000):\n",
    "        A = [i for i in range(0, 10)]\n",
    "        f(A)\n",
    "        for j in range(len(A)):\n",
    "            result[A[j]][j] += 1\n",
    "        \n",
    "    print('\\n'.join([''.join(['{:6}'.format(item) for item in row]) \n",
    "          for row in result]))"
   ]
  },
  {
   "cell_type": "code",
   "execution_count": 11,
   "metadata": {},
   "outputs": [
    {
     "ename": "NameError",
     "evalue": "name 'shuffle_system' is not defined",
     "output_type": "error",
     "traceback": [
      "\u001b[0;31m---------------------------------------------------------------------------\u001b[0m",
      "\u001b[0;31mNameError\u001b[0m                                 Traceback (most recent call last)",
      "\u001b[0;32m<ipython-input-11-2618fd7bbce7>\u001b[0m in \u001b[0;36m<module>\u001b[0;34m\u001b[0m\n\u001b[0;32m----> 1\u001b[0;31m \u001b[0mtest_shuffle\u001b[0m\u001b[0;34m(\u001b[0m\u001b[0mshuffle_system\u001b[0m\u001b[0;34m)\u001b[0m\u001b[0;34m\u001b[0m\u001b[0;34m\u001b[0m\u001b[0m\n\u001b[0m",
      "\u001b[0;31mNameError\u001b[0m: name 'shuffle_system' is not defined"
     ]
    }
   ],
   "source": [
    "test_shuffle(shuffle_system)"
   ]
  },
  {
   "cell_type": "code",
   "execution_count": 12,
   "metadata": {},
   "outputs": [
    {
     "name": "stdout",
     "output_type": "stream",
     "text": [
      "   913   970  1005   967   965  1026  1060  1064  1006  1024\n",
      "   959  1008   991  1033   996  1008   992  1022  1039   952\n",
      "  1018  1063   959   946  1045  1018   965   994   962  1030\n",
      "  1006  1026  1014  1000  1014   967   956   991  1004  1022\n",
      "   974   950  1022  1006   975  1027  1023   980  1005  1038\n",
      "  1017  1010  1008  1087   960   990   968   986   984   990\n",
      "  1025   980  1010  1010  1012  1016   990   979  1028   950\n",
      "  1055  1004  1004   987  1012   921  1011  1023   982  1001\n",
      "  1002   991   995   966  1024  1023   969   997  1030  1003\n",
      "  1031   998   992   998   997  1004  1066   964   960   990\n"
     ]
    }
   ],
   "source": [
    "test_shuffle(shuffle_correct)"
   ]
  },
  {
   "cell_type": "code",
   "execution_count": 13,
   "metadata": {},
   "outputs": [
    {
     "ename": "NameError",
     "evalue": "name 'shuffle_1st' is not defined",
     "output_type": "error",
     "traceback": [
      "\u001b[0;31m---------------------------------------------------------------------------\u001b[0m",
      "\u001b[0;31mNameError\u001b[0m                                 Traceback (most recent call last)",
      "\u001b[0;32m<ipython-input-13-dc973d00f380>\u001b[0m in \u001b[0;36m<module>\u001b[0;34m\u001b[0m\n\u001b[0;32m----> 1\u001b[0;31m \u001b[0mtest_shuffle\u001b[0m\u001b[0;34m(\u001b[0m\u001b[0mshuffle_1st\u001b[0m\u001b[0;34m)\u001b[0m\u001b[0;34m\u001b[0m\u001b[0;34m\u001b[0m\u001b[0m\n\u001b[0m",
      "\u001b[0;31mNameError\u001b[0m: name 'shuffle_1st' is not defined"
     ]
    }
   ],
   "source": [
    "test_shuffle(shuffle_1st)"
   ]
  },
  {
   "cell_type": "code",
   "execution_count": 21,
   "metadata": {},
   "outputs": [
    {
     "name": "stdout",
     "output_type": "stream",
     "text": [
      "   907  1025  1001  1022  1015   982  1005  1004   994  1045\n",
      "  1310   905   953   967   914  1025   969   967   968  1022\n",
      "  1275  1254   884   917   908   957   863   993   963   986\n",
      "  1097  1200  1192   827   897   846   908  1010  1004  1019\n",
      "  1047  1082  1161  1198   870   836   916   929  1006   955\n",
      "   997  1008  1041  1093  1179   926   919   927   960   950\n",
      "   913  1005   994  1078  1061  1176   881   905   963  1024\n",
      "   848   947   983  1007  1091  1114  1213   874   930   993\n",
      "   820   790   947   982  1040  1067  1190  1221   934  1009\n",
      "   786   784   844   909  1025  1071  1136  1170  1278   997\n"
     ]
    }
   ],
   "source": [
    "test_shuffle(shuffle_2nd)"
   ]
  },
  {
   "cell_type": "markdown",
   "metadata": {},
   "source": [
    "<img src=\"../images/ch01/shuffle2.png\" width=\"560\"/>"
   ]
  },
  {
   "cell_type": "markdown",
   "metadata": {},
   "source": [
    "### Ex6：Coupon Collector\n",
    "\n",
    "Suppose that you have a shuffled deck of cards and you turn them face up, one by one. How many cards do you need to turn up before you have seen one of each suit? Given N distinct card types, how many random cards do you need do collect before you have (at least) one of each type? \n"
   ]
  },
  {
   "cell_type": "code",
   "execution_count": null,
   "metadata": {
    "collapsed": true
   },
   "outputs": [],
   "source": [
    "def coupon(n):\n",
    "    ## your code starts here\n",
    "    pass\n",
    "    \n",
    "coupon(100000)"
   ]
  },
  {
   "cell_type": "code",
   "execution_count": null,
   "metadata": {
    "collapsed": true
   },
   "outputs": [],
   "source": []
  },
  {
   "cell_type": "markdown",
   "metadata": {},
   "source": [
    "### Ex7：数质数\n",
    "\n",
    "给定一个正整数n，计算出小于等于n的质数有多少个。\n",
    "比如17，则返回7，因为小于等于7的质数有2，3，5，7，13，17"
   ]
  },
  {
   "cell_type": "code",
   "execution_count": 18,
   "metadata": {},
   "outputs": [],
   "source": [
    "def count_prime(n):\n",
    "    ## your code starts here\n",
    "\n",
    "    prime_array = [True] * (n+1) # 创建一个n+1 长度的列表\n",
    "    i = 2\n",
    "    while (i * i <= n):\n",
    "        if (prime_array[i]):\n",
    "            j = i\n",
    "            while (i * j <= n):\n",
    "                prime_array[i * j] = False\n",
    "                j = j + 1\n",
    "        i = i+1\n",
    "        \n",
    "    count = 0\n",
    "    for i in range(2,n+1):\n",
    "        if (prime_array[i]):\n",
    "            count = count + 1\n",
    "            print(i,end=\" \")\n",
    "    return count       "
   ]
  },
  {
   "cell_type": "code",
   "execution_count": 19,
   "metadata": {},
   "outputs": [
    {
     "name": "stdout",
     "output_type": "stream",
     "text": [
      "2 3 5 7 11 13 17 19 23 29 31 37 41 43 47 53 59 61 67 71 73 79 83 89 97 "
     ]
    },
    {
     "data": {
      "text/plain": [
       "25"
      ]
     },
     "execution_count": 19,
     "metadata": {},
     "output_type": "execute_result"
    }
   ],
   "source": [
    "count_prime(100)"
   ]
  },
  {
   "cell_type": "code",
   "execution_count": null,
   "metadata": {
    "collapsed": true
   },
   "outputs": [],
   "source": []
  },
  {
   "cell_type": "markdown",
   "metadata": {},
   "source": [
    "### Ex8：哥德巴赫猜想\n",
    "任一大于2的偶数，都可表示成两个质数之和。\n"
   ]
  },
  {
   "cell_type": "code",
   "execution_count": null,
   "metadata": {
    "collapsed": true
   },
   "outputs": [],
   "source": [
    "def goldbach(n):\n",
    "    ## your code starts here\n",
    "    \n",
    "    \n",
    "    \n",
    "    \n",
    "    \n",
    "    \n",
    "    \n",
    "    pass"
   ]
  },
  {
   "cell_type": "code",
   "execution_count": null,
   "metadata": {
    "collapsed": true
   },
   "outputs": [],
   "source": [
    "goldbach(100)"
   ]
  },
  {
   "cell_type": "code",
   "execution_count": null,
   "metadata": {
    "collapsed": true
   },
   "outputs": [],
   "source": []
  },
  {
   "cell_type": "markdown",
   "metadata": {},
   "source": [
    "### Ex9：1-bit and 2-bit Characters\n",
    "\n",
    "We have two special characters. The first character can be represented by one bit 0. The second character can be represented by two bits (10 or 11).\n",
    "\n",
    "Now given a string represented by several bits. Return whether the last character must be a one-bit character or not. The given string will always end with a zero.\n",
    "\n",
    "Example 1:\n",
    "\n",
    "Input: bits = [1, 0, 0] \n",
    "\n",
    "Output: True \n",
    "\n",
    "Explanation: The only way to decode it is two-bit character and one-bit character. So the last character is one-bit character. \n",
    "\n",
    "Example 2:\n",
    "\n",
    "Input: bits = [1, 1, 1, 0] \n",
    "\n",
    "Output: False \n",
    "\n",
    "Explanation: The only way to decode it is two-bit character and two-bit character. So the last character is NOT one-bit character. "
   ]
  },
  {
   "cell_type": "code",
   "execution_count": null,
   "metadata": {
    "collapsed": true
   },
   "outputs": [],
   "source": [
    "def oneEnd(bits):\n",
    "    pass"
   ]
  },
  {
   "cell_type": "code",
   "execution_count": null,
   "metadata": {
    "collapsed": true
   },
   "outputs": [],
   "source": [
    "bits = [1,0,0]\n",
    "print(oneEnd(bits))\n",
    "bits = [1, 1, 1, 0]\n",
    "print(oneEnd(bits))"
   ]
  },
  {
   "cell_type": "code",
   "execution_count": null,
   "metadata": {
    "collapsed": true
   },
   "outputs": [],
   "source": []
  }
 ],
 "metadata": {
  "kernelspec": {
   "display_name": "Python 3",
   "language": "python",
   "name": "python3"
  },
  "language_info": {
   "codemirror_mode": {
    "name": "ipython",
    "version": 3
   },
   "file_extension": ".py",
   "mimetype": "text/x-python",
   "name": "python",
   "nbconvert_exporter": "python",
   "pygments_lexer": "ipython3",
   "version": "3.8.3"
  },
  "toc": {
   "base_numbering": 1,
   "nav_menu": {},
   "number_sections": true,
   "sideBar": true,
   "skip_h1_title": false,
   "title_cell": "Table of Contents",
   "title_sidebar": "Contents",
   "toc_cell": false,
   "toc_position": {},
   "toc_section_display": true,
   "toc_window_display": false
  },
  "varInspector": {
   "cols": {
    "lenName": 16,
    "lenType": 16,
    "lenVar": 40
   },
   "kernels_config": {
    "python": {
     "delete_cmd_postfix": "",
     "delete_cmd_prefix": "del ",
     "library": "var_list.py",
     "varRefreshCmd": "print(var_dic_list())"
    },
    "r": {
     "delete_cmd_postfix": ") ",
     "delete_cmd_prefix": "rm(",
     "library": "var_list.r",
     "varRefreshCmd": "cat(var_dic_list()) "
    }
   },
   "types_to_exclude": [
    "module",
    "function",
    "builtin_function_or_method",
    "instance",
    "_Feature"
   ],
   "window_display": false
  }
 },
 "nbformat": 4,
 "nbformat_minor": 2
}
