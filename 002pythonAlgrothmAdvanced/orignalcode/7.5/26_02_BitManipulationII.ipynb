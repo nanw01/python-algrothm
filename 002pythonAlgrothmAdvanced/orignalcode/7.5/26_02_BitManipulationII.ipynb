{
 "cells": [
  {
   "cell_type": "markdown",
   "metadata": {
    "run_control": {
     "frozen": false,
     "read_only": false
    }
   },
   "source": [
    "# Bit Manipulation"
   ]
  },
  {
   "cell_type": "markdown",
   "metadata": {},
   "source": [
    "** Ex.11 Compute the integer absolute value (abs) without branching **\n",
    "\n",
    "where n is the bit number, and 0 is the least significant bit"
   ]
  },
  {
   "cell_type": "code",
   "execution_count": 60,
   "metadata": {
    "collapsed": true
   },
   "outputs": [],
   "source": [
    "def absoluteA(a):\n",
    "    mask = a >> 31\n",
    "    result = (a + mask) ^ mask\n",
    "    return result"
   ]
  },
  {
   "cell_type": "code",
   "execution_count": 61,
   "metadata": {},
   "outputs": [
    {
     "name": "stdout",
     "output_type": "stream",
     "text": [
      "0\n",
      "5\n",
      "5\n"
     ]
    }
   ],
   "source": [
    "print(absoluteA(0))\n",
    "print(absoluteA(5))\n",
    "print(absoluteA(-5))"
   ]
  },
  {
   "cell_type": "code",
   "execution_count": 4,
   "metadata": {
    "collapsed": true
   },
   "outputs": [],
   "source": [
    "def absoluteB(a):\n",
    "    mask = a >> 31\n",
    "    result = (a ^ mask) - mask\n",
    "    return result"
   ]
  },
  {
   "cell_type": "code",
   "execution_count": 5,
   "metadata": {},
   "outputs": [
    {
     "name": "stdout",
     "output_type": "stream",
     "text": [
      "0\n",
      "5\n",
      "5\n"
     ]
    }
   ],
   "source": [
    "print(absoluteB(0))\n",
    "print(absoluteB(5))\n",
    "print(absoluteB(-5))"
   ]
  },
  {
   "cell_type": "markdown",
   "metadata": {},
   "source": [
    "** Ex.12 In-Place Integer Swap **"
   ]
  },
  {
   "cell_type": "code",
   "execution_count": 12,
   "metadata": {
    "collapsed": true
   },
   "outputs": [],
   "source": [
    "def swap1(a, b):\n",
    "    a, b = b, a\n",
    "    print(a, b)"
   ]
  },
  {
   "cell_type": "code",
   "execution_count": 13,
   "metadata": {},
   "outputs": [
    {
     "name": "stdout",
     "output_type": "stream",
     "text": [
      "10 5\n"
     ]
    }
   ],
   "source": [
    "a, b = 5, 10\n",
    "swap1(a,b)"
   ]
  },
  {
   "cell_type": "code",
   "execution_count": 14,
   "metadata": {
    "collapsed": true
   },
   "outputs": [],
   "source": [
    "def swap2(a, b):\n",
    "    a = b - a\n",
    "    b = b - a\n",
    "    a = a + b\n",
    "    print(a, b)"
   ]
  },
  {
   "cell_type": "code",
   "execution_count": 15,
   "metadata": {},
   "outputs": [
    {
     "name": "stdout",
     "output_type": "stream",
     "text": [
      "10 5\n"
     ]
    }
   ],
   "source": [
    "a, b = 5, 10\n",
    "swap2(a,b)"
   ]
  },
  {
   "cell_type": "code",
   "execution_count": 16,
   "metadata": {
    "collapsed": true
   },
   "outputs": [],
   "source": [
    "def swap3(a, b):\n",
    "    a = a ^ b\n",
    "    b = a ^ b\n",
    "    a = a ^ b\n",
    "    print(a, b)"
   ]
  },
  {
   "cell_type": "code",
   "execution_count": 17,
   "metadata": {},
   "outputs": [
    {
     "name": "stdout",
     "output_type": "stream",
     "text": [
      "10 5\n"
     ]
    }
   ],
   "source": [
    "a, b = 5, 10\n",
    "swap3(a,b)"
   ]
  },
  {
   "cell_type": "markdown",
   "metadata": {},
   "source": [
    "** Ex.13 Convert Integer A to Integer B **\n",
    "\n",
    "Count the number of bits required to convert an integer A to integer B."
   ]
  },
  {
   "cell_type": "code",
   "execution_count": 23,
   "metadata": {
    "collapsed": true
   },
   "outputs": [],
   "source": [
    "def convertA2B(a, b):\n",
    "    count = 0\n",
    "    c = a ^ b\n",
    "    while (c != 0):\n",
    "        c = c & (c - 1)\n",
    "        count += 1\n",
    "    return count"
   ]
  },
  {
   "cell_type": "code",
   "execution_count": 25,
   "metadata": {},
   "outputs": [
    {
     "name": "stdout",
     "output_type": "stream",
     "text": [
      "0b101\n",
      "0b1010\n",
      "4\n"
     ]
    }
   ],
   "source": [
    "a, b = 5, 10\n",
    "print(bin(a))\n",
    "print(bin(b))\n",
    "print(convertA2B(a, b))"
   ]
  },
  {
   "cell_type": "code",
   "execution_count": null,
   "metadata": {
    "collapsed": true
   },
   "outputs": [],
   "source": []
  },
  {
   "cell_type": "markdown",
   "metadata": {},
   "source": [
    "** Ex.14 Amazing Mask **\n",
    "\n",
    "You are given two 32-bit numbers, N and M, and two bit positions, i and j. Write a method to set all bits between i and j in N equal to M (e.g., M becomes a substring of N located at i and starting at j).\n",
    "\n",
    "EXAMPLE:\n",
    "\n",
    "Input:  N = 1000 00000 00, M = 10101, i = 2, j = 6\n",
    "\n",
    "Output: N = 1000 10101 00\n",
    "\n"
   ]
  },
  {
   "cell_type": "code",
   "execution_count": 26,
   "metadata": {
    "collapsed": true
   },
   "outputs": [],
   "source": [
    "def amazingMask(n, m, i, j):\n",
    "    allOne = ~0\n",
    "    left = allOne - ((1<<(j+1))-1)\n",
    "    right = (1<<i)-1\n",
    "    mask = left | right\n",
    "\n",
    "    return (n & mask) | (m << i)\n",
    "    "
   ]
  },
  {
   "cell_type": "code",
   "execution_count": 29,
   "metadata": {},
   "outputs": [
    {
     "name": "stdout",
     "output_type": "stream",
     "text": [
      "0b10000000000\n",
      "0b10101\n",
      "0b10001010100\n"
     ]
    }
   ],
   "source": [
    "n = 1024\n",
    "m = 21\n",
    "i, j = 2, 6\n",
    "r = amazingMask(n, m, i, j)\n",
    "print(bin(n))\n",
    "print(bin(m))\n",
    "print(bin(r))"
   ]
  },
  {
   "cell_type": "code",
   "execution_count": null,
   "metadata": {
    "collapsed": true
   },
   "outputs": [],
   "source": []
  },
  {
   "cell_type": "markdown",
   "metadata": {},
   "source": [
    "** Ex.15 Bit Pattern Palindrome of an Integer **\n",
    "\n",
    "Following example tells if the bit pattern of an integer is a palindrome or not. It first saves the integer to bitset, and the compare (xor) the bit pattern starting from both ends.\n",
    "\n",
    "Example:\n",
    "\n",
    "10000000000000000000000000000001\n",
    "\n",
    "palindrome: 1\n",
    "\n",
    "10000000000000000000000000000010\n",
    "\n",
    "palindrome: 0\n",
    "\n",
    "01000000000000000000000000000010\n",
    "\n",
    "palindrome: 1\n",
    "\n",
    "00000100000000000000100000000000\n",
    "\n",
    "palindrome: 0\n"
   ]
  },
  {
   "cell_type": "code",
   "execution_count": 30,
   "metadata": {
    "collapsed": true
   },
   "outputs": [],
   "source": [
    "def bitPalindrome(s):\n",
    "    for i in range(len(s)//2):\n",
    "        if (int(s[i]) ^ int(s[-1-i]) == 1):\n",
    "            return False\n",
    "    return True"
   ]
  },
  {
   "cell_type": "code",
   "execution_count": 38,
   "metadata": {},
   "outputs": [
    {
     "name": "stdout",
     "output_type": "stream",
     "text": [
      "True\n",
      "True\n",
      "False\n",
      "True\n",
      "True\n",
      "False\n",
      "True\n"
     ]
    }
   ],
   "source": [
    "s = \"\"\n",
    "print(bitPalindrome(s))\n",
    "s = \"1\"\n",
    "print(bitPalindrome(s))\n",
    "s = \"10\"\n",
    "print(bitPalindrome(s))\n",
    "s = \"101\"\n",
    "print(bitPalindrome(s))\n",
    "s = \"1001\"\n",
    "print(bitPalindrome(s))\n",
    "s = \"00000100000000000000100000000000\"\n",
    "print(bitPalindrome(s))\n",
    "s = \"01000000000000000000000000000010\"\n",
    "print(bitPalindrome(s))"
   ]
  },
  {
   "cell_type": "code",
   "execution_count": null,
   "metadata": {
    "collapsed": true
   },
   "outputs": [],
   "source": []
  },
  {
   "cell_type": "markdown",
   "metadata": {},
   "source": [
    "** Ex.16 Add without Arithmetic Operators **\n",
    "\n",
    "Write a function that adds two numbers. You should not use + or any arithmetic operators."
   ]
  },
  {
   "cell_type": "code",
   "execution_count": 45,
   "metadata": {
    "collapsed": true
   },
   "outputs": [],
   "source": [
    "def add(a, b):\n",
    "    if b == 0:\n",
    "        return a\n",
    "    sum = a ^ b\n",
    "    carry = (a & b) << 1\n",
    "    return add(sum, carry)"
   ]
  },
  {
   "cell_type": "code",
   "execution_count": 46,
   "metadata": {},
   "outputs": [
    {
     "data": {
      "text/plain": [
       "1433"
      ]
     },
     "execution_count": 46,
     "metadata": {},
     "output_type": "execute_result"
    }
   ],
   "source": [
    "a, b = 759, 674\n",
    "add(a, b)"
   ]
  },
  {
   "cell_type": "code",
   "execution_count": null,
   "metadata": {
    "collapsed": true
   },
   "outputs": [],
   "source": []
  },
  {
   "cell_type": "markdown",
   "metadata": {},
   "source": [
    "** Ex.17 Find Missing Number **\n",
    "\n",
    "You are given a list of n-1 integers and these integers are in the range of 1 to n. There are no duplicates in list. One of the integers is missing in the list. Write an efficient code to find the missing integer."
   ]
  },
  {
   "cell_type": "markdown",
   "metadata": {},
   "source": [
    "1. Use Sum Formula\n",
    "\n",
    "2. Sort\n",
    "\n",
    "3. Count Sort\n",
    "\n",
    "4. Use XOR"
   ]
  },
  {
   "cell_type": "code",
   "execution_count": null,
   "metadata": {
    "collapsed": true
   },
   "outputs": [],
   "source": []
  },
  {
   "cell_type": "markdown",
   "metadata": {},
   "source": [
    "** Ex.18 Find Missing Number II **\n",
    "\n",
    "Given an unsorted array of size n. Array elements are in range from 1 to n. One number from set {1, 2, …n} is missing and one number occurs twice in array. Find these two numbers."
   ]
  },
  {
   "cell_type": "markdown",
   "metadata": {},
   "source": [
    "1. Sort\n",
    "\n",
    "2. Count Sort\n",
    "\n",
    "3. Marker"
   ]
  },
  {
   "cell_type": "code",
   "execution_count": 9,
   "metadata": {},
   "outputs": [
    {
     "name": "stdout",
     "output_type": "stream",
     "text": [
      "The repeating element is 5\n",
      "and the missing element is 1\n"
     ]
    }
   ],
   "source": [
    "# Traverse the array. \n",
    "# While traversing, use absolute value of every element as index \n",
    "# and make the value at this index as negative to mark it visited. \n",
    "# If something is already marked negative then this is the repeating element. \n",
    "# To find missing, traverse the array again and look for a positive value.\n",
    "def printTwoElements(arr):\n",
    "    for i in range(len(arr)):\n",
    "        if arr[abs(arr[i]) - 1] > 0:\n",
    "            arr[abs(arr[i]) - 1] = -arr[abs(arr[i]) - 1]\n",
    "        else:\n",
    "            print(\"The repeating element is\", abs(arr[i]))\n",
    "             \n",
    "    for i in range(len(arr)):\n",
    "        if arr[i] > 0:\n",
    "            print(\"and the missing element is\", i + 1)\n",
    " \n",
    "arr = [7, 3, 4, 5, 5, 6, 2]\n",
    "n = len(arr)\n",
    "printTwoElements(arr)"
   ]
  },
  {
   "cell_type": "markdown",
   "metadata": {},
   "source": [
    "4. Equations"
   ]
  },
  {
   "cell_type": "code",
   "execution_count": null,
   "metadata": {
    "collapsed": true
   },
   "outputs": [],
   "source": []
  },
  {
   "cell_type": "code",
   "execution_count": null,
   "metadata": {
    "collapsed": true
   },
   "outputs": [],
   "source": []
  },
  {
   "cell_type": "markdown",
   "metadata": {},
   "source": [
    "** Ex.21 Next Smallest/Largest Integer with Same Number of 1 Bits  **\n",
    "\n",
    "Given an integer, print the next smallest and next largest number that have the same number of 1 bits in their binary representation."
   ]
  },
  {
   "cell_type": "code",
   "execution_count": 51,
   "metadata": {
    "collapsed": true
   },
   "outputs": [],
   "source": [
    "def getBit(n, index):\n",
    "    return ((n & (1<<index))>0)\n",
    "\n",
    "def setBit(n, index, b):\n",
    "    if b:\n",
    "        return n | (1<<index)\n",
    "    else:\n",
    "        return n & (~(1<<index))\n",
    "\n",
    "def getNext(n):\n",
    "    if n <= 0: \n",
    "        return -1\n",
    "\n",
    "    index = 0\n",
    "    countOnes = 0\n",
    "\n",
    "    # Find first one.\n",
    "    while (not getBit(n, index)):\n",
    "        index += 1\n",
    "\n",
    "    # turn on next zero\n",
    "    while( getBit(n, index) ):\n",
    "        index += 1\n",
    "        countOnes += 1\n",
    "    \n",
    "    n = setBit(n, index, True)\n",
    "\n",
    "    # turn off previous one \n",
    "    index -= 1\n",
    "    n = setBit(n, index, False)\n",
    "    countOnes -= 1\n",
    "\n",
    "    # set zeros\n",
    "    i = index - 1\n",
    "    while (i >= countOnes):\n",
    "        n = setBit(n, i, False)\n",
    "        i -= 1\n",
    "\n",
    "    # set ones\n",
    "    i = countOnes - 1\n",
    "    while (i >= 0):\n",
    "        n = setBit(n, i, True)\n",
    "        i -= 1\n",
    "\n",
    "    return n"
   ]
  },
  {
   "cell_type": "code",
   "execution_count": 55,
   "metadata": {},
   "outputs": [
    {
     "name": "stdout",
     "output_type": "stream",
     "text": [
      "0b111110100\n",
      "0b111111000\n"
     ]
    }
   ],
   "source": [
    "n = 500\n",
    "r = getNext(n)\n",
    "print(bin(n))\n",
    "print(bin(r))"
   ]
  },
  {
   "cell_type": "code",
   "execution_count": 58,
   "metadata": {
    "collapsed": true
   },
   "outputs": [],
   "source": [
    "def getPrevious(n):\n",
    "    if (n <= 0):\n",
    "        return -1\n",
    "\n",
    "    index = 0\n",
    "    countZeros = 0\n",
    "\n",
    "    # find first zero\n",
    "    while( getBit(n, index) ):\n",
    "        index += 1\n",
    "\n",
    "    # turn off next 1\n",
    "    while( not (getBit(n, index)) ):\n",
    "        index += 1\n",
    "        countZeros += 1\n",
    "    \n",
    "    n = setBit(n, index, False)\n",
    "\n",
    "    # turn on previous zero\n",
    "    index -= 1\n",
    "    n = setBit(n, index, True)\n",
    "    countZeros -= 1\n",
    "\n",
    "    # set ones\n",
    "    i = index - 1\n",
    "    while (i >= countZeros):\n",
    "        n = setBit(n, i, True)\n",
    "        i -= 1\n",
    "\n",
    "    # set zeros\n",
    "    i = countZeros - 1\n",
    "    while (i >= 0):\n",
    "        n = setBit(n, i, False)\n",
    "        i -= 1\n",
    "    \n",
    "    return n"
   ]
  },
  {
   "cell_type": "code",
   "execution_count": 59,
   "metadata": {},
   "outputs": [
    {
     "name": "stdout",
     "output_type": "stream",
     "text": [
      "0b111110100\n",
      "0b111110010\n"
     ]
    }
   ],
   "source": [
    "n = 500\n",
    "r = getPrevious(n)\n",
    "print(bin(n))\n",
    "print(bin(r))"
   ]
  },
  {
   "cell_type": "code",
   "execution_count": null,
   "metadata": {
    "collapsed": true
   },
   "outputs": [],
   "source": []
  }
 ],
 "metadata": {
  "kernelspec": {
   "display_name": "Python 3",
   "language": "python",
   "name": "python3"
  },
  "language_info": {
   "codemirror_mode": {
    "name": "ipython",
    "version": 3
   },
   "file_extension": ".py",
   "mimetype": "text/x-python",
   "name": "python",
   "nbconvert_exporter": "python",
   "pygments_lexer": "ipython3",
   "version": "3.6.1"
  }
 },
 "nbformat": 4,
 "nbformat_minor": 2
}
