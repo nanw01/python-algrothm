{
 "cells": [
  {
   "cell_type": "markdown",
   "metadata": {},
   "source": [
    "# Dijkstra Algorithm #"
   ]
  },
  {
   "cell_type": "code",
   "execution_count": null,
   "metadata": {
    "collapsed": true
   },
   "outputs": [],
   "source": [
    "from AdjListGraph import Graph\n",
    "from AdjListGraph import Vertex"
   ]
  },
  {
   "cell_type": "code",
   "execution_count": 6,
   "metadata": {},
   "outputs": [],
   "source": [
    "def topologicalSort(G):\n",
    "    \"\"\"Perform a topological sort of the nodes. If the graph has a cycle,\n",
    "    throw a GraphTopologicalException with the list of successfully\n",
    "    ordered nodes.\"\"\"\n",
    "    # topologically sorted list of the nodes (result)\n",
    "    topologicalList = []\n",
    "    # queue (fifo list) of the nodes with inDegree 0\n",
    "    topologicalQueue = []\n",
    "    # {node: inDegree} for the remaining nodes (those with inDegree>0)\n",
    "    remainingInDegree = {}\n",
    "\n",
    "    nodes = G.getVertices()\n",
    "    for v in G:\n",
    "        indegree = v.getInDegree()\n",
    "        if indegree == 0:\n",
    "            topologicalQueue.append(v)\n",
    "        else:\n",
    "            remainingInDegree[v] = indegree\n",
    "\n",
    "    # remove nodes with inDegree 0 and decrease the inDegree of their sons\n",
    "    while len(topologicalQueue):\n",
    "        # remove the first node with degree 0\n",
    "        node = topologicalQueue.pop(0)\n",
    "        topologicalList.append(node)\n",
    "        # decrease the inDegree of the sons\n",
    "        for son in node.getConnections():\n",
    "            son.setInDegree(son.getInDegree() - 1)\n",
    "            if son.getInDegree() == 0:\n",
    "                topologicalQueue.append(son)\n",
    "\n",
    "    # if not all nodes were covered, the graph must have a cycle\n",
    "    # raise a GraphTopographicalException\n",
    "    if len(topologicalList) != len(nodes):\n",
    "        raise ValueError(topologicalList)\n",
    "\n",
    "    # Printing the topological order    \n",
    "    while len(topologicalList):\n",
    "        node = topologicalList.pop(0)\n",
    "        print(node.getVertexID())"
   ]
  },
  {
   "cell_type": "code",
   "execution_count": 8,
   "metadata": {},
   "outputs": [
    {
     "name": "stdout",
     "output_type": "stream",
     "text": [
      "Graph data:\n",
      "[('A', 'B', 0), ('A', 'C', 0), ('A', 'G', 0), ('A', 'E', 0), ('B', 'C', 0), ('C', 'G', 0), ('D', 'E', 0), ('D', 'F', 0), ('E', 'H', 0), ('F', 'H', 0), ('H', 'I', 0)]\n",
      "A\n",
      "D\n",
      "B\n",
      "E\n",
      "F\n",
      "C\n",
      "H\n",
      "G\n",
      "I\n"
     ]
    }
   ],
   "source": [
    "G = Graph(True)\n",
    "G.addVertex('A')\n",
    "G.addVertex('B')\n",
    "G.addVertex('C')\n",
    "G.addVertex('D')\n",
    "G.addVertex('E')\n",
    "G.addVertex('F')\n",
    "G.addVertex('G')\n",
    "G.addVertex('H')\n",
    "G.addVertex('I')\n",
    "G.addEdge('A', 'B')   \n",
    "G.addEdge('A', 'C')   \n",
    "G.addEdge('A', 'G')  \n",
    "G.addEdge('A', 'E')  \n",
    "G.addEdge('B', 'C')       \n",
    "G.addEdge('C', 'G')   \n",
    "G.addEdge('D', 'E')  \n",
    "G.addEdge('D', 'F')  \n",
    "G.addEdge('F', 'H')       \n",
    "G.addEdge('E', 'H')    \n",
    "G.addEdge('H', 'I')      \n",
    "print('Graph data:')\n",
    "print(G.getEdges())   \n",
    "topologicalSort(G)\n"
   ]
  },
  {
   "cell_type": "code",
   "execution_count": null,
   "metadata": {
    "collapsed": true
   },
   "outputs": [],
   "source": []
  }
 ],
 "metadata": {
  "kernelspec": {
   "display_name": "Python 3",
   "language": "python",
   "name": "python3"
  },
  "language_info": {
   "codemirror_mode": {
    "name": "ipython",
    "version": 3
   },
   "file_extension": ".py",
   "mimetype": "text/x-python",
   "name": "python",
   "nbconvert_exporter": "python",
   "pygments_lexer": "ipython3",
   "version": "3.6.1"
  }
 },
 "nbformat": 4,
 "nbformat_minor": 2
}
