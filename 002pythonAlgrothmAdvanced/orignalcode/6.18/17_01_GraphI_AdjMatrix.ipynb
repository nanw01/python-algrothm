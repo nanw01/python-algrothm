{
 "cells": [
  {
   "cell_type": "markdown",
   "metadata": {},
   "source": [
    "# Graph I - AdjMatrixGraph#\n",
    "\n",
    "<img src=\"../images/ch17/matrixrepr.png\" width=\"640\"/>"
   ]
  },
  {
   "cell_type": "code",
   "execution_count": 1,
   "metadata": {
    "collapsed": true
   },
   "outputs": [],
   "source": [
    "class Vertex:\n",
    "    def __init__(self, node):\n",
    "        self.id = node\n",
    "        # Mark all nodes unvisited        \n",
    "        self.visited = False  \n",
    "\n",
    "    def addNeighbor(self, neighbor, G):\n",
    "        G.addEdge(self.id, neighbor)\n",
    "\n",
    "    def getConnections(self, G):\n",
    "        return G.adjMatrix[self.id]\n",
    "\n",
    "    def getVertexID(self):\n",
    "        return self.id\n",
    "\n",
    "    def setVertexID(self, id):\n",
    "        self.id = id\n",
    "\n",
    "    def setVisited(self):\n",
    "        self.visited = True\n",
    "\n",
    "    def __str__(self):\n",
    "        return str(self.id)\n",
    "\n",
    "class Graph:\n",
    "    def __init__(self, numVertices=10, directed=False):\n",
    "        self.adjMatrix = [[None] * numVertices for _ in range(numVertices)]\n",
    "        self.numVertices = numVertices\n",
    "        self.vertices = []\n",
    "        self.directed = directed\n",
    "        for i in range(0, numVertices):\n",
    "            newVertex = Vertex(i)\n",
    "            self.vertices.append(newVertex)\n",
    "\n",
    "    def addVertex(self, vtx, id):\n",
    "        if 0 <= vtx < self.numVertices:\n",
    "            self.vertices[vtx].setVertexID(id)\n",
    "\n",
    "    def getVertex(self, n):\n",
    "        for vertxin in range(0, self.numVertices):\n",
    "            if n == self.vertices[vertxin].getVertexID():\n",
    "                return vertxin\n",
    "        return None\n",
    "\n",
    "    def addEdge(self, frm, to, cost=0): \n",
    "        #print(\"from\",frm, self.getVertex(frm))\n",
    "        #print(\"to\",to, self.getVertex(to))\n",
    "        if self.getVertex(frm) is not None and self.getVertex(to) is not None:\n",
    "            self.adjMatrix[self.getVertex(frm)][self.getVertex(to)] = cost\n",
    "            if not self.directed:\n",
    "                # For directed graph do not add this\n",
    "                self.adjMatrix[self.getVertex(to)][self.getVertex(frm)] = cost  \n",
    "\n",
    "    def getVertices(self):\n",
    "        vertices = []\n",
    "        for vertxin in range(0, self.numVertices):\n",
    "            vertices.append(self.vertices[vertxin].getVertexID())\n",
    "        return vertices\n",
    "\n",
    "    def printMatrix(self):\n",
    "        for u in range(0, self.numVertices):\n",
    "            row = []\n",
    "            for v in range(0, self.numVertices):\n",
    "                row.append(str(self.adjMatrix[u][v]) if self.adjMatrix[u][v] is not None else '/')\n",
    "            print(row)\n",
    "\n",
    "    def getEdges(self):\n",
    "        edges = []\n",
    "        for v in range(0, self.numVertices):\n",
    "            for u in range(0, self.numVertices):\n",
    "                if self.adjMatrix[u][v] is not None:\n",
    "                    vid = self.vertices[v].getVertexID()\n",
    "                    wid = self.vertices[u].getVertexID()\n",
    "                    edges.append((vid, wid, self.adjMatrix[u][v]))\n",
    "        return edges\n",
    "    \n",
    "    def getNeighbors(self, n):\n",
    "        neighbors = []\n",
    "        for vertxin in range(0, self.numVertices):\n",
    "            if n == self.vertices[vertxin].getVertexID():\n",
    "                for neighbor in range(0, self.numVertices):\n",
    "                    if (self.adjMatrix[vertxin][neighbor] is not None):\n",
    "                        neighbors.append(self.vertices[neighbor].getVertexID())\n",
    "        return neighbors\n",
    "    \n",
    "    def isConnected(self, u, v):\n",
    "        uidx = self.getVertex(u) \n",
    "        vidx = self.getVertex(v)\n",
    "        return self.adjMatrix[uidx][vidx] is not None\n",
    "    \n",
    "    def get2Hops(self, u):\n",
    "        neighbors = self.getNeighbors(u)\n",
    "        print(neighbors)\n",
    "        hopset = set()\n",
    "        for v in neighbors:\n",
    "            hops = self.getNeighbors(v)\n",
    "            hopset |= set(hops)\n",
    "        return list(hopset)"
   ]
  },
  {
   "cell_type": "code",
   "execution_count": 1,
   "metadata": {},
   "outputs": [
    {
     "ename": "NameError",
     "evalue": "name 'Graph' is not defined",
     "output_type": "error",
     "traceback": [
      "\u001B[1;31m---------------------------------------------------------------------------\u001B[0m",
      "\u001B[1;31mNameError\u001B[0m                                 Traceback (most recent call last)",
      "\u001B[1;32m<ipython-input-1-b1e0c56135af>\u001B[0m in \u001B[0;36m<module>\u001B[1;34m\u001B[0m\n\u001B[1;32m----> 1\u001B[1;33m \u001B[0mgraph\u001B[0m \u001B[1;33m=\u001B[0m \u001B[0mGraph\u001B[0m\u001B[1;33m(\u001B[0m\u001B[1;36m6\u001B[0m\u001B[1;33m,\u001B[0m\u001B[1;32mTrue\u001B[0m\u001B[1;33m)\u001B[0m\u001B[1;33m\u001B[0m\u001B[1;33m\u001B[0m\u001B[0m\n\u001B[0m\u001B[0;32m      2\u001B[0m \u001B[0mgraph\u001B[0m\u001B[1;33m.\u001B[0m\u001B[0maddVertex\u001B[0m\u001B[1;33m(\u001B[0m\u001B[1;36m0\u001B[0m\u001B[1;33m,\u001B[0m \u001B[1;34m'a'\u001B[0m\u001B[1;33m)\u001B[0m\u001B[1;33m\u001B[0m\u001B[1;33m\u001B[0m\u001B[0m\n\u001B[0;32m      3\u001B[0m \u001B[0mgraph\u001B[0m\u001B[1;33m.\u001B[0m\u001B[0maddVertex\u001B[0m\u001B[1;33m(\u001B[0m\u001B[1;36m1\u001B[0m\u001B[1;33m,\u001B[0m \u001B[1;34m'b'\u001B[0m\u001B[1;33m)\u001B[0m\u001B[1;33m\u001B[0m\u001B[1;33m\u001B[0m\u001B[0m\n\u001B[0;32m      4\u001B[0m \u001B[0mgraph\u001B[0m\u001B[1;33m.\u001B[0m\u001B[0maddVertex\u001B[0m\u001B[1;33m(\u001B[0m\u001B[1;36m2\u001B[0m\u001B[1;33m,\u001B[0m \u001B[1;34m'c'\u001B[0m\u001B[1;33m)\u001B[0m\u001B[1;33m\u001B[0m\u001B[1;33m\u001B[0m\u001B[0m\n\u001B[0;32m      5\u001B[0m \u001B[0mgraph\u001B[0m\u001B[1;33m.\u001B[0m\u001B[0maddVertex\u001B[0m\u001B[1;33m(\u001B[0m\u001B[1;36m3\u001B[0m\u001B[1;33m,\u001B[0m \u001B[1;34m'd'\u001B[0m\u001B[1;33m)\u001B[0m\u001B[1;33m\u001B[0m\u001B[1;33m\u001B[0m\u001B[0m\n",
      "\u001B[1;31mNameError\u001B[0m: name 'Graph' is not defined"
     ]
    }
   ],
   "source": [
    "graph = Graph(6,True)\n",
    "graph.addVertex(0, 'a')\n",
    "graph.addVertex(1, 'b')\n",
    "graph.addVertex(2, 'c')\n",
    "graph.addVertex(3, 'd')\n",
    "graph.addVertex(4, 'e')\n",
    "graph.addVertex(5, 'f')\n",
    "graph.addVertex(6, 'g') # doing nothing here \n",
    "graph.addVertex(7, 'h') # doing nothing here\n",
    "\n",
    "print(graph.getVertices())\n",
    "graph.addEdge('a', 'b', 1)  \n",
    "graph.addEdge('a', 'c', 2)\n",
    "graph.addEdge('b', 'd', 3)\n",
    "graph.addEdge('b', 'e', 4)\n",
    "graph.addEdge('c', 'd', 5)\n",
    "graph.addEdge('c', 'e', 6)\n",
    "graph.addEdge('d', 'e', 7)\n",
    "graph.addEdge('e', 'a', 8)\n",
    "print(graph.printMatrix())\n",
    "print(graph.getEdges())    "
   ]
  },
  {
   "cell_type": "code",
   "execution_count": 3,
   "metadata": {},
   "outputs": [
    {
     "data": {
      "text/plain": [
       "['b', 'c']"
      ]
     },
     "execution_count": 3,
     "metadata": {},
     "output_type": "execute_result"
    }
   ],
   "source": [
    "graph.getNeighbors('a')"
   ]
  },
  {
   "cell_type": "code",
   "execution_count": 28,
   "metadata": {},
   "outputs": [
    {
     "data": {
      "text/plain": [
       "False"
      ]
     },
     "execution_count": 28,
     "metadata": {},
     "output_type": "execute_result"
    }
   ],
   "source": [
    "graph.isConnected('a','e')"
   ]
  },
  {
   "cell_type": "code",
   "execution_count": 29,
   "metadata": {},
   "outputs": [
    {
     "name": "stdout",
     "output_type": "stream",
     "text": [
      "['b', 'c']\n"
     ]
    },
    {
     "data": {
      "text/plain": [
       "['e', 'd']"
      ]
     },
     "execution_count": 29,
     "metadata": {},
     "output_type": "execute_result"
    }
   ],
   "source": [
    "graph.get2Hops('a')"
   ]
  },
  {
   "cell_type": "code",
   "execution_count": 30,
   "metadata": {},
   "outputs": [
    {
     "name": "stdout",
     "output_type": "stream",
     "text": [
      "['/', '/', '20', '/', '10']\n",
      "['/', '/', '30', '/', '40']\n",
      "['20', '30', '/', '/', '/']\n",
      "['/', '/', '/', '/', '50']\n",
      "['10', '40', '/', '50', '/']\n",
      "None\n",
      "[('a', 'c', 20), ('a', 'e', 10), ('b', 'c', 30), ('b', 'e', 40), ('c', 'a', 20), ('c', 'b', 30), ('d', 'e', 50), ('e', 'a', 10), ('e', 'b', 40), ('e', 'd', 50)]\n"
     ]
    }
   ],
   "source": [
    "G = Graph(5)\n",
    "G.addVertex(0, 'a')\n",
    "G.addVertex(1, 'b')\n",
    "G.addVertex(2, 'c')\n",
    "G.addVertex(3, 'd')\n",
    "G.addVertex(4, 'e')\n",
    "G.addEdge('a', 'e', 10)  \n",
    "G.addEdge('a', 'c', 20)\n",
    "G.addEdge('c', 'b', 30)\n",
    "G.addEdge('b', 'e', 40)\n",
    "G.addEdge('e', 'd', 50)\n",
    "G.addEdge('f', 'e', 60)\n",
    "print(G.printMatrix())\n",
    "print(G.getEdges()) "
   ]
  },
  {
   "cell_type": "code",
   "execution_count": null,
   "metadata": {
    "collapsed": true
   },
   "outputs": [],
   "source": []
  }
 ],
 "metadata": {
  "kernelspec": {
   "name": "pycharm-58b31a0e",
   "language": "python",
   "display_name": "PyCharm (python-algrothm)"
  },
  "language_info": {
   "codemirror_mode": {
    "name": "ipython",
    "version": 3
   },
   "file_extension": ".py",
   "mimetype": "text/x-python",
   "name": "python",
   "nbconvert_exporter": "python",
   "pygments_lexer": "ipython3",
   "version": "3.6.1"
  }
 },
 "nbformat": 4,
 "nbformat_minor": 2
}