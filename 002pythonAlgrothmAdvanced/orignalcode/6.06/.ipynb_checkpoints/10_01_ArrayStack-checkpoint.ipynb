{
 "cells": [
  {
   "cell_type": "markdown",
   "metadata": {},
   "source": [
    "# ArrayStack #"
   ]
  },
  {
   "cell_type": "code",
   "execution_count": 4,
   "metadata": {
    "collapsed": true
   },
   "outputs": [],
   "source": [
    "class ArrayStack(object):\n",
    "    def __init__ (self):\n",
    "        self._data = []\n",
    "        \n",
    "    def __len__ (self):\n",
    "        return len(self._data)\n",
    "    \n",
    "    def is_empty(self):\n",
    "        return len(self._data) == 0\n",
    "    \n",
    "    # O(1)\n",
    "    def push(self, e):\n",
    "        self._data.append(e)\n",
    "        \n",
    "    # O(1)\n",
    "    def top(self):\n",
    "        if self.is_empty( ):\n",
    "            raise ValueError( 'Stack is empty' )\n",
    "        return self._data[-1]\n",
    "    \n",
    "    # O(1)\n",
    "    def pop(self):\n",
    "        if self.is_empty( ):\n",
    "            raise ValueError( 'Stack is empty' )\n",
    "        return self._data.pop( )  \n",
    "        \n",
    "    def printstack(self):\n",
    "        for i in range(len(self._data)):\n",
    "            print(self._data[i], end = ' ')\n",
    "        print()"
   ]
  },
  {
   "cell_type": "code",
   "execution_count": 5,
   "metadata": {},
   "outputs": [
    {
     "name": "stdout",
     "output_type": "stream",
     "text": [
      "size was:  0\n",
      "size was:  5\n",
      "1 2 3 4 5 \n",
      "size was:  3\n",
      "1 2 3 \n",
      "3\n"
     ]
    },
    {
     "data": {
      "text/plain": [
       "1"
      ]
     },
     "execution_count": 5,
     "metadata": {},
     "output_type": "execute_result"
    }
   ],
   "source": [
    "mystack = ArrayStack()\n",
    "print ('size was: ', str(len(mystack)))\n",
    "mystack.push(1)\n",
    "mystack.push(2)\n",
    "mystack.push(3)\n",
    "mystack.push(4)\n",
    "mystack.push(5)\n",
    "print ('size was: ', str(len(mystack)))\n",
    "mystack.printstack()\n",
    "mystack.pop()\n",
    "mystack.pop()\n",
    "print ('size was: ', str(len(mystack)))\n",
    "mystack.printstack()\n",
    "print(mystack.top())\n",
    "mystack.pop()\n",
    "mystack.pop()\n",
    "mystack.pop()\n",
    "#mystack.pop()"
   ]
  },
  {
   "cell_type": "code",
   "execution_count": null,
   "metadata": {
    "collapsed": true
   },
   "outputs": [],
   "source": []
  }
 ],
 "metadata": {
  "kernelspec": {
   "display_name": "Python 3",
   "language": "python",
   "name": "python3"
  },
  "language_info": {
   "codemirror_mode": {
    "name": "ipython",
    "version": 3
   },
   "file_extension": ".py",
   "mimetype": "text/x-python",
   "name": "python",
   "nbconvert_exporter": "python",
   "pygments_lexer": "ipython3",
   "version": "3.8.3"
  },
  "toc": {
   "base_numbering": 1,
   "nav_menu": {},
   "number_sections": true,
   "sideBar": true,
   "skip_h1_title": false,
   "title_cell": "Table of Contents",
   "title_sidebar": "Contents",
   "toc_cell": false,
   "toc_position": {},
   "toc_section_display": true,
   "toc_window_display": false
  },
  "varInspector": {
   "cols": {
    "lenName": 16,
    "lenType": 16,
    "lenVar": 40
   },
   "kernels_config": {
    "python": {
     "delete_cmd_postfix": "",
     "delete_cmd_prefix": "del ",
     "library": "var_list.py",
     "varRefreshCmd": "print(var_dic_list())"
    },
    "r": {
     "delete_cmd_postfix": ") ",
     "delete_cmd_prefix": "rm(",
     "library": "var_list.r",
     "varRefreshCmd": "cat(var_dic_list()) "
    }
   },
   "types_to_exclude": [
    "module",
    "function",
    "builtin_function_or_method",
    "instance",
    "_Feature"
   ],
   "window_display": false
  }
 },
 "nbformat": 4,
 "nbformat_minor": 2
}
