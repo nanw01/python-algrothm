{
 "cells": [
  {
   "cell_type": "code",
   "execution_count": 1,
   "metadata": {},
   "outputs": [
    {
     "output_type": "execute_result",
     "data": {
      "text/plain": [
       "   REVENUE  CROSS_SELL_SUCCESS               NAME                     EMAIL FIRST_NAME FAMILY_NAME  TOTAL_MEALS_ORDERED  UNIQUE_MEALS_PURCH  CONTACTS_W_CUSTOMER_SERVICE  PRODUCT_CATEGORIES_VIEWED  AVG_TIME_PER_SITE_VISIT  MOBILE_NUMBER  CANCELLATIONS_BEFORE_NOON  CANCELLATIONS_AFTER_NOON  TASTES_AND_PREFERENCES  PC_LOGINS  MOBILE_LOGINS  WEEKLY_PLAN  EARLY_DELIVERIES  LATE_DELIVERIES  PACKAGE_LOCKER  REFRIGERATED_LOCKER  AVG_PREP_VID_TIME  LARGEST_ORDER_SIZE  MASTER_CLASSES_ATTENDED  MEDIAN_MEAL_RATING  AVG_CLICKS_PER_VISIT  TOTAL_PHOTOS_VIEWED\n",
       "0    393.0                   1            Saathos  saathos@unitedhealth.com    Saathos     Saathos                   14                   6                           12                         10                    48.00              1                          3                         1                       1          5              2            0                 0                2               0                    0               33.4                   1                        0                   1                    17                    0\n",
       "1   1365.0                   1    Alysanne Osgrey    alysanne.osgrey@ge.org   Alysanne      Osgrey                   87                   3                            8                          8                    40.35              1                          0                         0                       1          5              1           12                 0                2               0                    0               84.8                   1                        0                   3                    13                  170\n",
       "2    800.0                   1     Edwyd Fossoway    edwyd.fossoway@jnj.com      Edwyd    Fossoway                   15                   7                           11                          5                    19.77              1                          3                         0                       1          6              1            1                 0                1               0                    0               63.0                   1                        0                   2                    16                    0\n",
       "3    600.0                   1  Eleyna Westerling  eleyna.westerling@ge.org     Eleyna  Westerling                   13                   6                           11                          5                    90.00              1                          2                         0                       1          6              1           14                 0                3               0                    0               43.8                   1                        0                   2                    14                    0\n",
       "4   1490.0                   1      Elyn Norridge     elyn.norridge@jnj.com       Elyn    Norridge                   47                   8                            6                         10                    40.38              1                          0                         0                       0          5              1            5                 0                8               0                    0               84.8                   1                        1                   3                    12                  205"
      ],
      "text/html": "<div>\n<style scoped>\n    .dataframe tbody tr th:only-of-type {\n        vertical-align: middle;\n    }\n\n    .dataframe tbody tr th {\n        vertical-align: top;\n    }\n\n    .dataframe thead th {\n        text-align: right;\n    }\n</style>\n<table border=\"1\" class=\"dataframe\">\n  <thead>\n    <tr style=\"text-align: right;\">\n      <th></th>\n      <th>REVENUE</th>\n      <th>CROSS_SELL_SUCCESS</th>\n      <th>NAME</th>\n      <th>EMAIL</th>\n      <th>FIRST_NAME</th>\n      <th>FAMILY_NAME</th>\n      <th>TOTAL_MEALS_ORDERED</th>\n      <th>UNIQUE_MEALS_PURCH</th>\n      <th>CONTACTS_W_CUSTOMER_SERVICE</th>\n      <th>PRODUCT_CATEGORIES_VIEWED</th>\n      <th>AVG_TIME_PER_SITE_VISIT</th>\n      <th>MOBILE_NUMBER</th>\n      <th>CANCELLATIONS_BEFORE_NOON</th>\n      <th>CANCELLATIONS_AFTER_NOON</th>\n      <th>TASTES_AND_PREFERENCES</th>\n      <th>PC_LOGINS</th>\n      <th>MOBILE_LOGINS</th>\n      <th>WEEKLY_PLAN</th>\n      <th>EARLY_DELIVERIES</th>\n      <th>LATE_DELIVERIES</th>\n      <th>PACKAGE_LOCKER</th>\n      <th>REFRIGERATED_LOCKER</th>\n      <th>AVG_PREP_VID_TIME</th>\n      <th>LARGEST_ORDER_SIZE</th>\n      <th>MASTER_CLASSES_ATTENDED</th>\n      <th>MEDIAN_MEAL_RATING</th>\n      <th>AVG_CLICKS_PER_VISIT</th>\n      <th>TOTAL_PHOTOS_VIEWED</th>\n    </tr>\n  </thead>\n  <tbody>\n    <tr>\n      <th>0</th>\n      <td>393.0</td>\n      <td>1</td>\n      <td>Saathos</td>\n      <td>saathos@unitedhealth.com</td>\n      <td>Saathos</td>\n      <td>Saathos</td>\n      <td>14</td>\n      <td>6</td>\n      <td>12</td>\n      <td>10</td>\n      <td>48.00</td>\n      <td>1</td>\n      <td>3</td>\n      <td>1</td>\n      <td>1</td>\n      <td>5</td>\n      <td>2</td>\n      <td>0</td>\n      <td>0</td>\n      <td>2</td>\n      <td>0</td>\n      <td>0</td>\n      <td>33.4</td>\n      <td>1</td>\n      <td>0</td>\n      <td>1</td>\n      <td>17</td>\n      <td>0</td>\n    </tr>\n    <tr>\n      <th>1</th>\n      <td>1365.0</td>\n      <td>1</td>\n      <td>Alysanne Osgrey</td>\n      <td>alysanne.osgrey@ge.org</td>\n      <td>Alysanne</td>\n      <td>Osgrey</td>\n      <td>87</td>\n      <td>3</td>\n      <td>8</td>\n      <td>8</td>\n      <td>40.35</td>\n      <td>1</td>\n      <td>0</td>\n      <td>0</td>\n      <td>1</td>\n      <td>5</td>\n      <td>1</td>\n      <td>12</td>\n      <td>0</td>\n      <td>2</td>\n      <td>0</td>\n      <td>0</td>\n      <td>84.8</td>\n      <td>1</td>\n      <td>0</td>\n      <td>3</td>\n      <td>13</td>\n      <td>170</td>\n    </tr>\n    <tr>\n      <th>2</th>\n      <td>800.0</td>\n      <td>1</td>\n      <td>Edwyd Fossoway</td>\n      <td>edwyd.fossoway@jnj.com</td>\n      <td>Edwyd</td>\n      <td>Fossoway</td>\n      <td>15</td>\n      <td>7</td>\n      <td>11</td>\n      <td>5</td>\n      <td>19.77</td>\n      <td>1</td>\n      <td>3</td>\n      <td>0</td>\n      <td>1</td>\n      <td>6</td>\n      <td>1</td>\n      <td>1</td>\n      <td>0</td>\n      <td>1</td>\n      <td>0</td>\n      <td>0</td>\n      <td>63.0</td>\n      <td>1</td>\n      <td>0</td>\n      <td>2</td>\n      <td>16</td>\n      <td>0</td>\n    </tr>\n    <tr>\n      <th>3</th>\n      <td>600.0</td>\n      <td>1</td>\n      <td>Eleyna Westerling</td>\n      <td>eleyna.westerling@ge.org</td>\n      <td>Eleyna</td>\n      <td>Westerling</td>\n      <td>13</td>\n      <td>6</td>\n      <td>11</td>\n      <td>5</td>\n      <td>90.00</td>\n      <td>1</td>\n      <td>2</td>\n      <td>0</td>\n      <td>1</td>\n      <td>6</td>\n      <td>1</td>\n      <td>14</td>\n      <td>0</td>\n      <td>3</td>\n      <td>0</td>\n      <td>0</td>\n      <td>43.8</td>\n      <td>1</td>\n      <td>0</td>\n      <td>2</td>\n      <td>14</td>\n      <td>0</td>\n    </tr>\n    <tr>\n      <th>4</th>\n      <td>1490.0</td>\n      <td>1</td>\n      <td>Elyn Norridge</td>\n      <td>elyn.norridge@jnj.com</td>\n      <td>Elyn</td>\n      <td>Norridge</td>\n      <td>47</td>\n      <td>8</td>\n      <td>6</td>\n      <td>10</td>\n      <td>40.38</td>\n      <td>1</td>\n      <td>0</td>\n      <td>0</td>\n      <td>0</td>\n      <td>5</td>\n      <td>1</td>\n      <td>5</td>\n      <td>0</td>\n      <td>8</td>\n      <td>0</td>\n      <td>0</td>\n      <td>84.8</td>\n      <td>1</td>\n      <td>1</td>\n      <td>3</td>\n      <td>12</td>\n      <td>205</td>\n    </tr>\n  </tbody>\n</table>\n</div>"
     },
     "metadata": {},
     "execution_count": 1
    }
   ],
   "source": [
    "# importing libraries\n",
    "import numpy as np  # mathematical essentials\n",
    "import pandas as pd # data science essentials\n",
    "import matplotlib.pyplot as plt # data visualization\n",
    "from sklearn.model_selection import train_test_split\n",
    "import statsmodels.formula.api as smf\n",
    "from sklearn.preprocessing import StandardScaler     # standard scaler\n",
    "\n",
    "\n",
    "# loading data\n",
    "df = pd.read_excel('Apprentice_Chef_Dataset.xlsx')\n",
    "\n",
    "\n",
    "# setting pandas print options\n",
    "pd.set_option('display.max_rows', 500)\n",
    "pd.set_option('display.max_columns', 500)\n",
    "pd.set_option('display.width', 1000)\n",
    "pd.set_option('display.max_colwidth', 100)\n",
    "\n",
    "\n",
    "# displaying the head of the dataset\n",
    "df.head(n = 5)"
   ]
  },
  {
   "cell_type": "code",
   "execution_count": 2,
   "metadata": {},
   "outputs": [],
   "source": [
    "# user-defined functions\n",
    "\n",
    "#########################\n",
    "# mv_flagger\n",
    "#########################\n",
    "def mv_flagger(df):\n",
    "    \"\"\"\n",
    "Flags all columns that have missing values with 'm-COLUMN_NAME'.\n",
    "\n",
    "PARAMETERS\n",
    "----------\n",
    "df : DataFrame to flag missing values\n",
    "\n",
    "\n",
    "RETURNS\n",
    "-------\n",
    "DataFrame with missing value flags.\"\"\"\n",
    "\n",
    "\n",
    "    for col in df:\n",
    "\n",
    "        if df[col].isnull().astype(int).sum() > 0:\n",
    "            df['m_'+col] = df[col].isnull().astype(int)\n",
    "            \n",
    "    return df"
   ]
  },
  {
   "cell_type": "code",
   "execution_count": 4,
   "metadata": {},
   "outputs": [],
   "source": [
    "# # pulling up data dictionary\n",
    "# df_description = pd.read_excel('Apprentice_Chef_Data_Dictionary.xlsx')\n",
    "\n",
    "# # displaying the data dictionary\n",
    "# df_description"
   ]
  },
  {
   "cell_type": "code",
   "execution_count": 5,
   "metadata": {},
   "outputs": [],
   "source": [
    "# REVENUE                                   \n",
    "# CROSS_SELL_SUCCESS                        target\n",
    "# NAME\n",
    "# EMAIL                                     compute, dummy and drop\n",
    "# FIRST_NAME                                drop\n",
    "# FAMILY_NAME                               drop\n",
    "# TOTAL_MEALS_ORDERED                       大约分类出两种客户，每月大约 11，和，每季度买，一年 15 次\n",
    "#                                           计算每周次数，填入打折信息，dummy\n",
    "# UNIQUE_MEALS_PURCH                        \n",
    "# CONTACTS_W_CUSTOMER_SERVICE               \n",
    "# PRODUCT_CATEGORIES_VIEWED\n",
    "# AVG_TIME_PER_SITE_VISIT\n",
    "# MOBILE_NUMBER                             compute,(new customers, existing customers),dummy,and drop\n",
    "# CANCELLATIONS_BEFORE_NOON\n",
    "# CANCELLATIONS_AFTER_NOON\n",
    "# TASTES_AND_PREFERENCES                    split new customs and exist customes，dummy()\n",
    "# MOBILE_LOGINS\n",
    "# PC_LOGINS\n",
    "# WEEKLY_PLAN                               计算 discount 分类信息，dummy，and drop\n",
    "# EARLY_DELIVERIES\n",
    "# LATE_DELIVERIES\n",
    "# PACKAGE_LOCKER\n",
    "# REFRIGERATED_LOCKER\n",
    "# FOLLOWED_RECOMMENDATIONS_PCT              ？不知是否需要分出来 best sell and recommend\n",
    "# AVG_PREP_VID_TIME\n",
    "# LARGEST_ORDER_SIZE\n",
    "# MASTER_CLASSES_ATTENDED\n",
    "# MEDIAN_MEAL_RATING\n",
    "# AVG_CLICKS_PER_VISIT\n",
    "# TOTAL_PHOTOS_VIEWED\n"
   ]
  },
  {
   "cell_type": "code",
   "execution_count": 6,
   "metadata": {},
   "outputs": [
    {
     "output_type": "execute_result",
     "data": {
      "text/plain": [
       "Index(['REVENUE', 'CROSS_SELL_SUCCESS', 'NAME', 'EMAIL', 'FIRST_NAME', 'FAMILY_NAME', 'TOTAL_MEALS_ORDERED', 'UNIQUE_MEALS_PURCH', 'CONTACTS_W_CUSTOMER_SERVICE', 'PRODUCT_CATEGORIES_VIEWED', 'AVG_TIME_PER_SITE_VISIT', 'MOBILE_NUMBER', 'CANCELLATIONS_BEFORE_NOON', 'CANCELLATIONS_AFTER_NOON', 'TASTES_AND_PREFERENCES', 'PC_LOGINS', 'MOBILE_LOGINS', 'WEEKLY_PLAN', 'EARLY_DELIVERIES', 'LATE_DELIVERIES', 'PACKAGE_LOCKER', 'REFRIGERATED_LOCKER', 'AVG_PREP_VID_TIME', 'LARGEST_ORDER_SIZE', 'MASTER_CLASSES_ATTENDED', 'MEDIAN_MEAL_RATING', 'AVG_CLICKS_PER_VISIT', 'TOTAL_PHOTOS_VIEWED'], dtype='object')"
      ]
     },
     "metadata": {},
     "execution_count": 6
    }
   ],
   "source": [
    "# dropping post-event horizon features\n",
    "# checking results\n",
    "df.columns"
   ]
  },
  {
   "cell_type": "code",
   "execution_count": 7,
   "metadata": {},
   "outputs": [
    {
     "output_type": "execute_result",
     "data": {
      "text/plain": [
       "   REVENUE  CROSS_SELL_SUCCESS               NAME FIRST_NAME FAMILY_NAME  TOTAL_MEALS_ORDERED  UNIQUE_MEALS_PURCH  CONTACTS_W_CUSTOMER_SERVICE  PRODUCT_CATEGORIES_VIEWED  AVG_TIME_PER_SITE_VISIT  MOBILE_NUMBER  CANCELLATIONS_BEFORE_NOON  CANCELLATIONS_AFTER_NOON  TASTES_AND_PREFERENCES  PC_LOGINS  MOBILE_LOGINS  WEEKLY_PLAN  EARLY_DELIVERIES  LATE_DELIVERIES  PACKAGE_LOCKER  REFRIGERATED_LOCKER  AVG_PREP_VID_TIME  LARGEST_ORDER_SIZE  MASTER_CLASSES_ATTENDED  MEDIAN_MEAL_RATING  AVG_CLICKS_PER_VISIT  TOTAL_PHOTOS_VIEWED  EMAIL_JUNK  EMAIL_PERSONAL  EMAIL_PREFESSIONAL  EMAIL_UNKNOWN\n",
       "0    393.0                   1            Saathos    Saathos     Saathos                   14                   6                           12                         10                    48.00              1                          3                         1                       1          5              2            0                 0                2               0                    0               33.4                   1                        0                   1                    17                    0           0               0                   1              0\n",
       "1   1365.0                   1    Alysanne Osgrey   Alysanne      Osgrey                   87                   3                            8                          8                    40.35              1                          0                         0                       1          5              1           12                 0                2               0                    0               84.8                   1                        0                   3                    13                  170           0               0                   1              0\n",
       "2    800.0                   1     Edwyd Fossoway      Edwyd    Fossoway                   15                   7                           11                          5                    19.77              1                          3                         0                       1          6              1            1                 0                1               0                    0               63.0                   1                        0                   2                    16                    0           0               0                   1              0\n",
       "3    600.0                   1  Eleyna Westerling     Eleyna  Westerling                   13                   6                           11                          5                    90.00              1                          2                         0                       1          6              1           14                 0                3               0                    0               43.8                   1                        0                   2                    14                    0           0               0                   1              0\n",
       "4   1490.0                   1      Elyn Norridge       Elyn    Norridge                   47                   8                            6                         10                    40.38              1                          0                         0                       0          5              1            5                 0                8               0                    0               84.8                   1                        1                   3                    12                  205           0               0                   1              0"
      ],
      "text/html": "<div>\n<style scoped>\n    .dataframe tbody tr th:only-of-type {\n        vertical-align: middle;\n    }\n\n    .dataframe tbody tr th {\n        vertical-align: top;\n    }\n\n    .dataframe thead th {\n        text-align: right;\n    }\n</style>\n<table border=\"1\" class=\"dataframe\">\n  <thead>\n    <tr style=\"text-align: right;\">\n      <th></th>\n      <th>REVENUE</th>\n      <th>CROSS_SELL_SUCCESS</th>\n      <th>NAME</th>\n      <th>FIRST_NAME</th>\n      <th>FAMILY_NAME</th>\n      <th>TOTAL_MEALS_ORDERED</th>\n      <th>UNIQUE_MEALS_PURCH</th>\n      <th>CONTACTS_W_CUSTOMER_SERVICE</th>\n      <th>PRODUCT_CATEGORIES_VIEWED</th>\n      <th>AVG_TIME_PER_SITE_VISIT</th>\n      <th>MOBILE_NUMBER</th>\n      <th>CANCELLATIONS_BEFORE_NOON</th>\n      <th>CANCELLATIONS_AFTER_NOON</th>\n      <th>TASTES_AND_PREFERENCES</th>\n      <th>PC_LOGINS</th>\n      <th>MOBILE_LOGINS</th>\n      <th>WEEKLY_PLAN</th>\n      <th>EARLY_DELIVERIES</th>\n      <th>LATE_DELIVERIES</th>\n      <th>PACKAGE_LOCKER</th>\n      <th>REFRIGERATED_LOCKER</th>\n      <th>AVG_PREP_VID_TIME</th>\n      <th>LARGEST_ORDER_SIZE</th>\n      <th>MASTER_CLASSES_ATTENDED</th>\n      <th>MEDIAN_MEAL_RATING</th>\n      <th>AVG_CLICKS_PER_VISIT</th>\n      <th>TOTAL_PHOTOS_VIEWED</th>\n      <th>EMAIL_JUNK</th>\n      <th>EMAIL_PERSONAL</th>\n      <th>EMAIL_PREFESSIONAL</th>\n      <th>EMAIL_UNKNOWN</th>\n    </tr>\n  </thead>\n  <tbody>\n    <tr>\n      <th>0</th>\n      <td>393.0</td>\n      <td>1</td>\n      <td>Saathos</td>\n      <td>Saathos</td>\n      <td>Saathos</td>\n      <td>14</td>\n      <td>6</td>\n      <td>12</td>\n      <td>10</td>\n      <td>48.00</td>\n      <td>1</td>\n      <td>3</td>\n      <td>1</td>\n      <td>1</td>\n      <td>5</td>\n      <td>2</td>\n      <td>0</td>\n      <td>0</td>\n      <td>2</td>\n      <td>0</td>\n      <td>0</td>\n      <td>33.4</td>\n      <td>1</td>\n      <td>0</td>\n      <td>1</td>\n      <td>17</td>\n      <td>0</td>\n      <td>0</td>\n      <td>0</td>\n      <td>1</td>\n      <td>0</td>\n    </tr>\n    <tr>\n      <th>1</th>\n      <td>1365.0</td>\n      <td>1</td>\n      <td>Alysanne Osgrey</td>\n      <td>Alysanne</td>\n      <td>Osgrey</td>\n      <td>87</td>\n      <td>3</td>\n      <td>8</td>\n      <td>8</td>\n      <td>40.35</td>\n      <td>1</td>\n      <td>0</td>\n      <td>0</td>\n      <td>1</td>\n      <td>5</td>\n      <td>1</td>\n      <td>12</td>\n      <td>0</td>\n      <td>2</td>\n      <td>0</td>\n      <td>0</td>\n      <td>84.8</td>\n      <td>1</td>\n      <td>0</td>\n      <td>3</td>\n      <td>13</td>\n      <td>170</td>\n      <td>0</td>\n      <td>0</td>\n      <td>1</td>\n      <td>0</td>\n    </tr>\n    <tr>\n      <th>2</th>\n      <td>800.0</td>\n      <td>1</td>\n      <td>Edwyd Fossoway</td>\n      <td>Edwyd</td>\n      <td>Fossoway</td>\n      <td>15</td>\n      <td>7</td>\n      <td>11</td>\n      <td>5</td>\n      <td>19.77</td>\n      <td>1</td>\n      <td>3</td>\n      <td>0</td>\n      <td>1</td>\n      <td>6</td>\n      <td>1</td>\n      <td>1</td>\n      <td>0</td>\n      <td>1</td>\n      <td>0</td>\n      <td>0</td>\n      <td>63.0</td>\n      <td>1</td>\n      <td>0</td>\n      <td>2</td>\n      <td>16</td>\n      <td>0</td>\n      <td>0</td>\n      <td>0</td>\n      <td>1</td>\n      <td>0</td>\n    </tr>\n    <tr>\n      <th>3</th>\n      <td>600.0</td>\n      <td>1</td>\n      <td>Eleyna Westerling</td>\n      <td>Eleyna</td>\n      <td>Westerling</td>\n      <td>13</td>\n      <td>6</td>\n      <td>11</td>\n      <td>5</td>\n      <td>90.00</td>\n      <td>1</td>\n      <td>2</td>\n      <td>0</td>\n      <td>1</td>\n      <td>6</td>\n      <td>1</td>\n      <td>14</td>\n      <td>0</td>\n      <td>3</td>\n      <td>0</td>\n      <td>0</td>\n      <td>43.8</td>\n      <td>1</td>\n      <td>0</td>\n      <td>2</td>\n      <td>14</td>\n      <td>0</td>\n      <td>0</td>\n      <td>0</td>\n      <td>1</td>\n      <td>0</td>\n    </tr>\n    <tr>\n      <th>4</th>\n      <td>1490.0</td>\n      <td>1</td>\n      <td>Elyn Norridge</td>\n      <td>Elyn</td>\n      <td>Norridge</td>\n      <td>47</td>\n      <td>8</td>\n      <td>6</td>\n      <td>10</td>\n      <td>40.38</td>\n      <td>1</td>\n      <td>0</td>\n      <td>0</td>\n      <td>0</td>\n      <td>5</td>\n      <td>1</td>\n      <td>5</td>\n      <td>0</td>\n      <td>8</td>\n      <td>0</td>\n      <td>0</td>\n      <td>84.8</td>\n      <td>1</td>\n      <td>1</td>\n      <td>3</td>\n      <td>12</td>\n      <td>205</td>\n      <td>0</td>\n      <td>0</td>\n      <td>1</td>\n      <td>0</td>\n    </tr>\n  </tbody>\n</table>\n</div>"
     },
     "metadata": {},
     "execution_count": 7
    }
   ],
   "source": [
    "# imputing email\n",
    "\n",
    "# process emails\n",
    "# placeholder list\n",
    "placeholder_lst = []\n",
    "\n",
    "email_set_professional = ['@mmm.com','@amex.com','@apple.com','@boeing.com','@caterpillar.com','@chevron.com','@cisco.com','@cocacola.com','@disney.com','@dupont.com','@exxon.com','@ge.org','@goldmansacs.com','@homedepot.com','@ibm.com','@intel.com','@jnj.com','@jpmorgan.com','@mcdonalds.com','@merck.com','@microsoft.com','@nike.com','@pfizer.com','@pg.com','@travelers.com','@unitedtech.com','@unitedhealth.com','@verizon.com','@visa.com','@walmart.com']\n",
    "email_set_personal = ['@gmail.com','@yahoo.com','@protonmail.com']\n",
    "email_set_junk = ['@me.com','@aol.com','@hotmail.com','@live.com @msn.com','@passport.com']\n",
    "\n",
    "# looping over each email address\n",
    "for index, col in df.iterrows():\n",
    "    \n",
    "    # splitting email domain at '@'\n",
    "    split_email = df.loc[index, 'EMAIL'].split(sep = '@')\n",
    "    \n",
    "    # appending placeholder_lst with the results\n",
    "    if('@'+split_email[1] in email_set_professional):\n",
    "        placeholder_lst.append('PREFESSIONAL')\n",
    "    elif('@'+split_email[1] in email_set_personal):\n",
    "        placeholder_lst.append('PERSONAL')\n",
    "    elif('@'+split_email[1] in email_set_junk):\n",
    "        placeholder_lst.append('JUNK')\n",
    "    else:\n",
    "        placeholder_lst.append('UNKNOWN')\n",
    "\n",
    "# converting placeholder_lst into a DataFrame \n",
    "email_df = pd.DataFrame(placeholder_lst)\n",
    "\n",
    "# one hot email\n",
    "one_hot_email = pd.get_dummies(email_df,prefix='EMAIL',prefix_sep='_')\n",
    "\n",
    "# joining codings together\n",
    "df = df.join(one_hot_email)\n",
    "\n",
    "# drop EMAIL\n",
    "df = df.drop('EMAIL',axis = 1)\n",
    "\n",
    "# check result \n",
    "df.head()\n"
   ]
  },
  {
   "cell_type": "code",
   "execution_count": 8,
   "metadata": {
    "deletable": false,
    "editable": false
   },
   "outputs": [],
   "source": [
    "# saving results\n",
    "df.to_excel('Apprentice_Chef_Feature_Rich.xlsx',index=False)\n",
    "\n",
    "# loading saved file\n",
    "df = pd.read_excel('Apprentice_Chef_Feature_Rich.xlsx')\n"
   ]
  },
  {
   "cell_type": "code",
   "execution_count": 9,
   "metadata": {},
   "outputs": [
    {
     "output_type": "execute_result",
     "data": {
      "text/plain": [
       "Index(['REVENUE', 'CROSS_SELL_SUCCESS', 'TOTAL_MEALS_ORDERED', 'UNIQUE_MEALS_PURCH', 'CONTACTS_W_CUSTOMER_SERVICE', 'PRODUCT_CATEGORIES_VIEWED', 'AVG_TIME_PER_SITE_VISIT', 'MOBILE_NUMBER', 'CANCELLATIONS_BEFORE_NOON', 'CANCELLATIONS_AFTER_NOON', 'TASTES_AND_PREFERENCES', 'PC_LOGINS', 'MOBILE_LOGINS', 'WEEKLY_PLAN', 'EARLY_DELIVERIES', 'LATE_DELIVERIES', 'PACKAGE_LOCKER', 'REFRIGERATED_LOCKER', 'AVG_PREP_VID_TIME', 'LARGEST_ORDER_SIZE', 'MASTER_CLASSES_ATTENDED', 'MEDIAN_MEAL_RATING', 'AVG_CLICKS_PER_VISIT', 'TOTAL_PHOTOS_VIEWED', 'EMAIL_JUNK', 'EMAIL_PERSONAL', 'EMAIL_PREFESSIONAL', 'EMAIL_UNKNOWN'], dtype='object')"
      ]
     },
     "metadata": {},
     "execution_count": 9
    }
   ],
   "source": [
    "# drop NAME,FIRST_NAME,FAMILY_NAME\n",
    "\n",
    "df = df.drop(['NAME','FIRST_NAME','FAMILY_NAME'],axis = 1)\n",
    "df.columns\n",
    "             "
   ]
  },
  {
   "cell_type": "code",
   "execution_count": 12,
   "metadata": {},
   "outputs": [],
   "source": [
    "# avg price\n",
    "\n",
    "df['AVG_PRICE'] = df['REVENUE']/df['TOTAL_MEALS_ORDERED']\n",
    "\n"
   ]
  },
  {
   "cell_type": "code",
   "execution_count": 13,
   "metadata": {
    "deletable": false,
    "editable": false
   },
   "outputs": [],
   "source": [
    "# saving results\n",
    "df.to_excel('Apprentice_Chef_Feature_Rich.xlsx',index=False)\n",
    "\n",
    "# loading saved file\n",
    "df = pd.read_excel('Apprentice_Chef_Feature_Rich.xlsx')\n"
   ]
  },
  {
   "cell_type": "code",
   "execution_count": 14,
   "metadata": {},
   "outputs": [
    {
     "output_type": "execute_result",
     "data": {
      "text/plain": [
       "   REVENUE  CROSS_SELL_SUCCESS  TOTAL_MEALS_ORDERED  UNIQUE_MEALS_PURCH  CONTACTS_W_CUSTOMER_SERVICE  PRODUCT_CATEGORIES_VIEWED  AVG_TIME_PER_SITE_VISIT  MOBILE_NUMBER  CANCELLATIONS_BEFORE_NOON  CANCELLATIONS_AFTER_NOON  PC_LOGINS  MOBILE_LOGINS  WEEKLY_PLAN  EARLY_DELIVERIES  LATE_DELIVERIES  PACKAGE_LOCKER  REFRIGERATED_LOCKER  AVG_PREP_VID_TIME  LARGEST_ORDER_SIZE  MASTER_CLASSES_ATTENDED  MEDIAN_MEAL_RATING  AVG_CLICKS_PER_VISIT  TOTAL_PHOTOS_VIEWED  EMAIL_JUNK  EMAIL_PERSONAL  EMAIL_PREFESSIONAL  EMAIL_UNKNOWN  AVG_PRICE  Customers_Existing  Customers_New\n",
       "0    393.0                   1                   14                   6                           12                         10                    48.00              1                          3                         1          5              2            0                 0                2               0                    0               33.4                   1                        0                   1                    17                    0           0               0                   1              0  28.071429                   0              1\n",
       "1   1365.0                   1                   87                   3                            8                          8                    40.35              1                          0                         0          5              1           12                 0                2               0                    0               84.8                   1                        0                   3                    13                  170           0               0                   1              0  15.689655                   0              1\n",
       "2    800.0                   1                   15                   7                           11                          5                    19.77              1                          3                         0          6              1            1                 0                1               0                    0               63.0                   1                        0                   2                    16                    0           0               0                   1              0  53.333333                   0              1\n",
       "3    600.0                   1                   13                   6                           11                          5                    90.00              1                          2                         0          6              1           14                 0                3               0                    0               43.8                   1                        0                   2                    14                    0           0               0                   1              0  46.153846                   0              1\n",
       "4   1490.0                   1                   47                   8                            6                         10                    40.38              1                          0                         0          5              1            5                 0                8               0                    0               84.8                   1                        1                   3                    12                  205           0               0                   1              0  31.702128                   1              0"
      ],
      "text/html": "<div>\n<style scoped>\n    .dataframe tbody tr th:only-of-type {\n        vertical-align: middle;\n    }\n\n    .dataframe tbody tr th {\n        vertical-align: top;\n    }\n\n    .dataframe thead th {\n        text-align: right;\n    }\n</style>\n<table border=\"1\" class=\"dataframe\">\n  <thead>\n    <tr style=\"text-align: right;\">\n      <th></th>\n      <th>REVENUE</th>\n      <th>CROSS_SELL_SUCCESS</th>\n      <th>TOTAL_MEALS_ORDERED</th>\n      <th>UNIQUE_MEALS_PURCH</th>\n      <th>CONTACTS_W_CUSTOMER_SERVICE</th>\n      <th>PRODUCT_CATEGORIES_VIEWED</th>\n      <th>AVG_TIME_PER_SITE_VISIT</th>\n      <th>MOBILE_NUMBER</th>\n      <th>CANCELLATIONS_BEFORE_NOON</th>\n      <th>CANCELLATIONS_AFTER_NOON</th>\n      <th>PC_LOGINS</th>\n      <th>MOBILE_LOGINS</th>\n      <th>WEEKLY_PLAN</th>\n      <th>EARLY_DELIVERIES</th>\n      <th>LATE_DELIVERIES</th>\n      <th>PACKAGE_LOCKER</th>\n      <th>REFRIGERATED_LOCKER</th>\n      <th>AVG_PREP_VID_TIME</th>\n      <th>LARGEST_ORDER_SIZE</th>\n      <th>MASTER_CLASSES_ATTENDED</th>\n      <th>MEDIAN_MEAL_RATING</th>\n      <th>AVG_CLICKS_PER_VISIT</th>\n      <th>TOTAL_PHOTOS_VIEWED</th>\n      <th>EMAIL_JUNK</th>\n      <th>EMAIL_PERSONAL</th>\n      <th>EMAIL_PREFESSIONAL</th>\n      <th>EMAIL_UNKNOWN</th>\n      <th>AVG_PRICE</th>\n      <th>Customers_Existing</th>\n      <th>Customers_New</th>\n    </tr>\n  </thead>\n  <tbody>\n    <tr>\n      <th>0</th>\n      <td>393.0</td>\n      <td>1</td>\n      <td>14</td>\n      <td>6</td>\n      <td>12</td>\n      <td>10</td>\n      <td>48.00</td>\n      <td>1</td>\n      <td>3</td>\n      <td>1</td>\n      <td>5</td>\n      <td>2</td>\n      <td>0</td>\n      <td>0</td>\n      <td>2</td>\n      <td>0</td>\n      <td>0</td>\n      <td>33.4</td>\n      <td>1</td>\n      <td>0</td>\n      <td>1</td>\n      <td>17</td>\n      <td>0</td>\n      <td>0</td>\n      <td>0</td>\n      <td>1</td>\n      <td>0</td>\n      <td>28.071429</td>\n      <td>0</td>\n      <td>1</td>\n    </tr>\n    <tr>\n      <th>1</th>\n      <td>1365.0</td>\n      <td>1</td>\n      <td>87</td>\n      <td>3</td>\n      <td>8</td>\n      <td>8</td>\n      <td>40.35</td>\n      <td>1</td>\n      <td>0</td>\n      <td>0</td>\n      <td>5</td>\n      <td>1</td>\n      <td>12</td>\n      <td>0</td>\n      <td>2</td>\n      <td>0</td>\n      <td>0</td>\n      <td>84.8</td>\n      <td>1</td>\n      <td>0</td>\n      <td>3</td>\n      <td>13</td>\n      <td>170</td>\n      <td>0</td>\n      <td>0</td>\n      <td>1</td>\n      <td>0</td>\n      <td>15.689655</td>\n      <td>0</td>\n      <td>1</td>\n    </tr>\n    <tr>\n      <th>2</th>\n      <td>800.0</td>\n      <td>1</td>\n      <td>15</td>\n      <td>7</td>\n      <td>11</td>\n      <td>5</td>\n      <td>19.77</td>\n      <td>1</td>\n      <td>3</td>\n      <td>0</td>\n      <td>6</td>\n      <td>1</td>\n      <td>1</td>\n      <td>0</td>\n      <td>1</td>\n      <td>0</td>\n      <td>0</td>\n      <td>63.0</td>\n      <td>1</td>\n      <td>0</td>\n      <td>2</td>\n      <td>16</td>\n      <td>0</td>\n      <td>0</td>\n      <td>0</td>\n      <td>1</td>\n      <td>0</td>\n      <td>53.333333</td>\n      <td>0</td>\n      <td>1</td>\n    </tr>\n    <tr>\n      <th>3</th>\n      <td>600.0</td>\n      <td>1</td>\n      <td>13</td>\n      <td>6</td>\n      <td>11</td>\n      <td>5</td>\n      <td>90.00</td>\n      <td>1</td>\n      <td>2</td>\n      <td>0</td>\n      <td>6</td>\n      <td>1</td>\n      <td>14</td>\n      <td>0</td>\n      <td>3</td>\n      <td>0</td>\n      <td>0</td>\n      <td>43.8</td>\n      <td>1</td>\n      <td>0</td>\n      <td>2</td>\n      <td>14</td>\n      <td>0</td>\n      <td>0</td>\n      <td>0</td>\n      <td>1</td>\n      <td>0</td>\n      <td>46.153846</td>\n      <td>0</td>\n      <td>1</td>\n    </tr>\n    <tr>\n      <th>4</th>\n      <td>1490.0</td>\n      <td>1</td>\n      <td>47</td>\n      <td>8</td>\n      <td>6</td>\n      <td>10</td>\n      <td>40.38</td>\n      <td>1</td>\n      <td>0</td>\n      <td>0</td>\n      <td>5</td>\n      <td>1</td>\n      <td>5</td>\n      <td>0</td>\n      <td>8</td>\n      <td>0</td>\n      <td>0</td>\n      <td>84.8</td>\n      <td>1</td>\n      <td>1</td>\n      <td>3</td>\n      <td>12</td>\n      <td>205</td>\n      <td>0</td>\n      <td>0</td>\n      <td>1</td>\n      <td>0</td>\n      <td>31.702128</td>\n      <td>1</td>\n      <td>0</td>\n    </tr>\n  </tbody>\n</table>\n</div>"
     },
     "metadata": {},
     "execution_count": 14
    }
   ],
   "source": [
    "# TASTES_AND_PREFERENCES\n",
    "# 根据是否设置口味偏好来判断是否为新用户\n",
    "\n",
    "# \n",
    "df['TASTES_AND_PREFERENCES'][df['TASTES_AND_PREFERENCES'] == 0] ='Existing'\n",
    "df['TASTES_AND_PREFERENCES'][df['TASTES_AND_PREFERENCES'] == 1] ='New'\n",
    "\n",
    "# one hot TASTES_AND_PREFERENCES\n",
    "one_hot_tap = pd.get_dummies(df['TASTES_AND_PREFERENCES'],prefix='Customers',prefix_sep='_')\n",
    "\n",
    "# joining codings together\n",
    "df = df.join(one_hot_tap)\n",
    "\n",
    "# drop EMAIL\n",
    "df = df.drop('TASTES_AND_PREFERENCES',axis = 1)\n",
    "\n",
    "# check result \n",
    "df.head()\n"
   ]
  },
  {
   "cell_type": "code",
   "execution_count": 15,
   "metadata": {
    "deletable": false,
    "editable": false
   },
   "outputs": [],
   "source": [
    "# saving results\n",
    "df.to_excel('Apprentice_Chef_Feature_Rich.xlsx',index=False)\n",
    "\n",
    "# loading saved file\n",
    "df = pd.read_excel('Apprentice_Chef_Feature_Rich.xlsx')\n"
   ]
  },
  {
   "cell_type": "code",
   "execution_count": 16,
   "metadata": {},
   "outputs": [
    {
     "output_type": "execute_result",
     "data": {
      "text/plain": [
       "   REVENUE  CROSS_SELL_SUCCESS  TOTAL_MEALS_ORDERED  UNIQUE_MEALS_PURCH  CONTACTS_W_CUSTOMER_SERVICE  PRODUCT_CATEGORIES_VIEWED  AVG_TIME_PER_SITE_VISIT  CANCELLATIONS_BEFORE_NOON  CANCELLATIONS_AFTER_NOON  PC_LOGINS  MOBILE_LOGINS  WEEKLY_PLAN  EARLY_DELIVERIES  LATE_DELIVERIES  PACKAGE_LOCKER  REFRIGERATED_LOCKER  AVG_PREP_VID_TIME  LARGEST_ORDER_SIZE  MASTER_CLASSES_ATTENDED  MEDIAN_MEAL_RATING  AVG_CLICKS_PER_VISIT  TOTAL_PHOTOS_VIEWED  EMAIL_JUNK  EMAIL_PERSONAL  EMAIL_PREFESSIONAL  EMAIL_UNKNOWN  AVG_PRICE  Customers_Existing  Customers_New  Customers_MOBILE_Existing  Customers_MOBILE_New\n",
       "0    393.0                   1                   14                   6                           12                         10                    48.00                          3                         1          5              2            0                 0                2               0                    0               33.4                   1                        0                   1                    17                    0           0               0                   1              0  28.071429                   0              1                          0                     1\n",
       "1   1365.0                   1                   87                   3                            8                          8                    40.35                          0                         0          5              1           12                 0                2               0                    0               84.8                   1                        0                   3                    13                  170           0               0                   1              0  15.689655                   0              1                          0                     1\n",
       "2    800.0                   1                   15                   7                           11                          5                    19.77                          3                         0          6              1            1                 0                1               0                    0               63.0                   1                        0                   2                    16                    0           0               0                   1              0  53.333333                   0              1                          0                     1\n",
       "3    600.0                   1                   13                   6                           11                          5                    90.00                          2                         0          6              1           14                 0                3               0                    0               43.8                   1                        0                   2                    14                    0           0               0                   1              0  46.153846                   0              1                          0                     1\n",
       "4   1490.0                   1                   47                   8                            6                         10                    40.38                          0                         0          5              1            5                 0                8               0                    0               84.8                   1                        1                   3                    12                  205           0               0                   1              0  31.702128                   1              0                          0                     1"
      ],
      "text/html": "<div>\n<style scoped>\n    .dataframe tbody tr th:only-of-type {\n        vertical-align: middle;\n    }\n\n    .dataframe tbody tr th {\n        vertical-align: top;\n    }\n\n    .dataframe thead th {\n        text-align: right;\n    }\n</style>\n<table border=\"1\" class=\"dataframe\">\n  <thead>\n    <tr style=\"text-align: right;\">\n      <th></th>\n      <th>REVENUE</th>\n      <th>CROSS_SELL_SUCCESS</th>\n      <th>TOTAL_MEALS_ORDERED</th>\n      <th>UNIQUE_MEALS_PURCH</th>\n      <th>CONTACTS_W_CUSTOMER_SERVICE</th>\n      <th>PRODUCT_CATEGORIES_VIEWED</th>\n      <th>AVG_TIME_PER_SITE_VISIT</th>\n      <th>CANCELLATIONS_BEFORE_NOON</th>\n      <th>CANCELLATIONS_AFTER_NOON</th>\n      <th>PC_LOGINS</th>\n      <th>MOBILE_LOGINS</th>\n      <th>WEEKLY_PLAN</th>\n      <th>EARLY_DELIVERIES</th>\n      <th>LATE_DELIVERIES</th>\n      <th>PACKAGE_LOCKER</th>\n      <th>REFRIGERATED_LOCKER</th>\n      <th>AVG_PREP_VID_TIME</th>\n      <th>LARGEST_ORDER_SIZE</th>\n      <th>MASTER_CLASSES_ATTENDED</th>\n      <th>MEDIAN_MEAL_RATING</th>\n      <th>AVG_CLICKS_PER_VISIT</th>\n      <th>TOTAL_PHOTOS_VIEWED</th>\n      <th>EMAIL_JUNK</th>\n      <th>EMAIL_PERSONAL</th>\n      <th>EMAIL_PREFESSIONAL</th>\n      <th>EMAIL_UNKNOWN</th>\n      <th>AVG_PRICE</th>\n      <th>Customers_Existing</th>\n      <th>Customers_New</th>\n      <th>Customers_MOBILE_Existing</th>\n      <th>Customers_MOBILE_New</th>\n    </tr>\n  </thead>\n  <tbody>\n    <tr>\n      <th>0</th>\n      <td>393.0</td>\n      <td>1</td>\n      <td>14</td>\n      <td>6</td>\n      <td>12</td>\n      <td>10</td>\n      <td>48.00</td>\n      <td>3</td>\n      <td>1</td>\n      <td>5</td>\n      <td>2</td>\n      <td>0</td>\n      <td>0</td>\n      <td>2</td>\n      <td>0</td>\n      <td>0</td>\n      <td>33.4</td>\n      <td>1</td>\n      <td>0</td>\n      <td>1</td>\n      <td>17</td>\n      <td>0</td>\n      <td>0</td>\n      <td>0</td>\n      <td>1</td>\n      <td>0</td>\n      <td>28.071429</td>\n      <td>0</td>\n      <td>1</td>\n      <td>0</td>\n      <td>1</td>\n    </tr>\n    <tr>\n      <th>1</th>\n      <td>1365.0</td>\n      <td>1</td>\n      <td>87</td>\n      <td>3</td>\n      <td>8</td>\n      <td>8</td>\n      <td>40.35</td>\n      <td>0</td>\n      <td>0</td>\n      <td>5</td>\n      <td>1</td>\n      <td>12</td>\n      <td>0</td>\n      <td>2</td>\n      <td>0</td>\n      <td>0</td>\n      <td>84.8</td>\n      <td>1</td>\n      <td>0</td>\n      <td>3</td>\n      <td>13</td>\n      <td>170</td>\n      <td>0</td>\n      <td>0</td>\n      <td>1</td>\n      <td>0</td>\n      <td>15.689655</td>\n      <td>0</td>\n      <td>1</td>\n      <td>0</td>\n      <td>1</td>\n    </tr>\n    <tr>\n      <th>2</th>\n      <td>800.0</td>\n      <td>1</td>\n      <td>15</td>\n      <td>7</td>\n      <td>11</td>\n      <td>5</td>\n      <td>19.77</td>\n      <td>3</td>\n      <td>0</td>\n      <td>6</td>\n      <td>1</td>\n      <td>1</td>\n      <td>0</td>\n      <td>1</td>\n      <td>0</td>\n      <td>0</td>\n      <td>63.0</td>\n      <td>1</td>\n      <td>0</td>\n      <td>2</td>\n      <td>16</td>\n      <td>0</td>\n      <td>0</td>\n      <td>0</td>\n      <td>1</td>\n      <td>0</td>\n      <td>53.333333</td>\n      <td>0</td>\n      <td>1</td>\n      <td>0</td>\n      <td>1</td>\n    </tr>\n    <tr>\n      <th>3</th>\n      <td>600.0</td>\n      <td>1</td>\n      <td>13</td>\n      <td>6</td>\n      <td>11</td>\n      <td>5</td>\n      <td>90.00</td>\n      <td>2</td>\n      <td>0</td>\n      <td>6</td>\n      <td>1</td>\n      <td>14</td>\n      <td>0</td>\n      <td>3</td>\n      <td>0</td>\n      <td>0</td>\n      <td>43.8</td>\n      <td>1</td>\n      <td>0</td>\n      <td>2</td>\n      <td>14</td>\n      <td>0</td>\n      <td>0</td>\n      <td>0</td>\n      <td>1</td>\n      <td>0</td>\n      <td>46.153846</td>\n      <td>0</td>\n      <td>1</td>\n      <td>0</td>\n      <td>1</td>\n    </tr>\n    <tr>\n      <th>4</th>\n      <td>1490.0</td>\n      <td>1</td>\n      <td>47</td>\n      <td>8</td>\n      <td>6</td>\n      <td>10</td>\n      <td>40.38</td>\n      <td>0</td>\n      <td>0</td>\n      <td>5</td>\n      <td>1</td>\n      <td>5</td>\n      <td>0</td>\n      <td>8</td>\n      <td>0</td>\n      <td>0</td>\n      <td>84.8</td>\n      <td>1</td>\n      <td>1</td>\n      <td>3</td>\n      <td>12</td>\n      <td>205</td>\n      <td>0</td>\n      <td>0</td>\n      <td>1</td>\n      <td>0</td>\n      <td>31.702128</td>\n      <td>1</td>\n      <td>0</td>\n      <td>0</td>\n      <td>1</td>\n    </tr>\n  </tbody>\n</table>\n</div>"
     },
     "metadata": {},
     "execution_count": 16
    }
   ],
   "source": [
    "\n",
    "\n",
    "\n",
    "# MOBILE_NUMBER\n",
    "# 判断手机号，区分现有客户及新用户\n",
    "\n",
    "# \n",
    "df['MOBILE_NUMBER'][df['MOBILE_NUMBER'] == 0] ='Existing'\n",
    "df['MOBILE_NUMBER'][df['MOBILE_NUMBER'] == 1] ='New'\n",
    "\n",
    "# one hot TASTES_AND_PREFERENCES\n",
    "one_hot_tap = pd.get_dummies(df['MOBILE_NUMBER'],prefix='Customers_MOBILE',prefix_sep='_')\n",
    "\n",
    "# joining codings together\n",
    "df = df.join(one_hot_tap)\n",
    "\n",
    "# drop EMAIL\n",
    "df = df.drop('MOBILE_NUMBER',axis = 1)\n",
    "\n",
    "# check result \n",
    "df.head()\n",
    "\n"
   ]
  },
  {
   "cell_type": "code",
   "execution_count": 17,
   "metadata": {
    "deletable": false,
    "editable": false
   },
   "outputs": [],
   "source": [
    "# saving results\n",
    "df.to_excel('Apprentice_Chef_Feature_Rich.xlsx',index=False)\n",
    "\n",
    "# loading saved file\n",
    "df = pd.read_excel('Apprentice_Chef_Feature_Rich.xlsx')\n"
   ]
  },
  {
   "cell_type": "code",
   "execution_count": 18,
   "metadata": {},
   "outputs": [],
   "source": [
    "\n",
    "# WEEKLY_PLAN\n",
    "# 订餐次数、周数，根据标准划分，并乘以周计划次数\n",
    "\n",
    "df['WEEKLY_PLAN_DISCOUNT']= 1\n",
    "\n",
    "for index,col in df.iterrows():\n",
    "    _ = df.loc[index,'TOTAL_MEALS_ORDERED']//52\n",
    "    if _ >=5:\n",
    "        df.loc[index,'WEEKLY_PLAN_DISCOUNT']= 0.8\n",
    "    elif _ >=3:\n",
    "        df.loc[index,'WEEKLY_PLAN_DISCOUNT']= 0.9\n",
    "    else:\n",
    "        df.loc[index,'WEEKLY_PLAN_DISCOUNT']= 1        \n",
    "\n",
    "df['WEEKLY_PLAN_DISCOUNT'].head()\n",
    "\n",
    "\n",
    "\n",
    "one_hot_discounts = pd.get_dummies(df['WEEKLY_PLAN_DISCOUNT'],prefix='WEEKLY_PLAN_DISCOUNT',prefix_sep='_')\n",
    "\n",
    "# joining codings together\n",
    "df = df.join(one_hot_discounts)\n",
    "df = df.drop('WEEKLY_PLAN_DISCOUNT',axis = 1)\n",
    "\n",
    "\n",
    "# 另外一个比例订餐次数的比例\n",
    "\n",
    "df['WEEKLY_PLAN_RATE']= df['WEEKLY_PLAN']//52\n",
    "\n",
    "df = df.drop('WEEKLY_PLAN',axis = 1)\n",
    "\n"
   ]
  },
  {
   "cell_type": "code",
   "execution_count": 19,
   "metadata": {
    "deletable": false,
    "editable": false
   },
   "outputs": [],
   "source": [
    "# saving results\n",
    "df.to_excel('Apprentice_Chef_Feature_Rich.xlsx',index=False)\n",
    "\n",
    "# loading saved file\n",
    "df = pd.read_excel('Apprentice_Chef_Feature_Rich.xlsx')\n"
   ]
  },
  {
   "cell_type": "code",
   "execution_count": 20,
   "metadata": {},
   "outputs": [
    {
     "output_type": "execute_result",
     "data": {
      "text/plain": [
       "Index(['REVENUE', 'CROSS_SELL_SUCCESS', 'TOTAL_MEALS_ORDERED', 'UNIQUE_MEALS_PURCH', 'CONTACTS_W_CUSTOMER_SERVICE', 'PRODUCT_CATEGORIES_VIEWED', 'AVG_TIME_PER_SITE_VISIT', 'CANCELLATIONS_BEFORE_NOON', 'CANCELLATIONS_AFTER_NOON', 'PC_LOGINS', 'MOBILE_LOGINS', 'EARLY_DELIVERIES', 'LATE_DELIVERIES', 'PACKAGE_LOCKER', 'REFRIGERATED_LOCKER', 'AVG_PREP_VID_TIME', 'LARGEST_ORDER_SIZE', 'MASTER_CLASSES_ATTENDED', 'MEDIAN_MEAL_RATING', 'AVG_CLICKS_PER_VISIT', 'TOTAL_PHOTOS_VIEWED', 'EMAIL_JUNK', 'EMAIL_PERSONAL', 'EMAIL_PREFESSIONAL', 'EMAIL_UNKNOWN', 'AVG_PRICE', 'Customers_Existing', 'Customers_New', 'Customers_MOBILE_Existing', 'Customers_MOBILE_New', 'WEEKLY_PLAN_DISCOUNT_0.8', 'WEEKLY_PLAN_DISCOUNT_0.9', 'WEEKLY_PLAN_DISCOUNT_1.0', 'WEEKLY_PLAN_RATE'], dtype='object')"
      ]
     },
     "metadata": {},
     "execution_count": 20
    }
   ],
   "source": [
    "df.columns"
   ]
  },
  {
   "cell_type": "code",
   "execution_count": 21,
   "metadata": {},
   "outputs": [
    {
     "output_type": "stream",
     "name": "stdout",
     "text": [
      "df_train['REVENUE']+\ndf_train['CROSS_SELL_SUCCESS']+\ndf_train['TOTAL_MEALS_ORDERED']+\ndf_train['UNIQUE_MEALS_PURCH']+\ndf_train['CONTACTS_W_CUSTOMER_SERVICE']+\ndf_train['PRODUCT_CATEGORIES_VIEWED']+\ndf_train['AVG_TIME_PER_SITE_VISIT']+\ndf_train['CANCELLATIONS_BEFORE_NOON']+\ndf_train['CANCELLATIONS_AFTER_NOON']+\ndf_train['PC_LOGINS']+\ndf_train['MOBILE_LOGINS']+\ndf_train['EARLY_DELIVERIES']+\ndf_train['LATE_DELIVERIES']+\ndf_train['PACKAGE_LOCKER']+\ndf_train['REFRIGERATED_LOCKER']+\ndf_train['AVG_PREP_VID_TIME']+\ndf_train['LARGEST_ORDER_SIZE']+\ndf_train['MASTER_CLASSES_ATTENDED']+\ndf_train['MEDIAN_MEAL_RATING']+\ndf_train['AVG_CLICKS_PER_VISIT']+\ndf_train['TOTAL_PHOTOS_VIEWED']+\ndf_train['EMAIL_JUNK']+\ndf_train['EMAIL_PERSONAL']+\ndf_train['EMAIL_PREFESSIONAL']+\ndf_train['EMAIL_UNKNOWN']+\ndf_train['AVG_PRICE']+\ndf_train['Customers_Existing']+\ndf_train['Customers_New']+\ndf_train['Customers_MOBILE_Existing']+\ndf_train['Customers_MOBILE_New']+\ndf_train['WEEKLY_PLAN_DISCOUNT_0.8']+\ndf_train['WEEKLY_PLAN_DISCOUNT_0.9']+\ndf_train['WEEKLY_PLAN_DISCOUNT_1.0']+\ndf_train['WEEKLY_PLAN_RATE']+\n"
     ]
    }
   ],
   "source": [
    "for x in df.columns:\n",
    "    print(\"df_train['\"+x+\"']+\")"
   ]
  },
  {
   "cell_type": "code",
   "execution_count": 22,
   "metadata": {},
   "outputs": [
    {
     "output_type": "execute_result",
     "data": {
      "text/plain": [
       "   REVENUE  CROSS_SELL_SUCCESS  TOTAL_MEALS_ORDERED  UNIQUE_MEALS_PURCH  CONTACTS_W_CUSTOMER_SERVICE  PRODUCT_CATEGORIES_VIEWED  AVG_TIME_PER_SITE_VISIT  CANCELLATIONS_BEFORE_NOON  CANCELLATIONS_AFTER_NOON  PC_LOGINS  MOBILE_LOGINS  EARLY_DELIVERIES  LATE_DELIVERIES  PACKAGE_LOCKER  REFRIGERATED_LOCKER  AVG_PREP_VID_TIME  LARGEST_ORDER_SIZE  MASTER_CLASSES_ATTENDED  MEDIAN_MEAL_RATING  AVG_CLICKS_PER_VISIT  TOTAL_PHOTOS_VIEWED  EMAIL_JUNK  EMAIL_PERSONAL  EMAIL_PREFESSIONAL  EMAIL_UNKNOWN  AVG_PRICE  Customers_Existing  Customers_New  Customers_MOBILE_Existing  Customers_MOBILE_New  WEEKLY_PLAN_DISCOUNT_0.8  WEEKLY_PLAN_DISCOUNT_0.9  WEEKLY_PLAN_DISCOUNT_1.0  WEEKLY_PLAN_RATE\n",
       "0    393.0                   1                   14                   6                           12                         10                    48.00                          3                         1          5              2                 0                2               0                    0               33.4                   1                        0                   1                    17                    0           0               0                   1              0  28.071429                   0              1                          0                     1                         0                         0                         1                 0\n",
       "1   1365.0                   1                   87                   3                            8                          8                    40.35                          0                         0          5              1                 0                2               0                    0               84.8                   1                        0                   3                    13                  170           0               0                   1              0  15.689655                   0              1                          0                     1                         0                         0                         1                 0\n",
       "2    800.0                   1                   15                   7                           11                          5                    19.77                          3                         0          6              1                 0                1               0                    0               63.0                   1                        0                   2                    16                    0           0               0                   1              0  53.333333                   0              1                          0                     1                         0                         0                         1                 0\n",
       "3    600.0                   1                   13                   6                           11                          5                    90.00                          2                         0          6              1                 0                3               0                    0               43.8                   1                        0                   2                    14                    0           0               0                   1              0  46.153846                   0              1                          0                     1                         0                         0                         1                 0\n",
       "4   1490.0                   1                   47                   8                            6                         10                    40.38                          0                         0          5              1                 0                8               0                    0               84.8                   1                        1                   3                    12                  205           0               0                   1              0  31.702128                   1              0                          0                     1                         0                         0                         1                 0"
      ],
      "text/html": "<div>\n<style scoped>\n    .dataframe tbody tr th:only-of-type {\n        vertical-align: middle;\n    }\n\n    .dataframe tbody tr th {\n        vertical-align: top;\n    }\n\n    .dataframe thead th {\n        text-align: right;\n    }\n</style>\n<table border=\"1\" class=\"dataframe\">\n  <thead>\n    <tr style=\"text-align: right;\">\n      <th></th>\n      <th>REVENUE</th>\n      <th>CROSS_SELL_SUCCESS</th>\n      <th>TOTAL_MEALS_ORDERED</th>\n      <th>UNIQUE_MEALS_PURCH</th>\n      <th>CONTACTS_W_CUSTOMER_SERVICE</th>\n      <th>PRODUCT_CATEGORIES_VIEWED</th>\n      <th>AVG_TIME_PER_SITE_VISIT</th>\n      <th>CANCELLATIONS_BEFORE_NOON</th>\n      <th>CANCELLATIONS_AFTER_NOON</th>\n      <th>PC_LOGINS</th>\n      <th>MOBILE_LOGINS</th>\n      <th>EARLY_DELIVERIES</th>\n      <th>LATE_DELIVERIES</th>\n      <th>PACKAGE_LOCKER</th>\n      <th>REFRIGERATED_LOCKER</th>\n      <th>AVG_PREP_VID_TIME</th>\n      <th>LARGEST_ORDER_SIZE</th>\n      <th>MASTER_CLASSES_ATTENDED</th>\n      <th>MEDIAN_MEAL_RATING</th>\n      <th>AVG_CLICKS_PER_VISIT</th>\n      <th>TOTAL_PHOTOS_VIEWED</th>\n      <th>EMAIL_JUNK</th>\n      <th>EMAIL_PERSONAL</th>\n      <th>EMAIL_PREFESSIONAL</th>\n      <th>EMAIL_UNKNOWN</th>\n      <th>AVG_PRICE</th>\n      <th>Customers_Existing</th>\n      <th>Customers_New</th>\n      <th>Customers_MOBILE_Existing</th>\n      <th>Customers_MOBILE_New</th>\n      <th>WEEKLY_PLAN_DISCOUNT_0.8</th>\n      <th>WEEKLY_PLAN_DISCOUNT_0.9</th>\n      <th>WEEKLY_PLAN_DISCOUNT_1.0</th>\n      <th>WEEKLY_PLAN_RATE</th>\n    </tr>\n  </thead>\n  <tbody>\n    <tr>\n      <th>0</th>\n      <td>393.0</td>\n      <td>1</td>\n      <td>14</td>\n      <td>6</td>\n      <td>12</td>\n      <td>10</td>\n      <td>48.00</td>\n      <td>3</td>\n      <td>1</td>\n      <td>5</td>\n      <td>2</td>\n      <td>0</td>\n      <td>2</td>\n      <td>0</td>\n      <td>0</td>\n      <td>33.4</td>\n      <td>1</td>\n      <td>0</td>\n      <td>1</td>\n      <td>17</td>\n      <td>0</td>\n      <td>0</td>\n      <td>0</td>\n      <td>1</td>\n      <td>0</td>\n      <td>28.071429</td>\n      <td>0</td>\n      <td>1</td>\n      <td>0</td>\n      <td>1</td>\n      <td>0</td>\n      <td>0</td>\n      <td>1</td>\n      <td>0</td>\n    </tr>\n    <tr>\n      <th>1</th>\n      <td>1365.0</td>\n      <td>1</td>\n      <td>87</td>\n      <td>3</td>\n      <td>8</td>\n      <td>8</td>\n      <td>40.35</td>\n      <td>0</td>\n      <td>0</td>\n      <td>5</td>\n      <td>1</td>\n      <td>0</td>\n      <td>2</td>\n      <td>0</td>\n      <td>0</td>\n      <td>84.8</td>\n      <td>1</td>\n      <td>0</td>\n      <td>3</td>\n      <td>13</td>\n      <td>170</td>\n      <td>0</td>\n      <td>0</td>\n      <td>1</td>\n      <td>0</td>\n      <td>15.689655</td>\n      <td>0</td>\n      <td>1</td>\n      <td>0</td>\n      <td>1</td>\n      <td>0</td>\n      <td>0</td>\n      <td>1</td>\n      <td>0</td>\n    </tr>\n    <tr>\n      <th>2</th>\n      <td>800.0</td>\n      <td>1</td>\n      <td>15</td>\n      <td>7</td>\n      <td>11</td>\n      <td>5</td>\n      <td>19.77</td>\n      <td>3</td>\n      <td>0</td>\n      <td>6</td>\n      <td>1</td>\n      <td>0</td>\n      <td>1</td>\n      <td>0</td>\n      <td>0</td>\n      <td>63.0</td>\n      <td>1</td>\n      <td>0</td>\n      <td>2</td>\n      <td>16</td>\n      <td>0</td>\n      <td>0</td>\n      <td>0</td>\n      <td>1</td>\n      <td>0</td>\n      <td>53.333333</td>\n      <td>0</td>\n      <td>1</td>\n      <td>0</td>\n      <td>1</td>\n      <td>0</td>\n      <td>0</td>\n      <td>1</td>\n      <td>0</td>\n    </tr>\n    <tr>\n      <th>3</th>\n      <td>600.0</td>\n      <td>1</td>\n      <td>13</td>\n      <td>6</td>\n      <td>11</td>\n      <td>5</td>\n      <td>90.00</td>\n      <td>2</td>\n      <td>0</td>\n      <td>6</td>\n      <td>1</td>\n      <td>0</td>\n      <td>3</td>\n      <td>0</td>\n      <td>0</td>\n      <td>43.8</td>\n      <td>1</td>\n      <td>0</td>\n      <td>2</td>\n      <td>14</td>\n      <td>0</td>\n      <td>0</td>\n      <td>0</td>\n      <td>1</td>\n      <td>0</td>\n      <td>46.153846</td>\n      <td>0</td>\n      <td>1</td>\n      <td>0</td>\n      <td>1</td>\n      <td>0</td>\n      <td>0</td>\n      <td>1</td>\n      <td>0</td>\n    </tr>\n    <tr>\n      <th>4</th>\n      <td>1490.0</td>\n      <td>1</td>\n      <td>47</td>\n      <td>8</td>\n      <td>6</td>\n      <td>10</td>\n      <td>40.38</td>\n      <td>0</td>\n      <td>0</td>\n      <td>5</td>\n      <td>1</td>\n      <td>0</td>\n      <td>8</td>\n      <td>0</td>\n      <td>0</td>\n      <td>84.8</td>\n      <td>1</td>\n      <td>1</td>\n      <td>3</td>\n      <td>12</td>\n      <td>205</td>\n      <td>0</td>\n      <td>0</td>\n      <td>1</td>\n      <td>0</td>\n      <td>31.702128</td>\n      <td>1</td>\n      <td>0</td>\n      <td>0</td>\n      <td>1</td>\n      <td>0</td>\n      <td>0</td>\n      <td>1</td>\n      <td>0</td>\n    </tr>\n  </tbody>\n</table>\n</div>"
     },
     "metadata": {},
     "execution_count": 22
    }
   ],
   "source": [
    "df.head()"
   ]
  },
  {
   "cell_type": "code",
   "execution_count": 19,
   "metadata": {},
   "outputs": [],
   "source": [
    "# ##########################\n",
    "# 开始进行分析\n",
    "# ###################"
   ]
  },
  {
   "cell_type": "code",
   "execution_count": 24,
   "metadata": {},
   "outputs": [],
   "source": [
    "# import packages\n",
    "from sklearn.model_selection import train_test_split\n",
    "import statsmodels.formula.api as smf\n"
   ]
  },
  {
   "cell_type": "code",
   "execution_count": 25,
   "metadata": {},
   "outputs": [],
   "source": [
    "\n",
    "# declaring explanatory variables\n",
    "df_data = df.drop('CROSS_SELL_SUCCESS', axis = 1)\n",
    "# declaring response variable\n",
    "df_target = df.loc[ : , 'CROSS_SELL_SUCCESS']\n",
    "\n"
   ]
  },
  {
   "cell_type": "code",
   "execution_count": null,
   "metadata": {},
   "outputs": [],
   "source": []
  },
  {
   "cell_type": "code",
   "execution_count": 26,
   "metadata": {},
   "outputs": [],
   "source": [
    "# train-test split with stratification\n",
    "X_train, X_test, y_train, y_test = train_test_split(\n",
    "            df_data,\n",
    "            df_target,\n",
    "            test_size = 0.25,\n",
    "            random_state = 508,\n",
    "            stratify = df_target)\n",
    "\n",
    "\n",
    "# merging training data for statsmodels\n",
    "df_train = pd.concat([X_train, y_train], axis = 1)"
   ]
  },
  {
   "cell_type": "code",
   "execution_count": 27,
   "metadata": {},
   "outputs": [],
   "source": [
    "# REVENUE+\n",
    "#                                                                 AVG_PRICE+\n",
    "#                                                                 TOTAL_MEALS_ORDERED+\n",
    "#                                                                 UNIQUE_MEALS_PURCH+\n",
    "#                                                                 CONTACTS_W_CUSTOMER_SERVICE+\n",
    "#                                                                 PRODUCT_CATEGORIES_VIEWED+\n",
    "#                                                                 AVG_TIME_PER_SITE_VISIT+\n",
    "#                                                                 CANCELLATIONS_BEFORE_NOON+\n",
    "#                                                                 CANCELLATIONS_AFTER_NOON+\n",
    "#                                                                 MOBILE_LOGINS+\n",
    "#                                                                 PC_LOGINS+\n",
    "#                                                                 EARLY_DELIVERIES+\n",
    "#                                                                 LATE_DELIVERIES+\n",
    "#                                                                 PACKAGE_LOCKER+\n",
    "#                                                                 REFRIGERATED_LOCKER+\n",
    "#                                                                 FOLLOWED_RECOMMENDATIONS_PCT+\n",
    "#                                                                 AVG_PREP_VID_TIME+\n",
    "#                                                                 LARGEST_ORDER_SIZE+\n",
    "#                                                                 MASTER_CLASSES_ATTENDED+\n",
    "#                                                                 MEDIAN_MEAL_RATING+\n",
    "#                                                                 AVG_CLICKS_PER_VISIT+\n",
    "#                                                                 TOTAL_PHOTOS_VIEWED+\n",
    "#                                                                 EMAIL_JUNK+\n",
    "#                                                                 EMAIL_PERSONAL+\n",
    "#                                                                 EMAIL_PREFESSIONAL+\n",
    "#                                                                 Customers_Existing+\n",
    "#                                                                 Customers_MOBILE_Existing+\n",
    "#                                                                 WEEKLY_PLAN_RATE+\n",
    "#                                                                 df_train['WEEKLY_PLAN_DISCOUNT_0.8']+\n",
    "#                                                                 df_train['WEEKLY_PLAN_DISCOUNT_0.9']"
   ]
  },
  {
   "cell_type": "code",
   "execution_count": 29,
   "metadata": {},
   "outputs": [
    {
     "output_type": "stream",
     "name": "stdout",
     "text": [
      "Optimization terminated successfully.\n         Current function value: 0.553609\n         Iterations 6\n"
     ]
    },
    {
     "output_type": "execute_result",
     "data": {
      "text/plain": [
       "<class 'statsmodels.iolib.summary.Summary'>\n",
       "\"\"\"\n",
       "                           Logit Regression Results                           \n",
       "==============================================================================\n",
       "Dep. Variable:     CROSS_SELL_SUCCESS   No. Observations:                 1459\n",
       "Model:                          Logit   Df Residuals:                     1429\n",
       "Method:                           MLE   Df Model:                           29\n",
       "Date:                Sun, 24 Jan 2021   Pseudo R-squ.:                  0.1184\n",
       "Time:                        23:42:08   Log-Likelihood:                -807.72\n",
       "converged:                       True   LL-Null:                       -916.19\n",
       "Covariance Type:            nonrobust   LLR p-value:                 1.146e-30\n",
       "========================================================================================================\n",
       "                                           coef    std err          z      P>|z|      [0.025      0.975]\n",
       "--------------------------------------------------------------------------------------------------------\n",
       "Intercept                               -1.6572      1.362     -1.216      0.224      -4.327       1.013\n",
       "REVENUE                                 -0.0002      0.000     -1.710      0.087      -0.000    2.78e-05\n",
       "AVG_PRICE                               -0.0013      0.006     -0.207      0.836      -0.014       0.011\n",
       "TOTAL_MEALS_ORDERED                      0.0043      0.003      1.290      0.197      -0.002       0.011\n",
       "UNIQUE_MEALS_PURCH                       0.0133      0.026      0.507      0.612      -0.038       0.065\n",
       "CONTACTS_W_CUSTOMER_SERVICE              0.0577      0.032      1.777      0.076      -0.006       0.121\n",
       "PRODUCT_CATEGORIES_VIEWED               -0.0095      0.020     -0.470      0.639      -0.049       0.030\n",
       "AVG_TIME_PER_SITE_VISIT                  0.0012      0.001      0.988      0.323      -0.001       0.004\n",
       "CANCELLATIONS_BEFORE_NOON                0.2900      0.046      6.293      0.000       0.200       0.380\n",
       "CANCELLATIONS_AFTER_NOON                -0.2624      0.141     -1.867      0.062      -0.538       0.013\n",
       "MOBILE_LOGINS                           -0.2430      0.116     -2.091      0.037      -0.471      -0.015\n",
       "PC_LOGINS                                0.1477      0.108      1.370      0.171      -0.064       0.359\n",
       "EARLY_DELIVERIES                         0.0255      0.027      0.947      0.343      -0.027       0.078\n",
       "LATE_DELIVERIES                          0.0172      0.022      0.771      0.441      -0.027       0.061\n",
       "PACKAGE_LOCKER                          -0.0691      0.146     -0.473      0.636      -0.356       0.217\n",
       "REFRIGERATED_LOCKER                      0.4918      0.234      2.104      0.035       0.034       0.950\n",
       "AVG_PREP_VID_TIME                        0.0033      0.003      1.220      0.222      -0.002       0.009\n",
       "LARGEST_ORDER_SIZE                      -0.0530      0.068     -0.782      0.434      -0.186       0.080\n",
       "MASTER_CLASSES_ATTENDED                  0.0165      0.115      0.144      0.886      -0.208       0.241\n",
       "MEDIAN_MEAL_RATING                       0.1059      0.165      0.641      0.522      -0.218       0.430\n",
       "AVG_CLICKS_PER_VISIT                    -0.0197      0.051     -0.384      0.701      -0.120       0.081\n",
       "TOTAL_PHOTOS_VIEWED                  -4.493e-05      0.000     -0.107      0.915      -0.001       0.001\n",
       "EMAIL_JUNK                              -0.0305      0.258     -0.118      0.906      -0.536       0.475\n",
       "EMAIL_PERSONAL                           1.1839      0.226      5.237      0.000       0.741       1.627\n",
       "EMAIL_PREFESSIONAL                       1.7678      0.237      7.447      0.000       1.303       2.233\n",
       "Customers_Existing                      -0.3219      0.133     -2.425      0.015      -0.582      -0.062\n",
       "Customers_MOBILE_Existing               -0.7919      0.178     -4.454      0.000      -1.140      -0.443\n",
       "WEEKLY_PLAN_RATE                        -0.0957      0.634     -0.151      0.880      -1.337       1.146\n",
       "df_train['WEEKLY_PLAN_DISCOUNT_0.8']    -1.9376      0.740     -2.619      0.009      -3.387      -0.488\n",
       "df_train['WEEKLY_PLAN_DISCOUNT_0.9']    -0.7936      0.385     -2.059      0.040      -1.549      -0.038\n",
       "========================================================================================================\n",
       "\"\"\""
      ],
      "text/html": "<table class=\"simpletable\">\n<caption>Logit Regression Results</caption>\n<tr>\n  <th>Dep. Variable:</th>   <td>CROSS_SELL_SUCCESS</td> <th>  No. Observations:  </th>  <td>  1459</td>  \n</tr>\n<tr>\n  <th>Model:</th>                  <td>Logit</td>       <th>  Df Residuals:      </th>  <td>  1429</td>  \n</tr>\n<tr>\n  <th>Method:</th>                  <td>MLE</td>        <th>  Df Model:          </th>  <td>    29</td>  \n</tr>\n<tr>\n  <th>Date:</th>             <td>Sun, 24 Jan 2021</td>  <th>  Pseudo R-squ.:     </th>  <td>0.1184</td>  \n</tr>\n<tr>\n  <th>Time:</th>                 <td>23:42:08</td>      <th>  Log-Likelihood:    </th> <td> -807.72</td> \n</tr>\n<tr>\n  <th>converged:</th>              <td>True</td>        <th>  LL-Null:           </th> <td> -916.19</td> \n</tr>\n<tr>\n  <th>Covariance Type:</th>      <td>nonrobust</td>     <th>  LLR p-value:       </th> <td>1.146e-30</td>\n</tr>\n</table>\n<table class=\"simpletable\">\n<tr>\n                    <td></td>                      <th>coef</th>     <th>std err</th>      <th>z</th>      <th>P>|z|</th>  <th>[0.025</th>    <th>0.975]</th>  \n</tr>\n<tr>\n  <th>Intercept</th>                            <td>   -1.6572</td> <td>    1.362</td> <td>   -1.216</td> <td> 0.224</td> <td>   -4.327</td> <td>    1.013</td>\n</tr>\n<tr>\n  <th>REVENUE</th>                              <td>   -0.0002</td> <td>    0.000</td> <td>   -1.710</td> <td> 0.087</td> <td>   -0.000</td> <td> 2.78e-05</td>\n</tr>\n<tr>\n  <th>AVG_PRICE</th>                            <td>   -0.0013</td> <td>    0.006</td> <td>   -0.207</td> <td> 0.836</td> <td>   -0.014</td> <td>    0.011</td>\n</tr>\n<tr>\n  <th>TOTAL_MEALS_ORDERED</th>                  <td>    0.0043</td> <td>    0.003</td> <td>    1.290</td> <td> 0.197</td> <td>   -0.002</td> <td>    0.011</td>\n</tr>\n<tr>\n  <th>UNIQUE_MEALS_PURCH</th>                   <td>    0.0133</td> <td>    0.026</td> <td>    0.507</td> <td> 0.612</td> <td>   -0.038</td> <td>    0.065</td>\n</tr>\n<tr>\n  <th>CONTACTS_W_CUSTOMER_SERVICE</th>          <td>    0.0577</td> <td>    0.032</td> <td>    1.777</td> <td> 0.076</td> <td>   -0.006</td> <td>    0.121</td>\n</tr>\n<tr>\n  <th>PRODUCT_CATEGORIES_VIEWED</th>            <td>   -0.0095</td> <td>    0.020</td> <td>   -0.470</td> <td> 0.639</td> <td>   -0.049</td> <td>    0.030</td>\n</tr>\n<tr>\n  <th>AVG_TIME_PER_SITE_VISIT</th>              <td>    0.0012</td> <td>    0.001</td> <td>    0.988</td> <td> 0.323</td> <td>   -0.001</td> <td>    0.004</td>\n</tr>\n<tr>\n  <th>CANCELLATIONS_BEFORE_NOON</th>            <td>    0.2900</td> <td>    0.046</td> <td>    6.293</td> <td> 0.000</td> <td>    0.200</td> <td>    0.380</td>\n</tr>\n<tr>\n  <th>CANCELLATIONS_AFTER_NOON</th>             <td>   -0.2624</td> <td>    0.141</td> <td>   -1.867</td> <td> 0.062</td> <td>   -0.538</td> <td>    0.013</td>\n</tr>\n<tr>\n  <th>MOBILE_LOGINS</th>                        <td>   -0.2430</td> <td>    0.116</td> <td>   -2.091</td> <td> 0.037</td> <td>   -0.471</td> <td>   -0.015</td>\n</tr>\n<tr>\n  <th>PC_LOGINS</th>                            <td>    0.1477</td> <td>    0.108</td> <td>    1.370</td> <td> 0.171</td> <td>   -0.064</td> <td>    0.359</td>\n</tr>\n<tr>\n  <th>EARLY_DELIVERIES</th>                     <td>    0.0255</td> <td>    0.027</td> <td>    0.947</td> <td> 0.343</td> <td>   -0.027</td> <td>    0.078</td>\n</tr>\n<tr>\n  <th>LATE_DELIVERIES</th>                      <td>    0.0172</td> <td>    0.022</td> <td>    0.771</td> <td> 0.441</td> <td>   -0.027</td> <td>    0.061</td>\n</tr>\n<tr>\n  <th>PACKAGE_LOCKER</th>                       <td>   -0.0691</td> <td>    0.146</td> <td>   -0.473</td> <td> 0.636</td> <td>   -0.356</td> <td>    0.217</td>\n</tr>\n<tr>\n  <th>REFRIGERATED_LOCKER</th>                  <td>    0.4918</td> <td>    0.234</td> <td>    2.104</td> <td> 0.035</td> <td>    0.034</td> <td>    0.950</td>\n</tr>\n<tr>\n  <th>AVG_PREP_VID_TIME</th>                    <td>    0.0033</td> <td>    0.003</td> <td>    1.220</td> <td> 0.222</td> <td>   -0.002</td> <td>    0.009</td>\n</tr>\n<tr>\n  <th>LARGEST_ORDER_SIZE</th>                   <td>   -0.0530</td> <td>    0.068</td> <td>   -0.782</td> <td> 0.434</td> <td>   -0.186</td> <td>    0.080</td>\n</tr>\n<tr>\n  <th>MASTER_CLASSES_ATTENDED</th>              <td>    0.0165</td> <td>    0.115</td> <td>    0.144</td> <td> 0.886</td> <td>   -0.208</td> <td>    0.241</td>\n</tr>\n<tr>\n  <th>MEDIAN_MEAL_RATING</th>                   <td>    0.1059</td> <td>    0.165</td> <td>    0.641</td> <td> 0.522</td> <td>   -0.218</td> <td>    0.430</td>\n</tr>\n<tr>\n  <th>AVG_CLICKS_PER_VISIT</th>                 <td>   -0.0197</td> <td>    0.051</td> <td>   -0.384</td> <td> 0.701</td> <td>   -0.120</td> <td>    0.081</td>\n</tr>\n<tr>\n  <th>TOTAL_PHOTOS_VIEWED</th>                  <td>-4.493e-05</td> <td>    0.000</td> <td>   -0.107</td> <td> 0.915</td> <td>   -0.001</td> <td>    0.001</td>\n</tr>\n<tr>\n  <th>EMAIL_JUNK</th>                           <td>   -0.0305</td> <td>    0.258</td> <td>   -0.118</td> <td> 0.906</td> <td>   -0.536</td> <td>    0.475</td>\n</tr>\n<tr>\n  <th>EMAIL_PERSONAL</th>                       <td>    1.1839</td> <td>    0.226</td> <td>    5.237</td> <td> 0.000</td> <td>    0.741</td> <td>    1.627</td>\n</tr>\n<tr>\n  <th>EMAIL_PREFESSIONAL</th>                   <td>    1.7678</td> <td>    0.237</td> <td>    7.447</td> <td> 0.000</td> <td>    1.303</td> <td>    2.233</td>\n</tr>\n<tr>\n  <th>Customers_Existing</th>                   <td>   -0.3219</td> <td>    0.133</td> <td>   -2.425</td> <td> 0.015</td> <td>   -0.582</td> <td>   -0.062</td>\n</tr>\n<tr>\n  <th>Customers_MOBILE_Existing</th>            <td>   -0.7919</td> <td>    0.178</td> <td>   -4.454</td> <td> 0.000</td> <td>   -1.140</td> <td>   -0.443</td>\n</tr>\n<tr>\n  <th>WEEKLY_PLAN_RATE</th>                     <td>   -0.0957</td> <td>    0.634</td> <td>   -0.151</td> <td> 0.880</td> <td>   -1.337</td> <td>    1.146</td>\n</tr>\n<tr>\n  <th>df_train['WEEKLY_PLAN_DISCOUNT_0.8']</th> <td>   -1.9376</td> <td>    0.740</td> <td>   -2.619</td> <td> 0.009</td> <td>   -3.387</td> <td>   -0.488</td>\n</tr>\n<tr>\n  <th>df_train['WEEKLY_PLAN_DISCOUNT_0.9']</th> <td>   -0.7936</td> <td>    0.385</td> <td>   -2.059</td> <td> 0.040</td> <td>   -1.549</td> <td>   -0.038</td>\n</tr>\n</table>"
     },
     "metadata": {},
     "execution_count": 29
    }
   ],
   "source": [
    "# instantiating a logistic regression model object\n",
    "logistic_small = smf.logit(formula = \"\"\"CROSS_SELL_SUCCESS ~    REVENUE+\n",
    "                                                                AVG_PRICE+\n",
    "                                                                TOTAL_MEALS_ORDERED+\n",
    "                                                                UNIQUE_MEALS_PURCH+\n",
    "                                                                CONTACTS_W_CUSTOMER_SERVICE+\n",
    "                                                                PRODUCT_CATEGORIES_VIEWED+\n",
    "                                                                AVG_TIME_PER_SITE_VISIT+\n",
    "                                                                CANCELLATIONS_BEFORE_NOON+\n",
    "                                                                CANCELLATIONS_AFTER_NOON+\n",
    "                                                                MOBILE_LOGINS+\n",
    "                                                                PC_LOGINS+\n",
    "                                                                EARLY_DELIVERIES+\n",
    "                                                                LATE_DELIVERIES+\n",
    "                                                                PACKAGE_LOCKER+\n",
    "                                                                REFRIGERATED_LOCKER+\n",
    "                                                                AVG_PREP_VID_TIME+\n",
    "                                                                LARGEST_ORDER_SIZE+\n",
    "                                                                MASTER_CLASSES_ATTENDED+\n",
    "                                                                MEDIAN_MEAL_RATING+\n",
    "                                                                AVG_CLICKS_PER_VISIT+\n",
    "                                                                TOTAL_PHOTOS_VIEWED+\n",
    "                                                                EMAIL_JUNK+\n",
    "                                                                EMAIL_PERSONAL+\n",
    "                                                                EMAIL_PREFESSIONAL+\n",
    "                                                                AVG_PRICE+\n",
    "                                                                Customers_Existing+\n",
    "                                                                Customers_MOBILE_Existing+\n",
    "                                                                WEEKLY_PLAN_RATE+\n",
    "                                                                df_train['WEEKLY_PLAN_DISCOUNT_0.8']+\n",
    "                                                                df_train['WEEKLY_PLAN_DISCOUNT_0.9']\n",
    "\"\"\",\n",
    "                           data    = df_train)\n",
    "\n",
    "\n",
    "# fitting the model object\n",
    "results_logistic = logistic_small.fit()\n",
    "\n",
    "\n",
    "# checking the results SUMMARY\n",
    "results_logistic.summary()"
   ]
  },
  {
   "cell_type": "code",
   "execution_count": null,
   "metadata": {},
   "outputs": [],
   "source": []
  },
  {
   "cell_type": "code",
   "execution_count": 34,
   "metadata": {},
   "outputs": [
    {
     "output_type": "stream",
     "name": "stdout",
     "text": [
      "Optimization terminated successfully.\n         Current function value: 0.562165\n         Iterations 6\n"
     ]
    },
    {
     "output_type": "execute_result",
     "data": {
      "text/plain": [
       "<class 'statsmodels.iolib.summary.Summary'>\n",
       "\"\"\"\n",
       "                           Logit Regression Results                           \n",
       "==============================================================================\n",
       "Dep. Variable:     CROSS_SELL_SUCCESS   No. Observations:                 1459\n",
       "Model:                          Logit   Df Residuals:                     1450\n",
       "Method:                           MLE   Df Model:                            8\n",
       "Date:                Sun, 24 Jan 2021   Pseudo R-squ.:                  0.1048\n",
       "Time:                        23:45:17   Log-Likelihood:                -820.20\n",
       "converged:                       True   LL-Null:                       -916.19\n",
       "Covariance Type:            nonrobust   LLR p-value:                 3.108e-37\n",
       "========================================================================================================\n",
       "                                           coef    std err          z      P>|z|      [0.025      0.975]\n",
       "--------------------------------------------------------------------------------------------------------\n",
       "Intercept                               -0.1841      0.221     -0.832      0.406      -0.618       0.250\n",
       "CANCELLATIONS_BEFORE_NOON                0.2729      0.045      6.047      0.000       0.184       0.361\n",
       "MOBILE_LOGINS                           -0.2257      0.114     -1.982      0.048      -0.449      -0.002\n",
       "REFRIGERATED_LOCKER                      0.4230      0.205      2.066      0.039       0.022       0.824\n",
       "EMAIL_PERSONAL                           1.1608      0.151      7.712      0.000       0.866       1.456\n",
       "EMAIL_PREFESSIONAL                       1.7453      0.166     10.490      0.000       1.419       2.071\n",
       "Customers_Existing                      -0.3229      0.130     -2.475      0.013      -0.579      -0.067\n",
       "Customers_MOBILE_Existing               -0.7578      0.175     -4.327      0.000      -1.101      -0.415\n",
       "df_train['WEEKLY_PLAN_DISCOUNT_0.8']    -0.7633      0.429     -1.778      0.075      -1.605       0.078\n",
       "========================================================================================================\n",
       "\"\"\""
      ],
      "text/html": "<table class=\"simpletable\">\n<caption>Logit Regression Results</caption>\n<tr>\n  <th>Dep. Variable:</th>   <td>CROSS_SELL_SUCCESS</td> <th>  No. Observations:  </th>  <td>  1459</td>  \n</tr>\n<tr>\n  <th>Model:</th>                  <td>Logit</td>       <th>  Df Residuals:      </th>  <td>  1450</td>  \n</tr>\n<tr>\n  <th>Method:</th>                  <td>MLE</td>        <th>  Df Model:          </th>  <td>     8</td>  \n</tr>\n<tr>\n  <th>Date:</th>             <td>Sun, 24 Jan 2021</td>  <th>  Pseudo R-squ.:     </th>  <td>0.1048</td>  \n</tr>\n<tr>\n  <th>Time:</th>                 <td>23:45:17</td>      <th>  Log-Likelihood:    </th> <td> -820.20</td> \n</tr>\n<tr>\n  <th>converged:</th>              <td>True</td>        <th>  LL-Null:           </th> <td> -916.19</td> \n</tr>\n<tr>\n  <th>Covariance Type:</th>      <td>nonrobust</td>     <th>  LLR p-value:       </th> <td>3.108e-37</td>\n</tr>\n</table>\n<table class=\"simpletable\">\n<tr>\n                    <td></td>                      <th>coef</th>     <th>std err</th>      <th>z</th>      <th>P>|z|</th>  <th>[0.025</th>    <th>0.975]</th>  \n</tr>\n<tr>\n  <th>Intercept</th>                            <td>   -0.1841</td> <td>    0.221</td> <td>   -0.832</td> <td> 0.406</td> <td>   -0.618</td> <td>    0.250</td>\n</tr>\n<tr>\n  <th>CANCELLATIONS_BEFORE_NOON</th>            <td>    0.2729</td> <td>    0.045</td> <td>    6.047</td> <td> 0.000</td> <td>    0.184</td> <td>    0.361</td>\n</tr>\n<tr>\n  <th>MOBILE_LOGINS</th>                        <td>   -0.2257</td> <td>    0.114</td> <td>   -1.982</td> <td> 0.048</td> <td>   -0.449</td> <td>   -0.002</td>\n</tr>\n<tr>\n  <th>REFRIGERATED_LOCKER</th>                  <td>    0.4230</td> <td>    0.205</td> <td>    2.066</td> <td> 0.039</td> <td>    0.022</td> <td>    0.824</td>\n</tr>\n<tr>\n  <th>EMAIL_PERSONAL</th>                       <td>    1.1608</td> <td>    0.151</td> <td>    7.712</td> <td> 0.000</td> <td>    0.866</td> <td>    1.456</td>\n</tr>\n<tr>\n  <th>EMAIL_PREFESSIONAL</th>                   <td>    1.7453</td> <td>    0.166</td> <td>   10.490</td> <td> 0.000</td> <td>    1.419</td> <td>    2.071</td>\n</tr>\n<tr>\n  <th>Customers_Existing</th>                   <td>   -0.3229</td> <td>    0.130</td> <td>   -2.475</td> <td> 0.013</td> <td>   -0.579</td> <td>   -0.067</td>\n</tr>\n<tr>\n  <th>Customers_MOBILE_Existing</th>            <td>   -0.7578</td> <td>    0.175</td> <td>   -4.327</td> <td> 0.000</td> <td>   -1.101</td> <td>   -0.415</td>\n</tr>\n<tr>\n  <th>df_train['WEEKLY_PLAN_DISCOUNT_0.8']</th> <td>   -0.7633</td> <td>    0.429</td> <td>   -1.778</td> <td> 0.075</td> <td>   -1.605</td> <td>    0.078</td>\n</tr>\n</table>"
     },
     "metadata": {},
     "execution_count": 34
    }
   ],
   "source": [
    "# instantiating a logistic regression model object\n",
    "logistic_small = smf.logit(formula = \"\"\"CROSS_SELL_SUCCESS ~\n",
    "\n",
    "                                                                CANCELLATIONS_BEFORE_NOON+\n",
    "                                                                MOBILE_LOGINS+\n",
    "                                                                REFRIGERATED_LOCKER+\n",
    "                                                                EMAIL_PERSONAL+\n",
    "                                                                EMAIL_PREFESSIONAL+\n",
    "                                                                Customers_Existing+\n",
    "                                                                Customers_MOBILE_Existing+\n",
    "                                                                df_train['WEEKLY_PLAN_DISCOUNT_0.8']\n",
    "                                                            \n",
    "\"\"\",\n",
    "                           data    = df_train)\n",
    "\n",
    "\n",
    "# fitting the model object\n",
    "results_logistic = logistic_small.fit()\n",
    "\n",
    "\n",
    "# checking the results SUMMARY\n",
    "results_logistic.summary()"
   ]
  },
  {
   "cell_type": "code",
   "execution_count": null,
   "metadata": {},
   "outputs": [],
   "source": []
  },
  {
   "cell_type": "code",
   "execution_count": null,
   "metadata": {},
   "outputs": [],
   "source": []
  },
  {
   "cell_type": "code",
   "execution_count": null,
   "metadata": {},
   "outputs": [],
   "source": []
  },
  {
   "cell_type": "code",
   "execution_count": null,
   "metadata": {},
   "outputs": [],
   "source": []
  },
  {
   "cell_type": "code",
   "execution_count": null,
   "metadata": {},
   "outputs": [],
   "source": []
  },
  {
   "cell_type": "code",
   "execution_count": null,
   "metadata": {},
   "outputs": [],
   "source": []
  },
  {
   "cell_type": "code",
   "execution_count": null,
   "metadata": {},
   "outputs": [],
   "source": []
  },
  {
   "cell_type": "code",
   "execution_count": null,
   "metadata": {},
   "outputs": [],
   "source": []
  },
  {
   "cell_type": "code",
   "execution_count": null,
   "metadata": {},
   "outputs": [],
   "source": []
  },
  {
   "cell_type": "code",
   "execution_count": null,
   "metadata": {},
   "outputs": [],
   "source": []
  },
  {
   "cell_type": "code",
   "execution_count": 35,
   "metadata": {
    "scrolled": true
   },
   "outputs": [
    {
     "output_type": "execute_result",
     "data": {
      "text/plain": [
       "   REVENUE  CROSS_SELL_SUCCESS  TOTAL_MEALS_ORDERED  UNIQUE_MEALS_PURCH  CONTACTS_W_CUSTOMER_SERVICE  PRODUCT_CATEGORIES_VIEWED  AVG_TIME_PER_SITE_VISIT  CANCELLATIONS_BEFORE_NOON  CANCELLATIONS_AFTER_NOON  PC_LOGINS  MOBILE_LOGINS  EARLY_DELIVERIES  LATE_DELIVERIES  PACKAGE_LOCKER  REFRIGERATED_LOCKER  AVG_PREP_VID_TIME  LARGEST_ORDER_SIZE  MASTER_CLASSES_ATTENDED  MEDIAN_MEAL_RATING  AVG_CLICKS_PER_VISIT  TOTAL_PHOTOS_VIEWED  EMAIL_JUNK  EMAIL_PERSONAL  EMAIL_PREFESSIONAL  EMAIL_UNKNOWN  AVG_PRICE  Customers_Existing  Customers_New  Customers_MOBILE_Existing  Customers_MOBILE_New  WEEKLY_PLAN_DISCOUNT_0.8  WEEKLY_PLAN_DISCOUNT_0.9  WEEKLY_PLAN_DISCOUNT_1.0  WEEKLY_PLAN_RATE\n",
       "0    393.0                   1                   14                   6                           12                         10                    48.00                          3                         1          5              2                 0                2               0                    0               33.4                   1                        0                   1                    17                    0           0               0                   1              0  28.071429                   0              1                          0                     1                         0                         0                         1                 0\n",
       "1   1365.0                   1                   87                   3                            8                          8                    40.35                          0                         0          5              1                 0                2               0                    0               84.8                   1                        0                   3                    13                  170           0               0                   1              0  15.689655                   0              1                          0                     1                         0                         0                         1                 0\n",
       "2    800.0                   1                   15                   7                           11                          5                    19.77                          3                         0          6              1                 0                1               0                    0               63.0                   1                        0                   2                    16                    0           0               0                   1              0  53.333333                   0              1                          0                     1                         0                         0                         1                 0\n",
       "3    600.0                   1                   13                   6                           11                          5                    90.00                          2                         0          6              1                 0                3               0                    0               43.8                   1                        0                   2                    14                    0           0               0                   1              0  46.153846                   0              1                          0                     1                         0                         0                         1                 0\n",
       "4   1490.0                   1                   47                   8                            6                         10                    40.38                          0                         0          5              1                 0                8               0                    0               84.8                   1                        1                   3                    12                  205           0               0                   1              0  31.702128                   1              0                          0                     1                         0                         0                         1                 0"
      ],
      "text/html": "<div>\n<style scoped>\n    .dataframe tbody tr th:only-of-type {\n        vertical-align: middle;\n    }\n\n    .dataframe tbody tr th {\n        vertical-align: top;\n    }\n\n    .dataframe thead th {\n        text-align: right;\n    }\n</style>\n<table border=\"1\" class=\"dataframe\">\n  <thead>\n    <tr style=\"text-align: right;\">\n      <th></th>\n      <th>REVENUE</th>\n      <th>CROSS_SELL_SUCCESS</th>\n      <th>TOTAL_MEALS_ORDERED</th>\n      <th>UNIQUE_MEALS_PURCH</th>\n      <th>CONTACTS_W_CUSTOMER_SERVICE</th>\n      <th>PRODUCT_CATEGORIES_VIEWED</th>\n      <th>AVG_TIME_PER_SITE_VISIT</th>\n      <th>CANCELLATIONS_BEFORE_NOON</th>\n      <th>CANCELLATIONS_AFTER_NOON</th>\n      <th>PC_LOGINS</th>\n      <th>MOBILE_LOGINS</th>\n      <th>EARLY_DELIVERIES</th>\n      <th>LATE_DELIVERIES</th>\n      <th>PACKAGE_LOCKER</th>\n      <th>REFRIGERATED_LOCKER</th>\n      <th>AVG_PREP_VID_TIME</th>\n      <th>LARGEST_ORDER_SIZE</th>\n      <th>MASTER_CLASSES_ATTENDED</th>\n      <th>MEDIAN_MEAL_RATING</th>\n      <th>AVG_CLICKS_PER_VISIT</th>\n      <th>TOTAL_PHOTOS_VIEWED</th>\n      <th>EMAIL_JUNK</th>\n      <th>EMAIL_PERSONAL</th>\n      <th>EMAIL_PREFESSIONAL</th>\n      <th>EMAIL_UNKNOWN</th>\n      <th>AVG_PRICE</th>\n      <th>Customers_Existing</th>\n      <th>Customers_New</th>\n      <th>Customers_MOBILE_Existing</th>\n      <th>Customers_MOBILE_New</th>\n      <th>WEEKLY_PLAN_DISCOUNT_0.8</th>\n      <th>WEEKLY_PLAN_DISCOUNT_0.9</th>\n      <th>WEEKLY_PLAN_DISCOUNT_1.0</th>\n      <th>WEEKLY_PLAN_RATE</th>\n    </tr>\n  </thead>\n  <tbody>\n    <tr>\n      <th>0</th>\n      <td>393.0</td>\n      <td>1</td>\n      <td>14</td>\n      <td>6</td>\n      <td>12</td>\n      <td>10</td>\n      <td>48.00</td>\n      <td>3</td>\n      <td>1</td>\n      <td>5</td>\n      <td>2</td>\n      <td>0</td>\n      <td>2</td>\n      <td>0</td>\n      <td>0</td>\n      <td>33.4</td>\n      <td>1</td>\n      <td>0</td>\n      <td>1</td>\n      <td>17</td>\n      <td>0</td>\n      <td>0</td>\n      <td>0</td>\n      <td>1</td>\n      <td>0</td>\n      <td>28.071429</td>\n      <td>0</td>\n      <td>1</td>\n      <td>0</td>\n      <td>1</td>\n      <td>0</td>\n      <td>0</td>\n      <td>1</td>\n      <td>0</td>\n    </tr>\n    <tr>\n      <th>1</th>\n      <td>1365.0</td>\n      <td>1</td>\n      <td>87</td>\n      <td>3</td>\n      <td>8</td>\n      <td>8</td>\n      <td>40.35</td>\n      <td>0</td>\n      <td>0</td>\n      <td>5</td>\n      <td>1</td>\n      <td>0</td>\n      <td>2</td>\n      <td>0</td>\n      <td>0</td>\n      <td>84.8</td>\n      <td>1</td>\n      <td>0</td>\n      <td>3</td>\n      <td>13</td>\n      <td>170</td>\n      <td>0</td>\n      <td>0</td>\n      <td>1</td>\n      <td>0</td>\n      <td>15.689655</td>\n      <td>0</td>\n      <td>1</td>\n      <td>0</td>\n      <td>1</td>\n      <td>0</td>\n      <td>0</td>\n      <td>1</td>\n      <td>0</td>\n    </tr>\n    <tr>\n      <th>2</th>\n      <td>800.0</td>\n      <td>1</td>\n      <td>15</td>\n      <td>7</td>\n      <td>11</td>\n      <td>5</td>\n      <td>19.77</td>\n      <td>3</td>\n      <td>0</td>\n      <td>6</td>\n      <td>1</td>\n      <td>0</td>\n      <td>1</td>\n      <td>0</td>\n      <td>0</td>\n      <td>63.0</td>\n      <td>1</td>\n      <td>0</td>\n      <td>2</td>\n      <td>16</td>\n      <td>0</td>\n      <td>0</td>\n      <td>0</td>\n      <td>1</td>\n      <td>0</td>\n      <td>53.333333</td>\n      <td>0</td>\n      <td>1</td>\n      <td>0</td>\n      <td>1</td>\n      <td>0</td>\n      <td>0</td>\n      <td>1</td>\n      <td>0</td>\n    </tr>\n    <tr>\n      <th>3</th>\n      <td>600.0</td>\n      <td>1</td>\n      <td>13</td>\n      <td>6</td>\n      <td>11</td>\n      <td>5</td>\n      <td>90.00</td>\n      <td>2</td>\n      <td>0</td>\n      <td>6</td>\n      <td>1</td>\n      <td>0</td>\n      <td>3</td>\n      <td>0</td>\n      <td>0</td>\n      <td>43.8</td>\n      <td>1</td>\n      <td>0</td>\n      <td>2</td>\n      <td>14</td>\n      <td>0</td>\n      <td>0</td>\n      <td>0</td>\n      <td>1</td>\n      <td>0</td>\n      <td>46.153846</td>\n      <td>0</td>\n      <td>1</td>\n      <td>0</td>\n      <td>1</td>\n      <td>0</td>\n      <td>0</td>\n      <td>1</td>\n      <td>0</td>\n    </tr>\n    <tr>\n      <th>4</th>\n      <td>1490.0</td>\n      <td>1</td>\n      <td>47</td>\n      <td>8</td>\n      <td>6</td>\n      <td>10</td>\n      <td>40.38</td>\n      <td>0</td>\n      <td>0</td>\n      <td>5</td>\n      <td>1</td>\n      <td>0</td>\n      <td>8</td>\n      <td>0</td>\n      <td>0</td>\n      <td>84.8</td>\n      <td>1</td>\n      <td>1</td>\n      <td>3</td>\n      <td>12</td>\n      <td>205</td>\n      <td>0</td>\n      <td>0</td>\n      <td>1</td>\n      <td>0</td>\n      <td>31.702128</td>\n      <td>1</td>\n      <td>0</td>\n      <td>0</td>\n      <td>1</td>\n      <td>0</td>\n      <td>0</td>\n      <td>1</td>\n      <td>0</td>\n    </tr>\n  </tbody>\n</table>\n</div>"
     },
     "metadata": {},
     "execution_count": 35
    }
   ],
   "source": [
    "# importing libraries\n",
    "import random            as rand                     # random number gen\n",
    "import pandas            as pd                       # data science essentials\n",
    "import matplotlib.pyplot as plt                      # data visualization\n",
    "import seaborn           as sns                      # enhanced data viz\n",
    "from sklearn.model_selection import train_test_split # train-test split\n",
    "from sklearn.linear_model import LogisticRegression  # logistic regression\n",
    "from sklearn.metrics import confusion_matrix         # confusion matrix\n",
    "from sklearn.metrics import roc_auc_score            # auc score\n",
    "from sklearn.neighbors import KNeighborsClassifier   # KNN for classification\n",
    "from sklearn.neighbors import KNeighborsRegressor    # KNN for regression\n",
    "from sklearn.preprocessing import StandardScaler     # standard scaler\n",
    "from sklearn.gaussian_process import GaussianProcessClassifier\n",
    "from sklearn.gaussian_process.kernels import RBF\n",
    "from sklearn.tree import DecisionTreeClassifier\n",
    "from sklearn.ensemble import RandomForestClassifier, AdaBoostClassifier\n",
    "from sklearn.naive_bayes import GaussianNB\n",
    "from sklearn.discriminant_analysis import QuadraticDiscriminantAnalysis\n",
    "from sklearn.neural_network import MLPClassifier\n",
    "from sklearn.ensemble import ExtraTreesClassifier,GradientBoostingClassifier\n",
    "from sklearn.pipeline import Pipeline\n",
    "from sklearn.model_selection import GridSearchCV\n",
    "from sklearn.metrics import roc_auc_score            # auc score\n",
    "\n",
    "# loading data\n",
    "df = pd.read_excel('Apprentice_Chef_Feature_Rich.xlsx')\n",
    "\n",
    "\n",
    "\n",
    "\n",
    "\n",
    "# setting pandas print options\n",
    "pd.set_option('display.max_rows', 500)\n",
    "pd.set_option('display.max_columns', 500)\n",
    "pd.set_option('display.width', 1000)\n",
    "pd.set_option('display.max_colwidth', 100)\n",
    "\n",
    "\n",
    "# displaying the head of the dataset\n",
    "df.head(n = 5)"
   ]
  },
  {
   "cell_type": "code",
   "execution_count": 37,
   "metadata": {},
   "outputs": [
    {
     "output_type": "error",
     "ename": "IndentationError",
     "evalue": "unexpected indent (<ipython-input-37-baa8cf71f3a0>, line 23)",
     "traceback": [
      "\u001b[0;36m  File \u001b[0;32m\"<ipython-input-37-baa8cf71f3a0>\"\u001b[0;36m, line \u001b[0;32m23\u001b[0m\n\u001b[0;31m    ]\u001b[0m\n\u001b[0m    ^\u001b[0m\n\u001b[0;31mIndentationError\u001b[0m\u001b[0;31m:\u001b[0m unexpected indent\n"
     ]
    }
   ],
   "source": [
    "data_columns_1 = [\n",
    "    'CANCELLATIONS_BEFORE_NOON',\n",
    "    'MOBILE_LOGINS',\n",
    "    'REFRIGERATED_LOCKER',\n",
    "    'EMAIL_PERSONAL',\n",
    "    'EMAIL_PREFESSIONAL',\n",
    "    'Customers_Existing',\n",
    "    'Customers_MOBILE_Existing',\n",
    "    'WEEKLY_PLAN_DISCOUNT_0.8'\n",
    "]\n",
    "\n",
    "\n",
    "# x_variables = ['MOBILE_NUMBER',\n",
    "# 'CANCELLATIONS_BEFORE_NOON',\n",
    "# 'TASTES_AND_PREFERENCES',\n",
    "# 'PC_LOGINS',\n",
    "# 'EARLY_DELIVERIES',\n",
    "# 'REFRIGERATED_LOCKER',\n",
    "# 'FOLLOWED_RECOMMENDATIONS_PCT',\n",
    "# 'MASTER_CLASSES_ATTENDED',\n",
    "# 'personal',\n",
    "# 'professional'\n",
    "                ]\n",
    "\n",
    "# # declaring explanatory variables\n",
    "# df_data_0 = df.drop('CROSS_SELL_SUCCESS', axis = 1)\n",
    "# df_data_1 = df.loc[:,data_columns_1]\n",
    "# declaring response variable\n",
    "df_target = df.loc[ : , 'CROSS_SELL_SUCCESS']\n",
    "df_data = df.loc[:,data_columns_1]\n",
    "\n",
    "\n",
    "# dataset = [\n",
    "# #     ('dataset_0',df_data_0,df_target),\n",
    "#     ('dataset_1',df_data_1,df_target)\n",
    "# ]\n"
   ]
  },
  {
   "cell_type": "code",
   "execution_count": 38,
   "metadata": {
    "code_folding": []
   },
   "outputs": [],
   "source": [
    "from sklearn.svm import SVC\n",
    "\n",
    "\n",
    "names = [\"Nearest Neighbors\", \"Linear SVM\", \"RBF SVM\", \"Gaussian Process\",\n",
    "         \"Decision Tree\", \"Random Forest\", \"Neural Net\", \"AdaBoost\",\n",
    "         \"Naive Bayes\", \"QDA\",\"Gradient Boosting\",\"Extra Trees\"]\n",
    "\n",
    "classifiers = [\n",
    "    KNeighborsClassifier(n_neighbors=3),\n",
    "    SVC(kernel=\"linear\", C=0.025),\n",
    "    SVC(gamma=2, C=1),\n",
    "    GaussianProcessClassifier(1.0 * RBF(1.0), warm_start=True),\n",
    "    DecisionTreeClassifier(max_depth=5),\n",
    "    RandomForestClassifier(max_depth=5, n_estimators=10, max_features=1),\n",
    "    MLPClassifier(alpha=1),\n",
    "    AdaBoostClassifier(n_estimators=1),\n",
    "    GaussianNB(),\n",
    "    QuadraticDiscriminantAnalysis(),\n",
    "    GradientBoostingClassifier(),\n",
    "    ExtraTreesClassifier()\n",
    "]"
   ]
  },
  {
   "cell_type": "code",
   "execution_count": 39,
   "metadata": {},
   "outputs": [],
   "source": [
    "\n",
    "#把要调整的参数以及其候选值 列出来；\n",
    "param_grid_list = {\n",
    "    'Nearest Neighbors':{\n",
    "        'n_neighbors' : range(5,10),\n",
    "        'leaf_size' : range(1,2),\n",
    "        'weights' : ['uniform','distance'],\n",
    "        'algorithm' : ['auto','ball_tree','kd_tree','brute']\n",
    "    },\n",
    "    'Linear SVM' : {\n",
    "        'kernel': ['linear'], \n",
    "        'C': [1],\n",
    "        'gamma': [0.001]\n",
    "    },\n",
    "    'RBF SVM' : {\n",
    "        'C': [100],\n",
    "        'gamma': [0.001],\n",
    "        'kernel':['rbf']\n",
    "    },\n",
    "    'Gaussian Process':{\n",
    "        \n",
    "    },\n",
    "    'Decision Tree':{\n",
    "        'max_features':['auto','sqrt','log2',None],\n",
    "        'max_depth':range(1,50,5)\n",
    "    },\n",
    "    'Random Forest':{\n",
    "        'n_estimators':range(30,80,5),\n",
    "        'max_features':['auto','sqrt','log2',None],\n",
    "        'max_depth':range(1,15,2),\n",
    "        'min_samples_leaf':range(1,10)\n",
    "    },\n",
    "#     'Neural Net':{\n",
    "#         'solver': ['lbfgs'], \n",
    "#         'max_iter': [100,200,500,1000,1500,2000], \n",
    "#         'alpha': 10.0 ** -np.arange(1, 10,2), \n",
    "#         'hidden_layer_sizes':np.arange(10, 15), \n",
    "#         'random_state':range(1,11,2),\n",
    "#         'activation': [\"logistic\", \"relu\", \"Tanh\"],\n",
    "#         'learning_rate': [\"constant\", \"invscaling\", \"adaptive\"]\n",
    "#     },\n",
    "    'Neural Net':{\n",
    "        'solver':['lbfgs'], \n",
    "        'alpha':[1e-5],\n",
    "        'hidden_layer_sizes':(5, 2), \n",
    "        'random_state':[1]\n",
    "    },\n",
    "    'AdaBoost':{\n",
    "        'n_estimators': range(10,100,10),\n",
    "        'learning_rate': [.1, 0.05, 0.01, 0.005, 0.001]\n",
    "    },\n",
    "    'Naive Bayes':{\n",
    "        \n",
    "    },\n",
    "    'QDA':{\n",
    "        \n",
    "    },\n",
    "    'Gradient Boosting': {\n",
    "        'n_estimators': [1, 51 ],\n",
    "        'learning_rate': [.1, 0.05, 0.01]  \n",
    "    },\n",
    "    \"Extra Trees\": {\n",
    "        'n_estimators': range(1,15)\n",
    "    }\n",
    "}\n",
    "\n",
    "\n",
    "\n",
    "\n"
   ]
  },
  {
   "cell_type": "code",
   "execution_count": 40,
   "metadata": {
    "scrolled": false
   },
   "outputs": [
    {
     "output_type": "stream",
     "name": "stdout",
     "text": [
      "\n",
      " Nearest Neighbors \n",
      "\n",
      "Tuned Parameters : {} {'algorithm': 'auto', 'leaf_size': 1, 'n_neighbors': 9, 'weights': 'uniform'}\n",
      "Train set score:0.7464\n",
      "Test set score:0.7105\n",
      "Best score on train set:0.7231 \n",
      "\n",
      "\n",
      " Linear SVM \n",
      "\n",
      "Tuned Parameters : {} {'C': 1, 'gamma': 0.001, 'kernel': 'linear'}\n",
      "Train set score:0.7135\n",
      "Test set score:0.7084\n",
      "Best score on train set:0.7135 \n",
      "\n",
      "\n",
      " RBF SVM \n",
      "\n",
      "Tuned Parameters : {} {'C': 100, 'gamma': 0.001, 'kernel': 'rbf'}\n",
      "Train set score:0.7135\n",
      "Test set score:0.7084\n",
      "Best score on train set:0.7135 \n",
      "\n",
      "\n",
      " Gaussian Process \n",
      "\n",
      "Tuned Parameters : {} {}\n",
      "Train set score:0.7423\n",
      "Test set score:0.7187\n",
      "Best score on train set:0.7306 \n",
      "\n",
      "\n",
      " Decision Tree \n",
      "\n",
      "Tuned Parameters : {} {'max_depth': 6, 'max_features': None}\n",
      "Train set score:0.7546\n",
      "Test set score:0.6961\n",
      "Best score on train set:0.7217 \n",
      "\n",
      "\n",
      " Random Forest \n",
      "\n",
      "Tuned Parameters : {} {'max_depth': 11, 'max_features': 'sqrt', 'min_samples_leaf': 8, 'n_estimators': 40}\n",
      "Train set score:0.7457\n",
      "Test set score:0.7207\n",
      "Best score on train set:0.7430 \n",
      "\n",
      "\n",
      " Neural Net \n",
      "\n",
      "Tuned Parameters : {} {'alpha': 1e-05, 'hidden_layer_sizes': 2, 'random_state': 1, 'solver': 'lbfgs'}\n",
      "Train set score:0.7361\n",
      "Test set score:0.7084\n",
      "Best score on train set:0.7341 \n",
      "\n",
      "\n",
      " AdaBoost \n",
      "\n",
      "Tuned Parameters : {} {'learning_rate': 0.1, 'n_estimators': 90}\n",
      "Train set score:0.7204\n",
      "Test set score:0.7125\n",
      "Best score on train set:0.7197 \n",
      "\n",
      "\n",
      " Naive Bayes \n",
      "\n",
      "Tuned Parameters : {} {}\n",
      "Train set score:0.6991\n",
      "Test set score:0.6591\n",
      "Best score on train set:0.6964 \n",
      "\n",
      "\n",
      " QDA \n",
      "\n",
      "Tuned Parameters : {} {}\n",
      "Train set score:0.7080\n",
      "Test set score:0.6920\n",
      "Best score on train set:0.7080 \n",
      "\n",
      "\n",
      " Gradient Boosting \n",
      "\n",
      "Tuned Parameters : {} {'learning_rate': 0.05, 'n_estimators': 51}\n",
      "Train set score:0.7457\n",
      "Test set score:0.7248\n",
      "Best score on train set:0.7279 \n",
      "\n",
      "\n",
      " Extra Trees \n",
      "\n",
      "Tuned Parameters : {} {'n_estimators': 3}\n",
      "Train set score:0.7786\n",
      "Test set score:0.6776\n",
      "Best score on train set:0.7053 \n",
      "\n"
     ]
    }
   ],
   "source": [
    "placehold=[['Train set score','Test set score','Best parameters','Best score']]\n",
    "\n",
    "\n",
    "    \n",
    "df_data = StandardScaler().fit_transform(df_data)\n",
    "X_train,X_test,y_train,y_test = train_test_split(df_data,df_target,random_state=222)\n",
    "\n",
    "for name,clf in zip(names,classifiers):\n",
    "    print('\\n',name,'\\n')\n",
    "    grid_search = GridSearchCV(clf,param_grid_list[name],cv=5) #实例化一个GridSearchCV类\n",
    "    grid_search.fit(X_train,y_train) #训练，找到最优的参数，同时使用最优的参数实例化一个新的SVC estimator。\n",
    "\n",
    "    train_score = grid_search.score(X_train,y_train)\n",
    "    test_score = grid_search.score(X_test,y_test)\n",
    "\n",
    "    best_params = grid_search.best_params_\n",
    "    best_score = grid_search.best_score_\n",
    "#         feature_importances = grid_search.feature_importances_\n",
    "\n",
    "    print(\"Tuned Parameters : {}\", best_params)\n",
    "    print(\"Train set score:{:.4f}\".format(train_score))\n",
    "    print(\"Test set score:{:.4f}\".format(test_score))\n",
    "\n",
    "    print(\"Best score on train set:{:.4f}\".format(grid_search.best_score_),'\\n')\n",
    "\n",
    "    placehold.append([train_score,test_score,best_params,best_score])\n",
    "\n",
    "    cv_result = pd.DataFrame.from_dict(grid_search.cv_results_)\n",
    "    with open(name+'.csv','w') as f:\n",
    "        cv_result.to_csv(f)\n",
    "    \n",
    "\n"
   ]
  },
  {
   "cell_type": "code",
   "execution_count": 41,
   "metadata": {},
   "outputs": [
    {
     "output_type": "stream",
     "name": "stdout",
     "text": [
      "0.7320082248115147 0.704312114989733\n0.5569010569010568 \n\n"
     ]
    }
   ],
   "source": [
    "# Tuned Parameters : {} {'max_depth': 5, 'max_features': 'sqrt', 'min_samples_leaf': 7, 'n_estimators': 70}\n",
    "# Train set score:0.8136\n",
    "# Test set score:0.8255\n",
    "# Best score on train set:0.7992 \n",
    "df_data = StandardScaler().fit_transform(df_data)\n",
    "X_train,X_test,y_train,y_test = train_test_split(df_data,df_target,random_state=222)\n",
    "\n",
    "\n",
    "rfc = RandomForestClassifier(max_depth=5, n_estimators=70, max_features='sqrt',min_samples_leaf=7)\n",
    "\n",
    "rfc.fit(X_train,y_train) #训练，找到最优的参数，同时使用最优的参数实例化一个新的SVC estimator。\n",
    "y_pred = rfc.predict(X_test)\n",
    "train_score = rfc.score(X_train,y_train)\n",
    "test_score = rfc.score(X_test,y_test)\n",
    "print(train_score,test_score)\n",
    "print(roc_auc_score(y_test,y_pred),'\\n')\n"
   ]
  },
  {
   "cell_type": "code",
   "execution_count": 42,
   "metadata": {},
   "outputs": [],
   "source": [
    "########################################\n",
    "# plot_feature_importances\n",
    "########################################\n",
    "def plot_feature_importances(model, train, export = False):\n",
    "    \"\"\"\n",
    "    Plots the importance of features from a CART model.\n",
    "    \n",
    "    PARAMETERS\n",
    "    ----------\n",
    "    model  : CART model\n",
    "    train  : explanatory variable training data\n",
    "    export : whether or not to export as a .png image, default False\n",
    "    \"\"\"\n",
    "    \n",
    "    # declaring the number\n",
    "    n_features = train.shape[1]\n",
    "    \n",
    "    # setting plot window\n",
    "    fig, ax = plt.subplots(figsize=(12,9))\n",
    "    \n",
    "    plt.barh(range(n_features), model.feature_importances_, align='center')\n",
    "    plt.yticks(pd.np.arange(n_features), train.columns)\n",
    "    plt.xlabel(\"Feature importance\")\n",
    "    plt.ylabel(\"Feature\")\n",
    "    \n",
    "    if export == True:\n",
    "        plt.savefig('Feature_Importance.png')"
   ]
  },
  {
   "cell_type": "code",
   "execution_count": 63,
   "metadata": {},
   "outputs": [
    {
     "output_type": "stream",
     "name": "stdout",
     "text": [
      "Training ACCURACY: 0.7464\nTesting  ACCURACY: 0.7187\nAUC Score        : 0.5918\n"
     ]
    }
   ],
   "source": [
    "\n",
    "\n",
    "# Random Forest \n",
    "\n",
    "# Tuned Parameters : {} {'max_depth': 5, 'max_features': None, 'n_estimators': 60}\n",
    "# Train set score:0.8225\n",
    "# Test set score:0.8070\n",
    "# Best score on train set:0.8101\n",
    "# 'learning_rate': 0.05, 'n_estimators': 50\n",
    "\n",
    "rfc = RandomForestClassifier(max_depth= 11, max_features='sqrt', min_samples_leaf= 8, n_estimators= 40)\n",
    "rfc.fit(X_train,y_train)\n",
    "\n",
    "y_pred = rfc.predict(X_test)\n",
    "\n",
    "\n",
    "# SCORING the results\n",
    "print('Training ACCURACY:', rfc.score(X_train, y_train).round(4))\n",
    "print('Testing  ACCURACY:', rfc.score(X_test, y_test).round(4))\n",
    "print('AUC Score        :', roc_auc_score(y_true  = y_test,\n",
    "                                          y_score = y_pred).round(4))"
   ]
  },
  {
   "cell_type": "code",
   "execution_count": 44,
   "metadata": {},
   "outputs": [
    {
     "output_type": "display_data",
     "data": {
      "text/plain": "<Figure size 864x648 with 1 Axes>",
      "image/svg+xml": "<?xml version=\"1.0\" encoding=\"utf-8\" standalone=\"no\"?>\n<!DOCTYPE svg PUBLIC \"-//W3C//DTD SVG 1.1//EN\"\n  \"http://www.w3.org/Graphics/SVG/1.1/DTD/svg11.dtd\">\n<!-- Created with matplotlib (https://matplotlib.org/) -->\n<svg height=\"533.99625pt\" version=\"1.1\" viewBox=\"0 0 868.254688 533.99625\" width=\"868.254688pt\" xmlns=\"http://www.w3.org/2000/svg\" xmlns:xlink=\"http://www.w3.org/1999/xlink\">\n <metadata>\n  <rdf:RDF xmlns:cc=\"http://creativecommons.org/ns#\" xmlns:dc=\"http://purl.org/dc/elements/1.1/\" xmlns:rdf=\"http://www.w3.org/1999/02/22-rdf-syntax-ns#\">\n   <cc:Work>\n    <dc:type rdf:resource=\"http://purl.org/dc/dcmitype/StillImage\"/>\n    <dc:date>2021-01-25T00:04:58.664309</dc:date>\n    <dc:format>image/svg+xml</dc:format>\n    <dc:creator>\n     <cc:Agent>\n      <dc:title>Matplotlib v3.3.3, https://matplotlib.org/</dc:title>\n     </cc:Agent>\n    </dc:creator>\n   </cc:Work>\n  </rdf:RDF>\n </metadata>\n <defs>\n  <style type=\"text/css\">*{stroke-linecap:butt;stroke-linejoin:round;}</style>\n </defs>\n <g id=\"figure_1\">\n  <g id=\"patch_1\">\n   <path d=\"M 0 533.99625 \nL 868.254688 533.99625 \nL 868.254688 0 \nL 0 0 \nz\n\" style=\"fill:none;\"/>\n  </g>\n  <g id=\"axes_1\">\n   <g id=\"patch_2\">\n    <path d=\"M 191.454688 496.44 \nL 861.054688 496.44 \nL 861.054688 7.2 \nL 191.454688 7.2 \nz\n\" style=\"fill:#ffffff;\"/>\n   </g>\n   <g id=\"patch_3\">\n    <path clip-path=\"url(#p1e083222a7)\" d=\"M 191.454688 474.201818 \nL 829.168973 474.201818 \nL 829.168973 428.585035 \nL 191.454688 428.585035 \nz\n\" style=\"fill:#1f77b4;\"/>\n   </g>\n   <g id=\"patch_4\">\n    <path clip-path=\"url(#p1e083222a7)\" d=\"M 191.454688 417.180839 \nL 365.99848 417.180839 \nL 365.99848 371.564056 \nL 191.454688 371.564056 \nz\n\" style=\"fill:#1f77b4;\"/>\n   </g>\n   <g id=\"patch_5\">\n    <path clip-path=\"url(#p1e083222a7)\" d=\"M 191.454688 360.15986 \nL 319.050968 360.15986 \nL 319.050968 314.543077 \nL 191.454688 314.543077 \nz\n\" style=\"fill:#1f77b4;\"/>\n   </g>\n   <g id=\"patch_6\">\n    <path clip-path=\"url(#p1e083222a7)\" d=\"M 191.454688 303.138881 \nL 740.261571 303.138881 \nL 740.261571 257.522098 \nL 191.454688 257.522098 \nz\n\" style=\"fill:#1f77b4;\"/>\n   </g>\n   <g id=\"patch_7\">\n    <path clip-path=\"url(#p1e083222a7)\" d=\"M 191.454688 246.117902 \nL 612.32018 246.117902 \nL 612.32018 200.501119 \nL 191.454688 200.501119 \nz\n\" style=\"fill:#1f77b4;\"/>\n   </g>\n   <g id=\"patch_8\">\n    <path clip-path=\"url(#p1e083222a7)\" d=\"M 191.454688 189.096923 \nL 348.235325 189.096923 \nL 348.235325 143.48014 \nL 191.454688 143.48014 \nz\n\" style=\"fill:#1f77b4;\"/>\n   </g>\n   <g id=\"patch_9\">\n    <path clip-path=\"url(#p1e083222a7)\" d=\"M 191.454688 132.075944 \nL 367.192286 132.075944 \nL 367.192286 86.459161 \nL 191.454688 86.459161 \nz\n\" style=\"fill:#1f77b4;\"/>\n   </g>\n   <g id=\"patch_10\">\n    <path clip-path=\"url(#p1e083222a7)\" d=\"M 191.454688 75.054965 \nL 234.00103 75.054965 \nL 234.00103 29.438182 \nL 191.454688 29.438182 \nz\n\" style=\"fill:#1f77b4;\"/>\n   </g>\n   <g id=\"matplotlib.axis_1\">\n    <g id=\"xtick_1\">\n     <g id=\"line2d_1\">\n      <defs>\n       <path d=\"M 0 0 \nL 0 3.5 \n\" id=\"m6fd88d2c56\" style=\"stroke:#000000;stroke-width:0.8;\"/>\n      </defs>\n      <g>\n       <use style=\"stroke:#000000;stroke-width:0.8;\" x=\"191.454688\" xlink:href=\"#m6fd88d2c56\" y=\"496.44\"/>\n      </g>\n     </g>\n     <g id=\"text_1\">\n      <!-- 0.00 -->\n      <g transform=\"translate(180.321875 511.038437)scale(0.1 -0.1)\">\n       <defs>\n        <path d=\"M 31.78125 66.40625 \nQ 24.171875 66.40625 20.328125 58.90625 \nQ 16.5 51.421875 16.5 36.375 \nQ 16.5 21.390625 20.328125 13.890625 \nQ 24.171875 6.390625 31.78125 6.390625 \nQ 39.453125 6.390625 43.28125 13.890625 \nQ 47.125 21.390625 47.125 36.375 \nQ 47.125 51.421875 43.28125 58.90625 \nQ 39.453125 66.40625 31.78125 66.40625 \nz\nM 31.78125 74.21875 \nQ 44.046875 74.21875 50.515625 64.515625 \nQ 56.984375 54.828125 56.984375 36.375 \nQ 56.984375 17.96875 50.515625 8.265625 \nQ 44.046875 -1.421875 31.78125 -1.421875 \nQ 19.53125 -1.421875 13.0625 8.265625 \nQ 6.59375 17.96875 6.59375 36.375 \nQ 6.59375 54.828125 13.0625 64.515625 \nQ 19.53125 74.21875 31.78125 74.21875 \nz\n\" id=\"DejaVuSans-48\"/>\n        <path d=\"M 10.6875 12.40625 \nL 21 12.40625 \nL 21 0 \nL 10.6875 0 \nz\n\" id=\"DejaVuSans-46\"/>\n       </defs>\n       <use xlink:href=\"#DejaVuSans-48\"/>\n       <use x=\"63.623047\" xlink:href=\"#DejaVuSans-46\"/>\n       <use x=\"95.410156\" xlink:href=\"#DejaVuSans-48\"/>\n       <use x=\"159.033203\" xlink:href=\"#DejaVuSans-48\"/>\n      </g>\n     </g>\n    </g>\n    <g id=\"xtick_2\">\n     <g id=\"line2d_2\">\n      <g>\n       <use style=\"stroke:#000000;stroke-width:0.8;\" x=\"305.684253\" xlink:href=\"#m6fd88d2c56\" y=\"496.44\"/>\n      </g>\n     </g>\n     <g id=\"text_2\">\n      <!-- 0.05 -->\n      <g transform=\"translate(294.551441 511.038437)scale(0.1 -0.1)\">\n       <defs>\n        <path d=\"M 10.796875 72.90625 \nL 49.515625 72.90625 \nL 49.515625 64.59375 \nL 19.828125 64.59375 \nL 19.828125 46.734375 \nQ 21.96875 47.46875 24.109375 47.828125 \nQ 26.265625 48.1875 28.421875 48.1875 \nQ 40.625 48.1875 47.75 41.5 \nQ 54.890625 34.8125 54.890625 23.390625 \nQ 54.890625 11.625 47.5625 5.09375 \nQ 40.234375 -1.421875 26.90625 -1.421875 \nQ 22.3125 -1.421875 17.546875 -0.640625 \nQ 12.796875 0.140625 7.71875 1.703125 \nL 7.71875 11.625 \nQ 12.109375 9.234375 16.796875 8.0625 \nQ 21.484375 6.890625 26.703125 6.890625 \nQ 35.15625 6.890625 40.078125 11.328125 \nQ 45.015625 15.765625 45.015625 23.390625 \nQ 45.015625 31 40.078125 35.4375 \nQ 35.15625 39.890625 26.703125 39.890625 \nQ 22.75 39.890625 18.8125 39.015625 \nQ 14.890625 38.140625 10.796875 36.28125 \nz\n\" id=\"DejaVuSans-53\"/>\n       </defs>\n       <use xlink:href=\"#DejaVuSans-48\"/>\n       <use x=\"63.623047\" xlink:href=\"#DejaVuSans-46\"/>\n       <use x=\"95.410156\" xlink:href=\"#DejaVuSans-48\"/>\n       <use x=\"159.033203\" xlink:href=\"#DejaVuSans-53\"/>\n      </g>\n     </g>\n    </g>\n    <g id=\"xtick_3\">\n     <g id=\"line2d_3\">\n      <g>\n       <use style=\"stroke:#000000;stroke-width:0.8;\" x=\"419.913819\" xlink:href=\"#m6fd88d2c56\" y=\"496.44\"/>\n      </g>\n     </g>\n     <g id=\"text_3\">\n      <!-- 0.10 -->\n      <g transform=\"translate(408.781006 511.038437)scale(0.1 -0.1)\">\n       <defs>\n        <path d=\"M 12.40625 8.296875 \nL 28.515625 8.296875 \nL 28.515625 63.921875 \nL 10.984375 60.40625 \nL 10.984375 69.390625 \nL 28.421875 72.90625 \nL 38.28125 72.90625 \nL 38.28125 8.296875 \nL 54.390625 8.296875 \nL 54.390625 0 \nL 12.40625 0 \nz\n\" id=\"DejaVuSans-49\"/>\n       </defs>\n       <use xlink:href=\"#DejaVuSans-48\"/>\n       <use x=\"63.623047\" xlink:href=\"#DejaVuSans-46\"/>\n       <use x=\"95.410156\" xlink:href=\"#DejaVuSans-49\"/>\n       <use x=\"159.033203\" xlink:href=\"#DejaVuSans-48\"/>\n      </g>\n     </g>\n    </g>\n    <g id=\"xtick_4\">\n     <g id=\"line2d_4\">\n      <g>\n       <use style=\"stroke:#000000;stroke-width:0.8;\" x=\"534.143385\" xlink:href=\"#m6fd88d2c56\" y=\"496.44\"/>\n      </g>\n     </g>\n     <g id=\"text_4\">\n      <!-- 0.15 -->\n      <g transform=\"translate(523.010572 511.038437)scale(0.1 -0.1)\">\n       <use xlink:href=\"#DejaVuSans-48\"/>\n       <use x=\"63.623047\" xlink:href=\"#DejaVuSans-46\"/>\n       <use x=\"95.410156\" xlink:href=\"#DejaVuSans-49\"/>\n       <use x=\"159.033203\" xlink:href=\"#DejaVuSans-53\"/>\n      </g>\n     </g>\n    </g>\n    <g id=\"xtick_5\">\n     <g id=\"line2d_5\">\n      <g>\n       <use style=\"stroke:#000000;stroke-width:0.8;\" x=\"648.37295\" xlink:href=\"#m6fd88d2c56\" y=\"496.44\"/>\n      </g>\n     </g>\n     <g id=\"text_5\">\n      <!-- 0.20 -->\n      <g transform=\"translate(637.240138 511.038437)scale(0.1 -0.1)\">\n       <defs>\n        <path d=\"M 19.1875 8.296875 \nL 53.609375 8.296875 \nL 53.609375 0 \nL 7.328125 0 \nL 7.328125 8.296875 \nQ 12.9375 14.109375 22.625 23.890625 \nQ 32.328125 33.6875 34.8125 36.53125 \nQ 39.546875 41.84375 41.421875 45.53125 \nQ 43.3125 49.21875 43.3125 52.78125 \nQ 43.3125 58.59375 39.234375 62.25 \nQ 35.15625 65.921875 28.609375 65.921875 \nQ 23.96875 65.921875 18.8125 64.3125 \nQ 13.671875 62.703125 7.8125 59.421875 \nL 7.8125 69.390625 \nQ 13.765625 71.78125 18.9375 73 \nQ 24.125 74.21875 28.421875 74.21875 \nQ 39.75 74.21875 46.484375 68.546875 \nQ 53.21875 62.890625 53.21875 53.421875 \nQ 53.21875 48.921875 51.53125 44.890625 \nQ 49.859375 40.875 45.40625 35.40625 \nQ 44.1875 33.984375 37.640625 27.21875 \nQ 31.109375 20.453125 19.1875 8.296875 \nz\n\" id=\"DejaVuSans-50\"/>\n       </defs>\n       <use xlink:href=\"#DejaVuSans-48\"/>\n       <use x=\"63.623047\" xlink:href=\"#DejaVuSans-46\"/>\n       <use x=\"95.410156\" xlink:href=\"#DejaVuSans-50\"/>\n       <use x=\"159.033203\" xlink:href=\"#DejaVuSans-48\"/>\n      </g>\n     </g>\n    </g>\n    <g id=\"xtick_6\">\n     <g id=\"line2d_6\">\n      <g>\n       <use style=\"stroke:#000000;stroke-width:0.8;\" x=\"762.602516\" xlink:href=\"#m6fd88d2c56\" y=\"496.44\"/>\n      </g>\n     </g>\n     <g id=\"text_6\">\n      <!-- 0.25 -->\n      <g transform=\"translate(751.469703 511.038437)scale(0.1 -0.1)\">\n       <use xlink:href=\"#DejaVuSans-48\"/>\n       <use x=\"63.623047\" xlink:href=\"#DejaVuSans-46\"/>\n       <use x=\"95.410156\" xlink:href=\"#DejaVuSans-50\"/>\n       <use x=\"159.033203\" xlink:href=\"#DejaVuSans-53\"/>\n      </g>\n     </g>\n    </g>\n    <g id=\"text_7\">\n     <!-- Feature importance -->\n     <g transform=\"translate(477.208594 524.716562)scale(0.1 -0.1)\">\n      <defs>\n       <path d=\"M 9.8125 72.90625 \nL 51.703125 72.90625 \nL 51.703125 64.59375 \nL 19.671875 64.59375 \nL 19.671875 43.109375 \nL 48.578125 43.109375 \nL 48.578125 34.8125 \nL 19.671875 34.8125 \nL 19.671875 0 \nL 9.8125 0 \nz\n\" id=\"DejaVuSans-70\"/>\n       <path d=\"M 56.203125 29.59375 \nL 56.203125 25.203125 \nL 14.890625 25.203125 \nQ 15.484375 15.921875 20.484375 11.0625 \nQ 25.484375 6.203125 34.421875 6.203125 \nQ 39.59375 6.203125 44.453125 7.46875 \nQ 49.3125 8.734375 54.109375 11.28125 \nL 54.109375 2.78125 \nQ 49.265625 0.734375 44.1875 -0.34375 \nQ 39.109375 -1.421875 33.890625 -1.421875 \nQ 20.796875 -1.421875 13.15625 6.1875 \nQ 5.515625 13.8125 5.515625 26.8125 \nQ 5.515625 40.234375 12.765625 48.109375 \nQ 20.015625 56 32.328125 56 \nQ 43.359375 56 49.78125 48.890625 \nQ 56.203125 41.796875 56.203125 29.59375 \nz\nM 47.21875 32.234375 \nQ 47.125 39.59375 43.09375 43.984375 \nQ 39.0625 48.390625 32.421875 48.390625 \nQ 24.90625 48.390625 20.390625 44.140625 \nQ 15.875 39.890625 15.1875 32.171875 \nz\n\" id=\"DejaVuSans-101\"/>\n       <path d=\"M 34.28125 27.484375 \nQ 23.390625 27.484375 19.1875 25 \nQ 14.984375 22.515625 14.984375 16.5 \nQ 14.984375 11.71875 18.140625 8.90625 \nQ 21.296875 6.109375 26.703125 6.109375 \nQ 34.1875 6.109375 38.703125 11.40625 \nQ 43.21875 16.703125 43.21875 25.484375 \nL 43.21875 27.484375 \nz\nM 52.203125 31.203125 \nL 52.203125 0 \nL 43.21875 0 \nL 43.21875 8.296875 \nQ 40.140625 3.328125 35.546875 0.953125 \nQ 30.953125 -1.421875 24.3125 -1.421875 \nQ 15.921875 -1.421875 10.953125 3.296875 \nQ 6 8.015625 6 15.921875 \nQ 6 25.140625 12.171875 29.828125 \nQ 18.359375 34.515625 30.609375 34.515625 \nL 43.21875 34.515625 \nL 43.21875 35.40625 \nQ 43.21875 41.609375 39.140625 45 \nQ 35.0625 48.390625 27.6875 48.390625 \nQ 23 48.390625 18.546875 47.265625 \nQ 14.109375 46.140625 10.015625 43.890625 \nL 10.015625 52.203125 \nQ 14.9375 54.109375 19.578125 55.046875 \nQ 24.21875 56 28.609375 56 \nQ 40.484375 56 46.34375 49.84375 \nQ 52.203125 43.703125 52.203125 31.203125 \nz\n\" id=\"DejaVuSans-97\"/>\n       <path d=\"M 18.3125 70.21875 \nL 18.3125 54.6875 \nL 36.8125 54.6875 \nL 36.8125 47.703125 \nL 18.3125 47.703125 \nL 18.3125 18.015625 \nQ 18.3125 11.328125 20.140625 9.421875 \nQ 21.96875 7.515625 27.59375 7.515625 \nL 36.8125 7.515625 \nL 36.8125 0 \nL 27.59375 0 \nQ 17.1875 0 13.234375 3.875 \nQ 9.28125 7.765625 9.28125 18.015625 \nL 9.28125 47.703125 \nL 2.6875 47.703125 \nL 2.6875 54.6875 \nL 9.28125 54.6875 \nL 9.28125 70.21875 \nz\n\" id=\"DejaVuSans-116\"/>\n       <path d=\"M 8.5 21.578125 \nL 8.5 54.6875 \nL 17.484375 54.6875 \nL 17.484375 21.921875 \nQ 17.484375 14.15625 20.5 10.265625 \nQ 23.53125 6.390625 29.59375 6.390625 \nQ 36.859375 6.390625 41.078125 11.03125 \nQ 45.3125 15.671875 45.3125 23.6875 \nL 45.3125 54.6875 \nL 54.296875 54.6875 \nL 54.296875 0 \nL 45.3125 0 \nL 45.3125 8.40625 \nQ 42.046875 3.421875 37.71875 1 \nQ 33.40625 -1.421875 27.6875 -1.421875 \nQ 18.265625 -1.421875 13.375 4.4375 \nQ 8.5 10.296875 8.5 21.578125 \nz\nM 31.109375 56 \nz\n\" id=\"DejaVuSans-117\"/>\n       <path d=\"M 41.109375 46.296875 \nQ 39.59375 47.171875 37.8125 47.578125 \nQ 36.03125 48 33.890625 48 \nQ 26.265625 48 22.1875 43.046875 \nQ 18.109375 38.09375 18.109375 28.8125 \nL 18.109375 0 \nL 9.078125 0 \nL 9.078125 54.6875 \nL 18.109375 54.6875 \nL 18.109375 46.1875 \nQ 20.953125 51.171875 25.484375 53.578125 \nQ 30.03125 56 36.53125 56 \nQ 37.453125 56 38.578125 55.875 \nQ 39.703125 55.765625 41.0625 55.515625 \nz\n\" id=\"DejaVuSans-114\"/>\n       <path id=\"DejaVuSans-32\"/>\n       <path d=\"M 9.421875 54.6875 \nL 18.40625 54.6875 \nL 18.40625 0 \nL 9.421875 0 \nz\nM 9.421875 75.984375 \nL 18.40625 75.984375 \nL 18.40625 64.59375 \nL 9.421875 64.59375 \nz\n\" id=\"DejaVuSans-105\"/>\n       <path d=\"M 52 44.1875 \nQ 55.375 50.25 60.0625 53.125 \nQ 64.75 56 71.09375 56 \nQ 79.640625 56 84.28125 50.015625 \nQ 88.921875 44.046875 88.921875 33.015625 \nL 88.921875 0 \nL 79.890625 0 \nL 79.890625 32.71875 \nQ 79.890625 40.578125 77.09375 44.375 \nQ 74.3125 48.1875 68.609375 48.1875 \nQ 61.625 48.1875 57.5625 43.546875 \nQ 53.515625 38.921875 53.515625 30.90625 \nL 53.515625 0 \nL 44.484375 0 \nL 44.484375 32.71875 \nQ 44.484375 40.625 41.703125 44.40625 \nQ 38.921875 48.1875 33.109375 48.1875 \nQ 26.21875 48.1875 22.15625 43.53125 \nQ 18.109375 38.875 18.109375 30.90625 \nL 18.109375 0 \nL 9.078125 0 \nL 9.078125 54.6875 \nL 18.109375 54.6875 \nL 18.109375 46.1875 \nQ 21.1875 51.21875 25.484375 53.609375 \nQ 29.78125 56 35.6875 56 \nQ 41.65625 56 45.828125 52.96875 \nQ 50 49.953125 52 44.1875 \nz\n\" id=\"DejaVuSans-109\"/>\n       <path d=\"M 18.109375 8.203125 \nL 18.109375 -20.796875 \nL 9.078125 -20.796875 \nL 9.078125 54.6875 \nL 18.109375 54.6875 \nL 18.109375 46.390625 \nQ 20.953125 51.265625 25.265625 53.625 \nQ 29.59375 56 35.59375 56 \nQ 45.5625 56 51.78125 48.09375 \nQ 58.015625 40.1875 58.015625 27.296875 \nQ 58.015625 14.40625 51.78125 6.484375 \nQ 45.5625 -1.421875 35.59375 -1.421875 \nQ 29.59375 -1.421875 25.265625 0.953125 \nQ 20.953125 3.328125 18.109375 8.203125 \nz\nM 48.6875 27.296875 \nQ 48.6875 37.203125 44.609375 42.84375 \nQ 40.53125 48.484375 33.40625 48.484375 \nQ 26.265625 48.484375 22.1875 42.84375 \nQ 18.109375 37.203125 18.109375 27.296875 \nQ 18.109375 17.390625 22.1875 11.75 \nQ 26.265625 6.109375 33.40625 6.109375 \nQ 40.53125 6.109375 44.609375 11.75 \nQ 48.6875 17.390625 48.6875 27.296875 \nz\n\" id=\"DejaVuSans-112\"/>\n       <path d=\"M 30.609375 48.390625 \nQ 23.390625 48.390625 19.1875 42.75 \nQ 14.984375 37.109375 14.984375 27.296875 \nQ 14.984375 17.484375 19.15625 11.84375 \nQ 23.34375 6.203125 30.609375 6.203125 \nQ 37.796875 6.203125 41.984375 11.859375 \nQ 46.1875 17.53125 46.1875 27.296875 \nQ 46.1875 37.015625 41.984375 42.703125 \nQ 37.796875 48.390625 30.609375 48.390625 \nz\nM 30.609375 56 \nQ 42.328125 56 49.015625 48.375 \nQ 55.71875 40.765625 55.71875 27.296875 \nQ 55.71875 13.875 49.015625 6.21875 \nQ 42.328125 -1.421875 30.609375 -1.421875 \nQ 18.84375 -1.421875 12.171875 6.21875 \nQ 5.515625 13.875 5.515625 27.296875 \nQ 5.515625 40.765625 12.171875 48.375 \nQ 18.84375 56 30.609375 56 \nz\n\" id=\"DejaVuSans-111\"/>\n       <path d=\"M 54.890625 33.015625 \nL 54.890625 0 \nL 45.90625 0 \nL 45.90625 32.71875 \nQ 45.90625 40.484375 42.875 44.328125 \nQ 39.84375 48.1875 33.796875 48.1875 \nQ 26.515625 48.1875 22.3125 43.546875 \nQ 18.109375 38.921875 18.109375 30.90625 \nL 18.109375 0 \nL 9.078125 0 \nL 9.078125 54.6875 \nL 18.109375 54.6875 \nL 18.109375 46.1875 \nQ 21.34375 51.125 25.703125 53.5625 \nQ 30.078125 56 35.796875 56 \nQ 45.21875 56 50.046875 50.171875 \nQ 54.890625 44.34375 54.890625 33.015625 \nz\n\" id=\"DejaVuSans-110\"/>\n       <path d=\"M 48.78125 52.59375 \nL 48.78125 44.1875 \nQ 44.96875 46.296875 41.140625 47.34375 \nQ 37.3125 48.390625 33.40625 48.390625 \nQ 24.65625 48.390625 19.8125 42.84375 \nQ 14.984375 37.3125 14.984375 27.296875 \nQ 14.984375 17.28125 19.8125 11.734375 \nQ 24.65625 6.203125 33.40625 6.203125 \nQ 37.3125 6.203125 41.140625 7.25 \nQ 44.96875 8.296875 48.78125 10.40625 \nL 48.78125 2.09375 \nQ 45.015625 0.34375 40.984375 -0.53125 \nQ 36.96875 -1.421875 32.421875 -1.421875 \nQ 20.0625 -1.421875 12.78125 6.34375 \nQ 5.515625 14.109375 5.515625 27.296875 \nQ 5.515625 40.671875 12.859375 48.328125 \nQ 20.21875 56 33.015625 56 \nQ 37.15625 56 41.109375 55.140625 \nQ 45.0625 54.296875 48.78125 52.59375 \nz\n\" id=\"DejaVuSans-99\"/>\n      </defs>\n      <use xlink:href=\"#DejaVuSans-70\"/>\n      <use x=\"52.019531\" xlink:href=\"#DejaVuSans-101\"/>\n      <use x=\"113.542969\" xlink:href=\"#DejaVuSans-97\"/>\n      <use x=\"174.822266\" xlink:href=\"#DejaVuSans-116\"/>\n      <use x=\"214.03125\" xlink:href=\"#DejaVuSans-117\"/>\n      <use x=\"277.410156\" xlink:href=\"#DejaVuSans-114\"/>\n      <use x=\"316.273438\" xlink:href=\"#DejaVuSans-101\"/>\n      <use x=\"377.796875\" xlink:href=\"#DejaVuSans-32\"/>\n      <use x=\"409.583984\" xlink:href=\"#DejaVuSans-105\"/>\n      <use x=\"437.367188\" xlink:href=\"#DejaVuSans-109\"/>\n      <use x=\"534.779297\" xlink:href=\"#DejaVuSans-112\"/>\n      <use x=\"598.255859\" xlink:href=\"#DejaVuSans-111\"/>\n      <use x=\"659.4375\" xlink:href=\"#DejaVuSans-114\"/>\n      <use x=\"700.550781\" xlink:href=\"#DejaVuSans-116\"/>\n      <use x=\"739.759766\" xlink:href=\"#DejaVuSans-97\"/>\n      <use x=\"801.039062\" xlink:href=\"#DejaVuSans-110\"/>\n      <use x=\"864.417969\" xlink:href=\"#DejaVuSans-99\"/>\n      <use x=\"919.398438\" xlink:href=\"#DejaVuSans-101\"/>\n     </g>\n    </g>\n   </g>\n   <g id=\"matplotlib.axis_2\">\n    <g id=\"ytick_1\">\n     <g id=\"line2d_7\">\n      <defs>\n       <path d=\"M 0 0 \nL -3.5 0 \n\" id=\"me8f02d40df\" style=\"stroke:#000000;stroke-width:0.8;\"/>\n      </defs>\n      <g>\n       <use style=\"stroke:#000000;stroke-width:0.8;\" x=\"191.454688\" xlink:href=\"#me8f02d40df\" y=\"451.393427\"/>\n      </g>\n     </g>\n     <g id=\"text_8\">\n      <!-- CANCELLATIONS_BEFORE_NOON -->\n      <g transform=\"translate(20.878125 455.104364)scale(0.1 -0.1)\">\n       <defs>\n        <path d=\"M 64.40625 67.28125 \nL 64.40625 56.890625 \nQ 59.421875 61.53125 53.78125 63.8125 \nQ 48.140625 66.109375 41.796875 66.109375 \nQ 29.296875 66.109375 22.65625 58.46875 \nQ 16.015625 50.828125 16.015625 36.375 \nQ 16.015625 21.96875 22.65625 14.328125 \nQ 29.296875 6.6875 41.796875 6.6875 \nQ 48.140625 6.6875 53.78125 8.984375 \nQ 59.421875 11.28125 64.40625 15.921875 \nL 64.40625 5.609375 \nQ 59.234375 2.09375 53.4375 0.328125 \nQ 47.65625 -1.421875 41.21875 -1.421875 \nQ 24.65625 -1.421875 15.125 8.703125 \nQ 5.609375 18.84375 5.609375 36.375 \nQ 5.609375 53.953125 15.125 64.078125 \nQ 24.65625 74.21875 41.21875 74.21875 \nQ 47.75 74.21875 53.53125 72.484375 \nQ 59.328125 70.75 64.40625 67.28125 \nz\n\" id=\"DejaVuSans-67\"/>\n        <path d=\"M 34.1875 63.1875 \nL 20.796875 26.90625 \nL 47.609375 26.90625 \nz\nM 28.609375 72.90625 \nL 39.796875 72.90625 \nL 67.578125 0 \nL 57.328125 0 \nL 50.6875 18.703125 \nL 17.828125 18.703125 \nL 11.1875 0 \nL 0.78125 0 \nz\n\" id=\"DejaVuSans-65\"/>\n        <path d=\"M 9.8125 72.90625 \nL 23.09375 72.90625 \nL 55.421875 11.921875 \nL 55.421875 72.90625 \nL 64.984375 72.90625 \nL 64.984375 0 \nL 51.703125 0 \nL 19.390625 60.984375 \nL 19.390625 0 \nL 9.8125 0 \nz\n\" id=\"DejaVuSans-78\"/>\n        <path d=\"M 9.8125 72.90625 \nL 55.90625 72.90625 \nL 55.90625 64.59375 \nL 19.671875 64.59375 \nL 19.671875 43.015625 \nL 54.390625 43.015625 \nL 54.390625 34.71875 \nL 19.671875 34.71875 \nL 19.671875 8.296875 \nL 56.78125 8.296875 \nL 56.78125 0 \nL 9.8125 0 \nz\n\" id=\"DejaVuSans-69\"/>\n        <path d=\"M 9.8125 72.90625 \nL 19.671875 72.90625 \nL 19.671875 8.296875 \nL 55.171875 8.296875 \nL 55.171875 0 \nL 9.8125 0 \nz\n\" id=\"DejaVuSans-76\"/>\n        <path d=\"M -0.296875 72.90625 \nL 61.375 72.90625 \nL 61.375 64.59375 \nL 35.5 64.59375 \nL 35.5 0 \nL 25.59375 0 \nL 25.59375 64.59375 \nL -0.296875 64.59375 \nz\n\" id=\"DejaVuSans-84\"/>\n        <path d=\"M 9.8125 72.90625 \nL 19.671875 72.90625 \nL 19.671875 0 \nL 9.8125 0 \nz\n\" id=\"DejaVuSans-73\"/>\n        <path d=\"M 39.40625 66.21875 \nQ 28.65625 66.21875 22.328125 58.203125 \nQ 16.015625 50.203125 16.015625 36.375 \nQ 16.015625 22.609375 22.328125 14.59375 \nQ 28.65625 6.59375 39.40625 6.59375 \nQ 50.140625 6.59375 56.421875 14.59375 \nQ 62.703125 22.609375 62.703125 36.375 \nQ 62.703125 50.203125 56.421875 58.203125 \nQ 50.140625 66.21875 39.40625 66.21875 \nz\nM 39.40625 74.21875 \nQ 54.734375 74.21875 63.90625 63.9375 \nQ 73.09375 53.65625 73.09375 36.375 \nQ 73.09375 19.140625 63.90625 8.859375 \nQ 54.734375 -1.421875 39.40625 -1.421875 \nQ 24.03125 -1.421875 14.8125 8.828125 \nQ 5.609375 19.09375 5.609375 36.375 \nQ 5.609375 53.65625 14.8125 63.9375 \nQ 24.03125 74.21875 39.40625 74.21875 \nz\n\" id=\"DejaVuSans-79\"/>\n        <path d=\"M 53.515625 70.515625 \nL 53.515625 60.890625 \nQ 47.90625 63.578125 42.921875 64.890625 \nQ 37.9375 66.21875 33.296875 66.21875 \nQ 25.25 66.21875 20.875 63.09375 \nQ 16.5 59.96875 16.5 54.203125 \nQ 16.5 49.359375 19.40625 46.890625 \nQ 22.3125 44.4375 30.421875 42.921875 \nL 36.375 41.703125 \nQ 47.40625 39.59375 52.65625 34.296875 \nQ 57.90625 29 57.90625 20.125 \nQ 57.90625 9.515625 50.796875 4.046875 \nQ 43.703125 -1.421875 29.984375 -1.421875 \nQ 24.8125 -1.421875 18.96875 -0.25 \nQ 13.140625 0.921875 6.890625 3.21875 \nL 6.890625 13.375 \nQ 12.890625 10.015625 18.65625 8.296875 \nQ 24.421875 6.59375 29.984375 6.59375 \nQ 38.421875 6.59375 43.015625 9.90625 \nQ 47.609375 13.234375 47.609375 19.390625 \nQ 47.609375 24.75 44.3125 27.78125 \nQ 41.015625 30.8125 33.5 32.328125 \nL 27.484375 33.5 \nQ 16.453125 35.6875 11.515625 40.375 \nQ 6.59375 45.0625 6.59375 53.421875 \nQ 6.59375 63.09375 13.40625 68.65625 \nQ 20.21875 74.21875 32.171875 74.21875 \nQ 37.3125 74.21875 42.625 73.28125 \nQ 47.953125 72.359375 53.515625 70.515625 \nz\n\" id=\"DejaVuSans-83\"/>\n        <path d=\"M 50.984375 -16.609375 \nL 50.984375 -23.578125 \nL -0.984375 -23.578125 \nL -0.984375 -16.609375 \nz\n\" id=\"DejaVuSans-95\"/>\n        <path d=\"M 19.671875 34.8125 \nL 19.671875 8.109375 \nL 35.5 8.109375 \nQ 43.453125 8.109375 47.28125 11.40625 \nQ 51.125 14.703125 51.125 21.484375 \nQ 51.125 28.328125 47.28125 31.5625 \nQ 43.453125 34.8125 35.5 34.8125 \nz\nM 19.671875 64.796875 \nL 19.671875 42.828125 \nL 34.28125 42.828125 \nQ 41.5 42.828125 45.03125 45.53125 \nQ 48.578125 48.25 48.578125 53.8125 \nQ 48.578125 59.328125 45.03125 62.0625 \nQ 41.5 64.796875 34.28125 64.796875 \nz\nM 9.8125 72.90625 \nL 35.015625 72.90625 \nQ 46.296875 72.90625 52.390625 68.21875 \nQ 58.5 63.53125 58.5 54.890625 \nQ 58.5 48.1875 55.375 44.234375 \nQ 52.25 40.28125 46.1875 39.3125 \nQ 53.46875 37.75 57.5 32.78125 \nQ 61.53125 27.828125 61.53125 20.40625 \nQ 61.53125 10.640625 54.890625 5.3125 \nQ 48.25 0 35.984375 0 \nL 9.8125 0 \nz\n\" id=\"DejaVuSans-66\"/>\n        <path d=\"M 44.390625 34.1875 \nQ 47.5625 33.109375 50.5625 29.59375 \nQ 53.5625 26.078125 56.59375 19.921875 \nL 66.609375 0 \nL 56 0 \nL 46.6875 18.703125 \nQ 43.0625 26.03125 39.671875 28.421875 \nQ 36.28125 30.8125 30.421875 30.8125 \nL 19.671875 30.8125 \nL 19.671875 0 \nL 9.8125 0 \nL 9.8125 72.90625 \nL 32.078125 72.90625 \nQ 44.578125 72.90625 50.734375 67.671875 \nQ 56.890625 62.453125 56.890625 51.90625 \nQ 56.890625 45.015625 53.6875 40.46875 \nQ 50.484375 35.9375 44.390625 34.1875 \nz\nM 19.671875 64.796875 \nL 19.671875 38.921875 \nL 32.078125 38.921875 \nQ 39.203125 38.921875 42.84375 42.21875 \nQ 46.484375 45.515625 46.484375 51.90625 \nQ 46.484375 58.296875 42.84375 61.546875 \nQ 39.203125 64.796875 32.078125 64.796875 \nz\n\" id=\"DejaVuSans-82\"/>\n       </defs>\n       <use xlink:href=\"#DejaVuSans-67\"/>\n       <use x=\"69.824219\" xlink:href=\"#DejaVuSans-65\"/>\n       <use x=\"138.232422\" xlink:href=\"#DejaVuSans-78\"/>\n       <use x=\"213.037109\" xlink:href=\"#DejaVuSans-67\"/>\n       <use x=\"282.861328\" xlink:href=\"#DejaVuSans-69\"/>\n       <use x=\"346.044922\" xlink:href=\"#DejaVuSans-76\"/>\n       <use x=\"401.757812\" xlink:href=\"#DejaVuSans-76\"/>\n       <use x=\"459.720703\" xlink:href=\"#DejaVuSans-65\"/>\n       <use x=\"520.378906\" xlink:href=\"#DejaVuSans-84\"/>\n       <use x=\"581.462891\" xlink:href=\"#DejaVuSans-73\"/>\n       <use x=\"610.955078\" xlink:href=\"#DejaVuSans-79\"/>\n       <use x=\"689.666016\" xlink:href=\"#DejaVuSans-78\"/>\n       <use x=\"764.470703\" xlink:href=\"#DejaVuSans-83\"/>\n       <use x=\"827.947266\" xlink:href=\"#DejaVuSans-95\"/>\n       <use x=\"877.947266\" xlink:href=\"#DejaVuSans-66\"/>\n       <use x=\"946.550781\" xlink:href=\"#DejaVuSans-69\"/>\n       <use x=\"1009.734375\" xlink:href=\"#DejaVuSans-70\"/>\n       <use x=\"1067.253906\" xlink:href=\"#DejaVuSans-79\"/>\n       <use x=\"1145.964844\" xlink:href=\"#DejaVuSans-82\"/>\n       <use x=\"1215.447266\" xlink:href=\"#DejaVuSans-69\"/>\n       <use x=\"1278.630859\" xlink:href=\"#DejaVuSans-95\"/>\n       <use x=\"1328.630859\" xlink:href=\"#DejaVuSans-78\"/>\n       <use x=\"1403.435547\" xlink:href=\"#DejaVuSans-79\"/>\n       <use x=\"1482.146484\" xlink:href=\"#DejaVuSans-79\"/>\n       <use x=\"1560.857422\" xlink:href=\"#DejaVuSans-78\"/>\n      </g>\n     </g>\n    </g>\n    <g id=\"ytick_2\">\n     <g id=\"line2d_8\">\n      <g>\n       <use style=\"stroke:#000000;stroke-width:0.8;\" x=\"191.454688\" xlink:href=\"#me8f02d40df\" y=\"394.372448\"/>\n      </g>\n     </g>\n     <g id=\"text_9\">\n      <!-- MOBILE_LOGINS -->\n      <g transform=\"translate(103.64375 398.083385)scale(0.1 -0.1)\">\n       <defs>\n        <path d=\"M 9.8125 72.90625 \nL 24.515625 72.90625 \nL 43.109375 23.296875 \nL 61.8125 72.90625 \nL 76.515625 72.90625 \nL 76.515625 0 \nL 66.890625 0 \nL 66.890625 64.015625 \nL 48.09375 14.015625 \nL 38.1875 14.015625 \nL 19.390625 64.015625 \nL 19.390625 0 \nL 9.8125 0 \nz\n\" id=\"DejaVuSans-77\"/>\n        <path d=\"M 59.515625 10.40625 \nL 59.515625 29.984375 \nL 43.40625 29.984375 \nL 43.40625 38.09375 \nL 69.28125 38.09375 \nL 69.28125 6.78125 \nQ 63.578125 2.734375 56.6875 0.65625 \nQ 49.8125 -1.421875 42 -1.421875 \nQ 24.90625 -1.421875 15.25 8.5625 \nQ 5.609375 18.5625 5.609375 36.375 \nQ 5.609375 54.25 15.25 64.234375 \nQ 24.90625 74.21875 42 74.21875 \nQ 49.125 74.21875 55.546875 72.453125 \nQ 61.96875 70.703125 67.390625 67.28125 \nL 67.390625 56.78125 \nQ 61.921875 61.421875 55.765625 63.765625 \nQ 49.609375 66.109375 42.828125 66.109375 \nQ 29.4375 66.109375 22.71875 58.640625 \nQ 16.015625 51.171875 16.015625 36.375 \nQ 16.015625 21.625 22.71875 14.15625 \nQ 29.4375 6.6875 42.828125 6.6875 \nQ 48.046875 6.6875 52.140625 7.59375 \nQ 56.25 8.5 59.515625 10.40625 \nz\n\" id=\"DejaVuSans-71\"/>\n       </defs>\n       <use xlink:href=\"#DejaVuSans-77\"/>\n       <use x=\"86.279297\" xlink:href=\"#DejaVuSans-79\"/>\n       <use x=\"164.990234\" xlink:href=\"#DejaVuSans-66\"/>\n       <use x=\"233.59375\" xlink:href=\"#DejaVuSans-73\"/>\n       <use x=\"263.085938\" xlink:href=\"#DejaVuSans-76\"/>\n       <use x=\"318.798828\" xlink:href=\"#DejaVuSans-69\"/>\n       <use x=\"381.982422\" xlink:href=\"#DejaVuSans-95\"/>\n       <use x=\"431.982422\" xlink:href=\"#DejaVuSans-76\"/>\n       <use x=\"484.070312\" xlink:href=\"#DejaVuSans-79\"/>\n       <use x=\"562.78125\" xlink:href=\"#DejaVuSans-71\"/>\n       <use x=\"640.271484\" xlink:href=\"#DejaVuSans-73\"/>\n       <use x=\"669.763672\" xlink:href=\"#DejaVuSans-78\"/>\n       <use x=\"744.568359\" xlink:href=\"#DejaVuSans-83\"/>\n      </g>\n     </g>\n    </g>\n    <g id=\"ytick_3\">\n     <g id=\"line2d_9\">\n      <g>\n       <use style=\"stroke:#000000;stroke-width:0.8;\" x=\"191.454688\" xlink:href=\"#me8f02d40df\" y=\"337.351469\"/>\n      </g>\n     </g>\n     <g id=\"text_10\">\n      <!-- REFRIGERATED_LOCKER -->\n      <g transform=\"translate(63.840625 341.062406)scale(0.1 -0.1)\">\n       <defs>\n        <path d=\"M 19.671875 64.796875 \nL 19.671875 8.109375 \nL 31.59375 8.109375 \nQ 46.6875 8.109375 53.6875 14.9375 \nQ 60.6875 21.78125 60.6875 36.53125 \nQ 60.6875 51.171875 53.6875 57.984375 \nQ 46.6875 64.796875 31.59375 64.796875 \nz\nM 9.8125 72.90625 \nL 30.078125 72.90625 \nQ 51.265625 72.90625 61.171875 64.09375 \nQ 71.09375 55.28125 71.09375 36.53125 \nQ 71.09375 17.671875 61.125 8.828125 \nQ 51.171875 0 30.078125 0 \nL 9.8125 0 \nz\n\" id=\"DejaVuSans-68\"/>\n        <path d=\"M 9.8125 72.90625 \nL 19.671875 72.90625 \nL 19.671875 42.09375 \nL 52.390625 72.90625 \nL 65.09375 72.90625 \nL 28.90625 38.921875 \nL 67.671875 0 \nL 54.6875 0 \nL 19.671875 35.109375 \nL 19.671875 0 \nL 9.8125 0 \nz\n\" id=\"DejaVuSans-75\"/>\n       </defs>\n       <use xlink:href=\"#DejaVuSans-82\"/>\n       <use x=\"69.482422\" xlink:href=\"#DejaVuSans-69\"/>\n       <use x=\"132.666016\" xlink:href=\"#DejaVuSans-70\"/>\n       <use x=\"190.185547\" xlink:href=\"#DejaVuSans-82\"/>\n       <use x=\"259.667969\" xlink:href=\"#DejaVuSans-73\"/>\n       <use x=\"289.160156\" xlink:href=\"#DejaVuSans-71\"/>\n       <use x=\"366.650391\" xlink:href=\"#DejaVuSans-69\"/>\n       <use x=\"429.833984\" xlink:href=\"#DejaVuSans-82\"/>\n       <use x=\"495.316406\" xlink:href=\"#DejaVuSans-65\"/>\n       <use x=\"555.974609\" xlink:href=\"#DejaVuSans-84\"/>\n       <use x=\"617.058594\" xlink:href=\"#DejaVuSans-69\"/>\n       <use x=\"680.242188\" xlink:href=\"#DejaVuSans-68\"/>\n       <use x=\"757.244141\" xlink:href=\"#DejaVuSans-95\"/>\n       <use x=\"807.244141\" xlink:href=\"#DejaVuSans-76\"/>\n       <use x=\"859.332031\" xlink:href=\"#DejaVuSans-79\"/>\n       <use x=\"938.042969\" xlink:href=\"#DejaVuSans-67\"/>\n       <use x=\"1007.867188\" xlink:href=\"#DejaVuSans-75\"/>\n       <use x=\"1073.443359\" xlink:href=\"#DejaVuSans-69\"/>\n       <use x=\"1136.626953\" xlink:href=\"#DejaVuSans-82\"/>\n      </g>\n     </g>\n    </g>\n    <g id=\"ytick_4\">\n     <g id=\"line2d_10\">\n      <g>\n       <use style=\"stroke:#000000;stroke-width:0.8;\" x=\"191.454688\" xlink:href=\"#me8f02d40df\" y=\"280.33049\"/>\n      </g>\n     </g>\n     <g id=\"text_11\">\n      <!-- EMAIL_PERSONAL -->\n      <g transform=\"translate(95.734375 284.041427)scale(0.1 -0.1)\">\n       <defs>\n        <path d=\"M 19.671875 64.796875 \nL 19.671875 37.40625 \nL 32.078125 37.40625 \nQ 38.96875 37.40625 42.71875 40.96875 \nQ 46.484375 44.53125 46.484375 51.125 \nQ 46.484375 57.671875 42.71875 61.234375 \nQ 38.96875 64.796875 32.078125 64.796875 \nz\nM 9.8125 72.90625 \nL 32.078125 72.90625 \nQ 44.34375 72.90625 50.609375 67.359375 \nQ 56.890625 61.8125 56.890625 51.125 \nQ 56.890625 40.328125 50.609375 34.8125 \nQ 44.34375 29.296875 32.078125 29.296875 \nL 19.671875 29.296875 \nL 19.671875 0 \nL 9.8125 0 \nz\n\" id=\"DejaVuSans-80\"/>\n       </defs>\n       <use xlink:href=\"#DejaVuSans-69\"/>\n       <use x=\"63.183594\" xlink:href=\"#DejaVuSans-77\"/>\n       <use x=\"149.462891\" xlink:href=\"#DejaVuSans-65\"/>\n       <use x=\"217.871094\" xlink:href=\"#DejaVuSans-73\"/>\n       <use x=\"247.363281\" xlink:href=\"#DejaVuSans-76\"/>\n       <use x=\"303.076172\" xlink:href=\"#DejaVuSans-95\"/>\n       <use x=\"353.076172\" xlink:href=\"#DejaVuSans-80\"/>\n       <use x=\"413.378906\" xlink:href=\"#DejaVuSans-69\"/>\n       <use x=\"476.5625\" xlink:href=\"#DejaVuSans-82\"/>\n       <use x=\"546.044922\" xlink:href=\"#DejaVuSans-83\"/>\n       <use x=\"609.521484\" xlink:href=\"#DejaVuSans-79\"/>\n       <use x=\"688.232422\" xlink:href=\"#DejaVuSans-78\"/>\n       <use x=\"763.037109\" xlink:href=\"#DejaVuSans-65\"/>\n       <use x=\"831.445312\" xlink:href=\"#DejaVuSans-76\"/>\n      </g>\n     </g>\n    </g>\n    <g id=\"ytick_5\">\n     <g id=\"line2d_11\">\n      <g>\n       <use style=\"stroke:#000000;stroke-width:0.8;\" x=\"191.454688\" xlink:href=\"#me8f02d40df\" y=\"223.30951\"/>\n      </g>\n     </g>\n     <g id=\"text_12\">\n      <!-- EMAIL_PREFESSIONAL -->\n      <g transform=\"translate(74.365625 227.020448)scale(0.1 -0.1)\">\n       <use xlink:href=\"#DejaVuSans-69\"/>\n       <use x=\"63.183594\" xlink:href=\"#DejaVuSans-77\"/>\n       <use x=\"149.462891\" xlink:href=\"#DejaVuSans-65\"/>\n       <use x=\"217.871094\" xlink:href=\"#DejaVuSans-73\"/>\n       <use x=\"247.363281\" xlink:href=\"#DejaVuSans-76\"/>\n       <use x=\"303.076172\" xlink:href=\"#DejaVuSans-95\"/>\n       <use x=\"353.076172\" xlink:href=\"#DejaVuSans-80\"/>\n       <use x=\"413.378906\" xlink:href=\"#DejaVuSans-82\"/>\n       <use x=\"482.861328\" xlink:href=\"#DejaVuSans-69\"/>\n       <use x=\"546.044922\" xlink:href=\"#DejaVuSans-70\"/>\n       <use x=\"603.564453\" xlink:href=\"#DejaVuSans-69\"/>\n       <use x=\"666.748047\" xlink:href=\"#DejaVuSans-83\"/>\n       <use x=\"730.224609\" xlink:href=\"#DejaVuSans-83\"/>\n       <use x=\"793.701172\" xlink:href=\"#DejaVuSans-73\"/>\n       <use x=\"823.193359\" xlink:href=\"#DejaVuSans-79\"/>\n       <use x=\"901.904297\" xlink:href=\"#DejaVuSans-78\"/>\n       <use x=\"976.708984\" xlink:href=\"#DejaVuSans-65\"/>\n       <use x=\"1045.117188\" xlink:href=\"#DejaVuSans-76\"/>\n      </g>\n     </g>\n    </g>\n    <g id=\"ytick_6\">\n     <g id=\"line2d_12\">\n      <g>\n       <use style=\"stroke:#000000;stroke-width:0.8;\" x=\"191.454688\" xlink:href=\"#me8f02d40df\" y=\"166.288531\"/>\n      </g>\n     </g>\n     <g id=\"text_13\">\n      <!-- Customers_Existing -->\n      <g transform=\"translate(86.0625 170.08775)scale(0.1 -0.1)\">\n       <defs>\n        <path d=\"M 44.28125 53.078125 \nL 44.28125 44.578125 \nQ 40.484375 46.53125 36.375 47.5 \nQ 32.28125 48.484375 27.875 48.484375 \nQ 21.1875 48.484375 17.84375 46.4375 \nQ 14.5 44.390625 14.5 40.28125 \nQ 14.5 37.15625 16.890625 35.375 \nQ 19.28125 33.59375 26.515625 31.984375 \nL 29.59375 31.296875 \nQ 39.15625 29.25 43.1875 25.515625 \nQ 47.21875 21.78125 47.21875 15.09375 \nQ 47.21875 7.46875 41.1875 3.015625 \nQ 35.15625 -1.421875 24.609375 -1.421875 \nQ 20.21875 -1.421875 15.453125 -0.5625 \nQ 10.6875 0.296875 5.421875 2 \nL 5.421875 11.28125 \nQ 10.40625 8.6875 15.234375 7.390625 \nQ 20.0625 6.109375 24.8125 6.109375 \nQ 31.15625 6.109375 34.5625 8.28125 \nQ 37.984375 10.453125 37.984375 14.40625 \nQ 37.984375 18.0625 35.515625 20.015625 \nQ 33.0625 21.96875 24.703125 23.78125 \nL 21.578125 24.515625 \nQ 13.234375 26.265625 9.515625 29.90625 \nQ 5.8125 33.546875 5.8125 39.890625 \nQ 5.8125 47.609375 11.28125 51.796875 \nQ 16.75 56 26.8125 56 \nQ 31.78125 56 36.171875 55.265625 \nQ 40.578125 54.546875 44.28125 53.078125 \nz\n\" id=\"DejaVuSans-115\"/>\n        <path d=\"M 54.890625 54.6875 \nL 35.109375 28.078125 \nL 55.90625 0 \nL 45.3125 0 \nL 29.390625 21.484375 \nL 13.484375 0 \nL 2.875 0 \nL 24.125 28.609375 \nL 4.6875 54.6875 \nL 15.28125 54.6875 \nL 29.78125 35.203125 \nL 44.28125 54.6875 \nz\n\" id=\"DejaVuSans-120\"/>\n        <path d=\"M 45.40625 27.984375 \nQ 45.40625 37.75 41.375 43.109375 \nQ 37.359375 48.484375 30.078125 48.484375 \nQ 22.859375 48.484375 18.828125 43.109375 \nQ 14.796875 37.75 14.796875 27.984375 \nQ 14.796875 18.265625 18.828125 12.890625 \nQ 22.859375 7.515625 30.078125 7.515625 \nQ 37.359375 7.515625 41.375 12.890625 \nQ 45.40625 18.265625 45.40625 27.984375 \nz\nM 54.390625 6.78125 \nQ 54.390625 -7.171875 48.1875 -13.984375 \nQ 42 -20.796875 29.203125 -20.796875 \nQ 24.46875 -20.796875 20.265625 -20.09375 \nQ 16.0625 -19.390625 12.109375 -17.921875 \nL 12.109375 -9.1875 \nQ 16.0625 -11.328125 19.921875 -12.34375 \nQ 23.78125 -13.375 27.78125 -13.375 \nQ 36.625 -13.375 41.015625 -8.765625 \nQ 45.40625 -4.15625 45.40625 5.171875 \nL 45.40625 9.625 \nQ 42.625 4.78125 38.28125 2.390625 \nQ 33.9375 0 27.875 0 \nQ 17.828125 0 11.671875 7.65625 \nQ 5.515625 15.328125 5.515625 27.984375 \nQ 5.515625 40.671875 11.671875 48.328125 \nQ 17.828125 56 27.875 56 \nQ 33.9375 56 38.28125 53.609375 \nQ 42.625 51.21875 45.40625 46.390625 \nL 45.40625 54.6875 \nL 54.390625 54.6875 \nz\n\" id=\"DejaVuSans-103\"/>\n       </defs>\n       <use xlink:href=\"#DejaVuSans-67\"/>\n       <use x=\"69.824219\" xlink:href=\"#DejaVuSans-117\"/>\n       <use x=\"133.203125\" xlink:href=\"#DejaVuSans-115\"/>\n       <use x=\"185.302734\" xlink:href=\"#DejaVuSans-116\"/>\n       <use x=\"224.511719\" xlink:href=\"#DejaVuSans-111\"/>\n       <use x=\"285.693359\" xlink:href=\"#DejaVuSans-109\"/>\n       <use x=\"383.105469\" xlink:href=\"#DejaVuSans-101\"/>\n       <use x=\"444.628906\" xlink:href=\"#DejaVuSans-114\"/>\n       <use x=\"485.742188\" xlink:href=\"#DejaVuSans-115\"/>\n       <use x=\"537.841797\" xlink:href=\"#DejaVuSans-95\"/>\n       <use x=\"587.841797\" xlink:href=\"#DejaVuSans-69\"/>\n       <use x=\"651.025391\" xlink:href=\"#DejaVuSans-120\"/>\n       <use x=\"710.205078\" xlink:href=\"#DejaVuSans-105\"/>\n       <use x=\"737.988281\" xlink:href=\"#DejaVuSans-115\"/>\n       <use x=\"790.087891\" xlink:href=\"#DejaVuSans-116\"/>\n       <use x=\"829.296875\" xlink:href=\"#DejaVuSans-105\"/>\n       <use x=\"857.080078\" xlink:href=\"#DejaVuSans-110\"/>\n       <use x=\"920.458984\" xlink:href=\"#DejaVuSans-103\"/>\n      </g>\n     </g>\n    </g>\n    <g id=\"ytick_7\">\n     <g id=\"line2d_13\">\n      <g>\n       <use style=\"stroke:#000000;stroke-width:0.8;\" x=\"191.454688\" xlink:href=\"#me8f02d40df\" y=\"109.267552\"/>\n      </g>\n     </g>\n     <g id=\"text_14\">\n      <!-- Customers_MOBILE_Existing -->\n      <g transform=\"translate(42.860938 113.066771)scale(0.1 -0.1)\">\n       <use xlink:href=\"#DejaVuSans-67\"/>\n       <use x=\"69.824219\" xlink:href=\"#DejaVuSans-117\"/>\n       <use x=\"133.203125\" xlink:href=\"#DejaVuSans-115\"/>\n       <use x=\"185.302734\" xlink:href=\"#DejaVuSans-116\"/>\n       <use x=\"224.511719\" xlink:href=\"#DejaVuSans-111\"/>\n       <use x=\"285.693359\" xlink:href=\"#DejaVuSans-109\"/>\n       <use x=\"383.105469\" xlink:href=\"#DejaVuSans-101\"/>\n       <use x=\"444.628906\" xlink:href=\"#DejaVuSans-114\"/>\n       <use x=\"485.742188\" xlink:href=\"#DejaVuSans-115\"/>\n       <use x=\"537.841797\" xlink:href=\"#DejaVuSans-95\"/>\n       <use x=\"587.841797\" xlink:href=\"#DejaVuSans-77\"/>\n       <use x=\"674.121094\" xlink:href=\"#DejaVuSans-79\"/>\n       <use x=\"752.832031\" xlink:href=\"#DejaVuSans-66\"/>\n       <use x=\"821.435547\" xlink:href=\"#DejaVuSans-73\"/>\n       <use x=\"850.927734\" xlink:href=\"#DejaVuSans-76\"/>\n       <use x=\"906.640625\" xlink:href=\"#DejaVuSans-69\"/>\n       <use x=\"969.824219\" xlink:href=\"#DejaVuSans-95\"/>\n       <use x=\"1019.824219\" xlink:href=\"#DejaVuSans-69\"/>\n       <use x=\"1083.007812\" xlink:href=\"#DejaVuSans-120\"/>\n       <use x=\"1142.1875\" xlink:href=\"#DejaVuSans-105\"/>\n       <use x=\"1169.970703\" xlink:href=\"#DejaVuSans-115\"/>\n       <use x=\"1222.070312\" xlink:href=\"#DejaVuSans-116\"/>\n       <use x=\"1261.279297\" xlink:href=\"#DejaVuSans-105\"/>\n       <use x=\"1289.0625\" xlink:href=\"#DejaVuSans-110\"/>\n       <use x=\"1352.441406\" xlink:href=\"#DejaVuSans-103\"/>\n      </g>\n     </g>\n    </g>\n    <g id=\"ytick_8\">\n     <g id=\"line2d_14\">\n      <g>\n       <use style=\"stroke:#000000;stroke-width:0.8;\" x=\"191.454688\" xlink:href=\"#me8f02d40df\" y=\"52.246573\"/>\n      </g>\n     </g>\n     <g id=\"text_15\">\n      <!-- WEEKLY_PLAN_DISCOUNT_0.8 -->\n      <g transform=\"translate(35.204688 55.957511)scale(0.1 -0.1)\">\n       <defs>\n        <path d=\"M 3.328125 72.90625 \nL 13.28125 72.90625 \nL 28.609375 11.28125 \nL 43.890625 72.90625 \nL 54.984375 72.90625 \nL 70.3125 11.28125 \nL 85.59375 72.90625 \nL 95.609375 72.90625 \nL 77.296875 0 \nL 64.890625 0 \nL 49.515625 63.28125 \nL 33.984375 0 \nL 21.578125 0 \nz\n\" id=\"DejaVuSans-87\"/>\n        <path d=\"M -0.203125 72.90625 \nL 10.40625 72.90625 \nL 30.609375 42.921875 \nL 50.6875 72.90625 \nL 61.28125 72.90625 \nL 35.5 34.71875 \nL 35.5 0 \nL 25.59375 0 \nL 25.59375 34.71875 \nz\n\" id=\"DejaVuSans-89\"/>\n        <path d=\"M 8.6875 72.90625 \nL 18.609375 72.90625 \nL 18.609375 28.609375 \nQ 18.609375 16.890625 22.84375 11.734375 \nQ 27.09375 6.59375 36.625 6.59375 \nQ 46.09375 6.59375 50.34375 11.734375 \nQ 54.59375 16.890625 54.59375 28.609375 \nL 54.59375 72.90625 \nL 64.5 72.90625 \nL 64.5 27.390625 \nQ 64.5 13.140625 57.4375 5.859375 \nQ 50.390625 -1.421875 36.625 -1.421875 \nQ 22.796875 -1.421875 15.734375 5.859375 \nQ 8.6875 13.140625 8.6875 27.390625 \nz\n\" id=\"DejaVuSans-85\"/>\n        <path d=\"M 31.78125 34.625 \nQ 24.75 34.625 20.71875 30.859375 \nQ 16.703125 27.09375 16.703125 20.515625 \nQ 16.703125 13.921875 20.71875 10.15625 \nQ 24.75 6.390625 31.78125 6.390625 \nQ 38.8125 6.390625 42.859375 10.171875 \nQ 46.921875 13.96875 46.921875 20.515625 \nQ 46.921875 27.09375 42.890625 30.859375 \nQ 38.875 34.625 31.78125 34.625 \nz\nM 21.921875 38.8125 \nQ 15.578125 40.375 12.03125 44.71875 \nQ 8.5 49.078125 8.5 55.328125 \nQ 8.5 64.0625 14.71875 69.140625 \nQ 20.953125 74.21875 31.78125 74.21875 \nQ 42.671875 74.21875 48.875 69.140625 \nQ 55.078125 64.0625 55.078125 55.328125 \nQ 55.078125 49.078125 51.53125 44.71875 \nQ 48 40.375 41.703125 38.8125 \nQ 48.828125 37.15625 52.796875 32.3125 \nQ 56.78125 27.484375 56.78125 20.515625 \nQ 56.78125 9.90625 50.3125 4.234375 \nQ 43.84375 -1.421875 31.78125 -1.421875 \nQ 19.734375 -1.421875 13.25 4.234375 \nQ 6.78125 9.90625 6.78125 20.515625 \nQ 6.78125 27.484375 10.78125 32.3125 \nQ 14.796875 37.15625 21.921875 38.8125 \nz\nM 18.3125 54.390625 \nQ 18.3125 48.734375 21.84375 45.5625 \nQ 25.390625 42.390625 31.78125 42.390625 \nQ 38.140625 42.390625 41.71875 45.5625 \nQ 45.3125 48.734375 45.3125 54.390625 \nQ 45.3125 60.0625 41.71875 63.234375 \nQ 38.140625 66.40625 31.78125 66.40625 \nQ 25.390625 66.40625 21.84375 63.234375 \nQ 18.3125 60.0625 18.3125 54.390625 \nz\n\" id=\"DejaVuSans-56\"/>\n       </defs>\n       <use xlink:href=\"#DejaVuSans-87\"/>\n       <use x=\"98.876953\" xlink:href=\"#DejaVuSans-69\"/>\n       <use x=\"162.060547\" xlink:href=\"#DejaVuSans-69\"/>\n       <use x=\"225.244141\" xlink:href=\"#DejaVuSans-75\"/>\n       <use x=\"290.820312\" xlink:href=\"#DejaVuSans-76\"/>\n       <use x=\"333.283203\" xlink:href=\"#DejaVuSans-89\"/>\n       <use x=\"394.367188\" xlink:href=\"#DejaVuSans-95\"/>\n       <use x=\"444.367188\" xlink:href=\"#DejaVuSans-80\"/>\n       <use x=\"504.669922\" xlink:href=\"#DejaVuSans-76\"/>\n       <use x=\"562.632812\" xlink:href=\"#DejaVuSans-65\"/>\n       <use x=\"631.041016\" xlink:href=\"#DejaVuSans-78\"/>\n       <use x=\"705.845703\" xlink:href=\"#DejaVuSans-95\"/>\n       <use x=\"755.845703\" xlink:href=\"#DejaVuSans-68\"/>\n       <use x=\"832.847656\" xlink:href=\"#DejaVuSans-73\"/>\n       <use x=\"862.339844\" xlink:href=\"#DejaVuSans-83\"/>\n       <use x=\"925.816406\" xlink:href=\"#DejaVuSans-67\"/>\n       <use x=\"995.640625\" xlink:href=\"#DejaVuSans-79\"/>\n       <use x=\"1074.351562\" xlink:href=\"#DejaVuSans-85\"/>\n       <use x=\"1147.544922\" xlink:href=\"#DejaVuSans-78\"/>\n       <use x=\"1222.349609\" xlink:href=\"#DejaVuSans-84\"/>\n       <use x=\"1283.433594\" xlink:href=\"#DejaVuSans-95\"/>\n       <use x=\"1333.433594\" xlink:href=\"#DejaVuSans-48\"/>\n       <use x=\"1397.056641\" xlink:href=\"#DejaVuSans-46\"/>\n       <use x=\"1428.84375\" xlink:href=\"#DejaVuSans-56\"/>\n      </g>\n     </g>\n    </g>\n    <g id=\"text_16\">\n     <!-- Feature -->\n     <g transform=\"translate(14.798438 270.709844)rotate(-90)scale(0.1 -0.1)\">\n      <use xlink:href=\"#DejaVuSans-70\"/>\n      <use x=\"52.019531\" xlink:href=\"#DejaVuSans-101\"/>\n      <use x=\"113.542969\" xlink:href=\"#DejaVuSans-97\"/>\n      <use x=\"174.822266\" xlink:href=\"#DejaVuSans-116\"/>\n      <use x=\"214.03125\" xlink:href=\"#DejaVuSans-117\"/>\n      <use x=\"277.410156\" xlink:href=\"#DejaVuSans-114\"/>\n      <use x=\"316.273438\" xlink:href=\"#DejaVuSans-101\"/>\n     </g>\n    </g>\n   </g>\n   <g id=\"patch_11\">\n    <path d=\"M 191.454688 496.44 \nL 191.454688 7.2 \n\" style=\"fill:none;stroke:#000000;stroke-linecap:square;stroke-linejoin:miter;stroke-width:0.8;\"/>\n   </g>\n   <g id=\"patch_12\">\n    <path d=\"M 861.054688 496.44 \nL 861.054688 7.2 \n\" style=\"fill:none;stroke:#000000;stroke-linecap:square;stroke-linejoin:miter;stroke-width:0.8;\"/>\n   </g>\n   <g id=\"patch_13\">\n    <path d=\"M 191.454688 496.44 \nL 861.054688 496.44 \n\" style=\"fill:none;stroke:#000000;stroke-linecap:square;stroke-linejoin:miter;stroke-width:0.8;\"/>\n   </g>\n   <g id=\"patch_14\">\n    <path d=\"M 191.454688 7.2 \nL 861.054688 7.2 \n\" style=\"fill:none;stroke:#000000;stroke-linecap:square;stroke-linejoin:miter;stroke-width:0.8;\"/>\n   </g>\n  </g>\n </g>\n <defs>\n  <clipPath id=\"p1e083222a7\">\n   <rect height=\"489.24\" width=\"669.6\" x=\"191.454688\" y=\"7.2\"/>\n  </clipPath>\n </defs>\n</svg>\n",
      "image/png": "[encoded data removed]"
     },
     "metadata": {
      "needs_background": "light"
     }
    }
   ],
   "source": [
    "_ = pd.DataFrame(X_train,columns=data_columns_1)\n",
    "# plotting feature importance\n",
    "plot_feature_importances(rfc,_)"
   ]
  },
  {
   "cell_type": "code",
   "execution_count": null,
   "metadata": {},
   "outputs": [],
   "source": []
  }
 ],
 "metadata": {
  "kernelspec": {
   "display_name": "Python 3",
   "language": "python",
   "name": "python3"
  },
  "language_info": {
   "codemirror_mode": {
    "name": "ipython",
    "version": 3
   },
   "file_extension": ".py",
   "mimetype": "text/x-python",
   "name": "python",
   "nbconvert_exporter": "python",
   "pygments_lexer": "ipython3",
   "version": "3.8.5-final"
  },
  "toc": {
   "base_numbering": 1,
   "nav_menu": {},
   "number_sections": true,
   "sideBar": true,
   "skip_h1_title": false,
   "title_cell": "Table of Contents",
   "title_sidebar": "Contents",
   "toc_cell": false,
   "toc_position": {},
   "toc_section_display": true,
   "toc_window_display": false
  },
  "varInspector": {
   "cols": {
    "lenName": 16,
    "lenType": 16,
    "lenVar": 40
   },
   "kernels_config": {
    "python": {
     "delete_cmd_postfix": "",
     "delete_cmd_prefix": "del ",
     "library": "var_list.py",
     "varRefreshCmd": "print(var_dic_list())"
    },
    "r": {
     "delete_cmd_postfix": ") ",
     "delete_cmd_prefix": "rm(",
     "library": "var_list.r",
     "varRefreshCmd": "cat(var_dic_list()) "
    }
   },
   "position": {
    "height": "637px",
    "left": "1031px",
    "right": "20px",
    "top": "120px",
    "width": "352px"
   },
   "types_to_exclude": [
    "module",
    "function",
    "builtin_function_or_method",
    "instance",
    "_Feature"
   ],
   "window_display": false
  }
 },
 "nbformat": 4,
 "nbformat_minor": 2
}