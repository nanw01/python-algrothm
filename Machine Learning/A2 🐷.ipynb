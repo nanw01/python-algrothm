{
 "cells": [
  {
   "cell_type": "code",
   "execution_count": 1,
   "metadata": {},
   "outputs": [],
   "source": [
    "# importing libraries\n",
    "import pandas as pd             \n",
    "import matplotlib.pyplot as plt \n",
    "import seaborn as sns           \n",
    "import statsmodels.formula.api as smf \n",
    "import sys\n",
    "\n",
    "# specifying file name\n",
    "file = '/home/nanwang/github/python-algrothm/python-algrothm/Machine Learning/Apprentice_Chef_Dataset.xlsx'\n",
    "\n",
    "# reading the file into Python\n",
    "dataset = pd.read_excel(file)\n"
   ]
  },
  {
   "cell_type": "code",
   "execution_count": 2,
   "metadata": {},
   "outputs": [
    {
     "output_type": "execute_result",
     "data": {
      "text/plain": [
       "   REVENUE  CROSS_SELL_SUCCESS               NAME                     EMAIL  \\\n",
       "0    393.0                   1            Saathos  saathos@unitedhealth.com   \n",
       "1   1365.0                   1    Alysanne Osgrey    alysanne.osgrey@ge.org   \n",
       "2    800.0                   1     Edwyd Fossoway    edwyd.fossoway@jnj.com   \n",
       "3    600.0                   1  Eleyna Westerling  eleyna.westerling@ge.org   \n",
       "4   1490.0                   1      Elyn Norridge     elyn.norridge@jnj.com   \n",
       "\n",
       "  FIRST_NAME FAMILY_NAME  TOTAL_MEALS_ORDERED  UNIQUE_MEALS_PURCH  \\\n",
       "0    Saathos     Saathos                   14                   6   \n",
       "1   Alysanne      Osgrey                   87                   3   \n",
       "2      Edwyd    Fossoway                   15                   7   \n",
       "3     Eleyna  Westerling                   13                   6   \n",
       "4       Elyn    Norridge                   47                   8   \n",
       "\n",
       "   CONTACTS_W_CUSTOMER_SERVICE  PRODUCT_CATEGORIES_VIEWED  ...  \\\n",
       "0                           12                         10  ...   \n",
       "1                            8                          8  ...   \n",
       "2                           11                          5  ...   \n",
       "3                           11                          5  ...   \n",
       "4                            6                         10  ...   \n",
       "\n",
       "   EARLY_DELIVERIES  LATE_DELIVERIES  PACKAGE_LOCKER  REFRIGERATED_LOCKER  \\\n",
       "0                 0                2               0                    0   \n",
       "1                 0                2               0                    0   \n",
       "2                 0                1               0                    0   \n",
       "3                 0                3               0                    0   \n",
       "4                 0                8               0                    0   \n",
       "\n",
       "   AVG_PREP_VID_TIME  LARGEST_ORDER_SIZE  MASTER_CLASSES_ATTENDED  \\\n",
       "0               33.4                   1                        0   \n",
       "1               84.8                   1                        0   \n",
       "2               63.0                   1                        0   \n",
       "3               43.8                   1                        0   \n",
       "4               84.8                   1                        1   \n",
       "\n",
       "   MEDIAN_MEAL_RATING  AVG_CLICKS_PER_VISIT  TOTAL_PHOTOS_VIEWED  \n",
       "0                   1                    17                    0  \n",
       "1                   3                    13                  170  \n",
       "2                   2                    16                    0  \n",
       "3                   2                    14                    0  \n",
       "4                   3                    12                  205  \n",
       "\n",
       "[5 rows x 28 columns]"
      ],
      "text/html": "<div>\n<style scoped>\n    .dataframe tbody tr th:only-of-type {\n        vertical-align: middle;\n    }\n\n    .dataframe tbody tr th {\n        vertical-align: top;\n    }\n\n    .dataframe thead th {\n        text-align: right;\n    }\n</style>\n<table border=\"1\" class=\"dataframe\">\n  <thead>\n    <tr style=\"text-align: right;\">\n      <th></th>\n      <th>REVENUE</th>\n      <th>CROSS_SELL_SUCCESS</th>\n      <th>NAME</th>\n      <th>EMAIL</th>\n      <th>FIRST_NAME</th>\n      <th>FAMILY_NAME</th>\n      <th>TOTAL_MEALS_ORDERED</th>\n      <th>UNIQUE_MEALS_PURCH</th>\n      <th>CONTACTS_W_CUSTOMER_SERVICE</th>\n      <th>PRODUCT_CATEGORIES_VIEWED</th>\n      <th>...</th>\n      <th>EARLY_DELIVERIES</th>\n      <th>LATE_DELIVERIES</th>\n      <th>PACKAGE_LOCKER</th>\n      <th>REFRIGERATED_LOCKER</th>\n      <th>AVG_PREP_VID_TIME</th>\n      <th>LARGEST_ORDER_SIZE</th>\n      <th>MASTER_CLASSES_ATTENDED</th>\n      <th>MEDIAN_MEAL_RATING</th>\n      <th>AVG_CLICKS_PER_VISIT</th>\n      <th>TOTAL_PHOTOS_VIEWED</th>\n    </tr>\n  </thead>\n  <tbody>\n    <tr>\n      <th>0</th>\n      <td>393.0</td>\n      <td>1</td>\n      <td>Saathos</td>\n      <td>saathos@unitedhealth.com</td>\n      <td>Saathos</td>\n      <td>Saathos</td>\n      <td>14</td>\n      <td>6</td>\n      <td>12</td>\n      <td>10</td>\n      <td>...</td>\n      <td>0</td>\n      <td>2</td>\n      <td>0</td>\n      <td>0</td>\n      <td>33.4</td>\n      <td>1</td>\n      <td>0</td>\n      <td>1</td>\n      <td>17</td>\n      <td>0</td>\n    </tr>\n    <tr>\n      <th>1</th>\n      <td>1365.0</td>\n      <td>1</td>\n      <td>Alysanne Osgrey</td>\n      <td>alysanne.osgrey@ge.org</td>\n      <td>Alysanne</td>\n      <td>Osgrey</td>\n      <td>87</td>\n      <td>3</td>\n      <td>8</td>\n      <td>8</td>\n      <td>...</td>\n      <td>0</td>\n      <td>2</td>\n      <td>0</td>\n      <td>0</td>\n      <td>84.8</td>\n      <td>1</td>\n      <td>0</td>\n      <td>3</td>\n      <td>13</td>\n      <td>170</td>\n    </tr>\n    <tr>\n      <th>2</th>\n      <td>800.0</td>\n      <td>1</td>\n      <td>Edwyd Fossoway</td>\n      <td>edwyd.fossoway@jnj.com</td>\n      <td>Edwyd</td>\n      <td>Fossoway</td>\n      <td>15</td>\n      <td>7</td>\n      <td>11</td>\n      <td>5</td>\n      <td>...</td>\n      <td>0</td>\n      <td>1</td>\n      <td>0</td>\n      <td>0</td>\n      <td>63.0</td>\n      <td>1</td>\n      <td>0</td>\n      <td>2</td>\n      <td>16</td>\n      <td>0</td>\n    </tr>\n    <tr>\n      <th>3</th>\n      <td>600.0</td>\n      <td>1</td>\n      <td>Eleyna Westerling</td>\n      <td>eleyna.westerling@ge.org</td>\n      <td>Eleyna</td>\n      <td>Westerling</td>\n      <td>13</td>\n      <td>6</td>\n      <td>11</td>\n      <td>5</td>\n      <td>...</td>\n      <td>0</td>\n      <td>3</td>\n      <td>0</td>\n      <td>0</td>\n      <td>43.8</td>\n      <td>1</td>\n      <td>0</td>\n      <td>2</td>\n      <td>14</td>\n      <td>0</td>\n    </tr>\n    <tr>\n      <th>4</th>\n      <td>1490.0</td>\n      <td>1</td>\n      <td>Elyn Norridge</td>\n      <td>elyn.norridge@jnj.com</td>\n      <td>Elyn</td>\n      <td>Norridge</td>\n      <td>47</td>\n      <td>8</td>\n      <td>6</td>\n      <td>10</td>\n      <td>...</td>\n      <td>0</td>\n      <td>8</td>\n      <td>0</td>\n      <td>0</td>\n      <td>84.8</td>\n      <td>1</td>\n      <td>1</td>\n      <td>3</td>\n      <td>12</td>\n      <td>205</td>\n    </tr>\n  </tbody>\n</table>\n<p>5 rows × 28 columns</p>\n</div>"
     },
     "metadata": {},
     "execution_count": 2
    }
   ],
   "source": [
    "dataset.head(n=5)"
   ]
  },
  {
   "cell_type": "code",
   "execution_count": 3,
   "metadata": {},
   "outputs": [],
   "source": [
    "def mv_flagger(df):\n",
    "    for col in df:\n",
    "        if df[col].isnull().astype(int).sum() > 0:\n",
    "            df['m_'+col] = df[col].isnull().astype(int)\n",
    "    return df"
   ]
  },
  {
   "cell_type": "code",
   "execution_count": 4,
   "metadata": {},
   "outputs": [
    {
     "output_type": "execute_result",
     "data": {
      "text/plain": [
       "Index(['REVENUE', 'CROSS_SELL_SUCCESS', 'NAME', 'EMAIL', 'FIRST_NAME',\n",
       "       'FAMILY_NAME', 'TOTAL_MEALS_ORDERED', 'UNIQUE_MEALS_PURCH',\n",
       "       'CONTACTS_W_CUSTOMER_SERVICE', 'PRODUCT_CATEGORIES_VIEWED',\n",
       "       'AVG_TIME_PER_SITE_VISIT', 'MOBILE_NUMBER', 'CANCELLATIONS_BEFORE_NOON',\n",
       "       'CANCELLATIONS_AFTER_NOON', 'TASTES_AND_PREFERENCES', 'PC_LOGINS',\n",
       "       'MOBILE_LOGINS', 'WEEKLY_PLAN', 'EARLY_DELIVERIES', 'LATE_DELIVERIES',\n",
       "       'PACKAGE_LOCKER', 'REFRIGERATED_LOCKER', 'AVG_PREP_VID_TIME',\n",
       "       'LARGEST_ORDER_SIZE', 'MASTER_CLASSES_ATTENDED', 'MEDIAN_MEAL_RATING',\n",
       "       'AVG_CLICKS_PER_VISIT', 'TOTAL_PHOTOS_VIEWED'],\n",
       "      dtype='object')"
      ]
     },
     "metadata": {},
     "execution_count": 4
    }
   ],
   "source": [
    "dataset.columns"
   ]
  },
  {
   "cell_type": "code",
   "execution_count": 5,
   "metadata": {},
   "outputs": [
    {
     "output_type": "execute_result",
     "data": {
      "text/plain": [
       "   REVENUE  CROSS_SELL_SUCCESS               NAME FIRST_NAME FAMILY_NAME  \\\n",
       "0    393.0                   1            Saathos    Saathos     Saathos   \n",
       "1   1365.0                   1    Alysanne Osgrey   Alysanne      Osgrey   \n",
       "2    800.0                   1     Edwyd Fossoway      Edwyd    Fossoway   \n",
       "3    600.0                   1  Eleyna Westerling     Eleyna  Westerling   \n",
       "4   1490.0                   1      Elyn Norridge       Elyn    Norridge   \n",
       "\n",
       "   TOTAL_MEALS_ORDERED  UNIQUE_MEALS_PURCH  CONTACTS_W_CUSTOMER_SERVICE  \\\n",
       "0                   14                   6                           12   \n",
       "1                   87                   3                            8   \n",
       "2                   15                   7                           11   \n",
       "3                   13                   6                           11   \n",
       "4                   47                   8                            6   \n",
       "\n",
       "   PRODUCT_CATEGORIES_VIEWED  AVG_TIME_PER_SITE_VISIT  ...  AVG_PREP_VID_TIME  \\\n",
       "0                         10                    48.00  ...               33.4   \n",
       "1                          8                    40.35  ...               84.8   \n",
       "2                          5                    19.77  ...               63.0   \n",
       "3                          5                    90.00  ...               43.8   \n",
       "4                         10                    40.38  ...               84.8   \n",
       "\n",
       "   LARGEST_ORDER_SIZE  MASTER_CLASSES_ATTENDED  MEDIAN_MEAL_RATING  \\\n",
       "0                   1                        0                   1   \n",
       "1                   1                        0                   3   \n",
       "2                   1                        0                   2   \n",
       "3                   1                        0                   2   \n",
       "4                   1                        1                   3   \n",
       "\n",
       "   AVG_CLICKS_PER_VISIT  TOTAL_PHOTOS_VIEWED  EMAIL_JUNK  EMAIL_PERSONAL  \\\n",
       "0                    17                    0           0               0   \n",
       "1                    13                  170           0               0   \n",
       "2                    16                    0           0               0   \n",
       "3                    14                    0           0               0   \n",
       "4                    12                  205           0               0   \n",
       "\n",
       "   EMAIL_PREFESSIONAL  EMAIL_UNKNOWN  \n",
       "0                   1              0  \n",
       "1                   1              0  \n",
       "2                   1              0  \n",
       "3                   1              0  \n",
       "4                   1              0  \n",
       "\n",
       "[5 rows x 31 columns]"
      ],
      "text/html": "<div>\n<style scoped>\n    .dataframe tbody tr th:only-of-type {\n        vertical-align: middle;\n    }\n\n    .dataframe tbody tr th {\n        vertical-align: top;\n    }\n\n    .dataframe thead th {\n        text-align: right;\n    }\n</style>\n<table border=\"1\" class=\"dataframe\">\n  <thead>\n    <tr style=\"text-align: right;\">\n      <th></th>\n      <th>REVENUE</th>\n      <th>CROSS_SELL_SUCCESS</th>\n      <th>NAME</th>\n      <th>FIRST_NAME</th>\n      <th>FAMILY_NAME</th>\n      <th>TOTAL_MEALS_ORDERED</th>\n      <th>UNIQUE_MEALS_PURCH</th>\n      <th>CONTACTS_W_CUSTOMER_SERVICE</th>\n      <th>PRODUCT_CATEGORIES_VIEWED</th>\n      <th>AVG_TIME_PER_SITE_VISIT</th>\n      <th>...</th>\n      <th>AVG_PREP_VID_TIME</th>\n      <th>LARGEST_ORDER_SIZE</th>\n      <th>MASTER_CLASSES_ATTENDED</th>\n      <th>MEDIAN_MEAL_RATING</th>\n      <th>AVG_CLICKS_PER_VISIT</th>\n      <th>TOTAL_PHOTOS_VIEWED</th>\n      <th>EMAIL_JUNK</th>\n      <th>EMAIL_PERSONAL</th>\n      <th>EMAIL_PREFESSIONAL</th>\n      <th>EMAIL_UNKNOWN</th>\n    </tr>\n  </thead>\n  <tbody>\n    <tr>\n      <th>0</th>\n      <td>393.0</td>\n      <td>1</td>\n      <td>Saathos</td>\n      <td>Saathos</td>\n      <td>Saathos</td>\n      <td>14</td>\n      <td>6</td>\n      <td>12</td>\n      <td>10</td>\n      <td>48.00</td>\n      <td>...</td>\n      <td>33.4</td>\n      <td>1</td>\n      <td>0</td>\n      <td>1</td>\n      <td>17</td>\n      <td>0</td>\n      <td>0</td>\n      <td>0</td>\n      <td>1</td>\n      <td>0</td>\n    </tr>\n    <tr>\n      <th>1</th>\n      <td>1365.0</td>\n      <td>1</td>\n      <td>Alysanne Osgrey</td>\n      <td>Alysanne</td>\n      <td>Osgrey</td>\n      <td>87</td>\n      <td>3</td>\n      <td>8</td>\n      <td>8</td>\n      <td>40.35</td>\n      <td>...</td>\n      <td>84.8</td>\n      <td>1</td>\n      <td>0</td>\n      <td>3</td>\n      <td>13</td>\n      <td>170</td>\n      <td>0</td>\n      <td>0</td>\n      <td>1</td>\n      <td>0</td>\n    </tr>\n    <tr>\n      <th>2</th>\n      <td>800.0</td>\n      <td>1</td>\n      <td>Edwyd Fossoway</td>\n      <td>Edwyd</td>\n      <td>Fossoway</td>\n      <td>15</td>\n      <td>7</td>\n      <td>11</td>\n      <td>5</td>\n      <td>19.77</td>\n      <td>...</td>\n      <td>63.0</td>\n      <td>1</td>\n      <td>0</td>\n      <td>2</td>\n      <td>16</td>\n      <td>0</td>\n      <td>0</td>\n      <td>0</td>\n      <td>1</td>\n      <td>0</td>\n    </tr>\n    <tr>\n      <th>3</th>\n      <td>600.0</td>\n      <td>1</td>\n      <td>Eleyna Westerling</td>\n      <td>Eleyna</td>\n      <td>Westerling</td>\n      <td>13</td>\n      <td>6</td>\n      <td>11</td>\n      <td>5</td>\n      <td>90.00</td>\n      <td>...</td>\n      <td>43.8</td>\n      <td>1</td>\n      <td>0</td>\n      <td>2</td>\n      <td>14</td>\n      <td>0</td>\n      <td>0</td>\n      <td>0</td>\n      <td>1</td>\n      <td>0</td>\n    </tr>\n    <tr>\n      <th>4</th>\n      <td>1490.0</td>\n      <td>1</td>\n      <td>Elyn Norridge</td>\n      <td>Elyn</td>\n      <td>Norridge</td>\n      <td>47</td>\n      <td>8</td>\n      <td>6</td>\n      <td>10</td>\n      <td>40.38</td>\n      <td>...</td>\n      <td>84.8</td>\n      <td>1</td>\n      <td>1</td>\n      <td>3</td>\n      <td>12</td>\n      <td>205</td>\n      <td>0</td>\n      <td>0</td>\n      <td>1</td>\n      <td>0</td>\n    </tr>\n  </tbody>\n</table>\n<p>5 rows × 31 columns</p>\n</div>"
     },
     "metadata": {},
     "execution_count": 5
    }
   ],
   "source": [
    "# imputing email\n",
    "\n",
    "# process emails\n",
    "# placeholder list\n",
    "placeholder_lst = []\n",
    "\n",
    "email_set_professional = ['@mmm.com','@amex.com','@apple.com','@boeing.com','@caterpillar.com','@chevron.com','@cisco.com','@cocacola.com','@disney.com','@dupont.com','@exxon.com','@ge.org','@goldmansacs.com','@homedepot.com','@ibm.com','@intel.com','@jnj.com','@jpmorgan.com','@mcdonalds.com','@merck.com','@microsoft.com','@nike.com','@pfizer.com','@pg.com','@travelers.com','@unitedtech.com','@unitedhealth.com','@verizon.com','@visa.com','@walmart.com']\n",
    "email_set_personal = ['@gmail.com','@yahoo.com','@protonmail.com']\n",
    "email_set_junk = ['@me.com','@aol.com','@hotmail.com','@live.com @msn.com','@passport.com']\n",
    "\n",
    "# looping over each email address\n",
    "for index, col in dataset.iterrows():\n",
    "    \n",
    "    # splitting email domain at '@'\n",
    "    split_email = dataset.loc[index, 'EMAIL'].split(sep = '@')\n",
    "    \n",
    "    # appending placeholder_lst with the results\n",
    "    if('@'+split_email[1] in email_set_professional):\n",
    "        placeholder_lst.append('PREFESSIONAL')\n",
    "    elif('@'+split_email[1] in email_set_personal):\n",
    "        placeholder_lst.append('PERSONAL')\n",
    "    elif('@'+split_email[1] in email_set_junk):\n",
    "        placeholder_lst.append('JUNK')\n",
    "    else:\n",
    "        placeholder_lst.append('UNKNOWN')\n",
    "\n",
    "# converting placeholder_lst into a DataFrame \n",
    "email_df = pd.DataFrame(placeholder_lst)\n",
    "\n",
    "# one hot email\n",
    "one_hot_email = pd.get_dummies(email_df,prefix='EMAIL',prefix_sep='_')\n",
    "\n",
    "# joining codings together\n",
    "df = dataset.join(one_hot_email)\n",
    "\n",
    "# drop EMAIL\n",
    "df = df.drop('EMAIL',axis = 1)\n",
    "\n",
    "# check result \n",
    "df.head()\n"
   ]
  },
  {
   "cell_type": "code",
   "execution_count": 6,
   "metadata": {},
   "outputs": [],
   "source": [
    "# saving results\n",
    "df.to_excel('Apprentice_Chef_Feature_Rich.xlsx',index=False)\n",
    "\n",
    "# loading saved file\n",
    "df = pd.read_excel('Apprentice_Chef_Feature_Rich.xlsx')\n"
   ]
  },
  {
   "cell_type": "code",
   "execution_count": 7,
   "metadata": {},
   "outputs": [
    {
     "output_type": "execute_result",
     "data": {
      "text/plain": [
       "Index(['REVENUE', 'CROSS_SELL_SUCCESS', 'TOTAL_MEALS_ORDERED',\n",
       "       'UNIQUE_MEALS_PURCH', 'CONTACTS_W_CUSTOMER_SERVICE',\n",
       "       'PRODUCT_CATEGORIES_VIEWED', 'AVG_TIME_PER_SITE_VISIT', 'MOBILE_NUMBER',\n",
       "       'CANCELLATIONS_BEFORE_NOON', 'CANCELLATIONS_AFTER_NOON',\n",
       "       'TASTES_AND_PREFERENCES', 'PC_LOGINS', 'MOBILE_LOGINS', 'WEEKLY_PLAN',\n",
       "       'EARLY_DELIVERIES', 'LATE_DELIVERIES', 'PACKAGE_LOCKER',\n",
       "       'REFRIGERATED_LOCKER', 'AVG_PREP_VID_TIME', 'LARGEST_ORDER_SIZE',\n",
       "       'MASTER_CLASSES_ATTENDED', 'MEDIAN_MEAL_RATING', 'AVG_CLICKS_PER_VISIT',\n",
       "       'TOTAL_PHOTOS_VIEWED', 'EMAIL_JUNK', 'EMAIL_PERSONAL',\n",
       "       'EMAIL_PREFESSIONAL', 'EMAIL_UNKNOWN'],\n",
       "      dtype='object')"
      ]
     },
     "metadata": {},
     "execution_count": 7
    }
   ],
   "source": [
    "df = df.drop(['NAME','FIRST_NAME','FAMILY_NAME'],axis = 1)\n",
    "df.columns"
   ]
  },
  {
   "cell_type": "code",
   "execution_count": 8,
   "metadata": {},
   "outputs": [],
   "source": [
    "# saving results\n",
    "df.to_excel('Apprentice_Chef_Feature_Rich.xlsx',index=False)\n",
    "\n",
    "# loading saved file\n",
    "df = pd.read_excel('Apprentice_Chef_Feature_Rich.xlsx')\n"
   ]
  },
  {
   "cell_type": "code",
   "execution_count": 9,
   "metadata": {},
   "outputs": [
    {
     "output_type": "execute_result",
     "data": {
      "text/plain": [
       "   REVENUE  CROSS_SELL_SUCCESS  TOTAL_MEALS_ORDERED  UNIQUE_MEALS_PURCH  \\\n",
       "0    393.0                   1                   14                   6   \n",
       "1   1365.0                   1                   87                   3   \n",
       "2    800.0                   1                   15                   7   \n",
       "3    600.0                   1                   13                   6   \n",
       "4   1490.0                   1                   47                   8   \n",
       "\n",
       "   CONTACTS_W_CUSTOMER_SERVICE  PRODUCT_CATEGORIES_VIEWED  \\\n",
       "0                           12                         10   \n",
       "1                            8                          8   \n",
       "2                           11                          5   \n",
       "3                           11                          5   \n",
       "4                            6                         10   \n",
       "\n",
       "   AVG_TIME_PER_SITE_VISIT  MOBILE_NUMBER  CANCELLATIONS_BEFORE_NOON  \\\n",
       "0                    48.00              1                          3   \n",
       "1                    40.35              1                          0   \n",
       "2                    19.77              1                          3   \n",
       "3                    90.00              1                          2   \n",
       "4                    40.38              1                          0   \n",
       "\n",
       "   CANCELLATIONS_AFTER_NOON  ...  MASTER_CLASSES_ATTENDED  MEDIAN_MEAL_RATING  \\\n",
       "0                         1  ...                        0                   1   \n",
       "1                         0  ...                        0                   3   \n",
       "2                         0  ...                        0                   2   \n",
       "3                         0  ...                        0                   2   \n",
       "4                         0  ...                        1                   3   \n",
       "\n",
       "   AVG_CLICKS_PER_VISIT  TOTAL_PHOTOS_VIEWED  EMAIL_JUNK  EMAIL_PERSONAL  \\\n",
       "0                    17                    0           0               0   \n",
       "1                    13                  170           0               0   \n",
       "2                    16                    0           0               0   \n",
       "3                    14                    0           0               0   \n",
       "4                    12                  205           0               0   \n",
       "\n",
       "   EMAIL_PREFESSIONAL  EMAIL_UNKNOWN  Customers_Existing  Customers_New  \n",
       "0                   1              0                   0              1  \n",
       "1                   1              0                   0              1  \n",
       "2                   1              0                   0              1  \n",
       "3                   1              0                   0              1  \n",
       "4                   1              0                   1              0  \n",
       "\n",
       "[5 rows x 29 columns]"
      ],
      "text/html": "<div>\n<style scoped>\n    .dataframe tbody tr th:only-of-type {\n        vertical-align: middle;\n    }\n\n    .dataframe tbody tr th {\n        vertical-align: top;\n    }\n\n    .dataframe thead th {\n        text-align: right;\n    }\n</style>\n<table border=\"1\" class=\"dataframe\">\n  <thead>\n    <tr style=\"text-align: right;\">\n      <th></th>\n      <th>REVENUE</th>\n      <th>CROSS_SELL_SUCCESS</th>\n      <th>TOTAL_MEALS_ORDERED</th>\n      <th>UNIQUE_MEALS_PURCH</th>\n      <th>CONTACTS_W_CUSTOMER_SERVICE</th>\n      <th>PRODUCT_CATEGORIES_VIEWED</th>\n      <th>AVG_TIME_PER_SITE_VISIT</th>\n      <th>MOBILE_NUMBER</th>\n      <th>CANCELLATIONS_BEFORE_NOON</th>\n      <th>CANCELLATIONS_AFTER_NOON</th>\n      <th>...</th>\n      <th>MASTER_CLASSES_ATTENDED</th>\n      <th>MEDIAN_MEAL_RATING</th>\n      <th>AVG_CLICKS_PER_VISIT</th>\n      <th>TOTAL_PHOTOS_VIEWED</th>\n      <th>EMAIL_JUNK</th>\n      <th>EMAIL_PERSONAL</th>\n      <th>EMAIL_PREFESSIONAL</th>\n      <th>EMAIL_UNKNOWN</th>\n      <th>Customers_Existing</th>\n      <th>Customers_New</th>\n    </tr>\n  </thead>\n  <tbody>\n    <tr>\n      <th>0</th>\n      <td>393.0</td>\n      <td>1</td>\n      <td>14</td>\n      <td>6</td>\n      <td>12</td>\n      <td>10</td>\n      <td>48.00</td>\n      <td>1</td>\n      <td>3</td>\n      <td>1</td>\n      <td>...</td>\n      <td>0</td>\n      <td>1</td>\n      <td>17</td>\n      <td>0</td>\n      <td>0</td>\n      <td>0</td>\n      <td>1</td>\n      <td>0</td>\n      <td>0</td>\n      <td>1</td>\n    </tr>\n    <tr>\n      <th>1</th>\n      <td>1365.0</td>\n      <td>1</td>\n      <td>87</td>\n      <td>3</td>\n      <td>8</td>\n      <td>8</td>\n      <td>40.35</td>\n      <td>1</td>\n      <td>0</td>\n      <td>0</td>\n      <td>...</td>\n      <td>0</td>\n      <td>3</td>\n      <td>13</td>\n      <td>170</td>\n      <td>0</td>\n      <td>0</td>\n      <td>1</td>\n      <td>0</td>\n      <td>0</td>\n      <td>1</td>\n    </tr>\n    <tr>\n      <th>2</th>\n      <td>800.0</td>\n      <td>1</td>\n      <td>15</td>\n      <td>7</td>\n      <td>11</td>\n      <td>5</td>\n      <td>19.77</td>\n      <td>1</td>\n      <td>3</td>\n      <td>0</td>\n      <td>...</td>\n      <td>0</td>\n      <td>2</td>\n      <td>16</td>\n      <td>0</td>\n      <td>0</td>\n      <td>0</td>\n      <td>1</td>\n      <td>0</td>\n      <td>0</td>\n      <td>1</td>\n    </tr>\n    <tr>\n      <th>3</th>\n      <td>600.0</td>\n      <td>1</td>\n      <td>13</td>\n      <td>6</td>\n      <td>11</td>\n      <td>5</td>\n      <td>90.00</td>\n      <td>1</td>\n      <td>2</td>\n      <td>0</td>\n      <td>...</td>\n      <td>0</td>\n      <td>2</td>\n      <td>14</td>\n      <td>0</td>\n      <td>0</td>\n      <td>0</td>\n      <td>1</td>\n      <td>0</td>\n      <td>0</td>\n      <td>1</td>\n    </tr>\n    <tr>\n      <th>4</th>\n      <td>1490.0</td>\n      <td>1</td>\n      <td>47</td>\n      <td>8</td>\n      <td>6</td>\n      <td>10</td>\n      <td>40.38</td>\n      <td>1</td>\n      <td>0</td>\n      <td>0</td>\n      <td>...</td>\n      <td>1</td>\n      <td>3</td>\n      <td>12</td>\n      <td>205</td>\n      <td>0</td>\n      <td>0</td>\n      <td>1</td>\n      <td>0</td>\n      <td>1</td>\n      <td>0</td>\n    </tr>\n  </tbody>\n</table>\n<p>5 rows × 29 columns</p>\n</div>"
     },
     "metadata": {},
     "execution_count": 9
    }
   ],
   "source": [
    "# advance more features\n",
    "# TASTES_AND_PREFERENCES\n",
    "# 根据是否设置口味偏好来判断是否为新用户\n",
    "\n",
    "# \n",
    "df['CUSTOMERS_TYPE_TASTES_AND_PREFERENCES'] = 'OTHER'\n",
    "df['CUSTOMERS_TYPE_TASTES_AND_PREFERENCES'][df['TASTES_AND_PREFERENCES'] == 0] ='Existing'\n",
    "df['CUSTOMERS_TYPE_TASTES_AND_PREFERENCES'][df['TASTES_AND_PREFERENCES'] == 1] ='New'\n",
    "\n",
    "# one hot TASTES_AND_PREFERENCES\n",
    "one_hot_tap = pd.get_dummies(df['CUSTOMERS_TYPE_TASTES_AND_PREFERENCES'],prefix='Customers',prefix_sep='_')\n",
    "\n",
    "# joining codings together\n",
    "df = df.join(one_hot_tap)\n",
    "\n",
    "# drop EMAIL\n",
    "df = df.drop(['TASTES_AND_PREFERENCES','CUSTOMERS_TYPE_TASTES_AND_PREFERENCES'],axis = 1)\n",
    "\n",
    "# check result \n",
    "df.head()\n"
   ]
  },
  {
   "cell_type": "code",
   "execution_count": 10,
   "metadata": {},
   "outputs": [],
   "source": [
    "# saving results\n",
    "df.to_excel('Apprentice_Chef_Feature_Rich.xlsx',index=False)\n",
    "\n",
    "# loading saved file\n",
    "df = pd.read_excel('Apprentice_Chef_Feature_Rich.xlsx')\n"
   ]
  },
  {
   "cell_type": "code",
   "execution_count": 11,
   "metadata": {},
   "outputs": [
    {
     "output_type": "execute_result",
     "data": {
      "text/plain": [
       "   REVENUE  CROSS_SELL_SUCCESS  TOTAL_MEALS_ORDERED  UNIQUE_MEALS_PURCH  \\\n",
       "0    393.0                   1                   14                   6   \n",
       "1   1365.0                   1                   87                   3   \n",
       "2    800.0                   1                   15                   7   \n",
       "3    600.0                   1                   13                   6   \n",
       "4   1490.0                   1                   47                   8   \n",
       "\n",
       "   CONTACTS_W_CUSTOMER_SERVICE  PRODUCT_CATEGORIES_VIEWED  \\\n",
       "0                           12                         10   \n",
       "1                            8                          8   \n",
       "2                           11                          5   \n",
       "3                           11                          5   \n",
       "4                            6                         10   \n",
       "\n",
       "   AVG_TIME_PER_SITE_VISIT  CANCELLATIONS_BEFORE_NOON  \\\n",
       "0                    48.00                          3   \n",
       "1                    40.35                          0   \n",
       "2                    19.77                          3   \n",
       "3                    90.00                          2   \n",
       "4                    40.38                          0   \n",
       "\n",
       "   CANCELLATIONS_AFTER_NOON  PC_LOGINS  ...  AVG_CLICKS_PER_VISIT  \\\n",
       "0                         1          5  ...                    17   \n",
       "1                         0          5  ...                    13   \n",
       "2                         0          6  ...                    16   \n",
       "3                         0          6  ...                    14   \n",
       "4                         0          5  ...                    12   \n",
       "\n",
       "   TOTAL_PHOTOS_VIEWED  EMAIL_JUNK  EMAIL_PERSONAL  EMAIL_PREFESSIONAL  \\\n",
       "0                    0           0               0                   1   \n",
       "1                  170           0               0                   1   \n",
       "2                    0           0               0                   1   \n",
       "3                    0           0               0                   1   \n",
       "4                  205           0               0                   1   \n",
       "\n",
       "   EMAIL_UNKNOWN  Customers_Existing  Customers_New  \\\n",
       "0              0                   0              1   \n",
       "1              0                   0              1   \n",
       "2              0                   0              1   \n",
       "3              0                   0              1   \n",
       "4              0                   1              0   \n",
       "\n",
       "   Customers_MOBILE_Existing  Customers_MOBILE_New  \n",
       "0                          0                     1  \n",
       "1                          0                     1  \n",
       "2                          0                     1  \n",
       "3                          0                     1  \n",
       "4                          0                     1  \n",
       "\n",
       "[5 rows x 30 columns]"
      ],
      "text/html": "<div>\n<style scoped>\n    .dataframe tbody tr th:only-of-type {\n        vertical-align: middle;\n    }\n\n    .dataframe tbody tr th {\n        vertical-align: top;\n    }\n\n    .dataframe thead th {\n        text-align: right;\n    }\n</style>\n<table border=\"1\" class=\"dataframe\">\n  <thead>\n    <tr style=\"text-align: right;\">\n      <th></th>\n      <th>REVENUE</th>\n      <th>CROSS_SELL_SUCCESS</th>\n      <th>TOTAL_MEALS_ORDERED</th>\n      <th>UNIQUE_MEALS_PURCH</th>\n      <th>CONTACTS_W_CUSTOMER_SERVICE</th>\n      <th>PRODUCT_CATEGORIES_VIEWED</th>\n      <th>AVG_TIME_PER_SITE_VISIT</th>\n      <th>CANCELLATIONS_BEFORE_NOON</th>\n      <th>CANCELLATIONS_AFTER_NOON</th>\n      <th>PC_LOGINS</th>\n      <th>...</th>\n      <th>AVG_CLICKS_PER_VISIT</th>\n      <th>TOTAL_PHOTOS_VIEWED</th>\n      <th>EMAIL_JUNK</th>\n      <th>EMAIL_PERSONAL</th>\n      <th>EMAIL_PREFESSIONAL</th>\n      <th>EMAIL_UNKNOWN</th>\n      <th>Customers_Existing</th>\n      <th>Customers_New</th>\n      <th>Customers_MOBILE_Existing</th>\n      <th>Customers_MOBILE_New</th>\n    </tr>\n  </thead>\n  <tbody>\n    <tr>\n      <th>0</th>\n      <td>393.0</td>\n      <td>1</td>\n      <td>14</td>\n      <td>6</td>\n      <td>12</td>\n      <td>10</td>\n      <td>48.00</td>\n      <td>3</td>\n      <td>1</td>\n      <td>5</td>\n      <td>...</td>\n      <td>17</td>\n      <td>0</td>\n      <td>0</td>\n      <td>0</td>\n      <td>1</td>\n      <td>0</td>\n      <td>0</td>\n      <td>1</td>\n      <td>0</td>\n      <td>1</td>\n    </tr>\n    <tr>\n      <th>1</th>\n      <td>1365.0</td>\n      <td>1</td>\n      <td>87</td>\n      <td>3</td>\n      <td>8</td>\n      <td>8</td>\n      <td>40.35</td>\n      <td>0</td>\n      <td>0</td>\n      <td>5</td>\n      <td>...</td>\n      <td>13</td>\n      <td>170</td>\n      <td>0</td>\n      <td>0</td>\n      <td>1</td>\n      <td>0</td>\n      <td>0</td>\n      <td>1</td>\n      <td>0</td>\n      <td>1</td>\n    </tr>\n    <tr>\n      <th>2</th>\n      <td>800.0</td>\n      <td>1</td>\n      <td>15</td>\n      <td>7</td>\n      <td>11</td>\n      <td>5</td>\n      <td>19.77</td>\n      <td>3</td>\n      <td>0</td>\n      <td>6</td>\n      <td>...</td>\n      <td>16</td>\n      <td>0</td>\n      <td>0</td>\n      <td>0</td>\n      <td>1</td>\n      <td>0</td>\n      <td>0</td>\n      <td>1</td>\n      <td>0</td>\n      <td>1</td>\n    </tr>\n    <tr>\n      <th>3</th>\n      <td>600.0</td>\n      <td>1</td>\n      <td>13</td>\n      <td>6</td>\n      <td>11</td>\n      <td>5</td>\n      <td>90.00</td>\n      <td>2</td>\n      <td>0</td>\n      <td>6</td>\n      <td>...</td>\n      <td>14</td>\n      <td>0</td>\n      <td>0</td>\n      <td>0</td>\n      <td>1</td>\n      <td>0</td>\n      <td>0</td>\n      <td>1</td>\n      <td>0</td>\n      <td>1</td>\n    </tr>\n    <tr>\n      <th>4</th>\n      <td>1490.0</td>\n      <td>1</td>\n      <td>47</td>\n      <td>8</td>\n      <td>6</td>\n      <td>10</td>\n      <td>40.38</td>\n      <td>0</td>\n      <td>0</td>\n      <td>5</td>\n      <td>...</td>\n      <td>12</td>\n      <td>205</td>\n      <td>0</td>\n      <td>0</td>\n      <td>1</td>\n      <td>0</td>\n      <td>1</td>\n      <td>0</td>\n      <td>0</td>\n      <td>1</td>\n    </tr>\n  </tbody>\n</table>\n<p>5 rows × 30 columns</p>\n</div>"
     },
     "metadata": {},
     "execution_count": 11
    }
   ],
   "source": [
    "# define if is new customer by phone num\n",
    "\n",
    "# \n",
    "df['CUSTOMERS_TYPE_MOBILE_NUMBER'] = 'OTHERS'\n",
    "df['CUSTOMERS_TYPE_MOBILE_NUMBER'][df['MOBILE_NUMBER'] == 0] ='Existing'\n",
    "df['CUSTOMERS_TYPE_MOBILE_NUMBER'][df['MOBILE_NUMBER'] == 1] ='New'\n",
    "\n",
    "# one hot TASTES_AND_PREFERENCES\n",
    "one_hot_tap = pd.get_dummies(df['CUSTOMERS_TYPE_MOBILE_NUMBER'],prefix='Customers_MOBILE',prefix_sep='_')\n",
    "\n",
    "# joining codings together\n",
    "df = df.join(one_hot_tap)\n",
    "\n",
    "# drop EMAIL\n",
    "df = df.drop(['MOBILE_NUMBER','CUSTOMERS_TYPE_MOBILE_NUMBER'],axis = 1)\n",
    "\n",
    "# check result \n",
    "df.head()\n",
    "\n",
    "\n"
   ]
  },
  {
   "cell_type": "code",
   "execution_count": 12,
   "metadata": {},
   "outputs": [],
   "source": [
    "\n",
    "# WEEKLY_PLAN\n",
    "# 订餐次数、周数，根据标准划分，并乘以周计划次数\n",
    "\n",
    "df['WEEKLY_PLAN_DISCOUNT']= 1\n",
    "\n",
    "for index,col in df.iterrows():\n",
    "    _ = df.loc[index,'TOTAL_MEALS_ORDERED']//52\n",
    "    if _ >=5:\n",
    "        df.loc[index,'WEEKLY_PLAN_DISCOUNT']= 0.8\n",
    "    elif _ >=3:\n",
    "        df.loc[index,'WEEKLY_PLAN_DISCOUNT']= 0.9\n",
    "    else:\n",
    "        df.loc[index,'WEEKLY_PLAN_DISCOUNT']= 1        \n",
    "\n",
    "df['WEEKLY_PLAN_DISCOUNT'].head()\n",
    "\n",
    "one_hot_discounts = pd.get_dummies(df['WEEKLY_PLAN_DISCOUNT'],prefix='WEEKLY_PLAN_DISCOUNT',prefix_sep='_')\n",
    "\n",
    "# joining codings together\n",
    "df = df.join(one_hot_discounts)\n",
    "df = df.drop('WEEKLY_PLAN_DISCOUNT',axis = 1)\n",
    "\n",
    "\n",
    "# 另外一个比例订餐次数的比例\n",
    "\n",
    "df['WEEKLY_PLAN_RATE']= df['WEEKLY_PLAN']//52\n",
    "\n",
    "df = df.drop('WEEKLY_PLAN',axis = 1)\n"
   ]
  },
  {
   "cell_type": "code",
   "execution_count": 13,
   "metadata": {},
   "outputs": [],
   "source": [
    "# saving results\n",
    "df.to_excel('Apprentice_Chef_Feature_Rich.xlsx',index=False)\n",
    "\n",
    "# loading saved file\n",
    "df = pd.read_excel('Apprentice_Chef_Feature_Rich.xlsx')\n"
   ]
  },
  {
   "cell_type": "code",
   "execution_count": 14,
   "metadata": {},
   "outputs": [],
   "source": [
    "##############################################################\n",
    "##############################################################\n",
    "##############################################################\n",
    "##############################################################"
   ]
  },
  {
   "cell_type": "code",
   "execution_count": 15,
   "metadata": {},
   "outputs": [
    {
     "output_type": "execute_result",
     "data": {
      "text/plain": [
       "   CROSS_SELL_SUCCESS   REVENUE  TOTAL_MEALS_ORDERED  UNIQUE_MEALS_PURCH  \\\n",
       "0                   1 -1.506411            -1.096546            0.437758   \n",
       "1                   1 -0.652279             0.223632           -0.761507   \n",
       "2                   1 -1.148765            -1.078461            0.837513   \n",
       "3                   1 -1.324512            -1.114630            0.437758   \n",
       "4                   1 -0.542437            -0.499753            1.237268   \n",
       "\n",
       "   CONTACTS_W_CUSTOMER_SERVICE  PRODUCT_CATEGORIES_VIEWED  \\\n",
       "0                     2.199609                   1.516860   \n",
       "1                     0.445690                   0.859661   \n",
       "2                     1.761129                  -0.126138   \n",
       "3                     1.761129                  -0.126138   \n",
       "4                    -0.431269                   1.516860   \n",
       "\n",
       "   AVG_TIME_PER_SITE_VISIT  CANCELLATIONS_BEFORE_NOON  \\\n",
       "0                -0.827983                   1.029555   \n",
       "1                -0.950725                  -0.906831   \n",
       "2                -1.280926                   1.029555   \n",
       "3                -0.154104                   0.384093   \n",
       "4                -0.950244                  -0.906831   \n",
       "\n",
       "   CANCELLATIONS_AFTER_NOON  PC_LOGINS  ...  EMAIL_PREFESSIONAL  \\\n",
       "0                  1.930020  -0.888604  ...            1.340141   \n",
       "1                 -0.384101  -0.888604  ...            1.340141   \n",
       "2                 -0.384101   0.833730  ...            1.340141   \n",
       "3                 -0.384101   0.833730  ...            1.340141   \n",
       "4                 -0.384101  -0.888604  ...            1.340141   \n",
       "\n",
       "   EMAIL_UNKNOWN  Customers_Existing  Customers_New  \\\n",
       "0       -0.27194           -0.632456       0.632456   \n",
       "1       -0.27194           -0.632456       0.632456   \n",
       "2       -0.27194           -0.632456       0.632456   \n",
       "3       -0.27194           -0.632456       0.632456   \n",
       "4       -0.27194            1.581139      -1.581139   \n",
       "\n",
       "   Customers_MOBILE_Existing  Customers_MOBILE_New  WEEKLY_PLAN_DISCOUNT_0.8  \\\n",
       "0                  -0.373288              0.373288                 -0.122995   \n",
       "1                  -0.373288              0.373288                 -0.122995   \n",
       "2                  -0.373288              0.373288                 -0.122995   \n",
       "3                  -0.373288              0.373288                 -0.122995   \n",
       "4                  -0.373288              0.373288                 -0.122995   \n",
       "\n",
       "   WEEKLY_PLAN_DISCOUNT_0.9  WEEKLY_PLAN_DISCOUNT_1.0  WEEKLY_PLAN_RATE  \n",
       "0                 -0.256354                  0.287951         -0.093877  \n",
       "1                 -0.256354                  0.287951         -0.093877  \n",
       "2                 -0.256354                  0.287951         -0.093877  \n",
       "3                 -0.256354                  0.287951         -0.093877  \n",
       "4                 -0.256354                  0.287951         -0.093877  \n",
       "\n",
       "[5 rows x 33 columns]"
      ],
      "text/html": "<div>\n<style scoped>\n    .dataframe tbody tr th:only-of-type {\n        vertical-align: middle;\n    }\n\n    .dataframe tbody tr th {\n        vertical-align: top;\n    }\n\n    .dataframe thead th {\n        text-align: right;\n    }\n</style>\n<table border=\"1\" class=\"dataframe\">\n  <thead>\n    <tr style=\"text-align: right;\">\n      <th></th>\n      <th>CROSS_SELL_SUCCESS</th>\n      <th>REVENUE</th>\n      <th>TOTAL_MEALS_ORDERED</th>\n      <th>UNIQUE_MEALS_PURCH</th>\n      <th>CONTACTS_W_CUSTOMER_SERVICE</th>\n      <th>PRODUCT_CATEGORIES_VIEWED</th>\n      <th>AVG_TIME_PER_SITE_VISIT</th>\n      <th>CANCELLATIONS_BEFORE_NOON</th>\n      <th>CANCELLATIONS_AFTER_NOON</th>\n      <th>PC_LOGINS</th>\n      <th>...</th>\n      <th>EMAIL_PREFESSIONAL</th>\n      <th>EMAIL_UNKNOWN</th>\n      <th>Customers_Existing</th>\n      <th>Customers_New</th>\n      <th>Customers_MOBILE_Existing</th>\n      <th>Customers_MOBILE_New</th>\n      <th>WEEKLY_PLAN_DISCOUNT_0.8</th>\n      <th>WEEKLY_PLAN_DISCOUNT_0.9</th>\n      <th>WEEKLY_PLAN_DISCOUNT_1.0</th>\n      <th>WEEKLY_PLAN_RATE</th>\n    </tr>\n  </thead>\n  <tbody>\n    <tr>\n      <th>0</th>\n      <td>1</td>\n      <td>-1.506411</td>\n      <td>-1.096546</td>\n      <td>0.437758</td>\n      <td>2.199609</td>\n      <td>1.516860</td>\n      <td>-0.827983</td>\n      <td>1.029555</td>\n      <td>1.930020</td>\n      <td>-0.888604</td>\n      <td>...</td>\n      <td>1.340141</td>\n      <td>-0.27194</td>\n      <td>-0.632456</td>\n      <td>0.632456</td>\n      <td>-0.373288</td>\n      <td>0.373288</td>\n      <td>-0.122995</td>\n      <td>-0.256354</td>\n      <td>0.287951</td>\n      <td>-0.093877</td>\n    </tr>\n    <tr>\n      <th>1</th>\n      <td>1</td>\n      <td>-0.652279</td>\n      <td>0.223632</td>\n      <td>-0.761507</td>\n      <td>0.445690</td>\n      <td>0.859661</td>\n      <td>-0.950725</td>\n      <td>-0.906831</td>\n      <td>-0.384101</td>\n      <td>-0.888604</td>\n      <td>...</td>\n      <td>1.340141</td>\n      <td>-0.27194</td>\n      <td>-0.632456</td>\n      <td>0.632456</td>\n      <td>-0.373288</td>\n      <td>0.373288</td>\n      <td>-0.122995</td>\n      <td>-0.256354</td>\n      <td>0.287951</td>\n      <td>-0.093877</td>\n    </tr>\n    <tr>\n      <th>2</th>\n      <td>1</td>\n      <td>-1.148765</td>\n      <td>-1.078461</td>\n      <td>0.837513</td>\n      <td>1.761129</td>\n      <td>-0.126138</td>\n      <td>-1.280926</td>\n      <td>1.029555</td>\n      <td>-0.384101</td>\n      <td>0.833730</td>\n      <td>...</td>\n      <td>1.340141</td>\n      <td>-0.27194</td>\n      <td>-0.632456</td>\n      <td>0.632456</td>\n      <td>-0.373288</td>\n      <td>0.373288</td>\n      <td>-0.122995</td>\n      <td>-0.256354</td>\n      <td>0.287951</td>\n      <td>-0.093877</td>\n    </tr>\n    <tr>\n      <th>3</th>\n      <td>1</td>\n      <td>-1.324512</td>\n      <td>-1.114630</td>\n      <td>0.437758</td>\n      <td>1.761129</td>\n      <td>-0.126138</td>\n      <td>-0.154104</td>\n      <td>0.384093</td>\n      <td>-0.384101</td>\n      <td>0.833730</td>\n      <td>...</td>\n      <td>1.340141</td>\n      <td>-0.27194</td>\n      <td>-0.632456</td>\n      <td>0.632456</td>\n      <td>-0.373288</td>\n      <td>0.373288</td>\n      <td>-0.122995</td>\n      <td>-0.256354</td>\n      <td>0.287951</td>\n      <td>-0.093877</td>\n    </tr>\n    <tr>\n      <th>4</th>\n      <td>1</td>\n      <td>-0.542437</td>\n      <td>-0.499753</td>\n      <td>1.237268</td>\n      <td>-0.431269</td>\n      <td>1.516860</td>\n      <td>-0.950244</td>\n      <td>-0.906831</td>\n      <td>-0.384101</td>\n      <td>-0.888604</td>\n      <td>...</td>\n      <td>1.340141</td>\n      <td>-0.27194</td>\n      <td>1.581139</td>\n      <td>-1.581139</td>\n      <td>-0.373288</td>\n      <td>0.373288</td>\n      <td>-0.122995</td>\n      <td>-0.256354</td>\n      <td>0.287951</td>\n      <td>-0.093877</td>\n    </tr>\n  </tbody>\n</table>\n<p>5 rows × 33 columns</p>\n</div>"
     },
     "metadata": {},
     "execution_count": 15
    }
   ],
   "source": [
    "\n",
    "import statsmodels.formula.api as smf\n",
    "from sklearn.preprocessing import StandardScaler\n",
    "\n",
    "# declaring explanatory variables\n",
    "df_data = df.drop('CROSS_SELL_SUCCESS', axis = 1)\n",
    "# declaring response variable\n",
    "df_target = df.loc[ : , 'CROSS_SELL_SUCCESS']\n",
    "\n",
    "\n",
    "scaler = StandardScaler()\n",
    "scaled_data = scaler.fit_transform(df_data)\n",
    "\n",
    "\n",
    "data_set = pd.DataFrame(data=scaled_data,columns=df_data.columns)\n",
    "data_set = pd.concat([df_target, data_set], axis = 1)\n",
    "data_set.head()"
   ]
  },
  {
   "cell_type": "code",
   "execution_count": 16,
   "metadata": {},
   "outputs": [
    {
     "output_type": "stream",
     "name": "stdout",
     "text": [
      "data_set['CROSS_SELL_SUCCESS']+\ndata_set['REVENUE']+\ndata_set['TOTAL_MEALS_ORDERED']+\ndata_set['UNIQUE_MEALS_PURCH']+\ndata_set['CONTACTS_W_CUSTOMER_SERVICE']+\ndata_set['PRODUCT_CATEGORIES_VIEWED']+\ndata_set['AVG_TIME_PER_SITE_VISIT']+\ndata_set['CANCELLATIONS_BEFORE_NOON']+\ndata_set['CANCELLATIONS_AFTER_NOON']+\ndata_set['PC_LOGINS']+\ndata_set['MOBILE_LOGINS']+\ndata_set['EARLY_DELIVERIES']+\ndata_set['LATE_DELIVERIES']+\ndata_set['PACKAGE_LOCKER']+\ndata_set['REFRIGERATED_LOCKER']+\ndata_set['AVG_PREP_VID_TIME']+\ndata_set['LARGEST_ORDER_SIZE']+\ndata_set['MASTER_CLASSES_ATTENDED']+\ndata_set['MEDIAN_MEAL_RATING']+\ndata_set['AVG_CLICKS_PER_VISIT']+\ndata_set['TOTAL_PHOTOS_VIEWED']+\ndata_set['EMAIL_JUNK']+\ndata_set['EMAIL_PERSONAL']+\ndata_set['EMAIL_PREFESSIONAL']+\ndata_set['EMAIL_UNKNOWN']+\ndata_set['Customers_Existing']+\ndata_set['Customers_New']+\ndata_set['Customers_MOBILE_Existing']+\ndata_set['Customers_MOBILE_New']+\ndata_set['WEEKLY_PLAN_DISCOUNT_0.8']+\ndata_set['WEEKLY_PLAN_DISCOUNT_0.9']+\ndata_set['WEEKLY_PLAN_DISCOUNT_1.0']+\ndata_set['WEEKLY_PLAN_RATE']+\n"
     ]
    }
   ],
   "source": [
    "for x in data_set.columns:\n",
    "    print(\"data_set['\"+x+\"']+\")"
   ]
  },
  {
   "cell_type": "code",
   "execution_count": 19,
   "metadata": {
    "scrolled": false
   },
   "outputs": [
    {
     "output_type": "stream",
     "name": "stdout",
     "text": [
      "Optimization terminated successfully.\n         Current function value: 0.549424\n         Iterations 6\n"
     ]
    },
    {
     "output_type": "execute_result",
     "data": {
      "text/plain": [
       "<class 'statsmodels.iolib.summary.Summary'>\n",
       "\"\"\"\n",
       "                           Logit Regression Results                           \n",
       "==============================================================================\n",
       "Dep. Variable:     CROSS_SELL_SUCCESS   No. Observations:                 1946\n",
       "Model:                          Logit   Df Residuals:                     1917\n",
       "Method:                           MLE   Df Model:                           28\n",
       "Date:                Sun, 24 Jan 2021   Pseudo R-squ.:                  0.1248\n",
       "Time:                        23:27:24   Log-Likelihood:                -1069.2\n",
       "converged:                       True   LL-Null:                       -1221.6\n",
       "Covariance Type:            nonrobust   LLR p-value:                 2.680e-48\n",
       "========================================================================================================\n",
       "                                           coef    std err          z      P>|z|      [0.025      0.975]\n",
       "--------------------------------------------------------------------------------------------------------\n",
       "Intercept                                0.8753      0.055     15.942      0.000       0.768       0.983\n",
       "REVENUE                                 -0.1991      0.088     -2.260      0.024      -0.372      -0.026\n",
       "TOTAL_MEALS_ORDERED                      0.1938      0.105      1.840      0.066      -0.013       0.400\n",
       "UNIQUE_MEALS_PURCH                       0.0053      0.056      0.094      0.925      -0.104       0.115\n",
       "CONTACTS_W_CUSTOMER_SERVICE              0.1264      0.056      2.249      0.024       0.016       0.237\n",
       "PRODUCT_CATEGORIES_VIEWED               -0.0033      0.053     -0.062      0.950      -0.108       0.101\n",
       "AVG_TIME_PER_SITE_VISIT                  0.0219      0.058      0.378      0.705      -0.092       0.135\n",
       "CANCELLATIONS_BEFORE_NOON                0.4577      0.062      7.325      0.000       0.335       0.580\n",
       "CANCELLATIONS_AFTER_NOON                -0.1160      0.051     -2.255      0.024      -0.217      -0.015\n",
       "MOBILE_LOGINS                           -0.1052      0.053     -1.970      0.049      -0.210      -0.001\n",
       "PC_LOGINS                                0.1173      0.054      2.192      0.028       0.012       0.222\n",
       "EARLY_DELIVERIES                         0.0668      0.054      1.241      0.215      -0.039       0.172\n",
       "LATE_DELIVERIES                          0.0406      0.054      0.756      0.450      -0.065       0.146\n",
       "PACKAGE_LOCKER                           0.0084      0.060      0.140      0.889      -0.110       0.127\n",
       "REFRIGERATED_LOCKER                      0.1527      0.064      2.382      0.017       0.027       0.278\n",
       "AVG_PREP_VID_TIME                        0.1158      0.112      1.031      0.302      -0.104       0.336\n",
       "LARGEST_ORDER_SIZE                      -0.0386      0.091     -0.422      0.673      -0.218       0.141\n",
       "MASTER_CLASSES_ATTENDED                  0.0578      0.063      0.911      0.362      -0.066       0.182\n",
       "MEDIAN_MEAL_RATING                       0.0170      0.110      0.154      0.877      -0.199       0.233\n",
       "AVG_CLICKS_PER_VISIT                    -0.0626      0.103     -0.605      0.545      -0.265       0.140\n",
       "TOTAL_PHOTOS_VIEWED                      0.0189      0.063      0.300      0.764      -0.104       0.142\n",
       "EMAIL_JUNK                              -0.0272      0.077     -0.356      0.722      -0.177       0.123\n",
       "EMAIL_PERSONAL                           0.5980      0.099      6.049      0.000       0.404       0.792\n",
       "EMAIL_PREFESSIONAL                       0.8610      0.100      8.627      0.000       0.665       1.057\n",
       "Customers_Existing                      -0.1778      0.052     -3.414      0.001      -0.280      -0.076\n",
       "Customers_MOBILE_Existing               -0.2730      0.050     -5.410      0.000      -0.372      -0.174\n",
       "WEEKLY_PLAN_RATE                         0.0067      0.055      0.123      0.902      -0.100       0.114\n",
       "data_set['WEEKLY_PLAN_DISCOUNT_0.8']    -0.1607      0.072     -2.242      0.025      -0.301      -0.020\n",
       "data_set['WEEKLY_PLAN_DISCOUNT_0.9']    -0.1696      0.075     -2.254      0.024      -0.317      -0.022\n",
       "========================================================================================================\n",
       "\"\"\""
      ],
      "text/html": "<table class=\"simpletable\">\n<caption>Logit Regression Results</caption>\n<tr>\n  <th>Dep. Variable:</th>   <td>CROSS_SELL_SUCCESS</td> <th>  No. Observations:  </th>  <td>  1946</td>  \n</tr>\n<tr>\n  <th>Model:</th>                  <td>Logit</td>       <th>  Df Residuals:      </th>  <td>  1917</td>  \n</tr>\n<tr>\n  <th>Method:</th>                  <td>MLE</td>        <th>  Df Model:          </th>  <td>    28</td>  \n</tr>\n<tr>\n  <th>Date:</th>             <td>Sun, 24 Jan 2021</td>  <th>  Pseudo R-squ.:     </th>  <td>0.1248</td>  \n</tr>\n<tr>\n  <th>Time:</th>                 <td>23:27:24</td>      <th>  Log-Likelihood:    </th> <td> -1069.2</td> \n</tr>\n<tr>\n  <th>converged:</th>              <td>True</td>        <th>  LL-Null:           </th> <td> -1221.6</td> \n</tr>\n<tr>\n  <th>Covariance Type:</th>      <td>nonrobust</td>     <th>  LLR p-value:       </th> <td>2.680e-48</td>\n</tr>\n</table>\n<table class=\"simpletable\">\n<tr>\n                    <td></td>                      <th>coef</th>     <th>std err</th>      <th>z</th>      <th>P>|z|</th>  <th>[0.025</th>    <th>0.975]</th>  \n</tr>\n<tr>\n  <th>Intercept</th>                            <td>    0.8753</td> <td>    0.055</td> <td>   15.942</td> <td> 0.000</td> <td>    0.768</td> <td>    0.983</td>\n</tr>\n<tr>\n  <th>REVENUE</th>                              <td>   -0.1991</td> <td>    0.088</td> <td>   -2.260</td> <td> 0.024</td> <td>   -0.372</td> <td>   -0.026</td>\n</tr>\n<tr>\n  <th>TOTAL_MEALS_ORDERED</th>                  <td>    0.1938</td> <td>    0.105</td> <td>    1.840</td> <td> 0.066</td> <td>   -0.013</td> <td>    0.400</td>\n</tr>\n<tr>\n  <th>UNIQUE_MEALS_PURCH</th>                   <td>    0.0053</td> <td>    0.056</td> <td>    0.094</td> <td> 0.925</td> <td>   -0.104</td> <td>    0.115</td>\n</tr>\n<tr>\n  <th>CONTACTS_W_CUSTOMER_SERVICE</th>          <td>    0.1264</td> <td>    0.056</td> <td>    2.249</td> <td> 0.024</td> <td>    0.016</td> <td>    0.237</td>\n</tr>\n<tr>\n  <th>PRODUCT_CATEGORIES_VIEWED</th>            <td>   -0.0033</td> <td>    0.053</td> <td>   -0.062</td> <td> 0.950</td> <td>   -0.108</td> <td>    0.101</td>\n</tr>\n<tr>\n  <th>AVG_TIME_PER_SITE_VISIT</th>              <td>    0.0219</td> <td>    0.058</td> <td>    0.378</td> <td> 0.705</td> <td>   -0.092</td> <td>    0.135</td>\n</tr>\n<tr>\n  <th>CANCELLATIONS_BEFORE_NOON</th>            <td>    0.4577</td> <td>    0.062</td> <td>    7.325</td> <td> 0.000</td> <td>    0.335</td> <td>    0.580</td>\n</tr>\n<tr>\n  <th>CANCELLATIONS_AFTER_NOON</th>             <td>   -0.1160</td> <td>    0.051</td> <td>   -2.255</td> <td> 0.024</td> <td>   -0.217</td> <td>   -0.015</td>\n</tr>\n<tr>\n  <th>MOBILE_LOGINS</th>                        <td>   -0.1052</td> <td>    0.053</td> <td>   -1.970</td> <td> 0.049</td> <td>   -0.210</td> <td>   -0.001</td>\n</tr>\n<tr>\n  <th>PC_LOGINS</th>                            <td>    0.1173</td> <td>    0.054</td> <td>    2.192</td> <td> 0.028</td> <td>    0.012</td> <td>    0.222</td>\n</tr>\n<tr>\n  <th>EARLY_DELIVERIES</th>                     <td>    0.0668</td> <td>    0.054</td> <td>    1.241</td> <td> 0.215</td> <td>   -0.039</td> <td>    0.172</td>\n</tr>\n<tr>\n  <th>LATE_DELIVERIES</th>                      <td>    0.0406</td> <td>    0.054</td> <td>    0.756</td> <td> 0.450</td> <td>   -0.065</td> <td>    0.146</td>\n</tr>\n<tr>\n  <th>PACKAGE_LOCKER</th>                       <td>    0.0084</td> <td>    0.060</td> <td>    0.140</td> <td> 0.889</td> <td>   -0.110</td> <td>    0.127</td>\n</tr>\n<tr>\n  <th>REFRIGERATED_LOCKER</th>                  <td>    0.1527</td> <td>    0.064</td> <td>    2.382</td> <td> 0.017</td> <td>    0.027</td> <td>    0.278</td>\n</tr>\n<tr>\n  <th>AVG_PREP_VID_TIME</th>                    <td>    0.1158</td> <td>    0.112</td> <td>    1.031</td> <td> 0.302</td> <td>   -0.104</td> <td>    0.336</td>\n</tr>\n<tr>\n  <th>LARGEST_ORDER_SIZE</th>                   <td>   -0.0386</td> <td>    0.091</td> <td>   -0.422</td> <td> 0.673</td> <td>   -0.218</td> <td>    0.141</td>\n</tr>\n<tr>\n  <th>MASTER_CLASSES_ATTENDED</th>              <td>    0.0578</td> <td>    0.063</td> <td>    0.911</td> <td> 0.362</td> <td>   -0.066</td> <td>    0.182</td>\n</tr>\n<tr>\n  <th>MEDIAN_MEAL_RATING</th>                   <td>    0.0170</td> <td>    0.110</td> <td>    0.154</td> <td> 0.877</td> <td>   -0.199</td> <td>    0.233</td>\n</tr>\n<tr>\n  <th>AVG_CLICKS_PER_VISIT</th>                 <td>   -0.0626</td> <td>    0.103</td> <td>   -0.605</td> <td> 0.545</td> <td>   -0.265</td> <td>    0.140</td>\n</tr>\n<tr>\n  <th>TOTAL_PHOTOS_VIEWED</th>                  <td>    0.0189</td> <td>    0.063</td> <td>    0.300</td> <td> 0.764</td> <td>   -0.104</td> <td>    0.142</td>\n</tr>\n<tr>\n  <th>EMAIL_JUNK</th>                           <td>   -0.0272</td> <td>    0.077</td> <td>   -0.356</td> <td> 0.722</td> <td>   -0.177</td> <td>    0.123</td>\n</tr>\n<tr>\n  <th>EMAIL_PERSONAL</th>                       <td>    0.5980</td> <td>    0.099</td> <td>    6.049</td> <td> 0.000</td> <td>    0.404</td> <td>    0.792</td>\n</tr>\n<tr>\n  <th>EMAIL_PREFESSIONAL</th>                   <td>    0.8610</td> <td>    0.100</td> <td>    8.627</td> <td> 0.000</td> <td>    0.665</td> <td>    1.057</td>\n</tr>\n<tr>\n  <th>Customers_Existing</th>                   <td>   -0.1778</td> <td>    0.052</td> <td>   -3.414</td> <td> 0.001</td> <td>   -0.280</td> <td>   -0.076</td>\n</tr>\n<tr>\n  <th>Customers_MOBILE_Existing</th>            <td>   -0.2730</td> <td>    0.050</td> <td>   -5.410</td> <td> 0.000</td> <td>   -0.372</td> <td>   -0.174</td>\n</tr>\n<tr>\n  <th>WEEKLY_PLAN_RATE</th>                     <td>    0.0067</td> <td>    0.055</td> <td>    0.123</td> <td> 0.902</td> <td>   -0.100</td> <td>    0.114</td>\n</tr>\n<tr>\n  <th>data_set['WEEKLY_PLAN_DISCOUNT_0.8']</th> <td>   -0.1607</td> <td>    0.072</td> <td>   -2.242</td> <td> 0.025</td> <td>   -0.301</td> <td>   -0.020</td>\n</tr>\n<tr>\n  <th>data_set['WEEKLY_PLAN_DISCOUNT_0.9']</th> <td>   -0.1696</td> <td>    0.075</td> <td>   -2.254</td> <td> 0.024</td> <td>   -0.317</td> <td>   -0.022</td>\n</tr>\n</table>"
     },
     "metadata": {},
     "execution_count": 19
    }
   ],
   "source": [
    "import statsmodels.formula.api as smf\n",
    "\n",
    "# instantiating a logistic regression model object\n",
    "logistic_small = smf.logit(formula = \"\"\"CROSS_SELL_SUCCESS ~    REVENUE+\n",
    "                                                                TOTAL_MEALS_ORDERED+\n",
    "                                                                UNIQUE_MEALS_PURCH+\n",
    "                                                                CONTACTS_W_CUSTOMER_SERVICE+\n",
    "                                                                PRODUCT_CATEGORIES_VIEWED+\n",
    "                                                                AVG_TIME_PER_SITE_VISIT+\n",
    "                                                                CANCELLATIONS_BEFORE_NOON+\n",
    "                                                                CANCELLATIONS_AFTER_NOON+\n",
    "                                                                MOBILE_LOGINS+\n",
    "                                                                PC_LOGINS+\n",
    "                                                                EARLY_DELIVERIES+\n",
    "                                                                LATE_DELIVERIES+\n",
    "                                                                PACKAGE_LOCKER+\n",
    "                                                                REFRIGERATED_LOCKER+\n",
    "                                                                AVG_PREP_VID_TIME+\n",
    "                                                                LARGEST_ORDER_SIZE+\n",
    "                                                                MASTER_CLASSES_ATTENDED+\n",
    "                                                                MEDIAN_MEAL_RATING+\n",
    "                                                                AVG_CLICKS_PER_VISIT+\n",
    "                                                                TOTAL_PHOTOS_VIEWED+\n",
    "                                                                EMAIL_JUNK+\n",
    "                                                                EMAIL_PERSONAL+\n",
    "                                                                EMAIL_PREFESSIONAL+\n",
    "                                                                Customers_Existing+\n",
    "                                                                Customers_MOBILE_Existing+\n",
    "                                                                WEEKLY_PLAN_RATE+\n",
    "                                                                data_set['WEEKLY_PLAN_DISCOUNT_0.8']+\n",
    "                                                                data_set['WEEKLY_PLAN_DISCOUNT_0.9']\n",
    "\"\"\",\n",
    "                           data    = data_set)\n",
    "\n",
    "\n",
    "# fitting the model object\n",
    "results_logistic = logistic_small.fit()\n",
    "\n",
    "\n",
    "# checking the results SUMMARY\n",
    "results_logistic.summary()"
   ]
  },
  {
   "cell_type": "code",
   "execution_count": 20,
   "metadata": {},
   "outputs": [],
   "source": [
    "\n",
    "\n",
    "# CANCELLATIONS_BEFORE_NOON+\n",
    "# CANCELLATIONS_AFTER_NOON+\n",
    "# MOBILE_LOGINS+\n",
    "# PC_LOGINS+\n",
    "# REFRIGERATED_LOCKER+\n",
    "# EMAIL_PERSONAL+\n",
    "# EMAIL_PREFESSIONAL+\n",
    "# Customers_Existing+\n",
    "# Customers_MOBILE_Existing\n"
   ]
  },
  {
   "cell_type": "code",
   "execution_count": 21,
   "metadata": {},
   "outputs": [
    {
     "output_type": "stream",
     "name": "stdout",
     "text": [
      "Optimization terminated successfully.\n         Current function value: 0.556400\n         Iterations 6\n"
     ]
    },
    {
     "output_type": "execute_result",
     "data": {
      "text/plain": [
       "<class 'statsmodels.iolib.summary.Summary'>\n",
       "\"\"\"\n",
       "                           Logit Regression Results                           \n",
       "==============================================================================\n",
       "Dep. Variable:     CROSS_SELL_SUCCESS   No. Observations:                 1946\n",
       "Model:                          Logit   Df Residuals:                     1937\n",
       "Method:                           MLE   Df Model:                            8\n",
       "Date:                Sun, 24 Jan 2021   Pseudo R-squ.:                  0.1137\n",
       "Time:                        23:28:42   Log-Likelihood:                -1082.8\n",
       "converged:                       True   LL-Null:                       -1221.6\n",
       "Covariance Type:            nonrobust   LLR p-value:                 2.286e-55\n",
       "=============================================================================================\n",
       "                                coef    std err          z      P>|z|      [0.025      0.975]\n",
       "---------------------------------------------------------------------------------------------\n",
       "Intercept                     0.8613      0.054     15.874      0.000       0.755       0.968\n",
       "CANCELLATIONS_BEFORE_NOON     0.4565      0.062      7.400      0.000       0.336       0.577\n",
       "CANCELLATIONS_AFTER_NOON     -0.1152      0.051     -2.262      0.024      -0.215      -0.015\n",
       "MOBILE_LOGINS                -0.1008      0.053     -1.919      0.055      -0.204       0.002\n",
       "PC_LOGINS                     0.1099      0.053      2.076      0.038       0.006       0.214\n",
       "EMAIL_PERSONAL                0.6081      0.065      9.290      0.000       0.480       0.736\n",
       "EMAIL_PREFESSIONAL            0.8714      0.070     12.503      0.000       0.735       1.008\n",
       "Customers_Existing           -0.1734      0.051     -3.378      0.001      -0.274      -0.073\n",
       "Customers_MOBILE_Existing    -0.2612      0.050     -5.251      0.000      -0.359      -0.164\n",
       "=============================================================================================\n",
       "\"\"\""
      ],
      "text/html": "<table class=\"simpletable\">\n<caption>Logit Regression Results</caption>\n<tr>\n  <th>Dep. Variable:</th>   <td>CROSS_SELL_SUCCESS</td> <th>  No. Observations:  </th>  <td>  1946</td>  \n</tr>\n<tr>\n  <th>Model:</th>                  <td>Logit</td>       <th>  Df Residuals:      </th>  <td>  1937</td>  \n</tr>\n<tr>\n  <th>Method:</th>                  <td>MLE</td>        <th>  Df Model:          </th>  <td>     8</td>  \n</tr>\n<tr>\n  <th>Date:</th>             <td>Sun, 24 Jan 2021</td>  <th>  Pseudo R-squ.:     </th>  <td>0.1137</td>  \n</tr>\n<tr>\n  <th>Time:</th>                 <td>23:28:42</td>      <th>  Log-Likelihood:    </th> <td> -1082.8</td> \n</tr>\n<tr>\n  <th>converged:</th>              <td>True</td>        <th>  LL-Null:           </th> <td> -1221.6</td> \n</tr>\n<tr>\n  <th>Covariance Type:</th>      <td>nonrobust</td>     <th>  LLR p-value:       </th> <td>2.286e-55</td>\n</tr>\n</table>\n<table class=\"simpletable\">\n<tr>\n              <td></td>                 <th>coef</th>     <th>std err</th>      <th>z</th>      <th>P>|z|</th>  <th>[0.025</th>    <th>0.975]</th>  \n</tr>\n<tr>\n  <th>Intercept</th>                 <td>    0.8613</td> <td>    0.054</td> <td>   15.874</td> <td> 0.000</td> <td>    0.755</td> <td>    0.968</td>\n</tr>\n<tr>\n  <th>CANCELLATIONS_BEFORE_NOON</th> <td>    0.4565</td> <td>    0.062</td> <td>    7.400</td> <td> 0.000</td> <td>    0.336</td> <td>    0.577</td>\n</tr>\n<tr>\n  <th>CANCELLATIONS_AFTER_NOON</th>  <td>   -0.1152</td> <td>    0.051</td> <td>   -2.262</td> <td> 0.024</td> <td>   -0.215</td> <td>   -0.015</td>\n</tr>\n<tr>\n  <th>MOBILE_LOGINS</th>             <td>   -0.1008</td> <td>    0.053</td> <td>   -1.919</td> <td> 0.055</td> <td>   -0.204</td> <td>    0.002</td>\n</tr>\n<tr>\n  <th>PC_LOGINS</th>                 <td>    0.1099</td> <td>    0.053</td> <td>    2.076</td> <td> 0.038</td> <td>    0.006</td> <td>    0.214</td>\n</tr>\n<tr>\n  <th>EMAIL_PERSONAL</th>            <td>    0.6081</td> <td>    0.065</td> <td>    9.290</td> <td> 0.000</td> <td>    0.480</td> <td>    0.736</td>\n</tr>\n<tr>\n  <th>EMAIL_PREFESSIONAL</th>        <td>    0.8714</td> <td>    0.070</td> <td>   12.503</td> <td> 0.000</td> <td>    0.735</td> <td>    1.008</td>\n</tr>\n<tr>\n  <th>Customers_Existing</th>        <td>   -0.1734</td> <td>    0.051</td> <td>   -3.378</td> <td> 0.001</td> <td>   -0.274</td> <td>   -0.073</td>\n</tr>\n<tr>\n  <th>Customers_MOBILE_Existing</th> <td>   -0.2612</td> <td>    0.050</td> <td>   -5.251</td> <td> 0.000</td> <td>   -0.359</td> <td>   -0.164</td>\n</tr>\n</table>"
     },
     "metadata": {},
     "execution_count": 21
    }
   ],
   "source": [
    "# instantiating a logistic regression model object\n",
    "logistic_small = smf.logit(formula = \"\"\"CROSS_SELL_SUCCESS ~\n",
    "                                                                CANCELLATIONS_BEFORE_NOON+\n",
    "                                                                CANCELLATIONS_AFTER_NOON+\n",
    "                                                                MOBILE_LOGINS+\n",
    "                                                                PC_LOGINS+\n",
    "                                                                EMAIL_PERSONAL+\n",
    "                                                                EMAIL_PREFESSIONAL+\n",
    "                                                                Customers_Existing+\n",
    "                                                                Customers_MOBILE_Existing\n",
    "                                                            \n",
    "\"\"\",\n",
    "                           data    = data_set)\n",
    "\n",
    "\n",
    "# fitting the model object\n",
    "results_logistic = logistic_small.fit()\n",
    "\n",
    "\n",
    "# checking the results SUMMARY\n",
    "results_logistic.summary()"
   ]
  },
  {
   "cell_type": "code",
   "execution_count": 22,
   "metadata": {},
   "outputs": [],
   "source": [
    "# importing libraries\n",
    "import random            as rand                     # random number gen\n",
    "import pandas            as pd                       # data science essentials\n",
    "import matplotlib.pyplot as plt                      # data visualization\n",
    "import seaborn           as sns                      # enhanced data viz\n",
    "from sklearn.model_selection import train_test_split # train-test split\n",
    "from sklearn.linear_model import LogisticRegression  # logistic regression\n",
    "from sklearn.metrics import confusion_matrix         # confusion matrix\n",
    "from sklearn.metrics import roc_auc_score            # auc score\n",
    "from sklearn.neighbors import KNeighborsClassifier   # KNN for classification\n",
    "from sklearn.neighbors import KNeighborsRegressor    # KNN for regression\n",
    "from sklearn.preprocessing import StandardScaler     # standard scaler\n",
    "from sklearn.gaussian_process import GaussianProcessClassifier\n",
    "from sklearn.gaussian_process.kernels import RBF\n",
    "from sklearn.tree import DecisionTreeClassifier\n",
    "from sklearn.ensemble import RandomForestClassifier, AdaBoostClassifier\n",
    "from sklearn.naive_bayes import GaussianNB\n",
    "from sklearn.discriminant_analysis import QuadraticDiscriminantAnalysis\n",
    "from sklearn.neural_network import MLPClassifier\n",
    "from sklearn.ensemble import ExtraTreesClassifier,GradientBoostingClassifier\n",
    "from sklearn.pipeline import Pipeline\n",
    "from sklearn.model_selection import GridSearchCV\n",
    "from sklearn.metrics import roc_auc_score            # auc score\n",
    "\n",
    "# loading data\n",
    "df = pd.read_excel('Apprentice_Chef_Feature_Rich.xlsx')"
   ]
  },
  {
   "cell_type": "code",
   "execution_count": null,
   "metadata": {},
   "outputs": [],
   "source": []
  },
  {
   "cell_type": "code",
   "execution_count": null,
   "metadata": {},
   "outputs": [],
   "source": []
  },
  {
   "cell_type": "code",
   "execution_count": null,
   "metadata": {},
   "outputs": [],
   "source": []
  },
  {
   "cell_type": "code",
   "execution_count": 23,
   "metadata": {},
   "outputs": [],
   "source": [
    "\n",
    "feature_columns = ['CANCELLATIONS_BEFORE_NOON','CANCELLATIONS_AFTER_NOON','MOBILE_LOGINS','PC_LOGINS','EMAIL_PERSONAL','EMAIL_PREFESSIONAL','Customers_Existing','Customers_MOBILE_Existing']\n"
   ]
  },
  {
   "cell_type": "code",
   "execution_count": 24,
   "metadata": {},
   "outputs": [],
   "source": [
    "# declaring response variable\n",
    "df_target = df.loc[ : , 'CROSS_SELL_SUCCESS']\n",
    "df_data = df.loc[:,feature_columns]\n",
    "\n",
    "df_data_Scale = StandardScaler().fit_transform(df_data)\n",
    "X_train,X_test,y_train,y_test = train_test_split(df_data_Scale,df_target,random_state=222)\n"
   ]
  },
  {
   "cell_type": "code",
   "execution_count": null,
   "metadata": {},
   "outputs": [],
   "source": []
  },
  {
   "cell_type": "code",
   "execution_count": null,
   "metadata": {},
   "outputs": [],
   "source": []
  },
  {
   "cell_type": "code",
   "execution_count": 32,
   "metadata": {},
   "outputs": [],
   "source": [
    "from sklearn.svm import SVC\n",
    "\n",
    "\n",
    "names = [\"Nearest Neighbors\", \n",
    "#          \"Linear SVM\", \n",
    "#          \"RBF SVM\", \n",
    "#          \"Gaussian Process\",\n",
    "         \"Decision Tree\", \n",
    "         \"Random Forest\", \n",
    "#          \"Neural Net\", \n",
    "         \"AdaBoost\",\n",
    "#          \"Naive Bayes\", \n",
    "#          \"QDA\",\n",
    "         \"Gradient Boosting\",\n",
    "         \"Extra Trees\"]\n",
    "\n",
    "classifiers = [\n",
    "    KNeighborsClassifier(n_neighbors=3),\n",
    "#     SVC(kernel=\"linear\", C=0.025),\n",
    "#     SVC(gamma=2, C=1),\n",
    "#     GaussianProcessClassifier(1.0 * RBF(1.0), warm_start=True),\n",
    "    DecisionTreeClassifier(max_depth=5),\n",
    "    RandomForestClassifier(max_depth=5, n_estimators=10, max_features=1),\n",
    "#     MLPClassifier(alpha=1),\n",
    "    AdaBoostClassifier(n_estimators=1),\n",
    "#     GaussianNB(),\n",
    "#     QuadraticDiscriminantAnalysis(),\n",
    "    GradientBoostingClassifier(),\n",
    "    ExtraTreesClassifier()\n",
    "]\n",
    "\n",
    "\n",
    "param_grid_list = {\n",
    "    \n",
    "    'Nearest Neighbors':{\n",
    "        'n_neighbors' : range(5,10),\n",
    "        'leaf_size' : range(1,2)\n",
    "    },\n",
    "    'Linear SVM' : {\n",
    "        'kernel': ['linear'], \n",
    "        'C': [1],\n",
    "        'gamma': [0.001]\n",
    "    },\n",
    "    'RBF SVM' : {\n",
    "        'C': [100],\n",
    "        'gamma': [0.001],\n",
    "        'kernel':['rbf']\n",
    "    },\n",
    "    'Gaussian Process':{\n",
    "        \n",
    "    },\n",
    "    'Decision Tree':{\n",
    "        'max_features':['auto','sqrt','log2',None],\n",
    "        'max_depth':range(1,50,5)\n",
    "    },\n",
    "    'Random Forest':{\n",
    "        'n_estimators':range(30,80,5),\n",
    "        'max_features':['auto','sqrt','log2',None],\n",
    "        'max_depth':range(1,9,2)\n",
    "    },\n",
    "    'Neural Net':{\n",
    "        'solver':['lbfgs'], \n",
    "        'alpha':[1e-5],\n",
    "        'hidden_layer_sizes':(5, 2), \n",
    "        'random_state':[1]\n",
    "    },\n",
    "    'AdaBoost':{\n",
    "        'n_estimators': range(10,100,10),\n",
    "        'learning_rate': [.1, 0.05, 0.01, 0.005, 0.001]\n",
    "    },\n",
    "    'Naive Bayes':{\n",
    "        \n",
    "    },\n",
    "    'QDA':{\n",
    "        \n",
    "    },\n",
    "    'Gradient Boosting': {\n",
    "        'n_estimators': [1, 51 ],\n",
    "        'learning_rate': [.1, 0.05, 0.01]  \n",
    "    },\n",
    "    \"Extra Trees\": {\n",
    "        'n_estimators': range(1,15)\n",
    "    }\n",
    "}\n",
    "\n",
    "\n",
    "\n",
    "\n"
   ]
  },
  {
   "cell_type": "code",
   "execution_count": 33,
   "metadata": {
    "scrolled": false
   },
   "outputs": [
    {
     "output_type": "stream",
     "name": "stdout",
     "text": [
      "\n",
      " Nearest Neighbors \n",
      "\n",
      "Tuned Parameters : {} {'leaf_size': 1, 'n_neighbors': 7}\n",
      "Train set score:0.7437\n",
      "Test set score:0.7002\n",
      "Best score on train set:0.7005 \n",
      "\n",
      "\n",
      " Decision Tree \n",
      "\n",
      "Tuned Parameters : {} {'max_depth': 6, 'max_features': 'log2'}\n",
      "Train set score:0.7402\n",
      "Test set score:0.7207\n",
      "Best score on train set:0.7087 \n",
      "\n",
      "\n",
      " Random Forest \n",
      "\n",
      "Tuned Parameters : {} {'max_depth': 5, 'max_features': 'log2', 'n_estimators': 70}\n",
      "Train set score:0.7491\n",
      "Test set score:0.7269\n",
      "Best score on train set:0.7340 \n",
      "\n",
      "\n",
      " AdaBoost \n",
      "\n",
      "Tuned Parameters : {} {'learning_rate': 0.1, 'n_estimators': 80}\n",
      "Train set score:0.7210\n",
      "Test set score:0.7105\n",
      "Best score on train set:0.7183 \n",
      "\n",
      "\n",
      " Gradient Boosting \n",
      "\n",
      "Tuned Parameters : {} {'learning_rate': 0.05, 'n_estimators': 51}\n",
      "Train set score:0.7409\n",
      "Test set score:0.7207\n",
      "Best score on train set:0.7320 \n",
      "\n",
      "\n",
      " Extra Trees \n",
      "\n",
      "Tuned Parameters : {} {'n_estimators': 8}\n",
      "Train set score:0.8067\n",
      "Test set score:0.6386\n",
      "Best score on train set:0.6847 \n",
      "\n"
     ]
    }
   ],
   "source": [
    "placehold=[['Train set score','Test set score','Best parameters','Best score']]\n",
    "for name,clf in zip(names,classifiers):\n",
    "    print('\\n',name,'\\n')\n",
    "    grid_search = GridSearchCV(clf,param_grid_list[name],cv=5) #实例化一个GridSearchCV类\n",
    "    grid_search.fit(X_train,y_train) #训练，找到最优的参数，同时使用最优的参数实例化一个新的SVC estimator。\n",
    "\n",
    "    train_score = grid_search.score(X_train,y_train)\n",
    "    test_score = grid_search.score(X_test,y_test)\n",
    "\n",
    "    best_params = grid_search.best_params_\n",
    "    best_score = grid_search.best_score_\n",
    "#         feature_importances = grid_search.feature_importances_\n",
    "\n",
    "    print(\"Tuned Parameters : {}\", best_params)\n",
    "    print(\"Train set score:{:.4f}\".format(train_score))\n",
    "    print(\"Test set score:{:.4f}\".format(test_score))\n",
    "\n",
    "    print(\"Best score on train set:{:.4f}\".format(grid_search.best_score_),'\\n')\n",
    "\n",
    "    placehold.append([train_score,test_score,best_params,best_score])\n",
    "\n",
    "    cv_result = pd.DataFrame.from_dict(grid_search.cv_results_)\n",
    "    with open(name+'.csv','w') as f:\n",
    "        cv_result.to_csv(f)\n",
    "    "
   ]
  },
  {
   "cell_type": "code",
   "execution_count": 27,
   "metadata": {},
   "outputs": [],
   "source": [
    "########################################\n",
    "# plot_feature_importances\n",
    "########################################\n",
    "def plot_feature_importances(model, train, export = False):\n",
    "    \"\"\"\n",
    "    Plots the importance of features from a CART model.\n",
    "    \n",
    "    PARAMETERS\n",
    "    ----------\n",
    "    model  : CART model\n",
    "    train  : explanatory variable training data\n",
    "    export : whether or not to export as a .png image, default False\n",
    "    \"\"\"\n",
    "    \n",
    "    # declaring the number\n",
    "    n_features = train.shape[1]\n",
    "    \n",
    "    # setting plot window\n",
    "    fig, ax = plt.subplots(figsize=(12,9))\n",
    "    \n",
    "    plt.barh(range(n_features), model.feature_importances_, align='center')\n",
    "    plt.yticks(pd.np.arange(n_features), train.columns)\n",
    "    plt.xlabel(\"Feature importance\")\n",
    "    plt.ylabel(\"Feature\")\n",
    "    \n",
    "    if export == True:\n",
    "        plt.savefig('Feature_Importance.png')"
   ]
  },
  {
   "cell_type": "code",
   "execution_count": 29,
   "metadata": {},
   "outputs": [
    {
     "output_type": "stream",
     "name": "stdout",
     "text": [
      "Training ACCURACY: 0.7498\nTesting  ACCURACY: 0.7269\nAUC Score        : 0.617\n"
     ]
    }
   ],
   "source": [
    "\n",
    "\n",
    "# Random Forest \n",
    "\n",
    "# Tuned Parameters : {} {'max_depth': 5, 'max_features': None, 'n_estimators': 60}\n",
    "# Train set score:0.8225\n",
    "# Test set score:0.8070\n",
    "# Best score on train set:0.8101\n",
    "# 'learning_rate': 0.05, 'n_estimators': 50\n",
    "# max_depth': 5, 'max_features': 'sqrt', 'n_estimators': 75\n",
    "      \n",
    "rfc = RandomForestClassifier(n_estimators=70,max_depth=5,max_features='log2')\n",
    "rfc.fit(X_train,y_train)\n",
    "\n",
    "y_pred = rfc.predict(X_test)\n",
    "\n",
    "\n",
    "# SCORING the results\n",
    "print('Training ACCURACY:', rfc.score(X_train, y_train).round(4))\n",
    "print('Testing  ACCURACY:', rfc.score(X_test, y_test).round(4))\n",
    "print('AUC Score        :', roc_auc_score(y_true  = y_test,\n",
    "                                          y_score = y_pred).round(4))"
   ]
  },
  {
   "cell_type": "code",
   "execution_count": 31,
   "metadata": {},
   "outputs": [
    {
     "output_type": "stream",
     "name": "stdout",
     "text": [
      "Training ACCURACY: 0.7409\nTesting  ACCURACY: 0.7207\nAUC Score        : 0.6091\n"
     ]
    }
   ],
   "source": [
    "\n",
    "\n",
    "# Random Forest \n",
    "\n",
    "# Tuned Parameters : {} {'max_depth': 5, 'max_features': None, 'n_estimators': 60}\n",
    "# Train set score:0.8225\n",
    "# Test set score:0.8070\n",
    "# Best score on train set:0.8101\n",
    "# 'learning_rate': 0.05, 'n_estimators': 50\n",
    "# max_depth': 5, 'max_features': 'sqrt', 'n_estimators': 75\n",
    "      \n",
    "rfc = GradientBoostingClassifier(learning_rate= 0.05, n_estimators= 51)\n",
    "rfc.fit(X_train,y_train)\n",
    "\n",
    "y_pred = rfc.predict(X_test)\n",
    "\n",
    "\n",
    "# SCORING the results\n",
    "print('Training ACCURACY:', rfc.score(X_train, y_train).round(4))\n",
    "print('Testing  ACCURACY:', rfc.score(X_test, y_test).round(4))\n",
    "print('AUC Score        :', roc_auc_score(y_true  = y_test,\n",
    "                                          y_score = y_pred).round(4))"
   ]
  },
  {
   "cell_type": "code",
   "execution_count": 27,
   "metadata": {},
   "outputs": [
    {
     "name": "stderr",
     "output_type": "stream",
     "text": [
      "/Users/oukusunoki/opt/anaconda3/lib/python3.7/site-packages/ipykernel_launcher.py:22: FutureWarning: The pandas.np module is deprecated and will be removed from pandas in a future version. Import numpy directly instead\n"
     ]
    },
    {
     "data": {
      "image/png": "[encoded data removed]",
      "text/plain": [
       "<Figure size 864x648 with 1 Axes>"
      ]
     },
     "metadata": {
      "needs_background": "light"
     },
     "output_type": "display_data"
    }
   ],
   "source": [
    "_ = pd.DataFrame(X_train,columns=feature_columns)\n",
    "# plotting feature importance\n",
    "plot_feature_importances(rfc,_)"
   ]
  },
  {
   "cell_type": "code",
   "execution_count": null,
   "metadata": {},
   "outputs": [],
   "source": []
  },
  {
   "cell_type": "code",
   "execution_count": null,
   "metadata": {},
   "outputs": [],
   "source": []
  }
 ],
 "metadata": {
  "kernelspec": {
   "display_name": "Python 3",
   "language": "python",
   "name": "python3"
  },
  "language_info": {
   "codemirror_mode": {
    "name": "ipython",
    "version": 3
   },
   "file_extension": ".py",
   "mimetype": "text/x-python",
   "name": "python",
   "nbconvert_exporter": "python",
   "pygments_lexer": "ipython3",
   "version": "3.8.5-final"
  },
  "toc": {
   "base_numbering": 1,
   "nav_menu": {},
   "number_sections": true,
   "sideBar": true,
   "skip_h1_title": false,
   "title_cell": "Table of Contents",
   "title_sidebar": "Contents",
   "toc_cell": false,
   "toc_position": {},
   "toc_section_display": true,
   "toc_window_display": false
  },
  "varInspector": {
   "cols": {
    "lenName": 16,
    "lenType": 16,
    "lenVar": 40
   },
   "kernels_config": {
    "python": {
     "delete_cmd_postfix": "",
     "delete_cmd_prefix": "del ",
     "library": "var_list.py",
     "varRefreshCmd": "print(var_dic_list())"
    },
    "r": {
     "delete_cmd_postfix": ") ",
     "delete_cmd_prefix": "rm(",
     "library": "var_list.r",
     "varRefreshCmd": "cat(var_dic_list()) "
    }
   },
   "types_to_exclude": [
    "module",
    "function",
    "builtin_function_or_method",
    "instance",
    "_Feature"
   ],
   "window_display": false
  }
 },
 "nbformat": 4,
 "nbformat_minor": 4
}