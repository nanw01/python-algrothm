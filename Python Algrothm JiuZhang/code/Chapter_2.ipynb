{
 "metadata": {
  "language_info": {
   "codemirror_mode": {
    "name": "ipython",
    "version": 3
   },
   "file_extension": ".py",
   "mimetype": "text/x-python",
   "name": "python",
   "nbconvert_exporter": "python",
   "pygments_lexer": "ipython3",
   "version": "3.8.5-final"
  },
  "orig_nbformat": 2,
  "kernelspec": {
   "name": "python3",
   "display_name": "Python 3",
   "language": "python"
  }
 },
 "nbformat": 4,
 "nbformat_minor": 2,
 "cells": [
  {
   "cell_type": "code",
   "execution_count": null,
   "metadata": {},
   "outputs": [],
   "source": [
    "\n",
    "# 方法二\n",
    "\n",
    "# 解题思路\n",
    "# 由回文串正序和反序的性质相同，可以得出一个性质，如果一个字符串，其中心不是回文串，那么它一定不是个回文串。所以我们每次从中心开始，向两边延展首尾，判断是否是回文串。\n",
    "\n",
    "# 代码思路\n",
    "# 枚举中心 center，需要两个指针 start， end。\n",
    "# 如果 s[start] == s[end]，则 start--，end++，更新答案\n",
    "# 重复上一步，直到不相等就停止。\n",
    "# 注意：奇数和偶数长度的回文串是不同的，奇数中心是单独的一个字符，偶数的是相邻的两个字符。\n",
    "# 复杂度分析\n",
    "# 设字符串的长度为 N。\n",
    "\n",
    "# 时间复杂度\n",
    "# 枚举回文中心，复杂度 O(n)。\n",
    "# 向两边延展并 check，复杂度 O(n)。\n",
    "# 总时，时间复杂度为 O(n^2)。\n",
    "# 空间复杂度\n",
    "# 不需要额外变量，空间复杂度为 O(1)。"
   ]
  },
  {
   "cell_type": "code",
   "execution_count": 7,
   "metadata": {},
   "outputs": [
    {
     "output_type": "stream",
     "name": "stdout",
     "text": [
      "cdzdc\n"
     ]
    }
   ],
   "source": [
    "# 最长回文\n",
    "\n",
    "class Solution():\n",
    "    def longestPalindrome(self,s):\n",
    "        if not s:\n",
    "            return ''\n",
    "\n",
    "        answer = (0,0)\n",
    "        for mid in range(len(s)):\n",
    "            answer = max(answer,self.get_palindrom_from(s,mid,mid))\n",
    "            answer = max(answer,self.get_palindrom_from(s,mid,mid+1))\n",
    "\n",
    "        return s[answer[1]:answer[0]+answer[1]]\n",
    "\n",
    "    def get_palindrom_from(self,s,left,right):\n",
    "        while left >= 0 and right <len(s) and s[left]==s[right]:\n",
    "            left-=1\n",
    "            right+=1\n",
    "        return (right-left-1,left +1)\n",
    "\n",
    "print(Solution().longestPalindrome(\"abcdzdcab\"))\n"
   ]
  },
  {
   "cell_type": "code",
   "execution_count": 11,
   "metadata": {},
   "outputs": [
    {
     "output_type": "stream",
     "name": "stdout",
     "text": [
      "cdzdc\n"
     ]
    }
   ],
   "source": [
    "# 中心枚举的方法\n",
    "\n",
    "class Solution:\n",
    "    \"\"\"\n",
    "    @param s: input string\n",
    "    @return: the longest palindromic substring\n",
    "    \"\"\"\n",
    "    def longestPalindrome(self, s):\n",
    "        # 重点1：任何代码都要进行异常检测\n",
    "        if not s:\n",
    "            return \"\"\n",
    "        \n",
    "        # 重点2：用空行区分开异常检测部分，核心代码部分，和返回值部分，属于高端代码风格技巧\n",
    "        longest = \"\"\n",
    "        for middle in range(len(s)):\n",
    "            # 重点3：子函数化避免重复代码\n",
    "            sub = self.find_palindrome_from(s, middle, middle)\n",
    "\t        # 重点4：通过返回值来避免使用全局变量这种不好的代码风格\n",
    "            if len(sub) > len(longest):\n",
    "                longest = sub\n",
    "            sub = self.find_palindrome_from(s, middle, middle + 1)\n",
    "            if len(sub) > len(longest):\n",
    "                longest = sub\n",
    "                \n",
    "\t\t# 重点2：用空行区分开异常检测部分，核心代码部分，和返回值部分，属于高端代码风格技巧\n",
    "        return longest\n",
    "        \n",
    "    def find_palindrome_from(self, string, left, right):\n",
    "        while left >= 0 and right < len(string):\n",
    "            # 重点5：将复杂判断拆分到 while 循环内部，而不是放在 while 循环中，提高代码可读性\n",
    "            if string[left] != string[right]:\n",
    "                break\n",
    "            left -= 1\n",
    "            right += 1\n",
    "            \n",
    "        return string[left + 1:right]\n",
    "\n",
    "\n",
    "print(Solution().longestPalindrome(\"abcdzdcab\"))"
   ]
  },
  {
   "cell_type": "code",
   "execution_count": 18,
   "metadata": {},
   "outputs": [
    {
     "output_type": "stream",
     "name": "stdout",
     "text": [
      "[True, False, False, False, False, False, False, False, False]\n[False, True, False, False, False, False, False, False, False]\n[False, False, True, False, False, False, False, False, False]\n[False, False, False, True, False, False, False, False, False]\n[False, False, False, False, True, False, False, False, False]\n[False, False, False, False, False, True, False, False, False]\n[False, False, False, False, False, False, True, False, False]\n[False, False, False, False, False, False, False, True, False]\n[False, False, False, False, False, False, False, False, True]\n\n[True, False, False, False, False, False, False, False, False]\n[True, True, False, False, False, False, False, False, False]\n[False, True, True, False, False, False, False, False, False]\n[False, False, True, True, False, False, False, False, False]\n[False, False, False, True, True, False, False, False, False]\n[False, False, False, False, True, True, False, False, False]\n[False, False, False, False, False, True, True, False, False]\n[False, False, False, False, False, False, True, True, False]\n[False, False, False, False, False, False, False, True, True]\ncdzdc\n"
     ]
    }
   ],
   "source": [
    "# 使用区间形动态规划的解法\n",
    "class Solution:\n",
    "    \"\"\"\n",
    "    @param s: input string\n",
    "    @return: the longest palindromic substring\n",
    "    \"\"\"\n",
    "    def longestPalindrome(self, s):\n",
    "        if not s:\n",
    "            return \"\"\n",
    "            \n",
    "        n = len(s)\n",
    "        is_palindrome = [[False] * n for _ in range(n)]\n",
    "        \n",
    "        for i in range(n):\n",
    "            is_palindrome[i][i] = True\n",
    "\n",
    "        for i in is_palindrome:\n",
    "            print(i)\n",
    "        print()\n",
    "        for i in range(1, n):\n",
    "            is_palindrome[i][i - 1] = True\n",
    "        \n",
    "        for i in is_palindrome:\n",
    "            print(i)\n",
    "\n",
    "        longest, start, end = 1, 0, 0\n",
    "        for length in range(1, n):\n",
    "            for i in range(n - length):\n",
    "                j = i + length\n",
    "                is_palindrome[i][j] = s[i] == s[j] and is_palindrome[i + 1][j - 1]\n",
    "                if is_palindrome[i][j] and length + 1 > longest:\n",
    "                    longest = length + 1\n",
    "                    start, end = i, j\n",
    "                    \n",
    "        return s[start:end + 1]\n",
    "\n",
    "\n",
    "print(Solution().longestPalindrome(\"abcdzdcab\"))"
   ]
  },
  {
   "cell_type": "code",
   "execution_count": null,
   "metadata": {},
   "outputs": [],
   "source": []
  }
 ]
}